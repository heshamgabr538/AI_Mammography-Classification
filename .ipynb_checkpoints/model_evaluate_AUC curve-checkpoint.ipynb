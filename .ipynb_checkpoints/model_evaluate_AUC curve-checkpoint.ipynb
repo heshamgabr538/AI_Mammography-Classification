{
 "cells": [
  {
   "cell_type": "code",
   "execution_count": 1,
   "metadata": {},
   "outputs": [
    {
     "data": {
      "text/plain": [
       "'C:\\\\Users\\\\Owner2\\\\Desktop\\\\G팔로미_vuno'"
      ]
     },
     "execution_count": 1,
     "metadata": {},
     "output_type": "execute_result"
    }
   ],
   "source": [
    "import os\n",
    "import pandas as pd\n",
    "from matplotlib import pyplot as plt\n",
    "import cv2\n",
    "import numpy as np\n",
    "\n",
    "#data path 수정\n",
    "os.chdir(\"C:\\\\Users\\\\Owner2\\\\Desktop\\\\G팔로미_vuno\")\n",
    "os.getcwd()"
   ]
  },
  {
   "cell_type": "code",
   "execution_count": 2,
   "metadata": {},
   "outputs": [],
   "source": [
    "X=np.load('X_val_with_callback.npy')\n",
    "y=np.load('y_val_with_callback.npy')"
   ]
  },
  {
   "cell_type": "code",
   "execution_count": 3,
   "metadata": {},
   "outputs": [],
   "source": [
    "# import os\n",
    "# import pandas as pd\n",
    "# from matplotlib import pyplot as plt\n",
    "# import numpy as np\n",
    "# import cv2\n",
    "\n",
    "# #data path 수정\n",
    "# os.chdir(\"C:\\\\Users\\\\User\\\\Desktop\\\\G팔로미1\\\\G-팔로미 data\\\\model\")\n",
    "# os.getcwd()"
   ]
  },
  {
   "cell_type": "code",
   "execution_count": 4,
   "metadata": {},
   "outputs": [],
   "source": [
    "def f1score(precision, recall):\n",
    "    _f1score = ( 2 * recall * precision) / (recall + precision)\n",
    "    \n",
    "    # return a single tensor value\n",
    "    return _f1score"
   ]
  },
  {
   "cell_type": "code",
   "execution_count": 5,
   "metadata": {},
   "outputs": [
    {
     "name": "stderr",
     "output_type": "stream",
     "text": [
      "Using TensorFlow backend.\n"
     ]
    }
   ],
   "source": [
    "from keras import layers, models\n",
    "from keras.models import load_model\n",
    "from keras import optimizers, initializers, regularizers, metrics\n",
    "from keras.callbacks import ModelCheckpoint\n",
    "import os\n",
    "from PIL import Image\n",
    "import matplotlib.pyplot as plt\n",
    "import numpy as np\n",
    "import tensorflow as tf\n",
    "\n",
    "def model_load(model):\n",
    "    model = load_model(model,compile=False)\n",
    "    model.compile(loss='categorical_crossentropy',\n",
    "            optimizer=optimizers.RMSprop(lr=1e-4), \n",
    "            metrics=['acc',tf.keras.metrics.AUC(),\n",
    "                      tf.keras.metrics.Precision(),\n",
    "                      tf.keras.metrics.Recall(),f1score])\n",
    "    \n",
    "    return model"
   ]
  },
  {
   "cell_type": "code",
   "execution_count": 9,
   "metadata": {},
   "outputs": [
    {
     "name": "stdout",
     "output_type": "stream",
     "text": [
      "['./G_팔로미_models\\\\Inception v3_1.hdf5', './G_팔로미_models\\\\Inception v3_fine tuning_2(631).hdf5', './G_팔로미_models\\\\ResNet_1.hdf5', './G_팔로미_models\\\\ResNet_fine_tuning_2(513).hdf5', './G_팔로미_models\\\\VGG16_2.hdf5', './G_팔로미_models\\\\VGG16_fine_tuning_3(669).hdf5']\n"
     ]
    }
   ],
   "source": [
    "import glob\n",
    "  \n",
    "    \n",
    "file_list = glob.glob('./G_팔로미_models/*.hdf5')\n",
    "print(file_list)"
   ]
  },
  {
   "cell_type": "code",
   "execution_count": 11,
   "metadata": {},
   "outputs": [
    {
     "name": "stdout",
     "output_type": "stream",
     "text": [
      "716/716 [==============================] - 8s 11ms/step\n",
      "model name : ./G_팔로미_models\\Inception v3_1.hdf5\n",
      "loss: 1.026, accuracy: 0.525, auc: 0.808, precision: 0.619, recall: 0.403, f1score: 0.146\n",
      "716/716 [==============================] - 4s 6ms/step\n",
      "model name : ./G_팔로미_models\\Inception v3_fine tuning_2(631).hdf5\n",
      "loss: 0.861, accuracy: 0.631, auc: 0.873, precision: 0.693, recall: 0.582, f1score: 0.165\n",
      "716/716 [==============================] - 5s 6ms/step\n",
      "model name : ./G_팔로미_models\\ResNet_1.hdf5\n",
      "loss: 1.431, accuracy: 0.413, auc: 0.722, precision: 0.474, recall: 0.354, f1score: 0.129\n"
     ]
    }
   ],
   "source": [
    "    model=model_load(i)\n",
    "    _loss, _acc, _auc, _precision, _recall, _f1score = model.evaluate(X, y, batch_size=32)\n",
    "    print('model name :',i)\n",
    "    print('loss: {:.3f}, accuracy: {:.3f}, auc: {:.3f}, precision: {:.3f}, recall: {:.3f}, f1score: {:.3f}'.format(_loss, _acc, _auc, _precision, _recall, _f1score))"
   ]
  },
  {
   "cell_type": "code",
   "execution_count": 12,
   "metadata": {},
   "outputs": [
    {
     "name": "stdout",
     "output_type": "stream",
     "text": [
      "716/716 [==============================] - 4s 5ms/step\n",
      "model name : ./G_팔로미_models\\ResNet_fine_tuning_2(513).hdf5\n",
      "loss: 1.134, accuracy: 0.513, auc: 0.768, precision: 0.669, recall: 0.322, f1score: 0.136\n",
      "716/716 [==============================] - 4s 5ms/step\n",
      "model name : ./G_팔로미_models\\VGG16_2.hdf5\n",
      "loss: 1.013, accuracy: 0.539, auc: 0.810, precision: 0.602, recall: 0.393, f1score: 0.148\n",
      "716/716 [==============================] - 2s 3ms/step\n",
      "model name : ./G_팔로미_models\\VGG16_fine_tuning_3(669).hdf5\n",
      "loss: 0.775, accuracy: 0.665, auc: 0.883, precision: 0.674, recall: 0.589, f1score: 0.174\n"
     ]
    }
   ],
   "source": [
    "for i in file_list[3:]:\n",
    "    model=model_load(i)\n",
    "    _loss, _acc, _auc, _precision, _recall, _f1score = model.evaluate(X, y, batch_size=32)\n",
    "    print('model name :',i)\n",
    "    print('loss: {:.3f}, accuracy: {:.3f}, auc: {:.3f}, precision: {:.3f}, recall: {:.3f}, f1score: {:.3f}'.format(_loss, _acc, _auc, _precision, _recall, _f1score))"
   ]
  },
  {
   "cell_type": "code",
   "execution_count": 43,
   "metadata": {},
   "outputs": [],
   "source": [
    "predict_proba = model.predict(X)\n",
    "predict = np.argmax(predict_proba,axis=1)\n",
    "\n",
    "y_label=np.argmax(y,axis=1)\n",
    "#calc_benign, calc_malignant, mass_benign, mass_malignant"
   ]
  },
  {
   "cell_type": "code",
   "execution_count": 44,
   "metadata": {},
   "outputs": [
    {
     "data": {
      "text/plain": [
       "array([[189,  23,  18,  12],\n",
       "       [ 64,  55,  10,   9],\n",
       "       [ 14,   5, 104,  45],\n",
       "       [ 18,   3,  43, 104]], dtype=int64)"
      ]
     },
     "execution_count": 44,
     "metadata": {},
     "output_type": "execute_result"
    }
   ],
   "source": [
    "from sklearn.metrics import confusion_matrix\n",
    "\n",
    "matrix =confusion_matrix(y_label, predict)\n",
    "\n",
    "matrix"
   ]
  },
  {
   "cell_type": "code",
   "execution_count": 47,
   "metadata": {},
   "outputs": [
    {
     "data": {
      "text/plain": [
       "<matplotlib.axes._subplots.AxesSubplot at 0x1f80defb288>"
      ]
     },
     "execution_count": 47,
     "metadata": {},
     "output_type": "execute_result"
    },
    {
     "data": {
      "image/png": "[encoded data removed]",
      "text/plain": [
       "<Figure size 1080x720 with 2 Axes>"
      ]
     },
     "metadata": {
      "needs_background": "light"
     },
     "output_type": "display_data"
    }
   ],
   "source": [
    "from sklearn.metrics import confusion_matrix\n",
    "import seaborn as sns\n",
    "import matplotlib.pyplot as plt\n",
    "\n",
    "\n",
    "index = ['Calc_Benign','Calc_Malignant','mass_Benign','mass_Malignant']  \n",
    "columns = ['Calc_Benign','Calc_Malignant','mass_Benign','mass_Malignant']  \n",
    "cm_df = pd.DataFrame(matrix,columns,index)                      \n",
    "plt.figure(figsize=(15,10)) \n",
    "plt.title(\"Confusion Matrix\")\n",
    "sns.heatmap(cm_df, annot=True, fmt='g', cmap='Blues')"
   ]
  },
  {
   "cell_type": "code",
   "execution_count": 56,
   "metadata": {},
   "outputs": [
    {
     "data": {
      "text/plain": [
       "0.8712540995074926"
      ]
     },
     "execution_count": 56,
     "metadata": {},
     "output_type": "execute_result"
    }
   ],
   "source": [
    "#AUC 출력하기\n",
    "from sklearn.metrics import roc_curve, roc_auc_score, auc\n",
    "\n",
    "roc_auc_score(y, predict_proba)"
   ]
  },
  {
   "cell_type": "code",
   "execution_count": 58,
   "metadata": {},
   "outputs": [
    {
     "data": {
      "image/png": "[encoded data removed]",
      "text/plain": [
       "<Figure size 432x288 with 1 Axes>"
      ]
     },
     "metadata": {
      "needs_background": "light"
     },
     "output_type": "display_data"
    }
   ],
   "source": [
    "# Compute ROC curve and ROC area for each class\n",
    "fpr = dict()\n",
    "tpr = dict()\n",
    "roc_auc = dict()\n",
    "for i in range(4):\n",
    "    fpr[i], tpr[i], _ = roc_curve(y[:, i], predict_proba[:, i])\n",
    "    roc_auc[i] = auc(fpr[i], tpr[i])\n",
    "    \n",
    "plt.figure()\n",
    "lw = 2\n",
    "plt.plot(fpr[2], tpr[2], color='darkorange',\n",
    "         lw=lw, label='ROC curve (area = %0.2f)' % roc_auc[2])\n",
    "plt.plot([0, 1], [0, 1], color='navy', lw=lw, linestyle='--')\n",
    "plt.xlim([0.0, 1.0])\n",
    "plt.ylim([0.0, 1.05])\n",
    "plt.xlabel('False Positive Rate')\n",
    "plt.ylabel('True Positive Rate')\n",
    "plt.title('Receiver operating characteristic example')\n",
    "plt.legend(loc=\"lower right\")\n",
    "plt.show()"
   ]
  },
  {
   "cell_type": "code",
   "execution_count": null,
   "metadata": {},
   "outputs": [],
   "source": []
  }
 ],
 "metadata": {
  "kernelspec": {
   "display_name": "Python 3",
   "language": "python",
   "name": "python3"
  },
  "language_info": {
   "codemirror_mode": {
    "name": "ipython",
    "version": 3
   },
   "file_extension": ".py",
   "mimetype": "text/x-python",
   "name": "python",
   "nbconvert_exporter": "python",
   "pygments_lexer": "ipython3",
   "version": "3.7.7"
  }
 },
 "nbformat": 4,
 "nbformat_minor": 2
}
