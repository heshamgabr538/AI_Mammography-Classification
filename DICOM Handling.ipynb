{
 "cells": [
  {
   "cell_type": "code",
   "execution_count": 1,
   "metadata": {},
   "outputs": [
    {
     "data": {
      "text/plain": [
       "'C:\\\\Users\\\\User\\\\Desktop\\\\G팔로미1\\\\G-팔로미 data'"
      ]
     },
     "execution_count": 1,
     "metadata": {},
     "output_type": "execute_result"
    }
   ],
   "source": [
    "import os\n",
    "import pandas as pd\n",
    "from matplotlib import pyplot as plt\n",
    "from skimage import measure, morphology\n",
    "import pydicom as dicom\n",
    "import numpy as np\n",
    "import cv2\n",
    "import skimage.transform\n",
    "\n",
    "#data path 수정\n",
    "os.chdir(\"C:\\\\Users\\\\User\\\\Desktop\\\\G팔로미1\\\\G-팔로미 data\")\n",
    "os.getcwd()"
   ]
  },
  {
   "cell_type": "code",
   "execution_count": 2,
   "metadata": {},
   "outputs": [],
   "source": [
    "# Setting base path\n",
    "#ROOT_PATH = os.path.join(os.getcwd(), 'Dataset_csv')\n",
    "#CBISDDSM_csvPATH = os.path.join('CBISDDSM')\n",
    "#MIAS_PATH = os.path.join(ROOT_PATH, 'MIAS')\n",
    "\n",
    "# Load Dataframe from .csv\n",
    "calc_train = pd.read_csv((\"calc_case_description_train_set.csv\"), index_col=0)\n",
    "calc_test = pd.read_csv((\"calc_case_description_test_set.csv\"), index_col=0)\n",
    "mass_train = pd.read_csv((\"mass_case_description_train_set.csv\"), index_col=0)\n",
    "mass_test = pd.read_csv((\"mass_case_description_test_set.csv\"), index_col=0)"
   ]
  },
  {
   "cell_type": "code",
   "execution_count": 4,
   "metadata": {},
   "outputs": [
    {
     "data": {
      "text/plain": [
       "['Calc-Training_P_00005_RIGHT_CC_1/1.3.6.1.4.1.9590.100.1.2.328778919012412769218080124214088709081/1.3.6.1.4.1.9590.100.1.2.393344010211719049419601138200355094682/000000.dcm',\n",
       " 'Calc-Training_P_00005_RIGHT_MLO_1/1.3.6.1.4.1.9590.100.1.2.67512362210319636108148504382680781938/1.3.6.1.4.1.9590.100.1.2.296281207812130400303493285473798422894/000000.dcm',\n",
       " 'Calc-Training_P_00007_LEFT_CC_1/1.3.6.1.4.1.9590.100.1.2.241202057913673145232234613012384759880/1.3.6.1.4.1.9590.100.1.2.314135871111943890422150247820137952041/000000.dcm',\n",
       " 'Calc-Training_P_00007_LEFT_MLO_1/1.3.6.1.4.1.9590.100.1.2.314250272911170289203882349024229868823/1.3.6.1.4.1.9590.100.1.2.91458279612485515203413781822560852485/000000.dcm',\n",
       " 'Calc-Training_P_00008_LEFT_CC_1/1.3.6.1.4.1.9590.100.1.2.336811694512764490002272925921108351157/1.3.6.1.4.1.9590.100.1.2.281397494612871934937455783843630775495/000000.dcm',\n",
       " 'Calc-Training_P_00008_LEFT_CC_2/1.3.6.1.4.1.9590.100.1.2.207558519313356140106496367610041842177/1.3.6.1.4.1.9590.100.1.2.2024181113538627406890441552979568519/000000.dcm',\n",
       " 'Calc-Training_P_00008_LEFT_CC_3/1.3.6.1.4.1.9590.100.1.2.74480335312443720440103727953726257477/1.3.6.1.4.1.9590.100.1.2.358964325411863896506852883280957478483/000000.dcm',\n",
       " 'Calc-Training_P_00008_LEFT_MLO_1/1.3.6.1.4.1.9590.100.1.2.194216643012943010222741170453094926786/1.3.6.1.4.1.9590.100.1.2.81216723513826953322779836314123146864/000000.dcm',\n",
       " 'Calc-Training_P_00008_LEFT_MLO_2/1.3.6.1.4.1.9590.100.1.2.363735588611036329226111671323507141479/1.3.6.1.4.1.9590.100.1.2.101644730412034535338273957660005319377/000000.dcm',\n",
       " 'Calc-Training_P_00008_LEFT_MLO_3/1.3.6.1.4.1.9590.100.1.2.161386321913969368010907593284201308852/1.3.6.1.4.1.9590.100.1.2.4165882011639284134385639942174899929/000000.dcm']"
      ]
     },
     "execution_count": 4,
     "metadata": {},
     "output_type": "execute_result"
    }
   ],
   "source": [
    "#calc_case cropped image path 설정\n",
    "dcm_image = calc_train['ROI mask file path'].to_list()\n",
    "\n",
    "dcm_image[:5]"
   ]
  },
  {
   "cell_type": "code",
   "execution_count": null,
   "metadata": {},
   "outputs": [],
   "source": [
    "DDSM_dataPATH = './CBIS-DDSM'\n",
    "images_dir=[]\n",
    "    \n",
    "for i in range(len(dcm_image)):\n",
    "    images_dir.append(os.path.join(DDSM_dataPATH, dcm_image[i]).replace('\\n', '').replace('\\r', ''))\n",
    "    \n",
    "    \n",
    "images=[]\n",
    "for i in range(len(images_dir)):\n",
    "    try:\n",
    "        d=dicom.read_file(images_dir[i],force=True)\n",
    "            #d = dicom.dcmread(images_dir[i])\n",
    "        image=d.pixel_array\n",
    "        image_small = skimage.transform.resize(image, (224,224), preserve_range=True)\n",
    "        images.append(image_small)\n",
    "    except Exception:\n",
    "        print(i)\n",
    "        print(\"error\")\n",
    "            \n",
    "#np.save('train.npy',images)\n",
    "\n",
    "from sklearn.preprocessing import LabelEncoder\n",
    "from keras.utils import np_utils\n",
    "\n",
    "#images=np.load('train.npy')\n",
    "\n",
    "\n",
    "X=np.stack(images)[...,None]\n",
    "X=np.repeat(X,3,axis=-1)\n",
    "X=(X-np.mean(X))/np.std(X) #standardization\n",
    "#X=(X-np.min(X))/(np.max(X)-np.min(X)) #normalization\n",
    "\n",
    "y=calc['pathology']\n",
    "encoder = LabelEncoder()\n",
    "encoder.fit(y)\n",
    "encoded_Y = encoder.transform(y)\n",
    "one_hot_y = np_utils.to_categorical(encoded_Y)\n",
    "\n",
    "y=one_hot_y #BENIGN, BENIGN_WITHOUT_CALLBACK,MALIGNANT순"
   ]
  },
  {
   "cell_type": "code",
   "execution_count": null,
   "metadata": {},
   "outputs": [],
   "source": [
    "np.save('data_X.npy',X)\n",
    "np.save('data_y.npy',y)"
   ]
  }
 ],
 "metadata": {
  "kernelspec": {
   "display_name": "Python 3",
   "language": "python",
   "name": "python3"
  },
  "language_info": {
   "codemirror_mode": {
    "name": "ipython",
    "version": 3
   },
   "file_extension": ".py",
   "mimetype": "text/x-python",
   "name": "python",
   "nbconvert_exporter": "python",
   "pygments_lexer": "ipython3",
   "version": "3.7.6"
  }
 },
 "nbformat": 4,
 "nbformat_minor": 4
}
