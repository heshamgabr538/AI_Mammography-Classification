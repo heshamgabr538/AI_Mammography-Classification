{
 "cells": [
  {
   "cell_type": "code",
   "execution_count": 1,
   "metadata": {},
   "outputs": [
    {
     "data": {
      "text/plain": [
       "'C:\\\\Users\\\\Owner2\\\\Desktop\\\\G팔로미_vuno'"
      ]
     },
     "execution_count": 1,
     "metadata": {},
     "output_type": "execute_result"
    }
   ],
   "source": [
    "import os\n",
    "import pandas as pd\n",
    "from matplotlib import pyplot as plt\n",
    "import cv2\n",
    "import numpy as np\n",
    "\n",
    "#data path 수정\n",
    "os.chdir(\"C:\\\\Users\\\\Owner2\\\\Desktop\\\\G팔로미_vuno\")\n",
    "os.getcwd()"
   ]
  },
  {
   "cell_type": "code",
   "execution_count": 2,
   "metadata": {},
   "outputs": [],
   "source": [
    "X=np.load('data_X_with_callback.npy')\n",
    "y=np.load('data_y_with_callback.npy')"
   ]
  },
  {
   "cell_type": "code",
   "execution_count": 3,
   "metadata": {},
   "outputs": [
    {
     "data": {
      "text/plain": [
       "2145"
      ]
     },
     "execution_count": 3,
     "metadata": {},
     "output_type": "execute_result"
    }
   ],
   "source": [
    "len(X)"
   ]
  },
  {
   "cell_type": "code",
   "execution_count": 4,
   "metadata": {},
   "outputs": [],
   "source": [
    "#train, validation set 분리\n",
    "from sklearn.model_selection import train_test_split\n",
    "\n",
    "X_train, X_val, y_train, y_val = train_test_split(X,y,test_size=0.2, random_state=123)"
   ]
  },
  {
   "cell_type": "code",
   "execution_count": 5,
   "metadata": {},
   "outputs": [
    {
     "name": "stderr",
     "output_type": "stream",
     "text": [
      "Using TensorFlow backend.\n"
     ]
    }
   ],
   "source": [
    "from keras.preprocessing.image import ImageDataGenerator\n",
    "\n",
    "datagen = ImageDataGenerator(\n",
    "    #featurewise_center=True, #center 중심 유지\n",
    "    #featurewise_std_normalization=True, #normalization\n",
    "    rotation_range=25.0,\n",
    "    width_shift_range=0.2,\n",
    "    height_shift_range=0.2,\n",
    "    brightness_range=[0.2,1.0],\n",
    "    zoom_range=[0.8,1.2],\n",
    "    horizontal_flip=True) #수평방향 뒤집기\n",
    "\n",
    "datagen.fit(X_train)\n",
    "\n",
    "dgf=datagen.flow(X_train,y_train,batch_size=32)"
   ]
  },
  {
   "cell_type": "code",
   "execution_count": 6,
   "metadata": {},
   "outputs": [
    {
     "name": "stdout",
     "output_type": "stream",
     "text": [
      "Model: \"vgg16\"\n",
      "_________________________________________________________________\n",
      "Layer (type)                 Output Shape              Param #   \n",
      "=================================================================\n",
      "input_1 (InputLayer)         (None, 224, 224, 3)       0         \n",
      "_________________________________________________________________\n",
      "block1_conv1 (Conv2D)        (None, 224, 224, 64)      1792      \n",
      "_________________________________________________________________\n",
      "block1_conv2 (Conv2D)        (None, 224, 224, 64)      36928     \n",
      "_________________________________________________________________\n",
      "block1_pool (MaxPooling2D)   (None, 112, 112, 64)      0         \n",
      "_________________________________________________________________\n",
      "block2_conv1 (Conv2D)        (None, 112, 112, 128)     73856     \n",
      "_________________________________________________________________\n",
      "block2_conv2 (Conv2D)        (None, 112, 112, 128)     147584    \n",
      "_________________________________________________________________\n",
      "block2_pool (MaxPooling2D)   (None, 56, 56, 128)       0         \n",
      "_________________________________________________________________\n",
      "block3_conv1 (Conv2D)        (None, 56, 56, 256)       295168    \n",
      "_________________________________________________________________\n",
      "block3_conv2 (Conv2D)        (None, 56, 56, 256)       590080    \n",
      "_________________________________________________________________\n",
      "block3_conv3 (Conv2D)        (None, 56, 56, 256)       590080    \n",
      "_________________________________________________________________\n",
      "block3_pool (MaxPooling2D)   (None, 28, 28, 256)       0         \n",
      "_________________________________________________________________\n",
      "block4_conv1 (Conv2D)        (None, 28, 28, 512)       1180160   \n",
      "_________________________________________________________________\n",
      "block4_conv2 (Conv2D)        (None, 28, 28, 512)       2359808   \n",
      "_________________________________________________________________\n",
      "block4_conv3 (Conv2D)        (None, 28, 28, 512)       2359808   \n",
      "_________________________________________________________________\n",
      "block4_pool (MaxPooling2D)   (None, 14, 14, 512)       0         \n",
      "_________________________________________________________________\n",
      "block5_conv1 (Conv2D)        (None, 14, 14, 512)       2359808   \n",
      "_________________________________________________________________\n",
      "block5_conv2 (Conv2D)        (None, 14, 14, 512)       2359808   \n",
      "_________________________________________________________________\n",
      "block5_conv3 (Conv2D)        (None, 14, 14, 512)       2359808   \n",
      "_________________________________________________________________\n",
      "block5_pool (MaxPooling2D)   (None, 7, 7, 512)         0         \n",
      "=================================================================\n",
      "Total params: 14,714,688\n",
      "Trainable params: 14,714,688\n",
      "Non-trainable params: 0\n",
      "_________________________________________________________________\n"
     ]
    }
   ],
   "source": [
    "from keras import models, layers\n",
    "from keras import Input\n",
    "from keras.applications import VGG16\n",
    "from keras.models import Model, load_model\n",
    "from keras.preprocessing.image import ImageDataGenerator\n",
    "from keras import optimizers, initializers, regularizers, metrics\n",
    "from keras.callbacks import ModelCheckpoint, EarlyStopping\n",
    "from keras.layers import BatchNormalization, Conv2D, Activation, Dense, GlobalAveragePooling2D, MaxPooling2D, ZeroPadding2D, Add\n",
    "\n",
    "model = VGG16(weights=None, include_top=False, input_shape=(224, 224, 3))\n",
    "model.trainable = True\n",
    "model.summary()"
   ]
  },
  {
   "cell_type": "code",
   "execution_count": 7,
   "metadata": {},
   "outputs": [
    {
     "name": "stdout",
     "output_type": "stream",
     "text": [
      "Model: \"sequential_1\"\n",
      "_________________________________________________________________\n",
      "Layer (type)                 Output Shape              Param #   \n",
      "=================================================================\n",
      "vgg16 (Model)                (None, 7, 7, 512)         14714688  \n",
      "_________________________________________________________________\n",
      "flatten_1 (Flatten)          (None, 25088)             0         \n",
      "_________________________________________________________________\n",
      "dense_1 (Dense)              (None, 4)                 100356    \n",
      "=================================================================\n",
      "Total params: 14,815,044\n",
      "Trainable params: 14,815,044\n",
      "Non-trainable params: 0\n",
      "_________________________________________________________________\n"
     ]
    }
   ],
   "source": [
    "#customizing my layers\n",
    "additional_model = models.Sequential()\n",
    "additional_model.add(model)\n",
    "additional_model.add(layers.Flatten())\n",
    "additional_model.add(layers.Dense(4, activation='softmax'))\n",
    "\n",
    "additional_model.summary()"
   ]
  },
  {
   "cell_type": "code",
   "execution_count": 8,
   "metadata": {},
   "outputs": [],
   "source": [
    "def f1score(precision, recall):\n",
    "    _f1score = ( 2 * recall * precision) / (recall + precision)\n",
    "    \n",
    "    # return a single tensor value\n",
    "    return _f1score"
   ]
  },
  {
   "cell_type": "code",
   "execution_count": 9,
   "metadata": {},
   "outputs": [],
   "source": [
    "# checkpoint = ModelCheckpoint(filepath='My_VGG_{epoch:03d}_{val_loss:.7f}.hdf5',monitor='loss', mode='min', save_best_only=True)\n",
    "checkpoint = ModelCheckpoint(filepath='VGG16_2(augment).hdf5', \n",
    "            monitor='val_loss', \n",
    "            mode='min', \n",
    "            save_best_only=True)"
   ]
  },
  {
   "cell_type": "code",
   "execution_count": 10,
   "metadata": {},
   "outputs": [],
   "source": [
    "import tensorflow as tf\n",
    "\n",
    "additional_model.compile(loss='categorical_crossentropy', \n",
    "              optimizer=optimizers.Adam(lr=1e-4),\n",
    "              metrics=['acc',tf.keras.metrics.AUC(),\n",
    "                      tf.keras.metrics.Precision(),\n",
    "                      tf.keras.metrics.Recall(),f1score])"
   ]
  },
  {
   "cell_type": "code",
   "execution_count": 11,
   "metadata": {},
   "outputs": [
    {
     "name": "stdout",
     "output_type": "stream",
     "text": [
      "Epoch 1/100\n",
      "54/53 [==============================] - 23s 432ms/step - loss: 1.3801 - acc: 0.3438 - auc: 0.5533 - precision: 0.2765 - recall: 0.0125 - f1score: 0.1027 - val_loss: 1.3845 - val_acc: 0.3240 - val_auc: 0.5704 - val_precision: 0.3824 - val_recall: 0.0134 - val_f1score: 0.1002\n",
      "Epoch 2/100\n",
      "54/53 [==============================] - 17s 312ms/step - loss: 1.3431 - acc: 0.3893 - auc: 0.5828 - precision: 0.3921 - recall: 0.0122 - f1score: 0.1055 - val_loss: 1.3812 - val_acc: 0.3240 - val_auc: 0.5920 - val_precision: 0.4122 - val_recall: 0.0132 - val_f1score: 0.1004\n",
      "Epoch 3/100\n",
      "54/53 [==============================] - 18s 326ms/step - loss: 1.2980 - acc: 0.4167 - auc: 0.6071 - precision: 0.4465 - recall: 0.0215 - f1score: 0.1109 - val_loss: 1.3794 - val_acc: 0.3240 - val_auc: 0.6134 - val_precision: 0.4562 - val_recall: 0.0242 - val_f1score: 0.1006\n",
      "Epoch 4/100\n",
      "54/53 [==============================] - 18s 326ms/step - loss: 1.3172 - acc: 0.4044 - auc: 0.6166 - precision: 0.4760 - recall: 0.0281 - f1score: 0.1098 - val_loss: 1.3783 - val_acc: 0.3240 - val_auc: 0.6199 - val_precision: 0.4870 - val_recall: 0.0312 - val_f1score: 0.1008\n",
      "Epoch 5/100\n",
      "54/53 [==============================] - 18s 326ms/step - loss: 1.3371 - acc: 0.3788 - auc: 0.6198 - precision: 0.4920 - recall: 0.0319 - f1score: 0.1072 - val_loss: 1.3745 - val_acc: 0.3240 - val_auc: 0.6200 - val_precision: 0.4863 - val_recall: 0.0303 - val_f1score: 0.1011\n",
      "Epoch 6/100\n",
      "54/53 [==============================] - 18s 326ms/step - loss: 1.3374 - acc: 0.3875 - auc: 0.6207 - precision: 0.4828 - recall: 0.0294 - f1score: 0.1073 - val_loss: 1.3755 - val_acc: 0.3240 - val_auc: 0.6211 - val_precision: 0.4778 - val_recall: 0.0297 - val_f1score: 0.1010\n",
      "Epoch 7/100\n",
      "54/53 [==============================] - 18s 330ms/step - loss: 1.3113 - acc: 0.4056 - auc: 0.6225 - precision: 0.4767 - recall: 0.0293 - f1score: 0.1095 - val_loss: 1.3747 - val_acc: 0.3240 - val_auc: 0.6245 - val_precision: 0.4776 - val_recall: 0.0310 - val_f1score: 0.1013\n",
      "Epoch 8/100\n",
      "54/53 [==============================] - 18s 330ms/step - loss: 1.2741 - acc: 0.4341 - auc: 0.6275 - precision: 0.4783 - recall: 0.0322 - f1score: 0.1139 - val_loss: 1.3723 - val_acc: 0.3240 - val_auc: 0.6309 - val_precision: 0.4811 - val_recall: 0.0346 - val_f1score: 0.1017\n",
      "Epoch 9/100\n",
      "54/53 [==============================] - 18s 328ms/step - loss: 1.2336 - acc: 0.4441 - auc: 0.6352 - precision: 0.4962 - recall: 0.0390 - f1score: 0.1190 - val_loss: 1.3656 - val_acc: 0.3240 - val_auc: 0.6387 - val_precision: 0.5083 - val_recall: 0.0430 - val_f1score: 0.1022\n",
      "Epoch 10/100\n",
      "54/53 [==============================] - 18s 325ms/step - loss: 1.1987 - acc: 0.4726 - auc: 0.6436 - precision: 0.5188 - recall: 0.0480 - f1score: 0.1230 - val_loss: 1.3566 - val_acc: 0.3240 - val_auc: 0.6469 - val_precision: 0.5302 - val_recall: 0.0524 - val_f1score: 0.1029\n",
      "Epoch 11/100\n",
      "54/53 [==============================] - 18s 328ms/step - loss: 1.2471 - acc: 0.4207 - auc: 0.6490 - precision: 0.5393 - recall: 0.0563 - f1score: 0.1175 - val_loss: 1.3704 - val_acc: 0.3240 - val_auc: 0.6491 - val_precision: 0.5415 - val_recall: 0.0577 - val_f1score: 0.1023\n",
      "Epoch 12/100\n",
      "54/53 [==============================] - 18s 329ms/step - loss: 1.2943 - acc: 0.4050 - auc: 0.6496 - precision: 0.5429 - recall: 0.0582 - f1score: 0.1120 - val_loss: 1.3731 - val_acc: 0.3240 - val_auc: 0.6487 - val_precision: 0.5445 - val_recall: 0.0580 - val_f1score: 0.1029\n",
      "Epoch 13/100\n",
      "54/53 [==============================] - 18s 330ms/step - loss: 1.2818 - acc: 0.4126 - auc: 0.6491 - precision: 0.5437 - recall: 0.0589 - f1score: 0.1137 - val_loss: 1.3670 - val_acc: 0.3240 - val_auc: 0.6493 - val_precision: 0.5446 - val_recall: 0.0593 - val_f1score: 0.1028\n",
      "Epoch 14/100\n",
      "54/53 [==============================] - 18s 330ms/step - loss: 1.2040 - acc: 0.4610 - auc: 0.6520 - precision: 0.5493 - recall: 0.0623 - f1score: 0.1225 - val_loss: 1.3514 - val_acc: 0.3380 - val_auc: 0.6542 - val_precision: 0.5548 - val_recall: 0.0654 - val_f1score: 0.1040\n",
      "Epoch 15/100\n",
      "54/53 [==============================] - 18s 327ms/step - loss: 1.1938 - acc: 0.4586 - auc: 0.6563 - precision: 0.5590 - recall: 0.0681 - f1score: 0.1235 - val_loss: 1.3361 - val_acc: 0.3333 - val_auc: 0.6587 - val_precision: 0.5644 - val_recall: 0.0713 - val_f1score: 0.1051\n",
      "Epoch 16/100\n",
      "54/53 [==============================] - 18s 326ms/step - loss: 1.2005 - acc: 0.4662 - auc: 0.6609 - precision: 0.5674 - recall: 0.0737 - f1score: 0.1234 - val_loss: 1.3315 - val_acc: 0.3473 - val_auc: 0.6629 - val_precision: 0.5695 - val_recall: 0.0750 - val_f1score: 0.1052\n",
      "Epoch 17/100\n",
      "54/53 [==============================] - 18s 326ms/step - loss: 1.2172 - acc: 0.4441 - auc: 0.6642 - precision: 0.5709 - recall: 0.0770 - f1score: 0.1213 - val_loss: 1.3590 - val_acc: 0.3240 - val_auc: 0.6654 - val_precision: 0.5728 - val_recall: 0.0788 - val_f1score: 0.1027\n",
      "Epoch 18/100\n",
      "54/53 [==============================] - 18s 330ms/step - loss: 1.1531 - acc: 0.4837 - auc: 0.6674 - precision: 0.5771 - recall: 0.0818 - f1score: 0.1280 - val_loss: 1.3167 - val_acc: 0.3893 - val_auc: 0.6698 - val_precision: 0.5793 - val_recall: 0.0849 - val_f1score: 0.1064\n",
      "Epoch 19/100\n",
      "54/53 [==============================] - 18s 327ms/step - loss: 1.1400 - acc: 0.4930 - auc: 0.6723 - precision: 0.5827 - recall: 0.0881 - f1score: 0.1300 - val_loss: 1.3500 - val_acc: 0.4685 - val_auc: 0.6741 - val_precision: 0.5840 - val_recall: 0.0905 - val_f1score: 0.1034\n",
      "Epoch 20/100\n",
      "54/53 [==============================] - 18s 331ms/step - loss: 1.1375 - acc: 0.4883 - auc: 0.6762 - precision: 0.5856 - recall: 0.0924 - f1score: 0.1297 - val_loss: 1.3203 - val_acc: 0.4429 - val_auc: 0.6783 - val_precision: 0.5871 - val_recall: 0.0945 - val_f1score: 0.1058\n",
      "Epoch 21/100\n",
      "54/53 [==============================] - 18s 330ms/step - loss: 1.1567 - acc: 0.4814 - auc: 0.6799 - precision: 0.5896 - recall: 0.0966 - f1score: 0.1275 - val_loss: 1.3492 - val_acc: 0.4359 - val_auc: 0.6812 - val_precision: 0.5916 - val_recall: 0.0985 - val_f1score: 0.1032\n",
      "Epoch 22/100\n",
      "54/53 [==============================] - 18s 329ms/step - loss: 1.1203 - acc: 0.4942 - auc: 0.6832 - precision: 0.5930 - recall: 0.1013 - f1score: 0.1317 - val_loss: 1.3017 - val_acc: 0.4103 - val_auc: 0.6849 - val_precision: 0.5942 - val_recall: 0.1032 - val_f1score: 0.1079\n",
      "Epoch 23/100\n",
      "54/53 [==============================] - 18s 326ms/step - loss: 1.1193 - acc: 0.4831 - auc: 0.6867 - precision: 0.5958 - recall: 0.1055 - f1score: 0.1314 - val_loss: 1.3603 - val_acc: 0.2517 - val_auc: 0.6879 - val_precision: 0.5973 - val_recall: 0.1073 - val_f1score: 0.1024\n",
      "Epoch 24/100\n",
      "54/53 [==============================] - 18s 329ms/step - loss: 1.1045 - acc: 0.5152 - auc: 0.6894 - precision: 0.5990 - recall: 0.1089 - f1score: 0.1327 - val_loss: 1.3499 - val_acc: 0.4103 - val_auc: 0.6911 - val_precision: 0.6005 - val_recall: 0.1108 - val_f1score: 0.1033\n",
      "Epoch 25/100\n",
      "54/53 [==============================] - 18s 330ms/step - loss: 1.1181 - acc: 0.4977 - auc: 0.6924 - precision: 0.6013 - recall: 0.1124 - f1score: 0.1323 - val_loss: 1.3134 - val_acc: 0.3310 - val_auc: 0.6938 - val_precision: 0.6034 - val_recall: 0.1139 - val_f1score: 0.1073\n",
      "Epoch 26/100\n",
      "54/53 [==============================] - 18s 342ms/step - loss: 1.0943 - acc: 0.5117 - auc: 0.6955 - precision: 0.6055 - recall: 0.1164 - f1score: 0.1347 - val_loss: 1.3707 - val_acc: 0.2867 - val_auc: 0.6966 - val_precision: 0.6060 - val_recall: 0.1176 - val_f1score: 0.1015\n",
      "Epoch 27/100\n",
      "54/53 [==============================] - 18s 339ms/step - loss: 1.0852 - acc: 0.5087 - auc: 0.6980 - precision: 0.6067 - recall: 0.1189 - f1score: 0.1349 - val_loss: 1.3562 - val_acc: 0.3613 - val_auc: 0.6994 - val_precision: 0.6078 - val_recall: 0.1203 - val_f1score: 0.1027\n",
      "Epoch 28/100\n",
      "54/53 [==============================] - 18s 330ms/step - loss: 1.0840 - acc: 0.4959 - auc: 0.7005 - precision: 0.6073 - recall: 0.1219 - f1score: 0.1351 - val_loss: 1.3474 - val_acc: 0.3240 - val_auc: 0.7016 - val_precision: 0.6075 - val_recall: 0.1234 - val_f1score: 0.1047\n",
      "Epoch 29/100\n"
     ]
    },
    {
     "name": "stdout",
     "output_type": "stream",
     "text": [
      "54/53 [==============================] - 18s 330ms/step - loss: 1.0694 - acc: 0.5076 - auc: 0.7028 - precision: 0.6086 - recall: 0.1249 - f1score: 0.1368 - val_loss: 1.2682 - val_acc: 0.3963 - val_auc: 0.7042 - val_precision: 0.6099 - val_recall: 0.1266 - val_f1score: 0.1118\n",
      "Epoch 30/100\n",
      "54/53 [==============================] - 18s 327ms/step - loss: 1.0803 - acc: 0.5122 - auc: 0.7054 - precision: 0.6110 - recall: 0.1282 - f1score: 0.1359 - val_loss: 1.3241 - val_acc: 0.3124 - val_auc: 0.7065 - val_precision: 0.6127 - val_recall: 0.1298 - val_f1score: 0.1065\n",
      "Epoch 31/100\n",
      "54/53 [==============================] - 18s 332ms/step - loss: 1.0407 - acc: 0.5052 - auc: 0.7078 - precision: 0.6141 - recall: 0.1315 - f1score: 0.1396 - val_loss: 1.2710 - val_acc: 0.3613 - val_auc: 0.7091 - val_precision: 0.6146 - val_recall: 0.1331 - val_f1score: 0.1126\n",
      "Epoch 32/100\n",
      "54/53 [==============================] - 18s 330ms/step - loss: 1.0345 - acc: 0.5274 - auc: 0.7106 - precision: 0.6163 - recall: 0.1354 - f1score: 0.1399 - val_loss: 1.3667 - val_acc: 0.2867 - val_auc: 0.7115 - val_precision: 0.6172 - val_recall: 0.1366 - val_f1score: 0.1022\n",
      "Epoch 33/100\n",
      "54/53 [==============================] - 18s 331ms/step - loss: 1.0604 - acc: 0.5239 - auc: 0.7126 - precision: 0.6180 - recall: 0.1382 - f1score: 0.1387 - val_loss: 1.2638 - val_acc: 0.3706 - val_auc: 0.7137 - val_precision: 0.6182 - val_recall: 0.1393 - val_f1score: 0.1142\n",
      "Epoch 34/100\n",
      "54/53 [==============================] - 18s 328ms/step - loss: 1.0173 - acc: 0.5321 - auc: 0.7151 - precision: 0.6192 - recall: 0.1413 - f1score: 0.1420 - val_loss: 1.2364 - val_acc: 0.4103 - val_auc: 0.7163 - val_precision: 0.6188 - val_recall: 0.1429 - val_f1score: 0.1158\n",
      "Epoch 35/100\n",
      "54/53 [==============================] - 18s 329ms/step - loss: 1.0698 - acc: 0.5128 - auc: 0.7174 - precision: 0.6186 - recall: 0.1443 - f1score: 0.1371 - val_loss: 1.2690 - val_acc: 0.3753 - val_auc: 0.7182 - val_precision: 0.6188 - val_recall: 0.1457 - val_f1score: 0.1158\n",
      "Epoch 36/100\n",
      "54/53 [==============================] - 18s 331ms/step - loss: 1.0199 - acc: 0.5274 - auc: 0.7193 - precision: 0.6200 - recall: 0.1476 - f1score: 0.1417 - val_loss: 1.3174 - val_acc: 0.4009 - val_auc: 0.7203 - val_precision: 0.6210 - val_recall: 0.1491 - val_f1score: 0.1127\n",
      "Epoch 37/100\n",
      "54/53 [==============================] - 18s 332ms/step - loss: 1.0193 - acc: 0.5326 - auc: 0.7215 - precision: 0.6214 - recall: 0.1513 - f1score: 0.1431 - val_loss: 1.2831 - val_acc: 0.3753 - val_auc: 0.7223 - val_precision: 0.6214 - val_recall: 0.1528 - val_f1score: 0.1125\n",
      "Epoch 38/100\n",
      "54/53 [==============================] - 18s 332ms/step - loss: 1.0062 - acc: 0.5472 - auc: 0.7235 - precision: 0.6219 - recall: 0.1541 - f1score: 0.1433 - val_loss: 1.3570 - val_acc: 0.3846 - val_auc: 0.7244 - val_precision: 0.6225 - val_recall: 0.1560 - val_f1score: 0.1114\n",
      "Epoch 39/100\n",
      "54/53 [==============================] - 18s 333ms/step - loss: 1.0114 - acc: 0.5221 - auc: 0.7253 - precision: 0.6223 - recall: 0.1574 - f1score: 0.1421 - val_loss: 1.3901 - val_acc: 0.3403 - val_auc: 0.7261 - val_precision: 0.6223 - val_recall: 0.1589 - val_f1score: 0.1132\n",
      "Epoch 40/100\n",
      "54/53 [==============================] - 18s 331ms/step - loss: 0.9892 - acc: 0.5332 - auc: 0.7270 - precision: 0.6225 - recall: 0.1611 - f1score: 0.1452 - val_loss: 1.3397 - val_acc: 0.3800 - val_auc: 0.7278 - val_precision: 0.6224 - val_recall: 0.1629 - val_f1score: 0.1142\n",
      "Epoch 41/100\n",
      "54/53 [==============================] - 18s 332ms/step - loss: 0.9879 - acc: 0.5385 - auc: 0.7287 - precision: 0.6228 - recall: 0.1647 - f1score: 0.1453 - val_loss: 1.3541 - val_acc: 0.3916 - val_auc: 0.7295 - val_precision: 0.6229 - val_recall: 0.1664 - val_f1score: 0.1158\n",
      "Epoch 42/100\n",
      "54/53 [==============================] - 18s 332ms/step - loss: 0.9859 - acc: 0.5490 - auc: 0.7304 - precision: 0.6228 - recall: 0.1683 - f1score: 0.1457 - val_loss: 1.3982 - val_acc: 0.3986 - val_auc: 0.7312 - val_precision: 0.6236 - val_recall: 0.1701 - val_f1score: 0.1121\n",
      "Epoch 43/100\n",
      "54/53 [==============================] - 18s 331ms/step - loss: 0.9662 - acc: 0.5612 - auc: 0.7321 - precision: 0.6241 - recall: 0.1719 - f1score: 0.1478 - val_loss: 1.3865 - val_acc: 0.3730 - val_auc: 0.7330 - val_precision: 0.6245 - val_recall: 0.1737 - val_f1score: 0.1135\n",
      "Epoch 44/100\n",
      "54/53 [==============================] - 18s 332ms/step - loss: 0.9963 - acc: 0.5344 - auc: 0.7338 - precision: 0.6249 - recall: 0.1753 - f1score: 0.1446 - val_loss: 1.4078 - val_acc: 0.3939 - val_auc: 0.7344 - val_precision: 0.6251 - val_recall: 0.1766 - val_f1score: 0.1118\n",
      "Epoch 45/100\n",
      "54/53 [==============================] - 18s 332ms/step - loss: 0.9726 - acc: 0.5367 - auc: 0.7352 - precision: 0.6257 - recall: 0.1783 - f1score: 0.1468 - val_loss: 1.2942 - val_acc: 0.4056 - val_auc: 0.7359 - val_precision: 0.6256 - val_recall: 0.1798 - val_f1score: 0.1152\n",
      "Epoch 46/100\n",
      "54/53 [==============================] - 18s 332ms/step - loss: 0.9747 - acc: 0.5548 - auc: 0.7368 - precision: 0.6263 - recall: 0.1814 - f1score: 0.1464 - val_loss: 1.3933 - val_acc: 0.3333 - val_auc: 0.7374 - val_precision: 0.6265 - val_recall: 0.1828 - val_f1score: 0.1108\n",
      "Epoch 47/100\n",
      "54/53 [==============================] - 18s 333ms/step - loss: 0.9585 - acc: 0.5501 - auc: 0.7382 - precision: 0.6263 - recall: 0.1842 - f1score: 0.1478 - val_loss: 1.5783 - val_acc: 0.3217 - val_auc: 0.7387 - val_precision: 0.6252 - val_recall: 0.1857 - val_f1score: 0.1069\n",
      "Epoch 48/100\n",
      "54/53 [==============================] - 18s 332ms/step - loss: 0.9442 - acc: 0.5699 - auc: 0.7394 - precision: 0.6248 - recall: 0.1876 - f1score: 0.1503 - val_loss: 1.4018 - val_acc: 0.3893 - val_auc: 0.7402 - val_precision: 0.6251 - val_recall: 0.1892 - val_f1score: 0.1115\n",
      "Epoch 49/100\n",
      "54/53 [==============================] - 18s 332ms/step - loss: 0.9659 - acc: 0.5618 - auc: 0.7409 - precision: 0.6255 - recall: 0.1909 - f1score: 0.1488 - val_loss: 1.3832 - val_acc: 0.4009 - val_auc: 0.7416 - val_precision: 0.6260 - val_recall: 0.1926 - val_f1score: 0.1116\n",
      "Epoch 50/100\n",
      "54/53 [==============================] - 18s 331ms/step - loss: 0.9499 - acc: 0.5449 - auc: 0.7423 - precision: 0.6259 - recall: 0.1940 - f1score: 0.1485 - val_loss: 1.4956 - val_acc: 0.3030 - val_auc: 0.7428 - val_precision: 0.6256 - val_recall: 0.1954 - val_f1score: 0.1104\n",
      "Epoch 51/100\n",
      "54/53 [==============================] - 18s 332ms/step - loss: 0.9504 - acc: 0.5641 - auc: 0.7435 - precision: 0.6259 - recall: 0.1970 - f1score: 0.1494 - val_loss: 1.4846 - val_acc: 0.3217 - val_auc: 0.7440 - val_precision: 0.6258 - val_recall: 0.1984 - val_f1score: 0.1098\n",
      "Epoch 52/100\n",
      "54/53 [==============================] - 18s 332ms/step - loss: 0.9639 - acc: 0.5699 - auc: 0.7446 - precision: 0.6261 - recall: 0.1998 - f1score: 0.1479 - val_loss: 1.4419 - val_acc: 0.3869 - val_auc: 0.7450 - val_precision: 0.6261 - val_recall: 0.2010 - val_f1score: 0.1120\n",
      "Epoch 53/100\n",
      "54/53 [==============================] - 18s 332ms/step - loss: 0.9674 - acc: 0.5589 - auc: 0.7457 - precision: 0.6259 - recall: 0.2025 - f1score: 0.1478 - val_loss: 1.2923 - val_acc: 0.4126 - val_auc: 0.7462 - val_precision: 0.6259 - val_recall: 0.2033 - val_f1score: 0.1161\n",
      "Epoch 54/100\n",
      "54/53 [==============================] - 18s 331ms/step - loss: 0.9505 - acc: 0.5734 - auc: 0.7469 - precision: 0.6260 - recall: 0.2046 - f1score: 0.1491 - val_loss: 1.3335 - val_acc: 0.4336 - val_auc: 0.7476 - val_precision: 0.6264 - val_recall: 0.2059 - val_f1score: 0.1145\n",
      "Epoch 55/100\n",
      "54/53 [==============================] - 18s 335ms/step - loss: 0.9386 - acc: 0.5670 - auc: 0.7482 - precision: 0.6265 - recall: 0.2071 - f1score: 0.1502 - val_loss: 1.4906 - val_acc: 0.3730 - val_auc: 0.7488 - val_precision: 0.6264 - val_recall: 0.2085 - val_f1score: 0.1119\n",
      "Epoch 56/100\n",
      "54/53 [==============================] - 18s 334ms/step - loss: 0.9296 - acc: 0.5728 - auc: 0.7495 - precision: 0.6264 - recall: 0.2100 - f1score: 0.1517 - val_loss: 1.2933 - val_acc: 0.4033 - val_auc: 0.7501 - val_precision: 0.6265 - val_recall: 0.2111 - val_f1score: 0.1158\n",
      "Epoch 57/100\n"
     ]
    },
    {
     "name": "stdout",
     "output_type": "stream",
     "text": [
      "54/53 [==============================] - 18s 333ms/step - loss: 0.9302 - acc: 0.5624 - auc: 0.7508 - precision: 0.6267 - recall: 0.2124 - f1score: 0.1510 - val_loss: 1.3525 - val_acc: 0.3706 - val_auc: 0.7513 - val_precision: 0.6269 - val_recall: 0.2135 - val_f1score: 0.1129\n",
      "Epoch 58/100\n",
      "54/53 [==============================] - 18s 333ms/step - loss: 0.9009 - acc: 0.5699 - auc: 0.7521 - precision: 0.6272 - recall: 0.2148 - f1score: 0.1541 - val_loss: 1.4297 - val_acc: 0.3403 - val_auc: 0.7526 - val_precision: 0.6271 - val_recall: 0.2161 - val_f1score: 0.1111\n",
      "Epoch 59/100\n",
      "54/53 [==============================] - 18s 332ms/step - loss: 0.9440 - acc: 0.5571 - auc: 0.7532 - precision: 0.6270 - recall: 0.2172 - f1score: 0.1501 - val_loss: 1.5416 - val_acc: 0.3380 - val_auc: 0.7536 - val_precision: 0.6270 - val_recall: 0.2184 - val_f1score: 0.1082\n",
      "Epoch 60/100\n",
      "54/53 [==============================] - 18s 332ms/step - loss: 0.9140 - acc: 0.5862 - auc: 0.7541 - precision: 0.6275 - recall: 0.2199 - f1score: 0.1529 - val_loss: 1.5595 - val_acc: 0.2914 - val_auc: 0.7546 - val_precision: 0.6275 - val_recall: 0.2212 - val_f1score: 0.1098\n",
      "Epoch 61/100\n",
      "54/53 [==============================] - 18s 332ms/step - loss: 0.8985 - acc: 0.5868 - auc: 0.7551 - precision: 0.6275 - recall: 0.2225 - f1score: 0.1540 - val_loss: 1.4400 - val_acc: 0.3823 - val_auc: 0.7557 - val_precision: 0.6276 - val_recall: 0.2238 - val_f1score: 0.1128\n",
      "Epoch 62/100\n",
      "54/53 [==============================] - 18s 332ms/step - loss: 0.9152 - acc: 0.5810 - auc: 0.7562 - precision: 0.6275 - recall: 0.2251 - f1score: 0.1534 - val_loss: 1.4877 - val_acc: 0.3660 - val_auc: 0.7567 - val_precision: 0.6273 - val_recall: 0.2264 - val_f1score: 0.1108\n",
      "Epoch 63/100\n",
      "54/53 [==============================] - 18s 332ms/step - loss: 0.8884 - acc: 0.5862 - auc: 0.7573 - precision: 0.6273 - recall: 0.2277 - f1score: 0.1552 - val_loss: 1.3929 - val_acc: 0.3893 - val_auc: 0.7578 - val_precision: 0.6276 - val_recall: 0.2291 - val_f1score: 0.1137\n",
      "Epoch 64/100\n",
      "54/53 [==============================] - 18s 332ms/step - loss: 0.8926 - acc: 0.5874 - auc: 0.7584 - precision: 0.6280 - recall: 0.2305 - f1score: 0.1555 - val_loss: 1.4482 - val_acc: 0.3706 - val_auc: 0.7589 - val_precision: 0.6283 - val_recall: 0.2318 - val_f1score: 0.1120\n",
      "Epoch 65/100\n",
      "54/53 [==============================] - 18s 331ms/step - loss: 0.8752 - acc: 0.5997 - auc: 0.7596 - precision: 0.6287 - recall: 0.2333 - f1score: 0.1566 - val_loss: 1.3339 - val_acc: 0.3939 - val_auc: 0.7601 - val_precision: 0.6291 - val_recall: 0.2344 - val_f1score: 0.1123\n",
      "Epoch 66/100\n",
      "54/53 [==============================] - 18s 332ms/step - loss: 0.8912 - acc: 0.5874 - auc: 0.7607 - precision: 0.6294 - recall: 0.2356 - f1score: 0.1556 - val_loss: 1.4751 - val_acc: 0.3846 - val_auc: 0.7612 - val_precision: 0.6292 - val_recall: 0.2368 - val_f1score: 0.1117\n",
      "Epoch 67/100\n",
      "54/53 [==============================] - 18s 333ms/step - loss: 0.8852 - acc: 0.5857 - auc: 0.7618 - precision: 0.6291 - recall: 0.2381 - f1score: 0.1558 - val_loss: 1.4330 - val_acc: 0.3706 - val_auc: 0.7622 - val_precision: 0.6290 - val_recall: 0.2392 - val_f1score: 0.1114\n",
      "Epoch 68/100\n",
      "54/53 [==============================] - 18s 333ms/step - loss: 0.9284 - acc: 0.5641 - auc: 0.7627 - precision: 0.6291 - recall: 0.2402 - f1score: 0.1519 - val_loss: 1.3052 - val_acc: 0.3963 - val_auc: 0.7630 - val_precision: 0.6290 - val_recall: 0.2408 - val_f1score: 0.1150\n",
      "Epoch 69/100\n",
      "54/53 [==============================] - 18s 332ms/step - loss: 0.8922 - acc: 0.5950 - auc: 0.7635 - precision: 0.6295 - recall: 0.2416 - f1score: 0.1547 - val_loss: 1.3767 - val_acc: 0.3963 - val_auc: 0.7640 - val_precision: 0.6296 - val_recall: 0.2428 - val_f1score: 0.1136\n",
      "Epoch 70/100\n",
      "54/53 [==============================] - 18s 333ms/step - loss: 0.8528 - acc: 0.5962 - auc: 0.7646 - precision: 0.6300 - recall: 0.2441 - f1score: 0.1586 - val_loss: 1.5562 - val_acc: 0.3450 - val_auc: 0.7651 - val_precision: 0.6296 - val_recall: 0.2453 - val_f1score: 0.1116\n",
      "Epoch 71/100\n",
      "54/53 [==============================] - 18s 333ms/step - loss: 0.8413 - acc: 0.6061 - auc: 0.7656 - precision: 0.6298 - recall: 0.2466 - f1score: 0.1593 - val_loss: 1.4624 - val_acc: 0.3636 - val_auc: 0.7661 - val_precision: 0.6297 - val_recall: 0.2478 - val_f1score: 0.1143\n",
      "Epoch 72/100\n",
      "54/53 [==============================] - 18s 332ms/step - loss: 0.8631 - acc: 0.6061 - auc: 0.7666 - precision: 0.6297 - recall: 0.2491 - f1score: 0.1586 - val_loss: 1.6305 - val_acc: 0.3287 - val_auc: 0.7671 - val_precision: 0.6294 - val_recall: 0.2503 - val_f1score: 0.1102\n",
      "Epoch 73/100\n",
      "54/53 [==============================] - 18s 335ms/step - loss: 0.8612 - acc: 0.5973 - auc: 0.7676 - precision: 0.6292 - recall: 0.2516 - f1score: 0.1590 - val_loss: 1.6214 - val_acc: 0.3520 - val_auc: 0.7679 - val_precision: 0.6291 - val_recall: 0.2528 - val_f1score: 0.1099\n",
      "Epoch 74/100\n",
      "54/53 [==============================] - 18s 333ms/step - loss: 0.8418 - acc: 0.6125 - auc: 0.7685 - precision: 0.6291 - recall: 0.2541 - f1score: 0.1601 - val_loss: 1.6977 - val_acc: 0.3916 - val_auc: 0.7689 - val_precision: 0.6292 - val_recall: 0.2553 - val_f1score: 0.1087\n",
      "Epoch 75/100\n",
      "54/53 [==============================] - 18s 333ms/step - loss: 0.8482 - acc: 0.6160 - auc: 0.7693 - precision: 0.6293 - recall: 0.2565 - f1score: 0.1599 - val_loss: 2.3068 - val_acc: 0.3263 - val_auc: 0.7696 - val_precision: 0.6290 - val_recall: 0.2578 - val_f1score: 0.1009\n",
      "Epoch 76/100\n",
      "54/53 [==============================] - 18s 332ms/step - loss: 0.8308 - acc: 0.6096 - auc: 0.7700 - precision: 0.6288 - recall: 0.2591 - f1score: 0.1616 - val_loss: 1.9962 - val_acc: 0.3077 - val_auc: 0.7703 - val_precision: 0.6285 - val_recall: 0.2602 - val_f1score: 0.1049\n",
      "Epoch 77/100\n",
      "54/53 [==============================] - 18s 331ms/step - loss: 0.8640 - acc: 0.6090 - auc: 0.7707 - precision: 0.6284 - recall: 0.2613 - f1score: 0.1586 - val_loss: 1.7632 - val_acc: 0.3287 - val_auc: 0.7710 - val_precision: 0.6281 - val_recall: 0.2624 - val_f1score: 0.1067\n",
      "Epoch 78/100\n",
      "54/53 [==============================] - 18s 330ms/step - loss: 0.8498 - acc: 0.5991 - auc: 0.7714 - precision: 0.6280 - recall: 0.2635 - f1score: 0.1599 - val_loss: 1.6820 - val_acc: 0.3730 - val_auc: 0.7718 - val_precision: 0.6280 - val_recall: 0.2646 - val_f1score: 0.1082\n",
      "Epoch 79/100\n",
      "54/53 [==============================] - 18s 332ms/step - loss: 0.8367 - acc: 0.6154 - auc: 0.7723 - precision: 0.6281 - recall: 0.2658 - f1score: 0.1608 - val_loss: 1.4031 - val_acc: 0.3916 - val_auc: 0.7726 - val_precision: 0.6282 - val_recall: 0.2668 - val_f1score: 0.1137\n",
      "Epoch 80/100\n",
      "54/53 [==============================] - 18s 331ms/step - loss: 0.8477 - acc: 0.6043 - auc: 0.7731 - precision: 0.6285 - recall: 0.2677 - f1score: 0.1594 - val_loss: 1.9910 - val_acc: 0.3450 - val_auc: 0.7734 - val_precision: 0.6282 - val_recall: 0.2688 - val_f1score: 0.1044\n",
      "Epoch 81/100\n",
      "54/53 [==============================] - 18s 331ms/step - loss: 0.8629 - acc: 0.6008 - auc: 0.7737 - precision: 0.6282 - recall: 0.2700 - f1score: 0.1590 - val_loss: 1.7919 - val_acc: 0.3427 - val_auc: 0.7740 - val_precision: 0.6281 - val_recall: 0.2709 - val_f1score: 0.1074\n",
      "Epoch 82/100\n",
      "54/53 [==============================] - 18s 332ms/step - loss: 0.8354 - acc: 0.6096 - auc: 0.7743 - precision: 0.6283 - recall: 0.2718 - f1score: 0.1604 - val_loss: 1.8320 - val_acc: 0.3310 - val_auc: 0.7747 - val_precision: 0.6281 - val_recall: 0.2728 - val_f1score: 0.1064\n",
      "Epoch 83/100\n",
      "54/53 [==============================] - 18s 332ms/step - loss: 0.8463 - acc: 0.6282 - auc: 0.7751 - precision: 0.6283 - recall: 0.2739 - f1score: 0.1609 - val_loss: 1.8361 - val_acc: 0.3287 - val_auc: 0.7754 - val_precision: 0.6282 - val_recall: 0.2749 - val_f1score: 0.1040\n",
      "Epoch 84/100\n",
      "54/53 [==============================] - 18s 332ms/step - loss: 0.8019 - acc: 0.6340 - auc: 0.7758 - precision: 0.6282 - recall: 0.2760 - f1score: 0.1637 - val_loss: 1.9335 - val_acc: 0.3450 - val_auc: 0.7761 - val_precision: 0.6281 - val_recall: 0.2772 - val_f1score: 0.1041\n",
      "Epoch 85/100\n"
     ]
    },
    {
     "name": "stdout",
     "output_type": "stream",
     "text": [
      "54/53 [==============================] - 18s 330ms/step - loss: 0.8142 - acc: 0.6142 - auc: 0.7764 - precision: 0.6280 - recall: 0.2783 - f1score: 0.1624 - val_loss: 1.7933 - val_acc: 0.3147 - val_auc: 0.7767 - val_precision: 0.6279 - val_recall: 0.2793 - val_f1score: 0.1049\n",
      "Epoch 86/100\n",
      "54/53 [==============================] - 18s 332ms/step - loss: 0.8136 - acc: 0.6340 - auc: 0.7771 - precision: 0.6281 - recall: 0.2805 - f1score: 0.1639 - val_loss: 1.5602 - val_acc: 0.3497 - val_auc: 0.7775 - val_precision: 0.6283 - val_recall: 0.2815 - val_f1score: 0.1103\n",
      "Epoch 87/100\n",
      "54/53 [==============================] - 18s 331ms/step - loss: 0.8241 - acc: 0.6136 - auc: 0.7778 - precision: 0.6284 - recall: 0.2824 - f1score: 0.1616 - val_loss: 1.8650 - val_acc: 0.3520 - val_auc: 0.7781 - val_precision: 0.6283 - val_recall: 0.2833 - val_f1score: 0.1055\n",
      "Epoch 88/100\n",
      "54/53 [==============================] - 18s 331ms/step - loss: 0.7946 - acc: 0.6224 - auc: 0.7785 - precision: 0.6283 - recall: 0.2844 - f1score: 0.1644 - val_loss: 1.9380 - val_acc: 0.3357 - val_auc: 0.7788 - val_precision: 0.6280 - val_recall: 0.2856 - val_f1score: 0.1037\n",
      "Epoch 89/100\n",
      "54/53 [==============================] - 18s 331ms/step - loss: 0.8178 - acc: 0.6282 - auc: 0.7791 - precision: 0.6280 - recall: 0.2867 - f1score: 0.1628 - val_loss: 1.6864 - val_acc: 0.3613 - val_auc: 0.7794 - val_precision: 0.6281 - val_recall: 0.2877 - val_f1score: 0.1103\n",
      "Epoch 90/100\n",
      "54/53 [==============================] - 18s 330ms/step - loss: 0.8062 - acc: 0.6323 - auc: 0.7799 - precision: 0.6283 - recall: 0.2888 - f1score: 0.1642 - val_loss: 2.0797 - val_acc: 0.3450 - val_auc: 0.7801 - val_precision: 0.6280 - val_recall: 0.2898 - val_f1score: 0.1042\n",
      "Epoch 91/100\n",
      "54/53 [==============================] - 18s 333ms/step - loss: 0.7999 - acc: 0.6276 - auc: 0.7804 - precision: 0.6279 - recall: 0.2909 - f1score: 0.1645 - val_loss: 1.6164 - val_acc: 0.3520 - val_auc: 0.7807 - val_precision: 0.6279 - val_recall: 0.2919 - val_f1score: 0.1121\n",
      "Epoch 92/100\n",
      "54/53 [==============================] - 18s 331ms/step - loss: 0.8108 - acc: 0.6300 - auc: 0.7811 - precision: 0.6280 - recall: 0.2928 - f1score: 0.1636 - val_loss: 1.4094 - val_acc: 0.3660 - val_auc: 0.7815 - val_precision: 0.6281 - val_recall: 0.2936 - val_f1score: 0.1120\n",
      "Epoch 93/100\n",
      "54/53 [==============================] - 18s 331ms/step - loss: 0.7811 - acc: 0.6364 - auc: 0.7819 - precision: 0.6285 - recall: 0.2946 - f1score: 0.1661 - val_loss: 1.4917 - val_acc: 0.3869 - val_auc: 0.7823 - val_precision: 0.6287 - val_recall: 0.2954 - val_f1score: 0.1103\n",
      "Epoch 94/100\n",
      "54/53 [==============================] - 18s 333ms/step - loss: 0.7834 - acc: 0.6527 - auc: 0.7827 - precision: 0.6291 - recall: 0.2965 - f1score: 0.1672 - val_loss: 1.4153 - val_acc: 0.3124 - val_auc: 0.7830 - val_precision: 0.6293 - val_recall: 0.2974 - val_f1score: 0.1098\n",
      "Epoch 95/100\n",
      "54/53 [==============================] - 18s 331ms/step - loss: 0.7810 - acc: 0.6474 - auc: 0.7835 - precision: 0.6295 - recall: 0.2985 - f1score: 0.1665 - val_loss: 1.7990 - val_acc: 0.3590 - val_auc: 0.7838 - val_precision: 0.6296 - val_recall: 0.2994 - val_f1score: 0.1069\n",
      "Epoch 96/100\n",
      "54/53 [==============================] - 18s 331ms/step - loss: 0.8005 - acc: 0.6334 - auc: 0.7841 - precision: 0.6298 - recall: 0.3003 - f1score: 0.1645 - val_loss: 1.4507 - val_acc: 0.3590 - val_auc: 0.7844 - val_precision: 0.6299 - val_recall: 0.3010 - val_f1score: 0.1097\n",
      "Epoch 97/100\n",
      "54/53 [==============================] - 18s 332ms/step - loss: 0.7816 - acc: 0.6439 - auc: 0.7848 - precision: 0.6303 - recall: 0.3019 - f1score: 0.1664 - val_loss: 1.5325 - val_acc: 0.3380 - val_auc: 0.7851 - val_precision: 0.6305 - val_recall: 0.3027 - val_f1score: 0.1067\n",
      "Epoch 98/100\n",
      "54/53 [==============================] - 18s 332ms/step - loss: 0.7681 - acc: 0.6352 - auc: 0.7855 - precision: 0.6307 - recall: 0.3036 - f1score: 0.1683 - val_loss: 1.4431 - val_acc: 0.3310 - val_auc: 0.7858 - val_precision: 0.6307 - val_recall: 0.3045 - val_f1score: 0.1088\n",
      "Epoch 99/100\n",
      "54/53 [==============================] - 18s 330ms/step - loss: 0.7908 - acc: 0.6136 - auc: 0.7862 - precision: 0.6308 - recall: 0.3053 - f1score: 0.1655 - val_loss: 1.8179 - val_acc: 0.3380 - val_auc: 0.7864 - val_precision: 0.6305 - val_recall: 0.3062 - val_f1score: 0.1028\n",
      "Epoch 100/100\n",
      "54/53 [==============================] - 18s 336ms/step - loss: 0.7572 - acc: 0.6562 - auc: 0.7868 - precision: 0.6307 - recall: 0.3072 - f1score: 0.1685 - val_loss: 1.6313 - val_acc: 0.3543 - val_auc: 0.7871 - val_precision: 0.6308 - val_recall: 0.3082 - val_f1score: 0.1091\n"
     ]
    }
   ],
   "source": [
    "history = additional_model.fit_generator(dgf, \n",
    "            steps_per_epoch=len(X_train)/32, \n",
    "            epochs=100, \n",
    "            validation_data=(X_val,y_val), \n",
    "            validation_steps=len(X_val)/32, \n",
    "            callbacks=[checkpoint])"
   ]
  },
  {
   "cell_type": "code",
   "execution_count": 12,
   "metadata": {},
   "outputs": [
    {
     "data": {
      "image/png": "[encoded data removed]",
      "text/plain": [
       "<Figure size 432x288 with 1 Axes>"
      ]
     },
     "metadata": {
      "needs_background": "light"
     },
     "output_type": "display_data"
    },
    {
     "data": {
      "image/png": "[encoded data removed]",
      "text/plain": [
       "<Figure size 432x288 with 1 Axes>"
      ]
     },
     "metadata": {
      "needs_background": "light"
     },
     "output_type": "display_data"
    }
   ],
   "source": [
    "acc = history.history['acc']\n",
    "val_acc = history.history['val_acc']\n",
    "loss = history.history['loss']\n",
    "val_loss = history.history['val_loss']\n",
    " \n",
    "epochs = range(1, len(acc) + 1)\n",
    " \n",
    "plt.plot(epochs, acc, 'bo', label='Training acc')\n",
    "plt.plot(epochs, val_acc, 'r', label='Validation acc')\n",
    "plt.title('Accuracy')\n",
    "plt.legend()\n",
    "plt.figure()\n",
    " \n",
    "plt.plot(epochs, loss, 'bo', label='Training loss')\n",
    "plt.plot(epochs, val_loss, 'r', label='Validation loss')\n",
    "plt.title('Loss')\n",
    "plt.legend()\n",
    " \n",
    "plt.show()"
   ]
  },
  {
   "cell_type": "code",
   "execution_count": 13,
   "metadata": {},
   "outputs": [
    {
     "name": "stdout",
     "output_type": "stream",
     "text": [
      "429/429 [==============================] - 1s 3ms/step\n",
      "loss: 1.631, accuracy: 0.354, auc: 0.787, precision: 0.630, recall: 0.308, f1score: 0.109\n"
     ]
    }
   ],
   "source": [
    "_loss, _acc, _auc, _precision, _recall, _f1score = additional_model.evaluate(X_val, y_val, batch_size=32)\n",
    "print('loss: {:.3f}, accuracy: {:.3f}, auc: {:.3f}, precision: {:.3f}, recall: {:.3f}, f1score: {:.3f}'.format(_loss, _acc, _auc, _precision, _recall, _f1score))"
   ]
  }
 ],
 "metadata": {
  "kernelspec": {
   "display_name": "Python 3",
   "language": "python",
   "name": "python3"
  },
  "language_info": {
   "codemirror_mode": {
    "name": "ipython",
    "version": 3
   },
   "file_extension": ".py",
   "mimetype": "text/x-python",
   "name": "python",
   "nbconvert_exporter": "python",
   "pygments_lexer": "ipython3",
   "version": "3.7.7"
  }
 },
 "nbformat": 4,
 "nbformat_minor": 2
}
