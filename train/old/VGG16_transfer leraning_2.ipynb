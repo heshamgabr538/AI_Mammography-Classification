{
 "cells": [
  {
   "cell_type": "code",
   "execution_count": 1,
   "metadata": {},
   "outputs": [
    {
     "data": {
      "text/plain": [
       "'C:\\\\Users\\\\Owner2\\\\Desktop\\\\G팔로미_vuno'"
      ]
     },
     "execution_count": 1,
     "metadata": {},
     "output_type": "execute_result"
    }
   ],
   "source": [
    "import os\n",
    "import pandas as pd\n",
    "from matplotlib import pyplot as plt\n",
    "import numpy as np\n",
    "import cv2\n",
    "\n",
    "#data path 수정\n",
    "os.chdir(\"C:\\\\Users\\\\Owner2\\\\Desktop\\\\G팔로미_vuno\")\n",
    "os.getcwd()"
   ]
  },
  {
   "cell_type": "code",
   "execution_count": 2,
   "metadata": {},
   "outputs": [],
   "source": [
    "X=np.load('data_X.npy')\n",
    "y=np.load('data_y.npy')"
   ]
  },
  {
   "cell_type": "code",
   "execution_count": 3,
   "metadata": {},
   "outputs": [],
   "source": [
    "#train, validation set 분리\n",
    "from sklearn.model_selection import train_test_split\n",
    "\n",
    "X_train, X_val, y_train, y_val = train_test_split(X,y,test_size=0.25)"
   ]
  },
  {
   "cell_type": "code",
   "execution_count": 4,
   "metadata": {},
   "outputs": [
    {
     "name": "stderr",
     "output_type": "stream",
     "text": [
      "Using TensorFlow backend.\n"
     ]
    }
   ],
   "source": [
    "from keras.preprocessing.image import ImageDataGenerator\n",
    "\n",
    "datagen = ImageDataGenerator(\n",
    "    #featurewise_center=True, #center 중심 유지\n",
    "    #featurewise_std_normalization=True, #normalization\n",
    "    rotation_range=25.0,\n",
    "    #width_shift_range=0.2,\n",
    "    #height_shift_range=0.2,\n",
    "    #brightness_range=[0.2,1.0],\n",
    "    zoom_range=[0.8,1.2],\n",
    "    horizontal_flip=True) #수평방향 뒤집기\n",
    "\n",
    "datagen.fit(X_train)\n",
    "\n",
    "dgf=datagen.flow(X_train,y_train,batch_size=32)"
   ]
  },
  {
   "cell_type": "code",
   "execution_count": 5,
   "metadata": {},
   "outputs": [],
   "source": [
    "from keras import models, layers\n",
    "from keras import Input\n",
    "from keras.applications import VGG16\n",
    "from keras.models import Model, load_model\n",
    "from keras.preprocessing.image import ImageDataGenerator\n",
    "from keras import optimizers, initializers, regularizers, metrics\n",
    "from keras.callbacks import ModelCheckpoint, EarlyStopping\n",
    "from keras.layers import BatchNormalization, Conv2D, Activation, Dense, GlobalAveragePooling2D, MaxPooling2D, ZeroPadding2D, Add\n",
    "\n",
    "model = VGG16(weights='imagenet', include_top=False, input_shape=(224, 224, 3))\n",
    "model.trainable = True"
   ]
  },
  {
   "cell_type": "code",
   "execution_count": 6,
   "metadata": {},
   "outputs": [
    {
     "name": "stdout",
     "output_type": "stream",
     "text": [
      "Model: \"vgg16\"\n",
      "_________________________________________________________________\n",
      "Layer (type)                 Output Shape              Param #   \n",
      "=================================================================\n",
      "input_1 (InputLayer)         (None, 224, 224, 3)       0         \n",
      "_________________________________________________________________\n",
      "block1_conv1 (Conv2D)        (None, 224, 224, 64)      1792      \n",
      "_________________________________________________________________\n",
      "block1_conv2 (Conv2D)        (None, 224, 224, 64)      36928     \n",
      "_________________________________________________________________\n",
      "block1_pool (MaxPooling2D)   (None, 112, 112, 64)      0         \n",
      "_________________________________________________________________\n",
      "block2_conv1 (Conv2D)        (None, 112, 112, 128)     73856     \n",
      "_________________________________________________________________\n",
      "block2_conv2 (Conv2D)        (None, 112, 112, 128)     147584    \n",
      "_________________________________________________________________\n",
      "block2_pool (MaxPooling2D)   (None, 56, 56, 128)       0         \n",
      "_________________________________________________________________\n",
      "block3_conv1 (Conv2D)        (None, 56, 56, 256)       295168    \n",
      "_________________________________________________________________\n",
      "block3_conv2 (Conv2D)        (None, 56, 56, 256)       590080    \n",
      "_________________________________________________________________\n",
      "block3_conv3 (Conv2D)        (None, 56, 56, 256)       590080    \n",
      "_________________________________________________________________\n",
      "block3_pool (MaxPooling2D)   (None, 28, 28, 256)       0         \n",
      "_________________________________________________________________\n",
      "block4_conv1 (Conv2D)        (None, 28, 28, 512)       1180160   \n",
      "_________________________________________________________________\n",
      "block4_conv2 (Conv2D)        (None, 28, 28, 512)       2359808   \n",
      "_________________________________________________________________\n",
      "block4_conv3 (Conv2D)        (None, 28, 28, 512)       2359808   \n",
      "_________________________________________________________________\n",
      "block4_pool (MaxPooling2D)   (None, 14, 14, 512)       0         \n",
      "_________________________________________________________________\n",
      "block5_conv1 (Conv2D)        (None, 14, 14, 512)       2359808   \n",
      "_________________________________________________________________\n",
      "block5_conv2 (Conv2D)        (None, 14, 14, 512)       2359808   \n",
      "_________________________________________________________________\n",
      "block5_conv3 (Conv2D)        (None, 14, 14, 512)       2359808   \n",
      "_________________________________________________________________\n",
      "block5_pool (MaxPooling2D)   (None, 7, 7, 512)         0         \n",
      "=================================================================\n",
      "Total params: 14,714,688\n",
      "Trainable params: 14,714,688\n",
      "Non-trainable params: 0\n",
      "_________________________________________________________________\n"
     ]
    }
   ],
   "source": [
    "model.summary()"
   ]
  },
  {
   "cell_type": "code",
   "execution_count": 7,
   "metadata": {},
   "outputs": [
    {
     "name": "stdout",
     "output_type": "stream",
     "text": [
      "Model: \"sequential_1\"\n",
      "_________________________________________________________________\n",
      "Layer (type)                 Output Shape              Param #   \n",
      "=================================================================\n",
      "vgg16 (Model)                (None, 7, 7, 512)         14714688  \n",
      "_________________________________________________________________\n",
      "flatten_1 (Flatten)          (None, 25088)             0         \n",
      "_________________________________________________________________\n",
      "dropout_1 (Dropout)          (None, 25088)             0         \n",
      "_________________________________________________________________\n",
      "dense_1 (Dense)              (None, 4)                 100356    \n",
      "=================================================================\n",
      "Total params: 14,815,044\n",
      "Trainable params: 14,815,044\n",
      "Non-trainable params: 0\n",
      "_________________________________________________________________\n"
     ]
    }
   ],
   "source": [
    "#customizing my layers\n",
    "additional_model = models.Sequential()\n",
    "additional_model.add(model)\n",
    "additional_model.add(layers.Flatten())\n",
    "additional_model.add(layers.Dropout(0.5))\n",
    "additional_model.add(layers.Dense(4, activation='softmax'))\n",
    "\n",
    "additional_model.summary()"
   ]
  },
  {
   "cell_type": "code",
   "execution_count": 8,
   "metadata": {},
   "outputs": [],
   "source": [
    "def f1score(precision, recall):\n",
    "    _f1score = ( 2 * recall * precision) / (recall + precision)\n",
    "    \n",
    "    # return a single tensor value\n",
    "    return _f1score"
   ]
  },
  {
   "cell_type": "code",
   "execution_count": 9,
   "metadata": {},
   "outputs": [],
   "source": [
    "# checkpoint = ModelCheckpoint(filepath='My_VGG_{epoch:03d}_{val_loss:.7f}.hdf5',monitor='loss', mode='min', save_best_only=True)\n",
    "checkpoint = ModelCheckpoint(filepath='VGG16_transfer learning_2.hdf5', \n",
    "            monitor='loss', \n",
    "            mode='min', \n",
    "            save_best_only=True)"
   ]
  },
  {
   "cell_type": "code",
   "execution_count": 12,
   "metadata": {},
   "outputs": [],
   "source": [
    "import tensorflow as tf\n",
    "\n",
    "additional_model.compile(loss='categorical_crossentropy', \n",
    "              optimizer=optimizers.Adam(lr=2e-5),\n",
    "              metrics=['acc',tf.keras.metrics.AUC(),\n",
    "                      tf.keras.metrics.Precision(),\n",
    "                      tf.keras.metrics.Recall(),f1score])"
   ]
  },
  {
   "cell_type": "code",
   "execution_count": 13,
   "metadata": {},
   "outputs": [
    {
     "name": "stdout",
     "output_type": "stream",
     "text": [
      "Epoch 1/50\n",
      "150/150 [==============================] - 43s 288ms/step - loss: 1.2076 - acc: 0.4197 - auc_1: 0.6575 - precision_1: 0.4061 - recall_1: 0.1998 - f1score: 0.1263 - val_loss: 0.9731 - val_acc: 0.4454 - val_auc_1: 0.7336 - val_precision_1: 0.4689 - val_recall_1: 0.2665 - val_f1score: 0.1419\n",
      "Epoch 2/50\n",
      "150/150 [==============================] - 41s 277ms/step - loss: 0.9359 - acc: 0.5191 - auc_1: 0.7636 - precision_1: 0.4953 - recall_1: 0.3024 - f1score: 0.1481 - val_loss: 0.8726 - val_acc: 0.5278 - val_auc_1: 0.7851 - val_precision_1: 0.5168 - val_recall_1: 0.3327 - val_f1score: 0.1532\n",
      "Epoch 3/50\n",
      "150/150 [==============================] - 42s 280ms/step - loss: 0.8531 - acc: 0.5484 - auc_1: 0.7987 - precision_1: 0.5299 - recall_1: 0.3566 - f1score: 0.1559 - val_loss: 0.8720 - val_acc: 0.5361 - val_auc_1: 0.8090 - val_precision_1: 0.5419 - val_recall_1: 0.3764 - val_f1score: 0.1534\n",
      "Epoch 4/50\n",
      "150/150 [==============================] - 42s 279ms/step - loss: 0.8084 - acc: 0.5669 - auc_1: 0.8166 - precision_1: 0.5483 - recall_1: 0.3891 - f1score: 0.1600 - val_loss: 0.9910 - val_acc: 0.4763 - val_auc_1: 0.8228 - val_precision_1: 0.5548 - val_recall_1: 0.4016 - val_f1score: 0.1476\n",
      "Epoch 5/50\n",
      "150/150 [==============================] - 42s 279ms/step - loss: 0.7625 - acc: 0.5930 - auc_1: 0.8285 - precision_1: 0.5613 - recall_1: 0.4144 - f1score: 0.1648 - val_loss: 0.8426 - val_acc: 0.5546 - val_auc_1: 0.8338 - val_precision_1: 0.5677 - val_recall_1: 0.4263 - val_f1score: 0.1580\n",
      "Epoch 6/50\n",
      "150/150 [==============================] - 42s 282ms/step - loss: 0.7535 - acc: 0.5917 - auc_1: 0.8376 - precision_1: 0.5725 - recall_1: 0.4351 - f1score: 0.1656 - val_loss: 0.8727 - val_acc: 0.5113 - val_auc_1: 0.8414 - val_precision_1: 0.5769 - val_recall_1: 0.4445 - val_f1score: 0.1554\n",
      "Epoch 7/50\n",
      "150/150 [==============================] - 42s 281ms/step - loss: 0.6976 - acc: 0.6403 - auc_1: 0.8453 - precision_1: 0.5829 - recall_1: 0.4545 - f1score: 0.1713 - val_loss: 0.7940 - val_acc: 0.5526 - val_auc_1: 0.8493 - val_precision_1: 0.5888 - val_recall_1: 0.4646 - val_f1score: 0.1618\n",
      "Epoch 8/50\n",
      "150/150 [==============================] - 43s 284ms/step - loss: 0.6803 - acc: 0.6348 - auc_1: 0.8524 - precision_1: 0.5926 - recall_1: 0.4719 - f1score: 0.1730 - val_loss: 0.8280 - val_acc: 0.5485 - val_auc_1: 0.8556 - val_precision_1: 0.5975 - val_recall_1: 0.4803 - val_f1score: 0.1610\n",
      "Epoch 9/50\n",
      "150/150 [==============================] - 42s 281ms/step - loss: 0.6516 - acc: 0.6561 - auc_1: 0.8585 - precision_1: 0.6017 - recall_1: 0.4876 - f1score: 0.1767 - val_loss: 0.8456 - val_acc: 0.5670 - val_auc_1: 0.8616 - val_precision_1: 0.6061 - val_recall_1: 0.4952 - val_f1score: 0.1611\n",
      "Epoch 10/50\n",
      "150/150 [==============================] - 41s 274ms/step - loss: 0.6123 - acc: 0.6841 - auc_1: 0.8644 - precision_1: 0.6108 - recall_1: 0.5025 - f1score: 0.1805 - val_loss: 0.8480 - val_acc: 0.5381 - val_auc_1: 0.8674 - val_precision_1: 0.6153 - val_recall_1: 0.5098 - val_f1score: 0.1609\n",
      "Epoch 11/50\n",
      "150/150 [==============================] - 41s 276ms/step - loss: 0.5971 - acc: 0.7003 - auc_1: 0.8701 - precision_1: 0.6198 - recall_1: 0.5170 - f1score: 0.1829 - val_loss: 0.8546 - val_acc: 0.5381 - val_auc_1: 0.8726 - val_precision_1: 0.6239 - val_recall_1: 0.5234 - val_f1score: 0.1599\n",
      "Epoch 12/50\n",
      "150/150 [==============================] - 43s 287ms/step - loss: 0.5480 - acc: 0.7311 - auc_1: 0.8754 - precision_1: 0.6286 - recall_1: 0.5304 - f1score: 0.1882 - val_loss: 0.8263 - val_acc: 0.5773 - val_auc_1: 0.8782 - val_precision_1: 0.6335 - val_recall_1: 0.5376 - val_f1score: 0.1655\n",
      "Epoch 13/50\n",
      "150/150 [==============================] - 42s 282ms/step - loss: 0.5185 - acc: 0.7494 - auc_1: 0.8809 - precision_1: 0.6382 - recall_1: 0.5447 - f1score: 0.1916 - val_loss: 0.9064 - val_acc: 0.5361 - val_auc_1: 0.8835 - val_precision_1: 0.6426 - val_recall_1: 0.5513 - val_f1score: 0.1598\n",
      "Epoch 14/50\n",
      "150/150 [==============================] - 42s 279ms/step - loss: 0.5007 - acc: 0.7557 - auc_1: 0.8859 - precision_1: 0.6470 - recall_1: 0.5576 - f1score: 0.1936 - val_loss: 0.8668 - val_acc: 0.6041 - val_auc_1: 0.8883 - val_precision_1: 0.6512 - val_recall_1: 0.5635 - val_f1score: 0.1639\n",
      "Epoch 15/50\n",
      "150/150 [==============================] - 41s 272ms/step - loss: 0.4658 - acc: 0.7818 - auc_1: 0.8908 - precision_1: 0.6557 - recall_1: 0.5698 - f1score: 0.1978 - val_loss: 0.9935 - val_acc: 0.5753 - val_auc_1: 0.8931 - val_precision_1: 0.6600 - val_recall_1: 0.5758 - val_f1score: 0.1613\n",
      "Epoch 16/50\n",
      "150/150 [==============================] - 43s 285ms/step - loss: 0.4284 - acc: 0.8073 - auc_1: 0.8954 - precision_1: 0.6645 - recall_1: 0.5818 - f1score: 0.2019 - val_loss: 1.0872 - val_acc: 0.5299 - val_auc_1: 0.8977 - val_precision_1: 0.6692 - val_recall_1: 0.5880 - val_f1score: 0.1548\n",
      "Epoch 17/50\n",
      "150/150 [==============================] - 41s 271ms/step - loss: 0.4090 - acc: 0.8128 - auc_1: 0.8998 - precision_1: 0.6731 - recall_1: 0.5934 - f1score: 0.2044 - val_loss: 1.0756 - val_acc: 0.5402 - val_auc_1: 0.9020 - val_precision_1: 0.6773 - val_recall_1: 0.5990 - val_f1score: 0.1581\n",
      "Epoch 18/50\n",
      "150/150 [==============================] - 41s 276ms/step - loss: 0.3811 - acc: 0.8286 - auc_1: 0.9041 - precision_1: 0.6813 - recall_1: 0.6045 - f1score: 0.2075 - val_loss: 0.9634 - val_acc: 0.5464 - val_auc_1: 0.9062 - val_precision_1: 0.6853 - val_recall_1: 0.6099 - val_f1score: 0.1593\n",
      "Epoch 19/50\n",
      "150/150 [==============================] - 42s 279ms/step - loss: 0.3297 - acc: 0.8517 - auc_1: 0.9084 - precision_1: 0.6895 - recall_1: 0.6155 - f1score: 0.2129 - val_loss: 1.1456 - val_acc: 0.5814 - val_auc_1: 0.9105 - val_precision_1: 0.6937 - val_recall_1: 0.6209 - val_f1score: 0.1613\n",
      "Epoch 20/50\n",
      "150/150 [==============================] - 43s 285ms/step - loss: 0.3166 - acc: 0.8620 - auc_1: 0.9125 - precision_1: 0.6977 - recall_1: 0.6262 - f1score: 0.2150 - val_loss: 1.2374 - val_acc: 0.5567 - val_auc_1: 0.9144 - val_precision_1: 0.7017 - val_recall_1: 0.6313 - val_f1score: 0.1577\n",
      "Epoch 21/50\n",
      "150/150 [==============================] - 42s 279ms/step - loss: 0.2942 - acc: 0.8798 - auc_1: 0.9163 - precision_1: 0.7057 - recall_1: 0.6365 - f1score: 0.2174 - val_loss: 1.5165 - val_acc: 0.5402 - val_auc_1: 0.9180 - val_precision_1: 0.7096 - val_recall_1: 0.6414 - val_f1score: 0.1497\n",
      "Epoch 22/50\n",
      "150/150 [==============================] - 42s 277ms/step - loss: 0.2645 - acc: 0.8829 - auc_1: 0.9198 - precision_1: 0.7133 - recall_1: 0.6462 - f1score: 0.2206 - val_loss: 1.2135 - val_acc: 0.5691 - val_auc_1: 0.9215 - val_precision_1: 0.7169 - val_recall_1: 0.6508 - val_f1score: 0.1574\n",
      "Epoch 23/50\n",
      "150/150 [==============================] - 42s 280ms/step - loss: 0.2336 - acc: 0.8975 - auc_1: 0.9234 - precision_1: 0.7207 - recall_1: 0.6557 - f1score: 0.2241 - val_loss: 1.3428 - val_acc: 0.5794 - val_auc_1: 0.9250 - val_precision_1: 0.7242 - val_recall_1: 0.6601 - val_f1score: 0.1583\n",
      "Epoch 24/50\n",
      "150/150 [==============================] - 42s 277ms/step - loss: 0.2182 - acc: 0.9096 - auc_1: 0.9266 - precision_1: 0.7277 - recall_1: 0.6646 - f1score: 0.2257 - val_loss: 1.5030 - val_acc: 0.5629 - val_auc_1: 0.9282 - val_precision_1: 0.7312 - val_recall_1: 0.6690 - val_f1score: 0.1541\n",
      "Epoch 25/50\n",
      "150/150 [==============================] - 42s 279ms/step - loss: 0.1953 - acc: 0.9205 - auc_1: 0.9298 - precision_1: 0.7348 - recall_1: 0.6734 - f1score: 0.2286 - val_loss: 1.5892 - val_acc: 0.5402 - val_auc_1: 0.9312 - val_precision_1: 0.7381 - val_recall_1: 0.6777 - val_f1score: 0.1504\n",
      "Epoch 26/50\n",
      "150/150 [==============================] - 41s 271ms/step - loss: 0.1921 - acc: 0.9191 - auc_1: 0.9326 - precision_1: 0.7413 - recall_1: 0.6817 - f1score: 0.2288 - val_loss: 1.8355 - val_acc: 0.5546 - val_auc_1: 0.9339 - val_precision_1: 0.7443 - val_recall_1: 0.6856 - val_f1score: 0.1476\n",
      "Epoch 27/50\n",
<<<<<<< HEAD
      "150/150 [==============================] - 43s 289ms/step - loss: 0.2014 - acc: 0.9180 - auc: 0.9406 - precision: 0.7583 - recall: 0.7078 - f1score: 0.2280 - val_loss: 1.2654 - val_acc: 0.6333 - val_auc: 0.9415 - val_precision: 0.7606 - val_recall: 0.7108 - val_f1score: 0.1701\n",
      "Epoch 28/50\n",
      "150/150 [==============================] - 42s 281ms/step - loss: 0.1871 - acc: 0.9260 - auc: 0.9424 - precision: 0.7630 - recall: 0.7138 - f1score: 0.2295 - val_loss: 1.1559 - val_acc: 0.6240 - val_auc: 0.9433 - val_precision: 0.7653 - val_recall: 0.7168 - val_f1score: 0.1703\n",
      "Epoch 29/50\n",
      "150/150 [==============================] - 42s 281ms/step - loss: 0.1672 - acc: 0.9348 - auc: 0.9442 - precision: 0.7676 - recall: 0.7197 - f1score: 0.2315 - val_loss: 1.3057 - val_acc: 0.6380 - val_auc: 0.9451 - val_precision: 0.7699 - val_recall: 0.7226 - val_f1score: 0.1703\n",
=======
      "150/150 [==============================] - 42s 281ms/step - loss: 0.1687 - acc: 0.9332 - auc_1: 0.9352 - precision_1: 0.7475 - recall_1: 0.6896 - f1score: 0.2316 - val_loss: 1.4893 - val_acc: 0.5835 - val_auc_1: 0.9365 - val_precision_1: 0.7506 - val_recall_1: 0.6934 - val_f1score: 0.1570\n",
      "Epoch 28/50\n"
     ]
    },
    {
     "name": "stdout",
     "output_type": "stream",
     "text": [
      "150/150 [==============================] - 42s 278ms/step - loss: 0.1525 - acc: 0.9402 - auc_1: 0.9378 - precision_1: 0.7536 - recall_1: 0.6972 - f1score: 0.2332 - val_loss: 1.7407 - val_acc: 0.5443 - val_auc_1: 0.9391 - val_precision_1: 0.7566 - val_recall_1: 0.7010 - val_f1score: 0.1497\n",
      "Epoch 29/50\n",
      "150/150 [==============================] - 41s 272ms/step - loss: 0.1423 - acc: 0.9440 - auc_1: 0.9402 - precision_1: 0.7595 - recall_1: 0.7044 - f1score: 0.2344 - val_loss: 1.7440 - val_acc: 0.5670 - val_auc_1: 0.9414 - val_precision_1: 0.7623 - val_recall_1: 0.7080 - val_f1score: 0.1540\n",
>>>>>>> cf9b83207e703bfaaf8a6ad75519a927e1f6aa32
      "Epoch 30/50\n",
      "150/150 [==============================] - 42s 278ms/step - loss: 0.1375 - acc: 0.9493 - auc_1: 0.9425 - precision_1: 0.7651 - recall_1: 0.7115 - f1score: 0.2355 - val_loss: 1.6257 - val_acc: 0.5670 - val_auc_1: 0.9436 - val_precision_1: 0.7678 - val_recall_1: 0.7149 - val_f1score: 0.1519\n",
      "Epoch 31/50\n",
      "150/150 [==============================] - 42s 281ms/step - loss: 0.1285 - acc: 0.9507 - auc_1: 0.9446 - precision_1: 0.7704 - recall_1: 0.7181 - f1score: 0.2361 - val_loss: 1.5882 - val_acc: 0.5711 - val_auc_1: 0.9456 - val_precision_1: 0.7729 - val_recall_1: 0.7213 - val_f1score: 0.1536\n",
      "Epoch 32/50\n",
      "150/150 [==============================] - 40s 269ms/step - loss: 0.1306 - acc: 0.9522 - auc_1: 0.9465 - precision_1: 0.7754 - recall_1: 0.7243 - f1score: 0.2359 - val_loss: 1.9143 - val_acc: 0.5773 - val_auc_1: 0.9474 - val_precision_1: 0.7778 - val_recall_1: 0.7273 - val_f1score: 0.1530\n",
      "Epoch 33/50\n",
      "150/150 [==============================] - 42s 278ms/step - loss: 0.1190 - acc: 0.9549 - auc_1: 0.9483 - precision_1: 0.7801 - recall_1: 0.7303 - f1score: 0.2372 - val_loss: 1.7493 - val_acc: 0.5938 - val_auc_1: 0.9492 - val_precision_1: 0.7825 - val_recall_1: 0.7332 - val_f1score: 0.1565\n",
      "Epoch 34/50\n",
      "150/150 [==============================] - 42s 277ms/step - loss: 0.1056 - acc: 0.9594 - auc_1: 0.9500 - precision_1: 0.7848 - recall_1: 0.7360 - f1score: 0.2384 - val_loss: 1.5848 - val_acc: 0.5732 - val_auc_1: 0.9509 - val_precision_1: 0.7869 - val_recall_1: 0.7387 - val_f1score: 0.1560\n",
      "Epoch 35/50\n",
      "150/150 [==============================] - 42s 283ms/step - loss: 0.0915 - acc: 0.9672 - auc_1: 0.9517 - precision_1: 0.7892 - recall_1: 0.7416 - f1score: 0.2403 - val_loss: 1.8415 - val_acc: 0.5773 - val_auc_1: 0.9525 - val_precision_1: 0.7913 - val_recall_1: 0.7442 - val_f1score: 0.1551\n",
      "Epoch 36/50\n",
      "150/150 [==============================] - 42s 278ms/step - loss: 0.1030 - acc: 0.9632 - auc_1: 0.9532 - precision_1: 0.7934 - recall_1: 0.7468 - f1score: 0.2387 - val_loss: 1.7932 - val_acc: 0.5711 - val_auc_1: 0.9539 - val_precision_1: 0.7953 - val_recall_1: 0.7493 - val_f1score: 0.1538\n",
      "Epoch 37/50\n",
      "150/150 [==============================] - 42s 279ms/step - loss: 0.0842 - acc: 0.9701 - auc_1: 0.9547 - precision_1: 0.7974 - recall_1: 0.7518 - f1score: 0.2410 - val_loss: 1.8242 - val_acc: 0.5608 - val_auc_1: 0.9554 - val_precision_1: 0.7993 - val_recall_1: 0.7542 - val_f1score: 0.1515\n",
      "Epoch 38/50\n",
      "150/150 [==============================] - 42s 278ms/step - loss: 0.0984 - acc: 0.9624 - auc_1: 0.9560 - precision_1: 0.8012 - recall_1: 0.7565 - f1score: 0.2395 - val_loss: 1.6843 - val_acc: 0.5773 - val_auc_1: 0.9566 - val_precision_1: 0.8029 - val_recall_1: 0.7587 - val_f1score: 0.1567\n",
      "Epoch 39/50\n",
      "150/150 [==============================] - 43s 284ms/step - loss: 0.0770 - acc: 0.9706 - auc_1: 0.9573 - precision_1: 0.8047 - recall_1: 0.7610 - f1score: 0.2415 - val_loss: 2.0218 - val_acc: 0.6041 - val_auc_1: 0.9579 - val_precision_1: 0.8065 - val_recall_1: 0.7632 - val_f1score: 0.1588\n",
      "Epoch 40/50\n",
      "150/150 [==============================] - 40s 270ms/step - loss: 0.0778 - acc: 0.9702 - auc_1: 0.9585 - precision_1: 0.8083 - recall_1: 0.7654 - f1score: 0.2417 - val_loss: 2.1101 - val_acc: 0.5691 - val_auc_1: 0.9590 - val_precision_1: 0.8099 - val_recall_1: 0.7675 - val_f1score: 0.1535\n",
      "Epoch 41/50\n",
      "150/150 [==============================] - 42s 279ms/step - loss: 0.0770 - acc: 0.9708 - auc_1: 0.9595 - precision_1: 0.8115 - recall_1: 0.7696 - f1score: 0.2419 - val_loss: 1.9953 - val_acc: 0.5814 - val_auc_1: 0.9600 - val_precision_1: 0.8131 - val_recall_1: 0.7716 - val_f1score: 0.1534\n",
      "Epoch 42/50\n",
      "150/150 [==============================] - 41s 277ms/step - loss: 0.0562 - acc: 0.9795 - auc_1: 0.9606 - precision_1: 0.8148 - recall_1: 0.7736 - f1score: 0.2439 - val_loss: 2.1937 - val_acc: 0.5897 - val_auc_1: 0.9611 - val_precision_1: 0.8164 - val_recall_1: 0.7756 - val_f1score: 0.1532\n",
      "Epoch 43/50\n",
      "150/150 [==============================] - 43s 286ms/step - loss: 0.0572 - acc: 0.9787 - auc_1: 0.9616 - precision_1: 0.8179 - recall_1: 0.7776 - f1score: 0.2437 - val_loss: 2.4622 - val_acc: 0.5691 - val_auc_1: 0.9620 - val_precision_1: 0.8195 - val_recall_1: 0.7795 - val_f1score: 0.1521\n",
      "Epoch 44/50\n",
      "150/150 [==============================] - 42s 279ms/step - loss: 0.0700 - acc: 0.9724 - auc_1: 0.9625 - precision_1: 0.8209 - recall_1: 0.7813 - f1score: 0.2426 - val_loss: 2.3508 - val_acc: 0.5299 - val_auc_1: 0.9629 - val_precision_1: 0.8222 - val_recall_1: 0.7830 - val_f1score: 0.1440\n",
      "Epoch 45/50\n",
      "150/150 [==============================] - 42s 278ms/step - loss: 0.0616 - acc: 0.9770 - auc_1: 0.9633 - precision_1: 0.8235 - recall_1: 0.7847 - f1score: nan - val_loss: 2.3378 - val_acc: 0.5814 - val_auc_1: 0.9637 - val_precision_1: 0.8249 - val_recall_1: 0.7864 - val_f1score: 0.1523\n",
      "Epoch 46/50\n",
      "150/150 [==============================] - 42s 279ms/step - loss: 0.0775 - acc: 0.9712 - auc_1: 0.9641 - precision_1: 0.8262 - recall_1: 0.7881 - f1score: 0.2419 - val_loss: 2.2503 - val_acc: 0.5546 - val_auc_1: 0.9644 - val_precision_1: 0.8274 - val_recall_1: 0.7896 - val_f1score: 0.1491\n",
      "Epoch 47/50\n",
      "150/150 [==============================] - 42s 281ms/step - loss: 0.0619 - acc: 0.9773 - auc_1: 0.9648 - precision_1: 0.8286 - recall_1: 0.7912 - f1score: 0.2433 - val_loss: 2.6072 - val_acc: 0.5402 - val_auc_1: 0.9651 - val_precision_1: 0.8298 - val_recall_1: 0.7927 - val_f1score: 0.1471\n",
      "Epoch 48/50\n",
      "150/150 [==============================] - 42s 278ms/step - loss: 0.0632 - acc: 0.9776 - auc_1: 0.9654 - precision_1: 0.8310 - recall_1: 0.7942 - f1score: 0.2436 - val_loss: 2.3368 - val_acc: 0.5794 - val_auc_1: 0.9658 - val_precision_1: 0.8323 - val_recall_1: 0.7958 - val_f1score: 0.1513\n",
      "Epoch 49/50\n",
      "150/150 [==============================] - 42s 281ms/step - loss: 0.0573 - acc: 0.9813 - auc_1: 0.9661 - precision_1: 0.8335 - recall_1: 0.7973 - f1score: nan - val_loss: 2.8395 - val_acc: 0.5629 - val_auc_1: 0.9664 - val_precision_1: 0.8346 - val_recall_1: 0.7988 - val_f1score: nan\n",
      "Epoch 50/50\n",
      "150/150 [==============================] - 42s 280ms/step - loss: 0.0549 - acc: 0.9797 - auc_1: 0.9667 - precision_1: 0.8358 - recall_1: 0.8002 - f1score: nan - val_loss: 2.3419 - val_acc: 0.5629 - val_auc_1: 0.9670 - val_precision_1: 0.8368 - val_recall_1: 0.8016 - val_f1score: 0.1472\n"
     ]
    }
   ],
   "source": [
    "history = additional_model.fit_generator(dgf, \n",
    "            steps_per_epoch=150, \n",
    "            epochs=50, \n",
    "            validation_data=(X_val,y_val), \n",
    "            validation_steps=32, \n",
    "            callbacks=[checkpoint])"
   ]
  },
  {
   "cell_type": "code",
   "execution_count": 14,
   "metadata": {},
   "outputs": [
    {
     "data": {
      "image/png": "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\n",
      "text/plain": [
       "<Figure size 432x288 with 1 Axes>"
      ]
     },
     "metadata": {
      "needs_background": "light"
     },
     "output_type": "display_data"
    },
    {
     "data": {
      "image/png": "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\n",
      "text/plain": [
       "<Figure size 432x288 with 1 Axes>"
      ]
     },
     "metadata": {
      "needs_background": "light"
     },
     "output_type": "display_data"
    }
   ],
   "source": [
    "acc = history.history['acc']\n",
    "val_acc = history.history['val_acc']\n",
    "loss = history.history['loss']\n",
    "val_loss = history.history['val_loss']\n",
    " \n",
    "epochs = range(1, len(acc) + 1)\n",
    " \n",
    "plt.plot(epochs, acc, 'bo', label='Training acc')\n",
    "plt.plot(epochs, val_acc, 'r', label='Validation acc')\n",
    "plt.title('Accuracy')\n",
    "plt.legend()\n",
    "plt.figure()\n",
    " \n",
    "plt.plot(epochs, loss, 'bo', label='Training loss')\n",
    "plt.plot(epochs, val_loss, 'r', label='Validation loss')\n",
    "plt.title('Loss')\n",
    "plt.legend()\n",
    " \n",
    "plt.show()"
   ]
  },
  {
   "cell_type": "code",
   "execution_count": 15,
   "metadata": {},
   "outputs": [],
   "source": [
    "X_test=np.load('X_test.npy')\n",
    "y_test=np.load('y_test.npy')"
   ]
  },
  {
   "cell_type": "code",
   "execution_count": 16,
   "metadata": {},
   "outputs": [
    {
     "name": "stdout",
     "output_type": "stream",
     "text": [
      "485/485 [==============================] - 1s 3ms/step\n",
      "loss: 2.342, accuracy: 0.563, auc: 0.967, precision: 0.836, recall: 0.801, f1score: 0.147\n"
     ]
    }
   ],
   "source": [
    "_loss, _acc, _auc, _precision, _recall, _f1score = additional_model.evaluate(X_val, y_val, batch_size=32)\n",
    "print('loss: {:.3f}, accuracy: {:.3f}, auc: {:.3f}, precision: {:.3f}, recall: {:.3f}, f1score: {:.3f}'.format(_loss, _acc, _auc, _precision, _recall, _f1score))"
   ]
  },
  {
   "cell_type": "code",
   "execution_count": 17,
   "metadata": {},
   "outputs": [
    {
     "name": "stdout",
     "output_type": "stream",
     "text": [
      "704/704 [==============================] - 2s 3ms/step\n",
      "loss: 62648.650, accuracy: 0.298, auc: 0.966, precision: 0.835, recall: 0.800, f1score: nan\n"
     ]
    }
   ],
   "source": [
    "_loss, _acc, _auc, _precision, _recall, _f1score = additional_model.evaluate(X_test, y_test, batch_size=32)\n",
    "print('loss: {:.3f}, accuracy: {:.3f}, auc: {:.3f}, precision: {:.3f}, recall: {:.3f}, f1score: {:.3f}'.format(_loss, _acc, _auc, _precision, _recall, _f1score))"
   ]
  },
  {
   "cell_type": "code",
   "execution_count": null,
   "metadata": {},
   "outputs": [],
   "source": [
    "additional_model.save('VGG16_transfer learning_2.h5')"
   ]
  }
 ],
 "metadata": {
  "kernelspec": {
   "display_name": "Python 3",
   "language": "python",
   "name": "python3"
  },
  "language_info": {
   "codemirror_mode": {
    "name": "ipython",
    "version": 3
   },
   "file_extension": ".py",
   "mimetype": "text/x-python",
   "name": "python",
   "nbconvert_exporter": "python",
   "pygments_lexer": "ipython3",
   "version": "3.7.6"
  }
 },
 "nbformat": 4,
 "nbformat_minor": 2
}
