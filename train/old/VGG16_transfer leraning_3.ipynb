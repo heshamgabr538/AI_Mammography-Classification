{
 "cells": [
  {
   "cell_type": "code",
   "execution_count": 1,
   "metadata": {},
   "outputs": [
    {
     "data": {
      "text/plain": [
       "'C:\\\\Users\\\\Owner2\\\\Desktop\\\\G팔로미_vuno'"
      ]
     },
     "execution_count": 1,
     "metadata": {},
     "output_type": "execute_result"
    }
   ],
   "source": [
    "import os\n",
    "import pandas as pd\n",
    "from matplotlib import pyplot as plt\n",
    "import numpy as np\n",
    "import cv2\n",
    "\n",
    "#data path 수정\n",
    "os.chdir(\"C:\\\\Users\\\\Owner2\\\\Desktop\\\\G팔로미_vuno\")\n",
    "os.getcwd()"
   ]
  },
  {
   "cell_type": "code",
   "execution_count": 2,
   "metadata": {},
   "outputs": [],
   "source": [
    "X=np.load('data_X.npy')\n",
    "y=np.load('data_y.npy')"
   ]
  },
  {
   "cell_type": "code",
   "execution_count": 3,
   "metadata": {},
   "outputs": [],
   "source": [
    "#train, validation set 분리\n",
    "from sklearn.model_selection import train_test_split\n",
    "\n",
    "X_train, X_val, y_train, y_val = train_test_split(X,y,test_size=0.25)"
   ]
  },
  {
   "cell_type": "code",
   "execution_count": 4,
   "metadata": {},
   "outputs": [
    {
     "name": "stderr",
     "output_type": "stream",
     "text": [
      "Using TensorFlow backend.\n"
     ]
    }
   ],
   "source": [
    "from keras.preprocessing.image import ImageDataGenerator\n",
    "\n",
    "datagen = ImageDataGenerator(\n",
    "    featurewise_center=True, #center 중심 유지\n",
    "    #featurewise_std_normalization=True, #normalization\n",
    "    rotation_range=25.0,\n",
    "    #width_shift_range=0.2,\n",
    "    #height_shift_range=0.2,\n",
    "    #brightness_range=[0.2,1.0],\n",
    "    zoom_range=[0.8,1.2],\n",
    "    horizontal_flip=True) #수평방향 뒤집기\n",
    "\n",
    "datagen.fit(X_train)\n",
    "\n",
    "dgf=datagen.flow(X_train,y_train,batch_size=32)"
   ]
  },
  {
   "cell_type": "code",
   "execution_count": 5,
   "metadata": {},
   "outputs": [],
   "source": [
    "from keras import models, layers\n",
    "from keras import Input\n",
    "from keras.applications import VGG16\n",
    "from keras.models import Model, load_model\n",
    "from keras.preprocessing.image import ImageDataGenerator\n",
    "from keras import optimizers, initializers, regularizers, metrics\n",
    "from keras.callbacks import ModelCheckpoint, EarlyStopping\n",
    "from keras.layers import BatchNormalization, Conv2D, Activation, Dense, GlobalAveragePooling2D, MaxPooling2D, ZeroPadding2D, Add\n",
    "\n",
    "model = VGG16(weights='imagenet', include_top=False, input_shape=(224, 224, 3))\n",
    "model.trainable = True"
   ]
  },
  {
   "cell_type": "code",
   "execution_count": 6,
   "metadata": {},
   "outputs": [
    {
     "name": "stdout",
     "output_type": "stream",
     "text": [
      "Model: \"vgg16\"\n",
      "_________________________________________________________________\n",
      "Layer (type)                 Output Shape              Param #   \n",
      "=================================================================\n",
      "input_1 (InputLayer)         (None, 224, 224, 3)       0         \n",
      "_________________________________________________________________\n",
      "block1_conv1 (Conv2D)        (None, 224, 224, 64)      1792      \n",
      "_________________________________________________________________\n",
      "block1_conv2 (Conv2D)        (None, 224, 224, 64)      36928     \n",
      "_________________________________________________________________\n",
      "block1_pool (MaxPooling2D)   (None, 112, 112, 64)      0         \n",
      "_________________________________________________________________\n",
      "block2_conv1 (Conv2D)        (None, 112, 112, 128)     73856     \n",
      "_________________________________________________________________\n",
      "block2_conv2 (Conv2D)        (None, 112, 112, 128)     147584    \n",
      "_________________________________________________________________\n",
      "block2_pool (MaxPooling2D)   (None, 56, 56, 128)       0         \n",
      "_________________________________________________________________\n",
      "block3_conv1 (Conv2D)        (None, 56, 56, 256)       295168    \n",
      "_________________________________________________________________\n",
      "block3_conv2 (Conv2D)        (None, 56, 56, 256)       590080    \n",
      "_________________________________________________________________\n",
      "block3_conv3 (Conv2D)        (None, 56, 56, 256)       590080    \n",
      "_________________________________________________________________\n",
      "block3_pool (MaxPooling2D)   (None, 28, 28, 256)       0         \n",
      "_________________________________________________________________\n",
      "block4_conv1 (Conv2D)        (None, 28, 28, 512)       1180160   \n",
      "_________________________________________________________________\n",
      "block4_conv2 (Conv2D)        (None, 28, 28, 512)       2359808   \n",
      "_________________________________________________________________\n",
      "block4_conv3 (Conv2D)        (None, 28, 28, 512)       2359808   \n",
      "_________________________________________________________________\n",
      "block4_pool (MaxPooling2D)   (None, 14, 14, 512)       0         \n",
      "_________________________________________________________________\n",
      "block5_conv1 (Conv2D)        (None, 14, 14, 512)       2359808   \n",
      "_________________________________________________________________\n",
      "block5_conv2 (Conv2D)        (None, 14, 14, 512)       2359808   \n",
      "_________________________________________________________________\n",
      "block5_conv3 (Conv2D)        (None, 14, 14, 512)       2359808   \n",
      "_________________________________________________________________\n",
      "block5_pool (MaxPooling2D)   (None, 7, 7, 512)         0         \n",
      "=================================================================\n",
      "Total params: 14,714,688\n",
      "Trainable params: 14,714,688\n",
      "Non-trainable params: 0\n",
      "_________________________________________________________________\n"
     ]
    }
   ],
   "source": [
    "model.summary()"
   ]
  },
  {
   "cell_type": "code",
   "execution_count": 7,
   "metadata": {},
   "outputs": [
    {
     "name": "stdout",
     "output_type": "stream",
     "text": [
      "Model: \"sequential_1\"\n",
      "_________________________________________________________________\n",
      "Layer (type)                 Output Shape              Param #   \n",
      "=================================================================\n",
      "vgg16 (Model)                (None, 7, 7, 512)         14714688  \n",
      "_________________________________________________________________\n",
      "flatten_1 (Flatten)          (None, 25088)             0         \n",
      "_________________________________________________________________\n",
      "dropout_1 (Dropout)          (None, 25088)             0         \n",
      "_________________________________________________________________\n",
      "dense_1 (Dense)              (None, 2048)              51382272  \n",
      "_________________________________________________________________\n",
      "dense_2 (Dense)              (None, 512)               1049088   \n",
      "_________________________________________________________________\n",
      "dense_3 (Dense)              (None, 4)                 2052      \n",
      "=================================================================\n",
      "Total params: 67,148,100\n",
      "Trainable params: 67,148,100\n",
      "Non-trainable params: 0\n",
      "_________________________________________________________________\n"
     ]
    }
   ],
   "source": [
    "#customizing my layers\n",
    "additional_model = models.Sequential()\n",
    "additional_model.add(model)\n",
    "additional_model.add(layers.Flatten())\n",
    "additional_model.add(layers.Dropout(0.5))\n",
    "additional_model.add(layers.Dense(2048, activation='softmax'))\n",
    "additional_model.add(layers.Dense(512, activation='softmax'))\n",
    "additional_model.add(layers.Dense(4, activation='softmax'))\n",
    "\n",
    "additional_model.summary()"
   ]
  },
  {
   "cell_type": "code",
   "execution_count": 8,
   "metadata": {},
   "outputs": [],
   "source": [
    "def f1score(precision, recall):\n",
    "    _f1score = ( 2 * recall * precision) / (recall + precision)\n",
    "    \n",
    "    # return a single tensor value\n",
    "    return _f1score"
   ]
  },
  {
   "cell_type": "code",
   "execution_count": 9,
   "metadata": {},
   "outputs": [],
   "source": [
    "# checkpoint = ModelCheckpoint(filepath='My_VGG_{epoch:03d}_{val_loss:.7f}.hdf5',monitor='loss', mode='min', save_best_only=True)\n",
    "checkpoint = ModelCheckpoint(filepath='VGG16_transfer learning_3.hdf5', \n",
    "            monitor='loss', \n",
    "            mode='min', \n",
    "            save_best_only=True)"
   ]
  },
  {
   "cell_type": "code",
   "execution_count": 10,
   "metadata": {},
   "outputs": [],
   "source": [
    "import tensorflow as tf\n",
    "\n",
    "additional_model.compile(loss='categorical_crossentropy', \n",
    "              optimizer=optimizers.Adam(lr=0.001),\n",
    "              metrics=['acc',tf.keras.metrics.AUC(),\n",
    "                      tf.keras.metrics.Precision(),\n",
    "                      tf.keras.metrics.Recall(),f1score])"
   ]
  },
  {
   "cell_type": "code",
   "execution_count": null,
   "metadata": {},
   "outputs": [
    {
     "name": "stdout",
     "output_type": "stream",
     "text": [
      "Epoch 1/50\n",
      "150/150 [==============================] - 47s 313ms/step - loss: 1.3832 - acc: 0.2952 - auc: 0.5251 - precision: 0.0000e+00 - recall: 0.0000e+00 - f1score: 0.1003 - val_loss: 1.3837 - val_acc: 0.2825 - val_auc: 0.5283 - val_precision: 0.0000e+00 - val_recall: 0.0000e+00 - val_f1score: 0.1003\n",
      "Epoch 2/50\n",
      "150/150 [==============================] - 40s 267ms/step - loss: 1.3819 - acc: 0.2927 - auc: 0.5279 - precision: 0.0000e+00 - recall: 0.0000e+00 - f1score: 0.1005 - val_loss: 1.3836 - val_acc: 0.2825 - val_auc: 0.5275 - val_precision: 0.0000e+00 - val_recall: 0.0000e+00 - val_f1score: 0.1004\n",
      "Epoch 3/50\n",
      "150/150 [==============================] - 41s 275ms/step - loss: 1.3812 - acc: 0.2950 - auc: 0.5279 - precision: 0.0000e+00 - recall: 0.0000e+00 - f1score: 0.1006 - val_loss: 1.3840 - val_acc: 0.2825 - val_auc: 0.5280 - val_precision: 0.0000e+00 - val_recall: 0.0000e+00 - val_f1score: 0.1004\n",
      "Epoch 4/50\n",
      "150/150 [==============================] - 42s 281ms/step - loss: 1.3817 - acc: 0.2927 - auc: 0.5277 - precision: 0.0000e+00 - recall: 0.0000e+00 - f1score: 0.1006 - val_loss: 1.3839 - val_acc: 0.2825 - val_auc: 0.5277 - val_precision: 0.0000e+00 - val_recall: 0.0000e+00 - val_f1score: 0.1004\n",
      "Epoch 5/50\n",
      "150/150 [==============================] - 42s 278ms/step - loss: 1.3813 - acc: 0.2961 - auc: 0.5277 - precision: 0.0000e+00 - recall: 0.0000e+00 - f1score: 0.1007 - val_loss: 1.3839 - val_acc: 0.2825 - val_auc: 0.5280 - val_precision: 0.0000e+00 - val_recall: 0.0000e+00 - val_f1score: 0.1004\n",
      "Epoch 6/50\n",
      "150/150 [==============================] - 41s 273ms/step - loss: 1.3815 - acc: 0.2927 - auc: 0.5283 - precision: 0.0000e+00 - recall: 0.0000e+00 - f1score: 0.1006 - val_loss: 1.3839 - val_acc: 0.2825 - val_auc: 0.5285 - val_precision: 0.0000e+00 - val_recall: 0.0000e+00 - val_f1score: 0.1004\n",
      "Epoch 7/50\n",
      "150/150 [==============================] - 42s 278ms/step - loss: 1.3815 - acc: 0.2948 - auc: 0.5282 - precision: 0.0000e+00 - recall: 0.0000e+00 - f1score: 0.1006 - val_loss: 1.3839 - val_acc: 0.2825 - val_auc: 0.5284 - val_precision: 0.0000e+00 - val_recall: 0.0000e+00 - val_f1score: 0.1004\n",
      "Epoch 8/50\n",
      "150/150 [==============================] - 42s 280ms/step - loss: 1.3815 - acc: 0.2935 - auc: 0.5285 - precision: 0.0000e+00 - recall: 0.0000e+00 - f1score: 0.1006 - val_loss: 1.3839 - val_acc: 0.2825 - val_auc: 0.5282 - val_precision: 0.0000e+00 - val_recall: 0.0000e+00 - val_f1score: 0.1004\n",
      "Epoch 9/50\n",
      "150/150 [==============================] - 42s 277ms/step - loss: 1.3806 - acc: 0.2967 - auc: 0.5283 - precision: 0.0000e+00 - recall: 0.0000e+00 - f1score: 0.1007 - val_loss: 1.3839 - val_acc: 0.2825 - val_auc: 0.5285 - val_precision: 0.0000e+00 - val_recall: 0.0000e+00 - val_f1score: 0.1005\n",
      "Epoch 10/50\n",
      "150/150 [==============================] - 41s 275ms/step - loss: 1.3820 - acc: 0.2914 - auc: 0.5283 - precision: 0.0000e+00 - recall: 0.0000e+00 - f1score: 0.1006 - val_loss: 1.3837 - val_acc: 0.2825 - val_auc: 0.5283 - val_precision: 0.0000e+00 - val_recall: 0.0000e+00 - val_f1score: 0.1004\n",
      "Epoch 11/50\n",
      "150/150 [==============================] - 42s 278ms/step - loss: 1.3814 - acc: 0.2935 - auc: 0.5283 - precision: 0.0000e+00 - recall: 0.0000e+00 - f1score: 0.1006 - val_loss: 1.3838 - val_acc: 0.2825 - val_auc: 0.5282 - val_precision: 0.0000e+00 - val_recall: 0.0000e+00 - val_f1score: 0.1004\n",
      "Epoch 12/50\n",
      "150/150 [==============================] - 43s 289ms/step - loss: 1.3810 - acc: 0.2952 - auc: 0.5285 - precision: 0.0000e+00 - recall: 0.0000e+00 - f1score: 0.1007 - val_loss: 1.3839 - val_acc: 0.2825 - val_auc: 0.5283 - val_precision: 0.0000e+00 - val_recall: 0.0000e+00 - val_f1score: 0.1004\n",
      "Epoch 13/50\n",
      "150/150 [==============================] - 44s 294ms/step - loss: 1.3813 - acc: 0.2944 - auc: 0.5284 - precision: 0.0000e+00 - recall: 0.0000e+00 - f1score: 0.1006 - val_loss: 1.3839 - val_acc: 0.2825 - val_auc: 0.5284 - val_precision: 0.0000e+00 - val_recall: 0.0000e+00 - val_f1score: 0.1004\n",
      "Epoch 14/50\n",
      " 65/150 [============>.................] - ETA: 4:00 - loss: 1.3814 - acc: 0.2972 - auc: 0.5283 - precision: 0.0000e+00 - recall: 0.0000e+00 - f1score: 0.1007"
     ]
    }
   ],
   "source": [
    "history = additional_model.fit_generator(dgf, \n",
    "            steps_per_epoch=150, \n",
    "            epochs=50, \n",
    "            validation_data=(X_val,y_val), \n",
    "            validation_steps=32, \n",
    "            callbacks=[checkpoint])"
   ]
  },
  {
   "cell_type": "code",
   "execution_count": null,
   "metadata": {},
   "outputs": [],
   "source": [
    "acc = history.history['acc']\n",
    "val_acc = history.history['val_acc']\n",
    "loss = history.history['loss']\n",
    "val_loss = history.history['val_loss']\n",
    " \n",
    "epochs = range(1, len(acc) + 1)\n",
    " \n",
    "plt.plot(epochs, acc, 'bo', label='Training acc')\n",
    "plt.plot(epochs, val_acc, 'r', label='Validation acc')\n",
    "plt.title('Accuracy')\n",
    "plt.legend()\n",
    "plt.figure()\n",
    " \n",
    "plt.plot(epochs, loss, 'bo', label='Training loss')\n",
    "plt.plot(epochs, val_loss, 'r', label='Validation loss')\n",
    "plt.title('Loss')\n",
    "plt.legend()\n",
    " \n",
    "plt.show()"
   ]
  },
  {
   "cell_type": "code",
   "execution_count": null,
   "metadata": {},
   "outputs": [],
   "source": [
    "X_test=np.load('X_test.npy')\n",
    "y_test=np.load('y_test.npy')"
   ]
  },
  {
   "cell_type": "code",
   "execution_count": null,
   "metadata": {},
   "outputs": [],
   "source": [
    "_loss, _acc, _auc, _precision, _recall, _f1score = additional_model.evaluate(X_val, y_val, batch_size=32)\n",
    "print('loss: {:.3f}, accuracy: {:.3f}, auc: {:.3f}, precision: {:.3f}, recall: {:.3f}, f1score: {:.3f}'.format(_loss, _acc, _auc, _precision, _recall, _f1score))"
   ]
  },
  {
   "cell_type": "code",
   "execution_count": null,
   "metadata": {},
   "outputs": [],
   "source": [
    "_loss, _acc, _auc, _precision, _recall, _f1score = additional_model.evaluate(X_test, y_test, batch_size=32)\n",
    "print('loss: {:.3f}, accuracy: {:.3f}, auc: {:.3f}, precision: {:.3f}, recall: {:.3f}, f1score: {:.3f}'.format(_loss, _acc, _auc, _precision, _recall, _f1score))"
   ]
  },
  {
   "cell_type": "code",
   "execution_count": null,
   "metadata": {},
   "outputs": [],
   "source": [
    "additional_model.save('VGG16_transfer learning_3.h5')"
   ]
  }
 ],
 "metadata": {
  "kernelspec": {
   "display_name": "Python 3",
   "language": "python",
   "name": "python3"
  },
  "language_info": {
   "codemirror_mode": {
    "name": "ipython",
    "version": 3
   },
   "file_extension": ".py",
   "mimetype": "text/x-python",
   "name": "python",
   "nbconvert_exporter": "python",
   "pygments_lexer": "ipython3",
   "version": "3.7.7"
  }
 },
 "nbformat": 4,
 "nbformat_minor": 2
}
