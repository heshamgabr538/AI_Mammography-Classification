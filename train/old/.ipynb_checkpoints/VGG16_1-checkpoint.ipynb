{
 "cells": [
  {
   "cell_type": "code",
   "execution_count": 1,
   "metadata": {},
   "outputs": [
    {
     "data": {
      "text/plain": [
       "'C:\\\\Users\\\\Owner2\\\\Desktop\\\\G팔로미_vuno'"
      ]
     },
     "execution_count": 1,
     "metadata": {},
     "output_type": "execute_result"
    }
   ],
   "source": [
    "import os\n",
    "import pandas as pd\n",
    "from matplotlib import pyplot as plt\n",
    "import cv2\n",
    "import numpy as np\n",
    "\n",
    "#data path 수정\n",
    "os.chdir(\"C:\\\\Users\\\\Owner2\\\\Desktop\\\\G팔로미_vuno\")\n",
    "os.getcwd()"
   ]
  },
  {
   "cell_type": "code",
   "execution_count": 2,
   "metadata": {},
   "outputs": [],
   "source": [
    "X=np.load('data_X_with_callback.npy')\n",
    "y=np.load('data_y_with_callback.npy')"
   ]
  },
  {
   "cell_type": "code",
   "execution_count": 3,
   "metadata": {},
   "outputs": [
    {
     "data": {
      "text/plain": [
       "2145"
      ]
     },
     "execution_count": 3,
     "metadata": {},
     "output_type": "execute_result"
    }
   ],
   "source": [
    "len(X)"
   ]
  },
  {
   "cell_type": "code",
   "execution_count": 5,
   "metadata": {},
   "outputs": [],
   "source": [
    "#train, validation set 분리\n",
    "from sklearn.model_selection import train_test_split\n",
    "\n",
    "X_train, X_val, y_train, y_val = train_test_split(X,y,test_size=0.2, random_state=123)"
   ]
  },
  {
   "cell_type": "code",
   "execution_count": 7,
   "metadata": {},
   "outputs": [],
   "source": [
    "from keras.preprocessing.image import ImageDataGenerator\n",
    "\n",
    "datagen = ImageDataGenerator(\n",
    "    #featurewise_center=True, #center 중심 유지\n",
    "    #featurewise_std_normalization=True, #normalization\n",
    "    rotation_range=25.0,\n",
    "    #width_shift_range=0.2,\n",
    "    #height_shift_range=0.2,\n",
    "    #brightness_range=[0.2,1.0],\n",
    "    zoom_range=[0.8,1.2],\n",
    "    horizontal_flip=True) #수평방향 뒤집기\n",
    "\n",
    "datagen.fit(X_train)\n",
    "\n",
    "dgf=datagen.flow(X_train,y_train,batch_size=32)"
   ]
  },
  {
   "cell_type": "code",
   "execution_count": 8,
   "metadata": {},
   "outputs": [
    {
     "name": "stdout",
     "output_type": "stream",
     "text": [
      "Model: \"vgg16\"\n",
      "_________________________________________________________________\n",
      "Layer (type)                 Output Shape              Param #   \n",
      "=================================================================\n",
      "input_1 (InputLayer)         (None, 224, 224, 3)       0         \n",
      "_________________________________________________________________\n",
      "block1_conv1 (Conv2D)        (None, 224, 224, 64)      1792      \n",
      "_________________________________________________________________\n",
      "block1_conv2 (Conv2D)        (None, 224, 224, 64)      36928     \n",
      "_________________________________________________________________\n",
      "block1_pool (MaxPooling2D)   (None, 112, 112, 64)      0         \n",
      "_________________________________________________________________\n",
      "block2_conv1 (Conv2D)        (None, 112, 112, 128)     73856     \n",
      "_________________________________________________________________\n",
      "block2_conv2 (Conv2D)        (None, 112, 112, 128)     147584    \n",
      "_________________________________________________________________\n",
      "block2_pool (MaxPooling2D)   (None, 56, 56, 128)       0         \n",
      "_________________________________________________________________\n",
      "block3_conv1 (Conv2D)        (None, 56, 56, 256)       295168    \n",
      "_________________________________________________________________\n",
      "block3_conv2 (Conv2D)        (None, 56, 56, 256)       590080    \n",
      "_________________________________________________________________\n",
      "block3_conv3 (Conv2D)        (None, 56, 56, 256)       590080    \n",
      "_________________________________________________________________\n",
      "block3_pool (MaxPooling2D)   (None, 28, 28, 256)       0         \n",
      "_________________________________________________________________\n",
      "block4_conv1 (Conv2D)        (None, 28, 28, 512)       1180160   \n",
      "_________________________________________________________________\n",
      "block4_conv2 (Conv2D)        (None, 28, 28, 512)       2359808   \n",
      "_________________________________________________________________\n",
      "block4_conv3 (Conv2D)        (None, 28, 28, 512)       2359808   \n",
      "_________________________________________________________________\n",
      "block4_pool (MaxPooling2D)   (None, 14, 14, 512)       0         \n",
      "_________________________________________________________________\n",
      "block5_conv1 (Conv2D)        (None, 14, 14, 512)       2359808   \n",
      "_________________________________________________________________\n",
      "block5_conv2 (Conv2D)        (None, 14, 14, 512)       2359808   \n",
      "_________________________________________________________________\n",
      "block5_conv3 (Conv2D)        (None, 14, 14, 512)       2359808   \n",
      "_________________________________________________________________\n",
      "block5_pool (MaxPooling2D)   (None, 7, 7, 512)         0         \n",
      "=================================================================\n",
      "Total params: 14,714,688\n",
      "Trainable params: 14,714,688\n",
      "Non-trainable params: 0\n",
      "_________________________________________________________________\n"
     ]
    }
   ],
   "source": [
    "from keras import models, layers\n",
    "from keras import Input\n",
    "from keras.applications import VGG16\n",
    "from keras.models import Model, load_model\n",
    "from keras.preprocessing.image import ImageDataGenerator\n",
    "from keras import optimizers, initializers, regularizers, metrics\n",
    "from keras.callbacks import ModelCheckpoint, EarlyStopping\n",
    "from keras.layers import BatchNormalization, Conv2D, Activation, Dense, GlobalAveragePooling2D, MaxPooling2D, ZeroPadding2D, Add\n",
    "\n",
    "model = VGG16(weights=None, include_top=False, input_shape=(224, 224, 3))\n",
    "model.trainable = True\n",
    "model.summary()"
   ]
  },
  {
   "cell_type": "code",
   "execution_count": 9,
   "metadata": {},
   "outputs": [
    {
     "name": "stdout",
     "output_type": "stream",
     "text": [
      "Model: \"sequential_1\"\n",
      "_________________________________________________________________\n",
      "Layer (type)                 Output Shape              Param #   \n",
      "=================================================================\n",
      "vgg16 (Model)                (None, 7, 7, 512)         14714688  \n",
      "_________________________________________________________________\n",
      "dropout_1 (Dropout)          (None, 7, 7, 512)         0         \n",
      "_________________________________________________________________\n",
      "flatten_1 (Flatten)          (None, 25088)             0         \n",
      "_________________________________________________________________\n",
      "dense_1 (Dense)              (None, 2048)              51382272  \n",
      "_________________________________________________________________\n",
      "dense_2 (Dense)              (None, 1024)              2098176   \n",
      "_________________________________________________________________\n",
      "dense_3 (Dense)              (None, 4)                 4100      \n",
      "=================================================================\n",
      "Total params: 68,199,236\n",
      "Trainable params: 68,199,236\n",
      "Non-trainable params: 0\n",
      "_________________________________________________________________\n"
     ]
    }
   ],
   "source": [
    "#customizing my layers\n",
    "additional_model = models.Sequential()\n",
    "additional_model.add(model)\n",
    "additional_model.add(layers.Dropout(0.3))\n",
    "additional_model.add(layers.Flatten())\n",
    "additional_model.add(layers.Dense(2048, activation='relu'))\n",
    "additional_model.add(layers.Dense(1024, activation='relu'))\n",
    "additional_model.add(layers.Dense(4, activation='softmax'))\n",
    "\n",
    "additional_model.summary()"
   ]
  },
  {
   "cell_type": "code",
   "execution_count": 10,
   "metadata": {},
   "outputs": [],
   "source": [
    "def f1score(precision, recall):\n",
    "    _f1score = ( 2 * recall * precision) / (recall + precision)\n",
    "    \n",
    "    # return a single tensor value\n",
    "    return _f1score"
   ]
  },
  {
   "cell_type": "code",
   "execution_count": 11,
   "metadata": {},
   "outputs": [],
   "source": [
    "# checkpoint = ModelCheckpoint(filepath='My_VGG_{epoch:03d}_{val_loss:.7f}.hdf5',monitor='loss', mode='min', save_best_only=True)\n",
    "checkpoint = ModelCheckpoint(filepath='VGG16_1.hdf5', \n",
    "            monitor='val_loss', \n",
    "            mode='min', \n",
    "            save_best_only=True)"
   ]
  },
  {
   "cell_type": "code",
   "execution_count": 12,
   "metadata": {},
   "outputs": [],
   "source": [
    "import tensorflow as tf\n",
    "\n",
    "additional_model.compile(loss='categorical_crossentropy', \n",
    "              optimizer=optimizers.Adam(lr=1e-5),\n",
    "              metrics=['acc',tf.keras.metrics.AUC(),\n",
    "                      tf.keras.metrics.Precision(),\n",
    "                      tf.keras.metrics.Recall(),f1score])"
   ]
  },
  {
   "cell_type": "code",
   "execution_count": 13,
   "metadata": {},
   "outputs": [],
   "source": [
    "class_weight = {0: 0.8,\n",
    "                1: 1,\n",
    "                2: 1,\n",
    "                3: 1}"
   ]
  },
  {
   "cell_type": "code",
   "execution_count": 14,
   "metadata": {},
   "outputs": [
    {
     "name": "stdout",
     "output_type": "stream",
     "text": [
      "Epoch 1/100\n",
      "54/53 [==============================] - 21s 386ms/step - loss: 1.2338 - acc: 0.3328 - auc: 0.5318 - precision: 0.0000e+00 - recall: 0.0000e+00 - f1score: 0.1004 - val_loss: 1.3703 - val_acc: 0.3893 - val_auc: 0.5716 - val_precision: 0.0000e+00 - val_recall: 0.0000e+00 - val_f1score: 0.1014\n",
      "Epoch 2/100\n",
      "54/53 [==============================] - 14s 254ms/step - loss: 1.1839 - acc: 0.4073 - auc: 0.5948 - precision: 0.1550 - recall: 0.0016 - f1score: 0.1074 - val_loss: 1.2295 - val_acc: 0.4569 - val_auc: 0.6173 - val_precision: 0.5678 - val_recall: 0.0103 - val_f1score: 0.1163\n",
      "Epoch 3/100\n",
      "54/53 [==============================] - 15s 274ms/step - loss: 1.0786 - acc: 0.4598 - auc: 0.6437 - precision: 0.5616 - recall: 0.0253 - f1score: 0.1219 - val_loss: 1.1489 - val_acc: 0.4895 - val_auc: 0.6653 - val_precision: 0.5875 - val_recall: 0.0454 - val_f1score: 0.1259\n",
      "Epoch 4/100\n",
      "54/53 [==============================] - 15s 271ms/step - loss: 1.0449 - acc: 0.4784 - auc: 0.6802 - precision: 0.6095 - recall: 0.0657 - f1score: 0.1277 - val_loss: 1.1417 - val_acc: 0.4895 - val_auc: 0.6914 - val_precision: 0.6189 - val_recall: 0.0830 - val_f1score: 0.1267\n",
      "Epoch 5/100\n",
      "54/53 [==============================] - 15s 270ms/step - loss: 1.0141 - acc: 0.4866 - auc: 0.7020 - precision: 0.6235 - recall: 0.0992 - f1score: 0.1308 - val_loss: 1.1359 - val_acc: 0.4895 - val_auc: 0.7091 - val_precision: 0.6255 - val_recall: 0.1128 - val_f1score: 0.1286\n",
      "Epoch 6/100\n",
      "54/53 [==============================] - 14s 267ms/step - loss: 1.0042 - acc: 0.4779 - auc: 0.7162 - precision: 0.6286 - recall: 0.1239 - f1score: 0.1325 - val_loss: 1.1349 - val_acc: 0.4545 - val_auc: 0.7210 - val_precision: 0.6331 - val_recall: 0.1312 - val_f1score: 0.1291\n",
      "Epoch 7/100\n",
      "54/53 [==============================] - 14s 268ms/step - loss: 0.9937 - acc: 0.4918 - auc: 0.7262 - precision: 0.6346 - recall: 0.1394 - f1score: 0.1336 - val_loss: 1.2527 - val_acc: 0.4103 - val_auc: 0.7286 - val_precision: 0.6335 - val_recall: 0.1466 - val_f1score: 0.1219\n",
      "Epoch 8/100\n",
      "54/53 [==============================] - 15s 278ms/step - loss: 0.9805 - acc: 0.5087 - auc: 0.7319 - precision: 0.6319 - recall: 0.1533 - f1score: 0.1355 - val_loss: 1.1245 - val_acc: 0.5012 - val_auc: 0.7357 - val_precision: 0.6323 - val_recall: 0.1609 - val_f1score: 0.1334\n",
      "Epoch 9/100\n",
      "54/53 [==============================] - 14s 266ms/step - loss: 0.9686 - acc: 0.5117 - auc: 0.7392 - precision: 0.6316 - recall: 0.1673 - f1score: 0.1371 - val_loss: 1.1162 - val_acc: 0.4942 - val_auc: 0.7424 - val_precision: 0.6317 - val_recall: 0.1737 - val_f1score: 0.1353\n",
      "Epoch 10/100\n",
      "54/53 [==============================] - 14s 266ms/step - loss: 0.9556 - acc: 0.5000 - auc: 0.7455 - precision: 0.6309 - recall: 0.1803 - f1score: 0.1379 - val_loss: 1.1534 - val_acc: 0.4406 - val_auc: 0.7476 - val_precision: 0.6275 - val_recall: 0.1849 - val_f1score: 0.1316\n",
      "Epoch 11/100\n",
      "54/53 [==============================] - 15s 278ms/step - loss: 0.9463 - acc: 0.5268 - auc: 0.7498 - precision: 0.6286 - recall: 0.1892 - f1score: 0.1396 - val_loss: 1.1125 - val_acc: 0.5082 - val_auc: 0.7525 - val_precision: 0.6321 - val_recall: 0.1949 - val_f1score: 0.1366\n",
      "Epoch 12/100\n",
      "54/53 [==============================] - 14s 267ms/step - loss: 0.9380 - acc: 0.5321 - auc: 0.7552 - precision: 0.6333 - recall: 0.2011 - f1score: 0.1416 - val_loss: 1.0945 - val_acc: 0.5058 - val_auc: 0.7570 - val_precision: 0.6341 - val_recall: 0.2059 - val_f1score: 0.1336\n",
      "Epoch 13/100\n",
      "54/53 [==============================] - 14s 267ms/step - loss: 0.9371 - acc: 0.5239 - auc: 0.7596 - precision: 0.6360 - recall: 0.2107 - f1score: 0.1408 - val_loss: 1.0959 - val_acc: 0.4802 - val_auc: 0.7609 - val_precision: 0.6361 - val_recall: 0.2133 - val_f1score: 0.1336\n",
      "Epoch 14/100\n",
      "54/53 [==============================] - 15s 277ms/step - loss: 0.9226 - acc: 0.5227 - auc: 0.7627 - precision: 0.6371 - recall: 0.2158 - f1score: 0.1422 - val_loss: 1.1381 - val_acc: 0.4755 - val_auc: 0.7644 - val_precision: 0.6369 - val_recall: 0.2196 - val_f1score: 0.1338\n",
      "Epoch 15/100\n",
      "54/53 [==============================] - 15s 278ms/step - loss: 0.9107 - acc: 0.5321 - auc: 0.7661 - precision: 0.6372 - recall: 0.2230 - f1score: 0.1436 - val_loss: 1.0931 - val_acc: 0.5152 - val_auc: 0.7675 - val_precision: 0.6377 - val_recall: 0.2265 - val_f1score: 0.1379\n",
      "Epoch 16/100\n",
      "54/53 [==============================] - 14s 266ms/step - loss: 0.9025 - acc: 0.5478 - auc: 0.7693 - precision: 0.6387 - recall: 0.2303 - f1score: 0.1448 - val_loss: 1.0817 - val_acc: 0.4918 - val_auc: 0.7706 - val_precision: 0.6388 - val_recall: 0.2332 - val_f1score: 0.1375\n",
      "Epoch 17/100\n",
      "54/53 [==============================] - 14s 265ms/step - loss: 0.8883 - acc: 0.5420 - auc: 0.7724 - precision: 0.6403 - recall: 0.2367 - f1score: 0.1462 - val_loss: 1.0824 - val_acc: 0.5245 - val_auc: 0.7738 - val_precision: 0.6414 - val_recall: 0.2404 - val_f1score: 0.1403\n",
      "Epoch 18/100\n",
      "54/53 [==============================] - 15s 276ms/step - loss: 0.8852 - acc: 0.5414 - auc: 0.7753 - precision: 0.6418 - recall: 0.2441 - f1score: 0.1471 - val_loss: 1.0818 - val_acc: 0.5082 - val_auc: 0.7766 - val_precision: 0.6423 - val_recall: 0.2480 - val_f1score: 0.1396\n",
      "Epoch 19/100\n",
      "54/53 [==============================] - 15s 277ms/step - loss: 0.8676 - acc: 0.5490 - auc: 0.7780 - precision: 0.6429 - recall: 0.2511 - f1score: 0.1483 - val_loss: 1.1012 - val_acc: 0.5152 - val_auc: 0.7793 - val_precision: 0.6435 - val_recall: 0.2546 - val_f1score: 0.1401\n",
      "Epoch 20/100\n",
      "54/53 [==============================] - 15s 278ms/step - loss: 0.8673 - acc: 0.5775 - auc: 0.7808 - precision: 0.6439 - recall: 0.2580 - f1score: 0.1496 - val_loss: 1.1062 - val_acc: 0.4918 - val_auc: 0.7820 - val_precision: 0.6441 - val_recall: 0.2610 - val_f1score: 0.1392\n",
      "Epoch 21/100\n",
      "54/53 [==============================] - 15s 277ms/step - loss: 0.8648 - acc: 0.5594 - auc: 0.7832 - precision: 0.6448 - recall: 0.2636 - f1score: 0.1495 - val_loss: 1.1015 - val_acc: 0.4848 - val_auc: 0.7843 - val_precision: 0.6446 - val_recall: 0.2661 - val_f1score: 0.1395\n",
      "Epoch 22/100\n",
      "54/53 [==============================] - 15s 277ms/step - loss: 0.8550 - acc: 0.5542 - auc: 0.7856 - precision: 0.6453 - recall: 0.2688 - f1score: 0.1498 - val_loss: 1.1180 - val_acc: 0.4709 - val_auc: 0.7865 - val_precision: 0.6445 - val_recall: 0.2708 - val_f1score: 0.1391\n",
      "Epoch 23/100\n",
      "54/53 [==============================] - 15s 278ms/step - loss: 0.8532 - acc: 0.5775 - auc: 0.7876 - precision: 0.6457 - recall: 0.2736 - f1score: 0.1510 - val_loss: 1.1179 - val_acc: 0.5058 - val_auc: 0.7887 - val_precision: 0.6464 - val_recall: 0.2764 - val_f1score: 0.1420\n",
      "Epoch 24/100\n",
      "54/53 [==============================] - 15s 277ms/step - loss: 0.8545 - acc: 0.5769 - auc: 0.7897 - precision: 0.6474 - recall: 0.2789 - f1score: 0.1510 - val_loss: 1.1032 - val_acc: 0.4825 - val_auc: 0.7905 - val_precision: 0.6477 - val_recall: 0.2811 - val_f1score: 0.1402\n",
      "Epoch 25/100\n",
      "54/53 [==============================] - 15s 278ms/step - loss: 0.8355 - acc: 0.5822 - auc: 0.7916 - precision: 0.6476 - recall: 0.2834 - f1score: 0.1526 - val_loss: 1.0858 - val_acc: 0.5128 - val_auc: 0.7926 - val_precision: 0.6478 - val_recall: 0.2857 - val_f1score: 0.1412\n",
      "Epoch 26/100\n",
      "54/53 [==============================] - 15s 276ms/step - loss: 0.8393 - acc: 0.5699 - auc: 0.7936 - precision: 0.6486 - recall: 0.2881 - f1score: 0.1528 - val_loss: 1.1167 - val_acc: 0.4685 - val_auc: 0.7943 - val_precision: 0.6485 - val_recall: 0.2903 - val_f1score: 0.1365\n",
      "Epoch 27/100\n",
      "54/53 [==============================] - 15s 277ms/step - loss: 0.8251 - acc: 0.5833 - auc: 0.7952 - precision: 0.6493 - recall: 0.2921 - f1score: 0.1535 - val_loss: 1.1336 - val_acc: 0.4639 - val_auc: 0.7960 - val_precision: 0.6492 - val_recall: 0.2941 - val_f1score: 0.1367\n",
      "Epoch 28/100\n",
      "54/53 [==============================] - 15s 277ms/step - loss: 0.8159 - acc: 0.5833 - auc: 0.7969 - precision: 0.6490 - recall: 0.2960 - f1score: 0.1552 - val_loss: 1.1091 - val_acc: 0.4988 - val_auc: 0.7978 - val_precision: 0.6492 - val_recall: 0.2983 - val_f1score: 0.1404\n",
      "Epoch 29/100\n",
      "54/53 [==============================] - 15s 276ms/step - loss: 0.8093 - acc: 0.6031 - auc: 0.7989 - precision: 0.6501 - recall: 0.3008 - f1score: 0.1563 - val_loss: 1.1071 - val_acc: 0.4895 - val_auc: 0.7996 - val_precision: 0.6503 - val_recall: 0.3029 - val_f1score: 0.1390\n",
      "Epoch 30/100\n",
      "54/53 [==============================] - 15s 277ms/step - loss: 0.8034 - acc: 0.5862 - auc: 0.8006 - precision: 0.6508 - recall: 0.3051 - f1score: 0.1562 - val_loss: 1.1560 - val_acc: 0.4639 - val_auc: 0.8012 - val_precision: 0.6510 - val_recall: 0.3068 - val_f1score: 0.1358\n",
      "Epoch 31/100\n",
      "54/53 [==============================] - 15s 277ms/step - loss: 0.8028 - acc: 0.6020 - auc: 0.8020 - precision: 0.6513 - recall: 0.3085 - f1score: 0.1563 - val_loss: 1.1556 - val_acc: 0.4685 - val_auc: 0.8027 - val_precision: 0.6516 - val_recall: 0.3105 - val_f1score: 0.1386\n",
      "Epoch 32/100\n",
      "54/53 [==============================] - 15s 282ms/step - loss: 0.7948 - acc: 0.5979 - auc: 0.8035 - precision: 0.6519 - recall: 0.3126 - f1score: 0.1574 - val_loss: 1.1233 - val_acc: 0.4825 - val_auc: 0.8042 - val_precision: 0.6515 - val_recall: 0.3145 - val_f1score: 0.1411\n",
      "Epoch 33/100\n",
      "54/53 [==============================] - 15s 278ms/step - loss: 0.7915 - acc: 0.6218 - auc: 0.8051 - precision: 0.6522 - recall: 0.3167 - f1score: 0.1586 - val_loss: 1.1084 - val_acc: 0.4779 - val_auc: 0.8057 - val_precision: 0.6527 - val_recall: 0.3183 - val_f1score: 0.1393\n",
      "Epoch 34/100\n",
      "54/53 [==============================] - 15s 284ms/step - loss: 0.7857 - acc: 0.6230 - auc: 0.8066 - precision: 0.6534 - recall: 0.3202 - f1score: 0.1580 - val_loss: 1.1459 - val_acc: 0.4825 - val_auc: 0.8072 - val_precision: 0.6536 - val_recall: 0.3217 - val_f1score: 0.1383\n",
      "Epoch 35/100\n",
      "54/53 [==============================] - 15s 279ms/step - loss: 0.7825 - acc: 0.6107 - auc: 0.8079 - precision: 0.6542 - recall: 0.3236 - f1score: 0.1591 - val_loss: 1.1815 - val_acc: 0.4942 - val_auc: 0.8085 - val_precision: 0.6540 - val_recall: 0.3253 - val_f1score: 0.1388\n",
      "Epoch 36/100\n",
      "54/53 [==============================] - 15s 283ms/step - loss: 0.7922 - acc: 0.6136 - auc: 0.8092 - precision: 0.6544 - recall: 0.3272 - f1score: 0.1586 - val_loss: 1.0844 - val_acc: 0.5082 - val_auc: 0.8098 - val_precision: 0.6552 - val_recall: 0.3287 - val_f1score: 0.1414\n",
      "Epoch 37/100\n",
      "54/53 [==============================] - 15s 278ms/step - loss: 0.7684 - acc: 0.6171 - auc: 0.8105 - precision: 0.6557 - recall: 0.3302 - f1score: 0.1604 - val_loss: 1.1301 - val_acc: 0.5035 - val_auc: 0.8112 - val_precision: 0.6559 - val_recall: 0.3321 - val_f1score: 0.1415\n",
      "Epoch 38/100\n",
      "54/53 [==============================] - 15s 283ms/step - loss: 0.7616 - acc: 0.6241 - auc: 0.8119 - precision: 0.6564 - recall: 0.3337 - f1score: 0.1610 - val_loss: 1.1372 - val_acc: 0.5221 - val_auc: 0.8126 - val_precision: 0.6569 - val_recall: 0.3356 - val_f1score: 0.1443\n",
      "Epoch 39/100\n",
      "54/53 [==============================] - 15s 279ms/step - loss: 0.7808 - acc: 0.6078 - auc: 0.8133 - precision: 0.6574 - recall: 0.3377 - f1score: 0.1597 - val_loss: 1.0865 - val_acc: 0.5128 - val_auc: 0.8138 - val_precision: 0.6577 - val_recall: 0.3389 - val_f1score: 0.1424\n",
      "Epoch 40/100\n",
      "54/53 [==============================] - 15s 282ms/step - loss: 0.7564 - acc: 0.6399 - auc: 0.8145 - precision: 0.6586 - recall: 0.3407 - f1score: 0.1624 - val_loss: 1.1615 - val_acc: 0.5012 - val_auc: 0.8151 - val_precision: 0.6590 - val_recall: 0.3424 - val_f1score: 0.1417\n",
      "Epoch 41/100\n",
      "54/53 [==============================] - 15s 278ms/step - loss: 0.7474 - acc: 0.6334 - auc: 0.8158 - precision: 0.6596 - recall: 0.3441 - f1score: 0.1631 - val_loss: 1.1205 - val_acc: 0.5128 - val_auc: 0.8164 - val_precision: 0.6599 - val_recall: 0.3459 - val_f1score: 0.1446\n",
      "Epoch 42/100\n",
      "54/53 [==============================] - 15s 283ms/step - loss: 0.7607 - acc: 0.6195 - auc: 0.8171 - precision: 0.6606 - recall: 0.3477 - f1score: 0.1618 - val_loss: 1.1745 - val_acc: 0.5058 - val_auc: 0.8175 - val_precision: 0.6607 - val_recall: 0.3490 - val_f1score: 0.1393\n",
      "Epoch 43/100\n",
      "54/53 [==============================] - 15s 279ms/step - loss: 0.7453 - acc: 0.6177 - auc: 0.8181 - precision: 0.6611 - recall: 0.3504 - f1score: 0.1631 - val_loss: 1.1102 - val_acc: 0.5431 - val_auc: 0.8186 - val_precision: 0.6613 - val_recall: 0.3520 - val_f1score: 0.1455\n",
      "Epoch 44/100\n",
      "54/53 [==============================] - 15s 284ms/step - loss: 0.7217 - acc: 0.6439 - auc: 0.8193 - precision: 0.6622 - recall: 0.3537 - f1score: 0.1659 - val_loss: 1.3073 - val_acc: 0.4615 - val_auc: 0.8199 - val_precision: 0.6621 - val_recall: 0.3553 - val_f1score: 0.1378\n",
      "Epoch 45/100\n",
      "54/53 [==============================] - 15s 278ms/step - loss: 0.7377 - acc: 0.6276 - auc: 0.8204 - precision: 0.6624 - recall: 0.3568 - f1score: 0.1642 - val_loss: 1.2011 - val_acc: 0.5035 - val_auc: 0.8209 - val_precision: 0.6626 - val_recall: 0.3581 - val_f1score: 0.1407\n",
      "Epoch 46/100\n",
      "54/53 [==============================] - 15s 282ms/step - loss: 0.7270 - acc: 0.6300 - auc: 0.8215 - precision: 0.6631 - recall: 0.3598 - f1score: 0.1657 - val_loss: 1.1675 - val_acc: 0.5012 - val_auc: 0.8219 - val_precision: 0.6635 - val_recall: 0.3615 - val_f1score: 0.1416\n",
      "Epoch 47/100\n",
      "54/53 [==============================] - 15s 279ms/step - loss: 0.7222 - acc: 0.6486 - auc: 0.8226 - precision: 0.6640 - recall: 0.3630 - f1score: 0.1657 - val_loss: 1.2407 - val_acc: 0.4732 - val_auc: 0.8230 - val_precision: 0.6643 - val_recall: 0.3644 - val_f1score: 0.1404\n",
      "Epoch 48/100\n",
      "54/53 [==============================] - 15s 281ms/step - loss: 0.7142 - acc: 0.6527 - auc: 0.8236 - precision: 0.6646 - recall: 0.3659 - f1score: 0.1671 - val_loss: 1.3258 - val_acc: 0.4918 - val_auc: 0.8241 - val_precision: 0.6647 - val_recall: 0.3675 - val_f1score: 0.1393\n",
      "Epoch 49/100\n",
      "54/53 [==============================] - 15s 278ms/step - loss: 0.6891 - acc: 0.6556 - auc: 0.8246 - precision: 0.6650 - recall: 0.3691 - f1score: 0.1690 - val_loss: 1.2731 - val_acc: 0.4825 - val_auc: 0.8252 - val_precision: 0.6651 - val_recall: 0.3706 - val_f1score: 0.1410\n",
      "Epoch 50/100\n",
      "54/53 [==============================] - 15s 282ms/step - loss: 0.6873 - acc: 0.6667 - auc: 0.8257 - precision: 0.6655 - recall: 0.3724 - f1score: 0.1699 - val_loss: 1.2003 - val_acc: 0.4942 - val_auc: 0.8263 - val_precision: 0.6659 - val_recall: 0.3739 - val_f1score: 0.1428\n",
      "Epoch 51/100\n",
      "54/53 [==============================] - 15s 277ms/step - loss: 0.6854 - acc: 0.6690 - auc: 0.8269 - precision: 0.6664 - recall: 0.3756 - f1score: 0.1709 - val_loss: 1.1628 - val_acc: 0.5198 - val_auc: 0.8275 - val_precision: 0.6668 - val_recall: 0.3772 - val_f1score: 0.1448\n",
      "Epoch 52/100\n",
      "54/53 [==============================] - 15s 281ms/step - loss: 0.6878 - acc: 0.6614 - auc: 0.8281 - precision: 0.6676 - recall: 0.3790 - f1score: 0.1701 - val_loss: 1.2664 - val_acc: 0.4872 - val_auc: 0.8285 - val_precision: 0.6678 - val_recall: 0.3802 - val_f1score: 0.1391\n",
      "Epoch 53/100\n",
      "54/53 [==============================] - 15s 279ms/step - loss: 0.6761 - acc: 0.6632 - auc: 0.8291 - precision: 0.6683 - recall: 0.3818 - f1score: 0.1713 - val_loss: 1.2866 - val_acc: 0.5035 - val_auc: 0.8295 - val_precision: 0.6688 - val_recall: 0.3833 - val_f1score: 0.1415\n",
      "Epoch 54/100\n",
      "54/53 [==============================] - 15s 282ms/step - loss: 0.6762 - acc: 0.6620 - auc: 0.8301 - precision: 0.6692 - recall: 0.3848 - f1score: 0.1714 - val_loss: 1.2270 - val_acc: 0.5105 - val_auc: 0.8305 - val_precision: 0.6694 - val_recall: 0.3861 - val_f1score: 0.1408\n",
      "Epoch 55/100\n",
      "54/53 [==============================] - 15s 280ms/step - loss: 0.6679 - acc: 0.6853 - auc: 0.8311 - precision: 0.6702 - recall: 0.3877 - f1score: 0.1728 - val_loss: 1.2635 - val_acc: 0.5105 - val_auc: 0.8316 - val_precision: 0.6709 - val_recall: 0.3893 - val_f1score: 0.1438\n",
      "Epoch 56/100\n",
      "54/53 [==============================] - 15s 282ms/step - loss: 0.6509 - acc: 0.6807 - auc: 0.8322 - precision: 0.6714 - recall: 0.3910 - f1score: 0.1736 - val_loss: 1.2440 - val_acc: 0.5035 - val_auc: 0.8327 - val_precision: 0.6717 - val_recall: 0.3925 - val_f1score: 0.1428\n",
      "Epoch 57/100\n"
     ]
    },
    {
     "name": "stdout",
     "output_type": "stream",
     "text": [
      "54/53 [==============================] - 15s 278ms/step - loss: 0.6641 - acc: 0.6789 - auc: 0.8332 - precision: 0.6721 - recall: 0.3940 - f1score: 0.1730 - val_loss: 1.3069 - val_acc: 0.4895 - val_auc: 0.8337 - val_precision: 0.6725 - val_recall: 0.3954 - val_f1score: 0.1412\n",
      "Epoch 58/100\n",
      "54/53 [==============================] - 15s 280ms/step - loss: 0.6354 - acc: 0.6952 - auc: 0.8342 - precision: 0.6729 - recall: 0.3969 - f1score: 0.1763 - val_loss: 1.2764 - val_acc: 0.5152 - val_auc: 0.8347 - val_precision: 0.6734 - val_recall: 0.3984 - val_f1score: 0.1424\n",
      "Epoch 59/100\n",
      "54/53 [==============================] - 15s 279ms/step - loss: 0.6546 - acc: 0.6900 - auc: 0.8353 - precision: 0.6740 - recall: 0.4000 - f1score: 0.1748 - val_loss: 1.3349 - val_acc: 0.4942 - val_auc: 0.8357 - val_precision: 0.6742 - val_recall: 0.4013 - val_f1score: 0.1390\n",
      "Epoch 60/100\n",
      "54/53 [==============================] - 15s 282ms/step - loss: 0.6258 - acc: 0.7051 - auc: 0.8362 - precision: 0.6749 - recall: 0.4029 - f1score: 0.1771 - val_loss: 1.3106 - val_acc: 0.5175 - val_auc: 0.8367 - val_precision: 0.6753 - val_recall: 0.4044 - val_f1score: 0.1420\n",
      "Epoch 61/100\n",
      "54/53 [==============================] - 15s 278ms/step - loss: 0.6419 - acc: 0.7016 - auc: 0.8373 - precision: 0.6760 - recall: 0.4060 - f1score: 0.1767 - val_loss: 1.2053 - val_acc: 0.5128 - val_auc: 0.8377 - val_precision: 0.6763 - val_recall: 0.4072 - val_f1score: 0.1412\n",
      "Epoch 62/100\n",
      "54/53 [==============================] - 15s 282ms/step - loss: 0.6206 - acc: 0.7115 - auc: 0.8383 - precision: 0.6771 - recall: 0.4086 - f1score: 0.1780 - val_loss: 1.5160 - val_acc: 0.4522 - val_auc: 0.8387 - val_precision: 0.6773 - val_recall: 0.4099 - val_f1score: 0.1317\n",
      "Epoch 63/100\n",
      "54/53 [==============================] - 15s 278ms/step - loss: 0.6264 - acc: 0.6993 - auc: 0.8391 - precision: 0.6778 - recall: 0.4113 - f1score: 0.1773 - val_loss: 1.3332 - val_acc: 0.4709 - val_auc: 0.8395 - val_precision: 0.6780 - val_recall: 0.4125 - val_f1score: 0.1394\n",
      "Epoch 64/100\n",
      "54/53 [==============================] - 15s 282ms/step - loss: 0.5990 - acc: 0.7174 - auc: 0.8401 - precision: 0.6785 - recall: 0.4138 - f1score: 0.1798 - val_loss: 1.3388 - val_acc: 0.5152 - val_auc: 0.8405 - val_precision: 0.6790 - val_recall: 0.4153 - val_f1score: 0.1420\n",
      "Epoch 65/100\n",
      "54/53 [==============================] - 15s 279ms/step - loss: 0.5898 - acc: 0.7226 - auc: 0.8411 - precision: 0.6796 - recall: 0.4167 - f1score: 0.1816 - val_loss: 1.5647 - val_acc: 0.4872 - val_auc: 0.8415 - val_precision: 0.6801 - val_recall: 0.4182 - val_f1score: 0.1376\n",
      "Epoch 66/100\n",
      "54/53 [==============================] - 15s 282ms/step - loss: 0.5859 - acc: 0.7244 - auc: 0.8420 - precision: 0.6808 - recall: 0.4198 - f1score: 0.1823 - val_loss: 1.4148 - val_acc: 0.4848 - val_auc: 0.8425 - val_precision: 0.6811 - val_recall: 0.4211 - val_f1score: 0.1404\n",
      "Epoch 67/100\n",
      "54/53 [==============================] - 15s 278ms/step - loss: 0.5917 - acc: 0.7214 - auc: 0.8430 - precision: 0.6817 - recall: 0.4226 - f1score: 0.1819 - val_loss: 1.4063 - val_acc: 0.5035 - val_auc: 0.8434 - val_precision: 0.6821 - val_recall: 0.4240 - val_f1score: 0.1419\n",
      "Epoch 68/100\n",
      "54/53 [==============================] - 15s 282ms/step - loss: 0.5729 - acc: 0.7302 - auc: 0.8440 - precision: 0.6826 - recall: 0.4253 - f1score: 0.1839 - val_loss: 1.3802 - val_acc: 0.5082 - val_auc: 0.8445 - val_precision: 0.6831 - val_recall: 0.4267 - val_f1score: 0.1433\n",
      "Epoch 69/100\n",
      "54/53 [==============================] - 15s 278ms/step - loss: 0.5533 - acc: 0.7383 - auc: 0.8450 - precision: 0.6837 - recall: 0.4283 - f1score: 0.1855 - val_loss: 1.5337 - val_acc: 0.5198 - val_auc: 0.8455 - val_precision: 0.6842 - val_recall: 0.4297 - val_f1score: 0.1411\n",
      "Epoch 70/100\n",
      "54/53 [==============================] - 15s 283ms/step - loss: 0.5714 - acc: 0.7360 - auc: 0.8460 - precision: 0.6847 - recall: 0.4312 - f1score: 0.1839 - val_loss: 1.4435 - val_acc: 0.5268 - val_auc: 0.8464 - val_precision: 0.6852 - val_recall: 0.4325 - val_f1score: 0.1448\n",
      "Epoch 71/100\n",
      "54/53 [==============================] - 15s 278ms/step - loss: 0.5441 - acc: 0.7500 - auc: 0.8470 - precision: 0.6860 - recall: 0.4342 - f1score: 0.1875 - val_loss: 1.4881 - val_acc: 0.4942 - val_auc: 0.8475 - val_precision: 0.6864 - val_recall: 0.4355 - val_f1score: 0.1423\n",
      "Epoch 72/100\n",
      "54/53 [==============================] - 15s 283ms/step - loss: 0.5401 - acc: 0.7570 - auc: 0.8480 - precision: 0.6870 - recall: 0.4370 - f1score: 0.1878 - val_loss: 1.3688 - val_acc: 0.5105 - val_auc: 0.8485 - val_precision: 0.6876 - val_recall: 0.4383 - val_f1score: 0.1421\n",
      "Epoch 73/100\n",
      "54/53 [==============================] - 15s 279ms/step - loss: 0.5546 - acc: 0.7430 - auc: 0.8490 - precision: 0.6883 - recall: 0.4398 - f1score: 0.1867 - val_loss: 1.6288 - val_acc: 0.4895 - val_auc: 0.8494 - val_precision: 0.6885 - val_recall: 0.4409 - val_f1score: 0.1369\n",
      "Epoch 74/100\n",
      "54/53 [==============================] - 15s 282ms/step - loss: 0.5454 - acc: 0.7459 - auc: 0.8498 - precision: 0.6891 - recall: 0.4422 - f1score: 0.1859 - val_loss: 1.5139 - val_acc: 0.5198 - val_auc: 0.8503 - val_precision: 0.6896 - val_recall: 0.4435 - val_f1score: 0.1432\n",
      "Epoch 75/100\n",
      "54/53 [==============================] - 15s 278ms/step - loss: 0.5015 - acc: 0.7675 - auc: 0.8508 - precision: 0.6902 - recall: 0.4451 - f1score: 0.1918 - val_loss: 1.8299 - val_acc: 0.5035 - val_auc: 0.8512 - val_precision: 0.6907 - val_recall: 0.4464 - val_f1score: 0.1379\n",
      "Epoch 76/100\n",
      "54/53 [==============================] - 15s 283ms/step - loss: 0.5390 - acc: 0.7471 - auc: 0.8517 - precision: 0.6913 - recall: 0.4478 - f1score: 0.1880 - val_loss: 1.5907 - val_acc: 0.4848 - val_auc: 0.8521 - val_precision: 0.6917 - val_recall: 0.4490 - val_f1score: 0.1402\n",
      "Epoch 77/100\n",
      "54/53 [==============================] - 15s 279ms/step - loss: 0.5300 - acc: 0.7564 - auc: 0.8525 - precision: 0.6921 - recall: 0.4503 - f1score: 0.1888 - val_loss: 1.5534 - val_acc: 0.5128 - val_auc: 0.8529 - val_precision: 0.6926 - val_recall: 0.4515 - val_f1score: 0.1420\n",
      "Epoch 78/100\n",
      "54/53 [==============================] - 16s 296ms/step - loss: 0.5224 - acc: 0.7564 - auc: 0.8534 - precision: 0.6931 - recall: 0.4529 - f1score: 0.1900 - val_loss: 1.6034 - val_acc: 0.4709 - val_auc: 0.8538 - val_precision: 0.6934 - val_recall: 0.4541 - val_f1score: 0.1388\n",
      "Epoch 79/100\n",
      "54/53 [==============================] - 14s 265ms/step - loss: 0.5248 - acc: 0.7611 - auc: 0.8543 - precision: 0.6939 - recall: 0.4554 - f1score: 0.1901 - val_loss: 1.5460 - val_acc: 0.4942 - val_auc: 0.8547 - val_precision: 0.6943 - val_recall: 0.4567 - val_f1score: 0.1406\n",
      "Epoch 80/100\n",
      "54/53 [==============================] - 15s 281ms/step - loss: 0.5069 - acc: 0.7622 - auc: 0.8551 - precision: 0.6949 - recall: 0.4581 - f1score: 0.1914 - val_loss: 1.5918 - val_acc: 0.4965 - val_auc: 0.8555 - val_precision: 0.6953 - val_recall: 0.4593 - val_f1score: 0.1395\n",
      "Epoch 81/100\n",
      "54/53 [==============================] - 15s 278ms/step - loss: 0.4837 - acc: 0.7745 - auc: 0.8560 - precision: 0.6959 - recall: 0.4607 - f1score: 0.1942 - val_loss: 1.6671 - val_acc: 0.5105 - val_auc: 0.8564 - val_precision: 0.6964 - val_recall: 0.4620 - val_f1score: 0.1411\n",
      "Epoch 82/100\n",
      "54/53 [==============================] - 15s 282ms/step - loss: 0.4783 - acc: 0.7885 - auc: 0.8569 - precision: 0.6971 - recall: 0.4634 - f1score: 0.1958 - val_loss: 1.8317 - val_acc: 0.4872 - val_auc: 0.8573 - val_precision: 0.6976 - val_recall: 0.4647 - val_f1score: 0.1363\n",
      "Epoch 83/100\n",
      "54/53 [==============================] - 15s 278ms/step - loss: 0.4883 - acc: 0.7751 - auc: 0.8578 - precision: 0.6982 - recall: 0.4660 - f1score: 0.1935 - val_loss: 1.5195 - val_acc: 0.5128 - val_auc: 0.8582 - val_precision: 0.6986 - val_recall: 0.4671 - val_f1score: 0.1422\n",
      "Epoch 84/100\n",
      "54/53 [==============================] - 15s 282ms/step - loss: 0.4809 - acc: 0.7844 - auc: 0.8587 - precision: 0.6992 - recall: 0.4684 - f1score: 0.1949 - val_loss: 1.6713 - val_acc: 0.4918 - val_auc: 0.8590 - val_precision: 0.6997 - val_recall: 0.4696 - val_f1score: 0.1379\n",
      "Epoch 85/100\n",
      "54/53 [==============================] - 15s 278ms/step - loss: 0.4571 - acc: 0.8024 - auc: 0.8595 - precision: 0.7004 - recall: 0.4710 - f1score: 0.1976 - val_loss: 1.4944 - val_acc: 0.5501 - val_auc: 0.8600 - val_precision: 0.7009 - val_recall: 0.4722 - val_f1score: 0.1456\n",
      "Epoch 86/100\n",
      "54/53 [==============================] - 15s 282ms/step - loss: 0.4627 - acc: 0.7960 - auc: 0.8605 - precision: 0.7016 - recall: 0.4737 - f1score: 0.1980 - val_loss: 1.7464 - val_acc: 0.5198 - val_auc: 0.8609 - val_precision: 0.7022 - val_recall: 0.4750 - val_f1score: 0.1392\n",
      "Epoch 87/100\n",
      "54/53 [==============================] - 15s 278ms/step - loss: 0.4579 - acc: 0.7832 - auc: 0.8613 - precision: 0.7027 - recall: 0.4763 - f1score: 0.1967 - val_loss: 1.7281 - val_acc: 0.4988 - val_auc: 0.8617 - val_precision: 0.7031 - val_recall: 0.4774 - val_f1score: 0.1409\n",
      "Epoch 88/100\n",
      "54/53 [==============================] - 15s 281ms/step - loss: 0.4507 - acc: 0.7955 - auc: 0.8622 - precision: 0.7037 - recall: 0.4787 - f1score: 0.1987 - val_loss: 1.5258 - val_acc: 0.5198 - val_auc: 0.8626 - val_precision: 0.7042 - val_recall: 0.4799 - val_f1score: 0.1398\n",
      "Epoch 89/100\n",
      "54/53 [==============================] - 15s 278ms/step - loss: 0.4813 - acc: 0.7786 - auc: 0.8630 - precision: 0.7047 - recall: 0.4810 - f1score: 0.1945 - val_loss: 1.6249 - val_acc: 0.5128 - val_auc: 0.8633 - val_precision: 0.7051 - val_recall: 0.4821 - val_f1score: 0.1428\n",
      "Epoch 90/100\n",
      "54/53 [==============================] - 15s 282ms/step - loss: 0.4330 - acc: 0.8048 - auc: 0.8638 - precision: 0.7058 - recall: 0.4834 - f1score: nan - val_loss: 1.9588 - val_acc: 0.4965 - val_auc: 0.8642 - val_precision: 0.7062 - val_recall: 0.4847 - val_f1score: nan\n",
      "Epoch 91/100\n",
      "54/53 [==============================] - 15s 278ms/step - loss: 0.4268 - acc: 0.8071 - auc: 0.8646 - precision: 0.7068 - recall: 0.4860 - f1score: nan - val_loss: 1.7850 - val_acc: 0.5291 - val_auc: 0.8650 - val_precision: 0.7072 - val_recall: 0.4871 - val_f1score: 0.1416\n",
      "Epoch 92/100\n",
      "54/53 [==============================] - 15s 281ms/step - loss: 0.4254 - acc: 0.8071 - auc: 0.8655 - precision: 0.7078 - recall: 0.4884 - f1score: nan - val_loss: 1.7600 - val_acc: 0.4918 - val_auc: 0.8658 - val_precision: 0.7082 - val_recall: 0.4895 - val_f1score: 0.1379\n",
      "Epoch 93/100\n",
      "54/53 [==============================] - 15s 278ms/step - loss: 0.4157 - acc: 0.8164 - auc: 0.8663 - precision: 0.7088 - recall: 0.4907 - f1score: nan - val_loss: 1.8784 - val_acc: 0.5198 - val_auc: 0.8666 - val_precision: 0.7092 - val_recall: 0.4919 - val_f1score: nan\n",
      "Epoch 94/100\n",
      "54/53 [==============================] - 15s 282ms/step - loss: 0.4418 - acc: 0.7949 - auc: 0.8670 - precision: 0.7097 - recall: 0.4931 - f1score: 0.1992 - val_loss: 1.8582 - val_acc: 0.5105 - val_auc: 0.8673 - val_precision: 0.7101 - val_recall: 0.4941 - val_f1score: nan\n",
      "Epoch 95/100\n",
      "54/53 [==============================] - 15s 278ms/step - loss: 0.4326 - acc: 0.7920 - auc: 0.8677 - precision: 0.7105 - recall: 0.4952 - f1score: nan - val_loss: 1.6727 - val_acc: 0.5105 - val_auc: 0.8681 - val_precision: 0.7109 - val_recall: 0.4963 - val_f1score: 0.1432\n",
      "Epoch 96/100\n",
      "54/53 [==============================] - 15s 283ms/step - loss: 0.4143 - acc: 0.8118 - auc: 0.8685 - precision: 0.7115 - recall: 0.4975 - f1score: 0.2022 - val_loss: 1.7549 - val_acc: 0.5245 - val_auc: 0.8689 - val_precision: 0.7119 - val_recall: 0.4986 - val_f1score: nan\n",
      "Epoch 97/100\n",
      "54/53 [==============================] - 15s 278ms/step - loss: 0.4128 - acc: 0.8129 - auc: 0.8693 - precision: 0.7125 - recall: 0.4997 - f1score: nan - val_loss: 1.8622 - val_acc: 0.5361 - val_auc: 0.8696 - val_precision: 0.7129 - val_recall: 0.5008 - val_f1score: nan\n",
      "Epoch 98/100\n",
      "54/53 [==============================] - 15s 281ms/step - loss: 0.4088 - acc: 0.8223 - auc: 0.8701 - precision: 0.7136 - recall: 0.5021 - f1score: nan - val_loss: 1.8369 - val_acc: 0.5082 - val_auc: 0.8704 - val_precision: 0.7140 - val_recall: 0.5032 - val_f1score: 0.1403\n",
      "Epoch 99/100\n",
      "54/53 [==============================] - 15s 278ms/step - loss: 0.3992 - acc: 0.8164 - auc: 0.8708 - precision: 0.7146 - recall: 0.5043 - f1score: nan - val_loss: 1.7558 - val_acc: 0.5431 - val_auc: 0.8712 - val_precision: 0.7151 - val_recall: 0.5054 - val_f1score: nan\n",
      "Epoch 100/100\n",
      "54/53 [==============================] - 15s 282ms/step - loss: 0.3777 - acc: 0.8351 - auc: 0.8716 - precision: 0.7157 - recall: 0.5067 - f1score: nan - val_loss: 1.8887 - val_acc: 0.5361 - val_auc: 0.8720 - val_precision: 0.7163 - val_recall: 0.5079 - val_f1score: nan\n"
     ]
    }
   ],
   "source": [
    "history = additional_model.fit_generator(dgf, \n",
    "            steps_per_epoch=len(X_train)/32, \n",
    "            epochs=100, \n",
    "            validation_data=(X_val,y_val), \n",
    "            validation_steps=len(X_val)/32, \n",
    "            callbacks=[checkpoint],\n",
    "            class_weight=class_weight)"
   ]
  },
  {
   "cell_type": "code",
   "execution_count": 15,
   "metadata": {},
   "outputs": [
    {
     "data": {
      "image/png": "[encoded data removed]",
      "text/plain": [
       "<Figure size 432x288 with 1 Axes>"
      ]
     },
     "metadata": {
      "needs_background": "light"
     },
     "output_type": "display_data"
    },
    {
     "data": {
      "image/png": "[encoded data removed]",
      "text/plain": [
       "<Figure size 432x288 with 1 Axes>"
      ]
     },
     "metadata": {
      "needs_background": "light"
     },
     "output_type": "display_data"
    }
   ],
   "source": [
    "acc = history.history['acc']\n",
    "val_acc = history.history['val_acc']\n",
    "loss = history.history['loss']\n",
    "val_loss = history.history['val_loss']\n",
    " \n",
    "epochs = range(1, len(acc) + 1)\n",
    " \n",
    "plt.plot(epochs, acc, 'bo', label='Training acc')\n",
    "plt.plot(epochs, val_acc, 'r', label='Validation acc')\n",
    "plt.title('Accuracy')\n",
    "plt.legend()\n",
    "plt.figure()\n",
    " \n",
    "plt.plot(epochs, loss, 'bo', label='Training loss')\n",
    "plt.plot(epochs, val_loss, 'r', label='Validation loss')\n",
    "plt.title('Loss')\n",
    "plt.legend()\n",
    " \n",
    "plt.show()"
   ]
  },
  {
   "cell_type": "code",
   "execution_count": 13,
   "metadata": {},
   "outputs": [],
   "source": [
    "X_test=np.load('X_test.npy')\n",
    "y_test=np.load('y_test.npy')"
   ]
  },
  {
   "cell_type": "code",
   "execution_count": 23,
   "metadata": {},
   "outputs": [
    {
     "name": "stdout",
     "output_type": "stream",
     "text": [
      "429/429 [==============================] - 1s 3ms/step\n",
      "loss: 1.889, accuracy: 0.536, auc: 0.872, precision: 0.716, recall: 0.508, f1score: nan\n"
     ]
    }
   ],
   "source": [
    "_loss, _acc, _auc, _precision, _recall, _f1score = additional_model.evaluate(X_val, y_val, batch_size=32)\n",
    "print('loss: {:.3f}, accuracy: {:.3f}, auc: {:.3f}, precision: {:.3f}, recall: {:.3f}, f1score: {:.3f}'.format(_loss, _acc, _auc, _precision, _recall, _f1score))"
   ]
  },
  {
   "cell_type": "code",
   "execution_count": 20,
   "metadata": {},
   "outputs": [],
   "source": [
    "from keras.models import Model, load_model\n",
    "\n",
    "new_model = models.load_model('VGG16_1.hdf5',compile=False)\n",
    "\n",
    "\n",
    "new_model.compile(loss='categorical_crossentropy', \n",
    "              optimizer=optimizers.Adam(lr=1e-5),\n",
    "              metrics=['acc',tf.keras.metrics.AUC(),\n",
    "                      tf.keras.metrics.Precision(),\n",
    "                      tf.keras.metrics.Recall(),f1score])"
   ]
  },
  {
   "cell_type": "code",
   "execution_count": 18,
   "metadata": {},
   "outputs": [
    {
     "name": "stdout",
     "output_type": "stream",
     "text": [
      "429/429 [==============================] - 1s 3ms/step\n",
      "loss: 1.082, accuracy: 0.492, auc: 0.770, precision: 0.591, recall: 0.283, f1score: 0.138\n"
     ]
    }
   ],
   "source": [
    "_loss, _acc, _auc, _precision, _recall, _f1score = new_model.evaluate(X_val, y_val, batch_size=32)\n",
    "print('loss: {:.3f}, accuracy: {:.3f}, auc: {:.3f}, precision: {:.3f}, recall: {:.3f}, f1score: {:.3f}'.format(_loss, _acc, _auc, _precision, _recall, _f1score))"
   ]
  },
  {
   "cell_type": "code",
   "execution_count": 19,
   "metadata": {},
   "outputs": [],
   "source": [
    "additional_model.save('VGG16_1.h5')"
   ]
  },
  {
   "cell_type": "code",
   "execution_count": null,
   "metadata": {},
   "outputs": [],
   "source": []
  }
 ],
 "metadata": {
  "kernelspec": {
   "display_name": "Python 3",
   "language": "python",
   "name": "python3"
  },
  "language_info": {
   "codemirror_mode": {
    "name": "ipython",
    "version": 3
   },
   "file_extension": ".py",
   "mimetype": "text/x-python",
   "name": "python",
   "nbconvert_exporter": "python",
   "pygments_lexer": "ipython3",
   "version": "3.7.7"
  }
 },
 "nbformat": 4,
 "nbformat_minor": 2
}
