{
 "cells": [
  {
   "cell_type": "code",
   "execution_count": 2,
   "metadata": {},
   "outputs": [
    {
     "data": {
      "text/plain": [
       "'C:\\\\Users\\\\Owner2\\\\Desktop\\\\G팔로미_vuno'"
      ]
     },
     "execution_count": 2,
     "metadata": {},
     "output_type": "execute_result"
    }
   ],
   "source": [
    "import os\n",
    "import pandas as pd\n",
    "from matplotlib import pyplot as plt\n",
    "import cv2\n",
    "import numpy as np\n",
    "\n",
    "#data path 수정\n",
    "os.chdir(\"C:\\\\Users\\\\Owner2\\\\Desktop\\\\G팔로미_vuno\")\n",
    "os.getcwd()"
   ]
  },
  {
   "cell_type": "code",
   "execution_count": 3,
   "metadata": {},
   "outputs": [],
   "source": [
    "X=np.load('data_X_with_callback.npy')\n",
    "y=np.load('data_y_with_callback.npy')"
   ]
  },
  {
   "cell_type": "code",
   "execution_count": 4,
   "metadata": {},
   "outputs": [],
   "source": [
    "#train, validation set 분리\n",
    "from sklearn.model_selection import train_test_split\n",
    "\n",
    "X_train, X_val, y_train, y_val = train_test_split(X,y,test_size=0.2)"
   ]
  },
  {
   "cell_type": "code",
   "execution_count": 5,
   "metadata": {},
   "outputs": [
    {
     "name": "stderr",
     "output_type": "stream",
     "text": [
      "Using TensorFlow backend.\n"
     ]
    }
   ],
   "source": [
    "from keras.preprocessing.image import ImageDataGenerator\n",
    "\n",
    "datagen = ImageDataGenerator(\n",
    "    #featurewise_center=True, #center 중심 유지\n",
    "    #featurewise_std_normalization=True, #normalization\n",
    "    rotation_range=25.0,\n",
    "    #width_shift_range=0.2,\n",
    "    #height_shift_range=0.2,\n",
    "    #brightness_range=[0.2,1.0],\n",
    "    zoom_range=[0.8,1.2],\n",
    "    horizontal_flip=True) #수평방향 뒤집기\n",
    "\n",
    "datagen.fit(X_train)\n",
    "\n",
    "dgf=datagen.flow(X_train,y_train,batch_size=32)"
   ]
  },
  {
   "cell_type": "code",
   "execution_count": 6,
   "metadata": {},
   "outputs": [
    {
     "name": "stdout",
     "output_type": "stream",
     "text": [
      "Model: \"vgg16\"\n",
      "_________________________________________________________________\n",
      "Layer (type)                 Output Shape              Param #   \n",
      "=================================================================\n",
      "input_1 (InputLayer)         (None, 224, 224, 3)       0         \n",
      "_________________________________________________________________\n",
      "block1_conv1 (Conv2D)        (None, 224, 224, 64)      1792      \n",
      "_________________________________________________________________\n",
      "block1_conv2 (Conv2D)        (None, 224, 224, 64)      36928     \n",
      "_________________________________________________________________\n",
      "block1_pool (MaxPooling2D)   (None, 112, 112, 64)      0         \n",
      "_________________________________________________________________\n",
      "block2_conv1 (Conv2D)        (None, 112, 112, 128)     73856     \n",
      "_________________________________________________________________\n",
      "block2_conv2 (Conv2D)        (None, 112, 112, 128)     147584    \n",
      "_________________________________________________________________\n",
      "block2_pool (MaxPooling2D)   (None, 56, 56, 128)       0         \n",
      "_________________________________________________________________\n",
      "block3_conv1 (Conv2D)        (None, 56, 56, 256)       295168    \n",
      "_________________________________________________________________\n",
      "block3_conv2 (Conv2D)        (None, 56, 56, 256)       590080    \n",
      "_________________________________________________________________\n",
      "block3_conv3 (Conv2D)        (None, 56, 56, 256)       590080    \n",
      "_________________________________________________________________\n",
      "block3_pool (MaxPooling2D)   (None, 28, 28, 256)       0         \n",
      "_________________________________________________________________\n",
      "block4_conv1 (Conv2D)        (None, 28, 28, 512)       1180160   \n",
      "_________________________________________________________________\n",
      "block4_conv2 (Conv2D)        (None, 28, 28, 512)       2359808   \n",
      "_________________________________________________________________\n",
      "block4_conv3 (Conv2D)        (None, 28, 28, 512)       2359808   \n",
      "_________________________________________________________________\n",
      "block4_pool (MaxPooling2D)   (None, 14, 14, 512)       0         \n",
      "_________________________________________________________________\n",
      "block5_conv1 (Conv2D)        (None, 14, 14, 512)       2359808   \n",
      "_________________________________________________________________\n",
      "block5_conv2 (Conv2D)        (None, 14, 14, 512)       2359808   \n",
      "_________________________________________________________________\n",
      "block5_conv3 (Conv2D)        (None, 14, 14, 512)       2359808   \n",
      "_________________________________________________________________\n",
      "block5_pool (MaxPooling2D)   (None, 7, 7, 512)         0         \n",
      "=================================================================\n",
      "Total params: 14,714,688\n",
      "Trainable params: 0\n",
      "Non-trainable params: 14,714,688\n",
      "_________________________________________________________________\n"
     ]
    }
   ],
   "source": [
    "from keras import models, layers\n",
    "from keras import Input\n",
    "from keras.applications import VGG16\n",
    "from keras.models import Model, load_model\n",
    "from keras.preprocessing.image import ImageDataGenerator\n",
    "from keras import optimizers, initializers, regularizers, metrics\n",
    "from keras.callbacks import ModelCheckpoint, EarlyStopping\n",
    "from keras.layers import BatchNormalization, Conv2D, Activation, Dense, GlobalAveragePooling2D, MaxPooling2D, ZeroPadding2D, Add\n",
    "\n",
    "model = VGG16(weights='imagenet', include_top=False, input_shape=(224, 224, 3))\n",
    "model.trainable = False\n",
    "model.summary()"
   ]
  },
  {
   "cell_type": "code",
   "execution_count": 7,
   "metadata": {},
   "outputs": [
    {
     "name": "stdout",
     "output_type": "stream",
     "text": [
      "Model: \"model_1\"\n",
      "_________________________________________________________________\n",
      "Layer (type)                 Output Shape              Param #   \n",
      "=================================================================\n",
      "input_1 (InputLayer)         (None, 224, 224, 3)       0         \n",
      "_________________________________________________________________\n",
      "block1_conv1 (Conv2D)        (None, 224, 224, 64)      1792      \n",
      "_________________________________________________________________\n",
      "block1_conv2 (Conv2D)        (None, 224, 224, 64)      36928     \n",
      "_________________________________________________________________\n",
      "block1_pool (MaxPooling2D)   (None, 112, 112, 64)      0         \n",
      "_________________________________________________________________\n",
      "block2_conv1 (Conv2D)        (None, 112, 112, 128)     73856     \n",
      "_________________________________________________________________\n",
      "block2_conv2 (Conv2D)        (None, 112, 112, 128)     147584    \n",
      "_________________________________________________________________\n",
      "block2_pool (MaxPooling2D)   (None, 56, 56, 128)       0         \n",
      "_________________________________________________________________\n",
      "block3_conv1 (Conv2D)        (None, 56, 56, 256)       295168    \n",
      "_________________________________________________________________\n",
      "block3_conv2 (Conv2D)        (None, 56, 56, 256)       590080    \n",
      "_________________________________________________________________\n",
      "block3_conv3 (Conv2D)        (None, 56, 56, 256)       590080    \n",
      "_________________________________________________________________\n",
      "block3_pool (MaxPooling2D)   (None, 28, 28, 256)       0         \n",
      "_________________________________________________________________\n",
      "block4_conv1 (Conv2D)        (None, 28, 28, 512)       1180160   \n",
      "_________________________________________________________________\n",
      "block4_conv2 (Conv2D)        (None, 28, 28, 512)       2359808   \n",
      "_________________________________________________________________\n",
      "block4_conv3 (Conv2D)        (None, 28, 28, 512)       2359808   \n",
      "_________________________________________________________________\n",
      "block4_pool (MaxPooling2D)   (None, 14, 14, 512)       0         \n",
      "_________________________________________________________________\n",
      "block5_conv1 (Conv2D)        (None, 14, 14, 512)       2359808   \n",
      "_________________________________________________________________\n",
      "block5_conv2 (Conv2D)        (None, 14, 14, 512)       2359808   \n",
      "_________________________________________________________________\n",
      "block5_conv3 (Conv2D)        (None, 14, 14, 512)       2359808   \n",
      "_________________________________________________________________\n",
      "block5_pool (MaxPooling2D)   (None, 7, 7, 512)         0         \n",
      "_________________________________________________________________\n",
      "flatten_1 (Flatten)          (None, 25088)             0         \n",
      "_________________________________________________________________\n",
      "dense_1 (Dense)              (None, 4096)              102764544 \n",
      "_________________________________________________________________\n",
      "batch_normalization_1 (Batch (None, 4096)              16384     \n",
      "_________________________________________________________________\n",
      "dense_2 (Dense)              (None, 4)                 16388     \n",
      "=================================================================\n",
      "Total params: 117,512,004\n",
      "Trainable params: 102,789,124\n",
      "Non-trainable params: 14,722,880\n",
      "_________________________________________________________________\n"
     ]
    }
   ],
   "source": [
    "for layer in model.layers:\n",
    "    layer.trainable=False\n",
    "\n",
    "x=model.output\n",
    "x=layers.Flatten()(x)\n",
    "x=Dense(4096, activation='relu')(x)\n",
    "x=layers.BatchNormalization()(x)\n",
    "outputs=Dense(4, activation='softmax')(x)\n",
    "\n",
    "additional_model=Model(inputs=model.input, outputs=outputs)\n",
    "\n",
    "additional_model.summary()"
   ]
  },
  {
   "cell_type": "code",
   "execution_count": 8,
   "metadata": {},
   "outputs": [],
   "source": [
    "def f1score(precision, recall):\n",
    "    _f1score = ( 2 * recall * precision) / (recall + precision)\n",
    "    \n",
    "    # return a single tensor value\n",
    "    return _f1score"
   ]
  },
  {
   "cell_type": "code",
   "execution_count": 9,
   "metadata": {},
   "outputs": [],
   "source": [
    "# checkpoint = ModelCheckpoint(filepath='My_VGG_{epoch:03d}_{val_loss:.7f}.hdf5',monitor='loss', mode='min', save_best_only=True)\n",
    "checkpoint = ModelCheckpoint(filepath='VGG16_fine_tuning.hdf5', \n",
    "            monitor='val_acc', \n",
    "            mode='max', \n",
    "            save_best_only=True)"
   ]
  },
  {
   "cell_type": "code",
   "execution_count": 10,
   "metadata": {},
   "outputs": [],
   "source": [
    "import tensorflow as tf\n",
    "\n",
    "additional_model.compile(loss='categorical_crossentropy', \n",
    "              optimizer=optimizers.Adam(lr=1e-4),\n",
    "              metrics=['acc',tf.keras.metrics.AUC(),\n",
    "                      tf.keras.metrics.Precision(),\n",
    "                      tf.keras.metrics.Recall(),f1score])"
   ]
  },
  {
   "cell_type": "code",
   "execution_count": 11,
   "metadata": {},
   "outputs": [],
   "source": [
    "class_weight = {0: 0.8,\n",
    "                1: 1,\n",
    "                2: 1,\n",
    "                3: 1}"
   ]
  },
  {
   "cell_type": "code",
   "execution_count": 12,
   "metadata": {},
   "outputs": [
    {
     "name": "stdout",
     "output_type": "stream",
     "text": [
      "Epoch 1/5\n",
      "54/53 [==============================] - 18s 325ms/step - loss: 2.0654 - acc: 0.4767 - auc: 0.6973 - precision: 0.4509 - recall: 0.4127 - f1score: 0.1314 - val_loss: 2.5013 - val_acc: 0.2611 - val_auc: 0.7244 - val_precision: 0.4628 - val_recall: 0.4364 - val_f1score: 0.0865\n",
      "Epoch 2/5\n",
      "54/53 [==============================] - 14s 253ms/step - loss: 1.3567 - acc: 0.5524 - auc: 0.7380 - precision: 0.4775 - recall: 0.4488 - f1score: 0.1492 - val_loss: 1.4955 - val_acc: 0.4196 - val_auc: 0.7507 - val_precision: 0.4965 - val_recall: 0.4593 - val_f1score: 0.1233\n",
      "Epoch 3/5\n",
      "54/53 [==============================] - 14s 263ms/step - loss: 1.0474 - acc: 0.5956 - auc: 0.7625 - precision: 0.5147 - recall: 0.4723 - f1score: 0.1589 - val_loss: 1.6859 - val_acc: 0.4382 - val_auc: 0.7703 - val_precision: 0.5293 - val_recall: 0.4829 - val_f1score: 0.1212\n",
      "Epoch 4/5\n",
      "54/53 [==============================] - 14s 264ms/step - loss: 0.9052 - acc: 0.6253 - auc: 0.7782 - precision: 0.5429 - recall: 0.4931 - f1score: 0.1657 - val_loss: 1.1854 - val_acc: 0.5012 - val_auc: 0.7870 - val_precision: 0.5546 - val_recall: 0.4998 - val_f1score: 0.1430\n",
      "Epoch 5/5\n",
      "54/53 [==============================] - 14s 266ms/step - loss: 0.8555 - acc: 0.6603 - auc: 0.7948 - precision: 0.5660 - recall: 0.5089 - f1score: 0.1702 - val_loss: 1.8843 - val_acc: 0.4382 - val_auc: 0.7993 - val_precision: 0.5740 - val_recall: 0.5157 - val_f1score: 0.1232\n"
     ]
    }
   ],
   "source": [
    "history = additional_model.fit_generator(dgf, \n",
    "            steps_per_epoch=len(X_train)/32, \n",
    "            epochs=5, \n",
    "            validation_data=(X_val,y_val), \n",
    "            validation_steps=len(X_val)/32, \n",
    "            callbacks=[checkpoint],\n",
    "            class_weight=class_weight)"
   ]
  },
  {
   "cell_type": "code",
   "execution_count": 15,
   "metadata": {},
   "outputs": [],
   "source": [
    "for layer in additional_model.layers[:11]:\n",
    "    layer.trainable=False\n",
    "\n",
    "for layer in additional_model.layers[11:]:\n",
    "    layer.trainable=True"
   ]
  },
  {
   "cell_type": "code",
   "execution_count": 16,
   "metadata": {},
   "outputs": [
    {
     "name": "stdout",
     "output_type": "stream",
     "text": [
      "<keras.engine.input_layer.InputLayer object at 0x000001CD00F18188> False\n",
      "<keras.layers.convolutional.Conv2D object at 0x000001CD00F145C8> False\n",
      "<keras.layers.convolutional.Conv2D object at 0x000001CD00F14F88> False\n",
      "<keras.layers.pooling.MaxPooling2D object at 0x000001CD00F7B408> False\n",
      "<keras.layers.convolutional.Conv2D object at 0x000001CD00F7BC08> False\n",
      "<keras.layers.convolutional.Conv2D object at 0x000001CD00FC8708> False\n",
      "<keras.layers.pooling.MaxPooling2D object at 0x000001CD00FC8388> False\n",
      "<keras.layers.convolutional.Conv2D object at 0x000001CD00FCD508> False\n",
      "<keras.layers.convolutional.Conv2D object at 0x000001CD00FD1C08> False\n",
      "<keras.layers.convolutional.Conv2D object at 0x000001CD00FD9148> False\n",
      "<keras.layers.pooling.MaxPooling2D object at 0x000001CD00FE3D48> False\n",
      "<keras.layers.convolutional.Conv2D object at 0x000001CD00FE35C8> True\n",
      "<keras.layers.convolutional.Conv2D object at 0x000001CD00FEC048> True\n",
      "<keras.layers.convolutional.Conv2D object at 0x000001CD00FF6608> True\n",
      "<keras.layers.pooling.MaxPooling2D object at 0x000001CD00FFB908> True\n",
      "<keras.layers.convolutional.Conv2D object at 0x000001CD00FFB8C8> True\n",
      "<keras.layers.convolutional.Conv2D object at 0x000001CD01077708> True\n",
      "<keras.layers.convolutional.Conv2D object at 0x000001CD0107DE88> True\n",
      "<keras.layers.pooling.MaxPooling2D object at 0x000001CD01087A48> True\n",
      "<keras.layers.core.Flatten object at 0x000001CD010A0608> True\n",
      "<keras.layers.core.Dense object at 0x000001CD010A05C8> True\n",
      "<keras.layers.normalization.BatchNormalization object at 0x000001CD010A0988> True\n",
      "<keras.layers.core.Dense object at 0x000001CD071DECC8> True\n",
      "Model: \"model_1\"\n",
      "_________________________________________________________________\n",
      "Layer (type)                 Output Shape              Param #   \n",
      "=================================================================\n",
      "input_1 (InputLayer)         (None, 224, 224, 3)       0         \n",
      "_________________________________________________________________\n",
      "block1_conv1 (Conv2D)        (None, 224, 224, 64)      1792      \n",
      "_________________________________________________________________\n",
      "block1_conv2 (Conv2D)        (None, 224, 224, 64)      36928     \n",
      "_________________________________________________________________\n",
      "block1_pool (MaxPooling2D)   (None, 112, 112, 64)      0         \n",
      "_________________________________________________________________\n",
      "block2_conv1 (Conv2D)        (None, 112, 112, 128)     73856     \n",
      "_________________________________________________________________\n",
      "block2_conv2 (Conv2D)        (None, 112, 112, 128)     147584    \n",
      "_________________________________________________________________\n",
      "block2_pool (MaxPooling2D)   (None, 56, 56, 128)       0         \n",
      "_________________________________________________________________\n",
      "block3_conv1 (Conv2D)        (None, 56, 56, 256)       295168    \n",
      "_________________________________________________________________\n",
      "block3_conv2 (Conv2D)        (None, 56, 56, 256)       590080    \n",
      "_________________________________________________________________\n",
      "block3_conv3 (Conv2D)        (None, 56, 56, 256)       590080    \n",
      "_________________________________________________________________\n",
      "block3_pool (MaxPooling2D)   (None, 28, 28, 256)       0         \n",
      "_________________________________________________________________\n",
      "block4_conv1 (Conv2D)        (None, 28, 28, 512)       1180160   \n",
      "_________________________________________________________________\n",
      "block4_conv2 (Conv2D)        (None, 28, 28, 512)       2359808   \n",
      "_________________________________________________________________\n",
      "block4_conv3 (Conv2D)        (None, 28, 28, 512)       2359808   \n",
      "_________________________________________________________________\n",
      "block4_pool (MaxPooling2D)   (None, 14, 14, 512)       0         \n",
      "_________________________________________________________________\n",
      "block5_conv1 (Conv2D)        (None, 14, 14, 512)       2359808   \n",
      "_________________________________________________________________\n",
      "block5_conv2 (Conv2D)        (None, 14, 14, 512)       2359808   \n",
      "_________________________________________________________________\n",
      "block5_conv3 (Conv2D)        (None, 14, 14, 512)       2359808   \n",
      "_________________________________________________________________\n",
      "block5_pool (MaxPooling2D)   (None, 7, 7, 512)         0         \n",
      "_________________________________________________________________\n",
      "flatten_1 (Flatten)          (None, 25088)             0         \n",
      "_________________________________________________________________\n",
      "dense_1 (Dense)              (None, 4096)              102764544 \n",
      "_________________________________________________________________\n",
      "batch_normalization_1 (Batch (None, 4096)              16384     \n",
      "_________________________________________________________________\n",
      "dense_2 (Dense)              (None, 4)                 16388     \n",
      "=================================================================\n",
      "Total params: 104,532,804\n",
      "Trainable params: 102,789,124\n",
      "Non-trainable params: 1,743,680\n",
      "_________________________________________________________________\n"
     ]
    }
   ],
   "source": [
    "for layer in additional_model.layers:\n",
    "    print(layer, layer.trainable)\n",
    "    \n",
    "additional_model.summary()"
   ]
  },
  {
   "cell_type": "code",
   "execution_count": 17,
   "metadata": {},
   "outputs": [],
   "source": [
    "import tensorflow as tf\n",
    "\n",
    "additional_model.compile(loss='categorical_crossentropy', \n",
    "              optimizer=optimizers.Adam(lr=1e-5),\n",
    "              metrics=['acc',tf.keras.metrics.AUC(),\n",
    "                      tf.keras.metrics.Precision(),\n",
    "                      tf.keras.metrics.Recall(),f1score])"
   ]
  },
  {
   "cell_type": "code",
   "execution_count": 18,
   "metadata": {},
   "outputs": [
    {
     "name": "stdout",
     "output_type": "stream",
     "text": [
      "Epoch 1/10\n",
      "54/53 [==============================] - 16s 303ms/step - loss: 0.7809 - acc: 0.6533 - auc_1: 0.8882 - precision_1: 0.7157 - recall_1: 0.6044 - f1score: 0.1702 - val_loss: 1.1534 - val_acc: 0.5455 - val_auc_1: 0.8756 - val_precision_1: 0.6841 - val_recall_1: 0.5822 - val_f1score: 0.1479\n",
      "Epoch 2/10\n",
      "54/53 [==============================] - 14s 258ms/step - loss: 0.6722 - acc: 0.7080 - auc_1: 0.8808 - precision_1: 0.6932 - recall_1: 0.5925 - f1score: 0.1787 - val_loss: 1.2522 - val_acc: 0.5291 - val_auc_1: 0.8832 - val_precision_1: 0.6964 - val_recall_1: 0.6018 - val_f1score: 0.1490\n",
      "Epoch 3/10\n",
      "54/53 [==============================] - 15s 279ms/step - loss: 0.6333 - acc: 0.7051 - auc_1: 0.8869 - precision_1: 0.7022 - recall_1: 0.6056 - f1score: 0.1808 - val_loss: 1.0802 - val_acc: 0.5594 - val_auc_1: 0.8889 - val_precision_1: 0.7041 - val_recall_1: 0.6066 - val_f1score: 0.1563\n",
      "Epoch 4/10\n",
      "54/53 [==============================] - 14s 261ms/step - loss: 0.6253 - acc: 0.7174 - auc_1: 0.8913 - precision_1: 0.7089 - recall_1: 0.6115 - f1score: 0.1816 - val_loss: 1.0027 - val_acc: 0.5828 - val_auc_1: 0.8932 - val_precision_1: 0.7116 - val_recall_1: 0.6135 - val_f1score: 0.1598\n",
      "Epoch 5/10\n",
      "54/53 [==============================] - 15s 274ms/step - loss: 0.5885 - acc: 0.7290 - auc_1: 0.8955 - precision_1: 0.7160 - recall_1: 0.6173 - f1score: 0.1850 - val_loss: 1.2250 - val_acc: 0.5781 - val_auc_1: 0.8968 - val_precision_1: 0.7184 - val_recall_1: 0.6205 - val_f1score: 0.1527\n",
      "Epoch 6/10\n",
      "54/53 [==============================] - 14s 267ms/step - loss: 0.5877 - acc: 0.7343 - auc_1: 0.8985 - precision_1: 0.7212 - recall_1: 0.6250 - f1score: 0.1861 - val_loss: 0.9688 - val_acc: 0.5828 - val_auc_1: 0.8996 - val_precision_1: 0.7224 - val_recall_1: 0.6266 - val_f1score: 0.1606\n",
      "Epoch 7/10\n",
      "54/53 [==============================] - 15s 280ms/step - loss: 0.5556 - acc: 0.7582 - auc_1: 0.9019 - precision_1: 0.7265 - recall_1: 0.6310 - f1score: 0.1895 - val_loss: 1.0164 - val_acc: 0.6177 - val_auc_1: 0.9029 - val_precision_1: 0.7292 - val_recall_1: 0.6337 - val_f1score: 0.1613\n",
      "Epoch 8/10\n",
      "54/53 [==============================] - 14s 263ms/step - loss: 0.5416 - acc: 0.7675 - auc_1: 0.9046 - precision_1: 0.7328 - recall_1: 0.6375 - f1score: 0.1908 - val_loss: 1.0502 - val_acc: 0.5897 - val_auc_1: 0.9057 - val_precision_1: 0.7346 - val_recall_1: 0.6401 - val_f1score: 0.1595\n",
      "Epoch 9/10\n",
      "54/53 [==============================] - 15s 283ms/step - loss: 0.5609 - acc: 0.7593 - auc_1: 0.9067 - precision_1: 0.7361 - recall_1: 0.6422 - f1score: 0.1892 - val_loss: 1.0721 - val_acc: 0.6224 - val_auc_1: 0.9073 - val_precision_1: 0.7378 - val_recall_1: 0.6441 - val_f1score: 0.1614\n",
      "Epoch 10/10\n",
      "54/53 [==============================] - 14s 261ms/step - loss: 0.4967 - acc: 0.7914 - auc_1: 0.9089 - precision_1: 0.7411 - recall_1: 0.6482 - f1score: 0.1960 - val_loss: 1.0917 - val_acc: 0.6014 - val_auc_1: 0.9099 - val_precision_1: 0.7428 - val_recall_1: 0.6508 - val_f1score: 0.1592\n"
     ]
    }
   ],
   "source": [
    "history = additional_model.fit_generator(dgf, \n",
    "            steps_per_epoch=len(X_train)/32, \n",
    "            epochs=10, \n",
    "            validation_data=(X_val,y_val), \n",
    "            validation_steps=len(X_val)/32, \n",
    "            callbacks=[checkpoint],\n",
    "            class_weight=class_weight)"
   ]
  },
  {
   "cell_type": "code",
   "execution_count": 19,
   "metadata": {},
   "outputs": [
    {
     "data": {
      "image/png": "[encoded data removed]",
      "text/plain": [
       "<Figure size 432x288 with 1 Axes>"
      ]
     },
     "metadata": {
      "needs_background": "light"
     },
     "output_type": "display_data"
    },
    {
     "data": {
      "image/png": "[encoded data removed]",
      "text/plain": [
       "<Figure size 432x288 with 1 Axes>"
      ]
     },
     "metadata": {
      "needs_background": "light"
     },
     "output_type": "display_data"
    }
   ],
   "source": [
    "acc = history.history['acc']\n",
    "val_acc = history.history['val_acc']\n",
    "loss = history.history['loss']\n",
    "val_loss = history.history['val_loss']\n",
    " \n",
    "epochs = range(1, len(acc) + 1)\n",
    " \n",
    "plt.plot(epochs, acc, 'bo', label='Training acc')\n",
    "plt.plot(epochs, val_acc, 'r', label='Validation acc')\n",
    "plt.title('Accuracy')\n",
    "plt.legend()\n",
    "plt.figure()\n",
    " \n",
    "plt.plot(epochs, loss, 'bo', label='Training loss')\n",
    "plt.plot(epochs, val_loss, 'r', label='Validation loss')\n",
    "plt.title('Loss')\n",
    "plt.legend()\n",
    " \n",
    "plt.show()"
   ]
  },
  {
   "cell_type": "code",
   "execution_count": 20,
   "metadata": {},
   "outputs": [],
   "source": [
    "for layer in additional_model.layers:\n",
    "    layer.trainable=True"
   ]
  },
  {
   "cell_type": "code",
   "execution_count": 21,
   "metadata": {},
   "outputs": [
    {
     "name": "stdout",
     "output_type": "stream",
     "text": [
      "Epoch 1/30\n",
      "54/53 [==============================] - 17s 324ms/step - loss: 0.4680 - acc: 0.7920 - auc: 0.9571 - precision_2: 0.8388 - recall_2: 0.7701 - f1score: 0.1982 - val_loss: 0.9687 - val_acc: 0.6084 - val_auc: 0.9454 - val_precision_2: 0.8087 - val_recall_2: 0.7428 - val_f1score: 0.1648\n",
      "Epoch 2/30\n",
      "54/53 [==============================] - 16s 290ms/step - loss: 0.4179 - acc: 0.8118 - auc: 0.9453 - precision_2: 0.8061 - recall_2: 0.7402 - f1score: 0.2014 - val_loss: 0.9557 - val_acc: 0.6177 - val_auc: 0.9458 - val_precision_2: 0.8049 - val_recall_2: 0.7401 - val_f1score: 0.1657\n",
      "Epoch 3/30\n",
      "54/53 [==============================] - 16s 292ms/step - loss: 0.4160 - acc: 0.8293 - auc: 0.9467 - precision_2: 0.8093 - recall_2: 0.7439 - f1score: 0.2025 - val_loss: 0.9594 - val_acc: 0.6410 - val_auc: 0.9463 - val_precision_2: 0.8106 - val_recall_2: 0.7444 - val_f1score: 0.1670\n",
      "Epoch 4/30\n",
      "54/53 [==============================] - 14s 265ms/step - loss: 0.4372 - acc: 0.8153 - auc: 0.9469 - precision_2: 0.8131 - recall_2: 0.7467 - f1score: 0.2016 - val_loss: 0.9714 - val_acc: 0.6294 - val_auc: 0.9459 - val_precision_2: 0.8118 - val_recall_2: 0.7449 - val_f1score: 0.1652\n",
      "Epoch 5/30\n",
      "54/53 [==============================] - 15s 284ms/step - loss: 0.4045 - acc: 0.8328 - auc: 0.9464 - precision_2: 0.8138 - recall_2: 0.7474 - f1score: 0.2042 - val_loss: 0.9276 - val_acc: 0.6270 - val_auc: 0.9467 - val_precision_2: 0.8133 - val_recall_2: 0.7484 - val_f1score: 0.1673\n",
      "Epoch 6/30\n",
      "54/53 [==============================] - 15s 283ms/step - loss: 0.4299 - acc: 0.8129 - auc: 0.9469 - precision_2: 0.8130 - recall_2: 0.7484 - f1score: 0.2015 - val_loss: 0.9333 - val_acc: 0.6364 - val_auc: 0.9466 - val_precision_2: 0.8122 - val_recall_2: 0.7476 - val_f1score: 0.1677\n",
      "Epoch 7/30\n",
      "54/53 [==============================] - 15s 285ms/step - loss: 0.4061 - acc: 0.8322 - auc: 0.9473 - precision_2: 0.8141 - recall_2: 0.7496 - f1score: 0.2036 - val_loss: 0.9344 - val_acc: 0.6387 - val_auc: 0.9471 - val_precision_2: 0.8132 - val_recall_2: 0.7491 - val_f1score: 0.1674\n",
      "Epoch 8/30\n",
      "54/53 [==============================] - 15s 286ms/step - loss: 0.3921 - acc: 0.8368 - auc: 0.9477 - precision_2: 0.8149 - recall_2: 0.7508 - f1score: 0.2051 - val_loss: 0.9406 - val_acc: 0.6340 - val_auc: 0.9477 - val_precision_2: 0.8153 - val_recall_2: 0.7511 - val_f1score: 0.1673\n",
      "Epoch 9/30\n",
      "54/53 [==============================] - 16s 290ms/step - loss: 0.4148 - acc: 0.8263 - auc: 0.9479 - precision_2: 0.8162 - recall_2: 0.7523 - f1score: 0.2037 - val_loss: 0.9427 - val_acc: 0.6387 - val_auc: 0.9477 - val_precision_2: 0.8156 - val_recall_2: 0.7519 - val_f1score: 0.1674\n",
      "Epoch 10/30\n",
      "54/53 [==============================] - 16s 290ms/step - loss: 0.3907 - acc: 0.8397 - auc: 0.9482 - precision_2: 0.8170 - recall_2: 0.7534 - f1score: 0.2057 - val_loss: 0.9306 - val_acc: 0.6364 - val_auc: 0.9482 - val_precision_2: 0.8169 - val_recall_2: 0.7542 - val_f1score: 0.1683\n",
      "Epoch 11/30\n",
      "54/53 [==============================] - 16s 294ms/step - loss: 0.3785 - acc: 0.8456 - auc: 0.9487 - precision_2: 0.8185 - recall_2: 0.7556 - f1score: 0.2069 - val_loss: 0.9373 - val_acc: 0.6294 - val_auc: 0.9488 - val_precision_2: 0.8186 - val_recall_2: 0.7561 - val_f1score: 0.1679\n",
      "Epoch 12/30\n",
      "54/53 [==============================] - 16s 289ms/step - loss: 0.3869 - acc: 0.8450 - auc: 0.9491 - precision_2: 0.8194 - recall_2: 0.7569 - f1score: 0.2068 - val_loss: 0.9528 - val_acc: 0.6340 - val_auc: 0.9492 - val_precision_2: 0.8196 - val_recall_2: 0.7575 - val_f1score: 0.1679\n",
      "Epoch 13/30\n",
      "54/53 [==============================] - 15s 284ms/step - loss: 0.3725 - acc: 0.8444 - auc: 0.9495 - precision_2: 0.8206 - recall_2: 0.7585 - f1score: 0.2076 - val_loss: 0.9614 - val_acc: 0.6247 - val_auc: 0.9496 - val_precision_2: 0.8208 - val_recall_2: 0.7586 - val_f1score: 0.1670\n",
      "Epoch 14/30\n",
      "54/53 [==============================] - 15s 285ms/step - loss: 0.3608 - acc: 0.8462 - auc: 0.9500 - precision_2: 0.8217 - recall_2: 0.7594 - f1score: 0.2078 - val_loss: 0.9342 - val_acc: 0.6317 - val_auc: 0.9501 - val_precision_2: 0.8215 - val_recall_2: 0.7594 - val_f1score: 0.1689\n",
      "Epoch 15/30\n",
      "54/53 [==============================] - 16s 292ms/step - loss: 0.3878 - acc: 0.8351 - auc: 0.9502 - precision_2: 0.8216 - recall_2: 0.7596 - f1score: 0.2060 - val_loss: 0.9537 - val_acc: 0.6340 - val_auc: 0.9502 - val_precision_2: 0.8213 - val_recall_2: 0.7598 - val_f1score: 0.1684\n",
      "Epoch 16/30\n",
      "54/53 [==============================] - 16s 288ms/step - loss: 0.3912 - acc: 0.8351 - auc: 0.9504 - precision_2: 0.8216 - recall_2: 0.7602 - f1score: 0.2056 - val_loss: 0.9566 - val_acc: 0.6317 - val_auc: 0.9503 - val_precision_2: 0.8214 - val_recall_2: 0.7601 - val_f1score: 0.1680\n",
      "Epoch 17/30\n",
      "54/53 [==============================] - 16s 288ms/step - loss: 0.3756 - acc: 0.8380 - auc: 0.9505 - precision_2: 0.8216 - recall_2: 0.7606 - f1score: 0.2073 - val_loss: 0.9546 - val_acc: 0.6364 - val_auc: 0.9505 - val_precision_2: 0.8215 - val_recall_2: 0.7608 - val_f1score: 0.1686\n",
      "Epoch 18/30\n",
      "54/53 [==============================] - 15s 287ms/step - loss: 0.3602 - acc: 0.8456 - auc: 0.9508 - precision_2: 0.8221 - recall_2: 0.7616 - f1score: 0.2085 - val_loss: 0.9462 - val_acc: 0.6294 - val_auc: 0.9509 - val_precision_2: 0.8220 - val_recall_2: 0.7617 - val_f1score: 0.1680\n",
      "Epoch 19/30\n",
      "54/53 [==============================] - 15s 285ms/step - loss: 0.3526 - acc: 0.8473 - auc: 0.9512 - precision_2: 0.8225 - recall_2: 0.7621 - f1score: 0.2089 - val_loss: 0.9332 - val_acc: 0.6434 - val_auc: 0.9512 - val_precision_2: 0.8226 - val_recall_2: 0.7624 - val_f1score: 0.1692\n",
      "Epoch 20/30\n",
      "54/53 [==============================] - 14s 264ms/step - loss: 0.3710 - acc: 0.8386 - auc: 0.9514 - precision_2: 0.8230 - recall_2: 0.7630 - f1score: 0.2080 - val_loss: 0.9678 - val_acc: 0.6294 - val_auc: 0.9514 - val_precision_2: 0.8227 - val_recall_2: 0.7629 - val_f1score: 0.1682\n",
      "Epoch 21/30\n",
      "54/53 [==============================] - 15s 285ms/step - loss: 0.3534 - acc: 0.8508 - auc: 0.9516 - precision_2: 0.8232 - recall_2: 0.7635 - f1score: 0.2091 - val_loss: 0.9676 - val_acc: 0.6387 - val_auc: 0.9516 - val_precision_2: 0.8233 - val_recall_2: 0.7636 - val_f1score: 0.1683\n",
      "Epoch 22/30\n",
      "54/53 [==============================] - 15s 283ms/step - loss: 0.3784 - acc: 0.8374 - auc: 0.9517 - precision_2: 0.8234 - recall_2: 0.7636 - f1score: 0.2069 - val_loss: 0.9733 - val_acc: 0.6410 - val_auc: 0.9517 - val_precision_2: 0.8234 - val_recall_2: 0.7637 - val_f1score: 0.1674\n",
      "Epoch 23/30\n",
      "54/53 [==============================] - 15s 283ms/step - loss: 0.3443 - acc: 0.8601 - auc: 0.9519 - precision_2: 0.8238 - recall_2: 0.7644 - f1score: 0.2108 - val_loss: 0.9695 - val_acc: 0.6340 - val_auc: 0.9520 - val_precision_2: 0.8241 - val_recall_2: 0.7648 - val_f1score: 0.1681\n",
      "Epoch 24/30\n",
      "54/53 [==============================] - 15s 284ms/step - loss: 0.3427 - acc: 0.8642 - auc: 0.9522 - precision_2: 0.8246 - recall_2: 0.7654 - f1score: 0.2103 - val_loss: 0.9961 - val_acc: 0.6364 - val_auc: 0.9522 - val_precision_2: 0.8249 - val_recall_2: 0.7659 - val_f1score: 0.1673\n",
      "Epoch 25/30\n",
      "54/53 [==============================] - 15s 282ms/step - loss: 0.3465 - acc: 0.8543 - auc: 0.9524 - precision_2: 0.8252 - recall_2: 0.7664 - f1score: 0.2100 - val_loss: 1.0240 - val_acc: 0.6224 - val_auc: 0.9524 - val_precision_2: 0.8252 - val_recall_2: 0.7665 - val_f1score: 0.1665\n",
      "Epoch 26/30\n",
      "54/53 [==============================] - 15s 283ms/step - loss: 0.3549 - acc: 0.8485 - auc: 0.9526 - precision_2: 0.8254 - recall_2: 0.7670 - f1score: 0.2095 - val_loss: 0.9780 - val_acc: 0.6294 - val_auc: 0.9525 - val_precision_2: 0.8254 - val_recall_2: 0.7671 - val_f1score: 0.1691\n",
      "Epoch 27/30\n",
      "54/53 [==============================] - 15s 285ms/step - loss: 0.3641 - acc: 0.8450 - auc: 0.9527 - precision_2: 0.8254 - recall_2: 0.7673 - f1score: 0.2091 - val_loss: 1.0071 - val_acc: 0.6317 - val_auc: 0.9526 - val_precision_2: 0.8254 - val_recall_2: 0.7673 - val_f1score: 0.1673\n",
      "Epoch 28/30\n",
      "54/53 [==============================] - 15s 284ms/step - loss: 0.3525 - acc: 0.8514 - auc: 0.9528 - precision_2: 0.8257 - recall_2: 0.7678 - f1score: 0.2104 - val_loss: 0.9630 - val_acc: 0.6480 - val_auc: 0.9528 - val_precision_2: 0.8256 - val_recall_2: 0.7680 - val_f1score: 0.1695\n"
     ]
    },
    {
     "name": "stdout",
     "output_type": "stream",
     "text": [
      "Epoch 29/30\n",
      "54/53 [==============================] - 14s 264ms/step - loss: 0.3326 - acc: 0.8683 - auc: 0.9530 - precision_2: 0.8262 - recall_2: 0.7688 - f1score: 0.2116 - val_loss: 1.0034 - val_acc: 0.6410 - val_auc: 0.9530 - val_precision_2: 0.8262 - val_recall_2: 0.7690 - val_f1score: 0.1673\n",
      "Epoch 30/30\n",
      "54/53 [==============================] - 15s 284ms/step - loss: 0.3336 - acc: 0.8671 - auc: 0.9532 - precision_2: 0.8266 - recall_2: 0.7697 - f1score: 0.2123 - val_loss: 1.0026 - val_acc: 0.6317 - val_auc: 0.9532 - val_precision_2: 0.8268 - val_recall_2: 0.7701 - val_f1score: 0.1669\n"
     ]
    }
   ],
   "source": [
    "import tensorflow as tf\n",
    "\n",
    "additional_model.compile(loss='categorical_crossentropy', \n",
    "              optimizer=optimizers.Adam(lr=1e-6),\n",
    "              metrics=['acc',tf.keras.metrics.AUC(name='auc'),\n",
    "                      tf.keras.metrics.Precision(),\n",
    "                      tf.keras.metrics.Recall(),f1score])\n",
    "\n",
    "history = additional_model.fit_generator(dgf, \n",
    "            steps_per_epoch=len(X_train)/32, \n",
    "            epochs=30, \n",
    "            validation_data=(X_val,y_val), \n",
    "            validation_steps=len(X_val)/32, \n",
    "            callbacks=[checkpoint],\n",
    "            class_weight=class_weight)"
   ]
  },
  {
   "cell_type": "code",
   "execution_count": 22,
   "metadata": {},
   "outputs": [
    {
     "data": {
      "image/png": "[encoded data removed]",
      "text/plain": [
       "<Figure size 432x288 with 1 Axes>"
      ]
     },
     "metadata": {
      "needs_background": "light"
     },
     "output_type": "display_data"
    },
    {
     "data": {
      "image/png": "[encoded data removed]",
      "text/plain": [
       "<Figure size 432x288 with 1 Axes>"
      ]
     },
     "metadata": {
      "needs_background": "light"
     },
     "output_type": "display_data"
    }
   ],
   "source": [
    "acc = history.history['acc']\n",
    "val_acc = history.history['val_acc']\n",
    "loss = history.history['loss']\n",
    "val_loss = history.history['val_loss']\n",
    " \n",
    "epochs = range(1, len(acc) + 1)\n",
    " \n",
    "plt.plot(epochs, acc, 'bo', label='Training acc')\n",
    "plt.plot(epochs, val_acc, 'r', label='Validation acc')\n",
    "plt.title('Accuracy')\n",
    "plt.legend()\n",
    "plt.figure()\n",
    " \n",
    "plt.plot(epochs, loss, 'bo', label='Training loss')\n",
    "plt.plot(epochs, val_loss, 'r', label='Validation loss')\n",
    "plt.title('Loss')\n",
    "plt.legend()\n",
    " \n",
    "plt.show()"
   ]
  },
  {
   "cell_type": "code",
   "execution_count": 23,
   "metadata": {},
   "outputs": [
    {
     "name": "stdout",
     "output_type": "stream",
     "text": [
      "429/429 [==============================] - 1s 3ms/step\n",
      "loss: 1.003, accuracy: 0.632, auc: 0.953, precision: 0.826, recall: 0.769, f1score: 0.167\n"
     ]
    }
   ],
   "source": [
    "_loss, _acc, _auc, _precision, _recall, _f1score = additional_model.evaluate(X_val, y_val, batch_size=32)\n",
    "print('loss: {:.3f}, accuracy: {:.3f}, auc: {:.3f}, precision: {:.3f}, recall: {:.3f}, f1score: {:.3f}'.format(_loss, _acc, _auc, _precision, _recall, _f1score))"
   ]
  },
  {
   "cell_type": "code",
   "execution_count": 24,
   "metadata": {},
   "outputs": [
    {
     "data": {
      "text/plain": [
       "0.8719178358884394"
      ]
     },
     "execution_count": 24,
     "metadata": {},
     "output_type": "execute_result"
    }
   ],
   "source": [
    "from sklearn.metrics import roc_auc_score\n",
    "\n",
    "y_pred = additional_model.predict(X_val)\n",
    "roc_auc_score(y_val, y_pred)"
   ]
  },
  {
   "cell_type": "code",
   "execution_count": 25,
   "metadata": {},
   "outputs": [],
   "source": [
    "new_model = models.load_model('VGG16_fine_tuning.hdf5',compile=False)\n",
    "\n",
    "\n",
    "new_model.compile(loss='categorical_crossentropy', \n",
    "              optimizer=optimizers.Adam(lr=1e-4),\n",
    "              metrics=['acc',tf.keras.metrics.AUC(),\n",
    "                      tf.keras.metrics.Precision(),\n",
    "                      tf.keras.metrics.Recall(),f1score])"
   ]
  },
  {
   "cell_type": "code",
   "execution_count": 26,
   "metadata": {},
   "outputs": [],
   "source": [
    "X_test=np.load('X_val_with_callback.npy')\n",
    "y_test=np.load('y_val_with_callback.npy')"
   ]
  },
  {
   "cell_type": "code",
   "execution_count": 27,
   "metadata": {},
   "outputs": [
    {
     "name": "stdout",
     "output_type": "stream",
     "text": [
      "716/716 [==============================] - 3s 4ms/step\n",
      "loss: 0.973, accuracy: 0.627, auc: 0.872, precision: 0.639, recall: 0.599, f1score: 0.169\n"
     ]
    }
   ],
   "source": [
    "_loss, _acc, _auc, _precision, _recall, _f1score =new_model.evaluate(X_test, y_test, batch_size=32)\n",
    "print('loss: {:.3f}, accuracy: {:.3f}, auc: {:.3f}, precision: {:.3f}, recall: {:.3f}, f1score: {:.3f}'.format(_loss, _acc, _auc, _precision, _recall, _f1score))"
   ]
  },
  {
   "cell_type": "code",
   "execution_count": null,
   "metadata": {},
   "outputs": [],
   "source": []
  }
 ],
 "metadata": {
  "kernelspec": {
   "display_name": "Python 3",
   "language": "python",
   "name": "python3"
  },
  "language_info": {
   "codemirror_mode": {
    "name": "ipython",
    "version": 3
   },
   "file_extension": ".py",
   "mimetype": "text/x-python",
   "name": "python",
   "nbconvert_exporter": "python",
   "pygments_lexer": "ipython3",
   "version": "3.7.7"
  }
 },
 "nbformat": 4,
 "nbformat_minor": 2
}
