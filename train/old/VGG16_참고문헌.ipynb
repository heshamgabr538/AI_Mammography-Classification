{
 "cells": [
  {
   "cell_type": "code",
   "execution_count": 1,
   "metadata": {},
   "outputs": [
    {
     "data": {
      "text/plain": [
       "'C:\\\\Users\\\\Owner2\\\\Desktop\\\\G팔로미_vuno'"
      ]
     },
     "execution_count": 1,
     "metadata": {},
     "output_type": "execute_result"
    }
   ],
   "source": [
    "import os\n",
    "import pandas as pd\n",
    "from matplotlib import pyplot as plt\n",
    "import cv2\n",
    "import numpy as np\n",
    "\n",
    "#data path 수정\n",
    "os.chdir(\"C:\\\\Users\\\\Owner2\\\\Desktop\\\\G팔로미_vuno\")\n",
    "os.getcwd()"
   ]
  },
  {
   "cell_type": "code",
   "execution_count": 2,
   "metadata": {},
   "outputs": [],
   "source": [
    "X=np.load('data_X.npy')\n",
    "y=np.load('data_y.npy')"
   ]
  },
  {
   "cell_type": "code",
   "execution_count": 3,
   "metadata": {},
   "outputs": [],
   "source": [
    "#train, validation set 분리\n",
    "from sklearn.model_selection import train_test_split\n",
    "\n",
    "X_train, X_val, y_train, y_val = train_test_split(X,y,test_size=0.25)"
   ]
  },
  {
   "cell_type": "code",
   "execution_count": 4,
   "metadata": {},
   "outputs": [
    {
     "name": "stderr",
     "output_type": "stream",
     "text": [
      "Using TensorFlow backend.\n"
     ]
    }
   ],
   "source": [
    "from keras.preprocessing.image import ImageDataGenerator\n",
    "\n",
    "datagen = ImageDataGenerator(\n",
    "    #featurewise_center=True, #center 중심 유지\n",
    "    #featurewise_std_normalization=True, #normalization\n",
    "    rotation_range=25.0,\n",
    "    #width_shift_range=0.2,\n",
    "    #height_shift_range=0.2,\n",
    "    #brightness_range=[0.2,1.0],\n",
    "    zoom_range=[0.8,1.2],\n",
    "    horizontal_flip=True) #수평방향 뒤집기\n",
    "\n",
    "datagen.fit(X_train)\n",
    "\n",
    "dgf=datagen.flow(X_train,y_train,batch_size=32)"
   ]
  },
  {
   "cell_type": "code",
   "execution_count": 5,
   "metadata": {},
   "outputs": [
    {
     "name": "stdout",
     "output_type": "stream",
     "text": [
      "Model: \"vgg16\"\n",
      "_________________________________________________________________\n",
      "Layer (type)                 Output Shape              Param #   \n",
      "=================================================================\n",
      "input_1 (InputLayer)         (None, 224, 224, 3)       0         \n",
      "_________________________________________________________________\n",
      "block1_conv1 (Conv2D)        (None, 224, 224, 64)      1792      \n",
      "_________________________________________________________________\n",
      "block1_conv2 (Conv2D)        (None, 224, 224, 64)      36928     \n",
      "_________________________________________________________________\n",
      "block1_pool (MaxPooling2D)   (None, 112, 112, 64)      0         \n",
      "_________________________________________________________________\n",
      "block2_conv1 (Conv2D)        (None, 112, 112, 128)     73856     \n",
      "_________________________________________________________________\n",
      "block2_conv2 (Conv2D)        (None, 112, 112, 128)     147584    \n",
      "_________________________________________________________________\n",
      "block2_pool (MaxPooling2D)   (None, 56, 56, 128)       0         \n",
      "_________________________________________________________________\n",
      "block3_conv1 (Conv2D)        (None, 56, 56, 256)       295168    \n",
      "_________________________________________________________________\n",
      "block3_conv2 (Conv2D)        (None, 56, 56, 256)       590080    \n",
      "_________________________________________________________________\n",
      "block3_conv3 (Conv2D)        (None, 56, 56, 256)       590080    \n",
      "_________________________________________________________________\n",
      "block3_pool (MaxPooling2D)   (None, 28, 28, 256)       0         \n",
      "_________________________________________________________________\n",
      "block4_conv1 (Conv2D)        (None, 28, 28, 512)       1180160   \n",
      "_________________________________________________________________\n",
      "block4_conv2 (Conv2D)        (None, 28, 28, 512)       2359808   \n",
      "_________________________________________________________________\n",
      "block4_conv3 (Conv2D)        (None, 28, 28, 512)       2359808   \n",
      "_________________________________________________________________\n",
      "block4_pool (MaxPooling2D)   (None, 14, 14, 512)       0         \n",
      "_________________________________________________________________\n",
      "block5_conv1 (Conv2D)        (None, 14, 14, 512)       2359808   \n",
      "_________________________________________________________________\n",
      "block5_conv2 (Conv2D)        (None, 14, 14, 512)       2359808   \n",
      "_________________________________________________________________\n",
      "block5_conv3 (Conv2D)        (None, 14, 14, 512)       2359808   \n",
      "_________________________________________________________________\n",
      "block5_pool (MaxPooling2D)   (None, 7, 7, 512)         0         \n",
      "=================================================================\n",
      "Total params: 14,714,688\n",
      "Trainable params: 0\n",
      "Non-trainable params: 14,714,688\n",
      "_________________________________________________________________\n"
     ]
    }
   ],
   "source": [
    "from keras import models, layers\n",
    "from keras import Input\n",
    "from keras.applications import VGG16\n",
    "from keras.models import Model, load_model\n",
    "from keras.preprocessing.image import ImageDataGenerator\n",
    "from keras import optimizers, initializers, regularizers, metrics\n",
    "from keras.callbacks import ModelCheckpoint, EarlyStopping\n",
    "from keras.layers import BatchNormalization, Conv2D, Activation, Dense, GlobalAveragePooling2D, MaxPooling2D, ZeroPadding2D, Add\n",
    "\n",
    "model = VGG16(weights='imagenet', include_top=False, input_shape=(224, 224, 3))\n",
    "model.trainable = False\n",
    "model.summary()"
   ]
  },
  {
   "cell_type": "code",
   "execution_count": 6,
   "metadata": {},
   "outputs": [
    {
     "name": "stdout",
     "output_type": "stream",
     "text": [
      "Model: \"model_1\"\n",
      "_________________________________________________________________\n",
      "Layer (type)                 Output Shape              Param #   \n",
      "=================================================================\n",
      "input_1 (InputLayer)         (None, 224, 224, 3)       0         \n",
      "_________________________________________________________________\n",
      "block1_conv1 (Conv2D)        (None, 224, 224, 64)      1792      \n",
      "_________________________________________________________________\n",
      "block1_conv2 (Conv2D)        (None, 224, 224, 64)      36928     \n",
      "_________________________________________________________________\n",
      "block1_pool (MaxPooling2D)   (None, 112, 112, 64)      0         \n",
      "_________________________________________________________________\n",
      "block2_conv1 (Conv2D)        (None, 112, 112, 128)     73856     \n",
      "_________________________________________________________________\n",
      "block2_conv2 (Conv2D)        (None, 112, 112, 128)     147584    \n",
      "_________________________________________________________________\n",
      "block2_pool (MaxPooling2D)   (None, 56, 56, 128)       0         \n",
      "_________________________________________________________________\n",
      "block3_conv1 (Conv2D)        (None, 56, 56, 256)       295168    \n",
      "_________________________________________________________________\n",
      "block3_conv2 (Conv2D)        (None, 56, 56, 256)       590080    \n",
      "_________________________________________________________________\n",
      "block3_conv3 (Conv2D)        (None, 56, 56, 256)       590080    \n",
      "_________________________________________________________________\n",
      "block3_pool (MaxPooling2D)   (None, 28, 28, 256)       0         \n",
      "_________________________________________________________________\n",
      "block4_conv1 (Conv2D)        (None, 28, 28, 512)       1180160   \n",
      "_________________________________________________________________\n",
      "block4_conv2 (Conv2D)        (None, 28, 28, 512)       2359808   \n",
      "_________________________________________________________________\n",
      "block4_conv3 (Conv2D)        (None, 28, 28, 512)       2359808   \n",
      "_________________________________________________________________\n",
      "block4_pool (MaxPooling2D)   (None, 14, 14, 512)       0         \n",
      "_________________________________________________________________\n",
      "block5_conv1 (Conv2D)        (None, 14, 14, 512)       2359808   \n",
      "_________________________________________________________________\n",
      "block5_conv2 (Conv2D)        (None, 14, 14, 512)       2359808   \n",
      "_________________________________________________________________\n",
      "block5_conv3 (Conv2D)        (None, 14, 14, 512)       2359808   \n",
      "_________________________________________________________________\n",
      "block5_pool (MaxPooling2D)   (None, 7, 7, 512)         0         \n",
      "_________________________________________________________________\n",
      "flatten_1 (Flatten)          (None, 25088)             0         \n",
      "_________________________________________________________________\n",
      "dense_1 (Dense)              (None, 4)                 100356    \n",
      "=================================================================\n",
      "Total params: 14,815,044\n",
      "Trainable params: 100,356\n",
      "Non-trainable params: 14,714,688\n",
      "_________________________________________________________________\n"
     ]
    }
   ],
   "source": [
    "for layer in model.layers:\n",
    "    layer.trainable=False\n",
    "\n",
    "x=model.output\n",
    "x=layers.Flatten()(x)\n",
    "outputs=Dense(4, activation='softmax')(x)\n",
    "\n",
    "additional_model=Model(inputs=model.input, outputs=outputs)\n",
    "\n",
    "additional_model.summary()"
   ]
  },
  {
   "cell_type": "code",
   "execution_count": 7,
   "metadata": {},
   "outputs": [],
   "source": [
    "def f1score(precision, recall):\n",
    "    _f1score = ( 2 * recall * precision) / (recall + precision)\n",
    "    \n",
    "    # return a single tensor value\n",
    "    return _f1score"
   ]
  },
  {
   "cell_type": "code",
   "execution_count": 8,
   "metadata": {},
   "outputs": [],
   "source": [
    "# checkpoint = ModelCheckpoint(filepath='My_VGG_{epoch:03d}_{val_loss:.7f}.hdf5',monitor='loss', mode='min', save_best_only=True)\n",
    "checkpoint = ModelCheckpoint(filepath='VGG16_참고문헌_1.hdf5', \n",
    "            monitor='val_loss', \n",
    "            mode='min', \n",
    "            save_best_only=True)"
   ]
  },
  {
   "cell_type": "code",
   "execution_count": 9,
   "metadata": {},
   "outputs": [],
   "source": [
    "import tensorflow as tf\n",
    "\n",
    "additional_model.compile(loss='categorical_crossentropy', \n",
    "              optimizer=optimizers.Adam(lr=1e-3),\n",
    "              metrics=['acc',tf.keras.metrics.AUC(),\n",
    "                      tf.keras.metrics.Precision(),\n",
    "                      tf.keras.metrics.Recall(),f1score])"
   ]
  },
  {
   "cell_type": "code",
   "execution_count": 10,
   "metadata": {},
   "outputs": [
    {
     "name": "stdout",
     "output_type": "stream",
     "text": [
      "Epoch 1/3\n",
      "41/40 [==============================] - 13s 326ms/step - loss: 1.5011 - acc: 0.3481 - auc: 0.5650 - precision: 0.3275 - recall: 0.1899 - f1score: 0.1072 - val_loss: 1.1351 - val_acc: 0.4743 - val_auc: 0.6294 - val_precision: 0.4241 - val_recall: 0.2031 - val_f1score: 0.1284\n",
      "Epoch 2/3\n",
      "41/40 [==============================] - 10s 253ms/step - loss: 1.1328 - acc: 0.4868 - auc: 0.6696 - precision: 0.4786 - recall: 0.2191 - f1score: 0.1297 - val_loss: 1.0480 - val_acc: 0.5397 - val_auc: 0.7012 - val_precision: 0.5178 - val_recall: 0.2330 - val_f1score: 0.1375\n",
      "Epoch 3/3\n",
      "41/40 [==============================] - 11s 273ms/step - loss: 1.1461 - acc: 0.4860 - auc: 0.7180 - precision: 0.5357 - recall: 0.2465 - f1score: 0.1335 - val_loss: 1.2835 - val_acc: 0.4299 - val_auc: 0.7216 - val_precision: 0.5334 - val_recall: 0.2628 - val_f1score: 0.1289\n"
     ]
    }
   ],
   "source": [
    "history = additional_model.fit_generator(dgf, \n",
    "            steps_per_epoch=len(X_train)/32, \n",
    "            epochs=3, \n",
    "            validation_data=(X_val,y_val), \n",
    "            validation_steps=len(X_val)/32, \n",
    "            callbacks=[checkpoint])"
   ]
  },
  {
   "cell_type": "code",
   "execution_count": 11,
   "metadata": {},
   "outputs": [],
   "source": [
    "for layer in additional_model.layers[:11]:\n",
    "    layer.trainable=False\n",
    "\n",
    "for layer in additional_model.layers[11:]:\n",
    "    layer.trainable=True"
   ]
  },
  {
   "cell_type": "code",
   "execution_count": 12,
   "metadata": {},
   "outputs": [
    {
     "name": "stdout",
     "output_type": "stream",
     "text": [
      "<keras.engine.input_layer.InputLayer object at 0x0000028ECA8DE488> False\n",
      "<keras.layers.convolutional.Conv2D object at 0x0000028ECA8DF308> False\n",
      "<keras.layers.convolutional.Conv2D object at 0x0000028ECA8DFF48> False\n",
      "<keras.layers.pooling.MaxPooling2D object at 0x0000028DAE215F88> False\n",
      "<keras.layers.convolutional.Conv2D object at 0x0000028DAE210208> False\n",
      "<keras.layers.convolutional.Conv2D object at 0x0000028DAE217F08> False\n",
      "<keras.layers.pooling.MaxPooling2D object at 0x0000028DAE21E448> False\n",
      "<keras.layers.convolutional.Conv2D object at 0x0000028DAE21EF08> False\n",
      "<keras.layers.convolutional.Conv2D object at 0x0000028DAE224DC8> False\n",
      "<keras.layers.convolutional.Conv2D object at 0x0000028DAE235388> False\n",
      "<keras.layers.pooling.MaxPooling2D object at 0x0000028DAE23BB08> False\n",
      "<keras.layers.convolutional.Conv2D object at 0x0000028DAE23B388> True\n",
      "<keras.layers.convolutional.Conv2D object at 0x0000028DAE242E48> True\n",
      "<keras.layers.convolutional.Conv2D object at 0x0000028DAE24B448> True\n",
      "<keras.layers.pooling.MaxPooling2D object at 0x0000028DAE2A1EC8> True\n",
      "<keras.layers.convolutional.Conv2D object at 0x0000028DAE2A1B88> True\n",
      "<keras.layers.convolutional.Conv2D object at 0x0000028DAE2AC608> True\n",
      "<keras.layers.convolutional.Conv2D object at 0x0000028DAE2AE388> True\n",
      "<keras.layers.pooling.MaxPooling2D object at 0x0000028DAE2BA988> True\n",
      "<keras.layers.core.Flatten object at 0x0000028DAE2CB648> True\n",
      "<keras.layers.core.Dense object at 0x0000028DAE2CB348> True\n",
      "Model: \"model_1\"\n",
      "_________________________________________________________________\n",
      "Layer (type)                 Output Shape              Param #   \n",
      "=================================================================\n",
      "input_1 (InputLayer)         (None, 224, 224, 3)       0         \n",
      "_________________________________________________________________\n",
      "block1_conv1 (Conv2D)        (None, 224, 224, 64)      1792      \n",
      "_________________________________________________________________\n",
      "block1_conv2 (Conv2D)        (None, 224, 224, 64)      36928     \n",
      "_________________________________________________________________\n",
      "block1_pool (MaxPooling2D)   (None, 112, 112, 64)      0         \n",
      "_________________________________________________________________\n",
      "block2_conv1 (Conv2D)        (None, 112, 112, 128)     73856     \n",
      "_________________________________________________________________\n",
      "block2_conv2 (Conv2D)        (None, 112, 112, 128)     147584    \n",
      "_________________________________________________________________\n",
      "block2_pool (MaxPooling2D)   (None, 56, 56, 128)       0         \n",
      "_________________________________________________________________\n",
      "block3_conv1 (Conv2D)        (None, 56, 56, 256)       295168    \n",
      "_________________________________________________________________\n",
      "block3_conv2 (Conv2D)        (None, 56, 56, 256)       590080    \n",
      "_________________________________________________________________\n",
      "block3_conv3 (Conv2D)        (None, 56, 56, 256)       590080    \n",
      "_________________________________________________________________\n",
      "block3_pool (MaxPooling2D)   (None, 28, 28, 256)       0         \n",
      "_________________________________________________________________\n",
      "block4_conv1 (Conv2D)        (None, 28, 28, 512)       1180160   \n",
      "_________________________________________________________________\n",
      "block4_conv2 (Conv2D)        (None, 28, 28, 512)       2359808   \n",
      "_________________________________________________________________\n",
      "block4_conv3 (Conv2D)        (None, 28, 28, 512)       2359808   \n",
      "_________________________________________________________________\n",
      "block4_pool (MaxPooling2D)   (None, 14, 14, 512)       0         \n",
      "_________________________________________________________________\n",
      "block5_conv1 (Conv2D)        (None, 14, 14, 512)       2359808   \n",
      "_________________________________________________________________\n",
      "block5_conv2 (Conv2D)        (None, 14, 14, 512)       2359808   \n",
      "_________________________________________________________________\n",
      "block5_conv3 (Conv2D)        (None, 14, 14, 512)       2359808   \n",
      "_________________________________________________________________\n",
      "block5_pool (MaxPooling2D)   (None, 7, 7, 512)         0         \n",
      "_________________________________________________________________\n",
      "flatten_1 (Flatten)          (None, 25088)             0         \n",
      "_________________________________________________________________\n",
      "dense_1 (Dense)              (None, 4)                 100356    \n",
      "=================================================================\n",
      "Total params: 1,835,844\n",
      "Trainable params: 100,356\n",
      "Non-trainable params: 1,735,488\n",
      "_________________________________________________________________\n"
     ]
    },
    {
     "name": "stderr",
     "output_type": "stream",
     "text": [
      "C:\\Users\\Owner2\\Anaconda3\\envs\\keras2\\lib\\site-packages\\keras\\engine\\training.py:297: UserWarning: Discrepancy between trainable weights and collected trainable weights, did you set `model.trainable` without calling `model.compile` after ?\n",
      "  'Discrepancy between trainable weights and collected trainable'\n"
     ]
    }
   ],
   "source": [
    "for layer in additional_model.layers:\n",
    "    print(layer, layer.trainable)\n",
    "    \n",
    "additional_model.summary()"
   ]
  },
  {
   "cell_type": "code",
   "execution_count": 13,
   "metadata": {},
   "outputs": [],
   "source": [
    "import tensorflow as tf\n",
    "\n",
    "additional_model.compile(loss='categorical_crossentropy', \n",
    "              optimizer=optimizers.Adam(lr=1e-4),\n",
    "              metrics=['acc',tf.keras.metrics.AUC(),\n",
    "                      tf.keras.metrics.Precision(),\n",
    "                      tf.keras.metrics.Recall(),f1score])"
   ]
  },
  {
   "cell_type": "code",
   "execution_count": 14,
   "metadata": {},
   "outputs": [
    {
     "name": "stdout",
     "output_type": "stream",
     "text": [
      "Epoch 1/10\n",
      "41/40 [==============================] - 12s 301ms/step - loss: 1.3555 - acc: 0.3442 - auc_1: 0.6163 - precision_1: 0.4777 - recall_1: 0.0924 - f1score: 0.1088 - val_loss: 1.2953 - val_acc: 0.3645 - val_auc_1: 0.6256 - val_precision_1: 0.5066 - val_recall_1: 0.0539 - val_f1score: 0.1087\n",
      "Epoch 2/10\n",
      "41/40 [==============================] - 11s 271ms/step - loss: 1.2425 - acc: 0.4213 - auc_1: 0.6482 - precision_1: 0.5143 - recall_1: 0.0535 - f1score: 0.1174 - val_loss: 1.2376 - val_acc: 0.3598 - val_auc_1: 0.6636 - val_precision_1: 0.5271 - val_recall_1: 0.0629 - val_f1score: 0.1165\n",
      "Epoch 3/10\n",
      "41/40 [==============================] - 11s 274ms/step - loss: 1.1442 - acc: 0.4688 - auc_1: 0.6812 - precision_1: 0.5456 - recall_1: 0.0793 - f1score: 0.1281 - val_loss: 1.0527 - val_acc: 0.4883 - val_auc_1: 0.6997 - val_precision_1: 0.5514 - val_recall_1: 0.1048 - val_f1score: 0.1353\n",
      "Epoch 4/10\n",
      "41/40 [==============================] - 11s 274ms/step - loss: 1.0337 - acc: 0.5257 - auc_1: 0.7164 - precision_1: 0.5689 - recall_1: 0.1345 - f1score: 0.1400 - val_loss: 1.0847 - val_acc: 0.4696 - val_auc_1: 0.7290 - val_precision_1: 0.5739 - val_recall_1: 0.1605 - val_f1score: 0.1370\n",
      "Epoch 5/10\n",
      "41/40 [==============================] - 11s 273ms/step - loss: 1.0221 - acc: 0.5304 - auc_1: 0.7386 - precision_1: 0.5796 - recall_1: 0.1816 - f1score: 0.1428 - val_loss: 1.0875 - val_acc: 0.4439 - val_auc_1: 0.7456 - val_precision_1: 0.5781 - val_recall_1: 0.1984 - val_f1score: 0.1362\n",
      "Epoch 6/10\n",
      "41/40 [==============================] - 11s 275ms/step - loss: 1.0178 - acc: 0.5327 - auc_1: 0.7512 - precision_1: 0.5802 - recall_1: 0.2099 - f1score: 0.1422 - val_loss: 0.9885 - val_acc: 0.5304 - val_auc_1: 0.7581 - val_precision_1: 0.5833 - val_recall_1: 0.2256 - val_f1score: 0.1475\n",
      "Epoch 7/10\n",
      "41/40 [==============================] - 11s 269ms/step - loss: 0.9691 - acc: 0.5397 - auc_1: 0.7647 - precision_1: 0.5857 - recall_1: 0.2402 - f1score: 0.1469 - val_loss: 0.9798 - val_acc: 0.5047 - val_auc_1: 0.7689 - val_precision_1: 0.5864 - val_recall_1: 0.2499 - val_f1score: 0.1435\n",
      "Epoch 8/10\n",
      "41/40 [==============================] - 11s 270ms/step - loss: 0.9360 - acc: 0.5615 - auc_1: 0.7734 - precision_1: 0.5903 - recall_1: 0.2594 - f1score: 0.1487 - val_loss: 0.9669 - val_acc: 0.5280 - val_auc_1: 0.7777 - val_precision_1: 0.5939 - val_recall_1: 0.2701 - val_f1score: 0.1489\n",
      "Epoch 9/10\n",
      "41/40 [==============================] - 11s 268ms/step - loss: 0.9549 - acc: 0.5701 - auc_1: 0.7819 - precision_1: 0.5983 - recall_1: 0.2804 - f1score: 0.1498 - val_loss: 1.1171 - val_acc: 0.4790 - val_auc_1: 0.7840 - val_precision_1: 0.6006 - val_recall_1: 0.2870 - val_f1score: 0.1378\n",
      "Epoch 10/10\n",
      "41/40 [==============================] - 11s 271ms/step - loss: 0.9049 - acc: 0.5942 - auc_1: 0.7868 - precision_1: 0.6045 - recall_1: 0.2960 - f1score: 0.1533 - val_loss: 0.9835 - val_acc: 0.5631 - val_auc_1: 0.7902 - val_precision_1: 0.6080 - val_recall_1: 0.3046 - val_f1score: 0.1519\n"
     ]
    }
   ],
   "source": [
    "history = additional_model.fit_generator(dgf, \n",
    "            steps_per_epoch=len(X_train)/32, \n",
    "            epochs=10, \n",
    "            validation_data=(X_val,y_val), \n",
    "            validation_steps=len(X_val)/32, \n",
    "            callbacks=[checkpoint])"
   ]
  },
  {
   "cell_type": "code",
   "execution_count": 15,
   "metadata": {},
   "outputs": [
    {
     "data": {
      "image/png": "[encoded data removed]",
      "text/plain": [
       "<Figure size 432x288 with 1 Axes>"
      ]
     },
     "metadata": {
      "needs_background": "light"
     },
     "output_type": "display_data"
    },
    {
     "data": {
      "image/png": "[encoded data removed]",
      "text/plain": [
       "<Figure size 432x288 with 1 Axes>"
      ]
     },
     "metadata": {
      "needs_background": "light"
     },
     "output_type": "display_data"
    }
   ],
   "source": [
    "acc = history.history['acc']\n",
    "val_acc = history.history['val_acc']\n",
    "loss = history.history['loss']\n",
    "val_loss = history.history['val_loss']\n",
    " \n",
    "epochs = range(1, len(acc) + 1)\n",
    " \n",
    "plt.plot(epochs, acc, 'bo', label='Training acc')\n",
    "plt.plot(epochs, val_acc, 'r', label='Validation acc')\n",
    "plt.title('Accuracy')\n",
    "plt.legend()\n",
    "plt.figure()\n",
    " \n",
    "plt.plot(epochs, loss, 'bo', label='Training loss')\n",
    "plt.plot(epochs, val_loss, 'r', label='Validation loss')\n",
    "plt.title('Loss')\n",
    "plt.legend()\n",
    " \n",
    "plt.show()"
   ]
  },
  {
   "cell_type": "code",
   "execution_count": 16,
   "metadata": {},
   "outputs": [],
   "source": [
    "for layer in additional_model.layers:\n",
    "    layer.trainable=True"
   ]
  },
  {
   "cell_type": "code",
   "execution_count": 17,
   "metadata": {},
   "outputs": [
    {
     "name": "stdout",
     "output_type": "stream",
     "text": [
      "Epoch 1/37\n",
      "41/40 [==============================] - 13s 307ms/step - loss: 0.8907 - acc: 0.5974 - auc: 0.8480 - precision_2: 0.6792 - recall_2: 0.4545 - f1score: 0.1551 - val_loss: 0.9421 - val_acc: 0.5701 - val_auc: 0.8552 - val_precision_2: 0.6762 - val_recall_2: 0.4625 - val_f1score: 0.1529\n",
      "Epoch 2/37\n",
      "41/40 [==============================] - 11s 272ms/step - loss: 0.8137 - acc: 0.6340 - auc: 0.8575 - precision_2: 0.6779 - recall_2: 0.4751 - f1score: 0.1617 - val_loss: 0.9304 - val_acc: 0.5748 - val_auc: 0.8632 - val_precision_2: 0.6829 - val_recall_2: 0.4921 - val_f1score: 0.1555\n",
      "Epoch 3/37\n",
      "41/40 [==============================] - 11s 273ms/step - loss: 0.7974 - acc: 0.6456 - auc: 0.8652 - precision_2: 0.6862 - recall_2: 0.5014 - f1score: 0.1634 - val_loss: 0.9857 - val_acc: 0.5561 - val_auc: 0.8657 - val_precision_2: 0.6848 - val_recall_2: 0.5075 - val_f1score: 0.1538\n",
      "Epoch 4/37\n",
      "41/40 [==============================] - 11s 277ms/step - loss: 0.8111 - acc: 0.6340 - auc: 0.8665 - precision_2: 0.6858 - recall_2: 0.5128 - f1score: 0.1635 - val_loss: 0.9436 - val_acc: 0.5724 - val_auc: 0.8665 - val_precision_2: 0.6832 - val_recall_2: 0.5151 - val_f1score: 0.1550\n",
      "Epoch 5/37\n",
      "41/40 [==============================] - 11s 277ms/step - loss: 0.8052 - acc: 0.6379 - auc: 0.8668 - precision_2: 0.6807 - recall_2: 0.5153 - f1score: 0.1627 - val_loss: 0.9985 - val_acc: 0.5467 - val_auc: 0.8666 - val_precision_2: 0.6799 - val_recall_2: 0.5165 - val_f1score: 0.1516\n",
      "Epoch 6/37\n",
      "41/40 [==============================] - 11s 277ms/step - loss: 0.7686 - acc: 0.6488 - auc: 0.8676 - precision_2: 0.6815 - recall_2: 0.5197 - f1score: 0.1657 - val_loss: 0.9287 - val_acc: 0.5678 - val_auc: 0.8684 - val_precision_2: 0.6816 - val_recall_2: 0.5225 - val_f1score: 0.1565\n",
      "Epoch 7/37\n",
      "41/40 [==============================] - 11s 272ms/step - loss: 0.7676 - acc: 0.6565 - auc: 0.8694 - precision_2: 0.6815 - recall_2: 0.5248 - f1score: 0.1670 - val_loss: 0.9358 - val_acc: 0.5841 - val_auc: 0.8701 - val_precision_2: 0.6816 - val_recall_2: 0.5268 - val_f1score: 0.1573\n",
      "Epoch 8/37\n",
      "41/40 [==============================] - 11s 276ms/step - loss: 0.7655 - acc: 0.6643 - auc: 0.8709 - precision_2: 0.6819 - recall_2: 0.5298 - f1score: 0.1680 - val_loss: 0.9291 - val_acc: 0.5748 - val_auc: 0.8719 - val_precision_2: 0.6818 - val_recall_2: 0.5320 - val_f1score: 0.1588\n",
      "Epoch 9/37\n",
      "41/40 [==============================] - 11s 275ms/step - loss: 0.7958 - acc: 0.6340 - auc: 0.8720 - precision_2: 0.6808 - recall_2: 0.5318 - f1score: 0.1653 - val_loss: 0.9477 - val_acc: 0.5584 - val_auc: 0.8724 - val_precision_2: 0.6805 - val_recall_2: 0.5322 - val_f1score: 0.1565\n",
      "Epoch 10/37\n",
      "41/40 [==============================] - 11s 278ms/step - loss: 0.7598 - acc: 0.6682 - auc: 0.8730 - precision_2: 0.6809 - recall_2: 0.5336 - f1score: 0.1689 - val_loss: 0.9592 - val_acc: 0.5748 - val_auc: 0.8736 - val_precision_2: 0.6808 - val_recall_2: 0.5347 - val_f1score: 0.1559\n",
      "Epoch 11/37\n",
      "41/40 [==============================] - 11s 277ms/step - loss: 0.7293 - acc: 0.6768 - auc: 0.8742 - precision_2: 0.6822 - recall_2: 0.5368 - f1score: 0.1704 - val_loss: 0.9496 - val_acc: 0.5748 - val_auc: 0.8748 - val_precision_2: 0.6828 - val_recall_2: 0.5384 - val_f1score: 0.1560\n",
      "Epoch 12/37\n",
      "41/40 [==============================] - 11s 276ms/step - loss: 0.7296 - acc: 0.6783 - auc: 0.8754 - precision_2: 0.6837 - recall_2: 0.5402 - f1score: 0.1715 - val_loss: 0.8975 - val_acc: 0.6192 - val_auc: 0.8762 - val_precision_2: 0.6847 - val_recall_2: 0.5424 - val_f1score: 0.1607\n",
      "Epoch 13/37\n",
      "41/40 [==============================] - 11s 272ms/step - loss: 0.7071 - acc: 0.6854 - auc: 0.8771 - precision_2: 0.6862 - recall_2: 0.5450 - f1score: 0.1730 - val_loss: 0.9382 - val_acc: 0.5748 - val_auc: 0.8777 - val_precision_2: 0.6866 - val_recall_2: 0.5464 - val_f1score: 0.1597\n",
      "Epoch 14/37\n",
      "41/40 [==============================] - 11s 272ms/step - loss: 0.7528 - acc: 0.6667 - auc: 0.8781 - precision_2: 0.6868 - recall_2: 0.5472 - f1score: 0.1696 - val_loss: 0.9232 - val_acc: 0.5888 - val_auc: 0.8782 - val_precision_2: 0.6863 - val_recall_2: 0.5476 - val_f1score: 0.1595\n",
      "Epoch 15/37\n",
      "41/40 [==============================] - 11s 274ms/step - loss: 0.7246 - acc: 0.6745 - auc: 0.8786 - precision_2: 0.6868 - recall_2: 0.5487 - f1score: 0.1706 - val_loss: 0.9049 - val_acc: 0.6005 - val_auc: 0.8790 - val_precision_2: 0.6872 - val_recall_2: 0.5498 - val_f1score: 0.1605\n",
      "Epoch 16/37\n",
      "41/40 [==============================] - 11s 274ms/step - loss: 0.7126 - acc: 0.6822 - auc: 0.8794 - precision_2: 0.6876 - recall_2: 0.5511 - f1score: 0.1730 - val_loss: 0.9799 - val_acc: 0.5958 - val_auc: 0.8800 - val_precision_2: 0.6886 - val_recall_2: 0.5528 - val_f1score: 0.1591\n",
      "Epoch 17/37\n",
      "41/40 [==============================] - 11s 272ms/step - loss: 0.7292 - acc: 0.6760 - auc: 0.8803 - precision_2: 0.6890 - recall_2: 0.5542 - f1score: nan - val_loss: 0.9632 - val_acc: 0.5724 - val_auc: 0.8806 - val_precision_2: 0.6892 - val_recall_2: 0.5553 - val_f1score: 0.1591\n",
      "Epoch 18/37\n",
      "41/40 [==============================] - 11s 272ms/step - loss: 0.7151 - acc: 0.7033 - auc: 0.8810 - precision_2: 0.6895 - recall_2: 0.5563 - f1score: 0.1746 - val_loss: 0.9116 - val_acc: 0.6145 - val_auc: 0.8817 - val_precision_2: 0.6907 - val_recall_2: 0.5580 - val_f1score: 0.1629\n",
      "Epoch 19/37\n",
      "41/40 [==============================] - 11s 272ms/step - loss: 0.6983 - acc: 0.7009 - auc: 0.8822 - precision_2: 0.6917 - recall_2: 0.5595 - f1score: 0.1755 - val_loss: 0.9260 - val_acc: 0.5981 - val_auc: 0.8827 - val_precision_2: 0.6923 - val_recall_2: 0.5608 - val_f1score: 0.1619\n",
      "Epoch 20/37\n",
      "41/40 [==============================] - 12s 292ms/step - loss: 0.6685 - acc: 0.7150 - auc: 0.8834 - precision_2: 0.6935 - recall_2: 0.5623 - f1score: nan - val_loss: 0.9280 - val_acc: 0.6075 - val_auc: 0.8840 - val_precision_2: 0.6944 - val_recall_2: 0.5639 - val_f1score: 0.1629\n",
      "Epoch 21/37\n",
      "41/40 [==============================] - 11s 259ms/step - loss: 0.7043 - acc: 0.6939 - auc: 0.8842 - precision_2: 0.6949 - recall_2: 0.5652 - f1score: nan - val_loss: 0.9102 - val_acc: 0.6005 - val_auc: 0.8846 - val_precision_2: 0.6954 - val_recall_2: 0.5665 - val_f1score: 0.1626\n",
      "Epoch 22/37\n",
      "41/40 [==============================] - 11s 273ms/step - loss: 0.6760 - acc: 0.7173 - auc: 0.8851 - precision_2: 0.6964 - recall_2: 0.5678 - f1score: 0.1771 - val_loss: 0.9532 - val_acc: 0.5864 - val_auc: 0.8855 - val_precision_2: 0.6971 - val_recall_2: 0.5691 - val_f1score: 0.1602\n",
      "Epoch 23/37\n",
      "41/40 [==============================] - 11s 272ms/step - loss: 0.6671 - acc: 0.7095 - auc: 0.8859 - precision_2: 0.6978 - recall_2: 0.5699 - f1score: 0.1780 - val_loss: 0.9559 - val_acc: 0.5935 - val_auc: 0.8863 - val_precision_2: 0.6985 - val_recall_2: 0.5713 - val_f1score: 0.1616\n",
      "Epoch 24/37\n",
      "41/40 [==============================] - 11s 271ms/step - loss: 0.6532 - acc: 0.7157 - auc: 0.8867 - precision_2: 0.6992 - recall_2: 0.5725 - f1score: 0.1798 - val_loss: 0.9646 - val_acc: 0.5981 - val_auc: 0.8872 - val_precision_2: 0.7001 - val_recall_2: 0.5739 - val_f1score: 0.1608\n",
      "Epoch 25/37\n",
      "41/40 [==============================] - 11s 273ms/step - loss: 0.6460 - acc: 0.7235 - auc: 0.8876 - precision_2: 0.7007 - recall_2: 0.5753 - f1score: 0.1804 - val_loss: 0.9480 - val_acc: 0.5864 - val_auc: 0.8880 - val_precision_2: 0.7013 - val_recall_2: 0.5765 - val_f1score: 0.1617\n",
      "Epoch 26/37\n",
      "41/40 [==============================] - 11s 273ms/step - loss: 0.6366 - acc: 0.7298 - auc: 0.8885 - precision_2: 0.7019 - recall_2: 0.5776 - f1score: nan - val_loss: 0.9940 - val_acc: 0.5607 - val_auc: 0.8888 - val_precision_2: 0.7023 - val_recall_2: 0.5788 - val_f1score: 0.1592\n",
      "Epoch 27/37\n",
      "41/40 [==============================] - 11s 273ms/step - loss: 0.6565 - acc: 0.7157 - auc: 0.8892 - precision_2: 0.7030 - recall_2: 0.5799 - f1score: nan - val_loss: 1.0182 - val_acc: 0.5724 - val_auc: 0.8895 - val_precision_2: 0.7032 - val_recall_2: 0.5807 - val_f1score: 0.1586\n",
      "Epoch 28/37\n",
      "41/40 [==============================] - 11s 272ms/step - loss: 0.6204 - acc: 0.7305 - auc: 0.8898 - precision_2: 0.7037 - recall_2: 0.5816 - f1score: 0.1824 - val_loss: 0.9475 - val_acc: 0.6051 - val_auc: 0.8903 - val_precision_2: 0.7043 - val_recall_2: 0.5829 - val_f1score: 0.1638\n"
     ]
    },
    {
     "name": "stdout",
     "output_type": "stream",
     "text": [
      "Epoch 29/37\n",
      "41/40 [==============================] - 11s 274ms/step - loss: 0.6126 - acc: 0.7539 - auc: 0.8909 - precision_2: 0.7051 - recall_2: 0.5845 - f1score: nan - val_loss: 1.0121 - val_acc: 0.5701 - val_auc: 0.8913 - val_precision_2: 0.7059 - val_recall_2: 0.5858 - val_f1score: 0.1592\n",
      "Epoch 30/37\n",
      "41/40 [==============================] - 11s 273ms/step - loss: 0.5959 - acc: 0.7516 - auc: 0.8918 - precision_2: 0.7069 - recall_2: 0.5872 - f1score: 0.1853 - val_loss: 1.0338 - val_acc: 0.6028 - val_auc: 0.8921 - val_precision_2: 0.7076 - val_recall_2: 0.5885 - val_f1score: 0.1637\n",
      "Epoch 31/37\n",
      "41/40 [==============================] - 12s 290ms/step - loss: 0.5642 - acc: 0.7570 - auc: 0.8927 - precision_2: 0.7084 - recall_2: 0.5898 - f1score: nan - val_loss: 0.9834 - val_acc: 0.6098 - val_auc: 0.8932 - val_precision_2: 0.7092 - val_recall_2: 0.5912 - val_f1score: 0.1639\n",
      "Epoch 32/37\n",
      "41/40 [==============================] - 11s 259ms/step - loss: 0.5561 - acc: 0.7702 - auc: 0.8937 - precision_2: 0.7101 - recall_2: 0.5925 - f1score: 0.1898 - val_loss: 1.0829 - val_acc: 0.5981 - val_auc: 0.8942 - val_precision_2: 0.7108 - val_recall_2: 0.5939 - val_f1score: 0.1622\n",
      "Epoch 33/37\n",
      "41/40 [==============================] - 11s 272ms/step - loss: 0.5834 - acc: 0.7671 - auc: 0.8946 - precision_2: 0.7118 - recall_2: 0.5954 - f1score: 0.1886 - val_loss: 1.0633 - val_acc: 0.5911 - val_auc: 0.8950 - val_precision_2: 0.7125 - val_recall_2: 0.5967 - val_f1score: 0.1622\n",
      "Epoch 34/37\n",
      "41/40 [==============================] - 11s 272ms/step - loss: 0.5985 - acc: 0.7282 - auc: 0.8953 - precision_2: 0.7128 - recall_2: 0.5974 - f1score: 0.1861 - val_loss: 1.0314 - val_acc: 0.6051 - val_auc: 0.8957 - val_precision_2: 0.7131 - val_recall_2: 0.5981 - val_f1score: 0.1641\n",
      "Epoch 35/37\n",
      "41/40 [==============================] - 11s 273ms/step - loss: 0.6086 - acc: 0.7438 - auc: 0.8961 - precision_2: 0.7137 - recall_2: 0.5991 - f1score: nan - val_loss: 0.9969 - val_acc: 0.5958 - val_auc: 0.8964 - val_precision_2: 0.7141 - val_recall_2: 0.5998 - val_f1score: 0.1613\n",
      "Epoch 36/37\n",
      "41/40 [==============================] - 11s 272ms/step - loss: 0.5773 - acc: 0.7601 - auc: 0.8967 - precision_2: 0.7147 - recall_2: 0.6007 - f1score: 0.1880 - val_loss: 1.0305 - val_acc: 0.5958 - val_auc: 0.8971 - val_precision_2: 0.7152 - val_recall_2: 0.6017 - val_f1score: 0.1617\n",
      "Epoch 37/37\n",
      "41/40 [==============================] - 11s 273ms/step - loss: 0.5679 - acc: 0.7671 - auc: 0.8975 - precision_2: 0.7161 - recall_2: 0.6028 - f1score: 0.1897 - val_loss: 0.9569 - val_acc: 0.6005 - val_auc: 0.8979 - val_precision_2: 0.7166 - val_recall_2: 0.6037 - val_f1score: 0.1624\n"
     ]
    }
   ],
   "source": [
    "import tensorflow as tf\n",
    "\n",
    "additional_model.compile(loss='categorical_crossentropy', \n",
    "              optimizer=optimizers.Adam(lr=1e-5),\n",
    "              metrics=['acc',tf.keras.metrics.AUC(name='auc'),\n",
    "                      tf.keras.metrics.Precision(),\n",
    "                      tf.keras.metrics.Recall(),f1score])\n",
    "\n",
    "history = additional_model.fit_generator(dgf, \n",
    "            steps_per_epoch=len(X_train)/32, \n",
    "            epochs=37, \n",
    "            validation_data=(X_val,y_val), \n",
    "            validation_steps=len(X_val)/32, \n",
    "            callbacks=[checkpoint])"
   ]
  },
  {
   "cell_type": "code",
   "execution_count": 18,
   "metadata": {},
   "outputs": [
    {
     "data": {
      "image/png": "[encoded data removed]",
      "text/plain": [
       "<Figure size 432x288 with 1 Axes>"
      ]
     },
     "metadata": {
      "needs_background": "light"
     },
     "output_type": "display_data"
    },
    {
     "data": {
      "image/png": "[encoded data removed]",
      "text/plain": [
       "<Figure size 432x288 with 1 Axes>"
      ]
     },
     "metadata": {
      "needs_background": "light"
     },
     "output_type": "display_data"
    }
   ],
   "source": [
    "acc = history.history['acc']\n",
    "val_acc = history.history['val_acc']\n",
    "loss = history.history['loss']\n",
    "val_loss = history.history['val_loss']\n",
    " \n",
    "epochs = range(1, len(acc) + 1)\n",
    " \n",
    "plt.plot(epochs, acc, 'bo', label='Training acc')\n",
    "plt.plot(epochs, val_acc, 'r', label='Validation acc')\n",
    "plt.title('Accuracy')\n",
    "plt.legend()\n",
    "plt.figure()\n",
    " \n",
    "plt.plot(epochs, loss, 'bo', label='Training loss')\n",
    "plt.plot(epochs, val_loss, 'r', label='Validation loss')\n",
    "plt.title('Loss')\n",
    "plt.legend()\n",
    " \n",
    "plt.show()"
   ]
  },
  {
   "cell_type": "code",
   "execution_count": 19,
   "metadata": {},
   "outputs": [],
   "source": [
    "X_test=np.load('X_test.npy')\n",
    "y_test=np.load('y_test.npy')"
   ]
  },
  {
   "cell_type": "code",
   "execution_count": 20,
   "metadata": {},
   "outputs": [
    {
     "name": "stdout",
     "output_type": "stream",
     "text": [
      "428/428 [==============================] - 1s 3ms/step\n",
      "loss: 0.957, accuracy: 0.600, auc: 0.898, precision: 0.716, recall: 0.603, f1score: 0.162\n"
     ]
    }
   ],
   "source": [
    "_loss, _acc, _auc, _precision, _recall, _f1score = additional_model.evaluate(X_val, y_val, batch_size=32)\n",
    "print('loss: {:.3f}, accuracy: {:.3f}, auc: {:.3f}, precision: {:.3f}, recall: {:.3f}, f1score: {:.3f}'.format(_loss, _acc, _auc, _precision, _recall, _f1score))"
   ]
  },
  {
   "cell_type": "code",
   "execution_count": 21,
   "metadata": {},
   "outputs": [
    {
     "name": "stdout",
     "output_type": "stream",
     "text": [
      "704/704 [==============================] - 2s 3ms/step\n",
      "loss: 96705.182, accuracy: 0.263, auc: 0.894, precision: 0.713, recall: 0.602, f1score: nan\n"
     ]
    }
   ],
   "source": [
    "_loss, _acc, _auc, _precision, _recall, _f1score = additional_model.evaluate(X_test, y_test, batch_size=32)\n",
    "print('loss: {:.3f}, accuracy: {:.3f}, auc: {:.3f}, precision: {:.3f}, recall: {:.3f}, f1score: {:.3f}'.format(_loss, _acc, _auc, _precision, _recall, _f1score))"
   ]
  },
  {
   "cell_type": "code",
   "execution_count": 1,
   "metadata": {},
   "outputs": [
    {
     "ename": "NameError",
     "evalue": "name 'additional_model' is not defined",
     "output_type": "error",
     "traceback": [
      "\u001b[1;31m---------------------------------------------------------------------------\u001b[0m",
      "\u001b[1;31mNameError\u001b[0m                                 Traceback (most recent call last)",
      "\u001b[1;32m<ipython-input-1-9769a3e80c8c>\u001b[0m in \u001b[0;36m<module>\u001b[1;34m\u001b[0m\n\u001b[1;32m----> 1\u001b[1;33m \u001b[0madditional_model\u001b[0m\u001b[1;33m.\u001b[0m\u001b[0msave\u001b[0m\u001b[1;33m(\u001b[0m\u001b[1;34m'VGG16_참고문헌.h5'\u001b[0m\u001b[1;33m)\u001b[0m\u001b[1;33m\u001b[0m\u001b[1;33m\u001b[0m\u001b[0m\n\u001b[0m",
      "\u001b[1;31mNameError\u001b[0m: name 'additional_model' is not defined"
     ]
    }
   ],
   "source": [
    "additional_model.save('VGG16_참고문헌.h5')"
   ]
  },
  {
   "cell_type": "code",
   "execution_count": 23,
   "metadata": {},
   "outputs": [
    {
     "data": {
      "text/plain": [
       "0.8588260522679616"
      ]
     },
     "execution_count": 23,
     "metadata": {},
     "output_type": "execute_result"
    }
   ],
   "source": [
    "from sklearn.metrics import roc_auc_score\n",
    "\n",
    "y_pred = additional_model.predict(X_val)\n",
    "roc_auc_score(y_val, y_pred)"
   ]
  },
  {
   "cell_type": "code",
   "execution_count": null,
   "metadata": {},
   "outputs": [],
   "source": []
  }
 ],
 "metadata": {
  "kernelspec": {
   "display_name": "Python 3",
   "language": "python",
   "name": "python3"
  },
  "language_info": {
   "codemirror_mode": {
    "name": "ipython",
    "version": 3
   },
   "file_extension": ".py",
   "mimetype": "text/x-python",
   "name": "python",
   "nbconvert_exporter": "python",
   "pygments_lexer": "ipython3",
   "version": "3.7.7"
  }
 },
 "nbformat": 4,
 "nbformat_minor": 2
}
