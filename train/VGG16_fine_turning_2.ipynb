{
 "cells": [
  {
   "cell_type": "code",
   "execution_count": 1,
   "metadata": {},
   "outputs": [
    {
     "data": {
      "text/plain": [
       "'C:\\\\Users\\\\Owner2\\\\Desktop\\\\G팔로미_vuno'"
      ]
     },
     "execution_count": 1,
     "metadata": {},
     "output_type": "execute_result"
    }
   ],
   "source": [
    "import os\n",
    "import pandas as pd\n",
    "from matplotlib import pyplot as plt\n",
    "import cv2\n",
    "import numpy as np\n",
    "\n",
    "#data path 수정\n",
    "os.chdir(\"C:\\\\Users\\\\Owner2\\\\Desktop\\\\G팔로미_vuno\")\n",
    "os.getcwd()"
   ]
  },
  {
   "cell_type": "code",
   "execution_count": 2,
   "metadata": {},
   "outputs": [],
   "source": [
    "X=np.load('data_X_with_callback.npy')\n",
    "y=np.load('data_y_with_callback.npy')"
   ]
  },
  {
   "cell_type": "code",
   "execution_count": 3,
   "metadata": {},
   "outputs": [],
   "source": [
    "#train, validation set 분리\n",
    "from sklearn.model_selection import train_test_split\n",
    "\n",
    "X_train, X_val, y_train, y_val = train_test_split(X,y,test_size=0.2)"
   ]
  },
  {
   "cell_type": "code",
   "execution_count": 4,
   "metadata": {},
   "outputs": [
    {
     "name": "stderr",
     "output_type": "stream",
     "text": [
      "Using TensorFlow backend.\n"
     ]
    }
   ],
   "source": [
    "from keras.preprocessing.image import ImageDataGenerator\n",
    "\n",
    "datagen = ImageDataGenerator(\n",
    "    #featurewise_center=True, #center 중심 유지\n",
    "    #featurewise_std_normalization=True, #normalization\n",
    "    rotation_range=25.0,\n",
    "    #width_shift_range=0.2,\n",
    "    #height_shift_range=0.2,\n",
    "    #brightness_range=[0.2,1.0],\n",
    "    zoom_range=[0.8,1.2],\n",
    "    horizontal_flip=True) #수평방향 뒤집기\n",
    "\n",
    "datagen.fit(X_train)\n",
    "\n",
    "dgf=datagen.flow(X_train,y_train,batch_size=32)"
   ]
  },
  {
   "cell_type": "code",
   "execution_count": 5,
   "metadata": {},
   "outputs": [
    {
     "name": "stdout",
     "output_type": "stream",
     "text": [
      "Model: \"vgg16\"\n",
      "_________________________________________________________________\n",
      "Layer (type)                 Output Shape              Param #   \n",
      "=================================================================\n",
      "input_1 (InputLayer)         (None, 224, 224, 3)       0         \n",
      "_________________________________________________________________\n",
      "block1_conv1 (Conv2D)        (None, 224, 224, 64)      1792      \n",
      "_________________________________________________________________\n",
      "block1_conv2 (Conv2D)        (None, 224, 224, 64)      36928     \n",
      "_________________________________________________________________\n",
      "block1_pool (MaxPooling2D)   (None, 112, 112, 64)      0         \n",
      "_________________________________________________________________\n",
      "block2_conv1 (Conv2D)        (None, 112, 112, 128)     73856     \n",
      "_________________________________________________________________\n",
      "block2_conv2 (Conv2D)        (None, 112, 112, 128)     147584    \n",
      "_________________________________________________________________\n",
      "block2_pool (MaxPooling2D)   (None, 56, 56, 128)       0         \n",
      "_________________________________________________________________\n",
      "block3_conv1 (Conv2D)        (None, 56, 56, 256)       295168    \n",
      "_________________________________________________________________\n",
      "block3_conv2 (Conv2D)        (None, 56, 56, 256)       590080    \n",
      "_________________________________________________________________\n",
      "block3_conv3 (Conv2D)        (None, 56, 56, 256)       590080    \n",
      "_________________________________________________________________\n",
      "block3_pool (MaxPooling2D)   (None, 28, 28, 256)       0         \n",
      "_________________________________________________________________\n",
      "block4_conv1 (Conv2D)        (None, 28, 28, 512)       1180160   \n",
      "_________________________________________________________________\n",
      "block4_conv2 (Conv2D)        (None, 28, 28, 512)       2359808   \n",
      "_________________________________________________________________\n",
      "block4_conv3 (Conv2D)        (None, 28, 28, 512)       2359808   \n",
      "_________________________________________________________________\n",
      "block4_pool (MaxPooling2D)   (None, 14, 14, 512)       0         \n",
      "_________________________________________________________________\n",
      "block5_conv1 (Conv2D)        (None, 14, 14, 512)       2359808   \n",
      "_________________________________________________________________\n",
      "block5_conv2 (Conv2D)        (None, 14, 14, 512)       2359808   \n",
      "_________________________________________________________________\n",
      "block5_conv3 (Conv2D)        (None, 14, 14, 512)       2359808   \n",
      "_________________________________________________________________\n",
      "block5_pool (MaxPooling2D)   (None, 7, 7, 512)         0         \n",
      "=================================================================\n",
      "Total params: 14,714,688\n",
      "Trainable params: 0\n",
      "Non-trainable params: 14,714,688\n",
      "_________________________________________________________________\n"
     ]
    }
   ],
   "source": [
    "from keras import models, layers\n",
    "from keras import Input\n",
    "from keras.applications import VGG16\n",
    "from keras.models import Model, load_model\n",
    "from keras.preprocessing.image import ImageDataGenerator\n",
    "from keras import optimizers, initializers, regularizers, metrics\n",
    "from keras.callbacks import ModelCheckpoint, EarlyStopping\n",
    "from keras.layers import BatchNormalization, Conv2D, Activation, Dense, GlobalAveragePooling2D, MaxPooling2D, ZeroPadding2D, Add\n",
    "\n",
    "model = VGG16(weights='imagenet', include_top=False, input_shape=(224, 224, 3))\n",
    "model.trainable = False\n",
    "model.summary()"
   ]
  },
  {
   "cell_type": "code",
   "execution_count": 6,
   "metadata": {},
   "outputs": [
    {
     "name": "stdout",
     "output_type": "stream",
     "text": [
      "Model: \"model_1\"\n",
      "_________________________________________________________________\n",
      "Layer (type)                 Output Shape              Param #   \n",
      "=================================================================\n",
      "input_1 (InputLayer)         (None, 224, 224, 3)       0         \n",
      "_________________________________________________________________\n",
      "block1_conv1 (Conv2D)        (None, 224, 224, 64)      1792      \n",
      "_________________________________________________________________\n",
      "block1_conv2 (Conv2D)        (None, 224, 224, 64)      36928     \n",
      "_________________________________________________________________\n",
      "block1_pool (MaxPooling2D)   (None, 112, 112, 64)      0         \n",
      "_________________________________________________________________\n",
      "block2_conv1 (Conv2D)        (None, 112, 112, 128)     73856     \n",
      "_________________________________________________________________\n",
      "block2_conv2 (Conv2D)        (None, 112, 112, 128)     147584    \n",
      "_________________________________________________________________\n",
      "block2_pool (MaxPooling2D)   (None, 56, 56, 128)       0         \n",
      "_________________________________________________________________\n",
      "block3_conv1 (Conv2D)        (None, 56, 56, 256)       295168    \n",
      "_________________________________________________________________\n",
      "block3_conv2 (Conv2D)        (None, 56, 56, 256)       590080    \n",
      "_________________________________________________________________\n",
      "block3_conv3 (Conv2D)        (None, 56, 56, 256)       590080    \n",
      "_________________________________________________________________\n",
      "block3_pool (MaxPooling2D)   (None, 28, 28, 256)       0         \n",
      "_________________________________________________________________\n",
      "block4_conv1 (Conv2D)        (None, 28, 28, 512)       1180160   \n",
      "_________________________________________________________________\n",
      "block4_conv2 (Conv2D)        (None, 28, 28, 512)       2359808   \n",
      "_________________________________________________________________\n",
      "block4_conv3 (Conv2D)        (None, 28, 28, 512)       2359808   \n",
      "_________________________________________________________________\n",
      "block4_pool (MaxPooling2D)   (None, 14, 14, 512)       0         \n",
      "_________________________________________________________________\n",
      "block5_conv1 (Conv2D)        (None, 14, 14, 512)       2359808   \n",
      "_________________________________________________________________\n",
      "block5_conv2 (Conv2D)        (None, 14, 14, 512)       2359808   \n",
      "_________________________________________________________________\n",
      "block5_conv3 (Conv2D)        (None, 14, 14, 512)       2359808   \n",
      "_________________________________________________________________\n",
      "block5_pool (MaxPooling2D)   (None, 7, 7, 512)         0         \n",
      "_________________________________________________________________\n",
      "flatten_1 (Flatten)          (None, 25088)             0         \n",
      "_________________________________________________________________\n",
      "dense_1 (Dense)              (None, 4)                 100356    \n",
      "=================================================================\n",
      "Total params: 14,815,044\n",
      "Trainable params: 100,356\n",
      "Non-trainable params: 14,714,688\n",
      "_________________________________________________________________\n"
     ]
    }
   ],
   "source": [
    "for layer in model.layers:\n",
    "    layer.trainable=False\n",
    "\n",
    "x=model.output\n",
    "x=layers.Flatten()(x)\n",
    "outputs=Dense(4, activation='softmax')(x)\n",
    "\n",
    "additional_model=Model(inputs=model.input, outputs=outputs)\n",
    "\n",
    "additional_model.summary()"
   ]
  },
  {
   "cell_type": "code",
   "execution_count": 7,
   "metadata": {},
   "outputs": [],
   "source": [
    "def f1score(precision, recall):\n",
    "    _f1score = ( 2 * recall * precision) / (recall + precision)\n",
    "    \n",
    "    # return a single tensor value\n",
    "    return _f1score"
   ]
  },
  {
   "cell_type": "code",
   "execution_count": 8,
   "metadata": {},
   "outputs": [],
   "source": [
    "# checkpoint = ModelCheckpoint(filepath='My_VGG_{epoch:03d}_{val_loss:.7f}.hdf5',monitor='loss', mode='min', save_best_only=True)\n",
    "checkpoint = ModelCheckpoint(filepath='VGG16_fine_tuning_3.hdf5', \n",
    "            monitor='val_acc',\n",
    "            mode='max', \n",
    "            save_best_only=True)"
   ]
  },
  {
   "cell_type": "code",
   "execution_count": 9,
   "metadata": {},
   "outputs": [],
   "source": [
    "import tensorflow as tf\n",
    "\n",
    "additional_model.compile(loss='categorical_crossentropy', \n",
    "              optimizer=optimizers.Adam(lr=1e-4),\n",
    "              metrics=['acc',tf.keras.metrics.AUC(),\n",
    "                      tf.keras.metrics.Precision(),\n",
    "                      tf.keras.metrics.Recall(),f1score])"
   ]
  },
  {
   "cell_type": "code",
   "execution_count": 10,
   "metadata": {},
   "outputs": [],
   "source": [
    "class_weight = {0: 0.8,\n",
    "                1: 1,\n",
    "                2: 1,\n",
    "                3: 1}"
   ]
  },
  {
   "cell_type": "code",
   "execution_count": 11,
   "metadata": {},
   "outputs": [
    {
     "name": "stdout",
     "output_type": "stream",
     "text": [
      "Epoch 1/5\n",
      "54/53 [==============================] - 18s 324ms/step - loss: 1.2393 - acc: 0.3765 - auc: 0.5940 - precision: 0.5344 - recall: 0.0224 - f1score: 0.1082 - val_loss: 1.2154 - val_acc: 0.4848 - val_auc: 0.6470 - val_precision: 0.7629 - val_recall: 0.0368 - val_f1score: 0.1168\n",
      "Epoch 2/5\n",
      "54/53 [==============================] - 15s 269ms/step - loss: 1.1334 - acc: 0.4551 - auc: 0.6762 - precision: 0.8184 - recall: 0.0494 - f1score: 0.1190 - val_loss: 1.1388 - val_acc: 0.5315 - val_auc: 0.6978 - val_precision: 0.8325 - val_recall: 0.0674 - val_f1score: 0.1248\n",
      "Epoch 3/5\n",
      "54/53 [==============================] - 16s 295ms/step - loss: 1.0682 - acc: 0.5099 - auc: 0.7161 - precision: 0.8438 - recall: 0.0771 - f1score: 0.1257 - val_loss: 1.0966 - val_acc: 0.5524 - val_auc: 0.7298 - val_precision: 0.8443 - val_recall: 0.0867 - val_f1score: 0.1293\n",
      "Epoch 4/5\n",
      "54/53 [==============================] - 16s 287ms/step - loss: 1.0300 - acc: 0.5210 - auc: 0.7400 - precision: 0.8410 - recall: 0.0986 - f1score: 0.1304 - val_loss: 1.0898 - val_acc: 0.5315 - val_auc: 0.7483 - val_precision: 0.8273 - val_recall: 0.1105 - val_f1score: 0.1318\n",
      "Epoch 5/5\n",
      "54/53 [==============================] - 16s 291ms/step - loss: 1.0031 - acc: 0.5390 - auc: 0.7549 - precision: 0.8239 - recall: 0.1198 - f1score: 0.1332 - val_loss: 1.1051 - val_acc: 0.4895 - val_auc: 0.7599 - val_precision: 0.8192 - val_recall: 0.1287 - val_f1score: 0.1312\n"
     ]
    }
   ],
   "source": [
    "history = additional_model.fit_generator(dgf, \n",
    "            steps_per_epoch=len(X_train)/32, \n",
    "            epochs=5, \n",
    "            validation_data=(X_val,y_val), \n",
    "            validation_steps=len(X_val)/32, \n",
    "            callbacks=[checkpoint],\n",
    "            class_weight=class_weight)"
   ]
  },
  {
   "cell_type": "code",
   "execution_count": 14,
   "metadata": {},
   "outputs": [],
   "source": [
    "for layer in additional_model.layers[:11]:\n",
    "    layer.trainable=False\n",
    "\n",
    "for layer in additional_model.layers[11:]:\n",
    "    layer.trainable=True"
   ]
  },
  {
   "cell_type": "code",
   "execution_count": 15,
   "metadata": {},
   "outputs": [
    {
     "name": "stdout",
     "output_type": "stream",
     "text": [
      "<keras.engine.input_layer.InputLayer object at 0x0000021543DA8148> False\n",
      "<keras.layers.convolutional.Conv2D object at 0x0000021500C1BD48> False\n",
      "<keras.layers.convolutional.Conv2D object at 0x0000021500C1BE08> False\n",
      "<keras.layers.pooling.MaxPooling2D object at 0x0000021500C7AC08> False\n",
      "<keras.layers.convolutional.Conv2D object at 0x0000021500C7AFC8> False\n",
      "<keras.layers.convolutional.Conv2D object at 0x0000021500DCBF08> False\n",
      "<keras.layers.pooling.MaxPooling2D object at 0x0000021500DC4DC8> False\n",
      "<keras.layers.convolutional.Conv2D object at 0x0000021500DC4288> False\n",
      "<keras.layers.convolutional.Conv2D object at 0x0000021500DD9308> False\n",
      "<keras.layers.convolutional.Conv2D object at 0x0000021500DDE2C8> False\n",
      "<keras.layers.pooling.MaxPooling2D object at 0x0000021500DEBB48> False\n",
      "<keras.layers.convolutional.Conv2D object at 0x0000021500DEB908> True\n",
      "<keras.layers.convolutional.Conv2D object at 0x0000021500DF4788> True\n",
      "<keras.layers.convolutional.Conv2D object at 0x0000021500DF6288> True\n",
      "<keras.layers.pooling.MaxPooling2D object at 0x0000021500DFE988> True\n",
      "<keras.layers.convolutional.Conv2D object at 0x0000021500F436C8> True\n",
      "<keras.layers.convolutional.Conv2D object at 0x0000021500F4DC48> True\n",
      "<keras.layers.convolutional.Conv2D object at 0x0000021500DD1048> True\n",
      "<keras.layers.pooling.MaxPooling2D object at 0x0000021500F56D48> True\n",
      "<keras.layers.core.Flatten object at 0x0000021500F6AEC8> True\n",
      "<keras.layers.core.Dense object at 0x0000021500F6AE88> True\n",
      "Model: \"model_1\"\n",
      "_________________________________________________________________\n",
      "Layer (type)                 Output Shape              Param #   \n",
      "=================================================================\n",
      "input_1 (InputLayer)         (None, 224, 224, 3)       0         \n",
      "_________________________________________________________________\n",
      "block1_conv1 (Conv2D)        (None, 224, 224, 64)      1792      \n",
      "_________________________________________________________________\n",
      "block1_conv2 (Conv2D)        (None, 224, 224, 64)      36928     \n",
      "_________________________________________________________________\n",
      "block1_pool (MaxPooling2D)   (None, 112, 112, 64)      0         \n",
      "_________________________________________________________________\n",
      "block2_conv1 (Conv2D)        (None, 112, 112, 128)     73856     \n",
      "_________________________________________________________________\n",
      "block2_conv2 (Conv2D)        (None, 112, 112, 128)     147584    \n",
      "_________________________________________________________________\n",
      "block2_pool (MaxPooling2D)   (None, 56, 56, 128)       0         \n",
      "_________________________________________________________________\n",
      "block3_conv1 (Conv2D)        (None, 56, 56, 256)       295168    \n",
      "_________________________________________________________________\n",
      "block3_conv2 (Conv2D)        (None, 56, 56, 256)       590080    \n",
      "_________________________________________________________________\n",
      "block3_conv3 (Conv2D)        (None, 56, 56, 256)       590080    \n",
      "_________________________________________________________________\n",
      "block3_pool (MaxPooling2D)   (None, 28, 28, 256)       0         \n",
      "_________________________________________________________________\n",
      "block4_conv1 (Conv2D)        (None, 28, 28, 512)       1180160   \n",
      "_________________________________________________________________\n",
      "block4_conv2 (Conv2D)        (None, 28, 28, 512)       2359808   \n",
      "_________________________________________________________________\n",
      "block4_conv3 (Conv2D)        (None, 28, 28, 512)       2359808   \n",
      "_________________________________________________________________\n",
      "block4_pool (MaxPooling2D)   (None, 14, 14, 512)       0         \n",
      "_________________________________________________________________\n",
      "block5_conv1 (Conv2D)        (None, 14, 14, 512)       2359808   \n",
      "_________________________________________________________________\n",
      "block5_conv2 (Conv2D)        (None, 14, 14, 512)       2359808   \n",
      "_________________________________________________________________\n",
      "block5_conv3 (Conv2D)        (None, 14, 14, 512)       2359808   \n",
      "_________________________________________________________________\n",
      "block5_pool (MaxPooling2D)   (None, 7, 7, 512)         0         \n",
      "_________________________________________________________________\n",
      "flatten_1 (Flatten)          (None, 25088)             0         \n",
      "_________________________________________________________________\n",
      "dense_1 (Dense)              (None, 4)                 100356    \n",
      "=================================================================\n",
      "Total params: 1,835,844\n",
      "Trainable params: 100,356\n",
      "Non-trainable params: 1,735,488\n",
      "_________________________________________________________________\n"
     ]
    }
   ],
   "source": [
    "for layer in additional_model.layers:\n",
    "    print(layer, layer.trainable)\n",
    "    \n",
    "additional_model.summary()"
   ]
  },
  {
   "cell_type": "code",
   "execution_count": 16,
   "metadata": {},
   "outputs": [],
   "source": [
    "import tensorflow as tf\n",
    "\n",
    "additional_model.compile(loss='categorical_crossentropy', \n",
    "              optimizer=optimizers.Adam(lr=1e-5),\n",
    "              metrics=['acc',tf.keras.metrics.AUC(),\n",
    "                      tf.keras.metrics.Precision(),\n",
    "                      tf.keras.metrics.Recall(),f1score])"
   ]
  },
  {
   "cell_type": "code",
   "execution_count": 17,
   "metadata": {},
   "outputs": [
    {
     "name": "stdout",
     "output_type": "stream",
     "text": [
      "Epoch 1/10\n",
      "54/53 [==============================] - 17s 306ms/step - loss: 0.9160 - acc: 0.5752 - auc_1: 0.8222 - precision_1: 0.7075 - recall_1: 0.3175 - f1score: 0.1460 - val_loss: 0.9473 - val_acc: 0.5781 - val_auc_1: 0.8327 - val_precision_1: 0.7059 - val_recall_1: 0.3786 - val_f1score: 0.1510\n",
      "Epoch 2/10\n",
      "54/53 [==============================] - 15s 277ms/step - loss: 0.8170 - acc: 0.6084 - auc_1: 0.8409 - precision_1: 0.7055 - recall_1: 0.3948 - f1score: 0.1565 - val_loss: 0.8233 - val_acc: 0.6480 - val_auc_1: 0.8504 - val_precision_1: 0.7139 - val_recall_1: 0.4155 - val_f1score: 0.1616\n",
      "Epoch 3/10\n",
      "54/53 [==============================] - 15s 279ms/step - loss: 0.7864 - acc: 0.6410 - auc_1: 0.8556 - precision_1: 0.7150 - recall_1: 0.4316 - f1score: 0.1610 - val_loss: 0.8312 - val_acc: 0.6084 - val_auc_1: 0.8599 - val_precision_1: 0.7132 - val_recall_1: 0.4473 - val_f1score: 0.1639\n",
      "Epoch 4/10\n",
      "54/53 [==============================] - 15s 282ms/step - loss: 0.7494 - acc: 0.6608 - auc_1: 0.8638 - precision_1: 0.7156 - recall_1: 0.4617 - f1score: 0.1655 - val_loss: 0.7638 - val_acc: 0.6643 - val_auc_1: 0.8673 - val_precision_1: 0.7188 - val_recall_1: 0.4757 - val_f1score: 0.1690\n",
      "Epoch 5/10\n",
      "54/53 [==============================] - 15s 278ms/step - loss: 0.7240 - acc: 0.6707 - auc_1: 0.8706 - precision_1: 0.7220 - recall_1: 0.4859 - f1score: 0.1677 - val_loss: 0.7878 - val_acc: 0.6620 - val_auc_1: 0.8734 - val_precision_1: 0.7234 - val_recall_1: 0.4953 - val_f1score: 0.1687\n",
      "Epoch 6/10\n",
      "54/53 [==============================] - 15s 282ms/step - loss: 0.7031 - acc: 0.6853 - auc_1: 0.8757 - precision_1: 0.7244 - recall_1: 0.5029 - f1score: 0.1702 - val_loss: 0.7982 - val_acc: 0.6550 - val_auc_1: 0.8779 - val_precision_1: 0.7264 - val_recall_1: 0.5107 - val_f1score: 0.1683\n",
      "Epoch 7/10\n",
      "54/53 [==============================] - 15s 281ms/step - loss: 0.6895 - acc: 0.6876 - auc_1: 0.8798 - precision_1: 0.7273 - recall_1: 0.5159 - f1score: 0.1719 - val_loss: 0.9049 - val_acc: 0.6014 - val_auc_1: 0.8809 - val_precision_1: 0.7274 - val_recall_1: 0.5210 - val_f1score: 0.1610\n",
      "Epoch 8/10\n",
      "54/53 [==============================] - 15s 280ms/step - loss: 0.7066 - acc: 0.6690 - auc_1: 0.8819 - precision_1: 0.7265 - recall_1: 0.5253 - f1score: 0.1707 - val_loss: 0.7753 - val_acc: 0.6713 - val_auc_1: 0.8827 - val_precision_1: 0.7270 - val_recall_1: 0.5286 - val_f1score: 0.1687\n",
      "Epoch 9/10\n",
      "54/53 [==============================] - 15s 278ms/step - loss: 0.6607 - acc: 0.6987 - auc_1: 0.8842 - precision_1: 0.7288 - recall_1: 0.5331 - f1score: 0.1740 - val_loss: 0.8104 - val_acc: 0.6550 - val_auc_1: 0.8857 - val_precision_1: 0.7300 - val_recall_1: 0.5373 - val_f1score: 0.1682\n",
      "Epoch 10/10\n",
      "54/53 [==============================] - 15s 281ms/step - loss: 0.6273 - acc: 0.7133 - auc_1: 0.8874 - precision_1: 0.7315 - recall_1: 0.5420 - f1score: 0.1785 - val_loss: 0.7814 - val_acc: 0.6434 - val_auc_1: 0.8889 - val_precision_1: 0.7326 - val_recall_1: 0.5465 - val_f1score: 0.1710\n"
     ]
    }
   ],
   "source": [
    "history = additional_model.fit_generator(dgf, \n",
    "            steps_per_epoch=len(X_train)/32, \n",
    "            epochs=10, \n",
    "            validation_data=(X_val,y_val), \n",
    "            validation_steps=len(X_val)/32, \n",
    "            callbacks=[checkpoint],\n",
    "            class_weight=class_weight)"
   ]
  },
  {
   "cell_type": "code",
   "execution_count": 18,
   "metadata": {},
   "outputs": [
    {
     "data": {
      "image/png": "[encoded data removed]",
      "text/plain": [
       "<Figure size 432x288 with 1 Axes>"
      ]
     },
     "metadata": {
      "needs_background": "light"
     },
     "output_type": "display_data"
    },
    {
     "data": {
      "image/png": "[encoded data removed]",
      "text/plain": [
       "<Figure size 432x288 with 1 Axes>"
      ]
     },
     "metadata": {
      "needs_background": "light"
     },
     "output_type": "display_data"
    }
   ],
   "source": [
    "acc = history.history['acc']\n",
    "val_acc = history.history['val_acc']\n",
    "loss = history.history['loss']\n",
    "val_loss = history.history['val_loss']\n",
    " \n",
    "epochs = range(1, len(acc) + 1)\n",
    " \n",
    "plt.plot(epochs, acc, 'bo', label='Training acc')\n",
    "plt.plot(epochs, val_acc, 'r', label='Validation acc')\n",
    "plt.title('Accuracy')\n",
    "plt.legend()\n",
    "plt.figure()\n",
    " \n",
    "plt.plot(epochs, loss, 'bo', label='Training loss')\n",
    "plt.plot(epochs, val_loss, 'r', label='Validation loss')\n",
    "plt.title('Loss')\n",
    "plt.legend()\n",
    " \n",
    "plt.show()"
   ]
  },
  {
   "cell_type": "code",
   "execution_count": 19,
   "metadata": {},
   "outputs": [],
   "source": [
    "for layer in additional_model.layers:\n",
    "    layer.trainable=True"
   ]
  },
  {
   "cell_type": "code",
   "execution_count": 20,
   "metadata": {},
   "outputs": [
    {
     "name": "stdout",
     "output_type": "stream",
     "text": [
      "Epoch 1/37\n",
      "54/53 [==============================] - 17s 314ms/step - loss: 0.6013 - acc: 0.7401 - auc: 0.9213 - precision_2: 0.7735 - recall_2: 0.6354 - f1score: 0.1814 - val_loss: 0.7655 - val_acc: 0.6807 - val_auc: 0.9259 - val_precision_2: 0.7887 - val_recall_2: 0.6589 - val_f1score: 0.1725\n",
      "Epoch 2/37\n",
      "54/53 [==============================] - 15s 276ms/step - loss: 0.5821 - acc: 0.7506 - auc: 0.9270 - precision_2: 0.7852 - recall_2: 0.6620 - f1score: 0.1831 - val_loss: 0.8163 - val_acc: 0.6620 - val_auc: 0.9257 - val_precision_2: 0.7816 - val_recall_2: 0.6617 - val_f1score: 0.1698\n",
      "Epoch 3/37\n",
      "54/53 [==============================] - 15s 284ms/step - loss: 0.5833 - acc: 0.7535 - auc: 0.9253 - precision_2: 0.7801 - recall_2: 0.6627 - f1score: 0.1835 - val_loss: 0.8043 - val_acc: 0.6573 - val_auc: 0.9253 - val_precision_2: 0.7796 - val_recall_2: 0.6642 - val_f1score: 0.1704\n",
      "Epoch 4/37\n",
      "54/53 [==============================] - 15s 281ms/step - loss: 0.5878 - acc: 0.7500 - auc: 0.9255 - precision_2: 0.7800 - recall_2: 0.6644 - f1score: 0.1827 - val_loss: 0.7738 - val_acc: 0.6760 - val_auc: 0.9250 - val_precision_2: 0.7794 - val_recall_2: 0.6640 - val_f1score: 0.1728\n",
      "Epoch 5/37\n",
      "54/53 [==============================] - 15s 282ms/step - loss: 0.5822 - acc: 0.7348 - auc: 0.9251 - precision_2: 0.7785 - recall_2: 0.6640 - f1score: 0.1830 - val_loss: 0.7855 - val_acc: 0.6643 - val_auc: 0.9250 - val_precision_2: 0.7771 - val_recall_2: 0.6630 - val_f1score: 0.1719\n",
      "Epoch 6/37\n",
      "54/53 [==============================] - 15s 279ms/step - loss: 0.5683 - acc: 0.7558 - auc: 0.9254 - precision_2: 0.7785 - recall_2: 0.6644 - f1score: 0.1846 - val_loss: 0.7709 - val_acc: 0.6760 - val_auc: 0.9256 - val_precision_2: 0.7797 - val_recall_2: 0.6658 - val_f1score: 0.1734\n",
      "Epoch 7/37\n",
      "54/53 [==============================] - 15s 284ms/step - loss: 0.5736 - acc: 0.7500 - auc: 0.9258 - precision_2: 0.7803 - recall_2: 0.6667 - f1score: 0.1844 - val_loss: 0.7814 - val_acc: 0.6667 - val_auc: 0.9259 - val_precision_2: 0.7812 - val_recall_2: 0.6677 - val_f1score: 0.1727\n",
      "Epoch 8/37\n",
      "54/53 [==============================] - 15s 280ms/step - loss: 0.5643 - acc: 0.7564 - auc: 0.9263 - precision_2: 0.7819 - recall_2: 0.6688 - f1score: 0.1851 - val_loss: 0.8691 - val_acc: 0.6410 - val_auc: 0.9260 - val_precision_2: 0.7809 - val_recall_2: 0.6685 - val_f1score: 0.1672\n",
      "Epoch 9/37\n",
      "54/53 [==============================] - 15s 282ms/step - loss: 0.5597 - acc: 0.7523 - auc: 0.9260 - precision_2: 0.7802 - recall_2: 0.6682 - f1score: 0.1854 - val_loss: 0.7712 - val_acc: 0.6667 - val_auc: 0.9262 - val_precision_2: 0.7803 - val_recall_2: 0.6686 - val_f1score: 0.1735\n",
      "Epoch 10/37\n",
      "54/53 [==============================] - 15s 286ms/step - loss: 0.5635 - acc: 0.7558 - auc: 0.9265 - precision_2: 0.7807 - recall_2: 0.6696 - f1score: 0.1855 - val_loss: 0.7847 - val_acc: 0.6830 - val_auc: 0.9265 - val_precision_2: 0.7809 - val_recall_2: 0.6703 - val_f1score: 0.1727\n",
      "Epoch 11/37\n",
      "54/53 [==============================] - 15s 285ms/step - loss: 0.5624 - acc: 0.7576 - auc: 0.9267 - precision_2: 0.7814 - recall_2: 0.6709 - f1score: 0.1856 - val_loss: 0.7849 - val_acc: 0.6737 - val_auc: 0.9267 - val_precision_2: 0.7810 - val_recall_2: 0.6710 - val_f1score: 0.1728\n",
      "Epoch 12/37\n",
      "54/53 [==============================] - 15s 284ms/step - loss: 0.5652 - acc: 0.7570 - auc: 0.9269 - precision_2: 0.7810 - recall_2: 0.6716 - f1score: 0.1857 - val_loss: 0.7688 - val_acc: 0.6760 - val_auc: 0.9269 - val_precision_2: 0.7809 - val_recall_2: 0.6717 - val_f1score: 0.1737\n",
      "Epoch 13/37\n",
      "54/53 [==============================] - 15s 281ms/step - loss: 0.5514 - acc: 0.7529 - auc: 0.9273 - precision_2: 0.7811 - recall_2: 0.6722 - f1score: 0.1864 - val_loss: 0.8220 - val_acc: 0.6434 - val_auc: 0.9272 - val_precision_2: 0.7807 - val_recall_2: 0.6720 - val_f1score: 0.1704\n",
      "Epoch 14/37\n",
      "54/53 [==============================] - 15s 284ms/step - loss: 0.5540 - acc: 0.7593 - auc: 0.9273 - precision_2: 0.7811 - recall_2: 0.6725 - f1score: 0.1863 - val_loss: 0.7923 - val_acc: 0.6620 - val_auc: 0.9273 - val_precision_2: 0.7811 - val_recall_2: 0.6725 - val_f1score: 0.1725\n",
      "Epoch 15/37\n",
      "54/53 [==============================] - 15s 281ms/step - loss: 0.5490 - acc: 0.7552 - auc: 0.9275 - precision_2: 0.7809 - recall_2: 0.6729 - f1score: 0.1868 - val_loss: 0.8092 - val_acc: 0.6667 - val_auc: 0.9275 - val_precision_2: 0.7808 - val_recall_2: 0.6731 - val_f1score: 0.1715\n",
      "Epoch 16/37\n",
      "54/53 [==============================] - 15s 281ms/step - loss: 0.5607 - acc: 0.7576 - auc: 0.9277 - precision_2: 0.7812 - recall_2: 0.6736 - f1score: 0.1866 - val_loss: 0.8094 - val_acc: 0.6550 - val_auc: 0.9276 - val_precision_2: 0.7809 - val_recall_2: 0.6737 - val_f1score: 0.1718\n",
      "Epoch 17/37\n",
      "54/53 [==============================] - 15s 283ms/step - loss: 0.5274 - acc: 0.7686 - auc: 0.9279 - precision_2: 0.7811 - recall_2: 0.6743 - f1score: 0.1892 - val_loss: 0.7473 - val_acc: 0.6760 - val_auc: 0.9281 - val_precision_2: 0.7813 - val_recall_2: 0.6750 - val_f1score: 0.1757\n",
      "Epoch 18/37\n",
      "54/53 [==============================] - 15s 280ms/step - loss: 0.5404 - acc: 0.7634 - auc: 0.9283 - precision_2: 0.7813 - recall_2: 0.6754 - f1score: 0.1878 - val_loss: 0.7771 - val_acc: 0.6783 - val_auc: 0.9284 - val_precision_2: 0.7813 - val_recall_2: 0.6760 - val_f1score: 0.1737\n",
      "Epoch 19/37\n",
      "54/53 [==============================] - 15s 279ms/step - loss: 0.5407 - acc: 0.7552 - auc: 0.9286 - precision_2: 0.7814 - recall_2: 0.6763 - f1score: 0.1876 - val_loss: 0.7651 - val_acc: 0.6830 - val_auc: 0.9286 - val_precision_2: 0.7811 - val_recall_2: 0.6765 - val_f1score: 0.1747\n",
      "Epoch 20/37\n",
      "54/53 [==============================] - 15s 282ms/step - loss: 0.5361 - acc: 0.7751 - auc: 0.9289 - precision_2: 0.7816 - recall_2: 0.6771 - f1score: 0.1887 - val_loss: 0.7631 - val_acc: 0.6760 - val_auc: 0.9290 - val_precision_2: 0.7818 - val_recall_2: 0.6776 - val_f1score: 0.1748\n",
      "Epoch 21/37\n",
      "54/53 [==============================] - 16s 294ms/step - loss: 0.5236 - acc: 0.7657 - auc: 0.9292 - precision_2: 0.7820 - recall_2: 0.6781 - f1score: 0.1893 - val_loss: 0.8046 - val_acc: 0.6597 - val_auc: 0.9293 - val_precision_2: 0.7824 - val_recall_2: 0.6787 - val_f1score: 0.1726\n",
      "Epoch 22/37\n",
      "54/53 [==============================] - 16s 296ms/step - loss: 0.5342 - acc: 0.7646 - auc: 0.9294 - precision_2: 0.7825 - recall_2: 0.6792 - f1score: 0.1888 - val_loss: 0.8171 - val_acc: 0.6620 - val_auc: 0.9295 - val_precision_2: 0.7827 - val_recall_2: 0.6796 - val_f1score: 0.1720\n",
      "Epoch 23/37\n",
      "54/53 [==============================] - 15s 280ms/step - loss: 0.5304 - acc: 0.7704 - auc: 0.9296 - precision_2: 0.7827 - recall_2: 0.6802 - f1score: 0.1892 - val_loss: 0.7906 - val_acc: 0.6573 - val_auc: 0.9296 - val_precision_2: 0.7826 - val_recall_2: 0.6806 - val_f1score: 0.1734\n",
      "Epoch 24/37\n",
      "54/53 [==============================] - 15s 279ms/step - loss: 0.5337 - acc: 0.7663 - auc: 0.9298 - precision_2: 0.7828 - recall_2: 0.6811 - f1score: 0.1890 - val_loss: 0.7764 - val_acc: 0.6737 - val_auc: 0.9298 - val_precision_2: 0.7825 - val_recall_2: 0.6812 - val_f1score: 0.1743\n",
      "Epoch 25/37\n",
      "54/53 [==============================] - 15s 279ms/step - loss: 0.5184 - acc: 0.7733 - auc: 0.9300 - precision_2: 0.7829 - recall_2: 0.6815 - f1score: 0.1899 - val_loss: 0.7612 - val_acc: 0.6807 - val_auc: 0.9301 - val_precision_2: 0.7831 - val_recall_2: 0.6818 - val_f1score: 0.1755\n",
      "Epoch 26/37\n",
      "54/53 [==============================] - 15s 278ms/step - loss: 0.5168 - acc: 0.7762 - auc: 0.9303 - precision_2: 0.7833 - recall_2: 0.6822 - f1score: 0.1903 - val_loss: 0.7891 - val_acc: 0.6690 - val_auc: 0.9304 - val_precision_2: 0.7836 - val_recall_2: 0.6828 - val_f1score: 0.1738\n",
      "Epoch 27/37\n",
      "54/53 [==============================] - 15s 281ms/step - loss: 0.5173 - acc: 0.7704 - auc: 0.9305 - precision_2: 0.7839 - recall_2: 0.6832 - f1score: 0.1906 - val_loss: 0.7649 - val_acc: 0.6923 - val_auc: 0.9307 - val_precision_2: 0.7841 - val_recall_2: 0.6835 - val_f1score: 0.1758\n",
      "Epoch 28/37\n",
      "54/53 [==============================] - 15s 275ms/step - loss: 0.4972 - acc: 0.7885 - auc: 0.9310 - precision_2: 0.7847 - recall_2: 0.6842 - f1score: 0.1925 - val_loss: 0.7980 - val_acc: 0.6690 - val_auc: 0.9311 - val_precision_2: 0.7850 - val_recall_2: 0.6847 - val_f1score: 0.1739\n"
     ]
    },
    {
     "name": "stdout",
     "output_type": "stream",
     "text": [
      "Epoch 29/37\n",
      "54/53 [==============================] - 15s 276ms/step - loss: 0.5108 - acc: 0.7797 - auc: 0.9312 - precision_2: 0.7852 - recall_2: 0.6851 - f1score: 0.1918 - val_loss: 0.7854 - val_acc: 0.6830 - val_auc: 0.9313 - val_precision_2: 0.7854 - val_recall_2: 0.6855 - val_f1score: 0.1744\n",
      "Epoch 30/37\n",
      "54/53 [==============================] - 15s 278ms/step - loss: 0.5109 - acc: 0.7855 - auc: 0.9315 - precision_2: 0.7857 - recall_2: 0.6860 - f1score: 0.1911 - val_loss: 0.7705 - val_acc: 0.6760 - val_auc: 0.9316 - val_precision_2: 0.7857 - val_recall_2: 0.6864 - val_f1score: 0.1757\n",
      "Epoch 31/37\n",
      "54/53 [==============================] - 15s 279ms/step - loss: 0.4964 - acc: 0.7896 - auc: 0.9318 - precision_2: 0.7860 - recall_2: 0.6869 - f1score: 0.1929 - val_loss: 0.7651 - val_acc: 0.6690 - val_auc: 0.9319 - val_precision_2: 0.7862 - val_recall_2: 0.6873 - val_f1score: 0.1756\n",
      "Epoch 32/37\n",
      "54/53 [==============================] - 15s 279ms/step - loss: 0.5068 - acc: 0.7838 - auc: 0.9320 - precision_2: 0.7864 - recall_2: 0.6877 - f1score: 0.1915 - val_loss: 0.7704 - val_acc: 0.6783 - val_auc: 0.9322 - val_precision_2: 0.7866 - val_recall_2: 0.6880 - val_f1score: 0.1759\n",
      "Epoch 33/37\n",
      "54/53 [==============================] - 15s 283ms/step - loss: 0.4968 - acc: 0.7821 - auc: 0.9323 - precision_2: 0.7869 - recall_2: 0.6885 - f1score: 0.1931 - val_loss: 0.8068 - val_acc: 0.6434 - val_auc: 0.9324 - val_precision_2: 0.7870 - val_recall_2: 0.6888 - val_f1score: 0.1733\n",
      "Epoch 34/37\n",
      "54/53 [==============================] - 15s 278ms/step - loss: 0.4954 - acc: 0.7809 - auc: 0.9325 - precision_2: 0.7870 - recall_2: 0.6891 - f1score: 0.1927 - val_loss: 0.7832 - val_acc: 0.6783 - val_auc: 0.9327 - val_precision_2: 0.7872 - val_recall_2: 0.6896 - val_f1score: 0.1749\n",
      "Epoch 35/37\n",
      "54/53 [==============================] - 15s 282ms/step - loss: 0.5042 - acc: 0.7855 - auc: 0.9328 - precision_2: 0.7873 - recall_2: 0.6899 - f1score: 0.1926 - val_loss: 0.7937 - val_acc: 0.6807 - val_auc: 0.9329 - val_precision_2: 0.7875 - val_recall_2: 0.6903 - val_f1score: 0.1747\n",
      "Epoch 36/37\n",
      "54/53 [==============================] - 15s 278ms/step - loss: 0.5056 - acc: 0.7809 - auc: 0.9330 - precision_2: 0.7876 - recall_2: 0.6907 - f1score: 0.1924 - val_loss: 0.7818 - val_acc: 0.6760 - val_auc: 0.9331 - val_precision_2: 0.7876 - val_recall_2: 0.6910 - val_f1score: 0.1750\n",
      "Epoch 37/37\n",
      "54/53 [==============================] - 15s 279ms/step - loss: 0.4957 - acc: 0.7920 - auc: 0.9332 - precision_2: 0.7881 - recall_2: 0.6917 - f1score: 0.1935 - val_loss: 0.7828 - val_acc: 0.6667 - val_auc: 0.9333 - val_precision_2: 0.7881 - val_recall_2: 0.6920 - val_f1score: 0.1752\n"
     ]
    }
   ],
   "source": [
    "import tensorflow as tf\n",
    "\n",
    "additional_model.compile(loss='categorical_crossentropy', \n",
    "              optimizer=optimizers.Adam(lr=1e-6),\n",
    "              metrics=['acc',tf.keras.metrics.AUC(name='auc'),\n",
    "                      tf.keras.metrics.Precision(),\n",
    "                      tf.keras.metrics.Recall(),f1score])\n",
    "\n",
    "history = additional_model.fit_generator(dgf, \n",
    "            steps_per_epoch=len(X_train)/32, \n",
    "            epochs=37, \n",
    "            validation_data=(X_val,y_val), \n",
    "            validation_steps=len(X_val)/32, \n",
    "            callbacks=[checkpoint],\n",
    "            class_weight=class_weight)"
   ]
  },
  {
   "cell_type": "code",
   "execution_count": 21,
   "metadata": {},
   "outputs": [
    {
     "data": {
      "image/png": "[encoded data removed]",
      "text/plain": [
       "<Figure size 432x288 with 1 Axes>"
      ]
     },
     "metadata": {
      "needs_background": "light"
     },
     "output_type": "display_data"
    },
    {
     "data": {
      "image/png": "[encoded data removed]",
      "text/plain": [
       "<Figure size 432x288 with 1 Axes>"
      ]
     },
     "metadata": {
      "needs_background": "light"
     },
     "output_type": "display_data"
    }
   ],
   "source": [
    "acc = history.history['acc']\n",
    "val_acc = history.history['val_acc']\n",
    "loss = history.history['loss']\n",
    "val_loss = history.history['val_loss']\n",
    " \n",
    "epochs = range(1, len(acc) + 1)\n",
    " \n",
    "plt.plot(epochs, acc, 'bo', label='Training acc')\n",
    "plt.plot(epochs, val_acc, 'r', label='Validation acc')\n",
    "plt.title('Accuracy')\n",
    "plt.legend()\n",
    "plt.figure()\n",
    " \n",
    "plt.plot(epochs, loss, 'bo', label='Training loss')\n",
    "plt.plot(epochs, val_loss, 'r', label='Validation loss')\n",
    "plt.title('Loss')\n",
    "plt.legend()\n",
    " \n",
    "plt.show()"
   ]
  },
  {
   "cell_type": "code",
   "execution_count": 22,
   "metadata": {},
   "outputs": [
    {
     "name": "stdout",
     "output_type": "stream",
     "text": [
      "429/429 [==============================] - 1s 3ms/step\n",
      "loss: 0.783, accuracy: 0.667, auc: 0.933, precision: 0.788, recall: 0.692, f1score: 0.175\n"
     ]
    }
   ],
   "source": [
    "_loss, _acc, _auc, _precision, _recall, _f1score = additional_model.evaluate(X_val, y_val, batch_size=32)\n",
    "print('loss: {:.3f}, accuracy: {:.3f}, auc: {:.3f}, precision: {:.3f}, recall: {:.3f}, f1score: {:.3f}'.format(_loss, _acc, _auc, _precision, _recall, _f1score))"
   ]
  },
  {
   "cell_type": "code",
   "execution_count": 23,
   "metadata": {},
   "outputs": [
    {
     "data": {
      "text/plain": [
       "0.8966678569468067"
      ]
     },
     "execution_count": 23,
     "metadata": {},
     "output_type": "execute_result"
    }
   ],
   "source": [
    "from sklearn.metrics import roc_auc_score\n",
    "\n",
    "y_pred = additional_model.predict(X_val)\n",
    "roc_auc_score(y_val, y_pred)"
   ]
  },
  {
   "cell_type": "code",
   "execution_count": 31,
   "metadata": {},
   "outputs": [],
   "source": [
    "import tensorflow as tf\n",
    "\n",
    "new_model = models.load_model('VGG16_fine_tuning_2.hdf5',compile=False)\n",
    "\n",
    "new_model.compile(loss='categorical_crossentropy', \n",
    "              optimizer=optimizers.Adam(lr=1e-4),\n",
    "              metrics=['acc',tf.keras.metrics.AUC(),\n",
    "                      tf.keras.metrics.Precision(),\n",
    "                      tf.keras.metrics.Recall(),f1score])"
   ]
  },
  {
   "cell_type": "code",
   "execution_count": 32,
   "metadata": {},
   "outputs": [
    {
     "name": "stdout",
     "output_type": "stream",
     "text": [
      "429/429 [==============================] - 1s 3ms/step\n",
      "loss: 0.540, accuracy: 0.769, auc: 0.954, precision: 0.804, recall: 0.713, f1score: 0.191\n"
     ]
    }
   ],
   "source": [
    "_loss, _acc, _auc, _precision, _recall, _f1score =new_model.evaluate(X_val, y_val, batch_size=32)\n",
    "print('loss: {:.3f}, accuracy: {:.3f}, auc: {:.3f}, precision: {:.3f}, recall: {:.3f}, f1score: {:.3f}'.format(_loss, _acc, _auc, _precision, _recall, _f1score))"
   ]
  },
  {
   "cell_type": "code",
   "execution_count": 33,
   "metadata": {},
   "outputs": [],
   "source": [
    "X_test=np.load('X_val_with_callback.npy')\n",
    "y_test=np.load('y_val_with_callback.npy')"
   ]
  },
  {
   "cell_type": "code",
   "execution_count": 34,
   "metadata": {},
   "outputs": [
    {
     "name": "stdout",
     "output_type": "stream",
     "text": [
      "716/716 [==============================] - 2s 3ms/step\n",
      "loss: 0.786, accuracy: 0.652, auc: 0.922, precision: 0.739, recall: 0.660, f1score: 0.172\n"
     ]
    }
   ],
   "source": [
    "_loss, _acc, _auc, _precision, _recall, _f1score =new_model.evaluate(X_test, y_test, batch_size=32)\n",
    "print('loss: {:.3f}, accuracy: {:.3f}, auc: {:.3f}, precision: {:.3f}, recall: {:.3f}, f1score: {:.3f}'.format(_loss, _acc, _auc, _precision, _recall, _f1score))"
   ]
  },
  {
   "cell_type": "code",
   "execution_count": null,
   "metadata": {},
   "outputs": [],
   "source": []
  }
 ],
 "metadata": {
  "kernelspec": {
   "display_name": "Python 3",
   "language": "python",
   "name": "python3"
  },
  "language_info": {
   "codemirror_mode": {
    "name": "ipython",
    "version": 3
   },
   "file_extension": ".py",
   "mimetype": "text/x-python",
   "name": "python",
   "nbconvert_exporter": "python",
   "pygments_lexer": "ipython3",
   "version": "3.7.7"
  }
 },
 "nbformat": 4,
 "nbformat_minor": 2
}
