{
 "cells": [
  {
   "cell_type": "code",
   "execution_count": 1,
   "metadata": {},
   "outputs": [
    {
     "data": {
      "text/plain": [
       "'C:\\\\Users\\\\Owner2\\\\Desktop\\\\G팔로미_vuno'"
      ]
     },
     "execution_count": 1,
     "metadata": {},
     "output_type": "execute_result"
    }
   ],
   "source": [
    "import os\n",
    "import pandas as pd\n",
    "from matplotlib import pyplot as plt\n",
    "import cv2\n",
    "import numpy as np\n",
    "\n",
    "#data path 수정\n",
    "os.chdir(\"C:\\\\Users\\\\Owner2\\\\Desktop\\\\G팔로미_vuno\")\n",
    "os.getcwd()"
   ]
  },
  {
   "cell_type": "code",
   "execution_count": 2,
   "metadata": {},
   "outputs": [],
   "source": [
    "X=np.load('data_X.npy')\n",
    "y=np.load('data_y.npy')"
   ]
  },
  {
   "cell_type": "code",
   "execution_count": 3,
   "metadata": {},
   "outputs": [],
   "source": [
    "#train, validation set 분리\n",
    "from sklearn.model_selection import train_test_split\n",
    "\n",
    "X_train, X_val, y_train, y_val = train_test_split(X,y,test_size=0.25)"
   ]
  },
  {
   "cell_type": "code",
   "execution_count": 4,
   "metadata": {},
   "outputs": [
    {
     "name": "stderr",
     "output_type": "stream",
     "text": [
      "Using TensorFlow backend.\n"
     ]
    }
   ],
   "source": [
    "from keras.preprocessing.image import ImageDataGenerator\n",
    "\n",
    "datagen = ImageDataGenerator(\n",
    "    #featurewise_center=True, #center 중심 유지\n",
    "    #featurewise_std_normalization=True, #normalization\n",
    "    rotation_range=25.0,\n",
    "    #width_shift_range=0.2,\n",
    "    #height_shift_range=0.2,\n",
    "    #brightness_range=[0.2,1.0],\n",
    "    zoom_range=[0.8,1.2],\n",
    "    horizontal_flip=True) #수평방향 뒤집기\n",
    "\n",
    "datagen.fit(X_train)\n",
    "\n",
    "dgf=datagen.flow(X_train,y_train,batch_size=32)"
   ]
  },
  {
   "cell_type": "code",
   "execution_count": 5,
   "metadata": {},
   "outputs": [
    {
     "name": "stdout",
     "output_type": "stream",
     "text": [
      "Model: \"vgg16\"\n",
      "_________________________________________________________________\n",
      "Layer (type)                 Output Shape              Param #   \n",
      "=================================================================\n",
      "input_1 (InputLayer)         (None, 224, 224, 3)       0         \n",
      "_________________________________________________________________\n",
      "block1_conv1 (Conv2D)        (None, 224, 224, 64)      1792      \n",
      "_________________________________________________________________\n",
      "block1_conv2 (Conv2D)        (None, 224, 224, 64)      36928     \n",
      "_________________________________________________________________\n",
      "block1_pool (MaxPooling2D)   (None, 112, 112, 64)      0         \n",
      "_________________________________________________________________\n",
      "block2_conv1 (Conv2D)        (None, 112, 112, 128)     73856     \n",
      "_________________________________________________________________\n",
      "block2_conv2 (Conv2D)        (None, 112, 112, 128)     147584    \n",
      "_________________________________________________________________\n",
      "block2_pool (MaxPooling2D)   (None, 56, 56, 128)       0         \n",
      "_________________________________________________________________\n",
      "block3_conv1 (Conv2D)        (None, 56, 56, 256)       295168    \n",
      "_________________________________________________________________\n",
      "block3_conv2 (Conv2D)        (None, 56, 56, 256)       590080    \n",
      "_________________________________________________________________\n",
      "block3_conv3 (Conv2D)        (None, 56, 56, 256)       590080    \n",
      "_________________________________________________________________\n",
      "block3_pool (MaxPooling2D)   (None, 28, 28, 256)       0         \n",
      "_________________________________________________________________\n",
      "block4_conv1 (Conv2D)        (None, 28, 28, 512)       1180160   \n",
      "_________________________________________________________________\n",
      "block4_conv2 (Conv2D)        (None, 28, 28, 512)       2359808   \n",
      "_________________________________________________________________\n",
      "block4_conv3 (Conv2D)        (None, 28, 28, 512)       2359808   \n",
      "_________________________________________________________________\n",
      "block4_pool (MaxPooling2D)   (None, 14, 14, 512)       0         \n",
      "_________________________________________________________________\n",
      "block5_conv1 (Conv2D)        (None, 14, 14, 512)       2359808   \n",
      "_________________________________________________________________\n",
      "block5_conv2 (Conv2D)        (None, 14, 14, 512)       2359808   \n",
      "_________________________________________________________________\n",
      "block5_conv3 (Conv2D)        (None, 14, 14, 512)       2359808   \n",
      "_________________________________________________________________\n",
      "block5_pool (MaxPooling2D)   (None, 7, 7, 512)         0         \n",
      "=================================================================\n",
      "Total params: 14,714,688\n",
      "Trainable params: 0\n",
      "Non-trainable params: 14,714,688\n",
      "_________________________________________________________________\n"
     ]
    }
   ],
   "source": [
    "from keras import models, layers\n",
    "from keras import Input\n",
    "from keras.applications import VGG16\n",
    "from keras.models import Model, load_model\n",
    "from keras.preprocessing.image import ImageDataGenerator\n",
    "from keras import optimizers, initializers, regularizers, metrics\n",
    "from keras.callbacks import ModelCheckpoint, EarlyStopping\n",
    "from keras.layers import BatchNormalization, Conv2D, Activation, Dense, GlobalAveragePooling2D, MaxPooling2D, ZeroPadding2D, Add\n",
    "\n",
    "model = VGG16(weights='imagenet', include_top=False, input_shape=(224, 224, 3))\n",
    "model.trainable = False\n",
    "model.summary()"
   ]
  },
  {
   "cell_type": "code",
   "execution_count": 6,
   "metadata": {},
   "outputs": [
    {
     "name": "stdout",
     "output_type": "stream",
     "text": [
      "Model: \"model_1\"\n",
      "_________________________________________________________________\n",
      "Layer (type)                 Output Shape              Param #   \n",
      "=================================================================\n",
      "input_1 (InputLayer)         (None, 224, 224, 3)       0         \n",
      "_________________________________________________________________\n",
      "block1_conv1 (Conv2D)        (None, 224, 224, 64)      1792      \n",
      "_________________________________________________________________\n",
      "block1_conv2 (Conv2D)        (None, 224, 224, 64)      36928     \n",
      "_________________________________________________________________\n",
      "block1_pool (MaxPooling2D)   (None, 112, 112, 64)      0         \n",
      "_________________________________________________________________\n",
      "block2_conv1 (Conv2D)        (None, 112, 112, 128)     73856     \n",
      "_________________________________________________________________\n",
      "block2_conv2 (Conv2D)        (None, 112, 112, 128)     147584    \n",
      "_________________________________________________________________\n",
      "block2_pool (MaxPooling2D)   (None, 56, 56, 128)       0         \n",
      "_________________________________________________________________\n",
      "block3_conv1 (Conv2D)        (None, 56, 56, 256)       295168    \n",
      "_________________________________________________________________\n",
      "block3_conv2 (Conv2D)        (None, 56, 56, 256)       590080    \n",
      "_________________________________________________________________\n",
      "block3_conv3 (Conv2D)        (None, 56, 56, 256)       590080    \n",
      "_________________________________________________________________\n",
      "block3_pool (MaxPooling2D)   (None, 28, 28, 256)       0         \n",
      "_________________________________________________________________\n",
      "block4_conv1 (Conv2D)        (None, 28, 28, 512)       1180160   \n",
      "_________________________________________________________________\n",
      "block4_conv2 (Conv2D)        (None, 28, 28, 512)       2359808   \n",
      "_________________________________________________________________\n",
      "block4_conv3 (Conv2D)        (None, 28, 28, 512)       2359808   \n",
      "_________________________________________________________________\n",
      "block4_pool (MaxPooling2D)   (None, 14, 14, 512)       0         \n",
      "_________________________________________________________________\n",
      "block5_conv1 (Conv2D)        (None, 14, 14, 512)       2359808   \n",
      "_________________________________________________________________\n",
      "block5_conv2 (Conv2D)        (None, 14, 14, 512)       2359808   \n",
      "_________________________________________________________________\n",
      "block5_conv3 (Conv2D)        (None, 14, 14, 512)       2359808   \n",
      "_________________________________________________________________\n",
      "block5_pool (MaxPooling2D)   (None, 7, 7, 512)         0         \n",
      "_________________________________________________________________\n",
      "flatten_1 (Flatten)          (None, 25088)             0         \n",
      "_________________________________________________________________\n",
      "dense_1 (Dense)              (None, 4)                 100356    \n",
      "=================================================================\n",
      "Total params: 14,815,044\n",
      "Trainable params: 100,356\n",
      "Non-trainable params: 14,714,688\n",
      "_________________________________________________________________\n"
     ]
    }
   ],
   "source": [
    "for layer in model.layers:\n",
    "    layer.trainable=False\n",
    "\n",
    "x=model.output\n",
    "x=layers.Flatten()(x)\n",
    "outputs=Dense(4, activation='softmax')(x)\n",
    "\n",
    "additional_model=Model(inputs=model.input, outputs=outputs)\n",
    "\n",
    "additional_model.summary()"
   ]
  },
  {
   "cell_type": "code",
   "execution_count": 7,
   "metadata": {},
   "outputs": [],
   "source": [
    "def f1score(precision, recall):\n",
    "    _f1score = ( 2 * recall * precision) / (recall + precision)\n",
    "    \n",
    "    # return a single tensor value\n",
    "    return _f1score"
   ]
  },
  {
   "cell_type": "code",
   "execution_count": 8,
   "metadata": {},
   "outputs": [],
   "source": [
    "# checkpoint = ModelCheckpoint(filepath='My_VGG_{epoch:03d}_{val_loss:.7f}.hdf5',monitor='loss', mode='min', save_best_only=True)\n",
    "checkpoint = ModelCheckpoint(filepath='VGG16_참고문헌_1.hdf5', \n",
    "            monitor='loss', \n",
    "            mode='min', \n",
    "            save_best_only=True)"
   ]
  },
  {
   "cell_type": "code",
   "execution_count": 9,
   "metadata": {},
   "outputs": [],
   "source": [
    "import tensorflow as tf\n",
    "\n",
    "additional_model.compile(loss='categorical_crossentropy', \n",
    "              optimizer=optimizers.Adam(lr=1e-3),\n",
    "              metrics=['acc',tf.keras.metrics.AUC(),\n",
    "                      tf.keras.metrics.Precision(),\n",
    "                      tf.keras.metrics.Recall(),f1score])"
   ]
  },
  {
   "cell_type": "code",
   "execution_count": 10,
   "metadata": {},
   "outputs": [
    {
     "name": "stdout",
     "output_type": "stream",
     "text": [
      "Epoch 1/3\n",
      "30/30 [==============================] - 11s 359ms/step - loss: 1.4798 - acc: 0.3712 - auc: 0.5949 - precision: 0.3489 - recall: 0.2574 - f1score: 0.1141 - val_loss: 1.1169 - val_acc: 0.4247 - val_auc: 0.6775 - val_precision: 0.4020 - val_recall: 0.2832 - val_f1score: 0.1312\n",
      "Epoch 2/3\n",
      "30/30 [==============================] - 8s 250ms/step - loss: 1.0284 - acc: 0.5027 - auc: 0.7156 - precision: 0.4412 - recall: 0.2956 - f1score: 0.1406 - val_loss: 1.0476 - val_acc: 0.4619 - val_auc: 0.7403 - val_precision: 0.4713 - val_recall: 0.3096 - val_f1score: 0.1372\n",
      "Epoch 3/3\n",
      "30/30 [==============================] - 8s 272ms/step - loss: 1.0314 - acc: 0.5104 - auc: 0.7510 - precision: 0.4866 - recall: 0.3161 - f1score: 0.1413 - val_loss: 1.1154 - val_acc: 0.4495 - val_auc: 0.7596 - val_precision: 0.4964 - val_recall: 0.3273 - val_f1score: 0.1360\n"
     ]
    }
   ],
   "source": [
    "history = additional_model.fit_generator(dgf, \n",
    "            steps_per_epoch=30, \n",
    "            epochs=3, \n",
    "            validation_data=(X_val,y_val), \n",
    "            validation_steps=32, \n",
    "            callbacks=[checkpoint])"
   ]
  },
  {
   "cell_type": "code",
   "execution_count": 11,
   "metadata": {},
   "outputs": [],
   "source": [
    "for layer in additional_model.layers[:11]:\n",
    "    layer.trainable=False\n",
    "\n",
    "for layer in additional_model.layers[11:]:\n",
    "    layer.trainable=True"
   ]
  },
  {
   "cell_type": "code",
   "execution_count": 12,
   "metadata": {},
   "outputs": [
    {
     "name": "stdout",
     "output_type": "stream",
     "text": [
      "<keras.engine.input_layer.InputLayer object at 0x0000028851E43088> False\n",
      "<keras.layers.convolutional.Conv2D object at 0x0000028851E4F0C8> False\n",
      "<keras.layers.convolutional.Conv2D object at 0x0000028851E4FE48> False\n",
      "<keras.layers.pooling.MaxPooling2D object at 0x000002888623BBC8> False\n",
      "<keras.layers.convolutional.Conv2D object at 0x0000028886236188> False\n",
      "<keras.layers.convolutional.Conv2D object at 0x000002888623FF88> False\n",
      "<keras.layers.pooling.MaxPooling2D object at 0x00000288862B1448> False\n",
      "<keras.layers.convolutional.Conv2D object at 0x00000288862B1248> False\n",
      "<keras.layers.convolutional.Conv2D object at 0x00000288862BD088> False\n",
      "<keras.layers.convolutional.Conv2D object at 0x00000288862C7548> False\n",
      "<keras.layers.pooling.MaxPooling2D object at 0x00000288862CD908> False\n",
      "<keras.layers.convolutional.Conv2D object at 0x00000288862CD8C8> True\n",
      "<keras.layers.convolutional.Conv2D object at 0x00000288862D7788> True\n",
      "<keras.layers.convolutional.Conv2D object at 0x00000288862DFC88> True\n",
      "<keras.layers.pooling.MaxPooling2D object at 0x00000288862E6B08> True\n",
      "<keras.layers.convolutional.Conv2D object at 0x00000288862E68C8> True\n",
      "<keras.layers.convolutional.Conv2D object at 0x00000288862F1788> True\n",
      "<keras.layers.convolutional.Conv2D object at 0x00000288862F5288> True\n",
      "<keras.layers.pooling.MaxPooling2D object at 0x00000288862FB988> True\n",
      "<keras.layers.core.Flatten object at 0x0000028886316648> True\n",
      "<keras.layers.core.Dense object at 0x00000288863163C8> True\n",
      "Model: \"model_1\"\n",
      "_________________________________________________________________\n",
      "Layer (type)                 Output Shape              Param #   \n",
      "=================================================================\n",
      "input_1 (InputLayer)         (None, 224, 224, 3)       0         \n",
      "_________________________________________________________________\n",
      "block1_conv1 (Conv2D)        (None, 224, 224, 64)      1792      \n",
      "_________________________________________________________________\n",
      "block1_conv2 (Conv2D)        (None, 224, 224, 64)      36928     \n",
      "_________________________________________________________________\n",
      "block1_pool (MaxPooling2D)   (None, 112, 112, 64)      0         \n",
      "_________________________________________________________________\n",
      "block2_conv1 (Conv2D)        (None, 112, 112, 128)     73856     \n",
      "_________________________________________________________________\n",
      "block2_conv2 (Conv2D)        (None, 112, 112, 128)     147584    \n",
      "_________________________________________________________________\n",
      "block2_pool (MaxPooling2D)   (None, 56, 56, 128)       0         \n",
      "_________________________________________________________________\n",
      "block3_conv1 (Conv2D)        (None, 56, 56, 256)       295168    \n",
      "_________________________________________________________________\n",
      "block3_conv2 (Conv2D)        (None, 56, 56, 256)       590080    \n",
      "_________________________________________________________________\n",
      "block3_conv3 (Conv2D)        (None, 56, 56, 256)       590080    \n",
      "_________________________________________________________________\n",
      "block3_pool (MaxPooling2D)   (None, 28, 28, 256)       0         \n",
      "_________________________________________________________________\n",
      "block4_conv1 (Conv2D)        (None, 28, 28, 512)       1180160   \n",
      "_________________________________________________________________\n",
      "block4_conv2 (Conv2D)        (None, 28, 28, 512)       2359808   \n",
      "_________________________________________________________________\n",
      "block4_conv3 (Conv2D)        (None, 28, 28, 512)       2359808   \n",
      "_________________________________________________________________\n",
      "block4_pool (MaxPooling2D)   (None, 14, 14, 512)       0         \n",
      "_________________________________________________________________\n",
      "block5_conv1 (Conv2D)        (None, 14, 14, 512)       2359808   \n",
      "_________________________________________________________________\n",
      "block5_conv2 (Conv2D)        (None, 14, 14, 512)       2359808   \n",
      "_________________________________________________________________\n",
      "block5_conv3 (Conv2D)        (None, 14, 14, 512)       2359808   \n",
      "_________________________________________________________________\n",
      "block5_pool (MaxPooling2D)   (None, 7, 7, 512)         0         \n",
      "_________________________________________________________________\n",
      "flatten_1 (Flatten)          (None, 25088)             0         \n",
      "_________________________________________________________________\n",
      "dense_1 (Dense)              (None, 4)                 100356    \n",
      "=================================================================\n",
      "Total params: 1,835,844\n",
      "Trainable params: 100,356\n",
      "Non-trainable params: 1,735,488\n",
      "_________________________________________________________________\n"
     ]
    },
    {
     "name": "stderr",
     "output_type": "stream",
     "text": [
      "C:\\Users\\Owner2\\Anaconda3\\envs\\keras2\\lib\\site-packages\\keras\\engine\\training.py:297: UserWarning: Discrepancy between trainable weights and collected trainable weights, did you set `model.trainable` without calling `model.compile` after ?\n",
      "  'Discrepancy between trainable weights and collected trainable'\n"
     ]
    }
   ],
   "source": [
    "for layer in additional_model.layers:\n",
    "    print(layer, layer.trainable)\n",
    "    \n",
    "additional_model.summary()"
   ]
  },
  {
   "cell_type": "code",
   "execution_count": 13,
   "metadata": {},
   "outputs": [],
   "source": [
    "import tensorflow as tf\n",
    "\n",
    "additional_model.compile(loss='categorical_crossentropy', \n",
    "              optimizer=optimizers.Adam(lr=1e-4),\n",
    "              metrics=['acc',tf.keras.metrics.AUC(),\n",
    "                      tf.keras.metrics.Precision(),\n",
    "                      tf.keras.metrics.Recall(),f1score])"
   ]
  },
  {
   "cell_type": "code",
   "execution_count": 14,
   "metadata": {},
   "outputs": [
    {
     "name": "stdout",
     "output_type": "stream",
     "text": [
      "Epoch 1/10\n",
      "30/30 [==============================] - 10s 318ms/step - loss: 1.2292 - acc: 0.4284 - auc_1: 0.7036 - precision_1: 0.5103 - recall_1: 0.2836 - f1score: 0.1285 - val_loss: 1.0670 - val_acc: 0.4515 - val_auc_1: 0.7470 - val_precision_1: 0.5351 - val_recall_1: 0.2554 - val_f1score: 0.1346\n",
      "Epoch 2/10\n",
      "30/30 [==============================] - 8s 274ms/step - loss: 0.9663 - acc: 0.5052 - auc_1: 0.7686 - precision_1: 0.5466 - recall_1: 0.2742 - f1score: 0.1453 - val_loss: 0.9434 - val_acc: 0.5113 - val_auc_1: 0.7852 - val_precision_1: 0.5536 - val_recall_1: 0.2999 - val_f1score: 0.1466\n",
      "Epoch 3/10\n",
      "30/30 [==============================] - 8s 268ms/step - loss: 0.9138 - acc: 0.5239 - auc_1: 0.7953 - precision_1: 0.5591 - recall_1: 0.3128 - f1score: 0.1506 - val_loss: 1.0185 - val_acc: 0.4742 - val_auc_1: 0.8010 - val_precision_1: 0.5592 - val_recall_1: 0.3322 - val_f1score: 0.1448\n",
      "Epoch 4/10\n",
      "30/30 [==============================] - 9s 304ms/step - loss: 0.8649 - acc: 0.5483 - auc_1: 0.8056 - precision_1: 0.5594 - recall_1: 0.3435 - f1score: 0.1544 - val_loss: 0.8785 - val_acc: 0.5464 - val_auc_1: 0.8119 - val_precision_1: 0.5665 - val_recall_1: 0.3590 - val_f1score: 0.1549\n",
      "Epoch 5/10\n",
      "30/30 [==============================] - 8s 272ms/step - loss: 0.7841 - acc: 0.5823 - auc_1: 0.8175 - precision_1: 0.5697 - recall_1: 0.3728 - f1score: 0.1614 - val_loss: 0.8274 - val_acc: 0.5443 - val_auc_1: 0.8234 - val_precision_1: 0.5751 - val_recall_1: 0.3869 - val_f1score: 0.1589\n",
      "Epoch 6/10\n",
      "30/30 [==============================] - 8s 264ms/step - loss: 0.8397 - acc: 0.5483 - auc_1: 0.8264 - precision_1: 0.5759 - recall_1: 0.3956 - f1score: 0.1582 - val_loss: 0.8305 - val_acc: 0.5381 - val_auc_1: 0.8293 - val_precision_1: 0.5780 - val_recall_1: 0.4023 - val_f1score: 0.1577\n",
      "Epoch 7/10\n",
      "30/30 [==============================] - 9s 287ms/step - loss: 0.7709 - acc: 0.5960 - auc_1: 0.8327 - precision_1: 0.5806 - recall_1: 0.4102 - f1score: 0.1637 - val_loss: 0.8211 - val_acc: 0.5546 - val_auc_1: 0.8352 - val_precision_1: 0.5830 - val_recall_1: 0.4186 - val_f1score: 0.1602\n",
      "Epoch 8/10\n",
      "30/30 [==============================] - 8s 270ms/step - loss: 0.7941 - acc: 0.5885 - auc_1: 0.8370 - precision_1: 0.5837 - recall_1: 0.4249 - f1score: 0.1620 - val_loss: 0.8598 - val_acc: 0.5340 - val_auc_1: 0.8386 - val_precision_1: 0.5845 - val_recall_1: 0.4302 - val_f1score: 0.1568\n",
      "Epoch 9/10\n",
      "30/30 [==============================] - 8s 269ms/step - loss: 0.8304 - acc: 0.5885 - auc_1: 0.8394 - precision_1: 0.5849 - recall_1: 0.4334 - f1score: 0.1597 - val_loss: 0.8399 - val_acc: 0.5897 - val_auc_1: 0.8408 - val_precision_1: 0.5872 - val_recall_1: 0.4391 - val_f1score: 0.1592\n",
      "Epoch 10/10\n",
      "30/30 [==============================] - 8s 279ms/step - loss: 0.7823 - acc: 0.5990 - auc_1: 0.8423 - precision_1: 0.5899 - recall_1: 0.4442 - f1score: 0.1636 - val_loss: 0.8118 - val_acc: 0.5423 - val_auc_1: 0.8439 - val_precision_1: 0.5916 - val_recall_1: 0.4472 - val_f1score: 0.1598\n"
     ]
    }
   ],
   "source": [
    "history = additional_model.fit_generator(dgf, \n",
    "            steps_per_epoch=30, \n",
    "            epochs=10, \n",
    "            validation_data=(X_val,y_val), \n",
    "            validation_steps=32, \n",
    "            callbacks=[checkpoint])"
   ]
  },
  {
   "cell_type": "code",
   "execution_count": 15,
   "metadata": {},
   "outputs": [],
   "source": [
    "for layer in additional_model.layers:\n",
    "    layer.trainable=True"
   ]
  },
  {
   "cell_type": "code",
   "execution_count": 16,
   "metadata": {},
   "outputs": [
    {
     "name": "stdout",
     "output_type": "stream",
     "text": [
      "Epoch 1/37\n",
      "30/30 [==============================] - 10s 328ms/step - loss: 0.7153 - acc: 0.6333 - auc: 0.8835 - precision_2: 0.6463 - recall_2: 0.5554 - f1score: 0.1688 - val_loss: 0.8539 - val_acc: 0.5443 - val_auc: 0.8840 - val_precision_2: 0.6316 - val_recall_2: 0.5512 - val_f1score: 0.1599\n",
      "Epoch 2/37\n",
      "30/30 [==============================] - 9s 296ms/step - loss: 0.7246 - acc: 0.6161 - auc: 0.8790 - precision_2: 0.6185 - recall_2: 0.5441 - f1score: 0.1691 - val_loss: 0.7867 - val_acc: 0.5505 - val_auc: 0.8797 - val_precision_2: 0.6224 - val_recall_2: 0.5491 - val_f1score: 0.1621\n",
      "Epoch 3/37\n",
      "30/30 [==============================] - 8s 274ms/step - loss: 0.6939 - acc: 0.6416 - auc: 0.8810 - precision_2: 0.6252 - recall_2: 0.5493 - f1score: 0.1716 - val_loss: 0.8929 - val_acc: 0.5361 - val_auc: 0.8811 - val_precision_2: 0.6270 - val_recall_2: 0.5520 - val_f1score: 0.1585\n",
      "Epoch 4/37\n",
      "30/30 [==============================] - 9s 312ms/step - loss: 0.6928 - acc: 0.6406 - auc: 0.8809 - precision_2: 0.6268 - recall_2: 0.5526 - f1score: 0.1715 - val_loss: 0.8238 - val_acc: 0.5320 - val_auc: 0.8812 - val_precision_2: 0.6265 - val_recall_2: 0.5534 - val_f1score: 0.1616\n",
      "Epoch 5/37\n",
      "30/30 [==============================] - 8s 275ms/step - loss: 0.6654 - acc: 0.6734 - auc: 0.8823 - precision_2: 0.6285 - recall_2: 0.5564 - f1score: 0.1745 - val_loss: 0.8677 - val_acc: 0.5423 - val_auc: 0.8833 - val_precision_2: 0.6303 - val_recall_2: 0.5600 - val_f1score: 0.1600\n",
      "Epoch 6/37\n",
      "30/30 [==============================] - 8s 266ms/step - loss: 0.6880 - acc: 0.6448 - auc: 0.8835 - precision_2: 0.6304 - recall_2: 0.5622 - f1score: 0.1724 - val_loss: 0.8366 - val_acc: 0.5464 - val_auc: 0.8833 - val_precision_2: 0.6307 - val_recall_2: 0.5632 - val_f1score: 0.1607\n",
      "Epoch 7/37\n",
      "30/30 [==============================] - 9s 304ms/step - loss: 0.6641 - acc: 0.6521 - auc: 0.8834 - precision_2: 0.6316 - recall_2: 0.5645 - f1score: 0.1743 - val_loss: 0.8010 - val_acc: 0.5381 - val_auc: 0.8840 - val_precision_2: 0.6324 - val_recall_2: 0.5658 - val_f1score: 0.1622\n",
      "Epoch 8/37\n",
      "30/30 [==============================] - 8s 273ms/step - loss: 0.6838 - acc: 0.6543 - auc: 0.8844 - precision_2: 0.6335 - recall_2: 0.5673 - f1score: 0.1737 - val_loss: 0.8019 - val_acc: 0.5423 - val_auc: 0.8846 - val_precision_2: 0.6335 - val_recall_2: 0.5683 - val_f1score: 0.1623\n",
      "Epoch 9/37\n",
      "30/30 [==============================] - 8s 272ms/step - loss: 0.6484 - acc: 0.6808 - auc: 0.8852 - precision_2: 0.6351 - recall_2: 0.5701 - f1score: 0.1760 - val_loss: 0.8928 - val_acc: 0.5443 - val_auc: 0.8855 - val_precision_2: 0.6362 - val_recall_2: 0.5717 - val_f1score: 0.1594\n",
      "Epoch 10/37\n",
      "30/30 [==============================] - 9s 295ms/step - loss: 0.6032 - acc: 0.7063 - auc: 0.8861 - precision_2: 0.6376 - recall_2: 0.5738 - f1score: 0.1807 - val_loss: 0.8617 - val_acc: 0.5526 - val_auc: 0.8870 - val_precision_2: 0.6398 - val_recall_2: 0.5768 - val_f1score: 0.1603\n",
      "Epoch 11/37\n",
      "30/30 [==============================] - 8s 274ms/step - loss: 0.6640 - acc: 0.6792 - auc: 0.8869 - precision_2: 0.6399 - recall_2: 0.5777 - f1score: 0.1758 - val_loss: 0.7987 - val_acc: 0.5567 - val_auc: 0.8874 - val_precision_2: 0.6412 - val_recall_2: 0.5795 - val_f1score: 0.1621\n",
      "Epoch 12/37\n",
      "30/30 [==============================] - 8s 273ms/step - loss: 0.6444 - acc: 0.6702 - auc: 0.8878 - precision_2: 0.6419 - recall_2: 0.5807 - f1score: 0.1774 - val_loss: 0.8490 - val_acc: 0.5278 - val_auc: 0.8878 - val_precision_2: 0.6414 - val_recall_2: 0.5808 - val_f1score: 0.1603\n",
      "Epoch 13/37\n",
      "30/30 [==============================] - 9s 288ms/step - loss: 0.6310 - acc: 0.6617 - auc: 0.8880 - precision_2: 0.6414 - recall_2: 0.5811 - f1score: 0.1777 - val_loss: 0.9528 - val_acc: 0.5258 - val_auc: 0.8879 - val_precision_2: 0.6413 - val_recall_2: 0.5812 - val_f1score: 0.1566\n",
      "Epoch 14/37\n",
      "30/30 [==============================] - 8s 280ms/step - loss: 0.6471 - acc: 0.6646 - auc: 0.8879 - precision_2: 0.6410 - recall_2: 0.5811 - f1score: 0.1777 - val_loss: 0.8506 - val_acc: 0.5588 - val_auc: 0.8881 - val_precision_2: 0.6413 - val_recall_2: 0.5819 - val_f1score: 0.1596\n",
      "Epoch 15/37\n",
      "30/30 [==============================] - 8s 271ms/step - loss: 0.5960 - acc: 0.7020 - auc: 0.8885 - precision_2: 0.6422 - recall_2: 0.5830 - f1score: 0.1808 - val_loss: 0.8429 - val_acc: 0.5546 - val_auc: 0.8890 - val_precision_2: 0.6432 - val_recall_2: 0.5845 - val_f1score: 0.1617\n",
      "Epoch 16/37\n",
      "30/30 [==============================] - 9s 286ms/step - loss: 0.5968 - acc: 0.6885 - auc: 0.8895 - precision_2: 0.6441 - recall_2: 0.5862 - f1score: 0.1815 - val_loss: 0.9461 - val_acc: 0.5155 - val_auc: 0.8896 - val_precision_2: 0.6437 - val_recall_2: 0.5864 - val_f1score: 0.1568\n",
      "Epoch 17/37\n",
      "30/30 [==============================] - 8s 271ms/step - loss: 0.5839 - acc: 0.7010 - auc: 0.8898 - precision_2: 0.6439 - recall_2: 0.5872 - f1score: 0.1831 - val_loss: 0.8949 - val_acc: 0.5320 - val_auc: 0.8901 - val_precision_2: 0.6443 - val_recall_2: 0.5883 - val_f1score: 0.1590\n",
      "Epoch 18/37\n",
      "30/30 [==============================] - 8s 270ms/step - loss: 0.5737 - acc: 0.7073 - auc: 0.8906 - precision_2: 0.6453 - recall_2: 0.5897 - f1score: 0.1840 - val_loss: 0.8650 - val_acc: 0.5278 - val_auc: 0.8909 - val_precision_2: 0.6455 - val_recall_2: 0.5903 - val_f1score: 0.1599\n",
      "Epoch 19/37\n",
      "30/30 [==============================] - 8s 280ms/step - loss: 0.5515 - acc: 0.7285 - auc: 0.8913 - precision_2: 0.6462 - recall_2: 0.5916 - f1score: 0.1870 - val_loss: 0.8925 - val_acc: 0.5216 - val_auc: 0.8918 - val_precision_2: 0.6471 - val_recall_2: 0.5931 - val_f1score: 0.1589\n",
      "Epoch 20/37\n",
      "30/30 [==============================] - 8s 269ms/step - loss: 0.5728 - acc: 0.7052 - auc: 0.8920 - precision_2: 0.6472 - recall_2: 0.5937 - f1score: 0.1842 - val_loss: 0.8665 - val_acc: 0.5443 - val_auc: 0.8923 - val_precision_2: 0.6477 - val_recall_2: 0.5945 - val_f1score: 0.1603\n",
      "Epoch 21/37\n",
      "30/30 [==============================] - 8s 272ms/step - loss: 0.5448 - acc: 0.7306 - auc: 0.8928 - precision_2: 0.6485 - recall_2: 0.5958 - f1score: 0.1882 - val_loss: 0.9021 - val_acc: 0.5278 - val_auc: 0.8931 - val_precision_2: 0.6491 - val_recall_2: 0.5969 - val_f1score: 0.1586\n",
      "Epoch 22/37\n",
      "30/30 [==============================] - 8s 272ms/step - loss: 0.6112 - acc: 0.6925 - auc: 0.8931 - precision_2: 0.6490 - recall_2: 0.5971 - f1score: 0.1814 - val_loss: 0.8252 - val_acc: 0.5278 - val_auc: 0.8933 - val_precision_2: 0.6494 - val_recall_2: 0.5977 - val_f1score: 0.1607\n",
      "Epoch 23/37\n",
      "30/30 [==============================] - 8s 277ms/step - loss: 0.5744 - acc: 0.7281 - auc: 0.8936 - precision_2: 0.6499 - recall_2: 0.5985 - f1score: 0.1850 - val_loss: 0.8485 - val_acc: 0.5381 - val_auc: 0.8939 - val_precision_2: 0.6506 - val_recall_2: 0.5996 - val_f1score: 0.1615\n",
      "Epoch 24/37\n",
      "30/30 [==============================] - 8s 273ms/step - loss: 0.5442 - acc: 0.7317 - auc: 0.8944 - precision_2: 0.6514 - recall_2: 0.6007 - f1score: 0.1876 - val_loss: 0.9030 - val_acc: 0.5361 - val_auc: 0.8947 - val_precision_2: 0.6519 - val_recall_2: 0.6017 - val_f1score: 0.1597\n",
      "Epoch 25/37\n",
      "30/30 [==============================] - 8s 265ms/step - loss: 0.5304 - acc: 0.7338 - auc: 0.8951 - precision_2: 0.6527 - recall_2: 0.6028 - f1score: 0.1891 - val_loss: 0.9441 - val_acc: 0.5381 - val_auc: 0.8953 - val_precision_2: 0.6533 - val_recall_2: 0.6039 - val_f1score: 0.1575\n",
      "Epoch 26/37\n",
      "30/30 [==============================] - 8s 271ms/step - loss: 0.5399 - acc: 0.7448 - auc: 0.8955 - precision_2: 0.6539 - recall_2: 0.6048 - f1score: 0.1887 - val_loss: 0.8992 - val_acc: 0.5320 - val_auc: 0.8958 - val_precision_2: 0.6544 - val_recall_2: 0.6056 - val_f1score: 0.1583\n",
      "Epoch 27/37\n",
      "30/30 [==============================] - 9s 304ms/step - loss: 0.5295 - acc: 0.7497 - auc: 0.8961 - precision_2: 0.6550 - recall_2: 0.6065 - f1score: 0.1900 - val_loss: 0.9630 - val_acc: 0.5278 - val_auc: 0.8963 - val_precision_2: 0.6557 - val_recall_2: 0.6076 - val_f1score: 0.1563\n",
      "Epoch 28/37\n",
      "30/30 [==============================] - 8s 271ms/step - loss: 0.5269 - acc: 0.7479 - auc: 0.8965 - precision_2: 0.6562 - recall_2: 0.6085 - f1score: 0.1899 - val_loss: 0.9739 - val_acc: 0.5278 - val_auc: 0.8968 - val_precision_2: 0.6568 - val_recall_2: 0.6094 - val_f1score: 0.1570\n"
     ]
    },
    {
     "name": "stdout",
     "output_type": "stream",
     "text": [
      "Epoch 29/37\n",
      "30/30 [==============================] - 8s 266ms/step - loss: 0.5254 - acc: 0.7476 - auc: 0.8970 - precision_2: 0.6574 - recall_2: 0.6102 - f1score: 0.1903 - val_loss: 1.0089 - val_acc: 0.5155 - val_auc: 0.8972 - val_precision_2: 0.6577 - val_recall_2: 0.6108 - val_f1score: 0.1543\n",
      "Epoch 30/37\n",
      "30/30 [==============================] - 9s 301ms/step - loss: 0.4985 - acc: 0.7582 - auc: 0.8975 - precision_2: 0.6585 - recall_2: 0.6120 - f1score: 0.1925 - val_loss: 0.9598 - val_acc: 0.5278 - val_auc: 0.8977 - val_precision_2: 0.6588 - val_recall_2: 0.6127 - val_f1score: 0.1577\n",
      "Epoch 31/37\n",
      "30/30 [==============================] - 8s 273ms/step - loss: 0.5005 - acc: 0.7677 - auc: 0.8980 - precision_2: 0.6594 - recall_2: 0.6136 - f1score: 0.1927 - val_loss: 0.9396 - val_acc: 0.5361 - val_auc: 0.8983 - val_precision_2: 0.6602 - val_recall_2: 0.6148 - val_f1score: 0.1577\n",
      "Epoch 32/37\n",
      "30/30 [==============================] - 8s 271ms/step - loss: 0.5116 - acc: 0.7529 - auc: 0.8986 - precision_2: 0.6609 - recall_2: 0.6157 - f1score: 0.1928 - val_loss: 0.9235 - val_acc: 0.5134 - val_auc: 0.8988 - val_precision_2: 0.6609 - val_recall_2: 0.6162 - val_f1score: 0.1578\n",
      "Epoch 33/37\n",
      "30/30 [==============================] - 9s 298ms/step - loss: 0.4875 - acc: 0.7656 - auc: 0.8991 - precision_2: 0.6614 - recall_2: 0.6171 - f1score: 0.1950 - val_loss: 0.9620 - val_acc: 0.5299 - val_auc: 0.8994 - val_precision_2: 0.6619 - val_recall_2: 0.6179 - val_f1score: 0.1574\n",
      "Epoch 34/37\n",
      "30/30 [==============================] - 8s 268ms/step - loss: 0.5008 - acc: 0.7413 - auc: 0.8996 - precision_2: 0.6621 - recall_2: 0.6183 - f1score: 0.1925 - val_loss: 0.9743 - val_acc: 0.5278 - val_auc: 0.8998 - val_precision_2: 0.6624 - val_recall_2: 0.6189 - val_f1score: 0.1572\n",
      "Epoch 35/37\n",
      "30/30 [==============================] - 8s 271ms/step - loss: 0.4797 - acc: 0.7635 - auc: 0.9000 - precision_2: 0.6627 - recall_2: 0.6195 - f1score: 0.1952 - val_loss: 1.0757 - val_acc: 0.5299 - val_auc: 0.9002 - val_precision_2: 0.6633 - val_recall_2: 0.6205 - val_f1score: 0.1544\n",
      "Epoch 36/37\n",
      "30/30 [==============================] - 9s 292ms/step - loss: 0.4753 - acc: 0.7667 - auc: 0.9004 - precision_2: 0.6637 - recall_2: 0.6212 - f1score: 0.1955 - val_loss: 1.0392 - val_acc: 0.5237 - val_auc: 0.9006 - val_precision_2: 0.6642 - val_recall_2: 0.6220 - val_f1score: 0.1551\n",
      "Epoch 37/37\n",
      "30/30 [==============================] - 8s 269ms/step - loss: 0.4667 - acc: 0.7773 - auc: 0.9008 - precision_2: 0.6647 - recall_2: 0.6228 - f1score: 0.1971 - val_loss: 0.9918 - val_acc: 0.5134 - val_auc: 0.9011 - val_precision_2: 0.6651 - val_recall_2: 0.6235 - val_f1score: 0.1546\n"
     ]
    }
   ],
   "source": [
    "import tensorflow as tf\n",
    "\n",
    "additional_model.compile(loss='categorical_crossentropy', \n",
    "              optimizer=optimizers.Adam(lr=1e-5),\n",
    "              metrics=['acc',tf.keras.metrics.AUC(name='auc'),\n",
    "                      tf.keras.metrics.Precision(),\n",
    "                      tf.keras.metrics.Recall(),f1score])\n",
    "\n",
    "history = additional_model.fit_generator(dgf, \n",
    "            steps_per_epoch=30, \n",
    "            epochs=37, \n",
    "            validation_data=(X_val,y_val), \n",
    "            validation_steps=32, \n",
    "            callbacks=[checkpoint])"
   ]
  },
  {
   "cell_type": "code",
   "execution_count": 17,
   "metadata": {},
   "outputs": [
    {
     "data": {
      "image/png": "[encoded data removed]",
      "text/plain": [
       "<Figure size 432x288 with 1 Axes>"
      ]
     },
     "metadata": {
      "needs_background": "light"
     },
     "output_type": "display_data"
    },
    {
     "data": {
      "image/png": "[encoded data removed]",
      "text/plain": [
       "<Figure size 432x288 with 1 Axes>"
      ]
     },
     "metadata": {
      "needs_background": "light"
     },
     "output_type": "display_data"
    }
   ],
   "source": [
    "acc = history.history['acc']\n",
    "val_acc = history.history['val_acc']\n",
    "loss = history.history['loss']\n",
    "val_loss = history.history['val_loss']\n",
    " \n",
    "epochs = range(1, len(acc) + 1)\n",
    " \n",
    "plt.plot(epochs, acc, 'bo', label='Training acc')\n",
    "plt.plot(epochs, val_acc, 'r', label='Validation acc')\n",
    "plt.title('Accuracy')\n",
    "plt.legend()\n",
    "plt.figure()\n",
    " \n",
    "plt.plot(epochs, loss, 'bo', label='Training loss')\n",
    "plt.plot(epochs, val_loss, 'r', label='Validation loss')\n",
    "plt.title('Loss')\n",
    "plt.legend()\n",
    " \n",
    "plt.show()"
   ]
  },
  {
   "cell_type": "code",
   "execution_count": 18,
   "metadata": {},
   "outputs": [],
   "source": [
    "X_test=np.load('X_test.npy')\n",
    "y_test=np.load('y_test.npy')"
   ]
  },
  {
   "cell_type": "code",
   "execution_count": 19,
   "metadata": {},
   "outputs": [
    {
     "name": "stdout",
     "output_type": "stream",
     "text": [
      "485/485 [==============================] - 1s 3ms/step\n",
      "loss: 0.992, accuracy: 0.513, auc: 0.900, precision: 0.664, recall: 0.622, f1score: 0.155\n"
     ]
    }
   ],
   "source": [
    "_loss, _acc, _auc, _precision, _recall, _f1score = additional_model.evaluate(X_val, y_val, batch_size=32)\n",
    "print('loss: {:.3f}, accuracy: {:.3f}, auc: {:.3f}, precision: {:.3f}, recall: {:.3f}, f1score: {:.3f}'.format(_loss, _acc, _auc, _precision, _recall, _f1score))"
   ]
  },
  {
   "cell_type": "code",
   "execution_count": 20,
   "metadata": {},
   "outputs": [
    {
     "name": "stdout",
     "output_type": "stream",
     "text": [
      "704/704 [==============================] - 2s 3ms/step\n",
      "loss: 70487.620, accuracy: 0.241, auc: 0.896, precision: 0.660, recall: 0.620, f1score: nan\n"
     ]
    }
   ],
   "source": [
    "_loss, _acc, _auc, _precision, _recall, _f1score = additional_model.evaluate(X_test, y_test, batch_size=32)\n",
    "print('loss: {:.3f}, accuracy: {:.3f}, auc: {:.3f}, precision: {:.3f}, recall: {:.3f}, f1score: {:.3f}'.format(_loss, _acc, _auc, _precision, _recall, _f1score))"
   ]
  },
  {
   "cell_type": "code",
   "execution_count": 21,
   "metadata": {},
   "outputs": [],
   "source": [
    "additional_model.save('VGG16_참고문헌_1.h5')"
   ]
  },
  {
   "cell_type": "code",
   "execution_count": 22,
   "metadata": {},
   "outputs": [
    {
     "data": {
      "text/plain": [
       "0.8332240254180678"
      ]
     },
     "execution_count": 22,
     "metadata": {},
     "output_type": "execute_result"
    }
   ],
   "source": [
    "from sklearn.metrics import roc_auc_score\n",
    "\n",
    "y_pred = additional_model.predict(X_val)\n",
    "roc_auc_score(y_val, y_pred)"
   ]
  },
  {
   "cell_type": "code",
   "execution_count": null,
   "metadata": {},
   "outputs": [],
   "source": []
  }
 ],
 "metadata": {
  "kernelspec": {
   "display_name": "Python 3",
   "language": "python",
   "name": "python3"
  },
  "language_info": {
   "codemirror_mode": {
    "name": "ipython",
    "version": 3
   },
   "file_extension": ".py",
   "mimetype": "text/x-python",
   "name": "python",
   "nbconvert_exporter": "python",
   "pygments_lexer": "ipython3",
   "version": "3.7.7"
  }
 },
 "nbformat": 4,
 "nbformat_minor": 2
}
