{
 "cells": [
  {
   "cell_type": "code",
   "execution_count": 1,
   "metadata": {},
   "outputs": [
    {
     "data": {
      "text/plain": [
       "'C:\\\\Users\\\\Owner2\\\\Desktop\\\\G팔로미_vuno'"
      ]
     },
     "execution_count": 1,
     "metadata": {},
     "output_type": "execute_result"
    }
   ],
   "source": [
    "import os\n",
    "import pandas as pd\n",
    "from matplotlib import pyplot as plt\n",
    "import numpy as np\n",
    "import cv2\n",
    "\n",
    "#data path 수정\n",
    "os.chdir(\"C:\\\\Users\\\\Owner2\\\\Desktop\\\\G팔로미_vuno\")\n",
    "os.getcwd()"
   ]
  },
  {
   "cell_type": "code",
   "execution_count": 2,
   "metadata": {},
   "outputs": [],
   "source": [
    "X=np.load('data_X.npy')\n",
    "y=np.load('data_y.npy')"
   ]
  },
  {
   "cell_type": "code",
   "execution_count": 3,
   "metadata": {},
   "outputs": [],
   "source": [
    "#train, validation set 분리\n",
    "from sklearn.model_selection import train_test_split\n",
    "\n",
    "X_train, X_val, y_train, y_val = train_test_split(X,y,test_size=0.3)"
   ]
  },
  {
   "cell_type": "code",
   "execution_count": 4,
   "metadata": {},
   "outputs": [
    {
     "name": "stderr",
     "output_type": "stream",
     "text": [
      "Using TensorFlow backend.\n"
     ]
    }
   ],
   "source": [
    "from keras.preprocessing.image import ImageDataGenerator\n",
    "\n",
    "datagen = ImageDataGenerator(\n",
    "    ##featurewise_center=True,\n",
    "    #featurewise_std_normalization=True, \n",
    "    rotation_range=25.0,\n",
    "    width_shift_range=0.2,\n",
    "    height_shift_range=0.2,\n",
    "    horizontal_flip=True) #수평방향 뒤집기\n",
    "\n",
    "datagen.fit(X_train)\n",
    "\n",
    "dgf=datagen.flow(X_train,y_train,batch_size=64)"
   ]
  },
  {
   "cell_type": "code",
   "execution_count": 5,
   "metadata": {},
   "outputs": [
    {
     "name": "stderr",
     "output_type": "stream",
     "text": [
      "WARNING: Logging before flag parsing goes to stderr.\n",
      "W0606 15:46:15.351002   512 deprecation_wrapper.py:119] From C:\\Users\\Owner2\\Anaconda3\\envs\\keras2\\lib\\site-packages\\keras\\backend\\tensorflow_backend.py:74: The name tf.get_default_graph is deprecated. Please use tf.compat.v1.get_default_graph instead.\n",
      "\n",
      "W0606 15:46:15.369006   512 deprecation_wrapper.py:119] From C:\\Users\\Owner2\\Anaconda3\\envs\\keras2\\lib\\site-packages\\keras\\backend\\tensorflow_backend.py:517: The name tf.placeholder is deprecated. Please use tf.compat.v1.placeholder instead.\n",
      "\n",
      "W0606 15:46:15.374017   512 deprecation_wrapper.py:119] From C:\\Users\\Owner2\\Anaconda3\\envs\\keras2\\lib\\site-packages\\keras\\backend\\tensorflow_backend.py:4138: The name tf.random_uniform is deprecated. Please use tf.random.uniform instead.\n",
      "\n",
      "W0606 15:46:15.403023   512 deprecation_wrapper.py:119] From C:\\Users\\Owner2\\Anaconda3\\envs\\keras2\\lib\\site-packages\\keras\\backend\\tensorflow_backend.py:3976: The name tf.nn.max_pool is deprecated. Please use tf.nn.max_pool2d instead.\n",
      "\n"
     ]
    },
    {
     "name": "stdout",
     "output_type": "stream",
     "text": [
      "_________________________________________________________________\n",
      "Layer (type)                 Output Shape              Param #   \n",
      "=================================================================\n",
      "input_1 (InputLayer)         (None, 224, 224, 3)       0         \n",
      "_________________________________________________________________\n",
      "block1_conv1 (Conv2D)        (None, 224, 224, 64)      1792      \n",
      "_________________________________________________________________\n",
      "block1_conv2 (Conv2D)        (None, 224, 224, 64)      36928     \n",
      "_________________________________________________________________\n",
      "block1_pool (MaxPooling2D)   (None, 112, 112, 64)      0         \n",
      "_________________________________________________________________\n",
      "block2_conv1 (Conv2D)        (None, 112, 112, 128)     73856     \n",
      "_________________________________________________________________\n",
      "block2_conv2 (Conv2D)        (None, 112, 112, 128)     147584    \n",
      "_________________________________________________________________\n",
      "block2_pool (MaxPooling2D)   (None, 56, 56, 128)       0         \n",
      "_________________________________________________________________\n",
      "block3_conv1 (Conv2D)        (None, 56, 56, 256)       295168    \n",
      "_________________________________________________________________\n",
      "block3_conv2 (Conv2D)        (None, 56, 56, 256)       590080    \n",
      "_________________________________________________________________\n",
      "block3_conv3 (Conv2D)        (None, 56, 56, 256)       590080    \n",
      "_________________________________________________________________\n",
      "block3_pool (MaxPooling2D)   (None, 28, 28, 256)       0         \n",
      "_________________________________________________________________\n",
      "block4_conv1 (Conv2D)        (None, 28, 28, 512)       1180160   \n",
      "_________________________________________________________________\n",
      "block4_conv2 (Conv2D)        (None, 28, 28, 512)       2359808   \n",
      "_________________________________________________________________\n",
      "block4_conv3 (Conv2D)        (None, 28, 28, 512)       2359808   \n",
      "_________________________________________________________________\n",
      "block4_pool (MaxPooling2D)   (None, 14, 14, 512)       0         \n",
      "_________________________________________________________________\n",
      "block5_conv1 (Conv2D)        (None, 14, 14, 512)       2359808   \n",
      "_________________________________________________________________\n",
      "block5_conv2 (Conv2D)        (None, 14, 14, 512)       2359808   \n",
      "_________________________________________________________________\n",
      "block5_conv3 (Conv2D)        (None, 14, 14, 512)       2359808   \n",
      "_________________________________________________________________\n",
      "block5_pool (MaxPooling2D)   (None, 7, 7, 512)         0         \n",
      "=================================================================\n",
      "Total params: 14,714,688\n",
      "Trainable params: 14,714,688\n",
      "Non-trainable params: 0\n",
      "_________________________________________________________________\n"
     ]
    }
   ],
   "source": [
    "from keras import layers, models\n",
    "from keras.applications import VGG16\n",
    "from keras import Input\n",
    "from keras.models import Model\n",
    "from keras.preprocessing.image import ImageDataGenerator\n",
    "from keras import optimizers, initializers, regularizers, metrics\n",
    "from keras.callbacks import ModelCheckpoint\n",
    "import os\n",
    "from glob import glob\n",
    "from PIL import Image\n",
    "import matplotlib.pyplot as plt\n",
    "import numpy as np\n",
    " \n",
    "\n",
    "\n",
    "pre_trained_vgg = VGG16(weights=None, include_top=False, input_shape=(224, 224, 3))\n",
    "pre_trained_vgg.trainable = True\n",
    "pre_trained_vgg.summary()"
   ]
  },
  {
   "cell_type": "code",
   "execution_count": 6,
   "metadata": {},
   "outputs": [
    {
     "name": "stdout",
     "output_type": "stream",
     "text": [
      "_________________________________________________________________\n",
      "Layer (type)                 Output Shape              Param #   \n",
      "=================================================================\n",
      "vgg16 (Model)                (None, 7, 7, 512)         14714688  \n",
      "_________________________________________________________________\n",
      "flatten_1 (Flatten)          (None, 25088)             0         \n",
      "_________________________________________________________________\n",
      "dense_1 (Dense)              (None, 4096)              102764544 \n",
      "_________________________________________________________________\n",
      "dense_2 (Dense)              (None, 2048)              8390656   \n",
      "_________________________________________________________________\n",
      "dense_3 (Dense)              (None, 1024)              2098176   \n",
      "_________________________________________________________________\n",
      "dense_4 (Dense)              (None, 4)                 4100      \n",
      "=================================================================\n",
      "Total params: 127,972,164\n",
      "Trainable params: 127,972,164\n",
      "Non-trainable params: 0\n",
      "_________________________________________________________________\n"
     ]
    }
   ],
   "source": [
    "additional_model = models.Sequential()\n",
    "additional_model.add(pre_trained_vgg)\n",
    "additional_model.add(layers.Flatten())\n",
    "additional_model.add(layers.Dense(4096, activation='relu'))\n",
    "additional_model.add(layers.Dense(2048, activation='relu'))\n",
    "additional_model.add(layers.Dense(1024, activation='relu'))\n",
    "additional_model.add(layers.Dense(4, activation='softmax'))\n",
    "\n",
    "additional_model.summary()"
   ]
  },
  {
   "cell_type": "code",
   "execution_count": 7,
   "metadata": {},
   "outputs": [],
   "source": [
    "# checkpoint = ModelCheckpoint(filepath='My_VGG_{epoch:03d}_{val_loss:.7f}.hdf5',monitor='loss', mode='min', save_best_only=True)\n",
    "checkpoint = ModelCheckpoint(filepath='vgg16_trainable_1.hdf5', \n",
    "            monitor='loss', \n",
    "            mode='min', \n",
    "            save_best_only=True)"
   ]
  },
  {
   "cell_type": "code",
   "execution_count": 8,
   "metadata": {},
   "outputs": [],
   "source": [
    "from keras import backend as K\n",
    "import tensorflow as tf\n",
    "\n",
    "def auc(y_true, y_pred):\n",
    "    auc = tf.metrics.auc(y_true, y_pred)[1]\n",
    "    K.get_session().run(tf.local_variables_initializer())\n",
    "    return auc\n",
    "\n",
    "def recall(y_target, y_pred):\n",
    "    # clip(t, clip_value_min, clip_value_max) : clip_value_min~clip_value_max 이외 가장자리를 깎아 낸다\n",
    "    # round : 반올림한다\n",
    "    y_target_yn = K.round(K.clip(y_target, 0, 1)) # 실제값을 0(Negative) 또는 1(Positive)로 설정한다\n",
    "    y_pred_yn = K.round(K.clip(y_pred, 0, 1)) # 예측값을 0(Negative) 또는 1(Positive)로 설정한다\n",
    "\n",
    "    # True Positive는 실제 값과 예측 값이 모두 1(Positive)인 경우이다\n",
    "    count_true_positive = K.sum(y_target_yn * y_pred_yn) \n",
    "\n",
    "    # (True Positive + False Negative) = 실제 값이 1(Positive) 전체\n",
    "    count_true_positive_false_negative = K.sum(y_target_yn)\n",
    "\n",
    "    # Recall =  (True Positive) / (True Positive + False Negative)\n",
    "    # K.epsilon()는 'divide by zero error' 예방차원에서 작은 수를 더한다\n",
    "    recall = count_true_positive / (count_true_positive_false_negative + K.epsilon())\n",
    "\n",
    "    # return a single tensor value\n",
    "    return recall\n",
    "\n",
    "\n",
    "def precision(y_target, y_pred):\n",
    "    # clip(t, clip_value_min, clip_value_max) : clip_value_min~clip_value_max 이외 가장자리를 깎아 낸다\n",
    "    # round : 반올림한다\n",
    "    y_pred_yn = K.round(K.clip(y_pred, 0, 1)) # 예측값을 0(Negative) 또는 1(Positive)로 설정한다\n",
    "    y_target_yn = K.round(K.clip(y_target, 0, 1)) # 실제값을 0(Negative) 또는 1(Positive)로 설정한다\n",
    "\n",
    "    # True Positive는 실제 값과 예측 값이 모두 1(Positive)인 경우이다\n",
    "    count_true_positive = K.sum(y_target_yn * y_pred_yn) \n",
    "\n",
    "    # (True Positive + False Positive) = 예측 값이 1(Positive) 전체\n",
    "    count_true_positive_false_positive = K.sum(y_pred_yn)\n",
    "\n",
    "    # Precision = (True Positive) / (True Positive + False Positive)\n",
    "    # K.epsilon()는 'divide by zero error' 예방차원에서 작은 수를 더한다\n",
    "    precision = count_true_positive / (count_true_positive_false_positive + K.epsilon())\n",
    "\n",
    "    # return a single tensor value\n",
    "    return precision\n",
    "\n",
    "\n",
    "def f1score(y_target, y_pred):\n",
    "    _recall = recall(y_target, y_pred)\n",
    "    _precision = precision(y_target, y_pred)\n",
    "    # K.epsilon()는 'divide by zero error' 예방차원에서 작은 수를 더한다\n",
    "    _f1score = ( 2 * _recall * _precision) / (_recall + _precision+ K.epsilon())\n",
    "    \n",
    "    # return a single tensor value\n",
    "    return _f1score"
   ]
  },
  {
   "cell_type": "code",
   "execution_count": 9,
   "metadata": {},
   "outputs": [
    {
     "name": "stderr",
     "output_type": "stream",
     "text": [
      "W0606 15:46:15.713203   512 deprecation_wrapper.py:119] From C:\\Users\\Owner2\\Anaconda3\\envs\\keras2\\lib\\site-packages\\keras\\optimizers.py:790: The name tf.train.Optimizer is deprecated. Please use tf.compat.v1.train.Optimizer instead.\n",
      "\n",
      "W0606 15:46:15.721215   512 deprecation_wrapper.py:119] From C:\\Users\\Owner2\\Anaconda3\\envs\\keras2\\lib\\site-packages\\keras\\backend\\tensorflow_backend.py:3295: The name tf.log is deprecated. Please use tf.math.log instead.\n",
      "\n",
      "W0606 15:46:15.809566   512 deprecation.py:323] From C:\\Users\\Owner2\\Anaconda3\\envs\\keras2\\lib\\site-packages\\tensorflow\\python\\ops\\metrics_impl.py:809: div (from tensorflow.python.ops.math_ops) is deprecated and will be removed in a future version.\n",
      "Instructions for updating:\n",
      "Deprecated in favor of operator or tf.math.divide.\n",
      "W0606 15:46:15.849774   512 deprecation_wrapper.py:119] From C:\\Users\\Owner2\\Anaconda3\\envs\\keras2\\lib\\site-packages\\keras\\backend\\tensorflow_backend.py:174: The name tf.get_default_session is deprecated. Please use tf.compat.v1.get_default_session instead.\n",
      "\n"
     ]
    }
   ],
   "source": [
    "additional_model.compile(loss='categorical_crossentropy',\n",
    "                         optimizer=optimizers.RMSprop(lr=2e-5), \n",
    "                         metrics=['acc', auc, precision, recall, f1score])"
   ]
  },
  {
   "cell_type": "code",
   "execution_count": 10,
   "metadata": {},
   "outputs": [
    {
     "data": {
      "text/plain": [
       "(2861, 224, 224, 3)"
      ]
     },
     "execution_count": 10,
     "metadata": {},
     "output_type": "execute_result"
    }
   ],
   "source": [
    "X.shape"
   ]
  },
  {
   "cell_type": "code",
   "execution_count": 11,
   "metadata": {},
   "outputs": [],
   "source": [
    "# history1=myvgg.fit(X,y,batch_size=32,\n",
    "#                   epochs=100,\n",
    "#                   validation_split=0.3,\n",
    "#                   callbacks=[checkpoint])"
   ]
  },
  {
   "cell_type": "code",
   "execution_count": 12,
   "metadata": {
    "scrolled": true
   },
   "outputs": [
    {
     "name": "stderr",
     "output_type": "stream",
     "text": [
      "W0606 15:46:20.594078   512 deprecation.py:323] From C:\\Users\\Owner2\\Anaconda3\\envs\\keras2\\lib\\site-packages\\tensorflow\\python\\ops\\math_grad.py:1250: add_dispatch_support.<locals>.wrapper (from tensorflow.python.ops.array_ops) is deprecated and will be removed in a future version.\n",
      "Instructions for updating:\n",
      "Use tf.where in 2.0, which has the same broadcast rule as np.where\n"
     ]
    },
    {
     "name": "stdout",
     "output_type": "stream",
     "text": [
      "Epoch 1/100\n",
      " - 91s - loss: 1.1105 - acc: 0.4659 - auc: 0.6907 - precision: 0.4695 - recall: 0.1990 - f1score: 0.2660 - val_loss: 1.0070 - val_acc: 0.5239 - val_auc: 0.7703 - val_precision: 0.6181 - val_recall: 0.3050 - val_f1score: 0.4073\n",
      "Epoch 2/100\n",
      " - 81s - loss: 0.9124 - acc: 0.5343 - auc: 0.7913 - precision: 0.6072 - recall: 0.3839 - f1score: 0.4662 - val_loss: 0.8879 - val_acc: 0.5367 - val_auc: 0.8064 - val_precision: 0.5931 - val_recall: 0.4529 - val_f1score: 0.5132\n",
      "Epoch 3/100\n",
      " - 82s - loss: 0.8524 - acc: 0.5490 - auc: 0.8153 - precision: 0.6007 - recall: 0.4366 - f1score: 0.5036 - val_loss: 0.8720 - val_acc: 0.5192 - val_auc: 0.8221 - val_precision: 0.5667 - val_recall: 0.4098 - val_f1score: 0.4749\n",
      "Epoch 4/100\n",
      " - 83s - loss: 0.8097 - acc: 0.5586 - auc: 0.8276 - precision: 0.6023 - recall: 0.4658 - f1score: 0.5239 - val_loss: 0.8898 - val_acc: 0.5355 - val_auc: 0.8322 - val_precision: 0.5835 - val_recall: 0.4482 - val_f1score: 0.5063\n",
      "Epoch 5/100\n",
      " - 82s - loss: 0.7883 - acc: 0.5665 - auc: 0.8356 - precision: 0.6095 - recall: 0.4878 - f1score: 0.5404 - val_loss: 0.7574 - val_acc: 0.5704 - val_auc: 0.8392 - val_precision: 0.5866 - val_recall: 0.5355 - val_f1score: 0.5597\n",
      "Epoch 6/100\n",
      " - 82s - loss: 0.7783 - acc: 0.5685 - auc: 0.8418 - precision: 0.6070 - recall: 0.4937 - f1score: 0.5436 - val_loss: 0.7684 - val_acc: 0.5728 - val_auc: 0.8442 - val_precision: 0.6221 - val_recall: 0.5064 - val_f1score: 0.5578\n",
      "Epoch 7/100\n",
      " - 82s - loss: 0.7536 - acc: 0.5763 - auc: 0.8465 - precision: 0.6101 - recall: 0.5084 - f1score: 0.5536 - val_loss: 0.6868 - val_acc: 0.5867 - val_auc: 0.8488 - val_precision: 0.6059 - val_recall: 0.5495 - val_f1score: 0.5762\n",
      "Epoch 8/100\n",
      " - 82s - loss: 0.7390 - acc: 0.5813 - auc: 0.8507 - precision: 0.6100 - recall: 0.5174 - f1score: 0.5591 - val_loss: 0.6963 - val_acc: 0.5972 - val_auc: 0.8526 - val_precision: 0.6164 - val_recall: 0.5739 - val_f1score: 0.5942\n",
      "Epoch 9/100\n",
      " - 82s - loss: 0.7266 - acc: 0.5869 - auc: 0.8543 - precision: 0.6110 - recall: 0.5326 - f1score: 0.5686 - val_loss: 0.7903 - val_acc: 0.5902 - val_auc: 0.8557 - val_precision: 0.6163 - val_recall: 0.5588 - val_f1score: 0.5858\n",
      "Epoch 10/100\n",
      " - 82s - loss: 0.7132 - acc: 0.5904 - auc: 0.8571 - precision: 0.6156 - recall: 0.5408 - f1score: 0.5753 - val_loss: 0.6854 - val_acc: 0.6147 - val_auc: 0.8585 - val_precision: 0.6314 - val_recall: 0.5786 - val_f1score: 0.6037\n",
      "Epoch 11/100\n",
      " - 83s - loss: 0.7017 - acc: 0.5978 - auc: 0.8597 - precision: 0.6224 - recall: 0.5517 - f1score: 0.5845 - val_loss: 0.7233 - val_acc: 0.5693 - val_auc: 0.8609 - val_precision: 0.5816 - val_recall: 0.5448 - val_f1score: 0.5624\n",
      "Epoch 12/100\n",
      " - 82s - loss: 0.7096 - acc: 0.5918 - auc: 0.8618 - precision: 0.6124 - recall: 0.5452 - f1score: 0.5763 - val_loss: 0.6817 - val_acc: 0.5844 - val_auc: 0.8628 - val_precision: 0.6006 - val_recall: 0.5495 - val_f1score: 0.5736\n",
      "Epoch 13/100\n",
      " - 83s - loss: 0.6875 - acc: 0.6098 - auc: 0.8638 - precision: 0.6269 - recall: 0.5650 - f1score: 0.5939 - val_loss: 0.6765 - val_acc: 0.6077 - val_auc: 0.8649 - val_precision: 0.6217 - val_recall: 0.5902 - val_f1score: 0.6054\n",
      "Epoch 14/100\n",
      " - 82s - loss: 0.6859 - acc: 0.6074 - auc: 0.8657 - precision: 0.6207 - recall: 0.5651 - f1score: 0.5912 - val_loss: 0.7451 - val_acc: 0.5611 - val_auc: 0.8665 - val_precision: 0.5811 - val_recall: 0.5297 - val_f1score: 0.5539\n",
      "Epoch 15/100\n",
      " - 82s - loss: 0.6853 - acc: 0.6082 - auc: 0.8673 - precision: 0.6278 - recall: 0.5701 - f1score: 0.5971 - val_loss: 0.6767 - val_acc: 0.5891 - val_auc: 0.8681 - val_precision: 0.6065 - val_recall: 0.5634 - val_f1score: 0.5840\n",
      "Epoch 16/100\n",
      " - 83s - loss: 0.6665 - acc: 0.6079 - auc: 0.8689 - precision: 0.6224 - recall: 0.5770 - f1score: 0.5985 - val_loss: 0.7877 - val_acc: 0.6030 - val_auc: 0.8696 - val_precision: 0.6330 - val_recall: 0.5832 - val_f1score: 0.6065\n",
      "Epoch 17/100\n",
      " - 82s - loss: 0.6614 - acc: 0.6178 - auc: 0.8704 - precision: 0.6347 - recall: 0.5908 - f1score: 0.6117 - val_loss: 0.7264 - val_acc: 0.5797 - val_auc: 0.8711 - val_precision: 0.6001 - val_recall: 0.5658 - val_f1score: 0.5823\n",
      "Epoch 18/100\n",
      " - 83s - loss: 0.6572 - acc: 0.6342 - auc: 0.8718 - precision: 0.6461 - recall: 0.6054 - f1score: 0.6248 - val_loss: 0.6770 - val_acc: 0.5844 - val_auc: 0.8725 - val_precision: 0.5900 - val_recall: 0.5763 - val_f1score: 0.5830\n",
      "Epoch 19/100\n",
      " - 83s - loss: 0.6533 - acc: 0.6184 - auc: 0.8732 - precision: 0.6343 - recall: 0.5952 - f1score: 0.6139 - val_loss: 0.6983 - val_acc: 0.5972 - val_auc: 0.8738 - val_precision: 0.6053 - val_recall: 0.5844 - val_f1score: 0.5946\n",
      "Epoch 20/100\n",
      " - 83s - loss: 0.6495 - acc: 0.6323 - auc: 0.8744 - precision: 0.6439 - recall: 0.6100 - f1score: 0.6263 - val_loss: 0.7753 - val_acc: 0.5460 - val_auc: 0.8750 - val_precision: 0.5703 - val_recall: 0.5297 - val_f1score: 0.5490\n",
      "Epoch 21/100\n",
      " - 82s - loss: 0.6437 - acc: 0.6315 - auc: 0.8756 - precision: 0.6443 - recall: 0.6100 - f1score: 0.6265 - val_loss: 0.7759 - val_acc: 0.5809 - val_auc: 0.8761 - val_precision: 0.6265 - val_recall: 0.5530 - val_f1score: 0.5870\n",
      "Epoch 22/100\n",
      " - 83s - loss: 0.6396 - acc: 0.6436 - auc: 0.8768 - precision: 0.6541 - recall: 0.6242 - f1score: 0.6386 - val_loss: 0.6837 - val_acc: 0.6030 - val_auc: 0.8774 - val_precision: 0.6116 - val_recall: 0.5821 - val_f1score: 0.5964\n",
      "Epoch 23/100\n",
      " - 83s - loss: 0.6339 - acc: 0.6401 - auc: 0.8779 - precision: 0.6479 - recall: 0.6192 - f1score: 0.6331 - val_loss: 0.6438 - val_acc: 0.5984 - val_auc: 0.8785 - val_precision: 0.6076 - val_recall: 0.5856 - val_f1score: 0.5963\n",
      "Epoch 24/100\n",
      " - 83s - loss: 0.6338 - acc: 0.6411 - auc: 0.8790 - precision: 0.6513 - recall: 0.6211 - f1score: 0.6357 - val_loss: 0.6468 - val_acc: 0.6065 - val_auc: 0.8795 - val_precision: 0.6126 - val_recall: 0.5984 - val_f1score: 0.6053\n",
      "Epoch 25/100\n",
      " - 82s - loss: 0.6266 - acc: 0.6463 - auc: 0.8801 - precision: 0.6539 - recall: 0.6269 - f1score: 0.6399 - val_loss: 0.6645 - val_acc: 0.6100 - val_auc: 0.8806 - val_precision: 0.6200 - val_recall: 0.5995 - val_f1score: 0.6095\n",
      "Epoch 26/100\n",
      " - 83s - loss: 0.6142 - acc: 0.6495 - auc: 0.8811 - precision: 0.6563 - recall: 0.6358 - f1score: 0.6458 - val_loss: 0.6519 - val_acc: 0.6077 - val_auc: 0.8816 - val_precision: 0.6173 - val_recall: 0.5984 - val_f1score: 0.6076\n",
      "Epoch 27/100\n",
      " - 83s - loss: 0.6176 - acc: 0.6488 - auc: 0.8822 - precision: 0.6584 - recall: 0.6316 - f1score: 0.6445 - val_loss: 0.6792 - val_acc: 0.6251 - val_auc: 0.8827 - val_precision: 0.6395 - val_recall: 0.6112 - val_f1score: 0.6247\n",
      "Epoch 28/100\n",
      " - 83s - loss: 0.6151 - acc: 0.6524 - auc: 0.8831 - precision: 0.6597 - recall: 0.6366 - f1score: 0.6478 - val_loss: 0.6852 - val_acc: 0.5972 - val_auc: 0.8836 - val_precision: 0.6053 - val_recall: 0.5925 - val_f1score: 0.5988\n",
      "Epoch 29/100\n",
      " - 83s - loss: 0.6107 - acc: 0.6520 - auc: 0.8841 - precision: 0.6572 - recall: 0.6381 - f1score: 0.6474 - val_loss: 0.6640 - val_acc: 0.6042 - val_auc: 0.8845 - val_precision: 0.6109 - val_recall: 0.5972 - val_f1score: 0.6039\n",
      "Epoch 30/100\n",
      " - 83s - loss: 0.6028 - acc: 0.6637 - auc: 0.8850 - precision: 0.6707 - recall: 0.6515 - f1score: 0.6609 - val_loss: 0.6568 - val_acc: 0.6100 - val_auc: 0.8854 - val_precision: 0.6161 - val_recall: 0.6042 - val_f1score: 0.6100\n",
      "Epoch 31/100\n",
      " - 83s - loss: 0.6023 - acc: 0.6563 - auc: 0.8859 - precision: 0.6638 - recall: 0.6446 - f1score: 0.6540 - val_loss: 0.6910 - val_acc: 0.6077 - val_auc: 0.8863 - val_precision: 0.6146 - val_recall: 0.5995 - val_f1score: 0.6069\n",
      "Epoch 32/100\n",
      " - 84s - loss: 0.5971 - acc: 0.6648 - auc: 0.8868 - precision: 0.6708 - recall: 0.6518 - f1score: 0.6611 - val_loss: 0.7082 - val_acc: 0.6286 - val_auc: 0.8872 - val_precision: 0.6419 - val_recall: 0.6100 - val_f1score: 0.6251\n",
      "Epoch 33/100\n",
      " - 83s - loss: 0.5864 - acc: 0.6741 - auc: 0.8877 - precision: 0.6815 - recall: 0.6642 - f1score: 0.6727 - val_loss: 0.7036 - val_acc: 0.6042 - val_auc: 0.8881 - val_precision: 0.6184 - val_recall: 0.5972 - val_f1score: 0.6075\n",
      "Epoch 34/100\n",
      " - 83s - loss: 0.5872 - acc: 0.6745 - auc: 0.8886 - precision: 0.6786 - recall: 0.6625 - f1score: 0.6703 - val_loss: 0.6475 - val_acc: 0.6170 - val_auc: 0.8890 - val_precision: 0.6229 - val_recall: 0.6112 - val_f1score: 0.6170\n",
      "Epoch 35/100\n",
      " - 83s - loss: 0.5816 - acc: 0.6771 - auc: 0.8895 - precision: 0.6812 - recall: 0.6674 - f1score: 0.6742 - val_loss: 0.6352 - val_acc: 0.6251 - val_auc: 0.8899 - val_precision: 0.6313 - val_recall: 0.6182 - val_f1score: 0.6246\n"
     ]
    },
    {
     "name": "stdout",
     "output_type": "stream",
     "text": [
      "Epoch 36/100\n",
      " - 83s - loss: 0.5774 - acc: 0.6786 - auc: 0.8904 - precision: 0.6825 - recall: 0.6686 - f1score: 0.6754 - val_loss: 0.6843 - val_acc: 0.6310 - val_auc: 0.8908 - val_precision: 0.6341 - val_recall: 0.6251 - val_f1score: 0.6296\n",
      "Epoch 37/100\n",
      " - 83s - loss: 0.5720 - acc: 0.6790 - auc: 0.8912 - precision: 0.6844 - recall: 0.6696 - f1score: 0.6769 - val_loss: 0.6916 - val_acc: 0.6403 - val_auc: 0.8916 - val_precision: 0.6438 - val_recall: 0.6321 - val_f1score: 0.6379\n",
      "Epoch 38/100\n",
      " - 83s - loss: 0.5704 - acc: 0.6835 - auc: 0.8920 - precision: 0.6880 - recall: 0.6760 - f1score: 0.6819 - val_loss: 0.9949 - val_acc: 0.5739 - val_auc: 0.8924 - val_precision: 0.5956 - val_recall: 0.5658 - val_f1score: 0.5802\n",
      "Epoch 39/100\n",
      " - 83s - loss: 0.5577 - acc: 0.6960 - auc: 0.8928 - precision: 0.6997 - recall: 0.6887 - f1score: 0.6941 - val_loss: 0.7707 - val_acc: 0.5588 - val_auc: 0.8933 - val_precision: 0.5715 - val_recall: 0.5553 - val_f1score: 0.5632\n",
      "Epoch 40/100\n",
      " - 83s - loss: 0.5604 - acc: 0.6950 - auc: 0.8937 - precision: 0.6987 - recall: 0.6874 - f1score: 0.6929 - val_loss: 0.6915 - val_acc: 0.6147 - val_auc: 0.8941 - val_precision: 0.6192 - val_recall: 0.6077 - val_f1score: 0.6134\n",
      "Epoch 41/100\n",
      " - 83s - loss: 0.5489 - acc: 0.7069 - auc: 0.8945 - precision: 0.7103 - recall: 0.7006 - f1score: 0.7054 - val_loss: 0.6977 - val_acc: 0.6251 - val_auc: 0.8950 - val_precision: 0.6261 - val_recall: 0.6158 - val_f1score: 0.6209\n",
      "Epoch 42/100\n",
      " - 83s - loss: 0.5520 - acc: 0.7025 - auc: 0.8954 - precision: 0.7082 - recall: 0.6959 - f1score: 0.7019 - val_loss: 0.6947 - val_acc: 0.5995 - val_auc: 0.8958 - val_precision: 0.6013 - val_recall: 0.5972 - val_f1score: 0.5992\n",
      "Epoch 43/100\n",
      " - 83s - loss: 0.5406 - acc: 0.7102 - auc: 0.8963 - precision: 0.7136 - recall: 0.7032 - f1score: 0.7083 - val_loss: 0.7119 - val_acc: 0.6217 - val_auc: 0.8967 - val_precision: 0.6236 - val_recall: 0.6158 - val_f1score: 0.6197\n",
      "Epoch 44/100\n",
      " - 83s - loss: 0.5346 - acc: 0.7160 - auc: 0.8971 - precision: 0.7178 - recall: 0.7090 - f1score: 0.7133 - val_loss: 0.7356 - val_acc: 0.5960 - val_auc: 0.8976 - val_precision: 0.6014 - val_recall: 0.5937 - val_f1score: 0.5975\n",
      "Epoch 45/100\n",
      " - 84s - loss: 0.5337 - acc: 0.7175 - auc: 0.8980 - precision: 0.7206 - recall: 0.7121 - f1score: 0.7163 - val_loss: 0.7124 - val_acc: 0.6170 - val_auc: 0.8984 - val_precision: 0.6182 - val_recall: 0.6147 - val_f1score: 0.6164\n",
      "Epoch 46/100\n",
      " - 83s - loss: 0.5205 - acc: 0.7282 - auc: 0.8988 - precision: 0.7303 - recall: 0.7227 - f1score: 0.7264 - val_loss: 0.7498 - val_acc: 0.6182 - val_auc: 0.8993 - val_precision: 0.6227 - val_recall: 0.6147 - val_f1score: 0.6186\n",
      "Epoch 47/100\n",
      " - 83s - loss: 0.5138 - acc: 0.7287 - auc: 0.8997 - precision: 0.7309 - recall: 0.7249 - f1score: 0.7278 - val_loss: 0.8026 - val_acc: 0.6182 - val_auc: 0.9001 - val_precision: 0.6252 - val_recall: 0.6158 - val_f1score: 0.6205\n",
      "Epoch 48/100\n",
      " - 83s - loss: 0.5217 - acc: 0.7321 - auc: 0.9006 - precision: 0.7361 - recall: 0.7278 - f1score: 0.7319 - val_loss: 0.8625 - val_acc: 0.5751 - val_auc: 0.9009 - val_precision: 0.5871 - val_recall: 0.5693 - val_f1score: 0.5778\n",
      "Epoch 49/100\n",
      " - 83s - loss: 0.5068 - acc: 0.7350 - auc: 0.9014 - precision: 0.7379 - recall: 0.7309 - f1score: 0.7344 - val_loss: 0.7329 - val_acc: 0.6391 - val_auc: 0.9018 - val_precision: 0.6422 - val_recall: 0.6356 - val_f1score: 0.6389\n",
      "Epoch 50/100\n",
      " - 83s - loss: 0.5046 - acc: 0.7379 - auc: 0.9022 - precision: 0.7409 - recall: 0.7338 - f1score: 0.7373 - val_loss: 0.7448 - val_acc: 0.6263 - val_auc: 0.9027 - val_precision: 0.6291 - val_recall: 0.6217 - val_f1score: 0.6253\n",
      "Epoch 51/100\n",
      " - 83s - loss: 0.4989 - acc: 0.7422 - auc: 0.9031 - precision: 0.7443 - recall: 0.7387 - f1score: 0.7415 - val_loss: 0.7743 - val_acc: 0.6391 - val_auc: 0.9035 - val_precision: 0.6442 - val_recall: 0.6345 - val_f1score: 0.6393\n",
      "Epoch 52/100\n",
      " - 83s - loss: 0.4909 - acc: 0.7482 - auc: 0.9040 - precision: 0.7506 - recall: 0.7440 - f1score: 0.7472 - val_loss: 0.7377 - val_acc: 0.6263 - val_auc: 0.9044 - val_precision: 0.6280 - val_recall: 0.6251 - val_f1score: 0.6266\n",
      "Epoch 53/100\n",
      " - 83s - loss: 0.4759 - acc: 0.7530 - auc: 0.9049 - precision: 0.7561 - recall: 0.7510 - f1score: 0.7535 - val_loss: 0.7790 - val_acc: 0.6438 - val_auc: 0.9053 - val_precision: 0.6487 - val_recall: 0.6368 - val_f1score: 0.6426\n",
      "Epoch 54/100\n",
      " - 83s - loss: 0.4774 - acc: 0.7553 - auc: 0.9057 - precision: 0.7571 - recall: 0.7518 - f1score: 0.7544 - val_loss: 0.8645 - val_acc: 0.6123 - val_auc: 0.9061 - val_precision: 0.6236 - val_recall: 0.6112 - val_f1score: 0.6173\n",
      "Epoch 55/100\n",
      " - 83s - loss: 0.4749 - acc: 0.7610 - auc: 0.9065 - precision: 0.7621 - recall: 0.7571 - f1score: 0.7596 - val_loss: 0.8152 - val_acc: 0.6356 - val_auc: 0.9070 - val_precision: 0.6380 - val_recall: 0.6321 - val_f1score: 0.6350\n",
      "Epoch 56/100\n",
      " - 83s - loss: 0.4618 - acc: 0.7668 - auc: 0.9074 - precision: 0.7686 - recall: 0.7646 - f1score: 0.7666 - val_loss: 0.8899 - val_acc: 0.6170 - val_auc: 0.9078 - val_precision: 0.6208 - val_recall: 0.6100 - val_f1score: 0.6153\n",
      "Epoch 57/100\n",
      " - 83s - loss: 0.4530 - acc: 0.7724 - auc: 0.9083 - precision: 0.7747 - recall: 0.7700 - f1score: 0.7723 - val_loss: 0.8104 - val_acc: 0.6286 - val_auc: 0.9087 - val_precision: 0.6283 - val_recall: 0.6240 - val_f1score: 0.6261\n",
      "Epoch 58/100\n",
      " - 83s - loss: 0.4403 - acc: 0.7790 - auc: 0.9092 - precision: 0.7806 - recall: 0.7764 - f1score: 0.7785 - val_loss: 0.8127 - val_acc: 0.6333 - val_auc: 0.9096 - val_precision: 0.6358 - val_recall: 0.6275 - val_f1score: 0.6316\n",
      "Epoch 59/100\n",
      " - 83s - loss: 0.4469 - acc: 0.7721 - auc: 0.9101 - precision: 0.7736 - recall: 0.7699 - f1score: 0.7718 - val_loss: 0.8627 - val_acc: 0.6263 - val_auc: 0.9105 - val_precision: 0.6282 - val_recall: 0.6228 - val_f1score: 0.6255\n",
      "Epoch 60/100\n",
      " - 83s - loss: 0.4306 - acc: 0.7881 - auc: 0.9109 - precision: 0.7893 - recall: 0.7862 - f1score: 0.7878 - val_loss: 0.9119 - val_acc: 0.5856 - val_auc: 0.9113 - val_precision: 0.5853 - val_recall: 0.5832 - val_f1score: 0.5843\n",
      "Epoch 61/100\n",
      " - 83s - loss: 0.4226 - acc: 0.7896 - auc: 0.9118 - precision: 0.7906 - recall: 0.7877 - f1score: 0.7891 - val_loss: 1.0098 - val_acc: 0.6228 - val_auc: 0.9122 - val_precision: 0.6250 - val_recall: 0.6205 - val_f1score: 0.6227\n",
      "Epoch 62/100\n",
      " - 83s - loss: 0.4167 - acc: 0.7998 - auc: 0.9126 - precision: 0.8010 - recall: 0.7981 - f1score: 0.7996 - val_loss: 0.7911 - val_acc: 0.6310 - val_auc: 0.9131 - val_precision: 0.6312 - val_recall: 0.6275 - val_f1score: 0.6293\n",
      "Epoch 63/100\n",
      " - 83s - loss: 0.4089 - acc: 0.8047 - auc: 0.9135 - precision: 0.8061 - recall: 0.8036 - f1score: 0.8048 - val_loss: 0.9550 - val_acc: 0.6542 - val_auc: 0.9140 - val_precision: 0.6557 - val_recall: 0.6542 - val_f1score: 0.6549\n",
      "Epoch 64/100\n",
      " - 84s - loss: 0.4145 - acc: 0.7985 - auc: 0.9144 - precision: 0.8001 - recall: 0.7974 - f1score: 0.7987 - val_loss: 0.9041 - val_acc: 0.5914 - val_auc: 0.9148 - val_precision: 0.5947 - val_recall: 0.5879 - val_f1score: 0.5912\n",
      "Epoch 65/100\n",
      " - 83s - loss: 0.4075 - acc: 0.8036 - auc: 0.9152 - precision: 0.8048 - recall: 0.8015 - f1score: 0.8032 - val_loss: 1.0150 - val_acc: 0.6414 - val_auc: 0.9156 - val_precision: 0.6423 - val_recall: 0.6391 - val_f1score: 0.6407\n",
      "Epoch 66/100\n",
      " - 83s - loss: 0.3947 - acc: 0.8107 - auc: 0.9160 - precision: 0.8120 - recall: 0.8096 - f1score: 0.8108 - val_loss: 1.0652 - val_acc: 0.6414 - val_auc: 0.9165 - val_precision: 0.6442 - val_recall: 0.6380 - val_f1score: 0.6410\n",
      "Epoch 67/100\n",
      " - 83s - loss: 0.3890 - acc: 0.8129 - auc: 0.9169 - precision: 0.8137 - recall: 0.8115 - f1score: 0.8126 - val_loss: 0.9331 - val_acc: 0.6251 - val_auc: 0.9173 - val_precision: 0.6277 - val_recall: 0.6217 - val_f1score: 0.6246\n",
      "Epoch 68/100\n",
      " - 83s - loss: 0.3703 - acc: 0.8226 - auc: 0.9177 - precision: 0.8235 - recall: 0.8213 - f1score: 0.8224 - val_loss: 0.9727 - val_acc: 0.6380 - val_auc: 0.9182 - val_precision: 0.6414 - val_recall: 0.6368 - val_f1score: 0.6391\n",
      "Epoch 69/100\n",
      " - 83s - loss: 0.3693 - acc: 0.8202 - auc: 0.9186 - precision: 0.8212 - recall: 0.8191 - f1score: 0.8201 - val_loss: 0.8496 - val_acc: 0.6321 - val_auc: 0.9190 - val_precision: 0.6321 - val_recall: 0.6298 - val_f1score: 0.6309\n",
      "Epoch 70/100\n",
      " - 83s - loss: 0.3639 - acc: 0.8263 - auc: 0.9195 - precision: 0.8279 - recall: 0.8250 - f1score: 0.8264 - val_loss: 0.9375 - val_acc: 0.6368 - val_auc: 0.9199 - val_precision: 0.6384 - val_recall: 0.6368 - val_f1score: 0.6376\n"
     ]
    },
    {
     "name": "stdout",
     "output_type": "stream",
     "text": [
      "Epoch 71/100\n",
      " - 83s - loss: 0.3583 - acc: 0.8343 - auc: 0.9203 - precision: 0.8347 - recall: 0.8327 - f1score: 0.8337 - val_loss: 0.9443 - val_acc: 0.6484 - val_auc: 0.9207 - val_precision: 0.6487 - val_recall: 0.6473 - val_f1score: 0.6480\n",
      "Epoch 72/100\n",
      " - 83s - loss: 0.3456 - acc: 0.8385 - auc: 0.9212 - precision: 0.8389 - recall: 0.8378 - f1score: 0.8383 - val_loss: 1.0915 - val_acc: 0.6205 - val_auc: 0.9216 - val_precision: 0.6217 - val_recall: 0.6182 - val_f1score: 0.6199\n",
      "Epoch 73/100\n",
      " - 83s - loss: 0.3463 - acc: 0.8385 - auc: 0.9220 - precision: 0.8395 - recall: 0.8373 - f1score: 0.8384 - val_loss: 1.0076 - val_acc: 0.6380 - val_auc: 0.9224 - val_precision: 0.6386 - val_recall: 0.6356 - val_f1score: 0.6371\n",
      "Epoch 74/100\n",
      " - 83s - loss: 0.3258 - acc: 0.8508 - auc: 0.9228 - precision: 0.8520 - recall: 0.8505 - f1score: 0.8513 - val_loss: 1.0960 - val_acc: 0.6217 - val_auc: 0.9232 - val_precision: 0.6227 - val_recall: 0.6205 - val_f1score: 0.6216\n",
      "Epoch 75/100\n",
      " - 83s - loss: 0.3325 - acc: 0.8474 - auc: 0.9236 - precision: 0.8484 - recall: 0.8470 - f1score: 0.8477 - val_loss: 1.0028 - val_acc: 0.6496 - val_auc: 0.9241 - val_precision: 0.6500 - val_recall: 0.6484 - val_f1score: 0.6492\n",
      "Epoch 76/100\n",
      " - 83s - loss: 0.3165 - acc: 0.8538 - auc: 0.9245 - precision: 0.8546 - recall: 0.8533 - f1score: 0.8539 - val_loss: 1.0682 - val_acc: 0.6100 - val_auc: 0.9249 - val_precision: 0.6107 - val_recall: 0.6100 - val_f1score: 0.6104\n",
      "Epoch 77/100\n",
      " - 83s - loss: 0.3155 - acc: 0.8581 - auc: 0.9253 - precision: 0.8588 - recall: 0.8574 - f1score: 0.8581 - val_loss: 1.0471 - val_acc: 0.6426 - val_auc: 0.9257 - val_precision: 0.6430 - val_recall: 0.6414 - val_f1score: 0.6422\n",
      "Epoch 78/100\n",
      " - 83s - loss: 0.3080 - acc: 0.8613 - auc: 0.9261 - precision: 0.8619 - recall: 0.8601 - f1score: 0.8610 - val_loss: 1.1029 - val_acc: 0.6193 - val_auc: 0.9265 - val_precision: 0.6196 - val_recall: 0.6158 - val_f1score: 0.6177\n",
      "Epoch 79/100\n",
      " - 83s - loss: 0.3026 - acc: 0.8643 - auc: 0.9269 - precision: 0.8655 - recall: 0.8634 - f1score: 0.8644 - val_loss: 1.0504 - val_acc: 0.6135 - val_auc: 0.9273 - val_precision: 0.6142 - val_recall: 0.6135 - val_f1score: 0.6139\n",
      "Epoch 80/100\n",
      " - 83s - loss: 0.3098 - acc: 0.8599 - auc: 0.9277 - precision: 0.8608 - recall: 0.8593 - f1score: 0.8601 - val_loss: 1.4771 - val_acc: 0.5821 - val_auc: 0.9280 - val_precision: 0.5810 - val_recall: 0.5751 - val_f1score: 0.5779\n",
      "Epoch 81/100\n",
      " - 83s - loss: 0.3049 - acc: 0.8652 - auc: 0.9284 - precision: 0.8656 - recall: 0.8645 - f1score: 0.8650 - val_loss: 1.0807 - val_acc: 0.5925 - val_auc: 0.9287 - val_precision: 0.5947 - val_recall: 0.5925 - val_f1score: 0.5936\n",
      "Epoch 82/100\n",
      " - 83s - loss: 0.3037 - acc: 0.8663 - auc: 0.9291 - precision: 0.8666 - recall: 0.8652 - f1score: 0.8659 - val_loss: 1.2422 - val_acc: 0.6147 - val_auc: 0.9295 - val_precision: 0.6195 - val_recall: 0.6088 - val_f1score: 0.6140\n",
      "Epoch 83/100\n",
      " - 83s - loss: 0.2829 - acc: 0.8744 - auc: 0.9298 - precision: 0.8749 - recall: 0.8738 - f1score: 0.8743 - val_loss: 1.4624 - val_acc: 0.6054 - val_auc: 0.9302 - val_precision: 0.6078 - val_recall: 0.6042 - val_f1score: 0.6060\n",
      "Epoch 84/100\n",
      " - 83s - loss: 0.2759 - acc: 0.8763 - auc: 0.9306 - precision: 0.8767 - recall: 0.8758 - f1score: 0.8763 - val_loss: 1.1459 - val_acc: 0.6333 - val_auc: 0.9309 - val_precision: 0.6340 - val_recall: 0.6333 - val_f1score: 0.6337\n",
      "Epoch 85/100\n",
      " - 83s - loss: 0.2737 - acc: 0.8792 - auc: 0.9313 - precision: 0.8798 - recall: 0.8786 - f1score: 0.8792 - val_loss: 1.3286 - val_acc: 0.6240 - val_auc: 0.9316 - val_precision: 0.6274 - val_recall: 0.6228 - val_f1score: 0.6251\n",
      "Epoch 86/100\n",
      " - 84s - loss: 0.2763 - acc: 0.8805 - auc: 0.9320 - precision: 0.8812 - recall: 0.8797 - f1score: 0.8805 - val_loss: 1.3186 - val_acc: 0.6380 - val_auc: 0.9324 - val_precision: 0.6395 - val_recall: 0.6356 - val_f1score: 0.6376\n",
      "Epoch 87/100\n",
      " - 83s - loss: 0.2825 - acc: 0.8816 - auc: 0.9327 - precision: 0.8823 - recall: 0.8809 - f1score: 0.8816 - val_loss: 1.2441 - val_acc: 0.6356 - val_auc: 0.9331 - val_precision: 0.6359 - val_recall: 0.6345 - val_f1score: 0.6352\n",
      "Epoch 88/100\n",
      " - 84s - loss: 0.2565 - acc: 0.8873 - auc: 0.9334 - precision: 0.8878 - recall: 0.8869 - f1score: 0.8874 - val_loss: 1.2874 - val_acc: 0.6345 - val_auc: 0.9338 - val_precision: 0.6368 - val_recall: 0.6345 - val_f1score: 0.6356\n",
      "Epoch 89/100\n",
      " - 83s - loss: 0.2554 - acc: 0.8882 - auc: 0.9341 - precision: 0.8883 - recall: 0.8880 - f1score: 0.8882 - val_loss: 1.1746 - val_acc: 0.6298 - val_auc: 0.9345 - val_precision: 0.6290 - val_recall: 0.6275 - val_f1score: 0.6282\n",
      "Epoch 90/100\n",
      " - 84s - loss: 0.2523 - acc: 0.8893 - auc: 0.9348 - precision: 0.8903 - recall: 0.8883 - f1score: 0.8893 - val_loss: 1.2015 - val_acc: 0.6263 - val_auc: 0.9351 - val_precision: 0.6270 - val_recall: 0.6240 - val_f1score: 0.6255\n",
      "Epoch 91/100\n",
      " - 83s - loss: 0.2512 - acc: 0.8877 - auc: 0.9355 - precision: 0.8881 - recall: 0.8872 - f1score: 0.8877 - val_loss: 1.3328 - val_acc: 0.6368 - val_auc: 0.9358 - val_precision: 0.6371 - val_recall: 0.6356 - val_f1score: 0.6364\n",
      "Epoch 92/100\n",
      " - 84s - loss: 0.2395 - acc: 0.8946 - auc: 0.9361 - precision: 0.8953 - recall: 0.8944 - f1score: 0.8949 - val_loss: 1.4626 - val_acc: 0.6123 - val_auc: 0.9365 - val_precision: 0.6140 - val_recall: 0.6088 - val_f1score: 0.6114\n",
      "Epoch 93/100\n",
      " - 83s - loss: 0.2381 - acc: 0.8990 - auc: 0.9368 - precision: 0.8996 - recall: 0.8985 - f1score: 0.8990 - val_loss: 1.5388 - val_acc: 0.6123 - val_auc: 0.9371 - val_precision: 0.6137 - val_recall: 0.6123 - val_f1score: 0.6130\n",
      "Epoch 94/100\n",
      " - 82s - loss: 0.2327 - acc: 0.8999 - auc: 0.9374 - precision: 0.9002 - recall: 0.8994 - f1score: 0.8998 - val_loss: 1.3216 - val_acc: 0.6356 - val_auc: 0.9377 - val_precision: 0.6351 - val_recall: 0.6321 - val_f1score: 0.6336\n",
      "Epoch 95/100\n",
      " - 82s - loss: 0.2251 - acc: 0.9028 - auc: 0.9381 - precision: 0.9038 - recall: 0.9027 - f1score: 0.9032 - val_loss: 1.5465 - val_acc: 0.6112 - val_auc: 0.9384 - val_precision: 0.6144 - val_recall: 0.6100 - val_f1score: 0.6122\n",
      "Epoch 96/100\n",
      " - 83s - loss: 0.2186 - acc: 0.9085 - auc: 0.9387 - precision: 0.9090 - recall: 0.9081 - f1score: 0.9086 - val_loss: 1.3953 - val_acc: 0.6205 - val_auc: 0.9390 - val_precision: 0.6234 - val_recall: 0.6205 - val_f1score: 0.6219\n",
      "Epoch 97/100\n",
      " - 83s - loss: 0.2324 - acc: 0.9000 - auc: 0.9393 - precision: 0.9007 - recall: 0.8998 - f1score: 0.9003 - val_loss: 1.5122 - val_acc: 0.6263 - val_auc: 0.9396 - val_precision: 0.6279 - val_recall: 0.6263 - val_f1score: 0.6271\n",
      "Epoch 98/100\n",
      " - 83s - loss: 0.2157 - acc: 0.9066 - auc: 0.9399 - precision: 0.9071 - recall: 0.9064 - f1score: 0.9067 - val_loss: 1.3625 - val_acc: 0.6170 - val_auc: 0.9402 - val_precision: 0.6182 - val_recall: 0.6158 - val_f1score: 0.6170\n",
      "Epoch 99/100\n",
      " - 83s - loss: 0.2133 - acc: 0.9101 - auc: 0.9405 - precision: 0.9107 - recall: 0.9096 - f1score: 0.9102 - val_loss: 1.4645 - val_acc: 0.6298 - val_auc: 0.9408 - val_precision: 0.6296 - val_recall: 0.6275 - val_f1score: 0.6285\n",
      "Epoch 100/100\n",
      " - 83s - loss: 0.2100 - acc: 0.9080 - auc: 0.9411 - precision: 0.9088 - recall: 0.9076 - f1score: 0.9082 - val_loss: 1.4760 - val_acc: 0.6240 - val_auc: 0.9414 - val_precision: 0.6231 - val_recall: 0.6217 - val_f1score: 0.6224\n"
     ]
    }
   ],
   "source": [
    "history = additional_model.fit_generator(dgf, \n",
    "            steps_per_epoch=150, \n",
    "            epochs=100, \n",
    "            validation_data=(X_val,y_val), \n",
    "            validation_steps=16, \n",
    "            callbacks=[checkpoint])"
   ]
  },
  {
   "cell_type": "code",
   "execution_count": 13,
   "metadata": {},
   "outputs": [
    {
     "data": {
      "image/png": "[encoded data removed]",
      "text/plain": [
       "<Figure size 432x288 with 1 Axes>"
      ]
     },
     "metadata": {
      "needs_background": "light"
     },
     "output_type": "display_data"
    },
    {
     "data": {
      "image/png": "[encoded data removed]",
      "text/plain": [
       "<Figure size 432x288 with 1 Axes>"
      ]
     },
     "metadata": {
      "needs_background": "light"
     },
     "output_type": "display_data"
    }
   ],
   "source": [
    "acc = history.history['acc']\n",
    "val_acc = history.history['val_acc']\n",
    "loss = history.history['loss']\n",
    "val_loss = history.history['val_loss']\n",
    " \n",
    "epochs = range(1, len(acc) + 1)\n",
    " \n",
    "plt.plot(epochs, acc, 'bo', label='Training acc')\n",
    "plt.plot(epochs, val_acc, 'r', label='Validation acc')\n",
    "plt.title('Accuracy')\n",
    "plt.legend()\n",
    "plt.figure()\n",
    " \n",
    "plt.plot(epochs, loss, 'bo', label='Training loss')\n",
    "plt.plot(epochs, val_loss, 'r', label='Validation loss')\n",
    "plt.title('Loss')\n",
    "plt.legend()\n",
    " \n",
    "plt.show()"
   ]
  },
  {
   "cell_type": "code",
   "execution_count": 15,
   "metadata": {},
   "outputs": [],
   "source": [
    "X_test=np.load('X_test.npy')\n",
    "y_test=np.load('y_test.npy')"
   ]
  },
  {
   "cell_type": "code",
   "execution_count": 16,
   "metadata": {},
   "outputs": [
    {
     "name": "stdout",
     "output_type": "stream",
     "text": [
      "704/704 [==============================] - 2s 3ms/step\n",
      "loss: 12.936, accuracy: 0.197, auc: 0.941, precision: 0.197, recall: 0.197, f1score: 0.197\n"
     ]
    }
   ],
   "source": [
    "_loss, _acc, _auc, _precision, _recall, _f1score = additional_model.evaluate(X_test, y_test, batch_size=64)\n",
    "print('loss: {:.3f}, accuracy: {:.3f}, auc: {:.3f}, precision: {:.3f}, recall: {:.3f}, f1score: {:.3f}'.format(_loss, _acc, _auc, _precision, _recall, _f1score))"
   ]
  },
  {
   "cell_type": "code",
   "execution_count": 17,
   "metadata": {},
   "outputs": [
    {
     "name": "stdout",
     "output_type": "stream",
     "text": [
      "859/859 [==============================] - 2s 3ms/step\n",
      "loss: 1.476, accuracy: 0.624, auc: 0.941, precision: 0.623, recall: 0.622, f1score: 0.622\n"
     ]
    }
   ],
   "source": [
    "_loss, _acc, _auc, _precision, _recall, _f1score = additional_model.evaluate(X_val, y_val, batch_size=64)\n",
    "print('loss: {:.3f}, accuracy: {:.3f}, auc: {:.3f}, precision: {:.3f}, recall: {:.3f}, f1score: {:.3f}'.format(_loss, _acc, _auc, _precision, _recall, _f1score))"
   ]
  },
  {
   "cell_type": "code",
   "execution_count": null,
   "metadata": {},
   "outputs": [],
   "source": [
    "myvgg.save('VGG16_Aug_1.h5')"
   ]
  },
  {
   "cell_type": "code",
   "execution_count": null,
   "metadata": {},
   "outputs": [],
   "source": []
  }
 ],
 "metadata": {
  "kernelspec": {
   "display_name": "Python 3",
   "language": "python",
   "name": "python3"
  },
  "language_info": {
   "codemirror_mode": {
    "name": "ipython",
    "version": 3
   },
   "file_extension": ".py",
   "mimetype": "text/x-python",
   "name": "python",
   "nbconvert_exporter": "python",
   "pygments_lexer": "ipython3",
   "version": "3.7.4"
  }
 },
 "nbformat": 4,
 "nbformat_minor": 2
}
