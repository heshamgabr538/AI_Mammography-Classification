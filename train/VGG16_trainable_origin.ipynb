{
 "cells": [
  {
   "cell_type": "code",
   "execution_count": 1,
   "metadata": {},
   "outputs": [
    {
     "data": {
      "text/plain": [
       "'C:\\\\Users\\\\Owner2\\\\Desktop\\\\G팔로미_vuno'"
      ]
     },
     "execution_count": 1,
     "metadata": {},
     "output_type": "execute_result"
    }
   ],
   "source": [
    "import os\n",
    "import pandas as pd\n",
    "from matplotlib import pyplot as plt\n",
    "import numpy as np\n",
    "import cv2\n",
    "\n",
    "#data path 수정\n",
    "os.chdir(\"C:\\\\Users\\\\Owner2\\\\Desktop\\\\G팔로미_vuno\")\n",
    "os.getcwd()"
   ]
  },
  {
   "cell_type": "code",
   "execution_count": 2,
   "metadata": {
    "scrolled": true
   },
   "outputs": [],
   "source": [
    "X=np.load('data_X_origin.npy')\n",
    "y=np.load('data_y.npy')"
   ]
  },
  {
   "cell_type": "code",
   "execution_count": 3,
   "metadata": {},
   "outputs": [],
   "source": [
    "#train, validation set 분리\n",
    "from sklearn.model_selection import train_test_split\n",
    "\n",
    "X_train, X_val, y_train, y_val = train_test_split(X,y,test_size=0.3)"
   ]
  },
  {
   "cell_type": "code",
   "execution_count": 4,
   "metadata": {},
   "outputs": [
    {
     "name": "stderr",
     "output_type": "stream",
     "text": [
      "Using TensorFlow backend.\n"
     ]
    }
   ],
   "source": [
    "from keras.preprocessing.image import ImageDataGenerator\n",
    "\n",
    "datagen = ImageDataGenerator(\n",
    "    ##featurewise_center=True,\n",
    "    #featurewise_std_normalization=True, \n",
    "    rotation_range=25.0,\n",
    "    width_shift_range=0.2,\n",
    "    height_shift_range=0.2,\n",
    "    horizontal_flip=True) #수평방향 뒤집기\n",
    "\n",
    "datagen.fit(X_train)\n",
    "\n",
    "dgf=datagen.flow(X_train,y_train,batch_size=64)"
   ]
  },
  {
   "cell_type": "code",
   "execution_count": 13,
   "metadata": {},
   "outputs": [
    {
     "name": "stdout",
     "output_type": "stream",
     "text": [
      "_________________________________________________________________\n",
      "Layer (type)                 Output Shape              Param #   \n",
      "=================================================================\n",
      "input_2 (InputLayer)         (None, 224, 224, 3)       0         \n",
      "_________________________________________________________________\n",
      "block1_conv1 (Conv2D)        (None, 224, 224, 64)      1792      \n",
      "_________________________________________________________________\n",
      "block1_conv2 (Conv2D)        (None, 224, 224, 64)      36928     \n",
      "_________________________________________________________________\n",
      "block1_pool (MaxPooling2D)   (None, 112, 112, 64)      0         \n",
      "_________________________________________________________________\n",
      "block2_conv1 (Conv2D)        (None, 112, 112, 128)     73856     \n",
      "_________________________________________________________________\n",
      "block2_conv2 (Conv2D)        (None, 112, 112, 128)     147584    \n",
      "_________________________________________________________________\n",
      "block2_pool (MaxPooling2D)   (None, 56, 56, 128)       0         \n",
      "_________________________________________________________________\n",
      "block3_conv1 (Conv2D)        (None, 56, 56, 256)       295168    \n",
      "_________________________________________________________________\n",
      "block3_conv2 (Conv2D)        (None, 56, 56, 256)       590080    \n",
      "_________________________________________________________________\n",
      "block3_conv3 (Conv2D)        (None, 56, 56, 256)       590080    \n",
      "_________________________________________________________________\n",
      "block3_pool (MaxPooling2D)   (None, 28, 28, 256)       0         \n",
      "_________________________________________________________________\n",
      "block4_conv1 (Conv2D)        (None, 28, 28, 512)       1180160   \n",
      "_________________________________________________________________\n",
      "block4_conv2 (Conv2D)        (None, 28, 28, 512)       2359808   \n",
      "_________________________________________________________________\n",
      "block4_conv3 (Conv2D)        (None, 28, 28, 512)       2359808   \n",
      "_________________________________________________________________\n",
      "block4_pool (MaxPooling2D)   (None, 14, 14, 512)       0         \n",
      "_________________________________________________________________\n",
      "block5_conv1 (Conv2D)        (None, 14, 14, 512)       2359808   \n",
      "_________________________________________________________________\n",
      "block5_conv2 (Conv2D)        (None, 14, 14, 512)       2359808   \n",
      "_________________________________________________________________\n",
      "block5_conv3 (Conv2D)        (None, 14, 14, 512)       2359808   \n",
      "_________________________________________________________________\n",
      "block5_pool (MaxPooling2D)   (None, 7, 7, 512)         0         \n",
      "=================================================================\n",
      "Total params: 14,714,688\n",
      "Trainable params: 14,714,688\n",
      "Non-trainable params: 0\n",
      "_________________________________________________________________\n"
     ]
    }
   ],
   "source": [
    "from keras import layers, models\n",
    "from keras.applications import VGG16\n",
    "from keras import Input\n",
    "from keras.models import Model\n",
    "from keras.preprocessing.image import ImageDataGenerator\n",
    "from keras import optimizers, initializers, regularizers, metrics\n",
    "from keras.callbacks import ModelCheckpoint\n",
    "import os\n",
    "from glob import glob\n",
    "from PIL import Image\n",
    "import matplotlib.pyplot as plt\n",
    "import numpy as np\n",
    " \n",
    "\n",
    "\n",
    "pre_trained_vgg = VGG16(weights=None, include_top=False, input_shape=(224, 224, 3))\n",
    "pre_trained_vgg.trainable = True\n",
    "pre_trained_vgg.summary()"
   ]
  },
  {
   "cell_type": "code",
   "execution_count": 14,
   "metadata": {},
   "outputs": [
    {
     "name": "stdout",
     "output_type": "stream",
     "text": [
      "_________________________________________________________________\n",
      "Layer (type)                 Output Shape              Param #   \n",
      "=================================================================\n",
      "vgg16 (Model)                (None, 7, 7, 512)         14714688  \n",
      "_________________________________________________________________\n",
      "flatten_2 (Flatten)          (None, 25088)             0         \n",
      "_________________________________________________________________\n",
      "dense_5 (Dense)              (None, 4096)              102764544 \n",
      "_________________________________________________________________\n",
      "dense_6 (Dense)              (None, 2048)              8390656   \n",
      "_________________________________________________________________\n",
      "dense_7 (Dense)              (None, 1024)              2098176   \n",
      "_________________________________________________________________\n",
      "dense_8 (Dense)              (None, 4)                 4100      \n",
      "=================================================================\n",
      "Total params: 127,972,164\n",
      "Trainable params: 127,972,164\n",
      "Non-trainable params: 0\n",
      "_________________________________________________________________\n"
     ]
    }
   ],
   "source": [
    "additional_model = models.Sequential()\n",
    "additional_model.add(pre_trained_vgg)\n",
    "additional_model.add(layers.Flatten())\n",
    "additional_model.add(layers.Dense(4096, activation='relu'))\n",
    "additional_model.add(layers.Dense(2048, activation='relu'))\n",
    "additional_model.add(layers.Dense(1024, activation='relu'))\n",
    "additional_model.add(layers.Dense(4, activation='softmax'))\n",
    "\n",
    "additional_model.summary()"
   ]
  },
  {
   "cell_type": "code",
   "execution_count": 15,
   "metadata": {},
   "outputs": [],
   "source": [
    "# checkpoint = ModelCheckpoint(filepath='My_VGG_{epoch:03d}_{val_loss:.7f}.hdf5',monitor='loss', mode='min', save_best_only=True)\n",
    "checkpoint = ModelCheckpoint(filepath='vgg16_trainable_1.hdf5', \n",
    "            monitor='loss', \n",
    "            mode='min', \n",
    "            save_best_only=True)"
   ]
  },
  {
   "cell_type": "code",
   "execution_count": 16,
   "metadata": {},
   "outputs": [],
   "source": [
    "from keras import backend as K\n",
    "import tensorflow as tf\n",
    "\n",
    "def auc(y_true, y_pred):\n",
    "    auc = tf.metrics.auc(y_true, y_pred)[1]\n",
    "    K.get_session().run(tf.local_variables_initializer())\n",
    "    return auc\n",
    "\n",
    "def recall(y_target, y_pred):\n",
    "    # clip(t, clip_value_min, clip_value_max) : clip_value_min~clip_value_max 이외 가장자리를 깎아 낸다\n",
    "    # round : 반올림한다\n",
    "    y_target_yn = K.round(K.clip(y_target, 0, 1)) # 실제값을 0(Negative) 또는 1(Positive)로 설정한다\n",
    "    y_pred_yn = K.round(K.clip(y_pred, 0, 1)) # 예측값을 0(Negative) 또는 1(Positive)로 설정한다\n",
    "\n",
    "    # True Positive는 실제 값과 예측 값이 모두 1(Positive)인 경우이다\n",
    "    count_true_positive = K.sum(y_target_yn * y_pred_yn) \n",
    "\n",
    "    # (True Positive + False Negative) = 실제 값이 1(Positive) 전체\n",
    "    count_true_positive_false_negative = K.sum(y_target_yn)\n",
    "\n",
    "    # Recall =  (True Positive) / (True Positive + False Negative)\n",
    "    # K.epsilon()는 'divide by zero error' 예방차원에서 작은 수를 더한다\n",
    "    recall = count_true_positive / (count_true_positive_false_negative + K.epsilon())\n",
    "\n",
    "    # return a single tensor value\n",
    "    return recall\n",
    "\n",
    "\n",
    "def precision(y_target, y_pred):\n",
    "    # clip(t, clip_value_min, clip_value_max) : clip_value_min~clip_value_max 이외 가장자리를 깎아 낸다\n",
    "    # round : 반올림한다\n",
    "    y_pred_yn = K.round(K.clip(y_pred, 0, 1)) # 예측값을 0(Negative) 또는 1(Positive)로 설정한다\n",
    "    y_target_yn = K.round(K.clip(y_target, 0, 1)) # 실제값을 0(Negative) 또는 1(Positive)로 설정한다\n",
    "\n",
    "    # True Positive는 실제 값과 예측 값이 모두 1(Positive)인 경우이다\n",
    "    count_true_positive = K.sum(y_target_yn * y_pred_yn) \n",
    "\n",
    "    # (True Positive + False Positive) = 예측 값이 1(Positive) 전체\n",
    "    count_true_positive_false_positive = K.sum(y_pred_yn)\n",
    "\n",
    "    # Precision = (True Positive) / (True Positive + False Positive)\n",
    "    # K.epsilon()는 'divide by zero error' 예방차원에서 작은 수를 더한다\n",
    "    precision = count_true_positive / (count_true_positive_false_positive + K.epsilon())\n",
    "\n",
    "    # return a single tensor value\n",
    "    return precision\n",
    "\n",
    "\n",
    "def f1score(y_target, y_pred):\n",
    "    _recall = recall(y_target, y_pred)\n",
    "    _precision = precision(y_target, y_pred)\n",
    "    # K.epsilon()는 'divide by zero error' 예방차원에서 작은 수를 더한다\n",
    "    _f1score = ( 2 * _recall * _precision) / (_recall + _precision+ K.epsilon())\n",
    "    \n",
    "    # return a single tensor value\n",
    "    return _f1score"
   ]
  },
  {
   "cell_type": "code",
   "execution_count": 17,
   "metadata": {},
   "outputs": [],
   "source": [
    "additional_model.compile(loss='categorical_crossentropy',\n",
    "                         optimizer=optimizers.RMSprop(lr=1e-7), \n",
    "                         metrics=['acc', auc, precision, recall, f1score])"
   ]
  },
  {
   "cell_type": "code",
   "execution_count": 18,
   "metadata": {},
   "outputs": [
    {
     "data": {
      "text/plain": [
       "(2861, 224, 224, 3)"
      ]
     },
     "execution_count": 18,
     "metadata": {},
     "output_type": "execute_result"
    }
   ],
   "source": [
    "X.shape"
   ]
  },
  {
   "cell_type": "code",
   "execution_count": 19,
   "metadata": {},
   "outputs": [],
   "source": [
    "# history1=myvgg.fit(X,y,batch_size=32,\n",
    "#                   epochs=100,\n",
    "#                   validation_split=0.3,\n",
    "#                   callbacks=[checkpoint])"
   ]
  },
  {
   "cell_type": "code",
   "execution_count": 20,
   "metadata": {
    "scrolled": true
   },
   "outputs": [
    {
     "name": "stdout",
     "output_type": "stream",
     "text": [
      "Epoch 1/100\n",
      "150/150 [==============================] - 84s 561ms/step - loss: 9.8885 - acc: 0.2614 - auc: 0.4759 - precision: 0.2614 - recall: 0.2614 - f1score: 0.2614 - val_loss: 9.7093 - val_acc: 0.3190 - val_auc: 0.4819 - val_precision: 0.3190 - val_recall: 0.3190 - val_f1score: 0.3190\n",
      "Epoch 2/100\n",
      "150/150 [==============================] - 80s 535ms/step - loss: 5.6698 - acc: 0.3532 - auc: 0.5044 - precision: 0.3578 - recall: 0.3396 - f1score: 0.3483 - val_loss: 4.9466 - val_acc: 0.3981 - val_auc: 0.5260 - val_precision: 0.4063 - val_recall: 0.3795 - val_f1score: 0.3923\n",
      "Epoch 3/100\n",
      "150/150 [==============================] - 81s 539ms/step - loss: 5.0062 - acc: 0.3770 - auc: 0.5397 - precision: 0.3812 - recall: 0.3567 - f1score: 0.3684 - val_loss: 5.0576 - val_acc: 0.4517 - val_auc: 0.5514 - val_precision: 0.4519 - val_recall: 0.4470 - val_f1score: 0.4495\n",
      "Epoch 4/100\n",
      "150/150 [==============================] - 80s 536ms/step - loss: 4.8657 - acc: 0.3882 - auc: 0.5600 - precision: 0.3952 - recall: 0.3677 - f1score: 0.3807 - val_loss: 4.6448 - val_acc: 0.4529 - val_auc: 0.5672 - val_precision: 0.4585 - val_recall: 0.4400 - val_f1score: 0.4490\n",
      "Epoch 5/100\n",
      "150/150 [==============================] - 80s 536ms/step - loss: 4.8424 - acc: 0.3986 - auc: 0.5730 - precision: 0.4073 - recall: 0.3784 - f1score: 0.3921 - val_loss: 4.7079 - val_acc: 0.4785 - val_auc: 0.5785 - val_precision: 0.4850 - val_recall: 0.4738 - val_f1score: 0.4793\n",
      "Epoch 6/100\n",
      "150/150 [==============================] - 81s 538ms/step - loss: 4.7699 - acc: 0.4062 - auc: 0.5832 - precision: 0.4169 - recall: 0.3861 - f1score: 0.4007 - val_loss: 4.5128 - val_acc: 0.4889 - val_auc: 0.5872 - val_precision: 0.5014 - val_recall: 0.4645 - val_f1score: 0.4821\n",
      "Epoch 7/100\n",
      "150/150 [==============================] - 81s 537ms/step - loss: 4.6616 - acc: 0.4198 - auc: 0.5912 - precision: 0.4316 - recall: 0.3982 - f1score: 0.4139 - val_loss: 4.5337 - val_acc: 0.4948 - val_auc: 0.5949 - val_precision: 0.4991 - val_recall: 0.4808 - val_f1score: 0.4897\n",
      "Epoch 8/100\n",
      "150/150 [==============================] - 80s 536ms/step - loss: 3.7424 - acc: 0.3982 - auc: 0.5975 - precision: 0.4106 - recall: 0.3732 - f1score: 0.3907 - val_loss: 2.1585 - val_acc: 0.4843 - val_auc: 0.6004 - val_precision: 0.4935 - val_recall: 0.4692 - val_f1score: 0.4809\n",
      "Epoch 9/100\n",
      "150/150 [==============================] - 81s 539ms/step - loss: 1.9481 - acc: 0.4120 - auc: 0.6042 - precision: 0.4285 - recall: 0.3645 - f1score: 0.3934 - val_loss: 1.5878 - val_acc: 0.4470 - val_auc: 0.6079 - val_precision: 0.4857 - val_recall: 0.3888 - val_f1score: 0.4317\n",
      "Epoch 10/100\n",
      "150/150 [==============================] - 80s 535ms/step - loss: 1.8374 - acc: 0.4167 - auc: 0.6112 - precision: 0.4401 - recall: 0.3678 - f1score: 0.4002 - val_loss: 1.6015 - val_acc: 0.4622 - val_auc: 0.6147 - val_precision: 0.4961 - val_recall: 0.4121 - val_f1score: 0.4498\n",
      "Epoch 11/100\n",
      "150/150 [==============================] - 80s 533ms/step - loss: 1.7798 - acc: 0.4282 - auc: 0.6179 - precision: 0.4519 - recall: 0.3760 - f1score: 0.4099 - val_loss: 1.6217 - val_acc: 0.4692 - val_auc: 0.6208 - val_precision: 0.4886 - val_recall: 0.4319 - val_f1score: 0.4582\n",
      "Epoch 12/100\n",
      "150/150 [==============================] - 80s 534ms/step - loss: 1.7305 - acc: 0.4274 - auc: 0.6237 - precision: 0.4502 - recall: 0.3690 - f1score: 0.4050 - val_loss: 1.7190 - val_acc: 0.4715 - val_auc: 0.6263 - val_precision: 0.4902 - val_recall: 0.4319 - val_f1score: 0.4590\n",
      "Epoch 13/100\n",
      "150/150 [==============================] - 80s 536ms/step - loss: 1.6984 - acc: 0.4350 - auc: 0.6290 - precision: 0.4618 - recall: 0.3830 - f1score: 0.4180 - val_loss: 1.6199 - val_acc: 0.4529 - val_auc: 0.6313 - val_precision: 0.4891 - val_recall: 0.4109 - val_f1score: 0.4462\n",
      "Epoch 14/100\n",
      "150/150 [==============================] - 80s 535ms/step - loss: 1.6610 - acc: 0.4420 - auc: 0.6336 - precision: 0.4668 - recall: 0.3848 - f1score: 0.4212 - val_loss: 1.8074 - val_acc: 0.4645 - val_auc: 0.6360 - val_precision: 0.4855 - val_recall: 0.4342 - val_f1score: 0.4582\n",
      "Epoch 15/100\n",
      "150/150 [==============================] - 80s 534ms/step - loss: 1.6399 - acc: 0.4409 - auc: 0.6382 - precision: 0.4670 - recall: 0.3884 - f1score: 0.4233 - val_loss: 1.5271 - val_acc: 0.4249 - val_auc: 0.6404 - val_precision: 0.4491 - val_recall: 0.3679 - val_f1score: 0.4040\n",
      "Epoch 16/100\n",
      "150/150 [==============================] - 81s 537ms/step - loss: 1.6214 - acc: 0.4416 - auc: 0.6424 - precision: 0.4657 - recall: 0.3843 - f1score: 0.4204 - val_loss: 1.8018 - val_acc: 0.3935 - val_auc: 0.6442 - val_precision: 0.4028 - val_recall: 0.3446 - val_f1score: 0.3711\n",
      "Epoch 17/100\n",
      "150/150 [==============================] - 80s 533ms/step - loss: 1.6036 - acc: 0.4381 - auc: 0.6459 - precision: 0.4656 - recall: 0.3812 - f1score: 0.4183 - val_loss: 1.4064 - val_acc: 0.4645 - val_auc: 0.6476 - val_precision: 0.5194 - val_recall: 0.4075 - val_f1score: 0.4563\n",
      "Epoch 18/100\n",
      "150/150 [==============================] - 79s 530ms/step - loss: 1.6105 - acc: 0.4412 - auc: 0.6492 - precision: 0.4671 - recall: 0.3815 - f1score: 0.4193 - val_loss: 1.5046 - val_acc: 0.4738 - val_auc: 0.6508 - val_precision: 0.5170 - val_recall: 0.4296 - val_f1score: 0.4690\n",
      "Epoch 19/100\n",
      "150/150 [==============================] - 82s 546ms/step - loss: 1.5560 - acc: 0.4497 - auc: 0.6524 - precision: 0.4767 - recall: 0.3910 - f1score: 0.4290 - val_loss: 1.7728 - val_acc: 0.4494 - val_auc: 0.6540 - val_precision: 0.4655 - val_recall: 0.4086 - val_f1score: 0.4348\n",
      "Epoch 20/100\n",
      "150/150 [==============================] - 80s 533ms/step - loss: 1.5267 - acc: 0.4562 - auc: 0.6555 - precision: 0.4879 - recall: 0.3990 - f1score: 0.4383 - val_loss: 1.4537 - val_acc: 0.4447 - val_auc: 0.6571 - val_precision: 0.4553 - val_recall: 0.3632 - val_f1score: 0.4038\n",
      "Epoch 21/100\n",
      "150/150 [==============================] - 80s 534ms/step - loss: 1.5289 - acc: 0.4510 - auc: 0.6584 - precision: 0.4823 - recall: 0.3923 - f1score: 0.4318 - val_loss: 1.3401 - val_acc: 0.4645 - val_auc: 0.6598 - val_precision: 0.5014 - val_recall: 0.4016 - val_f1score: 0.4454\n",
      "Epoch 22/100\n",
      "150/150 [==============================] - 81s 538ms/step - loss: 1.5236 - acc: 0.4478 - auc: 0.6612 - precision: 0.4751 - recall: 0.3869 - f1score: 0.4258 - val_loss: 1.4139 - val_acc: 0.4633 - val_auc: 0.6624 - val_precision: 0.4970 - val_recall: 0.4098 - val_f1score: 0.4487\n",
      "Epoch 23/100\n",
      "150/150 [==============================] - 80s 533ms/step - loss: 1.5077 - acc: 0.4535 - auc: 0.6637 - precision: 0.4831 - recall: 0.3923 - f1score: 0.4322 - val_loss: 1.4280 - val_acc: 0.4482 - val_auc: 0.6649 - val_precision: 0.4675 - val_recall: 0.3795 - val_f1score: 0.4188\n",
      "Epoch 24/100\n",
      "150/150 [==============================] - 80s 533ms/step - loss: 1.4821 - acc: 0.4582 - auc: 0.6661 - precision: 0.4891 - recall: 0.3971 - f1score: 0.4375 - val_loss: 1.4627 - val_acc: 0.4389 - val_auc: 0.6673 - val_precision: 0.4561 - val_recall: 0.3772 - val_f1score: 0.4126\n",
      "Epoch 25/100\n",
      "150/150 [==============================] - 80s 535ms/step - loss: 1.5076 - acc: 0.4577 - auc: 0.6683 - precision: 0.4908 - recall: 0.3972 - f1score: 0.4382 - val_loss: 1.5297 - val_acc: 0.4913 - val_auc: 0.6694 - val_precision: 0.5114 - val_recall: 0.4633 - val_f1score: 0.4860\n",
      "Epoch 26/100\n",
      "150/150 [==============================] - 80s 533ms/step - loss: 1.4799 - acc: 0.4579 - auc: 0.6705 - precision: 0.4890 - recall: 0.3972 - f1score: 0.4375 - val_loss: 1.3006 - val_acc: 0.4983 - val_auc: 0.6717 - val_precision: 0.5337 - val_recall: 0.4435 - val_f1score: 0.4842\n",
      "Epoch 27/100\n",
      "150/150 [==============================] - 80s 533ms/step - loss: 1.4733 - acc: 0.4592 - auc: 0.6728 - precision: 0.4897 - recall: 0.3949 - f1score: 0.4365 - val_loss: 1.3481 - val_acc: 0.4878 - val_auc: 0.6738 - val_precision: 0.5144 - val_recall: 0.4412 - val_f1score: 0.4744\n",
      "Epoch 28/100\n",
      "150/150 [==============================] - 80s 532ms/step - loss: 1.4799 - acc: 0.4543 - auc: 0.6747 - precision: 0.4858 - recall: 0.3918 - f1score: 0.4331 - val_loss: 1.4429 - val_acc: 0.4913 - val_auc: 0.6756 - val_precision: 0.5197 - val_recall: 0.4424 - val_f1score: 0.4775\n",
      "Epoch 29/100\n"
     ]
    },
    {
     "name": "stdout",
     "output_type": "stream",
     "text": [
      "150/150 [==============================] - 80s 536ms/step - loss: 1.4418 - acc: 0.4679 - auc: 0.6766 - precision: 0.4986 - recall: 0.4072 - f1score: 0.4475 - val_loss: 1.2622 - val_acc: 0.5041 - val_auc: 0.6776 - val_precision: 0.5381 - val_recall: 0.4354 - val_f1score: 0.4810\n",
      "Epoch 30/100\n",
      "150/150 [==============================] - 80s 534ms/step - loss: 1.4480 - acc: 0.4635 - auc: 0.6786 - precision: 0.4977 - recall: 0.4011 - f1score: 0.4434 - val_loss: 1.3402 - val_acc: 0.4785 - val_auc: 0.6794 - val_precision: 0.5112 - val_recall: 0.4086 - val_f1score: 0.4539\n",
      "Epoch 31/100\n",
      "150/150 [==============================] - 80s 535ms/step - loss: 1.4577 - acc: 0.4697 - auc: 0.6802 - precision: 0.4974 - recall: 0.4017 - f1score: 0.4436 - val_loss: 1.5074 - val_acc: 0.4633 - val_auc: 0.6809 - val_precision: 0.4879 - val_recall: 0.4191 - val_f1score: 0.4505\n",
      "Epoch 32/100\n",
      "150/150 [==============================] - 81s 537ms/step - loss: 1.4272 - acc: 0.4621 - auc: 0.6817 - precision: 0.4959 - recall: 0.3988 - f1score: 0.4412 - val_loss: 1.5858 - val_acc: 0.4179 - val_auc: 0.6825 - val_precision: 0.4456 - val_recall: 0.3690 - val_f1score: 0.4033\n",
      "Epoch 33/100\n",
      "150/150 [==============================] - 80s 531ms/step - loss: 1.4243 - acc: 0.4612 - auc: 0.6832 - precision: 0.4981 - recall: 0.3984 - f1score: 0.4420 - val_loss: 1.2420 - val_acc: 0.4924 - val_auc: 0.6840 - val_precision: 0.5403 - val_recall: 0.4331 - val_f1score: 0.4804\n",
      "Epoch 34/100\n",
      "150/150 [==============================] - 80s 536ms/step - loss: 1.3829 - acc: 0.4739 - auc: 0.6849 - precision: 0.5071 - recall: 0.4074 - f1score: 0.4509 - val_loss: 1.3838 - val_acc: 0.4552 - val_auc: 0.6857 - val_precision: 0.4856 - val_recall: 0.3946 - val_f1score: 0.4351\n",
      "Epoch 35/100\n",
      "150/150 [==============================] - 80s 535ms/step - loss: 1.3974 - acc: 0.4659 - auc: 0.6864 - precision: 0.5041 - recall: 0.4030 - f1score: 0.4470 - val_loss: 1.4129 - val_acc: 0.4633 - val_auc: 0.6872 - val_precision: 0.4807 - val_recall: 0.4016 - val_f1score: 0.4373\n",
      "Epoch 36/100\n",
      "150/150 [==============================] - 80s 532ms/step - loss: 1.4039 - acc: 0.4741 - auc: 0.6878 - precision: 0.5045 - recall: 0.4064 - f1score: 0.4495 - val_loss: 1.4265 - val_acc: 0.5099 - val_auc: 0.6886 - val_precision: 0.5257 - val_recall: 0.4668 - val_f1score: 0.4943\n",
      "Epoch 37/100\n",
      "150/150 [==============================] - 80s 533ms/step - loss: 1.4102 - acc: 0.4570 - auc: 0.6892 - precision: 0.4950 - recall: 0.3933 - f1score: 0.4373 - val_loss: 1.7078 - val_acc: 0.5076 - val_auc: 0.6898 - val_precision: 0.5152 - val_recall: 0.4866 - val_f1score: 0.5003\n",
      "Epoch 38/100\n",
      "150/150 [==============================] - 80s 535ms/step - loss: 1.4077 - acc: 0.4656 - auc: 0.6904 - precision: 0.4993 - recall: 0.3977 - f1score: 0.4420 - val_loss: 1.4027 - val_acc: 0.5041 - val_auc: 0.6911 - val_precision: 0.5297 - val_recall: 0.4680 - val_f1score: 0.4968\n",
      "Epoch 39/100\n",
      "150/150 [==============================] - 80s 533ms/step - loss: 1.3843 - acc: 0.4736 - auc: 0.6917 - precision: 0.5107 - recall: 0.4109 - f1score: 0.4546 - val_loss: 1.3454 - val_acc: 0.4948 - val_auc: 0.6924 - val_precision: 0.5241 - val_recall: 0.4447 - val_f1score: 0.4810\n",
      "Epoch 40/100\n",
      "150/150 [==============================] - 80s 534ms/step - loss: 1.3703 - acc: 0.4767 - auc: 0.6930 - precision: 0.5139 - recall: 0.4093 - f1score: 0.4548 - val_loss: 1.4717 - val_acc: 0.4447 - val_auc: 0.6937 - val_precision: 0.4688 - val_recall: 0.3993 - val_f1score: 0.4309\n",
      "Epoch 41/100\n",
      "150/150 [==============================] - 80s 536ms/step - loss: 1.3593 - acc: 0.4820 - auc: 0.6943 - precision: 0.5198 - recall: 0.4142 - f1score: 0.4603 - val_loss: 1.4853 - val_acc: 0.4284 - val_auc: 0.6949 - val_precision: 0.4670 - val_recall: 0.3760 - val_f1score: 0.4162\n",
      "Epoch 42/100\n",
      "150/150 [==============================] - 80s 532ms/step - loss: 1.3734 - acc: 0.4760 - auc: 0.6955 - precision: 0.5101 - recall: 0.4105 - f1score: 0.4540 - val_loss: 1.5305 - val_acc: 0.5006 - val_auc: 0.6961 - val_precision: 0.5167 - val_recall: 0.4657 - val_f1score: 0.4896\n",
      "Epoch 43/100\n",
      "150/150 [==============================] - 80s 535ms/step - loss: 1.3466 - acc: 0.4824 - auc: 0.6967 - precision: 0.5180 - recall: 0.4101 - f1score: 0.4568 - val_loss: 1.3816 - val_acc: 0.4610 - val_auc: 0.6972 - val_precision: 0.4874 - val_recall: 0.3865 - val_f1score: 0.4305\n",
      "Epoch 44/100\n",
      "150/150 [==============================] - 80s 533ms/step - loss: 1.3519 - acc: 0.4726 - auc: 0.6978 - precision: 0.5131 - recall: 0.4046 - f1score: 0.4516 - val_loss: 1.6548 - val_acc: 0.4575 - val_auc: 0.6983 - val_precision: 0.4708 - val_recall: 0.4098 - val_f1score: 0.4380\n",
      "Epoch 45/100\n",
      "150/150 [==============================] - 81s 538ms/step - loss: 1.3441 - acc: 0.4745 - auc: 0.6988 - precision: 0.5098 - recall: 0.4035 - f1score: 0.4496 - val_loss: 1.4696 - val_acc: 0.4622 - val_auc: 0.6993 - val_precision: 0.4884 - val_recall: 0.4191 - val_f1score: 0.4506\n",
      "Epoch 46/100\n",
      "150/150 [==============================] - 80s 532ms/step - loss: 1.3272 - acc: 0.4828 - auc: 0.6999 - precision: 0.5231 - recall: 0.4132 - f1score: 0.4608 - val_loss: 1.2686 - val_acc: 0.4924 - val_auc: 0.7004 - val_precision: 0.5187 - val_recall: 0.4284 - val_f1score: 0.4690\n",
      "Epoch 47/100\n",
      "150/150 [==============================] - 80s 533ms/step - loss: 1.3239 - acc: 0.4864 - auc: 0.7010 - precision: 0.5250 - recall: 0.4183 - f1score: 0.4647 - val_loss: 1.2828 - val_acc: 0.4983 - val_auc: 0.7015 - val_precision: 0.5338 - val_recall: 0.4494 - val_f1score: 0.4876\n",
      "Epoch 48/100\n",
      "150/150 [==============================] - 80s 536ms/step - loss: 1.3316 - acc: 0.4780 - auc: 0.7021 - precision: 0.5157 - recall: 0.4138 - f1score: 0.4583 - val_loss: 1.4958 - val_acc: 0.4133 - val_auc: 0.7025 - val_precision: 0.4594 - val_recall: 0.3725 - val_f1score: 0.4112\n",
      "Epoch 49/100\n",
      "150/150 [==============================] - 80s 534ms/step - loss: 1.3202 - acc: 0.4756 - auc: 0.7030 - precision: 0.5150 - recall: 0.4107 - f1score: 0.4561 - val_loss: 1.2632 - val_acc: 0.4924 - val_auc: 0.7035 - val_precision: 0.5270 - val_recall: 0.4296 - val_f1score: 0.4727\n",
      "Epoch 50/100\n",
      "150/150 [==============================] - 80s 533ms/step - loss: 1.3342 - acc: 0.4738 - auc: 0.7040 - precision: 0.5141 - recall: 0.4043 - f1score: 0.4518 - val_loss: 1.3290 - val_acc: 0.4726 - val_auc: 0.7045 - val_precision: 0.4900 - val_recall: 0.4098 - val_f1score: 0.4461\n",
      "Epoch 51/100\n",
      "150/150 [==============================] - 80s 535ms/step - loss: 1.3195 - acc: 0.4792 - auc: 0.7049 - precision: 0.5184 - recall: 0.4098 - f1score: 0.4568 - val_loss: 1.4224 - val_acc: 0.5029 - val_auc: 0.7054 - val_precision: 0.5296 - val_recall: 0.4738 - val_f1score: 0.5000\n",
      "Epoch 52/100\n",
      "150/150 [==============================] - 80s 534ms/step - loss: 1.3278 - acc: 0.4794 - auc: 0.7058 - precision: 0.5160 - recall: 0.4121 - f1score: 0.4574 - val_loss: 1.2441 - val_acc: 0.4948 - val_auc: 0.7063 - val_precision: 0.5284 - val_recall: 0.4284 - val_f1score: 0.4727\n",
      "Epoch 53/100\n",
      "150/150 [==============================] - 80s 532ms/step - loss: 1.3340 - acc: 0.4776 - auc: 0.7067 - precision: 0.5155 - recall: 0.4076 - f1score: 0.4544 - val_loss: 1.2455 - val_acc: 0.4901 - val_auc: 0.7071 - val_precision: 0.5354 - val_recall: 0.4307 - val_f1score: 0.4772\n",
      "Epoch 54/100\n",
      "150/150 [==============================] - 81s 537ms/step - loss: 1.3122 - acc: 0.4787 - auc: 0.7075 - precision: 0.5186 - recall: 0.4068 - f1score: 0.4550 - val_loss: 1.2525 - val_acc: 0.4808 - val_auc: 0.7080 - val_precision: 0.5148 - val_recall: 0.4109 - val_f1score: 0.4565\n",
      "Epoch 55/100\n",
      "150/150 [==============================] - 80s 534ms/step - loss: 1.3082 - acc: 0.4771 - auc: 0.7084 - precision: 0.5181 - recall: 0.4060 - f1score: 0.4543 - val_loss: 1.2619 - val_acc: 0.5099 - val_auc: 0.7088 - val_precision: 0.5342 - val_recall: 0.4517 - val_f1score: 0.4893\n",
      "Epoch 56/100\n",
      "150/150 [==============================] - 80s 535ms/step - loss: 1.3108 - acc: 0.4813 - auc: 0.7092 - precision: 0.5178 - recall: 0.4092 - f1score: 0.4562 - val_loss: 1.2987 - val_acc: 0.5017 - val_auc: 0.7096 - val_precision: 0.5223 - val_recall: 0.4529 - val_f1score: 0.4850\n",
      "Epoch 57/100\n"
     ]
    },
    {
     "name": "stdout",
     "output_type": "stream",
     "text": [
      "150/150 [==============================] - 80s 534ms/step - loss: 1.3153 - acc: 0.4724 - auc: 0.7100 - precision: 0.5127 - recall: 0.4036 - f1score: 0.4509 - val_loss: 1.2454 - val_acc: 0.4773 - val_auc: 0.7104 - val_precision: 0.5155 - val_recall: 0.4086 - val_f1score: 0.4557\n",
      "Epoch 58/100\n",
      "150/150 [==============================] - 80s 533ms/step - loss: 1.2876 - acc: 0.4790 - auc: 0.7108 - precision: 0.5178 - recall: 0.4060 - f1score: 0.4542 - val_loss: 1.4663 - val_acc: 0.4552 - val_auc: 0.7111 - val_precision: 0.4728 - val_recall: 0.4098 - val_f1score: 0.4386\n",
      "Epoch 59/100\n",
      "150/150 [==============================] - 80s 534ms/step - loss: 1.3160 - acc: 0.4746 - auc: 0.7114 - precision: 0.5143 - recall: 0.4040 - f1score: 0.4514 - val_loss: 1.3191 - val_acc: 0.5204 - val_auc: 0.7118 - val_precision: 0.5432 - val_recall: 0.4715 - val_f1score: 0.5046\n",
      "Epoch 60/100\n",
      "150/150 [==============================] - 80s 533ms/step - loss: 1.2723 - acc: 0.4993 - auc: 0.7122 - precision: 0.5374 - recall: 0.4222 - f1score: 0.4720 - val_loss: 1.3393 - val_acc: 0.4948 - val_auc: 0.7126 - val_precision: 0.5184 - val_recall: 0.4424 - val_f1score: 0.4769\n",
      "Epoch 61/100\n",
      "150/150 [==============================] - 80s 535ms/step - loss: 1.2819 - acc: 0.4909 - auc: 0.7130 - precision: 0.5315 - recall: 0.4196 - f1score: 0.4680 - val_loss: 1.2556 - val_acc: 0.4598 - val_auc: 0.7134 - val_precision: 0.4844 - val_recall: 0.3993 - val_f1score: 0.4376\n",
      "Epoch 62/100\n",
      "150/150 [==============================] - 80s 535ms/step - loss: 1.2725 - acc: 0.4852 - auc: 0.7138 - precision: 0.5255 - recall: 0.4084 - f1score: 0.4586 - val_loss: 1.4197 - val_acc: 0.4307 - val_auc: 0.7141 - val_precision: 0.4679 - val_recall: 0.3783 - val_f1score: 0.4182\n",
      "Epoch 63/100\n",
      "150/150 [==============================] - 80s 534ms/step - loss: 1.2922 - acc: 0.4813 - auc: 0.7144 - precision: 0.5242 - recall: 0.4101 - f1score: 0.4591 - val_loss: 1.3063 - val_acc: 0.5122 - val_auc: 0.7148 - val_precision: 0.5259 - val_recall: 0.4680 - val_f1score: 0.4951\n",
      "Epoch 64/100\n",
      "150/150 [==============================] - 81s 537ms/step - loss: 1.2959 - acc: 0.4833 - auc: 0.7151 - precision: 0.5230 - recall: 0.4117 - f1score: 0.4598 - val_loss: 1.2271 - val_acc: 0.5006 - val_auc: 0.7154 - val_precision: 0.5264 - val_recall: 0.4272 - val_f1score: 0.4711\n",
      "Epoch 65/100\n",
      "150/150 [==============================] - 80s 536ms/step - loss: 1.2671 - acc: 0.4846 - auc: 0.7158 - precision: 0.5272 - recall: 0.4111 - f1score: 0.4610 - val_loss: 1.3713 - val_acc: 0.4412 - val_auc: 0.7161 - val_precision: 0.4755 - val_recall: 0.3772 - val_f1score: 0.4202\n",
      "Epoch 66/100\n",
      "150/150 [==============================] - 80s 532ms/step - loss: 1.2841 - acc: 0.4857 - auc: 0.7164 - precision: 0.5203 - recall: 0.4067 - f1score: 0.4555 - val_loss: 1.2936 - val_acc: 0.4610 - val_auc: 0.7167 - val_precision: 0.4872 - val_recall: 0.3853 - val_f1score: 0.4300\n",
      "Epoch 67/100\n",
      "150/150 [==============================] - 81s 537ms/step - loss: 1.2524 - acc: 0.4891 - auc: 0.7171 - precision: 0.5320 - recall: 0.4157 - f1score: 0.4657 - val_loss: 1.4605 - val_acc: 0.4820 - val_auc: 0.7174 - val_precision: 0.5118 - val_recall: 0.4331 - val_f1score: 0.4686\n",
      "Epoch 68/100\n",
      "150/150 [==============================] - 80s 532ms/step - loss: 1.2753 - acc: 0.4874 - auc: 0.7177 - precision: 0.5275 - recall: 0.4101 - f1score: 0.4604 - val_loss: 1.2672 - val_acc: 0.5157 - val_auc: 0.7180 - val_precision: 0.5444 - val_recall: 0.4680 - val_f1score: 0.5030\n",
      "Epoch 69/100\n",
      "150/150 [==============================] - 80s 535ms/step - loss: 1.2594 - acc: 0.4887 - auc: 0.7184 - precision: 0.5335 - recall: 0.4160 - f1score: 0.4665 - val_loss: 1.4392 - val_acc: 0.4680 - val_auc: 0.7187 - val_precision: 0.4801 - val_recall: 0.4214 - val_f1score: 0.4487\n",
      "Epoch 70/100\n",
      "150/150 [==============================] - 80s 534ms/step - loss: 1.2843 - acc: 0.4815 - auc: 0.7189 - precision: 0.5228 - recall: 0.4042 - f1score: 0.4549 - val_loss: 1.3372 - val_acc: 0.4715 - val_auc: 0.7192 - val_precision: 0.5046 - val_recall: 0.4284 - val_f1score: 0.4633\n",
      "Epoch 71/100\n",
      "150/150 [==============================] - 80s 533ms/step - loss: 1.2601 - acc: 0.4927 - auc: 0.7195 - precision: 0.5343 - recall: 0.4200 - f1score: 0.4694 - val_loss: 1.3588 - val_acc: 0.4563 - val_auc: 0.7198 - val_precision: 0.4838 - val_recall: 0.4028 - val_f1score: 0.4393\n",
      "Epoch 72/100\n",
      "150/150 [==============================] - 80s 535ms/step - loss: 1.2468 - acc: 0.4966 - auc: 0.7201 - precision: 0.5407 - recall: 0.4197 - f1score: 0.4717 - val_loss: 1.3469 - val_acc: 0.4412 - val_auc: 0.7204 - val_precision: 0.4807 - val_recall: 0.3842 - val_f1score: 0.4265\n",
      "Epoch 73/100\n",
      "150/150 [==============================] - 81s 537ms/step - loss: 1.2641 - acc: 0.4909 - auc: 0.7207 - precision: 0.5329 - recall: 0.4160 - f1score: 0.4662 - val_loss: 1.4999 - val_acc: 0.4878 - val_auc: 0.7210 - val_precision: 0.4963 - val_recall: 0.4540 - val_f1score: 0.4740\n",
      "Epoch 74/100\n",
      "150/150 [==============================] - 80s 535ms/step - loss: 1.2648 - acc: 0.4923 - auc: 0.7213 - precision: 0.5356 - recall: 0.4193 - f1score: 0.4695 - val_loss: 1.2288 - val_acc: 0.4866 - val_auc: 0.7216 - val_precision: 0.5145 - val_recall: 0.4005 - val_f1score: 0.4499\n",
      "Epoch 75/100\n",
      "150/150 [==============================] - 80s 535ms/step - loss: 1.2485 - acc: 0.4892 - auc: 0.7219 - precision: 0.5311 - recall: 0.4141 - f1score: 0.4642 - val_loss: 1.3488 - val_acc: 0.5052 - val_auc: 0.7222 - val_precision: 0.5237 - val_recall: 0.4738 - val_f1score: 0.4974\n",
      "Epoch 76/100\n",
      "150/150 [==============================] - 80s 535ms/step - loss: 1.2450 - acc: 0.4905 - auc: 0.7225 - precision: 0.5411 - recall: 0.4186 - f1score: 0.4707 - val_loss: 1.2373 - val_acc: 0.4808 - val_auc: 0.7228 - val_precision: 0.5177 - val_recall: 0.4156 - val_f1score: 0.4608\n",
      "Epoch 77/100\n",
      "150/150 [==============================] - 80s 536ms/step - loss: 1.2449 - acc: 0.4966 - auc: 0.7230 - precision: 0.5358 - recall: 0.4184 - f1score: 0.4690 - val_loss: 1.2059 - val_acc: 0.5052 - val_auc: 0.7233 - val_precision: 0.5303 - val_recall: 0.4354 - val_f1score: 0.4778\n",
      "Epoch 78/100\n",
      "150/150 [==============================] - 80s 535ms/step - loss: 1.2463 - acc: 0.4872 - auc: 0.7236 - precision: 0.5321 - recall: 0.4091 - f1score: 0.4615 - val_loss: 1.1509 - val_acc: 0.5146 - val_auc: 0.7239 - val_precision: 0.5534 - val_recall: 0.4272 - val_f1score: 0.4817\n",
      "Epoch 79/100\n",
      "150/150 [==============================] - 80s 533ms/step - loss: 1.2448 - acc: 0.4879 - auc: 0.7241 - precision: 0.5374 - recall: 0.4135 - f1score: 0.4664 - val_loss: 1.1735 - val_acc: 0.5041 - val_auc: 0.7244 - val_precision: 0.5486 - val_recall: 0.4366 - val_f1score: 0.4855\n",
      "Epoch 80/100\n",
      "150/150 [==============================] - 81s 538ms/step - loss: 1.2292 - acc: 0.4937 - auc: 0.7247 - precision: 0.5378 - recall: 0.4171 - f1score: 0.4690 - val_loss: 1.2662 - val_acc: 0.5006 - val_auc: 0.7250 - val_precision: 0.5229 - val_recall: 0.4435 - val_f1score: 0.4797\n",
      "Epoch 81/100\n",
      "150/150 [==============================] - 80s 532ms/step - loss: 1.2404 - acc: 0.4958 - auc: 0.7252 - precision: 0.5391 - recall: 0.4184 - f1score: 0.4700 - val_loss: 1.2186 - val_acc: 0.5006 - val_auc: 0.7255 - val_precision: 0.5406 - val_recall: 0.4284 - val_f1score: 0.4775\n",
      "Epoch 82/100\n",
      "150/150 [==============================] - 80s 534ms/step - loss: 1.2297 - acc: 0.4953 - auc: 0.7258 - precision: 0.5394 - recall: 0.4149 - f1score: 0.4680 - val_loss: 1.2090 - val_acc: 0.5006 - val_auc: 0.7260 - val_precision: 0.5233 - val_recall: 0.4226 - val_f1score: 0.4672\n",
      "Epoch 83/100\n",
      "150/150 [==============================] - 80s 535ms/step - loss: 1.2253 - acc: 0.4978 - auc: 0.7263 - precision: 0.5401 - recall: 0.4156 - f1score: 0.4688 - val_loss: 1.2350 - val_acc: 0.5122 - val_auc: 0.7265 - val_precision: 0.5418 - val_recall: 0.4645 - val_f1score: 0.4998\n",
      "Epoch 84/100\n",
      "150/150 [==============================] - 80s 535ms/step - loss: 1.2236 - acc: 0.4970 - auc: 0.7268 - precision: 0.5408 - recall: 0.4162 - f1score: 0.4694 - val_loss: 1.1902 - val_acc: 0.4750 - val_auc: 0.7271 - val_precision: 0.5012 - val_recall: 0.3830 - val_f1score: 0.4339\n",
      "Epoch 85/100\n"
     ]
    },
    {
     "name": "stdout",
     "output_type": "stream",
     "text": [
      "150/150 [==============================] - 80s 532ms/step - loss: 1.2218 - acc: 0.4983 - auc: 0.7273 - precision: 0.5430 - recall: 0.4222 - f1score: 0.4741 - val_loss: 1.3624 - val_acc: 0.4598 - val_auc: 0.7276 - val_precision: 0.4945 - val_recall: 0.4028 - val_f1score: 0.4438\n",
      "Epoch 86/100\n",
      "150/150 [==============================] - 80s 536ms/step - loss: 1.2251 - acc: 0.5028 - auc: 0.7278 - precision: 0.5443 - recall: 0.4233 - f1score: 0.4752 - val_loss: 1.3615 - val_acc: 0.4715 - val_auc: 0.7280 - val_precision: 0.4984 - val_recall: 0.4249 - val_f1score: 0.4583\n",
      "Epoch 87/100\n",
      "150/150 [==============================] - 80s 535ms/step - loss: 1.2329 - acc: 0.4969 - auc: 0.7282 - precision: 0.5373 - recall: 0.4140 - f1score: 0.4667 - val_loss: 1.2158 - val_acc: 0.4808 - val_auc: 0.7285 - val_precision: 0.5225 - val_recall: 0.4098 - val_f1score: 0.4589\n",
      "Epoch 88/100\n",
      "150/150 [==============================] - 80s 535ms/step - loss: 1.2014 - acc: 0.4988 - auc: 0.7287 - precision: 0.5480 - recall: 0.4177 - f1score: 0.4730 - val_loss: 1.2826 - val_acc: 0.4889 - val_auc: 0.7290 - val_precision: 0.5177 - val_recall: 0.4354 - val_f1score: 0.4726\n",
      "Epoch 89/100\n",
      "150/150 [==============================] - 80s 536ms/step - loss: 1.2249 - acc: 0.4906 - auc: 0.7292 - precision: 0.5381 - recall: 0.4089 - f1score: 0.4636 - val_loss: 1.3746 - val_acc: 0.4692 - val_auc: 0.7294 - val_precision: 0.5044 - val_recall: 0.4144 - val_f1score: 0.4546\n",
      "Epoch 90/100\n",
      "150/150 [==============================] - 80s 535ms/step - loss: 1.2023 - acc: 0.5018 - auc: 0.7297 - precision: 0.5480 - recall: 0.4229 - f1score: 0.4763 - val_loss: 1.3166 - val_acc: 0.5122 - val_auc: 0.7299 - val_precision: 0.5319 - val_recall: 0.4703 - val_f1score: 0.4990\n",
      "Epoch 91/100\n",
      "150/150 [==============================] - 80s 534ms/step - loss: 1.2245 - acc: 0.4892 - auc: 0.7301 - precision: 0.5348 - recall: 0.4097 - f1score: 0.4630 - val_loss: 1.1568 - val_acc: 0.5076 - val_auc: 0.7304 - val_precision: 0.5407 - val_recall: 0.4342 - val_f1score: 0.4811\n",
      "Epoch 92/100\n",
      "150/150 [==============================] - 80s 535ms/step - loss: 1.2058 - acc: 0.5013 - auc: 0.7306 - precision: 0.5538 - recall: 0.4263 - f1score: 0.4808 - val_loss: 1.1642 - val_acc: 0.5087 - val_auc: 0.7308 - val_precision: 0.5456 - val_recall: 0.4354 - val_f1score: 0.4838\n",
      "Epoch 93/100\n",
      "150/150 [==============================] - 80s 536ms/step - loss: 1.1922 - acc: 0.5005 - auc: 0.7311 - precision: 0.5416 - recall: 0.4189 - f1score: 0.4715 - val_loss: 1.3546 - val_acc: 0.4610 - val_auc: 0.7313 - val_precision: 0.4937 - val_recall: 0.4121 - val_f1score: 0.4488\n",
      "Epoch 94/100\n",
      "150/150 [==============================] - 80s 534ms/step - loss: 1.2055 - acc: 0.4975 - auc: 0.7315 - precision: 0.5409 - recall: 0.4143 - f1score: 0.4681 - val_loss: 1.1191 - val_acc: 0.5192 - val_auc: 0.7317 - val_precision: 0.5483 - val_recall: 0.4272 - val_f1score: 0.4797\n",
      "Epoch 95/100\n",
      "150/150 [==============================] - 80s 535ms/step - loss: 1.2012 - acc: 0.5055 - auc: 0.7320 - precision: 0.5440 - recall: 0.4195 - f1score: 0.4726 - val_loss: 1.1824 - val_acc: 0.5087 - val_auc: 0.7322 - val_precision: 0.5441 - val_recall: 0.4307 - val_f1score: 0.4803\n",
      "Epoch 96/100\n",
      "150/150 [==============================] - 81s 538ms/step - loss: 1.1984 - acc: 0.4980 - auc: 0.7324 - precision: 0.5483 - recall: 0.4192 - f1score: 0.4740 - val_loss: 1.2387 - val_acc: 0.4680 - val_auc: 0.7326 - val_precision: 0.5003 - val_recall: 0.3946 - val_f1score: 0.4409\n",
      "Epoch 97/100\n",
      "150/150 [==============================] - 80s 534ms/step - loss: 1.1999 - acc: 0.5040 - auc: 0.7328 - precision: 0.5538 - recall: 0.4255 - f1score: 0.4801 - val_loss: 1.2669 - val_acc: 0.4680 - val_auc: 0.7330 - val_precision: 0.4938 - val_recall: 0.3912 - val_f1score: 0.4363\n",
      "Epoch 98/100\n",
      "150/150 [==============================] - 80s 534ms/step - loss: 1.1955 - acc: 0.4994 - auc: 0.7333 - precision: 0.5507 - recall: 0.4237 - f1score: 0.4780 - val_loss: 1.2463 - val_acc: 0.4785 - val_auc: 0.7335 - val_precision: 0.5206 - val_recall: 0.4109 - val_f1score: 0.4590\n",
      "Epoch 99/100\n",
      "150/150 [==============================] - 81s 539ms/step - loss: 1.2095 - acc: 0.4972 - auc: 0.7336 - precision: 0.5415 - recall: 0.4149 - f1score: 0.4688 - val_loss: 1.1196 - val_acc: 0.5134 - val_auc: 0.7338 - val_precision: 0.5615 - val_recall: 0.4366 - val_f1score: 0.4906\n",
      "Epoch 100/100\n",
      "150/150 [==============================] - 80s 535ms/step - loss: 1.1848 - acc: 0.5079 - auc: 0.7341 - precision: 0.5578 - recall: 0.4298 - f1score: 0.4844 - val_loss: 1.1615 - val_acc: 0.5215 - val_auc: 0.7343 - val_precision: 0.5513 - val_recall: 0.4610 - val_f1score: 0.5016\n"
     ]
    }
   ],
   "source": [
    "history = additional_model.fit_generator(dgf, \n",
    "            steps_per_epoch=150, \n",
    "            epochs=100, \n",
    "            validation_data=(X_val,y_val), \n",
    "            validation_steps=16, \n",
    "            callbacks=[checkpoint])"
   ]
  },
  {
   "cell_type": "code",
   "execution_count": 21,
   "metadata": {},
   "outputs": [
    {
     "data": {
      "image/png": "[encoded data removed]",
      "text/plain": [
       "<Figure size 432x288 with 1 Axes>"
      ]
     },
     "metadata": {
      "needs_background": "light"
     },
     "output_type": "display_data"
    },
    {
     "data": {
      "image/png": "[encoded data removed]",
      "text/plain": [
       "<Figure size 432x288 with 1 Axes>"
      ]
     },
     "metadata": {
      "needs_background": "light"
     },
     "output_type": "display_data"
    }
   ],
   "source": [
    "acc = history.history['acc']\n",
    "val_acc = history.history['val_acc']\n",
    "loss = history.history['loss']\n",
    "val_loss = history.history['val_loss']\n",
    " \n",
    "epochs = range(1, len(acc) + 1)\n",
    " \n",
    "plt.plot(epochs, acc, 'bo', label='Training acc')\n",
    "plt.plot(epochs, val_acc, 'r', label='Validation acc')\n",
    "plt.title('Accuracy')\n",
    "plt.legend()\n",
    "plt.figure()\n",
    " \n",
    "plt.plot(epochs, loss, 'bo', label='Training loss')\n",
    "plt.plot(epochs, val_loss, 'r', label='Validation loss')\n",
    "plt.title('Loss')\n",
    "plt.legend()\n",
    " \n",
    "plt.show()"
   ]
  },
  {
   "cell_type": "code",
   "execution_count": 23,
   "metadata": {},
   "outputs": [],
   "source": [
    "X_test=np.load('X_test.npy')\n",
    "y_test=np.load('y_test.npy')"
   ]
  },
  {
   "cell_type": "code",
   "execution_count": 24,
   "metadata": {},
   "outputs": [
    {
     "name": "stdout",
     "output_type": "stream",
     "text": [
      "704/704 [==============================] - 2s 3ms/step\n",
      "loss: 6.455, accuracy: 0.264, auc: 0.734, precision: 0.262, recall: 0.259, f1score: 0.260\n"
     ]
    }
   ],
   "source": [
    "_loss, _acc, _auc, _precision, _recall, _f1score = additional_model.evaluate(X_test, y_test, batch_size=64)\n",
    "print('loss: {:.3f}, accuracy: {:.3f}, auc: {:.3f}, precision: {:.3f}, recall: {:.3f}, f1score: {:.3f}'.format(_loss, _acc, _auc, _precision, _recall, _f1score))"
   ]
  },
  {
   "cell_type": "code",
   "execution_count": 25,
   "metadata": {},
   "outputs": [
    {
     "name": "stdout",
     "output_type": "stream",
     "text": [
      "859/859 [==============================] - 2s 3ms/step\n",
      "loss: 1.162, accuracy: 0.522, auc: 0.734, precision: 0.551, recall: 0.461, f1score: 0.502\n"
     ]
    }
   ],
   "source": [
    "_loss, _acc, _auc, _precision, _recall, _f1score = additional_model.evaluate(X_val, y_val, batch_size=64)\n",
    "print('loss: {:.3f}, accuracy: {:.3f}, auc: {:.3f}, precision: {:.3f}, recall: {:.3f}, f1score: {:.3f}'.format(_loss, _acc, _auc, _precision, _recall, _f1score))"
   ]
  },
  {
   "cell_type": "code",
   "execution_count": null,
   "metadata": {},
   "outputs": [],
   "source": [
    "myvgg.save('VGG16_Aug_1.h5')"
   ]
  },
  {
   "cell_type": "code",
   "execution_count": null,
   "metadata": {},
   "outputs": [],
   "source": []
  }
 ],
 "metadata": {
  "kernelspec": {
   "display_name": "Python 3",
   "language": "python",
   "name": "python3"
  },
  "language_info": {
   "codemirror_mode": {
    "name": "ipython",
    "version": 3
   },
   "file_extension": ".py",
   "mimetype": "text/x-python",
   "name": "python",
   "nbconvert_exporter": "python",
   "pygments_lexer": "ipython3",
   "version": "3.7.4"
  }
 },
 "nbformat": 4,
 "nbformat_minor": 2
}
