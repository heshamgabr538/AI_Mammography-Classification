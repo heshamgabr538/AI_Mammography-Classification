{
 "cells": [
  {
   "cell_type": "code",
   "execution_count": 1,
   "metadata": {},
   "outputs": [
    {
     "data": {
      "text/plain": [
       "'C:\\\\Users\\\\Owner2\\\\Desktop\\\\G팔로미_vuno'"
      ]
     },
     "execution_count": 1,
     "metadata": {},
     "output_type": "execute_result"
    }
   ],
   "source": [
    "import os\n",
    "import pandas as pd\n",
    "from matplotlib import pyplot as plt\n",
    "import numpy as np\n",
    "import cv2\n",
    "\n",
    "#data path 수정\n",
    "os.chdir(\"C:\\\\Users\\\\Owner2\\\\Desktop\\\\G팔로미_vuno\")\n",
    "os.getcwd()"
   ]
  },
  {
   "cell_type": "code",
   "execution_count": 2,
   "metadata": {},
   "outputs": [],
   "source": [
    "X=np.load('data_X.npy')\n",
    "y=np.load('data_y.npy')"
   ]
  },
  {
   "cell_type": "code",
   "execution_count": 3,
   "metadata": {},
   "outputs": [],
   "source": [
    "#train, validation set 분리\n",
    "from sklearn.model_selection import train_test_split\n",
    "\n",
    "X_train, X_val, y_train, y_val = train_test_split(X,y,test_size=0.3)"
   ]
  },
  {
   "cell_type": "code",
   "execution_count": 4,
   "metadata": {},
   "outputs": [
    {
     "name": "stderr",
     "output_type": "stream",
     "text": [
      "Using TensorFlow backend.\n"
     ]
    }
   ],
   "source": [
    "from keras.preprocessing.image import ImageDataGenerator\n",
    "\n",
    "datagen = ImageDataGenerator(\n",
    "    #featurewise_center=True, #center 중심 유지\n",
    "    #featurewise_std_normalization=True, #normalization\n",
    "    rotation_range=25.0,\n",
    "    #width_shift_range=0.2,\n",
    "    #height_shift_range=0.2,\n",
    "    #brightness_range=[0.2,1.0],\n",
    "    horizontal_flip=True) #수평방향 뒤집기\n",
    "\n",
    "datagen.fit(X_train)\n",
    "\n",
    "dgf=datagen.flow(X_train,y_train,batch_size=32)"
   ]
  },
  {
   "cell_type": "code",
   "execution_count": 5,
   "metadata": {},
   "outputs": [
    {
     "name": "stdout",
     "output_type": "stream",
     "text": [
      "Model: \"vgg16\"\n",
      "_________________________________________________________________\n",
      "Layer (type)                 Output Shape              Param #   \n",
      "=================================================================\n",
      "input_1 (InputLayer)         (None, 224, 224, 3)       0         \n",
      "_________________________________________________________________\n",
      "block1_conv1 (Conv2D)        (None, 224, 224, 64)      1792      \n",
      "_________________________________________________________________\n",
      "block1_conv2 (Conv2D)        (None, 224, 224, 64)      36928     \n",
      "_________________________________________________________________\n",
      "block1_pool (MaxPooling2D)   (None, 112, 112, 64)      0         \n",
      "_________________________________________________________________\n",
      "block2_conv1 (Conv2D)        (None, 112, 112, 128)     73856     \n",
      "_________________________________________________________________\n",
      "block2_conv2 (Conv2D)        (None, 112, 112, 128)     147584    \n",
      "_________________________________________________________________\n",
      "block2_pool (MaxPooling2D)   (None, 56, 56, 128)       0         \n",
      "_________________________________________________________________\n",
      "block3_conv1 (Conv2D)        (None, 56, 56, 256)       295168    \n",
      "_________________________________________________________________\n",
      "block3_conv2 (Conv2D)        (None, 56, 56, 256)       590080    \n",
      "_________________________________________________________________\n",
      "block3_conv3 (Conv2D)        (None, 56, 56, 256)       590080    \n",
      "_________________________________________________________________\n",
      "block3_pool (MaxPooling2D)   (None, 28, 28, 256)       0         \n",
      "_________________________________________________________________\n",
      "block4_conv1 (Conv2D)        (None, 28, 28, 512)       1180160   \n",
      "_________________________________________________________________\n",
      "block4_conv2 (Conv2D)        (None, 28, 28, 512)       2359808   \n",
      "_________________________________________________________________\n",
      "block4_conv3 (Conv2D)        (None, 28, 28, 512)       2359808   \n",
      "_________________________________________________________________\n",
      "block4_pool (MaxPooling2D)   (None, 14, 14, 512)       0         \n",
      "_________________________________________________________________\n",
      "block5_conv1 (Conv2D)        (None, 14, 14, 512)       2359808   \n",
      "_________________________________________________________________\n",
      "block5_conv2 (Conv2D)        (None, 14, 14, 512)       2359808   \n",
      "_________________________________________________________________\n",
      "block5_conv3 (Conv2D)        (None, 14, 14, 512)       2359808   \n",
      "_________________________________________________________________\n",
      "block5_pool (MaxPooling2D)   (None, 7, 7, 512)         0         \n",
      "=================================================================\n",
      "Total params: 14,714,688\n",
      "Trainable params: 0\n",
      "Non-trainable params: 14,714,688\n",
      "_________________________________________________________________\n"
     ]
    }
   ],
   "source": [
    "from keras import models, layers\n",
    "from keras import Input\n",
    "from keras.applications import VGG16\n",
    "from keras.models import Model, load_model\n",
    "from keras.preprocessing.image import ImageDataGenerator\n",
    "from keras import optimizers, initializers, regularizers, metrics\n",
    "from keras.callbacks import ModelCheckpoint, EarlyStopping\n",
    "from keras.layers import BatchNormalization, Conv2D, Activation, Dense, GlobalAveragePooling2D, MaxPooling2D, ZeroPadding2D, Add\n",
    "\n",
    "model = VGG16(weights='imagenet', include_top=False, input_shape=(224, 224, 3))\n",
    "model.trainable = False\n",
    "model.summary()"
   ]
  },
  {
   "cell_type": "code",
   "execution_count": 6,
   "metadata": {},
   "outputs": [
    {
     "name": "stdout",
     "output_type": "stream",
     "text": [
      "Model: \"sequential_1\"\n",
      "_________________________________________________________________\n",
      "Layer (type)                 Output Shape              Param #   \n",
      "=================================================================\n",
      "vgg16 (Model)                (None, 7, 7, 512)         14714688  \n",
      "_________________________________________________________________\n",
      "flatten_1 (Flatten)          (None, 25088)             0         \n",
      "_________________________________________________________________\n",
      "dense_1 (Dense)              (None, 4)                 100356    \n",
      "=================================================================\n",
      "Total params: 14,815,044\n",
      "Trainable params: 100,356\n",
      "Non-trainable params: 14,714,688\n",
      "_________________________________________________________________\n"
     ]
    }
   ],
   "source": [
    "#customizing my layers\n",
    "additional_model = models.Sequential()\n",
    "additional_model.add(model)\n",
    "additional_model.add(layers.Flatten())\n",
    "additional_model.add(layers.Dense(4, activation='softmax'))\n",
    "\n",
    "additional_model.summary()"
   ]
  },
  {
   "cell_type": "code",
   "execution_count": 7,
   "metadata": {},
   "outputs": [],
   "source": [
    "def f1score(precision, recall):\n",
    "    _f1score = ( 2 * recall * precision) / (recall + precision)\n",
    "    \n",
    "    # return a single tensor value\n",
    "    return _f1score"
   ]
  },
  {
   "cell_type": "code",
   "execution_count": 8,
   "metadata": {},
   "outputs": [],
   "source": [
    "# checkpoint = ModelCheckpoint(filepath='My_VGG_{epoch:03d}_{val_loss:.7f}.hdf5',monitor='loss', mode='min', save_best_only=True)\n",
    "checkpoint = ModelCheckpoint(filepath='VGG16_fine tuning_1.hdf5', \n",
    "            monitor='loss', \n",
    "            mode='min', \n",
    "            save_best_only=True)"
   ]
  },
  {
   "cell_type": "code",
   "execution_count": 9,
   "metadata": {},
   "outputs": [],
   "source": [
    "import tensorflow as tf\n",
    "\n",
    "additional_model.compile(loss='categorical_crossentropy', \n",
    "              optimizer=optimizers.Adam(lr=2e-5),\n",
    "              metrics=['acc',tf.keras.metrics.AUC(),\n",
    "                      tf.keras.metrics.Precision(),\n",
    "                      tf.keras.metrics.Recall(),f1score])"
   ]
  },
  {
   "cell_type": "code",
   "execution_count": 10,
   "metadata": {},
   "outputs": [
    {
     "name": "stdout",
     "output_type": "stream",
     "text": [
      "Epoch 1/50\n",
      "150/150 [==============================] - 44s 290ms/step - loss: 1.2587 - acc: 0.4185 - auc: 0.6478 - precision: 0.4551 - recall: 0.0038 - f1score: 0.1120 - val_loss: 1.2083 - val_acc: 0.4485 - val_auc: 0.7189 - val_precision: 0.6267 - val_recall: 0.0136 - val_f1score: 0.1171\n",
      "Epoch 2/50\n",
      "150/150 [==============================] - 40s 267ms/step - loss: 1.1353 - acc: 0.4725 - auc: 0.7387 - precision: 0.6203 - recall: 0.0214 - f1score: 0.1240 - val_loss: 1.1416 - val_acc: 0.4433 - val_auc: 0.7516 - val_precision: 0.6221 - val_recall: 0.0318 - val_f1score: 0.1239\n",
      "Epoch 3/50\n",
      "150/150 [==============================] - 42s 282ms/step - loss: 1.0761 - acc: 0.5072 - auc: 0.7605 - precision: 0.6370 - recall: 0.0419 - f1score: 0.1301 - val_loss: 1.1046 - val_acc: 0.4691 - val_auc: 0.7681 - val_precision: 0.6366 - val_recall: 0.0520 - val_f1score: 0.1278\n",
      "Epoch 4/50\n",
      "150/150 [==============================] - 41s 273ms/step - loss: 1.0380 - acc: 0.5333 - auc: 0.7742 - precision: 0.6479 - recall: 0.0634 - f1score: 0.1343 - val_loss: 1.0733 - val_acc: 0.4845 - val_auc: 0.7799 - val_precision: 0.6568 - val_recall: 0.0756 - val_f1score: 0.1314\n",
      "Epoch 5/50\n",
      "150/150 [==============================] - 42s 278ms/step - loss: 1.0118 - acc: 0.5381 - auc: 0.7841 - precision: 0.6576 - recall: 0.0890 - f1score: 0.1371 - val_loss: 1.0496 - val_acc: 0.4880 - val_auc: 0.7883 - val_precision: 0.6589 - val_recall: 0.1003 - val_f1score: 0.1334\n",
      "Epoch 6/50\n",
      "150/150 [==============================] - 41s 273ms/step - loss: 0.9890 - acc: 0.5457 - auc: 0.7920 - precision: 0.6601 - recall: 0.1112 - f1score: 0.1394 - val_loss: 1.0334 - val_acc: 0.4931 - val_auc: 0.7952 - val_precision: 0.6590 - val_recall: 0.1215 - val_f1score: 0.1351\n",
      "Epoch 7/50\n",
      "150/150 [==============================] - 42s 279ms/step - loss: 0.9600 - acc: 0.5601 - auc: 0.7986 - precision: 0.6633 - recall: 0.1315 - f1score: 0.1422 - val_loss: 1.0304 - val_acc: 0.4880 - val_auc: 0.8017 - val_precision: 0.6658 - val_recall: 0.1418 - val_f1score: 0.1361\n",
      "Epoch 8/50\n",
      "150/150 [==============================] - 41s 272ms/step - loss: 0.9502 - acc: 0.5727 - auc: 0.8042 - precision: 0.6679 - recall: 0.1513 - f1score: 0.1435 - val_loss: 1.0160 - val_acc: 0.4948 - val_auc: 0.8068 - val_precision: 0.6690 - val_recall: 0.1606 - val_f1score: 0.1372\n",
      "Epoch 9/50\n",
      "150/150 [==============================] - 41s 277ms/step - loss: 0.9343 - acc: 0.5718 - auc: 0.8090 - precision: 0.6708 - recall: 0.1689 - f1score: 0.1451 - val_loss: 1.0148 - val_acc: 0.4708 - val_auc: 0.8112 - val_precision: 0.6724 - val_recall: 0.1772 - val_f1score: 0.1379\n",
      "Epoch 10/50\n",
      "150/150 [==============================] - 41s 274ms/step - loss: 0.9201 - acc: 0.5877 - auc: 0.8132 - precision: 0.6739 - recall: 0.1854 - f1score: 0.1467 - val_loss: 0.9994 - val_acc: 0.4966 - val_auc: 0.8151 - val_precision: 0.6752 - val_recall: 0.1930 - val_f1score: 0.1394\n",
      "Epoch 11/50\n",
      "150/150 [==============================] - 41s 276ms/step - loss: 0.9119 - acc: 0.5824 - auc: 0.8169 - precision: 0.6760 - recall: 0.2002 - f1score: 0.1477 - val_loss: 1.0000 - val_acc: 0.5017 - val_auc: 0.8186 - val_precision: 0.6767 - val_recall: 0.2076 - val_f1score: 0.1401\n",
      "Epoch 12/50\n",
      "150/150 [==============================] - 41s 273ms/step - loss: 0.8969 - acc: 0.5901 - auc: 0.8202 - precision: 0.6778 - recall: 0.2147 - f1score: 0.1490 - val_loss: 0.9911 - val_acc: 0.4914 - val_auc: 0.8218 - val_precision: 0.6791 - val_recall: 0.2212 - val_f1score: 0.1404\n",
      "Epoch 13/50\n",
      "150/150 [==============================] - 41s 275ms/step - loss: 0.8906 - acc: 0.5923 - auc: 0.8232 - precision: 0.6796 - recall: 0.2271 - f1score: 0.1499 - val_loss: 0.9917 - val_acc: 0.4708 - val_auc: 0.8245 - val_precision: 0.6802 - val_recall: 0.2330 - val_f1score: 0.1404\n",
      "Epoch 14/50\n",
      "150/150 [==============================] - 41s 272ms/step - loss: 0.8825 - acc: 0.5988 - auc: 0.8259 - precision: 0.6812 - recall: 0.2385 - f1score: 0.1507 - val_loss: 0.9777 - val_acc: 0.5086 - val_auc: 0.8271 - val_precision: 0.6816 - val_recall: 0.2440 - val_f1score: 0.1418\n",
      "Epoch 15/50\n",
      "150/150 [==============================] - 41s 274ms/step - loss: 0.8686 - acc: 0.6056 - auc: 0.8285 - precision: 0.6827 - recall: 0.2492 - f1score: 0.1520 - val_loss: 0.9806 - val_acc: 0.4759 - val_auc: 0.8297 - val_precision: 0.6834 - val_recall: 0.2541 - val_f1score: 0.1417\n",
      "Epoch 16/50\n",
      "150/150 [==============================] - 41s 275ms/step - loss: 0.8618 - acc: 0.6159 - auc: 0.8309 - precision: 0.6841 - recall: 0.2591 - f1score: 0.1529 - val_loss: 0.9715 - val_acc: 0.4948 - val_auc: 0.8321 - val_precision: 0.6846 - val_recall: 0.2637 - val_f1score: 0.1423\n",
      "Epoch 17/50\n",
      "150/150 [==============================] - 41s 275ms/step - loss: 0.8577 - acc: 0.6197 - auc: 0.8332 - precision: 0.6856 - recall: 0.2683 - f1score: 0.1534 - val_loss: 0.9679 - val_acc: 0.4948 - val_auc: 0.8343 - val_precision: 0.6864 - val_recall: 0.2725 - val_f1score: 0.1426\n",
      "Epoch 18/50\n",
      "150/150 [==============================] - 41s 276ms/step - loss: 0.8464 - acc: 0.6247 - auc: 0.8355 - precision: 0.6870 - recall: 0.2767 - f1score: 0.1546 - val_loss: 0.9682 - val_acc: 0.4794 - val_auc: 0.8365 - val_precision: 0.6878 - val_recall: 0.2809 - val_f1score: 0.1427\n",
      "Epoch 19/50\n",
      "150/150 [==============================] - 41s 275ms/step - loss: 0.8440 - acc: 0.6258 - auc: 0.8375 - precision: 0.6886 - recall: 0.2849 - f1score: 0.1548 - val_loss: 0.9647 - val_acc: 0.4931 - val_auc: 0.8385 - val_precision: 0.6892 - val_recall: 0.2888 - val_f1score: 0.1432\n",
      "Epoch 20/50\n",
      "150/150 [==============================] - 41s 277ms/step - loss: 0.8358 - acc: 0.6285 - auc: 0.8395 - precision: 0.6902 - recall: 0.2927 - f1score: 0.1557 - val_loss: 0.9636 - val_acc: 0.4931 - val_auc: 0.8404 - val_precision: 0.6907 - val_recall: 0.2964 - val_f1score: 0.1436\n",
      "Epoch 21/50\n",
      "150/150 [==============================] - 41s 275ms/step - loss: 0.8369 - acc: 0.6275 - auc: 0.8412 - precision: 0.6912 - recall: 0.3001 - f1score: 0.1557 - val_loss: 0.9571 - val_acc: 0.5017 - val_auc: 0.8420 - val_precision: 0.6916 - val_recall: 0.3035 - val_f1score: 0.1442\n",
      "Epoch 22/50\n",
      "150/150 [==============================] - 41s 276ms/step - loss: 0.8217 - acc: 0.6401 - auc: 0.8429 - precision: 0.6926 - recall: 0.3070 - f1score: 0.1570 - val_loss: 0.9600 - val_acc: 0.4983 - val_auc: 0.8437 - val_precision: 0.6928 - val_recall: 0.3102 - val_f1score: 0.1441\n",
      "Epoch 23/50\n",
      "150/150 [==============================] - 41s 276ms/step - loss: 0.8236 - acc: 0.6298 - auc: 0.8445 - precision: 0.6936 - recall: 0.3135 - f1score: 0.1572 - val_loss: 0.9574 - val_acc: 0.4897 - val_auc: 0.8452 - val_precision: 0.6938 - val_recall: 0.3165 - val_f1score: 0.1445\n",
      "Epoch 24/50\n",
      "150/150 [==============================] - 41s 275ms/step - loss: 0.8097 - acc: 0.6409 - auc: 0.8460 - precision: 0.6944 - recall: 0.3198 - f1score: 0.1584 - val_loss: 0.9515 - val_acc: 0.4914 - val_auc: 0.8468 - val_precision: 0.6949 - val_recall: 0.3228 - val_f1score: 0.1449\n",
      "Epoch 25/50\n",
      "150/150 [==============================] - 41s 275ms/step - loss: 0.8105 - acc: 0.6468 - auc: 0.8475 - precision: 0.6954 - recall: 0.3255 - f1score: 0.1585 - val_loss: 0.9483 - val_acc: 0.4948 - val_auc: 0.8482 - val_precision: 0.6960 - val_recall: 0.3284 - val_f1score: 0.1452\n",
      "Epoch 26/50\n",
      "150/150 [==============================] - 41s 277ms/step - loss: 0.8066 - acc: 0.6483 - auc: 0.8490 - precision: 0.6968 - recall: 0.3312 - f1score: 0.1589 - val_loss: 0.9528 - val_acc: 0.4914 - val_auc: 0.8496 - val_precision: 0.6973 - val_recall: 0.3339 - val_f1score: 0.1451\n",
      "Epoch 27/50\n",
      "150/150 [==============================] - 41s 276ms/step - loss: 0.8015 - acc: 0.6599 - auc: 0.8503 - precision: 0.6984 - recall: 0.3367 - f1score: 0.1596 - val_loss: 0.9504 - val_acc: 0.4966 - val_auc: 0.8509 - val_precision: 0.6993 - val_recall: 0.3395 - val_f1score: 0.1451\n",
      "Epoch 28/50\n",
      "150/150 [==============================] - 41s 276ms/step - loss: 0.7922 - acc: 0.6542 - auc: 0.8516 - precision: 0.6998 - recall: 0.3420 - f1score: 0.1601 - val_loss: 0.9587 - val_acc: 0.4948 - val_auc: 0.8523 - val_precision: 0.7001 - val_recall: 0.3445 - val_f1score: 0.1449\n",
      "Epoch 29/50\n"
     ]
    },
    {
     "name": "stdout",
     "output_type": "stream",
     "text": [
      "150/150 [==============================] - 41s 275ms/step - loss: 0.7929 - acc: 0.6497 - auc: 0.8529 - precision: 0.7004 - recall: 0.3469 - f1score: 0.1603 - val_loss: 0.9456 - val_acc: 0.4983 - val_auc: 0.8535 - val_precision: 0.7006 - val_recall: 0.3492 - val_f1score: 0.1459\n",
      "Epoch 30/50\n",
      "150/150 [==============================] - 41s 276ms/step - loss: 0.7744 - acc: 0.6669 - auc: 0.8541 - precision: 0.7014 - recall: 0.3518 - f1score: 0.1619 - val_loss: 0.9405 - val_acc: 0.5086 - val_auc: 0.8548 - val_precision: 0.7019 - val_recall: 0.3543 - val_f1score: 0.1462\n",
      "Epoch 31/50\n",
      "150/150 [==============================] - 41s 276ms/step - loss: 0.7822 - acc: 0.6658 - auc: 0.8554 - precision: 0.7025 - recall: 0.3567 - f1score: 0.1616 - val_loss: 0.9449 - val_acc: 0.5000 - val_auc: 0.8560 - val_precision: 0.7030 - val_recall: 0.3590 - val_f1score: 0.1463\n",
      "Epoch 32/50\n",
      "150/150 [==============================] - 41s 276ms/step - loss: 0.7796 - acc: 0.6626 - auc: 0.8566 - precision: 0.7035 - recall: 0.3612 - f1score: 0.1620 - val_loss: 0.9393 - val_acc: 0.5189 - val_auc: 0.8571 - val_precision: 0.7040 - val_recall: 0.3635 - val_f1score: 0.1465\n",
      "Epoch 33/50\n",
      "150/150 [==============================] - 42s 277ms/step - loss: 0.7713 - acc: 0.6641 - auc: 0.8577 - precision: 0.7046 - recall: 0.3656 - f1score: 0.1625 - val_loss: 0.9464 - val_acc: 0.5086 - val_auc: 0.8583 - val_precision: 0.7051 - val_recall: 0.3677 - val_f1score: 0.1460\n",
      "Epoch 34/50\n",
      "150/150 [==============================] - 41s 276ms/step - loss: 0.7668 - acc: 0.6698 - auc: 0.8588 - precision: 0.7056 - recall: 0.3697 - f1score: 0.1628 - val_loss: 0.9424 - val_acc: 0.5052 - val_auc: 0.8594 - val_precision: 0.7061 - val_recall: 0.3718 - val_f1score: 0.1465\n",
      "Epoch 35/50\n",
      "150/150 [==============================] - 41s 275ms/step - loss: 0.7666 - acc: 0.6724 - auc: 0.8599 - precision: 0.7065 - recall: 0.3738 - f1score: 0.1629 - val_loss: 0.9397 - val_acc: 0.5172 - val_auc: 0.8604 - val_precision: 0.7070 - val_recall: 0.3757 - val_f1score: 0.1468\n",
      "Epoch 36/50\n",
      "150/150 [==============================] - 41s 276ms/step - loss: 0.7569 - acc: 0.6747 - auc: 0.8609 - precision: 0.7075 - recall: 0.3778 - f1score: 0.1640 - val_loss: 0.9439 - val_acc: 0.5052 - val_auc: 0.8614 - val_precision: 0.7079 - val_recall: 0.3798 - val_f1score: 0.1467\n",
      "Epoch 37/50\n",
      "150/150 [==============================] - 42s 277ms/step - loss: 0.7535 - acc: 0.6770 - auc: 0.8619 - precision: 0.7083 - recall: 0.3817 - f1score: 0.1642 - val_loss: 0.9337 - val_acc: 0.5069 - val_auc: 0.8624 - val_precision: 0.7087 - val_recall: 0.3835 - val_f1score: 0.1472\n",
      "Epoch 38/50\n",
      "150/150 [==============================] - 41s 276ms/step - loss: 0.7503 - acc: 0.6853 - auc: 0.8630 - precision: 0.7093 - recall: 0.3854 - f1score: 0.1648 - val_loss: 0.9370 - val_acc: 0.5137 - val_auc: 0.8635 - val_precision: 0.7098 - val_recall: 0.3872 - val_f1score: 0.1470\n",
      "Epoch 39/50\n",
      "150/150 [==============================] - 42s 277ms/step - loss: 0.7512 - acc: 0.6829 - auc: 0.8639 - precision: 0.7102 - recall: 0.3889 - f1score: 0.1647 - val_loss: 0.9352 - val_acc: 0.5086 - val_auc: 0.8644 - val_precision: 0.7106 - val_recall: 0.3906 - val_f1score: 0.1471\n",
      "Epoch 40/50\n",
      "150/150 [==============================] - 41s 275ms/step - loss: 0.7426 - acc: 0.6865 - auc: 0.8649 - precision: 0.7111 - recall: 0.3924 - f1score: 0.1656 - val_loss: 0.9322 - val_acc: 0.5120 - val_auc: 0.8653 - val_precision: 0.7115 - val_recall: 0.3941 - val_f1score: 0.1476\n",
      "Epoch 41/50\n",
      "150/150 [==============================] - 41s 277ms/step - loss: 0.7466 - acc: 0.6829 - auc: 0.8658 - precision: 0.7118 - recall: 0.3957 - f1score: 0.1650 - val_loss: 0.9310 - val_acc: 0.5069 - val_auc: 0.8662 - val_precision: 0.7121 - val_recall: 0.3974 - val_f1score: 0.1477\n",
      "Epoch 42/50\n",
      "150/150 [==============================] - 41s 275ms/step - loss: 0.7376 - acc: 0.6832 - auc: 0.8667 - precision: 0.7125 - recall: 0.3990 - f1score: 0.1660 - val_loss: 0.9371 - val_acc: 0.5155 - val_auc: 0.8671 - val_precision: 0.7127 - val_recall: 0.4006 - val_f1score: 0.1473\n",
      "Epoch 43/50\n",
      "150/150 [==============================] - 41s 276ms/step - loss: 0.7318 - acc: 0.6882 - auc: 0.8675 - precision: 0.7131 - recall: 0.4022 - f1score: 0.1667 - val_loss: 0.9368 - val_acc: 0.5137 - val_auc: 0.8680 - val_precision: 0.7136 - val_recall: 0.4039 - val_f1score: 0.1476\n",
      "Epoch 44/50\n",
      "150/150 [==============================] - 42s 277ms/step - loss: 0.7292 - acc: 0.6936 - auc: 0.8684 - precision: 0.7141 - recall: 0.4055 - f1score: 0.1669 - val_loss: 0.9382 - val_acc: 0.5137 - val_auc: 0.8689 - val_precision: 0.7147 - val_recall: 0.4071 - val_f1score: 0.1474\n",
      "Epoch 45/50\n",
      "150/150 [==============================] - 41s 275ms/step - loss: 0.7294 - acc: 0.6914 - auc: 0.8693 - precision: 0.7151 - recall: 0.4086 - f1score: 0.1671 - val_loss: 0.9374 - val_acc: 0.5086 - val_auc: 0.8697 - val_precision: 0.7154 - val_recall: 0.4101 - val_f1score: 0.1475\n",
      "Epoch 46/50\n",
      "150/150 [==============================] - 43s 287ms/step - loss: 0.7303 - acc: 0.6979 - auc: 0.8701 - precision: 0.7158 - recall: 0.4115 - f1score: 0.1670 - val_loss: 0.9323 - val_acc: 0.5258 - val_auc: 0.8705 - val_precision: 0.7162 - val_recall: 0.4130 - val_f1score: 0.1479\n",
      "Epoch 47/50\n",
      "150/150 [==============================] - 41s 275ms/step - loss: 0.7176 - acc: 0.6984 - auc: 0.8709 - precision: 0.7167 - recall: 0.4145 - f1score: 0.1683 - val_loss: 0.9391 - val_acc: 0.5137 - val_auc: 0.8713 - val_precision: 0.7170 - val_recall: 0.4160 - val_f1score: 0.1473\n",
      "Epoch 48/50\n",
      "150/150 [==============================] - 42s 282ms/step - loss: 0.7246 - acc: 0.6973 - auc: 0.8717 - precision: 0.7174 - recall: 0.4174 - f1score: 0.1677 - val_loss: 0.9308 - val_acc: 0.5206 - val_auc: 0.8720 - val_precision: 0.7177 - val_recall: 0.4187 - val_f1score: 0.1479\n",
      "Epoch 49/50\n",
      "150/150 [==============================] - 41s 276ms/step - loss: 0.7129 - acc: 0.7033 - auc: 0.8724 - precision: 0.7181 - recall: 0.4201 - f1score: 0.1686 - val_loss: 0.9341 - val_acc: 0.5155 - val_auc: 0.8728 - val_precision: 0.7184 - val_recall: 0.4215 - val_f1score: 0.1480\n",
      "Epoch 50/50\n",
      "150/150 [==============================] - 42s 283ms/step - loss: 0.7170 - acc: 0.7124 - auc: 0.8732 - precision: 0.7189 - recall: 0.4228 - f1score: 0.1683 - val_loss: 0.9322 - val_acc: 0.5172 - val_auc: 0.8735 - val_precision: 0.7193 - val_recall: 0.4242 - val_f1score: 0.1482\n"
     ]
    }
   ],
   "source": [
    "history = additional_model.fit_generator(dgf, \n",
    "            steps_per_epoch=150, \n",
    "            epochs=50, \n",
    "            validation_data=(X_val,y_val), \n",
    "            validation_steps=32, \n",
    "            callbacks=[checkpoint])"
   ]
  },
  {
   "cell_type": "code",
   "execution_count": 11,
   "metadata": {},
   "outputs": [
    {
     "data": {
      "image/png": "[encoded data removed]",
      "text/plain": [
       "<Figure size 432x288 with 1 Axes>"
      ]
     },
     "metadata": {
      "needs_background": "light"
     },
     "output_type": "display_data"
    },
    {
     "data": {
      "image/png": "[encoded data removed]",
      "text/plain": [
       "<Figure size 432x288 with 1 Axes>"
      ]
     },
     "metadata": {
      "needs_background": "light"
     },
     "output_type": "display_data"
    }
   ],
   "source": [
    "acc = history.history['acc']\n",
    "val_acc = history.history['val_acc']\n",
    "loss = history.history['loss']\n",
    "val_loss = history.history['val_loss']\n",
    " \n",
    "epochs = range(1, len(acc) + 1)\n",
    " \n",
    "plt.plot(epochs, acc, 'bo', label='Training acc')\n",
    "plt.plot(epochs, val_acc, 'r', label='Validation acc')\n",
    "plt.title('Accuracy')\n",
    "plt.legend()\n",
    "plt.figure()\n",
    " \n",
    "plt.plot(epochs, loss, 'bo', label='Training loss')\n",
    "plt.plot(epochs, val_loss, 'r', label='Validation loss')\n",
    "plt.title('Loss')\n",
    "plt.legend()\n",
    " \n",
    "plt.show()"
   ]
  },
  {
   "cell_type": "code",
   "execution_count": 12,
   "metadata": {},
   "outputs": [],
   "source": [
    "X_test=np.load('X_test.npy')\n",
    "y_test=np.load('y_test.npy')"
   ]
  },
  {
   "cell_type": "code",
   "execution_count": 13,
   "metadata": {},
   "outputs": [
    {
     "name": "stdout",
     "output_type": "stream",
     "text": [
      "582/582 [==============================] - 2s 3ms/step\n",
      "loss: 0.932, accuracy: 0.517, auc: 0.873, precision: 0.719, recall: 0.424, f1score: 0.148\n"
     ]
    }
   ],
   "source": [
    "_loss, _acc, _auc, _precision, _recall, _f1score = additional_model.evaluate(X_val, y_val, batch_size=32)\n",
    "print('loss: {:.3f}, accuracy: {:.3f}, auc: {:.3f}, precision: {:.3f}, recall: {:.3f}, f1score: {:.3f}'.format(_loss, _acc, _auc, _precision, _recall, _f1score))"
   ]
  },
  {
   "cell_type": "code",
   "execution_count": 14,
   "metadata": {},
   "outputs": [
    {
     "name": "stdout",
     "output_type": "stream",
     "text": [
      "704/704 [==============================] - 2s 3ms/step\n",
      "loss: 6559.103, accuracy: 0.222, auc: 0.872, precision: 0.718, recall: 0.424, f1score: nan\n"
     ]
    }
   ],
   "source": [
    "_loss, _acc, _auc, _precision, _recall, _f1score = additional_model.evaluate(X_test, y_test, batch_size=32)\n",
    "print('loss: {:.3f}, accuracy: {:.3f}, auc: {:.3f}, precision: {:.3f}, recall: {:.3f}, f1score: {:.3f}'.format(_loss, _acc, _auc, _precision, _recall, _f1score))"
   ]
  },
  {
   "cell_type": "code",
   "execution_count": 15,
   "metadata": {},
   "outputs": [],
   "source": [
    "additional_model.save('VGG16_fine tuning_1.h5')"
   ]
  },
  {
   "cell_type": "code",
   "execution_count": null,
   "metadata": {},
   "outputs": [],
   "source": []
  }
 ],
 "metadata": {
  "kernelspec": {
   "display_name": "Python 3",
   "language": "python",
   "name": "python3"
  },
  "language_info": {
   "codemirror_mode": {
    "name": "ipython",
    "version": 3
   },
   "file_extension": ".py",
   "mimetype": "text/x-python",
   "name": "python",
   "nbconvert_exporter": "python",
   "pygments_lexer": "ipython3",
   "version": "3.7.7"
  }
 },
 "nbformat": 4,
 "nbformat_minor": 2
}
