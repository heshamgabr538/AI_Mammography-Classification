{
 "cells": [
  {
   "cell_type": "code",
   "execution_count": 1,
   "metadata": {},
   "outputs": [
    {
     "data": {
      "text/plain": [
       "'C:\\\\Users\\\\Owner2\\\\Desktop\\\\G팔로미_vuno'"
      ]
     },
     "execution_count": 1,
     "metadata": {},
     "output_type": "execute_result"
    }
   ],
   "source": [
    "import os\n",
    "import pandas as pd\n",
    "from matplotlib import pyplot as plt\n",
    "import numpy as np\n",
    "import cv2\n",
    "\n",
    "#data path 수정\n",
    "os.chdir(\"C:\\\\Users\\\\Owner2\\\\Desktop\\\\G팔로미_vuno\")\n",
    "os.getcwd()"
   ]
  },
  {
   "cell_type": "code",
   "execution_count": 2,
   "metadata": {},
   "outputs": [],
   "source": [
    "X=np.load('data_X.npy')\n",
    "y=np.load('data_y.npy')"
   ]
  },
  {
   "cell_type": "code",
   "execution_count": 3,
   "metadata": {},
   "outputs": [],
   "source": [
    "#train, validation set 분리\n",
    "from sklearn.model_selection import train_test_split\n",
    "\n",
    "X_train, X_val, y_train, y_val = train_test_split(X,y,test_size=0.3)"
   ]
  },
  {
   "cell_type": "code",
   "execution_count": 4,
   "metadata": {},
   "outputs": [
    {
     "name": "stderr",
     "output_type": "stream",
     "text": [
      "Using TensorFlow backend.\n"
     ]
    }
   ],
   "source": [
    "from keras.preprocessing.image import ImageDataGenerator\n",
    "\n",
    "datagen = ImageDataGenerator(\n",
    "    ##featurewise_center=True,\n",
    "    #featurewise_std_normalization=True, \n",
    "    rotation_range=25.0,\n",
    "    width_shift_range=0.2,\n",
    "    height_shift_range=0.2,\n",
    "    horizontal_flip=True) #수평방향 뒤집기\n",
    "\n",
    "datagen.fit(X_train)\n",
    "\n",
    "dgf=datagen.flow(X_train,y_train,batch_size=64)"
   ]
  },
  {
   "cell_type": "code",
   "execution_count": 5,
   "metadata": {},
   "outputs": [
    {
     "name": "stderr",
     "output_type": "stream",
     "text": [
      "WARNING: Logging before flag parsing goes to stderr.\n",
      "W0608 11:07:17.394017  7728 deprecation_wrapper.py:119] From C:\\Users\\Owner2\\Anaconda3\\envs\\keras2\\lib\\site-packages\\keras\\backend\\tensorflow_backend.py:74: The name tf.get_default_graph is deprecated. Please use tf.compat.v1.get_default_graph instead.\n",
      "\n",
      "W0608 11:07:17.412013  7728 deprecation_wrapper.py:119] From C:\\Users\\Owner2\\Anaconda3\\envs\\keras2\\lib\\site-packages\\keras\\backend\\tensorflow_backend.py:517: The name tf.placeholder is deprecated. Please use tf.compat.v1.placeholder instead.\n",
      "\n",
      "W0608 11:07:17.417242  7728 deprecation_wrapper.py:119] From C:\\Users\\Owner2\\Anaconda3\\envs\\keras2\\lib\\site-packages\\keras\\backend\\tensorflow_backend.py:4138: The name tf.random_uniform is deprecated. Please use tf.random.uniform instead.\n",
      "\n",
      "W0608 11:07:17.445009  7728 deprecation_wrapper.py:119] From C:\\Users\\Owner2\\Anaconda3\\envs\\keras2\\lib\\site-packages\\keras\\backend\\tensorflow_backend.py:3976: The name tf.nn.max_pool is deprecated. Please use tf.nn.max_pool2d instead.\n",
      "\n",
      "W0608 11:07:17.760447  7728 deprecation_wrapper.py:119] From C:\\Users\\Owner2\\Anaconda3\\envs\\keras2\\lib\\site-packages\\keras\\backend\\tensorflow_backend.py:174: The name tf.get_default_session is deprecated. Please use tf.compat.v1.get_default_session instead.\n",
      "\n",
      "W0608 11:07:17.761447  7728 deprecation_wrapper.py:119] From C:\\Users\\Owner2\\Anaconda3\\envs\\keras2\\lib\\site-packages\\keras\\backend\\tensorflow_backend.py:181: The name tf.ConfigProto is deprecated. Please use tf.compat.v1.ConfigProto instead.\n",
      "\n"
     ]
    },
    {
     "name": "stdout",
     "output_type": "stream",
     "text": [
      "_________________________________________________________________\n",
      "Layer (type)                 Output Shape              Param #   \n",
      "=================================================================\n",
      "input_1 (InputLayer)         (None, 224, 224, 3)       0         \n",
      "_________________________________________________________________\n",
      "block1_conv1 (Conv2D)        (None, 224, 224, 64)      1792      \n",
      "_________________________________________________________________\n",
      "block1_conv2 (Conv2D)        (None, 224, 224, 64)      36928     \n",
      "_________________________________________________________________\n",
      "block1_pool (MaxPooling2D)   (None, 112, 112, 64)      0         \n",
      "_________________________________________________________________\n",
      "block2_conv1 (Conv2D)        (None, 112, 112, 128)     73856     \n",
      "_________________________________________________________________\n",
      "block2_conv2 (Conv2D)        (None, 112, 112, 128)     147584    \n",
      "_________________________________________________________________\n",
      "block2_pool (MaxPooling2D)   (None, 56, 56, 128)       0         \n",
      "_________________________________________________________________\n",
      "block3_conv1 (Conv2D)        (None, 56, 56, 256)       295168    \n",
      "_________________________________________________________________\n",
      "block3_conv2 (Conv2D)        (None, 56, 56, 256)       590080    \n",
      "_________________________________________________________________\n",
      "block3_conv3 (Conv2D)        (None, 56, 56, 256)       590080    \n",
      "_________________________________________________________________\n",
      "block3_pool (MaxPooling2D)   (None, 28, 28, 256)       0         \n",
      "_________________________________________________________________\n",
      "block4_conv1 (Conv2D)        (None, 28, 28, 512)       1180160   \n",
      "_________________________________________________________________\n",
      "block4_conv2 (Conv2D)        (None, 28, 28, 512)       2359808   \n",
      "_________________________________________________________________\n",
      "block4_conv3 (Conv2D)        (None, 28, 28, 512)       2359808   \n",
      "_________________________________________________________________\n",
      "block4_pool (MaxPooling2D)   (None, 14, 14, 512)       0         \n",
      "_________________________________________________________________\n",
      "block5_conv1 (Conv2D)        (None, 14, 14, 512)       2359808   \n",
      "_________________________________________________________________\n",
      "block5_conv2 (Conv2D)        (None, 14, 14, 512)       2359808   \n",
      "_________________________________________________________________\n",
      "block5_conv3 (Conv2D)        (None, 14, 14, 512)       2359808   \n",
      "_________________________________________________________________\n",
      "block5_pool (MaxPooling2D)   (None, 7, 7, 512)         0         \n",
      "=================================================================\n",
      "Total params: 14,714,688\n",
      "Trainable params: 14,714,688\n",
      "Non-trainable params: 0\n",
      "_________________________________________________________________\n"
     ]
    }
   ],
   "source": [
    "from keras import layers, models\n",
    "from keras.applications import VGG16\n",
    "from keras import Input\n",
    "from keras.models import Model\n",
    "from keras.preprocessing.image import ImageDataGenerator\n",
    "from keras import optimizers, initializers, regularizers, metrics\n",
    "from keras.callbacks import ModelCheckpoint\n",
    "import os\n",
    "from glob import glob\n",
    "from PIL import Image\n",
    "import matplotlib.pyplot as plt\n",
    "import numpy as np\n",
    " \n",
    "\n",
    "\n",
    "pre_trained_vgg = VGG16(weights='imagenet', include_top=False, input_shape=(224, 224, 3))\n",
    "pre_trained_vgg.trainable = True\n",
    "pre_trained_vgg.summary()"
   ]
  },
  {
   "cell_type": "code",
   "execution_count": 6,
   "metadata": {},
   "outputs": [],
   "source": [
    "additional_model = models.Sequential()\n",
    "additional_model.add(pre_trained_vgg)\n",
    "additional_model.add(layers.Flatten())\n",
    "additional_model.add(layers.Dense(4096, activation='relu'))\n",
    "additional_model.add(layers.Dense(2048, activation='relu'))\n",
    "additional_model.add(layers.Dense(1024, activation='relu'))\n",
    "additional_model.add(layers.Dense(4, activation='softmax'))"
   ]
  },
  {
   "cell_type": "code",
   "execution_count": 7,
   "metadata": {},
   "outputs": [],
   "source": [
    "# checkpoint = ModelCheckpoint(filepath='My_VGG_{epoch:03d}_{val_loss:.7f}.hdf5',monitor='loss', mode='min', save_best_only=True)\n",
    "checkpoint = ModelCheckpoint(filepath='My_VGG_weight_1.hdf5', \n",
    "            monitor='loss', \n",
    "            mode='min', \n",
    "            save_best_only=True)"
   ]
  },
  {
   "cell_type": "code",
   "execution_count": 8,
   "metadata": {},
   "outputs": [],
   "source": [
    "from keras import backend as K\n",
    "import tensorflow as tf\n",
    "\n",
    "def auc(y_true, y_pred):\n",
    "    auc = tf.metrics.auc(y_true, y_pred)[1]\n",
    "    K.get_session().run(tf.local_variables_initializer())\n",
    "    return auc\n",
    "\n",
    "def recall(y_target, y_pred):\n",
    "    # clip(t, clip_value_min, clip_value_max) : clip_value_min~clip_value_max 이외 가장자리를 깎아 낸다\n",
    "    # round : 반올림한다\n",
    "    y_target_yn = K.round(K.clip(y_target, 0, 1)) # 실제값을 0(Negative) 또는 1(Positive)로 설정한다\n",
    "    y_pred_yn = K.round(K.clip(y_pred, 0, 1)) # 예측값을 0(Negative) 또는 1(Positive)로 설정한다\n",
    "\n",
    "    # True Positive는 실제 값과 예측 값이 모두 1(Positive)인 경우이다\n",
    "    count_true_positive = K.sum(y_target_yn * y_pred_yn) \n",
    "\n",
    "    # (True Positive + False Negative) = 실제 값이 1(Positive) 전체\n",
    "    count_true_positive_false_negative = K.sum(y_target_yn)\n",
    "\n",
    "    # Recall =  (True Positive) / (True Positive + False Negative)\n",
    "    # K.epsilon()는 'divide by zero error' 예방차원에서 작은 수를 더한다\n",
    "    recall = count_true_positive / (count_true_positive_false_negative + K.epsilon())\n",
    "\n",
    "    # return a single tensor value\n",
    "    return recall\n",
    "\n",
    "\n",
    "def precision(y_target, y_pred):\n",
    "    # clip(t, clip_value_min, clip_value_max) : clip_value_min~clip_value_max 이외 가장자리를 깎아 낸다\n",
    "    # round : 반올림한다\n",
    "    y_pred_yn = K.round(K.clip(y_pred, 0, 1)) # 예측값을 0(Negative) 또는 1(Positive)로 설정한다\n",
    "    y_target_yn = K.round(K.clip(y_target, 0, 1)) # 실제값을 0(Negative) 또는 1(Positive)로 설정한다\n",
    "\n",
    "    # True Positive는 실제 값과 예측 값이 모두 1(Positive)인 경우이다\n",
    "    count_true_positive = K.sum(y_target_yn * y_pred_yn) \n",
    "\n",
    "    # (True Positive + False Positive) = 예측 값이 1(Positive) 전체\n",
    "    count_true_positive_false_positive = K.sum(y_pred_yn)\n",
    "\n",
    "    # Precision = (True Positive) / (True Positive + False Positive)\n",
    "    # K.epsilon()는 'divide by zero error' 예방차원에서 작은 수를 더한다\n",
    "    precision = count_true_positive / (count_true_positive_false_positive + K.epsilon())\n",
    "\n",
    "    # return a single tensor value\n",
    "    return precision\n",
    "\n",
    "\n",
    "def f1score(y_target, y_pred):\n",
    "    _recall = recall(y_target, y_pred)\n",
    "    _precision = precision(y_target, y_pred)\n",
    "    # K.epsilon()는 'divide by zero error' 예방차원에서 작은 수를 더한다\n",
    "    _f1score = ( 2 * _recall * _precision) / (_recall + _precision+ K.epsilon())\n",
    "    \n",
    "    # return a single tensor value\n",
    "    return _f1score"
   ]
  },
  {
   "cell_type": "code",
   "execution_count": 9,
   "metadata": {},
   "outputs": [
    {
     "name": "stderr",
     "output_type": "stream",
     "text": [
      "W0608 11:07:19.839517  7728 deprecation_wrapper.py:119] From C:\\Users\\Owner2\\Anaconda3\\envs\\keras2\\lib\\site-packages\\keras\\optimizers.py:790: The name tf.train.Optimizer is deprecated. Please use tf.compat.v1.train.Optimizer instead.\n",
      "\n",
      "W0608 11:07:19.930543  7728 deprecation.py:323] From C:\\Users\\Owner2\\Anaconda3\\envs\\keras2\\lib\\site-packages\\tensorflow\\python\\ops\\metrics_impl.py:809: div (from tensorflow.python.ops.math_ops) is deprecated and will be removed in a future version.\n",
      "Instructions for updating:\n",
      "Deprecated in favor of operator or tf.math.divide.\n"
     ]
    }
   ],
   "source": [
    "additional_model.compile(loss='categorical_crossentropy',\n",
    "                         optimizer=optimizers.Adam(lr=2e-5), \n",
    "                         metrics=['acc', auc, precision, recall, f1score])"
   ]
  },
  {
   "cell_type": "code",
   "execution_count": 10,
   "metadata": {},
   "outputs": [
    {
     "data": {
      "text/plain": [
       "(2861, 224, 224, 3)"
      ]
     },
     "execution_count": 10,
     "metadata": {},
     "output_type": "execute_result"
    }
   ],
   "source": [
    "X.shape"
   ]
  },
  {
   "cell_type": "code",
   "execution_count": 11,
   "metadata": {},
   "outputs": [],
   "source": [
    "# history1=myvgg.fit(X,y,batch_size=32,\n",
    "#                   epochs=100,\n",
    "#                   validation_split=0.3,\n",
    "#                   callbacks=[checkpoint])"
   ]
  },
  {
   "cell_type": "code",
   "execution_count": 12,
   "metadata": {
    "scrolled": true
   },
   "outputs": [
    {
     "name": "stderr",
     "output_type": "stream",
     "text": [
      "W0608 11:07:38.858042  7728 deprecation.py:323] From C:\\Users\\Owner2\\Anaconda3\\envs\\keras2\\lib\\site-packages\\tensorflow\\python\\ops\\math_grad.py:1250: add_dispatch_support.<locals>.wrapper (from tensorflow.python.ops.array_ops) is deprecated and will be removed in a future version.\n",
      "Instructions for updating:\n",
      "Use tf.where in 2.0, which has the same broadcast rule as np.where\n"
     ]
    },
    {
     "name": "stdout",
     "output_type": "stream",
     "text": [
      "Epoch 1/100\n",
      "150/150 [==============================] - 99s 663ms/step - loss: 0.8481 - acc: 0.5534 - auc: 0.7941 - precision: 0.6011 - recall: 0.4526 - f1score: 0.5076 - val_loss: 0.6851 - val_acc: 0.6519 - val_auc: 0.8570 - val_precision: 0.6860 - val_recall: 0.5972 - val_f1score: 0.6381\n",
      "Epoch 2/100\n",
      "150/150 [==============================] - 87s 581ms/step - loss: 0.6713 - acc: 0.6313 - auc: 0.8709 - precision: 0.6549 - recall: 0.5895 - f1score: 0.6201 - val_loss: 0.7863 - val_acc: 0.6228 - val_auc: 0.8797 - val_precision: 0.6310 - val_recall: 0.5902 - val_f1score: 0.6098\n",
      "Epoch 3/100\n",
      "150/150 [==============================] - 88s 589ms/step - loss: 0.6155 - acc: 0.6790 - auc: 0.8863 - precision: 0.6957 - recall: 0.6487 - f1score: 0.6711 - val_loss: 0.7798 - val_acc: 0.6310 - val_auc: 0.8925 - val_precision: 0.6349 - val_recall: 0.6100 - val_f1score: 0.6221\n",
      "Epoch 4/100\n",
      "150/150 [==============================] - 88s 584ms/step - loss: 0.5462 - acc: 0.7134 - auc: 0.8981 - precision: 0.7244 - recall: 0.6977 - f1score: 0.7106 - val_loss: 0.7603 - val_acc: 0.6682 - val_auc: 0.9031 - val_precision: 0.6703 - val_recall: 0.6449 - val_f1score: 0.6573\n",
      "Epoch 5/100\n",
      "150/150 [==============================] - 81s 542ms/step - loss: 0.5002 - acc: 0.7508 - auc: 0.9077 - precision: 0.7597 - recall: 0.7371 - f1score: 0.7481 - val_loss: 0.7980 - val_acc: 0.6251 - val_auc: 0.9119 - val_precision: 0.6310 - val_recall: 0.6100 - val_f1score: 0.6203\n",
      "Epoch 6/100\n",
      "150/150 [==============================] - 80s 536ms/step - loss: 0.4423 - acc: 0.7817 - auc: 0.9161 - precision: 0.7885 - recall: 0.7749 - f1score: 0.7816 - val_loss: 0.8189 - val_acc: 0.6356 - val_auc: 0.9201 - val_precision: 0.6429 - val_recall: 0.6286 - val_f1score: 0.6356\n",
      "Epoch 7/100\n",
      "150/150 [==============================] - 81s 540ms/step - loss: 0.3738 - acc: 0.8286 - auc: 0.9242 - precision: 0.8323 - recall: 0.8228 - f1score: 0.8275 - val_loss: 0.9742 - val_acc: 0.6438 - val_auc: 0.9280 - val_precision: 0.6476 - val_recall: 0.6356 - val_f1score: 0.6415\n",
      "Epoch 8/100\n",
      "150/150 [==============================] - 81s 537ms/step - loss: 0.3218 - acc: 0.8536 - auc: 0.9316 - precision: 0.8571 - recall: 0.8500 - f1score: 0.8535 - val_loss: 1.1233 - val_acc: 0.6484 - val_auc: 0.9348 - val_precision: 0.6548 - val_recall: 0.6473 - val_f1score: 0.6510\n",
      "Epoch 9/100\n",
      "150/150 [==============================] - 81s 539ms/step - loss: 0.2712 - acc: 0.8822 - auc: 0.9382 - precision: 0.8850 - recall: 0.8780 - f1score: 0.8815 - val_loss: 1.3783 - val_acc: 0.6158 - val_auc: 0.9409 - val_precision: 0.6214 - val_recall: 0.6135 - val_f1score: 0.6174\n",
      "Epoch 10/100\n",
      "150/150 [==============================] - 81s 540ms/step - loss: 0.2392 - acc: 0.8961 - auc: 0.9436 - precision: 0.8982 - recall: 0.8940 - f1score: 0.8960 - val_loss: 1.2247 - val_acc: 0.6391 - val_auc: 0.9461 - val_precision: 0.6401 - val_recall: 0.6345 - val_f1score: 0.6372\n",
      "Epoch 11/100\n",
      "150/150 [==============================] - 80s 533ms/step - loss: 0.1885 - acc: 0.9231 - auc: 0.9487 - precision: 0.9247 - recall: 0.9216 - f1score: 0.9231 - val_loss: 1.3615 - val_acc: 0.6170 - val_auc: 0.9510 - val_precision: 0.6185 - val_recall: 0.6135 - val_f1score: 0.6160\n",
      "Epoch 12/100\n",
      "150/150 [==============================] - 81s 537ms/step - loss: 0.1469 - acc: 0.9412 - auc: 0.9533 - precision: 0.9426 - recall: 0.9403 - f1score: 0.9415 - val_loss: 1.8505 - val_acc: 0.6275 - val_auc: 0.9552 - val_precision: 0.6300 - val_recall: 0.6228 - val_f1score: 0.6264\n",
      "Epoch 13/100\n",
      "150/150 [==============================] - 81s 540ms/step - loss: 0.1470 - acc: 0.9393 - auc: 0.9569 - precision: 0.9403 - recall: 0.9385 - f1score: 0.9394 - val_loss: 1.5840 - val_acc: 0.6438 - val_auc: 0.9585 - val_precision: 0.6449 - val_recall: 0.6426 - val_f1score: 0.6437\n",
      "Epoch 14/100\n",
      "150/150 [==============================] - 81s 538ms/step - loss: 0.1422 - acc: 0.9448 - auc: 0.9601 - precision: 0.9454 - recall: 0.9436 - f1score: 0.9445 - val_loss: 1.5622 - val_acc: 0.6321 - val_auc: 0.9614 - val_precision: 0.6343 - val_recall: 0.6310 - val_f1score: 0.6326\n",
      "Epoch 15/100\n",
      "150/150 [==============================] - 81s 537ms/step - loss: 0.1482 - acc: 0.9385 - auc: 0.9627 - precision: 0.9398 - recall: 0.9376 - f1score: 0.9387 - val_loss: 1.4449 - val_acc: 0.6228 - val_auc: 0.9637 - val_precision: 0.6250 - val_recall: 0.6228 - val_f1score: 0.6239\n",
      "Epoch 16/100\n",
      "150/150 [==============================] - 82s 546ms/step - loss: 0.0898 - acc: 0.9640 - auc: 0.9650 - precision: 0.9648 - recall: 0.9635 - f1score: 0.9641 - val_loss: 1.7397 - val_acc: 0.6368 - val_auc: 0.9661 - val_precision: 0.6403 - val_recall: 0.6356 - val_f1score: 0.6379\n",
      "Epoch 17/100\n",
      "150/150 [==============================] - 80s 532ms/step - loss: 0.0593 - acc: 0.9771 - auc: 0.9673 - precision: 0.9774 - recall: 0.9765 - f1score: 0.9769 - val_loss: 1.9302 - val_acc: 0.6321 - val_auc: 0.9683 - val_precision: 0.6346 - val_recall: 0.6310 - val_f1score: 0.6328\n",
      "Epoch 18/100\n",
      "150/150 [==============================] - 80s 536ms/step - loss: 0.1066 - acc: 0.9563 - auc: 0.9691 - precision: 0.9574 - recall: 0.9557 - f1score: 0.9565 - val_loss: 1.6935 - val_acc: 0.6438 - val_auc: 0.9698 - val_precision: 0.6433 - val_recall: 0.6426 - val_f1score: 0.6430\n",
      "Epoch 19/100\n",
      "150/150 [==============================] - 80s 537ms/step - loss: 0.0529 - acc: 0.9798 - auc: 0.9707 - precision: 0.9801 - recall: 0.9797 - f1score: 0.9799 - val_loss: 1.8419 - val_acc: 0.6554 - val_auc: 0.9715 - val_precision: 0.6592 - val_recall: 0.6554 - val_f1score: 0.6573\n",
      "Epoch 20/100\n",
      "150/150 [==============================] - 81s 539ms/step - loss: 0.0716 - acc: 0.9724 - auc: 0.9723 - precision: 0.9729 - recall: 0.9718 - f1score: 0.9723 - val_loss: 1.8913 - val_acc: 0.6228 - val_auc: 0.9729 - val_precision: 0.6250 - val_recall: 0.6228 - val_f1score: 0.6239\n",
      "Epoch 21/100\n",
      "150/150 [==============================] - 80s 535ms/step - loss: 0.0938 - acc: 0.9657 - auc: 0.9734 - precision: 0.9662 - recall: 0.9653 - f1score: 0.9658 - val_loss: 1.8843 - val_acc: 0.6135 - val_auc: 0.9738 - val_precision: 0.6157 - val_recall: 0.6135 - val_f1score: 0.6146\n",
      "Epoch 22/100\n",
      "150/150 [==============================] - 80s 536ms/step - loss: 0.0625 - acc: 0.9747 - auc: 0.9744 - precision: 0.9750 - recall: 0.9743 - f1score: 0.9746 - val_loss: 2.0452 - val_acc: 0.6310 - val_auc: 0.9749 - val_precision: 0.6324 - val_recall: 0.6310 - val_f1score: 0.6317\n",
      "Epoch 23/100\n",
      "150/150 [==============================] - 81s 539ms/step - loss: 0.0420 - acc: 0.9848 - auc: 0.9754 - precision: 0.9851 - recall: 0.9845 - f1score: 0.9848 - val_loss: 2.2368 - val_acc: 0.6566 - val_auc: 0.9758 - val_precision: 0.6579 - val_recall: 0.6566 - val_f1score: 0.6573\n",
      "Epoch 24/100\n",
      "150/150 [==============================] - 80s 536ms/step - loss: 0.0510 - acc: 0.9812 - auc: 0.9763 - precision: 0.9814 - recall: 0.9809 - f1score: 0.9811 - val_loss: 1.8501 - val_acc: 0.6286 - val_auc: 0.9767 - val_precision: 0.6277 - val_recall: 0.6263 - val_f1score: 0.6270\n",
      "Epoch 25/100\n",
      "150/150 [==============================] - 81s 537ms/step - loss: 0.0775 - acc: 0.9714 - auc: 0.9772 - precision: 0.9719 - recall: 0.9706 - f1score: 0.9712 - val_loss: 1.7071 - val_acc: 0.6403 - val_auc: 0.9774 - val_precision: 0.6414 - val_recall: 0.6391 - val_f1score: 0.6402\n",
      "Epoch 26/100\n",
      "150/150 [==============================] - 81s 538ms/step - loss: 0.0504 - acc: 0.9811 - auc: 0.9778 - precision: 0.9818 - recall: 0.9809 - f1score: 0.9813 - val_loss: 1.7656 - val_acc: 0.6531 - val_auc: 0.9782 - val_precision: 0.6538 - val_recall: 0.6531 - val_f1score: 0.6534\n",
      "Epoch 27/100\n",
      "150/150 [==============================] - 80s 536ms/step - loss: 0.0421 - acc: 0.9843 - auc: 0.9786 - precision: 0.9847 - recall: 0.9842 - f1score: 0.9845 - val_loss: 1.9079 - val_acc: 0.6391 - val_auc: 0.9788 - val_precision: 0.6396 - val_recall: 0.6368 - val_f1score: 0.6382\n",
      "Epoch 28/100\n",
      "150/150 [==============================] - 80s 535ms/step - loss: 0.0432 - acc: 0.9838 - auc: 0.9792 - precision: 0.9840 - recall: 0.9837 - f1score: 0.9838 - val_loss: 2.1160 - val_acc: 0.6414 - val_auc: 0.9794 - val_precision: 0.6454 - val_recall: 0.6403 - val_f1score: 0.6428\n",
      "Epoch 29/100\n"
     ]
    },
    {
     "name": "stdout",
     "output_type": "stream",
     "text": [
      "150/150 [==============================] - 81s 541ms/step - loss: 0.0317 - acc: 0.9883 - auc: 0.9797 - precision: 0.9885 - recall: 0.9880 - f1score: 0.9883 - val_loss: 2.2778 - val_acc: 0.6391 - val_auc: 0.9799 - val_precision: 0.6396 - val_recall: 0.6380 - val_f1score: 0.6387\n",
      "Epoch 30/100\n",
      "150/150 [==============================] - 81s 538ms/step - loss: 0.0483 - acc: 0.9817 - auc: 0.9802 - precision: 0.9819 - recall: 0.9815 - f1score: 0.9817 - val_loss: 2.1577 - val_acc: 0.6275 - val_auc: 0.9804 - val_precision: 0.6292 - val_recall: 0.6263 - val_f1score: 0.6278\n",
      "Epoch 31/100\n",
      "150/150 [==============================] - 81s 539ms/step - loss: 0.0312 - acc: 0.9890 - auc: 0.9806 - precision: 0.9892 - recall: 0.9890 - f1score: 0.9891 - val_loss: 2.1344 - val_acc: 0.6496 - val_auc: 0.9808 - val_precision: 0.6503 - val_recall: 0.6496 - val_f1score: 0.6499\n",
      "Epoch 32/100\n",
      "150/150 [==============================] - 81s 541ms/step - loss: 0.0463 - acc: 0.9849 - auc: 0.9810 - precision: 0.9851 - recall: 0.9847 - f1score: 0.9849 - val_loss: 2.1097 - val_acc: 0.6310 - val_auc: 0.9812 - val_precision: 0.6319 - val_recall: 0.6310 - val_f1score: 0.6314\n",
      "Epoch 33/100\n",
      "150/150 [==============================] - 80s 536ms/step - loss: 0.0466 - acc: 0.9822 - auc: 0.9814 - precision: 0.9824 - recall: 0.9821 - f1score: 0.9823 - val_loss: 2.1353 - val_acc: 0.6286 - val_auc: 0.9815 - val_precision: 0.6307 - val_recall: 0.6263 - val_f1score: 0.6285\n",
      "Epoch 34/100\n",
      "150/150 [==============================] - 81s 539ms/step - loss: 0.0287 - acc: 0.9897 - auc: 0.9817 - precision: 0.9897 - recall: 0.9896 - f1score: 0.9896 - val_loss: 2.2963 - val_acc: 0.6496 - val_auc: 0.9819 - val_precision: 0.6516 - val_recall: 0.6484 - val_f1score: 0.6500\n",
      "Epoch 35/100\n",
      "150/150 [==============================] - 81s 538ms/step - loss: 0.0579 - acc: 0.9800 - auc: 0.9820 - precision: 0.9802 - recall: 0.9796 - f1score: 0.9799 - val_loss: 2.3401 - val_acc: 0.6228 - val_auc: 0.9821 - val_precision: 0.6248 - val_recall: 0.6205 - val_f1score: 0.6226\n",
      "Epoch 36/100\n",
      "150/150 [==============================] - 81s 542ms/step - loss: 0.0288 - acc: 0.9895 - auc: 0.9823 - precision: 0.9897 - recall: 0.9894 - f1score: 0.9895 - val_loss: 2.0594 - val_acc: 0.6473 - val_auc: 0.9824 - val_precision: 0.6497 - val_recall: 0.6461 - val_f1score: 0.6479\n",
      "Epoch 37/100\n",
      "150/150 [==============================] - 81s 538ms/step - loss: 0.0228 - acc: 0.9910 - auc: 0.9826 - precision: 0.9913 - recall: 0.9910 - f1score: 0.9912 - val_loss: 2.6622 - val_acc: 0.6193 - val_auc: 0.9827 - val_precision: 0.6201 - val_recall: 0.6182 - val_f1score: 0.6191\n",
      "Epoch 38/100\n",
      "150/150 [==============================] - 80s 537ms/step - loss: 0.0318 - acc: 0.9889 - auc: 0.9828 - precision: 0.9889 - recall: 0.9886 - f1score: 0.9888 - val_loss: 2.2887 - val_acc: 0.6228 - val_auc: 0.9829 - val_precision: 0.6255 - val_recall: 0.6205 - val_f1score: 0.6230\n",
      "Epoch 39/100\n",
      "150/150 [==============================] - 81s 542ms/step - loss: 0.0486 - acc: 0.9818 - auc: 0.9830 - precision: 0.9821 - recall: 0.9816 - f1score: 0.9819 - val_loss: 2.1072 - val_acc: 0.6077 - val_auc: 0.9831 - val_precision: 0.6105 - val_recall: 0.6054 - val_f1score: 0.6079\n",
      "Epoch 40/100\n",
      "150/150 [==============================] - 81s 538ms/step - loss: 0.0313 - acc: 0.9888 - auc: 0.9832 - precision: 0.9889 - recall: 0.9887 - f1score: 0.9888 - val_loss: 2.1982 - val_acc: 0.6461 - val_auc: 0.9833 - val_precision: 0.6486 - val_recall: 0.6438 - val_f1score: 0.6462\n",
      "Epoch 41/100\n",
      "150/150 [==============================] - 81s 539ms/step - loss: 0.0236 - acc: 0.9914 - auc: 0.9834 - precision: 0.9915 - recall: 0.9914 - f1score: 0.9915 - val_loss: 2.4768 - val_acc: 0.6263 - val_auc: 0.9835 - val_precision: 0.6262 - val_recall: 0.6228 - val_f1score: 0.6245\n",
      "Epoch 42/100\n",
      "150/150 [==============================] - 81s 541ms/step - loss: 0.0336 - acc: 0.9877 - auc: 0.9836 - precision: 0.9878 - recall: 0.9874 - f1score: 0.9876 - val_loss: 2.3724 - val_acc: 0.6356 - val_auc: 0.9836 - val_precision: 0.6373 - val_recall: 0.6356 - val_f1score: 0.6364\n",
      "Epoch 43/100\n",
      "150/150 [==============================] - 81s 538ms/step - loss: 0.0418 - acc: 0.9844 - auc: 0.9837 - precision: 0.9851 - recall: 0.9844 - f1score: 0.9847 - val_loss: 2.2174 - val_acc: 0.6298 - val_auc: 0.9838 - val_precision: 0.6320 - val_recall: 0.6298 - val_f1score: 0.6309\n",
      "Epoch 44/100\n",
      "150/150 [==============================] - 81s 538ms/step - loss: 0.0252 - acc: 0.9903 - auc: 0.9839 - precision: 0.9903 - recall: 0.9902 - f1score: 0.9903 - val_loss: 2.1332 - val_acc: 0.6566 - val_auc: 0.9840 - val_precision: 0.6566 - val_recall: 0.6566 - val_f1score: 0.6566\n",
      "Epoch 45/100\n",
      "150/150 [==============================] - 81s 542ms/step - loss: 0.0209 - acc: 0.9934 - auc: 0.9841 - precision: 0.9936 - recall: 0.9932 - f1score: 0.9934 - val_loss: 2.0821 - val_acc: 0.6356 - val_auc: 0.9842 - val_precision: 0.6334 - val_recall: 0.6263 - val_f1score: 0.6298\n",
      "Epoch 46/100\n",
      "150/150 [==============================] - 81s 537ms/step - loss: 0.0190 - acc: 0.9925 - auc: 0.9843 - precision: 0.9926 - recall: 0.9924 - f1score: 0.9925 - val_loss: 2.3652 - val_acc: 0.6228 - val_auc: 0.9843 - val_precision: 0.6231 - val_recall: 0.6217 - val_f1score: 0.6224\n",
      "Epoch 47/100\n",
      "150/150 [==============================] - 81s 539ms/step - loss: 0.0428 - acc: 0.9845 - auc: 0.9844 - precision: 0.9849 - recall: 0.9842 - f1score: 0.9846 - val_loss: 1.9695 - val_acc: 0.6531 - val_auc: 0.9845 - val_precision: 0.6525 - val_recall: 0.6496 - val_f1score: 0.6511\n",
      "Epoch 48/100\n",
      "150/150 [==============================] - 81s 543ms/step - loss: 0.0283 - acc: 0.9905 - auc: 0.9846 - precision: 0.9905 - recall: 0.9905 - f1score: 0.9905 - val_loss: 2.0829 - val_acc: 0.6112 - val_auc: 0.9846 - val_precision: 0.6133 - val_recall: 0.6100 - val_f1score: 0.6116\n",
      "Epoch 49/100\n",
      "150/150 [==============================] - 81s 538ms/step - loss: 0.0333 - acc: 0.9874 - auc: 0.9847 - precision: 0.9874 - recall: 0.9874 - f1score: 0.9874 - val_loss: 1.9760 - val_acc: 0.6286 - val_auc: 0.9848 - val_precision: 0.6302 - val_recall: 0.6286 - val_f1score: 0.6294\n",
      "Epoch 50/100\n",
      "150/150 [==============================] - 81s 540ms/step - loss: 0.0264 - acc: 0.9921 - auc: 0.9849 - precision: 0.9922 - recall: 0.9921 - f1score: 0.9921 - val_loss: 2.0564 - val_acc: 0.6461 - val_auc: 0.9849 - val_precision: 0.6483 - val_recall: 0.6461 - val_f1score: 0.6472\n",
      "Epoch 51/100\n",
      "150/150 [==============================] - 82s 544ms/step - loss: 0.0147 - acc: 0.9952 - auc: 0.9850 - precision: 0.9952 - recall: 0.9952 - f1score: 0.9952 - val_loss: 2.2201 - val_acc: 0.6461 - val_auc: 0.9850 - val_precision: 0.6484 - val_recall: 0.6461 - val_f1score: 0.6472\n",
      "Epoch 52/100\n",
      "150/150 [==============================] - 81s 541ms/step - loss: 0.0203 - acc: 0.9935 - auc: 0.9851 - precision: 0.9935 - recall: 0.9935 - f1score: 0.9935 - val_loss: 2.4338 - val_acc: 0.6298 - val_auc: 0.9851 - val_precision: 0.6314 - val_recall: 0.6298 - val_f1score: 0.6306\n",
      "Epoch 53/100\n",
      "150/150 [==============================] - 81s 539ms/step - loss: 0.0271 - acc: 0.9903 - auc: 0.9852 - precision: 0.9904 - recall: 0.9903 - f1score: 0.9903 - val_loss: 2.4188 - val_acc: 0.6310 - val_auc: 0.9852 - val_precision: 0.6312 - val_recall: 0.6298 - val_f1score: 0.6305\n",
      "Epoch 54/100\n",
      "150/150 [==============================] - 81s 538ms/step - loss: 0.0375 - acc: 0.9870 - auc: 0.9853 - precision: 0.9872 - recall: 0.9868 - f1score: 0.9870 - val_loss: 2.1301 - val_acc: 0.6380 - val_auc: 0.9853 - val_precision: 0.6391 - val_recall: 0.6368 - val_f1score: 0.6379\n",
      "Epoch 55/100\n",
      "150/150 [==============================] - 82s 545ms/step - loss: 0.0107 - acc: 0.9972 - auc: 0.9854 - precision: 0.9972 - recall: 0.9969 - f1score: 0.9970 - val_loss: 2.3595 - val_acc: 0.6414 - val_auc: 0.9854 - val_precision: 0.6429 - val_recall: 0.6391 - val_f1score: 0.6410\n",
      "Epoch 56/100\n",
      "150/150 [==============================] - 81s 540ms/step - loss: 0.0260 - acc: 0.9909 - auc: 0.9855 - precision: 0.9912 - recall: 0.9906 - f1score: 0.9909 - val_loss: 2.0511 - val_acc: 0.6158 - val_auc: 0.9855 - val_precision: 0.6179 - val_recall: 0.6158 - val_f1score: 0.6169\n",
      "Epoch 57/100\n"
     ]
    },
    {
     "name": "stdout",
     "output_type": "stream",
     "text": [
      "150/150 [==============================] - 81s 540ms/step - loss: 0.0200 - acc: 0.9926 - auc: 0.9856 - precision: 0.9927 - recall: 0.9923 - f1score: 0.9925 - val_loss: 2.2294 - val_acc: 0.6414 - val_auc: 0.9856 - val_precision: 0.6432 - val_recall: 0.6403 - val_f1score: 0.6417\n",
      "Epoch 58/100\n",
      "150/150 [==============================] - 81s 543ms/step - loss: 0.0233 - acc: 0.9920 - auc: 0.9857 - precision: 0.9923 - recall: 0.9919 - f1score: 0.9921 - val_loss: 2.7042 - val_acc: 0.5949 - val_auc: 0.9857 - val_precision: 0.5943 - val_recall: 0.5914 - val_f1score: 0.5928\n",
      "Epoch 59/100\n",
      "150/150 [==============================] - 81s 541ms/step - loss: 0.0553 - acc: 0.9794 - auc: 0.9857 - precision: 0.9794 - recall: 0.9789 - f1score: 0.9792 - val_loss: 2.3176 - val_acc: 0.5960 - val_auc: 0.9857 - val_precision: 0.5969 - val_recall: 0.5949 - val_f1score: 0.5959\n",
      "Epoch 60/100\n",
      "150/150 [==============================] - 81s 542ms/step - loss: 0.0166 - acc: 0.9943 - auc: 0.9857 - precision: 0.9943 - recall: 0.9942 - f1score: 0.9943 - val_loss: 2.3123 - val_acc: 0.6356 - val_auc: 0.9857 - val_precision: 0.6392 - val_recall: 0.6356 - val_f1score: 0.6374\n",
      "Epoch 61/100\n",
      "150/150 [==============================] - 81s 543ms/step - loss: 0.0129 - acc: 0.9951 - auc: 0.9858 - precision: 0.9952 - recall: 0.9949 - f1score: 0.9950 - val_loss: 2.3817 - val_acc: 0.6577 - val_auc: 0.9858 - val_precision: 0.6596 - val_recall: 0.6566 - val_f1score: 0.6581\n",
      "Epoch 62/100\n",
      "150/150 [==============================] - 81s 541ms/step - loss: 0.0262 - acc: 0.9905 - auc: 0.9859 - precision: 0.9905 - recall: 0.9904 - f1score: 0.9904 - val_loss: 2.1204 - val_acc: 0.6240 - val_auc: 0.9859 - val_precision: 0.6243 - val_recall: 0.6228 - val_f1score: 0.6235\n",
      "Epoch 63/100\n",
      "150/150 [==============================] - 81s 541ms/step - loss: 0.0321 - acc: 0.9900 - auc: 0.9859 - precision: 0.9901 - recall: 0.9898 - f1score: 0.9899 - val_loss: 2.0356 - val_acc: 0.6391 - val_auc: 0.9859 - val_precision: 0.6400 - val_recall: 0.6380 - val_f1score: 0.6390\n",
      "Epoch 64/100\n",
      "150/150 [==============================] - 82s 545ms/step - loss: 0.0260 - acc: 0.9928 - auc: 0.9860 - precision: 0.9929 - recall: 0.9925 - f1score: 0.9927 - val_loss: 2.3165 - val_acc: 0.6112 - val_auc: 0.9860 - val_precision: 0.6129 - val_recall: 0.6112 - val_f1score: 0.6120\n",
      "Epoch 65/100\n",
      "150/150 [==============================] - 81s 539ms/step - loss: 0.0173 - acc: 0.9941 - auc: 0.9860 - precision: 0.9942 - recall: 0.9941 - f1score: 0.9941 - val_loss: 2.2577 - val_acc: 0.6147 - val_auc: 0.9861 - val_precision: 0.6156 - val_recall: 0.6135 - val_f1score: 0.6146\n",
      "Epoch 66/100\n",
      "150/150 [==============================] - 81s 542ms/step - loss: 0.0239 - acc: 0.9921 - auc: 0.9861 - precision: 0.9921 - recall: 0.9920 - f1score: 0.9920 - val_loss: 2.0282 - val_acc: 0.6554 - val_auc: 0.9861 - val_precision: 0.6558 - val_recall: 0.6542 - val_f1score: 0.6550\n",
      "Epoch 67/100\n",
      "150/150 [==============================] - 81s 541ms/step - loss: 0.0095 - acc: 0.9962 - auc: 0.9862 - precision: 0.9962 - recall: 0.9962 - f1score: 0.9962 - val_loss: 2.3440 - val_acc: 0.6461 - val_auc: 0.9862 - val_precision: 0.6461 - val_recall: 0.6461 - val_f1score: 0.6461\n",
      "Epoch 68/100\n",
      "150/150 [==============================] - 82s 544ms/step - loss: 0.0083 - acc: 0.9974 - auc: 0.9862 - precision: 0.9974 - recall: 0.9974 - f1score: 0.9974 - val_loss: 2.4124 - val_acc: 0.6275 - val_auc: 0.9862 - val_precision: 0.6296 - val_recall: 0.6251 - val_f1score: 0.6273\n",
      "Epoch 69/100\n",
      "150/150 [==============================] - 81s 537ms/step - loss: 0.0442 - acc: 0.9877 - auc: 0.9863 - precision: 0.9878 - recall: 0.9875 - f1score: 0.9877 - val_loss: 2.0010 - val_acc: 0.6205 - val_auc: 0.9863 - val_precision: 0.6228 - val_recall: 0.6205 - val_f1score: 0.6216\n",
      "Epoch 70/100\n",
      "150/150 [==============================] - 81s 539ms/step - loss: 0.0113 - acc: 0.9968 - auc: 0.9863 - precision: 0.9968 - recall: 0.9966 - f1score: 0.9967 - val_loss: 2.2664 - val_acc: 0.6554 - val_auc: 0.9864 - val_precision: 0.6571 - val_recall: 0.6542 - val_f1score: 0.6557\n",
      "Epoch 71/100\n",
      "150/150 [==============================] - 81s 541ms/step - loss: 0.0371 - acc: 0.9864 - auc: 0.9864 - precision: 0.9866 - recall: 0.9862 - f1score: 0.9864 - val_loss: 2.0100 - val_acc: 0.6380 - val_auc: 0.9864 - val_precision: 0.6384 - val_recall: 0.6368 - val_f1score: 0.6376\n",
      "Epoch 72/100\n",
      "150/150 [==============================] - 81s 539ms/step - loss: 0.0237 - acc: 0.9921 - auc: 0.9864 - precision: 0.9922 - recall: 0.9921 - f1score: 0.9922 - val_loss: 2.0690 - val_acc: 0.6310 - val_auc: 0.9864 - val_precision: 0.6348 - val_recall: 0.6310 - val_f1score: 0.6329\n",
      "Epoch 73/100\n",
      "150/150 [==============================] - 81s 539ms/step - loss: 0.0089 - acc: 0.9968 - auc: 0.9865 - precision: 0.9968 - recall: 0.9968 - f1score: 0.9968 - val_loss: 2.2481 - val_acc: 0.6321 - val_auc: 0.9865 - val_precision: 0.6334 - val_recall: 0.6321 - val_f1score: 0.6328\n",
      "Epoch 74/100\n",
      "150/150 [==============================] - 81s 541ms/step - loss: 0.0025 - acc: 0.9996 - auc: 0.9865 - precision: 0.9996 - recall: 0.9996 - f1score: 0.9996 - val_loss: 2.4671 - val_acc: 0.6356 - val_auc: 0.9866 - val_precision: 0.6356 - val_recall: 0.6356 - val_f1score: 0.6356\n",
      "Epoch 75/100\n",
      "150/150 [==============================] - 81s 537ms/step - loss: 0.0048 - acc: 0.9983 - auc: 0.9866 - precision: 0.9983 - recall: 0.9983 - f1score: 0.9983 - val_loss: 2.8675 - val_acc: 0.6345 - val_auc: 0.9866 - val_precision: 0.6378 - val_recall: 0.6333 - val_f1score: 0.6355\n",
      "Epoch 76/100\n",
      "150/150 [==============================] - 81s 538ms/step - loss: 0.0379 - acc: 0.9877 - auc: 0.9866 - precision: 0.9877 - recall: 0.9876 - f1score: 0.9877 - val_loss: 2.1493 - val_acc: 0.6240 - val_auc: 0.9866 - val_precision: 0.6262 - val_recall: 0.6240 - val_f1score: 0.6251\n",
      "Epoch 77/100\n",
      "150/150 [==============================] - 81s 540ms/step - loss: 0.0169 - acc: 0.9950 - auc: 0.9866 - precision: 0.9950 - recall: 0.9949 - f1score: 0.9949 - val_loss: 2.2942 - val_acc: 0.6275 - val_auc: 0.9866 - val_precision: 0.6278 - val_recall: 0.6263 - val_f1score: 0.6271\n",
      "Epoch 78/100\n",
      "150/150 [==============================] - 81s 537ms/step - loss: 0.0108 - acc: 0.9967 - auc: 0.9867 - precision: 0.9968 - recall: 0.9967 - f1score: 0.9967 - val_loss: 2.3626 - val_acc: 0.6170 - val_auc: 0.9867 - val_precision: 0.6181 - val_recall: 0.6158 - val_f1score: 0.6170\n",
      "Epoch 79/100\n",
      "150/150 [==============================] - 80s 536ms/step - loss: 0.0228 - acc: 0.9923 - auc: 0.9867 - precision: 0.9923 - recall: 0.9922 - f1score: 0.9923 - val_loss: 1.9445 - val_acc: 0.6240 - val_auc: 0.9867 - val_precision: 0.6279 - val_recall: 0.6228 - val_f1score: 0.6253\n",
      "Epoch 80/100\n",
      "150/150 [==============================] - 81s 539ms/step - loss: 0.0151 - acc: 0.9946 - auc: 0.9868 - precision: 0.9946 - recall: 0.9946 - f1score: 0.9946 - val_loss: 2.4322 - val_acc: 0.6380 - val_auc: 0.9868 - val_precision: 0.6388 - val_recall: 0.6368 - val_f1score: 0.6378\n",
      "Epoch 81/100\n",
      "150/150 [==============================] - 80s 534ms/step - loss: 0.0116 - acc: 0.9962 - auc: 0.9868 - precision: 0.9965 - recall: 0.9961 - f1score: 0.9963 - val_loss: 2.6766 - val_acc: 0.6589 - val_auc: 0.9868 - val_precision: 0.6604 - val_recall: 0.6589 - val_f1score: 0.6596\n",
      "Epoch 82/100\n",
      "150/150 [==============================] - 81s 538ms/step - loss: 0.0417 - acc: 0.9855 - auc: 0.9868 - precision: 0.9859 - recall: 0.9853 - f1score: 0.9856 - val_loss: 2.0680 - val_acc: 0.6403 - val_auc: 0.9868 - val_precision: 0.6398 - val_recall: 0.6391 - val_f1score: 0.6394\n",
      "Epoch 83/100\n",
      "150/150 [==============================] - 80s 537ms/step - loss: 0.0062 - acc: 0.9978 - auc: 0.9868 - precision: 0.9978 - recall: 0.9977 - f1score: 0.9978 - val_loss: 2.4849 - val_acc: 0.6205 - val_auc: 0.9868 - val_precision: 0.6235 - val_recall: 0.6205 - val_f1score: 0.6220\n",
      "Epoch 84/100\n",
      "150/150 [==============================] - 81s 542ms/step - loss: 0.0090 - acc: 0.9968 - auc: 0.9869 - precision: 0.9969 - recall: 0.9968 - f1score: 0.9968 - val_loss: 2.6539 - val_acc: 0.6391 - val_auc: 0.9869 - val_precision: 0.6387 - val_recall: 0.6380 - val_f1score: 0.6383\n",
      "Epoch 85/100\n"
     ]
    },
    {
     "name": "stdout",
     "output_type": "stream",
     "text": [
      "150/150 [==============================] - 81s 537ms/step - loss: 0.0141 - acc: 0.9958 - auc: 0.9869 - precision: 0.9958 - recall: 0.9957 - f1score: 0.9958 - val_loss: 2.3104 - val_acc: 0.5984 - val_auc: 0.9869 - val_precision: 0.6009 - val_recall: 0.5972 - val_f1score: 0.5990\n",
      "Epoch 86/100\n",
      "150/150 [==============================] - 81s 539ms/step - loss: 0.0225 - acc: 0.9928 - auc: 0.9869 - precision: 0.9929 - recall: 0.9928 - f1score: 0.9928 - val_loss: 2.4096 - val_acc: 0.6263 - val_auc: 0.9869 - val_precision: 0.6258 - val_recall: 0.6251 - val_f1score: 0.6255\n",
      "Epoch 87/100\n",
      "150/150 [==============================] - 81s 540ms/step - loss: 0.0121 - acc: 0.9964 - auc: 0.9869 - precision: 0.9964 - recall: 0.9962 - f1score: 0.9963 - val_loss: 2.4744 - val_acc: 0.6345 - val_auc: 0.9869 - val_precision: 0.6345 - val_recall: 0.6345 - val_f1score: 0.6345\n",
      "Epoch 88/100\n",
      "150/150 [==============================] - 81s 539ms/step - loss: 0.0032 - acc: 0.9991 - auc: 0.9869 - precision: 0.9991 - recall: 0.9991 - f1score: 0.9991 - val_loss: 2.7829 - val_acc: 0.6380 - val_auc: 0.9869 - val_precision: 0.6386 - val_recall: 0.6380 - val_f1score: 0.6383\n",
      "Epoch 89/100\n",
      "150/150 [==============================] - 81s 539ms/step - loss: 0.0316 - acc: 0.9896 - auc: 0.9869 - precision: 0.9897 - recall: 0.9895 - f1score: 0.9896 - val_loss: 2.1041 - val_acc: 0.6228 - val_auc: 0.9869 - val_precision: 0.6230 - val_recall: 0.6193 - val_f1score: 0.6211\n",
      "Epoch 90/100\n",
      "150/150 [==============================] - 82s 544ms/step - loss: 0.0342 - acc: 0.9882 - auc: 0.9870 - precision: 0.9885 - recall: 0.9881 - f1score: 0.9883 - val_loss: 2.1393 - val_acc: 0.6368 - val_auc: 0.9870 - val_precision: 0.6359 - val_recall: 0.6345 - val_f1score: 0.6352\n",
      "Epoch 91/100\n",
      "150/150 [==============================] - 81s 538ms/step - loss: 0.0195 - acc: 0.9922 - auc: 0.9870 - precision: 0.9924 - recall: 0.9922 - f1score: 0.9923 - val_loss: 2.1622 - val_acc: 0.6321 - val_auc: 0.9870 - val_precision: 0.6324 - val_recall: 0.6286 - val_f1score: 0.6305\n",
      "Epoch 92/100\n",
      "150/150 [==============================] - 81s 538ms/step - loss: 0.0120 - acc: 0.9966 - auc: 0.9870 - precision: 0.9966 - recall: 0.9966 - f1score: 0.9966 - val_loss: 2.1423 - val_acc: 0.6461 - val_auc: 0.9870 - val_precision: 0.6457 - val_recall: 0.6449 - val_f1score: 0.6453\n",
      "Epoch 93/100\n",
      "150/150 [==============================] - 81s 542ms/step - loss: 0.0120 - acc: 0.9957 - auc: 0.9871 - precision: 0.9957 - recall: 0.9956 - f1score: 0.9956 - val_loss: 2.3283 - val_acc: 0.6403 - val_auc: 0.9871 - val_precision: 0.6411 - val_recall: 0.6368 - val_f1score: 0.6389\n",
      "Epoch 94/100\n",
      "150/150 [==============================] - 81s 539ms/step - loss: 0.0088 - acc: 0.9968 - auc: 0.9871 - precision: 0.9968 - recall: 0.9967 - f1score: 0.9967 - val_loss: 2.6676 - val_acc: 0.6251 - val_auc: 0.9871 - val_precision: 0.6254 - val_recall: 0.6240 - val_f1score: 0.6247\n",
      "Epoch 95/100\n",
      "150/150 [==============================] - 81s 538ms/step - loss: 0.0136 - acc: 0.9949 - auc: 0.9871 - precision: 0.9949 - recall: 0.9949 - f1score: 0.9949 - val_loss: 2.6721 - val_acc: 0.6123 - val_auc: 0.9871 - val_precision: 0.6131 - val_recall: 0.6123 - val_f1score: 0.6127\n",
      "Epoch 96/100\n",
      "150/150 [==============================] - 81s 543ms/step - loss: 0.0296 - acc: 0.9897 - auc: 0.9871 - precision: 0.9898 - recall: 0.9895 - f1score: 0.9896 - val_loss: 2.4095 - val_acc: 0.6298 - val_auc: 0.9871 - val_precision: 0.6301 - val_recall: 0.6286 - val_f1score: 0.6293\n",
      "Epoch 97/100\n",
      "150/150 [==============================] - 81s 539ms/step - loss: 0.0165 - acc: 0.9945 - auc: 0.9871 - precision: 0.9945 - recall: 0.9945 - f1score: 0.9945 - val_loss: 2.2136 - val_acc: 0.6298 - val_auc: 0.9871 - val_precision: 0.6300 - val_recall: 0.6263 - val_f1score: 0.6282\n",
      "Epoch 98/100\n",
      "150/150 [==============================] - 81s 538ms/step - loss: 0.0051 - acc: 0.9989 - auc: 0.9871 - precision: 0.9989 - recall: 0.9987 - f1score: 0.9988 - val_loss: 2.3943 - val_acc: 0.6298 - val_auc: 0.9871 - val_precision: 0.6291 - val_recall: 0.6275 - val_f1score: 0.6283\n",
      "Epoch 99/100\n",
      "150/150 [==============================] - 81s 538ms/step - loss: 0.0119 - acc: 0.9960 - auc: 0.9872 - precision: 0.9961 - recall: 0.9959 - f1score: 0.9960 - val_loss: 2.6321 - val_acc: 0.6368 - val_auc: 0.9871 - val_precision: 0.6368 - val_recall: 0.6368 - val_f1score: 0.6368\n",
      "Epoch 100/100\n",
      "150/150 [==============================] - 81s 540ms/step - loss: 0.0076 - acc: 0.9971 - auc: 0.9872 - precision: 0.9971 - recall: 0.9971 - f1score: 0.9971 - val_loss: 2.5685 - val_acc: 0.6391 - val_auc: 0.9872 - val_precision: 0.6390 - val_recall: 0.6368 - val_f1score: 0.6379\n"
     ]
    }
   ],
   "source": [
    "history = additional_model.fit_generator(dgf, \n",
    "            steps_per_epoch=150, \n",
    "            epochs=100, \n",
    "            validation_data=(X_val,y_val), \n",
    "            validation_steps=16, \n",
    "            callbacks=[checkpoint])"
   ]
  },
  {
   "cell_type": "code",
   "execution_count": 13,
   "metadata": {},
   "outputs": [
    {
     "data": {
      "image/png": "[encoded data removed]",
      "text/plain": [
       "<Figure size 432x288 with 1 Axes>"
      ]
     },
     "metadata": {
      "needs_background": "light"
     },
     "output_type": "display_data"
    },
    {
     "data": {
      "image/png": "[encoded data removed]",
      "text/plain": [
       "<Figure size 432x288 with 1 Axes>"
      ]
     },
     "metadata": {
      "needs_background": "light"
     },
     "output_type": "display_data"
    }
   ],
   "source": [
    "acc = history.history['acc']\n",
    "val_acc = history.history['val_acc']\n",
    "loss = history.history['loss']\n",
    "val_loss = history.history['val_loss']\n",
    " \n",
    "epochs = range(1, len(acc) + 1)\n",
    " \n",
    "plt.plot(epochs, acc, 'bo', label='Training acc')\n",
    "plt.plot(epochs, val_acc, 'r', label='Validation acc')\n",
    "plt.title('Accuracy')\n",
    "plt.legend()\n",
    "plt.figure()\n",
    " \n",
    "plt.plot(epochs, loss, 'bo', label='Training loss')\n",
    "plt.plot(epochs, val_loss, 'r', label='Validation loss')\n",
    "plt.title('Loss')\n",
    "plt.legend()\n",
    " \n",
    "plt.show()"
   ]
  },
  {
   "cell_type": "code",
   "execution_count": 14,
   "metadata": {},
   "outputs": [],
   "source": [
    "X_test=np.load('X_test.npy')\n",
    "y_test=np.load('y_test.npy')"
   ]
  },
  {
   "cell_type": "code",
   "execution_count": 15,
   "metadata": {},
   "outputs": [
    {
     "name": "stdout",
     "output_type": "stream",
     "text": [
      "704/704 [==============================] - 2s 3ms/step\n",
      "loss: 12.409, accuracy: 0.230, auc: 0.987, precision: 0.230, recall: 0.230, f1score: 0.230\n"
     ]
    }
   ],
   "source": [
    "_loss, _acc, _auc, _precision, _recall, _f1score = additional_model.evaluate(X_test, y_test, batch_size=64)\n",
    "print('loss: {:.3f}, accuracy: {:.3f}, auc: {:.3f}, precision: {:.3f}, recall: {:.3f}, f1score: {:.3f}'.format(_loss, _acc, _auc, _precision, _recall, _f1score))"
   ]
  },
  {
   "cell_type": "code",
   "execution_count": 16,
   "metadata": {},
   "outputs": [
    {
     "name": "stdout",
     "output_type": "stream",
     "text": [
      "859/859 [==============================] - 2s 3ms/step\n",
      "loss: 2.569, accuracy: 0.639, auc: 0.987, precision: 0.639, recall: 0.637, f1score: 0.638\n"
     ]
    }
   ],
   "source": [
    "_loss, _acc, _auc, _precision, _recall, _f1score = additional_model.evaluate(X_val, y_val, batch_size=64)\n",
    "print('loss: {:.3f}, accuracy: {:.3f}, auc: {:.3f}, precision: {:.3f}, recall: {:.3f}, f1score: {:.3f}'.format(_loss, _acc, _auc, _precision, _recall, _f1score))"
   ]
  },
  {
   "cell_type": "code",
   "execution_count": null,
   "metadata": {},
   "outputs": [],
   "source": [
    "myvgg.save('VGG16_Aug_1.h5')"
   ]
  },
  {
   "cell_type": "code",
   "execution_count": null,
   "metadata": {},
   "outputs": [],
   "source": []
  }
 ],
 "metadata": {
  "kernelspec": {
   "display_name": "Python 3",
   "language": "python",
   "name": "python3"
  },
  "language_info": {
   "codemirror_mode": {
    "name": "ipython",
    "version": 3
   },
   "file_extension": ".py",
   "mimetype": "text/x-python",
   "name": "python",
   "nbconvert_exporter": "python",
   "pygments_lexer": "ipython3",
   "version": "3.7.4"
  }
 },
 "nbformat": 4,
 "nbformat_minor": 2
}
