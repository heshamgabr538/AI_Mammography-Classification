{
 "cells": [
  {
   "cell_type": "code",
   "execution_count": 1,
   "metadata": {},
   "outputs": [
    {
     "data": {
      "text/plain": [
       "'C:\\\\Users\\\\Owner2\\\\Desktop\\\\G팔로미_vuno'"
      ]
     },
     "execution_count": 1,
     "metadata": {},
     "output_type": "execute_result"
    }
   ],
   "source": [
    "import os\n",
    "import pandas as pd\n",
    "from matplotlib import pyplot as plt\n",
    "import numpy as np\n",
    "import cv2\n",
    "\n",
    "#data path 수정\n",
    "os.chdir(\"C:\\\\Users\\\\Owner2\\\\Desktop\\\\G팔로미_vuno\")\n",
    "os.getcwd()"
   ]
  },
  {
   "cell_type": "code",
   "execution_count": 2,
   "metadata": {},
   "outputs": [],
   "source": [
    "X=np.load('data_X.npy')\n",
    "y=np.load('data_y.npy')"
   ]
  },
  {
   "cell_type": "code",
   "execution_count": 3,
   "metadata": {},
   "outputs": [],
   "source": [
    "#train, validation set 분리\n",
    "from sklearn.model_selection import train_test_split\n",
    "\n",
    "X_train, X_val, y_train, y_val = train_test_split(X,y,test_size=0.3)"
   ]
  },
  {
   "cell_type": "code",
   "execution_count": 4,
   "metadata": {},
   "outputs": [
    {
     "name": "stderr",
     "output_type": "stream",
     "text": [
      "Using TensorFlow backend.\n"
     ]
    }
   ],
   "source": [
    "from keras.preprocessing.image import ImageDataGenerator\n",
    "\n",
    "datagen = ImageDataGenerator(\n",
    "    #featurewise_center=True, #center 중심 유지\n",
    "    #featurewise_std_normalization=True, #normalization\n",
    "    rotation_range=25.0,\n",
    "    #width_shift_range=0.2,\n",
    "    #height_shift_range=0.2,\n",
    "    #brightness_range=[0.2,1.0],\n",
    "    zoom_range=[0.8,1.2],\n",
    "    horizontal_flip=True) #수평방향 뒤집기\n",
    "\n",
    "datagen.fit(X_train)\n",
    "\n",
    "dgf=datagen.flow(X_train,y_train,batch_size=32)"
   ]
  },
  {
   "cell_type": "code",
   "execution_count": 5,
   "metadata": {},
   "outputs": [],
   "source": [
    "from keras import models, layers\n",
    "from keras import Input\n",
    "from keras.applications import VGG16\n",
    "from keras.models import Model, load_model\n",
    "from keras.preprocessing.image import ImageDataGenerator\n",
    "from keras import optimizers, initializers, regularizers, metrics\n",
    "from keras.callbacks import ModelCheckpoint, EarlyStopping\n",
    "from keras.layers import BatchNormalization, Conv2D, Activation, Dense, GlobalAveragePooling2D, MaxPooling2D, ZeroPadding2D, Add\n",
    "\n",
    "model = VGG16(weights='imagenet', include_top=False, input_shape=(224, 224, 3))\n",
    "model.trainable = True"
   ]
  },
  {
   "cell_type": "code",
   "execution_count": 6,
   "metadata": {},
   "outputs": [
    {
     "name": "stdout",
     "output_type": "stream",
     "text": [
      "Model: \"sequential_1\"\n",
      "_________________________________________________________________\n",
      "Layer (type)                 Output Shape              Param #   \n",
      "=================================================================\n",
      "vgg16 (Model)                (None, 7, 7, 512)         14714688  \n",
      "_________________________________________________________________\n",
      "flatten_1 (Flatten)          (None, 25088)             0         \n",
      "_________________________________________________________________\n",
      "dropout_1 (Dropout)          (None, 25088)             0         \n",
      "_________________________________________________________________\n",
      "dense_1 (Dense)              (None, 4)                 100356    \n",
      "=================================================================\n",
      "Total params: 14,815,044\n",
      "Trainable params: 14,815,044\n",
      "Non-trainable params: 0\n",
      "_________________________________________________________________\n"
     ]
    }
   ],
   "source": [
    "#customizing my layers\n",
    "additional_model = models.Sequential()\n",
    "additional_model.add(model)\n",
    "additional_model.add(layers.Flatten())\n",
    "additional_model.add(layers.Dropout(0.5))\n",
    "additional_model.add(layers.Dense(4, activation='softmax'))\n",
    "\n",
    "additional_model.summary()"
   ]
  },
  {
   "cell_type": "code",
   "execution_count": 7,
   "metadata": {},
   "outputs": [],
   "source": [
    "def f1score(precision, recall):\n",
    "    _f1score = ( 2 * recall * precision) / (recall + precision)\n",
    "    \n",
    "    # return a single tensor value\n",
    "    return _f1score"
   ]
  },
  {
   "cell_type": "code",
   "execution_count": 8,
   "metadata": {},
   "outputs": [],
   "source": [
    "# checkpoint = ModelCheckpoint(filepath='My_VGG_{epoch:03d}_{val_loss:.7f}.hdf5',monitor='loss', mode='min', save_best_only=True)\n",
    "checkpoint = ModelCheckpoint(filepath='VGG16_transfer learning_2.hdf5', \n",
    "            monitor='loss', \n",
    "            mode='min', \n",
    "            save_best_only=True)"
   ]
  },
  {
   "cell_type": "code",
   "execution_count": 9,
   "metadata": {},
   "outputs": [],
   "source": [
    "import tensorflow as tf\n",
    "\n",
    "additional_model.compile(loss='categorical_crossentropy', \n",
    "              optimizer=optimizers.Adam(lr=2e-5),\n",
    "              metrics=['acc',tf.keras.metrics.AUC(),\n",
    "                      tf.keras.metrics.Precision(),\n",
    "                      tf.keras.metrics.Recall(),f1score])"
   ]
  },
  {
   "cell_type": "code",
   "execution_count": 10,
   "metadata": {},
   "outputs": [
    {
     "name": "stdout",
     "output_type": "stream",
     "text": [
      "Epoch 1/50\n",
      "150/150 [==============================] - 48s 318ms/step - loss: 1.1323 - acc: 0.4809 - auc: 0.7064 - precision: 0.5083 - recall: 0.2981 - f1score: 0.1363 - val_loss: 0.8589 - val_acc: 0.5693 - val_auc: 0.7794 - val_precision: 0.5591 - val_recall: 0.3737 - val_f1score: 0.1552\n",
      "Epoch 2/50\n",
      "150/150 [==============================] - 41s 275ms/step - loss: 0.8687 - acc: 0.5608 - auc: 0.8053 - precision: 0.5765 - recall: 0.4025 - f1score: 0.1578 - val_loss: 0.8290 - val_acc: 0.5495 - val_auc: 0.8226 - val_precision: 0.5876 - val_recall: 0.4263 - val_f1score: 0.1604\n",
      "Epoch 3/50\n",
      "150/150 [==============================] - 43s 285ms/step - loss: 0.7712 - acc: 0.5956 - auc: 0.8336 - precision: 0.5983 - recall: 0.4425 - f1score: 0.1654 - val_loss: 0.7323 - val_acc: 0.5960 - val_auc: 0.8438 - val_precision: 0.6060 - val_recall: 0.4569 - val_f1score: 0.1691\n",
      "Epoch 4/50\n",
      "150/150 [==============================] - 42s 280ms/step - loss: 0.7211 - acc: 0.6186 - auc: 0.8507 - precision: 0.6124 - recall: 0.4700 - f1score: 0.1705 - val_loss: 0.7749 - val_acc: 0.5739 - val_auc: 0.8569 - val_precision: 0.6180 - val_recall: 0.4825 - val_f1score: 0.1663\n",
      "Epoch 5/50\n",
      "150/150 [==============================] - 42s 279ms/step - loss: 0.6873 - acc: 0.6421 - auc: 0.8615 - precision: 0.6231 - recall: 0.4929 - f1score: 0.1737 - val_loss: 0.7184 - val_acc: 0.6088 - val_auc: 0.8661 - val_precision: 0.6276 - val_recall: 0.5030 - val_f1score: 0.1721\n",
      "Epoch 6/50\n",
      "150/150 [==============================] - 44s 291ms/step - loss: 0.6583 - acc: 0.6486 - auc: 0.8698 - precision: 0.6315 - recall: 0.5111 - f1score: 0.1763 - val_loss: 0.7291 - val_acc: 0.6135 - val_auc: 0.8733 - val_precision: 0.6349 - val_recall: 0.5185 - val_f1score: 0.1714\n",
      "Epoch 7/50\n",
      "150/150 [==============================] - 42s 279ms/step - loss: 0.6129 - acc: 0.6845 - auc: 0.8766 - precision: 0.6392 - recall: 0.5265 - f1score: 0.1811 - val_loss: 0.8560 - val_acc: 0.6065 - val_auc: 0.8798 - val_precision: 0.6442 - val_recall: 0.5351 - val_f1score: 0.1668\n",
      "Epoch 8/50\n",
      "150/150 [==============================] - 42s 281ms/step - loss: 0.6008 - acc: 0.6861 - auc: 0.8824 - precision: 0.6481 - recall: 0.5425 - f1score: 0.1824 - val_loss: 0.6926 - val_acc: 0.6240 - val_auc: 0.8849 - val_precision: 0.6512 - val_recall: 0.5487 - val_f1score: 0.1754\n",
      "Epoch 9/50\n",
      "150/150 [==============================] - 42s 279ms/step - loss: 0.5771 - acc: 0.7045 - auc: 0.8874 - precision: 0.6551 - recall: 0.5555 - f1score: 0.1853 - val_loss: 0.7351 - val_acc: 0.6135 - val_auc: 0.8898 - val_precision: 0.6588 - val_recall: 0.5620 - val_f1score: 0.1742\n",
      "Epoch 10/50\n",
      "150/150 [==============================] - 42s 278ms/step - loss: 0.5599 - acc: 0.7062 - auc: 0.8919 - precision: 0.6618 - recall: 0.5676 - f1score: 0.1868 - val_loss: 0.7203 - val_acc: 0.6275 - val_auc: 0.8940 - val_precision: 0.6645 - val_recall: 0.5725 - val_f1score: 0.1753\n",
      "Epoch 11/50\n",
      "150/150 [==============================] - 43s 287ms/step - loss: 0.5367 - acc: 0.7236 - auc: 0.8959 - precision: 0.6672 - recall: 0.5774 - f1score: 0.1895 - val_loss: 0.8620 - val_acc: 0.6170 - val_auc: 0.8977 - val_precision: 0.6703 - val_recall: 0.5826 - val_f1score: 0.1705\n",
      "Epoch 12/50\n",
      "150/150 [==============================] - 42s 279ms/step - loss: 0.5257 - acc: 0.7374 - auc: 0.8993 - precision: 0.6733 - recall: 0.5875 - f1score: 0.1910 - val_loss: 0.6729 - val_acc: 0.6577 - val_auc: 0.9012 - val_precision: 0.6764 - val_recall: 0.5926 - val_f1score: 0.1796\n",
      "Epoch 13/50\n",
      "150/150 [==============================] - 42s 277ms/step - loss: 0.4938 - acc: 0.7539 - auc: 0.9030 - precision: 0.6793 - recall: 0.5972 - f1score: 0.1943 - val_loss: 0.7611 - val_acc: 0.6100 - val_auc: 0.9047 - val_precision: 0.6822 - val_recall: 0.6019 - val_f1score: 0.1741\n",
      "Epoch 14/50\n",
      "150/150 [==============================] - 44s 292ms/step - loss: 0.4736 - acc: 0.7687 - auc: 0.9064 - precision: 0.6851 - recall: 0.6066 - f1score: 0.1968 - val_loss: 0.7314 - val_acc: 0.6426 - val_auc: 0.9080 - val_precision: 0.6881 - val_recall: 0.6112 - val_f1score: 0.1764\n",
      "Epoch 15/50\n",
      "150/150 [==============================] - 42s 280ms/step - loss: 0.4515 - acc: 0.7814 - auc: 0.9097 - precision: 0.6914 - recall: 0.6159 - f1score: 0.1993 - val_loss: 0.6814 - val_acc: 0.6449 - val_auc: 0.9113 - val_precision: 0.6942 - val_recall: 0.6200 - val_f1score: 0.1777\n",
      "Epoch 16/50\n",
      "150/150 [==============================] - 42s 283ms/step - loss: 0.4363 - acc: 0.7932 - auc: 0.9129 - precision: 0.6972 - recall: 0.6243 - f1score: 0.2011 - val_loss: 0.8048 - val_acc: 0.6286 - val_auc: 0.9143 - val_precision: 0.6999 - val_recall: 0.6284 - val_f1score: 0.1740\n",
      "Epoch 17/50\n",
      "150/150 [==============================] - 42s 280ms/step - loss: 0.4062 - acc: 0.8166 - auc: 0.9158 - precision: 0.7031 - recall: 0.6330 - f1score: 0.2047 - val_loss: 0.8733 - val_acc: 0.6217 - val_auc: 0.9172 - val_precision: 0.7062 - val_recall: 0.6373 - val_f1score: 0.1708\n",
      "Epoch 18/50\n",
      "150/150 [==============================] - 42s 281ms/step - loss: 0.3818 - acc: 0.8250 - auc: 0.9187 - precision: 0.7092 - recall: 0.6415 - f1score: 0.2071 - val_loss: 0.8747 - val_acc: 0.6321 - val_auc: 0.9200 - val_precision: 0.7120 - val_recall: 0.6455 - val_f1score: 0.1758\n",
      "Epoch 19/50\n",
      "150/150 [==============================] - 43s 288ms/step - loss: 0.3499 - acc: 0.8428 - auc: 0.9215 - precision: 0.7150 - recall: 0.6499 - f1score: 0.2111 - val_loss: 0.9094 - val_acc: 0.6228 - val_auc: 0.9228 - val_precision: 0.7178 - val_recall: 0.6538 - val_f1score: 0.1716\n",
      "Epoch 20/50\n",
      "150/150 [==============================] - 42s 278ms/step - loss: 0.3222 - acc: 0.8594 - auc: 0.9243 - precision: 0.7210 - recall: 0.6580 - f1score: 0.2145 - val_loss: 0.8751 - val_acc: 0.6438 - val_auc: 0.9257 - val_precision: 0.7239 - val_recall: 0.6621 - val_f1score: 0.1735\n",
      "Epoch 21/50\n",
      "150/150 [==============================] - 42s 278ms/step - loss: 0.3203 - acc: 0.8611 - auc: 0.9270 - precision: 0.7268 - recall: 0.6660 - f1score: 0.2147 - val_loss: 0.9357 - val_acc: 0.6345 - val_auc: 0.9282 - val_precision: 0.7295 - val_recall: 0.6697 - val_f1score: 0.1731\n",
      "Epoch 22/50\n",
      "150/150 [==============================] - 42s 278ms/step - loss: 0.2730 - acc: 0.8813 - auc: 0.9296 - precision: 0.7324 - recall: 0.6736 - f1score: 0.2194 - val_loss: 1.0796 - val_acc: 0.6403 - val_auc: 0.9308 - val_precision: 0.7352 - val_recall: 0.6774 - val_f1score: 0.1725\n",
      "Epoch 23/50\n",
      "150/150 [==============================] - 42s 280ms/step - loss: 0.2666 - acc: 0.8870 - auc: 0.9321 - precision: 0.7381 - recall: 0.6812 - f1score: 0.2206 - val_loss: 0.9680 - val_acc: 0.6333 - val_auc: 0.9332 - val_precision: 0.7407 - val_recall: 0.6847 - val_f1score: 0.1741\n",
      "Epoch 24/50\n",
      "150/150 [==============================] - 43s 285ms/step - loss: 0.2570 - acc: 0.8900 - auc: 0.9344 - precision: 0.7434 - recall: 0.6882 - f1score: 0.2216 - val_loss: 1.0734 - val_acc: 0.6263 - val_auc: 0.9354 - val_precision: 0.7458 - val_recall: 0.6914 - val_f1score: 0.1709\n",
      "Epoch 25/50\n",
      "150/150 [==============================] - 42s 280ms/step - loss: 0.2291 - acc: 0.9063 - auc: 0.9365 - precision: 0.7484 - recall: 0.6947 - f1score: 0.2248 - val_loss: 1.0661 - val_acc: 0.6577 - val_auc: 0.9376 - val_precision: 0.7511 - val_recall: 0.6983 - val_f1score: 0.1746\n",
      "Epoch 26/50\n",
      "150/150 [==============================] - 42s 278ms/step - loss: 0.2348 - acc: 0.9029 - auc: 0.9386 - precision: 0.7536 - recall: 0.7015 - f1score: 0.2248 - val_loss: 1.1233 - val_acc: 0.6426 - val_auc: 0.9396 - val_precision: 0.7558 - val_recall: 0.7046 - val_f1score: 0.1715\n",
      "Epoch 27/50\n",
      "150/150 [==============================] - 43s 289ms/step - loss: 0.2014 - acc: 0.9180 - auc: 0.9406 - precision: 0.7583 - recall: 0.7078 - f1score: 0.2280 - val_loss: 1.2654 - val_acc: 0.6333 - val_auc: 0.9415 - val_precision: 0.7606 - val_recall: 0.7108 - val_f1score: 0.1701\n",
      "Epoch 28/50\n",
      "150/150 [==============================] - 42s 281ms/step - loss: 0.1871 - acc: 0.9260 - auc: 0.9424 - precision: 0.7630 - recall: 0.7138 - f1score: 0.2295 - val_loss: 1.1559 - val_acc: 0.6240 - val_auc: 0.9433 - val_precision: 0.7653 - val_recall: 0.7168 - val_f1score: 0.1703\n",
      "Epoch 29/50\n",
      "150/150 [==============================] - 42s 281ms/step - loss: 0.1672 - acc: 0.9348 - auc: 0.9442 - precision: 0.7676 - recall: 0.7197 - f1score: 0.2315 - val_loss: 1.3057 - val_acc: 0.6380 - val_auc: 0.9451 - val_precision: 0.7699 - val_recall: 0.7226 - val_f1score: 0.1703\n",
      "Epoch 30/50\n",
      "150/150 [==============================] - 43s 286ms/step - loss: 0.1533 - acc: 0.9372 - auc: 0.9459 - precision: 0.7721 - recall: 0.7254 - f1score: nan - val_loss: 1.3623 - val_acc: 0.6333 - val_auc: 0.9467 - val_precision: 0.7743 - val_recall: 0.7282 - val_f1score: 0.1702\n",
      "Epoch 31/50\n",
      "150/150 [==============================] - 44s 292ms/step - loss: 0.1715 - acc: 0.9329 - auc: 0.9475 - precision: 0.7763 - recall: 0.7307 - f1score: 0.2316 - val_loss: 1.1761 - val_acc: 0.6461 - val_auc: 0.9482 - val_precision: 0.7782 - val_recall: 0.7332 - val_f1score: 0.1713\n",
      "Epoch 32/50\n",
      "150/150 [==============================] - 43s 285ms/step - loss: 0.1368 - acc: 0.9445 - auc: 0.9490 - precision: 0.7803 - recall: 0.7359 - f1score: 0.2350 - val_loss: 1.5185 - val_acc: 0.6112 - val_auc: 0.9497 - val_precision: 0.7822 - val_recall: 0.7383 - val_f1score: 0.1646\n",
      "Epoch 33/50\n",
      "150/150 [==============================] - 42s 279ms/step - loss: 0.1416 - acc: 0.9440 - auc: 0.9503 - precision: 0.7841 - recall: 0.7407 - f1score: 0.2347 - val_loss: 1.3963 - val_acc: 0.6368 - val_auc: 0.9510 - val_precision: 0.7859 - val_recall: 0.7430 - val_f1score: 0.1681\n",
      "Epoch 34/50\n",
      "150/150 [==============================] - 42s 277ms/step - loss: 0.1287 - acc: 0.9519 - auc: 0.9516 - precision: 0.7878 - recall: 0.7454 - f1score: 0.2360 - val_loss: 1.2349 - val_acc: 0.6310 - val_auc: 0.9523 - val_precision: 0.7896 - val_recall: 0.7477 - val_f1score: 0.1697\n",
      "Epoch 35/50\n",
      "150/150 [==============================] - 44s 290ms/step - loss: 0.1399 - acc: 0.9454 - auc: 0.9529 - precision: 0.7913 - recall: 0.7499 - f1score: nan - val_loss: 1.2495 - val_acc: 0.6286 - val_auc: 0.9535 - val_precision: 0.7929 - val_recall: 0.7519 - val_f1score: 0.1704\n",
      "Epoch 36/50\n",
      "150/150 [==============================] - 42s 277ms/step - loss: 0.1154 - acc: 0.9535 - auc: 0.9541 - precision: 0.7946 - recall: 0.7541 - f1score: 0.2374 - val_loss: 1.4800 - val_acc: 0.6321 - val_auc: 0.9546 - val_precision: 0.7962 - val_recall: 0.7562 - val_f1score: 0.1675\n",
      "Epoch 37/50\n",
      "150/150 [==============================] - 42s 280ms/step - loss: 0.1066 - acc: 0.9585 - auc: 0.9552 - precision: 0.7978 - recall: 0.7582 - f1score: 0.2385 - val_loss: 1.4622 - val_acc: 0.6380 - val_auc: 0.9557 - val_precision: 0.7994 - val_recall: 0.7603 - val_f1score: 0.1682\n",
      "Epoch 38/50\n",
      "150/150 [==============================] - 41s 276ms/step - loss: 0.1110 - acc: 0.9554 - auc: 0.9562 - precision: 0.8010 - recall: 0.7622 - f1score: nan - val_loss: 1.7328 - val_acc: 0.6240 - val_auc: 0.9567 - val_precision: 0.8024 - val_recall: 0.7640 - val_f1score: nan\n",
      "Epoch 39/50\n",
      "150/150 [==============================] - 41s 276ms/step - loss: 0.0848 - acc: 0.9676 - auc: 0.9572 - precision: 0.8040 - recall: 0.7660 - f1score: nan - val_loss: 1.3477 - val_acc: 0.6496 - val_auc: 0.9577 - val_precision: 0.8055 - val_recall: 0.7679 - val_f1score: nan\n",
      "Epoch 40/50\n",
      "150/150 [==============================] - 43s 285ms/step - loss: 0.0870 - acc: 0.9650 - auc: 0.9582 - precision: 0.8070 - recall: 0.7699 - f1score: nan - val_loss: 1.4708 - val_acc: 0.6321 - val_auc: 0.9587 - val_precision: 0.8084 - val_recall: 0.7716 - val_f1score: nan\n",
      "Epoch 41/50\n",
      "150/150 [==============================] - 42s 277ms/step - loss: 0.0878 - acc: 0.9656 - auc: 0.9591 - precision: 0.8098 - recall: 0.7734 - f1score: nan - val_loss: 1.5474 - val_acc: 0.6391 - val_auc: 0.9595 - val_precision: 0.8112 - val_recall: 0.7751 - val_f1score: nan\n",
      "Epoch 42/50\n",
      "150/150 [==============================] - 41s 275ms/step - loss: 0.0941 - acc: 0.9620 - auc: 0.9600 - precision: 0.8125 - recall: 0.7768 - f1score: nan - val_loss: 1.4103 - val_acc: 0.6391 - val_auc: 0.9603 - val_precision: 0.8137 - val_recall: 0.7784 - val_f1score: nan\n",
      "Epoch 43/50\n",
      "150/150 [==============================] - 42s 277ms/step - loss: 0.0793 - acc: 0.9711 - auc: 0.9608 - precision: 0.8151 - recall: 0.7801 - f1score: nan - val_loss: 1.4868 - val_acc: 0.6310 - val_auc: 0.9612 - val_precision: 0.8163 - val_recall: 0.7817 - val_f1score: 0.1687\n",
      "Epoch 44/50\n",
      "150/150 [==============================] - 41s 275ms/step - loss: 0.0745 - acc: 0.9712 - auc: 0.9616 - precision: 0.8176 - recall: 0.7833 - f1score: nan - val_loss: 1.7300 - val_acc: 0.6182 - val_auc: 0.9619 - val_precision: 0.8188 - val_recall: 0.7848 - val_f1score: nan\n",
      "Epoch 45/50\n",
      "150/150 [==============================] - 42s 282ms/step - loss: 0.0858 - acc: 0.9694 - auc: 0.9623 - precision: 0.8200 - recall: 0.7862 - f1score: nan - val_loss: 1.4495 - val_acc: 0.6321 - val_auc: 0.9626 - val_precision: 0.8211 - val_recall: 0.7876 - val_f1score: nan\n",
      "Epoch 46/50\n",
      "150/150 [==============================] - 42s 277ms/step - loss: 0.0736 - acc: 0.9694 - auc: 0.9629 - precision: 0.8222 - recall: 0.7891 - f1score: nan - val_loss: 1.6932 - val_acc: 0.6333 - val_auc: 0.9632 - val_precision: 0.8233 - val_recall: 0.7905 - val_f1score: nan\n",
      "Epoch 47/50\n",
      "150/150 [==============================] - 42s 282ms/step - loss: 0.0719 - acc: 0.9737 - auc: 0.9636 - precision: 0.8245 - recall: 0.7920 - f1score: nan - val_loss: 1.5237 - val_acc: 0.6368 - val_auc: 0.9639 - val_precision: 0.8255 - val_recall: 0.7933 - val_f1score: nan\n",
      "Epoch 48/50\n",
      "150/150 [==============================] - 43s 286ms/step - loss: 0.0577 - acc: 0.9786 - auc: 0.9642 - precision: 0.8266 - recall: 0.7946 - f1score: nan - val_loss: 1.7713 - val_acc: 0.6508 - val_auc: 0.9645 - val_precision: 0.8277 - val_recall: 0.7960 - val_f1score: nan\n",
      "Epoch 49/50\n",
      "150/150 [==============================] - 41s 275ms/step - loss: 0.0677 - acc: 0.9754 - auc: 0.9648 - precision: 0.8288 - recall: 0.7974 - f1score: nan - val_loss: 1.8294 - val_acc: 0.6275 - val_auc: 0.9650 - val_precision: 0.8298 - val_recall: 0.7986 - val_f1score: nan\n",
      "Epoch 50/50\n",
      "150/150 [==============================] - 42s 277ms/step - loss: 0.0605 - acc: 0.9774 - auc: 0.9653 - precision: 0.8308 - recall: 0.8000 - f1score: nan - val_loss: 1.5617 - val_acc: 0.6310 - val_auc: 0.9656 - val_precision: 0.8318 - val_recall: 0.8011 - val_f1score: nan\n"
     ]
    }
   ],
   "source": [
    "history = additional_model.fit_generator(dgf, \n",
    "            steps_per_epoch=150, \n",
    "            epochs=50, \n",
    "            validation_data=(X_val,y_val), \n",
    "            validation_steps=32, \n",
    "            callbacks=[checkpoint])"
   ]
  },
  {
   "cell_type": "code",
   "execution_count": 11,
   "metadata": {},
   "outputs": [
    {
     "data": {
      "image/png": "[encoded data removed]",
      "text/plain": [
       "<Figure size 432x288 with 1 Axes>"
      ]
     },
     "metadata": {
      "needs_background": "light"
     },
     "output_type": "display_data"
    },
    {
     "data": {
      "image/png": "[encoded data removed]",
      "text/plain": [
       "<Figure size 432x288 with 1 Axes>"
      ]
     },
     "metadata": {
      "needs_background": "light"
     },
     "output_type": "display_data"
    }
   ],
   "source": [
    "acc = history.history['acc']\n",
    "val_acc = history.history['val_acc']\n",
    "loss = history.history['loss']\n",
    "val_loss = history.history['val_loss']\n",
    " \n",
    "epochs = range(1, len(acc) + 1)\n",
    " \n",
    "plt.plot(epochs, acc, 'bo', label='Training acc')\n",
    "plt.plot(epochs, val_acc, 'r', label='Validation acc')\n",
    "plt.title('Accuracy')\n",
    "plt.legend()\n",
    "plt.figure()\n",
    " \n",
    "plt.plot(epochs, loss, 'bo', label='Training loss')\n",
    "plt.plot(epochs, val_loss, 'r', label='Validation loss')\n",
    "plt.title('Loss')\n",
    "plt.legend()\n",
    " \n",
    "plt.show()"
   ]
  },
  {
   "cell_type": "code",
   "execution_count": 12,
   "metadata": {},
   "outputs": [],
   "source": [
    "X_test=np.load('X_test.npy')\n",
    "y_test=np.load('y_test.npy')"
   ]
  },
  {
   "cell_type": "code",
   "execution_count": 13,
   "metadata": {},
   "outputs": [
    {
     "name": "stdout",
     "output_type": "stream",
     "text": [
      "859/859 [==============================] - 2s 3ms/step\n",
      "loss: 1.562, accuracy: 0.631, auc: 0.965, precision: 0.831, recall: 0.801, f1score: nan\n"
     ]
    }
   ],
   "source": [
    "_loss, _acc, _auc, _precision, _recall, _f1score = additional_model.evaluate(X_val, y_val, batch_size=32)\n",
    "print('loss: {:.3f}, accuracy: {:.3f}, auc: {:.3f}, precision: {:.3f}, recall: {:.3f}, f1score: {:.3f}'.format(_loss, _acc, _auc, _precision, _recall, _f1score))"
   ]
  },
  {
   "cell_type": "code",
   "execution_count": 14,
   "metadata": {},
   "outputs": [
    {
     "name": "stdout",
     "output_type": "stream",
     "text": [
      "704/704 [==============================] - 2s 3ms/step\n",
      "loss: 93517.384, accuracy: 0.200, auc: 0.964, precision: 0.830, recall: 0.800, f1score: nan\n"
     ]
    }
   ],
   "source": [
    "_loss, _acc, _auc, _precision, _recall, _f1score = additional_model.evaluate(X_test, y_test, batch_size=32)\n",
    "print('loss: {:.3f}, accuracy: {:.3f}, auc: {:.3f}, precision: {:.3f}, recall: {:.3f}, f1score: {:.3f}'.format(_loss, _acc, _auc, _precision, _recall, _f1score))"
   ]
  },
  {
   "cell_type": "code",
   "execution_count": 15,
   "metadata": {},
   "outputs": [],
   "source": [
    "additional_model.save('VGG16_transfer learning_2.h5')"
   ]
  },
  {
   "cell_type": "code",
   "execution_count": null,
   "metadata": {},
   "outputs": [],
   "source": []
  },
  {
   "cell_type": "code",
   "execution_count": null,
   "metadata": {},
   "outputs": [],
   "source": []
  },
  {
   "cell_type": "code",
   "execution_count": null,
   "metadata": {},
   "outputs": [],
   "source": []
  }
 ],
 "metadata": {
  "kernelspec": {
   "display_name": "Python 3",
   "language": "python",
   "name": "python3"
  },
  "language_info": {
   "codemirror_mode": {
    "name": "ipython",
    "version": 3
   },
   "file_extension": ".py",
   "mimetype": "text/x-python",
   "name": "python",
   "nbconvert_exporter": "python",
   "pygments_lexer": "ipython3",
   "version": "3.7.6"
  }
 },
 "nbformat": 4,
 "nbformat_minor": 2
}
