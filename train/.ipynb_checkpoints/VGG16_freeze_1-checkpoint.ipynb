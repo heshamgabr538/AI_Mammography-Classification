{
 "cells": [
  {
   "cell_type": "code",
   "execution_count": 1,
   "metadata": {},
   "outputs": [
    {
     "data": {
      "text/plain": [
       "'C:\\\\Users\\\\Owner2\\\\Desktop\\\\G팔로미_vuno'"
      ]
     },
     "execution_count": 1,
     "metadata": {},
     "output_type": "execute_result"
    }
   ],
   "source": [
    "import os\n",
    "import pandas as pd\n",
    "from matplotlib import pyplot as plt\n",
    "import cv2\n",
    "import numpy as np\n",
    "\n",
    "#data path 수정\n",
    "os.chdir(\"C:\\\\Users\\\\Owner2\\\\Desktop\\\\G팔로미_vuno\")\n",
    "os.getcwd()"
   ]
  },
  {
   "cell_type": "code",
   "execution_count": 2,
   "metadata": {},
   "outputs": [],
   "source": [
    "X=np.load('data_X.npy')\n",
    "y=np.load('data_y.npy')"
   ]
  },
  {
   "cell_type": "code",
   "execution_count": 3,
   "metadata": {},
   "outputs": [],
   "source": [
    "#train, validation set 분리\n",
    "from sklearn.model_selection import train_test_split\n",
    "\n",
    "X_train, X_val, y_train, y_val = train_test_split(X,y,test_size=0.25)"
   ]
  },
  {
   "cell_type": "code",
   "execution_count": 4,
   "metadata": {},
   "outputs": [
    {
     "name": "stderr",
     "output_type": "stream",
     "text": [
      "Using TensorFlow backend.\n"
     ]
    }
   ],
   "source": [
    "from keras.preprocessing.image import ImageDataGenerator\n",
    "\n",
    "datagen = ImageDataGenerator(\n",
    "    #featurewise_center=True, #center 중심 유지\n",
    "    #featurewise_std_normalization=True, #normalization\n",
    "    rotation_range=25.0,\n",
    "    #width_shift_range=0.2,\n",
    "    #height_shift_range=0.2,\n",
    "    #brightness_range=[0.2,1.0],\n",
    "    horizontal_flip=True) #수평방향 뒤집기\n",
    "\n",
    "datagen.fit(X_train)\n",
    "\n",
    "dgf=datagen.flow(X_train,y_train,batch_size=32)"
   ]
  },
  {
   "cell_type": "code",
   "execution_count": 5,
   "metadata": {},
   "outputs": [
    {
     "name": "stdout",
     "output_type": "stream",
     "text": [
      "Model: \"vgg16\"\n",
      "_________________________________________________________________\n",
      "Layer (type)                 Output Shape              Param #   \n",
      "=================================================================\n",
      "input_1 (InputLayer)         (None, 224, 224, 3)       0         \n",
      "_________________________________________________________________\n",
      "block1_conv1 (Conv2D)        (None, 224, 224, 64)      1792      \n",
      "_________________________________________________________________\n",
      "block1_conv2 (Conv2D)        (None, 224, 224, 64)      36928     \n",
      "_________________________________________________________________\n",
      "block1_pool (MaxPooling2D)   (None, 112, 112, 64)      0         \n",
      "_________________________________________________________________\n",
      "block2_conv1 (Conv2D)        (None, 112, 112, 128)     73856     \n",
      "_________________________________________________________________\n",
      "block2_conv2 (Conv2D)        (None, 112, 112, 128)     147584    \n",
      "_________________________________________________________________\n",
      "block2_pool (MaxPooling2D)   (None, 56, 56, 128)       0         \n",
      "_________________________________________________________________\n",
      "block3_conv1 (Conv2D)        (None, 56, 56, 256)       295168    \n",
      "_________________________________________________________________\n",
      "block3_conv2 (Conv2D)        (None, 56, 56, 256)       590080    \n",
      "_________________________________________________________________\n",
      "block3_conv3 (Conv2D)        (None, 56, 56, 256)       590080    \n",
      "_________________________________________________________________\n",
      "block3_pool (MaxPooling2D)   (None, 28, 28, 256)       0         \n",
      "_________________________________________________________________\n",
      "block4_conv1 (Conv2D)        (None, 28, 28, 512)       1180160   \n",
      "_________________________________________________________________\n",
      "block4_conv2 (Conv2D)        (None, 28, 28, 512)       2359808   \n",
      "_________________________________________________________________\n",
      "block4_conv3 (Conv2D)        (None, 28, 28, 512)       2359808   \n",
      "_________________________________________________________________\n",
      "block4_pool (MaxPooling2D)   (None, 14, 14, 512)       0         \n",
      "_________________________________________________________________\n",
      "block5_conv1 (Conv2D)        (None, 14, 14, 512)       2359808   \n",
      "_________________________________________________________________\n",
      "block5_conv2 (Conv2D)        (None, 14, 14, 512)       2359808   \n",
      "_________________________________________________________________\n",
      "block5_conv3 (Conv2D)        (None, 14, 14, 512)       2359808   \n",
      "_________________________________________________________________\n",
      "block5_pool (MaxPooling2D)   (None, 7, 7, 512)         0         \n",
      "=================================================================\n",
      "Total params: 14,714,688\n",
      "Trainable params: 14,714,688\n",
      "Non-trainable params: 0\n",
      "_________________________________________________________________\n"
     ]
    }
   ],
   "source": [
    "from keras import models, layers\n",
    "from keras import Input\n",
    "from keras.applications import VGG16\n",
    "from keras.models import Model, load_model\n",
    "from keras.preprocessing.image import ImageDataGenerator\n",
    "from keras import optimizers, initializers, regularizers, metrics\n",
    "from keras.callbacks import ModelCheckpoint, EarlyStopping\n",
    "from keras.layers import BatchNormalization, Conv2D, Activation, Dense, GlobalAveragePooling2D, MaxPooling2D, ZeroPadding2D, Add\n",
    "\n",
    "model = VGG16(weights='imagenet', include_top=False, input_shape=(224, 224, 3))\n",
    "\n",
    "model.summary()"
   ]
  },
  {
   "cell_type": "code",
   "execution_count": 6,
   "metadata": {},
   "outputs": [
    {
     "name": "stdout",
     "output_type": "stream",
     "text": [
      "<keras.engine.input_layer.InputLayer object at 0x00000270022AEEC8> False\n",
      "<keras.layers.convolutional.Conv2D object at 0x00000270022B2C88> True\n",
      "<keras.layers.convolutional.Conv2D object at 0x00000270022B2D48> True\n",
      "<keras.layers.pooling.MaxPooling2D object at 0x0000027002312B48> True\n",
      "<keras.layers.convolutional.Conv2D object at 0x0000027002312F08> True\n",
      "<keras.layers.convolutional.Conv2D object at 0x00000270023C3E48> True\n",
      "<keras.layers.pooling.MaxPooling2D object at 0x00000270023C1D08> True\n",
      "<keras.layers.convolutional.Conv2D object at 0x00000270023C1208> True\n",
      "<keras.layers.convolutional.Conv2D object at 0x00000270023CE808> True\n",
      "<keras.layers.convolutional.Conv2D object at 0x00000270023D6CC8> True\n",
      "<keras.layers.pooling.MaxPooling2D object at 0x00000270023E0B48> True\n",
      "<keras.layers.convolutional.Conv2D object at 0x00000270023E0908> True\n",
      "<keras.layers.convolutional.Conv2D object at 0x00000270023E7B48> True\n",
      "<keras.layers.convolutional.Conv2D object at 0x00000270023EA2C8> True\n",
      "<keras.layers.pooling.MaxPooling2D object at 0x00000270023F19C8> True\n",
      "<keras.layers.convolutional.Conv2D object at 0x00000270023F86C8> True\n",
      "<keras.layers.convolutional.Conv2D object at 0x0000027008571C88> True\n",
      "<keras.layers.convolutional.Conv2D object at 0x0000027008575248> True\n",
      "<keras.layers.pooling.MaxPooling2D object at 0x000002700857CD88> True\n"
     ]
    }
   ],
   "source": [
    "# Freeze all the layers\n",
    "\n",
    "for layer in model.layers[15:]:\n",
    "    layer.trainable = True\n",
    "    \n",
    "# Check the trainable status of the individual layers\n",
    "\n",
    "for layer in model.layers:\n",
    "    print(layer, layer.trainable)\n"
   ]
  },
  {
   "cell_type": "code",
   "execution_count": 7,
   "metadata": {},
   "outputs": [
    {
     "name": "stdout",
     "output_type": "stream",
     "text": [
      "Model: \"vgg16\"\n",
      "_________________________________________________________________\n",
      "Layer (type)                 Output Shape              Param #   \n",
      "=================================================================\n",
      "input_1 (InputLayer)         (None, 224, 224, 3)       0         \n",
      "_________________________________________________________________\n",
      "block1_conv1 (Conv2D)        (None, 224, 224, 64)      1792      \n",
      "_________________________________________________________________\n",
      "block1_conv2 (Conv2D)        (None, 224, 224, 64)      36928     \n",
      "_________________________________________________________________\n",
      "block1_pool (MaxPooling2D)   (None, 112, 112, 64)      0         \n",
      "_________________________________________________________________\n",
      "block2_conv1 (Conv2D)        (None, 112, 112, 128)     73856     \n",
      "_________________________________________________________________\n",
      "block2_conv2 (Conv2D)        (None, 112, 112, 128)     147584    \n",
      "_________________________________________________________________\n",
      "block2_pool (MaxPooling2D)   (None, 56, 56, 128)       0         \n",
      "_________________________________________________________________\n",
      "block3_conv1 (Conv2D)        (None, 56, 56, 256)       295168    \n",
      "_________________________________________________________________\n",
      "block3_conv2 (Conv2D)        (None, 56, 56, 256)       590080    \n",
      "_________________________________________________________________\n",
      "block3_conv3 (Conv2D)        (None, 56, 56, 256)       590080    \n",
      "_________________________________________________________________\n",
      "block3_pool (MaxPooling2D)   (None, 28, 28, 256)       0         \n",
      "_________________________________________________________________\n",
      "block4_conv1 (Conv2D)        (None, 28, 28, 512)       1180160   \n",
      "_________________________________________________________________\n",
      "block4_conv2 (Conv2D)        (None, 28, 28, 512)       2359808   \n",
      "_________________________________________________________________\n",
      "block4_conv3 (Conv2D)        (None, 28, 28, 512)       2359808   \n",
      "_________________________________________________________________\n",
      "block4_pool (MaxPooling2D)   (None, 14, 14, 512)       0         \n",
      "_________________________________________________________________\n",
      "block5_conv1 (Conv2D)        (None, 14, 14, 512)       2359808   \n",
      "_________________________________________________________________\n",
      "block5_conv2 (Conv2D)        (None, 14, 14, 512)       2359808   \n",
      "_________________________________________________________________\n",
      "block5_conv3 (Conv2D)        (None, 14, 14, 512)       2359808   \n",
      "_________________________________________________________________\n",
      "block5_pool (MaxPooling2D)   (None, 7, 7, 512)         0         \n",
      "=================================================================\n",
      "Total params: 14,714,688\n",
      "Trainable params: 14,714,688\n",
      "Non-trainable params: 0\n",
      "_________________________________________________________________\n"
     ]
    }
   ],
   "source": [
    "model.summary()"
   ]
  },
  {
   "cell_type": "code",
   "execution_count": 8,
   "metadata": {},
   "outputs": [
    {
     "name": "stdout",
     "output_type": "stream",
     "text": [
      "Model: \"sequential_1\"\n",
      "_________________________________________________________________\n",
      "Layer (type)                 Output Shape              Param #   \n",
      "=================================================================\n",
      "vgg16 (Model)                (None, 7, 7, 512)         14714688  \n",
      "_________________________________________________________________\n",
      "flatten_1 (Flatten)          (None, 25088)             0         \n",
      "_________________________________________________________________\n",
      "dense_1 (Dense)              (None, 4)                 100356    \n",
      "=================================================================\n",
      "Total params: 14,815,044\n",
      "Trainable params: 14,815,044\n",
      "Non-trainable params: 0\n",
      "_________________________________________________________________\n"
     ]
    }
   ],
   "source": [
    "#customizing my layers\n",
    "additional_model = models.Sequential()\n",
    "additional_model.add(model)\n",
    "additional_model.add(layers.Flatten())\n",
    "additional_model.add(layers.Dense(4, activation='softmax'))\n",
    "\n",
    "additional_model.summary()"
   ]
  },
  {
   "cell_type": "code",
   "execution_count": 9,
   "metadata": {},
   "outputs": [],
   "source": [
    "def f1score(precision, recall):\n",
    "    _f1score = ( 2 * recall * precision) / (recall + precision)\n",
    "    \n",
    "    # return a single tensor value\n",
    "    return _f1score"
   ]
  },
  {
   "cell_type": "code",
   "execution_count": 10,
   "metadata": {},
   "outputs": [],
   "source": [
    "# checkpoint = ModelCheckpoint(filepath='My_VGG_{epoch:03d}_{val_loss:.7f}.hdf5',monitor='loss', mode='min', save_best_only=True)\n",
    "checkpoint = ModelCheckpoint(filepath='VGG16_freeze_1.hdf5', \n",
    "            monitor='loss', \n",
    "            mode='min', \n",
    "            save_best_only=True)"
   ]
  },
  {
   "cell_type": "code",
   "execution_count": 11,
   "metadata": {},
   "outputs": [],
   "source": [
    "import tensorflow as tf\n",
    "\n",
    "additional_model.compile(loss='categorical_crossentropy', \n",
    "              optimizer=optimizers.Adam(lr=1e-6),\n",
    "              metrics=['acc',tf.keras.metrics.AUC(),\n",
    "                      tf.keras.metrics.Precision(),\n",
    "                      tf.keras.metrics.Recall(),f1score])"
   ]
  },
  {
   "cell_type": "code",
   "execution_count": 12,
   "metadata": {},
   "outputs": [
    {
     "name": "stdout",
     "output_type": "stream",
     "text": [
      "Epoch 1/30\n",
      "100/100 [==============================] - 32s 324ms/step - loss: 1.3595 - acc: 0.3361 - auc: 0.5400 - precision: 0.4205 - recall: 0.0023 - f1score: 0.1045 - val_loss: 1.2923 - val_acc: 0.3938 - val_auc: 0.6006 - val_precision: 0.6218 - val_recall: 0.0055 - val_f1score: 0.1088\n",
      "Epoch 2/30\n",
      "100/100 [==============================] - 27s 271ms/step - loss: 1.2104 - acc: 0.4292 - auc: 0.6430 - precision: 0.5222 - recall: 0.0107 - f1score: 0.1167 - val_loss: 1.1758 - val_acc: 0.4619 - val_auc: 0.6775 - val_precision: 0.5224 - val_recall: 0.0194 - val_f1score: 0.1201\n",
      "Epoch 3/30\n",
      "100/100 [==============================] - 27s 274ms/step - loss: 1.1112 - acc: 0.4732 - auc: 0.7003 - precision: 0.5414 - recall: 0.0298 - f1score: 0.1265 - val_loss: 1.0768 - val_acc: 0.4804 - val_auc: 0.7195 - val_precision: 0.5516 - val_recall: 0.0408 - val_f1score: 0.1303\n",
      "Epoch 4/30\n",
      "100/100 [==============================] - 28s 276ms/step - loss: 1.0263 - acc: 0.4994 - auc: 0.7334 - precision: 0.5624 - recall: 0.0555 - f1score: 0.1353 - val_loss: 1.0064 - val_acc: 0.4804 - val_auc: 0.7463 - val_precision: 0.5782 - val_recall: 0.0753 - val_f1score: 0.1383\n",
      "Epoch 5/30\n",
      "100/100 [==============================] - 28s 278ms/step - loss: 0.9600 - acc: 0.5256 - auc: 0.7562 - precision: 0.5832 - recall: 0.0944 - f1score: 0.1426 - val_loss: 0.9535 - val_acc: 0.5155 - val_auc: 0.7655 - val_precision: 0.5917 - val_recall: 0.1166 - val_f1score: 0.1441\n",
      "Epoch 6/30\n",
      "100/100 [==============================] - 29s 288ms/step - loss: 0.9218 - acc: 0.5455 - auc: 0.7726 - precision: 0.5942 - recall: 0.1369 - f1score: 0.1472 - val_loss: 0.9272 - val_acc: 0.4969 - val_auc: 0.7795 - val_precision: 0.5970 - val_recall: 0.1573 - val_f1score: 0.1471\n",
      "Epoch 7/30\n",
      "100/100 [==============================] - 28s 276ms/step - loss: 0.8758 - acc: 0.5707 - auc: 0.7853 - precision: 0.5995 - recall: 0.1753 - f1score: 0.1515 - val_loss: 0.9028 - val_acc: 0.5052 - val_auc: 0.7911 - val_precision: 0.6042 - val_recall: 0.1937 - val_f1score: 0.1499\n",
      "Epoch 8/30\n",
      "100/100 [==============================] - 28s 277ms/step - loss: 0.8424 - acc: 0.5774 - auc: 0.7961 - precision: 0.6062 - recall: 0.2098 - f1score: 0.1553 - val_loss: 0.9091 - val_acc: 0.5113 - val_auc: 0.8010 - val_precision: 0.6086 - val_recall: 0.2254 - val_f1score: 0.1503\n",
      "Epoch 9/30\n",
      "100/100 [==============================] - 27s 271ms/step - loss: 0.8241 - acc: 0.5903 - auc: 0.8049 - precision: 0.6118 - recall: 0.2396 - f1score: 0.1575 - val_loss: 0.8771 - val_acc: 0.5031 - val_auc: 0.8088 - val_precision: 0.6142 - val_recall: 0.2534 - val_f1score: 0.1537\n",
      "Epoch 10/30\n",
      "100/100 [==============================] - 27s 274ms/step - loss: 0.7933 - acc: 0.6136 - auc: 0.8127 - precision: 0.6172 - recall: 0.2667 - f1score: 0.1611 - val_loss: 0.8612 - val_acc: 0.5340 - val_auc: 0.8162 - val_precision: 0.6190 - val_recall: 0.2790 - val_f1score: 0.1554\n",
      "Epoch 11/30\n",
      "100/100 [==============================] - 27s 273ms/step - loss: 0.7815 - acc: 0.6180 - auc: 0.8193 - precision: 0.6217 - recall: 0.2900 - f1score: 0.1621 - val_loss: 0.8448 - val_acc: 0.5320 - val_auc: 0.8224 - val_precision: 0.6236 - val_recall: 0.3009 - val_f1score: 0.1571\n",
      "Epoch 12/30\n",
      "100/100 [==============================] - 28s 283ms/step - loss: 0.7666 - acc: 0.6071 - auc: 0.8251 - precision: 0.6250 - recall: 0.3103 - f1score: 0.1635 - val_loss: 0.8586 - val_acc: 0.5216 - val_auc: 0.8277 - val_precision: 0.6262 - val_recall: 0.3195 - val_f1score: 0.1565\n",
      "Epoch 13/30\n",
      "100/100 [==============================] - 27s 272ms/step - loss: 0.7462 - acc: 0.6332 - auc: 0.8301 - precision: 0.6276 - recall: 0.3283 - f1score: 0.1658 - val_loss: 0.8383 - val_acc: 0.5381 - val_auc: 0.8327 - val_precision: 0.6297 - val_recall: 0.3371 - val_f1score: 0.1583\n",
      "Epoch 14/30\n",
      "100/100 [==============================] - 27s 274ms/step - loss: 0.7517 - acc: 0.6205 - auc: 0.8346 - precision: 0.6303 - recall: 0.3445 - f1score: 0.1655 - val_loss: 0.8281 - val_acc: 0.5670 - val_auc: 0.8368 - val_precision: 0.6318 - val_recall: 0.3521 - val_f1score: 0.1594\n",
      "Epoch 15/30\n",
      "100/100 [==============================] - 28s 275ms/step - loss: 0.7295 - acc: 0.6390 - auc: 0.8388 - precision: 0.6333 - recall: 0.3591 - f1score: 0.1677 - val_loss: 0.8582 - val_acc: 0.5423 - val_auc: 0.8408 - val_precision: 0.6347 - val_recall: 0.3662 - val_f1score: 0.1576\n",
      "Epoch 16/30\n",
      "100/100 [==============================] - 27s 271ms/step - loss: 0.7189 - acc: 0.6513 - auc: 0.8425 - precision: 0.6358 - recall: 0.3726 - f1score: 0.1692 - val_loss: 0.8388 - val_acc: 0.5278 - val_auc: 0.8444 - val_precision: 0.6375 - val_recall: 0.3793 - val_f1score: 0.1592\n",
      "Epoch 17/30\n",
      "100/100 [==============================] - 28s 276ms/step - loss: 0.7071 - acc: 0.6434 - auc: 0.8461 - precision: 0.6387 - recall: 0.3853 - f1score: 0.1702 - val_loss: 0.8887 - val_acc: 0.5237 - val_auc: 0.8477 - val_precision: 0.6395 - val_recall: 0.3912 - val_f1score: 0.1564\n",
      "Epoch 18/30\n",
      "100/100 [==============================] - 28s 285ms/step - loss: 0.6887 - acc: 0.6642 - auc: 0.8493 - precision: 0.6413 - recall: 0.3968 - f1score: 0.1720 - val_loss: 0.8460 - val_acc: 0.5361 - val_auc: 0.8509 - val_precision: 0.6427 - val_recall: 0.4025 - val_f1score: 0.1594\n",
      "Epoch 19/30\n",
      "100/100 [==============================] - 27s 273ms/step - loss: 0.6740 - acc: 0.6690 - auc: 0.8524 - precision: 0.6442 - recall: 0.4079 - f1score: 0.1732 - val_loss: 0.8644 - val_acc: 0.5196 - val_auc: 0.8539 - val_precision: 0.6453 - val_recall: 0.4129 - val_f1score: 0.1587\n",
      "Epoch 20/30\n",
      "100/100 [==============================] - 27s 273ms/step - loss: 0.6637 - acc: 0.6832 - auc: 0.8554 - precision: 0.6470 - recall: 0.4181 - f1score: 0.1746 - val_loss: 0.8297 - val_acc: 0.5546 - val_auc: 0.8569 - val_precision: 0.6485 - val_recall: 0.4232 - val_f1score: 0.1619\n",
      "Epoch 21/30\n",
      "100/100 [==============================] - 27s 272ms/step - loss: 0.6589 - acc: 0.6860 - auc: 0.8582 - precision: 0.6500 - recall: 0.4279 - f1score: 0.1753 - val_loss: 0.8391 - val_acc: 0.5381 - val_auc: 0.8596 - val_precision: 0.6513 - val_recall: 0.4326 - val_f1score: 0.1609\n",
      "Epoch 22/30\n",
      "100/100 [==============================] - 27s 274ms/step - loss: 0.6525 - acc: 0.6951 - auc: 0.8609 - precision: 0.6529 - recall: 0.4371 - f1score: 0.1758 - val_loss: 0.8449 - val_acc: 0.5340 - val_auc: 0.8621 - val_precision: 0.6543 - val_recall: 0.4416 - val_f1score: 0.1606\n",
      "Epoch 23/30\n",
      "100/100 [==============================] - 28s 280ms/step - loss: 0.6395 - acc: 0.7063 - auc: 0.8633 - precision: 0.6558 - recall: 0.4459 - f1score: 0.1776 - val_loss: 0.8497 - val_acc: 0.5361 - val_auc: 0.8646 - val_precision: 0.6576 - val_recall: 0.4505 - val_f1score: 0.1604\n",
      "Epoch 24/30\n",
      "100/100 [==============================] - 27s 274ms/step - loss: 0.6345 - acc: 0.6990 - auc: 0.8658 - precision: 0.6589 - recall: 0.4544 - f1score: 0.1778 - val_loss: 0.8311 - val_acc: 0.5567 - val_auc: 0.8669 - val_precision: 0.6598 - val_recall: 0.4581 - val_f1score: 0.1622\n",
      "Epoch 25/30\n",
      "100/100 [==============================] - 28s 275ms/step - loss: 0.6162 - acc: 0.7025 - auc: 0.8681 - precision: 0.6612 - recall: 0.4621 - f1score: 0.1796 - val_loss: 0.8709 - val_acc: 0.5381 - val_auc: 0.8691 - val_precision: 0.6620 - val_recall: 0.4657 - val_f1score: 0.1603\n",
      "Epoch 26/30\n",
      "100/100 [==============================] - 28s 276ms/step - loss: 0.6061 - acc: 0.7192 - auc: 0.8702 - precision: 0.6633 - recall: 0.4693 - f1score: 0.1810 - val_loss: 0.8404 - val_acc: 0.5464 - val_auc: 0.8714 - val_precision: 0.6648 - val_recall: 0.4732 - val_f1score: 0.1621\n",
      "Epoch 27/30\n",
      "100/100 [==============================] - 28s 276ms/step - loss: 0.6020 - acc: 0.7183 - auc: 0.8724 - precision: 0.6661 - recall: 0.4767 - f1score: 0.1815 - val_loss: 0.8611 - val_acc: 0.5485 - val_auc: 0.8735 - val_precision: 0.6675 - val_recall: 0.4802 - val_f1score: 0.1609\n",
      "Epoch 28/30\n",
      "100/100 [==============================] - 27s 275ms/step - loss: 0.5903 - acc: 0.7388 - auc: 0.8745 - precision: 0.6691 - recall: 0.4838 - f1score: 0.1828 - val_loss: 0.8566 - val_acc: 0.5464 - val_auc: 0.8755 - val_precision: 0.6704 - val_recall: 0.4872 - val_f1score: 0.1617\n",
      "Epoch 29/30\n"
     ]
    },
    {
     "name": "stdout",
     "output_type": "stream",
     "text": [
      "100/100 [==============================] - 28s 284ms/step - loss: 0.5859 - acc: 0.7202 - auc: 0.8765 - precision: 0.6714 - recall: 0.4903 - f1score: 0.1832 - val_loss: 0.8598 - val_acc: 0.5443 - val_auc: 0.8774 - val_precision: 0.6724 - val_recall: 0.4935 - val_f1score: 0.1620\n",
      "Epoch 30/30\n",
      "100/100 [==============================] - 27s 275ms/step - loss: 0.5733 - acc: 0.7407 - auc: 0.8784 - precision: 0.6737 - recall: 0.4967 - f1score: 0.1848 - val_loss: 0.8622 - val_acc: 0.5443 - val_auc: 0.8794 - val_precision: 0.6749 - val_recall: 0.4999 - val_f1score: 0.1616\n"
     ]
    }
   ],
   "source": [
    "history = additional_model.fit_generator(dgf, \n",
    "            steps_per_epoch=100, \n",
    "            epochs=30, \n",
    "            validation_data=(X_val,y_val), \n",
    "            validation_steps=32, \n",
    "            callbacks=[checkpoint])"
   ]
  },
  {
   "cell_type": "code",
   "execution_count": 13,
   "metadata": {},
   "outputs": [
    {
     "data": {
      "image/png": "[encoded data removed]",
      "text/plain": [
       "<Figure size 432x288 with 1 Axes>"
      ]
     },
     "metadata": {
      "needs_background": "light"
     },
     "output_type": "display_data"
    },
    {
     "data": {
      "image/png": "[encoded data removed]",
      "text/plain": [
       "<Figure size 432x288 with 1 Axes>"
      ]
     },
     "metadata": {
      "needs_background": "light"
     },
     "output_type": "display_data"
    }
   ],
   "source": [
    "acc = history.history['acc']\n",
    "val_acc = history.history['val_acc']\n",
    "loss = history.history['loss']\n",
    "val_loss = history.history['val_loss']\n",
    " \n",
    "epochs = range(1, len(acc) + 1)\n",
    " \n",
    "plt.plot(epochs, acc, 'bo', label='Training acc')\n",
    "plt.plot(epochs, val_acc, 'r', label='Validation acc')\n",
    "plt.title('Accuracy')\n",
    "plt.legend()\n",
    "plt.figure()\n",
    " \n",
    "plt.plot(epochs, loss, 'bo', label='Training loss')\n",
    "plt.plot(epochs, val_loss, 'r', label='Validation loss')\n",
    "plt.title('Loss')\n",
    "plt.legend()\n",
    " \n",
    "plt.show()"
   ]
  },
  {
   "cell_type": "code",
   "execution_count": 14,
   "metadata": {},
   "outputs": [],
   "source": [
    "X_test=np.load('X_test.npy')\n",
    "y_test=np.load('y_test.npy')"
   ]
  },
  {
   "cell_type": "code",
   "execution_count": 15,
   "metadata": {},
   "outputs": [
    {
     "name": "stdout",
     "output_type": "stream",
     "text": [
      "485/485 [==============================] - 1s 3ms/step\n",
      "loss: 0.862, accuracy: 0.544, auc: 0.879, precision: 0.674, recall: 0.500, f1score: 0.162\n"
     ]
    }
   ],
   "source": [
    "_loss, _acc, _auc, _precision, _recall, _f1score = additional_model.evaluate(X_val, y_val, batch_size=32)\n",
    "print('loss: {:.3f}, accuracy: {:.3f}, auc: {:.3f}, precision: {:.3f}, recall: {:.3f}, f1score: {:.3f}'.format(_loss, _acc, _auc, _precision, _recall, _f1score))"
   ]
  },
  {
   "cell_type": "code",
   "execution_count": 16,
   "metadata": {},
   "outputs": [
    {
     "name": "stdout",
     "output_type": "stream",
     "text": [
      "704/704 [==============================] - 2s 3ms/step\n",
      "loss: 16193.791, accuracy: 0.199, auc: 0.877, precision: 0.672, recall: 0.499, f1score: nan\n"
     ]
    }
   ],
   "source": [
    "_loss, _acc, _auc, _precision, _recall, _f1score = additional_model.evaluate(X_test, y_test, batch_size=32)\n",
    "print('loss: {:.3f}, accuracy: {:.3f}, auc: {:.3f}, precision: {:.3f}, recall: {:.3f}, f1score: {:.3f}'.format(_loss, _acc, _auc, _precision, _recall, _f1score))"
   ]
  },
  {
   "cell_type": "code",
   "execution_count": 17,
   "metadata": {},
   "outputs": [],
   "source": [
    "additional_model.save('VGG16_freeze_1.h5')"
   ]
  }
 ],
 "metadata": {
  "kernelspec": {
   "display_name": "Python 3",
   "language": "python",
   "name": "python3"
  },
  "language_info": {
   "codemirror_mode": {
    "name": "ipython",
    "version": 3
   },
   "file_extension": ".py",
   "mimetype": "text/x-python",
   "name": "python",
   "nbconvert_exporter": "python",
   "pygments_lexer": "ipython3",
   "version": "3.7.7"
  }
 },
 "nbformat": 4,
 "nbformat_minor": 2
}
