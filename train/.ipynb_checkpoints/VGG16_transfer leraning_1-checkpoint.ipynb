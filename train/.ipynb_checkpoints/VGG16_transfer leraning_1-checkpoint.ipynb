{
 "cells": [
  {
   "cell_type": "code",
   "execution_count": 1,
   "metadata": {},
   "outputs": [
    {
     "data": {
      "text/plain": [
       "'C:\\\\Users\\\\Owner2\\\\Desktop\\\\G팔로미_vuno'"
      ]
     },
     "execution_count": 1,
     "metadata": {},
     "output_type": "execute_result"
    }
   ],
   "source": [
    "import os\n",
    "import pandas as pd\n",
    "from matplotlib import pyplot as plt\n",
    "import cv2\n",
    "import numpy as np\n",
    "\n",
    "#data path 수정\n",
    "os.chdir(\"C:\\\\Users\\\\Owner2\\\\Desktop\\\\G팔로미_vuno\")\n",
    "os.getcwd()"
   ]
  },
  {
   "cell_type": "code",
   "execution_count": 2,
   "metadata": {},
   "outputs": [],
   "source": [
    "X=np.load('data_X.npy')\n",
    "y=np.load('data_y.npy')"
   ]
  },
  {
   "cell_type": "code",
   "execution_count": 3,
   "metadata": {},
   "outputs": [],
   "source": [
    "#train, validation set 분리\n",
    "from sklearn.model_selection import train_test_split\n",
    "\n",
    "X_train, X_val, y_train, y_val = train_test_split(X,y,test_size=0.3)"
   ]
  },
  {
   "cell_type": "code",
   "execution_count": 4,
   "metadata": {},
   "outputs": [
    {
     "name": "stderr",
     "output_type": "stream",
     "text": [
      "Using TensorFlow backend.\n"
     ]
    }
   ],
   "source": [
    "from keras.preprocessing.image import ImageDataGenerator\n",
    "\n",
    "datagen = ImageDataGenerator(\n",
    "    #featurewise_center=True, #center 중심 유지\n",
    "    #featurewise_std_normalization=True, #normalization\n",
    "    rotation_range=25.0,\n",
    "    #width_shift_range=0.2,\n",
    "    #height_shift_range=0.2,\n",
    "    #brightness_range=[0.2,1.0],\n",
    "    horizontal_flip=True) #수평방향 뒤집기\n",
    "\n",
    "datagen.fit(X_train)\n",
    "\n",
    "dgf=datagen.flow(X_train,y_train,batch_size=32)"
   ]
  },
  {
   "cell_type": "code",
   "execution_count": 5,
   "metadata": {},
   "outputs": [
    {
     "name": "stdout",
     "output_type": "stream",
     "text": [
      "Model: \"vgg16\"\n",
      "_________________________________________________________________\n",
      "Layer (type)                 Output Shape              Param #   \n",
      "=================================================================\n",
      "input_1 (InputLayer)         (None, 224, 224, 3)       0         \n",
      "_________________________________________________________________\n",
      "block1_conv1 (Conv2D)        (None, 224, 224, 64)      1792      \n",
      "_________________________________________________________________\n",
      "block1_conv2 (Conv2D)        (None, 224, 224, 64)      36928     \n",
      "_________________________________________________________________\n",
      "block1_pool (MaxPooling2D)   (None, 112, 112, 64)      0         \n",
      "_________________________________________________________________\n",
      "block2_conv1 (Conv2D)        (None, 112, 112, 128)     73856     \n",
      "_________________________________________________________________\n",
      "block2_conv2 (Conv2D)        (None, 112, 112, 128)     147584    \n",
      "_________________________________________________________________\n",
      "block2_pool (MaxPooling2D)   (None, 56, 56, 128)       0         \n",
      "_________________________________________________________________\n",
      "block3_conv1 (Conv2D)        (None, 56, 56, 256)       295168    \n",
      "_________________________________________________________________\n",
      "block3_conv2 (Conv2D)        (None, 56, 56, 256)       590080    \n",
      "_________________________________________________________________\n",
      "block3_conv3 (Conv2D)        (None, 56, 56, 256)       590080    \n",
      "_________________________________________________________________\n",
      "block3_pool (MaxPooling2D)   (None, 28, 28, 256)       0         \n",
      "_________________________________________________________________\n",
      "block4_conv1 (Conv2D)        (None, 28, 28, 512)       1180160   \n",
      "_________________________________________________________________\n",
      "block4_conv2 (Conv2D)        (None, 28, 28, 512)       2359808   \n",
      "_________________________________________________________________\n",
      "block4_conv3 (Conv2D)        (None, 28, 28, 512)       2359808   \n",
      "_________________________________________________________________\n",
      "block4_pool (MaxPooling2D)   (None, 14, 14, 512)       0         \n",
      "_________________________________________________________________\n",
      "block5_conv1 (Conv2D)        (None, 14, 14, 512)       2359808   \n",
      "_________________________________________________________________\n",
      "block5_conv2 (Conv2D)        (None, 14, 14, 512)       2359808   \n",
      "_________________________________________________________________\n",
      "block5_conv3 (Conv2D)        (None, 14, 14, 512)       2359808   \n",
      "_________________________________________________________________\n",
      "block5_pool (MaxPooling2D)   (None, 7, 7, 512)         0         \n",
      "=================================================================\n",
      "Total params: 14,714,688\n",
      "Trainable params: 14,714,688\n",
      "Non-trainable params: 0\n",
      "_________________________________________________________________\n"
     ]
    }
   ],
   "source": [
    "from keras import models, layers\n",
    "from keras import Input\n",
    "from keras.applications import VGG16\n",
    "from keras.models import Model, load_model\n",
    "from keras.preprocessing.image import ImageDataGenerator\n",
    "from keras import optimizers, initializers, regularizers, metrics\n",
    "from keras.callbacks import ModelCheckpoint, EarlyStopping\n",
    "from keras.layers import BatchNormalization, Conv2D, Activation, Dense, GlobalAveragePooling2D, MaxPooling2D, ZeroPadding2D, Add\n",
    "\n",
    "model = VGG16(weights='imagenet', include_top=False, input_shape=(224, 224, 3))\n",
    "model.trainable = True\n",
    "model.summary()"
   ]
  },
  {
   "cell_type": "code",
   "execution_count": 6,
   "metadata": {},
   "outputs": [
    {
     "name": "stdout",
     "output_type": "stream",
     "text": [
      "Model: \"sequential_1\"\n",
      "_________________________________________________________________\n",
      "Layer (type)                 Output Shape              Param #   \n",
      "=================================================================\n",
      "vgg16 (Model)                (None, 7, 7, 512)         14714688  \n",
      "_________________________________________________________________\n",
      "flatten_1 (Flatten)          (None, 25088)             0         \n",
      "_________________________________________________________________\n",
      "dense_1 (Dense)              (None, 4)                 100356    \n",
      "=================================================================\n",
      "Total params: 14,815,044\n",
      "Trainable params: 14,815,044\n",
      "Non-trainable params: 0\n",
      "_________________________________________________________________\n"
     ]
    }
   ],
   "source": [
    "#customizing my layers\n",
    "additional_model = models.Sequential()\n",
    "additional_model.add(model)\n",
    "additional_model.add(layers.Flatten())\n",
    "additional_model.add(layers.Dense(4, activation='softmax'))\n",
    "\n",
    "additional_model.summary()"
   ]
  },
  {
   "cell_type": "code",
   "execution_count": 7,
   "metadata": {},
   "outputs": [],
   "source": [
    "def f1score(precision, recall):\n",
    "    _f1score = ( 2 * recall * precision) / (recall + precision)\n",
    "    \n",
    "    # return a single tensor value\n",
    "    return _f1score"
   ]
  },
  {
   "cell_type": "code",
   "execution_count": 8,
   "metadata": {},
   "outputs": [],
   "source": [
    "# checkpoint = ModelCheckpoint(filepath='My_VGG_{epoch:03d}_{val_loss:.7f}.hdf5',monitor='loss', mode='min', save_best_only=True)\n",
    "checkpoint = ModelCheckpoint(filepath='VGG16_transfer learning_1.hdf5', \n",
    "            monitor='loss', \n",
    "            mode='min', \n",
    "            save_best_only=True)"
   ]
  },
  {
   "cell_type": "code",
   "execution_count": 9,
   "metadata": {},
   "outputs": [],
   "source": [
    "import tensorflow as tf\n",
    "\n",
    "additional_model.compile(loss='categorical_crossentropy', \n",
    "              optimizer=optimizers.Adam(lr=2e-5),\n",
    "              metrics=['acc',tf.keras.metrics.AUC(),\n",
    "                      tf.keras.metrics.Precision(),\n",
    "                      tf.keras.metrics.Recall(),f1score])"
   ]
  },
  {
   "cell_type": "code",
   "execution_count": 10,
   "metadata": {},
   "outputs": [
    {
     "name": "stdout",
     "output_type": "stream",
     "text": [
      "Epoch 1/50\n",
      "150/150 [==============================] - 48s 321ms/step - loss: 0.9626 - acc: 0.5180 - auc: 0.7522 - precision: 0.4976 - recall: 0.1899 - f1score: 0.1442 - val_loss: 0.9128 - val_acc: 0.5361 - val_auc: 0.8234 - val_precision: 0.5939 - val_recall: 0.3496 - val_f1score: 0.1523\n",
      "Epoch 2/50\n",
      "150/150 [==============================] - 42s 279ms/step - loss: 0.7197 - acc: 0.6408 - auc: 0.8439 - precision: 0.6149 - recall: 0.4127 - f1score: 0.1697 - val_loss: 0.9077 - val_acc: 0.4931 - val_auc: 0.8596 - val_precision: 0.6324 - val_recall: 0.4608 - val_f1score: 0.1538\n",
      "Epoch 3/50\n",
      "150/150 [==============================] - 43s 286ms/step - loss: 0.6096 - acc: 0.7056 - auc: 0.8706 - precision: 0.6468 - recall: 0.4935 - f1score: 0.1815 - val_loss: 0.8714 - val_acc: 0.5619 - val_auc: 0.8816 - val_precision: 0.6631 - val_recall: 0.5256 - val_f1score: 0.1602\n",
      "Epoch 4/50\n",
      "150/150 [==============================] - 42s 278ms/step - loss: 0.5106 - acc: 0.7663 - auc: 0.8905 - precision: 0.6774 - recall: 0.5515 - f1score: 0.1931 - val_loss: 0.9235 - val_acc: 0.5790 - val_auc: 0.8986 - val_precision: 0.6914 - val_recall: 0.5758 - val_f1score: 0.1596\n",
      "Epoch 5/50\n",
      "150/150 [==============================] - 43s 286ms/step - loss: 0.4141 - acc: 0.8222 - auc: 0.9060 - precision: 0.7053 - recall: 0.5976 - f1score: 0.2036 - val_loss: 0.9984 - val_acc: 0.5550 - val_auc: 0.9126 - val_precision: 0.7173 - val_recall: 0.6172 - val_f1score: 0.1571\n",
      "Epoch 6/50\n",
      "150/150 [==============================] - 41s 275ms/step - loss: 0.3081 - acc: 0.8695 - auc: 0.9189 - precision: 0.7293 - recall: 0.6350 - f1score: 0.2154 - val_loss: 1.1559 - val_acc: 0.5670 - val_auc: 0.9248 - val_precision: 0.7407 - val_recall: 0.6523 - val_f1score: 0.1574\n",
      "Epoch 7/50\n",
      "150/150 [==============================] - 43s 286ms/step - loss: 0.2527 - acc: 0.8928 - auc: 0.9298 - precision: 0.7508 - recall: 0.6673 - f1score: 0.2216 - val_loss: 1.1474 - val_acc: 0.5670 - val_auc: 0.9344 - val_precision: 0.7598 - val_recall: 0.6808 - val_f1score: 0.1567\n",
      "Epoch 8/50\n",
      "150/150 [==============================] - 41s 277ms/step - loss: 0.1923 - acc: 0.9262 - auc: 0.9386 - precision: 0.7690 - recall: 0.6940 - f1score: 0.2284 - val_loss: 1.3144 - val_acc: 0.5292 - val_auc: 0.9422 - val_precision: 0.7773 - val_recall: 0.7061 - val_f1score: 0.1491\n",
      "Epoch 9/50\n",
      "150/150 [==============================] - 43s 284ms/step - loss: 0.1592 - acc: 0.9376 - auc: 0.9455 - precision: 0.7846 - recall: 0.7167 - f1score: 0.2322 - val_loss: 1.4423 - val_acc: 0.5464 - val_auc: 0.9485 - val_precision: 0.7916 - val_recall: 0.7268 - val_f1score: 0.1504\n",
      "Epoch 10/50\n",
      "150/150 [==============================] - 42s 278ms/step - loss: 0.1259 - acc: 0.9530 - auc: 0.9511 - precision: 0.7981 - recall: 0.7360 - f1score: 0.2359 - val_loss: 1.5503 - val_acc: 0.5687 - val_auc: 0.9536 - val_precision: 0.8046 - val_recall: 0.7451 - val_f1score: 0.1533\n",
      "Epoch 11/50\n",
      "150/150 [==============================] - 43s 284ms/step - loss: 0.1157 - acc: 0.9566 - auc: 0.9558 - precision: 0.8104 - recall: 0.7532 - f1score: 0.2372 - val_loss: 1.6155 - val_acc: 0.5344 - val_auc: 0.9575 - val_precision: 0.8151 - val_recall: 0.7601 - val_f1score: 0.1475\n",
      "Epoch 12/50\n",
      "150/150 [==============================] - 42s 281ms/step - loss: 0.1126 - acc: 0.9592 - auc: 0.9593 - precision: 0.8200 - recall: 0.7669 - f1score: 0.2376 - val_loss: 1.5441 - val_acc: 0.5241 - val_auc: 0.9607 - val_precision: 0.8240 - val_recall: 0.7728 - val_f1score: 0.1483\n",
      "Epoch 13/50\n",
      "150/150 [==============================] - 43s 288ms/step - loss: 0.0903 - acc: 0.9648 - auc: 0.9622 - precision: 0.8280 - recall: 0.7785 - f1score: 0.2400 - val_loss: 1.7181 - val_acc: 0.5430 - val_auc: 0.9634 - val_precision: 0.8318 - val_recall: 0.7839 - val_f1score: 0.1476\n",
      "Epoch 14/50\n",
      "150/150 [==============================] - 42s 283ms/step - loss: 0.0898 - acc: 0.9685 - auc: 0.9646 - precision: 0.8353 - recall: 0.7889 - f1score: 0.2400 - val_loss: 1.5471 - val_acc: 0.5550 - val_auc: 0.9657 - val_precision: 0.8388 - val_recall: 0.7938 - val_f1score: 0.1538\n",
      "Epoch 15/50\n",
      "150/150 [==============================] - 43s 287ms/step - loss: 0.0882 - acc: 0.9685 - auc: 0.9668 - precision: 0.8420 - recall: 0.7983 - f1score: 0.2405 - val_loss: 1.5432 - val_acc: 0.5550 - val_auc: 0.9677 - val_precision: 0.8448 - val_recall: 0.8024 - val_f1score: 0.1514\n",
      "Epoch 16/50\n",
      "150/150 [==============================] - 42s 282ms/step - loss: 0.0621 - acc: 0.9806 - auc: 0.9687 - precision: 0.8479 - recall: 0.8067 - f1score: 0.2433 - val_loss: 1.6372 - val_acc: 0.5636 - val_auc: 0.9695 - val_precision: 0.8507 - val_recall: 0.8106 - val_f1score: 0.1516\n",
      "Epoch 17/50\n",
      "150/150 [==============================] - 43s 287ms/step - loss: 0.0423 - acc: 0.9844 - auc: 0.9704 - precision: 0.8536 - recall: 0.8145 - f1score: 0.2453 - val_loss: 1.8696 - val_acc: 0.5636 - val_auc: 0.9711 - val_precision: 0.8561 - val_recall: 0.8181 - val_f1score: 0.1497\n",
      "Epoch 18/50\n",
      "150/150 [==============================] - 42s 281ms/step - loss: 0.0704 - acc: 0.9738 - auc: 0.9717 - precision: 0.8584 - recall: 0.8213 - f1score: 0.2425 - val_loss: 1.7756 - val_acc: 0.5636 - val_auc: 0.9722 - val_precision: 0.8604 - val_recall: 0.8242 - val_f1score: 0.1494\n",
      "Epoch 19/50\n",
      "150/150 [==============================] - 43s 286ms/step - loss: 0.0447 - acc: 0.9842 - auc: 0.9729 - precision: 0.8627 - recall: 0.8273 - f1score: 0.2450 - val_loss: 2.1189 - val_acc: 0.5550 - val_auc: 0.9733 - val_precision: 0.8647 - val_recall: 0.8302 - val_f1score: 0.1498\n",
      "Epoch 20/50\n",
      "150/150 [==============================] - 42s 282ms/step - loss: 0.0476 - acc: 0.9841 - auc: 0.9738 - precision: 0.8667 - recall: 0.8329 - f1score: 0.2448 - val_loss: 2.0498 - val_acc: 0.5430 - val_auc: 0.9742 - val_precision: 0.8685 - val_recall: 0.8355 - val_f1score: 0.1473\n",
      "Epoch 21/50\n",
      "150/150 [==============================] - 43s 286ms/step - loss: 0.0245 - acc: 0.9918 - auc: 0.9746 - precision: 0.8704 - recall: 0.8382 - f1score: 0.2472 - val_loss: 2.1061 - val_acc: 0.5653 - val_auc: 0.9750 - val_precision: 0.8722 - val_recall: 0.8407 - val_f1score: 0.1496\n",
      "Epoch 22/50\n",
      "150/150 [==============================] - 42s 281ms/step - loss: 0.0393 - acc: 0.9874 - auc: 0.9754 - precision: 0.8739 - recall: 0.8430 - f1score: 0.2459 - val_loss: 2.1016 - val_acc: 0.5344 - val_auc: 0.9757 - val_precision: 0.8754 - val_recall: 0.8451 - val_f1score: 0.1453\n",
      "Epoch 23/50\n",
      "150/150 [==============================] - 43s 284ms/step - loss: 0.0444 - acc: 0.9863 - auc: 0.9760 - precision: 0.8769 - recall: 0.8472 - f1score: 0.2453 - val_loss: 2.2107 - val_acc: 0.5206 - val_auc: 0.9763 - val_precision: 0.8782 - val_recall: 0.8491 - val_f1score: 0.1413\n",
      "Epoch 24/50\n",
      "150/150 [==============================] - 42s 282ms/step - loss: 0.0427 - acc: 0.9871 - auc: 0.9765 - precision: 0.8795 - recall: 0.8510 - f1score: 0.2455 - val_loss: 1.8201 - val_acc: 0.5533 - val_auc: 0.9768 - val_precision: 0.8808 - val_recall: 0.8527 - val_f1score: 0.1504\n",
      "Epoch 25/50\n",
      "150/150 [==============================] - 43s 284ms/step - loss: 0.0474 - acc: 0.9836 - auc: 0.9772 - precision: 0.8821 - recall: 0.8546 - f1score: 0.2453 - val_loss: 1.6830 - val_acc: 0.5223 - val_auc: 0.9774 - val_precision: 0.8830 - val_recall: 0.8560 - val_f1score: 0.1430\n",
      "Epoch 26/50\n",
      "150/150 [==============================] - 42s 282ms/step - loss: 0.0596 - acc: 0.9778 - auc: 0.9776 - precision: 0.8838 - recall: 0.8573 - f1score: 0.2435 - val_loss: 1.9457 - val_acc: 0.5481 - val_auc: 0.9779 - val_precision: 0.8850 - val_recall: 0.8588 - val_f1score: 0.1491\n",
      "Epoch 27/50\n",
      "150/150 [==============================] - 42s 283ms/step - loss: 0.0163 - acc: 0.9949 - auc: 0.9782 - precision: 0.8862 - recall: 0.8605 - f1score: 0.2481 - val_loss: 2.3831 - val_acc: 0.5550 - val_auc: 0.9784 - val_precision: 0.8873 - val_recall: 0.8621 - val_f1score: 0.1475\n",
      "Epoch 28/50\n",
      "150/150 [==============================] - 43s 284ms/step - loss: 0.0400 - acc: 0.9861 - auc: 0.9786 - precision: 0.8884 - recall: 0.8636 - f1score: 0.2459 - val_loss: 2.1222 - val_acc: 0.5447 - val_auc: 0.9787 - val_precision: 0.8892 - val_recall: 0.8648 - val_f1score: 0.1451\n",
      "Epoch 29/50\n"
     ]
    },
    {
     "name": "stdout",
     "output_type": "stream",
     "text": [
      "150/150 [==============================] - 42s 282ms/step - loss: 0.0397 - acc: 0.9852 - auc: 0.9789 - precision: 0.8902 - recall: 0.8662 - f1score: 0.2456 - val_loss: 2.1419 - val_acc: 0.5326 - val_auc: 0.9790 - val_precision: 0.8909 - val_recall: 0.8672 - val_f1score: 0.1458\n",
      "Epoch 30/50\n",
      "150/150 [==============================] - 42s 282ms/step - loss: 0.0594 - acc: 0.9782 - auc: 0.9791 - precision: 0.8917 - recall: 0.8684 - f1score: 0.2442 - val_loss: 1.7939 - val_acc: 0.5206 - val_auc: 0.9793 - val_precision: 0.8923 - val_recall: 0.8693 - val_f1score: 0.1455\n",
      "Epoch 31/50\n",
      "150/150 [==============================] - 42s 282ms/step - loss: 0.0219 - acc: 0.9941 - auc: 0.9795 - precision: 0.8932 - recall: 0.8705 - f1score: 0.2476 - val_loss: 2.1917 - val_acc: 0.5567 - val_auc: 0.9796 - val_precision: 0.8941 - val_recall: 0.8717 - val_f1score: 0.1479\n",
      "Epoch 32/50\n",
      "150/150 [==============================] - 42s 281ms/step - loss: 0.0305 - acc: 0.9894 - auc: 0.9798 - precision: 0.8949 - recall: 0.8728 - f1score: 0.2469 - val_loss: 2.0080 - val_acc: 0.5258 - val_auc: 0.9799 - val_precision: 0.8956 - val_recall: 0.8738 - val_f1score: 0.1444\n",
      "Epoch 33/50\n",
      "150/150 [==============================] - 42s 283ms/step - loss: 0.0273 - acc: 0.9922 - auc: 0.9801 - precision: 0.8964 - recall: 0.8749 - f1score: 0.2472 - val_loss: 2.0404 - val_acc: 0.5412 - val_auc: 0.9802 - val_precision: 0.8970 - val_recall: 0.8759 - val_f1score: 0.1464\n",
      "Epoch 34/50\n",
      "150/150 [==============================] - 42s 281ms/step - loss: 0.0365 - acc: 0.9884 - auc: 0.9803 - precision: 0.8977 - recall: 0.8768 - f1score: 0.2461 - val_loss: 1.9483 - val_acc: 0.5601 - val_auc: 0.9805 - val_precision: 0.8984 - val_recall: 0.8777 - val_f1score: 0.1490\n",
      "Epoch 35/50\n",
      "150/150 [==============================] - 43s 283ms/step - loss: 0.0156 - acc: 0.9949 - auc: 0.9807 - precision: 0.8991 - recall: 0.8788 - f1score: 0.2482 - val_loss: 2.4234 - val_acc: 0.5326 - val_auc: 0.9807 - val_precision: 0.8997 - val_recall: 0.8797 - val_f1score: 0.1454\n",
      "Epoch 36/50\n",
      "150/150 [==============================] - 42s 281ms/step - loss: 0.0289 - acc: 0.9930 - auc: 0.9808 - precision: 0.9004 - recall: 0.8806 - f1score: 0.2471 - val_loss: 2.1886 - val_acc: 0.5447 - val_auc: 0.9809 - val_precision: 0.9010 - val_recall: 0.8814 - val_f1score: 0.1487\n",
      "Epoch 37/50\n",
      "150/150 [==============================] - 42s 282ms/step - loss: 0.0383 - acc: 0.9865 - auc: 0.9810 - precision: 0.9016 - recall: 0.8823 - f1score: 0.2461 - val_loss: 2.1213 - val_acc: 0.5258 - val_auc: 0.9811 - val_precision: 0.9020 - val_recall: 0.8829 - val_f1score: 0.1426\n",
      "Epoch 38/50\n",
      "150/150 [==============================] - 42s 282ms/step - loss: 0.0212 - acc: 0.9932 - auc: 0.9812 - precision: 0.9027 - recall: 0.8838 - f1score: 0.2478 - val_loss: 2.4675 - val_acc: 0.5275 - val_auc: 0.9812 - val_precision: 0.9031 - val_recall: 0.8844 - val_f1score: 0.1435\n",
      "Epoch 39/50\n",
      "150/150 [==============================] - 42s 283ms/step - loss: 0.0199 - acc: 0.9937 - auc: 0.9813 - precision: 0.9037 - recall: 0.8853 - f1score: 0.2479 - val_loss: 2.2419 - val_acc: 0.5258 - val_auc: 0.9814 - val_precision: 0.9042 - val_recall: 0.8859 - val_f1score: 0.1422\n",
      "Epoch 40/50\n",
      "150/150 [==============================] - 42s 281ms/step - loss: 0.0435 - acc: 0.9860 - auc: 0.9815 - precision: 0.9046 - recall: 0.8866 - f1score: 0.2456 - val_loss: 2.0554 - val_acc: 0.5069 - val_auc: 0.9815 - val_precision: 0.9049 - val_recall: 0.8871 - val_f1score: 0.1399\n",
      "Epoch 41/50\n",
      "150/150 [==============================] - 42s 281ms/step - loss: 0.0344 - acc: 0.9893 - auc: 0.9816 - precision: 0.9054 - recall: 0.8878 - f1score: 0.2464 - val_loss: 2.4430 - val_acc: 0.5017 - val_auc: 0.9816 - val_precision: 0.9058 - val_recall: 0.8883 - val_f1score: 0.1354\n",
      "Epoch 42/50\n",
      "150/150 [==============================] - 42s 281ms/step - loss: 0.0208 - acc: 0.9926 - auc: 0.9817 - precision: 0.9062 - recall: 0.8890 - f1score: 0.2477 - val_loss: 2.5729 - val_acc: 0.5120 - val_auc: 0.9817 - val_precision: 0.9066 - val_recall: 0.8895 - val_f1score: 0.1366\n",
      "Epoch 43/50\n",
      "150/150 [==============================] - 42s 278ms/step - loss: 0.0346 - acc: 0.9882 - auc: 0.9818 - precision: 0.9070 - recall: 0.8901 - f1score: 0.2465 - val_loss: 2.1691 - val_acc: 0.5292 - val_auc: 0.9818 - val_precision: 0.9073 - val_recall: 0.8906 - val_f1score: 0.1424\n",
      "Epoch 44/50\n",
      "150/150 [==============================] - 42s 280ms/step - loss: 0.0285 - acc: 0.9890 - auc: 0.9819 - precision: 0.9078 - recall: 0.8912 - f1score: 0.2470 - val_loss: 2.4591 - val_acc: 0.5258 - val_auc: 0.9819 - val_precision: 0.9081 - val_recall: 0.8917 - val_f1score: 0.1397\n",
      "Epoch 45/50\n",
      "150/150 [==============================] - 42s 279ms/step - loss: 0.0271 - acc: 0.9901 - auc: 0.9819 - precision: 0.9085 - recall: 0.8923 - f1score: 0.2472 - val_loss: 2.1842 - val_acc: 0.5344 - val_auc: 0.9820 - val_precision: 0.9088 - val_recall: 0.8927 - val_f1score: 0.1445\n",
      "Epoch 46/50\n",
      "150/150 [==============================] - 43s 287ms/step - loss: 0.0277 - acc: 0.9898 - auc: 0.9820 - precision: 0.9092 - recall: 0.8933 - f1score: 0.2472 - val_loss: 2.4490 - val_acc: 0.5447 - val_auc: 0.9821 - val_precision: 0.9095 - val_recall: 0.8938 - val_f1score: 0.1455\n",
      "Epoch 47/50\n",
      "150/150 [==============================] - 42s 281ms/step - loss: 0.0135 - acc: 0.9966 - auc: 0.9821 - precision: 0.9100 - recall: 0.8944 - f1score: 0.2485 - val_loss: 2.3973 - val_acc: 0.5636 - val_auc: 0.9822 - val_precision: 0.9104 - val_recall: 0.8950 - val_f1score: 0.1489\n",
      "Epoch 48/50\n",
      "150/150 [==============================] - 43s 289ms/step - loss: 0.0061 - acc: 0.9987 - auc: 0.9822 - precision: 0.9109 - recall: 0.8956 - f1score: 0.2493 - val_loss: 2.7381 - val_acc: 0.5498 - val_auc: 0.9822 - val_precision: 0.9112 - val_recall: 0.8961 - val_f1score: 0.1443\n",
      "Epoch 49/50\n",
      "150/150 [==============================] - 42s 280ms/step - loss: 0.0475 - acc: 0.9831 - auc: 0.9823 - precision: 0.9115 - recall: 0.8965 - f1score: 0.2452 - val_loss: 2.0494 - val_acc: 0.5515 - val_auc: 0.9823 - val_precision: 0.9117 - val_recall: 0.8969 - val_f1score: 0.1479\n",
      "Epoch 50/50\n",
      "150/150 [==============================] - 43s 289ms/step - loss: 0.0154 - acc: 0.9952 - auc: 0.9824 - precision: 0.9121 - recall: 0.8974 - f1score: 0.2484 - val_loss: 2.4101 - val_acc: 0.5361 - val_auc: 0.9824 - val_precision: 0.9124 - val_recall: 0.8979 - val_f1score: 0.1446\n"
     ]
    }
   ],
   "source": [
    "history = additional_model.fit_generator(dgf, \n",
    "            steps_per_epoch=150, \n",
    "            epochs=50, \n",
    "            validation_data=(X_val,y_val), \n",
    "            validation_steps=32, \n",
    "            callbacks=[checkpoint])"
   ]
  },
  {
   "cell_type": "code",
   "execution_count": 11,
   "metadata": {},
   "outputs": [
    {
     "data": {
      "image/png": "[encoded data removed]",
      "text/plain": [
       "<Figure size 432x288 with 1 Axes>"
      ]
     },
     "metadata": {
      "needs_background": "light"
     },
     "output_type": "display_data"
    },
    {
     "data": {
      "image/png": "[encoded data removed]",
      "text/plain": [
       "<Figure size 432x288 with 1 Axes>"
      ]
     },
     "metadata": {
      "needs_background": "light"
     },
     "output_type": "display_data"
    }
   ],
   "source": [
    "acc = history.history['acc']\n",
    "val_acc = history.history['val_acc']\n",
    "loss = history.history['loss']\n",
    "val_loss = history.history['val_loss']\n",
    " \n",
    "epochs = range(1, len(acc) + 1)\n",
    " \n",
    "plt.plot(epochs, acc, 'bo', label='Training acc')\n",
    "plt.plot(epochs, val_acc, 'r', label='Validation acc')\n",
    "plt.title('Accuracy')\n",
    "plt.legend()\n",
    "plt.figure()\n",
    " \n",
    "plt.plot(epochs, loss, 'bo', label='Training loss')\n",
    "plt.plot(epochs, val_loss, 'r', label='Validation loss')\n",
    "plt.title('Loss')\n",
    "plt.legend()\n",
    " \n",
    "plt.show()"
   ]
  },
  {
   "cell_type": "code",
   "execution_count": 12,
   "metadata": {},
   "outputs": [],
   "source": [
    "X_test=np.load('X_test.npy')\n",
    "y_test=np.load('y_test.npy')"
   ]
  },
  {
   "cell_type": "code",
   "execution_count": 13,
   "metadata": {},
   "outputs": [
    {
     "name": "stdout",
     "output_type": "stream",
     "text": [
      "582/582 [==============================] - 1s 3ms/step\n",
      "loss: 2.410, accuracy: 0.536, auc: 0.982, precision: 0.912, recall: 0.897, f1score: 0.145\n"
     ]
    }
   ],
   "source": [
    "_loss, _acc, _auc, _precision, _recall, _f1score = additional_model.evaluate(X_val, y_val, batch_size=32)\n",
    "print('loss: {:.3f}, accuracy: {:.3f}, auc: {:.3f}, precision: {:.3f}, recall: {:.3f}, f1score: {:.3f}'.format(_loss, _acc, _auc, _precision, _recall, _f1score))"
   ]
  },
  {
   "cell_type": "code",
   "execution_count": 14,
   "metadata": {},
   "outputs": [
    {
     "name": "stdout",
     "output_type": "stream",
     "text": [
      "704/704 [==============================] - 2s 3ms/step\n",
      "loss: 81105.613, accuracy: 0.267, auc: 0.981, precision: 0.910, recall: 0.896, f1score: nan\n"
     ]
    }
   ],
   "source": [
    "_loss, _acc, _auc, _precision, _recall, _f1score = additional_model.evaluate(X_test, y_test, batch_size=32)\n",
    "print('loss: {:.3f}, accuracy: {:.3f}, auc: {:.3f}, precision: {:.3f}, recall: {:.3f}, f1score: {:.3f}'.format(_loss, _acc, _auc, _precision, _recall, _f1score))"
   ]
  },
  {
   "cell_type": "code",
   "execution_count": 15,
   "metadata": {},
   "outputs": [],
   "source": [
    "additional_model.save('VGG16_transfer learning_1.h5')"
   ]
  },
  {
   "cell_type": "code",
   "execution_count": null,
   "metadata": {},
   "outputs": [],
   "source": []
  },
  {
   "cell_type": "code",
   "execution_count": null,
   "metadata": {},
   "outputs": [],
   "source": []
  },
  {
   "cell_type": "code",
   "execution_count": null,
   "metadata": {},
   "outputs": [],
   "source": []
  }
 ],
 "metadata": {
  "kernelspec": {
   "display_name": "Python 3",
   "language": "python",
   "name": "python3"
  },
  "language_info": {
   "codemirror_mode": {
    "name": "ipython",
    "version": 3
   },
   "file_extension": ".py",
   "mimetype": "text/x-python",
   "name": "python",
   "nbconvert_exporter": "python",
   "pygments_lexer": "ipython3",
   "version": "3.7.7"
  }
 },
 "nbformat": 4,
 "nbformat_minor": 2
}
