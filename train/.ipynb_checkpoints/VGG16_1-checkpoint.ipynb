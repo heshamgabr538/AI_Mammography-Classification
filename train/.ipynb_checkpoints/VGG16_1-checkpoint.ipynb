{
 "cells": [
  {
   "cell_type": "code",
   "execution_count": 1,
   "metadata": {},
   "outputs": [
    {
     "data": {
      "text/plain": [
       "'C:\\\\Users\\\\Owner2\\\\Desktop\\\\G팔로미_vuno'"
      ]
     },
     "execution_count": 1,
     "metadata": {},
     "output_type": "execute_result"
    }
   ],
   "source": [
    "import os\n",
    "import pandas as pd\n",
    "from matplotlib import pyplot as plt\n",
    "import numpy as np\n",
    "import cv2\n",
    "\n",
    "#data path 수정\n",
    "os.chdir(\"C:\\\\Users\\\\Owner2\\\\Desktop\\\\G팔로미_vuno\")\n",
    "os.getcwd()"
   ]
  },
  {
   "cell_type": "code",
   "execution_count": 2,
   "metadata": {},
   "outputs": [],
   "source": [
    "X=np.load('data_X.npy')\n",
    "y=np.load('data_y.npy')"
   ]
  },
  {
   "cell_type": "code",
   "execution_count": 3,
   "metadata": {},
   "outputs": [],
   "source": [
    "#train, validation set 분리\n",
    "from sklearn.model_selection import train_test_split\n",
    "\n",
    "X_train, X_val, y_train, y_val = train_test_split(X,y,test_size=0.3)"
   ]
  },
  {
   "cell_type": "code",
   "execution_count": 4,
   "metadata": {},
   "outputs": [
    {
     "name": "stderr",
     "output_type": "stream",
     "text": [
      "Using TensorFlow backend.\n"
     ]
    }
   ],
   "source": [
    "from keras.preprocessing.image import ImageDataGenerator\n",
    "\n",
    "datagen = ImageDataGenerator(\n",
    "    #featurewise_center=True, #center 중심 유지\n",
    "    #featurewise_std_normalization=True, #normalization\n",
    "    rotation_range=25.0,\n",
    "    #width_shift_range=0.2,\n",
    "    #height_shift_range=0.2,\n",
    "    #brightness_range=[0.2,1.0],\n",
    "    horizontal_flip=True) #수평방향 뒤집기\n",
    "\n",
    "datagen.fit(X_train)\n",
    "\n",
    "dgf=datagen.flow(X_train,y_train,batch_size=32)"
   ]
  },
  {
   "cell_type": "code",
   "execution_count": 5,
   "metadata": {},
   "outputs": [
    {
     "name": "stdout",
     "output_type": "stream",
     "text": [
      "Model: \"vgg16\"\n",
      "_________________________________________________________________\n",
      "Layer (type)                 Output Shape              Param #   \n",
      "=================================================================\n",
      "input_1 (InputLayer)         (None, 224, 224, 3)       0         \n",
      "_________________________________________________________________\n",
      "block1_conv1 (Conv2D)        (None, 224, 224, 64)      1792      \n",
      "_________________________________________________________________\n",
      "block1_conv2 (Conv2D)        (None, 224, 224, 64)      36928     \n",
      "_________________________________________________________________\n",
      "block1_pool (MaxPooling2D)   (None, 112, 112, 64)      0         \n",
      "_________________________________________________________________\n",
      "block2_conv1 (Conv2D)        (None, 112, 112, 128)     73856     \n",
      "_________________________________________________________________\n",
      "block2_conv2 (Conv2D)        (None, 112, 112, 128)     147584    \n",
      "_________________________________________________________________\n",
      "block2_pool (MaxPooling2D)   (None, 56, 56, 128)       0         \n",
      "_________________________________________________________________\n",
      "block3_conv1 (Conv2D)        (None, 56, 56, 256)       295168    \n",
      "_________________________________________________________________\n",
      "block3_conv2 (Conv2D)        (None, 56, 56, 256)       590080    \n",
      "_________________________________________________________________\n",
      "block3_conv3 (Conv2D)        (None, 56, 56, 256)       590080    \n",
      "_________________________________________________________________\n",
      "block3_pool (MaxPooling2D)   (None, 28, 28, 256)       0         \n",
      "_________________________________________________________________\n",
      "block4_conv1 (Conv2D)        (None, 28, 28, 512)       1180160   \n",
      "_________________________________________________________________\n",
      "block4_conv2 (Conv2D)        (None, 28, 28, 512)       2359808   \n",
      "_________________________________________________________________\n",
      "block4_conv3 (Conv2D)        (None, 28, 28, 512)       2359808   \n",
      "_________________________________________________________________\n",
      "block4_pool (MaxPooling2D)   (None, 14, 14, 512)       0         \n",
      "_________________________________________________________________\n",
      "block5_conv1 (Conv2D)        (None, 14, 14, 512)       2359808   \n",
      "_________________________________________________________________\n",
      "block5_conv2 (Conv2D)        (None, 14, 14, 512)       2359808   \n",
      "_________________________________________________________________\n",
      "block5_conv3 (Conv2D)        (None, 14, 14, 512)       2359808   \n",
      "_________________________________________________________________\n",
      "block5_pool (MaxPooling2D)   (None, 7, 7, 512)         0         \n",
      "=================================================================\n",
      "Total params: 14,714,688\n",
      "Trainable params: 14,714,688\n",
      "Non-trainable params: 0\n",
      "_________________________________________________________________\n"
     ]
    }
   ],
   "source": [
    "from keras import models, layers\n",
    "from keras import Input\n",
    "from keras.applications import VGG16\n",
    "from keras.models import Model, load_model\n",
    "from keras.preprocessing.image import ImageDataGenerator\n",
    "from keras import optimizers, initializers, regularizers, metrics\n",
    "from keras.callbacks import ModelCheckpoint, EarlyStopping\n",
    "from keras.layers import BatchNormalization, Conv2D, Activation, Dense, GlobalAveragePooling2D, MaxPooling2D, ZeroPadding2D, Add\n",
    "\n",
    "model = VGG16(weights=None, include_top=False, input_shape=(224, 224, 3))\n",
    "model.trainable = True\n",
    "model.summary()"
   ]
  },
  {
   "cell_type": "code",
   "execution_count": 6,
   "metadata": {},
   "outputs": [
    {
     "name": "stdout",
     "output_type": "stream",
     "text": [
      "Model: \"sequential_1\"\n",
      "_________________________________________________________________\n",
      "Layer (type)                 Output Shape              Param #   \n",
      "=================================================================\n",
      "vgg16 (Model)                (None, 7, 7, 512)         14714688  \n",
      "_________________________________________________________________\n",
      "flatten_1 (Flatten)          (None, 25088)             0         \n",
      "_________________________________________________________________\n",
      "dense_1 (Dense)              (None, 4)                 100356    \n",
      "=================================================================\n",
      "Total params: 14,815,044\n",
      "Trainable params: 14,815,044\n",
      "Non-trainable params: 0\n",
      "_________________________________________________________________\n"
     ]
    }
   ],
   "source": [
    "#customizing my layers\n",
    "additional_model = models.Sequential()\n",
    "additional_model.add(model)\n",
    "additional_model.add(layers.Flatten())\n",
    "additional_model.add(layers.Dense(4, activation='softmax'))\n",
    "\n",
    "additional_model.summary()"
   ]
  },
  {
   "cell_type": "code",
   "execution_count": 7,
   "metadata": {},
   "outputs": [],
   "source": [
    "def f1score(precision, recall):\n",
    "    _f1score = ( 2 * recall * precision) / (recall + precision)\n",
    "    \n",
    "    # return a single tensor value\n",
    "    return _f1score"
   ]
  },
  {
   "cell_type": "code",
   "execution_count": 8,
   "metadata": {},
   "outputs": [],
   "source": [
    "# checkpoint = ModelCheckpoint(filepath='My_VGG_{epoch:03d}_{val_loss:.7f}.hdf5',monitor='loss', mode='min', save_best_only=True)\n",
    "checkpoint = ModelCheckpoint(filepath='VGG16_1.hdf5', \n",
    "            monitor='loss', \n",
    "            mode='min', \n",
    "            save_best_only=True)"
   ]
  },
  {
   "cell_type": "code",
   "execution_count": 9,
   "metadata": {},
   "outputs": [],
   "source": [
    "import tensorflow as tf\n",
    "\n",
    "additional_model.compile(loss='categorical_crossentropy', \n",
    "              optimizer=optimizers.Adam(lr=2e-5),\n",
    "              metrics=['acc',tf.keras.metrics.AUC(),\n",
    "                      tf.keras.metrics.Precision(),\n",
    "                      tf.keras.metrics.Recall(), f1score])"
   ]
  },
  {
   "cell_type": "code",
   "execution_count": 10,
   "metadata": {},
   "outputs": [
    {
     "name": "stdout",
     "output_type": "stream",
     "text": [
      "Epoch 1/40\n",
      "150/150 [==============================] - 46s 307ms/step - loss: 1.1909 - acc: 0.3902 - auc: 0.6255 - precision: 0.3047 - recall: 0.0501 - f1score: 0.1211 - val_loss: 1.0484 - val_acc: 0.4708 - val_auc: 0.7267 - val_precision: 0.5185 - val_recall: 0.1484 - val_f1score: 0.1343\n",
      "Epoch 2/40\n",
      "150/150 [==============================] - 40s 270ms/step - loss: 1.0158 - acc: 0.4598 - auc: 0.7492 - precision: 0.5275 - recall: 0.1775 - f1score: 0.1391 - val_loss: 0.9671 - val_acc: 0.4588 - val_auc: 0.7663 - val_precision: 0.5339 - val_recall: 0.2049 - val_f1score: 0.1440\n",
      "Epoch 3/40\n",
      "150/150 [==============================] - 42s 282ms/step - loss: 0.9516 - acc: 0.4835 - auc: 0.7767 - precision: 0.5347 - recall: 0.2253 - f1score: 0.1451 - val_loss: 0.9189 - val_acc: 0.5000 - val_auc: 0.7847 - val_precision: 0.5362 - val_recall: 0.2438 - val_f1score: 0.1490\n",
      "Epoch 4/40\n",
      "150/150 [==============================] - 41s 274ms/step - loss: 0.8893 - acc: 0.5065 - auc: 0.7913 - precision: 0.5364 - recall: 0.2577 - f1score: 0.1505 - val_loss: 0.9418 - val_acc: 0.4725 - val_auc: 0.7979 - val_precision: 0.5397 - val_recall: 0.2744 - val_f1score: 0.1504\n",
      "Epoch 5/40\n",
      "150/150 [==============================] - 42s 283ms/step - loss: 0.8083 - acc: 0.5281 - auc: 0.8036 - precision: 0.5397 - recall: 0.2895 - f1score: 0.1579 - val_loss: 0.8690 - val_acc: 0.5395 - val_auc: 0.8095 - val_precision: 0.5417 - val_recall: 0.3049 - val_f1score: 0.1575\n",
      "Epoch 6/40\n",
      "150/150 [==============================] - 41s 274ms/step - loss: 0.7869 - acc: 0.5438 - auc: 0.8137 - precision: 0.5428 - recall: 0.3179 - f1score: 0.1604 - val_loss: 0.8298 - val_acc: 0.4708 - val_auc: 0.8176 - val_precision: 0.5432 - val_recall: 0.3292 - val_f1score: 0.1561\n",
      "Epoch 7/40\n",
      "150/150 [==============================] - 42s 281ms/step - loss: 0.7540 - acc: 0.5544 - auc: 0.8210 - precision: 0.5443 - recall: 0.3397 - f1score: 0.1631 - val_loss: 0.8607 - val_acc: 0.5086 - val_auc: 0.8241 - val_precision: 0.5464 - val_recall: 0.3506 - val_f1score: 0.1567\n",
      "Epoch 8/40\n",
      "150/150 [==============================] - 41s 275ms/step - loss: 0.7395 - acc: 0.5737 - auc: 0.8271 - precision: 0.5488 - recall: 0.3612 - f1score: 0.1648 - val_loss: 0.8260 - val_acc: 0.4897 - val_auc: 0.8298 - val_precision: 0.5516 - val_recall: 0.3708 - val_f1score: 0.1588\n",
      "Epoch 9/40\n",
      "150/150 [==============================] - 42s 282ms/step - loss: 0.7495 - acc: 0.5679 - auc: 0.8320 - precision: 0.5540 - recall: 0.3791 - f1score: 0.1641 - val_loss: 0.8024 - val_acc: 0.5069 - val_auc: 0.8338 - val_precision: 0.5552 - val_recall: 0.3850 - val_f1score: 0.1610\n",
      "Epoch 10/40\n",
      "150/150 [==============================] - 41s 274ms/step - loss: 0.7663 - acc: 0.5702 - auc: 0.8356 - precision: 0.5571 - recall: 0.3920 - f1score: 0.1627 - val_loss: 0.8106 - val_acc: 0.5292 - val_auc: 0.8368 - val_precision: 0.5586 - val_recall: 0.3965 - val_f1score: 0.1589\n",
      "Epoch 11/40\n",
      "150/150 [==============================] - 42s 281ms/step - loss: 0.7271 - acc: 0.5754 - auc: 0.8382 - precision: 0.5597 - recall: 0.4017 - f1score: 0.1660 - val_loss: 0.7945 - val_acc: 0.5189 - val_auc: 0.8398 - val_precision: 0.5611 - val_recall: 0.4078 - val_f1score: 0.1610\n",
      "Epoch 12/40\n",
      "150/150 [==============================] - 41s 273ms/step - loss: 0.7184 - acc: 0.5958 - auc: 0.8413 - precision: 0.5628 - recall: 0.4137 - f1score: 0.1674 - val_loss: 0.7961 - val_acc: 0.5155 - val_auc: 0.8428 - val_precision: 0.5650 - val_recall: 0.4196 - val_f1score: 0.1613\n",
      "Epoch 13/40\n",
      "150/150 [==============================] - 42s 281ms/step - loss: 0.7539 - acc: 0.5841 - auc: 0.8437 - precision: 0.5665 - recall: 0.4234 - f1score: 0.1643 - val_loss: 0.8373 - val_acc: 0.5258 - val_auc: 0.8448 - val_precision: 0.5682 - val_recall: 0.4276 - val_f1score: 0.1601\n",
      "Epoch 14/40\n",
      "150/150 [==============================] - 41s 273ms/step - loss: 0.7279 - acc: 0.5901 - auc: 0.8458 - precision: 0.5693 - recall: 0.4316 - f1score: 0.1669 - val_loss: 0.8108 - val_acc: 0.4948 - val_auc: 0.8468 - val_precision: 0.5707 - val_recall: 0.4357 - val_f1score: 0.1597\n",
      "Epoch 15/40\n",
      "150/150 [==============================] - 42s 283ms/step - loss: 0.6953 - acc: 0.6022 - auc: 0.8480 - precision: 0.5720 - recall: 0.4399 - f1score: 0.1696 - val_loss: 0.8379 - val_acc: 0.5052 - val_auc: 0.8491 - val_precision: 0.5731 - val_recall: 0.4439 - val_f1score: 0.1598\n",
      "Epoch 16/40\n",
      "150/150 [==============================] - 40s 268ms/step - loss: 0.6976 - acc: 0.6113 - auc: 0.8500 - precision: 0.5745 - recall: 0.4476 - f1score: 0.1697 - val_loss: 0.8028 - val_acc: 0.5395 - val_auc: 0.8512 - val_precision: 0.5762 - val_recall: 0.4519 - val_f1score: 0.1636\n",
      "Epoch 17/40\n",
      "150/150 [==============================] - 42s 279ms/step - loss: 0.6697 - acc: 0.6374 - auc: 0.8524 - precision: 0.5783 - recall: 0.4564 - f1score: 0.1724 - val_loss: 0.8624 - val_acc: 0.5326 - val_auc: 0.8536 - val_precision: 0.5804 - val_recall: 0.4609 - val_f1score: 0.1614\n",
      "Epoch 18/40\n",
      "150/150 [==============================] - 41s 272ms/step - loss: 0.6807 - acc: 0.6246 - auc: 0.8546 - precision: 0.5819 - recall: 0.4646 - f1score: 0.1717 - val_loss: 0.9051 - val_acc: 0.4931 - val_auc: 0.8554 - val_precision: 0.5831 - val_recall: 0.4681 - val_f1score: 0.1575\n",
      "Epoch 19/40\n",
      "150/150 [==============================] - 42s 278ms/step - loss: 0.6542 - acc: 0.6391 - auc: 0.8564 - precision: 0.5845 - recall: 0.4716 - f1score: 0.1745 - val_loss: 0.8109 - val_acc: 0.5395 - val_auc: 0.8576 - val_precision: 0.5862 - val_recall: 0.4755 - val_f1score: 0.1617\n",
      "Epoch 20/40\n",
      "150/150 [==============================] - 41s 272ms/step - loss: 0.6378 - acc: 0.6648 - auc: 0.8588 - precision: 0.5885 - recall: 0.4797 - f1score: 0.1763 - val_loss: 0.9058 - val_acc: 0.4845 - val_auc: 0.8599 - val_precision: 0.5904 - val_recall: 0.4836 - val_f1score: 0.1563\n",
      "Epoch 21/40\n",
      "150/150 [==============================] - 42s 278ms/step - loss: 0.6384 - acc: 0.6534 - auc: 0.8608 - precision: 0.5919 - recall: 0.4870 - f1score: 0.1764 - val_loss: 0.8580 - val_acc: 0.5086 - val_auc: 0.8618 - val_precision: 0.5932 - val_recall: 0.4901 - val_f1score: 0.1596\n",
      "Epoch 22/40\n",
      "150/150 [==============================] - 41s 272ms/step - loss: 0.6337 - acc: 0.6597 - auc: 0.8628 - precision: 0.5947 - recall: 0.4933 - f1score: 0.1774 - val_loss: 0.9218 - val_acc: 0.5223 - val_auc: 0.8638 - val_precision: 0.5963 - val_recall: 0.4964 - val_f1score: nan\n",
      "Epoch 23/40\n",
      "150/150 [==============================] - 42s 277ms/step - loss: 0.6197 - acc: 0.6635 - auc: 0.8649 - precision: 0.5979 - recall: 0.4998 - f1score: 0.1788 - val_loss: 0.8509 - val_acc: 0.5258 - val_auc: 0.8658 - val_precision: 0.5993 - val_recall: 0.5026 - val_f1score: 0.1603\n",
      "Epoch 24/40\n",
      "150/150 [==============================] - 41s 272ms/step - loss: 0.5966 - acc: 0.6834 - auc: 0.8668 - precision: 0.6010 - recall: 0.5058 - f1score: 0.1812 - val_loss: 0.9178 - val_acc: 0.5447 - val_auc: 0.8679 - val_precision: 0.6028 - val_recall: 0.5091 - val_f1score: nan\n",
      "Epoch 25/40\n",
      "150/150 [==============================] - 41s 276ms/step - loss: 0.5813 - acc: 0.6989 - auc: 0.8689 - precision: 0.6047 - recall: 0.5124 - f1score: nan - val_loss: 0.9635 - val_acc: 0.5206 - val_auc: 0.8700 - val_precision: 0.6067 - val_recall: 0.5157 - val_f1score: nan\n",
      "Epoch 26/40\n",
      "150/150 [==============================] - 41s 272ms/step - loss: 0.5790 - acc: 0.7021 - auc: 0.8710 - precision: 0.6084 - recall: 0.5188 - f1score: nan - val_loss: 0.8307 - val_acc: 0.5309 - val_auc: 0.8721 - val_precision: 0.6103 - val_recall: 0.5219 - val_f1score: nan\n",
      "Epoch 27/40\n",
      "150/150 [==============================] - 41s 275ms/step - loss: 0.5791 - acc: 0.7026 - auc: 0.8730 - precision: 0.6119 - recall: 0.5246 - f1score: nan - val_loss: 0.9860 - val_acc: 0.5206 - val_auc: 0.8740 - val_precision: 0.6136 - val_recall: 0.5275 - val_f1score: nan\n",
      "Epoch 28/40\n",
      "150/150 [==============================] - 41s 274ms/step - loss: 0.5543 - acc: 0.7269 - auc: 0.8750 - precision: 0.6156 - recall: 0.5305 - f1score: nan - val_loss: 0.8623 - val_acc: 0.5309 - val_auc: 0.8761 - val_precision: 0.6175 - val_recall: 0.5335 - val_f1score: 0.1607\n",
      "Epoch 29/40\n"
     ]
    },
    {
     "name": "stdout",
     "output_type": "stream",
     "text": [
      "150/150 [==============================] - 42s 278ms/step - loss: 0.5190 - acc: 0.7379 - auc: 0.8772 - precision: 0.6195 - recall: 0.5366 - f1score: nan - val_loss: 1.0174 - val_acc: 0.5447 - val_auc: 0.8783 - val_precision: 0.6214 - val_recall: 0.5396 - val_f1score: nan\n",
      "Epoch 30/40\n",
      "150/150 [==============================] - 41s 273ms/step - loss: 0.5048 - acc: 0.7521 - auc: 0.8795 - precision: 0.6236 - recall: 0.5428 - f1score: nan - val_loss: 1.0400 - val_acc: 0.5447 - val_auc: 0.8806 - val_precision: 0.6256 - val_recall: 0.5458 - val_f1score: nan\n",
      "Epoch 31/40\n",
      "150/150 [==============================] - 41s 274ms/step - loss: 0.5055 - acc: 0.7501 - auc: 0.8816 - precision: 0.6275 - recall: 0.5486 - f1score: nan - val_loss: 0.9592 - val_acc: 0.5292 - val_auc: 0.8826 - val_precision: 0.6294 - val_recall: 0.5515 - val_f1score: nan\n",
      "Epoch 32/40\n",
      "150/150 [==============================] - 41s 273ms/step - loss: 0.5068 - acc: 0.7564 - auc: 0.8836 - precision: 0.6313 - recall: 0.5543 - f1score: nan - val_loss: 0.9799 - val_acc: 0.5258 - val_auc: 0.8846 - val_precision: 0.6331 - val_recall: 0.5570 - val_f1score: nan\n",
      "Epoch 33/40\n",
      "150/150 [==============================] - 41s 273ms/step - loss: 0.4535 - acc: 0.7885 - auc: 0.8858 - precision: 0.6353 - recall: 0.5600 - f1score: nan - val_loss: 1.1158 - val_acc: 0.5481 - val_auc: 0.8869 - val_precision: 0.6375 - val_recall: 0.5631 - val_f1score: nan\n",
      "Epoch 34/40\n",
      "150/150 [==============================] - 41s 272ms/step - loss: 0.4417 - acc: 0.7953 - auc: 0.8881 - precision: 0.6398 - recall: 0.5661 - f1score: nan - val_loss: 1.0858 - val_acc: 0.5206 - val_auc: 0.8892 - val_precision: 0.6419 - val_recall: 0.5690 - val_f1score: nan\n",
      "Epoch 35/40\n",
      "150/150 [==============================] - 41s 273ms/step - loss: 0.4335 - acc: 0.7963 - auc: 0.8903 - precision: 0.6439 - recall: 0.5718 - f1score: nan - val_loss: 1.2814 - val_acc: 0.5326 - val_auc: 0.8913 - val_precision: 0.6459 - val_recall: 0.5745 - val_f1score: nan\n",
      "Epoch 36/40\n",
      "150/150 [==============================] - 41s 272ms/step - loss: 0.4003 - acc: 0.8163 - auc: 0.8924 - precision: 0.6481 - recall: 0.5774 - f1score: nan - val_loss: 1.2763 - val_acc: 0.5292 - val_auc: 0.8936 - val_precision: 0.6503 - val_recall: 0.5803 - val_f1score: nan\n",
      "Epoch 37/40\n",
      "150/150 [==============================] - 41s 272ms/step - loss: 0.3963 - acc: 0.8142 - auc: 0.8946 - precision: 0.6523 - recall: 0.5830 - f1score: nan - val_loss: 1.2787 - val_acc: 0.5292 - val_auc: 0.8957 - val_precision: 0.6544 - val_recall: 0.5858 - val_f1score: nan\n",
      "Epoch 38/40\n",
      "150/150 [==============================] - 41s 272ms/step - loss: 0.4981 - acc: 0.7794 - auc: 0.8963 - precision: 0.6558 - recall: 0.5876 - f1score: nan - val_loss: 1.1313 - val_acc: 0.5533 - val_auc: 0.8971 - val_precision: 0.6575 - val_recall: 0.5898 - val_f1score: nan\n",
      "Epoch 39/40\n",
      "150/150 [==============================] - 41s 275ms/step - loss: 0.3495 - acc: 0.8487 - auc: 0.8982 - precision: 0.6598 - recall: 0.5927 - f1score: nan - val_loss: 1.2557 - val_acc: 0.5430 - val_auc: 0.8993 - val_precision: 0.6620 - val_recall: 0.5956 - val_f1score: nan\n",
      "Epoch 40/40\n",
      "150/150 [==============================] - 41s 273ms/step - loss: 0.3237 - acc: 0.8565 - auc: 0.9005 - precision: 0.6643 - recall: 0.5984 - f1score: nan - val_loss: 1.3601 - val_acc: 0.5241 - val_auc: 0.9015 - val_precision: 0.6665 - val_recall: 0.6011 - val_f1score: nan\n"
     ]
    }
   ],
   "source": [
    "history = additional_model.fit_generator(dgf, \n",
    "            steps_per_epoch=150, \n",
    "            epochs=40, \n",
    "            validation_data=(X_val,y_val), \n",
    "            validation_steps=32, \n",
    "            callbacks=[checkpoint])"
   ]
  },
  {
   "cell_type": "code",
   "execution_count": 11,
   "metadata": {},
   "outputs": [
    {
     "data": {
      "image/png": "[encoded data removed]",
      "text/plain": [
       "<Figure size 432x288 with 1 Axes>"
      ]
     },
     "metadata": {
      "needs_background": "light"
     },
     "output_type": "display_data"
    },
    {
     "data": {
      "image/png": "[encoded data removed]",
      "text/plain": [
       "<Figure size 432x288 with 1 Axes>"
      ]
     },
     "metadata": {
      "needs_background": "light"
     },
     "output_type": "display_data"
    }
   ],
   "source": [
    "acc = history.history['acc']\n",
    "val_acc = history.history['val_acc']\n",
    "loss = history.history['loss']\n",
    "val_loss = history.history['val_loss']\n",
    " \n",
    "epochs = range(1, len(acc) + 1)\n",
    " \n",
    "plt.plot(epochs, acc, 'bo', label='Training acc')\n",
    "plt.plot(epochs, val_acc, 'r', label='Validation acc')\n",
    "plt.title('Accuracy')\n",
    "plt.legend()\n",
    "plt.figure()\n",
    " \n",
    "plt.plot(epochs, loss, 'bo', label='Training loss')\n",
    "plt.plot(epochs, val_loss, 'r', label='Validation loss')\n",
    "plt.title('Loss')\n",
    "plt.legend()\n",
    " \n",
    "plt.show()"
   ]
  },
  {
   "cell_type": "code",
   "execution_count": 12,
   "metadata": {},
   "outputs": [],
   "source": [
    "X_test=np.load('X_test.npy')\n",
    "y_test=np.load('y_test.npy')"
   ]
  },
  {
   "cell_type": "code",
   "execution_count": 13,
   "metadata": {},
   "outputs": [
    {
     "name": "stdout",
     "output_type": "stream",
     "text": [
      "582/582 [==============================] - 2s 3ms/step\n",
      "loss: 1.360, accuracy: 0.524, auc: 0.901, precision: 0.666, recall: 0.601, f1score: nan\n"
     ]
    }
   ],
   "source": [
    "_loss, _acc, _auc, _precision, _recall, _f1score = additional_model.evaluate(X_val, y_val, batch_size=32)\n",
    "print('loss: {:.3f}, accuracy: {:.3f}, auc: {:.3f}, precision: {:.3f}, recall: {:.3f}, f1score: {:.3f}'.format(_loss, _acc, _auc, _precision, _recall, _f1score))"
   ]
  },
  {
   "cell_type": "code",
   "execution_count": 14,
   "metadata": {},
   "outputs": [
    {
     "name": "stdout",
     "output_type": "stream",
     "text": [
      "704/704 [==============================] - 2s 3ms/step\n",
      "loss: 531704.081, accuracy: 0.270, auc: 0.900, precision: 0.665, recall: 0.600, f1score: nan\n"
     ]
    }
   ],
   "source": [
    "_loss, _acc, _auc, _precision, _recall, _f1score = additional_model.evaluate(X_test, y_test, batch_size=32)\n",
    "print('loss: {:.3f}, accuracy: {:.3f}, auc: {:.3f}, precision: {:.3f}, recall: {:.3f}, f1score: {:.3f}'.format(_loss, _acc, _auc, _precision, _recall, _f1score))"
   ]
  },
  {
   "cell_type": "code",
   "execution_count": 15,
   "metadata": {},
   "outputs": [],
   "source": [
    "additional_model.save('VGG16_1.h5')"
   ]
  },
  {
   "cell_type": "code",
   "execution_count": null,
   "metadata": {},
   "outputs": [],
   "source": []
  }
 ],
 "metadata": {
  "kernelspec": {
   "display_name": "Python 3",
   "language": "python",
   "name": "python3"
  },
  "language_info": {
   "codemirror_mode": {
    "name": "ipython",
    "version": 3
   },
   "file_extension": ".py",
   "mimetype": "text/x-python",
   "name": "python",
   "nbconvert_exporter": "python",
   "pygments_lexer": "ipython3",
   "version": "3.7.7"
  }
 },
 "nbformat": 4,
 "nbformat_minor": 2
}
