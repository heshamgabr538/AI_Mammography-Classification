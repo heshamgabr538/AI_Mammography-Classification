{
 "cells": [
  {
   "cell_type": "code",
   "execution_count": 1,
   "metadata": {},
   "outputs": [
    {
     "data": {
      "text/plain": [
       "'C:\\\\Users\\\\Owner2\\\\Desktop\\\\G팔로미_vuno'"
      ]
     },
     "execution_count": 1,
     "metadata": {},
     "output_type": "execute_result"
    }
   ],
   "source": [
    "import os\n",
    "import pandas as pd\n",
    "from matplotlib import pyplot as plt\n",
    "import numpy as np\n",
    "import cv2\n",
    "\n",
    "#data path 수정\n",
    "os.chdir(\"C:\\\\Users\\\\Owner2\\\\Desktop\\\\G팔로미_vuno\")\n",
    "os.getcwd()"
   ]
  },
  {
   "cell_type": "code",
   "execution_count": 2,
   "metadata": {},
   "outputs": [],
   "source": [
    "X=np.load('data_X.npy')\n",
    "y=np.load('data_y.npy')"
   ]
  },
  {
   "cell_type": "code",
   "execution_count": 3,
   "metadata": {},
   "outputs": [],
   "source": [
    "#train, validation set 분리\n",
    "from sklearn.model_selection import train_test_split\n",
    "\n",
    "X_train, X_val, y_train, y_val = train_test_split(X,y,test_size=0.3)"
   ]
  },
  {
   "cell_type": "code",
   "execution_count": 4,
   "metadata": {},
   "outputs": [
    {
     "name": "stderr",
     "output_type": "stream",
     "text": [
      "Using TensorFlow backend.\n"
     ]
    }
   ],
   "source": [
    "from keras.preprocessing.image import ImageDataGenerator\n",
    "\n",
    "datagen = ImageDataGenerator(\n",
<<<<<<< HEAD
    "    ##featurewise_center=True,\n",
    "    #featurewise_std_normalization=True, \n",
    "    rotation_range=25.0,\n",
    "    width_shift_range=0.2,\n",
    "    height_shift_range=0.2,\n",
=======
    "    #featurewise_center=True, #center 중심 유지\n",
    "    #featurewise_std_normalization=True, #normalization\n",
    "    rotation_range=25.0,\n",
    "    #width_shift_range=0.2,\n",
    "    #height_shift_range=0.2,\n",
    "    #brightness_range=[0.2,1.0],\n",
>>>>>>> 59c856b1faaaef299ab27f97feff43166b72b602
    "    horizontal_flip=True) #수평방향 뒤집기\n",
    "\n",
    "datagen.fit(X_train)\n",
    "\n",
<<<<<<< HEAD
    "dgf=datagen.flow(X_train,y_train,batch_size=64)"
=======
    "dgf=datagen.flow(X_train,y_train,batch_size=32)"
>>>>>>> 59c856b1faaaef299ab27f97feff43166b72b602
   ]
  },
  {
   "cell_type": "code",
   "execution_count": 5,
   "metadata": {},
   "outputs": [
    {
<<<<<<< HEAD
     "name": "stderr",
     "output_type": "stream",
     "text": [
      "WARNING: Logging before flag parsing goes to stderr.\n",
      "W0605 16:16:14.542713 14160 deprecation_wrapper.py:119] From C:\\Users\\Owner2\\Anaconda3\\envs\\keras2\\lib\\site-packages\\keras\\backend\\tensorflow_backend.py:517: The name tf.placeholder is deprecated. Please use tf.compat.v1.placeholder instead.\n",
      "\n",
      "W0605 16:16:14.563720 14160 deprecation_wrapper.py:119] From C:\\Users\\Owner2\\Anaconda3\\envs\\keras2\\lib\\site-packages\\keras\\backend\\tensorflow_backend.py:74: The name tf.get_default_graph is deprecated. Please use tf.compat.v1.get_default_graph instead.\n",
      "\n",
      "W0605 16:16:14.565707 14160 deprecation_wrapper.py:119] From C:\\Users\\Owner2\\Anaconda3\\envs\\keras2\\lib\\site-packages\\keras\\backend\\tensorflow_backend.py:4185: The name tf.truncated_normal is deprecated. Please use tf.random.truncated_normal instead.\n",
      "\n",
      "W0605 16:16:14.604732 14160 deprecation_wrapper.py:119] From C:\\Users\\Owner2\\Anaconda3\\envs\\keras2\\lib\\site-packages\\keras\\backend\\tensorflow_backend.py:3976: The name tf.nn.max_pool is deprecated. Please use tf.nn.max_pool2d instead.\n",
      "\n",
      "W0605 16:16:14.804687 14160 deprecation_wrapper.py:119] From C:\\Users\\Owner2\\Anaconda3\\envs\\keras2\\lib\\site-packages\\keras\\backend\\tensorflow_backend.py:133: The name tf.placeholder_with_default is deprecated. Please use tf.compat.v1.placeholder_with_default instead.\n",
      "\n",
      "W0605 16:16:14.812893 14160 deprecation.py:506] From C:\\Users\\Owner2\\Anaconda3\\envs\\keras2\\lib\\site-packages\\keras\\backend\\tensorflow_backend.py:3445: calling dropout (from tensorflow.python.ops.nn_ops) with keep_prob is deprecated and will be removed in a future version.\n",
      "Instructions for updating:\n",
      "Please use `rate` instead of `keep_prob`. Rate should be set to `rate = 1 - keep_prob`.\n",
      "W0605 16:16:14.888976 14160 deprecation_wrapper.py:119] From C:\\Users\\Owner2\\Anaconda3\\envs\\keras2\\lib\\site-packages\\keras\\backend\\tensorflow_backend.py:4138: The name tf.random_uniform is deprecated. Please use tf.random.uniform instead.\n",
      "\n"
     ]
    },
    {
     "name": "stdout",
     "output_type": "stream",
     "text": [
      "_________________________________________________________________\n",
      "Layer (type)                 Output Shape              Param #   \n",
      "=================================================================\n",
      "input (InputLayer)           (None, 224, 224, 3)       0         \n",
      "_________________________________________________________________\n",
      "conv2d_1 (Conv2D)            (None, 224, 224, 64)      1792      \n",
      "_________________________________________________________________\n",
      "conv2d_2 (Conv2D)            (None, 224, 224, 64)      36928     \n",
      "_________________________________________________________________\n",
      "max_pooling2d_1 (MaxPooling2 (None, 112, 112, 64)      0         \n",
      "_________________________________________________________________\n",
      "conv2d_3 (Conv2D)            (None, 112, 112, 128)     73856     \n",
      "_________________________________________________________________\n",
      "conv2d_4 (Conv2D)            (None, 112, 112, 128)     147584    \n",
      "_________________________________________________________________\n",
      "max_pooling2d_2 (MaxPooling2 (None, 56, 56, 128)       0         \n",
      "_________________________________________________________________\n",
      "conv2d_5 (Conv2D)            (None, 56, 56, 256)       295168    \n",
      "_________________________________________________________________\n",
      "conv2d_6 (Conv2D)            (None, 56, 56, 256)       590080    \n",
      "_________________________________________________________________\n",
      "conv2d_7 (Conv2D)            (None, 56, 56, 256)       590080    \n",
      "_________________________________________________________________\n",
      "max_pooling2d_3 (MaxPooling2 (None, 28, 28, 256)       0         \n",
      "_________________________________________________________________\n",
      "conv2d_8 (Conv2D)            (None, 28, 28, 512)       1180160   \n",
      "_________________________________________________________________\n",
      "conv2d_9 (Conv2D)            (None, 28, 28, 512)       2359808   \n",
      "_________________________________________________________________\n",
      "conv2d_10 (Conv2D)           (None, 28, 28, 512)       2359808   \n",
      "_________________________________________________________________\n",
      "max_pooling2d_4 (MaxPooling2 (None, 14, 14, 512)       0         \n",
      "_________________________________________________________________\n",
      "conv2d_11 (Conv2D)           (None, 14, 14, 512)       2359808   \n",
      "_________________________________________________________________\n",
      "conv2d_12 (Conv2D)           (None, 14, 14, 512)       2359808   \n",
      "_________________________________________________________________\n",
      "conv2d_13 (Conv2D)           (None, 14, 14, 512)       2359808   \n",
      "_________________________________________________________________\n",
      "max_pooling2d_5 (MaxPooling2 (None, 7, 7, 512)         0         \n",
      "_________________________________________________________________\n",
      "flatten_1 (Flatten)          (None, 25088)             0         \n",
      "_________________________________________________________________\n",
      "dense_1 (Dense)              (None, 4096)              102764544 \n",
      "_________________________________________________________________\n",
      "dropout_1 (Dropout)          (None, 4096)              0         \n",
      "_________________________________________________________________\n",
      "dense_2 (Dense)              (None, 2048)              8390656   \n",
      "_________________________________________________________________\n",
      "dense_3 (Dense)              (None, 1024)              2098176   \n",
      "_________________________________________________________________\n",
      "dense_4 (Dense)              (None, 512)               524800    \n",
      "_________________________________________________________________\n",
      "dropout_2 (Dropout)          (None, 512)               0         \n",
      "_________________________________________________________________\n",
      "dense_5 (Dense)              (None, 264)               135432    \n",
      "_________________________________________________________________\n",
      "dense_6 (Dense)              (None, 4)                 1060      \n",
      "=================================================================\n",
      "Total params: 128,629,356\n",
      "Trainable params: 128,629,356\n",
=======
     "name": "stdout",
     "output_type": "stream",
     "text": [
      "Model: \"vgg16\"\n",
      "_________________________________________________________________\n",
      "Layer (type)                 Output Shape              Param #   \n",
      "=================================================================\n",
      "input_1 (InputLayer)         (None, 224, 224, 3)       0         \n",
      "_________________________________________________________________\n",
      "block1_conv1 (Conv2D)        (None, 224, 224, 64)      1792      \n",
      "_________________________________________________________________\n",
      "block1_conv2 (Conv2D)        (None, 224, 224, 64)      36928     \n",
      "_________________________________________________________________\n",
      "block1_pool (MaxPooling2D)   (None, 112, 112, 64)      0         \n",
      "_________________________________________________________________\n",
      "block2_conv1 (Conv2D)        (None, 112, 112, 128)     73856     \n",
      "_________________________________________________________________\n",
      "block2_conv2 (Conv2D)        (None, 112, 112, 128)     147584    \n",
      "_________________________________________________________________\n",
      "block2_pool (MaxPooling2D)   (None, 56, 56, 128)       0         \n",
      "_________________________________________________________________\n",
      "block3_conv1 (Conv2D)        (None, 56, 56, 256)       295168    \n",
      "_________________________________________________________________\n",
      "block3_conv2 (Conv2D)        (None, 56, 56, 256)       590080    \n",
      "_________________________________________________________________\n",
      "block3_conv3 (Conv2D)        (None, 56, 56, 256)       590080    \n",
      "_________________________________________________________________\n",
      "block3_pool (MaxPooling2D)   (None, 28, 28, 256)       0         \n",
      "_________________________________________________________________\n",
      "block4_conv1 (Conv2D)        (None, 28, 28, 512)       1180160   \n",
      "_________________________________________________________________\n",
      "block4_conv2 (Conv2D)        (None, 28, 28, 512)       2359808   \n",
      "_________________________________________________________________\n",
      "block4_conv3 (Conv2D)        (None, 28, 28, 512)       2359808   \n",
      "_________________________________________________________________\n",
      "block4_pool (MaxPooling2D)   (None, 14, 14, 512)       0         \n",
      "_________________________________________________________________\n",
      "block5_conv1 (Conv2D)        (None, 14, 14, 512)       2359808   \n",
      "_________________________________________________________________\n",
      "block5_conv2 (Conv2D)        (None, 14, 14, 512)       2359808   \n",
      "_________________________________________________________________\n",
      "block5_conv3 (Conv2D)        (None, 14, 14, 512)       2359808   \n",
      "_________________________________________________________________\n",
      "block5_pool (MaxPooling2D)   (None, 7, 7, 512)         0         \n",
      "=================================================================\n",
      "Total params: 14,714,688\n",
      "Trainable params: 14,714,688\n",
>>>>>>> 59c856b1faaaef299ab27f97feff43166b72b602
      "Non-trainable params: 0\n",
      "_________________________________________________________________\n"
     ]
    }
   ],
   "source": [
<<<<<<< HEAD
    "from keras import layers, models\n",
    "from keras.applications import VGG16\n",
    "from keras import Input\n",
    "from keras.models import Model\n",
    "from keras.preprocessing.image import ImageDataGenerator\n",
    "from keras import optimizers, initializers, regularizers, metrics\n",
    "from keras.callbacks import ModelCheckpoint\n",
    "import os\n",
    "from glob import glob\n",
    "from PIL import Image\n",
    "import matplotlib.pyplot as plt\n",
    "import numpy as np\n",
    " \n",
    "\n",
    "\n",
    "input_tensor = Input(shape=(224, 224, 3), dtype='float32', name='input')\n",
    " \n",
    "x = layers.Conv2D(64, (3, 3), activation='relu', padding='same', kernel_initializer='he_normal', kernel_regularizer=regularizers.l2(0.01))(input_tensor)\n",
    "x = layers.Conv2D(64, (3, 3), activation='relu', padding='same', kernel_initializer='he_normal', kernel_regularizer=regularizers.l2(0.01))(x)\n",
    "x = layers.MaxPooling2D((2,2))(x)\n",
    " \n",
    "x = layers.Conv2D(128, (3, 3), activation='relu', padding='same', kernel_initializer='he_normal', kernel_regularizer=regularizers.l2(0.01))(x)\n",
    "x = layers.Conv2D(128, (3, 3), activation='relu', padding='same', kernel_initializer='he_normal', kernel_regularizer=regularizers.l2(0.01))(x)\n",
    "x = layers.MaxPooling2D((2,2))(x)\n",
    " \n",
    "x = layers.Conv2D(256, (3, 3), activation='relu', padding='same', kernel_initializer='he_normal', kernel_regularizer=regularizers.l2(0.01))(x)\n",
    "x = layers.Conv2D(256, (3, 3), activation='relu', padding='same', kernel_initializer='he_normal', kernel_regularizer=regularizers.l2(0.01))(x)\n",
    "x = layers.Conv2D(256, (3, 3), activation='relu', padding='same', kernel_initializer='he_normal', kernel_regularizer=regularizers.l2(0.01))(x)\n",
    "x = layers.MaxPooling2D((2,2))(x)\n",
    " \n",
    "x = layers.Conv2D(512, (3, 3), activation='relu', padding='same', kernel_initializer='he_normal', kernel_regularizer=regularizers.l2(0.01))(x)\n",
    "x = layers.Conv2D(512, (3, 3), activation='relu', padding='same', kernel_initializer='he_normal', kernel_regularizer=regularizers.l2(0.01))(x)\n",
    "x = layers.Conv2D(512, (3, 3), activation='relu', padding='same', kernel_initializer='he_normal', kernel_regularizer=regularizers.l2(0.01))(x)\n",
    "x = layers.MaxPooling2D((2,2))(x)\n",
    " \n",
    "x = layers.Conv2D(512, (3, 3), activation='relu', padding='same', kernel_initializer='he_normal', kernel_regularizer=regularizers.l2(0.01))(x)\n",
    "x = layers.Conv2D(512, (3, 3), activation='relu', padding='same', kernel_initializer='he_normal', kernel_regularizer=regularizers.l2(0.01))(x)\n",
    "x = layers.Conv2D(512, (3, 3), activation='relu', padding='same', kernel_initializer='he_normal', kernel_regularizer=regularizers.l2(0.01))(x)\n",
    "x = layers.MaxPooling2D((2,2))(x)\n",
    " \n",
    "x = layers.Flatten()(x)\n",
    "x = layers.Dense(4096, kernel_initializer='he_normal')(x)\n",
    "x = layers.Dropout(0.3)(x)\n",
    "x = layers.Dense(2048, kernel_initializer='he_normal')(x)\n",
    "x = layers.Dense(1024, kernel_initializer='he_normal')(x)\n",
    "x = layers.Dense(512, kernel_initializer='he_normal')(x)\n",
    "x = layers.Dropout(0.3)(x)\n",
    "x = layers.Dense(264, kernel_initializer='he_normal')(x)\n",
    "output_tensor = layers.Dense(4, activation='softmax')(x)\n",
    " \n",
    "myvgg = Model(input_tensor, output_tensor)\n",
    "myvgg.summary()"
=======
    "from keras import models, layers\n",
    "from keras import Input\n",
    "from keras.applications import VGG16\n",
    "from keras.models import Model, load_model\n",
    "from keras.preprocessing.image import ImageDataGenerator\n",
    "from keras import optimizers, initializers, regularizers, metrics\n",
    "from keras.callbacks import ModelCheckpoint, EarlyStopping\n",
    "from keras.layers import BatchNormalization, Conv2D, Activation, Dense, GlobalAveragePooling2D, MaxPooling2D, ZeroPadding2D, Add\n",
    "\n",
    "model = VGG16(weights=None, include_top=False, input_shape=(224, 224, 3))\n",
    "model.trainable = True\n",
    "model.summary()"
>>>>>>> 59c856b1faaaef299ab27f97feff43166b72b602
   ]
  },
  {
   "cell_type": "code",
   "execution_count": 6,
   "metadata": {},
<<<<<<< HEAD
   "outputs": [],
   "source": [
    "# checkpoint = ModelCheckpoint(filepath='My_VGG_{epoch:03d}_{val_loss:.7f}.hdf5',monitor='loss', mode='min', save_best_only=True)\n",
    "checkpoint = ModelCheckpoint(filepath='My_VGG_weight_4.hdf5', \n",
    "            monitor='loss', \n",
    "            mode='min', \n",
    "            save_best_only=True)"
=======
   "outputs": [
    {
     "name": "stdout",
     "output_type": "stream",
     "text": [
      "Model: \"sequential_1\"\n",
      "_________________________________________________________________\n",
      "Layer (type)                 Output Shape              Param #   \n",
      "=================================================================\n",
      "vgg16 (Model)                (None, 7, 7, 512)         14714688  \n",
      "_________________________________________________________________\n",
      "flatten_1 (Flatten)          (None, 25088)             0         \n",
      "_________________________________________________________________\n",
      "dense_1 (Dense)              (None, 4)                 100356    \n",
      "=================================================================\n",
      "Total params: 14,815,044\n",
      "Trainable params: 14,815,044\n",
      "Non-trainable params: 0\n",
      "_________________________________________________________________\n"
     ]
    }
   ],
   "source": [
    "#customizing my layers\n",
    "additional_model = models.Sequential()\n",
    "additional_model.add(model)\n",
    "additional_model.add(layers.Flatten())\n",
    "additional_model.add(layers.Dense(4, activation='softmax'))\n",
    "\n",
    "additional_model.summary()"
>>>>>>> 59c856b1faaaef299ab27f97feff43166b72b602
   ]
  },
  {
   "cell_type": "code",
   "execution_count": 7,
   "metadata": {},
   "outputs": [],
   "source": [
<<<<<<< HEAD
    "from keras import backend as K\n",
    "import tensorflow as tf\n",
    "\n",
    "def auc(y_true, y_pred):\n",
    "    auc = tf.metrics.auc(y_true, y_pred)[1]\n",
    "    K.get_session().run(tf.local_variables_initializer())\n",
    "    return auc\n",
    "\n",
    "def recall(y_target, y_pred):\n",
    "    # clip(t, clip_value_min, clip_value_max) : clip_value_min~clip_value_max 이외 가장자리를 깎아 낸다\n",
    "    # round : 반올림한다\n",
    "    y_target_yn = K.round(K.clip(y_target, 0, 1)) # 실제값을 0(Negative) 또는 1(Positive)로 설정한다\n",
    "    y_pred_yn = K.round(K.clip(y_pred, 0, 1)) # 예측값을 0(Negative) 또는 1(Positive)로 설정한다\n",
    "\n",
    "    # True Positive는 실제 값과 예측 값이 모두 1(Positive)인 경우이다\n",
    "    count_true_positive = K.sum(y_target_yn * y_pred_yn) \n",
    "\n",
    "    # (True Positive + False Negative) = 실제 값이 1(Positive) 전체\n",
    "    count_true_positive_false_negative = K.sum(y_target_yn)\n",
    "\n",
    "    # Recall =  (True Positive) / (True Positive + False Negative)\n",
    "    # K.epsilon()는 'divide by zero error' 예방차원에서 작은 수를 더한다\n",
    "    recall = count_true_positive / (count_true_positive_false_negative + K.epsilon())\n",
    "\n",
    "    # return a single tensor value\n",
    "    return recall\n",
    "\n",
    "\n",
    "def precision(y_target, y_pred):\n",
    "    # clip(t, clip_value_min, clip_value_max) : clip_value_min~clip_value_max 이외 가장자리를 깎아 낸다\n",
    "    # round : 반올림한다\n",
    "    y_pred_yn = K.round(K.clip(y_pred, 0, 1)) # 예측값을 0(Negative) 또는 1(Positive)로 설정한다\n",
    "    y_target_yn = K.round(K.clip(y_target, 0, 1)) # 실제값을 0(Negative) 또는 1(Positive)로 설정한다\n",
    "\n",
    "    # True Positive는 실제 값과 예측 값이 모두 1(Positive)인 경우이다\n",
    "    count_true_positive = K.sum(y_target_yn * y_pred_yn) \n",
    "\n",
    "    # (True Positive + False Positive) = 예측 값이 1(Positive) 전체\n",
    "    count_true_positive_false_positive = K.sum(y_pred_yn)\n",
    "\n",
    "    # Precision = (True Positive) / (True Positive + False Positive)\n",
    "    # K.epsilon()는 'divide by zero error' 예방차원에서 작은 수를 더한다\n",
    "    precision = count_true_positive / (count_true_positive_false_positive + K.epsilon())\n",
    "\n",
    "    # return a single tensor value\n",
    "    return precision\n",
    "\n",
    "\n",
    "def f1score(y_target, y_pred):\n",
    "    _recall = recall(y_target, y_pred)\n",
    "    _precision = precision(y_target, y_pred)\n",
    "    # K.epsilon()는 'divide by zero error' 예방차원에서 작은 수를 더한다\n",
    "    _f1score = ( 2 * _recall * _precision) / (_recall + _precision+ K.epsilon())\n",
=======
    "def f1score(precision, recall):\n",
    "    _f1score = ( 2 * recall * precision) / (recall + precision)\n",
>>>>>>> 59c856b1faaaef299ab27f97feff43166b72b602
    "    \n",
    "    # return a single tensor value\n",
    "    return _f1score"
   ]
  },
  {
   "cell_type": "code",
<<<<<<< HEAD
   "execution_count": 8,
=======
<<<<<<< HEAD
   "execution_count": 8,
   "metadata": {},
   "outputs": [
    {
     "name": "stderr",
     "output_type": "stream",
     "text": [
      "W0605 16:16:14.948417 14160 deprecation_wrapper.py:119] From C:\\Users\\Owner2\\Anaconda3\\envs\\keras2\\lib\\site-packages\\keras\\optimizers.py:790: The name tf.train.Optimizer is deprecated. Please use tf.compat.v1.train.Optimizer instead.\n",
      "\n",
      "W0605 16:16:15.045547 14160 deprecation.py:323] From C:\\Users\\Owner2\\Anaconda3\\envs\\keras2\\lib\\site-packages\\tensorflow\\python\\ops\\metrics_impl.py:809: div (from tensorflow.python.ops.math_ops) is deprecated and will be removed in a future version.\n",
      "Instructions for updating:\n",
      "Deprecated in favor of operator or tf.math.divide.\n"
     ]
    }
   ],
   "source": [
    "myvgg.compile(loss='categorical_crossentropy', \n",
    "              optimizer=optimizers.RMSprop(lr=1e-5),\n",
    "              metrics=['accuracy', auc, precision, recall, f1score])"
   ]
  },
  {
   "cell_type": "code",
   "execution_count": 9,
   "metadata": {},
   "outputs": [
    {
     "data": {
      "text/plain": [
       "(2861, 224, 224, 3)"
      ]
     },
     "execution_count": 9,
     "metadata": {},
     "output_type": "execute_result"
    }
   ],
   "source": [
    "X.shape"
=======
   "execution_count": 10,
>>>>>>> 44127265cfabbd5bc7800a4f4a7faa0dcc02ed9a
   "metadata": {},
   "outputs": [],
   "source": [
    "# checkpoint = ModelCheckpoint(filepath='My_VGG_{epoch:03d}_{val_loss:.7f}.hdf5',monitor='loss', mode='min', save_best_only=True)\n",
    "checkpoint = ModelCheckpoint(filepath='VGG16_1.hdf5', \n",
    "            monitor='loss', \n",
    "            mode='min', \n",
    "            save_best_only=True)"
>>>>>>> 59c856b1faaaef299ab27f97feff43166b72b602
   ]
  },
  {
   "cell_type": "code",
<<<<<<< HEAD
   "execution_count": 9,
=======
<<<<<<< HEAD
   "execution_count": 10,
   "metadata": {},
   "outputs": [],
   "source": [
    "# history1=myvgg.fit(X,y,batch_size=32,\n",
    "#                   epochs=100,\n",
    "#                   validation_split=0.3,\n",
    "#                   callbacks=[checkpoint])"
=======
   "execution_count": 11,
>>>>>>> 44127265cfabbd5bc7800a4f4a7faa0dcc02ed9a
   "metadata": {},
   "outputs": [],
   "source": [
    "import tensorflow as tf\n",
    "\n",
    "additional_model.compile(loss='categorical_crossentropy', \n",
    "              optimizer=optimizers.Adam(lr=2e-5),\n",
    "              metrics=['acc',tf.keras.metrics.AUC(),\n",
    "                      tf.keras.metrics.Precision(),\n",
    "                      tf.keras.metrics.Recall(), f1score])"
>>>>>>> 59c856b1faaaef299ab27f97feff43166b72b602
   ]
  },
  {
   "cell_type": "code",
<<<<<<< HEAD
   "execution_count": 10,
=======
<<<<<<< HEAD
   "execution_count": 11,
   "metadata": {
    "scrolled": true
   },
   "outputs": [
    {
     "name": "stderr",
     "output_type": "stream",
     "text": [
      "W0605 16:16:25.036355 14160 deprecation.py:323] From C:\\Users\\Owner2\\Anaconda3\\envs\\keras2\\lib\\site-packages\\tensorflow\\python\\ops\\math_grad.py:1250: add_dispatch_support.<locals>.wrapper (from tensorflow.python.ops.array_ops) is deprecated and will be removed in a future version.\n",
      "Instructions for updating:\n",
      "Use tf.where in 2.0, which has the same broadcast rule as np.where\n"
     ]
    },
    {
     "name": "stdout",
     "output_type": "stream",
     "text": [
      "Epoch 1/300\n",
      "50/50 [==============================] - 38s 763ms/step - loss: 95.0592 - acc: 0.2762 - auc: 0.4999 - precision: 0.2762 - recall: 0.2762 - f1score: 0.2762 - val_loss: 93.0955 - val_acc: 0.3539 - val_auc: 0.5246 - val_precision: 0.3539 - val_recall: 0.3539 - val_f1score: 0.3539\n",
      "Epoch 2/300\n",
      "50/50 [==============================] - 27s 538ms/step - loss: 91.9844 - acc: 0.3571 - auc: 0.5395 - precision: 0.3571 - recall: 0.3571 - f1score: 0.3571 - val_loss: 91.1154 - val_acc: 0.3539 - val_auc: 0.5476 - val_precision: 0.3539 - val_recall: 0.3539 - val_f1score: 0.3539\n",
      "Epoch 3/300\n",
      "50/50 [==============================] - 28s 552ms/step - loss: 88.2169 - acc: 0.3298 - auc: 0.5499 - precision: 0.3335 - recall: 0.3063 - f1score: 0.3163 - val_loss: 80.1107 - val_acc: 0.5320 - val_auc: 0.5512 - val_precision: 0.5849 - val_recall: 0.3655 - val_f1score: 0.4486\n",
      "Epoch 4/300\n",
      "50/50 [==============================] - 27s 545ms/step - loss: 79.7345 - acc: 0.4387 - auc: 0.5582 - precision: 0.4827 - recall: 0.2855 - f1score: 0.3546 - val_loss: 79.0872 - val_acc: 0.4435 - val_auc: 0.5683 - val_precision: 0.4994 - val_recall: 0.3597 - val_f1score: 0.4177\n",
      "Epoch 5/300\n",
      "50/50 [==============================] - 28s 552ms/step - loss: 78.2712 - acc: 0.4908 - auc: 0.5803 - precision: 0.5613 - recall: 0.3364 - f1score: 0.4174 - val_loss: 77.4341 - val_acc: 0.4831 - val_auc: 0.5933 - val_precision: 0.5412 - val_recall: 0.3620 - val_f1score: 0.4316\n",
      "Epoch 6/300\n",
      "50/50 [==============================] - 27s 543ms/step - loss: 76.8426 - acc: 0.4933 - auc: 0.6058 - precision: 0.5576 - recall: 0.3538 - f1score: 0.4297 - val_loss: 75.9892 - val_acc: 0.5634 - val_auc: 0.6184 - val_precision: 0.6497 - val_recall: 0.4400 - val_f1score: 0.5239\n",
      "Epoch 7/300\n",
      "50/50 [==============================] - 28s 550ms/step - loss: 75.4022 - acc: 0.5120 - auc: 0.6298 - precision: 0.5871 - recall: 0.3790 - f1score: 0.4588 - val_loss: 74.6404 - val_acc: 0.5402 - val_auc: 0.6410 - val_precision: 0.6242 - val_recall: 0.4622 - val_f1score: 0.5303\n",
      "Epoch 8/300\n",
      "50/50 [==============================] - 27s 544ms/step - loss: 73.9785 - acc: 0.5186 - auc: 0.6507 - precision: 0.5900 - recall: 0.3909 - f1score: 0.4682 - val_loss: 73.1782 - val_acc: 0.5297 - val_auc: 0.6601 - val_precision: 0.5984 - val_recall: 0.3912 - val_f1score: 0.4715\n",
      "Epoch 9/300\n",
      "50/50 [==============================] - 27s 543ms/step - loss: 72.5524 - acc: 0.5192 - auc: 0.6687 - precision: 0.5934 - recall: 0.4062 - f1score: 0.4806 - val_loss: 71.7551 - val_acc: 0.5821 - val_auc: 0.6771 - val_precision: 0.6482 - val_recall: 0.4726 - val_f1score: 0.5462\n",
      "Epoch 10/300\n",
      "50/50 [==============================] - 28s 553ms/step - loss: 71.1519 - acc: 0.5275 - auc: 0.6847 - precision: 0.5929 - recall: 0.4011 - f1score: 0.4773 - val_loss: 70.4971 - val_acc: 0.5413 - val_auc: 0.6917 - val_precision: 0.5850 - val_recall: 0.4610 - val_f1score: 0.5155\n",
      "Epoch 11/300\n",
      "50/50 [==============================] - 27s 542ms/step - loss: 69.7778 - acc: 0.5408 - auc: 0.6979 - precision: 0.6046 - recall: 0.4173 - f1score: 0.4916 - val_loss: 69.0858 - val_acc: 0.5367 - val_auc: 0.7041 - val_precision: 0.6175 - val_recall: 0.4633 - val_f1score: 0.5283\n",
      "Epoch 12/300\n",
      "50/50 [==============================] - 28s 553ms/step - loss: 68.3884 - acc: 0.5374 - auc: 0.7098 - precision: 0.5970 - recall: 0.4245 - f1score: 0.4952 - val_loss: 67.7105 - val_acc: 0.5623 - val_auc: 0.7156 - val_precision: 0.6156 - val_recall: 0.4726 - val_f1score: 0.5343\n",
      "Epoch 13/300\n",
      "50/50 [==============================] - 27s 544ms/step - loss: 67.0713 - acc: 0.5342 - auc: 0.7205 - precision: 0.5956 - recall: 0.4203 - f1score: 0.4907 - val_loss: 66.3066 - val_acc: 0.5844 - val_auc: 0.7254 - val_precision: 0.6417 - val_recall: 0.4924 - val_f1score: 0.5568\n",
      "Epoch 14/300\n",
      "50/50 [==============================] - 28s 551ms/step - loss: 65.7205 - acc: 0.5522 - auc: 0.7300 - precision: 0.6157 - recall: 0.4505 - f1score: 0.5194 - val_loss: 64.9931 - val_acc: 0.5728 - val_auc: 0.7345 - val_precision: 0.6149 - val_recall: 0.4668 - val_f1score: 0.5302\n",
      "Epoch 15/300\n",
      "50/50 [==============================] - 27s 541ms/step - loss: 64.4399 - acc: 0.5486 - auc: 0.7386 - precision: 0.6066 - recall: 0.4487 - f1score: 0.5145 - val_loss: 63.8028 - val_acc: 0.5553 - val_auc: 0.7425 - val_precision: 0.6046 - val_recall: 0.4808 - val_f1score: 0.5350\n",
      "Epoch 16/300\n",
      "50/50 [==============================] - 28s 567ms/step - loss: 63.1773 - acc: 0.5536 - auc: 0.7460 - precision: 0.6054 - recall: 0.4554 - f1score: 0.5189 - val_loss: 62.5105 - val_acc: 0.5739 - val_auc: 0.7495 - val_precision: 0.6391 - val_recall: 0.4517 - val_f1score: 0.5271\n",
      "Epoch 17/300\n",
      "50/50 [==============================] - 27s 538ms/step - loss: 61.8844 - acc: 0.5630 - auc: 0.7529 - precision: 0.6163 - recall: 0.4650 - f1score: 0.5294 - val_loss: 61.2512 - val_acc: 0.5867 - val_auc: 0.7562 - val_precision: 0.6461 - val_recall: 0.5111 - val_f1score: 0.5704\n",
      "Epoch 18/300\n",
      "50/50 [==============================] - 27s 543ms/step - loss: 60.6574 - acc: 0.5599 - auc: 0.7592 - precision: 0.6076 - recall: 0.4645 - f1score: 0.5257 - val_loss: 59.9975 - val_acc: 0.5821 - val_auc: 0.7621 - val_precision: 0.6400 - val_recall: 0.5250 - val_f1score: 0.5765\n",
      "Epoch 19/300\n",
      "50/50 [==============================] - 28s 552ms/step - loss: 59.4468 - acc: 0.5456 - auc: 0.7648 - precision: 0.6010 - recall: 0.4528 - f1score: 0.5159 - val_loss: 58.7744 - val_acc: 0.5960 - val_auc: 0.7675 - val_precision: 0.6545 - val_recall: 0.5297 - val_f1score: 0.5853\n",
      "Epoch 20/300\n",
      "50/50 [==============================] - 27s 543ms/step - loss: 58.2378 - acc: 0.5780 - auc: 0.7701 - precision: 0.6311 - recall: 0.4884 - f1score: 0.5499 - val_loss: 57.6053 - val_acc: 0.6065 - val_auc: 0.7726 - val_precision: 0.6800 - val_recall: 0.5215 - val_f1score: 0.5898\n",
      "Epoch 21/300\n",
      "50/50 [==============================] - 27s 549ms/step - loss: 57.0566 - acc: 0.5685 - auc: 0.7749 - precision: 0.6154 - recall: 0.4748 - f1score: 0.5356 - val_loss: 56.5681 - val_acc: 0.5402 - val_auc: 0.7770 - val_precision: 0.6044 - val_recall: 0.4796 - val_f1score: 0.5343\n",
      "Epoch 22/300\n",
      "50/50 [==============================] - 27s 543ms/step - loss: 55.8787 - acc: 0.5760 - auc: 0.7790 - precision: 0.6195 - recall: 0.4884 - f1score: 0.5456 - val_loss: 55.2473 - val_acc: 0.6170 - val_auc: 0.7811 - val_precision: 0.6661 - val_recall: 0.5320 - val_f1score: 0.5910\n",
      "Epoch 23/300\n",
      "50/50 [==============================] - 27s 550ms/step - loss: 54.7504 - acc: 0.5805 - auc: 0.7833 - precision: 0.6290 - recall: 0.4997 - f1score: 0.5562 - val_loss: 54.1782 - val_acc: 0.5984 - val_auc: 0.7853 - val_precision: 0.6452 - val_recall: 0.5204 - val_f1score: 0.5755\n",
      "Epoch 24/300\n",
      "50/50 [==============================] - 27s 544ms/step - loss: 53.6721 - acc: 0.5724 - auc: 0.7871 - precision: 0.6150 - recall: 0.4892 - f1score: 0.5443 - val_loss: 53.1612 - val_acc: 0.5716 - val_auc: 0.7889 - val_precision: 0.6152 - val_recall: 0.5111 - val_f1score: 0.5580\n",
      "Epoch 25/300\n",
      "50/50 [==============================] - 27s 545ms/step - loss: 52.6025 - acc: 0.5832 - auc: 0.7906 - precision: 0.6228 - recall: 0.4991 - f1score: 0.5535 - val_loss: 52.1213 - val_acc: 0.5879 - val_auc: 0.7922 - val_precision: 0.6397 - val_recall: 0.5122 - val_f1score: 0.5686\n",
      "Epoch 26/300\n",
      "50/50 [==============================] - 27s 548ms/step - loss: 51.5427 - acc: 0.5813 - auc: 0.7937 - precision: 0.6193 - recall: 0.4897 - f1score: 0.5462 - val_loss: 51.0813 - val_acc: 0.5506 - val_auc: 0.7953 - val_precision: 0.6091 - val_recall: 0.4889 - val_f1score: 0.5421\n",
      "Epoch 27/300\n",
      "50/50 [==============================] - 27s 542ms/step - loss: 50.5093 - acc: 0.5940 - auc: 0.7967 - precision: 0.6288 - recall: 0.5109 - f1score: 0.5631 - val_loss: 49.9580 - val_acc: 0.5914 - val_auc: 0.7983 - val_precision: 0.6382 - val_recall: 0.5308 - val_f1score: 0.5792\n",
      "Epoch 28/300\n",
      "50/50 [==============================] - 28s 552ms/step - loss: 49.5140 - acc: 0.5805 - auc: 0.7997 - precision: 0.6096 - recall: 0.4966 - f1score: 0.5467 - val_loss: 49.0750 - val_acc: 0.5669 - val_auc: 0.8010 - val_precision: 0.6092 - val_recall: 0.4959 - val_f1score: 0.5465\n",
      "Epoch 29/300\n",
      "50/50 [==============================] - 27s 544ms/step - loss: 48.5139 - acc: 0.5888 - auc: 0.8023 - precision: 0.6240 - recall: 0.5066 - f1score: 0.5584 - val_loss: 48.2498 - val_acc: 0.5576 - val_auc: 0.8035 - val_precision: 0.6006 - val_recall: 0.5134 - val_f1score: 0.5533\n",
      "Epoch 30/300\n",
      "50/50 [==============================] - 28s 551ms/step - loss: 47.5399 - acc: 0.6010 - auc: 0.8046 - precision: 0.6349 - recall: 0.5347 - f1score: 0.5802 - val_loss: 47.1071 - val_acc: 0.5891 - val_auc: 0.8060 - val_precision: 0.6184 - val_recall: 0.5541 - val_f1score: 0.5843\n",
      "Epoch 31/300\n",
      "50/50 [==============================] - 27s 544ms/step - loss: 46.5963 - acc: 0.5885 - auc: 0.8071 - precision: 0.6192 - recall: 0.5117 - f1score: 0.5599 - val_loss: 46.0808 - val_acc: 0.6112 - val_auc: 0.8084 - val_precision: 0.6426 - val_recall: 0.5646 - val_f1score: 0.6009\n",
      "Epoch 32/300\n",
      "50/50 [==============================] - 28s 555ms/step - loss: 45.6698 - acc: 0.5913 - auc: 0.8095 - precision: 0.6242 - recall: 0.5161 - f1score: 0.5645 - val_loss: 45.3302 - val_acc: 0.5611 - val_auc: 0.8105 - val_precision: 0.6257 - val_recall: 0.5041 - val_f1score: 0.5563\n",
      "Epoch 33/300\n",
      "50/50 [==============================] - 27s 539ms/step - loss: 44.7791 - acc: 0.5907 - auc: 0.8115 - precision: 0.6211 - recall: 0.5134 - f1score: 0.5616 - val_loss: 44.3242 - val_acc: 0.5739 - val_auc: 0.8126 - val_precision: 0.6057 - val_recall: 0.5262 - val_f1score: 0.5627\n",
      "Epoch 34/300\n",
      "50/50 [==============================] - 27s 543ms/step - loss: 43.8820 - acc: 0.5947 - auc: 0.8137 - precision: 0.6253 - recall: 0.5283 - f1score: 0.5722 - val_loss: 43.4357 - val_acc: 0.5739 - val_auc: 0.8147 - val_precision: 0.6109 - val_recall: 0.5297 - val_f1score: 0.5672\n",
      "Epoch 35/300\n",
      "50/50 [==============================] - 28s 556ms/step - loss: 43.0582 - acc: 0.5739 - auc: 0.8157 - precision: 0.6108 - recall: 0.5102 - f1score: 0.5554 - val_loss: 42.5787 - val_acc: 0.6182 - val_auc: 0.8166 - val_precision: 0.6417 - val_recall: 0.5669 - val_f1score: 0.6018\n",
      "Epoch 36/300\n",
      "50/50 [==============================] - 27s 539ms/step - loss: 42.1995 - acc: 0.5951 - auc: 0.8176 - precision: 0.6212 - recall: 0.5266 - f1score: 0.5694 - val_loss: 41.8288 - val_acc: 0.5972 - val_auc: 0.8185 - val_precision: 0.6582 - val_recall: 0.5413 - val_f1score: 0.5936\n",
      "Epoch 37/300\n",
      "50/50 [==============================] - 27s 544ms/step - loss: 41.4063 - acc: 0.6060 - auc: 0.8194 - precision: 0.6396 - recall: 0.5469 - f1score: 0.5891 - val_loss: 41.1421 - val_acc: 0.5658 - val_auc: 0.8203 - val_precision: 0.6133 - val_recall: 0.5320 - val_f1score: 0.5694\n",
      "Epoch 38/300\n",
      "50/50 [==============================] - 27s 535ms/step - loss: 40.6554 - acc: 0.5955 - auc: 0.8211 - precision: 0.6256 - recall: 0.5346 - f1score: 0.5760 - val_loss: 40.2815 - val_acc: 0.5949 - val_auc: 0.8220 - val_precision: 0.6346 - val_recall: 0.5541 - val_f1score: 0.5915\n",
      "Epoch 39/300\n",
      "50/50 [==============================] - 27s 545ms/step - loss: 39.8796 - acc: 0.5914 - auc: 0.8228 - precision: 0.6143 - recall: 0.5320 - f1score: 0.5698 - val_loss: 39.4720 - val_acc: 0.5844 - val_auc: 0.8237 - val_precision: 0.6141 - val_recall: 0.5122 - val_f1score: 0.5581\n",
      "Epoch 40/300\n",
      "50/50 [==============================] - 27s 536ms/step - loss: 39.1353 - acc: 0.6002 - auc: 0.8245 - precision: 0.6280 - recall: 0.5389 - f1score: 0.5791 - val_loss: 38.7324 - val_acc: 0.6077 - val_auc: 0.8253 - val_precision: 0.6329 - val_recall: 0.5728 - val_f1score: 0.6010\n",
      "Epoch 41/300\n",
      "50/50 [==============================] - 27s 537ms/step - loss: 38.4049 - acc: 0.5916 - auc: 0.8261 - precision: 0.6190 - recall: 0.5308 - f1score: 0.5711 - val_loss: 38.2470 - val_acc: 0.5611 - val_auc: 0.8267 - val_precision: 0.5997 - val_recall: 0.5320 - val_f1score: 0.5636\n",
      "Epoch 42/300\n",
      "50/50 [==============================] - 27s 546ms/step - loss: 37.6888 - acc: 0.5989 - auc: 0.8273 - precision: 0.6203 - recall: 0.5447 - f1score: 0.5796 - val_loss: 37.3111 - val_acc: 0.5937 - val_auc: 0.8281 - val_precision: 0.6253 - val_recall: 0.5541 - val_f1score: 0.5874\n",
      "Epoch 43/300\n",
      "50/50 [==============================] - 27s 537ms/step - loss: 36.9847 - acc: 0.6076 - auc: 0.8289 - precision: 0.6304 - recall: 0.5492 - f1score: 0.5866 - val_loss: 36.6487 - val_acc: 0.5925 - val_auc: 0.8296 - val_precision: 0.6203 - val_recall: 0.5495 - val_f1score: 0.5825\n",
      "Epoch 44/300\n",
      "50/50 [==============================] - 27s 543ms/step - loss: 36.3057 - acc: 0.6017 - auc: 0.8303 - precision: 0.6197 - recall: 0.5484 - f1score: 0.5815 - val_loss: 35.9897 - val_acc: 0.5995 - val_auc: 0.8310 - val_precision: 0.6386 - val_recall: 0.5611 - val_f1score: 0.5972\n",
      "Epoch 45/300\n",
      "50/50 [==============================] - 27s 536ms/step - loss: 35.6240 - acc: 0.6033 - auc: 0.8316 - precision: 0.6250 - recall: 0.5597 - f1score: 0.5903 - val_loss: 35.3410 - val_acc: 0.5960 - val_auc: 0.8323 - val_precision: 0.6239 - val_recall: 0.5413 - val_f1score: 0.5794\n",
      "Epoch 46/300\n",
      "50/50 [==============================] - 27s 545ms/step - loss: 34.9734 - acc: 0.6107 - auc: 0.8330 - precision: 0.6346 - recall: 0.5625 - f1score: 0.5959 - val_loss: 34.6623 - val_acc: 0.6065 - val_auc: 0.8336 - val_precision: 0.6383 - val_recall: 0.5576 - val_f1score: 0.5951\n",
      "Epoch 47/300\n",
      "50/50 [==============================] - 27s 536ms/step - loss: 34.3505 - acc: 0.6008 - auc: 0.8342 - precision: 0.6219 - recall: 0.5535 - f1score: 0.5853 - val_loss: 34.0667 - val_acc: 0.5949 - val_auc: 0.8348 - val_precision: 0.6347 - val_recall: 0.5553 - val_f1score: 0.5923\n",
      "Epoch 48/300\n",
      "50/50 [==============================] - 27s 548ms/step - loss: 33.7894 - acc: 0.6027 - auc: 0.8353 - precision: 0.6307 - recall: 0.5563 - f1score: 0.5906 - val_loss: 33.5147 - val_acc: 0.5681 - val_auc: 0.8359 - val_precision: 0.5926 - val_recall: 0.5448 - val_f1score: 0.5670\n",
      "Epoch 49/300\n",
      "50/50 [==============================] - 27s 534ms/step - loss: 33.2094 - acc: 0.6113 - auc: 0.8364 - precision: 0.6344 - recall: 0.5647 - f1score: 0.5972 - val_loss: 32.9360 - val_acc: 0.6007 - val_auc: 0.8370 - val_precision: 0.6290 - val_recall: 0.5669 - val_f1score: 0.5962\n",
      "Epoch 50/300\n",
      "50/50 [==============================] - 27s 537ms/step - loss: 32.6339 - acc: 0.6049 - auc: 0.8376 - precision: 0.6274 - recall: 0.5574 - f1score: 0.5899 - val_loss: 32.3348 - val_acc: 0.6112 - val_auc: 0.8381 - val_precision: 0.6439 - val_recall: 0.5763 - val_f1score: 0.6080\n",
      "Epoch 51/300\n",
      "50/50 [==============================] - 27s 543ms/step - loss: 32.0916 - acc: 0.6030 - auc: 0.8386 - precision: 0.6207 - recall: 0.5528 - f1score: 0.5843 - val_loss: 32.0605 - val_acc: 0.5576 - val_auc: 0.8391 - val_precision: 0.5842 - val_recall: 0.5367 - val_f1score: 0.5593\n",
      "Epoch 52/300\n",
      "50/50 [==============================] - 27s 537ms/step - loss: 31.5665 - acc: 0.6033 - auc: 0.8395 - precision: 0.6248 - recall: 0.5538 - f1score: 0.5867 - val_loss: 31.3076 - val_acc: 0.5960 - val_auc: 0.8400 - val_precision: 0.6298 - val_recall: 0.5611 - val_f1score: 0.5933\n",
      "Epoch 53/300\n",
      "50/50 [==============================] - 27s 542ms/step - loss: 31.0564 - acc: 0.6074 - auc: 0.8405 - precision: 0.6321 - recall: 0.5636 - f1score: 0.5955 - val_loss: 30.7848 - val_acc: 0.6065 - val_auc: 0.8410 - val_precision: 0.6360 - val_recall: 0.5763 - val_f1score: 0.6045\n",
      "Epoch 54/300\n",
      "50/50 [==============================] - 27s 536ms/step - loss: 30.5143 - acc: 0.6096 - auc: 0.8414 - precision: 0.6253 - recall: 0.5632 - f1score: 0.5923 - val_loss: 30.2523 - val_acc: 0.6251 - val_auc: 0.8419 - val_precision: 0.6393 - val_recall: 0.6030 - val_f1score: 0.6205\n",
      "Epoch 55/300\n",
      "50/50 [==============================] - 27s 544ms/step - loss: 29.9995 - acc: 0.6094 - auc: 0.8424 - precision: 0.6300 - recall: 0.5710 - f1score: 0.5988 - val_loss: 29.7792 - val_acc: 0.5914 - val_auc: 0.8429 - val_precision: 0.6116 - val_recall: 0.5471 - val_f1score: 0.5774\n",
      "Epoch 56/300\n",
      "50/50 [==============================] - 27s 534ms/step - loss: 29.4969 - acc: 0.6230 - auc: 0.8433 - precision: 0.6389 - recall: 0.5815 - f1score: 0.6084 - val_loss: 29.2449 - val_acc: 0.6100 - val_auc: 0.8438 - val_precision: 0.6269 - val_recall: 0.5728 - val_f1score: 0.5984\n",
      "Epoch 57/300\n"
     ]
    },
    {
     "name": "stdout",
     "output_type": "stream",
     "text": [
      "50/50 [==============================] - 27s 535ms/step - loss: 29.0274 - acc: 0.6040 - auc: 0.8442 - precision: 0.6248 - recall: 0.5621 - f1score: 0.5914 - val_loss: 28.7583 - val_acc: 0.6135 - val_auc: 0.8446 - val_precision: 0.6347 - val_recall: 0.5739 - val_f1score: 0.6027\n",
      "Epoch 58/300\n",
      "50/50 [==============================] - 27s 544ms/step - loss: 28.5427 - acc: 0.6044 - auc: 0.8451 - precision: 0.6221 - recall: 0.5597 - f1score: 0.5890 - val_loss: 28.2694 - val_acc: 0.6135 - val_auc: 0.8455 - val_precision: 0.6327 - val_recall: 0.5844 - val_f1score: 0.6075\n",
      "Epoch 59/300\n",
      "50/50 [==============================] - 27s 536ms/step - loss: 28.0655 - acc: 0.6127 - auc: 0.8460 - precision: 0.6340 - recall: 0.5793 - f1score: 0.6051 - val_loss: 27.8222 - val_acc: 0.6193 - val_auc: 0.8464 - val_precision: 0.6372 - val_recall: 0.5867 - val_f1score: 0.6107\n",
      "Epoch 60/300\n",
      "50/50 [==============================] - 27s 541ms/step - loss: 27.6310 - acc: 0.6061 - auc: 0.8468 - precision: 0.6308 - recall: 0.5681 - f1score: 0.5974 - val_loss: 27.4094 - val_acc: 0.6019 - val_auc: 0.8472 - val_precision: 0.6199 - val_recall: 0.5751 - val_f1score: 0.5964\n",
      "Epoch 61/300\n",
      "50/50 [==============================] - 27s 537ms/step - loss: 27.1746 - acc: 0.6088 - auc: 0.8476 - precision: 0.6226 - recall: 0.5707 - f1score: 0.5952 - val_loss: 26.9239 - val_acc: 0.6228 - val_auc: 0.8480 - val_precision: 0.6280 - val_recall: 0.5879 - val_f1score: 0.6071\n",
      "Epoch 62/300\n",
      "50/50 [==============================] - 27s 545ms/step - loss: 26.7437 - acc: 0.6204 - auc: 0.8484 - precision: 0.6352 - recall: 0.5785 - f1score: 0.6049 - val_loss: 26.6488 - val_acc: 0.5797 - val_auc: 0.8487 - val_precision: 0.6251 - val_recall: 0.5448 - val_f1score: 0.5818\n",
      "Epoch 63/300\n",
      "50/50 [==============================] - 27s 537ms/step - loss: 26.3283 - acc: 0.6099 - auc: 0.8491 - precision: 0.6323 - recall: 0.5760 - f1score: 0.6024 - val_loss: 26.2525 - val_acc: 0.5856 - val_auc: 0.8494 - val_precision: 0.6262 - val_recall: 0.5611 - val_f1score: 0.5916\n",
      "Epoch 64/300\n",
      "50/50 [==============================] - 27s 547ms/step - loss: 25.9370 - acc: 0.6282 - auc: 0.8498 - precision: 0.6438 - recall: 0.5894 - f1score: 0.6151 - val_loss: 26.1340 - val_acc: 0.5250 - val_auc: 0.8500 - val_precision: 0.5665 - val_recall: 0.5006 - val_f1score: 0.5304\n",
      "Epoch 65/300\n",
      "50/50 [==============================] - 27s 532ms/step - loss: 25.5548 - acc: 0.6327 - auc: 0.8503 - precision: 0.6470 - recall: 0.5917 - f1score: 0.6179 - val_loss: 25.3218 - val_acc: 0.6065 - val_auc: 0.8506 - val_precision: 0.6185 - val_recall: 0.5728 - val_f1score: 0.5947\n",
      "Epoch 66/300\n",
      "50/50 [==============================] - 27s 536ms/step - loss: 25.1648 - acc: 0.6240 - auc: 0.8510 - precision: 0.6360 - recall: 0.5821 - f1score: 0.6075 - val_loss: 24.9710 - val_acc: 0.6147 - val_auc: 0.8513 - val_precision: 0.6326 - val_recall: 0.5925 - val_f1score: 0.6118\n",
      "Epoch 67/300\n",
      "50/50 [==============================] - 27s 546ms/step - loss: 24.7958 - acc: 0.6285 - auc: 0.8517 - precision: 0.6417 - recall: 0.5838 - f1score: 0.6107 - val_loss: 24.5996 - val_acc: 0.6286 - val_auc: 0.8520 - val_precision: 0.6463 - val_recall: 0.6042 - val_f1score: 0.6244\n",
      "Epoch 68/300\n",
      "50/50 [==============================] - 27s 536ms/step - loss: 24.4406 - acc: 0.6216 - auc: 0.8524 - precision: 0.6356 - recall: 0.5844 - f1score: 0.6087 - val_loss: 24.2853 - val_acc: 0.6158 - val_auc: 0.8527 - val_precision: 0.6332 - val_recall: 0.5914 - val_f1score: 0.6115\n",
      "Epoch 69/300\n",
      "50/50 [==============================] - 27s 543ms/step - loss: 24.0822 - acc: 0.6222 - auc: 0.8530 - precision: 0.6333 - recall: 0.5857 - f1score: 0.6083 - val_loss: 23.8743 - val_acc: 0.6391 - val_auc: 0.8534 - val_precision: 0.6520 - val_recall: 0.6088 - val_f1score: 0.6296\n",
      "Epoch 70/300\n",
      "50/50 [==============================] - 27s 537ms/step - loss: 23.7308 - acc: 0.6229 - auc: 0.8537 - precision: 0.6359 - recall: 0.5905 - f1score: 0.6122 - val_loss: 23.6274 - val_acc: 0.6042 - val_auc: 0.8540 - val_precision: 0.6285 - val_recall: 0.5821 - val_f1score: 0.6043\n",
      "Epoch 71/300\n",
      "50/50 [==============================] - 27s 545ms/step - loss: 23.3934 - acc: 0.6249 - auc: 0.8543 - precision: 0.6424 - recall: 0.5922 - f1score: 0.6159 - val_loss: 23.2531 - val_acc: 0.6251 - val_auc: 0.8547 - val_precision: 0.6459 - val_recall: 0.6019 - val_f1score: 0.6229\n",
      "Epoch 72/300\n",
      "50/50 [==============================] - 27s 536ms/step - loss: 23.0733 - acc: 0.6249 - auc: 0.8550 - precision: 0.6399 - recall: 0.5946 - f1score: 0.6163 - val_loss: 22.9289 - val_acc: 0.6205 - val_auc: 0.8553 - val_precision: 0.6307 - val_recall: 0.6054 - val_f1score: 0.6177\n",
      "Epoch 73/300\n",
      "50/50 [==============================] - 27s 537ms/step - loss: 22.7645 - acc: 0.6298 - auc: 0.8556 - precision: 0.6441 - recall: 0.5935 - f1score: 0.6175 - val_loss: 22.5827 - val_acc: 0.6193 - val_auc: 0.8559 - val_precision: 0.6296 - val_recall: 0.5832 - val_f1score: 0.6053\n",
      "Epoch 74/300\n",
      "50/50 [==============================] - 27s 546ms/step - loss: 22.4434 - acc: 0.6336 - auc: 0.8562 - precision: 0.6484 - recall: 0.6024 - f1score: 0.6243 - val_loss: 22.3496 - val_acc: 0.6345 - val_auc: 0.8565 - val_precision: 0.6524 - val_recall: 0.5972 - val_f1score: 0.6233\n",
      "Epoch 75/300\n",
      "50/50 [==============================] - 27s 537ms/step - loss: 22.1426 - acc: 0.6354 - auc: 0.8568 - precision: 0.6530 - recall: 0.6087 - f1score: 0.6298 - val_loss: 22.0358 - val_acc: 0.5995 - val_auc: 0.8571 - val_precision: 0.6132 - val_recall: 0.5809 - val_f1score: 0.5965\n",
      "Epoch 76/300\n",
      "50/50 [==============================] - 27s 545ms/step - loss: 21.8571 - acc: 0.6283 - auc: 0.8574 - precision: 0.6416 - recall: 0.6011 - f1score: 0.6206 - val_loss: 21.6978 - val_acc: 0.6007 - val_auc: 0.8577 - val_precision: 0.6128 - val_recall: 0.5844 - val_f1score: 0.5982\n",
      "Epoch 77/300\n",
      "50/50 [==============================] - 27s 538ms/step - loss: 21.5718 - acc: 0.6238 - auc: 0.8579 - precision: 0.6333 - recall: 0.5918 - f1score: 0.6116 - val_loss: 21.4455 - val_acc: 0.6345 - val_auc: 0.8582 - val_precision: 0.6460 - val_recall: 0.5995 - val_f1score: 0.6215\n",
      "Epoch 78/300\n",
      "50/50 [==============================] - 27s 544ms/step - loss: 21.2704 - acc: 0.6232 - auc: 0.8585 - precision: 0.6366 - recall: 0.5957 - f1score: 0.6152 - val_loss: 21.1457 - val_acc: 0.6158 - val_auc: 0.8587 - val_precision: 0.6327 - val_recall: 0.5949 - val_f1score: 0.6131\n",
      "Epoch 79/300\n",
      "50/50 [==============================] - 27s 537ms/step - loss: 20.9941 - acc: 0.6209 - auc: 0.8590 - precision: 0.6304 - recall: 0.5919 - f1score: 0.6104 - val_loss: 20.8479 - val_acc: 0.6251 - val_auc: 0.8593 - val_precision: 0.6406 - val_recall: 0.6007 - val_f1score: 0.6198\n",
      "Epoch 80/300\n",
      "50/50 [==============================] - 27s 548ms/step - loss: 20.7301 - acc: 0.6298 - auc: 0.8596 - precision: 0.6421 - recall: 0.5991 - f1score: 0.6196 - val_loss: 20.6373 - val_acc: 0.6054 - val_auc: 0.8598 - val_precision: 0.6207 - val_recall: 0.5786 - val_f1score: 0.5984\n",
      "Epoch 81/300\n",
      "50/50 [==============================] - 27s 531ms/step - loss: 20.4768 - acc: 0.6260 - auc: 0.8601 - precision: 0.6398 - recall: 0.5989 - f1score: 0.6186 - val_loss: 20.4096 - val_acc: 0.6077 - val_auc: 0.8603 - val_precision: 0.6223 - val_recall: 0.5867 - val_f1score: 0.6039\n",
      "Epoch 82/300\n",
      "50/50 [==============================] - 27s 535ms/step - loss: 20.2262 - acc: 0.6271 - auc: 0.8605 - precision: 0.6397 - recall: 0.6019 - f1score: 0.6200 - val_loss: 20.1301 - val_acc: 0.6158 - val_auc: 0.8607 - val_precision: 0.6258 - val_recall: 0.5821 - val_f1score: 0.6029\n",
      "Epoch 83/300\n",
      "50/50 [==============================] - 27s 544ms/step - loss: 19.9838 - acc: 0.6350 - auc: 0.8610 - precision: 0.6463 - recall: 0.6063 - f1score: 0.6255 - val_loss: 19.8982 - val_acc: 0.6193 - val_auc: 0.8612 - val_precision: 0.6379 - val_recall: 0.5984 - val_f1score: 0.6174\n",
      "Epoch 84/300\n",
      "50/50 [==============================] - 27s 538ms/step - loss: 19.7593 - acc: 0.6276 - auc: 0.8615 - precision: 0.6439 - recall: 0.5997 - f1score: 0.6208 - val_loss: 19.6390 - val_acc: 0.6170 - val_auc: 0.8617 - val_precision: 0.6362 - val_recall: 0.6042 - val_f1score: 0.6197\n",
      "Epoch 85/300\n",
      "50/50 [==============================] - 27s 544ms/step - loss: 19.5211 - acc: 0.6421 - auc: 0.8619 - precision: 0.6556 - recall: 0.6116 - f1score: 0.6326 - val_loss: 19.3796 - val_acc: 0.6217 - val_auc: 0.8622 - val_precision: 0.6300 - val_recall: 0.5960 - val_f1score: 0.6124\n",
      "Epoch 86/300\n",
      "50/50 [==============================] - 27s 538ms/step - loss: 19.3187 - acc: 0.6284 - auc: 0.8624 - precision: 0.6366 - recall: 0.5954 - f1score: 0.6151 - val_loss: 19.2367 - val_acc: 0.6193 - val_auc: 0.8626 - val_precision: 0.6412 - val_recall: 0.5984 - val_f1score: 0.6189\n",
      "Epoch 87/300\n",
      "50/50 [==============================] - 27s 546ms/step - loss: 19.0927 - acc: 0.6349 - auc: 0.8629 - precision: 0.6431 - recall: 0.6071 - f1score: 0.6244 - val_loss: 19.1427 - val_acc: 0.5809 - val_auc: 0.8631 - val_precision: 0.6089 - val_recall: 0.5623 - val_f1score: 0.5846\n",
      "Epoch 88/300\n",
      "50/50 [==============================] - 27s 539ms/step - loss: 18.8694 - acc: 0.6345 - auc: 0.8632 - precision: 0.6444 - recall: 0.6090 - f1score: 0.6260 - val_loss: 18.7446 - val_acc: 0.6391 - val_auc: 0.8635 - val_precision: 0.6452 - val_recall: 0.6240 - val_f1score: 0.6343\n",
      "Epoch 89/300\n",
      "50/50 [==============================] - 27s 538ms/step - loss: 18.6509 - acc: 0.6331 - auc: 0.8637 - precision: 0.6458 - recall: 0.6091 - f1score: 0.6268 - val_loss: 18.5352 - val_acc: 0.6310 - val_auc: 0.8639 - val_precision: 0.6398 - val_recall: 0.6042 - val_f1score: 0.6214\n",
      "Epoch 90/300\n",
      "50/50 [==============================] - 27s 546ms/step - loss: 18.4506 - acc: 0.6302 - auc: 0.8641 - precision: 0.6436 - recall: 0.6027 - f1score: 0.6222 - val_loss: 18.3595 - val_acc: 0.6019 - val_auc: 0.8643 - val_precision: 0.6181 - val_recall: 0.5844 - val_f1score: 0.6006\n",
      "Epoch 91/300\n",
      "50/50 [==============================] - 27s 534ms/step - loss: 18.2273 - acc: 0.6285 - auc: 0.8645 - precision: 0.6423 - recall: 0.6076 - f1score: 0.6243 - val_loss: 18.1156 - val_acc: 0.6228 - val_auc: 0.8647 - val_precision: 0.6355 - val_recall: 0.6088 - val_f1score: 0.6218\n",
      "Epoch 92/300\n",
      "50/50 [==============================] - 27s 544ms/step - loss: 18.0159 - acc: 0.6289 - auc: 0.8649 - precision: 0.6429 - recall: 0.6039 - f1score: 0.6227 - val_loss: 17.9505 - val_acc: 0.5879 - val_auc: 0.8651 - val_precision: 0.5957 - val_recall: 0.5646 - val_f1score: 0.5796\n",
      "Epoch 93/300\n",
      "50/50 [==============================] - 27s 536ms/step - loss: 17.8139 - acc: 0.6418 - auc: 0.8653 - precision: 0.6528 - recall: 0.6169 - f1score: 0.6342 - val_loss: 17.7079 - val_acc: 0.6298 - val_auc: 0.8655 - val_precision: 0.6438 - val_recall: 0.6042 - val_f1score: 0.6232\n",
      "Epoch 94/300\n",
      "50/50 [==============================] - 27s 545ms/step - loss: 17.6329 - acc: 0.6372 - auc: 0.8657 - precision: 0.6502 - recall: 0.6100 - f1score: 0.6294 - val_loss: 17.5729 - val_acc: 0.6170 - val_auc: 0.8659 - val_precision: 0.6340 - val_recall: 0.5867 - val_f1score: 0.6093\n",
      "Epoch 95/300\n",
      "50/50 [==============================] - 27s 536ms/step - loss: 17.4586 - acc: 0.6301 - auc: 0.8661 - precision: 0.6426 - recall: 0.6018 - f1score: 0.6213 - val_loss: 17.3542 - val_acc: 0.6135 - val_auc: 0.8663 - val_precision: 0.6214 - val_recall: 0.5891 - val_f1score: 0.6047\n",
      "Epoch 96/300\n",
      "50/50 [==============================] - 27s 549ms/step - loss: 17.2660 - acc: 0.6379 - auc: 0.8664 - precision: 0.6452 - recall: 0.6123 - f1score: 0.6281 - val_loss: 17.1600 - val_acc: 0.6310 - val_auc: 0.8666 - val_precision: 0.6395 - val_recall: 0.6135 - val_f1score: 0.6259\n",
      "Epoch 97/300\n",
      "50/50 [==============================] - 27s 533ms/step - loss: 17.0797 - acc: 0.6491 - auc: 0.8669 - precision: 0.6627 - recall: 0.6316 - f1score: 0.6467 - val_loss: 17.0791 - val_acc: 0.5902 - val_auc: 0.8670 - val_precision: 0.6106 - val_recall: 0.5704 - val_f1score: 0.5897\n",
      "Epoch 98/300\n",
      "50/50 [==============================] - 27s 537ms/step - loss: 16.9173 - acc: 0.6535 - auc: 0.8672 - precision: 0.6638 - recall: 0.6298 - f1score: 0.6462 - val_loss: 16.8958 - val_acc: 0.6065 - val_auc: 0.8674 - val_precision: 0.6243 - val_recall: 0.5774 - val_f1score: 0.5997\n",
      "Epoch 99/300\n",
      "50/50 [==============================] - 27s 543ms/step - loss: 16.7623 - acc: 0.6374 - auc: 0.8676 - precision: 0.6517 - recall: 0.6196 - f1score: 0.6351 - val_loss: 16.7399 - val_acc: 0.6030 - val_auc: 0.8678 - val_precision: 0.6213 - val_recall: 0.5763 - val_f1score: 0.5976\n",
      "Epoch 100/300\n",
      "50/50 [==============================] - 27s 538ms/step - loss: 16.5864 - acc: 0.6429 - auc: 0.8679 - precision: 0.6547 - recall: 0.6176 - f1score: 0.6354 - val_loss: 16.5130 - val_acc: 0.6275 - val_auc: 0.8681 - val_precision: 0.6344 - val_recall: 0.6088 - val_f1score: 0.6213\n",
      "Epoch 101/300\n",
      "50/50 [==============================] - 27s 543ms/step - loss: 16.4371 - acc: 0.6386 - auc: 0.8683 - precision: 0.6529 - recall: 0.6182 - f1score: 0.6349 - val_loss: 16.4029 - val_acc: 0.5984 - val_auc: 0.8685 - val_precision: 0.6141 - val_recall: 0.5739 - val_f1score: 0.5933\n",
      "Epoch 102/300\n",
      "50/50 [==============================] - 27s 534ms/step - loss: 16.2723 - acc: 0.6379 - auc: 0.8686 - precision: 0.6458 - recall: 0.6165 - f1score: 0.6306 - val_loss: 16.2082 - val_acc: 0.6263 - val_auc: 0.8688 - val_precision: 0.6318 - val_recall: 0.6030 - val_f1score: 0.6170\n",
      "Epoch 103/300\n",
      "50/50 [==============================] - 27s 545ms/step - loss: 16.1235 - acc: 0.6272 - auc: 0.8690 - precision: 0.6404 - recall: 0.6010 - f1score: 0.6198 - val_loss: 16.0690 - val_acc: 0.6217 - val_auc: 0.8691 - val_precision: 0.6318 - val_recall: 0.6030 - val_f1score: 0.6170\n",
      "Epoch 104/300\n",
      "50/50 [==============================] - 27s 535ms/step - loss: 15.9599 - acc: 0.6437 - auc: 0.8693 - precision: 0.6520 - recall: 0.6199 - f1score: 0.6354 - val_loss: 16.0259 - val_acc: 0.5751 - val_auc: 0.8695 - val_precision: 0.5908 - val_recall: 0.5518 - val_f1score: 0.5705\n",
      "Epoch 105/300\n",
      "50/50 [==============================] - 27s 537ms/step - loss: 15.8086 - acc: 0.6540 - auc: 0.8696 - precision: 0.6704 - recall: 0.6338 - f1score: 0.6515 - val_loss: 15.7610 - val_acc: 0.6158 - val_auc: 0.8698 - val_precision: 0.6267 - val_recall: 0.5995 - val_f1score: 0.6128\n",
      "Epoch 106/300\n",
      "50/50 [==============================] - 27s 544ms/step - loss: 15.6523 - acc: 0.6415 - auc: 0.8699 - precision: 0.6503 - recall: 0.6236 - f1score: 0.6366 - val_loss: 15.6026 - val_acc: 0.6251 - val_auc: 0.8701 - val_precision: 0.6397 - val_recall: 0.6112 - val_f1score: 0.6250\n",
      "Epoch 107/300\n",
      "50/50 [==============================] - 27s 536ms/step - loss: 15.5079 - acc: 0.6513 - auc: 0.8703 - precision: 0.6661 - recall: 0.6313 - f1score: 0.6481 - val_loss: 15.4537 - val_acc: 0.6345 - val_auc: 0.8704 - val_precision: 0.6480 - val_recall: 0.6193 - val_f1score: 0.6332\n",
      "Epoch 108/300\n",
      "50/50 [==============================] - 27s 544ms/step - loss: 15.3764 - acc: 0.6383 - auc: 0.8706 - precision: 0.6509 - recall: 0.6200 - f1score: 0.6349 - val_loss: 15.4336 - val_acc: 0.5995 - val_auc: 0.8707 - val_precision: 0.6176 - val_recall: 0.5797 - val_f1score: 0.5979\n",
      "Epoch 109/300\n",
      "50/50 [==============================] - 27s 536ms/step - loss: 15.2360 - acc: 0.6496 - auc: 0.8709 - precision: 0.6667 - recall: 0.6296 - f1score: 0.6475 - val_loss: 15.2334 - val_acc: 0.6077 - val_auc: 0.8710 - val_precision: 0.6208 - val_recall: 0.5949 - val_f1score: 0.6074\n",
      "Epoch 110/300\n",
      "50/50 [==============================] - 27s 545ms/step - loss: 15.1015 - acc: 0.6469 - auc: 0.8712 - precision: 0.6538 - recall: 0.6294 - f1score: 0.6413 - val_loss: 15.0669 - val_acc: 0.6135 - val_auc: 0.8714 - val_precision: 0.6241 - val_recall: 0.5914 - val_f1score: 0.6071\n",
      "Epoch 111/300\n",
      "50/50 [==============================] - 27s 535ms/step - loss: 14.9828 - acc: 0.6420 - auc: 0.8715 - precision: 0.6516 - recall: 0.6202 - f1score: 0.6354 - val_loss: 14.9309 - val_acc: 0.6333 - val_auc: 0.8716 - val_precision: 0.6448 - val_recall: 0.6158 - val_f1score: 0.6299\n",
      "Epoch 112/300\n",
      "50/50 [==============================] - 28s 550ms/step - loss: 14.8393 - acc: 0.6467 - auc: 0.8718 - precision: 0.6532 - recall: 0.6237 - f1score: 0.6380 - val_loss: 14.9825 - val_acc: 0.5891 - val_auc: 0.8719 - val_precision: 0.6277 - val_recall: 0.5728 - val_f1score: 0.5981\n",
      "Epoch 113/300\n"
     ]
    },
    {
     "name": "stdout",
     "output_type": "stream",
     "text": [
      "50/50 [==============================] - 27s 533ms/step - loss: 14.7018 - acc: 0.6510 - auc: 0.8721 - precision: 0.6579 - recall: 0.6269 - f1score: 0.6419 - val_loss: 14.6504 - val_acc: 0.6298 - val_auc: 0.8722 - val_precision: 0.6382 - val_recall: 0.6100 - val_f1score: 0.6237\n",
      "Epoch 114/300\n",
      "50/50 [==============================] - 27s 537ms/step - loss: 14.5860 - acc: 0.6476 - auc: 0.8724 - precision: 0.6590 - recall: 0.6271 - f1score: 0.6426 - val_loss: 14.5285 - val_acc: 0.6380 - val_auc: 0.8725 - val_precision: 0.6529 - val_recall: 0.6170 - val_f1score: 0.6343\n",
      "Epoch 115/300\n",
      "50/50 [==============================] - 27s 544ms/step - loss: 14.4428 - acc: 0.6549 - auc: 0.8727 - precision: 0.6637 - recall: 0.6371 - f1score: 0.6500 - val_loss: 14.4595 - val_acc: 0.6286 - val_auc: 0.8728 - val_precision: 0.6496 - val_recall: 0.6077 - val_f1score: 0.6278\n",
      "Epoch 116/300\n",
      "50/50 [==============================] - 27s 537ms/step - loss: 14.3151 - acc: 0.6501 - auc: 0.8729 - precision: 0.6625 - recall: 0.6354 - f1score: 0.6486 - val_loss: 14.4901 - val_acc: 0.5821 - val_auc: 0.8731 - val_precision: 0.6190 - val_recall: 0.5669 - val_f1score: 0.5916\n",
      "Epoch 117/300\n",
      "50/50 [==============================] - 27s 545ms/step - loss: 14.2073 - acc: 0.6325 - auc: 0.8732 - precision: 0.6433 - recall: 0.6078 - f1score: 0.6249 - val_loss: 14.2001 - val_acc: 0.6275 - val_auc: 0.8733 - val_precision: 0.6460 - val_recall: 0.6065 - val_f1score: 0.6255\n",
      "Epoch 118/300\n",
      "50/50 [==============================] - 27s 538ms/step - loss: 14.0747 - acc: 0.6513 - auc: 0.8734 - precision: 0.6601 - recall: 0.6338 - f1score: 0.6466 - val_loss: 14.1275 - val_acc: 0.6100 - val_auc: 0.8736 - val_precision: 0.6248 - val_recall: 0.6030 - val_f1score: 0.6137\n",
      "Epoch 119/300\n",
      "50/50 [==============================] - 27s 543ms/step - loss: 13.9694 - acc: 0.6490 - auc: 0.8737 - precision: 0.6575 - recall: 0.6304 - f1score: 0.6435 - val_loss: 14.0372 - val_acc: 0.6088 - val_auc: 0.8738 - val_precision: 0.6308 - val_recall: 0.5809 - val_f1score: 0.6046\n",
      "Epoch 120/300\n",
      "50/50 [==============================] - 27s 538ms/step - loss: 13.8551 - acc: 0.6388 - auc: 0.8740 - precision: 0.6500 - recall: 0.6229 - f1score: 0.6360 - val_loss: 13.9399 - val_acc: 0.6030 - val_auc: 0.8741 - val_precision: 0.6178 - val_recall: 0.5751 - val_f1score: 0.5955\n",
      "Epoch 121/300\n",
      "50/50 [==============================] - 27s 537ms/step - loss: 13.7437 - acc: 0.6531 - auc: 0.8742 - precision: 0.6643 - recall: 0.6334 - f1score: 0.6483 - val_loss: 13.6772 - val_acc: 0.6508 - val_auc: 0.8743 - val_precision: 0.6516 - val_recall: 0.6298 - val_f1score: 0.6404\n",
      "Epoch 122/300\n",
      "50/50 [==============================] - 27s 548ms/step - loss: 13.6414 - acc: 0.6450 - auc: 0.8744 - precision: 0.6523 - recall: 0.6213 - f1score: 0.6363 - val_loss: 13.7641 - val_acc: 0.5891 - val_auc: 0.8746 - val_precision: 0.6132 - val_recall: 0.5658 - val_f1score: 0.5883\n",
      "Epoch 123/300\n",
      "50/50 [==============================] - 27s 539ms/step - loss: 13.5399 - acc: 0.6651 - auc: 0.8747 - precision: 0.6719 - recall: 0.6457 - f1score: 0.6584 - val_loss: 13.5348 - val_acc: 0.6251 - val_auc: 0.8748 - val_precision: 0.6515 - val_recall: 0.6100 - val_f1score: 0.6299\n",
      "Epoch 124/300\n",
      "50/50 [==============================] - 27s 545ms/step - loss: 13.4213 - acc: 0.6693 - auc: 0.8749 - precision: 0.6773 - recall: 0.6477 - f1score: 0.6620 - val_loss: 13.3994 - val_acc: 0.6321 - val_auc: 0.8751 - val_precision: 0.6519 - val_recall: 0.6228 - val_f1score: 0.6369\n",
      "Epoch 125/300\n",
      "50/50 [==============================] - 27s 537ms/step - loss: 13.3325 - acc: 0.6468 - auc: 0.8752 - precision: 0.6535 - recall: 0.6288 - f1score: 0.6408 - val_loss: 13.3092 - val_acc: 0.6310 - val_auc: 0.8754 - val_precision: 0.6416 - val_recall: 0.6112 - val_f1score: 0.6259\n",
      "Epoch 126/300\n",
      "50/50 [==============================] - 27s 545ms/step - loss: 13.2162 - acc: 0.6505 - auc: 0.8755 - precision: 0.6589 - recall: 0.6321 - f1score: 0.6451 - val_loss: 13.2951 - val_acc: 0.6100 - val_auc: 0.8756 - val_precision: 0.6303 - val_recall: 0.5867 - val_f1score: 0.6076\n",
      "Epoch 127/300\n",
      "50/50 [==============================] - 27s 538ms/step - loss: 13.1379 - acc: 0.6462 - auc: 0.8757 - precision: 0.6555 - recall: 0.6273 - f1score: 0.6410 - val_loss: 13.0968 - val_acc: 0.6380 - val_auc: 0.8758 - val_precision: 0.6511 - val_recall: 0.6170 - val_f1score: 0.6335\n",
      "Epoch 128/300\n",
      "50/50 [==============================] - 28s 551ms/step - loss: 13.0325 - acc: 0.6563 - auc: 0.8760 - precision: 0.6673 - recall: 0.6357 - f1score: 0.6510 - val_loss: 13.0252 - val_acc: 0.6217 - val_auc: 0.8761 - val_precision: 0.6271 - val_recall: 0.6030 - val_f1score: 0.6144\n",
      "Epoch 129/300\n",
      "50/50 [==============================] - 27s 534ms/step - loss: 12.9216 - acc: 0.6565 - auc: 0.8762 - precision: 0.6676 - recall: 0.6408 - f1score: 0.6538 - val_loss: 12.9008 - val_acc: 0.6251 - val_auc: 0.8764 - val_precision: 0.6345 - val_recall: 0.6112 - val_f1score: 0.6226\n",
      "Epoch 130/300\n",
      "50/50 [==============================] - 27s 537ms/step - loss: 12.8358 - acc: 0.6579 - auc: 0.8765 - precision: 0.6681 - recall: 0.6396 - f1score: 0.6534 - val_loss: 12.8256 - val_acc: 0.6170 - val_auc: 0.8766 - val_precision: 0.6331 - val_recall: 0.6019 - val_f1score: 0.6170\n",
      "Epoch 131/300\n",
      "50/50 [==============================] - 27s 544ms/step - loss: 12.7483 - acc: 0.6494 - auc: 0.8767 - precision: 0.6594 - recall: 0.6332 - f1score: 0.6459 - val_loss: 12.8000 - val_acc: 0.6158 - val_auc: 0.8768 - val_precision: 0.6388 - val_recall: 0.5984 - val_f1score: 0.6178\n",
      "Epoch 132/300\n",
      "50/50 [==============================] - 27s 537ms/step - loss: 12.6621 - acc: 0.6520 - auc: 0.8770 - precision: 0.6647 - recall: 0.6324 - f1score: 0.6480 - val_loss: 12.6396 - val_acc: 0.6356 - val_auc: 0.8771 - val_precision: 0.6474 - val_recall: 0.6217 - val_f1score: 0.6342\n",
      "Epoch 133/300\n",
      "50/50 [==============================] - 27s 548ms/step - loss: 12.5626 - acc: 0.6463 - auc: 0.8772 - precision: 0.6559 - recall: 0.6300 - f1score: 0.6426 - val_loss: 12.5372 - val_acc: 0.6310 - val_auc: 0.8773 - val_precision: 0.6443 - val_recall: 0.6182 - val_f1score: 0.6309\n",
      "Epoch 134/300\n",
      "50/50 [==============================] - 27s 537ms/step - loss: 12.4767 - acc: 0.6626 - auc: 0.8774 - precision: 0.6731 - recall: 0.6473 - f1score: 0.6599 - val_loss: 12.5197 - val_acc: 0.6240 - val_auc: 0.8775 - val_precision: 0.6415 - val_recall: 0.6077 - val_f1score: 0.6240\n",
      "Epoch 135/300\n",
      "50/50 [==============================] - 27s 544ms/step - loss: 12.3869 - acc: 0.6555 - auc: 0.8776 - precision: 0.6623 - recall: 0.6402 - f1score: 0.6508 - val_loss: 12.3476 - val_acc: 0.6391 - val_auc: 0.8778 - val_precision: 0.6421 - val_recall: 0.6135 - val_f1score: 0.6274\n",
      "Epoch 136/300\n",
      "50/50 [==============================] - 27s 539ms/step - loss: 12.3046 - acc: 0.6601 - auc: 0.8779 - precision: 0.6732 - recall: 0.6457 - f1score: 0.6589 - val_loss: 12.4840 - val_acc: 0.5995 - val_auc: 0.8780 - val_precision: 0.6289 - val_recall: 0.5728 - val_f1score: 0.5993\n",
      "Epoch 137/300\n",
      "50/50 [==============================] - 27s 536ms/step - loss: 12.2164 - acc: 0.6531 - auc: 0.8781 - precision: 0.6634 - recall: 0.6349 - f1score: 0.6486 - val_loss: 12.3329 - val_acc: 0.5995 - val_auc: 0.8782 - val_precision: 0.6251 - val_recall: 0.5763 - val_f1score: 0.5994\n",
      "Epoch 138/300\n",
      "50/50 [==============================] - 27s 544ms/step - loss: 12.1271 - acc: 0.6594 - auc: 0.8783 - precision: 0.6673 - recall: 0.6405 - f1score: 0.6535 - val_loss: 12.2512 - val_acc: 0.5972 - val_auc: 0.8784 - val_precision: 0.6249 - val_recall: 0.5844 - val_f1score: 0.6039\n",
      "Epoch 139/300\n",
      "50/50 [==============================] - 27s 539ms/step - loss: 12.0500 - acc: 0.6564 - auc: 0.8785 - precision: 0.6653 - recall: 0.6404 - f1score: 0.6525 - val_loss: 12.0553 - val_acc: 0.6182 - val_auc: 0.8786 - val_precision: 0.6335 - val_recall: 0.5902 - val_f1score: 0.6110\n",
      "Epoch 140/300\n",
      "50/50 [==============================] - 27s 544ms/step - loss: 11.9652 - acc: 0.6563 - auc: 0.8787 - precision: 0.6664 - recall: 0.6416 - f1score: 0.6536 - val_loss: 11.9849 - val_acc: 0.6205 - val_auc: 0.8788 - val_precision: 0.6337 - val_recall: 0.6054 - val_f1score: 0.6190\n",
      "Epoch 141/300\n",
      "50/50 [==============================] - 27s 539ms/step - loss: 11.8790 - acc: 0.6651 - auc: 0.8789 - precision: 0.6737 - recall: 0.6485 - f1score: 0.6608 - val_loss: 11.8465 - val_acc: 0.6449 - val_auc: 0.8790 - val_precision: 0.6504 - val_recall: 0.6391 - val_f1score: 0.6447\n",
      "Epoch 142/300\n",
      "50/50 [==============================] - 28s 552ms/step - loss: 11.8047 - acc: 0.6561 - auc: 0.8791 - precision: 0.6668 - recall: 0.6394 - f1score: 0.6527 - val_loss: 11.7945 - val_acc: 0.6403 - val_auc: 0.8793 - val_precision: 0.6388 - val_recall: 0.6240 - val_f1score: 0.6312\n",
      "Epoch 143/300\n",
      "50/50 [==============================] - 27s 536ms/step - loss: 11.7471 - acc: 0.6653 - auc: 0.8794 - precision: 0.6724 - recall: 0.6454 - f1score: 0.6585 - val_loss: 11.8416 - val_acc: 0.5949 - val_auc: 0.8795 - val_precision: 0.6189 - val_recall: 0.5914 - val_f1score: 0.6047\n",
      "Epoch 144/300\n",
      "50/50 [==============================] - 27s 549ms/step - loss: 11.6576 - acc: 0.6617 - auc: 0.8796 - precision: 0.6722 - recall: 0.6502 - f1score: 0.6609 - val_loss: 11.6880 - val_acc: 0.5972 - val_auc: 0.8797 - val_precision: 0.6072 - val_recall: 0.5786 - val_f1score: 0.5921\n",
      "Epoch 145/300\n",
      "50/50 [==============================] - 27s 534ms/step - loss: 11.5822 - acc: 0.6618 - auc: 0.8798 - precision: 0.6718 - recall: 0.6461 - f1score: 0.6586 - val_loss: 11.5953 - val_acc: 0.6205 - val_auc: 0.8799 - val_precision: 0.6298 - val_recall: 0.5972 - val_f1score: 0.6130\n",
      "Epoch 146/300\n",
      "50/50 [==============================] - 27s 538ms/step - loss: 11.4980 - acc: 0.6646 - auc: 0.8800 - precision: 0.6724 - recall: 0.6490 - f1score: 0.6604 - val_loss: 11.5860 - val_acc: 0.6030 - val_auc: 0.8801 - val_precision: 0.6172 - val_recall: 0.5937 - val_f1score: 0.6052\n",
      "Epoch 147/300\n",
      "50/50 [==============================] - 27s 546ms/step - loss: 11.4362 - acc: 0.6532 - auc: 0.8802 - precision: 0.6622 - recall: 0.6413 - f1score: 0.6515 - val_loss: 11.4155 - val_acc: 0.6391 - val_auc: 0.8803 - val_precision: 0.6499 - val_recall: 0.6251 - val_f1score: 0.6372\n",
      "Epoch 148/300\n",
      "50/50 [==============================] - 27s 538ms/step - loss: 11.3542 - acc: 0.6654 - auc: 0.8804 - precision: 0.6723 - recall: 0.6470 - f1score: 0.6593 - val_loss: 11.6497 - val_acc: 0.5925 - val_auc: 0.8805 - val_precision: 0.6125 - val_recall: 0.5786 - val_f1score: 0.5949\n",
      "Epoch 149/300\n",
      "50/50 [==============================] - 27s 544ms/step - loss: 11.2938 - acc: 0.6636 - auc: 0.8805 - precision: 0.6717 - recall: 0.6454 - f1score: 0.6582 - val_loss: 11.4127 - val_acc: 0.5867 - val_auc: 0.8806 - val_precision: 0.5937 - val_recall: 0.5646 - val_f1score: 0.5787\n",
      "Epoch 150/300\n",
      "50/50 [==============================] - 27s 535ms/step - loss: 11.2312 - acc: 0.6554 - auc: 0.8807 - precision: 0.6666 - recall: 0.6385 - f1score: 0.6521 - val_loss: 11.1909 - val_acc: 0.6368 - val_auc: 0.8808 - val_precision: 0.6428 - val_recall: 0.6251 - val_f1score: 0.6338\n",
      "Epoch 151/300\n",
      "50/50 [==============================] - 27s 546ms/step - loss: 11.1575 - acc: 0.6657 - auc: 0.8809 - precision: 0.6723 - recall: 0.6532 - f1score: 0.6624 - val_loss: 11.1298 - val_acc: 0.6391 - val_auc: 0.8810 - val_precision: 0.6497 - val_recall: 0.6251 - val_f1score: 0.6371\n",
      "Epoch 152/300\n",
      "50/50 [==============================] - 27s 538ms/step - loss: 11.0870 - acc: 0.6687 - auc: 0.8811 - precision: 0.6773 - recall: 0.6523 - f1score: 0.6645 - val_loss: 11.1164 - val_acc: 0.6112 - val_auc: 0.8812 - val_precision: 0.6250 - val_recall: 0.5914 - val_f1score: 0.6076\n",
      "Epoch 153/300\n",
      "50/50 [==============================] - 27s 537ms/step - loss: 11.0088 - acc: 0.6771 - auc: 0.8813 - precision: 0.6858 - recall: 0.6635 - f1score: 0.6743 - val_loss: 11.0657 - val_acc: 0.6019 - val_auc: 0.8814 - val_precision: 0.6145 - val_recall: 0.5960 - val_f1score: 0.6050\n",
      "Epoch 154/300\n",
      "50/50 [==============================] - 27s 545ms/step - loss: 10.9444 - acc: 0.6872 - auc: 0.8815 - precision: 0.6958 - recall: 0.6747 - f1score: 0.6850 - val_loss: 10.9775 - val_acc: 0.6403 - val_auc: 0.8816 - val_precision: 0.6545 - val_recall: 0.6205 - val_f1score: 0.6370\n",
      "Epoch 155/300\n",
      "50/50 [==============================] - 27s 536ms/step - loss: 10.8842 - acc: 0.6620 - auc: 0.8817 - precision: 0.6686 - recall: 0.6471 - f1score: 0.6576 - val_loss: 10.9048 - val_acc: 0.6217 - val_auc: 0.8818 - val_precision: 0.6301 - val_recall: 0.6100 - val_f1score: 0.6198\n",
      "Epoch 156/300\n",
      "50/50 [==============================] - 27s 546ms/step - loss: 10.8259 - acc: 0.6721 - auc: 0.8819 - precision: 0.6776 - recall: 0.6547 - f1score: 0.6659 - val_loss: 10.8686 - val_acc: 0.6170 - val_auc: 0.8820 - val_precision: 0.6348 - val_recall: 0.5995 - val_f1score: 0.6165\n",
      "Epoch 157/300\n",
      "50/50 [==============================] - 27s 537ms/step - loss: 10.7656 - acc: 0.6701 - auc: 0.8821 - precision: 0.6793 - recall: 0.6559 - f1score: 0.6673 - val_loss: 10.8828 - val_acc: 0.5937 - val_auc: 0.8822 - val_precision: 0.6135 - val_recall: 0.5809 - val_f1score: 0.5966\n",
      "Epoch 158/300\n",
      "50/50 [==============================] - 27s 545ms/step - loss: 10.7159 - acc: 0.6607 - auc: 0.8823 - precision: 0.6678 - recall: 0.6465 - f1score: 0.6568 - val_loss: 10.7274 - val_acc: 0.6380 - val_auc: 0.8824 - val_precision: 0.6508 - val_recall: 0.6217 - val_f1score: 0.6358\n",
      "Epoch 159/300\n",
      "50/50 [==============================] - 27s 538ms/step - loss: 10.6414 - acc: 0.6696 - auc: 0.8825 - precision: 0.6773 - recall: 0.6556 - f1score: 0.6661 - val_loss: 10.6364 - val_acc: 0.6380 - val_auc: 0.8826 - val_precision: 0.6421 - val_recall: 0.6310 - val_f1score: 0.6365\n",
      "Epoch 160/300\n",
      "50/50 [==============================] - 27s 549ms/step - loss: 10.5968 - acc: 0.6576 - auc: 0.8827 - precision: 0.6676 - recall: 0.6440 - f1score: 0.6555 - val_loss: 10.6653 - val_acc: 0.6042 - val_auc: 0.8828 - val_precision: 0.6198 - val_recall: 0.5867 - val_f1score: 0.6023\n",
      "Epoch 161/300\n",
      "50/50 [==============================] - 27s 534ms/step - loss: 10.5224 - acc: 0.6721 - auc: 0.8828 - precision: 0.6812 - recall: 0.6586 - f1score: 0.6696 - val_loss: 10.5021 - val_acc: 0.6449 - val_auc: 0.8829 - val_precision: 0.6510 - val_recall: 0.6380 - val_f1score: 0.6443\n",
      "Epoch 162/300\n",
      "50/50 [==============================] - 27s 537ms/step - loss: 10.4672 - acc: 0.6728 - auc: 0.8830 - precision: 0.6813 - recall: 0.6606 - f1score: 0.6707 - val_loss: 10.4990 - val_acc: 0.6158 - val_auc: 0.8831 - val_precision: 0.6347 - val_recall: 0.6042 - val_f1score: 0.6190\n",
      "Epoch 163/300\n",
      "50/50 [==============================] - 27s 546ms/step - loss: 10.4097 - acc: 0.6569 - auc: 0.8832 - precision: 0.6640 - recall: 0.6422 - f1score: 0.6528 - val_loss: 10.3860 - val_acc: 0.6554 - val_auc: 0.8833 - val_precision: 0.6568 - val_recall: 0.6414 - val_f1score: 0.6490\n",
      "Epoch 164/300\n",
      "50/50 [==============================] - 27s 537ms/step - loss: 10.3488 - acc: 0.6776 - auc: 0.8834 - precision: 0.6875 - recall: 0.6657 - f1score: 0.6764 - val_loss: 10.3631 - val_acc: 0.6286 - val_auc: 0.8835 - val_precision: 0.6302 - val_recall: 0.6123 - val_f1score: 0.6211\n",
      "Epoch 165/300\n",
      "50/50 [==============================] - 27s 547ms/step - loss: 10.2993 - acc: 0.6594 - auc: 0.8836 - precision: 0.6689 - recall: 0.6469 - f1score: 0.6576 - val_loss: 10.2871 - val_acc: 0.6508 - val_auc: 0.8837 - val_precision: 0.6498 - val_recall: 0.6345 - val_f1score: 0.6420\n",
      "Epoch 166/300\n",
      "50/50 [==============================] - 27s 536ms/step - loss: 10.2680 - acc: 0.6559 - auc: 0.8838 - precision: 0.6643 - recall: 0.6393 - f1score: 0.6514 - val_loss: 10.2594 - val_acc: 0.6333 - val_auc: 0.8838 - val_precision: 0.6490 - val_recall: 0.6228 - val_f1score: 0.6356\n",
      "Epoch 167/300\n",
      "50/50 [==============================] - 27s 545ms/step - loss: 10.1821 - acc: 0.6837 - auc: 0.8839 - precision: 0.6905 - recall: 0.6702 - f1score: 0.6801 - val_loss: 10.2507 - val_acc: 0.6321 - val_auc: 0.8840 - val_precision: 0.6362 - val_recall: 0.6135 - val_f1score: 0.6246\n",
      "Epoch 168/300\n",
      "50/50 [==============================] - 27s 537ms/step - loss: 10.1509 - acc: 0.6543 - auc: 0.8841 - precision: 0.6621 - recall: 0.6407 - f1score: 0.6511 - val_loss: 10.2191 - val_acc: 0.6135 - val_auc: 0.8842 - val_precision: 0.6286 - val_recall: 0.5856 - val_f1score: 0.6062\n",
      "Epoch 169/300\n"
     ]
    },
    {
     "name": "stdout",
     "output_type": "stream",
     "text": [
      "50/50 [==============================] - 27s 536ms/step - loss: 10.0873 - acc: 0.6720 - auc: 0.8843 - precision: 0.6762 - recall: 0.6563 - f1score: 0.6660 - val_loss: 10.0941 - val_acc: 0.6217 - val_auc: 0.8844 - val_precision: 0.6259 - val_recall: 0.6065 - val_f1score: 0.6160\n",
      "Epoch 170/300\n",
      "50/50 [==============================] - 27s 547ms/step - loss: 10.0315 - acc: 0.6771 - auc: 0.8845 - precision: 0.6834 - recall: 0.6605 - f1score: 0.6716 - val_loss: 10.0968 - val_acc: 0.5984 - val_auc: 0.8845 - val_precision: 0.6091 - val_recall: 0.5774 - val_f1score: 0.5927\n",
      "Epoch 171/300\n",
      "50/50 [==============================] - 27s 537ms/step - loss: 9.9827 - acc: 0.6806 - auc: 0.8846 - precision: 0.6876 - recall: 0.6676 - f1score: 0.6774 - val_loss: 10.1334 - val_acc: 0.6100 - val_auc: 0.8847 - val_precision: 0.6230 - val_recall: 0.5867 - val_f1score: 0.6041\n",
      "Epoch 172/300\n",
      "50/50 [==============================] - 27s 546ms/step - loss: 9.9341 - acc: 0.6677 - auc: 0.8848 - precision: 0.6741 - recall: 0.6546 - f1score: 0.6641 - val_loss: 9.9827 - val_acc: 0.6147 - val_auc: 0.8849 - val_precision: 0.6283 - val_recall: 0.6019 - val_f1score: 0.6147\n",
      "Epoch 173/300\n",
      "50/50 [==============================] - 27s 539ms/step - loss: 9.8911 - acc: 0.6779 - auc: 0.8849 - precision: 0.6858 - recall: 0.6617 - f1score: 0.6734 - val_loss: 9.9418 - val_acc: 0.6275 - val_auc: 0.8850 - val_precision: 0.6478 - val_recall: 0.6088 - val_f1score: 0.6276\n",
      "Epoch 174/300\n",
      "50/50 [==============================] - 27s 545ms/step - loss: 9.8302 - acc: 0.6746 - auc: 0.8851 - precision: 0.6814 - recall: 0.6649 - f1score: 0.6730 - val_loss: 9.8717 - val_acc: 0.6426 - val_auc: 0.8852 - val_precision: 0.6433 - val_recall: 0.6298 - val_f1score: 0.6364\n",
      "Epoch 175/300\n",
      "50/50 [==============================] - 27s 536ms/step - loss: 9.7877 - acc: 0.6781 - auc: 0.8853 - precision: 0.6850 - recall: 0.6621 - f1score: 0.6732 - val_loss: 9.8477 - val_acc: 0.6333 - val_auc: 0.8854 - val_precision: 0.6419 - val_recall: 0.6217 - val_f1score: 0.6315\n",
      "Epoch 176/300\n",
      "50/50 [==============================] - 27s 548ms/step - loss: 9.7467 - acc: 0.6843 - auc: 0.8854 - precision: 0.6916 - recall: 0.6682 - f1score: 0.6796 - val_loss: 9.7799 - val_acc: 0.6217 - val_auc: 0.8855 - val_precision: 0.6253 - val_recall: 0.6147 - val_f1score: 0.6198\n",
      "Epoch 177/300\n",
      "50/50 [==============================] - 27s 533ms/step - loss: 9.6804 - acc: 0.6882 - auc: 0.8856 - precision: 0.6940 - recall: 0.6761 - f1score: 0.6849 - val_loss: 9.7560 - val_acc: 0.6100 - val_auc: 0.8857 - val_precision: 0.6235 - val_recall: 0.6030 - val_f1score: 0.6131\n",
      "Epoch 178/300\n",
      "50/50 [==============================] - 27s 537ms/step - loss: 9.6577 - acc: 0.6629 - auc: 0.8858 - precision: 0.6690 - recall: 0.6532 - f1score: 0.6610 - val_loss: 9.7260 - val_acc: 0.6217 - val_auc: 0.8859 - val_precision: 0.6294 - val_recall: 0.6065 - val_f1score: 0.6177\n",
      "Epoch 179/300\n",
      "50/50 [==============================] - 27s 545ms/step - loss: 9.5997 - acc: 0.6818 - auc: 0.8859 - precision: 0.6875 - recall: 0.6672 - f1score: 0.6771 - val_loss: 9.6598 - val_acc: 0.6310 - val_auc: 0.8860 - val_precision: 0.6440 - val_recall: 0.6158 - val_f1score: 0.6296\n",
      "Epoch 180/300\n",
      "50/50 [==============================] - 27s 537ms/step - loss: 9.5525 - acc: 0.6765 - auc: 0.8861 - precision: 0.6855 - recall: 0.6690 - f1score: 0.6771 - val_loss: 9.5810 - val_acc: 0.6473 - val_auc: 0.8862 - val_precision: 0.6547 - val_recall: 0.6356 - val_f1score: 0.6449\n",
      "Epoch 181/300\n",
      "50/50 [==============================] - 27s 544ms/step - loss: 9.5023 - acc: 0.6646 - auc: 0.8863 - precision: 0.6742 - recall: 0.6536 - f1score: 0.6637 - val_loss: 9.5216 - val_acc: 0.6368 - val_auc: 0.8864 - val_precision: 0.6368 - val_recall: 0.6158 - val_f1score: 0.6260\n",
      "Epoch 182/300\n",
      "50/50 [==============================] - 27s 538ms/step - loss: 9.4590 - acc: 0.6773 - auc: 0.8864 - precision: 0.6840 - recall: 0.6638 - f1score: 0.6736 - val_loss: 9.5118 - val_acc: 0.6275 - val_auc: 0.8865 - val_precision: 0.6376 - val_recall: 0.6205 - val_f1score: 0.6288\n",
      "Epoch 183/300\n",
      "50/50 [==============================] - 27s 545ms/step - loss: 9.4045 - acc: 0.6680 - auc: 0.8866 - precision: 0.6750 - recall: 0.6580 - f1score: 0.6664 - val_loss: 9.4802 - val_acc: 0.6286 - val_auc: 0.8867 - val_precision: 0.6467 - val_recall: 0.6205 - val_f1score: 0.6332\n",
      "Epoch 184/300\n",
      "50/50 [==============================] - 27s 538ms/step - loss: 9.3709 - acc: 0.6762 - auc: 0.8867 - precision: 0.6836 - recall: 0.6640 - f1score: 0.6736 - val_loss: 9.6093 - val_acc: 0.6007 - val_auc: 0.8868 - val_precision: 0.6198 - val_recall: 0.5856 - val_f1score: 0.6020\n",
      "Epoch 185/300\n",
      "50/50 [==============================] - 27s 538ms/step - loss: 9.3284 - acc: 0.6806 - auc: 0.8869 - precision: 0.6899 - recall: 0.6715 - f1score: 0.6805 - val_loss: 9.5075 - val_acc: 0.5937 - val_auc: 0.8870 - val_precision: 0.6118 - val_recall: 0.5774 - val_f1score: 0.5940\n",
      "Epoch 186/300\n",
      "50/50 [==============================] - 27s 545ms/step - loss: 9.2752 - acc: 0.6793 - auc: 0.8870 - precision: 0.6887 - recall: 0.6683 - f1score: 0.6783 - val_loss: 9.3939 - val_acc: 0.6123 - val_auc: 0.8871 - val_precision: 0.6193 - val_recall: 0.6019 - val_f1score: 0.6104\n",
      "Epoch 187/300\n",
      "50/50 [==============================] - 27s 537ms/step - loss: 9.2417 - acc: 0.6831 - auc: 0.8872 - precision: 0.6878 - recall: 0.6731 - f1score: 0.6803 - val_loss: 9.3749 - val_acc: 0.6170 - val_auc: 0.8873 - val_precision: 0.6267 - val_recall: 0.6007 - val_f1score: 0.6134\n",
      "Epoch 188/300\n",
      "50/50 [==============================] - 27s 545ms/step - loss: 9.2000 - acc: 0.6816 - auc: 0.8873 - precision: 0.6888 - recall: 0.6710 - f1score: 0.6797 - val_loss: 9.2553 - val_acc: 0.6217 - val_auc: 0.8874 - val_precision: 0.6262 - val_recall: 0.6054 - val_f1score: 0.6156\n",
      "Epoch 189/300\n",
      "50/50 [==============================] - 27s 536ms/step - loss: 9.1631 - acc: 0.6753 - auc: 0.8875 - precision: 0.6850 - recall: 0.6634 - f1score: 0.6739 - val_loss: 9.2716 - val_acc: 0.6100 - val_auc: 0.8876 - val_precision: 0.6259 - val_recall: 0.5949 - val_f1score: 0.6099\n",
      "Epoch 190/300\n",
      "50/50 [==============================] - 27s 548ms/step - loss: 9.1172 - acc: 0.6829 - auc: 0.8876 - precision: 0.6873 - recall: 0.6704 - f1score: 0.6786 - val_loss: 9.1673 - val_acc: 0.6414 - val_auc: 0.8877 - val_precision: 0.6488 - val_recall: 0.6263 - val_f1score: 0.6373\n",
      "Epoch 191/300\n",
      "50/50 [==============================] - 27s 537ms/step - loss: 9.0745 - acc: 0.6903 - auc: 0.8878 - precision: 0.6971 - recall: 0.6787 - f1score: 0.6877 - val_loss: 9.1548 - val_acc: 0.6240 - val_auc: 0.8879 - val_precision: 0.6359 - val_recall: 0.6112 - val_f1score: 0.6232\n",
      "Epoch 192/300\n",
      "50/50 [==============================] - 27s 550ms/step - loss: 9.0369 - acc: 0.6771 - auc: 0.8880 - precision: 0.6854 - recall: 0.6684 - f1score: 0.6767 - val_loss: 9.1107 - val_acc: 0.6193 - val_auc: 0.8880 - val_precision: 0.6290 - val_recall: 0.6077 - val_f1score: 0.6179\n",
      "Epoch 193/300\n",
      "50/50 [==============================] - 27s 534ms/step - loss: 8.9938 - acc: 0.6860 - auc: 0.8881 - precision: 0.6915 - recall: 0.6735 - f1score: 0.6823 - val_loss: 9.0456 - val_acc: 0.6368 - val_auc: 0.8882 - val_precision: 0.6425 - val_recall: 0.6240 - val_f1score: 0.6330\n",
      "Epoch 194/300\n",
      "50/50 [==============================] - 27s 537ms/step - loss: 8.9721 - acc: 0.6768 - auc: 0.8883 - precision: 0.6837 - recall: 0.6599 - f1score: 0.6715 - val_loss: 9.0654 - val_acc: 0.6193 - val_auc: 0.8883 - val_precision: 0.6315 - val_recall: 0.6030 - val_f1score: 0.6168\n",
      "Epoch 195/300\n",
      "50/50 [==============================] - 27s 544ms/step - loss: 8.9153 - acc: 0.6899 - auc: 0.8884 - precision: 0.6949 - recall: 0.6786 - f1score: 0.6866 - val_loss: 9.0277 - val_acc: 0.6147 - val_auc: 0.8885 - val_precision: 0.6224 - val_recall: 0.5949 - val_f1score: 0.6082\n",
      "Epoch 196/300\n",
      "50/50 [==============================] - 27s 538ms/step - loss: 8.8898 - acc: 0.6881 - auc: 0.8885 - precision: 0.6954 - recall: 0.6768 - f1score: 0.6859 - val_loss: 8.9593 - val_acc: 0.6158 - val_auc: 0.8886 - val_precision: 0.6272 - val_recall: 0.6054 - val_f1score: 0.6160\n",
      "Epoch 197/300\n",
      "50/50 [==============================] - 27s 545ms/step - loss: 8.8447 - acc: 0.6924 - auc: 0.8887 - precision: 0.6983 - recall: 0.6830 - f1score: 0.6905 - val_loss: 8.9295 - val_acc: 0.6205 - val_auc: 0.8888 - val_precision: 0.6277 - val_recall: 0.6112 - val_f1score: 0.6193\n",
      "Epoch 198/300\n",
      "50/50 [==============================] - 27s 539ms/step - loss: 8.8159 - acc: 0.6842 - auc: 0.8888 - precision: 0.6893 - recall: 0.6732 - f1score: 0.6811 - val_loss: 8.9186 - val_acc: 0.5984 - val_auc: 0.8889 - val_precision: 0.6086 - val_recall: 0.5925 - val_f1score: 0.6004\n",
      "Epoch 199/300\n",
      "50/50 [==============================] - 27s 547ms/step - loss: 8.7728 - acc: 0.6722 - auc: 0.8890 - precision: 0.6788 - recall: 0.6622 - f1score: 0.6703 - val_loss: 8.9062 - val_acc: 0.5995 - val_auc: 0.8890 - val_precision: 0.6161 - val_recall: 0.5832 - val_f1score: 0.5992\n",
      "Epoch 200/300\n",
      "50/50 [==============================] - 27s 539ms/step - loss: 8.7305 - acc: 0.6818 - auc: 0.8891 - precision: 0.6874 - recall: 0.6701 - f1score: 0.6785 - val_loss: 8.8391 - val_acc: 0.6228 - val_auc: 0.8892 - val_precision: 0.6359 - val_recall: 0.6077 - val_f1score: 0.6214\n",
      "Epoch 201/300\n",
      "50/50 [==============================] - 27s 539ms/step - loss: 8.6934 - acc: 0.6765 - auc: 0.8892 - precision: 0.6808 - recall: 0.6656 - f1score: 0.6730 - val_loss: 8.7772 - val_acc: 0.6077 - val_auc: 0.8893 - val_precision: 0.6126 - val_recall: 0.6019 - val_f1score: 0.6072\n",
      "Epoch 202/300\n",
      "50/50 [==============================] - 27s 547ms/step - loss: 8.6646 - acc: 0.6805 - auc: 0.8894 - precision: 0.6892 - recall: 0.6694 - f1score: 0.6790 - val_loss: 8.7192 - val_acc: 0.6100 - val_auc: 0.8894 - val_precision: 0.6148 - val_recall: 0.5925 - val_f1score: 0.6034\n",
      "Epoch 203/300\n",
      "50/50 [==============================] - 27s 538ms/step - loss: 8.6275 - acc: 0.6956 - auc: 0.8895 - precision: 0.7012 - recall: 0.6828 - f1score: 0.6917 - val_loss: 8.7234 - val_acc: 0.6356 - val_auc: 0.8896 - val_precision: 0.6427 - val_recall: 0.6147 - val_f1score: 0.6283\n",
      "Epoch 204/300\n",
      "50/50 [==============================] - 27s 546ms/step - loss: 8.5874 - acc: 0.6877 - auc: 0.8896 - precision: 0.6952 - recall: 0.6774 - f1score: 0.6861 - val_loss: 8.6327 - val_acc: 0.6426 - val_auc: 0.8897 - val_precision: 0.6466 - val_recall: 0.6240 - val_f1score: 0.6351\n",
      "Epoch 205/300\n",
      "50/50 [==============================] - 27s 537ms/step - loss: 8.5460 - acc: 0.6912 - auc: 0.8898 - precision: 0.6971 - recall: 0.6815 - f1score: 0.6892 - val_loss: 8.5933 - val_acc: 0.6671 - val_auc: 0.8899 - val_precision: 0.6660 - val_recall: 0.6473 - val_f1score: 0.6564\n",
      "Epoch 206/300\n",
      "50/50 [==============================] - 27s 548ms/step - loss: 8.5213 - acc: 0.6921 - auc: 0.8900 - precision: 0.6971 - recall: 0.6816 - f1score: 0.6892 - val_loss: 8.5657 - val_acc: 0.6461 - val_auc: 0.8900 - val_precision: 0.6491 - val_recall: 0.6333 - val_f1score: 0.6410\n",
      "Epoch 207/300\n",
      "50/50 [==============================] - 27s 537ms/step - loss: 8.4958 - acc: 0.6859 - auc: 0.8901 - precision: 0.6924 - recall: 0.6759 - f1score: 0.6840 - val_loss: 8.5911 - val_acc: 0.6193 - val_auc: 0.8902 - val_precision: 0.6327 - val_recall: 0.6019 - val_f1score: 0.6168\n",
      "Epoch 208/300\n",
      "50/50 [==============================] - 28s 551ms/step - loss: 8.4732 - acc: 0.6785 - auc: 0.8902 - precision: 0.6866 - recall: 0.6689 - f1score: 0.6775 - val_loss: 8.5236 - val_acc: 0.6333 - val_auc: 0.8903 - val_precision: 0.6420 - val_recall: 0.6298 - val_f1score: 0.6357\n",
      "Epoch 209/300\n",
      "50/50 [==============================] - 27s 534ms/step - loss: 8.4247 - acc: 0.6926 - auc: 0.8904 - precision: 0.6977 - recall: 0.6818 - f1score: 0.6896 - val_loss: 8.4763 - val_acc: 0.6217 - val_auc: 0.8904 - val_precision: 0.6316 - val_recall: 0.6147 - val_f1score: 0.6230\n",
      "Epoch 210/300\n",
      "50/50 [==============================] - 27s 538ms/step - loss: 8.3785 - acc: 0.7011 - auc: 0.8905 - precision: 0.7065 - recall: 0.6904 - f1score: 0.6983 - val_loss: 8.4651 - val_acc: 0.6426 - val_auc: 0.8906 - val_precision: 0.6462 - val_recall: 0.6298 - val_f1score: 0.6379\n",
      "Epoch 211/300\n",
      "50/50 [==============================] - 27s 543ms/step - loss: 8.3592 - acc: 0.6960 - auc: 0.8907 - precision: 0.7011 - recall: 0.6877 - f1score: 0.6943 - val_loss: 8.5710 - val_acc: 0.5960 - val_auc: 0.8907 - val_precision: 0.6118 - val_recall: 0.5856 - val_f1score: 0.5983\n",
      "Epoch 212/300\n",
      "50/50 [==============================] - 27s 538ms/step - loss: 8.3252 - acc: 0.6965 - auc: 0.8908 - precision: 0.7025 - recall: 0.6887 - f1score: 0.6955 - val_loss: 8.5064 - val_acc: 0.6112 - val_auc: 0.8909 - val_precision: 0.6276 - val_recall: 0.5972 - val_f1score: 0.6120\n",
      "Epoch 213/300\n",
      "50/50 [==============================] - 27s 543ms/step - loss: 8.3005 - acc: 0.6921 - auc: 0.8909 - precision: 0.6972 - recall: 0.6771 - f1score: 0.6869 - val_loss: 8.3676 - val_acc: 0.6380 - val_auc: 0.8910 - val_precision: 0.6446 - val_recall: 0.6158 - val_f1score: 0.6298\n",
      "Epoch 214/300\n",
      "50/50 [==============================] - 27s 538ms/step - loss: 8.2783 - acc: 0.6907 - auc: 0.8911 - precision: 0.6955 - recall: 0.6801 - f1score: 0.6876 - val_loss: 8.3798 - val_acc: 0.6182 - val_auc: 0.8911 - val_precision: 0.6267 - val_recall: 0.6030 - val_f1score: 0.6146\n",
      "Epoch 215/300\n",
      "50/50 [==============================] - 27s 543ms/step - loss: 8.2306 - acc: 0.6896 - auc: 0.8912 - precision: 0.6963 - recall: 0.6805 - f1score: 0.6883 - val_loss: 8.5232 - val_acc: 0.5797 - val_auc: 0.8912 - val_precision: 0.6023 - val_recall: 0.5716 - val_f1score: 0.5864\n",
      "Epoch 216/300\n",
      "50/50 [==============================] - 27s 538ms/step - loss: 8.2011 - acc: 0.7023 - auc: 0.8913 - precision: 0.7075 - recall: 0.6901 - f1score: 0.6986 - val_loss: 8.3897 - val_acc: 0.5693 - val_auc: 0.8914 - val_precision: 0.5744 - val_recall: 0.5530 - val_f1score: 0.5634\n",
      "Epoch 217/300\n",
      "50/50 [==============================] - 27s 540ms/step - loss: 8.1759 - acc: 0.7012 - auc: 0.8914 - precision: 0.7060 - recall: 0.6890 - f1score: 0.6973 - val_loss: 8.3332 - val_acc: 0.6158 - val_auc: 0.8915 - val_precision: 0.6255 - val_recall: 0.6030 - val_f1score: 0.6139\n",
      "Epoch 218/300\n",
      "50/50 [==============================] - 27s 545ms/step - loss: 8.1453 - acc: 0.6980 - auc: 0.8915 - precision: 0.7055 - recall: 0.6883 - f1score: 0.6967 - val_loss: 8.2811 - val_acc: 0.6228 - val_auc: 0.8916 - val_precision: 0.6322 - val_recall: 0.6112 - val_f1score: 0.6214\n",
      "Epoch 219/300\n",
      "50/50 [==============================] - 27s 538ms/step - loss: 8.1174 - acc: 0.7022 - auc: 0.8917 - precision: 0.7069 - recall: 0.6925 - f1score: 0.6996 - val_loss: 8.2237 - val_acc: 0.6100 - val_auc: 0.8917 - val_precision: 0.6110 - val_recall: 0.6007 - val_f1score: 0.6058\n",
      "Epoch 220/300\n",
      "50/50 [==============================] - 27s 546ms/step - loss: 8.0876 - acc: 0.6958 - auc: 0.8918 - precision: 0.6992 - recall: 0.6883 - f1score: 0.6937 - val_loss: 8.2521 - val_acc: 0.6088 - val_auc: 0.8919 - val_precision: 0.6220 - val_recall: 0.5925 - val_f1score: 0.6069\n",
      "Epoch 221/300\n",
      "50/50 [==============================] - 27s 537ms/step - loss: 8.0585 - acc: 0.6839 - auc: 0.8919 - precision: 0.6886 - recall: 0.6732 - f1score: 0.6808 - val_loss: 8.1820 - val_acc: 0.6240 - val_auc: 0.8920 - val_precision: 0.6355 - val_recall: 0.6112 - val_f1score: 0.6230\n",
      "Epoch 222/300\n",
      "50/50 [==============================] - 27s 547ms/step - loss: 8.0317 - acc: 0.6899 - auc: 0.8921 - precision: 0.6983 - recall: 0.6812 - f1score: 0.6895 - val_loss: 8.1211 - val_acc: 0.6298 - val_auc: 0.8921 - val_precision: 0.6435 - val_recall: 0.6217 - val_f1score: 0.6323\n",
      "Epoch 223/300\n",
      "50/50 [==============================] - 27s 538ms/step - loss: 7.9983 - acc: 0.6878 - auc: 0.8922 - precision: 0.6938 - recall: 0.6775 - f1score: 0.6855 - val_loss: 8.1371 - val_acc: 0.6240 - val_auc: 0.8922 - val_precision: 0.6291 - val_recall: 0.6065 - val_f1score: 0.6176\n",
      "Epoch 224/300\n",
      "50/50 [==============================] - 27s 549ms/step - loss: 7.9688 - acc: 0.6945 - auc: 0.8923 - precision: 0.7037 - recall: 0.6823 - f1score: 0.6927 - val_loss: 8.1303 - val_acc: 0.6123 - val_auc: 0.8924 - val_precision: 0.6266 - val_recall: 0.6065 - val_f1score: 0.6161\n",
      "Epoch 225/300\n"
     ]
    },
    {
     "name": "stdout",
     "output_type": "stream",
     "text": [
      "50/50 [==============================] - 27s 536ms/step - loss: 7.9412 - acc: 0.6972 - auc: 0.8924 - precision: 0.7083 - recall: 0.6866 - f1score: 0.6972 - val_loss: 8.0830 - val_acc: 0.6065 - val_auc: 0.8925 - val_precision: 0.6206 - val_recall: 0.5937 - val_f1score: 0.6068\n",
      "Epoch 226/300\n",
      "50/50 [==============================] - 27s 538ms/step - loss: 7.9090 - acc: 0.6987 - auc: 0.8926 - precision: 0.7031 - recall: 0.6893 - f1score: 0.6961 - val_loss: 8.1158 - val_acc: 0.5902 - val_auc: 0.8926 - val_precision: 0.5976 - val_recall: 0.5809 - val_f1score: 0.5890\n",
      "Epoch 227/300\n",
      "50/50 [==============================] - 27s 546ms/step - loss: 7.8888 - acc: 0.6957 - auc: 0.8927 - precision: 0.7014 - recall: 0.6871 - f1score: 0.6941 - val_loss: 8.0483 - val_acc: 0.6170 - val_auc: 0.8927 - val_precision: 0.6289 - val_recall: 0.6077 - val_f1score: 0.6181\n",
      "Epoch 228/300\n",
      "50/50 [==============================] - 27s 539ms/step - loss: 7.8606 - acc: 0.6950 - auc: 0.8928 - precision: 0.7001 - recall: 0.6861 - f1score: 0.6929 - val_loss: 8.0106 - val_acc: 0.6251 - val_auc: 0.8928 - val_precision: 0.6418 - val_recall: 0.6170 - val_f1score: 0.6290\n",
      "Epoch 229/300\n",
      "50/50 [==============================] - 27s 545ms/step - loss: 7.8377 - acc: 0.6911 - auc: 0.8929 - precision: 0.6965 - recall: 0.6813 - f1score: 0.6888 - val_loss: 7.9242 - val_acc: 0.6438 - val_auc: 0.8930 - val_precision: 0.6539 - val_recall: 0.6263 - val_f1score: 0.6398\n",
      "Epoch 230/300\n",
      "50/50 [==============================] - 27s 538ms/step - loss: 7.8216 - acc: 0.6978 - auc: 0.8930 - precision: 0.7011 - recall: 0.6878 - f1score: 0.6943 - val_loss: 7.9214 - val_acc: 0.6217 - val_auc: 0.8931 - val_precision: 0.6314 - val_recall: 0.6112 - val_f1score: 0.6211\n",
      "Epoch 231/300\n",
      "50/50 [==============================] - 27s 546ms/step - loss: 7.7811 - acc: 0.7043 - auc: 0.8932 - precision: 0.7102 - recall: 0.6965 - f1score: 0.7032 - val_loss: 8.0634 - val_acc: 0.5972 - val_auc: 0.8932 - val_precision: 0.6172 - val_recall: 0.5832 - val_f1score: 0.5996\n",
      "Epoch 232/300\n",
      "50/50 [==============================] - 27s 538ms/step - loss: 7.7691 - acc: 0.6903 - auc: 0.8932 - precision: 0.6962 - recall: 0.6803 - f1score: 0.6880 - val_loss: 7.8413 - val_acc: 0.6368 - val_auc: 0.8933 - val_precision: 0.6404 - val_recall: 0.6217 - val_f1score: 0.6308\n",
      "Epoch 233/300\n",
      "50/50 [==============================] - 27s 538ms/step - loss: 7.7373 - acc: 0.6937 - auc: 0.8934 - precision: 0.6972 - recall: 0.6782 - f1score: 0.6875 - val_loss: 7.8296 - val_acc: 0.6263 - val_auc: 0.8934 - val_precision: 0.6278 - val_recall: 0.6123 - val_f1score: 0.6199\n",
      "Epoch 234/300\n",
      "50/50 [==============================] - 27s 545ms/step - loss: 7.6956 - acc: 0.7084 - auc: 0.8935 - precision: 0.7126 - recall: 0.6996 - f1score: 0.7060 - val_loss: 7.7953 - val_acc: 0.6473 - val_auc: 0.8936 - val_precision: 0.6570 - val_recall: 0.6333 - val_f1score: 0.6448\n",
      "Epoch 235/300\n",
      "50/50 [==============================] - 27s 537ms/step - loss: 7.6750 - acc: 0.7040 - auc: 0.8936 - precision: 0.7088 - recall: 0.6914 - f1score: 0.6999 - val_loss: 7.8640 - val_acc: 0.6054 - val_auc: 0.8937 - val_precision: 0.6174 - val_recall: 0.5937 - val_f1score: 0.6053\n",
      "Epoch 236/300\n",
      "50/50 [==============================] - 27s 546ms/step - loss: 7.6482 - acc: 0.7026 - auc: 0.8938 - precision: 0.7072 - recall: 0.6926 - f1score: 0.6998 - val_loss: 7.8017 - val_acc: 0.6356 - val_auc: 0.8938 - val_precision: 0.6426 - val_recall: 0.6228 - val_f1score: 0.6325\n",
      "Epoch 237/300\n",
      "50/50 [==============================] - 27s 537ms/step - loss: 7.6177 - acc: 0.7039 - auc: 0.8939 - precision: 0.7122 - recall: 0.6976 - f1score: 0.7048 - val_loss: 7.7257 - val_acc: 0.6275 - val_auc: 0.8939 - val_precision: 0.6345 - val_recall: 0.6123 - val_f1score: 0.6232\n",
      "Epoch 238/300\n",
      "50/50 [==============================] - 27s 546ms/step - loss: 7.6018 - acc: 0.7069 - auc: 0.8940 - precision: 0.7098 - recall: 0.6969 - f1score: 0.7033 - val_loss: 7.6971 - val_acc: 0.6310 - val_auc: 0.8941 - val_precision: 0.6349 - val_recall: 0.6193 - val_f1score: 0.6270\n",
      "Epoch 239/300\n",
      "50/50 [==============================] - 27s 537ms/step - loss: 7.5697 - acc: 0.7023 - auc: 0.8941 - precision: 0.7044 - recall: 0.6934 - f1score: 0.6988 - val_loss: 7.7500 - val_acc: 0.6182 - val_auc: 0.8942 - val_precision: 0.6279 - val_recall: 0.6042 - val_f1score: 0.6157\n",
      "Epoch 240/300\n",
      "50/50 [==============================] - 28s 551ms/step - loss: 7.5464 - acc: 0.6975 - auc: 0.8943 - precision: 0.7032 - recall: 0.6906 - f1score: 0.6968 - val_loss: 7.9261 - val_acc: 0.5774 - val_auc: 0.8943 - val_precision: 0.5922 - val_recall: 0.5495 - val_f1score: 0.5695\n",
      "Epoch 241/300\n",
      "50/50 [==============================] - 27s 534ms/step - loss: 7.5236 - acc: 0.7023 - auc: 0.8943 - precision: 0.7082 - recall: 0.6929 - f1score: 0.7004 - val_loss: 7.6531 - val_acc: 0.6147 - val_auc: 0.8944 - val_precision: 0.6301 - val_recall: 0.6007 - val_f1score: 0.6150\n",
      "Epoch 242/300\n",
      "50/50 [==============================] - 27s 537ms/step - loss: 7.5007 - acc: 0.7015 - auc: 0.8945 - precision: 0.7044 - recall: 0.6928 - f1score: 0.6985 - val_loss: 7.6474 - val_acc: 0.6403 - val_auc: 0.8945 - val_precision: 0.6499 - val_recall: 0.6217 - val_f1score: 0.6354\n",
      "Epoch 243/300\n",
      "50/50 [==============================] - 27s 546ms/step - loss: 7.4608 - acc: 0.7179 - auc: 0.8946 - precision: 0.7243 - recall: 0.7068 - f1score: 0.7153 - val_loss: 7.6917 - val_acc: 0.5995 - val_auc: 0.8947 - val_precision: 0.6119 - val_recall: 0.5821 - val_f1score: 0.5965\n",
      "Epoch 244/300\n",
      "50/50 [==============================] - 27s 539ms/step - loss: 7.4532 - acc: 0.7067 - auc: 0.8947 - precision: 0.7088 - recall: 0.6965 - f1score: 0.7026 - val_loss: 7.6118 - val_acc: 0.6217 - val_auc: 0.8948 - val_precision: 0.6299 - val_recall: 0.6135 - val_f1score: 0.6216\n",
      "Epoch 245/300\n",
      "50/50 [==============================] - 27s 547ms/step - loss: 7.4201 - acc: 0.7107 - auc: 0.8948 - precision: 0.7135 - recall: 0.7004 - f1score: 0.7068 - val_loss: 7.5833 - val_acc: 0.6217 - val_auc: 0.8949 - val_precision: 0.6359 - val_recall: 0.6123 - val_f1score: 0.6238\n",
      "Epoch 246/300\n",
      "50/50 [==============================] - 27s 537ms/step - loss: 7.3976 - acc: 0.7083 - auc: 0.8950 - precision: 0.7153 - recall: 0.7017 - f1score: 0.7084 - val_loss: 7.5766 - val_acc: 0.6135 - val_auc: 0.8950 - val_precision: 0.6242 - val_recall: 0.6030 - val_f1score: 0.6133\n",
      "Epoch 247/300\n",
      "50/50 [==============================] - 27s 545ms/step - loss: 7.3704 - acc: 0.7143 - auc: 0.8951 - precision: 0.7188 - recall: 0.7066 - f1score: 0.7126 - val_loss: 7.4919 - val_acc: 0.6217 - val_auc: 0.8951 - val_precision: 0.6304 - val_recall: 0.6158 - val_f1score: 0.6230\n",
      "Epoch 248/300\n",
      "50/50 [==============================] - 27s 535ms/step - loss: 7.3505 - acc: 0.7084 - auc: 0.8952 - precision: 0.7137 - recall: 0.6997 - f1score: 0.7066 - val_loss: 7.4662 - val_acc: 0.6473 - val_auc: 0.8953 - val_precision: 0.6535 - val_recall: 0.6368 - val_f1score: 0.6450\n",
      "Epoch 249/300\n",
      "50/50 [==============================] - 27s 538ms/step - loss: 7.3317 - acc: 0.7045 - auc: 0.8953 - precision: 0.7097 - recall: 0.6983 - f1score: 0.7039 - val_loss: 7.4868 - val_acc: 0.6217 - val_auc: 0.8954 - val_precision: 0.6292 - val_recall: 0.6030 - val_f1score: 0.6158\n",
      "Epoch 250/300\n",
      "50/50 [==============================] - 27s 544ms/step - loss: 7.3103 - acc: 0.7083 - auc: 0.8954 - precision: 0.7160 - recall: 0.6990 - f1score: 0.7073 - val_loss: 7.4726 - val_acc: 0.6193 - val_auc: 0.8955 - val_precision: 0.6227 - val_recall: 0.6135 - val_f1score: 0.6180\n",
      "Epoch 251/300\n",
      "50/50 [==============================] - 27s 535ms/step - loss: 7.2892 - acc: 0.7073 - auc: 0.8956 - precision: 0.7124 - recall: 0.7017 - f1score: 0.7069 - val_loss: 7.3710 - val_acc: 0.6345 - val_auc: 0.8956 - val_precision: 0.6399 - val_recall: 0.6310 - val_f1score: 0.6354\n",
      "Epoch 252/300\n",
      "50/50 [==============================] - 27s 546ms/step - loss: 7.2540 - acc: 0.7191 - auc: 0.8957 - precision: 0.7247 - recall: 0.7113 - f1score: 0.7179 - val_loss: 7.4563 - val_acc: 0.6088 - val_auc: 0.8958 - val_precision: 0.6265 - val_recall: 0.5949 - val_f1score: 0.6102\n",
      "Epoch 253/300\n",
      "50/50 [==============================] - 27s 537ms/step - loss: 7.2547 - acc: 0.6973 - auc: 0.8958 - precision: 0.7029 - recall: 0.6889 - f1score: 0.6957 - val_loss: 7.4137 - val_acc: 0.6100 - val_auc: 0.8959 - val_precision: 0.6219 - val_recall: 0.6065 - val_f1score: 0.6140\n",
      "Epoch 254/300\n",
      "50/50 [==============================] - 27s 545ms/step - loss: 7.2245 - acc: 0.7055 - auc: 0.8959 - precision: 0.7114 - recall: 0.6965 - f1score: 0.7038 - val_loss: 7.3600 - val_acc: 0.6310 - val_auc: 0.8960 - val_precision: 0.6380 - val_recall: 0.6193 - val_f1score: 0.6285\n",
      "Epoch 255/300\n",
      "50/50 [==============================] - 27s 537ms/step - loss: 7.1934 - acc: 0.7076 - auc: 0.8960 - precision: 0.7146 - recall: 0.6993 - f1score: 0.7068 - val_loss: 7.3825 - val_acc: 0.6123 - val_auc: 0.8961 - val_precision: 0.6175 - val_recall: 0.6030 - val_f1score: 0.6101\n",
      "Epoch 256/300\n",
      "50/50 [==============================] - 27s 549ms/step - loss: 7.1766 - acc: 0.7173 - auc: 0.8961 - precision: 0.7228 - recall: 0.7108 - f1score: 0.7166 - val_loss: 7.3314 - val_acc: 0.6356 - val_auc: 0.8962 - val_precision: 0.6371 - val_recall: 0.6263 - val_f1score: 0.6315\n",
      "Epoch 257/300\n",
      "50/50 [==============================] - 27s 533ms/step - loss: 7.1546 - acc: 0.7096 - auc: 0.8963 - precision: 0.7139 - recall: 0.7037 - f1score: 0.7087 - val_loss: 7.3378 - val_acc: 0.6228 - val_auc: 0.8963 - val_precision: 0.6354 - val_recall: 0.6170 - val_f1score: 0.6260\n",
      "Epoch 258/300\n",
      "50/50 [==============================] - 27s 536ms/step - loss: 7.1363 - acc: 0.7170 - auc: 0.8964 - precision: 0.7221 - recall: 0.7117 - f1score: 0.7168 - val_loss: 7.3565 - val_acc: 0.6123 - val_auc: 0.8965 - val_precision: 0.6214 - val_recall: 0.6007 - val_f1score: 0.6108\n",
      "Epoch 259/300\n",
      "50/50 [==============================] - 27s 544ms/step - loss: 7.1127 - acc: 0.7127 - auc: 0.8965 - precision: 0.7166 - recall: 0.7071 - f1score: 0.7118 - val_loss: 7.3228 - val_acc: 0.6019 - val_auc: 0.8966 - val_precision: 0.6111 - val_recall: 0.5960 - val_f1score: 0.6034\n",
      "Epoch 260/300\n",
      "50/50 [==============================] - 27s 536ms/step - loss: 7.0950 - acc: 0.7183 - auc: 0.8966 - precision: 0.7234 - recall: 0.7133 - f1score: 0.7182 - val_loss: 7.2298 - val_acc: 0.6321 - val_auc: 0.8967 - val_precision: 0.6355 - val_recall: 0.6240 - val_f1score: 0.6296\n",
      "Epoch 261/300\n",
      "50/50 [==============================] - 27s 545ms/step - loss: 7.0853 - acc: 0.7065 - auc: 0.8967 - precision: 0.7113 - recall: 0.7002 - f1score: 0.7057 - val_loss: 7.2217 - val_acc: 0.6170 - val_auc: 0.8968 - val_precision: 0.6267 - val_recall: 0.6030 - val_f1score: 0.6146\n",
      "Epoch 262/300\n",
      "50/50 [==============================] - 27s 538ms/step - loss: 7.0526 - acc: 0.7204 - auc: 0.8969 - precision: 0.7259 - recall: 0.7128 - f1score: 0.7192 - val_loss: 7.2071 - val_acc: 0.6263 - val_auc: 0.8969 - val_precision: 0.6359 - val_recall: 0.6147 - val_f1score: 0.6250\n",
      "Epoch 263/300\n",
      "50/50 [==============================] - 27s 543ms/step - loss: 7.0400 - acc: 0.7179 - auc: 0.8970 - precision: 0.7233 - recall: 0.7116 - f1score: 0.7174 - val_loss: 7.3465 - val_acc: 0.5902 - val_auc: 0.8970 - val_precision: 0.6097 - val_recall: 0.5832 - val_f1score: 0.5961\n",
      "Epoch 264/300\n",
      "50/50 [==============================] - 27s 538ms/step - loss: 7.0239 - acc: 0.7136 - auc: 0.8971 - precision: 0.7171 - recall: 0.7067 - f1score: 0.7118 - val_loss: 7.2181 - val_acc: 0.6112 - val_auc: 0.8971 - val_precision: 0.6287 - val_recall: 0.6065 - val_f1score: 0.6173\n",
      "Epoch 265/300\n",
      "50/50 [==============================] - 27s 539ms/step - loss: 7.0003 - acc: 0.7236 - auc: 0.8972 - precision: 0.7279 - recall: 0.7161 - f1score: 0.7219 - val_loss: 7.1152 - val_acc: 0.6310 - val_auc: 0.8973 - val_precision: 0.6344 - val_recall: 0.6193 - val_f1score: 0.6267\n",
      "Epoch 266/300\n",
      "50/50 [==============================] - 27s 547ms/step - loss: 6.9740 - acc: 0.7257 - auc: 0.8973 - precision: 0.7312 - recall: 0.7188 - f1score: 0.7249 - val_loss: 7.1009 - val_acc: 0.6414 - val_auc: 0.8974 - val_precision: 0.6427 - val_recall: 0.6310 - val_f1score: 0.6368\n",
      "Epoch 267/300\n",
      "50/50 [==============================] - 27s 537ms/step - loss: 6.9584 - acc: 0.7187 - auc: 0.8975 - precision: 0.7244 - recall: 0.7128 - f1score: 0.7185 - val_loss: 7.0685 - val_acc: 0.6368 - val_auc: 0.8975 - val_precision: 0.6369 - val_recall: 0.6286 - val_f1score: 0.6327\n",
      "Epoch 268/300\n",
      "50/50 [==============================] - 27s 544ms/step - loss: 6.9419 - acc: 0.7132 - auc: 0.8976 - precision: 0.7169 - recall: 0.7082 - f1score: 0.7125 - val_loss: 7.1612 - val_acc: 0.6170 - val_auc: 0.8976 - val_precision: 0.6300 - val_recall: 0.6030 - val_f1score: 0.6161\n",
      "Epoch 269/300\n",
      "50/50 [==============================] - 27s 539ms/step - loss: 6.9205 - acc: 0.7197 - auc: 0.8977 - precision: 0.7254 - recall: 0.7139 - f1score: 0.7195 - val_loss: 7.0900 - val_acc: 0.5972 - val_auc: 0.8977 - val_precision: 0.6031 - val_recall: 0.5867 - val_f1score: 0.5948\n",
      "Epoch 270/300\n",
      "50/50 [==============================] - 27s 547ms/step - loss: 6.9039 - acc: 0.7143 - auc: 0.8978 - precision: 0.7191 - recall: 0.7083 - f1score: 0.7136 - val_loss: 7.0982 - val_acc: 0.6135 - val_auc: 0.8978 - val_precision: 0.6251 - val_recall: 0.6019 - val_f1score: 0.6132\n",
      "Epoch 271/300\n",
      "50/50 [==============================] - 27s 535ms/step - loss: 6.8929 - acc: 0.7136 - auc: 0.8979 - precision: 0.7176 - recall: 0.7058 - f1score: 0.7116 - val_loss: 6.9995 - val_acc: 0.6414 - val_auc: 0.8980 - val_precision: 0.6434 - val_recall: 0.6321 - val_f1score: 0.6376\n",
      "Epoch 272/300\n",
      "50/50 [==============================] - 27s 550ms/step - loss: 6.8729 - acc: 0.7151 - auc: 0.8980 - precision: 0.7204 - recall: 0.7092 - f1score: 0.7147 - val_loss: 7.0897 - val_acc: 0.6088 - val_auc: 0.8981 - val_precision: 0.6154 - val_recall: 0.5949 - val_f1score: 0.6046\n",
      "Epoch 273/300\n",
      "50/50 [==============================] - 27s 531ms/step - loss: 6.8537 - acc: 0.7198 - auc: 0.8981 - precision: 0.7239 - recall: 0.7119 - f1score: 0.7178 - val_loss: 6.9958 - val_acc: 0.6321 - val_auc: 0.8982 - val_precision: 0.6383 - val_recall: 0.6251 - val_f1score: 0.6316\n",
      "Epoch 274/300\n",
      "50/50 [==============================] - 27s 536ms/step - loss: 6.8342 - acc: 0.7187 - auc: 0.8982 - precision: 0.7226 - recall: 0.7125 - f1score: 0.7174 - val_loss: 6.9835 - val_acc: 0.6310 - val_auc: 0.8983 - val_precision: 0.6389 - val_recall: 0.6228 - val_f1score: 0.6307\n",
      "Epoch 275/300\n",
      "50/50 [==============================] - 27s 544ms/step - loss: 6.8093 - acc: 0.7310 - auc: 0.8984 - precision: 0.7348 - recall: 0.7251 - f1score: 0.7298 - val_loss: 6.9516 - val_acc: 0.6356 - val_auc: 0.8984 - val_precision: 0.6406 - val_recall: 0.6240 - val_f1score: 0.6321\n",
      "Epoch 276/300\n",
      "50/50 [==============================] - 27s 536ms/step - loss: 6.8018 - acc: 0.7111 - auc: 0.8985 - precision: 0.7175 - recall: 0.7023 - f1score: 0.7098 - val_loss: 6.9918 - val_acc: 0.6263 - val_auc: 0.8985 - val_precision: 0.6378 - val_recall: 0.6217 - val_f1score: 0.6296\n",
      "Epoch 277/300\n",
      "50/50 [==============================] - 27s 545ms/step - loss: 6.7613 - acc: 0.7315 - auc: 0.8986 - precision: 0.7363 - recall: 0.7255 - f1score: 0.7309 - val_loss: 6.9451 - val_acc: 0.6158 - val_auc: 0.8986 - val_precision: 0.6239 - val_recall: 0.6077 - val_f1score: 0.6157\n",
      "Epoch 278/300\n",
      "50/50 [==============================] - 27s 536ms/step - loss: 6.7661 - acc: 0.7184 - auc: 0.8987 - precision: 0.7225 - recall: 0.7137 - f1score: 0.7180 - val_loss: 6.8939 - val_acc: 0.6193 - val_auc: 0.8987 - val_precision: 0.6280 - val_recall: 0.6147 - val_f1score: 0.6212\n",
      "Epoch 279/300\n",
      "50/50 [==============================] - 27s 546ms/step - loss: 6.7356 - acc: 0.7244 - auc: 0.8988 - precision: 0.7291 - recall: 0.7201 - f1score: 0.7245 - val_loss: 6.9022 - val_acc: 0.6310 - val_auc: 0.8989 - val_precision: 0.6372 - val_recall: 0.6135 - val_f1score: 0.6251\n",
      "Epoch 280/300\n",
      "50/50 [==============================] - 27s 537ms/step - loss: 6.7162 - acc: 0.7341 - auc: 0.8989 - precision: 0.7368 - recall: 0.7265 - f1score: 0.7316 - val_loss: 6.9230 - val_acc: 0.6112 - val_auc: 0.8990 - val_precision: 0.6211 - val_recall: 0.6042 - val_f1score: 0.6125\n",
      "Epoch 281/300\n"
=======
   "execution_count": 12,
>>>>>>> 44127265cfabbd5bc7800a4f4a7faa0dcc02ed9a
   "metadata": {},
   "outputs": [
    {
     "name": "stdout",
     "output_type": "stream",
     "text": [
      "Epoch 1/40\n",
      "150/150 [==============================] - 46s 307ms/step - loss: 1.1909 - acc: 0.3902 - auc: 0.6255 - precision: 0.3047 - recall: 0.0501 - f1score: 0.1211 - val_loss: 1.0484 - val_acc: 0.4708 - val_auc: 0.7267 - val_precision: 0.5185 - val_recall: 0.1484 - val_f1score: 0.1343\n",
      "Epoch 2/40\n",
      "150/150 [==============================] - 40s 270ms/step - loss: 1.0158 - acc: 0.4598 - auc: 0.7492 - precision: 0.5275 - recall: 0.1775 - f1score: 0.1391 - val_loss: 0.9671 - val_acc: 0.4588 - val_auc: 0.7663 - val_precision: 0.5339 - val_recall: 0.2049 - val_f1score: 0.1440\n",
      "Epoch 3/40\n",
      "150/150 [==============================] - 42s 282ms/step - loss: 0.9516 - acc: 0.4835 - auc: 0.7767 - precision: 0.5347 - recall: 0.2253 - f1score: 0.1451 - val_loss: 0.9189 - val_acc: 0.5000 - val_auc: 0.7847 - val_precision: 0.5362 - val_recall: 0.2438 - val_f1score: 0.1490\n",
      "Epoch 4/40\n",
      "150/150 [==============================] - 41s 274ms/step - loss: 0.8893 - acc: 0.5065 - auc: 0.7913 - precision: 0.5364 - recall: 0.2577 - f1score: 0.1505 - val_loss: 0.9418 - val_acc: 0.4725 - val_auc: 0.7979 - val_precision: 0.5397 - val_recall: 0.2744 - val_f1score: 0.1504\n",
      "Epoch 5/40\n",
      "150/150 [==============================] - 42s 283ms/step - loss: 0.8083 - acc: 0.5281 - auc: 0.8036 - precision: 0.5397 - recall: 0.2895 - f1score: 0.1579 - val_loss: 0.8690 - val_acc: 0.5395 - val_auc: 0.8095 - val_precision: 0.5417 - val_recall: 0.3049 - val_f1score: 0.1575\n",
      "Epoch 6/40\n",
      "150/150 [==============================] - 41s 274ms/step - loss: 0.7869 - acc: 0.5438 - auc: 0.8137 - precision: 0.5428 - recall: 0.3179 - f1score: 0.1604 - val_loss: 0.8298 - val_acc: 0.4708 - val_auc: 0.8176 - val_precision: 0.5432 - val_recall: 0.3292 - val_f1score: 0.1561\n",
      "Epoch 7/40\n",
      "150/150 [==============================] - 42s 281ms/step - loss: 0.7540 - acc: 0.5544 - auc: 0.8210 - precision: 0.5443 - recall: 0.3397 - f1score: 0.1631 - val_loss: 0.8607 - val_acc: 0.5086 - val_auc: 0.8241 - val_precision: 0.5464 - val_recall: 0.3506 - val_f1score: 0.1567\n",
      "Epoch 8/40\n",
      "150/150 [==============================] - 41s 275ms/step - loss: 0.7395 - acc: 0.5737 - auc: 0.8271 - precision: 0.5488 - recall: 0.3612 - f1score: 0.1648 - val_loss: 0.8260 - val_acc: 0.4897 - val_auc: 0.8298 - val_precision: 0.5516 - val_recall: 0.3708 - val_f1score: 0.1588\n",
      "Epoch 9/40\n",
      "150/150 [==============================] - 42s 282ms/step - loss: 0.7495 - acc: 0.5679 - auc: 0.8320 - precision: 0.5540 - recall: 0.3791 - f1score: 0.1641 - val_loss: 0.8024 - val_acc: 0.5069 - val_auc: 0.8338 - val_precision: 0.5552 - val_recall: 0.3850 - val_f1score: 0.1610\n",
      "Epoch 10/40\n",
      "150/150 [==============================] - 41s 274ms/step - loss: 0.7663 - acc: 0.5702 - auc: 0.8356 - precision: 0.5571 - recall: 0.3920 - f1score: 0.1627 - val_loss: 0.8106 - val_acc: 0.5292 - val_auc: 0.8368 - val_precision: 0.5586 - val_recall: 0.3965 - val_f1score: 0.1589\n",
      "Epoch 11/40\n",
      "150/150 [==============================] - 42s 281ms/step - loss: 0.7271 - acc: 0.5754 - auc: 0.8382 - precision: 0.5597 - recall: 0.4017 - f1score: 0.1660 - val_loss: 0.7945 - val_acc: 0.5189 - val_auc: 0.8398 - val_precision: 0.5611 - val_recall: 0.4078 - val_f1score: 0.1610\n",
      "Epoch 12/40\n",
      "150/150 [==============================] - 41s 273ms/step - loss: 0.7184 - acc: 0.5958 - auc: 0.8413 - precision: 0.5628 - recall: 0.4137 - f1score: 0.1674 - val_loss: 0.7961 - val_acc: 0.5155 - val_auc: 0.8428 - val_precision: 0.5650 - val_recall: 0.4196 - val_f1score: 0.1613\n",
      "Epoch 13/40\n",
      "150/150 [==============================] - 42s 281ms/step - loss: 0.7539 - acc: 0.5841 - auc: 0.8437 - precision: 0.5665 - recall: 0.4234 - f1score: 0.1643 - val_loss: 0.8373 - val_acc: 0.5258 - val_auc: 0.8448 - val_precision: 0.5682 - val_recall: 0.4276 - val_f1score: 0.1601\n",
      "Epoch 14/40\n",
      "150/150 [==============================] - 41s 273ms/step - loss: 0.7279 - acc: 0.5901 - auc: 0.8458 - precision: 0.5693 - recall: 0.4316 - f1score: 0.1669 - val_loss: 0.8108 - val_acc: 0.4948 - val_auc: 0.8468 - val_precision: 0.5707 - val_recall: 0.4357 - val_f1score: 0.1597\n",
      "Epoch 15/40\n",
      "150/150 [==============================] - 42s 283ms/step - loss: 0.6953 - acc: 0.6022 - auc: 0.8480 - precision: 0.5720 - recall: 0.4399 - f1score: 0.1696 - val_loss: 0.8379 - val_acc: 0.5052 - val_auc: 0.8491 - val_precision: 0.5731 - val_recall: 0.4439 - val_f1score: 0.1598\n",
      "Epoch 16/40\n",
      "150/150 [==============================] - 40s 268ms/step - loss: 0.6976 - acc: 0.6113 - auc: 0.8500 - precision: 0.5745 - recall: 0.4476 - f1score: 0.1697 - val_loss: 0.8028 - val_acc: 0.5395 - val_auc: 0.8512 - val_precision: 0.5762 - val_recall: 0.4519 - val_f1score: 0.1636\n",
      "Epoch 17/40\n",
      "150/150 [==============================] - 42s 279ms/step - loss: 0.6697 - acc: 0.6374 - auc: 0.8524 - precision: 0.5783 - recall: 0.4564 - f1score: 0.1724 - val_loss: 0.8624 - val_acc: 0.5326 - val_auc: 0.8536 - val_precision: 0.5804 - val_recall: 0.4609 - val_f1score: 0.1614\n",
      "Epoch 18/40\n",
      "150/150 [==============================] - 41s 272ms/step - loss: 0.6807 - acc: 0.6246 - auc: 0.8546 - precision: 0.5819 - recall: 0.4646 - f1score: 0.1717 - val_loss: 0.9051 - val_acc: 0.4931 - val_auc: 0.8554 - val_precision: 0.5831 - val_recall: 0.4681 - val_f1score: 0.1575\n",
      "Epoch 19/40\n",
      "150/150 [==============================] - 42s 278ms/step - loss: 0.6542 - acc: 0.6391 - auc: 0.8564 - precision: 0.5845 - recall: 0.4716 - f1score: 0.1745 - val_loss: 0.8109 - val_acc: 0.5395 - val_auc: 0.8576 - val_precision: 0.5862 - val_recall: 0.4755 - val_f1score: 0.1617\n",
      "Epoch 20/40\n",
      "150/150 [==============================] - 41s 272ms/step - loss: 0.6378 - acc: 0.6648 - auc: 0.8588 - precision: 0.5885 - recall: 0.4797 - f1score: 0.1763 - val_loss: 0.9058 - val_acc: 0.4845 - val_auc: 0.8599 - val_precision: 0.5904 - val_recall: 0.4836 - val_f1score: 0.1563\n",
      "Epoch 21/40\n",
      "150/150 [==============================] - 42s 278ms/step - loss: 0.6384 - acc: 0.6534 - auc: 0.8608 - precision: 0.5919 - recall: 0.4870 - f1score: 0.1764 - val_loss: 0.8580 - val_acc: 0.5086 - val_auc: 0.8618 - val_precision: 0.5932 - val_recall: 0.4901 - val_f1score: 0.1596\n",
      "Epoch 22/40\n",
      "150/150 [==============================] - 41s 272ms/step - loss: 0.6337 - acc: 0.6597 - auc: 0.8628 - precision: 0.5947 - recall: 0.4933 - f1score: 0.1774 - val_loss: 0.9218 - val_acc: 0.5223 - val_auc: 0.8638 - val_precision: 0.5963 - val_recall: 0.4964 - val_f1score: nan\n",
      "Epoch 23/40\n",
      "150/150 [==============================] - 42s 277ms/step - loss: 0.6197 - acc: 0.6635 - auc: 0.8649 - precision: 0.5979 - recall: 0.4998 - f1score: 0.1788 - val_loss: 0.8509 - val_acc: 0.5258 - val_auc: 0.8658 - val_precision: 0.5993 - val_recall: 0.5026 - val_f1score: 0.1603\n",
      "Epoch 24/40\n",
      "150/150 [==============================] - 41s 272ms/step - loss: 0.5966 - acc: 0.6834 - auc: 0.8668 - precision: 0.6010 - recall: 0.5058 - f1score: 0.1812 - val_loss: 0.9178 - val_acc: 0.5447 - val_auc: 0.8679 - val_precision: 0.6028 - val_recall: 0.5091 - val_f1score: nan\n",
      "Epoch 25/40\n",
      "150/150 [==============================] - 41s 276ms/step - loss: 0.5813 - acc: 0.6989 - auc: 0.8689 - precision: 0.6047 - recall: 0.5124 - f1score: nan - val_loss: 0.9635 - val_acc: 0.5206 - val_auc: 0.8700 - val_precision: 0.6067 - val_recall: 0.5157 - val_f1score: nan\n",
      "Epoch 26/40\n",
      "150/150 [==============================] - 41s 272ms/step - loss: 0.5790 - acc: 0.7021 - auc: 0.8710 - precision: 0.6084 - recall: 0.5188 - f1score: nan - val_loss: 0.8307 - val_acc: 0.5309 - val_auc: 0.8721 - val_precision: 0.6103 - val_recall: 0.5219 - val_f1score: nan\n",
      "Epoch 27/40\n",
<<<<<<< HEAD
      "150/150 [==============================] - 41s 275ms/step - loss: 0.5791 - acc: 0.7026 - auc: 0.8730 - precision: 0.6119 - recall: 0.5246 - f1score: nan - val_loss: 0.9860 - val_acc: 0.5206 - val_auc: 0.8740 - val_precision: 0.6136 - val_recall: 0.5275 - val_f1score: nan\n",
      "Epoch 28/40\n",
      "150/150 [==============================] - 41s 274ms/step - loss: 0.5543 - acc: 0.7269 - auc: 0.8750 - precision: 0.6156 - recall: 0.5305 - f1score: nan - val_loss: 0.8623 - val_acc: 0.5309 - val_auc: 0.8761 - val_precision: 0.6175 - val_recall: 0.5335 - val_f1score: 0.1607\n",
      "Epoch 29/40\n"
=======
      "150/150 [==============================] - 43s 284ms/step - loss: 0.5601 - acc: 0.7133 - auc_1: 0.8880 - precision_1: 0.6415 - recall_1: 0.5617 - f1score: 0.1861 - val_loss: 0.7349 - val_acc: 0.5844 - val_auc_1: 0.8888 - val_precision_1: 0.6427 - val_recall_1: 0.5639 - val_f1score: 0.1699\n",
      "Epoch 28/40\n"
>>>>>>> 59c856b1faaaef299ab27f97feff43166b72b602
>>>>>>> 44127265cfabbd5bc7800a4f4a7faa0dcc02ed9a
     ]
    },
    {
     "name": "stdout",
     "output_type": "stream",
     "text": [
<<<<<<< HEAD
      "150/150 [==============================] - 42s 278ms/step - loss: 0.5190 - acc: 0.7379 - auc: 0.8772 - precision: 0.6195 - recall: 0.5366 - f1score: nan - val_loss: 1.0174 - val_acc: 0.5447 - val_auc: 0.8783 - val_precision: 0.6214 - val_recall: 0.5396 - val_f1score: nan\n",
=======
<<<<<<< HEAD
      "50/50 [==============================] - 27s 537ms/step - loss: 6.7036 - acc: 0.7236 - auc: 0.8990 - precision: 0.7259 - recall: 0.7137 - f1score: 0.7197 - val_loss: 6.8784 - val_acc: 0.6182 - val_auc: 0.8991 - val_precision: 0.6263 - val_recall: 0.6100 - val_f1score: 0.6180\n",
      "Epoch 282/300\n",
      "50/50 [==============================] - 27s 541ms/step - loss: 6.6887 - acc: 0.7219 - auc: 0.8991 - precision: 0.7275 - recall: 0.7151 - f1score: 0.7212 - val_loss: 6.8482 - val_acc: 0.6345 - val_auc: 0.8992 - val_precision: 0.6453 - val_recall: 0.6263 - val_f1score: 0.6356\n",
      "Epoch 283/300\n",
      "50/50 [==============================] - 27s 537ms/step - loss: 6.6688 - acc: 0.7292 - auc: 0.8993 - precision: 0.7342 - recall: 0.7245 - f1score: 0.7293 - val_loss: 6.8610 - val_acc: 0.6310 - val_auc: 0.8993 - val_precision: 0.6406 - val_recall: 0.6228 - val_f1score: 0.6315\n",
      "Epoch 284/300\n",
      "50/50 [==============================] - 27s 543ms/step - loss: 6.6610 - acc: 0.7234 - auc: 0.8994 - precision: 0.7266 - recall: 0.7133 - f1score: 0.7198 - val_loss: 6.7850 - val_acc: 0.6519 - val_auc: 0.8994 - val_precision: 0.6587 - val_recall: 0.6449 - val_f1score: 0.6517\n",
      "Epoch 285/300\n",
      "50/50 [==============================] - 27s 535ms/step - loss: 6.6425 - acc: 0.7192 - auc: 0.8995 - precision: 0.7234 - recall: 0.7120 - f1score: 0.7176 - val_loss: 6.7957 - val_acc: 0.6228 - val_auc: 0.8995 - val_precision: 0.6333 - val_recall: 0.6135 - val_f1score: 0.6232\n",
      "Epoch 286/300\n",
      "50/50 [==============================] - 27s 545ms/step - loss: 6.6179 - acc: 0.7294 - auc: 0.8996 - precision: 0.7314 - recall: 0.7204 - f1score: 0.7258 - val_loss: 6.8412 - val_acc: 0.5937 - val_auc: 0.8996 - val_precision: 0.6131 - val_recall: 0.5844 - val_f1score: 0.5983\n",
      "Epoch 287/300\n",
      "50/50 [==============================] - 27s 537ms/step - loss: 6.5939 - acc: 0.7308 - auc: 0.8997 - precision: 0.7348 - recall: 0.7236 - f1score: 0.7291 - val_loss: 6.7678 - val_acc: 0.6321 - val_auc: 0.8998 - val_precision: 0.6382 - val_recall: 0.6275 - val_f1score: 0.6328\n",
      "Epoch 288/300\n",
      "50/50 [==============================] - 27s 550ms/step - loss: 6.5755 - acc: 0.7312 - auc: 0.8998 - precision: 0.7359 - recall: 0.7262 - f1score: 0.7310 - val_loss: 6.8002 - val_acc: 0.6228 - val_auc: 0.8999 - val_precision: 0.6295 - val_recall: 0.6100 - val_f1score: 0.6193\n",
      "Epoch 289/300\n",
      "50/50 [==============================] - 27s 533ms/step - loss: 6.5715 - acc: 0.7280 - auc: 0.8999 - precision: 0.7321 - recall: 0.7208 - f1score: 0.7264 - val_loss: 6.7637 - val_acc: 0.6228 - val_auc: 0.9000 - val_precision: 0.6305 - val_recall: 0.6077 - val_f1score: 0.6188\n",
      "Epoch 290/300\n",
      "50/50 [==============================] - 27s 536ms/step - loss: 6.5567 - acc: 0.7292 - auc: 0.9000 - precision: 0.7364 - recall: 0.7226 - f1score: 0.7294 - val_loss: 6.7278 - val_acc: 0.6054 - val_auc: 0.9001 - val_precision: 0.6144 - val_recall: 0.6007 - val_f1score: 0.6074\n",
      "Epoch 291/300\n",
      "50/50 [==============================] - 27s 546ms/step - loss: 6.5210 - acc: 0.7349 - auc: 0.9001 - precision: 0.7399 - recall: 0.7259 - f1score: 0.7328 - val_loss: 6.7172 - val_acc: 0.6240 - val_auc: 0.9002 - val_precision: 0.6351 - val_recall: 0.6158 - val_f1score: 0.6253\n",
      "Epoch 292/300\n",
      "50/50 [==============================] - 27s 536ms/step - loss: 6.5084 - acc: 0.7270 - auc: 0.9003 - precision: 0.7323 - recall: 0.7220 - f1score: 0.7271 - val_loss: 6.7346 - val_acc: 0.6147 - val_auc: 0.9003 - val_precision: 0.6260 - val_recall: 0.6077 - val_f1score: 0.6166\n",
      "Epoch 293/300\n",
      "50/50 [==============================] - 27s 544ms/step - loss: 6.5012 - acc: 0.7252 - auc: 0.9004 - precision: 0.7297 - recall: 0.7183 - f1score: 0.7239 - val_loss: 6.7414 - val_acc: 0.6112 - val_auc: 0.9004 - val_precision: 0.6182 - val_recall: 0.6030 - val_f1score: 0.6105\n",
      "Epoch 294/300\n",
      "50/50 [==============================] - 27s 537ms/step - loss: 6.4948 - acc: 0.7220 - auc: 0.9005 - precision: 0.7266 - recall: 0.7173 - f1score: 0.7219 - val_loss: 6.6945 - val_acc: 0.6077 - val_auc: 0.9005 - val_precision: 0.6159 - val_recall: 0.5949 - val_f1score: 0.6051\n",
      "Epoch 295/300\n",
      "50/50 [==============================] - 27s 541ms/step - loss: 6.4645 - acc: 0.7266 - auc: 0.9006 - precision: 0.7292 - recall: 0.7149 - f1score: 0.7219 - val_loss: 6.7006 - val_acc: 0.6298 - val_auc: 0.9006 - val_precision: 0.6340 - val_recall: 0.6123 - val_f1score: 0.6229\n",
      "Epoch 296/300\n",
      "50/50 [==============================] - 27s 535ms/step - loss: 6.4361 - acc: 0.7308 - auc: 0.9007 - precision: 0.7372 - recall: 0.7251 - f1score: 0.7311 - val_loss: 6.6556 - val_acc: 0.6170 - val_auc: 0.9007 - val_precision: 0.6195 - val_recall: 0.6054 - val_f1score: 0.6123\n",
      "Epoch 297/300\n",
      "50/50 [==============================] - 27s 539ms/step - loss: 6.4204 - acc: 0.7351 - auc: 0.9008 - precision: 0.7375 - recall: 0.7305 - f1score: 0.7339 - val_loss: 6.6221 - val_acc: 0.6088 - val_auc: 0.9008 - val_precision: 0.6207 - val_recall: 0.5960 - val_f1score: 0.6080\n",
      "Epoch 298/300\n",
      "50/50 [==============================] - 27s 546ms/step - loss: 6.4207 - acc: 0.7326 - auc: 0.9009 - precision: 0.7366 - recall: 0.7285 - f1score: 0.7325 - val_loss: 6.7278 - val_acc: 0.6042 - val_auc: 0.9009 - val_precision: 0.6151 - val_recall: 0.5891 - val_f1score: 0.6017\n",
      "Epoch 299/300\n",
      "50/50 [==============================] - 27s 538ms/step - loss: 6.4032 - acc: 0.7320 - auc: 0.9010 - precision: 0.7352 - recall: 0.7255 - f1score: 0.7302 - val_loss: 6.6199 - val_acc: 0.6193 - val_auc: 0.9010 - val_precision: 0.6370 - val_recall: 0.6088 - val_f1score: 0.6225\n",
      "Epoch 300/300\n",
      "50/50 [==============================] - 27s 544ms/step - loss: 6.3846 - acc: 0.7346 - auc: 0.9011 - precision: 0.7375 - recall: 0.7293 - f1score: 0.7334 - val_loss: 6.6690 - val_acc: 0.6019 - val_auc: 0.9011 - val_precision: 0.6127 - val_recall: 0.5902 - val_f1score: 0.6011\n"
=======
      "150/150 [==============================] - 41s 274ms/step - loss: 0.5548 - acc: 0.7014 - auc_1: 0.8894 - precision_1: 0.6437 - recall_1: 0.5660 - f1score: 0.1864 - val_loss: 0.7125 - val_acc: 0.6077 - val_auc_1: 0.8901 - val_precision_1: 0.6447 - val_recall_1: 0.5680 - val_f1score: 0.1735\n",
      "Epoch 29/40\n",
      "150/150 [==============================] - 41s 275ms/step - loss: 0.5579 - acc: 0.7077 - auc_1: 0.8907 - precision_1: 0.6456 - recall_1: 0.5699 - f1score: 0.1862 - val_loss: 0.7317 - val_acc: 0.5949 - val_auc_1: 0.8914 - val_precision_1: 0.6467 - val_recall_1: 0.5719 - val_f1score: 0.1708\n",
>>>>>>> 44127265cfabbd5bc7800a4f4a7faa0dcc02ed9a
      "Epoch 30/40\n",
      "150/150 [==============================] - 41s 273ms/step - loss: 0.5048 - acc: 0.7521 - auc: 0.8795 - precision: 0.6236 - recall: 0.5428 - f1score: nan - val_loss: 1.0400 - val_acc: 0.5447 - val_auc: 0.8806 - val_precision: 0.6256 - val_recall: 0.5458 - val_f1score: nan\n",
      "Epoch 31/40\n",
      "150/150 [==============================] - 41s 274ms/step - loss: 0.5055 - acc: 0.7501 - auc: 0.8816 - precision: 0.6275 - recall: 0.5486 - f1score: nan - val_loss: 0.9592 - val_acc: 0.5292 - val_auc: 0.8826 - val_precision: 0.6294 - val_recall: 0.5515 - val_f1score: nan\n",
      "Epoch 32/40\n",
      "150/150 [==============================] - 41s 273ms/step - loss: 0.5068 - acc: 0.7564 - auc: 0.8836 - precision: 0.6313 - recall: 0.5543 - f1score: nan - val_loss: 0.9799 - val_acc: 0.5258 - val_auc: 0.8846 - val_precision: 0.6331 - val_recall: 0.5570 - val_f1score: nan\n",
      "Epoch 33/40\n",
      "150/150 [==============================] - 41s 273ms/step - loss: 0.4535 - acc: 0.7885 - auc: 0.8858 - precision: 0.6353 - recall: 0.5600 - f1score: nan - val_loss: 1.1158 - val_acc: 0.5481 - val_auc: 0.8869 - val_precision: 0.6375 - val_recall: 0.5631 - val_f1score: nan\n",
      "Epoch 34/40\n",
      "150/150 [==============================] - 41s 272ms/step - loss: 0.4417 - acc: 0.7953 - auc: 0.8881 - precision: 0.6398 - recall: 0.5661 - f1score: nan - val_loss: 1.0858 - val_acc: 0.5206 - val_auc: 0.8892 - val_precision: 0.6419 - val_recall: 0.5690 - val_f1score: nan\n",
      "Epoch 35/40\n",
      "150/150 [==============================] - 41s 273ms/step - loss: 0.4335 - acc: 0.7963 - auc: 0.8903 - precision: 0.6439 - recall: 0.5718 - f1score: nan - val_loss: 1.2814 - val_acc: 0.5326 - val_auc: 0.8913 - val_precision: 0.6459 - val_recall: 0.5745 - val_f1score: nan\n",
      "Epoch 36/40\n",
      "150/150 [==============================] - 41s 272ms/step - loss: 0.4003 - acc: 0.8163 - auc: 0.8924 - precision: 0.6481 - recall: 0.5774 - f1score: nan - val_loss: 1.2763 - val_acc: 0.5292 - val_auc: 0.8936 - val_precision: 0.6503 - val_recall: 0.5803 - val_f1score: nan\n",
      "Epoch 37/40\n",
      "150/150 [==============================] - 41s 272ms/step - loss: 0.3963 - acc: 0.8142 - auc: 0.8946 - precision: 0.6523 - recall: 0.5830 - f1score: nan - val_loss: 1.2787 - val_acc: 0.5292 - val_auc: 0.8957 - val_precision: 0.6544 - val_recall: 0.5858 - val_f1score: nan\n",
      "Epoch 38/40\n",
      "150/150 [==============================] - 41s 272ms/step - loss: 0.4981 - acc: 0.7794 - auc: 0.8963 - precision: 0.6558 - recall: 0.5876 - f1score: nan - val_loss: 1.1313 - val_acc: 0.5533 - val_auc: 0.8971 - val_precision: 0.6575 - val_recall: 0.5898 - val_f1score: nan\n",
      "Epoch 39/40\n",
      "150/150 [==============================] - 41s 275ms/step - loss: 0.3495 - acc: 0.8487 - auc: 0.8982 - precision: 0.6598 - recall: 0.5927 - f1score: nan - val_loss: 1.2557 - val_acc: 0.5430 - val_auc: 0.8993 - val_precision: 0.6620 - val_recall: 0.5956 - val_f1score: nan\n",
      "Epoch 40/40\n",
<<<<<<< HEAD
      "150/150 [==============================] - 41s 273ms/step - loss: 0.3237 - acc: 0.8565 - auc: 0.9005 - precision: 0.6643 - recall: 0.5984 - f1score: nan - val_loss: 1.3601 - val_acc: 0.5241 - val_auc: 0.9015 - val_precision: 0.6665 - val_recall: 0.6011 - val_f1score: nan\n"
=======
      "150/150 [==============================] - 42s 283ms/step - loss: 0.3954 - acc: 0.8226 - auc_1: 0.9071 - precision_1: 0.6761 - recall_1: 0.6163 - f1score: nan - val_loss: 0.8938 - val_acc: 0.5879 - val_auc_1: 0.9079 - val_precision_1: 0.6777 - val_recall_1: 0.6184 - val_f1score: nan\n"
>>>>>>> 59c856b1faaaef299ab27f97feff43166b72b602
>>>>>>> 44127265cfabbd5bc7800a4f4a7faa0dcc02ed9a
     ]
    }
   ],
   "source": [
<<<<<<< HEAD
    "history = myvgg.fit_generator(dgf, \n",
    "            steps_per_epoch=50, \n",
    "            epochs=300, \n",
    "            validation_data=(X_val,y_val), \n",
    "            validation_steps=16, \n",
=======
    "history = additional_model.fit_generator(dgf, \n",
    "            steps_per_epoch=150, \n",
    "            epochs=40, \n",
    "            validation_data=(X_val,y_val), \n",
    "            validation_steps=32, \n",
>>>>>>> 59c856b1faaaef299ab27f97feff43166b72b602
    "            callbacks=[checkpoint])"
   ]
  },
  {
   "cell_type": "code",
<<<<<<< HEAD
   "execution_count": 11,
=======
<<<<<<< HEAD
   "execution_count": 12,
=======
   "execution_count": 13,
>>>>>>> 59c856b1faaaef299ab27f97feff43166b72b602
>>>>>>> 44127265cfabbd5bc7800a4f4a7faa0dcc02ed9a
   "metadata": {},
   "outputs": [
    {
     "data": {
<<<<<<< HEAD
      "image/png": "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\n",
=======
<<<<<<< HEAD
      "image/png": "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\n",
=======
      "image/png": "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\n",
>>>>>>> 59c856b1faaaef299ab27f97feff43166b72b602
>>>>>>> 44127265cfabbd5bc7800a4f4a7faa0dcc02ed9a
      "text/plain": [
       "<Figure size 432x288 with 1 Axes>"
      ]
     },
     "metadata": {
      "needs_background": "light"
     },
     "output_type": "display_data"
    },
    {
     "data": {
<<<<<<< HEAD
      "image/png": "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\n",
=======
<<<<<<< HEAD
      "image/png": "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\n",
=======
      "image/png": "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\n",
>>>>>>> 59c856b1faaaef299ab27f97feff43166b72b602
>>>>>>> 44127265cfabbd5bc7800a4f4a7faa0dcc02ed9a
      "text/plain": [
       "<Figure size 432x288 with 1 Axes>"
      ]
     },
     "metadata": {
      "needs_background": "light"
     },
     "output_type": "display_data"
    }
   ],
   "source": [
    "acc = history.history['acc']\n",
    "val_acc = history.history['val_acc']\n",
    "loss = history.history['loss']\n",
    "val_loss = history.history['val_loss']\n",
    " \n",
    "epochs = range(1, len(acc) + 1)\n",
    " \n",
    "plt.plot(epochs, acc, 'bo', label='Training acc')\n",
    "plt.plot(epochs, val_acc, 'r', label='Validation acc')\n",
    "plt.title('Accuracy')\n",
    "plt.legend()\n",
    "plt.figure()\n",
    " \n",
    "plt.plot(epochs, loss, 'bo', label='Training loss')\n",
    "plt.plot(epochs, val_loss, 'r', label='Validation loss')\n",
    "plt.title('Loss')\n",
    "plt.legend()\n",
    " \n",
    "plt.show()"
   ]
  },
  {
   "cell_type": "code",
<<<<<<< HEAD
   "execution_count": 12,
=======
<<<<<<< HEAD
   "execution_count": 13,
   "metadata": {},
   "outputs": [],
   "source": [
    "myvgg.save('VGG16_Aug_1.h5')"
   ]
  },
  {
   "cell_type": "code",
   "execution_count": 17,
=======
   "execution_count": 14,
>>>>>>> 59c856b1faaaef299ab27f97feff43166b72b602
>>>>>>> 44127265cfabbd5bc7800a4f4a7faa0dcc02ed9a
   "metadata": {},
   "outputs": [],
   "source": [
    "X_test=np.load('X_test.npy')\n",
    "y_test=np.load('y_test.npy')"
   ]
  },
  {
   "cell_type": "code",
<<<<<<< HEAD
   "execution_count": 13,
=======
<<<<<<< HEAD
   "execution_count": 18,
=======
   "execution_count": 15,
>>>>>>> 59c856b1faaaef299ab27f97feff43166b72b602
>>>>>>> 44127265cfabbd5bc7800a4f4a7faa0dcc02ed9a
   "metadata": {},
   "outputs": [
    {
     "name": "stdout",
     "output_type": "stream",
     "text": [
<<<<<<< HEAD
      "582/582 [==============================] - 2s 3ms/step\n",
      "loss: 1.360, accuracy: 0.524, auc: 0.901, precision: 0.666, recall: 0.601, f1score: nan\n"
=======
<<<<<<< HEAD
      "704/704 [==============================] - 2s 3ms/step\n",
      "loss: 17.907, accuracy: 0.253, auc: 0.901, precision: 0.253, recall: 0.253, f1score: 0.253\n"
=======
      "859/859 [==============================] - 2s 3ms/step\n",
      "loss: 0.894, accuracy: 0.588, auc: 0.908, precision: 0.677, recall: 0.618, f1score: nan\n"
>>>>>>> 59c856b1faaaef299ab27f97feff43166b72b602
>>>>>>> 44127265cfabbd5bc7800a4f4a7faa0dcc02ed9a
     ]
    }
   ],
   "source": [
<<<<<<< HEAD
    "_loss, _acc, _auc, _precision, _recall, _f1score = myvgg.evaluate(X_test, y_test, batch_size=64)\n",
=======
    "_loss, _acc, _auc, _precision, _recall, _f1score = additional_model.evaluate(X_val, y_val, batch_size=32)\n",
>>>>>>> 59c856b1faaaef299ab27f97feff43166b72b602
    "print('loss: {:.3f}, accuracy: {:.3f}, auc: {:.3f}, precision: {:.3f}, recall: {:.3f}, f1score: {:.3f}'.format(_loss, _acc, _auc, _precision, _recall, _f1score))"
   ]
  },
  {
   "cell_type": "code",
<<<<<<< HEAD
   "execution_count": 14,
=======
<<<<<<< HEAD
   "execution_count": 19,
=======
   "execution_count": 16,
>>>>>>> 59c856b1faaaef299ab27f97feff43166b72b602
>>>>>>> 44127265cfabbd5bc7800a4f4a7faa0dcc02ed9a
   "metadata": {},
   "outputs": [
    {
     "name": "stdout",
     "output_type": "stream",
     "text": [
<<<<<<< HEAD
      "859/859 [==============================] - 2s 3ms/step\n",
      "loss: 6.669, accuracy: 0.602, auc: 0.900, precision: 0.613, recall: 0.590, f1score: 0.601\n"
=======
      "704/704 [==============================] - 2s 3ms/step\n",
<<<<<<< HEAD
      "loss: 531704.081, accuracy: 0.270, auc: 0.900, precision: 0.665, recall: 0.600, f1score: nan\n"
=======
      "loss: 207322.288, accuracy: 0.317, auc: 0.907, precision: 0.677, recall: 0.618, f1score: nan\n"
>>>>>>> 59c856b1faaaef299ab27f97feff43166b72b602
>>>>>>> 44127265cfabbd5bc7800a4f4a7faa0dcc02ed9a
     ]
    }
   ],
   "source": [
<<<<<<< HEAD
    "_loss, _acc, _auc, _precision, _recall, _f1score = myvgg.evaluate(X_val, y_val, batch_size=64)\n",
=======
    "_loss, _acc, _auc, _precision, _recall, _f1score = additional_model.evaluate(X_test, y_test, batch_size=32)\n",
>>>>>>> 59c856b1faaaef299ab27f97feff43166b72b602
    "print('loss: {:.3f}, accuracy: {:.3f}, auc: {:.3f}, precision: {:.3f}, recall: {:.3f}, f1score: {:.3f}'.format(_loss, _acc, _auc, _precision, _recall, _f1score))"
   ]
  },
  {
   "cell_type": "code",
<<<<<<< HEAD
   "execution_count": 15,
=======
<<<<<<< HEAD
=======
   "execution_count": 17,
>>>>>>> 44127265cfabbd5bc7800a4f4a7faa0dcc02ed9a
   "metadata": {},
   "outputs": [],
   "source": [
    "additional_model.save('VGG16_1.h5')"
   ]
  },
  {
   "cell_type": "code",
>>>>>>> 59c856b1faaaef299ab27f97feff43166b72b602
   "execution_count": null,
   "metadata": {},
   "outputs": [],
   "source": []
  }
 ],
 "metadata": {
  "kernelspec": {
   "display_name": "Python 3",
   "language": "python",
   "name": "python3"
  },
  "language_info": {
   "codemirror_mode": {
    "name": "ipython",
    "version": 3
   },
   "file_extension": ".py",
   "mimetype": "text/x-python",
   "name": "python",
   "nbconvert_exporter": "python",
   "pygments_lexer": "ipython3",
<<<<<<< HEAD
   "version": "3.7.6"
=======
   "version": "3.7.7"
>>>>>>> 59c856b1faaaef299ab27f97feff43166b72b602
  }
 },
 "nbformat": 4,
 "nbformat_minor": 2
}
