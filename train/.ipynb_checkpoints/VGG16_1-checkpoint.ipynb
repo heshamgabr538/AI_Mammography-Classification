{
 "cells": [
  {
   "cell_type": "code",
   "execution_count": 1,
   "metadata": {},
   "outputs": [
    {
     "data": {
      "text/plain": [
       "'C:\\\\Users\\\\Owner2\\\\Desktop\\\\G팔로미_vuno'"
      ]
     },
     "execution_count": 1,
     "metadata": {},
     "output_type": "execute_result"
    }
   ],
   "source": [
    "import os\n",
    "import pandas as pd\n",
    "from matplotlib import pyplot as plt\n",
    "import numpy as np\n",
    "import cv2\n",
    "\n",
    "#data path 수정\n",
    "os.chdir(\"C:\\\\Users\\\\Owner2\\\\Desktop\\\\G팔로미_vuno\")\n",
    "os.getcwd()"
   ]
  },
  {
   "cell_type": "code",
   "execution_count": 2,
   "metadata": {},
   "outputs": [],
   "source": [
    "X=np.load('data_X.npy')\n",
    "y=np.load('data_y.npy')"
   ]
  },
  {
   "cell_type": "code",
   "execution_count": 3,
   "metadata": {},
   "outputs": [],
   "source": [
    "#train, validation set 분리\n",
    "from sklearn.model_selection import train_test_split\n",
    "\n",
    "X_train, X_val, y_train, y_val = train_test_split(X,y,test_size=0.3)"
   ]
  },
  {
   "cell_type": "code",
   "execution_count": 4,
   "metadata": {},
   "outputs": [
    {
     "name": "stderr",
     "output_type": "stream",
     "text": [
      "Using TensorFlow backend.\n"
     ]
    }
   ],
   "source": [
    "from keras.preprocessing.image import ImageDataGenerator\n",
    "\n",
    "datagen = ImageDataGenerator(\n",
    "    #featurewise_center=True, #center 중심 유지\n",
    "    #featurewise_std_normalization=True, #normalization\n",
    "    rotation_range=25.0,\n",
    "    #width_shift_range=0.2,\n",
    "    #height_shift_range=0.2,\n",
    "    #brightness_range=[0.2,1.0],\n",
    "    horizontal_flip=True) #수평방향 뒤집기\n",
    "\n",
    "datagen.fit(X_train)\n",
    "\n",
    "dgf=datagen.flow(X_train,y_train,batch_size=32)"
   ]
  },
  {
   "cell_type": "code",
   "execution_count": 5,
   "metadata": {},
   "outputs": [
    {
     "name": "stdout",
     "output_type": "stream",
     "text": [
      "Model: \"vgg16\"\n",
      "_________________________________________________________________\n",
      "Layer (type)                 Output Shape              Param #   \n",
      "=================================================================\n",
      "input_1 (InputLayer)         (None, 224, 224, 3)       0         \n",
      "_________________________________________________________________\n",
      "block1_conv1 (Conv2D)        (None, 224, 224, 64)      1792      \n",
      "_________________________________________________________________\n",
      "block1_conv2 (Conv2D)        (None, 224, 224, 64)      36928     \n",
      "_________________________________________________________________\n",
      "block1_pool (MaxPooling2D)   (None, 112, 112, 64)      0         \n",
      "_________________________________________________________________\n",
      "block2_conv1 (Conv2D)        (None, 112, 112, 128)     73856     \n",
      "_________________________________________________________________\n",
      "block2_conv2 (Conv2D)        (None, 112, 112, 128)     147584    \n",
      "_________________________________________________________________\n",
      "block2_pool (MaxPooling2D)   (None, 56, 56, 128)       0         \n",
      "_________________________________________________________________\n",
      "block3_conv1 (Conv2D)        (None, 56, 56, 256)       295168    \n",
      "_________________________________________________________________\n",
      "block3_conv2 (Conv2D)        (None, 56, 56, 256)       590080    \n",
      "_________________________________________________________________\n",
      "block3_conv3 (Conv2D)        (None, 56, 56, 256)       590080    \n",
      "_________________________________________________________________\n",
      "block3_pool (MaxPooling2D)   (None, 28, 28, 256)       0         \n",
      "_________________________________________________________________\n",
      "block4_conv1 (Conv2D)        (None, 28, 28, 512)       1180160   \n",
      "_________________________________________________________________\n",
      "block4_conv2 (Conv2D)        (None, 28, 28, 512)       2359808   \n",
      "_________________________________________________________________\n",
      "block4_conv3 (Conv2D)        (None, 28, 28, 512)       2359808   \n",
      "_________________________________________________________________\n",
      "block4_pool (MaxPooling2D)   (None, 14, 14, 512)       0         \n",
      "_________________________________________________________________\n",
      "block5_conv1 (Conv2D)        (None, 14, 14, 512)       2359808   \n",
      "_________________________________________________________________\n",
      "block5_conv2 (Conv2D)        (None, 14, 14, 512)       2359808   \n",
      "_________________________________________________________________\n",
      "block5_conv3 (Conv2D)        (None, 14, 14, 512)       2359808   \n",
      "_________________________________________________________________\n",
      "block5_pool (MaxPooling2D)   (None, 7, 7, 512)         0         \n",
      "=================================================================\n",
      "Total params: 14,714,688\n",
      "Trainable params: 14,714,688\n",
      "Non-trainable params: 0\n",
      "_________________________________________________________________\n"
     ]
    }
   ],
   "source": [
    "from keras import models, layers\n",
    "from keras import Input\n",
    "from keras.applications import VGG16\n",
    "from keras.models import Model, load_model\n",
    "from keras.preprocessing.image import ImageDataGenerator\n",
    "from keras import optimizers, initializers, regularizers, metrics\n",
    "from keras.callbacks import ModelCheckpoint, EarlyStopping\n",
    "from keras.layers import BatchNormalization, Conv2D, Activation, Dense, GlobalAveragePooling2D, MaxPooling2D, ZeroPadding2D, Add\n",
    "\n",
    "model = VGG16(weights=None, include_top=False, input_shape=(224, 224, 3))\n",
    "model.trainable = True\n",
    "model.summary()"
   ]
  },
  {
   "cell_type": "code",
   "execution_count": 6,
   "metadata": {},
   "outputs": [
    {
     "name": "stdout",
     "output_type": "stream",
     "text": [
      "Model: \"sequential_1\"\n",
      "_________________________________________________________________\n",
      "Layer (type)                 Output Shape              Param #   \n",
      "=================================================================\n",
      "vgg16 (Model)                (None, 7, 7, 512)         14714688  \n",
      "_________________________________________________________________\n",
      "flatten_1 (Flatten)          (None, 25088)             0         \n",
      "_________________________________________________________________\n",
      "dense_1 (Dense)              (None, 4)                 100356    \n",
      "=================================================================\n",
      "Total params: 14,815,044\n",
      "Trainable params: 14,815,044\n",
      "Non-trainable params: 0\n",
      "_________________________________________________________________\n"
     ]
    }
   ],
   "source": [
    "#customizing my layers\n",
    "additional_model = models.Sequential()\n",
    "additional_model.add(model)\n",
    "additional_model.add(layers.Flatten())\n",
    "additional_model.add(layers.Dense(4, activation='softmax'))\n",
    "\n",
    "additional_model.summary()"
   ]
  },
  {
   "cell_type": "code",
   "execution_count": 7,
   "metadata": {},
   "outputs": [],
   "source": [
    "def f1score(precision, recall):\n",
    "    _f1score = ( 2 * recall * precision) / (recall + precision)\n",
    "    \n",
    "    # return a single tensor value\n",
    "    return _f1score"
   ]
  },
  {
   "cell_type": "code",
   "execution_count": 10,
   "metadata": {},
   "outputs": [],
   "source": [
    "# checkpoint = ModelCheckpoint(filepath='My_VGG_{epoch:03d}_{val_loss:.7f}.hdf5',monitor='loss', mode='min', save_best_only=True)\n",
    "checkpoint = ModelCheckpoint(filepath='VGG16_1.hdf5', \n",
    "            monitor='loss', \n",
    "            mode='min', \n",
    "            save_best_only=True)"
   ]
  },
  {
   "cell_type": "code",
   "execution_count": 11,
   "metadata": {},
   "outputs": [],
   "source": [
    "import tensorflow as tf\n",
    "\n",
    "additional_model.compile(loss='categorical_crossentropy', \n",
    "              optimizer=optimizers.Adam(lr=2e-5),\n",
    "              metrics=['acc',tf.keras.metrics.AUC(),\n",
    "                      tf.keras.metrics.Precision(),\n",
    "                      tf.keras.metrics.Recall(), f1score])"
   ]
  },
  {
   "cell_type": "code",
   "execution_count": 12,
   "metadata": {},
   "outputs": [
    {
     "name": "stdout",
     "output_type": "stream",
     "text": [
      "Epoch 1/40\n",
      "150/150 [==============================] - 48s 322ms/step - loss: 1.1655 - acc: 0.4453 - auc_1: 0.6524 - precision_1: 0.3752 - recall_1: 0.0615 - f1score: 0.1243 - val_loss: 0.9927 - val_acc: 0.5157 - val_auc_1: 0.7521 - val_precision_1: 0.5690 - val_recall_1: 0.1721 - val_f1score: 0.1388\n",
      "Epoch 2/40\n",
      "150/150 [==============================] - 42s 279ms/step - loss: 0.9459 - acc: 0.5328 - auc_1: 0.7784 - precision_1: 0.5770 - recall_1: 0.2259 - f1score: 0.1474 - val_loss: 0.9152 - val_acc: 0.5320 - val_auc_1: 0.7957 - val_precision_1: 0.5871 - val_recall_1: 0.2790 - val_f1score: 0.1526\n",
      "Epoch 3/40\n",
      "150/150 [==============================] - 42s 283ms/step - loss: 0.8794 - acc: 0.5564 - auc_1: 0.8063 - precision_1: 0.5951 - recall_1: 0.3113 - f1score: 0.1539 - val_loss: 0.8631 - val_acc: 0.5343 - val_auc_1: 0.8151 - val_precision_1: 0.6001 - val_recall_1: 0.3348 - val_f1score: 0.1541\n",
      "Epoch 4/40\n",
      "150/150 [==============================] - 41s 272ms/step - loss: 0.8467 - acc: 0.5641 - auc_1: 0.8214 - precision_1: 0.6052 - recall_1: 0.3518 - f1score: 0.1571 - val_loss: 0.8431 - val_acc: 0.5518 - val_auc_1: 0.8267 - val_precision_1: 0.6082 - val_recall_1: 0.3677 - val_f1score: 0.1586\n",
      "Epoch 5/40\n",
      "150/150 [==============================] - 41s 271ms/step - loss: 0.8195 - acc: 0.5782 - auc_1: 0.8309 - precision_1: 0.6095 - recall_1: 0.3800 - f1score: 0.1594 - val_loss: 0.8124 - val_acc: 0.5565 - val_auc_1: 0.8349 - val_precision_1: 0.6112 - val_recall_1: 0.3919 - val_f1score: 0.1600\n",
      "Epoch 6/40\n",
      "150/150 [==============================] - 43s 284ms/step - loss: 0.7726 - acc: 0.6048 - auc_1: 0.8385 - precision_1: 0.6135 - recall_1: 0.4023 - f1score: 0.1640 - val_loss: 0.8700 - val_acc: 0.5285 - val_auc_1: 0.8420 - val_precision_1: 0.6158 - val_recall_1: 0.4133 - val_f1score: 0.1571\n",
      "Epoch 7/40\n",
      "150/150 [==============================] - 41s 272ms/step - loss: 0.7414 - acc: 0.5948 - auc_1: 0.8445 - precision_1: 0.6153 - recall_1: 0.4221 - f1score: 0.1663 - val_loss: 0.7431 - val_acc: 0.5693 - val_auc_1: 0.8475 - val_precision_1: 0.6156 - val_recall_1: 0.4317 - val_f1score: 0.1657\n",
      "Epoch 8/40\n",
      "150/150 [==============================] - 41s 274ms/step - loss: 0.7228 - acc: 0.6094 - auc_1: 0.8500 - precision_1: 0.6162 - recall_1: 0.4395 - f1score: 0.1684 - val_loss: 0.7848 - val_acc: 0.5518 - val_auc_1: 0.8525 - val_precision_1: 0.6168 - val_recall_1: 0.4472 - val_f1score: 0.1639\n",
      "Epoch 9/40\n",
      "150/150 [==============================] - 41s 271ms/step - loss: 0.7135 - acc: 0.6063 - auc_1: 0.8544 - precision_1: 0.6169 - recall_1: 0.4540 - f1score: 0.1692 - val_loss: 0.7897 - val_acc: 0.5448 - val_auc_1: 0.8561 - val_precision_1: 0.6167 - val_recall_1: 0.4593 - val_f1score: 0.1623\n",
      "Epoch 10/40\n",
      "150/150 [==============================] - 41s 272ms/step - loss: 0.7039 - acc: 0.6113 - auc_1: 0.8578 - precision_1: 0.6173 - recall_1: 0.4645 - f1score: 0.1704 - val_loss: 0.7322 - val_acc: 0.5471 - val_auc_1: 0.8595 - val_precision_1: 0.6175 - val_recall_1: 0.4690 - val_f1score: 0.1659\n",
      "Epoch 11/40\n",
      "150/150 [==============================] - 42s 279ms/step - loss: 0.7006 - acc: 0.6073 - auc_1: 0.8610 - precision_1: 0.6179 - recall_1: 0.4731 - f1score: 0.1703 - val_loss: 0.7328 - val_acc: 0.5600 - val_auc_1: 0.8622 - val_precision_1: 0.6178 - val_recall_1: 0.4768 - val_f1score: 0.1665\n",
      "Epoch 12/40\n",
      "150/150 [==============================] - 41s 271ms/step - loss: 0.6827 - acc: 0.6225 - auc_1: 0.8635 - precision_1: 0.6185 - recall_1: 0.4811 - f1score: 0.1720 - val_loss: 0.7101 - val_acc: 0.5786 - val_auc_1: 0.8648 - val_precision_1: 0.6189 - val_recall_1: 0.4854 - val_f1score: 0.1687\n",
      "Epoch 13/40\n",
      "150/150 [==============================] - 41s 272ms/step - loss: 0.6709 - acc: 0.6341 - auc_1: 0.8661 - precision_1: 0.6201 - recall_1: 0.4897 - f1score: 0.1735 - val_loss: 0.7752 - val_acc: 0.5634 - val_auc_1: 0.8672 - val_precision_1: 0.6207 - val_recall_1: 0.4934 - val_f1score: 0.1661\n",
      "Epoch 14/40\n",
      "150/150 [==============================] - 43s 285ms/step - loss: 0.6722 - acc: 0.6272 - auc_1: 0.8683 - precision_1: 0.6213 - recall_1: 0.4971 - f1score: 0.1735 - val_loss: 0.7349 - val_acc: 0.5471 - val_auc_1: 0.8692 - val_precision_1: 0.6217 - val_recall_1: 0.5003 - val_f1score: 0.1663\n",
      "Epoch 15/40\n",
      "150/150 [==============================] - 41s 273ms/step - loss: 0.6582 - acc: 0.6364 - auc_1: 0.8701 - precision_1: 0.6221 - recall_1: 0.5033 - f1score: 0.1746 - val_loss: 0.7347 - val_acc: 0.5669 - val_auc_1: 0.8711 - val_precision_1: 0.6230 - val_recall_1: 0.5068 - val_f1score: 0.1685\n",
      "Epoch 16/40\n",
      "150/150 [==============================] - 42s 278ms/step - loss: 0.6483 - acc: 0.6440 - auc_1: 0.8720 - precision_1: 0.6236 - recall_1: 0.5099 - f1score: 0.1757 - val_loss: 0.7078 - val_acc: 0.5681 - val_auc_1: 0.8730 - val_precision_1: 0.6245 - val_recall_1: 0.5130 - val_f1score: 0.1691\n",
      "Epoch 17/40\n",
      "150/150 [==============================] - 41s 271ms/step - loss: 0.6379 - acc: 0.6484 - auc_1: 0.8738 - precision_1: 0.6253 - recall_1: 0.5160 - f1score: 0.1766 - val_loss: 0.7376 - val_acc: 0.5739 - val_auc_1: 0.8747 - val_precision_1: 0.6260 - val_recall_1: 0.5190 - val_f1score: 0.1692\n",
      "Epoch 18/40\n",
      "150/150 [==============================] - 41s 273ms/step - loss: 0.6397 - acc: 0.6456 - auc_1: 0.8755 - precision_1: 0.6267 - recall_1: 0.5217 - f1score: 0.1768 - val_loss: 0.7129 - val_acc: 0.5634 - val_auc_1: 0.8763 - val_precision_1: 0.6273 - val_recall_1: 0.5241 - val_f1score: 0.1693\n",
      "Epoch 19/40\n",
      "150/150 [==============================] - 42s 281ms/step - loss: 0.6217 - acc: 0.6641 - auc_1: 0.8772 - precision_1: 0.6283 - recall_1: 0.5271 - f1score: 0.1787 - val_loss: 1.1338 - val_acc: 0.5297 - val_auc_1: 0.8778 - val_precision_1: 0.6291 - val_recall_1: 0.5296 - val_f1score: 0.1589\n",
      "Epoch 20/40\n",
      "150/150 [==============================] - 41s 273ms/step - loss: 0.6246 - acc: 0.6549 - auc_1: 0.8784 - precision_1: 0.6298 - recall_1: 0.5319 - f1score: 0.1783 - val_loss: 0.6843 - val_acc: 0.5867 - val_auc_1: 0.8792 - val_precision_1: 0.6304 - val_recall_1: 0.5342 - val_f1score: 0.1725\n",
      "Epoch 21/40\n",
      "150/150 [==============================] - 41s 274ms/step - loss: 0.6146 - acc: 0.6618 - auc_1: 0.8800 - precision_1: 0.6313 - recall_1: 0.5366 - f1score: 0.1795 - val_loss: 0.7498 - val_acc: 0.5541 - val_auc_1: 0.8806 - val_precision_1: 0.6319 - val_recall_1: 0.5387 - val_f1score: 0.1682\n",
      "Epoch 22/40\n",
      "150/150 [==============================] - 41s 273ms/step - loss: 0.6094 - acc: 0.6710 - auc_1: 0.8813 - precision_1: 0.6327 - recall_1: 0.5410 - f1score: 0.1801 - val_loss: 0.7477 - val_acc: 0.5681 - val_auc_1: 0.8820 - val_precision_1: 0.6336 - val_recall_1: 0.5433 - val_f1score: 0.1682\n",
      "Epoch 23/40\n",
      "150/150 [==============================] - 41s 272ms/step - loss: 0.6105 - acc: 0.6742 - auc_1: 0.8826 - precision_1: 0.6345 - recall_1: 0.5455 - f1score: 0.1804 - val_loss: 0.6859 - val_acc: 0.5786 - val_auc_1: 0.8833 - val_precision_1: 0.6353 - val_recall_1: 0.5475 - val_f1score: 0.1725\n",
      "Epoch 24/40\n",
      "150/150 [==============================] - 42s 279ms/step - loss: 0.5848 - acc: 0.6852 - auc_1: 0.8841 - precision_1: 0.6363 - recall_1: 0.5498 - f1score: 0.1827 - val_loss: 0.7316 - val_acc: 0.5623 - val_auc_1: 0.8848 - val_precision_1: 0.6372 - val_recall_1: 0.5519 - val_f1score: 0.1703\n",
      "Epoch 25/40\n",
      "150/150 [==============================] - 41s 272ms/step - loss: 0.5863 - acc: 0.6834 - auc_1: 0.8854 - precision_1: 0.6380 - recall_1: 0.5538 - f1score: 0.1827 - val_loss: 0.8280 - val_acc: 0.5518 - val_auc_1: 0.8860 - val_precision_1: 0.6387 - val_recall_1: 0.5558 - val_f1score: nan\n",
      "Epoch 26/40\n",
      "150/150 [==============================] - 41s 273ms/step - loss: 0.5781 - acc: 0.6869 - auc_1: 0.8867 - precision_1: 0.6395 - recall_1: 0.5576 - f1score: 0.1838 - val_loss: 0.7170 - val_acc: 0.5716 - val_auc_1: 0.8873 - val_precision_1: 0.6403 - val_recall_1: 0.5595 - val_f1score: 0.1705\n",
      "Epoch 27/40\n",
      "150/150 [==============================] - 43s 284ms/step - loss: 0.5601 - acc: 0.7133 - auc_1: 0.8880 - precision_1: 0.6415 - recall_1: 0.5617 - f1score: 0.1861 - val_loss: 0.7349 - val_acc: 0.5844 - val_auc_1: 0.8888 - val_precision_1: 0.6427 - val_recall_1: 0.5639 - val_f1score: 0.1699\n",
      "Epoch 28/40\n"
     ]
    },
    {
     "name": "stdout",
     "output_type": "stream",
     "text": [
      "150/150 [==============================] - 41s 274ms/step - loss: 0.5548 - acc: 0.7014 - auc_1: 0.8894 - precision_1: 0.6437 - recall_1: 0.5660 - f1score: 0.1864 - val_loss: 0.7125 - val_acc: 0.6077 - val_auc_1: 0.8901 - val_precision_1: 0.6447 - val_recall_1: 0.5680 - val_f1score: 0.1735\n",
      "Epoch 29/40\n",
      "150/150 [==============================] - 41s 275ms/step - loss: 0.5579 - acc: 0.7077 - auc_1: 0.8907 - precision_1: 0.6456 - recall_1: 0.5699 - f1score: 0.1862 - val_loss: 0.7317 - val_acc: 0.5949 - val_auc_1: 0.8914 - val_precision_1: 0.6467 - val_recall_1: 0.5719 - val_f1score: 0.1708\n",
      "Epoch 30/40\n",
      "150/150 [==============================] - 41s 273ms/step - loss: 0.5341 - acc: 0.7259 - auc_1: 0.8920 - precision_1: 0.6479 - recall_1: 0.5740 - f1score: 0.1891 - val_loss: 0.8041 - val_acc: 0.5786 - val_auc_1: 0.8927 - val_precision_1: 0.6491 - val_recall_1: 0.5760 - val_f1score: 0.1676\n",
      "Epoch 31/40\n",
      "150/150 [==============================] - 41s 273ms/step - loss: 0.5178 - acc: 0.7408 - auc_1: 0.8934 - precision_1: 0.6503 - recall_1: 0.5781 - f1score: 0.1910 - val_loss: 0.7869 - val_acc: 0.5634 - val_auc_1: 0.8941 - val_precision_1: 0.6516 - val_recall_1: 0.5802 - val_f1score: 0.1674\n",
      "Epoch 32/40\n",
      "150/150 [==============================] - 42s 282ms/step - loss: 0.5020 - acc: 0.7502 - auc_1: 0.8948 - precision_1: 0.6529 - recall_1: 0.5824 - f1score: nan - val_loss: 0.7235 - val_acc: 0.5960 - val_auc_1: 0.8956 - val_precision_1: 0.6543 - val_recall_1: 0.5846 - val_f1score: 0.1721\n",
      "Epoch 33/40\n",
      "150/150 [==============================] - 41s 272ms/step - loss: 0.4832 - acc: 0.7585 - auc_1: 0.8964 - precision_1: 0.6557 - recall_1: 0.5867 - f1score: nan - val_loss: 0.9229 - val_acc: 0.5495 - val_auc_1: 0.8971 - val_precision_1: 0.6569 - val_recall_1: 0.5888 - val_f1score: nan\n",
      "Epoch 34/40\n",
      "150/150 [==============================] - 41s 272ms/step - loss: 0.4829 - acc: 0.7647 - auc_1: 0.8978 - precision_1: 0.6582 - recall_1: 0.5908 - f1score: nan - val_loss: 0.7366 - val_acc: 0.6042 - val_auc_1: 0.8985 - val_precision_1: 0.6596 - val_recall_1: 0.5929 - val_f1score: nan\n",
      "Epoch 35/40\n",
      "150/150 [==============================] - 43s 287ms/step - loss: 0.4564 - acc: 0.7793 - auc_1: 0.8993 - precision_1: 0.6610 - recall_1: 0.5949 - f1score: nan - val_loss: 0.8526 - val_acc: 0.5972 - val_auc_1: 0.9001 - val_precision_1: 0.6626 - val_recall_1: 0.5973 - val_f1score: nan\n",
      "Epoch 36/40\n",
      "150/150 [==============================] - 42s 280ms/step - loss: 0.4502 - acc: 0.7753 - auc_1: 0.9008 - precision_1: 0.6639 - recall_1: 0.5992 - f1score: nan - val_loss: 0.7802 - val_acc: 0.5902 - val_auc_1: 0.9016 - val_precision_1: 0.6653 - val_recall_1: 0.6013 - val_f1score: nan\n",
      "Epoch 37/40\n",
      "150/150 [==============================] - 42s 277ms/step - loss: 0.4340 - acc: 0.7944 - auc_1: 0.9024 - precision_1: 0.6667 - recall_1: 0.6034 - f1score: nan - val_loss: 0.7867 - val_acc: 0.5832 - val_auc_1: 0.9032 - val_precision_1: 0.6683 - val_recall_1: 0.6055 - val_f1score: nan\n",
      "Epoch 38/40\n",
      "150/150 [==============================] - 41s 273ms/step - loss: 0.4225 - acc: 0.8071 - auc_1: 0.9040 - precision_1: 0.6698 - recall_1: 0.6077 - f1score: nan - val_loss: 0.8637 - val_acc: 0.5984 - val_auc_1: 0.9048 - val_precision_1: 0.6714 - val_recall_1: 0.6098 - val_f1score: nan\n",
      "Epoch 39/40\n",
      "150/150 [==============================] - 41s 274ms/step - loss: 0.3979 - acc: 0.8212 - auc_1: 0.9056 - precision_1: 0.6730 - recall_1: 0.6121 - f1score: nan - val_loss: 0.9494 - val_acc: 0.5704 - val_auc_1: 0.9064 - val_precision_1: 0.6746 - val_recall_1: 0.6143 - val_f1score: nan\n",
      "Epoch 40/40\n",
      "150/150 [==============================] - 42s 283ms/step - loss: 0.3954 - acc: 0.8226 - auc_1: 0.9071 - precision_1: 0.6761 - recall_1: 0.6163 - f1score: nan - val_loss: 0.8938 - val_acc: 0.5879 - val_auc_1: 0.9079 - val_precision_1: 0.6777 - val_recall_1: 0.6184 - val_f1score: nan\n"
     ]
    }
   ],
   "source": [
    "history = additional_model.fit_generator(dgf, \n",
    "            steps_per_epoch=150, \n",
    "            epochs=40, \n",
    "            validation_data=(X_val,y_val), \n",
    "            validation_steps=32, \n",
    "            callbacks=[checkpoint])"
   ]
  },
  {
   "cell_type": "code",
   "execution_count": 13,
   "metadata": {},
   "outputs": [
    {
     "data": {
      "image/png": "[encoded data removed]",
      "text/plain": [
       "<Figure size 432x288 with 1 Axes>"
      ]
     },
     "metadata": {
      "needs_background": "light"
     },
     "output_type": "display_data"
    },
    {
     "data": {
      "image/png": "[encoded data removed]",
      "text/plain": [
       "<Figure size 432x288 with 1 Axes>"
      ]
     },
     "metadata": {
      "needs_background": "light"
     },
     "output_type": "display_data"
    }
   ],
   "source": [
    "acc = history.history['acc']\n",
    "val_acc = history.history['val_acc']\n",
    "loss = history.history['loss']\n",
    "val_loss = history.history['val_loss']\n",
    " \n",
    "epochs = range(1, len(acc) + 1)\n",
    " \n",
    "plt.plot(epochs, acc, 'bo', label='Training acc')\n",
    "plt.plot(epochs, val_acc, 'r', label='Validation acc')\n",
    "plt.title('Accuracy')\n",
    "plt.legend()\n",
    "plt.figure()\n",
    " \n",
    "plt.plot(epochs, loss, 'bo', label='Training loss')\n",
    "plt.plot(epochs, val_loss, 'r', label='Validation loss')\n",
    "plt.title('Loss')\n",
    "plt.legend()\n",
    " \n",
    "plt.show()"
   ]
  },
  {
   "cell_type": "code",
   "execution_count": 14,
   "metadata": {},
   "outputs": [],
   "source": [
    "X_test=np.load('X_test.npy')\n",
    "y_test=np.load('y_test.npy')"
   ]
  },
  {
   "cell_type": "code",
   "execution_count": 15,
   "metadata": {},
   "outputs": [
    {
     "name": "stdout",
     "output_type": "stream",
     "text": [
      "859/859 [==============================] - 2s 3ms/step\n",
      "loss: 0.894, accuracy: 0.588, auc: 0.908, precision: 0.677, recall: 0.618, f1score: nan\n"
     ]
    }
   ],
   "source": [
    "_loss, _acc, _auc, _precision, _recall, _f1score = additional_model.evaluate(X_val, y_val, batch_size=32)\n",
    "print('loss: {:.3f}, accuracy: {:.3f}, auc: {:.3f}, precision: {:.3f}, recall: {:.3f}, f1score: {:.3f}'.format(_loss, _acc, _auc, _precision, _recall, _f1score))"
   ]
  },
  {
   "cell_type": "code",
   "execution_count": 16,
   "metadata": {},
   "outputs": [
    {
     "name": "stdout",
     "output_type": "stream",
     "text": [
      "704/704 [==============================] - 2s 3ms/step\n",
      "loss: 207322.288, accuracy: 0.317, auc: 0.907, precision: 0.677, recall: 0.618, f1score: nan\n"
     ]
    }
   ],
   "source": [
    "_loss, _acc, _auc, _precision, _recall, _f1score = additional_model.evaluate(X_test, y_test, batch_size=32)\n",
    "print('loss: {:.3f}, accuracy: {:.3f}, auc: {:.3f}, precision: {:.3f}, recall: {:.3f}, f1score: {:.3f}'.format(_loss, _acc, _auc, _precision, _recall, _f1score))"
   ]
  },
  {
   "cell_type": "code",
   "execution_count": 17,
   "metadata": {},
   "outputs": [],
   "source": [
    "additional_model.save('VGG16_1.h5')"
   ]
  },
  {
   "cell_type": "code",
   "execution_count": null,
   "metadata": {},
   "outputs": [],
   "source": []
  }
 ],
 "metadata": {
  "kernelspec": {
   "display_name": "Python 3",
   "language": "python",
   "name": "python3"
  },
  "language_info": {
   "codemirror_mode": {
    "name": "ipython",
    "version": 3
   },
   "file_extension": ".py",
   "mimetype": "text/x-python",
   "name": "python",
   "nbconvert_exporter": "python",
   "pygments_lexer": "ipython3",
   "version": "3.7.7"
  }
 },
 "nbformat": 4,
 "nbformat_minor": 2
}
