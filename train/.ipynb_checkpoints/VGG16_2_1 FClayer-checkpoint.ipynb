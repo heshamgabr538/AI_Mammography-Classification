{
 "cells": [
  {
   "cell_type": "code",
   "execution_count": 1,
   "metadata": {},
   "outputs": [
    {
     "data": {
      "text/plain": [
       "'C:\\\\Users\\\\Owner2\\\\Desktop\\\\G팔로미_vuno'"
      ]
     },
     "execution_count": 1,
     "metadata": {},
     "output_type": "execute_result"
    }
   ],
   "source": [
    "import os\n",
    "import pandas as pd\n",
    "from matplotlib import pyplot as plt\n",
    "import cv2\n",
    "import numpy as np\n",
    "\n",
    "#data path 수정\n",
    "os.chdir(\"C:\\\\Users\\\\Owner2\\\\Desktop\\\\G팔로미_vuno\")\n",
    "os.getcwd()"
   ]
  },
  {
   "cell_type": "code",
   "execution_count": 2,
   "metadata": {},
   "outputs": [],
   "source": [
    "X=np.load('data_X_with_callback.npy')\n",
    "y=np.load('data_y_with_callback.npy')"
   ]
  },
  {
   "cell_type": "code",
   "execution_count": 3,
   "metadata": {},
   "outputs": [
    {
     "data": {
      "text/plain": [
       "2145"
      ]
     },
     "execution_count": 3,
     "metadata": {},
     "output_type": "execute_result"
    }
   ],
   "source": [
    "len(X)"
   ]
  },
  {
   "cell_type": "code",
   "execution_count": 4,
   "metadata": {},
   "outputs": [],
   "source": [
    "#train, validation set 분리\n",
    "from sklearn.model_selection import train_test_split\n",
    "\n",
    "X_train, X_val, y_train, y_val = train_test_split(X,y,test_size=0.2, random_state=123)"
   ]
  },
  {
   "cell_type": "code",
   "execution_count": 5,
   "metadata": {},
   "outputs": [
    {
     "name": "stderr",
     "output_type": "stream",
     "text": [
      "Using TensorFlow backend.\n"
     ]
    }
   ],
   "source": [
    "from keras.preprocessing.image import ImageDataGenerator\n",
    "\n",
    "datagen = ImageDataGenerator(\n",
    "    #featurewise_center=True, #center 중심 유지\n",
    "    #featurewise_std_normalization=True, #normalization\n",
    "    rotation_range=25.0,\n",
    "    #width_shift_range=0.2,\n",
    "    #height_shift_range=0.2,\n",
    "    #brightness_range=[0.2,1.0],\n",
    "    zoom_range=[0.8,1.2],\n",
    "    horizontal_flip=True) #수평방향 뒤집기\n",
    "\n",
    "datagen.fit(X_train)\n",
    "\n",
    "dgf=datagen.flow(X_train,y_train,batch_size=32)"
   ]
  },
  {
   "cell_type": "code",
   "execution_count": 6,
   "metadata": {},
   "outputs": [
    {
     "name": "stdout",
     "output_type": "stream",
     "text": [
      "Model: \"vgg16\"\n",
      "_________________________________________________________________\n",
      "Layer (type)                 Output Shape              Param #   \n",
      "=================================================================\n",
      "input_1 (InputLayer)         (None, 224, 224, 3)       0         \n",
      "_________________________________________________________________\n",
      "block1_conv1 (Conv2D)        (None, 224, 224, 64)      1792      \n",
      "_________________________________________________________________\n",
      "block1_conv2 (Conv2D)        (None, 224, 224, 64)      36928     \n",
      "_________________________________________________________________\n",
      "block1_pool (MaxPooling2D)   (None, 112, 112, 64)      0         \n",
      "_________________________________________________________________\n",
      "block2_conv1 (Conv2D)        (None, 112, 112, 128)     73856     \n",
      "_________________________________________________________________\n",
      "block2_conv2 (Conv2D)        (None, 112, 112, 128)     147584    \n",
      "_________________________________________________________________\n",
      "block2_pool (MaxPooling2D)   (None, 56, 56, 128)       0         \n",
      "_________________________________________________________________\n",
      "block3_conv1 (Conv2D)        (None, 56, 56, 256)       295168    \n",
      "_________________________________________________________________\n",
      "block3_conv2 (Conv2D)        (None, 56, 56, 256)       590080    \n",
      "_________________________________________________________________\n",
      "block3_conv3 (Conv2D)        (None, 56, 56, 256)       590080    \n",
      "_________________________________________________________________\n",
      "block3_pool (MaxPooling2D)   (None, 28, 28, 256)       0         \n",
      "_________________________________________________________________\n",
      "block4_conv1 (Conv2D)        (None, 28, 28, 512)       1180160   \n",
      "_________________________________________________________________\n",
      "block4_conv2 (Conv2D)        (None, 28, 28, 512)       2359808   \n",
      "_________________________________________________________________\n",
      "block4_conv3 (Conv2D)        (None, 28, 28, 512)       2359808   \n",
      "_________________________________________________________________\n",
      "block4_pool (MaxPooling2D)   (None, 14, 14, 512)       0         \n",
      "_________________________________________________________________\n",
      "block5_conv1 (Conv2D)        (None, 14, 14, 512)       2359808   \n",
      "_________________________________________________________________\n",
      "block5_conv2 (Conv2D)        (None, 14, 14, 512)       2359808   \n",
      "_________________________________________________________________\n",
      "block5_conv3 (Conv2D)        (None, 14, 14, 512)       2359808   \n",
      "_________________________________________________________________\n",
      "block5_pool (MaxPooling2D)   (None, 7, 7, 512)         0         \n",
      "=================================================================\n",
      "Total params: 14,714,688\n",
      "Trainable params: 14,714,688\n",
      "Non-trainable params: 0\n",
      "_________________________________________________________________\n"
     ]
    }
   ],
   "source": [
    "from keras import models, layers\n",
    "from keras import Input\n",
    "from keras.applications import VGG16\n",
    "from keras.models import Model, load_model\n",
    "from keras.preprocessing.image import ImageDataGenerator\n",
    "from keras import optimizers, initializers, regularizers, metrics\n",
    "from keras.callbacks import ModelCheckpoint, EarlyStopping\n",
    "from keras.layers import BatchNormalization, Conv2D, Activation, Dense, GlobalAveragePooling2D, MaxPooling2D, ZeroPadding2D, Add\n",
    "\n",
    "model = VGG16(weights=None, include_top=False, input_shape=(224, 224, 3))\n",
    "model.trainable = True\n",
    "model.summary()"
   ]
  },
  {
   "cell_type": "code",
   "execution_count": 7,
   "metadata": {},
   "outputs": [
    {
     "name": "stdout",
     "output_type": "stream",
     "text": [
      "Model: \"sequential_1\"\n",
      "_________________________________________________________________\n",
      "Layer (type)                 Output Shape              Param #   \n",
      "=================================================================\n",
      "vgg16 (Model)                (None, 7, 7, 512)         14714688  \n",
      "_________________________________________________________________\n",
      "flatten_1 (Flatten)          (None, 25088)             0         \n",
      "_________________________________________________________________\n",
      "dense_1 (Dense)              (None, 4)                 100356    \n",
      "=================================================================\n",
      "Total params: 14,815,044\n",
      "Trainable params: 14,815,044\n",
      "Non-trainable params: 0\n",
      "_________________________________________________________________\n"
     ]
    }
   ],
   "source": [
    "#customizing my layers\n",
    "additional_model = models.Sequential()\n",
    "additional_model.add(model)\n",
    "additional_model.add(layers.Flatten())\n",
    "additional_model.add(layers.Dense(4, activation='softmax'))\n",
    "\n",
    "additional_model.summary()"
   ]
  },
  {
   "cell_type": "code",
   "execution_count": 8,
   "metadata": {},
   "outputs": [],
   "source": [
    "def f1score(precision, recall):\n",
    "    _f1score = ( 2 * recall * precision) / (recall + precision)\n",
    "    \n",
    "    # return a single tensor value\n",
    "    return _f1score"
   ]
  },
  {
   "cell_type": "code",
   "execution_count": 9,
   "metadata": {},
   "outputs": [],
   "source": [
    "# checkpoint = ModelCheckpoint(filepath='My_VGG_{epoch:03d}_{val_loss:.7f}.hdf5',monitor='loss', mode='min', save_best_only=True)\n",
    "checkpoint = ModelCheckpoint(filepath='VGG16_2.hdf5', \n",
    "            monitor='val_loss', \n",
    "            mode='min', \n",
    "            save_best_only=True)"
   ]
  },
  {
   "cell_type": "code",
   "execution_count": 10,
   "metadata": {},
   "outputs": [],
   "source": [
    "import tensorflow as tf\n",
    "\n",
    "additional_model.compile(loss='categorical_crossentropy', \n",
    "              optimizer=optimizers.Adam(lr=1e-5),\n",
    "              metrics=['acc',tf.keras.metrics.AUC(),\n",
    "                      tf.keras.metrics.Precision(),\n",
    "                      tf.keras.metrics.Recall(),f1score])"
   ]
  },
  {
   "cell_type": "code",
   "execution_count": 11,
   "metadata": {},
   "outputs": [],
   "source": [
    "class_weight = {0: 0.8,\n",
    "                1: 1,\n",
    "                2: 1,\n",
    "                3: 1}"
   ]
  },
  {
   "cell_type": "code",
   "execution_count": 12,
   "metadata": {},
   "outputs": [
    {
     "name": "stdout",
     "output_type": "stream",
     "text": [
      "Epoch 1/60\n",
      "54/53 [==============================] - 20s 370ms/step - loss: 1.2829 - acc: 0.3566 - auc: 0.5394 - precision: 0.0000e+00 - recall: 0.0000e+00 - f1score: 0.1006 - val_loss: 1.3668 - val_acc: 0.3240 - val_auc: 0.5701 - val_precision: 0.0000e+00 - val_recall: 0.0000e+00 - val_f1score: 0.1019\n",
      "Epoch 2/60\n",
      "54/53 [==============================] - 14s 267ms/step - loss: 1.2699 - acc: 0.3735 - auc: 0.5854 - precision: 0.0000e+00 - recall: 0.0000e+00 - f1score: 0.1029 - val_loss: 1.3252 - val_acc: 0.3566 - val_auc: 0.6004 - val_precision: 0.0000e+00 - val_recall: 0.0000e+00 - val_f1score: 0.1061\n",
      "Epoch 3/60\n",
      "54/53 [==============================] - 15s 274ms/step - loss: 1.1915 - acc: 0.4441 - auc: 0.6204 - precision: 0.5296 - recall: 0.0050 - f1score: 0.1130 - val_loss: 1.2148 - val_acc: 0.4662 - val_auc: 0.6385 - val_precision: 0.5194 - val_recall: 0.0139 - val_f1score: 0.1177\n",
      "Epoch 4/60\n",
      "54/53 [==============================] - 15s 270ms/step - loss: 1.1099 - acc: 0.4889 - auc: 0.6572 - precision: 0.5676 - recall: 0.0326 - f1score: 0.1237 - val_loss: 1.1808 - val_acc: 0.4569 - val_auc: 0.6700 - val_precision: 0.5785 - val_recall: 0.0452 - val_f1score: 0.1212\n",
      "Epoch 5/60\n",
      "54/53 [==============================] - 15s 273ms/step - loss: 1.0732 - acc: 0.4942 - auc: 0.6807 - precision: 0.5830 - recall: 0.0577 - f1score: 0.1276 - val_loss: 1.1655 - val_acc: 0.4802 - val_auc: 0.6905 - val_precision: 0.5922 - val_recall: 0.0742 - val_f1score: 0.1295\n",
      "Epoch 6/60\n",
      "54/53 [==============================] - 15s 271ms/step - loss: 1.0753 - acc: 0.4878 - auc: 0.6969 - precision: 0.5948 - recall: 0.0888 - f1score: 0.1292 - val_loss: 1.1546 - val_acc: 0.4685 - val_auc: 0.7033 - val_precision: 0.6033 - val_recall: 0.1001 - val_f1score: 0.1269\n",
      "Epoch 7/60\n",
      "54/53 [==============================] - 15s 274ms/step - loss: 1.0353 - acc: 0.5076 - auc: 0.7093 - precision: 0.6111 - recall: 0.1112 - f1score: 0.1335 - val_loss: 1.1435 - val_acc: 0.4709 - val_auc: 0.7149 - val_precision: 0.6113 - val_recall: 0.1225 - val_f1score: 0.1291\n",
      "Epoch 8/60\n",
      "54/53 [==============================] - 15s 270ms/step - loss: 1.0305 - acc: 0.5105 - auc: 0.7198 - precision: 0.6134 - recall: 0.1316 - f1score: 0.1340 - val_loss: 1.1269 - val_acc: 0.5152 - val_auc: 0.7241 - val_precision: 0.6172 - val_recall: 0.1394 - val_f1score: 0.1305\n",
      "Epoch 9/60\n",
      "54/53 [==============================] - 15s 272ms/step - loss: 1.0114 - acc: 0.5227 - auc: 0.7283 - precision: 0.6216 - recall: 0.1470 - f1score: 0.1365 - val_loss: 1.1593 - val_acc: 0.4965 - val_auc: 0.7321 - val_precision: 0.6232 - val_recall: 0.1542 - val_f1score: 0.1310\n",
      "Epoch 10/60\n",
      "54/53 [==============================] - 15s 278ms/step - loss: 1.0009 - acc: 0.5227 - auc: 0.7356 - precision: 0.6239 - recall: 0.1612 - f1score: 0.1380 - val_loss: 1.1362 - val_acc: 0.4988 - val_auc: 0.7387 - val_precision: 0.6254 - val_recall: 0.1675 - val_f1score: 0.1329\n",
      "Epoch 11/60\n",
      "54/53 [==============================] - 15s 277ms/step - loss: 0.9871 - acc: 0.5367 - auc: 0.7417 - precision: 0.6274 - recall: 0.1736 - f1score: 0.1389 - val_loss: 1.1497 - val_acc: 0.4802 - val_auc: 0.7444 - val_precision: 0.6301 - val_recall: 0.1797 - val_f1score: 0.1336\n",
      "Epoch 12/60\n",
      "54/53 [==============================] - 15s 275ms/step - loss: 0.9919 - acc: 0.5169 - auc: 0.7470 - precision: 0.6314 - recall: 0.1860 - f1score: 0.1391 - val_loss: 1.1325 - val_acc: 0.4825 - val_auc: 0.7487 - val_precision: 0.6317 - val_recall: 0.1906 - val_f1score: 0.1318\n",
      "Epoch 13/60\n",
      "54/53 [==============================] - 15s 277ms/step - loss: 0.9861 - acc: 0.5192 - auc: 0.7508 - precision: 0.6343 - recall: 0.1961 - f1score: 0.1394 - val_loss: 1.1243 - val_acc: 0.4755 - val_auc: 0.7525 - val_precision: 0.6346 - val_recall: 0.2005 - val_f1score: 0.1334\n",
      "Epoch 14/60\n",
      "54/53 [==============================] - 15s 272ms/step - loss: 0.9722 - acc: 0.5478 - auc: 0.7548 - precision: 0.6364 - recall: 0.2058 - f1score: 0.1416 - val_loss: 1.1121 - val_acc: 0.4988 - val_auc: 0.7564 - val_precision: 0.6372 - val_recall: 0.2093 - val_f1score: 0.1335\n",
      "Epoch 15/60\n",
      "54/53 [==============================] - 15s 275ms/step - loss: 0.9634 - acc: 0.5350 - auc: 0.7583 - precision: 0.6392 - recall: 0.2127 - f1score: 0.1421 - val_loss: 1.1131 - val_acc: 0.4965 - val_auc: 0.7600 - val_precision: 0.6399 - val_recall: 0.2169 - val_f1score: 0.1345\n",
      "Epoch 16/60\n",
      "54/53 [==============================] - 15s 275ms/step - loss: 0.9622 - acc: 0.5338 - auc: 0.7616 - precision: 0.6404 - recall: 0.2202 - f1score: 0.1415 - val_loss: 1.1054 - val_acc: 0.5058 - val_auc: 0.7631 - val_precision: 0.6405 - val_recall: 0.2231 - val_f1score: 0.1354\n",
      "Epoch 17/60\n",
      "54/53 [==============================] - 15s 273ms/step - loss: 0.9384 - acc: 0.5659 - auc: 0.7651 - precision: 0.6426 - recall: 0.2277 - f1score: 0.1456 - val_loss: 1.1375 - val_acc: 0.4615 - val_auc: 0.7664 - val_precision: 0.6424 - val_recall: 0.2316 - val_f1score: 0.1341\n",
      "Epoch 18/60\n",
      "54/53 [==============================] - 15s 276ms/step - loss: 0.9454 - acc: 0.5484 - auc: 0.7677 - precision: 0.6425 - recall: 0.2348 - f1score: 0.1438 - val_loss: 1.1146 - val_acc: 0.4825 - val_auc: 0.7690 - val_precision: 0.6429 - val_recall: 0.2379 - val_f1score: 0.1355\n",
      "Epoch 19/60\n",
      "54/53 [==============================] - 15s 275ms/step - loss: 0.9465 - acc: 0.5524 - auc: 0.7703 - precision: 0.6441 - recall: 0.2407 - f1score: 0.1442 - val_loss: 1.1536 - val_acc: 0.4615 - val_auc: 0.7713 - val_precision: 0.6443 - val_recall: 0.2436 - val_f1score: 0.1327\n",
      "Epoch 20/60\n",
      "54/53 [==============================] - 15s 275ms/step - loss: 0.9336 - acc: 0.5530 - auc: 0.7723 - precision: 0.6445 - recall: 0.2464 - f1score: 0.1450 - val_loss: 1.1414 - val_acc: 0.4918 - val_auc: 0.7734 - val_precision: 0.6451 - val_recall: 0.2492 - val_f1score: 0.1351\n",
      "Epoch 21/60\n",
      "54/53 [==============================] - 15s 276ms/step - loss: 0.9378 - acc: 0.5490 - auc: 0.7745 - precision: 0.6461 - recall: 0.2520 - f1score: 0.1451 - val_loss: 1.0982 - val_acc: 0.5035 - val_auc: 0.7755 - val_precision: 0.6466 - val_recall: 0.2537 - val_f1score: 0.1363\n",
      "Epoch 22/60\n",
      "54/53 [==============================] - 15s 274ms/step - loss: 0.9119 - acc: 0.5705 - auc: 0.7768 - precision: 0.6477 - recall: 0.2565 - f1score: 0.1485 - val_loss: 1.0939 - val_acc: 0.4918 - val_auc: 0.7780 - val_precision: 0.6482 - val_recall: 0.2593 - val_f1score: 0.1370\n",
      "Epoch 23/60\n",
      "54/53 [==============================] - 15s 274ms/step - loss: 0.9204 - acc: 0.5554 - auc: 0.7790 - precision: 0.6488 - recall: 0.2613 - f1score: 0.1462 - val_loss: 1.0912 - val_acc: 0.5058 - val_auc: 0.7799 - val_precision: 0.6491 - val_recall: 0.2634 - val_f1score: 0.1370\n",
      "Epoch 24/60\n",
      "54/53 [==============================] - 15s 275ms/step - loss: 0.9035 - acc: 0.5787 - auc: 0.7810 - precision: 0.6499 - recall: 0.2656 - f1score: 0.1485 - val_loss: 1.1254 - val_acc: 0.4802 - val_auc: 0.7819 - val_precision: 0.6498 - val_recall: 0.2679 - val_f1score: 0.1359\n",
      "Epoch 25/60\n",
      "54/53 [==============================] - 15s 277ms/step - loss: 0.9106 - acc: 0.5688 - auc: 0.7828 - precision: 0.6494 - recall: 0.2700 - f1score: 0.1478 - val_loss: 1.1206 - val_acc: 0.4918 - val_auc: 0.7837 - val_precision: 0.6503 - val_recall: 0.2722 - val_f1score: 0.1356\n",
      "Epoch 26/60\n",
      "54/53 [==============================] - 15s 277ms/step - loss: 0.9021 - acc: 0.5775 - auc: 0.7847 - precision: 0.6511 - recall: 0.2747 - f1score: 0.1496 - val_loss: 1.0601 - val_acc: 0.5175 - val_auc: 0.7855 - val_precision: 0.6519 - val_recall: 0.2769 - val_f1score: 0.1396\n",
      "Epoch 27/60\n",
      "54/53 [==============================] - 15s 274ms/step - loss: 0.8924 - acc: 0.5647 - auc: 0.7866 - precision: 0.6529 - recall: 0.2788 - f1score: 0.1501 - val_loss: 1.0713 - val_acc: 0.5152 - val_auc: 0.7874 - val_precision: 0.6526 - val_recall: 0.2809 - val_f1score: 0.1391\n",
      "Epoch 28/60\n",
      "54/53 [==============================] - 15s 276ms/step - loss: 0.8941 - acc: 0.5816 - auc: 0.7883 - precision: 0.6535 - recall: 0.2824 - f1score: 0.1494 - val_loss: 1.1622 - val_acc: 0.4662 - val_auc: 0.7890 - val_precision: 0.6536 - val_recall: 0.2842 - val_f1score: 0.1340\n",
      "Epoch 29/60\n",
      "54/53 [==============================] - 15s 276ms/step - loss: 0.8858 - acc: 0.5793 - auc: 0.7897 - precision: 0.6532 - recall: 0.2859 - f1score: 0.1507 - val_loss: 1.1275 - val_acc: 0.4918 - val_auc: 0.7905 - val_precision: 0.6535 - val_recall: 0.2878 - val_f1score: 0.1386\n",
      "Epoch 30/60\n",
      "54/53 [==============================] - 15s 276ms/step - loss: 0.8971 - acc: 0.5763 - auc: 0.7913 - precision: 0.6536 - recall: 0.2900 - f1score: 0.1504 - val_loss: 1.0834 - val_acc: 0.5221 - val_auc: 0.7918 - val_precision: 0.6540 - val_recall: 0.2913 - val_f1score: 0.1366\n",
      "Epoch 31/60\n",
      "54/53 [==============================] - 15s 276ms/step - loss: 0.8826 - acc: 0.5851 - auc: 0.7926 - precision: 0.6546 - recall: 0.2925 - f1score: 0.1507 - val_loss: 1.0970 - val_acc: 0.5315 - val_auc: 0.7933 - val_precision: 0.6549 - val_recall: 0.2943 - val_f1score: 0.1385\n",
      "Epoch 32/60\n",
      "54/53 [==============================] - 15s 276ms/step - loss: 0.8737 - acc: 0.5828 - auc: 0.7941 - precision: 0.6558 - recall: 0.2960 - f1score: 0.1516 - val_loss: 1.1550 - val_acc: 0.4732 - val_auc: 0.7946 - val_precision: 0.6558 - val_recall: 0.2975 - val_f1score: 0.1346\n",
      "Epoch 33/60\n",
      "54/53 [==============================] - 15s 277ms/step - loss: 0.8812 - acc: 0.5851 - auc: 0.7952 - precision: 0.6562 - recall: 0.2990 - f1score: 0.1519 - val_loss: 1.0615 - val_acc: 0.5291 - val_auc: 0.7959 - val_precision: 0.6569 - val_recall: 0.3008 - val_f1score: 0.1412\n",
      "Epoch 34/60\n",
      "54/53 [==============================] - 15s 276ms/step - loss: 0.8670 - acc: 0.5874 - auc: 0.7966 - precision: 0.6572 - recall: 0.3023 - f1score: 0.1526 - val_loss: 1.0726 - val_acc: 0.5455 - val_auc: 0.7973 - val_precision: 0.6574 - val_recall: 0.3039 - val_f1score: 0.1420\n",
      "Epoch 35/60\n",
      "54/53 [==============================] - 15s 276ms/step - loss: 0.8610 - acc: 0.5909 - auc: 0.7981 - precision: 0.6580 - recall: 0.3057 - f1score: 0.1539 - val_loss: 1.0970 - val_acc: 0.4895 - val_auc: 0.7986 - val_precision: 0.6582 - val_recall: 0.3073 - val_f1score: 0.1399\n",
      "Epoch 36/60\n",
      "54/53 [==============================] - 15s 277ms/step - loss: 0.8538 - acc: 0.6031 - auc: 0.7993 - precision: 0.6588 - recall: 0.3089 - f1score: 0.1540 - val_loss: 1.0670 - val_acc: 0.5431 - val_auc: 0.8000 - val_precision: 0.6595 - val_recall: 0.3105 - val_f1score: 0.1420\n",
      "Epoch 37/60\n",
      "54/53 [==============================] - 15s 276ms/step - loss: 0.8439 - acc: 0.5880 - auc: 0.8007 - precision: 0.6599 - recall: 0.3122 - f1score: 0.1555 - val_loss: 1.1788 - val_acc: 0.4872 - val_auc: 0.8012 - val_precision: 0.6597 - val_recall: 0.3137 - val_f1score: 0.1352\n",
      "Epoch 38/60\n",
      "54/53 [==============================] - 15s 276ms/step - loss: 0.8511 - acc: 0.5845 - auc: 0.8018 - precision: 0.6597 - recall: 0.3152 - f1score: 0.1551 - val_loss: 1.1098 - val_acc: 0.4685 - val_auc: 0.8023 - val_precision: 0.6595 - val_recall: 0.3164 - val_f1score: 0.1387\n",
      "Epoch 39/60\n",
      "54/53 [==============================] - 15s 277ms/step - loss: 0.8418 - acc: 0.6090 - auc: 0.8029 - precision: 0.6601 - recall: 0.3177 - f1score: 0.1554 - val_loss: 1.0816 - val_acc: 0.5455 - val_auc: 0.8035 - val_precision: 0.6605 - val_recall: 0.3193 - val_f1score: 0.1427\n",
      "Epoch 40/60\n",
      "54/53 [==============================] - 15s 276ms/step - loss: 0.8296 - acc: 0.6020 - auc: 0.8042 - precision: 0.6609 - recall: 0.3208 - f1score: 0.1572 - val_loss: 1.0884 - val_acc: 0.4988 - val_auc: 0.8048 - val_precision: 0.6608 - val_recall: 0.3222 - val_f1score: 0.1430\n",
      "Epoch 41/60\n",
      "54/53 [==============================] - 15s 276ms/step - loss: 0.8272 - acc: 0.6031 - auc: 0.8054 - precision: 0.6610 - recall: 0.3237 - f1score: 0.1574 - val_loss: 1.0815 - val_acc: 0.5198 - val_auc: 0.8060 - val_precision: 0.6613 - val_recall: 0.3252 - val_f1score: 0.1425\n",
      "Epoch 42/60\n",
      "54/53 [==============================] - 15s 275ms/step - loss: 0.8213 - acc: 0.6008 - auc: 0.8066 - precision: 0.6620 - recall: 0.3267 - f1score: 0.1575 - val_loss: 1.1094 - val_acc: 0.5315 - val_auc: 0.8072 - val_precision: 0.6621 - val_recall: 0.3281 - val_f1score: 0.1414\n",
      "Epoch 43/60\n",
      "54/53 [==============================] - 15s 276ms/step - loss: 0.8379 - acc: 0.6031 - auc: 0.8077 - precision: 0.6623 - recall: 0.3294 - f1score: 0.1560 - val_loss: 1.0666 - val_acc: 0.5315 - val_auc: 0.8082 - val_precision: 0.6627 - val_recall: 0.3308 - val_f1score: 0.1430\n",
      "Epoch 44/60\n",
      "54/53 [==============================] - 15s 275ms/step - loss: 0.8197 - acc: 0.5991 - auc: 0.8088 - precision: 0.6630 - recall: 0.3322 - f1score: 0.1579 - val_loss: 1.0686 - val_acc: 0.5291 - val_auc: 0.8093 - val_precision: 0.6629 - val_recall: 0.3335 - val_f1score: 0.1434\n",
      "Epoch 45/60\n",
      "54/53 [==============================] - 15s 275ms/step - loss: 0.8268 - acc: 0.6078 - auc: 0.8099 - precision: 0.6631 - recall: 0.3348 - f1score: 0.1573 - val_loss: 1.0448 - val_acc: 0.5548 - val_auc: 0.8104 - val_precision: 0.6633 - val_recall: 0.3360 - val_f1score: 0.1458\n",
      "Epoch 46/60\n",
      "54/53 [==============================] - 15s 273ms/step - loss: 0.8027 - acc: 0.6078 - auc: 0.8110 - precision: 0.6638 - recall: 0.3374 - f1score: 0.1595 - val_loss: 1.0770 - val_acc: 0.5524 - val_auc: 0.8115 - val_precision: 0.6640 - val_recall: 0.3388 - val_f1score: 0.1458\n",
      "Epoch 47/60\n",
      "54/53 [==============================] - 15s 275ms/step - loss: 0.8078 - acc: 0.6154 - auc: 0.8121 - precision: 0.6643 - recall: 0.3401 - f1score: 0.1599 - val_loss: 1.1166 - val_acc: 0.5152 - val_auc: 0.8126 - val_precision: 0.6645 - val_recall: 0.3413 - val_f1score: 0.1408\n",
      "Epoch 48/60\n",
      "54/53 [==============================] - 15s 276ms/step - loss: 0.8059 - acc: 0.6294 - auc: 0.8131 - precision: 0.6650 - recall: 0.3426 - f1score: 0.1599 - val_loss: 1.1036 - val_acc: 0.5035 - val_auc: 0.8135 - val_precision: 0.6652 - val_recall: 0.3438 - val_f1score: 0.1411\n",
      "Epoch 49/60\n",
      "54/53 [==============================] - 15s 275ms/step - loss: 0.8059 - acc: 0.6300 - auc: 0.8141 - precision: 0.6657 - recall: 0.3450 - f1score: 0.1596 - val_loss: 1.1255 - val_acc: 0.4965 - val_auc: 0.8145 - val_precision: 0.6657 - val_recall: 0.3462 - val_f1score: 0.1419\n",
      "Epoch 50/60\n",
      "54/53 [==============================] - 15s 276ms/step - loss: 0.7895 - acc: 0.6218 - auc: 0.8150 - precision: 0.6661 - recall: 0.3475 - f1score: 0.1611 - val_loss: 1.1255 - val_acc: 0.5012 - val_auc: 0.8155 - val_precision: 0.6665 - val_recall: 0.3488 - val_f1score: 0.1413\n",
      "Epoch 51/60\n",
      "54/53 [==============================] - 15s 275ms/step - loss: 0.7901 - acc: 0.6270 - auc: 0.8159 - precision: 0.6668 - recall: 0.3500 - f1score: 0.1616 - val_loss: 1.1006 - val_acc: 0.5082 - val_auc: 0.8164 - val_precision: 0.6671 - val_recall: 0.3513 - val_f1score: 0.1441\n",
      "Epoch 52/60\n",
      "54/53 [==============================] - 15s 276ms/step - loss: 0.8048 - acc: 0.6247 - auc: 0.8169 - precision: 0.6673 - recall: 0.3525 - f1score: 0.1607 - val_loss: 1.0750 - val_acc: 0.5501 - val_auc: 0.8174 - val_precision: 0.6676 - val_recall: 0.3537 - val_f1score: 0.1460\n",
      "Epoch 53/60\n",
      "54/53 [==============================] - 15s 276ms/step - loss: 0.7910 - acc: 0.6381 - auc: 0.8178 - precision: 0.6679 - recall: 0.3550 - f1score: 0.1619 - val_loss: 1.0996 - val_acc: 0.4988 - val_auc: 0.8183 - val_precision: 0.6684 - val_recall: 0.3563 - val_f1score: 0.1434\n",
      "Epoch 54/60\n",
      "54/53 [==============================] - 15s 277ms/step - loss: 0.7823 - acc: 0.6265 - auc: 0.8187 - precision: 0.6686 - recall: 0.3574 - f1score: 0.1622 - val_loss: 1.1310 - val_acc: 0.5058 - val_auc: 0.8192 - val_precision: 0.6688 - val_recall: 0.3586 - val_f1score: 0.1424\n",
      "Epoch 55/60\n",
      "54/53 [==============================] - 15s 276ms/step - loss: 0.7819 - acc: 0.6364 - auc: 0.8196 - precision: 0.6690 - recall: 0.3598 - f1score: 0.1624 - val_loss: 1.1096 - val_acc: 0.5291 - val_auc: 0.8200 - val_precision: 0.6694 - val_recall: 0.3611 - val_f1score: 0.1453\n",
      "Epoch 56/60\n",
      "54/53 [==============================] - 15s 278ms/step - loss: 0.7668 - acc: 0.6422 - auc: 0.8205 - precision: 0.6700 - recall: 0.3625 - f1score: 0.1640 - val_loss: 1.1128 - val_acc: 0.5128 - val_auc: 0.8209 - val_precision: 0.6702 - val_recall: 0.3636 - val_f1score: 0.1443\n",
      "Epoch 57/60\n"
     ]
    },
    {
     "name": "stdout",
     "output_type": "stream",
     "text": [
      "54/53 [==============================] - 15s 277ms/step - loss: 0.7674 - acc: 0.6358 - auc: 0.8214 - precision: 0.6704 - recall: 0.3647 - f1score: 0.1632 - val_loss: 1.1409 - val_acc: 0.5175 - val_auc: 0.8218 - val_precision: 0.6707 - val_recall: 0.3659 - val_f1score: 0.1435\n",
      "Epoch 58/60\n",
      "54/53 [==============================] - 15s 277ms/step - loss: 0.7746 - acc: 0.6364 - auc: 0.8222 - precision: 0.6710 - recall: 0.3670 - f1score: 0.1638 - val_loss: 1.1335 - val_acc: 0.5082 - val_auc: 0.8226 - val_precision: 0.6711 - val_recall: 0.3681 - val_f1score: 0.1428\n",
      "Epoch 59/60\n",
      "54/53 [==============================] - 15s 274ms/step - loss: 0.7619 - acc: 0.6416 - auc: 0.8230 - precision: 0.6715 - recall: 0.3693 - f1score: 0.1646 - val_loss: 1.0613 - val_acc: 0.5408 - val_auc: 0.8234 - val_precision: 0.6718 - val_recall: 0.3704 - val_f1score: 0.1467\n",
      "Epoch 60/60\n",
      "54/53 [==============================] - 15s 277ms/step - loss: 0.7773 - acc: 0.6230 - auc: 0.8239 - precision: 0.6720 - recall: 0.3714 - f1score: 0.1627 - val_loss: 1.0736 - val_acc: 0.5431 - val_auc: 0.8242 - val_precision: 0.6721 - val_recall: 0.3723 - val_f1score: 0.1459\n"
     ]
    }
   ],
   "source": [
    "history = additional_model.fit_generator(dgf, \n",
    "            steps_per_epoch=len(X_train)/32, \n",
    "            epochs=60, \n",
    "            validation_data=(X_val,y_val), \n",
    "            validation_steps=len(X_val)/32, \n",
    "            callbacks=[checkpoint],\n",
    "            class_weight=class_weight)"
   ]
  },
  {
   "cell_type": "code",
   "execution_count": 13,
   "metadata": {},
   "outputs": [
    {
     "data": {
      "image/png": "[encoded data removed]",
      "text/plain": [
       "<Figure size 432x288 with 1 Axes>"
      ]
     },
     "metadata": {
      "needs_background": "light"
     },
     "output_type": "display_data"
    },
    {
     "data": {
      "image/png": "[encoded data removed]",
      "text/plain": [
       "<Figure size 432x288 with 1 Axes>"
      ]
     },
     "metadata": {
      "needs_background": "light"
     },
     "output_type": "display_data"
    }
   ],
   "source": [
    "acc = history.history['acc']\n",
    "val_acc = history.history['val_acc']\n",
    "loss = history.history['loss']\n",
    "val_loss = history.history['val_loss']\n",
    " \n",
    "epochs = range(1, len(acc) + 1)\n",
    " \n",
    "plt.plot(epochs, acc, 'bo', label='Training acc')\n",
    "plt.plot(epochs, val_acc, 'r', label='Validation acc')\n",
    "plt.title('Accuracy')\n",
    "plt.legend()\n",
    "plt.figure()\n",
    " \n",
    "plt.plot(epochs, loss, 'bo', label='Training loss')\n",
    "plt.plot(epochs, val_loss, 'r', label='Validation loss')\n",
    "plt.title('Loss')\n",
    "plt.legend()\n",
    " \n",
    "plt.show()"
   ]
  },
  {
   "cell_type": "code",
   "execution_count": 18,
   "metadata": {},
   "outputs": [
    {
     "name": "stdout",
     "output_type": "stream",
     "text": [
      "429/429 [==============================] - 1s 3ms/step\n",
      "loss: 1.074, accuracy: 0.543, auc: 0.824, precision: 0.672, recall: 0.373, f1score: 0.146\n"
     ]
    }
   ],
   "source": [
    "_loss, _acc, _auc, _precision, _recall, _f1score = additional_model.evaluate(X_val, y_val, batch_size=32)\n",
    "print('loss: {:.3f}, accuracy: {:.3f}, auc: {:.3f}, precision: {:.3f}, recall: {:.3f}, f1score: {:.3f}'.format(_loss, _acc, _auc, _precision, _recall, _f1score))"
   ]
  },
  {
   "cell_type": "code",
   "execution_count": 19,
   "metadata": {},
   "outputs": [],
   "source": [
    "from keras.models import Model, load_model\n",
    "\n",
    "new_model = models.load_model('VGG16_2.hdf5',compile=False)\n",
    "\n",
    "\n",
    "new_model.compile(loss='categorical_crossentropy', \n",
    "              optimizer=optimizers.Adam(lr=1e-5),\n",
    "              metrics=['acc',tf.keras.metrics.AUC(),\n",
    "                      tf.keras.metrics.Precision(),\n",
    "                      tf.keras.metrics.Recall(),f1score])"
   ]
  },
  {
   "cell_type": "code",
   "execution_count": 20,
   "metadata": {},
   "outputs": [
    {
     "name": "stdout",
     "output_type": "stream",
     "text": [
      "429/429 [==============================] - 1s 3ms/step\n",
      "loss: 1.045, accuracy: 0.555, auc: 0.806, precision: 0.599, recall: 0.378, f1score: 0.146\n"
     ]
    }
   ],
   "source": [
    "X_test=np.load('X_val_with_callback.npy')\n",
    "y_test=np.load('y_val_with_callback.npy')"
   ]
  },
  {
   "cell_type": "code",
   "execution_count": 19,
   "metadata": {},
   "outputs": [],
   "source": [
    "_loss, _acc, _auc, _precision, _recall, _f1score =new_model.evaluate(X_test, y_test, batch_size=32)\n",
    "print('loss: {:.3f}, accuracy: {:.3f}, auc: {:.3f}, precision: {:.3f}, recall: {:.3f}, f1score: {:.3f}'.format(_loss, _acc, _auc, _precision, _recall, _f1score))"
   ]
  },
  {
   "cell_type": "code",
   "execution_count": null,
   "metadata": {},
   "outputs": [],
   "source": []
  }
 ],
 "metadata": {
  "kernelspec": {
   "display_name": "Python 3",
   "language": "python",
   "name": "python3"
  },
  "language_info": {
   "codemirror_mode": {
    "name": "ipython",
    "version": 3
   },
   "file_extension": ".py",
   "mimetype": "text/x-python",
   "name": "python",
   "nbconvert_exporter": "python",
   "pygments_lexer": "ipython3",
   "version": "3.7.7"
  }
 },
 "nbformat": 4,
 "nbformat_minor": 2
}
