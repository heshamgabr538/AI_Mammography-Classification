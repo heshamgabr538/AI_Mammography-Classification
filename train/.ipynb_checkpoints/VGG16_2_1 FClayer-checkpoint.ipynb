{
 "cells": [
  {
   "cell_type": "code",
   "execution_count": 1,
   "metadata": {},
   "outputs": [
    {
     "data": {
      "text/plain": [
       "'C:\\\\Users\\\\Owner2\\\\Desktop\\\\G팔로미_vuno'"
      ]
     },
     "execution_count": 1,
     "metadata": {},
     "output_type": "execute_result"
    }
   ],
   "source": [
    "import os\n",
    "import pandas as pd\n",
    "from matplotlib import pyplot as plt\n",
    "import cv2\n",
    "import numpy as np\n",
    "\n",
    "#data path 수정\n",
    "os.chdir(\"C:\\\\Users\\\\Owner2\\\\Desktop\\\\G팔로미_vuno\")\n",
    "os.getcwd()"
   ]
  },
  {
   "cell_type": "code",
   "execution_count": 2,
   "metadata": {},
   "outputs": [],
   "source": [
    "X=np.load('data_X.npy')\n",
    "y=np.load('data_y.npy')"
   ]
  },
  {
   "cell_type": "code",
   "execution_count": 3,
   "metadata": {},
   "outputs": [
    {
     "data": {
      "text/plain": [
       "1712"
      ]
     },
     "execution_count": 3,
     "metadata": {},
     "output_type": "execute_result"
    }
   ],
   "source": [
    "len(X)"
   ]
  },
  {
   "cell_type": "code",
   "execution_count": 4,
   "metadata": {},
   "outputs": [],
   "source": [
    "#train, validation set 분리\n",
    "from sklearn.model_selection import train_test_split\n",
    "\n",
    "X_train, X_val, y_train, y_val = train_test_split(X,y,test_size=0.2, random_state=123)"
   ]
  },
  {
   "cell_type": "code",
   "execution_count": 5,
   "metadata": {},
   "outputs": [
    {
     "name": "stderr",
     "output_type": "stream",
     "text": [
      "Using TensorFlow backend.\n"
     ]
    }
   ],
   "source": [
    "from keras.preprocessing.image import ImageDataGenerator\n",
    "\n",
    "datagen = ImageDataGenerator(\n",
    "    #featurewise_center=True, #center 중심 유지\n",
    "    #featurewise_std_normalization=True, #normalization\n",
    "    rotation_range=25.0,\n",
    "    #width_shift_range=0.2,\n",
    "    #height_shift_range=0.2,\n",
    "    #brightness_range=[0.2,1.0],\n",
    "    zoom_range=[0.8,1.2],\n",
    "    horizontal_flip=True) #수평방향 뒤집기\n",
    "\n",
    "datagen.fit(X_train)\n",
    "\n",
    "dgf=datagen.flow(X_train,y_train,batch_size=32)"
   ]
  },
  {
   "cell_type": "code",
   "execution_count": 6,
   "metadata": {},
   "outputs": [
    {
     "name": "stdout",
     "output_type": "stream",
     "text": [
      "Model: \"vgg16\"\n",
      "_________________________________________________________________\n",
      "Layer (type)                 Output Shape              Param #   \n",
      "=================================================================\n",
      "input_1 (InputLayer)         (None, 224, 224, 3)       0         \n",
      "_________________________________________________________________\n",
      "block1_conv1 (Conv2D)        (None, 224, 224, 64)      1792      \n",
      "_________________________________________________________________\n",
      "block1_conv2 (Conv2D)        (None, 224, 224, 64)      36928     \n",
      "_________________________________________________________________\n",
      "block1_pool (MaxPooling2D)   (None, 112, 112, 64)      0         \n",
      "_________________________________________________________________\n",
      "block2_conv1 (Conv2D)        (None, 112, 112, 128)     73856     \n",
      "_________________________________________________________________\n",
      "block2_conv2 (Conv2D)        (None, 112, 112, 128)     147584    \n",
      "_________________________________________________________________\n",
      "block2_pool (MaxPooling2D)   (None, 56, 56, 128)       0         \n",
      "_________________________________________________________________\n",
      "block3_conv1 (Conv2D)        (None, 56, 56, 256)       295168    \n",
      "_________________________________________________________________\n",
      "block3_conv2 (Conv2D)        (None, 56, 56, 256)       590080    \n",
      "_________________________________________________________________\n",
      "block3_conv3 (Conv2D)        (None, 56, 56, 256)       590080    \n",
      "_________________________________________________________________\n",
      "block3_pool (MaxPooling2D)   (None, 28, 28, 256)       0         \n",
      "_________________________________________________________________\n",
      "block4_conv1 (Conv2D)        (None, 28, 28, 512)       1180160   \n",
      "_________________________________________________________________\n",
      "block4_conv2 (Conv2D)        (None, 28, 28, 512)       2359808   \n",
      "_________________________________________________________________\n",
      "block4_conv3 (Conv2D)        (None, 28, 28, 512)       2359808   \n",
      "_________________________________________________________________\n",
      "block4_pool (MaxPooling2D)   (None, 14, 14, 512)       0         \n",
      "_________________________________________________________________\n",
      "block5_conv1 (Conv2D)        (None, 14, 14, 512)       2359808   \n",
      "_________________________________________________________________\n",
      "block5_conv2 (Conv2D)        (None, 14, 14, 512)       2359808   \n",
      "_________________________________________________________________\n",
      "block5_conv3 (Conv2D)        (None, 14, 14, 512)       2359808   \n",
      "_________________________________________________________________\n",
      "block5_pool (MaxPooling2D)   (None, 7, 7, 512)         0         \n",
      "=================================================================\n",
      "Total params: 14,714,688\n",
      "Trainable params: 14,714,688\n",
      "Non-trainable params: 0\n",
      "_________________________________________________________________\n"
     ]
    }
   ],
   "source": [
    "from keras import models, layers\n",
    "from keras import Input\n",
    "from keras.applications import VGG16\n",
    "from keras.models import Model, load_model\n",
    "from keras.preprocessing.image import ImageDataGenerator\n",
    "from keras import optimizers, initializers, regularizers, metrics\n",
    "from keras.callbacks import ModelCheckpoint, EarlyStopping\n",
    "from keras.layers import BatchNormalization, Conv2D, Activation, Dense, GlobalAveragePooling2D, MaxPooling2D, ZeroPadding2D, Add\n",
    "\n",
    "model = VGG16(weights=None, include_top=False, input_shape=(224, 224, 3))\n",
    "model.trainable = True\n",
    "model.summary()"
   ]
  },
  {
   "cell_type": "code",
   "execution_count": 7,
   "metadata": {},
   "outputs": [
    {
     "name": "stdout",
     "output_type": "stream",
     "text": [
      "Model: \"sequential_1\"\n",
      "_________________________________________________________________\n",
      "Layer (type)                 Output Shape              Param #   \n",
      "=================================================================\n",
      "vgg16 (Model)                (None, 7, 7, 512)         14714688  \n",
      "_________________________________________________________________\n",
      "flatten_1 (Flatten)          (None, 25088)             0         \n",
      "_________________________________________________________________\n",
      "dense_1 (Dense)              (None, 4)                 100356    \n",
      "=================================================================\n",
      "Total params: 14,815,044\n",
      "Trainable params: 14,815,044\n",
      "Non-trainable params: 0\n",
      "_________________________________________________________________\n"
     ]
    }
   ],
   "source": [
    "#customizing my layers\n",
    "additional_model = models.Sequential()\n",
    "additional_model.add(model)\n",
    "additional_model.add(layers.Flatten())\n",
    "additional_model.add(layers.Dense(4, activation='softmax'))\n",
    "\n",
    "additional_model.summary()"
   ]
  },
  {
   "cell_type": "code",
   "execution_count": 8,
   "metadata": {},
   "outputs": [],
   "source": [
    "def f1score(precision, recall):\n",
    "    _f1score = ( 2 * recall * precision) / (recall + precision)\n",
    "    \n",
    "    # return a single tensor value\n",
    "    return _f1score"
   ]
  },
  {
   "cell_type": "code",
   "execution_count": 9,
   "metadata": {},
   "outputs": [],
   "source": [
    "# checkpoint = ModelCheckpoint(filepath='My_VGG_{epoch:03d}_{val_loss:.7f}.hdf5',monitor='loss', mode='min', save_best_only=True)\n",
    "checkpoint = ModelCheckpoint(filepath='VGG16_2.hdf5', \n",
    "            monitor='val_loss', \n",
    "            mode='min', \n",
    "            save_best_only=True)"
   ]
  },
  {
   "cell_type": "code",
   "execution_count": 10,
   "metadata": {},
   "outputs": [],
   "source": [
    "import tensorflow as tf\n",
    "\n",
    "additional_model.compile(loss='categorical_crossentropy', \n",
    "              optimizer=optimizers.Adam(lr=1e-4),\n",
    "              metrics=['acc',tf.keras.metrics.AUC(),\n",
    "                      tf.keras.metrics.Precision(),\n",
    "                      tf.keras.metrics.Recall(),f1score])"
   ]
  },
  {
   "cell_type": "code",
   "execution_count": 11,
   "metadata": {},
   "outputs": [],
   "source": [
    "class_weight = {0: 1.1,\n",
    "                1: 1.1,\n",
    "                2: 1,\n",
    "                3: 1}"
   ]
  },
  {
   "cell_type": "code",
   "execution_count": 12,
   "metadata": {},
   "outputs": [
    {
     "name": "stdout",
     "output_type": "stream",
     "text": [
      "Epoch 1/60\n",
      "43/42 [==============================] - 19s 441ms/step - loss: 1.4499 - acc: 0.2951 - auc: 0.5018 - precision: 0.0000e+00 - recall: 0.0000e+00 - f1score: 0.1001 - val_loss: 1.3822 - val_acc: 0.3732 - val_auc: 0.5232 - val_precision: 0.0000e+00 - val_recall: 0.0000e+00 - val_f1score: 0.1003\n",
      "Epoch 2/60\n",
      "43/42 [==============================] - 12s 283ms/step - loss: 1.4221 - acc: 0.3360 - auc: 0.5499 - precision: 0.0000e+00 - recall: 0.0000e+00 - f1score: 0.1025 - val_loss: 1.2740 - val_acc: 0.3878 - val_auc: 0.5848 - val_precision: 0.0000e+00 - val_recall: 0.0000e+00 - val_f1score: 0.1105\n",
      "Epoch 3/60\n",
      "43/42 [==============================] - 12s 273ms/step - loss: 1.3263 - acc: 0.3871 - auc: 0.6094 - precision: 0.4270 - recall: 0.0101 - f1score: 0.1144 - val_loss: 1.2281 - val_acc: 0.4257 - val_auc: 0.6264 - val_precision: 0.4887 - val_recall: 0.0173 - val_f1score: 0.1162\n",
      "Epoch 4/60\n",
      "43/42 [==============================] - 12s 280ms/step - loss: 1.2945 - acc: 0.3871 - auc: 0.6403 - precision: 0.5036 - recall: 0.0242 - f1score: 0.1180 - val_loss: 1.2486 - val_acc: 0.3557 - val_auc: 0.6501 - val_precision: 0.5045 - val_recall: 0.0310 - val_f1score: 0.1149\n",
      "Epoch 5/60\n",
      "43/42 [==============================] - 12s 283ms/step - loss: 1.2883 - acc: 0.3798 - auc: 0.6560 - precision: 0.5078 - recall: 0.0321 - f1score: 0.1176 - val_loss: 1.2133 - val_acc: 0.3732 - val_auc: 0.6635 - val_precision: 0.5133 - val_recall: 0.0357 - val_f1score: 0.1188\n",
      "Epoch 6/60\n",
      "43/42 [==============================] - 12s 278ms/step - loss: 1.2737 - acc: 0.3842 - auc: 0.6681 - precision: 0.5094 - recall: 0.0385 - f1score: 0.1197 - val_loss: 1.2157 - val_acc: 0.3907 - val_auc: 0.6720 - val_precision: 0.5108 - val_recall: 0.0446 - val_f1score: 0.1199\n",
      "Epoch 7/60\n",
      "43/42 [==============================] - 12s 282ms/step - loss: 1.2688 - acc: 0.3930 - auc: 0.6758 - precision: 0.5063 - recall: 0.0478 - f1score: 0.1198 - val_loss: 1.1995 - val_acc: 0.4082 - val_auc: 0.6794 - val_precision: 0.5088 - val_recall: 0.0498 - val_f1score: 0.1209\n",
      "Epoch 8/60\n",
      "43/42 [==============================] - 12s 276ms/step - loss: 1.2673 - acc: 0.4010 - auc: 0.6819 - precision: 0.5073 - recall: 0.0524 - f1score: 0.1203 - val_loss: 1.1714 - val_acc: 0.4257 - val_auc: 0.6852 - val_precision: 0.5034 - val_recall: 0.0540 - val_f1score: 0.1224\n",
      "Epoch 9/60\n",
      "43/42 [==============================] - 12s 285ms/step - loss: 1.2497 - acc: 0.4076 - auc: 0.6876 - precision: 0.5046 - recall: 0.0554 - f1score: 0.1218 - val_loss: 1.1928 - val_acc: 0.4082 - val_auc: 0.6905 - val_precision: 0.5076 - val_recall: 0.0585 - val_f1score: 0.1212\n",
      "Epoch 10/60\n",
      "43/42 [==============================] - 12s 287ms/step - loss: 1.2557 - acc: 0.4039 - auc: 0.6921 - precision: 0.5058 - recall: 0.0605 - f1score: 0.1219 - val_loss: 1.1687 - val_acc: 0.4286 - val_auc: 0.6943 - val_precision: 0.5071 - val_recall: 0.0623 - val_f1score: 0.1232\n",
      "Epoch 11/60\n",
      "43/42 [==============================] - 12s 287ms/step - loss: 1.2371 - acc: 0.4229 - auc: 0.6962 - precision: 0.5111 - recall: 0.0649 - f1score: 0.1234 - val_loss: 1.1920 - val_acc: 0.3644 - val_auc: 0.6981 - val_precision: 0.5113 - val_recall: 0.0678 - val_f1score: 0.1226\n",
      "Epoch 12/60\n",
      "43/42 [==============================] - 13s 293ms/step - loss: 1.2222 - acc: 0.4310 - auc: 0.6996 - precision: 0.5106 - recall: 0.0703 - f1score: 0.1247 - val_loss: 1.1691 - val_acc: 0.4111 - val_auc: 0.7016 - val_precision: 0.5138 - val_recall: 0.0726 - val_f1score: 0.1252\n",
      "Epoch 13/60\n",
      "43/42 [==============================] - 12s 289ms/step - loss: 1.2262 - acc: 0.4288 - auc: 0.7029 - precision: 0.5152 - recall: 0.0747 - f1score: 0.1247 - val_loss: 1.1728 - val_acc: 0.3878 - val_auc: 0.7044 - val_precision: 0.5147 - val_recall: 0.0771 - val_f1score: 0.1235\n",
      "Epoch 14/60\n",
      "43/42 [==============================] - 12s 289ms/step - loss: 1.2332 - acc: 0.4361 - auc: 0.7055 - precision: 0.5145 - recall: 0.0783 - f1score: 0.1246 - val_loss: 1.1864 - val_acc: 0.4082 - val_auc: 0.7067 - val_precision: 0.5146 - val_recall: 0.0803 - val_f1score: 0.1204\n",
      "Epoch 15/60\n",
      "43/42 [==============================] - 12s 284ms/step - loss: 1.2146 - acc: 0.4463 - auc: 0.7082 - precision: 0.5163 - recall: 0.0807 - f1score: 0.1252 - val_loss: 1.1661 - val_acc: 0.4257 - val_auc: 0.7095 - val_precision: 0.5174 - val_recall: 0.0825 - val_f1score: 0.1250\n",
      "Epoch 16/60\n",
      "43/42 [==============================] - 12s 280ms/step - loss: 1.2133 - acc: 0.4361 - auc: 0.7106 - precision: 0.5183 - recall: 0.0839 - f1score: 0.1257 - val_loss: 1.1754 - val_acc: 0.4198 - val_auc: 0.7118 - val_precision: 0.5194 - val_recall: 0.0851 - val_f1score: 0.1216\n",
      "Epoch 17/60\n",
      "43/42 [==============================] - 12s 284ms/step - loss: 1.2047 - acc: 0.4463 - auc: 0.7129 - precision: 0.5195 - recall: 0.0863 - f1score: 0.1267 - val_loss: 1.1534 - val_acc: 0.4286 - val_auc: 0.7142 - val_precision: 0.5219 - val_recall: 0.0883 - val_f1score: 0.1262\n",
      "Epoch 18/60\n",
      "43/42 [==============================] - 12s 283ms/step - loss: 1.2032 - acc: 0.4492 - auc: 0.7152 - precision: 0.5220 - recall: 0.0903 - f1score: 0.1274 - val_loss: 1.1518 - val_acc: 0.4198 - val_auc: 0.7163 - val_precision: 0.5218 - val_recall: 0.0930 - val_f1score: 0.1271\n",
      "Epoch 19/60\n",
      "43/42 [==============================] - 12s 281ms/step - loss: 1.1976 - acc: 0.4478 - auc: 0.7172 - precision: 0.5231 - recall: 0.0949 - f1score: 0.1270 - val_loss: 1.1440 - val_acc: 0.3994 - val_auc: 0.7183 - val_precision: 0.5239 - val_recall: 0.0965 - val_f1score: 0.1269\n",
      "Epoch 20/60\n",
      "43/42 [==============================] - 12s 281ms/step - loss: 1.1813 - acc: 0.4332 - auc: 0.7193 - precision: 0.5235 - recall: 0.0980 - f1score: 0.1285 - val_loss: 1.1248 - val_acc: 0.4373 - val_auc: 0.7205 - val_precision: 0.5246 - val_recall: 0.0998 - val_f1score: 0.1288\n",
      "Epoch 21/60\n",
      "43/42 [==============================] - 12s 279ms/step - loss: 1.1853 - acc: 0.4565 - auc: 0.7212 - precision: 0.5261 - recall: 0.1017 - f1score: 0.1287 - val_loss: 1.1245 - val_acc: 0.4519 - val_auc: 0.7224 - val_precision: 0.5286 - val_recall: 0.1034 - val_f1score: 0.1284\n",
      "Epoch 22/60\n",
      "43/42 [==============================] - 12s 282ms/step - loss: 1.1681 - acc: 0.4434 - auc: 0.7236 - precision: 0.5307 - recall: 0.1054 - f1score: 0.1308 - val_loss: 1.1193 - val_acc: 0.4082 - val_auc: 0.7245 - val_precision: 0.5311 - val_recall: 0.1076 - val_f1score: 0.1287\n",
      "Epoch 23/60\n",
      "43/42 [==============================] - 12s 281ms/step - loss: 1.1685 - acc: 0.4580 - auc: 0.7255 - precision: 0.5320 - recall: 0.1095 - f1score: 0.1303 - val_loss: 1.1313 - val_acc: 0.4402 - val_auc: 0.7265 - val_precision: 0.5339 - val_recall: 0.1113 - val_f1score: 0.1280\n",
      "Epoch 24/60\n",
      "43/42 [==============================] - 12s 283ms/step - loss: 1.1615 - acc: 0.4529 - auc: 0.7273 - precision: 0.5346 - recall: 0.1131 - f1score: 0.1313 - val_loss: 1.1267 - val_acc: 0.4548 - val_auc: 0.7282 - val_precision: 0.5359 - val_recall: 0.1156 - val_f1score: 0.1294\n",
      "Epoch 25/60\n",
      "43/42 [==============================] - 12s 283ms/step - loss: 1.1633 - acc: 0.4770 - auc: 0.7289 - precision: 0.5366 - recall: 0.1173 - f1score: 0.1306 - val_loss: 1.1228 - val_acc: 0.4665 - val_auc: 0.7299 - val_precision: 0.5374 - val_recall: 0.1184 - val_f1score: 0.1293\n",
      "Epoch 26/60\n",
      "43/42 [==============================] - 12s 284ms/step - loss: 1.1535 - acc: 0.4653 - auc: 0.7307 - precision: 0.5386 - recall: 0.1203 - f1score: 0.1328 - val_loss: 1.1289 - val_acc: 0.4636 - val_auc: 0.7315 - val_precision: 0.5388 - val_recall: 0.1222 - val_f1score: 0.1287\n",
      "Epoch 27/60\n",
      "43/42 [==============================] - 12s 284ms/step - loss: 1.1616 - acc: 0.4828 - auc: 0.7323 - precision: 0.5392 - recall: 0.1236 - f1score: 0.1316 - val_loss: 1.1273 - val_acc: 0.4606 - val_auc: 0.7330 - val_precision: 0.5407 - val_recall: 0.1253 - val_f1score: 0.1303\n",
      "Epoch 28/60\n",
      "43/42 [==============================] - 12s 285ms/step - loss: 1.1414 - acc: 0.4887 - auc: 0.7338 - precision: 0.5407 - recall: 0.1269 - f1score: 0.1332 - val_loss: 1.1117 - val_acc: 0.4869 - val_auc: 0.7347 - val_precision: 0.5417 - val_recall: 0.1287 - val_f1score: 0.1319\n",
      "Epoch 29/60\n"
     ]
    },
    {
     "name": "stdout",
     "output_type": "stream",
     "text": [
      "43/42 [==============================] - 12s 280ms/step - loss: 1.1248 - acc: 0.4989 - auc: 0.7356 - precision: 0.5423 - recall: 0.1304 - f1score: 0.1348 - val_loss: 1.1148 - val_acc: 0.4810 - val_auc: 0.7365 - val_precision: 0.5434 - val_recall: 0.1322 - val_f1score: 0.1322\n",
      "Epoch 30/60\n",
      "43/42 [==============================] - 13s 297ms/step - loss: 1.1240 - acc: 0.4887 - auc: 0.7373 - precision: 0.5445 - recall: 0.1340 - f1score: 0.1347 - val_loss: 1.1269 - val_acc: 0.4869 - val_auc: 0.7381 - val_precision: 0.5458 - val_recall: 0.1358 - val_f1score: 0.1315\n",
      "Epoch 31/60\n",
      "43/42 [==============================] - 12s 290ms/step - loss: 1.1321 - acc: 0.4763 - auc: 0.7388 - precision: 0.5467 - recall: 0.1378 - f1score: 0.1347 - val_loss: 1.0894 - val_acc: 0.4752 - val_auc: 0.7396 - val_precision: 0.5472 - val_recall: 0.1392 - val_f1score: 0.1331\n",
      "Epoch 32/60\n",
      "43/42 [==============================] - 12s 281ms/step - loss: 1.1281 - acc: 0.4879 - auc: 0.7404 - precision: 0.5480 - recall: 0.1412 - f1score: 0.1357 - val_loss: 1.1050 - val_acc: 0.4723 - val_auc: 0.7411 - val_precision: 0.5487 - val_recall: 0.1431 - val_f1score: 0.1315\n",
      "Epoch 33/60\n",
      "43/42 [==============================] - 12s 280ms/step - loss: 1.1213 - acc: 0.4945 - auc: 0.7418 - precision: 0.5499 - recall: 0.1445 - f1score: 0.1354 - val_loss: 1.1019 - val_acc: 0.4694 - val_auc: 0.7425 - val_precision: 0.5508 - val_recall: 0.1459 - val_f1score: 0.1308\n",
      "Epoch 34/60\n",
      "43/42 [==============================] - 12s 284ms/step - loss: 1.1053 - acc: 0.5099 - auc: 0.7432 - precision: 0.5517 - recall: 0.1474 - f1score: 0.1366 - val_loss: 1.1252 - val_acc: 0.4519 - val_auc: 0.7440 - val_precision: 0.5534 - val_recall: 0.1495 - val_f1score: 0.1330\n",
      "Epoch 35/60\n",
      "43/42 [==============================] - 12s 283ms/step - loss: 1.1198 - acc: 0.4974 - auc: 0.7447 - precision: 0.5545 - recall: 0.1515 - f1score: 0.1369 - val_loss: 1.1232 - val_acc: 0.4227 - val_auc: 0.7452 - val_precision: 0.5547 - val_recall: 0.1530 - val_f1score: 0.1319\n",
      "Epoch 36/60\n",
      "43/42 [==============================] - 12s 284ms/step - loss: 1.1197 - acc: 0.5047 - auc: 0.7457 - precision: 0.5553 - recall: 0.1544 - f1score: 0.1354 - val_loss: 1.1276 - val_acc: 0.4431 - val_auc: 0.7463 - val_precision: 0.5561 - val_recall: 0.1559 - val_f1score: 0.1297\n",
      "Epoch 37/60\n",
      "43/42 [==============================] - 12s 288ms/step - loss: 1.1072 - acc: 0.4945 - auc: 0.7468 - precision: 0.5566 - recall: 0.1572 - f1score: 0.1364 - val_loss: 1.1112 - val_acc: 0.4636 - val_auc: 0.7475 - val_precision: 0.5566 - val_recall: 0.1588 - val_f1score: 0.1330\n",
      "Epoch 38/60\n",
      "43/42 [==============================] - 13s 291ms/step - loss: 1.0941 - acc: 0.5026 - auc: 0.7481 - precision: 0.5572 - recall: 0.1606 - f1score: 0.1382 - val_loss: 1.1058 - val_acc: 0.4723 - val_auc: 0.7487 - val_precision: 0.5580 - val_recall: 0.1622 - val_f1score: 0.1315\n",
      "Epoch 39/60\n",
      "43/42 [==============================] - 13s 302ms/step - loss: 1.0888 - acc: 0.5252 - auc: 0.7492 - precision: 0.5588 - recall: 0.1639 - f1score: 0.1385 - val_loss: 1.1289 - val_acc: 0.4869 - val_auc: 0.7500 - val_precision: 0.5599 - val_recall: 0.1655 - val_f1score: 0.1322\n",
      "Epoch 40/60\n",
      "43/42 [==============================] - 12s 284ms/step - loss: 1.1001 - acc: 0.5011 - auc: 0.7505 - precision: 0.5606 - recall: 0.1671 - f1score: 0.1382 - val_loss: 1.1112 - val_acc: 0.4956 - val_auc: 0.7511 - val_precision: 0.5615 - val_recall: 0.1687 - val_f1score: 0.1334\n",
      "Epoch 41/60\n",
      "43/42 [==============================] - 12s 287ms/step - loss: 1.0929 - acc: 0.5150 - auc: 0.7516 - precision: 0.5630 - recall: 0.1704 - f1score: 0.1386 - val_loss: 1.0912 - val_acc: 0.5044 - val_auc: 0.7522 - val_precision: 0.5639 - val_recall: 0.1720 - val_f1score: 0.1343\n",
      "Epoch 42/60\n",
      "43/42 [==============================] - 12s 286ms/step - loss: 1.0800 - acc: 0.5332 - auc: 0.7528 - precision: 0.5646 - recall: 0.1736 - f1score: 0.1400 - val_loss: 1.0958 - val_acc: 0.4490 - val_auc: 0.7534 - val_precision: 0.5648 - val_recall: 0.1750 - val_f1score: 0.1331\n",
      "Epoch 43/60\n",
      "43/42 [==============================] - 12s 283ms/step - loss: 1.0955 - acc: 0.5091 - auc: 0.7539 - precision: 0.5650 - recall: 0.1762 - f1score: 0.1387 - val_loss: 1.1406 - val_acc: 0.4548 - val_auc: 0.7543 - val_precision: 0.5651 - val_recall: 0.1773 - val_f1score: 0.1274\n",
      "Epoch 44/60\n",
      "43/42 [==============================] - 12s 289ms/step - loss: 1.0705 - acc: 0.5230 - auc: 0.7548 - precision: 0.5659 - recall: 0.1782 - f1score: 0.1397 - val_loss: 1.1419 - val_acc: 0.4752 - val_auc: 0.7554 - val_precision: 0.5663 - val_recall: 0.1798 - val_f1score: 0.1327\n",
      "Epoch 45/60\n",
      "43/42 [==============================] - 12s 283ms/step - loss: 1.0887 - acc: 0.5077 - auc: 0.7559 - precision: 0.5666 - recall: 0.1813 - f1score: 0.1393 - val_loss: 1.0847 - val_acc: 0.4606 - val_auc: 0.7563 - val_precision: 0.5668 - val_recall: 0.1827 - val_f1score: 0.1336\n",
      "Epoch 46/60\n",
      "43/42 [==============================] - 12s 279ms/step - loss: 1.0759 - acc: 0.5150 - auc: 0.7568 - precision: 0.5676 - recall: 0.1837 - f1score: 0.1400 - val_loss: 1.1255 - val_acc: 0.4519 - val_auc: 0.7573 - val_precision: 0.5678 - val_recall: 0.1851 - val_f1score: 0.1331\n",
      "Epoch 47/60\n",
      "43/42 [==============================] - 12s 283ms/step - loss: 1.0751 - acc: 0.5201 - auc: 0.7577 - precision: 0.5684 - recall: 0.1864 - f1score: 0.1401 - val_loss: 1.1091 - val_acc: 0.4723 - val_auc: 0.7583 - val_precision: 0.5690 - val_recall: 0.1877 - val_f1score: 0.1340\n",
      "Epoch 48/60\n",
      "43/42 [==============================] - 12s 282ms/step - loss: 1.0708 - acc: 0.5223 - auc: 0.7587 - precision: 0.5696 - recall: 0.1891 - f1score: 0.1413 - val_loss: 1.1079 - val_acc: 0.4810 - val_auc: 0.7592 - val_precision: 0.5702 - val_recall: 0.1905 - val_f1score: 0.1341\n",
      "Epoch 49/60\n",
      "43/42 [==============================] - 12s 282ms/step - loss: 1.0447 - acc: 0.5340 - auc: 0.7598 - precision: 0.5708 - recall: 0.1919 - f1score: 0.1429 - val_loss: 1.1244 - val_acc: 0.4519 - val_auc: 0.7603 - val_precision: 0.5711 - val_recall: 0.1932 - val_f1score: 0.1333\n",
      "Epoch 50/60\n",
      "43/42 [==============================] - 12s 281ms/step - loss: 1.0463 - acc: 0.5289 - auc: 0.7607 - precision: 0.5717 - recall: 0.1944 - f1score: 0.1423 - val_loss: 1.1063 - val_acc: 0.4519 - val_auc: 0.7613 - val_precision: 0.5725 - val_recall: 0.1959 - val_f1score: 0.1353\n",
      "Epoch 51/60\n",
      "43/42 [==============================] - 12s 281ms/step - loss: 1.0589 - acc: 0.5318 - auc: 0.7617 - precision: 0.5728 - recall: 0.1974 - f1score: 0.1425 - val_loss: 1.1486 - val_acc: 0.4606 - val_auc: 0.7621 - val_precision: 0.5730 - val_recall: 0.1986 - val_f1score: 0.1328\n",
      "Epoch 52/60\n",
      "43/42 [==============================] - 12s 283ms/step - loss: 1.0365 - acc: 0.5340 - auc: 0.7626 - precision: 0.5737 - recall: 0.1999 - f1score: 0.1444 - val_loss: 1.1211 - val_acc: 0.4723 - val_auc: 0.7631 - val_precision: 0.5743 - val_recall: 0.2013 - val_f1score: 0.1334\n",
      "Epoch 53/60\n",
      "43/42 [==============================] - 12s 280ms/step - loss: 1.0741 - acc: 0.5230 - auc: 0.7635 - precision: 0.5746 - recall: 0.2026 - f1score: 0.1409 - val_loss: 1.1286 - val_acc: 0.4752 - val_auc: 0.7638 - val_precision: 0.5750 - val_recall: 0.2036 - val_f1score: 0.1330\n",
      "Epoch 54/60\n",
      "43/42 [==============================] - 12s 281ms/step - loss: 1.0514 - acc: 0.5121 - auc: 0.7643 - precision: 0.5754 - recall: 0.2048 - f1score: 0.1425 - val_loss: 1.1455 - val_acc: 0.4490 - val_auc: 0.7646 - val_precision: 0.5757 - val_recall: 0.2059 - val_f1score: 0.1318\n",
      "Epoch 55/60\n",
      "43/42 [==============================] - 12s 280ms/step - loss: 1.0498 - acc: 0.5340 - auc: 0.7650 - precision: 0.5762 - recall: 0.2070 - f1score: 0.1426 - val_loss: 1.1604 - val_acc: 0.4315 - val_auc: 0.7654 - val_precision: 0.5765 - val_recall: 0.2084 - val_f1score: 0.1326\n",
      "Epoch 56/60\n",
      "43/42 [==============================] - 12s 281ms/step - loss: 1.0303 - acc: 0.5398 - auc: 0.7657 - precision: 0.5767 - recall: 0.2095 - f1score: 0.1445 - val_loss: 1.1095 - val_acc: 0.4869 - val_auc: 0.7663 - val_precision: 0.5774 - val_recall: 0.2109 - val_f1score: 0.1359\n",
      "Epoch 57/60\n"
     ]
    },
    {
     "name": "stdout",
     "output_type": "stream",
     "text": [
      "43/42 [==============================] - 12s 281ms/step - loss: 1.0231 - acc: 0.5573 - auc: 0.7667 - precision: 0.5781 - recall: 0.2124 - f1score: 0.1457 - val_loss: 1.1240 - val_acc: 0.4577 - val_auc: 0.7672 - val_precision: 0.5788 - val_recall: 0.2138 - val_f1score: 0.1340\n",
      "Epoch 58/60\n",
      "43/42 [==============================] - 12s 281ms/step - loss: 1.0231 - acc: 0.5508 - auc: 0.7676 - precision: 0.5794 - recall: 0.2150 - f1score: 0.1455 - val_loss: 1.1449 - val_acc: 0.4402 - val_auc: 0.7680 - val_precision: 0.5800 - val_recall: 0.2163 - val_f1score: 0.1325\n",
      "Epoch 59/60\n",
      "43/42 [==============================] - 12s 283ms/step - loss: 1.0361 - acc: 0.5683 - auc: 0.7684 - precision: 0.5804 - recall: 0.2175 - f1score: 0.1449 - val_loss: 1.1378 - val_acc: 0.4606 - val_auc: 0.7688 - val_precision: 0.5811 - val_recall: 0.2186 - val_f1score: 0.1326\n",
      "Epoch 60/60\n",
      "43/42 [==============================] - 12s 282ms/step - loss: 1.0237 - acc: 0.5435 - auc: 0.7693 - precision: 0.5816 - recall: 0.2197 - f1score: 0.1463 - val_loss: 1.1357 - val_acc: 0.4694 - val_auc: 0.7697 - val_precision: 0.5819 - val_recall: 0.2210 - val_f1score: 0.1346\n"
     ]
    }
   ],
   "source": [
    "history = additional_model.fit_generator(dgf, \n",
    "            steps_per_epoch=len(X_train)/32, \n",
    "            epochs=60, \n",
    "            validation_data=(X_val,y_val), \n",
    "            validation_steps=len(X_val)/32, \n",
    "            callbacks=[checkpoint],\n",
    "            class_weight=class_weight)"
   ]
  },
  {
   "cell_type": "code",
   "execution_count": 14,
   "metadata": {},
   "outputs": [
    {
     "data": {
      "image/png": "[encoded data removed]",
      "text/plain": [
       "<Figure size 432x288 with 1 Axes>"
      ]
     },
     "metadata": {
      "needs_background": "light"
     },
     "output_type": "display_data"
    },
    {
     "data": {
      "image/png": "[encoded data removed]",
      "text/plain": [
       "<Figure size 432x288 with 1 Axes>"
      ]
     },
     "metadata": {
      "needs_background": "light"
     },
     "output_type": "display_data"
    }
   ],
   "source": [
    "acc = history.history['acc']\n",
    "val_acc = history.history['val_acc']\n",
    "loss = history.history['loss']\n",
    "val_loss = history.history['val_loss']\n",
    " \n",
    "epochs = range(1, len(acc) + 1)\n",
    " \n",
    "plt.plot(epochs, acc, 'bo', label='Training acc')\n",
    "plt.plot(epochs, val_acc, 'r', label='Validation acc')\n",
    "plt.title('Accuracy')\n",
    "plt.legend()\n",
    "plt.figure()\n",
    " \n",
    "plt.plot(epochs, loss, 'bo', label='Training loss')\n",
    "plt.plot(epochs, val_loss, 'r', label='Validation loss')\n",
    "plt.title('Loss')\n",
    "plt.legend()\n",
    " \n",
    "plt.show()"
   ]
  },
  {
   "cell_type": "code",
   "execution_count": 18,
   "metadata": {},
   "outputs": [
    {
     "name": "stdout",
     "output_type": "stream",
     "text": [
      "343/343 [==============================] - 1s 3ms/step\n",
      "loss: 1.136, accuracy: 0.469, auc: 0.770, precision: 0.582, recall: 0.222, f1score: 0.135\n"
     ]
    }
   ],
   "source": [
    "_loss, _acc, _auc, _precision, _recall, _f1score = additional_model.evaluate(X_val, y_val, batch_size=32)\n",
    "print('loss: {:.3f}, accuracy: {:.3f}, auc: {:.3f}, precision: {:.3f}, recall: {:.3f}, f1score: {:.3f}'.format(_loss, _acc, _auc, _precision, _recall, _f1score))"
   ]
  },
  {
   "cell_type": "code",
   "execution_count": 19,
   "metadata": {},
   "outputs": [],
   "source": [
    "from keras.models import Model, load_model\n",
    "\n",
    "new_model = models.load_model('VGG16_2.hdf5',compile=False)\n",
    "\n",
    "\n",
    "new_model.compile(loss='categorical_crossentropy', \n",
    "              optimizer=optimizers.Adam(lr=1e-5),\n",
    "              metrics=['acc',tf.keras.metrics.AUC(),\n",
    "                      tf.keras.metrics.Precision(),\n",
    "                      tf.keras.metrics.Recall(),f1score])"
   ]
  },
  {
   "cell_type": "code",
   "execution_count": 20,
   "metadata": {},
   "outputs": [],
   "source": [
    "X_test=np.load('X_val.npy')\n",
    "y_test=np.load('y_val.npy')"
   ]
  },
  {
   "cell_type": "code",
   "execution_count": 21,
   "metadata": {},
   "outputs": [
    {
     "name": "stdout",
     "output_type": "stream",
     "text": [
      "571/571 [==============================] - 3s 5ms/step\n",
      "loss: 1.085, accuracy: 0.490, auc: 0.783, precision: 0.552, recall: 0.250, f1score: 0.136\n"
     ]
    }
   ],
   "source": [
    "_loss, _acc, _auc, _precision, _recall, _f1score =new_model.evaluate(X_test, y_test, batch_size=32)\n",
    "print('loss: {:.3f}, accuracy: {:.3f}, auc: {:.3f}, precision: {:.3f}, recall: {:.3f}, f1score: {:.3f}'.format(_loss, _acc, _auc, _precision, _recall, _f1score))"
   ]
  },
  {
   "cell_type": "code",
   "execution_count": null,
   "metadata": {},
   "outputs": [],
   "source": []
  }
 ],
 "metadata": {
  "kernelspec": {
   "display_name": "Python 3",
   "language": "python",
   "name": "python3"
  },
  "language_info": {
   "codemirror_mode": {
    "name": "ipython",
    "version": 3
   },
   "file_extension": ".py",
   "mimetype": "text/x-python",
   "name": "python",
   "nbconvert_exporter": "python",
   "pygments_lexer": "ipython3",
   "version": "3.7.7"
  }
 },
 "nbformat": 4,
 "nbformat_minor": 2
}
