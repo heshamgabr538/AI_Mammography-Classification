{
 "cells": [
  {
   "cell_type": "code",
   "execution_count": 1,
   "metadata": {},
   "outputs": [
    {
     "data": {
      "text/plain": [
       "'C:\\\\Users\\\\Owner2\\\\Desktop\\\\G팔로미_vuno'"
      ]
     },
     "execution_count": 1,
     "metadata": {},
     "output_type": "execute_result"
    }
   ],
   "source": [
    "import os\n",
    "import pandas as pd\n",
    "from matplotlib import pyplot as plt\n",
    "import cv2\n",
    "import numpy as np\n",
    "\n",
    "#data path 수정\n",
    "os.chdir(\"C:\\\\Users\\\\Owner2\\\\Desktop\\\\G팔로미_vuno\")\n",
    "os.getcwd()"
   ]
  },
  {
   "cell_type": "code",
   "execution_count": 2,
   "metadata": {},
   "outputs": [],
   "source": [
    "X=np.load('data_X_no_hist.npy')\n",
    "y=np.load('data_y_with_callback.npy')"
   ]
  },
  {
   "cell_type": "code",
   "execution_count": 3,
   "metadata": {},
   "outputs": [],
   "source": [
    "#train, validation set 분리\n",
    "from sklearn.model_selection import train_test_split\n",
    "\n",
    "X_train, X_val, y_train, y_val = train_test_split(X,y,test_size=0.25)"
   ]
  },
  {
   "cell_type": "code",
   "execution_count": 4,
   "metadata": {},
   "outputs": [
    {
     "name": "stderr",
     "output_type": "stream",
     "text": [
      "Using TensorFlow backend.\n"
     ]
    }
   ],
   "source": [
    "from keras.preprocessing.image import ImageDataGenerator\n",
    "\n",
    "datagen = ImageDataGenerator(\n",
    "    #featurewise_center=True, #center 중심 유지\n",
    "    #featurewise_std_normalization=True, #normalization\n",
    "    rotation_range=25.0,\n",
    "    #width_shift_range=0.2,\n",
    "    #height_shift_range=0.2,\n",
    "    #brightness_range=[0.2,1.0],\n",
    "    zoom_range=[0.8,1.2],\n",
    "    horizontal_flip=True) #수평방향 뒤집기\n",
    "\n",
    "datagen.fit(X_train)\n",
    "\n",
    "dgf=datagen.flow(X_train,y_train,batch_size=32)"
   ]
  },
  {
   "cell_type": "code",
   "execution_count": 5,
   "metadata": {},
   "outputs": [
    {
     "name": "stdout",
     "output_type": "stream",
     "text": [
      "Model: \"vgg16\"\n",
      "_________________________________________________________________\n",
      "Layer (type)                 Output Shape              Param #   \n",
      "=================================================================\n",
      "input_1 (InputLayer)         (None, 224, 224, 3)       0         \n",
      "_________________________________________________________________\n",
      "block1_conv1 (Conv2D)        (None, 224, 224, 64)      1792      \n",
      "_________________________________________________________________\n",
      "block1_conv2 (Conv2D)        (None, 224, 224, 64)      36928     \n",
      "_________________________________________________________________\n",
      "block1_pool (MaxPooling2D)   (None, 112, 112, 64)      0         \n",
      "_________________________________________________________________\n",
      "block2_conv1 (Conv2D)        (None, 112, 112, 128)     73856     \n",
      "_________________________________________________________________\n",
      "block2_conv2 (Conv2D)        (None, 112, 112, 128)     147584    \n",
      "_________________________________________________________________\n",
      "block2_pool (MaxPooling2D)   (None, 56, 56, 128)       0         \n",
      "_________________________________________________________________\n",
      "block3_conv1 (Conv2D)        (None, 56, 56, 256)       295168    \n",
      "_________________________________________________________________\n",
      "block3_conv2 (Conv2D)        (None, 56, 56, 256)       590080    \n",
      "_________________________________________________________________\n",
      "block3_conv3 (Conv2D)        (None, 56, 56, 256)       590080    \n",
      "_________________________________________________________________\n",
      "block3_pool (MaxPooling2D)   (None, 28, 28, 256)       0         \n",
      "_________________________________________________________________\n",
      "block4_conv1 (Conv2D)        (None, 28, 28, 512)       1180160   \n",
      "_________________________________________________________________\n",
      "block4_conv2 (Conv2D)        (None, 28, 28, 512)       2359808   \n",
      "_________________________________________________________________\n",
      "block4_conv3 (Conv2D)        (None, 28, 28, 512)       2359808   \n",
      "_________________________________________________________________\n",
      "block4_pool (MaxPooling2D)   (None, 14, 14, 512)       0         \n",
      "_________________________________________________________________\n",
      "block5_conv1 (Conv2D)        (None, 14, 14, 512)       2359808   \n",
      "_________________________________________________________________\n",
      "block5_conv2 (Conv2D)        (None, 14, 14, 512)       2359808   \n",
      "_________________________________________________________________\n",
      "block5_conv3 (Conv2D)        (None, 14, 14, 512)       2359808   \n",
      "_________________________________________________________________\n",
      "block5_pool (MaxPooling2D)   (None, 7, 7, 512)         0         \n",
      "=================================================================\n",
      "Total params: 14,714,688\n",
      "Trainable params: 14,714,688\n",
      "Non-trainable params: 0\n",
      "_________________________________________________________________\n"
     ]
    }
   ],
   "source": [
    "from keras import models, layers\n",
    "from keras import Input\n",
    "from keras.applications import VGG16\n",
    "from keras.models import Model, load_model\n",
    "from keras.preprocessing.image import ImageDataGenerator\n",
    "from keras import optimizers, initializers, regularizers, metrics\n",
    "from keras.callbacks import ModelCheckpoint, EarlyStopping\n",
    "from keras.layers import BatchNormalization, Conv2D, Activation, Dense, GlobalAveragePooling2D, MaxPooling2D, ZeroPadding2D, Add\n",
    "\n",
    "model = VGG16(weights=None, include_top=False, input_shape=(224, 224, 3))\n",
    "model.trainable = True\n",
    "model.summary()"
   ]
  },
  {
   "cell_type": "code",
   "execution_count": 6,
   "metadata": {},
   "outputs": [
    {
     "name": "stdout",
     "output_type": "stream",
     "text": [
      "Model: \"sequential_1\"\n",
      "_________________________________________________________________\n",
      "Layer (type)                 Output Shape              Param #   \n",
      "=================================================================\n",
      "vgg16 (Model)                (None, 7, 7, 512)         14714688  \n",
      "_________________________________________________________________\n",
      "flatten_1 (Flatten)          (None, 25088)             0         \n",
      "_________________________________________________________________\n",
      "dense_1 (Dense)              (None, 4)                 100356    \n",
      "=================================================================\n",
      "Total params: 14,815,044\n",
      "Trainable params: 14,815,044\n",
      "Non-trainable params: 0\n",
      "_________________________________________________________________\n"
     ]
    }
   ],
   "source": [
    "#customizing my layers\n",
    "additional_model = models.Sequential()\n",
    "additional_model.add(model)\n",
    "additional_model.add(layers.Flatten())\n",
    "additional_model.add(layers.Dense(4, activation='softmax'))\n",
    "\n",
    "additional_model.summary()"
   ]
  },
  {
   "cell_type": "code",
   "execution_count": 7,
   "metadata": {},
   "outputs": [],
   "source": [
    "def f1score(precision, recall):\n",
    "    _f1score = ( 2 * recall * precision) / (recall + precision)\n",
    "    \n",
    "    # return a single tensor value\n",
    "    return _f1score"
   ]
  },
  {
   "cell_type": "code",
   "execution_count": 8,
   "metadata": {},
   "outputs": [],
   "source": [
    "# checkpoint = ModelCheckpoint(filepath='My_VGG_{epoch:03d}_{val_loss:.7f}.hdf5',monitor='loss', mode='min', save_best_only=True)\n",
    "checkpoint = ModelCheckpoint(filepath='VGG16_origin_1.hdf5', \n",
    "            monitor='loss', \n",
    "            mode='min', \n",
    "            save_best_only=True)"
   ]
  },
  {
   "cell_type": "code",
   "execution_count": 9,
   "metadata": {},
   "outputs": [],
   "source": [
    "import tensorflow as tf\n",
    "\n",
    "additional_model.compile(loss='categorical_crossentropy', \n",
    "              optimizer=optimizers.Adam(lr=2e-5),\n",
    "              metrics=['acc',tf.keras.metrics.AUC(),\n",
    "                      tf.keras.metrics.Precision(),\n",
    "                      tf.keras.metrics.Recall(),f1score])"
   ]
  },
  {
   "cell_type": "code",
   "execution_count": 10,
   "metadata": {},
   "outputs": [
    {
     "name": "stdout",
     "output_type": "stream",
     "text": [
      "Epoch 1/50\n",
      "150/150 [==============================] - 47s 314ms/step - loss: 1.2997 - acc: 0.3917 - auc: 0.5950 - precision: 0.3173 - recall: 0.0131 - f1score: 0.1101 - val_loss: 1.1834 - val_acc: 0.4539 - val_auc: 0.6647 - val_precision: 0.5679 - val_recall: 0.0707 - val_f1score: 0.1271\n",
      "Epoch 2/50\n",
      "150/150 [==============================] - 41s 273ms/step - loss: 1.1676 - acc: 0.4669 - auc: 0.6925 - precision: 0.5922 - recall: 0.1159 - f1score: 0.1269 - val_loss: 1.1316 - val_acc: 0.4860 - val_auc: 0.7117 - val_precision: 0.6060 - val_recall: 0.1457 - val_f1score: 0.1299\n",
      "Epoch 3/50\n",
      "150/150 [==============================] - 41s 276ms/step - loss: 1.1302 - acc: 0.4835 - auc: 0.7237 - precision: 0.6143 - recall: 0.1623 - f1score: 0.1310 - val_loss: 1.1651 - val_acc: 0.4609 - val_auc: 0.7317 - val_precision: 0.6100 - val_recall: 0.1778 - val_f1score: 0.1306\n",
      "Epoch 4/50\n",
      "150/150 [==============================] - 42s 278ms/step - loss: 1.1018 - acc: 0.4920 - auc: 0.7367 - precision: 0.6121 - recall: 0.1888 - f1score: 0.1335 - val_loss: 1.1190 - val_acc: 0.4860 - val_auc: 0.7429 - val_precision: 0.6167 - val_recall: 0.1992 - val_f1score: 0.1315\n",
      "Epoch 5/50\n",
      "150/150 [==============================] - 42s 282ms/step - loss: 1.1367 - acc: 0.4743 - auc: 0.7448 - precision: 0.6187 - recall: 0.2009 - f1score: 0.1306 - val_loss: 1.0510 - val_acc: 0.5042 - val_auc: 0.7483 - val_precision: 0.6215 - val_recall: 0.2056 - val_f1score: 0.1386\n",
      "Epoch 6/50\n",
      "150/150 [==============================] - 42s 277ms/step - loss: 1.0400 - acc: 0.5091 - auc: 0.7528 - precision: 0.6240 - recall: 0.2118 - f1score: 0.1397 - val_loss: 1.0488 - val_acc: 0.4888 - val_auc: 0.7578 - val_precision: 0.6267 - val_recall: 0.2204 - val_f1score: 0.1412\n",
      "Epoch 7/50\n",
      "150/150 [==============================] - 42s 277ms/step - loss: 1.0238 - acc: 0.5317 - auc: 0.7615 - precision: 0.6277 - recall: 0.2273 - f1score: 0.1415 - val_loss: 1.0320 - val_acc: 0.5126 - val_auc: 0.7655 - val_precision: 0.6302 - val_recall: 0.2341 - val_f1score: 0.1428\n",
      "Epoch 8/50\n",
      "150/150 [==============================] - 41s 276ms/step - loss: 0.9946 - acc: 0.5292 - auc: 0.7692 - precision: 0.6322 - recall: 0.2406 - f1score: 0.1445 - val_loss: 1.0086 - val_acc: 0.5321 - val_auc: 0.7726 - val_precision: 0.6351 - val_recall: 0.2464 - val_f1score: 0.1437\n",
      "Epoch 9/50\n",
      "150/150 [==============================] - 42s 278ms/step - loss: 0.9782 - acc: 0.5362 - auc: 0.7758 - precision: 0.6360 - recall: 0.2523 - f1score: 0.1460 - val_loss: 1.0074 - val_acc: 0.5335 - val_auc: 0.7788 - val_precision: 0.6365 - val_recall: 0.2573 - val_f1score: 0.1441\n",
      "Epoch 10/50\n",
      "150/150 [==============================] - 43s 284ms/step - loss: 0.9508 - acc: 0.5587 - auc: 0.7816 - precision: 0.6387 - recall: 0.2631 - f1score: 0.1483 - val_loss: 1.0175 - val_acc: 0.5098 - val_auc: 0.7842 - val_precision: 0.6403 - val_recall: 0.2685 - val_f1score: 0.1441\n",
      "Epoch 11/50\n",
      "150/150 [==============================] - 42s 278ms/step - loss: 0.9381 - acc: 0.5576 - auc: 0.7868 - precision: 0.6422 - recall: 0.2736 - f1score: 0.1503 - val_loss: 0.9878 - val_acc: 0.5168 - val_auc: 0.7894 - val_precision: 0.6441 - val_recall: 0.2788 - val_f1score: 0.1467\n",
      "Epoch 12/50\n",
      "150/150 [==============================] - 41s 276ms/step - loss: 0.9194 - acc: 0.5715 - auc: 0.7918 - precision: 0.6458 - recall: 0.2835 - f1score: 0.1520 - val_loss: 0.9834 - val_acc: 0.5000 - val_auc: 0.7942 - val_precision: 0.6473 - val_recall: 0.2889 - val_f1score: 0.1476\n",
      "Epoch 13/50\n",
      "150/150 [==============================] - 42s 277ms/step - loss: 0.9776 - acc: 0.5642 - auc: 0.7953 - precision: 0.6481 - recall: 0.2903 - f1score: 0.1479 - val_loss: 0.9856 - val_acc: 0.5349 - val_auc: 0.7974 - val_precision: 0.6498 - val_recall: 0.2947 - val_f1score: 0.1465\n",
      "Epoch 14/50\n",
      "150/150 [==============================] - 42s 279ms/step - loss: 0.9214 - acc: 0.5808 - auc: 0.7991 - precision: 0.6509 - recall: 0.2985 - f1score: 0.1519 - val_loss: 0.9986 - val_acc: 0.5098 - val_auc: 0.8008 - val_precision: 0.6519 - val_recall: 0.3025 - val_f1score: 0.1474\n",
      "Epoch 15/50\n",
      "150/150 [==============================] - 42s 283ms/step - loss: 0.8945 - acc: 0.5770 - auc: 0.8025 - precision: 0.6520 - recall: 0.3065 - f1score: 0.1546 - val_loss: 1.0039 - val_acc: 0.5098 - val_auc: 0.8043 - val_precision: 0.6524 - val_recall: 0.3104 - val_f1score: 0.1480\n",
      "Epoch 16/50\n",
      "150/150 [==============================] - 41s 274ms/step - loss: 0.8760 - acc: 0.5957 - auc: 0.8060 - precision: 0.6529 - recall: 0.3144 - f1score: 0.1561 - val_loss: 0.9891 - val_acc: 0.5237 - val_auc: 0.8076 - val_precision: 0.6538 - val_recall: 0.3182 - val_f1score: 0.1487\n",
      "Epoch 17/50\n",
      "150/150 [==============================] - 41s 276ms/step - loss: 0.8682 - acc: 0.6000 - auc: 0.8092 - precision: 0.6545 - recall: 0.3220 - f1score: 0.1578 - val_loss: 0.9908 - val_acc: 0.5265 - val_auc: 0.8108 - val_precision: 0.6555 - val_recall: 0.3257 - val_f1score: 0.1475\n",
      "Epoch 18/50\n",
      "150/150 [==============================] - 45s 298ms/step - loss: 0.8572 - acc: 0.6091 - auc: 0.8123 - precision: 0.6567 - recall: 0.3294 - f1score: 0.1584 - val_loss: 0.9870 - val_acc: 0.5126 - val_auc: 0.8138 - val_precision: 0.6575 - val_recall: 0.3330 - val_f1score: 0.1475\n",
      "Epoch 19/50\n",
      "150/150 [==============================] - 41s 275ms/step - loss: 0.8521 - acc: 0.6060 - auc: 0.8152 - precision: 0.6585 - recall: 0.3367 - f1score: 0.1596 - val_loss: 0.9741 - val_acc: 0.5251 - val_auc: 0.8166 - val_precision: 0.6597 - val_recall: 0.3400 - val_f1score: 0.1477\n",
      "Epoch 20/50\n",
      "150/150 [==============================] - 43s 284ms/step - loss: 0.8708 - acc: 0.5948 - auc: 0.8178 - precision: 0.6604 - recall: 0.3429 - f1score: 0.1579 - val_loss: 1.0352 - val_acc: 0.4846 - val_auc: 0.8188 - val_precision: 0.6607 - val_recall: 0.3453 - val_f1score: 0.1443\n",
      "Epoch 21/50\n",
      "150/150 [==============================] - 41s 276ms/step - loss: 0.8401 - acc: 0.6127 - auc: 0.8198 - precision: 0.6612 - recall: 0.3481 - f1score: 0.1601 - val_loss: 0.9874 - val_acc: 0.5265 - val_auc: 0.8210 - val_precision: 0.6617 - val_recall: 0.3511 - val_f1score: 0.1506\n",
      "Epoch 22/50\n",
      "150/150 [==============================] - 41s 274ms/step - loss: 0.9208 - acc: 0.5859 - auc: 0.8217 - precision: 0.6620 - recall: 0.3526 - f1score: 0.1536 - val_loss: 1.0576 - val_acc: 0.5070 - val_auc: 0.8222 - val_precision: 0.6621 - val_recall: 0.3538 - val_f1score: 0.1447\n",
      "Epoch 23/50\n",
      "150/150 [==============================] - 41s 277ms/step - loss: 0.8328 - acc: 0.6224 - auc: 0.8233 - precision: 0.6627 - recall: 0.3568 - f1score: 0.1613 - val_loss: 0.9922 - val_acc: 0.5182 - val_auc: 0.8243 - val_precision: 0.6636 - val_recall: 0.3595 - val_f1score: 0.1477\n",
      "Epoch 24/50\n",
      "150/150 [==============================] - 42s 277ms/step - loss: 0.8077 - acc: 0.6313 - auc: 0.8254 - precision: 0.6643 - recall: 0.3620 - f1score: 0.1631 - val_loss: 1.0050 - val_acc: 0.5126 - val_auc: 0.8265 - val_precision: 0.6650 - val_recall: 0.3650 - val_f1score: 0.1489\n",
      "Epoch 25/50\n",
      "150/150 [==============================] - 43s 285ms/step - loss: 0.7888 - acc: 0.6366 - auc: 0.8276 - precision: 0.6657 - recall: 0.3680 - f1score: 0.1657 - val_loss: 1.0287 - val_acc: 0.5293 - val_auc: 0.8287 - val_precision: 0.6666 - val_recall: 0.3712 - val_f1score: 0.1517\n",
      "Epoch 26/50\n",
      "150/150 [==============================] - 42s 277ms/step - loss: 0.7900 - acc: 0.6378 - auc: 0.8297 - precision: 0.6670 - recall: 0.3739 - f1score: 0.1652 - val_loss: 1.0333 - val_acc: 0.5084 - val_auc: 0.8307 - val_precision: 0.6677 - val_recall: 0.3767 - val_f1score: 0.1497\n",
      "Epoch 27/50\n",
      "150/150 [==============================] - 42s 277ms/step - loss: 0.7930 - acc: 0.6389 - auc: 0.8317 - precision: 0.6683 - recall: 0.3796 - f1score: 0.1658 - val_loss: 1.0342 - val_acc: 0.4986 - val_auc: 0.8326 - val_precision: 0.6687 - val_recall: 0.3820 - val_f1score: 0.1493\n",
      "Epoch 28/50\n",
      "150/150 [==============================] - 41s 275ms/step - loss: 0.7814 - acc: 0.6433 - auc: 0.8335 - precision: 0.6692 - recall: 0.3845 - f1score: 0.1671 - val_loss: 1.0190 - val_acc: 0.5349 - val_auc: 0.8345 - val_precision: 0.6699 - val_recall: 0.3872 - val_f1score: 0.1503\n",
      "Epoch 29/50\n"
     ]
    },
    {
     "name": "stdout",
     "output_type": "stream",
     "text": [
      "150/150 [==============================] - 42s 278ms/step - loss: 0.7688 - acc: 0.6570 - auc: 0.8354 - precision: 0.6706 - recall: 0.3899 - f1score: 0.1685 - val_loss: 1.0266 - val_acc: 0.5154 - val_auc: 0.8364 - val_precision: 0.6714 - val_recall: 0.3928 - val_f1score: 0.1504\n",
      "Epoch 30/50\n",
      "150/150 [==============================] - 43s 285ms/step - loss: 0.7395 - acc: 0.6644 - auc: 0.8374 - precision: 0.6721 - recall: 0.3955 - f1score: 0.1705 - val_loss: 1.0465 - val_acc: 0.5405 - val_auc: 0.8383 - val_precision: 0.6729 - val_recall: 0.3983 - val_f1score: 0.1480\n",
      "Epoch 31/50\n",
      "150/150 [==============================] - 41s 275ms/step - loss: 0.7322 - acc: 0.6606 - auc: 0.8392 - precision: 0.6737 - recall: 0.4007 - f1score: 0.1713 - val_loss: 1.0636 - val_acc: 0.5140 - val_auc: 0.8402 - val_precision: 0.6745 - val_recall: 0.4032 - val_f1score: 0.1481\n",
      "Epoch 32/50\n",
      "150/150 [==============================] - 41s 275ms/step - loss: 0.7309 - acc: 0.6720 - auc: 0.8410 - precision: 0.6750 - recall: 0.4057 - f1score: 0.1717 - val_loss: 1.0619 - val_acc: 0.5196 - val_auc: 0.8420 - val_precision: 0.6758 - val_recall: 0.4083 - val_f1score: 0.1500\n",
      "Epoch 33/50\n",
      "150/150 [==============================] - 41s 273ms/step - loss: 0.7724 - acc: 0.6571 - auc: 0.8425 - precision: 0.6762 - recall: 0.4100 - f1score: 0.1680 - val_loss: 1.1049 - val_acc: 0.5098 - val_auc: 0.8433 - val_precision: 0.6767 - val_recall: 0.4121 - val_f1score: 0.1488\n",
      "Epoch 34/50\n",
      "150/150 [==============================] - 42s 280ms/step - loss: 0.7341 - acc: 0.6775 - auc: 0.8441 - precision: 0.6774 - recall: 0.4145 - f1score: 0.1724 - val_loss: 1.0271 - val_acc: 0.5042 - val_auc: 0.8448 - val_precision: 0.6779 - val_recall: 0.4167 - val_f1score: 0.1493\n",
      "Epoch 35/50\n",
      "150/150 [==============================] - 44s 297ms/step - loss: 0.7423 - acc: 0.6730 - auc: 0.8456 - precision: 0.6786 - recall: 0.4189 - f1score: 0.1714 - val_loss: 1.0705 - val_acc: 0.5098 - val_auc: 0.8463 - val_precision: 0.6792 - val_recall: 0.4209 - val_f1score: 0.1483\n",
      "Epoch 36/50\n",
      "150/150 [==============================] - 41s 276ms/step - loss: 0.7103 - acc: 0.6872 - auc: 0.8471 - precision: 0.6798 - recall: 0.4231 - f1score: 0.1747 - val_loss: 1.0637 - val_acc: 0.5112 - val_auc: 0.8479 - val_precision: 0.6806 - val_recall: 0.4252 - val_f1score: 0.1477\n",
      "Epoch 37/50\n",
      "150/150 [==============================] - 41s 276ms/step - loss: 0.7347 - acc: 0.6722 - auc: 0.8486 - precision: 0.6813 - recall: 0.4274 - f1score: 0.1730 - val_loss: 1.0972 - val_acc: 0.4986 - val_auc: 0.8492 - val_precision: 0.6817 - val_recall: 0.4293 - val_f1score: 0.1474\n",
      "Epoch 38/50\n",
      "150/150 [==============================] - 41s 276ms/step - loss: 0.6962 - acc: 0.6954 - auc: 0.8499 - precision: 0.6823 - recall: 0.4314 - f1score: 0.1761 - val_loss: 1.1651 - val_acc: 0.5000 - val_auc: 0.8507 - val_precision: 0.6830 - val_recall: 0.4336 - val_f1score: 0.1461\n",
      "Epoch 39/50\n",
      "150/150 [==============================] - 42s 282ms/step - loss: 0.6593 - acc: 0.7146 - auc: 0.8515 - precision: 0.6839 - recall: 0.4360 - f1score: 0.1802 - val_loss: 1.2429 - val_acc: 0.4944 - val_auc: 0.8523 - val_precision: 0.6847 - val_recall: 0.4384 - val_f1score: 0.1433\n",
      "Epoch 40/50\n",
      "150/150 [==============================] - 41s 273ms/step - loss: 0.6629 - acc: 0.7138 - auc: 0.8531 - precision: 0.6855 - recall: 0.4407 - f1score: 0.1804 - val_loss: 1.1620 - val_acc: 0.5056 - val_auc: 0.8538 - val_precision: 0.6863 - val_recall: 0.4429 - val_f1score: 0.1454\n",
      "Epoch 41/50\n",
      "150/150 [==============================] - 42s 277ms/step - loss: 0.6526 - acc: 0.7136 - auc: 0.8545 - precision: 0.6870 - recall: 0.4450 - f1score: 0.1807 - val_loss: 1.1527 - val_acc: 0.5042 - val_auc: 0.8553 - val_precision: 0.6877 - val_recall: 0.4473 - val_f1score: 0.1467\n",
      "Epoch 42/50\n",
      "150/150 [==============================] - 41s 273ms/step - loss: 0.6151 - acc: 0.7374 - auc: 0.8562 - precision: 0.6889 - recall: 0.4497 - f1score: 0.1843 - val_loss: 1.1418 - val_acc: 0.5223 - val_auc: 0.8570 - val_precision: 0.6899 - val_recall: 0.4521 - val_f1score: 0.1473\n",
      "Epoch 43/50\n",
      "150/150 [==============================] - 41s 276ms/step - loss: 0.6328 - acc: 0.7353 - auc: 0.8578 - precision: 0.6908 - recall: 0.4544 - f1score: 0.1846 - val_loss: 1.1644 - val_acc: 0.5028 - val_auc: 0.8586 - val_precision: 0.6917 - val_recall: 0.4567 - val_f1score: 0.1467\n",
      "Epoch 44/50\n",
      "150/150 [==============================] - 42s 282ms/step - loss: 0.5969 - acc: 0.7412 - auc: 0.8594 - precision: 0.6926 - recall: 0.4589 - f1score: 0.1866 - val_loss: 1.2897 - val_acc: 0.5014 - val_auc: 0.8602 - val_precision: 0.6935 - val_recall: 0.4612 - val_f1score: 0.1465\n",
      "Epoch 45/50\n",
      "150/150 [==============================] - 41s 275ms/step - loss: 0.6153 - acc: 0.7402 - auc: 0.8609 - precision: 0.6943 - recall: 0.4633 - f1score: 0.1856 - val_loss: 1.1979 - val_acc: 0.4916 - val_auc: 0.8617 - val_precision: 0.6952 - val_recall: 0.4655 - val_f1score: 0.1459\n",
      "Epoch 46/50\n",
      "150/150 [==============================] - 42s 280ms/step - loss: 0.5693 - acc: 0.7636 - auc: 0.8625 - precision: 0.6962 - recall: 0.4678 - f1score: 0.1898 - val_loss: 1.3005 - val_acc: 0.4972 - val_auc: 0.8633 - val_precision: 0.6971 - val_recall: 0.4701 - val_f1score: 0.1447\n",
      "Epoch 47/50\n",
      "150/150 [==============================] - 42s 280ms/step - loss: 0.5519 - acc: 0.7623 - auc: 0.8641 - precision: 0.6981 - recall: 0.4724 - f1score: 0.1911 - val_loss: 1.2782 - val_acc: 0.5084 - val_auc: 0.8649 - val_precision: 0.6991 - val_recall: 0.4747 - val_f1score: 0.1471\n",
      "Epoch 48/50\n",
      "150/150 [==============================] - 43s 284ms/step - loss: 0.5685 - acc: 0.7602 - auc: 0.8656 - precision: 0.7001 - recall: 0.4770 - f1score: 0.1913 - val_loss: 1.1256 - val_acc: 0.5307 - val_auc: 0.8664 - val_precision: 0.7010 - val_recall: 0.4791 - val_f1score: 0.1497\n",
      "Epoch 49/50\n",
      "150/150 [==============================] - 43s 289ms/step - loss: 0.5665 - acc: 0.7619 - auc: 0.8671 - precision: 0.7019 - recall: 0.4811 - f1score: 0.1902 - val_loss: 1.1740 - val_acc: 0.5112 - val_auc: 0.8679 - val_precision: 0.7029 - val_recall: 0.4832 - val_f1score: 0.1483\n",
      "Epoch 50/50\n",
      "150/150 [==============================] - 41s 275ms/step - loss: 0.5391 - acc: 0.7647 - auc: 0.8687 - precision: 0.7038 - recall: 0.4854 - f1score: 0.1929 - val_loss: 1.3126 - val_acc: 0.4986 - val_auc: 0.8694 - val_precision: 0.7046 - val_recall: 0.4874 - val_f1score: 0.1453\n"
     ]
    }
   ],
   "source": [
    "history = additional_model.fit_generator(dgf, \n",
    "            steps_per_epoch=150, \n",
    "            epochs=50, \n",
    "            validation_data=(X_val,y_val), \n",
    "            validation_steps=32, \n",
    "            callbacks=[checkpoint])"
   ]
  },
  {
   "cell_type": "code",
   "execution_count": 11,
   "metadata": {},
   "outputs": [
    {
     "data": {
      "image/png": "[encoded data removed]",
      "text/plain": [
       "<Figure size 432x288 with 1 Axes>"
      ]
     },
     "metadata": {
      "needs_background": "light"
     },
     "output_type": "display_data"
    },
    {
     "data": {
      "image/png": "[encoded data removed]",
      "text/plain": [
       "<Figure size 432x288 with 1 Axes>"
      ]
     },
     "metadata": {
      "needs_background": "light"
     },
     "output_type": "display_data"
    }
   ],
   "source": [
    "acc = history.history['acc']\n",
    "val_acc = history.history['val_acc']\n",
    "loss = history.history['loss']\n",
    "val_loss = history.history['val_loss']\n",
    " \n",
    "epochs = range(1, len(acc) + 1)\n",
    " \n",
    "plt.plot(epochs, acc, 'bo', label='Training acc')\n",
    "plt.plot(epochs, val_acc, 'r', label='Validation acc')\n",
    "plt.title('Accuracy')\n",
    "plt.legend()\n",
    "plt.figure()\n",
    " \n",
    "plt.plot(epochs, loss, 'bo', label='Training loss')\n",
    "plt.plot(epochs, val_loss, 'r', label='Validation loss')\n",
    "plt.title('Loss')\n",
    "plt.legend()\n",
    " \n",
    "plt.show()"
   ]
  },
  {
   "cell_type": "code",
   "execution_count": 12,
   "metadata": {},
   "outputs": [],
   "source": [
    "X_test=np.load('X_test.npy')\n",
    "y_test=np.load('y_test.npy')"
   ]
  },
  {
   "cell_type": "code",
   "execution_count": 13,
   "metadata": {},
   "outputs": [
    {
     "name": "stdout",
     "output_type": "stream",
     "text": [
      "716/716 [==============================] - 2s 3ms/step\n",
      "loss: 1.313, accuracy: 0.499, auc: 0.869, precision: 0.704, recall: 0.487, f1score: 0.145\n"
     ]
    }
   ],
   "source": [
    "_loss, _acc, _auc, _precision, _recall, _f1score = additional_model.evaluate(X_val, y_val, batch_size=32)\n",
    "print('loss: {:.3f}, accuracy: {:.3f}, auc: {:.3f}, precision: {:.3f}, recall: {:.3f}, f1score: {:.3f}'.format(_loss, _acc, _auc, _precision, _recall, _f1score))"
   ]
  },
  {
   "cell_type": "code",
   "execution_count": 14,
   "metadata": {},
   "outputs": [
    {
     "name": "stdout",
     "output_type": "stream",
     "text": [
      "704/704 [==============================] - 2s 3ms/step\n",
      "loss: 297486.130, accuracy: 0.271, auc: 0.868, precision: 0.703, recall: 0.487, f1score: nan\n"
     ]
    }
   ],
   "source": [
    "_loss, _acc, _auc, _precision, _recall, _f1score = additional_model.evaluate(X_test, y_test, batch_size=32)\n",
    "print('loss: {:.3f}, accuracy: {:.3f}, auc: {:.3f}, precision: {:.3f}, recall: {:.3f}, f1score: {:.3f}'.format(_loss, _acc, _auc, _precision, _recall, _f1score))"
   ]
  },
  {
   "cell_type": "code",
   "execution_count": 15,
   "metadata": {},
   "outputs": [],
   "source": [
    "additional_model.save('VGG16_origin_1.h5')"
   ]
  },
  {
   "cell_type": "code",
   "execution_count": null,
   "metadata": {},
   "outputs": [],
   "source": []
  }
 ],
 "metadata": {
  "kernelspec": {
   "display_name": "Python 3",
   "language": "python",
   "name": "python3"
  },
  "language_info": {
   "codemirror_mode": {
    "name": "ipython",
    "version": 3
   },
   "file_extension": ".py",
   "mimetype": "text/x-python",
   "name": "python",
   "nbconvert_exporter": "python",
   "pygments_lexer": "ipython3",
   "version": "3.7.7"
  }
 },
 "nbformat": 4,
 "nbformat_minor": 2
}
