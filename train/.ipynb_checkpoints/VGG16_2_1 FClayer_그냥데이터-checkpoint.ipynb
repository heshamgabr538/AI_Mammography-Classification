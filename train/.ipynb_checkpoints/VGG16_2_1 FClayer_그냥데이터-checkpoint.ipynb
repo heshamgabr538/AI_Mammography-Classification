{
 "cells": [
  {
   "cell_type": "code",
   "execution_count": 1,
   "metadata": {},
   "outputs": [
    {
     "data": {
      "text/plain": [
       "'C:\\\\Users\\\\Owner2\\\\Desktop\\\\G팔로미_vuno'"
      ]
     },
     "execution_count": 1,
     "metadata": {},
     "output_type": "execute_result"
    }
   ],
   "source": [
    "import os\n",
    "import pandas as pd\n",
    "from matplotlib import pyplot as plt\n",
    "import cv2\n",
    "import numpy as np\n",
    "\n",
    "#data path 수정\n",
    "os.chdir(\"C:\\\\Users\\\\Owner2\\\\Desktop\\\\G팔로미_vuno\")\n",
    "os.getcwd()"
   ]
  },
  {
   "cell_type": "code",
   "execution_count": 2,
   "metadata": {},
   "outputs": [],
   "source": [
    "X=np.load('data_X.npy')\n",
    "y=np.load('data_y.npy')"
   ]
  },
  {
   "cell_type": "code",
   "execution_count": 3,
   "metadata": {},
   "outputs": [
    {
     "data": {
      "text/plain": [
       "1712"
      ]
     },
     "execution_count": 3,
     "metadata": {},
     "output_type": "execute_result"
    }
   ],
   "source": [
    "len(X)"
   ]
  },
  {
   "cell_type": "code",
   "execution_count": 4,
   "metadata": {},
   "outputs": [],
   "source": [
    "#train, validation set 분리\n",
    "from sklearn.model_selection import train_test_split\n",
    "\n",
    "X_train, X_val, y_train, y_val = train_test_split(X,y,test_size=0.2, random_state=123)"
   ]
  },
  {
   "cell_type": "code",
   "execution_count": 5,
   "metadata": {},
   "outputs": [
    {
     "name": "stderr",
     "output_type": "stream",
     "text": [
      "Using TensorFlow backend.\n"
     ]
    }
   ],
   "source": [
    "from keras.preprocessing.image import ImageDataGenerator\n",
    "\n",
    "datagen = ImageDataGenerator(\n",
    "    #featurewise_center=True, #center 중심 유지\n",
    "    #featurewise_std_normalization=True, #normalization\n",
    "    rotation_range=25.0,\n",
    "    #width_shift_range=0.2,\n",
    "    #height_shift_range=0.2,\n",
    "    #brightness_range=[0.2,1.0],\n",
    "    zoom_range=[0.8,1.2],\n",
    "    horizontal_flip=True) #수평방향 뒤집기\n",
    "\n",
    "datagen.fit(X_train)\n",
    "\n",
    "dgf=datagen.flow(X_train,y_train,batch_size=32)"
   ]
  },
  {
   "cell_type": "code",
   "execution_count": 6,
   "metadata": {},
   "outputs": [
    {
     "name": "stdout",
     "output_type": "stream",
     "text": [
      "Model: \"vgg16\"\n",
      "_________________________________________________________________\n",
      "Layer (type)                 Output Shape              Param #   \n",
      "=================================================================\n",
      "input_1 (InputLayer)         (None, 224, 224, 3)       0         \n",
      "_________________________________________________________________\n",
      "block1_conv1 (Conv2D)        (None, 224, 224, 64)      1792      \n",
      "_________________________________________________________________\n",
      "block1_conv2 (Conv2D)        (None, 224, 224, 64)      36928     \n",
      "_________________________________________________________________\n",
      "block1_pool (MaxPooling2D)   (None, 112, 112, 64)      0         \n",
      "_________________________________________________________________\n",
      "block2_conv1 (Conv2D)        (None, 112, 112, 128)     73856     \n",
      "_________________________________________________________________\n",
      "block2_conv2 (Conv2D)        (None, 112, 112, 128)     147584    \n",
      "_________________________________________________________________\n",
      "block2_pool (MaxPooling2D)   (None, 56, 56, 128)       0         \n",
      "_________________________________________________________________\n",
      "block3_conv1 (Conv2D)        (None, 56, 56, 256)       295168    \n",
      "_________________________________________________________________\n",
      "block3_conv2 (Conv2D)        (None, 56, 56, 256)       590080    \n",
      "_________________________________________________________________\n",
      "block3_conv3 (Conv2D)        (None, 56, 56, 256)       590080    \n",
      "_________________________________________________________________\n",
      "block3_pool (MaxPooling2D)   (None, 28, 28, 256)       0         \n",
      "_________________________________________________________________\n",
      "block4_conv1 (Conv2D)        (None, 28, 28, 512)       1180160   \n",
      "_________________________________________________________________\n",
      "block4_conv2 (Conv2D)        (None, 28, 28, 512)       2359808   \n",
      "_________________________________________________________________\n",
      "block4_conv3 (Conv2D)        (None, 28, 28, 512)       2359808   \n",
      "_________________________________________________________________\n",
      "block4_pool (MaxPooling2D)   (None, 14, 14, 512)       0         \n",
      "_________________________________________________________________\n",
      "block5_conv1 (Conv2D)        (None, 14, 14, 512)       2359808   \n",
      "_________________________________________________________________\n",
      "block5_conv2 (Conv2D)        (None, 14, 14, 512)       2359808   \n",
      "_________________________________________________________________\n",
      "block5_conv3 (Conv2D)        (None, 14, 14, 512)       2359808   \n",
      "_________________________________________________________________\n",
      "block5_pool (MaxPooling2D)   (None, 7, 7, 512)         0         \n",
      "=================================================================\n",
      "Total params: 14,714,688\n",
      "Trainable params: 14,714,688\n",
      "Non-trainable params: 0\n",
      "_________________________________________________________________\n"
     ]
    }
   ],
   "source": [
    "from keras import models, layers\n",
    "from keras import Input\n",
    "from keras.applications import VGG16\n",
    "from keras.models import Model, load_model\n",
    "from keras.preprocessing.image import ImageDataGenerator\n",
    "from keras import optimizers, initializers, regularizers, metrics\n",
    "from keras.callbacks import ModelCheckpoint, EarlyStopping\n",
    "from keras.layers import BatchNormalization, Conv2D, Activation, Dense, GlobalAveragePooling2D, MaxPooling2D, ZeroPadding2D, Add\n",
    "\n",
    "model = VGG16(weights=None, include_top=False, input_shape=(224, 224, 3))\n",
    "model.trainable = True\n",
    "model.summary()"
   ]
  },
  {
   "cell_type": "code",
   "execution_count": 7,
   "metadata": {},
   "outputs": [
    {
     "name": "stdout",
     "output_type": "stream",
     "text": [
      "Model: \"sequential_1\"\n",
      "_________________________________________________________________\n",
      "Layer (type)                 Output Shape              Param #   \n",
      "=================================================================\n",
      "vgg16 (Model)                (None, 7, 7, 512)         14714688  \n",
      "_________________________________________________________________\n",
      "flatten_1 (Flatten)          (None, 25088)             0         \n",
      "_________________________________________________________________\n",
      "dense_1 (Dense)              (None, 4)                 100356    \n",
      "=================================================================\n",
      "Total params: 14,815,044\n",
      "Trainable params: 14,815,044\n",
      "Non-trainable params: 0\n",
      "_________________________________________________________________\n"
     ]
    }
   ],
   "source": [
    "#customizing my layers\n",
    "additional_model = models.Sequential()\n",
    "additional_model.add(model)\n",
    "additional_model.add(layers.Flatten())\n",
    "additional_model.add(layers.Dense(4, activation='softmax'))\n",
    "\n",
    "additional_model.summary()"
   ]
  },
  {
   "cell_type": "code",
   "execution_count": 8,
   "metadata": {},
   "outputs": [],
   "source": [
    "def f1score(precision, recall):\n",
    "    _f1score = ( 2 * recall * precision) / (recall + precision)\n",
    "    \n",
    "    # return a single tensor value\n",
    "    return _f1score"
   ]
  },
  {
   "cell_type": "code",
   "execution_count": 13,
   "metadata": {},
   "outputs": [],
   "source": [
    "# checkpoint = ModelCheckpoint(filepath='My_VGG_{epoch:03d}_{val_loss:.7f}.hdf5',monitor='loss', mode='min', save_best_only=True)\n",
    "checkpoint = ModelCheckpoint(filepath='VGG16_1.hdf5', \n",
    "            monitor='val_loss', \n",
    "            mode='min', \n",
    "            save_best_only=True)"
   ]
  },
  {
   "cell_type": "code",
   "execution_count": 14,
   "metadata": {},
   "outputs": [],
   "source": [
    "import tensorflow as tf\n",
    "\n",
    "additional_model.compile(loss='categorical_crossentropy', \n",
    "              optimizer=optimizers.Adam(lr=1e-4),\n",
    "              metrics=['acc',tf.keras.metrics.AUC(),\n",
    "                      tf.keras.metrics.Precision(),\n",
    "                      tf.keras.metrics.Recall(),f1score])"
   ]
  },
  {
   "cell_type": "code",
   "execution_count": 15,
   "metadata": {},
   "outputs": [],
   "source": [
    "# class_weight = {0: 1.1,\n",
    "#                 1: 1.1,\n",
    "#                 2: 1,\n",
    "#                 3: 1}"
   ]
  },
  {
   "cell_type": "code",
   "execution_count": 16,
   "metadata": {},
   "outputs": [
    {
     "name": "stdout",
     "output_type": "stream",
     "text": [
      "Epoch 1/60\n",
      "43/42 [==============================] - 16s 368ms/step - loss: 1.3734 - acc: 0.2915 - auc_1: 0.5363 - precision_1: 0.0000e+00 - recall_1: 0.0000e+00 - f1score: 0.1016 - val_loss: 1.2936 - val_acc: 0.3936 - val_auc_1: 0.5755 - val_precision_1: 0.8318 - val_recall_1: 0.0015 - val_f1score: 0.1096\n",
      "Epoch 2/60\n",
      "43/42 [==============================] - 11s 255ms/step - loss: 1.2901 - acc: 0.3601 - auc_1: 0.6134 - precision_1: 0.5876 - recall_1: 0.0123 - f1score: 0.1117 - val_loss: 1.3167 - val_acc: 0.3790 - val_auc_1: 0.6316 - val_precision_1: 0.4733 - val_recall_1: 0.0190 - val_f1score: 0.1063\n",
      "Epoch 3/60\n",
      "43/42 [==============================] - 12s 282ms/step - loss: 1.2601 - acc: 0.3966 - auc_1: 0.6409 - precision_1: 0.4799 - recall_1: 0.0247 - f1score: 0.1146 - val_loss: 1.2349 - val_acc: 0.3644 - val_auc_1: 0.6518 - val_precision_1: 0.5036 - val_recall_1: 0.0382 - val_f1score: 0.1212\n",
      "Epoch 4/60\n",
      "43/42 [==============================] - 12s 277ms/step - loss: 1.2622 - acc: 0.3645 - auc_1: 0.6571 - precision_1: 0.4907 - recall_1: 0.0463 - f1score: 0.1147 - val_loss: 1.2498 - val_acc: 0.3819 - val_auc_1: 0.6616 - val_precision_1: 0.4932 - val_recall_1: 0.0472 - val_f1score: 0.1174\n",
      "Epoch 5/60\n",
      "43/42 [==============================] - 12s 280ms/step - loss: 1.2279 - acc: 0.3813 - auc_1: 0.6665 - precision_1: 0.4993 - recall_1: 0.0504 - f1score: 0.1184 - val_loss: 1.2132 - val_acc: 0.4023 - val_auc_1: 0.6719 - val_precision_1: 0.5061 - val_recall_1: 0.0533 - val_f1score: 0.1177\n",
      "Epoch 6/60\n",
      "43/42 [==============================] - 13s 297ms/step - loss: 1.2573 - acc: 0.3952 - auc_1: 0.6746 - precision_1: 0.4954 - recall_1: 0.0558 - f1score: 0.1171 - val_loss: 1.2208 - val_acc: 0.3936 - val_auc_1: 0.6771 - val_precision_1: 0.4964 - val_recall_1: 0.0581 - val_f1score: 0.1168\n",
      "Epoch 7/60\n",
      "43/42 [==============================] - 11s 264ms/step - loss: 1.2163 - acc: 0.3930 - auc_1: 0.6799 - precision_1: 0.4979 - recall_1: 0.0580 - f1score: 0.1192 - val_loss: 1.1840 - val_acc: 0.4052 - val_auc_1: 0.6833 - val_precision_1: 0.5000 - val_recall_1: 0.0611 - val_f1score: 0.1212\n",
      "Epoch 8/60\n",
      "43/42 [==============================] - 12s 280ms/step - loss: 1.2323 - acc: 0.4091 - auc_1: 0.6849 - precision_1: 0.5008 - recall_1: 0.0627 - f1score: 0.1180 - val_loss: 1.1943 - val_acc: 0.3819 - val_auc_1: 0.6872 - val_precision_1: 0.5022 - val_recall_1: 0.0646 - val_f1score: 0.1228\n",
      "Epoch 9/60\n",
      "43/42 [==============================] - 12s 285ms/step - loss: 1.1854 - acc: 0.4200 - auc_1: 0.6896 - precision_1: 0.4999 - recall_1: 0.0667 - f1score: 0.1230 - val_loss: 1.1966 - val_acc: 0.4344 - val_auc_1: 0.6925 - val_precision_1: 0.4986 - val_recall_1: 0.0696 - val_f1score: 0.1251\n",
      "Epoch 10/60\n",
      "43/42 [==============================] - 12s 280ms/step - loss: 1.1837 - acc: 0.4375 - auc_1: 0.6951 - precision_1: 0.5030 - recall_1: 0.0737 - f1score: 0.1236 - val_loss: 1.1865 - val_acc: 0.4431 - val_auc_1: 0.6968 - val_precision_1: 0.5055 - val_recall_1: 0.0763 - val_f1score: 0.1211\n",
      "Epoch 11/60\n",
      "43/42 [==============================] - 12s 281ms/step - loss: 1.1704 - acc: 0.4354 - auc_1: 0.6989 - precision_1: 0.5080 - recall_1: 0.0777 - f1score: 0.1246 - val_loss: 1.1737 - val_acc: 0.3790 - val_auc_1: 0.7009 - val_precision_1: 0.5089 - val_recall_1: 0.0796 - val_f1score: 0.1223\n",
      "Epoch 12/60\n",
      "43/42 [==============================] - 12s 285ms/step - loss: 1.1569 - acc: 0.4361 - auc_1: 0.7028 - precision_1: 0.5116 - recall_1: 0.0814 - f1score: 0.1260 - val_loss: 1.1938 - val_acc: 0.4257 - val_auc_1: 0.7050 - val_precision_1: 0.5138 - val_recall_1: 0.0852 - val_f1score: 0.1293\n",
      "Epoch 13/60\n",
      "43/42 [==============================] - 12s 283ms/step - loss: 1.1421 - acc: 0.4441 - auc_1: 0.7069 - precision_1: 0.5141 - recall_1: 0.0891 - f1score: 0.1284 - val_loss: 1.1542 - val_acc: 0.3819 - val_auc_1: 0.7091 - val_precision_1: 0.5146 - val_recall_1: 0.0913 - val_f1score: 0.1226\n",
      "Epoch 14/60\n",
      "43/42 [==============================] - 12s 277ms/step - loss: 1.1538 - acc: 0.4405 - auc_1: 0.7105 - precision_1: 0.5149 - recall_1: 0.0927 - f1score: 0.1264 - val_loss: 1.1485 - val_acc: 0.3878 - val_auc_1: 0.7120 - val_precision_1: 0.5123 - val_recall_1: 0.0950 - val_f1score: 0.1262\n",
      "Epoch 15/60\n",
      "43/42 [==============================] - 12s 275ms/step - loss: 1.1411 - acc: 0.4441 - auc_1: 0.7131 - precision_1: 0.5120 - recall_1: 0.0963 - f1score: 0.1277 - val_loss: 1.1460 - val_acc: 0.4665 - val_auc_1: 0.7149 - val_precision_1: 0.5136 - val_recall_1: 0.0984 - val_f1score: 0.1275\n",
      "Epoch 16/60\n",
      "43/42 [==============================] - 12s 276ms/step - loss: 1.1306 - acc: 0.4565 - auc_1: 0.7165 - precision_1: 0.5167 - recall_1: 0.1016 - f1score: 0.1293 - val_loss: 1.1970 - val_acc: 0.3994 - val_auc_1: 0.7177 - val_precision_1: 0.5174 - val_recall_1: 0.1038 - val_f1score: 0.1264\n",
      "Epoch 17/60\n",
      "43/42 [==============================] - 12s 280ms/step - loss: 1.1304 - acc: 0.4565 - auc_1: 0.7191 - precision_1: 0.5185 - recall_1: 0.1069 - f1score: 0.1294 - val_loss: 1.1500 - val_acc: 0.4023 - val_auc_1: 0.7201 - val_precision_1: 0.5205 - val_recall_1: 0.1083 - val_f1score: 0.1268\n",
      "Epoch 18/60\n",
      "43/42 [==============================] - 12s 278ms/step - loss: 1.1209 - acc: 0.4587 - auc_1: 0.7213 - precision_1: 0.5226 - recall_1: 0.1110 - f1score: 0.1303 - val_loss: 1.1207 - val_acc: 0.4461 - val_auc_1: 0.7225 - val_precision_1: 0.5247 - val_recall_1: 0.1126 - val_f1score: 0.1278\n",
      "Epoch 19/60\n",
      "43/42 [==============================] - 12s 274ms/step - loss: 1.0840 - acc: 0.4806 - auc_1: 0.7240 - precision_1: 0.5272 - recall_1: 0.1153 - f1score: 0.1338 - val_loss: 1.1484 - val_acc: 0.4315 - val_auc_1: 0.7256 - val_precision_1: 0.5284 - val_recall_1: 0.1189 - val_f1score: 0.1323\n",
      "Epoch 20/60\n",
      "43/42 [==============================] - 12s 278ms/step - loss: 1.0778 - acc: 0.4909 - auc_1: 0.7271 - precision_1: 0.5289 - recall_1: 0.1228 - f1score: 0.1352 - val_loss: 1.1160 - val_acc: 0.4315 - val_auc_1: 0.7285 - val_precision_1: 0.5307 - val_recall_1: 0.1262 - val_f1score: 0.1326\n",
      "Epoch 21/60\n",
      "43/42 [==============================] - 12s 273ms/step - loss: 1.0567 - acc: 0.4923 - auc_1: 0.7301 - precision_1: 0.5321 - recall_1: 0.1299 - f1score: 0.1366 - val_loss: 1.1554 - val_acc: 0.4461 - val_auc_1: 0.7315 - val_precision_1: 0.5330 - val_recall_1: 0.1334 - val_f1score: 0.1318\n",
      "Epoch 22/60\n",
      "43/42 [==============================] - 12s 280ms/step - loss: 1.0576 - acc: 0.5142 - auc_1: 0.7328 - precision_1: 0.5348 - recall_1: 0.1365 - f1score: 0.1378 - val_loss: 1.1049 - val_acc: 0.4344 - val_auc_1: 0.7343 - val_precision_1: 0.5366 - val_recall_1: 0.1399 - val_f1score: 0.1303\n",
      "Epoch 23/60\n",
      "43/42 [==============================] - 12s 276ms/step - loss: 1.0504 - acc: 0.5047 - auc_1: 0.7358 - precision_1: 0.5389 - recall_1: 0.1430 - f1score: 0.1378 - val_loss: 1.1102 - val_acc: 0.4344 - val_auc_1: 0.7370 - val_precision_1: 0.5404 - val_recall_1: 0.1456 - val_f1score: 0.1342\n",
      "Epoch 24/60\n",
      "43/42 [==============================] - 12s 278ms/step - loss: 1.0464 - acc: 0.5172 - auc_1: 0.7382 - precision_1: 0.5416 - recall_1: 0.1486 - f1score: 0.1388 - val_loss: 1.1912 - val_acc: 0.4082 - val_auc_1: 0.7394 - val_precision_1: 0.5428 - val_recall_1: 0.1516 - val_f1score: 0.1291\n",
      "Epoch 25/60\n",
      "43/42 [==============================] - 12s 283ms/step - loss: 1.0481 - acc: 0.5121 - auc_1: 0.7406 - precision_1: 0.5439 - recall_1: 0.1547 - f1score: 0.1383 - val_loss: 1.1241 - val_acc: 0.4227 - val_auc_1: 0.7415 - val_precision_1: 0.5454 - val_recall_1: 0.1569 - val_f1score: 0.1284\n",
      "Epoch 26/60\n",
      "43/42 [==============================] - 12s 277ms/step - loss: 1.0483 - acc: 0.4923 - auc_1: 0.7425 - precision_1: 0.5466 - recall_1: 0.1590 - f1score: 0.1378 - val_loss: 1.1161 - val_acc: 0.4344 - val_auc_1: 0.7435 - val_precision_1: 0.5465 - val_recall_1: 0.1603 - val_f1score: 0.1290\n",
      "Epoch 27/60\n",
      "43/42 [==============================] - 12s 279ms/step - loss: 1.0203 - acc: 0.5303 - auc_1: 0.7447 - precision_1: 0.5478 - recall_1: 0.1626 - f1score: 0.1411 - val_loss: 1.1323 - val_acc: 0.3907 - val_auc_1: 0.7458 - val_precision_1: 0.5490 - val_recall_1: 0.1652 - val_f1score: 0.1297\n",
      "Epoch 28/60\n"
     ]
    },
    {
     "name": "stdout",
     "output_type": "stream",
     "text": [
      "43/42 [==============================] - 12s 279ms/step - loss: 1.0096 - acc: 0.5289 - auc_1: 0.7470 - precision_1: 0.5506 - recall_1: 0.1679 - f1score: 0.1420 - val_loss: 1.1570 - val_acc: 0.4636 - val_auc_1: 0.7480 - val_precision_1: 0.5516 - val_recall_1: 0.1708 - val_f1score: 0.1337\n",
      "Epoch 29/60\n",
      "43/42 [==============================] - 12s 278ms/step - loss: 1.0245 - acc: 0.5113 - auc_1: 0.7490 - precision_1: 0.5523 - recall_1: 0.1737 - f1score: 0.1403 - val_loss: 1.0788 - val_acc: 0.4490 - val_auc_1: 0.7499 - val_precision_1: 0.5526 - val_recall_1: 0.1754 - val_f1score: 0.1346\n",
      "Epoch 30/60\n",
      "43/42 [==============================] - 12s 273ms/step - loss: 1.0216 - acc: 0.5135 - auc_1: 0.7509 - precision_1: 0.5534 - recall_1: 0.1780 - f1score: 0.1408 - val_loss: 1.1673 - val_acc: 0.4402 - val_auc_1: 0.7517 - val_precision_1: 0.5543 - val_recall_1: 0.1799 - val_f1score: 0.1280\n",
      "Epoch 31/60\n",
      "43/42 [==============================] - 12s 276ms/step - loss: 0.9929 - acc: 0.5179 - auc_1: 0.7526 - precision_1: 0.5551 - recall_1: 0.1818 - f1score: 0.1433 - val_loss: 1.1200 - val_acc: 0.4752 - val_auc_1: 0.7536 - val_precision_1: 0.5566 - val_recall_1: 0.1845 - val_f1score: 0.1351\n",
      "Epoch 32/60\n",
      "43/42 [==============================] - 12s 277ms/step - loss: 0.9584 - acc: 0.5566 - auc_1: 0.7547 - precision_1: 0.5590 - recall_1: 0.1875 - f1score: 0.1476 - val_loss: 1.1088 - val_acc: 0.4694 - val_auc_1: 0.7559 - val_precision_1: 0.5602 - val_recall_1: 0.1908 - val_f1score: 0.1359\n",
      "Epoch 33/60\n",
      "43/42 [==============================] - 12s 276ms/step - loss: 0.9873 - acc: 0.5420 - auc_1: 0.7569 - precision_1: 0.5619 - recall_1: 0.1936 - f1score: 0.1447 - val_loss: 1.2282 - val_acc: 0.4636 - val_auc_1: 0.7576 - val_precision_1: 0.5629 - val_recall_1: 0.1957 - val_f1score: 0.1306\n",
      "Epoch 34/60\n",
      "43/42 [==============================] - 12s 284ms/step - loss: 0.9923 - acc: 0.5500 - auc_1: 0.7583 - precision_1: 0.5642 - recall_1: 0.1981 - f1score: 0.1447 - val_loss: 1.1333 - val_acc: 0.4344 - val_auc_1: 0.7592 - val_precision_1: 0.5652 - val_recall_1: 0.2003 - val_f1score: 0.1324\n",
      "Epoch 35/60\n",
      "43/42 [==============================] - 12s 278ms/step - loss: 0.9923 - acc: 0.5274 - auc_1: 0.7601 - precision_1: 0.5659 - recall_1: 0.2020 - f1score: 0.1442 - val_loss: 1.0824 - val_acc: 0.4606 - val_auc_1: 0.7608 - val_precision_1: 0.5666 - val_recall_1: 0.2039 - val_f1score: 0.1356\n",
      "Epoch 36/60\n",
      "43/42 [==============================] - 12s 277ms/step - loss: 0.9514 - acc: 0.5632 - auc_1: 0.7619 - precision_1: 0.5679 - recall_1: 0.2065 - f1score: 0.1478 - val_loss: 1.1313 - val_acc: 0.4548 - val_auc_1: 0.7626 - val_precision_1: 0.5686 - val_recall_1: 0.2087 - val_f1score: 0.1336\n",
      "Epoch 37/60\n",
      "43/42 [==============================] - 12s 278ms/step - loss: 0.9689 - acc: 0.5551 - auc_1: 0.7636 - precision_1: 0.5698 - recall_1: 0.2111 - f1score: 0.1474 - val_loss: 1.0732 - val_acc: 0.4927 - val_auc_1: 0.7644 - val_precision_1: 0.5704 - val_recall_1: 0.2131 - val_f1score: 0.1375\n",
      "Epoch 38/60\n",
      "43/42 [==============================] - 12s 274ms/step - loss: 0.9584 - acc: 0.5544 - auc_1: 0.7652 - precision_1: 0.5717 - recall_1: 0.2151 - f1score: 0.1474 - val_loss: 1.1117 - val_acc: 0.4781 - val_auc_1: 0.7661 - val_precision_1: 0.5727 - val_recall_1: 0.2172 - val_f1score: 0.1356\n",
      "Epoch 39/60\n",
      "43/42 [==============================] - 12s 277ms/step - loss: 0.9333 - acc: 0.5698 - auc_1: 0.7670 - precision_1: 0.5736 - recall_1: 0.2195 - f1score: 0.1509 - val_loss: 1.1813 - val_acc: 0.4461 - val_auc_1: 0.7678 - val_precision_1: 0.5746 - val_recall_1: 0.2219 - val_f1score: 0.1324\n",
      "Epoch 40/60\n",
      "43/42 [==============================] - 12s 277ms/step - loss: 0.9497 - acc: 0.5566 - auc_1: 0.7685 - precision_1: 0.5756 - recall_1: 0.2239 - f1score: 0.1483 - val_loss: 1.1384 - val_acc: 0.4402 - val_auc_1: 0.7692 - val_precision_1: 0.5763 - val_recall_1: 0.2258 - val_f1score: 0.1335\n",
      "Epoch 41/60\n",
      "43/42 [==============================] - 12s 278ms/step - loss: 0.9285 - acc: 0.5690 - auc_1: 0.7700 - precision_1: 0.5772 - recall_1: 0.2282 - f1score: 0.1510 - val_loss: 1.1415 - val_acc: 0.4402 - val_auc_1: 0.7707 - val_precision_1: 0.5776 - val_recall_1: 0.2303 - val_f1score: 0.1328\n",
      "Epoch 42/60\n",
      "43/42 [==============================] - 12s 278ms/step - loss: 0.9163 - acc: 0.5814 - auc_1: 0.7716 - precision_1: 0.5791 - recall_1: 0.2328 - f1score: 0.1523 - val_loss: 1.1918 - val_acc: 0.4344 - val_auc_1: 0.7724 - val_precision_1: 0.5797 - val_recall_1: 0.2346 - val_f1score: 0.1332\n",
      "Epoch 43/60\n",
      "43/42 [==============================] - 12s 276ms/step - loss: 0.9319 - acc: 0.5625 - auc_1: 0.7730 - precision_1: 0.5800 - recall_1: 0.2364 - f1score: 0.1505 - val_loss: 1.1154 - val_acc: 0.4548 - val_auc_1: 0.7737 - val_precision_1: 0.5808 - val_recall_1: 0.2384 - val_f1score: 0.1364\n",
      "Epoch 44/60\n",
      "43/42 [==============================] - 12s 278ms/step - loss: 0.9284 - acc: 0.5793 - auc_1: 0.7746 - precision_1: 0.5822 - recall_1: 0.2409 - f1score: 0.1517 - val_loss: 1.1032 - val_acc: 0.4606 - val_auc_1: 0.7751 - val_precision_1: 0.5829 - val_recall_1: 0.2427 - val_f1score: 0.1339\n",
      "Epoch 45/60\n",
      "43/42 [==============================] - 12s 277ms/step - loss: 0.9097 - acc: 0.5968 - auc_1: 0.7759 - precision_1: 0.5838 - recall_1: 0.2445 - f1score: 0.1528 - val_loss: 1.1264 - val_acc: 0.4665 - val_auc_1: 0.7766 - val_precision_1: 0.5846 - val_recall_1: 0.2465 - val_f1score: 0.1364\n",
      "Epoch 46/60\n",
      "43/42 [==============================] - 12s 279ms/step - loss: 0.8950 - acc: 0.5902 - auc_1: 0.7773 - precision_1: 0.5854 - recall_1: 0.2484 - f1score: 0.1540 - val_loss: 1.3347 - val_acc: 0.4519 - val_auc_1: 0.7780 - val_precision_1: 0.5866 - val_recall_1: 0.2509 - val_f1score: 0.1359\n",
      "Epoch 47/60\n",
      "43/42 [==============================] - 12s 276ms/step - loss: 0.8923 - acc: 0.6041 - auc_1: 0.7787 - precision_1: 0.5874 - recall_1: 0.2533 - f1score: 0.1560 - val_loss: 1.1312 - val_acc: 0.4577 - val_auc_1: 0.7794 - val_precision_1: 0.5879 - val_recall_1: 0.2553 - val_f1score: 0.1353\n",
      "Epoch 48/60\n",
      "43/42 [==============================] - 12s 277ms/step - loss: 0.9049 - acc: 0.5866 - auc_1: 0.7800 - precision_1: 0.5885 - recall_1: 0.2569 - f1score: 0.1532 - val_loss: 1.1329 - val_acc: 0.4461 - val_auc_1: 0.7807 - val_precision_1: 0.5888 - val_recall_1: 0.2586 - val_f1score: 0.1358\n",
      "Epoch 49/60\n",
      "43/42 [==============================] - 12s 276ms/step - loss: 0.8803 - acc: 0.5961 - auc_1: 0.7814 - precision_1: 0.5897 - recall_1: 0.2605 - f1score: 0.1565 - val_loss: 1.0950 - val_acc: 0.4985 - val_auc_1: 0.7821 - val_precision_1: 0.5907 - val_recall_1: 0.2626 - val_f1score: 0.1382\n",
      "Epoch 50/60\n",
      "43/42 [==============================] - 12s 275ms/step - loss: 0.8698 - acc: 0.6158 - auc_1: 0.7829 - precision_1: 0.5918 - recall_1: 0.2646 - f1score: 0.1574 - val_loss: 1.1261 - val_acc: 0.4810 - val_auc_1: 0.7836 - val_precision_1: 0.5926 - val_recall_1: 0.2666 - val_f1score: 0.1375\n",
      "Epoch 51/60\n",
      "43/42 [==============================] - 12s 277ms/step - loss: 0.8581 - acc: 0.6136 - auc_1: 0.7843 - precision_1: 0.5938 - recall_1: 0.2686 - f1score: 0.1579 - val_loss: 1.1901 - val_acc: 0.4869 - val_auc_1: 0.7850 - val_precision_1: 0.5945 - val_recall_1: 0.2706 - val_f1score: 0.1391\n",
      "Epoch 52/60\n",
      "43/42 [==============================] - 12s 276ms/step - loss: 0.8413 - acc: 0.6267 - auc_1: 0.7857 - precision_1: 0.5955 - recall_1: 0.2728 - f1score: 0.1609 - val_loss: 1.1246 - val_acc: 0.4519 - val_auc_1: 0.7865 - val_precision_1: 0.5962 - val_recall_1: 0.2748 - val_f1score: 0.1385\n",
      "Epoch 53/60\n",
      "43/42 [==============================] - 12s 276ms/step - loss: 0.8532 - acc: 0.6224 - auc_1: 0.7872 - precision_1: 0.5974 - recall_1: 0.2768 - f1score: 0.1595 - val_loss: 1.2281 - val_acc: 0.4548 - val_auc_1: 0.7878 - val_precision_1: 0.5981 - val_recall_1: 0.2788 - val_f1score: 0.1350\n",
      "Epoch 54/60\n",
      "43/42 [==============================] - 12s 276ms/step - loss: 0.8248 - acc: 0.6479 - auc_1: 0.7885 - precision_1: 0.5993 - recall_1: 0.2808 - f1score: 0.1629 - val_loss: 1.2635 - val_acc: 0.4869 - val_auc_1: 0.7892 - val_precision_1: 0.6004 - val_recall_1: 0.2831 - val_f1score: 0.1352\n",
      "Epoch 55/60\n"
     ]
    },
    {
     "name": "stdout",
     "output_type": "stream",
     "text": [
      "43/42 [==============================] - 12s 277ms/step - loss: 0.8507 - acc: 0.6209 - auc_1: 0.7899 - precision_1: 0.6011 - recall_1: 0.2849 - f1score: 0.1597 - val_loss: 1.1760 - val_acc: 0.4752 - val_auc_1: 0.7904 - val_precision_1: 0.6015 - val_recall_1: 0.2867 - val_f1score: 0.1370\n",
      "Epoch 56/60\n",
      "43/42 [==============================] - 12s 276ms/step - loss: 0.8508 - acc: 0.6333 - auc_1: 0.7910 - precision_1: 0.6025 - recall_1: 0.2886 - f1score: 0.1597 - val_loss: 1.1123 - val_acc: 0.4781 - val_auc_1: 0.7916 - val_precision_1: 0.6035 - val_recall_1: 0.2905 - val_f1score: 0.1396\n",
      "Epoch 57/60\n",
      "43/42 [==============================] - 12s 277ms/step - loss: 0.8354 - acc: 0.6486 - auc_1: 0.7924 - precision_1: 0.6046 - recall_1: 0.2924 - f1score: 0.1620 - val_loss: 1.1504 - val_acc: 0.4810 - val_auc_1: 0.7930 - val_precision_1: 0.6053 - val_recall_1: 0.2944 - val_f1score: 0.1399\n",
      "Epoch 58/60\n",
      "43/42 [==============================] - 12s 286ms/step - loss: 0.8153 - acc: 0.6494 - auc_1: 0.7937 - precision_1: 0.6064 - recall_1: 0.2963 - f1score: 0.1632 - val_loss: 1.2320 - val_acc: 0.4636 - val_auc_1: 0.7943 - val_precision_1: 0.6071 - val_recall_1: 0.2980 - val_f1score: 0.1366\n",
      "Epoch 59/60\n",
      "43/42 [==============================] - 12s 278ms/step - loss: 0.7985 - acc: 0.6654 - auc_1: 0.7950 - precision_1: 0.6082 - recall_1: 0.3000 - f1score: 0.1664 - val_loss: 1.1983 - val_acc: 0.4519 - val_auc_1: 0.7956 - val_precision_1: 0.6091 - val_recall_1: 0.3021 - val_f1score: 0.1383\n",
      "Epoch 60/60\n",
      "43/42 [==============================] - 12s 278ms/step - loss: 0.7981 - acc: 0.6603 - auc_1: 0.7964 - precision_1: 0.6102 - recall_1: 0.3039 - f1score: 0.1651 - val_loss: 1.2179 - val_acc: 0.4927 - val_auc_1: 0.7970 - val_precision_1: 0.6110 - val_recall_1: 0.3057 - val_f1score: 0.1424\n"
     ]
    }
   ],
   "source": [
    "history = additional_model.fit_generator(dgf, \n",
    "            steps_per_epoch=len(X_train)/32, \n",
    "            epochs=60, \n",
    "            validation_data=(X_val,y_val), \n",
    "            validation_steps=len(X_val)/32, \n",
    "            callbacks=[checkpoint])"
   ]
  },
  {
   "cell_type": "code",
   "execution_count": 17,
   "metadata": {},
   "outputs": [
    {
     "data": {
      "image/png": "[encoded data removed]",
      "text/plain": [
       "<Figure size 432x288 with 1 Axes>"
      ]
     },
     "metadata": {
      "needs_background": "light"
     },
     "output_type": "display_data"
    },
    {
     "data": {
      "image/png": "[encoded data removed]",
      "text/plain": [
       "<Figure size 432x288 with 1 Axes>"
      ]
     },
     "metadata": {
      "needs_background": "light"
     },
     "output_type": "display_data"
    }
   ],
   "source": [
    "acc = history.history['acc']\n",
    "val_acc = history.history['val_acc']\n",
    "loss = history.history['loss']\n",
    "val_loss = history.history['val_loss']\n",
    " \n",
    "epochs = range(1, len(acc) + 1)\n",
    " \n",
    "plt.plot(epochs, acc, 'bo', label='Training acc')\n",
    "plt.plot(epochs, val_acc, 'r', label='Validation acc')\n",
    "plt.title('Accuracy')\n",
    "plt.legend()\n",
    "plt.figure()\n",
    " \n",
    "plt.plot(epochs, loss, 'bo', label='Training loss')\n",
    "plt.plot(epochs, val_loss, 'r', label='Validation loss')\n",
    "plt.title('Loss')\n",
    "plt.legend()\n",
    " \n",
    "plt.show()"
   ]
  },
  {
   "cell_type": "code",
   "execution_count": 22,
   "metadata": {},
   "outputs": [
    {
     "name": "stdout",
     "output_type": "stream",
     "text": [
      "343/343 [==============================] - 1s 3ms/step\n",
      "loss: 1.218, accuracy: 0.493, auc: 0.797, precision: 0.610, recall: 0.307, f1score: 0.142\n"
     ]
    }
   ],
   "source": [
    "_loss, _acc, _auc, _precision, _recall, _f1score = additional_model.evaluate(X_val, y_val, batch_size=32)\n",
    "print('loss: {:.3f}, accuracy: {:.3f}, auc: {:.3f}, precision: {:.3f}, recall: {:.3f}, f1score: {:.3f}'.format(_loss, _acc, _auc, _precision, _recall, _f1score))"
   ]
  },
  {
   "cell_type": "code",
   "execution_count": 35,
   "metadata": {},
   "outputs": [],
   "source": [
    "from keras.models import Model, load_model\n",
    "\n",
    "new_model = models.load_model('./G_팔로미_models/ResNet_fine_tuning_2(513).hdf5',compile=False)\n",
    "\n",
    "\n",
    "new_model.compile(loss='categorical_crossentropy', \n",
    "              optimizer=optimizers.Adam(lr=1e-5),\n",
    "              metrics=['acc',tf.keras.metrics.AUC(),\n",
    "                      tf.keras.metrics.Precision(),\n",
    "                      tf.keras.metrics.Recall(),f1score])"
   ]
  },
  {
   "cell_type": "code",
   "execution_count": 36,
   "metadata": {},
   "outputs": [],
   "source": [
    "X_test=np.load('X_val.npy')\n",
    "y_test=np.load('y_val.npy')"
   ]
  },
  {
   "cell_type": "code",
   "execution_count": 37,
   "metadata": {},
   "outputs": [
    {
     "name": "stdout",
     "output_type": "stream",
     "text": [
      "571/571 [==============================] - 3s 6ms/step\n",
      "loss: 1.194, accuracy: 0.462, auc: 0.748, precision: 0.594, recall: 0.258, f1score: 0.129\n"
     ]
    }
   ],
   "source": [
    "_loss, _acc, _auc, _precision, _recall, _f1score =new_model.evaluate(X_test, y_test, batch_size=32)\n",
    "print('loss: {:.3f}, accuracy: {:.3f}, auc: {:.3f}, precision: {:.3f}, recall: {:.3f}, f1score: {:.3f}'.format(_loss, _acc, _auc, _precision, _recall, _f1score))"
   ]
  },
  {
   "cell_type": "code",
   "execution_count": null,
   "metadata": {},
   "outputs": [],
   "source": []
  }
 ],
 "metadata": {
  "kernelspec": {
   "display_name": "Python 3",
   "language": "python",
   "name": "python3"
  },
  "language_info": {
   "codemirror_mode": {
    "name": "ipython",
    "version": 3
   },
   "file_extension": ".py",
   "mimetype": "text/x-python",
   "name": "python",
   "nbconvert_exporter": "python",
   "pygments_lexer": "ipython3",
   "version": "3.7.7"
  }
 },
 "nbformat": 4,
 "nbformat_minor": 2
}
