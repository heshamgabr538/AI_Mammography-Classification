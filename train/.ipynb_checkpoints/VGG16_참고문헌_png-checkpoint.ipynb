{
 "cells": [
  {
   "cell_type": "code",
   "execution_count": 1,
   "metadata": {},
   "outputs": [
    {
     "data": {
      "text/plain": [
       "'C:\\\\Users\\\\Owner2\\\\Desktop\\\\G팔로미_vuno'"
      ]
     },
     "execution_count": 1,
     "metadata": {},
     "output_type": "execute_result"
    }
   ],
   "source": [
    "import os\n",
    "import pandas as pd\n",
    "from matplotlib import pyplot as plt\n",
    "import cv2\n",
    "import numpy as np\n",
    "\n",
    "#data path 수정\n",
    "os.chdir(\"C:\\\\Users\\\\Owner2\\\\Desktop\\\\G팔로미_vuno\")\n",
    "os.getcwd()"
   ]
  },
  {
   "cell_type": "code",
   "execution_count": 2,
   "metadata": {},
   "outputs": [],
   "source": [
    "train_dir = './train/no_contrast'"
   ]
  },
  {
   "cell_type": "code",
   "execution_count": 3,
   "metadata": {},
   "outputs": [
    {
     "name": "stderr",
     "output_type": "stream",
     "text": [
      "Using TensorFlow backend.\n"
     ]
    }
   ],
   "source": [
    "from keras.preprocessing.image import ImageDataGenerator\n",
    "\n",
    "train_datagen = ImageDataGenerator(\n",
    "    #featurewise_center=True, #center 중심 유지\n",
    "    #featurewise_std_normalization=True, #normalization\n",
    "    rotation_range=25.0,\n",
    "    #width_shift_range=0.2,\n",
    "    #height_shift_range=0.2,\n",
    "    #brightness_range=[0.2,1.0],\n",
    "    zoom_range=[0.8,1.2],\n",
    "    horizontal_flip=True,\n",
    "    validation_split=0.25) #수평방향 뒤집기"
   ]
  },
  {
   "cell_type": "code",
   "execution_count": 4,
   "metadata": {},
   "outputs": [
    {
     "name": "stdout",
     "output_type": "stream",
     "text": [
      "Found 2148 images belonging to 6 classes.\n",
      "Found 713 images belonging to 6 classes.\n"
     ]
    }
   ],
   "source": [
    "train_generator = train_datagen.flow_from_directory(\n",
    "        # 타깃 디렉터리\n",
    "        train_dir,\n",
    "        # 모든 이미지의 크기를 150 × 150로 변경합니다\n",
    "        target_size=(224,224),\n",
    "        batch_size=32,\n",
    "        subset='training')\n",
    "\n",
    "validation_generator = train_datagen.flow_from_directory(\n",
    "    train_dir, # same directory as training data\n",
    "    target_size=(224,224),\n",
    "    batch_size=32,\n",
    "    subset='validation') # set as validation data"
   ]
  },
  {
   "cell_type": "code",
   "execution_count": 5,
   "metadata": {},
   "outputs": [
    {
     "name": "stdout",
     "output_type": "stream",
     "text": [
      "Model: \"vgg16\"\n",
      "_________________________________________________________________\n",
      "Layer (type)                 Output Shape              Param #   \n",
      "=================================================================\n",
      "input_1 (InputLayer)         (None, 224, 224, 3)       0         \n",
      "_________________________________________________________________\n",
      "block1_conv1 (Conv2D)        (None, 224, 224, 64)      1792      \n",
      "_________________________________________________________________\n",
      "block1_conv2 (Conv2D)        (None, 224, 224, 64)      36928     \n",
      "_________________________________________________________________\n",
      "block1_pool (MaxPooling2D)   (None, 112, 112, 64)      0         \n",
      "_________________________________________________________________\n",
      "block2_conv1 (Conv2D)        (None, 112, 112, 128)     73856     \n",
      "_________________________________________________________________\n",
      "block2_conv2 (Conv2D)        (None, 112, 112, 128)     147584    \n",
      "_________________________________________________________________\n",
      "block2_pool (MaxPooling2D)   (None, 56, 56, 128)       0         \n",
      "_________________________________________________________________\n",
      "block3_conv1 (Conv2D)        (None, 56, 56, 256)       295168    \n",
      "_________________________________________________________________\n",
      "block3_conv2 (Conv2D)        (None, 56, 56, 256)       590080    \n",
      "_________________________________________________________________\n",
      "block3_conv3 (Conv2D)        (None, 56, 56, 256)       590080    \n",
      "_________________________________________________________________\n",
      "block3_pool (MaxPooling2D)   (None, 28, 28, 256)       0         \n",
      "_________________________________________________________________\n",
      "block4_conv1 (Conv2D)        (None, 28, 28, 512)       1180160   \n",
      "_________________________________________________________________\n",
      "block4_conv2 (Conv2D)        (None, 28, 28, 512)       2359808   \n",
      "_________________________________________________________________\n",
      "block4_conv3 (Conv2D)        (None, 28, 28, 512)       2359808   \n",
      "_________________________________________________________________\n",
      "block4_pool (MaxPooling2D)   (None, 14, 14, 512)       0         \n",
      "_________________________________________________________________\n",
      "block5_conv1 (Conv2D)        (None, 14, 14, 512)       2359808   \n",
      "_________________________________________________________________\n",
      "block5_conv2 (Conv2D)        (None, 14, 14, 512)       2359808   \n",
      "_________________________________________________________________\n",
      "block5_conv3 (Conv2D)        (None, 14, 14, 512)       2359808   \n",
      "_________________________________________________________________\n",
      "block5_pool (MaxPooling2D)   (None, 7, 7, 512)         0         \n",
      "=================================================================\n",
      "Total params: 14,714,688\n",
      "Trainable params: 0\n",
      "Non-trainable params: 14,714,688\n",
      "_________________________________________________________________\n"
     ]
    }
   ],
   "source": [
    "from keras import models, layers\n",
    "from keras import Input\n",
    "from keras.applications import VGG16\n",
    "from keras.models import Model, load_model\n",
    "from keras.preprocessing.image import ImageDataGenerator\n",
    "from keras import optimizers, initializers, regularizers, metrics\n",
    "from keras.callbacks import ModelCheckpoint, EarlyStopping\n",
    "from keras.layers import BatchNormalization, Conv2D, Activation, Dense, GlobalAveragePooling2D, MaxPooling2D, ZeroPadding2D, Add\n",
    "\n",
    "model = VGG16(weights='imagenet', include_top=False, input_shape=(224, 224, 3))\n",
    "model.trainable = False\n",
    "model.summary()"
   ]
  },
  {
   "cell_type": "code",
   "execution_count": 6,
   "metadata": {},
   "outputs": [
    {
     "name": "stdout",
     "output_type": "stream",
     "text": [
      "Model: \"model_1\"\n",
      "_________________________________________________________________\n",
      "Layer (type)                 Output Shape              Param #   \n",
      "=================================================================\n",
      "input_1 (InputLayer)         (None, 224, 224, 3)       0         \n",
      "_________________________________________________________________\n",
      "block1_conv1 (Conv2D)        (None, 224, 224, 64)      1792      \n",
      "_________________________________________________________________\n",
      "block1_conv2 (Conv2D)        (None, 224, 224, 64)      36928     \n",
      "_________________________________________________________________\n",
      "block1_pool (MaxPooling2D)   (None, 112, 112, 64)      0         \n",
      "_________________________________________________________________\n",
      "block2_conv1 (Conv2D)        (None, 112, 112, 128)     73856     \n",
      "_________________________________________________________________\n",
      "block2_conv2 (Conv2D)        (None, 112, 112, 128)     147584    \n",
      "_________________________________________________________________\n",
      "block2_pool (MaxPooling2D)   (None, 56, 56, 128)       0         \n",
      "_________________________________________________________________\n",
      "block3_conv1 (Conv2D)        (None, 56, 56, 256)       295168    \n",
      "_________________________________________________________________\n",
      "block3_conv2 (Conv2D)        (None, 56, 56, 256)       590080    \n",
      "_________________________________________________________________\n",
      "block3_conv3 (Conv2D)        (None, 56, 56, 256)       590080    \n",
      "_________________________________________________________________\n",
      "block3_pool (MaxPooling2D)   (None, 28, 28, 256)       0         \n",
      "_________________________________________________________________\n",
      "block4_conv1 (Conv2D)        (None, 28, 28, 512)       1180160   \n",
      "_________________________________________________________________\n",
      "block4_conv2 (Conv2D)        (None, 28, 28, 512)       2359808   \n",
      "_________________________________________________________________\n",
      "block4_conv3 (Conv2D)        (None, 28, 28, 512)       2359808   \n",
      "_________________________________________________________________\n",
      "block4_pool (MaxPooling2D)   (None, 14, 14, 512)       0         \n",
      "_________________________________________________________________\n",
      "block5_conv1 (Conv2D)        (None, 14, 14, 512)       2359808   \n",
      "_________________________________________________________________\n",
      "block5_conv2 (Conv2D)        (None, 14, 14, 512)       2359808   \n",
      "_________________________________________________________________\n",
      "block5_conv3 (Conv2D)        (None, 14, 14, 512)       2359808   \n",
      "_________________________________________________________________\n",
      "block5_pool (MaxPooling2D)   (None, 7, 7, 512)         0         \n",
      "_________________________________________________________________\n",
      "flatten_1 (Flatten)          (None, 25088)             0         \n",
      "_________________________________________________________________\n",
      "dense_1 (Dense)              (None, 4)                 100356    \n",
      "=================================================================\n",
      "Total params: 14,815,044\n",
      "Trainable params: 100,356\n",
      "Non-trainable params: 14,714,688\n",
      "_________________________________________________________________\n"
     ]
    }
   ],
   "source": [
    "for layer in model.layers:\n",
    "    layer.trainable=False\n",
    "\n",
    "x=model.output\n",
    "x=layers.Flatten()(x)\n",
    "outputs=Dense(4, activation='softmax')(x)\n",
    "\n",
    "additional_model=Model(inputs=model.input, outputs=outputs)\n",
    "\n",
    "additional_model.summary()"
   ]
  },
  {
   "cell_type": "code",
   "execution_count": 7,
   "metadata": {},
   "outputs": [],
   "source": [
    "def f1score(precision, recall):\n",
    "    _f1score = ( 2 * recall * precision) / (recall + precision)\n",
    "    \n",
    "    # return a single tensor value\n",
    "    return _f1score"
   ]
  },
  {
   "cell_type": "code",
   "execution_count": 8,
   "metadata": {},
   "outputs": [],
   "source": [
    "# checkpoint = ModelCheckpoint(filepath='My_VGG_{epoch:03d}_{val_loss:.7f}.hdf5',monitor='loss', mode='min', save_best_only=True)\n",
    "checkpoint = ModelCheckpoint(filepath='VGG16_참고문헌_no_hist.hdf5', \n",
    "            monitor='val_loss', \n",
    "            mode='min', \n",
    "            save_best_only=True)"
   ]
  },
  {
   "cell_type": "code",
   "execution_count": 9,
   "metadata": {},
   "outputs": [],
   "source": [
    "import tensorflow as tf\n",
    "\n",
    "additional_model.compile(loss='categorical_crossentropy', \n",
    "              optimizer=optimizers.Adam(lr=1e-3),\n",
    "              metrics=['acc',tf.keras.metrics.AUC(),\n",
    "                      tf.keras.metrics.Precision(),\n",
    "                      tf.keras.metrics.Recall(),f1score])"
   ]
  },
  {
   "cell_type": "code",
   "execution_count": 10,
   "metadata": {},
   "outputs": [
    {
     "name": "stdout",
     "output_type": "stream",
     "text": [
      "Epoch 1/3\n",
      "54/53 [==============================] - 26s 481ms/step - loss: 6.6999 - acc: 0.3751 - auc: 0.5723 - precision: 0.3141 - recall: 0.3099 - f1score: nan - val_loss: 7.8712 - val_acc: 0.4158 - val_auc: 0.6261 - val_precision: 0.3792 - val_recall: 0.3752 - val_f1score: 0.1117\n",
      "Epoch 2/3\n",
      "54/53 [==============================] - 20s 373ms/step - loss: 4.4225 - acc: 0.4895 - auc: 0.6534 - precision: 0.4136 - recall: 0.4092 - f1score: nan - val_loss: 3.4670 - val_acc: 0.4842 - val_auc: 0.6692 - val_precision: 0.4351 - val_recall: 0.4300 - val_f1score: 0.1301\n",
      "Epoch 3/3\n",
      "54/53 [==============================] - 22s 400ms/step - loss: 3.7200 - acc: 0.5368 - auc: 0.6841 - precision: 0.4538 - recall: 0.4483 - f1score: nan - val_loss: 5.0363 - val_acc: 0.5000 - val_auc: 0.6958 - val_precision: 0.4681 - val_recall: 0.4623 - val_f1score: 0.1334\n"
     ]
    }
   ],
   "source": [
    "history = additional_model.fit_generator(\n",
    "      train_generator,\n",
    "      steps_per_epoch = train_generator.samples /32,\n",
    "      epochs=3,\n",
    "      validation_data = validation_generator, \n",
    "      validation_steps = validation_generator.samples/32,\n",
    "    callbacks=[checkpoint])"
   ]
  },
  {
   "cell_type": "code",
   "execution_count": 11,
   "metadata": {},
   "outputs": [],
   "source": [
    "for layer in additional_model.layers[:11]:\n",
    "    layer.trainable=False\n",
    "\n",
    "for layer in additional_model.layers[11:]:\n",
    "    layer.trainable=True"
   ]
  },
  {
   "cell_type": "code",
   "execution_count": 12,
   "metadata": {},
   "outputs": [
    {
     "name": "stdout",
     "output_type": "stream",
     "text": [
      "<keras.engine.input_layer.InputLayer object at 0x000002CD2B987A08> False\n",
      "<keras.layers.convolutional.Conv2D object at 0x000002CD2B997508> False\n",
      "<keras.layers.convolutional.Conv2D object at 0x000002CD2B997F88> False\n",
      "<keras.layers.pooling.MaxPooling2D object at 0x000002CD2BB71188> False\n",
      "<keras.layers.convolutional.Conv2D object at 0x000002CD2BB71E48> False\n",
      "<keras.layers.convolutional.Conv2D object at 0x000002CD2BB7BE48> False\n",
      "<keras.layers.pooling.MaxPooling2D object at 0x000002CD2BB7F3C8> False\n",
      "<keras.layers.convolutional.Conv2D object at 0x000002CD2BB7F248> False\n",
      "<keras.layers.convolutional.Conv2D object at 0x000002CD2BB88B48> False\n",
      "<keras.layers.convolutional.Conv2D object at 0x000002CD2BBE34C8> False\n",
      "<keras.layers.pooling.MaxPooling2D object at 0x000002CD2BBEA4C8> False\n",
      "<keras.layers.convolutional.Conv2D object at 0x000002CD2BBEA088> True\n",
      "<keras.layers.convolutional.Conv2D object at 0x000002CD2BBF2648> True\n",
      "<keras.layers.convolutional.Conv2D object at 0x000002CD2BBF6588> True\n",
      "<keras.layers.pooling.MaxPooling2D object at 0x000002CD2BC01948> True\n",
      "<keras.layers.convolutional.Conv2D object at 0x000002CD2BC01708> True\n",
      "<keras.layers.convolutional.Conv2D object at 0x000002CD2BC0CE48> True\n",
      "<keras.layers.convolutional.Conv2D object at 0x000002CD2BC12B88> True\n",
      "<keras.layers.pooling.MaxPooling2D object at 0x000002CD2BC17CC8> True\n",
      "<keras.layers.core.Flatten object at 0x000002CD2BC6AF88> True\n",
      "<keras.layers.core.Dense object at 0x000002CD2BC6AE48> True\n",
      "Model: \"model_1\"\n",
      "_________________________________________________________________\n",
      "Layer (type)                 Output Shape              Param #   \n",
      "=================================================================\n",
      "input_1 (InputLayer)         (None, 224, 224, 3)       0         \n",
      "_________________________________________________________________\n",
      "block1_conv1 (Conv2D)        (None, 224, 224, 64)      1792      \n",
      "_________________________________________________________________\n",
      "block1_conv2 (Conv2D)        (None, 224, 224, 64)      36928     \n",
      "_________________________________________________________________\n",
      "block1_pool (MaxPooling2D)   (None, 112, 112, 64)      0         \n",
      "_________________________________________________________________\n",
      "block2_conv1 (Conv2D)        (None, 112, 112, 128)     73856     \n",
      "_________________________________________________________________\n",
      "block2_conv2 (Conv2D)        (None, 112, 112, 128)     147584    \n",
      "_________________________________________________________________\n",
      "block2_pool (MaxPooling2D)   (None, 56, 56, 128)       0         \n",
      "_________________________________________________________________\n",
      "block3_conv1 (Conv2D)        (None, 56, 56, 256)       295168    \n",
      "_________________________________________________________________\n",
      "block3_conv2 (Conv2D)        (None, 56, 56, 256)       590080    \n",
      "_________________________________________________________________\n",
      "block3_conv3 (Conv2D)        (None, 56, 56, 256)       590080    \n",
      "_________________________________________________________________\n",
      "block3_pool (MaxPooling2D)   (None, 28, 28, 256)       0         \n",
      "_________________________________________________________________\n",
      "block4_conv1 (Conv2D)        (None, 28, 28, 512)       1180160   \n",
      "_________________________________________________________________\n",
      "block4_conv2 (Conv2D)        (None, 28, 28, 512)       2359808   \n",
      "_________________________________________________________________\n",
      "block4_conv3 (Conv2D)        (None, 28, 28, 512)       2359808   \n",
      "_________________________________________________________________\n",
      "block4_pool (MaxPooling2D)   (None, 14, 14, 512)       0         \n",
      "_________________________________________________________________\n",
      "block5_conv1 (Conv2D)        (None, 14, 14, 512)       2359808   \n",
      "_________________________________________________________________\n",
      "block5_conv2 (Conv2D)        (None, 14, 14, 512)       2359808   \n",
      "_________________________________________________________________\n",
      "block5_conv3 (Conv2D)        (None, 14, 14, 512)       2359808   \n",
      "_________________________________________________________________\n",
      "block5_pool (MaxPooling2D)   (None, 7, 7, 512)         0         \n",
      "_________________________________________________________________\n",
      "flatten_1 (Flatten)          (None, 25088)             0         \n",
      "_________________________________________________________________\n",
      "dense_1 (Dense)              (None, 4)                 100356    \n",
      "=================================================================\n",
      "Total params: 1,835,844\n",
      "Trainable params: 100,356\n",
      "Non-trainable params: 1,735,488\n",
      "_________________________________________________________________\n"
     ]
    },
    {
     "name": "stderr",
     "output_type": "stream",
     "text": [
      "C:\\Users\\Owner2\\Anaconda3\\envs\\keras2\\lib\\site-packages\\keras\\engine\\training.py:297: UserWarning: Discrepancy between trainable weights and collected trainable weights, did you set `model.trainable` without calling `model.compile` after ?\n",
      "  'Discrepancy between trainable weights and collected trainable'\n"
     ]
    }
   ],
   "source": [
    "for layer in additional_model.layers:\n",
    "    print(layer, layer.trainable)\n",
    "    \n",
    "additional_model.summary()"
   ]
  },
  {
   "cell_type": "code",
   "execution_count": 13,
   "metadata": {},
   "outputs": [],
   "source": [
    "import tensorflow as tf\n",
    "\n",
    "additional_model.compile(loss='categorical_crossentropy', \n",
    "              optimizer=optimizers.Adam(lr=1e-4),\n",
    "              metrics=['acc',tf.keras.metrics.AUC(),\n",
    "                      tf.keras.metrics.Precision(),\n",
    "                      tf.keras.metrics.Recall(),f1score])"
   ]
  },
  {
   "cell_type": "code",
   "execution_count": 14,
   "metadata": {},
   "outputs": [
    {
     "name": "stdout",
     "output_type": "stream",
     "text": [
      "Epoch 1/10\n",
      "54/53 [==============================] - 23s 433ms/step - loss: 1.5445 - acc: 0.3921 - auc_1: 0.6725 - precision_1: 0.4658 - recall_1: 0.2991 - f1score: nan - val_loss: 1.2778 - val_acc: 0.4351 - val_auc_1: 0.6882 - val_precision_1: 0.4840 - val_recall_1: 0.2381 - val_f1score: 0.1255\n",
      "Epoch 2/10\n",
      "54/53 [==============================] - 22s 405ms/step - loss: 1.0678 - acc: 0.4866 - auc_1: 0.7130 - precision_1: 0.4999 - recall_1: 0.2406 - f1score: 0.1377 - val_loss: 1.3018 - val_acc: 0.4982 - val_auc_1: 0.7402 - val_precision_1: 0.5206 - val_recall_1: 0.2737 - val_f1score: 0.1416\n",
      "Epoch 3/10\n",
      "54/53 [==============================] - 22s 402ms/step - loss: 0.9919 - acc: 0.5420 - auc_1: 0.7553 - precision_1: 0.5393 - recall_1: 0.3006 - f1score: 0.1467 - val_loss: 0.9093 - val_acc: 0.5140 - val_auc_1: 0.7677 - val_precision_1: 0.5559 - val_recall_1: 0.3190 - val_f1score: 0.1417\n",
      "Epoch 4/10\n",
      "54/53 [==============================] - 22s 401ms/step - loss: 0.9361 - acc: 0.5712 - auc_1: 0.7787 - precision_1: 0.5691 - recall_1: 0.3352 - f1score: 0.1520 - val_loss: 0.9153 - val_acc: 0.5158 - val_auc_1: 0.7858 - val_precision_1: 0.5754 - val_recall_1: 0.3476 - val_f1score: 0.1447\n",
      "Epoch 5/10\n",
      "54/53 [==============================] - 21s 396ms/step - loss: 0.9176 - acc: 0.5793 - auc_1: 0.7922 - precision_1: 0.5825 - recall_1: 0.3588 - f1score: 0.1537 - val_loss: 1.0000 - val_acc: 0.5140 - val_auc_1: 0.7978 - val_precision_1: 0.5860 - val_recall_1: 0.3683 - val_f1score: 0.1470\n",
      "Epoch 6/10\n",
      "54/53 [==============================] - 21s 398ms/step - loss: 0.8580 - acc: 0.6074 - auc_1: 0.8037 - precision_1: 0.5921 - recall_1: 0.3804 - f1score: 0.1590 - val_loss: 0.7546 - val_acc: 0.5246 - val_auc_1: 0.8076 - val_precision_1: 0.5948 - val_recall_1: 0.3896 - val_f1score: 0.1474\n",
      "Epoch 7/10\n",
      "54/53 [==============================] - 21s 396ms/step - loss: 0.8619 - acc: 0.6103 - auc_1: 0.8120 - precision_1: 0.5999 - recall_1: 0.3997 - f1score: 0.1589 - val_loss: 1.1854 - val_acc: 0.5509 - val_auc_1: 0.8151 - val_precision_1: 0.6032 - val_recall_1: 0.4068 - val_f1score: 0.1509\n",
      "Epoch 8/10\n",
      "54/53 [==============================] - 22s 409ms/step - loss: 0.8238 - acc: 0.6301 - auc_1: 0.8186 - precision_1: 0.6071 - recall_1: 0.4146 - f1score: 0.1629 - val_loss: 1.1885 - val_acc: 0.5386 - val_auc_1: 0.8219 - val_precision_1: 0.6115 - val_recall_1: 0.4223 - val_f1score: 0.1513\n",
      "Epoch 9/10\n",
      "54/53 [==============================] - 21s 398ms/step - loss: 0.8058 - acc: 0.6167 - auc_1: 0.8252 - precision_1: 0.6142 - recall_1: 0.4296 - f1score: 0.1645 - val_loss: 1.0269 - val_acc: 0.5807 - val_auc_1: 0.8278 - val_precision_1: 0.6168 - val_recall_1: 0.4352 - val_f1score: 0.1545\n",
      "Epoch 10/10\n",
      "54/53 [==============================] - 22s 406ms/step - loss: 0.7675 - acc: 0.6494 - auc_1: 0.8313 - precision_1: 0.6208 - recall_1: 0.4416 - f1score: 0.1684 - val_loss: 1.1336 - val_acc: 0.5737 - val_auc_1: 0.8339 - val_precision_1: 0.6231 - val_recall_1: 0.4466 - val_f1score: 0.1578\n"
     ]
    }
   ],
   "source": [
    "history = additional_model.fit_generator(\n",
    "      train_generator,\n",
    "      steps_per_epoch = train_generator.samples /32,\n",
    "      epochs=10,\n",
    "      validation_data = validation_generator, \n",
    "      validation_steps = validation_generator.samples/32,\n",
    "    callbacks=[checkpoint])"
   ]
  },
  {
   "cell_type": "code",
   "execution_count": 15,
   "metadata": {},
   "outputs": [],
   "source": [
    "for layer in additional_model.layers:\n",
    "    layer.trainable=True"
   ]
  },
  {
   "cell_type": "code",
   "execution_count": 16,
   "metadata": {},
   "outputs": [
    {
     "data": {
      "image/png": "[encoded data removed]",
      "text/plain": [
       "<Figure size 432x288 with 1 Axes>"
      ]
     },
     "metadata": {
      "needs_background": "light"
     },
     "output_type": "display_data"
    },
    {
     "data": {
      "image/png": "[encoded data removed]",
      "text/plain": [
       "<Figure size 432x288 with 1 Axes>"
      ]
     },
     "metadata": {
      "needs_background": "light"
     },
     "output_type": "display_data"
    }
   ],
   "source": [
    "acc = history.history['acc']\n",
    "val_acc = history.history['val_acc']\n",
    "loss = history.history['loss']\n",
    "val_loss = history.history['val_loss']\n",
    " \n",
    "epochs = range(1, len(acc) + 1)\n",
    " \n",
    "plt.plot(epochs, acc, 'bo', label='Training acc')\n",
    "plt.plot(epochs, val_acc, 'r', label='Validation acc')\n",
    "plt.title('Accuracy')\n",
    "plt.legend()\n",
    "plt.figure()\n",
    " \n",
    "plt.plot(epochs, loss, 'bo', label='Training loss')\n",
    "plt.plot(epochs, val_loss, 'r', label='Validation loss')\n",
    "plt.title('Loss')\n",
    "plt.legend()\n",
    " \n",
    "plt.show()"
   ]
  },
  {
   "cell_type": "code",
   "execution_count": 17,
   "metadata": {},
   "outputs": [
    {
     "name": "stdout",
     "output_type": "stream",
     "text": [
      "Epoch 1/37\n",
      "54/53 [==============================] - 26s 473ms/step - loss: 0.7105 - acc: 0.6814 - auc: 0.9042 - precision_2: 0.7182 - recall_2: 0.6176 - f1score: 0.1732 - val_loss: 0.7220 - val_acc: 0.5877 - val_auc: 0.9012 - val_precision_2: 0.7135 - val_recall_2: 0.6089 - val_f1score: 0.1595\n",
      "Epoch 2/37\n",
      "54/53 [==============================] - 21s 387ms/step - loss: 0.6964 - acc: 0.6826 - auc: 0.9007 - precision_2: 0.7129 - recall_2: 0.6085 - f1score: 0.1751 - val_loss: 1.0878 - val_acc: 0.5825 - val_auc: 0.8992 - val_precision_2: 0.7091 - val_recall_2: 0.6065 - val_f1score: 0.1592\n",
      "Epoch 3/37\n",
      "54/53 [==============================] - 21s 387ms/step - loss: 0.6706 - acc: 0.7060 - auc: 0.8997 - precision_2: 0.7096 - recall_2: 0.6093 - f1score: 0.1777 - val_loss: 0.7593 - val_acc: 0.6140 - val_auc: 0.8999 - val_precision_2: 0.7101 - val_recall_2: 0.6097 - val_f1score: 0.1611\n",
      "Epoch 4/37\n",
      "54/53 [==============================] - 21s 389ms/step - loss: 0.6427 - acc: 0.7165 - auc: 0.9019 - precision_2: 0.7134 - recall_2: 0.6138 - f1score: 0.1808 - val_loss: 0.7246 - val_acc: 0.5947 - val_auc: 0.9028 - val_precision_2: 0.7146 - val_recall_2: 0.6188 - val_f1score: 0.1613\n",
      "Epoch 5/37\n",
      "54/53 [==============================] - 21s 383ms/step - loss: 0.6275 - acc: 0.7170 - auc: 0.9038 - precision_2: 0.7161 - recall_2: 0.6231 - f1score: 0.1815 - val_loss: 0.4951 - val_acc: 0.6105 - val_auc: 0.9039 - val_precision_2: 0.7156 - val_recall_2: 0.6245 - val_f1score: 0.1619\n",
      "Epoch 6/37\n",
      "54/53 [==============================] - 21s 385ms/step - loss: 0.5987 - acc: 0.7468 - auc: 0.9052 - precision_2: 0.7189 - recall_2: 0.6284 - f1score: 0.1844 - val_loss: 0.4708 - val_acc: 0.6509 - val_auc: 0.9061 - val_precision_2: 0.7218 - val_recall_2: 0.6318 - val_f1score: 0.1657\n",
      "Epoch 7/37\n",
      "54/53 [==============================] - 21s 384ms/step - loss: 0.5960 - acc: 0.7410 - auc: 0.9075 - precision_2: 0.7247 - recall_2: 0.6361 - f1score: 0.1859 - val_loss: 0.9039 - val_acc: 0.5930 - val_auc: 0.9078 - val_precision_2: 0.7251 - val_recall_2: 0.6376 - val_f1score: 0.1589\n",
      "Epoch 8/37\n",
      "54/53 [==============================] - 21s 389ms/step - loss: 0.5803 - acc: 0.7468 - auc: 0.9084 - precision_2: 0.7265 - recall_2: 0.6398 - f1score: 0.1868 - val_loss: 0.7382 - val_acc: 0.6298 - val_auc: 0.9091 - val_precision_2: 0.7281 - val_recall_2: 0.6424 - val_f1score: 0.1631\n",
      "Epoch 9/37\n",
      "54/53 [==============================] - 21s 386ms/step - loss: 0.5541 - acc: 0.7526 - auc: 0.9101 - precision_2: 0.7298 - recall_2: 0.6449 - f1score: 0.1894 - val_loss: 0.9136 - val_acc: 0.5982 - val_auc: 0.9107 - val_precision_2: 0.7301 - val_recall_2: 0.6462 - val_f1score: 0.1622\n",
      "Epoch 10/37\n",
      "54/53 [==============================] - 21s 386ms/step - loss: 0.5469 - acc: 0.7666 - auc: 0.9114 - precision_2: 0.7312 - recall_2: 0.6475 - f1score: 0.1901 - val_loss: 0.7598 - val_acc: 0.6123 - val_auc: 0.9121 - val_precision_2: 0.7324 - val_recall_2: 0.6498 - val_f1score: 0.1651\n",
      "Epoch 11/37\n",
      "54/53 [==============================] - 21s 386ms/step - loss: 0.5375 - acc: 0.7625 - auc: 0.9129 - precision_2: 0.7333 - recall_2: 0.6521 - f1score: 0.1917 - val_loss: 1.0053 - val_acc: 0.6140 - val_auc: 0.9135 - val_precision_2: 0.7344 - val_recall_2: 0.6537 - val_f1score: 0.1652\n",
      "Epoch 12/37\n",
      "54/53 [==============================] - 21s 388ms/step - loss: 0.5408 - acc: 0.7585 - auc: 0.9141 - precision_2: 0.7351 - recall_2: 0.6553 - f1score: 0.1918 - val_loss: 1.3175 - val_acc: 0.6053 - val_auc: 0.9147 - val_precision_2: 0.7357 - val_recall_2: 0.6569 - val_f1score: 0.1620\n",
      "Epoch 13/37\n",
      "54/53 [==============================] - 21s 389ms/step - loss: 0.5009 - acc: 0.7952 - auc: 0.9154 - precision_2: 0.7372 - recall_2: 0.6590 - f1score: 0.1952 - val_loss: 0.8229 - val_acc: 0.6123 - val_auc: 0.9160 - val_precision_2: 0.7386 - val_recall_2: 0.6610 - val_f1score: 0.1650\n",
      "Epoch 14/37\n",
      "54/53 [==============================] - 21s 387ms/step - loss: 0.4965 - acc: 0.7946 - auc: 0.9168 - precision_2: 0.7398 - recall_2: 0.6630 - f1score: 0.1963 - val_loss: 1.3010 - val_acc: 0.6053 - val_auc: 0.9172 - val_precision_2: 0.7405 - val_recall_2: 0.6645 - val_f1score: 0.1625\n",
      "Epoch 15/37\n",
      "54/53 [==============================] - 21s 387ms/step - loss: 0.4965 - acc: 0.7812 - auc: 0.9179 - precision_2: 0.7416 - recall_2: 0.6662 - f1score: 0.1964 - val_loss: 1.0774 - val_acc: 0.5895 - val_auc: 0.9184 - val_precision_2: 0.7422 - val_recall_2: 0.6675 - val_f1score: 0.1601\n",
      "Epoch 16/37\n",
      "54/53 [==============================] - 22s 404ms/step - loss: 0.5060 - acc: 0.7812 - auc: 0.9187 - precision_2: 0.7429 - recall_2: 0.6690 - f1score: 0.1966 - val_loss: 1.2920 - val_acc: 0.6228 - val_auc: 0.9192 - val_precision_2: 0.7437 - val_recall_2: 0.6704 - val_f1score: 0.1659\n",
      "Epoch 17/37\n",
      "54/53 [==============================] - 21s 390ms/step - loss: 0.4554 - acc: 0.8075 - auc: 0.9198 - precision_2: 0.7450 - recall_2: 0.6724 - f1score: 0.2003 - val_loss: 0.9843 - val_acc: 0.5982 - val_auc: 0.9203 - val_precision_2: 0.7459 - val_recall_2: 0.6742 - val_f1score: 0.1584\n",
      "Epoch 18/37\n",
      "54/53 [==============================] - 21s 383ms/step - loss: 0.4815 - acc: 0.8022 - auc: 0.9206 - precision_2: 0.7465 - recall_2: 0.6756 - f1score: 0.1986 - val_loss: 0.6565 - val_acc: 0.6158 - val_auc: 0.9211 - val_precision_2: 0.7474 - val_recall_2: 0.6772 - val_f1score: 0.1657\n",
      "Epoch 19/37\n",
      "54/53 [==============================] - 21s 385ms/step - loss: 0.4372 - acc: 0.8174 - auc: 0.9218 - precision_2: 0.7487 - recall_2: 0.6790 - f1score: 0.2022 - val_loss: 1.1592 - val_acc: 0.6018 - val_auc: 0.9221 - val_precision_2: 0.7494 - val_recall_2: 0.6802 - val_f1score: 0.1609\n",
      "Epoch 20/37\n",
      "54/53 [==============================] - 21s 385ms/step - loss: 0.4522 - acc: 0.8046 - auc: 0.9227 - precision_2: 0.7503 - recall_2: 0.6817 - f1score: nan - val_loss: 0.9835 - val_acc: 0.6000 - val_auc: 0.9231 - val_precision_2: 0.7508 - val_recall_2: 0.6827 - val_f1score: 0.1646\n",
      "Epoch 21/37\n",
      "54/53 [==============================] - 21s 386ms/step - loss: 0.4076 - acc: 0.8261 - auc: 0.9237 - precision_2: 0.7520 - recall_2: 0.6846 - f1score: nan - val_loss: 0.9800 - val_acc: 0.6140 - val_auc: 0.9243 - val_precision_2: 0.7529 - val_recall_2: 0.6862 - val_f1score: 0.1657\n",
      "Epoch 22/37\n",
      "54/53 [==============================] - 21s 388ms/step - loss: 0.4074 - acc: 0.8372 - auc: 0.9249 - precision_2: 0.7543 - recall_2: 0.6881 - f1score: nan - val_loss: 1.2130 - val_acc: 0.5860 - val_auc: 0.9252 - val_precision_2: 0.7550 - val_recall_2: 0.6894 - val_f1score: 0.1581\n",
      "Epoch 23/37\n",
      "54/53 [==============================] - 21s 387ms/step - loss: 0.4081 - acc: 0.8384 - auc: 0.9255 - precision_2: 0.7558 - recall_2: 0.6908 - f1score: 0.2061 - val_loss: 2.1102 - val_acc: 0.6263 - val_auc: 0.9260 - val_precision_2: 0.7570 - val_recall_2: 0.6925 - val_f1score: 0.1646\n",
      "Epoch 24/37\n",
      "54/53 [==============================] - 21s 383ms/step - loss: 0.3861 - acc: 0.8361 - auc: 0.9265 - precision_2: 0.7581 - recall_2: 0.6942 - f1score: 0.2084 - val_loss: 1.3597 - val_acc: 0.6193 - val_auc: 0.9270 - val_precision_2: 0.7589 - val_recall_2: 0.6956 - val_f1score: 0.1656\n",
      "Epoch 25/37\n",
      "54/53 [==============================] - 21s 385ms/step - loss: 0.3716 - acc: 0.8530 - auc: 0.9275 - precision_2: 0.7601 - recall_2: 0.6975 - f1score: 0.2097 - val_loss: 0.7673 - val_acc: 0.6246 - val_auc: 0.9279 - val_precision_2: 0.7610 - val_recall_2: 0.6990 - val_f1score: 0.1666\n",
      "Epoch 26/37\n",
      "54/53 [==============================] - 21s 385ms/step - loss: 0.3528 - acc: 0.8606 - auc: 0.9285 - precision_2: 0.7622 - recall_2: 0.7008 - f1score: 0.2119 - val_loss: 1.8949 - val_acc: 0.6035 - val_auc: 0.9290 - val_precision_2: 0.7632 - val_recall_2: 0.7024 - val_f1score: 0.1615\n",
      "Epoch 27/37\n",
      "54/53 [==============================] - 21s 382ms/step - loss: 0.3848 - acc: 0.8384 - auc: 0.9293 - precision_2: 0.7637 - recall_2: 0.7036 - f1score: 0.2094 - val_loss: 1.2377 - val_acc: 0.6000 - val_auc: 0.9296 - val_precision_2: 0.7642 - val_recall_2: 0.7047 - val_f1score: 0.1635\n",
      "Epoch 28/37\n",
      "54/53 [==============================] - 21s 382ms/step - loss: 0.3501 - acc: 0.8536 - auc: 0.9300 - precision_2: 0.7650 - recall_2: 0.7059 - f1score: nan - val_loss: 0.9473 - val_acc: 0.5737 - val_auc: 0.9304 - val_precision_2: 0.7656 - val_recall_2: 0.7071 - val_f1score: 0.1588\n"
     ]
    },
    {
     "name": "stdout",
     "output_type": "stream",
     "text": [
      "Epoch 29/37\n",
      "54/53 [==============================] - 21s 384ms/step - loss: 0.3519 - acc: 0.8571 - auc: 0.9307 - precision_2: 0.7663 - recall_2: 0.7083 - f1score: 0.2123 - val_loss: 0.9824 - val_acc: 0.6263 - val_auc: 0.9311 - val_precision_2: 0.7670 - val_recall_2: 0.7095 - val_f1score: 0.1662\n",
      "Epoch 30/37\n",
      "54/53 [==============================] - 21s 383ms/step - loss: 0.3238 - acc: 0.8646 - auc: 0.9316 - precision_2: 0.7682 - recall_2: 0.7111 - f1score: 0.2148 - val_loss: 1.1972 - val_acc: 0.6105 - val_auc: 0.9319 - val_precision_2: 0.7690 - val_recall_2: 0.7123 - val_f1score: 0.1625\n",
      "Epoch 31/37\n",
      "54/53 [==============================] - 21s 382ms/step - loss: 0.3079 - acc: 0.8728 - auc: 0.9324 - precision_2: 0.7700 - recall_2: 0.7137 - f1score: nan - val_loss: 1.2095 - val_acc: 0.6070 - val_auc: 0.9328 - val_precision_2: 0.7709 - val_recall_2: 0.7151 - val_f1score: 0.1634\n",
      "Epoch 32/37\n",
      "54/53 [==============================] - 21s 388ms/step - loss: 0.3140 - acc: 0.8676 - auc: 0.9331 - precision_2: 0.7715 - recall_2: 0.7163 - f1score: nan - val_loss: 0.9925 - val_acc: 0.6368 - val_auc: 0.9335 - val_precision_2: 0.7724 - val_recall_2: 0.7175 - val_f1score: 0.1677\n",
      "Epoch 33/37\n",
      "54/53 [==============================] - 21s 383ms/step - loss: 0.3196 - acc: 0.8635 - auc: 0.9340 - precision_2: 0.7733 - recall_2: 0.7188 - f1score: 0.2155 - val_loss: 2.0493 - val_acc: 0.5982 - val_auc: 0.9342 - val_precision_2: 0.7738 - val_recall_2: 0.7198 - val_f1score: 0.1610\n",
      "Epoch 34/37\n",
      "54/53 [==============================] - 21s 381ms/step - loss: 0.2906 - acc: 0.8816 - auc: 0.9345 - precision_2: 0.7745 - recall_2: 0.7210 - f1score: 0.2185 - val_loss: 1.4293 - val_acc: 0.6105 - val_auc: 0.9349 - val_precision_2: 0.7754 - val_recall_2: 0.7223 - val_f1score: 0.1655\n",
      "Epoch 35/37\n",
      "54/53 [==============================] - 21s 385ms/step - loss: 0.2861 - acc: 0.8862 - auc: 0.9353 - precision_2: 0.7761 - recall_2: 0.7233 - f1score: nan - val_loss: 1.7185 - val_acc: 0.6000 - val_auc: 0.9355 - val_precision_2: 0.7768 - val_recall_2: 0.7244 - val_f1score: 0.1605\n",
      "Epoch 36/37\n",
      "54/53 [==============================] - 21s 384ms/step - loss: 0.2797 - acc: 0.8862 - auc: 0.9359 - precision_2: 0.7775 - recall_2: 0.7256 - f1score: 0.2199 - val_loss: 1.3685 - val_acc: 0.6000 - val_auc: 0.9362 - val_precision_2: 0.7784 - val_recall_2: 0.7268 - val_f1score: 0.1616\n",
      "Epoch 37/37\n",
      "54/53 [==============================] - 21s 382ms/step - loss: 0.3048 - acc: 0.8786 - auc: 0.9365 - precision_2: 0.7791 - recall_2: 0.7279 - f1score: 0.2178 - val_loss: 1.3080 - val_acc: 0.6018 - val_auc: 0.9367 - val_precision_2: 0.7796 - val_recall_2: 0.7288 - val_f1score: 0.1636\n"
     ]
    }
   ],
   "source": [
    "import tensorflow as tf\n",
    "\n",
    "additional_model.compile(loss='categorical_crossentropy', \n",
    "              optimizer=optimizers.Adam(lr=1e-5),\n",
    "              metrics=['acc',tf.keras.metrics.AUC(name='auc'),\n",
    "                      tf.keras.metrics.Precision(),\n",
    "                      tf.keras.metrics.Recall(),f1score])\n",
    "\n",
    "history = additional_model.fit_generator(\n",
    "      train_generator,\n",
    "      steps_per_epoch = train_generator.samples /32,\n",
    "      epochs=37,\n",
    "      validation_data = validation_generator, \n",
    "      validation_steps = validation_generator.samples/32,\n",
    "    callbacks=[checkpoint])"
   ]
  },
  {
   "cell_type": "code",
   "execution_count": 18,
   "metadata": {},
   "outputs": [
    {
     "data": {
      "image/png": "[encoded data removed]",
      "text/plain": [
       "<Figure size 432x288 with 1 Axes>"
      ]
     },
     "metadata": {
      "needs_background": "light"
     },
     "output_type": "display_data"
    },
    {
     "data": {
      "image/png": "[encoded data removed]",
      "text/plain": [
       "<Figure size 432x288 with 1 Axes>"
      ]
     },
     "metadata": {
      "needs_background": "light"
     },
     "output_type": "display_data"
    }
   ],
   "source": [
    "acc = history.history['acc']\n",
    "val_acc = history.history['val_acc']\n",
    "loss = history.history['loss']\n",
    "val_loss = history.history['val_loss']\n",
    " \n",
    "epochs = range(1, len(acc) + 1)\n",
    " \n",
    "plt.plot(epochs, acc, 'bo', label='Training acc')\n",
    "plt.plot(epochs, val_acc, 'r', label='Validation acc')\n",
    "plt.title('Accuracy')\n",
    "plt.legend()\n",
    "plt.figure()\n",
    " \n",
    "plt.plot(epochs, loss, 'bo', label='Training loss')\n",
    "plt.plot(epochs, val_loss, 'r', label='Validation loss')\n",
    "plt.title('Loss')\n",
    "plt.legend()\n",
    " \n",
    "plt.show()"
   ]
  },
  {
   "cell_type": "code",
   "execution_count": 18,
   "metadata": {},
   "outputs": [],
   "source": [
    "X_test=np.load('X_test.npy')\n",
    "y_test=np.load('y_test.npy')"
   ]
  },
  {
   "cell_type": "code",
   "execution_count": 22,
   "metadata": {},
   "outputs": [
    {
     "name": "stdout",
     "output_type": "stream",
     "text": [
      "loss: 1.592, accuracy: 0.603, auc: 0.934, precision: 0.776, recall: 0.726, f1score: 0.162\n"
     ]
    }
   ],
   "source": [
    "_loss, _acc, _auc, _precision, _recall, _f1score  = additional_model.evaluate_generator(validation_generator, steps=32)\n",
    "print('loss: {:.3f}, accuracy: {:.3f}, auc: {:.3f}, precision: {:.3f}, recall: {:.3f}, f1score: {:.3f}'.format(_loss, _acc, _auc, _precision, _recall, _f1score))"
   ]
  },
  {
   "cell_type": "code",
   "execution_count": 21,
   "metadata": {},
   "outputs": [],
   "source": [
    "additional_model.save('VGG16_참고문헌_no_hist_1.h5')"
   ]
  },
  {
   "cell_type": "code",
   "execution_count": 1,
   "metadata": {},
   "outputs": [
    {
     "ename": "NameError",
     "evalue": "name 'additional_model' is not defined",
     "output_type": "error",
     "traceback": [
      "\u001b[1;31m---------------------------------------------------------------------------\u001b[0m",
      "\u001b[1;31mNameError\u001b[0m                                 Traceback (most recent call last)",
      "\u001b[1;32m<ipython-input-1-71b35ae073e8>\u001b[0m in \u001b[0;36m<module>\u001b[1;34m\u001b[0m\n\u001b[0;32m      1\u001b[0m \u001b[1;32mfrom\u001b[0m \u001b[0msklearn\u001b[0m\u001b[1;33m.\u001b[0m\u001b[0mmetrics\u001b[0m \u001b[1;32mimport\u001b[0m \u001b[0mroc_auc_score\u001b[0m\u001b[1;33m\u001b[0m\u001b[1;33m\u001b[0m\u001b[0m\n\u001b[0;32m      2\u001b[0m \u001b[1;33m\u001b[0m\u001b[0m\n\u001b[1;32m----> 3\u001b[1;33m \u001b[0my_pred\u001b[0m \u001b[1;33m=\u001b[0m \u001b[0madditional_model\u001b[0m\u001b[1;33m.\u001b[0m\u001b[0mpredict\u001b[0m\u001b[1;33m(\u001b[0m\u001b[0mX_val\u001b[0m\u001b[1;33m)\u001b[0m\u001b[1;33m\u001b[0m\u001b[1;33m\u001b[0m\u001b[0m\n\u001b[0m\u001b[0;32m      4\u001b[0m \u001b[0mroc_auc_score\u001b[0m\u001b[1;33m(\u001b[0m\u001b[0my_val\u001b[0m\u001b[1;33m,\u001b[0m \u001b[0my_pred\u001b[0m\u001b[1;33m)\u001b[0m\u001b[1;33m\u001b[0m\u001b[1;33m\u001b[0m\u001b[0m\n",
      "\u001b[1;31mNameError\u001b[0m: name 'additional_model' is not defined"
     ]
    }
   ],
   "source": [
    "from sklearn.metrics import roc_auc_score\n",
    "\n",
    "y_pred = additional_model.predict(X_val)\n",
    "roc_auc_score(y_val, y_pred)"
   ]
  },
  {
   "cell_type": "code",
   "execution_count": null,
   "metadata": {},
   "outputs": [],
   "source": []
  }
 ],
 "metadata": {
  "kernelspec": {
   "display_name": "Python 3",
   "language": "python",
   "name": "python3"
  },
  "language_info": {
   "codemirror_mode": {
    "name": "ipython",
    "version": 3
   },
   "file_extension": ".py",
   "mimetype": "text/x-python",
   "name": "python",
   "nbconvert_exporter": "python",
   "pygments_lexer": "ipython3",
   "version": "3.7.7"
  }
 },
 "nbformat": 4,
 "nbformat_minor": 2
}
