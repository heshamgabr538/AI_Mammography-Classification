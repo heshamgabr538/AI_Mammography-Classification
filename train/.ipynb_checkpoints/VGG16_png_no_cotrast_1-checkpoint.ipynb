{
 "cells": [
  {
   "cell_type": "code",
   "execution_count": 1,
   "metadata": {},
   "outputs": [
    {
     "data": {
      "text/plain": [
       "'C:\\\\Users\\\\Owner2\\\\Desktop\\\\G팔로미_vuno'"
      ]
     },
     "execution_count": 1,
     "metadata": {},
     "output_type": "execute_result"
    }
   ],
   "source": [
    "import os\n",
    "import pandas as pd\n",
    "from matplotlib import pyplot as plt\n",
    "import cv2\n",
    "import numpy as np\n",
    "\n",
    "#data path 수정\n",
    "os.chdir(\"C:\\\\Users\\\\Owner2\\\\Desktop\\\\G팔로미_vuno\")\n",
    "os.getcwd()"
   ]
  },
  {
   "cell_type": "code",
   "execution_count": 2,
   "metadata": {},
   "outputs": [],
   "source": [
    "train_dir = './train/no_contrast'"
   ]
  },
  {
   "cell_type": "code",
   "execution_count": 3,
   "metadata": {},
   "outputs": [
    {
     "name": "stderr",
     "output_type": "stream",
     "text": [
      "Using TensorFlow backend.\n"
     ]
    }
   ],
   "source": [
    "from keras.preprocessing.image import ImageDataGenerator\n",
    "\n",
    "train_datagen = ImageDataGenerator(\n",
    "    #featurewise_center=True, #center 중심 유지\n",
    "    #featurewise_std_normalization=True, #normalization\n",
    "    rotation_range=25.0,\n",
    "    #width_shift_range=0.2,\n",
    "    #height_shift_range=0.2,\n",
    "    #brightness_range=[0.2,1.0],\n",
    "    zoom_range=[0.8,1.2],\n",
    "    horizontal_flip=True,\n",
    "    validation_split=0.25) #수평방향 뒤집기"
   ]
  },
  {
   "cell_type": "code",
   "execution_count": 4,
   "metadata": {},
   "outputs": [
    {
     "name": "stdout",
     "output_type": "stream",
     "text": [
      "Found 2148 images belonging to 4 classes.\n",
      "Found 713 images belonging to 4 classes.\n"
     ]
    }
   ],
   "source": [
    "train_generator = train_datagen.flow_from_directory(\n",
    "        # 타깃 디렉터리\n",
    "        train_dir,\n",
    "        # 모든 이미지의 크기를 150 × 150로 변경합니다\n",
    "        target_size=(224,224),\n",
    "        batch_size=32,\n",
    "        subset='training')\n",
    "\n",
    "validation_generator = train_datagen.flow_from_directory(\n",
    "    train_dir, # same directory as training data\n",
    "    target_size=(224,224),\n",
    "    batch_size=32,\n",
    "    subset='validation') # set as validation data"
   ]
  },
  {
   "cell_type": "code",
   "execution_count": 5,
   "metadata": {},
   "outputs": [
    {
     "name": "stdout",
     "output_type": "stream",
     "text": [
      "Model: \"vgg16\"\n",
      "_________________________________________________________________\n",
      "Layer (type)                 Output Shape              Param #   \n",
      "=================================================================\n",
      "input_1 (InputLayer)         (None, 224, 224, 3)       0         \n",
      "_________________________________________________________________\n",
      "block1_conv1 (Conv2D)        (None, 224, 224, 64)      1792      \n",
      "_________________________________________________________________\n",
      "block1_conv2 (Conv2D)        (None, 224, 224, 64)      36928     \n",
      "_________________________________________________________________\n",
      "block1_pool (MaxPooling2D)   (None, 112, 112, 64)      0         \n",
      "_________________________________________________________________\n",
      "block2_conv1 (Conv2D)        (None, 112, 112, 128)     73856     \n",
      "_________________________________________________________________\n",
      "block2_conv2 (Conv2D)        (None, 112, 112, 128)     147584    \n",
      "_________________________________________________________________\n",
      "block2_pool (MaxPooling2D)   (None, 56, 56, 128)       0         \n",
      "_________________________________________________________________\n",
      "block3_conv1 (Conv2D)        (None, 56, 56, 256)       295168    \n",
      "_________________________________________________________________\n",
      "block3_conv2 (Conv2D)        (None, 56, 56, 256)       590080    \n",
      "_________________________________________________________________\n",
      "block3_conv3 (Conv2D)        (None, 56, 56, 256)       590080    \n",
      "_________________________________________________________________\n",
      "block3_pool (MaxPooling2D)   (None, 28, 28, 256)       0         \n",
      "_________________________________________________________________\n",
      "block4_conv1 (Conv2D)        (None, 28, 28, 512)       1180160   \n",
      "_________________________________________________________________\n",
      "block4_conv2 (Conv2D)        (None, 28, 28, 512)       2359808   \n",
      "_________________________________________________________________\n",
      "block4_conv3 (Conv2D)        (None, 28, 28, 512)       2359808   \n",
      "_________________________________________________________________\n",
      "block4_pool (MaxPooling2D)   (None, 14, 14, 512)       0         \n",
      "_________________________________________________________________\n",
      "block5_conv1 (Conv2D)        (None, 14, 14, 512)       2359808   \n",
      "_________________________________________________________________\n",
      "block5_conv2 (Conv2D)        (None, 14, 14, 512)       2359808   \n",
      "_________________________________________________________________\n",
      "block5_conv3 (Conv2D)        (None, 14, 14, 512)       2359808   \n",
      "_________________________________________________________________\n",
      "block5_pool (MaxPooling2D)   (None, 7, 7, 512)         0         \n",
      "=================================================================\n",
      "Total params: 14,714,688\n",
      "Trainable params: 14,714,688\n",
      "Non-trainable params: 0\n",
      "_________________________________________________________________\n"
     ]
    }
   ],
   "source": [
    "from keras import models, layers\n",
    "from keras import Input\n",
    "from keras.applications import VGG16\n",
    "from keras.models import Model, load_model\n",
    "from keras.preprocessing.image import ImageDataGenerator\n",
    "from keras import optimizers, initializers, regularizers, metrics\n",
    "from keras.callbacks import ModelCheckpoint, EarlyStopping\n",
    "from keras.layers import BatchNormalization, Conv2D, Activation, Dense, GlobalAveragePooling2D, MaxPooling2D, ZeroPadding2D, Add\n",
    "\n",
    "model = VGG16(weights=None, include_top=False, input_shape=(224, 224, 3))\n",
    "model.trainable = True\n",
    "model.summary()"
   ]
  },
  {
   "cell_type": "code",
   "execution_count": 6,
   "metadata": {},
   "outputs": [
    {
     "name": "stdout",
     "output_type": "stream",
     "text": [
      "Model: \"sequential_1\"\n",
      "_________________________________________________________________\n",
      "Layer (type)                 Output Shape              Param #   \n",
      "=================================================================\n",
      "vgg16 (Model)                (None, 7, 7, 512)         14714688  \n",
      "_________________________________________________________________\n",
      "flatten_1 (Flatten)          (None, 25088)             0         \n",
      "_________________________________________________________________\n",
      "dense_1 (Dense)              (None, 4)                 100356    \n",
      "=================================================================\n",
      "Total params: 14,815,044\n",
      "Trainable params: 14,815,044\n",
      "Non-trainable params: 0\n",
      "_________________________________________________________________\n"
     ]
    }
   ],
   "source": [
    "#customizing my layers\n",
    "additional_model = models.Sequential()\n",
    "additional_model.add(model)\n",
    "additional_model.add(layers.Flatten())\n",
    "additional_model.add(layers.Dense(4, activation='softmax'))\n",
    "\n",
    "additional_model.summary()"
   ]
  },
  {
   "cell_type": "code",
   "execution_count": 7,
   "metadata": {},
   "outputs": [],
   "source": [
    "def f1score(precision, recall):\n",
    "    _f1score = ( 2 * recall * precision) / (recall + precision)\n",
    "    \n",
    "    # return a single tensor value\n",
    "    return _f1score"
   ]
  },
  {
   "cell_type": "code",
   "execution_count": 8,
   "metadata": {},
   "outputs": [],
   "source": [
    "# checkpoint = ModelCheckpoint(filepath='My_VGG_{epoch:03d}_{val_loss:.7f}.hdf5',monitor='loss', mode='min', save_best_only=True)\n",
    "checkpoint = ModelCheckpoint(filepath='VGG16_png_1.hdf5', \n",
    "            monitor='val_loss', \n",
    "            mode='min', \n",
    "            save_best_only=True)"
   ]
  },
  {
   "cell_type": "code",
   "execution_count": 9,
   "metadata": {},
   "outputs": [],
   "source": [
    "import tensorflow as tf\n",
    "additional_model.compile(loss='categorical_crossentropy', \n",
    "              optimizer=optimizers.Adam(lr=1e-4),\n",
    "              metrics=['acc',tf.keras.metrics.AUC(),\n",
    "                      tf.keras.metrics.Precision(),\n",
    "                      tf.keras.metrics.Recall(),f1score])"
   ]
  },
  {
   "cell_type": "code",
   "execution_count": 10,
   "metadata": {},
   "outputs": [
    {
     "name": "stdout",
     "output_type": "stream",
     "text": [
      "Epoch 1/100\n",
      "68/67 [==============================] - 33s 478ms/step - loss: 1.4341 - acc: 0.3194 - auc: 0.5470 - precision: 0.2351 - recall: 0.0381 - f1score: 0.1014 - val_loss: 1.2584 - val_acc: 0.3506 - val_auc: 0.5656 - val_precision: 0.2389 - val_recall: 0.0107 - val_f1score: 0.1030\n",
      "Epoch 2/100\n",
      "68/67 [==============================] - 26s 377ms/step - loss: 1.3658 - acc: 0.3501 - auc: 0.5718 - precision: 0.2389 - recall: 0.0070 - f1score: 0.1027 - val_loss: 1.2382 - val_acc: 0.3506 - val_auc: 0.5711 - val_precision: 0.2389 - val_recall: 0.0050 - val_f1score: 0.1039\n",
      "Epoch 3/100\n",
      "68/67 [==============================] - 25s 371ms/step - loss: 1.3640 - acc: 0.3496 - auc: 0.5732 - precision: 0.2397 - recall: 0.0040 - f1score: 0.1031 - val_loss: 1.3604 - val_acc: 0.3941 - val_auc: 0.5750 - val_precision: 0.2456 - val_recall: 0.0034 - val_f1score: 0.1016\n",
      "Epoch 4/100\n",
      "68/67 [==============================] - 26s 377ms/step - loss: 1.3655 - acc: 0.3492 - auc: 0.5771 - precision: 0.2535 - recall: 0.0036 - f1score: 0.1027 - val_loss: 1.3297 - val_acc: 0.3506 - val_auc: 0.5781 - val_precision: 0.2568 - val_recall: 0.0034 - val_f1score: 0.1032\n",
      "Epoch 5/100\n",
      "68/67 [==============================] - 25s 371ms/step - loss: 1.3458 - acc: 0.3738 - auc: 0.5801 - precision: 0.2691 - recall: 0.0033 - f1score: 0.1055 - val_loss: 1.5905 - val_acc: 0.3254 - val_auc: 0.5824 - val_precision: 0.3222 - val_recall: 0.0045 - val_f1score: 0.1039\n",
      "Epoch 6/100\n",
      "68/67 [==============================] - 25s 375ms/step - loss: 1.3276 - acc: 0.3943 - auc: 0.5839 - precision: 0.3796 - recall: 0.0057 - f1score: 0.1079 - val_loss: 1.4555 - val_acc: 0.2777 - val_auc: 0.5864 - val_precision: 0.4750 - val_recall: 0.0097 - val_f1score: 0.1034\n",
      "Epoch 7/100\n",
      "68/67 [==============================] - 25s 375ms/step - loss: 1.2308 - acc: 0.4223 - auc: 0.5920 - precision: 0.5491 - recall: 0.0176 - f1score: 0.1194 - val_loss: 1.2671 - val_acc: 0.3268 - val_auc: 0.5996 - val_precision: 0.6064 - val_recall: 0.0280 - val_f1score: 0.1116\n",
      "Epoch 8/100\n",
      "68/67 [==============================] - 25s 367ms/step - loss: 1.1717 - acc: 0.4651 - auc: 0.6072 - precision: 0.6266 - recall: 0.0387 - f1score: 0.1263 - val_loss: 1.3401 - val_acc: 0.4025 - val_auc: 0.6156 - val_precision: 0.6361 - val_recall: 0.0500 - val_f1score: 0.1191\n",
      "Epoch 9/100\n",
      "68/67 [==============================] - 25s 371ms/step - loss: 1.1232 - acc: 0.4772 - auc: 0.6239 - precision: 0.6372 - recall: 0.0606 - f1score: 0.1317 - val_loss: 0.8988 - val_acc: 0.4516 - val_auc: 0.6332 - val_precision: 0.6401 - val_recall: 0.0713 - val_f1score: 0.1269\n",
      "Epoch 10/100\n",
      "68/67 [==============================] - 25s 371ms/step - loss: 1.0664 - acc: 0.5209 - auc: 0.6423 - precision: 0.6408 - recall: 0.0820 - f1score: 0.1381 - val_loss: 1.0134 - val_acc: 0.4067 - val_auc: 0.6503 - val_precision: 0.6383 - val_recall: 0.0922 - val_f1score: 0.1207\n",
      "Epoch 11/100\n",
      "68/67 [==============================] - 26s 377ms/step - loss: 1.0425 - acc: 0.5200 - auc: 0.6575 - precision: 0.6393 - recall: 0.1015 - f1score: 0.1404 - val_loss: 1.1361 - val_acc: 0.4194 - val_auc: 0.6645 - val_precision: 0.6422 - val_recall: 0.1105 - val_f1score: 0.1272\n",
      "Epoch 12/100\n",
      "68/67 [==============================] - 25s 373ms/step - loss: 1.0257 - acc: 0.5372 - auc: 0.6708 - precision: 0.6435 - recall: 0.1183 - f1score: 0.1422 - val_loss: 1.1199 - val_acc: 0.4979 - val_auc: 0.6777 - val_precision: 0.6479 - val_recall: 0.1249 - val_f1score: 0.1279\n",
      "Epoch 13/100\n",
      "68/67 [==============================] - 25s 373ms/step - loss: 0.9874 - acc: 0.5433 - auc: 0.6840 - precision: 0.6511 - recall: 0.1317 - f1score: 0.1460 - val_loss: 1.3435 - val_acc: 0.4698 - val_auc: 0.6903 - val_precision: 0.6517 - val_recall: 0.1399 - val_f1score: 0.1328\n",
      "Epoch 14/100\n",
      "68/67 [==============================] - 25s 371ms/step - loss: 0.9981 - acc: 0.5386 - auc: 0.6957 - precision: 0.6506 - recall: 0.1467 - f1score: 0.1443 - val_loss: 1.1182 - val_acc: 0.4516 - val_auc: 0.7005 - val_precision: 0.6513 - val_recall: 0.1522 - val_f1score: 0.1314\n",
      "Epoch 15/100\n",
      "68/67 [==============================] - 25s 373ms/step - loss: 0.9713 - acc: 0.5498 - auc: 0.7052 - precision: 0.6523 - recall: 0.1579 - f1score: 0.1479 - val_loss: 1.4254 - val_acc: 0.4418 - val_auc: 0.7095 - val_precision: 0.6510 - val_recall: 0.1642 - val_f1score: 0.1321\n",
      "Epoch 16/100\n",
      "68/67 [==============================] - 25s 371ms/step - loss: 0.9610 - acc: 0.5466 - auc: 0.7140 - precision: 0.6506 - recall: 0.1707 - f1score: 0.1488 - val_loss: 1.1486 - val_acc: 0.4684 - val_auc: 0.7177 - val_precision: 0.6528 - val_recall: 0.1755 - val_f1score: 0.1278\n",
      "Epoch 17/100\n",
      "68/67 [==============================] - 26s 377ms/step - loss: 0.9656 - acc: 0.5535 - auc: 0.7212 - precision: 0.6545 - recall: 0.1796 - f1score: 0.1482 - val_loss: 0.7406 - val_acc: 0.4853 - val_auc: 0.7248 - val_precision: 0.6561 - val_recall: 0.1838 - val_f1score: 0.1334\n",
      "Epoch 18/100\n",
      "68/67 [==============================] - 26s 376ms/step - loss: 0.9396 - acc: 0.5610 - auc: 0.7282 - precision: 0.6566 - recall: 0.1885 - f1score: 0.1509 - val_loss: 0.9456 - val_acc: 0.4698 - val_auc: 0.7314 - val_precision: 0.6571 - val_recall: 0.1923 - val_f1score: 0.1305\n",
      "Epoch 19/100\n",
      "68/67 [==============================] - 25s 372ms/step - loss: 0.9408 - acc: 0.5591 - auc: 0.7345 - precision: 0.6588 - recall: 0.1961 - f1score: 0.1503 - val_loss: 1.4164 - val_acc: 0.4642 - val_auc: 0.7371 - val_precision: 0.6595 - val_recall: 0.1992 - val_f1score: 0.1283\n",
      "Epoch 20/100\n",
      "68/67 [==============================] - 25s 374ms/step - loss: 0.9243 - acc: 0.5754 - auc: 0.7397 - precision: 0.6602 - recall: 0.2029 - f1score: 0.1524 - val_loss: 1.2532 - val_acc: 0.4600 - val_auc: 0.7425 - val_precision: 0.6595 - val_recall: 0.2072 - val_f1score: 0.1358\n",
      "Epoch 21/100\n",
      "68/67 [==============================] - 25s 371ms/step - loss: 0.9307 - acc: 0.5647 - auc: 0.7449 - precision: 0.6589 - recall: 0.2114 - f1score: 0.1527 - val_loss: 1.2653 - val_acc: 0.4937 - val_auc: 0.7474 - val_precision: 0.6604 - val_recall: 0.2153 - val_f1score: 0.1359\n",
      "Epoch 22/100\n",
      "68/67 [==============================] - 25s 373ms/step - loss: 0.9290 - acc: 0.5880 - auc: 0.7497 - precision: 0.6609 - recall: 0.2190 - f1score: 0.1529 - val_loss: 0.9978 - val_acc: 0.5035 - val_auc: 0.7520 - val_precision: 0.6617 - val_recall: 0.2220 - val_f1score: 0.1310\n",
      "Epoch 23/100\n",
      "68/67 [==============================] - 25s 372ms/step - loss: 0.9304 - acc: 0.5791 - auc: 0.7540 - precision: 0.6622 - recall: 0.2246 - f1score: 0.1523 - val_loss: 1.0823 - val_acc: 0.4250 - val_auc: 0.7558 - val_precision: 0.6617 - val_recall: 0.2275 - val_f1score: 0.1298\n",
      "Epoch 24/100\n",
      "68/67 [==============================] - 25s 373ms/step - loss: 0.9237 - acc: 0.5750 - auc: 0.7576 - precision: 0.6613 - recall: 0.2305 - f1score: 0.1531 - val_loss: 1.2051 - val_acc: 0.4811 - val_auc: 0.7593 - val_precision: 0.6625 - val_recall: 0.2326 - val_f1score: 0.1269\n",
      "Epoch 25/100\n",
      "68/67 [==============================] - 25s 373ms/step - loss: 0.9170 - acc: 0.5894 - auc: 0.7611 - precision: 0.6634 - recall: 0.2343 - f1score: 0.1539 - val_loss: 1.1041 - val_acc: 0.4572 - val_auc: 0.7629 - val_precision: 0.6641 - val_recall: 0.2371 - val_f1score: 0.1323\n",
      "Epoch 26/100\n",
      "68/67 [==============================] - 25s 372ms/step - loss: 0.8981 - acc: 0.5857 - auc: 0.7646 - precision: 0.6639 - recall: 0.2400 - f1score: 0.1558 - val_loss: 1.5266 - val_acc: 0.4614 - val_auc: 0.7661 - val_precision: 0.6648 - val_recall: 0.2422 - val_f1score: 0.1291\n",
      "Epoch 27/100\n",
      "68/67 [==============================] - 26s 380ms/step - loss: 0.8875 - acc: 0.5829 - auc: 0.7676 - precision: 0.6659 - recall: 0.2442 - f1score: 0.1559 - val_loss: 1.0522 - val_acc: 0.4250 - val_auc: 0.7692 - val_precision: 0.6650 - val_recall: 0.2475 - val_f1score: 0.1357\n",
      "Epoch 28/100\n",
      "68/67 [==============================] - 25s 374ms/step - loss: 0.8809 - acc: 0.5926 - auc: 0.7706 - precision: 0.6644 - recall: 0.2504 - f1score: 0.1569 - val_loss: 1.0730 - val_acc: 0.4628 - val_auc: 0.7720 - val_precision: 0.6643 - val_recall: 0.2530 - val_f1score: 0.1356\n",
      "Epoch 29/100\n"
     ]
    },
    {
     "name": "stdout",
     "output_type": "stream",
     "text": [
      "68/67 [==============================] - 25s 375ms/step - loss: 0.8884 - acc: 0.5959 - auc: 0.7736 - precision: 0.6648 - recall: 0.2558 - f1score: 0.1570 - val_loss: 1.0892 - val_acc: 0.4698 - val_auc: 0.7750 - val_precision: 0.6647 - val_recall: 0.2579 - val_f1score: 0.1354\n",
      "Epoch 30/100\n",
      "68/67 [==============================] - 25s 373ms/step - loss: 0.8779 - acc: 0.6047 - auc: 0.7764 - precision: 0.6653 - recall: 0.2603 - f1score: 0.1575 - val_loss: 1.1017 - val_acc: 0.4712 - val_auc: 0.7777 - val_precision: 0.6649 - val_recall: 0.2627 - val_f1score: 0.1399\n",
      "Epoch 31/100\n",
      "68/67 [==============================] - 25s 373ms/step - loss: 0.8964 - acc: 0.6020 - auc: 0.7789 - precision: 0.6649 - recall: 0.2653 - f1score: 0.1567 - val_loss: 1.2774 - val_acc: 0.4614 - val_auc: 0.7800 - val_precision: 0.6645 - val_recall: 0.2671 - val_f1score: 0.1350\n",
      "Epoch 32/100\n",
      "68/67 [==============================] - 26s 379ms/step - loss: 0.8636 - acc: 0.6122 - auc: 0.7812 - precision: 0.6652 - recall: 0.2697 - f1score: 0.1596 - val_loss: 1.0827 - val_acc: 0.4712 - val_auc: 0.7824 - val_precision: 0.6650 - val_recall: 0.2724 - val_f1score: 0.1401\n",
      "Epoch 33/100\n",
      "68/67 [==============================] - 25s 372ms/step - loss: 0.8685 - acc: 0.5973 - auc: 0.7836 - precision: 0.6652 - recall: 0.2749 - f1score: 0.1581 - val_loss: 0.7744 - val_acc: 0.4460 - val_auc: 0.7846 - val_precision: 0.6650 - val_recall: 0.2768 - val_f1score: 0.1343\n",
      "Epoch 34/100\n",
      "68/67 [==============================] - 25s 372ms/step - loss: 0.8582 - acc: 0.6089 - auc: 0.7857 - precision: 0.6652 - recall: 0.2790 - f1score: 0.1599 - val_loss: 0.8211 - val_acc: 0.5161 - val_auc: 0.7868 - val_precision: 0.6654 - val_recall: 0.2811 - val_f1score: 0.1386\n",
      "Epoch 35/100\n",
      "68/67 [==============================] - 26s 378ms/step - loss: 0.8713 - acc: 0.6029 - auc: 0.7879 - precision: 0.6657 - recall: 0.2830 - f1score: 0.1580 - val_loss: 0.7782 - val_acc: 0.4923 - val_auc: 0.7888 - val_precision: 0.6655 - val_recall: 0.2847 - val_f1score: 0.1377\n",
      "Epoch 36/100\n",
      "68/67 [==============================] - 25s 373ms/step - loss: 0.8345 - acc: 0.6252 - auc: 0.7898 - precision: 0.6658 - recall: 0.2868 - f1score: 0.1617 - val_loss: 1.7823 - val_acc: 0.4446 - val_auc: 0.7909 - val_precision: 0.6657 - val_recall: 0.2891 - val_f1score: 0.1379\n",
      "Epoch 37/100\n",
      "68/67 [==============================] - 25s 371ms/step - loss: 0.8396 - acc: 0.6192 - auc: 0.7919 - precision: 0.6655 - recall: 0.2912 - f1score: 0.1617 - val_loss: 1.4846 - val_acc: 0.4418 - val_auc: 0.7928 - val_precision: 0.6655 - val_recall: 0.2931 - val_f1score: 0.1355\n",
      "Epoch 38/100\n",
      "68/67 [==============================] - 25s 374ms/step - loss: 0.8558 - acc: 0.6122 - auc: 0.7936 - precision: 0.6655 - recall: 0.2949 - f1score: 0.1599 - val_loss: 0.9912 - val_acc: 0.4755 - val_auc: 0.7945 - val_precision: 0.6654 - val_recall: 0.2966 - val_f1score: 0.1374\n",
      "Epoch 39/100\n",
      "68/67 [==============================] - 25s 372ms/step - loss: 0.8440 - acc: 0.6178 - auc: 0.7954 - precision: 0.6651 - recall: 0.2986 - f1score: 0.1613 - val_loss: 0.7576 - val_acc: 0.4895 - val_auc: 0.7962 - val_precision: 0.6655 - val_recall: 0.3002 - val_f1score: 0.1374\n",
      "Epoch 40/100\n",
      "68/67 [==============================] - 25s 372ms/step - loss: 0.8282 - acc: 0.6276 - auc: 0.7971 - precision: 0.6661 - recall: 0.3021 - f1score: 0.1631 - val_loss: 0.8881 - val_acc: 0.4825 - val_auc: 0.7980 - val_precision: 0.6661 - val_recall: 0.3040 - val_f1score: 0.1409\n",
      "Epoch 41/100\n",
      "68/67 [==============================] - 25s 374ms/step - loss: 0.8154 - acc: 0.6257 - auc: 0.7989 - precision: 0.6661 - recall: 0.3059 - f1score: 0.1633 - val_loss: 1.4957 - val_acc: 0.5133 - val_auc: 0.7998 - val_precision: 0.6660 - val_recall: 0.3079 - val_f1score: 0.1445\n",
      "Epoch 42/100\n",
      "68/67 [==============================] - 25s 372ms/step - loss: 0.8270 - acc: 0.6169 - auc: 0.8007 - precision: 0.6664 - recall: 0.3099 - f1score: 0.1625 - val_loss: 0.8692 - val_acc: 0.5049 - val_auc: 0.8014 - val_precision: 0.6665 - val_recall: 0.3117 - val_f1score: 0.1421\n",
      "Epoch 43/100\n",
      "68/67 [==============================] - 25s 371ms/step - loss: 0.8083 - acc: 0.6364 - auc: 0.8022 - precision: 0.6667 - recall: 0.3136 - f1score: 0.1646 - val_loss: 1.3836 - val_acc: 0.4530 - val_auc: 0.8030 - val_precision: 0.6665 - val_recall: 0.3154 - val_f1score: 0.1401\n",
      "Epoch 44/100\n",
      "68/67 [==============================] - 25s 372ms/step - loss: 0.8225 - acc: 0.6252 - auc: 0.8037 - precision: 0.6663 - recall: 0.3171 - f1score: 0.1629 - val_loss: 1.1169 - val_acc: 0.4979 - val_auc: 0.8044 - val_precision: 0.6666 - val_recall: 0.3188 - val_f1score: 0.1418\n",
      "Epoch 45/100\n",
      "68/67 [==============================] - 25s 372ms/step - loss: 0.8112 - acc: 0.6313 - auc: 0.8051 - precision: 0.6666 - recall: 0.3205 - f1score: 0.1645 - val_loss: 1.1158 - val_acc: 0.5049 - val_auc: 0.8059 - val_precision: 0.6666 - val_recall: 0.3221 - val_f1score: 0.1455\n",
      "Epoch 46/100\n",
      "68/67 [==============================] - 25s 374ms/step - loss: 0.8197 - acc: 0.6141 - auc: 0.8066 - precision: 0.6668 - recall: 0.3239 - f1score: 0.1638 - val_loss: 1.0494 - val_acc: 0.4825 - val_auc: 0.8072 - val_precision: 0.6666 - val_recall: 0.3255 - val_f1score: 0.1413\n",
      "Epoch 47/100\n",
      "68/67 [==============================] - 26s 377ms/step - loss: 0.8160 - acc: 0.6285 - auc: 0.8079 - precision: 0.6665 - recall: 0.3271 - f1score: 0.1640 - val_loss: 0.9097 - val_acc: 0.5063 - val_auc: 0.8086 - val_precision: 0.6665 - val_recall: 0.3286 - val_f1score: 0.1437\n",
      "Epoch 48/100\n",
      "68/67 [==============================] - 25s 371ms/step - loss: 0.7889 - acc: 0.6476 - auc: 0.8093 - precision: 0.6667 - recall: 0.3305 - f1score: 0.1663 - val_loss: 0.9617 - val_acc: 0.5175 - val_auc: 0.8100 - val_precision: 0.6669 - val_recall: 0.3322 - val_f1score: 0.1448\n",
      "Epoch 49/100\n",
      "68/67 [==============================] - 25s 371ms/step - loss: 0.7823 - acc: 0.6355 - auc: 0.8107 - precision: 0.6672 - recall: 0.3340 - f1score: 0.1671 - val_loss: 1.1000 - val_acc: 0.4656 - val_auc: 0.8113 - val_precision: 0.6673 - val_recall: 0.3353 - val_f1score: 0.1382\n",
      "Epoch 50/100\n",
      "68/67 [==============================] - 25s 372ms/step - loss: 0.7943 - acc: 0.6541 - auc: 0.8120 - precision: 0.6676 - recall: 0.3368 - f1score: 0.1667 - val_loss: 1.1541 - val_acc: 0.4698 - val_auc: 0.8126 - val_precision: 0.6676 - val_recall: 0.3382 - val_f1score: 0.1403\n",
      "Epoch 51/100\n",
      "68/67 [==============================] - 25s 372ms/step - loss: 0.7852 - acc: 0.6476 - auc: 0.8132 - precision: 0.6678 - recall: 0.3396 - f1score: 0.1668 - val_loss: 1.0570 - val_acc: 0.5035 - val_auc: 0.8138 - val_precision: 0.6682 - val_recall: 0.3413 - val_f1score: 0.1421\n",
      "Epoch 52/100\n",
      "68/67 [==============================] - 25s 373ms/step - loss: 0.7923 - acc: 0.6429 - auc: 0.8144 - precision: 0.6684 - recall: 0.3426 - f1score: 0.1665 - val_loss: 1.2387 - val_acc: 0.4572 - val_auc: 0.8149 - val_precision: 0.6685 - val_recall: 0.3441 - val_f1score: 0.1389\n",
      "Epoch 53/100\n",
      "68/67 [==============================] - 26s 376ms/step - loss: 0.7729 - acc: 0.6555 - auc: 0.8155 - precision: 0.6686 - recall: 0.3456 - f1score: 0.1688 - val_loss: 1.6681 - val_acc: 0.4712 - val_auc: 0.8161 - val_precision: 0.6687 - val_recall: 0.3471 - val_f1score: 0.1405\n",
      "Epoch 54/100\n",
      "68/67 [==============================] - 25s 372ms/step - loss: 0.7889 - acc: 0.6555 - auc: 0.8166 - precision: 0.6688 - recall: 0.3487 - f1score: 0.1666 - val_loss: 1.4008 - val_acc: 0.5105 - val_auc: 0.8171 - val_precision: 0.6690 - val_recall: 0.3499 - val_f1score: 0.1405\n",
      "Epoch 55/100\n",
      "68/67 [==============================] - 25s 374ms/step - loss: 0.7570 - acc: 0.6657 - auc: 0.8177 - precision: 0.6694 - recall: 0.3514 - f1score: 0.1700 - val_loss: 1.3275 - val_acc: 0.4811 - val_auc: 0.8182 - val_precision: 0.6694 - val_recall: 0.3530 - val_f1score: 0.1411\n",
      "Epoch 56/100\n",
      "68/67 [==============================] - 26s 375ms/step - loss: 0.7590 - acc: 0.6578 - auc: 0.8188 - precision: 0.6695 - recall: 0.3546 - f1score: 0.1697 - val_loss: 0.7357 - val_acc: 0.4881 - val_auc: 0.8193 - val_precision: 0.6694 - val_recall: 0.3558 - val_f1score: 0.1423\n",
      "Epoch 57/100\n"
     ]
    },
    {
     "name": "stdout",
     "output_type": "stream",
     "text": [
      "68/67 [==============================] - 26s 377ms/step - loss: 0.7588 - acc: 0.6690 - auc: 0.8199 - precision: 0.6696 - recall: 0.3572 - f1score: 0.1708 - val_loss: 1.2515 - val_acc: 0.4923 - val_auc: 0.8204 - val_precision: 0.6698 - val_recall: 0.3587 - val_f1score: 0.1445\n",
      "Epoch 58/100\n",
      "68/67 [==============================] - 25s 372ms/step - loss: 0.7446 - acc: 0.6643 - auc: 0.8210 - precision: 0.6701 - recall: 0.3603 - f1score: 0.1715 - val_loss: 1.3949 - val_acc: 0.5035 - val_auc: 0.8215 - val_precision: 0.6704 - val_recall: 0.3618 - val_f1score: 0.1434\n",
      "Epoch 59/100\n",
      "68/67 [==============================] - 25s 373ms/step - loss: 0.7802 - acc: 0.6560 - auc: 0.8220 - precision: 0.6706 - recall: 0.3631 - f1score: 0.1691 - val_loss: 1.1531 - val_acc: 0.5245 - val_auc: 0.8225 - val_precision: 0.6708 - val_recall: 0.3642 - val_f1score: 0.1431\n",
      "Epoch 60/100\n",
      "68/67 [==============================] - 25s 370ms/step - loss: 0.7347 - acc: 0.6825 - auc: 0.8231 - precision: 0.6715 - recall: 0.3657 - f1score: 0.1724 - val_loss: 0.8935 - val_acc: 0.4769 - val_auc: 0.8236 - val_precision: 0.6716 - val_recall: 0.3672 - val_f1score: 0.1402\n",
      "Epoch 61/100\n",
      "68/67 [==============================] - 25s 370ms/step - loss: 0.7256 - acc: 0.6755 - auc: 0.8241 - precision: 0.6719 - recall: 0.3686 - f1score: 0.1731 - val_loss: 1.5162 - val_acc: 0.5049 - val_auc: 0.8246 - val_precision: 0.6721 - val_recall: 0.3700 - val_f1score: 0.1444\n",
      "Epoch 62/100\n",
      "68/67 [==============================] - 25s 372ms/step - loss: 0.7386 - acc: 0.6778 - auc: 0.8251 - precision: 0.6722 - recall: 0.3714 - f1score: 0.1729 - val_loss: 1.2353 - val_acc: 0.4769 - val_auc: 0.8256 - val_precision: 0.6723 - val_recall: 0.3726 - val_f1score: 0.1400\n",
      "Epoch 63/100\n",
      "68/67 [==============================] - 25s 371ms/step - loss: 0.7245 - acc: 0.6876 - auc: 0.8261 - precision: 0.6727 - recall: 0.3738 - f1score: 0.1736 - val_loss: 0.7640 - val_acc: 0.4614 - val_auc: 0.8265 - val_precision: 0.6729 - val_recall: 0.3751 - val_f1score: 0.1385\n",
      "Epoch 64/100\n",
      "68/67 [==============================] - 25s 373ms/step - loss: 0.7250 - acc: 0.6778 - auc: 0.8270 - precision: 0.6732 - recall: 0.3764 - f1score: 0.1736 - val_loss: 1.1787 - val_acc: 0.5049 - val_auc: 0.8275 - val_precision: 0.6734 - val_recall: 0.3777 - val_f1score: 0.1424\n",
      "Epoch 65/100\n",
      "68/67 [==============================] - 25s 372ms/step - loss: 0.7151 - acc: 0.6788 - auc: 0.8280 - precision: 0.6738 - recall: 0.3791 - f1score: 0.1745 - val_loss: 0.6737 - val_acc: 0.4769 - val_auc: 0.8284 - val_precision: 0.6739 - val_recall: 0.3803 - val_f1score: 0.1403\n",
      "Epoch 66/100\n",
      "68/67 [==============================] - 25s 375ms/step - loss: 0.7118 - acc: 0.6885 - auc: 0.8289 - precision: 0.6743 - recall: 0.3816 - f1score: 0.1748 - val_loss: 1.0855 - val_acc: 0.4460 - val_auc: 0.8293 - val_precision: 0.6741 - val_recall: 0.3828 - val_f1score: 0.1407\n",
      "Epoch 67/100\n",
      "68/67 [==============================] - 26s 376ms/step - loss: 0.7727 - acc: 0.6671 - auc: 0.8297 - precision: 0.6742 - recall: 0.3839 - f1score: 0.1715 - val_loss: 1.2885 - val_acc: 0.4656 - val_auc: 0.8300 - val_precision: 0.6741 - val_recall: 0.3849 - val_f1score: 0.1401\n",
      "Epoch 68/100\n",
      "68/67 [==============================] - 25s 371ms/step - loss: 0.6819 - acc: 0.6862 - auc: 0.8305 - precision: 0.6743 - recall: 0.3864 - f1score: 0.1783 - val_loss: 0.9076 - val_acc: 0.4727 - val_auc: 0.8309 - val_precision: 0.6743 - val_recall: 0.3875 - val_f1score: 0.1403\n",
      "Epoch 69/100\n",
      "68/67 [==============================] - 26s 378ms/step - loss: 0.7049 - acc: 0.6955 - auc: 0.8314 - precision: 0.6746 - recall: 0.3888 - f1score: 0.1765 - val_loss: 0.7408 - val_acc: 0.4951 - val_auc: 0.8318 - val_precision: 0.6750 - val_recall: 0.3898 - val_f1score: 0.1390\n",
      "Epoch 70/100\n",
      "68/67 [==============================] - 26s 375ms/step - loss: 0.6964 - acc: 0.6969 - auc: 0.8323 - precision: 0.6756 - recall: 0.3910 - f1score: 0.1765 - val_loss: 0.7352 - val_acc: 0.4684 - val_auc: 0.8327 - val_precision: 0.6757 - val_recall: 0.3922 - val_f1score: 0.1415\n",
      "Epoch 71/100\n",
      "68/67 [==============================] - 25s 372ms/step - loss: 0.6766 - acc: 0.6993 - auc: 0.8332 - precision: 0.6759 - recall: 0.3935 - f1score: 0.1782 - val_loss: 0.8364 - val_acc: 0.4488 - val_auc: 0.8336 - val_precision: 0.6759 - val_recall: 0.3946 - val_f1score: 0.1364\n",
      "Epoch 72/100\n",
      "68/67 [==============================] - 25s 372ms/step - loss: 0.6906 - acc: 0.7053 - auc: 0.8340 - precision: 0.6763 - recall: 0.3959 - f1score: 0.1771 - val_loss: 0.9878 - val_acc: 0.4895 - val_auc: 0.8344 - val_precision: 0.6764 - val_recall: 0.3970 - val_f1score: 0.1439\n",
      "Epoch 73/100\n",
      "68/67 [==============================] - 25s 374ms/step - loss: 0.6855 - acc: 0.7086 - auc: 0.8348 - precision: 0.6767 - recall: 0.3982 - f1score: 0.1781 - val_loss: 0.5895 - val_acc: 0.4895 - val_auc: 0.8352 - val_precision: 0.6770 - val_recall: 0.3994 - val_f1score: 0.1425\n",
      "Epoch 74/100\n",
      "68/67 [==============================] - 25s 373ms/step - loss: 0.6748 - acc: 0.7086 - auc: 0.8357 - precision: 0.6773 - recall: 0.4006 - f1score: 0.1799 - val_loss: 1.0986 - val_acc: 0.4712 - val_auc: 0.8361 - val_precision: 0.6775 - val_recall: 0.4018 - val_f1score: 0.1392\n",
      "Epoch 75/100\n",
      "68/67 [==============================] - 25s 374ms/step - loss: 0.6529 - acc: 0.7314 - auc: 0.8365 - precision: 0.6779 - recall: 0.4030 - f1score: 0.1820 - val_loss: 0.9752 - val_acc: 0.5245 - val_auc: 0.8370 - val_precision: 0.6784 - val_recall: 0.4045 - val_f1score: 0.1439\n",
      "Epoch 76/100\n",
      "68/67 [==============================] - 26s 377ms/step - loss: 0.6542 - acc: 0.7095 - auc: 0.8374 - precision: 0.6787 - recall: 0.4058 - f1score: 0.1811 - val_loss: 1.2658 - val_acc: 0.4797 - val_auc: 0.8378 - val_precision: 0.6789 - val_recall: 0.4070 - val_f1score: 0.1416\n",
      "Epoch 77/100\n",
      "68/67 [==============================] - 25s 371ms/step - loss: 0.6516 - acc: 0.7207 - auc: 0.8383 - precision: 0.6793 - recall: 0.4081 - f1score: 0.1811 - val_loss: 0.6587 - val_acc: 0.5175 - val_auc: 0.8387 - val_precision: 0.6796 - val_recall: 0.4093 - val_f1score: 0.1469\n",
      "Epoch 78/100\n",
      "68/67 [==============================] - 25s 369ms/step - loss: 0.6472 - acc: 0.7174 - auc: 0.8392 - precision: 0.6801 - recall: 0.4107 - f1score: 0.1819 - val_loss: 2.4026 - val_acc: 0.4951 - val_auc: 0.8395 - val_precision: 0.6803 - val_recall: 0.4117 - val_f1score: 0.1408\n",
      "Epoch 79/100\n",
      "68/67 [==============================] - 25s 373ms/step - loss: 0.6626 - acc: 0.7216 - auc: 0.8399 - precision: 0.6805 - recall: 0.4129 - f1score: 0.1806 - val_loss: 0.8471 - val_acc: 0.5316 - val_auc: 0.8403 - val_precision: 0.6808 - val_recall: 0.4140 - val_f1score: 0.1466\n",
      "Epoch 80/100\n",
      "68/67 [==============================] - 25s 373ms/step - loss: 0.6429 - acc: 0.7221 - auc: 0.8408 - precision: 0.6814 - recall: 0.4152 - f1score: 0.1824 - val_loss: 1.8258 - val_acc: 0.4881 - val_auc: 0.8411 - val_precision: 0.6816 - val_recall: 0.4163 - val_f1score: 0.1425\n",
      "Epoch 81/100\n",
      "68/67 [==============================] - 27s 393ms/step - loss: 0.6289 - acc: 0.7370 - auc: 0.8415 - precision: 0.6819 - recall: 0.4176 - f1score: 0.1837 - val_loss: 1.3214 - val_acc: 0.5035 - val_auc: 0.8419 - val_precision: 0.6823 - val_recall: 0.4188 - val_f1score: 0.1439\n",
      "Epoch 82/100\n",
      "68/67 [==============================] - 27s 391ms/step - loss: 0.6313 - acc: 0.7235 - auc: 0.8423 - precision: 0.6826 - recall: 0.4201 - f1score: 0.1842 - val_loss: 0.6520 - val_acc: 0.4783 - val_auc: 0.8427 - val_precision: 0.6828 - val_recall: 0.4212 - val_f1score: 0.1404\n",
      "Epoch 83/100\n",
      "68/67 [==============================] - 26s 379ms/step - loss: 0.6177 - acc: 0.7346 - auc: 0.8431 - precision: 0.6832 - recall: 0.4224 - f1score: 0.1854 - val_loss: 2.8656 - val_acc: 0.4811 - val_auc: 0.8434 - val_precision: 0.6834 - val_recall: 0.4235 - val_f1score: 0.1417\n",
      "Epoch 84/100\n",
      "68/67 [==============================] - 26s 386ms/step - loss: 0.6238 - acc: 0.7351 - auc: 0.8438 - precision: 0.6836 - recall: 0.4247 - f1score: 0.1848 - val_loss: 0.8394 - val_acc: 0.5189 - val_auc: 0.8442 - val_precision: 0.6840 - val_recall: 0.4258 - val_f1score: 0.1432\n",
      "Epoch 85/100\n"
     ]
    },
    {
     "name": "stdout",
     "output_type": "stream",
     "text": [
      "68/67 [==============================] - 25s 374ms/step - loss: 0.6395 - acc: 0.7230 - auc: 0.8445 - precision: 0.6843 - recall: 0.4269 - f1score: 0.1830 - val_loss: 1.4328 - val_acc: 0.5133 - val_auc: 0.8449 - val_precision: 0.6846 - val_recall: 0.4279 - val_f1score: 0.1451\n",
      "Epoch 86/100\n",
      "68/67 [==============================] - 25s 370ms/step - loss: 0.6209 - acc: 0.7346 - auc: 0.8453 - precision: 0.6850 - recall: 0.4291 - f1score: 0.1855 - val_loss: 1.1550 - val_acc: 0.4979 - val_auc: 0.8457 - val_precision: 0.6853 - val_recall: 0.4302 - val_f1score: 0.1440\n",
      "Epoch 87/100\n",
      "68/67 [==============================] - 25s 374ms/step - loss: 0.5923 - acc: 0.7453 - auc: 0.8461 - precision: 0.6857 - recall: 0.4314 - f1score: 0.1874 - val_loss: 1.3621 - val_acc: 0.5035 - val_auc: 0.8464 - val_precision: 0.6859 - val_recall: 0.4324 - val_f1score: 0.1440\n",
      "Epoch 88/100\n",
      "68/67 [==============================] - 26s 376ms/step - loss: 0.5778 - acc: 0.7579 - auc: 0.8469 - precision: 0.6863 - recall: 0.4337 - f1score: 0.1906 - val_loss: 1.6825 - val_acc: 0.5259 - val_auc: 0.8473 - val_precision: 0.6868 - val_recall: 0.4349 - val_f1score: 0.1463\n",
      "Epoch 89/100\n",
      "68/67 [==============================] - 25s 373ms/step - loss: 0.5756 - acc: 0.7598 - auc: 0.8478 - precision: 0.6873 - recall: 0.4360 - f1score: 0.1901 - val_loss: 1.1888 - val_acc: 0.5021 - val_auc: 0.8482 - val_precision: 0.6877 - val_recall: 0.4372 - val_f1score: 0.1434\n",
      "Epoch 90/100\n",
      "68/67 [==============================] - 25s 371ms/step - loss: 0.5553 - acc: 0.7686 - auc: 0.8486 - precision: 0.6880 - recall: 0.4384 - f1score: 0.1925 - val_loss: 0.5700 - val_acc: 0.5161 - val_auc: 0.8490 - val_precision: 0.6885 - val_recall: 0.4396 - val_f1score: 0.1435\n",
      "Epoch 91/100\n",
      "68/67 [==============================] - 26s 376ms/step - loss: 0.6171 - acc: 0.7444 - auc: 0.8493 - precision: 0.6889 - recall: 0.4406 - f1score: 0.1863 - val_loss: 1.2326 - val_acc: 0.5063 - val_auc: 0.8497 - val_precision: 0.6893 - val_recall: 0.4417 - val_f1score: 0.1445\n",
      "Epoch 92/100\n",
      "68/67 [==============================] - 25s 373ms/step - loss: 0.5614 - acc: 0.7584 - auc: 0.8501 - precision: 0.6896 - recall: 0.4427 - f1score: 0.1913 - val_loss: 1.1164 - val_acc: 0.4993 - val_auc: 0.8505 - val_precision: 0.6899 - val_recall: 0.4439 - val_f1score: 0.1425\n",
      "Epoch 93/100\n",
      "68/67 [==============================] - 25s 368ms/step - loss: 0.5663 - acc: 0.7551 - auc: 0.8508 - precision: 0.6904 - recall: 0.4450 - f1score: 0.1904 - val_loss: 1.0547 - val_acc: 0.5077 - val_auc: 0.8512 - val_precision: 0.6905 - val_recall: 0.4460 - val_f1score: 0.1439\n",
      "Epoch 94/100\n",
      "68/67 [==============================] - 26s 379ms/step - loss: 0.5712 - acc: 0.7486 - auc: 0.8516 - precision: 0.6908 - recall: 0.4472 - f1score: 0.1907 - val_loss: 1.3422 - val_acc: 0.5049 - val_auc: 0.8519 - val_precision: 0.6911 - val_recall: 0.4481 - val_f1score: 0.1423\n",
      "Epoch 95/100\n",
      "68/67 [==============================] - 25s 372ms/step - loss: 0.5638 - acc: 0.7584 - auc: 0.8523 - precision: 0.6915 - recall: 0.4491 - f1score: 0.1912 - val_loss: 1.4719 - val_acc: 0.5105 - val_auc: 0.8526 - val_precision: 0.6919 - val_recall: 0.4502 - val_f1score: 0.1443\n",
      "Epoch 96/100\n",
      "68/67 [==============================] - 25s 371ms/step - loss: 0.5124 - acc: 0.7891 - auc: 0.8531 - precision: 0.6924 - recall: 0.4513 - f1score: 0.1963 - val_loss: 0.9255 - val_acc: 0.5147 - val_auc: 0.8534 - val_precision: 0.6928 - val_recall: 0.4525 - val_f1score: 0.1429\n",
      "Epoch 97/100\n",
      "68/67 [==============================] - 25s 373ms/step - loss: 0.5596 - acc: 0.7663 - auc: 0.8538 - precision: 0.6932 - recall: 0.4536 - f1score: 0.1927 - val_loss: 2.9857 - val_acc: 0.4979 - val_auc: 0.8541 - val_precision: 0.6935 - val_recall: 0.4545 - val_f1score: 0.1438\n",
      "Epoch 98/100\n",
      "68/67 [==============================] - 25s 370ms/step - loss: 0.5497 - acc: 0.7770 - auc: 0.8545 - precision: 0.6939 - recall: 0.4556 - f1score: 0.1939 - val_loss: 1.0230 - val_acc: 0.5386 - val_auc: 0.8549 - val_precision: 0.6943 - val_recall: 0.4567 - val_f1score: 0.1477\n",
      "Epoch 99/100\n",
      "68/67 [==============================] - 26s 375ms/step - loss: 0.5266 - acc: 0.7775 - auc: 0.8553 - precision: 0.6948 - recall: 0.4578 - f1score: 0.1953 - val_loss: 0.9110 - val_acc: 0.4881 - val_auc: 0.8556 - val_precision: 0.6951 - val_recall: 0.4588 - val_f1score: 0.1433\n",
      "Epoch 100/100\n",
      "68/67 [==============================] - 25s 373ms/step - loss: 0.5165 - acc: 0.7910 - auc: 0.8560 - precision: 0.6956 - recall: 0.4600 - f1score: 0.1962 - val_loss: 0.7557 - val_acc: 0.4923 - val_auc: 0.8563 - val_precision: 0.6960 - val_recall: 0.4610 - val_f1score: 0.1434\n"
     ]
    }
   ],
   "source": [
    "history = additional_model.fit_generator(\n",
    "      train_generator,\n",
    "      steps_per_epoch = train_generator.samples /32,\n",
    "      epochs=100,\n",
    "      validation_data = validation_generator, \n",
    "      validation_steps = validation_generator.samples/32)"
   ]
  },
  {
   "cell_type": "code",
   "execution_count": 11,
   "metadata": {},
   "outputs": [
    {
     "data": {
      "image/png": "[encoded data removed]",
      "text/plain": [
       "<Figure size 432x288 with 1 Axes>"
      ]
     },
     "metadata": {
      "needs_background": "light"
     },
     "output_type": "display_data"
    },
    {
     "data": {
      "image/png": "[encoded data removed]",
      "text/plain": [
       "<Figure size 432x288 with 1 Axes>"
      ]
     },
     "metadata": {
      "needs_background": "light"
     },
     "output_type": "display_data"
    }
   ],
   "source": [
    "acc = history.history['acc']\n",
    "val_acc = history.history['val_acc']\n",
    "loss = history.history['loss']\n",
    "val_loss = history.history['val_loss']\n",
    " \n",
    "epochs = range(1, len(acc) + 1)\n",
    " \n",
    "plt.plot(epochs, acc, 'bo', label='Training acc')\n",
    "plt.plot(epochs, val_acc, 'r', label='Validation acc')\n",
    "plt.title('Accuracy')\n",
    "plt.legend()\n",
    "plt.figure()\n",
    " \n",
    "plt.plot(epochs, loss, 'bo', label='Training loss')\n",
    "plt.plot(epochs, val_loss, 'r', label='Validation loss')\n",
    "plt.title('Loss')\n",
    "plt.legend()\n",
    " \n",
    "plt.show()"
   ]
  },
  {
   "cell_type": "code",
   "execution_count": 12,
   "metadata": {},
   "outputs": [],
   "source": [
    "X_test=np.load('X_test.npy')\n",
    "y_test=np.load('y_test.npy')"
   ]
  },
  {
   "cell_type": "code",
   "execution_count": 14,
   "metadata": {},
   "outputs": [
    {
     "ename": "RuntimeError",
     "evalue": "You must compile your model before using it.",
     "output_type": "error",
     "traceback": [
      "\u001b[1;31m---------------------------------------------------------------------------\u001b[0m",
      "\u001b[1;31mRuntimeError\u001b[0m                              Traceback (most recent call last)",
      "\u001b[1;32m<ipython-input-14-f609d19766d6>\u001b[0m in \u001b[0;36m<module>\u001b[1;34m\u001b[0m\n\u001b[1;32m----> 1\u001b[1;33m \u001b[0m_loss\u001b[0m\u001b[1;33m,\u001b[0m \u001b[0m_acc\u001b[0m\u001b[1;33m,\u001b[0m \u001b[0m_auc\u001b[0m\u001b[1;33m,\u001b[0m \u001b[0m_precision\u001b[0m\u001b[1;33m,\u001b[0m \u001b[0m_recall\u001b[0m\u001b[1;33m,\u001b[0m \u001b[0m_f1score\u001b[0m \u001b[1;33m=\u001b[0m  \u001b[0mmodel\u001b[0m\u001b[1;33m.\u001b[0m\u001b[0mevaluate_generator\u001b[0m\u001b[1;33m(\u001b[0m\u001b[0mvalidation_generator\u001b[0m\u001b[1;33m,\u001b[0m \u001b[0msteps\u001b[0m\u001b[1;33m=\u001b[0m\u001b[1;36m32\u001b[0m\u001b[1;33m)\u001b[0m\u001b[1;33m\u001b[0m\u001b[1;33m\u001b[0m\u001b[0m\n\u001b[0m\u001b[0;32m      2\u001b[0m \u001b[0mprint\u001b[0m\u001b[1;33m(\u001b[0m\u001b[1;34m'loss: {:.3f}, accuracy: {:.3f}, auc: {:.3f}, precision: {:.3f}, recall: {:.3f}, f1score: {:.3f}'\u001b[0m\u001b[1;33m.\u001b[0m\u001b[0mformat\u001b[0m\u001b[1;33m(\u001b[0m\u001b[0m_loss\u001b[0m\u001b[1;33m,\u001b[0m \u001b[0m_acc\u001b[0m\u001b[1;33m,\u001b[0m \u001b[0m_auc\u001b[0m\u001b[1;33m,\u001b[0m \u001b[0m_precision\u001b[0m\u001b[1;33m,\u001b[0m \u001b[0m_recall\u001b[0m\u001b[1;33m,\u001b[0m \u001b[0m_f1score\u001b[0m\u001b[1;33m)\u001b[0m\u001b[1;33m)\u001b[0m\u001b[1;33m\u001b[0m\u001b[1;33m\u001b[0m\u001b[0m\n",
      "\u001b[1;32m~\\Anaconda3\\envs\\keras2\\lib\\site-packages\\keras\\legacy\\interfaces.py\u001b[0m in \u001b[0;36mwrapper\u001b[1;34m(*args, **kwargs)\u001b[0m\n\u001b[0;32m     89\u001b[0m                 warnings.warn('Update your `' + object_name + '` call to the ' +\n\u001b[0;32m     90\u001b[0m                               'Keras 2 API: ' + signature, stacklevel=2)\n\u001b[1;32m---> 91\u001b[1;33m             \u001b[1;32mreturn\u001b[0m \u001b[0mfunc\u001b[0m\u001b[1;33m(\u001b[0m\u001b[1;33m*\u001b[0m\u001b[0margs\u001b[0m\u001b[1;33m,\u001b[0m \u001b[1;33m**\u001b[0m\u001b[0mkwargs\u001b[0m\u001b[1;33m)\u001b[0m\u001b[1;33m\u001b[0m\u001b[1;33m\u001b[0m\u001b[0m\n\u001b[0m\u001b[0;32m     92\u001b[0m         \u001b[0mwrapper\u001b[0m\u001b[1;33m.\u001b[0m\u001b[0m_original_function\u001b[0m \u001b[1;33m=\u001b[0m \u001b[0mfunc\u001b[0m\u001b[1;33m\u001b[0m\u001b[1;33m\u001b[0m\u001b[0m\n\u001b[0;32m     93\u001b[0m         \u001b[1;32mreturn\u001b[0m \u001b[0mwrapper\u001b[0m\u001b[1;33m\u001b[0m\u001b[1;33m\u001b[0m\u001b[0m\n",
      "\u001b[1;32m~\\Anaconda3\\envs\\keras2\\lib\\site-packages\\keras\\engine\\training.py\u001b[0m in \u001b[0;36mevaluate_generator\u001b[1;34m(self, generator, steps, callbacks, max_queue_size, workers, use_multiprocessing, verbose)\u001b[0m\n\u001b[0;32m   1789\u001b[0m             \u001b[0mworkers\u001b[0m\u001b[1;33m=\u001b[0m\u001b[0mworkers\u001b[0m\u001b[1;33m,\u001b[0m\u001b[1;33m\u001b[0m\u001b[1;33m\u001b[0m\u001b[0m\n\u001b[0;32m   1790\u001b[0m             \u001b[0muse_multiprocessing\u001b[0m\u001b[1;33m=\u001b[0m\u001b[0muse_multiprocessing\u001b[0m\u001b[1;33m,\u001b[0m\u001b[1;33m\u001b[0m\u001b[1;33m\u001b[0m\u001b[0m\n\u001b[1;32m-> 1791\u001b[1;33m             verbose=verbose)\n\u001b[0m\u001b[0;32m   1792\u001b[0m \u001b[1;33m\u001b[0m\u001b[0m\n\u001b[0;32m   1793\u001b[0m     \u001b[1;33m@\u001b[0m\u001b[0minterfaces\u001b[0m\u001b[1;33m.\u001b[0m\u001b[0mlegacy_generator_methods_support\u001b[0m\u001b[1;33m\u001b[0m\u001b[1;33m\u001b[0m\u001b[0m\n",
      "\u001b[1;32m~\\Anaconda3\\envs\\keras2\\lib\\site-packages\\keras\\engine\\training_generator.py\u001b[0m in \u001b[0;36mevaluate_generator\u001b[1;34m(model, generator, steps, callbacks, max_queue_size, workers, use_multiprocessing, verbose)\u001b[0m\n\u001b[0;32m    302\u001b[0m                        verbose=0):\n\u001b[0;32m    303\u001b[0m     \u001b[1;34m\"\"\"See docstring for `Model.evaluate_generator`.\"\"\"\u001b[0m\u001b[1;33m\u001b[0m\u001b[1;33m\u001b[0m\u001b[0m\n\u001b[1;32m--> 304\u001b[1;33m     \u001b[0mmodel\u001b[0m\u001b[1;33m.\u001b[0m\u001b[0m_make_test_function\u001b[0m\u001b[1;33m(\u001b[0m\u001b[1;33m)\u001b[0m\u001b[1;33m\u001b[0m\u001b[1;33m\u001b[0m\u001b[0m\n\u001b[0m\u001b[0;32m    305\u001b[0m     \u001b[0mmodel\u001b[0m\u001b[1;33m.\u001b[0m\u001b[0mreset_metrics\u001b[0m\u001b[1;33m(\u001b[0m\u001b[1;33m)\u001b[0m\u001b[1;33m\u001b[0m\u001b[1;33m\u001b[0m\u001b[0m\n\u001b[0;32m    306\u001b[0m \u001b[1;33m\u001b[0m\u001b[0m\n",
      "\u001b[1;32m~\\Anaconda3\\envs\\keras2\\lib\\site-packages\\keras\\engine\\training.py\u001b[0m in \u001b[0;36m_make_test_function\u001b[1;34m(self)\u001b[0m\n\u001b[0;32m    335\u001b[0m     \u001b[1;32mdef\u001b[0m \u001b[0m_make_test_function\u001b[0m\u001b[1;33m(\u001b[0m\u001b[0mself\u001b[0m\u001b[1;33m)\u001b[0m\u001b[1;33m:\u001b[0m\u001b[1;33m\u001b[0m\u001b[1;33m\u001b[0m\u001b[0m\n\u001b[0;32m    336\u001b[0m         \u001b[1;32mif\u001b[0m \u001b[1;32mnot\u001b[0m \u001b[0mhasattr\u001b[0m\u001b[1;33m(\u001b[0m\u001b[0mself\u001b[0m\u001b[1;33m,\u001b[0m \u001b[1;34m'test_function'\u001b[0m\u001b[1;33m)\u001b[0m\u001b[1;33m:\u001b[0m\u001b[1;33m\u001b[0m\u001b[1;33m\u001b[0m\u001b[0m\n\u001b[1;32m--> 337\u001b[1;33m             \u001b[1;32mraise\u001b[0m \u001b[0mRuntimeError\u001b[0m\u001b[1;33m(\u001b[0m\u001b[1;34m'You must compile your model before using it.'\u001b[0m\u001b[1;33m)\u001b[0m\u001b[1;33m\u001b[0m\u001b[1;33m\u001b[0m\u001b[0m\n\u001b[0m\u001b[0;32m    338\u001b[0m         \u001b[1;32mif\u001b[0m \u001b[0mself\u001b[0m\u001b[1;33m.\u001b[0m\u001b[0mtest_function\u001b[0m \u001b[1;32mis\u001b[0m \u001b[1;32mNone\u001b[0m\u001b[1;33m:\u001b[0m\u001b[1;33m\u001b[0m\u001b[1;33m\u001b[0m\u001b[0m\n\u001b[0;32m    339\u001b[0m             inputs = (self._feed_inputs +\n",
      "\u001b[1;31mRuntimeError\u001b[0m: You must compile your model before using it."
     ]
    }
   ],
   "source": [
    "_loss, _acc, _auc, _precision, _recall, _f1score =  model.evaluate_generator(validation_generator, steps=32)\n",
    "print('loss: {:.3f}, accuracy: {:.3f}, auc: {:.3f}, precision: {:.3f}, recall: {:.3f}, f1score: {:.3f}'.format(_loss, _acc, _auc, _precision, _recall, _f1score))"
   ]
  },
  {
   "cell_type": "code",
   "execution_count": null,
   "metadata": {},
   "outputs": [],
   "source": [
    "_loss, _acc, _auc, _precision, _recall, _f1score = additional_model.evaluate(X_test, y_test, batch_size=32)\n",
    "print('loss: {:.3f}, accuracy: {:.3f}, auc: {:.3f}, precision: {:.3f}, recall: {:.3f}, f1score: {:.3f}'.format(_loss, _acc, _auc, _precision, _recall, _f1score))"
   ]
  },
  {
   "cell_type": "code",
   "execution_count": null,
   "metadata": {},
   "outputs": [],
   "source": [
    "additional_model.save('VGG16_png_1.h5')"
   ]
  },
  {
   "cell_type": "code",
   "execution_count": null,
   "metadata": {},
   "outputs": [],
   "source": []
  }
 ],
 "metadata": {
  "kernelspec": {
   "display_name": "Python 3",
   "language": "python",
   "name": "python3"
  },
  "language_info": {
   "codemirror_mode": {
    "name": "ipython",
    "version": 3
   },
   "file_extension": ".py",
   "mimetype": "text/x-python",
   "name": "python",
   "nbconvert_exporter": "python",
   "pygments_lexer": "ipython3",
   "version": "3.7.7"
  }
 },
 "nbformat": 4,
 "nbformat_minor": 2
}
