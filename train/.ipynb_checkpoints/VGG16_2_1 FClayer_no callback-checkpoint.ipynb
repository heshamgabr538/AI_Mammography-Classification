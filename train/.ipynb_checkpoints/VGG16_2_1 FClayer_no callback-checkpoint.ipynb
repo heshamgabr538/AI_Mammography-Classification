{
 "cells": [
  {
   "cell_type": "code",
   "execution_count": 1,
   "metadata": {},
   "outputs": [
    {
     "data": {
      "text/plain": [
       "'C:\\\\Users\\\\Owner2\\\\Desktop\\\\G팔로미_vuno'"
      ]
     },
     "execution_count": 1,
     "metadata": {},
     "output_type": "execute_result"
    }
   ],
   "source": [
    "import os\n",
    "import pandas as pd\n",
    "from matplotlib import pyplot as plt\n",
    "import cv2\n",
    "import numpy as np\n",
    "\n",
    "#data path 수정\n",
    "os.chdir(\"C:\\\\Users\\\\Owner2\\\\Desktop\\\\G팔로미_vuno\")\n",
    "os.getcwd()"
   ]
  },
  {
   "cell_type": "code",
   "execution_count": 2,
   "metadata": {},
   "outputs": [],
   "source": [
    "X=np.load('data_X.npy')\n",
    "y=np.load('data_y.npy')"
   ]
  },
  {
   "cell_type": "code",
   "execution_count": 3,
   "metadata": {},
   "outputs": [
    {
     "data": {
      "text/plain": [
       "1712"
      ]
     },
     "execution_count": 3,
     "metadata": {},
     "output_type": "execute_result"
    }
   ],
   "source": [
    "len(X)"
   ]
  },
  {
   "cell_type": "code",
   "execution_count": 4,
   "metadata": {},
   "outputs": [],
   "source": [
    "#train, validation set 분리\n",
    "from sklearn.model_selection import train_test_split\n",
    "\n",
    "X_train, X_val, y_train, y_val = train_test_split(X,y,test_size=0.2, random_state=123)"
   ]
  },
  {
   "cell_type": "code",
   "execution_count": 5,
   "metadata": {},
   "outputs": [
    {
     "name": "stderr",
     "output_type": "stream",
     "text": [
      "Using TensorFlow backend.\n"
     ]
    }
   ],
   "source": [
    "from keras.preprocessing.image import ImageDataGenerator\n",
    "\n",
    "datagen = ImageDataGenerator(\n",
    "    #featurewise_center=True, #center 중심 유지\n",
    "    #featurewise_std_normalization=True, #normalization\n",
    "    rotation_range=25.0,\n",
    "    #width_shift_range=0.2,\n",
    "    #height_shift_range=0.2,\n",
    "    #brightness_range=[0.2,1.0],\n",
    "    zoom_range=[0.8,1.2],\n",
    "    horizontal_flip=True) #수평방향 뒤집기\n",
    "\n",
    "datagen.fit(X_train)\n",
    "\n",
    "dgf=datagen.flow(X_train,y_train,batch_size=32)"
   ]
  },
  {
   "cell_type": "code",
   "execution_count": 6,
   "metadata": {},
   "outputs": [
    {
     "name": "stdout",
     "output_type": "stream",
     "text": [
      "Model: \"vgg16\"\n",
      "_________________________________________________________________\n",
      "Layer (type)                 Output Shape              Param #   \n",
      "=================================================================\n",
      "input_1 (InputLayer)         (None, 224, 224, 3)       0         \n",
      "_________________________________________________________________\n",
      "block1_conv1 (Conv2D)        (None, 224, 224, 64)      1792      \n",
      "_________________________________________________________________\n",
      "block1_conv2 (Conv2D)        (None, 224, 224, 64)      36928     \n",
      "_________________________________________________________________\n",
      "block1_pool (MaxPooling2D)   (None, 112, 112, 64)      0         \n",
      "_________________________________________________________________\n",
      "block2_conv1 (Conv2D)        (None, 112, 112, 128)     73856     \n",
      "_________________________________________________________________\n",
      "block2_conv2 (Conv2D)        (None, 112, 112, 128)     147584    \n",
      "_________________________________________________________________\n",
      "block2_pool (MaxPooling2D)   (None, 56, 56, 128)       0         \n",
      "_________________________________________________________________\n",
      "block3_conv1 (Conv2D)        (None, 56, 56, 256)       295168    \n",
      "_________________________________________________________________\n",
      "block3_conv2 (Conv2D)        (None, 56, 56, 256)       590080    \n",
      "_________________________________________________________________\n",
      "block3_conv3 (Conv2D)        (None, 56, 56, 256)       590080    \n",
      "_________________________________________________________________\n",
      "block3_pool (MaxPooling2D)   (None, 28, 28, 256)       0         \n",
      "_________________________________________________________________\n",
      "block4_conv1 (Conv2D)        (None, 28, 28, 512)       1180160   \n",
      "_________________________________________________________________\n",
      "block4_conv2 (Conv2D)        (None, 28, 28, 512)       2359808   \n",
      "_________________________________________________________________\n",
      "block4_conv3 (Conv2D)        (None, 28, 28, 512)       2359808   \n",
      "_________________________________________________________________\n",
      "block4_pool (MaxPooling2D)   (None, 14, 14, 512)       0         \n",
      "_________________________________________________________________\n",
      "block5_conv1 (Conv2D)        (None, 14, 14, 512)       2359808   \n",
      "_________________________________________________________________\n",
      "block5_conv2 (Conv2D)        (None, 14, 14, 512)       2359808   \n",
      "_________________________________________________________________\n",
      "block5_conv3 (Conv2D)        (None, 14, 14, 512)       2359808   \n",
      "_________________________________________________________________\n",
      "block5_pool (MaxPooling2D)   (None, 7, 7, 512)         0         \n",
      "=================================================================\n",
      "Total params: 14,714,688\n",
      "Trainable params: 14,714,688\n",
      "Non-trainable params: 0\n",
      "_________________________________________________________________\n"
     ]
    }
   ],
   "source": [
    "from keras import models, layers\n",
    "from keras import Input\n",
    "from keras.applications import VGG16\n",
    "from keras.models import Model, load_model\n",
    "from keras.preprocessing.image import ImageDataGenerator\n",
    "from keras import optimizers, initializers, regularizers, metrics\n",
    "from keras.callbacks import ModelCheckpoint, EarlyStopping\n",
    "from keras.layers import BatchNormalization, Conv2D, Activation, Dense, GlobalAveragePooling2D, MaxPooling2D, ZeroPadding2D, Add\n",
    "\n",
    "model = VGG16(weights=None, include_top=False, input_shape=(224, 224, 3))\n",
    "model.trainable = True\n",
    "model.summary()"
   ]
  },
  {
   "cell_type": "code",
   "execution_count": 7,
   "metadata": {},
   "outputs": [
    {
     "name": "stdout",
     "output_type": "stream",
     "text": [
      "Model: \"sequential_1\"\n",
      "_________________________________________________________________\n",
      "Layer (type)                 Output Shape              Param #   \n",
      "=================================================================\n",
      "vgg16 (Model)                (None, 7, 7, 512)         14714688  \n",
      "_________________________________________________________________\n",
      "flatten_1 (Flatten)          (None, 25088)             0         \n",
      "_________________________________________________________________\n",
      "dense_1 (Dense)              (None, 4)                 100356    \n",
      "=================================================================\n",
      "Total params: 14,815,044\n",
      "Trainable params: 14,815,044\n",
      "Non-trainable params: 0\n",
      "_________________________________________________________________\n"
     ]
    }
   ],
   "source": [
    "#customizing my layers\n",
    "additional_model = models.Sequential()\n",
    "additional_model.add(model)\n",
    "additional_model.add(layers.Flatten())\n",
    "additional_model.add(layers.Dense(4, activation='softmax'))\n",
    "\n",
    "additional_model.summary()"
   ]
  },
  {
   "cell_type": "code",
   "execution_count": 8,
   "metadata": {},
   "outputs": [],
   "source": [
    "def f1score(precision, recall):\n",
    "    _f1score = ( 2 * recall * precision) / (recall + precision)\n",
    "    \n",
    "    # return a single tensor value\n",
    "    return _f1score"
   ]
  },
  {
   "cell_type": "code",
   "execution_count": 9,
   "metadata": {},
   "outputs": [],
   "source": [
    "# checkpoint = ModelCheckpoint(filepath='My_VGG_{epoch:03d}_{val_loss:.7f}.hdf5',monitor='loss', mode='min', save_best_only=True)\n",
    "checkpoint = ModelCheckpoint(filepath='VGG16_1_no callback.hdf5', \n",
    "            monitor='val_loss', \n",
    "            mode='min', \n",
    "            save_best_only=True)"
   ]
  },
  {
   "cell_type": "code",
   "execution_count": 10,
   "metadata": {},
   "outputs": [],
   "source": [
    "import tensorflow as tf\n",
    "\n",
    "additional_model.compile(loss='categorical_crossentropy', \n",
    "              optimizer=optimizers.Adam(lr=1e-4),\n",
    "              metrics=['acc',tf.keras.metrics.AUC(),\n",
    "                      tf.keras.metrics.Precision(),\n",
    "                      tf.keras.metrics.Recall(),f1score])"
   ]
  },
  {
   "cell_type": "code",
   "execution_count": 11,
   "metadata": {},
   "outputs": [],
   "source": [
    "# class_weight = {0: 1.1,\n",
    "#                 1: 1.1,\n",
    "#                 2: 1,\n",
    "#                 3: 1}"
   ]
  },
  {
   "cell_type": "code",
   "execution_count": 12,
   "metadata": {},
   "outputs": [
    {
     "name": "stdout",
     "output_type": "stream",
     "text": [
      "Epoch 1/200\n",
      "43/42 [==============================] - 18s 424ms/step - loss: 1.3837 - acc: 0.2783 - auc: 0.5189 - precision: 0.0000e+00 - recall: 0.0000e+00 - f1score: 0.1003 - val_loss: 1.3712 - val_acc: 0.2828 - val_auc: 0.5340 - val_precision: 0.0000e+00 - val_recall: 0.0000e+00 - val_f1score: 0.1013\n",
      "Epoch 2/200\n",
      "43/42 [==============================] - 11s 257ms/step - loss: 1.3531 - acc: 0.3309 - auc: 0.5588 - precision: 0.2802 - recall: 0.0034 - f1score: 0.1044 - val_loss: 1.3210 - val_acc: 0.3848 - val_auc: 0.5830 - val_precision: 0.3600 - val_recall: 0.0083 - val_f1score: 0.1057\n",
      "Epoch 3/200\n",
      "43/42 [==============================] - 12s 277ms/step - loss: 1.3325 - acc: 0.3433 - auc: 0.5971 - precision: 0.3685 - recall: 0.0099 - f1score: 0.1066 - val_loss: 1.2745 - val_acc: 0.3382 - val_auc: 0.6036 - val_precision: 0.3616 - val_recall: 0.0103 - val_f1score: 0.1109\n",
      "Epoch 4/200\n",
      "43/42 [==============================] - 12s 277ms/step - loss: 1.2887 - acc: 0.3652 - auc: 0.6147 - precision: 0.3997 - recall: 0.0146 - f1score: 0.1121 - val_loss: 1.2528 - val_acc: 0.3732 - val_auc: 0.6247 - val_precision: 0.4518 - val_recall: 0.0201 - val_f1score: 0.1137\n",
      "Epoch 5/200\n",
      "43/42 [==============================] - 12s 279ms/step - loss: 1.2735 - acc: 0.3696 - auc: 0.6325 - precision: 0.4590 - recall: 0.0241 - f1score: 0.1135 - val_loss: 1.2253 - val_acc: 0.3994 - val_auc: 0.6386 - val_precision: 0.4793 - val_recall: 0.0307 - val_f1score: 0.1186\n",
      "Epoch 6/200\n",
      "43/42 [==============================] - 12s 278ms/step - loss: 1.2184 - acc: 0.4134 - auc: 0.6471 - precision: 0.4824 - recall: 0.0379 - f1score: 0.1197 - val_loss: 1.2025 - val_acc: 0.3615 - val_auc: 0.6540 - val_precision: 0.4884 - val_recall: 0.0399 - val_f1score: 0.1199\n",
      "Epoch 7/200\n",
      "43/42 [==============================] - 13s 299ms/step - loss: 1.2297 - acc: 0.3638 - auc: 0.6576 - precision: 0.4870 - recall: 0.0422 - f1score: 0.1183 - val_loss: 1.1818 - val_acc: 0.3994 - val_auc: 0.6626 - val_precision: 0.4893 - val_recall: 0.0461 - val_f1score: 0.1223\n",
      "Epoch 8/200\n",
      "43/42 [==============================] - 11s 259ms/step - loss: 1.2129 - acc: 0.4076 - auc: 0.6669 - precision: 0.4893 - recall: 0.0484 - f1score: 0.1206 - val_loss: 1.1739 - val_acc: 0.3936 - val_auc: 0.6717 - val_precision: 0.4945 - val_recall: 0.0520 - val_f1score: 0.1225\n",
      "Epoch 9/200\n",
      "43/42 [==============================] - 12s 277ms/step - loss: 1.2097 - acc: 0.4375 - auc: 0.6758 - precision: 0.4938 - recall: 0.0546 - f1score: 0.1211 - val_loss: 1.2792 - val_acc: 0.3790 - val_auc: 0.6782 - val_precision: 0.4901 - val_recall: 0.0553 - val_f1score: 0.1100\n",
      "Epoch 10/200\n",
      "43/42 [==============================] - 12s 281ms/step - loss: 1.1975 - acc: 0.4222 - auc: 0.6806 - precision: 0.4924 - recall: 0.0558 - f1score: 0.1216 - val_loss: 1.1893 - val_acc: 0.4111 - val_auc: 0.6837 - val_precision: 0.4951 - val_recall: 0.0578 - val_f1score: 0.1216\n",
      "Epoch 11/200\n",
      "43/42 [==============================] - 12s 280ms/step - loss: 1.1869 - acc: 0.4354 - auc: 0.6860 - precision: 0.4945 - recall: 0.0592 - f1score: 0.1232 - val_loss: 1.1760 - val_acc: 0.4402 - val_auc: 0.6887 - val_precision: 0.4971 - val_recall: 0.0618 - val_f1score: 0.1243\n",
      "Epoch 12/200\n",
      "43/42 [==============================] - 12s 281ms/step - loss: 1.1612 - acc: 0.4383 - auc: 0.6918 - precision: 0.5007 - recall: 0.0660 - f1score: 0.1258 - val_loss: 1.1516 - val_acc: 0.4490 - val_auc: 0.6941 - val_precision: 0.5005 - val_recall: 0.0673 - val_f1score: 0.1253\n",
      "Epoch 13/200\n",
      "43/42 [==============================] - 12s 281ms/step - loss: 1.1267 - acc: 0.4587 - auc: 0.6968 - precision: 0.5066 - recall: 0.0710 - f1score: 0.1294 - val_loss: 1.1620 - val_acc: 0.3703 - val_auc: 0.6997 - val_precision: 0.5108 - val_recall: 0.0751 - val_f1score: 0.1247\n",
      "Epoch 14/200\n",
      "43/42 [==============================] - 12s 281ms/step - loss: 1.1547 - acc: 0.4565 - auc: 0.7018 - precision: 0.5112 - recall: 0.0783 - f1score: 0.1272 - val_loss: 1.1140 - val_acc: 0.4286 - val_auc: 0.7039 - val_precision: 0.5118 - val_recall: 0.0809 - val_f1score: 0.1284\n",
      "Epoch 15/200\n",
      "43/42 [==============================] - 12s 277ms/step - loss: 1.1283 - acc: 0.4551 - auc: 0.7060 - precision: 0.5127 - recall: 0.0836 - f1score: 0.1289 - val_loss: 1.1090 - val_acc: 0.4519 - val_auc: 0.7082 - val_precision: 0.5141 - val_recall: 0.0867 - val_f1score: 0.1321\n",
      "Epoch 16/200\n",
      "43/42 [==============================] - 12s 279ms/step - loss: 1.1129 - acc: 0.4573 - auc: 0.7102 - precision: 0.5147 - recall: 0.0903 - f1score: 0.1308 - val_loss: 1.1300 - val_acc: 0.4286 - val_auc: 0.7123 - val_precision: 0.5145 - val_recall: 0.0935 - val_f1score: 0.1302\n",
      "Epoch 17/200\n",
      "43/42 [==============================] - 12s 282ms/step - loss: 1.0858 - acc: 0.4916 - auc: 0.7145 - precision: 0.5187 - recall: 0.0980 - f1score: 0.1345 - val_loss: 1.1953 - val_acc: 0.4169 - val_auc: 0.7164 - val_precision: 0.5206 - val_recall: 0.1013 - val_f1score: 0.1200\n",
      "Epoch 18/200\n",
      "43/42 [==============================] - 12s 281ms/step - loss: 1.1225 - acc: 0.4551 - auc: 0.7177 - precision: 0.5220 - recall: 0.1038 - f1score: 0.1307 - val_loss: 1.0971 - val_acc: 0.4548 - val_auc: 0.7192 - val_precision: 0.5243 - val_recall: 0.1067 - val_f1score: 0.1302\n",
      "Epoch 19/200\n",
      "43/42 [==============================] - 12s 280ms/step - loss: 1.0837 - acc: 0.4792 - auc: 0.7210 - precision: 0.5265 - recall: 0.1097 - f1score: 0.1336 - val_loss: 1.0839 - val_acc: 0.5015 - val_auc: 0.7228 - val_precision: 0.5289 - val_recall: 0.1127 - val_f1score: 0.1309\n",
      "Epoch 20/200\n",
      "43/42 [==============================] - 12s 281ms/step - loss: 1.0713 - acc: 0.4850 - auc: 0.7247 - precision: 0.5310 - recall: 0.1150 - f1score: 0.1350 - val_loss: 1.0869 - val_acc: 0.4752 - val_auc: 0.7263 - val_precision: 0.5319 - val_recall: 0.1174 - val_f1score: 0.1316\n",
      "Epoch 21/200\n",
      "43/42 [==============================] - 12s 283ms/step - loss: 1.0634 - acc: 0.4806 - auc: 0.7279 - precision: 0.5342 - recall: 0.1200 - f1score: 0.1363 - val_loss: 1.0761 - val_acc: 0.4577 - val_auc: 0.7297 - val_precision: 0.5372 - val_recall: 0.1236 - val_f1score: 0.1345\n",
      "Epoch 22/200\n",
      "43/42 [==============================] - 12s 276ms/step - loss: 1.0644 - acc: 0.4901 - auc: 0.7311 - precision: 0.5380 - recall: 0.1265 - f1score: 0.1367 - val_loss: 1.1009 - val_acc: 0.4519 - val_auc: 0.7326 - val_precision: 0.5374 - val_recall: 0.1296 - val_f1score: 0.1340\n",
      "Epoch 23/200\n",
      "43/42 [==============================] - 12s 281ms/step - loss: 1.0917 - acc: 0.4631 - auc: 0.7334 - precision: 0.5373 - recall: 0.1318 - f1score: 0.1336 - val_loss: 1.1097 - val_acc: 0.4665 - val_auc: 0.7347 - val_precision: 0.5392 - val_recall: 0.1339 - val_f1score: 0.1319\n",
      "Epoch 24/200\n",
      "43/42 [==============================] - 12s 280ms/step - loss: 1.0545 - acc: 0.4916 - auc: 0.7360 - precision: 0.5411 - recall: 0.1363 - f1score: 0.1375 - val_loss: 1.0737 - val_acc: 0.4694 - val_auc: 0.7373 - val_precision: 0.5419 - val_recall: 0.1392 - val_f1score: 0.1354\n",
      "Epoch 25/200\n",
      "43/42 [==============================] - 12s 277ms/step - loss: 1.0224 - acc: 0.4982 - auc: 0.7389 - precision: 0.5434 - recall: 0.1425 - f1score: 0.1399 - val_loss: 1.0690 - val_acc: 0.4810 - val_auc: 0.7401 - val_precision: 0.5453 - val_recall: 0.1450 - val_f1score: 0.1346\n",
      "Epoch 26/200\n",
      "43/42 [==============================] - 12s 278ms/step - loss: 1.0279 - acc: 0.4989 - auc: 0.7412 - precision: 0.5464 - recall: 0.1472 - f1score: 0.1396 - val_loss: 1.1336 - val_acc: 0.5015 - val_auc: 0.7425 - val_precision: 0.5486 - val_recall: 0.1507 - val_f1score: 0.1360\n",
      "Epoch 27/200\n",
      "43/42 [==============================] - 12s 283ms/step - loss: 1.0283 - acc: 0.5055 - auc: 0.7436 - precision: 0.5509 - recall: 0.1540 - f1score: 0.1399 - val_loss: 1.0835 - val_acc: 0.4781 - val_auc: 0.7446 - val_precision: 0.5528 - val_recall: 0.1566 - val_f1score: 0.1333\n",
      "Epoch 28/200\n",
      "43/42 [==============================] - 12s 281ms/step - loss: 1.0016 - acc: 0.5201 - auc: 0.7458 - precision: 0.5538 - recall: 0.1591 - f1score: 0.1424 - val_loss: 1.0616 - val_acc: 0.4723 - val_auc: 0.7471 - val_precision: 0.5547 - val_recall: 0.1623 - val_f1score: 0.1381\n",
      "Epoch 29/200\n"
     ]
    },
    {
     "name": "stdout",
     "output_type": "stream",
     "text": [
      "43/42 [==============================] - 12s 278ms/step - loss: 1.0037 - acc: 0.5259 - auc: 0.7483 - precision: 0.5552 - recall: 0.1651 - f1score: 0.1424 - val_loss: 1.0973 - val_acc: 0.4781 - val_auc: 0.7494 - val_precision: 0.5565 - val_recall: 0.1678 - val_f1score: 0.1359\n",
      "Epoch 30/200\n",
      "43/42 [==============================] - 12s 282ms/step - loss: 1.0246 - acc: 0.5011 - auc: 0.7503 - precision: 0.5564 - recall: 0.1700 - f1score: 0.1402 - val_loss: 1.0974 - val_acc: 0.5015 - val_auc: 0.7511 - val_precision: 0.5568 - val_recall: 0.1721 - val_f1score: 0.1353\n",
      "Epoch 31/200\n",
      "43/42 [==============================] - 12s 281ms/step - loss: 0.9810 - acc: 0.5340 - auc: 0.7523 - precision: 0.5582 - recall: 0.1747 - f1score: 0.1447 - val_loss: 1.0618 - val_acc: 0.4431 - val_auc: 0.7534 - val_precision: 0.5595 - val_recall: 0.1775 - val_f1score: 0.1367\n",
      "Epoch 32/200\n",
      "43/42 [==============================] - 12s 281ms/step - loss: 0.9862 - acc: 0.5135 - auc: 0.7544 - precision: 0.5602 - recall: 0.1798 - f1score: 0.1440 - val_loss: 1.0300 - val_acc: 0.5073 - val_auc: 0.7555 - val_precision: 0.5614 - val_recall: 0.1826 - val_f1score: 0.1425\n",
      "Epoch 33/200\n",
      "43/42 [==============================] - 12s 276ms/step - loss: 0.9852 - acc: 0.5201 - auc: 0.7567 - precision: 0.5624 - recall: 0.1855 - f1score: 0.1442 - val_loss: 1.0836 - val_acc: 0.4461 - val_auc: 0.7575 - val_precision: 0.5626 - val_recall: 0.1871 - val_f1score: 0.1321\n",
      "Epoch 34/200\n",
      "43/42 [==============================] - 12s 280ms/step - loss: 1.0014 - acc: 0.5179 - auc: 0.7581 - precision: 0.5624 - recall: 0.1884 - f1score: 0.1424 - val_loss: 1.0428 - val_acc: 0.4869 - val_auc: 0.7591 - val_precision: 0.5637 - val_recall: 0.1908 - val_f1score: 0.1388\n",
      "Epoch 35/200\n",
      "43/42 [==============================] - 12s 280ms/step - loss: 0.9770 - acc: 0.5376 - auc: 0.7600 - precision: 0.5650 - recall: 0.1935 - f1score: 0.1456 - val_loss: 1.1031 - val_acc: 0.4781 - val_auc: 0.7608 - val_precision: 0.5657 - val_recall: 0.1959 - val_f1score: 0.1350\n",
      "Epoch 36/200\n",
      "43/42 [==============================] - 12s 278ms/step - loss: 0.9656 - acc: 0.5362 - auc: 0.7617 - precision: 0.5665 - recall: 0.1982 - f1score: 0.1462 - val_loss: 1.0429 - val_acc: 0.4956 - val_auc: 0.7626 - val_precision: 0.5677 - val_recall: 0.2004 - val_f1score: 0.1402\n",
      "Epoch 37/200\n",
      "43/42 [==============================] - 12s 278ms/step - loss: 0.9757 - acc: 0.5457 - auc: 0.7635 - precision: 0.5691 - recall: 0.2030 - f1score: 0.1461 - val_loss: 1.0776 - val_acc: 0.4985 - val_auc: 0.7642 - val_precision: 0.5704 - val_recall: 0.2049 - val_f1score: 0.1345\n",
      "Epoch 38/200\n",
      "43/42 [==============================] - 12s 283ms/step - loss: 0.9694 - acc: 0.5478 - auc: 0.7650 - precision: 0.5717 - recall: 0.2069 - f1score: 0.1465 - val_loss: 1.0441 - val_acc: 0.4956 - val_auc: 0.7658 - val_precision: 0.5723 - val_recall: 0.2090 - val_f1score: 0.1410\n",
      "Epoch 39/200\n",
      "43/42 [==============================] - 12s 282ms/step - loss: 0.9467 - acc: 0.5537 - auc: 0.7667 - precision: 0.5733 - recall: 0.2109 - f1score: 0.1479 - val_loss: 1.0727 - val_acc: 0.4810 - val_auc: 0.7676 - val_precision: 0.5742 - val_recall: 0.2133 - val_f1score: 0.1418\n",
      "Epoch 40/200\n",
      "43/42 [==============================] - 12s 282ms/step - loss: 0.9460 - acc: 0.5559 - auc: 0.7684 - precision: 0.5751 - recall: 0.2156 - f1score: 0.1491 - val_loss: 1.0550 - val_acc: 0.5015 - val_auc: 0.7692 - val_precision: 0.5756 - val_recall: 0.2176 - val_f1score: 0.1379\n",
      "Epoch 41/200\n",
      "43/42 [==============================] - 12s 281ms/step - loss: 0.9214 - acc: 0.5836 - auc: 0.7701 - precision: 0.5769 - recall: 0.2199 - f1score: 0.1506 - val_loss: 1.0578 - val_acc: 0.5160 - val_auc: 0.7710 - val_precision: 0.5783 - val_recall: 0.2224 - val_f1score: 0.1437\n",
      "Epoch 42/200\n",
      "43/42 [==============================] - 12s 280ms/step - loss: 0.9114 - acc: 0.5763 - auc: 0.7718 - precision: 0.5791 - recall: 0.2247 - f1score: 0.1520 - val_loss: 1.1138 - val_acc: 0.5073 - val_auc: 0.7727 - val_precision: 0.5803 - val_recall: 0.2273 - val_f1score: 0.1422\n",
      "Epoch 43/200\n",
      "43/42 [==============================] - 12s 279ms/step - loss: 0.9564 - acc: 0.5522 - auc: 0.7734 - precision: 0.5812 - recall: 0.2297 - f1score: 0.1481 - val_loss: 1.1571 - val_acc: 0.4636 - val_auc: 0.7740 - val_precision: 0.5818 - val_recall: 0.2314 - val_f1score: 0.1371\n",
      "Epoch 44/200\n",
      "43/42 [==============================] - 12s 281ms/step - loss: 0.9042 - acc: 0.5866 - auc: 0.7748 - precision: 0.5825 - recall: 0.2339 - f1score: 0.1543 - val_loss: 1.0923 - val_acc: 0.4898 - val_auc: 0.7755 - val_precision: 0.5836 - val_recall: 0.2363 - val_f1score: 0.1395\n",
      "Epoch 45/200\n",
      "43/42 [==============================] - 12s 280ms/step - loss: 0.9231 - acc: 0.5639 - auc: 0.7762 - precision: 0.5841 - recall: 0.2382 - f1score: 0.1505 - val_loss: 1.0281 - val_acc: 0.4810 - val_auc: 0.7770 - val_precision: 0.5849 - val_recall: 0.2402 - val_f1score: 0.1424\n",
      "Epoch 46/200\n",
      "43/42 [==============================] - 12s 276ms/step - loss: 0.8830 - acc: 0.5851 - auc: 0.7778 - precision: 0.5858 - recall: 0.2425 - f1score: 0.1554 - val_loss: 1.0721 - val_acc: 0.4985 - val_auc: 0.7786 - val_precision: 0.5870 - val_recall: 0.2447 - val_f1score: 0.1400\n",
      "Epoch 47/200\n",
      "43/42 [==============================] - 12s 282ms/step - loss: 0.8803 - acc: 0.5873 - auc: 0.7794 - precision: 0.5879 - recall: 0.2466 - f1score: 0.1555 - val_loss: 1.1125 - val_acc: 0.5131 - val_auc: 0.7803 - val_precision: 0.5887 - val_recall: 0.2490 - val_f1score: 0.1459\n",
      "Epoch 48/200\n",
      "43/42 [==============================] - 12s 280ms/step - loss: 0.8967 - acc: 0.5814 - auc: 0.7809 - precision: 0.5893 - recall: 0.2511 - f1score: 0.1542 - val_loss: 1.1043 - val_acc: 0.4869 - val_auc: 0.7817 - val_precision: 0.5902 - val_recall: 0.2533 - val_f1score: 0.1424\n",
      "Epoch 49/200\n",
      "43/42 [==============================] - 12s 280ms/step - loss: 0.8947 - acc: 0.5917 - auc: 0.7824 - precision: 0.5910 - recall: 0.2553 - f1score: 0.1544 - val_loss: 1.0504 - val_acc: 0.4985 - val_auc: 0.7830 - val_precision: 0.5918 - val_recall: 0.2571 - val_f1score: 0.1420\n",
      "Epoch 50/200\n",
      "43/42 [==============================] - 12s 279ms/step - loss: 0.8957 - acc: 0.5982 - auc: 0.7837 - precision: 0.5926 - recall: 0.2591 - f1score: 0.1543 - val_loss: 1.0324 - val_acc: 0.5073 - val_auc: 0.7844 - val_precision: 0.5935 - val_recall: 0.2610 - val_f1score: 0.1444\n",
      "Epoch 51/200\n",
      "43/42 [==============================] - 12s 278ms/step - loss: 0.8744 - acc: 0.6034 - auc: 0.7851 - precision: 0.5942 - recall: 0.2630 - f1score: 0.1565 - val_loss: 1.0744 - val_acc: 0.4781 - val_auc: 0.7858 - val_precision: 0.5950 - val_recall: 0.2650 - val_f1score: 0.1427\n",
      "Epoch 52/200\n",
      "43/42 [==============================] - 12s 278ms/step - loss: 0.8513 - acc: 0.6107 - auc: 0.7865 - precision: 0.5958 - recall: 0.2670 - f1score: 0.1588 - val_loss: 1.0958 - val_acc: 0.4752 - val_auc: 0.7872 - val_precision: 0.5969 - val_recall: 0.2692 - val_f1score: 0.1402\n",
      "Epoch 53/200\n",
      "43/42 [==============================] - 12s 279ms/step - loss: 0.8458 - acc: 0.6224 - auc: 0.7879 - precision: 0.5978 - recall: 0.2712 - f1score: 0.1604 - val_loss: 1.1241 - val_acc: 0.4927 - val_auc: 0.7886 - val_precision: 0.5987 - val_recall: 0.2734 - val_f1score: 0.1425\n",
      "Epoch 54/200\n",
      "43/42 [==============================] - 12s 282ms/step - loss: 0.8792 - acc: 0.6048 - auc: 0.7892 - precision: 0.5994 - recall: 0.2751 - f1score: 0.1562 - val_loss: 1.0613 - val_acc: 0.5015 - val_auc: 0.7898 - val_precision: 0.6000 - val_recall: 0.2769 - val_f1score: 0.1429\n",
      "Epoch 55/200\n",
      "43/42 [==============================] - 12s 282ms/step - loss: 0.8552 - acc: 0.6041 - auc: 0.7905 - precision: 0.6007 - recall: 0.2787 - f1score: 0.1587 - val_loss: 1.0824 - val_acc: 0.4810 - val_auc: 0.7911 - val_precision: 0.6014 - val_recall: 0.2804 - val_f1score: 0.1399\n",
      "Epoch 56/200\n",
      "43/42 [==============================] - 12s 279ms/step - loss: 0.8270 - acc: 0.6202 - auc: 0.7918 - precision: 0.6021 - recall: 0.2823 - f1score: 0.1616 - val_loss: 1.1103 - val_acc: 0.4694 - val_auc: 0.7925 - val_precision: 0.6028 - val_recall: 0.2842 - val_f1score: 0.1416\n",
      "Epoch 57/200\n"
     ]
    },
    {
     "name": "stdout",
     "output_type": "stream",
     "text": [
      "43/42 [==============================] - 12s 278ms/step - loss: 0.8464 - acc: 0.6056 - auc: 0.7931 - precision: 0.6034 - recall: 0.2860 - f1score: 0.1592 - val_loss: 1.1050 - val_acc: 0.4752 - val_auc: 0.7937 - val_precision: 0.6039 - val_recall: 0.2877 - val_f1score: 0.1428\n",
      "Epoch 58/200\n",
      "43/42 [==============================] - 12s 279ms/step - loss: 0.8380 - acc: 0.6063 - auc: 0.7942 - precision: 0.6044 - recall: 0.2894 - f1score: 0.1602 - val_loss: 1.0708 - val_acc: 0.4985 - val_auc: 0.7949 - val_precision: 0.6052 - val_recall: 0.2912 - val_f1score: 0.1447\n",
      "Epoch 59/200\n",
      "43/42 [==============================] - 12s 279ms/step - loss: 0.8216 - acc: 0.6282 - auc: 0.7955 - precision: 0.6062 - recall: 0.2931 - f1score: 0.1622 - val_loss: 1.0493 - val_acc: 0.5073 - val_auc: 0.7962 - val_precision: 0.6070 - val_recall: 0.2950 - val_f1score: 0.1449\n",
      "Epoch 60/200\n",
      "43/42 [==============================] - 12s 278ms/step - loss: 0.8165 - acc: 0.6202 - auc: 0.7969 - precision: 0.6078 - recall: 0.2968 - f1score: 0.1629 - val_loss: 1.0549 - val_acc: 0.5131 - val_auc: 0.7975 - val_precision: 0.6084 - val_recall: 0.2983 - val_f1score: 0.1443\n",
      "Epoch 61/200\n",
      "43/42 [==============================] - 12s 280ms/step - loss: 0.7991 - acc: 0.6516 - auc: 0.7982 - precision: 0.6092 - recall: 0.3001 - f1score: 0.1647 - val_loss: 1.1096 - val_acc: 0.5219 - val_auc: 0.7988 - val_precision: 0.6099 - val_recall: 0.3019 - val_f1score: 0.1437\n",
      "Epoch 62/200\n",
      "43/42 [==============================] - 12s 278ms/step - loss: 0.8028 - acc: 0.6435 - auc: 0.7994 - precision: 0.6108 - recall: 0.3038 - f1score: 0.1645 - val_loss: 1.1476 - val_acc: 0.5015 - val_auc: 0.8001 - val_precision: 0.6115 - val_recall: 0.3055 - val_f1score: 0.1425\n",
      "Epoch 63/200\n",
      "43/42 [==============================] - 12s 279ms/step - loss: 0.7709 - acc: 0.6538 - auc: 0.8007 - precision: 0.6123 - recall: 0.3074 - f1score: 0.1676 - val_loss: 1.0835 - val_acc: 0.5306 - val_auc: 0.8014 - val_precision: 0.6131 - val_recall: 0.3093 - val_f1score: 0.1463\n",
      "Epoch 64/200\n",
      "43/42 [==============================] - 12s 279ms/step - loss: 0.7929 - acc: 0.6508 - auc: 0.8020 - precision: 0.6137 - recall: 0.3111 - f1score: 0.1662 - val_loss: 1.0701 - val_acc: 0.5102 - val_auc: 0.8027 - val_precision: 0.6144 - val_recall: 0.3129 - val_f1score: 0.1485\n",
      "Epoch 65/200\n",
      "43/42 [==============================] - 12s 278ms/step - loss: 0.7799 - acc: 0.6501 - auc: 0.8033 - precision: 0.6151 - recall: 0.3147 - f1score: 0.1663 - val_loss: 1.1768 - val_acc: 0.5044 - val_auc: 0.8039 - val_precision: 0.6157 - val_recall: 0.3164 - val_f1score: 0.1431\n",
      "Epoch 66/200\n",
      "43/42 [==============================] - 12s 279ms/step - loss: 0.7663 - acc: 0.6662 - auc: 0.8045 - precision: 0.6166 - recall: 0.3182 - f1score: 0.1683 - val_loss: 1.1181 - val_acc: 0.4781 - val_auc: 0.8051 - val_precision: 0.6173 - val_recall: 0.3198 - val_f1score: 0.1418\n",
      "Epoch 67/200\n",
      "43/42 [==============================] - 12s 277ms/step - loss: 0.7598 - acc: 0.6654 - auc: 0.8058 - precision: 0.6181 - recall: 0.3215 - f1score: 0.1692 - val_loss: 1.0975 - val_acc: 0.5102 - val_auc: 0.8063 - val_precision: 0.6187 - val_recall: 0.3232 - val_f1score: 0.1444\n",
      "Epoch 68/200\n",
      "43/42 [==============================] - 12s 280ms/step - loss: 0.7400 - acc: 0.6728 - auc: 0.8070 - precision: 0.6194 - recall: 0.3250 - f1score: 0.1712 - val_loss: 1.2186 - val_acc: 0.4490 - val_auc: 0.8076 - val_precision: 0.6200 - val_recall: 0.3266 - val_f1score: 0.1375\n",
      "Epoch 69/200\n",
      "43/42 [==============================] - 12s 278ms/step - loss: 0.7667 - acc: 0.6654 - auc: 0.8081 - precision: 0.6205 - recall: 0.3282 - f1score: 0.1697 - val_loss: 1.0796 - val_acc: 0.5102 - val_auc: 0.8087 - val_precision: 0.6213 - val_recall: 0.3298 - val_f1score: 0.1444\n",
      "Epoch 70/200\n",
      "43/42 [==============================] - 12s 278ms/step - loss: 0.7307 - acc: 0.6859 - auc: 0.8093 - precision: 0.6223 - recall: 0.3316 - f1score: 0.1718 - val_loss: 1.2336 - val_acc: 0.4723 - val_auc: 0.8099 - val_precision: 0.6230 - val_recall: 0.3333 - val_f1score: 0.1408\n",
      "Epoch 71/200\n",
      "43/42 [==============================] - 12s 278ms/step - loss: 0.7646 - acc: 0.6749 - auc: 0.8104 - precision: 0.6236 - recall: 0.3350 - f1score: 0.1690 - val_loss: 1.1162 - val_acc: 0.5306 - val_auc: 0.8109 - val_precision: 0.6243 - val_recall: 0.3366 - val_f1score: 0.1440\n",
      "Epoch 72/200\n",
      "43/42 [==============================] - 12s 280ms/step - loss: 0.7302 - acc: 0.6793 - auc: 0.8116 - precision: 0.6250 - recall: 0.3382 - f1score: 0.1726 - val_loss: 1.1273 - val_acc: 0.4985 - val_auc: 0.8121 - val_precision: 0.6256 - val_recall: 0.3398 - val_f1score: 0.1426\n",
      "Epoch 73/200\n",
      "43/42 [==============================] - 12s 279ms/step - loss: 0.7349 - acc: 0.6837 - auc: 0.8127 - precision: 0.6264 - recall: 0.3413 - f1score: 0.1720 - val_loss: 1.0707 - val_acc: 0.4694 - val_auc: 0.8133 - val_precision: 0.6271 - val_recall: 0.3428 - val_f1score: 0.1445\n",
      "Epoch 74/200\n",
      "43/42 [==============================] - 12s 279ms/step - loss: 0.7032 - acc: 0.6932 - auc: 0.8139 - precision: 0.6278 - recall: 0.3443 - f1score: 0.1755 - val_loss: 1.3428 - val_acc: 0.4752 - val_auc: 0.8144 - val_precision: 0.6286 - val_recall: 0.3460 - val_f1score: 0.1374\n",
      "Epoch 75/200\n",
      "43/42 [==============================] - 12s 280ms/step - loss: 0.7046 - acc: 0.7049 - auc: 0.8150 - precision: 0.6294 - recall: 0.3478 - f1score: 0.1764 - val_loss: 1.2516 - val_acc: 0.4840 - val_auc: 0.8156 - val_precision: 0.6301 - val_recall: 0.3494 - val_f1score: 0.1425\n",
      "Epoch 76/200\n",
      "43/42 [==============================] - 12s 280ms/step - loss: 0.7290 - acc: 0.6866 - auc: 0.8161 - precision: 0.6306 - recall: 0.3508 - f1score: 0.1733 - val_loss: 1.2371 - val_acc: 0.4606 - val_auc: 0.8166 - val_precision: 0.6312 - val_recall: 0.3523 - val_f1score: 0.1393\n",
      "Epoch 77/200\n",
      "43/42 [==============================] - 12s 277ms/step - loss: 0.6879 - acc: 0.7027 - auc: 0.8172 - precision: 0.6320 - recall: 0.3539 - f1score: 0.1770 - val_loss: 1.1896 - val_acc: 0.5102 - val_auc: 0.8177 - val_precision: 0.6328 - val_recall: 0.3554 - val_f1score: 0.1444\n",
      "Epoch 78/200\n",
      "43/42 [==============================] - 12s 280ms/step - loss: 0.6743 - acc: 0.7071 - auc: 0.8183 - precision: 0.6335 - recall: 0.3570 - f1score: 0.1790 - val_loss: 1.3624 - val_acc: 0.4665 - val_auc: 0.8189 - val_precision: 0.6342 - val_recall: 0.3587 - val_f1score: 0.1407\n",
      "Epoch 79/200\n",
      "43/42 [==============================] - 12s 279ms/step - loss: 0.7066 - acc: 0.7020 - auc: 0.8193 - precision: 0.6347 - recall: 0.3601 - f1score: 0.1754 - val_loss: 1.2239 - val_acc: 0.5306 - val_auc: 0.8199 - val_precision: 0.6355 - val_recall: 0.3617 - val_f1score: 0.1470\n",
      "Epoch 80/200\n",
      "43/42 [==============================] - 12s 278ms/step - loss: 0.6452 - acc: 0.7129 - auc: 0.8205 - precision: 0.6362 - recall: 0.3633 - f1score: 0.1820 - val_loss: 1.2682 - val_acc: 0.4723 - val_auc: 0.8211 - val_precision: 0.6368 - val_recall: 0.3649 - val_f1score: 0.1394\n",
      "Epoch 81/200\n",
      "43/42 [==============================] - 12s 280ms/step - loss: 0.6085 - acc: 0.7370 - auc: 0.8217 - precision: 0.6377 - recall: 0.3666 - f1score: 0.1856 - val_loss: 1.1923 - val_acc: 0.4869 - val_auc: 0.8223 - val_precision: 0.6385 - val_recall: 0.3683 - val_f1score: 0.1428\n",
      "Epoch 82/200\n",
      "43/42 [==============================] - 12s 278ms/step - loss: 0.6454 - acc: 0.7297 - auc: 0.8229 - precision: 0.6393 - recall: 0.3699 - f1score: 0.1820 - val_loss: 1.1407 - val_acc: 0.5248 - val_auc: 0.8235 - val_precision: 0.6401 - val_recall: 0.3715 - val_f1score: 0.1450\n",
      "Epoch 83/200\n",
      "43/42 [==============================] - 12s 279ms/step - loss: 0.6275 - acc: 0.7407 - auc: 0.8241 - precision: 0.6409 - recall: 0.3731 - f1score: 0.1840 - val_loss: 1.2960 - val_acc: 0.4723 - val_auc: 0.8247 - val_precision: 0.6416 - val_recall: 0.3747 - val_f1score: 0.1393\n",
      "Epoch 84/200\n",
      "43/42 [==============================] - 12s 279ms/step - loss: 0.6176 - acc: 0.7480 - auc: 0.8252 - precision: 0.6423 - recall: 0.3763 - f1score: 0.1851 - val_loss: 1.3072 - val_acc: 0.5102 - val_auc: 0.8258 - val_precision: 0.6431 - val_recall: 0.3779 - val_f1score: 0.1432\n",
      "Epoch 85/200\n"
     ]
    },
    {
     "name": "stdout",
     "output_type": "stream",
     "text": [
      "43/42 [==============================] - 12s 280ms/step - loss: 0.5900 - acc: 0.7495 - auc: 0.8264 - precision: 0.6438 - recall: 0.3794 - f1score: 0.1873 - val_loss: 1.3184 - val_acc: 0.4927 - val_auc: 0.8270 - val_precision: 0.6447 - val_recall: 0.3811 - val_f1score: 0.1444\n",
      "Epoch 86/200\n",
      "43/42 [==============================] - 12s 280ms/step - loss: 0.5722 - acc: 0.7568 - auc: 0.8276 - precision: 0.6456 - recall: 0.3828 - f1score: 0.1897 - val_loss: 1.4298 - val_acc: 0.4810 - val_auc: 0.8282 - val_precision: 0.6463 - val_recall: 0.3844 - val_f1score: 0.1398\n",
      "Epoch 87/200\n",
      "43/42 [==============================] - 12s 278ms/step - loss: 0.5701 - acc: 0.7589 - auc: 0.8287 - precision: 0.6471 - recall: 0.3860 - f1score: 0.1899 - val_loss: 1.4496 - val_acc: 0.4665 - val_auc: 0.8293 - val_precision: 0.6478 - val_recall: 0.3876 - val_f1score: 0.1395\n",
      "Epoch 88/200\n",
      "43/42 [==============================] - 12s 278ms/step - loss: 0.5650 - acc: 0.7524 - auc: 0.8299 - precision: 0.6486 - recall: 0.3893 - f1score: 0.1914 - val_loss: 1.2312 - val_acc: 0.4461 - val_auc: 0.8304 - val_precision: 0.6491 - val_recall: 0.3906 - val_f1score: 0.1369\n",
      "Epoch 89/200\n",
      "43/42 [==============================] - 12s 279ms/step - loss: 0.5726 - acc: 0.7699 - auc: 0.8310 - precision: 0.6500 - recall: 0.3922 - f1score: 0.1902 - val_loss: 1.4363 - val_acc: 0.4519 - val_auc: 0.8315 - val_precision: 0.6506 - val_recall: 0.3937 - val_f1score: 0.1347\n",
      "Epoch 90/200\n",
      "43/42 [==============================] - 12s 279ms/step - loss: 0.5576 - acc: 0.7597 - auc: 0.8321 - precision: 0.6513 - recall: 0.3951 - f1score: 0.1905 - val_loss: 1.3813 - val_acc: 0.4869 - val_auc: 0.8326 - val_precision: 0.6520 - val_recall: 0.3966 - val_f1score: 0.1418\n",
      "Epoch 91/200\n",
      "43/42 [==============================] - 12s 279ms/step - loss: 0.5337 - acc: 0.7779 - auc: 0.8332 - precision: 0.6528 - recall: 0.3982 - f1score: 0.1944 - val_loss: 1.4332 - val_acc: 0.4490 - val_auc: 0.8338 - val_precision: 0.6535 - val_recall: 0.3998 - val_f1score: 0.1380\n",
      "Epoch 92/200\n",
      "43/42 [==============================] - 12s 278ms/step - loss: 0.5267 - acc: 0.7918 - auc: 0.8344 - precision: 0.6544 - recall: 0.4015 - f1score: 0.1957 - val_loss: 1.4525 - val_acc: 0.4723 - val_auc: 0.8349 - val_precision: 0.6551 - val_recall: 0.4030 - val_f1score: 0.1363\n",
      "Epoch 93/200\n",
      "43/42 [==============================] - 12s 278ms/step - loss: 0.5532 - acc: 0.7575 - auc: 0.8354 - precision: 0.6558 - recall: 0.4044 - f1score: 0.1910 - val_loss: 1.3700 - val_acc: 0.4723 - val_auc: 0.8359 - val_precision: 0.6563 - val_recall: 0.4057 - val_f1score: 0.1387\n",
      "Epoch 94/200\n",
      "43/42 [==============================] - 12s 277ms/step - loss: 0.5158 - acc: 0.7823 - auc: 0.8365 - precision: 0.6572 - recall: 0.4073 - f1score: 0.1964 - val_loss: 1.5473 - val_acc: 0.4723 - val_auc: 0.8370 - val_precision: 0.6579 - val_recall: 0.4088 - val_f1score: 0.1362\n",
      "Epoch 95/200\n",
      "43/42 [==============================] - 12s 279ms/step - loss: 0.4896 - acc: 0.8006 - auc: 0.8376 - precision: 0.6587 - recall: 0.4103 - f1score: 0.1987 - val_loss: 1.7877 - val_acc: 0.4840 - val_auc: 0.8381 - val_precision: 0.6595 - val_recall: 0.4119 - val_f1score: 0.1344\n",
      "Epoch 96/200\n",
      "43/42 [==============================] - 12s 278ms/step - loss: 0.4994 - acc: 0.7962 - auc: 0.8386 - precision: 0.6603 - recall: 0.4135 - f1score: 0.1979 - val_loss: 1.4854 - val_acc: 0.4402 - val_auc: 0.8391 - val_precision: 0.6609 - val_recall: 0.4150 - val_f1score: 0.1348\n",
      "Epoch 97/200\n",
      "43/42 [==============================] - 12s 279ms/step - loss: 0.4882 - acc: 0.8020 - auc: 0.8397 - precision: 0.6616 - recall: 0.4164 - f1score: 0.1994 - val_loss: 1.6313 - val_acc: 0.4577 - val_auc: 0.8402 - val_precision: 0.6624 - val_recall: 0.4179 - val_f1score: 0.1340\n",
      "Epoch 98/200\n",
      "43/42 [==============================] - 12s 281ms/step - loss: 0.4751 - acc: 0.8181 - auc: 0.8408 - precision: 0.6631 - recall: 0.4194 - f1score: 0.2009 - val_loss: 1.6031 - val_acc: 0.4694 - val_auc: 0.8413 - val_precision: 0.6639 - val_recall: 0.4210 - val_f1score: 0.1374\n",
      "Epoch 99/200\n",
      "43/42 [==============================] - 12s 279ms/step - loss: 0.4418 - acc: 0.8262 - auc: 0.8419 - precision: 0.6649 - recall: 0.4226 - f1score: 0.2042 - val_loss: 1.5393 - val_acc: 0.4869 - val_auc: 0.8425 - val_precision: 0.6656 - val_recall: 0.4241 - val_f1score: 0.1360\n",
      "Epoch 100/200\n",
      "43/42 [==============================] - 12s 284ms/step - loss: 0.4460 - acc: 0.8240 - auc: 0.8430 - precision: 0.6665 - recall: 0.4256 - f1score: 0.2043 - val_loss: 1.4764 - val_acc: 0.4898 - val_auc: 0.8436 - val_precision: 0.6672 - val_recall: 0.4271 - val_f1score: 0.1414\n",
      "Epoch 101/200\n",
      "43/42 [==============================] - 12s 287ms/step - loss: 0.4795 - acc: 0.8064 - auc: 0.8442 - precision: 0.6680 - recall: 0.4286 - f1score: 0.2008 - val_loss: 1.4646 - val_acc: 0.4665 - val_auc: 0.8446 - val_precision: 0.6687 - val_recall: 0.4300 - val_f1score: 0.1367\n",
      "Epoch 102/200\n",
      "43/42 [==============================] - 12s 283ms/step - loss: 0.4855 - acc: 0.8057 - auc: 0.8452 - precision: 0.6694 - recall: 0.4314 - f1score: 0.2008 - val_loss: 1.4477 - val_acc: 0.4898 - val_auc: 0.8456 - val_precision: 0.6701 - val_recall: 0.4328 - val_f1score: 0.1356\n",
      "Epoch 103/200\n",
      "43/42 [==============================] - 12s 279ms/step - loss: 0.4600 - acc: 0.8115 - auc: 0.8461 - precision: 0.6708 - recall: 0.4342 - f1score: 0.2010 - val_loss: 1.5955 - val_acc: 0.4577 - val_auc: 0.8466 - val_precision: 0.6715 - val_recall: 0.4355 - val_f1score: 0.1355\n",
      "Epoch 104/200\n",
      "43/42 [==============================] - 12s 280ms/step - loss: 0.4180 - acc: 0.8349 - auc: 0.8472 - precision: 0.6723 - recall: 0.4371 - f1score: 0.2070 - val_loss: 1.5927 - val_acc: 0.4985 - val_auc: 0.8477 - val_precision: 0.6731 - val_recall: 0.4385 - val_f1score: 0.1380\n",
      "Epoch 105/200\n",
      "43/42 [==============================] - 12s 278ms/step - loss: 0.4085 - acc: 0.8298 - auc: 0.8483 - precision: 0.6739 - recall: 0.4400 - f1score: 0.2076 - val_loss: 1.5947 - val_acc: 0.4723 - val_auc: 0.8488 - val_precision: 0.6746 - val_recall: 0.4414 - val_f1score: 0.1362\n",
      "Epoch 106/200\n",
      "43/42 [==============================] - 12s 278ms/step - loss: 0.4092 - acc: 0.8510 - auc: 0.8493 - precision: 0.6754 - recall: 0.4429 - f1score: 0.2082 - val_loss: 1.6705 - val_acc: 0.4956 - val_auc: 0.8498 - val_precision: 0.6763 - val_recall: 0.4444 - val_f1score: 0.1369\n",
      "Epoch 107/200\n",
      "43/42 [==============================] - 12s 279ms/step - loss: 0.3962 - acc: 0.8459 - auc: 0.8504 - precision: 0.6771 - recall: 0.4458 - f1score: 0.2096 - val_loss: 1.7662 - val_acc: 0.4402 - val_auc: 0.8509 - val_precision: 0.6778 - val_recall: 0.4472 - val_f1score: 0.1309\n",
      "Epoch 108/200\n",
      "43/42 [==============================] - 12s 281ms/step - loss: 0.3879 - acc: 0.8576 - auc: 0.8514 - precision: 0.6787 - recall: 0.4487 - f1score: 0.2109 - val_loss: 1.6737 - val_acc: 0.4519 - val_auc: 0.8519 - val_precision: 0.6794 - val_recall: 0.4501 - val_f1score: 0.1334\n",
      "Epoch 109/200\n",
      "43/42 [==============================] - 12s 280ms/step - loss: 0.4052 - acc: 0.8400 - auc: 0.8524 - precision: 0.6801 - recall: 0.4514 - f1score: 0.2089 - val_loss: 1.6637 - val_acc: 0.4752 - val_auc: 0.8529 - val_precision: 0.6808 - val_recall: 0.4528 - val_f1score: 0.1367\n",
      "Epoch 110/200\n",
      "43/42 [==============================] - 12s 280ms/step - loss: 0.3225 - acc: 0.8773 - auc: 0.8535 - precision: 0.6817 - recall: 0.4543 - f1score: 0.2164 - val_loss: 1.9004 - val_acc: 0.4752 - val_auc: 0.8540 - val_precision: 0.6825 - val_recall: 0.4557 - val_f1score: 0.1345\n",
      "Epoch 111/200\n",
      "43/42 [==============================] - 12s 278ms/step - loss: 0.3813 - acc: 0.8386 - auc: 0.8545 - precision: 0.6832 - recall: 0.4571 - f1score: 0.2105 - val_loss: 1.9421 - val_acc: 0.5073 - val_auc: 0.8549 - val_precision: 0.6839 - val_recall: 0.4584 - val_f1score: 0.1350\n",
      "Epoch 112/200\n",
      "43/42 [==============================] - 12s 278ms/step - loss: 0.3932 - acc: 0.8561 - auc: 0.8555 - precision: 0.6847 - recall: 0.4598 - f1score: 0.2114 - val_loss: 1.5384 - val_acc: 0.4723 - val_auc: 0.8559 - val_precision: 0.6854 - val_recall: 0.4611 - val_f1score: 0.1336\n",
      "Epoch 113/200\n"
     ]
    },
    {
     "name": "stdout",
     "output_type": "stream",
     "text": [
      "43/42 [==============================] - 12s 279ms/step - loss: 0.3251 - acc: 0.8736 - auc: 0.8565 - precision: 0.6862 - recall: 0.4625 - f1score: 0.2154 - val_loss: 1.8922 - val_acc: 0.4898 - val_auc: 0.8569 - val_precision: 0.6869 - val_recall: 0.4638 - val_f1score: 0.1348\n",
      "Epoch 114/200\n",
      "43/42 [==============================] - 12s 280ms/step - loss: 0.3592 - acc: 0.8517 - auc: 0.8575 - precision: 0.6877 - recall: 0.4652 - f1score: 0.2138 - val_loss: 1.9844 - val_acc: 0.4694 - val_auc: 0.8579 - val_precision: 0.6883 - val_recall: 0.4665 - val_f1score: 0.1333\n",
      "Epoch 115/200\n",
      "43/42 [==============================] - 12s 279ms/step - loss: 0.3773 - acc: 0.8524 - auc: 0.8583 - precision: 0.6889 - recall: 0.4678 - f1score: 0.2116 - val_loss: 1.8429 - val_acc: 0.4373 - val_auc: 0.8587 - val_precision: 0.6894 - val_recall: 0.4690 - val_f1score: 0.1315\n",
      "Epoch 116/200\n",
      "43/42 [==============================] - 12s 277ms/step - loss: 0.3482 - acc: 0.8656 - auc: 0.8592 - precision: 0.6901 - recall: 0.4702 - f1score: 0.2140 - val_loss: 1.8800 - val_acc: 0.4752 - val_auc: 0.8596 - val_precision: 0.6908 - val_recall: 0.4715 - val_f1score: 0.1316\n",
      "Epoch 117/200\n",
      "43/42 [==============================] - 12s 278ms/step - loss: 0.3380 - acc: 0.8700 - auc: 0.8601 - precision: 0.6916 - recall: 0.4729 - f1score: 0.2162 - val_loss: 1.9388 - val_acc: 0.4752 - val_auc: 0.8606 - val_precision: 0.6922 - val_recall: 0.4742 - val_f1score: 0.1319\n",
      "Epoch 118/200\n",
      "43/42 [==============================] - 12s 280ms/step - loss: 0.3172 - acc: 0.8795 - auc: 0.8611 - precision: 0.6929 - recall: 0.4755 - f1score: 0.2180 - val_loss: 2.0524 - val_acc: 0.4810 - val_auc: 0.8615 - val_precision: 0.6936 - val_recall: 0.4768 - val_f1score: 0.1325\n",
      "Epoch 119/200\n",
      "43/42 [==============================] - 12s 279ms/step - loss: 0.3243 - acc: 0.8692 - auc: 0.8620 - precision: 0.6943 - recall: 0.4781 - f1score: 0.2168 - val_loss: 1.9854 - val_acc: 0.4636 - val_auc: 0.8624 - val_precision: 0.6950 - val_recall: 0.4793 - val_f1score: 0.1281\n",
      "Epoch 120/200\n",
      "43/42 [==============================] - 12s 278ms/step - loss: 0.3379 - acc: 0.8744 - auc: 0.8629 - precision: 0.6957 - recall: 0.4806 - f1score: 0.2167 - val_loss: 1.8991 - val_acc: 0.4606 - val_auc: 0.8632 - val_precision: 0.6962 - val_recall: 0.4818 - val_f1score: 0.1300\n",
      "Epoch 121/200\n",
      "43/42 [==============================] - 12s 278ms/step - loss: 0.3416 - acc: 0.8707 - auc: 0.8636 - precision: 0.6969 - recall: 0.4830 - f1score: 0.2144 - val_loss: 1.9072 - val_acc: 0.5015 - val_auc: 0.8640 - val_precision: 0.6975 - val_recall: 0.4842 - val_f1score: 0.1371\n",
      "Epoch 122/200\n",
      "43/42 [==============================] - 12s 279ms/step - loss: 0.3074 - acc: 0.8802 - auc: 0.8645 - precision: 0.6982 - recall: 0.4855 - f1score: 0.2190 - val_loss: 1.9477 - val_acc: 0.4548 - val_auc: 0.8649 - val_precision: 0.6988 - val_recall: 0.4867 - val_f1score: 0.1291\n",
      "Epoch 123/200\n",
      "43/42 [==============================] - 12s 279ms/step - loss: 0.2712 - acc: 0.8934 - auc: 0.8654 - precision: 0.6995 - recall: 0.4880 - f1score: 0.2216 - val_loss: 1.9506 - val_acc: 0.4577 - val_auc: 0.8659 - val_precision: 0.7002 - val_recall: 0.4892 - val_f1score: 0.1337\n",
      "Epoch 124/200\n",
      "43/42 [==============================] - 12s 283ms/step - loss: 0.2999 - acc: 0.8890 - auc: 0.8663 - precision: 0.7009 - recall: 0.4905 - f1score: 0.2204 - val_loss: 1.6832 - val_acc: 0.4869 - val_auc: 0.8667 - val_precision: 0.7014 - val_recall: 0.4917 - val_f1score: 0.1363\n",
      "Epoch 125/200\n",
      "43/42 [==============================] - 12s 280ms/step - loss: 0.2801 - acc: 0.8963 - auc: 0.8672 - precision: 0.7022 - recall: 0.4929 - f1score: 0.2214 - val_loss: 2.1987 - val_acc: 0.4577 - val_auc: 0.8677 - val_precision: 0.7028 - val_recall: 0.4941 - val_f1score: 0.1318\n",
      "Epoch 126/200\n",
      "43/42 [==============================] - 12s 280ms/step - loss: 0.2814 - acc: 0.8868 - auc: 0.8681 - precision: 0.7035 - recall: 0.4954 - f1score: 0.2215 - val_loss: 2.0514 - val_acc: 0.4606 - val_auc: 0.8685 - val_precision: 0.7040 - val_recall: 0.4965 - val_f1score: 0.1325\n",
      "Epoch 127/200\n",
      "43/42 [==============================] - 12s 278ms/step - loss: 0.2621 - acc: 0.8970 - auc: 0.8690 - precision: 0.7047 - recall: 0.4977 - f1score: 0.2241 - val_loss: 2.1651 - val_acc: 0.4694 - val_auc: 0.8693 - val_precision: 0.7053 - val_recall: 0.4989 - val_f1score: 0.1299\n",
      "Epoch 128/200\n",
      "43/42 [==============================] - 12s 280ms/step - loss: 0.3373 - acc: 0.8663 - auc: 0.8697 - precision: 0.7058 - recall: 0.5000 - f1score: 0.2160 - val_loss: 1.8452 - val_acc: 0.4636 - val_auc: 0.8700 - val_precision: 0.7063 - val_recall: 0.5011 - val_f1score: 0.1318\n",
      "Epoch 129/200\n",
      "43/42 [==============================] - 12s 278ms/step - loss: 0.2398 - acc: 0.9109 - auc: 0.8705 - precision: 0.7070 - recall: 0.5023 - f1score: 0.2251 - val_loss: 2.2807 - val_acc: 0.4781 - val_auc: 0.8709 - val_precision: 0.7076 - val_recall: 0.5035 - val_f1score: 0.1324\n",
      "Epoch 130/200\n",
      "43/42 [==============================] - 12s 279ms/step - loss: 0.2637 - acc: 0.9014 - auc: 0.8713 - precision: 0.7083 - recall: 0.5047 - f1score: 0.2232 - val_loss: 2.2843 - val_acc: 0.4723 - val_auc: 0.8717 - val_precision: 0.7089 - val_recall: 0.5058 - val_f1score: 0.1310\n",
      "Epoch 131/200\n",
      "43/42 [==============================] - 12s 277ms/step - loss: 0.2624 - acc: 0.9080 - auc: 0.8721 - precision: 0.7095 - recall: 0.5070 - f1score: 0.2238 - val_loss: 2.0208 - val_acc: 0.4927 - val_auc: 0.8725 - val_precision: 0.7102 - val_recall: 0.5082 - val_f1score: 0.1367\n",
      "Epoch 132/200\n",
      "43/42 [==============================] - 12s 278ms/step - loss: 0.2492 - acc: 0.9094 - auc: 0.8730 - precision: 0.7108 - recall: 0.5094 - f1score: 0.2245 - val_loss: 2.0774 - val_acc: 0.4781 - val_auc: 0.8733 - val_precision: 0.7114 - val_recall: 0.5105 - val_f1score: 0.1344\n",
      "Epoch 133/200\n",
      "43/42 [==============================] - 12s 280ms/step - loss: 0.2226 - acc: 0.9196 - auc: 0.8738 - precision: 0.7121 - recall: 0.5117 - f1score: 0.2276 - val_loss: 2.3233 - val_acc: 0.4927 - val_auc: 0.8742 - val_precision: 0.7128 - val_recall: 0.5128 - val_f1score: 0.1355\n",
      "Epoch 134/200\n",
      "43/42 [==============================] - 12s 278ms/step - loss: 0.2751 - acc: 0.8999 - auc: 0.8746 - precision: 0.7134 - recall: 0.5140 - f1score: 0.2236 - val_loss: 2.0414 - val_acc: 0.4927 - val_auc: 0.8749 - val_precision: 0.7140 - val_recall: 0.5151 - val_f1score: 0.1343\n",
      "Epoch 135/200\n",
      "43/42 [==============================] - 12s 278ms/step - loss: 0.2316 - acc: 0.9138 - auc: 0.8753 - precision: 0.7146 - recall: 0.5162 - f1score: 0.2262 - val_loss: 2.2257 - val_acc: 0.4723 - val_auc: 0.8757 - val_precision: 0.7152 - val_recall: 0.5173 - val_f1score: 0.1333\n",
      "Epoch 136/200\n",
      "43/42 [==============================] - 12s 279ms/step - loss: 0.2382 - acc: 0.9087 - auc: 0.8761 - precision: 0.7157 - recall: 0.5184 - f1score: 0.2261 - val_loss: 2.0873 - val_acc: 0.4636 - val_auc: 0.8765 - val_precision: 0.7163 - val_recall: 0.5195 - val_f1score: 0.1326\n",
      "Epoch 137/200\n",
      "43/42 [==============================] - 12s 277ms/step - loss: 0.2588 - acc: 0.9058 - auc: 0.8768 - precision: 0.7169 - recall: 0.5206 - f1score: 0.2245 - val_loss: 1.9262 - val_acc: 0.4461 - val_auc: 0.8772 - val_precision: 0.7174 - val_recall: 0.5216 - val_f1score: 0.1339\n",
      "Epoch 138/200\n",
      "43/42 [==============================] - 12s 278ms/step - loss: 0.2187 - acc: 0.9299 - auc: 0.8776 - precision: 0.7181 - recall: 0.5228 - f1score: 0.2287 - val_loss: 2.2228 - val_acc: 0.4694 - val_auc: 0.8780 - val_precision: 0.7186 - val_recall: 0.5238 - val_f1score: 0.1310\n",
      "Epoch 139/200\n",
      "43/42 [==============================] - 12s 279ms/step - loss: 0.2559 - acc: 0.8970 - auc: 0.8783 - precision: 0.7191 - recall: 0.5249 - f1score: 0.2243 - val_loss: 2.2757 - val_acc: 0.4665 - val_auc: 0.8787 - val_precision: 0.7196 - val_recall: 0.5258 - val_f1score: 0.1314\n",
      "Epoch 140/200\n",
      "43/42 [==============================] - 12s 278ms/step - loss: 0.2483 - acc: 0.9050 - auc: 0.8790 - precision: 0.7202 - recall: 0.5269 - f1score: 0.2260 - val_loss: 2.1346 - val_acc: 0.4665 - val_auc: 0.8794 - val_precision: 0.7206 - val_recall: 0.5279 - val_f1score: 0.1330\n",
      "Epoch 141/200\n"
     ]
    },
    {
     "name": "stdout",
     "output_type": "stream",
     "text": [
      "43/42 [==============================] - 12s 278ms/step - loss: 0.2205 - acc: 0.9153 - auc: 0.8797 - precision: 0.7212 - recall: 0.5289 - f1score: 0.2274 - val_loss: 2.0791 - val_acc: 0.4781 - val_auc: 0.8801 - val_precision: 0.7217 - val_recall: 0.5299 - val_f1score: 0.1323\n",
      "Epoch 142/200\n",
      "43/42 [==============================] - 12s 280ms/step - loss: 0.2212 - acc: 0.9094 - auc: 0.8804 - precision: 0.7222 - recall: 0.5310 - f1score: 0.2276 - val_loss: 2.3596 - val_acc: 0.4373 - val_auc: 0.8808 - val_precision: 0.7227 - val_recall: 0.5319 - val_f1score: 0.1283\n",
      "Epoch 143/200\n",
      "43/42 [==============================] - 12s 278ms/step - loss: 0.1978 - acc: 0.9277 - auc: 0.8811 - precision: 0.7233 - recall: 0.5330 - f1score: 0.2298 - val_loss: 2.4366 - val_acc: 0.4402 - val_auc: 0.8815 - val_precision: 0.7238 - val_recall: 0.5340 - val_f1score: 0.1282\n",
      "Epoch 144/200\n",
      "43/42 [==============================] - 12s 279ms/step - loss: 0.2713 - acc: 0.8992 - auc: 0.8818 - precision: 0.7242 - recall: 0.5349 - f1score: 0.2238 - val_loss: 2.0587 - val_acc: 0.4431 - val_auc: 0.8820 - val_precision: 0.7246 - val_recall: 0.5358 - val_f1score: 0.1279\n",
      "Epoch 145/200\n",
      "43/42 [==============================] - 12s 279ms/step - loss: 0.1910 - acc: 0.9321 - auc: 0.8824 - precision: 0.7252 - recall: 0.5368 - f1score: 0.2306 - val_loss: 2.4093 - val_acc: 0.4577 - val_auc: 0.8827 - val_precision: 0.7257 - val_recall: 0.5378 - val_f1score: 0.1283\n",
      "Epoch 146/200\n",
      "43/42 [==============================] - 12s 278ms/step - loss: 0.2032 - acc: 0.9248 - auc: 0.8831 - precision: 0.7263 - recall: 0.5389 - f1score: 0.2306 - val_loss: 2.0960 - val_acc: 0.4840 - val_auc: 0.8834 - val_precision: 0.7268 - val_recall: 0.5398 - val_f1score: 0.1316\n",
      "Epoch 147/200\n",
      "43/42 [==============================] - 12s 279ms/step - loss: 0.1932 - acc: 0.9211 - auc: 0.8838 - precision: 0.7273 - recall: 0.5408 - f1score: 0.2302 - val_loss: 2.3362 - val_acc: 0.4636 - val_auc: 0.8841 - val_precision: 0.7278 - val_recall: 0.5418 - val_f1score: 0.1315\n",
      "Epoch 148/200\n",
      "43/42 [==============================] - 12s 279ms/step - loss: 0.1811 - acc: 0.9321 - auc: 0.8845 - precision: 0.7284 - recall: 0.5428 - f1score: 0.2316 - val_loss: 2.6621 - val_acc: 0.4519 - val_auc: 0.8848 - val_precision: 0.7289 - val_recall: 0.5437 - val_f1score: 0.1267\n",
      "Epoch 149/200\n",
      "43/42 [==============================] - 12s 280ms/step - loss: 0.2063 - acc: 0.9153 - auc: 0.8851 - precision: 0.7294 - recall: 0.5447 - f1score: 0.2293 - val_loss: 2.3809 - val_acc: 0.4636 - val_auc: 0.8854 - val_precision: 0.7298 - val_recall: 0.5456 - val_f1score: 0.1316\n",
      "Epoch 150/200\n",
      "43/42 [==============================] - 12s 281ms/step - loss: 0.2169 - acc: 0.9175 - auc: 0.8857 - precision: 0.7303 - recall: 0.5465 - f1score: 0.2279 - val_loss: 2.2487 - val_acc: 0.5073 - val_auc: 0.8860 - val_precision: 0.7308 - val_recall: 0.5474 - val_f1score: 0.1370\n",
      "Epoch 151/200\n",
      "43/42 [==============================] - 12s 279ms/step - loss: 0.2106 - acc: 0.9175 - auc: 0.8863 - precision: 0.7313 - recall: 0.5484 - f1score: 0.2286 - val_loss: 2.3617 - val_acc: 0.4548 - val_auc: 0.8866 - val_precision: 0.7317 - val_recall: 0.5493 - val_f1score: 0.1274\n",
      "Epoch 152/200\n",
      "43/42 [==============================] - 12s 278ms/step - loss: 0.1527 - acc: 0.9445 - auc: 0.8869 - precision: 0.7323 - recall: 0.5503 - f1score: 0.2348 - val_loss: 2.6501 - val_acc: 0.4723 - val_auc: 0.8872 - val_precision: 0.7328 - val_recall: 0.5512 - val_f1score: 0.1290\n",
      "Epoch 153/200\n",
      "43/42 [==============================] - 12s 279ms/step - loss: 0.1414 - acc: 0.9518 - auc: 0.8876 - precision: 0.7334 - recall: 0.5522 - f1score: 0.2363 - val_loss: 2.7239 - val_acc: 0.4694 - val_auc: 0.8879 - val_precision: 0.7339 - val_recall: 0.5532 - val_f1score: 0.1263\n",
      "Epoch 154/200\n",
      "43/42 [==============================] - 12s 281ms/step - loss: 0.2288 - acc: 0.9196 - auc: 0.8882 - precision: 0.7343 - recall: 0.5541 - f1score: 0.2281 - val_loss: 2.0468 - val_acc: 0.4461 - val_auc: 0.8884 - val_precision: 0.7347 - val_recall: 0.5549 - val_f1score: 0.1300\n",
      "Epoch 155/200\n",
      "43/42 [==============================] - 12s 279ms/step - loss: 0.1789 - acc: 0.9357 - auc: 0.8887 - precision: 0.7352 - recall: 0.5558 - f1score: 0.2316 - val_loss: 2.6859 - val_acc: 0.4898 - val_auc: 0.8890 - val_precision: 0.7357 - val_recall: 0.5567 - val_f1score: 0.1341\n",
      "Epoch 156/200\n",
      "43/42 [==============================] - 12s 278ms/step - loss: 0.1845 - acc: 0.9343 - auc: 0.8893 - precision: 0.7362 - recall: 0.5576 - f1score: 0.2315 - val_loss: 2.6456 - val_acc: 0.4694 - val_auc: 0.8896 - val_precision: 0.7366 - val_recall: 0.5585 - val_f1score: 0.1289\n",
      "Epoch 157/200\n",
      "43/42 [==============================] - 12s 279ms/step - loss: 0.1563 - acc: 0.9350 - auc: 0.8899 - precision: 0.7371 - recall: 0.5594 - f1score: 0.2341 - val_loss: 2.5904 - val_acc: 0.4694 - val_auc: 0.8902 - val_precision: 0.7375 - val_recall: 0.5603 - val_f1score: 0.1295\n",
      "Epoch 158/200\n",
      "43/42 [==============================] - 12s 278ms/step - loss: 0.1662 - acc: 0.9467 - auc: 0.8905 - precision: 0.7381 - recall: 0.5612 - f1score: 0.2337 - val_loss: 2.6847 - val_acc: 0.4694 - val_auc: 0.8908 - val_precision: 0.7385 - val_recall: 0.5621 - val_f1score: 0.1290\n",
      "Epoch 159/200\n",
      "43/42 [==============================] - 12s 278ms/step - loss: 0.2108 - acc: 0.9218 - auc: 0.8910 - precision: 0.7389 - recall: 0.5629 - f1score: 0.2293 - val_loss: 2.5021 - val_acc: 0.4431 - val_auc: 0.8913 - val_precision: 0.7393 - val_recall: 0.5637 - val_f1score: 0.1249\n",
      "Epoch 160/200\n",
      "43/42 [==============================] - 12s 278ms/step - loss: 0.1781 - acc: 0.9328 - auc: 0.8916 - precision: 0.7397 - recall: 0.5645 - f1score: 0.2327 - val_loss: 2.6100 - val_acc: 0.4431 - val_auc: 0.8918 - val_precision: 0.7401 - val_recall: 0.5654 - val_f1score: 0.1240\n",
      "Epoch 161/200\n",
      "43/42 [==============================] - 12s 279ms/step - loss: 0.2038 - acc: 0.9284 - auc: 0.8921 - precision: 0.7405 - recall: 0.5662 - f1score: 0.2293 - val_loss: 2.4804 - val_acc: 0.4665 - val_auc: 0.8923 - val_precision: 0.7409 - val_recall: 0.5670 - val_f1score: 0.1304\n",
      "Epoch 162/200\n",
      "43/42 [==============================] - 12s 279ms/step - loss: 0.1340 - acc: 0.9569 - auc: 0.8926 - precision: 0.7414 - recall: 0.5679 - f1score: 0.2370 - val_loss: 2.9437 - val_acc: 0.4519 - val_auc: 0.8929 - val_precision: 0.7418 - val_recall: 0.5687 - val_f1score: 0.1251\n",
      "Epoch 163/200\n",
      "43/42 [==============================] - 12s 278ms/step - loss: 0.1674 - acc: 0.9364 - auc: 0.8931 - precision: 0.7423 - recall: 0.5696 - f1score: 0.2332 - val_loss: 2.4951 - val_acc: 0.4723 - val_auc: 0.8934 - val_precision: 0.7427 - val_recall: 0.5703 - val_f1score: 0.1313\n",
      "Epoch 164/200\n",
      "43/42 [==============================] - 12s 279ms/step - loss: 0.2025 - acc: 0.9175 - auc: 0.8937 - precision: 0.7431 - recall: 0.5711 - f1score: 0.2304 - val_loss: 2.4711 - val_acc: 0.4431 - val_auc: 0.8939 - val_precision: 0.7434 - val_recall: 0.5718 - val_f1score: 0.1283\n",
      "Epoch 165/200\n",
      "43/42 [==============================] - 12s 280ms/step - loss: 0.1874 - acc: 0.9379 - auc: 0.8941 - precision: 0.7438 - recall: 0.5726 - f1score: 0.2321 - val_loss: 2.2017 - val_acc: 0.4898 - val_auc: 0.8944 - val_precision: 0.7442 - val_recall: 0.5734 - val_f1score: 0.1339\n",
      "Epoch 166/200\n",
      "43/42 [==============================] - 12s 281ms/step - loss: 0.1392 - acc: 0.9481 - auc: 0.8947 - precision: 0.7447 - recall: 0.5743 - f1score: 0.2357 - val_loss: 2.5050 - val_acc: 0.4898 - val_auc: 0.8950 - val_precision: 0.7451 - val_recall: 0.5751 - val_f1score: 0.1342\n",
      "Epoch 167/200\n",
      "43/42 [==============================] - 12s 277ms/step - loss: 0.1385 - acc: 0.9518 - auc: 0.8953 - precision: 0.7456 - recall: 0.5760 - f1score: 0.2366 - val_loss: 2.5492 - val_acc: 0.4956 - val_auc: 0.8955 - val_precision: 0.7460 - val_recall: 0.5768 - val_f1score: 0.1307\n",
      "Epoch 168/200\n",
      "43/42 [==============================] - 12s 280ms/step - loss: 0.1505 - acc: 0.9452 - auc: 0.8958 - precision: 0.7465 - recall: 0.5776 - f1score: 0.2354 - val_loss: 2.6589 - val_acc: 0.4927 - val_auc: 0.8960 - val_precision: 0.7469 - val_recall: 0.5784 - val_f1score: 0.1283\n",
      "Epoch 169/200\n"
     ]
    },
    {
     "name": "stdout",
     "output_type": "stream",
     "text": [
      "43/42 [==============================] - 12s 279ms/step - loss: 0.1559 - acc: 0.9394 - auc: 0.8963 - precision: 0.7473 - recall: 0.5792 - f1score: 0.2343 - val_loss: 3.1223 - val_acc: 0.4840 - val_auc: 0.8965 - val_precision: 0.7477 - val_recall: 0.5800 - val_f1score: 0.1279\n",
      "Epoch 170/200\n",
      "43/42 [==============================] - 12s 281ms/step - loss: 0.1483 - acc: 0.9467 - auc: 0.8968 - precision: 0.7481 - recall: 0.5808 - f1score: 0.2360 - val_loss: 2.6402 - val_acc: 0.4810 - val_auc: 0.8970 - val_precision: 0.7485 - val_recall: 0.5816 - val_f1score: 0.1310\n",
      "Epoch 171/200\n",
      "43/42 [==============================] - 12s 278ms/step - loss: 0.1712 - acc: 0.9379 - auc: 0.8972 - precision: 0.7489 - recall: 0.5824 - f1score: 0.2336 - val_loss: 2.4758 - val_acc: 0.4810 - val_auc: 0.8975 - val_precision: 0.7493 - val_recall: 0.5831 - val_f1score: 0.1295\n",
      "Epoch 172/200\n",
      "43/42 [==============================] - 12s 277ms/step - loss: 0.1302 - acc: 0.9540 - auc: 0.8977 - precision: 0.7497 - recall: 0.5839 - f1score: 0.2367 - val_loss: 2.6888 - val_acc: 0.4461 - val_auc: 0.8980 - val_precision: 0.7501 - val_recall: 0.5847 - val_f1score: 0.1279\n",
      "Epoch 173/200\n",
      "43/42 [==============================] - 12s 281ms/step - loss: 0.1591 - acc: 0.9474 - auc: 0.8982 - precision: 0.7506 - recall: 0.5855 - f1score: 0.2357 - val_loss: 2.1617 - val_acc: 0.4723 - val_auc: 0.8984 - val_precision: 0.7509 - val_recall: 0.5862 - val_f1score: 0.1319\n",
      "Epoch 174/200\n",
      "43/42 [==============================] - 12s 279ms/step - loss: 0.1513 - acc: 0.9496 - auc: 0.8987 - precision: 0.7513 - recall: 0.5869 - f1score: 0.2345 - val_loss: 2.6966 - val_acc: 0.4723 - val_auc: 0.8989 - val_precision: 0.7517 - val_recall: 0.5877 - val_f1score: 0.1272\n",
      "Epoch 175/200\n",
      "43/42 [==============================] - 12s 283ms/step - loss: 0.1415 - acc: 0.9525 - auc: 0.8991 - precision: 0.7521 - recall: 0.5884 - f1score: 0.2366 - val_loss: 2.4036 - val_acc: 0.4985 - val_auc: 0.8994 - val_precision: 0.7525 - val_recall: 0.5892 - val_f1score: 0.1344\n",
      "Epoch 176/200\n",
      "43/42 [==============================] - 12s 277ms/step - loss: 0.1568 - acc: 0.9386 - auc: 0.8996 - precision: 0.7529 - recall: 0.5899 - f1score: 0.2350 - val_loss: 2.2488 - val_acc: 0.5160 - val_auc: 0.8999 - val_precision: 0.7533 - val_recall: 0.5907 - val_f1score: 0.1368\n",
      "Epoch 177/200\n",
      "43/42 [==============================] - 12s 277ms/step - loss: 0.1322 - acc: 0.9496 - auc: 0.9001 - precision: 0.7537 - recall: 0.5914 - f1score: nan - val_loss: 2.5481 - val_acc: 0.4694 - val_auc: 0.9003 - val_precision: 0.7541 - val_recall: 0.5921 - val_f1score: 0.1318\n",
      "Epoch 178/200\n",
      "43/42 [==============================] - 12s 279ms/step - loss: 0.1269 - acc: 0.9554 - auc: 0.9006 - precision: 0.7545 - recall: 0.5929 - f1score: 0.2379 - val_loss: 2.6267 - val_acc: 0.4869 - val_auc: 0.9008 - val_precision: 0.7549 - val_recall: 0.5936 - val_f1score: 0.1336\n",
      "Epoch 179/200\n",
      "43/42 [==============================] - 12s 279ms/step - loss: 0.1788 - acc: 0.9313 - auc: 0.9010 - precision: 0.7552 - recall: 0.5943 - f1score: 0.2326 - val_loss: 2.2771 - val_acc: 0.4781 - val_auc: 0.9012 - val_precision: 0.7555 - val_recall: 0.5950 - val_f1score: 0.1310\n",
      "Epoch 180/200\n",
      "43/42 [==============================] - 12s 279ms/step - loss: 0.1586 - acc: 0.9576 - auc: 0.9015 - precision: 0.7559 - recall: 0.5957 - f1score: 0.2361 - val_loss: 2.3253 - val_acc: 0.5160 - val_auc: 0.9017 - val_precision: 0.7563 - val_recall: 0.5965 - val_f1score: 0.1356\n",
      "Epoch 181/200\n",
      "43/42 [==============================] - 12s 279ms/step - loss: 0.1257 - acc: 0.9591 - auc: 0.9019 - precision: 0.7567 - recall: 0.5972 - f1score: 0.2375 - val_loss: 2.6632 - val_acc: 0.4781 - val_auc: 0.9021 - val_precision: 0.7571 - val_recall: 0.5979 - val_f1score: 0.1293\n",
      "Epoch 182/200\n",
      "43/42 [==============================] - 12s 279ms/step - loss: 0.1597 - acc: 0.9423 - auc: 0.9024 - precision: 0.7575 - recall: 0.5986 - f1score: 0.2347 - val_loss: 2.5241 - val_acc: 0.4694 - val_auc: 0.9025 - val_precision: 0.7578 - val_recall: 0.5993 - val_f1score: 0.1291\n",
      "Epoch 183/200\n",
      "43/42 [==============================] - 12s 277ms/step - loss: 0.1176 - acc: 0.9533 - auc: 0.9028 - precision: 0.7582 - recall: 0.6000 - f1score: 0.2377 - val_loss: 2.7760 - val_acc: 0.4636 - val_auc: 0.9030 - val_precision: 0.7585 - val_recall: 0.6007 - val_f1score: 0.1267\n",
      "Epoch 184/200\n",
      "43/42 [==============================] - 12s 279ms/step - loss: 0.1188 - acc: 0.9591 - auc: 0.9032 - precision: 0.7589 - recall: 0.6014 - f1score: 0.2386 - val_loss: 2.6793 - val_acc: 0.4431 - val_auc: 0.9034 - val_precision: 0.7592 - val_recall: 0.6021 - val_f1score: 0.1258\n",
      "Epoch 185/200\n",
      "43/42 [==============================] - 12s 278ms/step - loss: 0.1169 - acc: 0.9576 - auc: 0.9036 - precision: 0.7596 - recall: 0.6028 - f1score: 0.2386 - val_loss: 2.7469 - val_acc: 0.4431 - val_auc: 0.9038 - val_precision: 0.7598 - val_recall: 0.6034 - val_f1score: 0.1235\n",
      "Epoch 186/200\n",
      "43/42 [==============================] - 12s 280ms/step - loss: 0.1426 - acc: 0.9540 - auc: 0.9040 - precision: 0.7602 - recall: 0.6041 - f1score: 0.2365 - val_loss: 2.7849 - val_acc: 0.4431 - val_auc: 0.9042 - val_precision: 0.7605 - val_recall: 0.6047 - val_f1score: 0.1220\n",
      "Epoch 187/200\n",
      "43/42 [==============================] - 12s 278ms/step - loss: 0.1453 - acc: 0.9423 - auc: 0.9044 - precision: 0.7608 - recall: 0.6053 - f1score: 0.2358 - val_loss: 2.6436 - val_acc: 0.4461 - val_auc: 0.9045 - val_precision: 0.7610 - val_recall: 0.6060 - val_f1score: 0.1253\n",
      "Epoch 188/200\n",
      "43/42 [==============================] - 12s 278ms/step - loss: 0.1195 - acc: 0.9525 - auc: 0.9048 - precision: 0.7614 - recall: 0.6066 - f1score: 0.2376 - val_loss: 2.9817 - val_acc: 0.4665 - val_auc: 0.9049 - val_precision: 0.7617 - val_recall: 0.6073 - val_f1score: 0.1271\n",
      "Epoch 189/200\n",
      "43/42 [==============================] - 12s 279ms/step - loss: 0.1245 - acc: 0.9489 - auc: 0.9051 - precision: 0.7620 - recall: 0.6079 - f1score: 0.2373 - val_loss: 2.9095 - val_acc: 0.4694 - val_auc: 0.9053 - val_precision: 0.7623 - val_recall: 0.6086 - val_f1score: 0.1268\n",
      "Epoch 190/200\n",
      "43/42 [==============================] - 12s 280ms/step - loss: 0.1523 - acc: 0.9445 - auc: 0.9055 - precision: 0.7627 - recall: 0.6092 - f1score: 0.2363 - val_loss: 2.3584 - val_acc: 0.4752 - val_auc: 0.9057 - val_precision: 0.7629 - val_recall: 0.6098 - val_f1score: 0.1328\n",
      "Epoch 191/200\n",
      "43/42 [==============================] - 12s 278ms/step - loss: 0.1287 - acc: 0.9496 - auc: 0.9059 - precision: 0.7633 - recall: 0.6105 - f1score: 0.2372 - val_loss: 2.3769 - val_acc: 0.4461 - val_auc: 0.9061 - val_precision: 0.7636 - val_recall: 0.6111 - val_f1score: 0.1297\n",
      "Epoch 192/200\n",
      "43/42 [==============================] - 12s 278ms/step - loss: 0.1008 - acc: 0.9613 - auc: 0.9063 - precision: 0.7639 - recall: 0.6117 - f1score: 0.2395 - val_loss: 2.7553 - val_acc: 0.4985 - val_auc: 0.9065 - val_precision: 0.7642 - val_recall: 0.6124 - val_f1score: 0.1326\n",
      "Epoch 193/200\n",
      "43/42 [==============================] - 12s 278ms/step - loss: 0.1158 - acc: 0.9649 - auc: 0.9067 - precision: 0.7646 - recall: 0.6130 - f1score: 0.2391 - val_loss: 2.6216 - val_acc: 0.4606 - val_auc: 0.9069 - val_precision: 0.7649 - val_recall: 0.6137 - val_f1score: 0.1290\n",
      "Epoch 194/200\n",
      "43/42 [==============================] - 12s 281ms/step - loss: 0.1268 - acc: 0.9554 - auc: 0.9071 - precision: 0.7652 - recall: 0.6143 - f1score: 0.2381 - val_loss: 2.6237 - val_acc: 0.4373 - val_auc: 0.9073 - val_precision: 0.7655 - val_recall: 0.6149 - val_f1score: 0.1257\n",
      "Epoch 195/200\n",
      "43/42 [==============================] - 12s 278ms/step - loss: 0.1248 - acc: 0.9533 - auc: 0.9075 - precision: 0.7658 - recall: 0.6155 - f1score: 0.2379 - val_loss: 2.6199 - val_acc: 0.4927 - val_auc: 0.9076 - val_precision: 0.7661 - val_recall: 0.6161 - val_f1score: 0.1323\n",
      "Epoch 196/200\n",
      "43/42 [==============================] - 12s 278ms/step - loss: 0.1398 - acc: 0.9496 - auc: 0.9078 - precision: 0.7664 - recall: 0.6167 - f1score: 0.2369 - val_loss: 2.5429 - val_acc: 0.4810 - val_auc: 0.9080 - val_precision: 0.7667 - val_recall: 0.6173 - val_f1score: 0.1313\n",
      "Epoch 197/200\n"
     ]
    },
    {
     "name": "stdout",
     "output_type": "stream",
     "text": [
      "43/42 [==============================] - 12s 279ms/step - loss: 0.1221 - acc: 0.9591 - auc: 0.9082 - precision: 0.7671 - recall: 0.6180 - f1score: 0.2382 - val_loss: 2.4842 - val_acc: 0.4985 - val_auc: 0.9084 - val_precision: 0.7674 - val_recall: 0.6185 - val_f1score: 0.1348\n",
      "Epoch 198/200\n",
      "43/42 [==============================] - 12s 278ms/step - loss: 0.1021 - acc: 0.9642 - auc: 0.9086 - precision: 0.7677 - recall: 0.6192 - f1score: 0.2401 - val_loss: 2.9211 - val_acc: 0.4810 - val_auc: 0.9087 - val_precision: 0.7680 - val_recall: 0.6198 - val_f1score: 0.1282\n",
      "Epoch 199/200\n",
      "43/42 [==============================] - 12s 278ms/step - loss: 0.1482 - acc: 0.9430 - auc: 0.9089 - precision: 0.7683 - recall: 0.6204 - f1score: 0.2361 - val_loss: 2.4323 - val_acc: 0.4577 - val_auc: 0.9091 - val_precision: 0.7685 - val_recall: 0.6209 - val_f1score: 0.1291\n",
      "Epoch 200/200\n",
      "43/42 [==============================] - 12s 278ms/step - loss: 0.1042 - acc: 0.9576 - auc: 0.9093 - precision: 0.7688 - recall: 0.6215 - f1score: 0.2392 - val_loss: 2.6834 - val_acc: 0.4723 - val_auc: 0.9094 - val_precision: 0.7691 - val_recall: 0.6221 - val_f1score: 0.1311\n"
     ]
    }
   ],
   "source": [
    "history = additional_model.fit_generator(dgf, \n",
    "            steps_per_epoch=len(X_train)/32, \n",
    "            epochs=200, \n",
    "            validation_data=(X_val,y_val), \n",
    "            validation_steps=len(X_val)/32, \n",
    "            callbacks=[checkpoint])"
   ]
  },
  {
   "cell_type": "code",
   "execution_count": 13,
   "metadata": {},
   "outputs": [
    {
     "data": {
      "image/png": "[encoded data removed]",
      "text/plain": [
       "<Figure size 432x288 with 1 Axes>"
      ]
     },
     "metadata": {
      "needs_background": "light"
     },
     "output_type": "display_data"
    },
    {
     "data": {
      "image/png": "[encoded data removed]",
      "text/plain": [
       "<Figure size 432x288 with 1 Axes>"
      ]
     },
     "metadata": {
      "needs_background": "light"
     },
     "output_type": "display_data"
    }
   ],
   "source": [
    "acc = history.history['acc']\n",
    "val_acc = history.history['val_acc']\n",
    "loss = history.history['loss']\n",
    "val_loss = history.history['val_loss']\n",
    " \n",
    "epochs = range(1, len(acc) + 1)\n",
    " \n",
    "plt.plot(epochs, acc, 'bo', label='Training acc')\n",
    "plt.plot(epochs, val_acc, 'r', label='Validation acc')\n",
    "plt.title('Accuracy')\n",
    "plt.legend()\n",
    "plt.figure()\n",
    " \n",
    "plt.plot(epochs, loss, 'bo', label='Training loss')\n",
    "plt.plot(epochs, val_loss, 'r', label='Validation loss')\n",
    "plt.title('Loss')\n",
    "plt.legend()\n",
    " \n",
    "plt.show()"
   ]
  },
  {
   "cell_type": "code",
   "execution_count": 14,
   "metadata": {},
   "outputs": [
    {
     "name": "stdout",
     "output_type": "stream",
     "text": [
      "343/343 [==============================] - 1s 3ms/step\n",
      "loss: 2.683, accuracy: 0.472, auc: 0.909, precision: 0.769, recall: 0.622, f1score: 0.131\n"
     ]
    }
   ],
   "source": [
    "_loss, _acc, _auc, _precision, _recall, _f1score = additional_model.evaluate(X_val, y_val, batch_size=32)\n",
    "print('loss: {:.3f}, accuracy: {:.3f}, auc: {:.3f}, precision: {:.3f}, recall: {:.3f}, f1score: {:.3f}'.format(_loss, _acc, _auc, _precision, _recall, _f1score))"
   ]
  },
  {
   "cell_type": "code",
   "execution_count": 45,
   "metadata": {},
   "outputs": [],
   "source": [
    "from keras.models import Model, load_model\n",
    "\n",
    "new_model = models.load_model('./G_팔로미_models/Inception v3_fine tuning_2_no callback(539).hdf5',compile=False)\n",
    "\n",
    "\n",
    "new_model.compile(loss='categorical_crossentropy', \n",
    "              optimizer=optimizers.Adam(lr=1e-5),\n",
    "              metrics=['acc',tf.keras.metrics.AUC(),\n",
    "                      tf.keras.metrics.Precision(),\n",
    "                      tf.keras.metrics.Recall(),f1score])"
   ]
  },
  {
   "cell_type": "code",
   "execution_count": 46,
   "metadata": {},
   "outputs": [],
   "source": [
    "X_test=np.load('X_val.npy')\n",
    "y_test=np.load('y_val.npy')"
   ]
  },
  {
   "cell_type": "code",
   "execution_count": 47,
   "metadata": {},
   "outputs": [
    {
     "name": "stdout",
     "output_type": "stream",
     "text": [
      "571/571 [==============================] - 4s 6ms/step\n",
      "loss: 0.996, accuracy: 0.539, auc: 0.811, precision: 0.596, recall: 0.399, f1score: 0.145\n"
     ]
    }
   ],
   "source": [
    "_loss, _acc, _auc, _precision, _recall, _f1score =new_model.evaluate(X_test, y_test, batch_size=32)\n",
    "print('loss: {:.3f}, accuracy: {:.3f}, auc: {:.3f}, precision: {:.3f}, recall: {:.3f}, f1score: {:.3f}'.format(_loss, _acc, _auc, _precision, _recall, _f1score))"
   ]
  },
  {
   "cell_type": "code",
   "execution_count": null,
   "metadata": {},
   "outputs": [],
   "source": []
  }
 ],
 "metadata": {
  "kernelspec": {
   "display_name": "Python 3",
   "language": "python",
   "name": "python3"
  },
  "language_info": {
   "codemirror_mode": {
    "name": "ipython",
    "version": 3
   },
   "file_extension": ".py",
   "mimetype": "text/x-python",
   "name": "python",
   "nbconvert_exporter": "python",
   "pygments_lexer": "ipython3",
   "version": "3.7.7"
  }
 },
 "nbformat": 4,
 "nbformat_minor": 2
}
