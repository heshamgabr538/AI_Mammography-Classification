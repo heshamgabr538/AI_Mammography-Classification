{
 "cells": [
  {
   "cell_type": "code",
   "execution_count": 1,
   "metadata": {},
   "outputs": [
    {
     "data": {
      "text/plain": [
       "'C:\\\\Users\\\\Owner2\\\\Desktop\\\\G팔로미_vuno'"
      ]
     },
     "execution_count": 1,
     "metadata": {},
     "output_type": "execute_result"
    }
   ],
   "source": [
    "import os\n",
    "import pandas as pd\n",
    "from matplotlib import pyplot as plt\n",
    "import cv2\n",
    "import numpy as np\n",
    "\n",
    "#data path 수정\n",
    "os.chdir(\"C:\\\\Users\\\\Owner2\\\\Desktop\\\\G팔로미_vuno\")\n",
    "os.getcwd()"
   ]
  },
  {
   "cell_type": "code",
   "execution_count": 2,
   "metadata": {},
   "outputs": [],
   "source": [
    "X=np.load('data_X.npy')\n",
    "y=np.load('data_y.npy')"
   ]
  },
  {
   "cell_type": "code",
   "execution_count": 3,
   "metadata": {},
   "outputs": [
    {
     "data": {
      "text/plain": [
       "1712"
      ]
     },
     "execution_count": 3,
     "metadata": {},
     "output_type": "execute_result"
    }
   ],
   "source": [
    "len(X)"
   ]
  },
  {
   "cell_type": "code",
   "execution_count": 4,
   "metadata": {},
   "outputs": [],
   "source": [
    "#train, validation set 분리\n",
    "from sklearn.model_selection import train_test_split\n",
    "\n",
    "X_train, X_val, y_train, y_val = train_test_split(X,y,test_size=0.2, random_state=123)"
   ]
  },
  {
   "cell_type": "code",
   "execution_count": 5,
   "metadata": {},
   "outputs": [
    {
     "name": "stderr",
     "output_type": "stream",
     "text": [
      "Using TensorFlow backend.\n"
     ]
    }
   ],
   "source": [
    "from keras.preprocessing.image import ImageDataGenerator\n",
    "\n",
    "datagen = ImageDataGenerator(\n",
    "    #featurewise_center=True, #center 중심 유지\n",
    "    #featurewise_std_normalization=True, #normalization\n",
    "    rotation_range=25.0,\n",
    "    #width_shift_range=0.2,\n",
    "    #height_shift_range=0.2,\n",
    "    #brightness_range=[0.2,1.0],\n",
    "    zoom_range=[0.8,1.2],\n",
    "    horizontal_flip=True) #수평방향 뒤집기\n",
    "\n",
    "datagen.fit(X_train)\n",
    "\n",
    "dgf=datagen.flow(X_train,y_train,batch_size=32)"
   ]
  },
  {
   "cell_type": "code",
   "execution_count": 6,
   "metadata": {},
   "outputs": [
    {
     "name": "stdout",
     "output_type": "stream",
     "text": [
      "Model: \"vgg16\"\n",
      "_________________________________________________________________\n",
      "Layer (type)                 Output Shape              Param #   \n",
      "=================================================================\n",
      "input_1 (InputLayer)         (None, 224, 224, 3)       0         \n",
      "_________________________________________________________________\n",
      "block1_conv1 (Conv2D)        (None, 224, 224, 64)      1792      \n",
      "_________________________________________________________________\n",
      "block1_conv2 (Conv2D)        (None, 224, 224, 64)      36928     \n",
      "_________________________________________________________________\n",
      "block1_pool (MaxPooling2D)   (None, 112, 112, 64)      0         \n",
      "_________________________________________________________________\n",
      "block2_conv1 (Conv2D)        (None, 112, 112, 128)     73856     \n",
      "_________________________________________________________________\n",
      "block2_conv2 (Conv2D)        (None, 112, 112, 128)     147584    \n",
      "_________________________________________________________________\n",
      "block2_pool (MaxPooling2D)   (None, 56, 56, 128)       0         \n",
      "_________________________________________________________________\n",
      "block3_conv1 (Conv2D)        (None, 56, 56, 256)       295168    \n",
      "_________________________________________________________________\n",
      "block3_conv2 (Conv2D)        (None, 56, 56, 256)       590080    \n",
      "_________________________________________________________________\n",
      "block3_conv3 (Conv2D)        (None, 56, 56, 256)       590080    \n",
      "_________________________________________________________________\n",
      "block3_pool (MaxPooling2D)   (None, 28, 28, 256)       0         \n",
      "_________________________________________________________________\n",
      "block4_conv1 (Conv2D)        (None, 28, 28, 512)       1180160   \n",
      "_________________________________________________________________\n",
      "block4_conv2 (Conv2D)        (None, 28, 28, 512)       2359808   \n",
      "_________________________________________________________________\n",
      "block4_conv3 (Conv2D)        (None, 28, 28, 512)       2359808   \n",
      "_________________________________________________________________\n",
      "block4_pool (MaxPooling2D)   (None, 14, 14, 512)       0         \n",
      "_________________________________________________________________\n",
      "block5_conv1 (Conv2D)        (None, 14, 14, 512)       2359808   \n",
      "_________________________________________________________________\n",
      "block5_conv2 (Conv2D)        (None, 14, 14, 512)       2359808   \n",
      "_________________________________________________________________\n",
      "block5_conv3 (Conv2D)        (None, 14, 14, 512)       2359808   \n",
      "_________________________________________________________________\n",
      "block5_pool (MaxPooling2D)   (None, 7, 7, 512)         0         \n",
      "=================================================================\n",
      "Total params: 14,714,688\n",
      "Trainable params: 14,714,688\n",
      "Non-trainable params: 0\n",
      "_________________________________________________________________\n"
     ]
    }
   ],
   "source": [
    "from keras import models, layers\n",
    "from keras import Input\n",
    "from keras.applications import VGG16\n",
    "from keras.models import Model, load_model\n",
    "from keras.preprocessing.image import ImageDataGenerator\n",
    "from keras import optimizers, initializers, regularizers, metrics\n",
    "from keras.callbacks import ModelCheckpoint, EarlyStopping\n",
    "from keras.layers import BatchNormalization, Conv2D, Activation, Dense, GlobalAveragePooling2D, MaxPooling2D, ZeroPadding2D, Add\n",
    "\n",
    "model = VGG16(weights=None, include_top=False, input_shape=(224, 224, 3))\n",
    "model.trainable = True\n",
    "model.summary()"
   ]
  },
  {
   "cell_type": "code",
   "execution_count": 7,
   "metadata": {},
   "outputs": [
    {
     "name": "stdout",
     "output_type": "stream",
     "text": [
      "Model: \"sequential_1\"\n",
      "_________________________________________________________________\n",
      "Layer (type)                 Output Shape              Param #   \n",
      "=================================================================\n",
      "vgg16 (Model)                (None, 7, 7, 512)         14714688  \n",
      "_________________________________________________________________\n",
      "flatten_1 (Flatten)          (None, 25088)             0         \n",
      "_________________________________________________________________\n",
      "dense_1 (Dense)              (None, 4)                 100356    \n",
      "=================================================================\n",
      "Total params: 14,815,044\n",
      "Trainable params: 14,815,044\n",
      "Non-trainable params: 0\n",
      "_________________________________________________________________\n"
     ]
    }
   ],
   "source": [
    "#customizing my layers\n",
    "additional_model = models.Sequential()\n",
    "additional_model.add(model)\n",
    "additional_model.add(layers.Flatten())\n",
    "additional_model.add(layers.Dense(4, activation='softmax'))\n",
    "\n",
    "additional_model.summary()"
   ]
  },
  {
   "cell_type": "code",
   "execution_count": 8,
   "metadata": {},
   "outputs": [],
   "source": [
    "def f1score(precision, recall):\n",
    "    _f1score = ( 2 * recall * precision) / (recall + precision)\n",
    "    \n",
    "    # return a single tensor value\n",
    "    return _f1score"
   ]
  },
  {
   "cell_type": "code",
   "execution_count": 9,
   "metadata": {},
   "outputs": [],
   "source": [
    "# checkpoint = ModelCheckpoint(filepath='My_VGG_{epoch:03d}_{val_loss:.7f}.hdf5',monitor='loss', mode='min', save_best_only=True)\n",
    "checkpoint = ModelCheckpoint(filepath='VGG16_1_no callback.hdf5', \n",
    "            monitor='val_loss', \n",
    "            mode='min', \n",
    "            save_best_only=True)"
   ]
  },
  {
   "cell_type": "code",
   "execution_count": 10,
   "metadata": {},
   "outputs": [],
   "source": [
    "import tensorflow as tf\n",
    "\n",
    "additional_model.compile(loss='categorical_crossentropy', \n",
    "              optimizer=optimizers.Adam(lr=1e-4),\n",
    "              metrics=['acc',tf.keras.metrics.AUC(),\n",
    "                      tf.keras.metrics.Precision(),\n",
    "                      tf.keras.metrics.Recall(),f1score])"
   ]
  },
  {
   "cell_type": "code",
   "execution_count": 11,
   "metadata": {},
   "outputs": [],
   "source": [
    "# class_weight = {0: 1.1,\n",
    "#                 1: 1.1,\n",
    "#                 2: 1,\n",
    "#                 3: 1}"
   ]
  },
  {
   "cell_type": "code",
   "execution_count": 12,
   "metadata": {},
   "outputs": [
    {
     "name": "stdout",
     "output_type": "stream",
     "text": [
      "Epoch 1/60\n",
      "43/42 [==============================] - 17s 406ms/step - loss: 1.3849 - acc: 0.2900 - auc: 0.5188 - precision: 0.0000e+00 - recall: 0.0000e+00 - f1score: 0.1002 - val_loss: 1.3800 - val_acc: 0.2770 - val_auc: 0.5237 - val_precision: 0.0000e+00 - val_recall: 0.0000e+00 - val_f1score: 0.1013\n",
      "Epoch 2/60\n",
      "43/42 [==============================] - 11s 252ms/step - loss: 1.3761 - acc: 0.3083 - auc: 0.5315 - precision: 0.0421 - recall: 1.8413e-04 - f1score: 0.1016 - val_loss: 1.3348 - val_acc: 0.3644 - val_auc: 0.5466 - val_precision: 0.3529 - val_recall: 0.0018 - val_f1score: 0.1047\n",
      "Epoch 3/60\n",
      "43/42 [==============================] - 12s 271ms/step - loss: 1.3130 - acc: 0.3484 - auc: 0.5685 - precision: 0.3882 - recall: 0.0050 - f1score: 0.1089 - val_loss: 1.2568 - val_acc: 0.3936 - val_auc: 0.5892 - val_precision: 0.4446 - val_recall: 0.0100 - val_f1score: 0.1123\n",
      "Epoch 4/60\n",
      "43/42 [==============================] - 12s 274ms/step - loss: 1.2517 - acc: 0.3718 - auc: 0.6081 - precision: 0.4890 - recall: 0.0184 - f1score: 0.1159 - val_loss: 1.2889 - val_acc: 0.2974 - val_auc: 0.6205 - val_precision: 0.4676 - val_recall: 0.0253 - val_f1score: 0.1147\n",
      "Epoch 5/60\n",
      "43/42 [==============================] - 12s 278ms/step - loss: 1.2447 - acc: 0.3791 - auc: 0.6293 - precision: 0.4440 - recall: 0.0295 - f1score: 0.1169 - val_loss: 1.2344 - val_acc: 0.4082 - val_auc: 0.6393 - val_precision: 0.4603 - val_recall: 0.0356 - val_f1score: 0.1225\n",
      "Epoch 6/60\n",
      "43/42 [==============================] - 12s 273ms/step - loss: 1.2120 - acc: 0.4039 - auc: 0.6474 - precision: 0.4656 - recall: 0.0405 - f1score: 0.1200 - val_loss: 1.2503 - val_acc: 0.4257 - val_auc: 0.6549 - val_precision: 0.4700 - val_recall: 0.0465 - val_f1score: 0.1241\n",
      "Epoch 7/60\n",
      "43/42 [==============================] - 12s 279ms/step - loss: 1.2053 - acc: 0.4178 - auc: 0.6603 - precision: 0.4755 - recall: 0.0516 - f1score: 0.1210 - val_loss: 1.1846 - val_acc: 0.4140 - val_auc: 0.6664 - val_precision: 0.4853 - val_recall: 0.0559 - val_f1score: 0.1234\n",
      "Epoch 8/60\n",
      "43/42 [==============================] - 12s 274ms/step - loss: 1.2053 - acc: 0.3996 - auc: 0.6705 - precision: 0.4833 - recall: 0.0588 - f1score: 0.1210 - val_loss: 1.2220 - val_acc: 0.3528 - val_auc: 0.6750 - val_precision: 0.4802 - val_recall: 0.0631 - val_f1score: 0.1194\n",
      "Epoch 9/60\n",
      "43/42 [==============================] - 12s 278ms/step - loss: 1.1702 - acc: 0.4229 - auc: 0.6791 - precision: 0.4824 - recall: 0.0682 - f1score: 0.1249 - val_loss: 1.1772 - val_acc: 0.3761 - val_auc: 0.6830 - val_precision: 0.4835 - val_recall: 0.0701 - val_f1score: 0.1227\n",
      "Epoch 10/60\n",
      "43/42 [==============================] - 12s 274ms/step - loss: 1.1624 - acc: 0.4383 - auc: 0.6868 - precision: 0.4859 - recall: 0.0737 - f1score: 0.1261 - val_loss: 1.2087 - val_acc: 0.3469 - val_auc: 0.6897 - val_precision: 0.4840 - val_recall: 0.0747 - val_f1score: 0.1186\n",
      "Epoch 11/60\n",
      "43/42 [==============================] - 12s 277ms/step - loss: 1.1544 - acc: 0.4551 - auc: 0.6924 - precision: 0.4893 - recall: 0.0773 - f1score: 0.1265 - val_loss: 1.1259 - val_acc: 0.4752 - val_auc: 0.6960 - val_precision: 0.4947 - val_recall: 0.0824 - val_f1score: 0.1313\n",
      "Epoch 12/60\n",
      "43/42 [==============================] - 13s 291ms/step - loss: 1.1837 - acc: 0.4251 - auc: 0.6982 - precision: 0.4949 - recall: 0.0851 - f1score: 0.1238 - val_loss: 1.1440 - val_acc: 0.4169 - val_auc: 0.7002 - val_precision: 0.4993 - val_recall: 0.0874 - val_f1score: 0.1291\n",
      "Epoch 13/60\n",
      "43/42 [==============================] - 11s 260ms/step - loss: 1.1245 - acc: 0.4397 - auc: 0.7025 - precision: 0.5027 - recall: 0.0904 - f1score: 0.1295 - val_loss: 1.1319 - val_acc: 0.4490 - val_auc: 0.7053 - val_precision: 0.5068 - val_recall: 0.0950 - val_f1score: 0.1320\n",
      "Epoch 14/60\n",
      "43/42 [==============================] - 12s 277ms/step - loss: 1.1139 - acc: 0.4755 - auc: 0.7080 - precision: 0.5099 - recall: 0.0994 - f1score: 0.1313 - val_loss: 1.1174 - val_acc: 0.4431 - val_auc: 0.7104 - val_precision: 0.5125 - val_recall: 0.1032 - val_f1score: 0.1318\n",
      "Epoch 15/60\n",
      "43/42 [==============================] - 12s 274ms/step - loss: 1.0911 - acc: 0.4938 - auc: 0.7131 - precision: 0.5165 - recall: 0.1086 - f1score: 0.1333 - val_loss: 1.1965 - val_acc: 0.4315 - val_auc: 0.7150 - val_precision: 0.5169 - val_recall: 0.1119 - val_f1score: 0.1290\n",
      "Epoch 16/60\n",
      "43/42 [==============================] - 12s 276ms/step - loss: 1.0915 - acc: 0.4631 - auc: 0.7169 - precision: 0.5184 - recall: 0.1159 - f1score: 0.1332 - val_loss: 1.1119 - val_acc: 0.4402 - val_auc: 0.7189 - val_precision: 0.5214 - val_recall: 0.1194 - val_f1score: 0.1312\n",
      "Epoch 17/60\n",
      "43/42 [==============================] - 12s 274ms/step - loss: 1.0552 - acc: 0.5091 - auc: 0.7212 - precision: 0.5242 - recall: 0.1240 - f1score: 0.1372 - val_loss: 1.1263 - val_acc: 0.4315 - val_auc: 0.7234 - val_precision: 0.5266 - val_recall: 0.1275 - val_f1score: 0.1288\n",
      "Epoch 18/60\n",
      "43/42 [==============================] - 12s 277ms/step - loss: 1.0722 - acc: 0.4989 - auc: 0.7253 - precision: 0.5291 - recall: 0.1311 - f1score: 0.1355 - val_loss: 1.1065 - val_acc: 0.4694 - val_auc: 0.7269 - val_precision: 0.5306 - val_recall: 0.1344 - val_f1score: 0.1320\n",
      "Epoch 19/60\n",
      "43/42 [==============================] - 12s 276ms/step - loss: 1.0546 - acc: 0.4887 - auc: 0.7285 - precision: 0.5327 - recall: 0.1376 - f1score: 0.1368 - val_loss: 1.1352 - val_acc: 0.4636 - val_auc: 0.7304 - val_precision: 0.5347 - val_recall: 0.1422 - val_f1score: 0.1326\n",
      "Epoch 20/60\n",
      "43/42 [==============================] - 12s 278ms/step - loss: 1.0311 - acc: 0.4996 - auc: 0.7322 - precision: 0.5367 - recall: 0.1464 - f1score: 0.1394 - val_loss: 1.1289 - val_acc: 0.4636 - val_auc: 0.7338 - val_precision: 0.5371 - val_recall: 0.1500 - val_f1score: 0.1328\n",
      "Epoch 21/60\n",
      "43/42 [==============================] - 12s 276ms/step - loss: 1.0490 - acc: 0.4916 - auc: 0.7354 - precision: 0.5388 - recall: 0.1529 - f1score: 0.1372 - val_loss: 1.0808 - val_acc: 0.4752 - val_auc: 0.7368 - val_precision: 0.5409 - val_recall: 0.1557 - val_f1score: 0.1357\n",
      "Epoch 22/60\n",
      "43/42 [==============================] - 12s 273ms/step - loss: 1.0380 - acc: 0.5069 - auc: 0.7383 - precision: 0.5429 - recall: 0.1593 - f1score: 0.1395 - val_loss: 1.1087 - val_acc: 0.4402 - val_auc: 0.7396 - val_precision: 0.5440 - val_recall: 0.1621 - val_f1score: 0.1293\n",
      "Epoch 23/60\n",
      "43/42 [==============================] - 12s 279ms/step - loss: 1.0288 - acc: 0.5091 - auc: 0.7410 - precision: 0.5451 - recall: 0.1644 - f1score: 0.1399 - val_loss: 1.0875 - val_acc: 0.4723 - val_auc: 0.7424 - val_precision: 0.5469 - val_recall: 0.1674 - val_f1score: 0.1343\n",
      "Epoch 24/60\n",
      "43/42 [==============================] - 12s 275ms/step - loss: 1.0082 - acc: 0.5172 - auc: 0.7438 - precision: 0.5489 - recall: 0.1704 - f1score: 0.1415 - val_loss: 1.0823 - val_acc: 0.4781 - val_auc: 0.7452 - val_precision: 0.5507 - val_recall: 0.1734 - val_f1score: 0.1353\n",
      "Epoch 25/60\n",
      "43/42 [==============================] - 12s 279ms/step - loss: 1.0268 - acc: 0.4945 - auc: 0.7463 - precision: 0.5516 - recall: 0.1764 - f1score: 0.1398 - val_loss: 1.0840 - val_acc: 0.4723 - val_auc: 0.7475 - val_precision: 0.5528 - val_recall: 0.1790 - val_f1score: 0.1357\n",
      "Epoch 26/60\n",
      "43/42 [==============================] - 12s 276ms/step - loss: 0.9873 - acc: 0.5223 - auc: 0.7488 - precision: 0.5543 - recall: 0.1825 - f1score: 0.1440 - val_loss: 1.1099 - val_acc: 0.4869 - val_auc: 0.7502 - val_precision: 0.5559 - val_recall: 0.1861 - val_f1score: 0.1362\n",
      "Epoch 27/60\n",
      "43/42 [==============================] - 12s 278ms/step - loss: 1.0079 - acc: 0.5099 - auc: 0.7514 - precision: 0.5573 - recall: 0.1891 - f1score: 0.1428 - val_loss: 1.0974 - val_acc: 0.4636 - val_auc: 0.7523 - val_precision: 0.5581 - val_recall: 0.1913 - val_f1score: 0.1322\n",
      "Epoch 28/60\n",
      "43/42 [==============================] - 12s 279ms/step - loss: 0.9895 - acc: 0.5486 - auc: 0.7533 - precision: 0.5590 - recall: 0.1929 - f1score: 0.1439 - val_loss: 1.0476 - val_acc: 0.5044 - val_auc: 0.7548 - val_precision: 0.5607 - val_recall: 0.1964 - val_f1score: 0.1389\n",
      "Epoch 29/60\n",
      "43/42 [==============================] - 12s 275ms/step - loss: 0.9932 - acc: 0.5201 - auc: 0.7559 - precision: 0.5616 - recall: 0.1993 - f1score: 0.1435 - val_loss: 1.1117 - val_acc: 0.4840 - val_auc: 0.7569 - val_precision: 0.5629 - val_recall: 0.2020 - val_f1score: 0.1369\n",
      "Epoch 30/60\n",
      "43/42 [==============================] - 12s 277ms/step - loss: 0.9557 - acc: 0.5427 - auc: 0.7581 - precision: 0.5639 - recall: 0.2052 - f1score: 0.1473 - val_loss: 1.0970 - val_acc: 0.4840 - val_auc: 0.7592 - val_precision: 0.5652 - val_recall: 0.2080 - val_f1score: 0.1360\n",
      "Epoch 31/60\n",
      "43/42 [==============================] - 12s 278ms/step - loss: 0.9621 - acc: 0.5632 - auc: 0.7601 - precision: 0.5669 - recall: 0.2106 - f1score: 0.1466 - val_loss: 1.0730 - val_acc: 0.4927 - val_auc: 0.7613 - val_precision: 0.5689 - val_recall: 0.2136 - val_f1score: 0.1397\n",
      "Epoch 32/60\n",
      "43/42 [==============================] - 12s 278ms/step - loss: 0.9546 - acc: 0.5625 - auc: 0.7625 - precision: 0.5708 - recall: 0.2166 - f1score: 0.1478 - val_loss: 1.1815 - val_acc: 0.4402 - val_auc: 0.7633 - val_precision: 0.5718 - val_recall: 0.2188 - val_f1score: 0.1294\n",
      "Epoch 33/60\n",
      "43/42 [==============================] - 12s 279ms/step - loss: 0.9464 - acc: 0.5559 - auc: 0.7642 - precision: 0.5728 - recall: 0.2212 - f1score: 0.1481 - val_loss: 1.0609 - val_acc: 0.4927 - val_auc: 0.7652 - val_precision: 0.5739 - val_recall: 0.2236 - val_f1score: 0.1380\n",
      "Epoch 34/60\n",
      "43/42 [==============================] - 12s 277ms/step - loss: 0.9458 - acc: 0.5551 - auc: 0.7662 - precision: 0.5747 - recall: 0.2262 - f1score: 0.1491 - val_loss: 1.0356 - val_acc: 0.4840 - val_auc: 0.7672 - val_precision: 0.5760 - val_recall: 0.2289 - val_f1score: 0.1408\n",
      "Epoch 35/60\n",
      "43/42 [==============================] - 12s 275ms/step - loss: 0.9338 - acc: 0.5603 - auc: 0.7682 - precision: 0.5767 - recall: 0.2313 - f1score: 0.1497 - val_loss: 1.0578 - val_acc: 0.5044 - val_auc: 0.7693 - val_precision: 0.5779 - val_recall: 0.2340 - val_f1score: 0.1418\n",
      "Epoch 36/60\n",
      "43/42 [==============================] - 12s 276ms/step - loss: 0.9411 - acc: 0.5413 - auc: 0.7702 - precision: 0.5788 - recall: 0.2365 - f1score: 0.1490 - val_loss: 1.0751 - val_acc: 0.4810 - val_auc: 0.7710 - val_precision: 0.5794 - val_recall: 0.2387 - val_f1score: 0.1394\n",
      "Epoch 37/60\n",
      "43/42 [==============================] - 12s 280ms/step - loss: 0.9188 - acc: 0.5785 - auc: 0.7720 - precision: 0.5810 - recall: 0.2414 - f1score: 0.1521 - val_loss: 1.1423 - val_acc: 0.4694 - val_auc: 0.7728 - val_precision: 0.5819 - val_recall: 0.2440 - val_f1score: 0.1373\n",
      "Epoch 38/60\n",
      "43/42 [==============================] - 12s 277ms/step - loss: 0.9126 - acc: 0.5646 - auc: 0.7737 - precision: 0.5825 - recall: 0.2464 - f1score: 0.1517 - val_loss: 1.0700 - val_acc: 0.4927 - val_auc: 0.7745 - val_precision: 0.5830 - val_recall: 0.2484 - val_f1score: 0.1385\n",
      "Epoch 39/60\n",
      "43/42 [==============================] - 12s 279ms/step - loss: 0.9170 - acc: 0.5734 - auc: 0.7754 - precision: 0.5839 - recall: 0.2504 - f1score: 0.1515 - val_loss: 1.0360 - val_acc: 0.5160 - val_auc: 0.7763 - val_precision: 0.5851 - val_recall: 0.2526 - val_f1score: 0.1439\n",
      "Epoch 40/60\n",
      "43/42 [==============================] - 12s 277ms/step - loss: 0.9202 - acc: 0.5683 - auc: 0.7772 - precision: 0.5857 - recall: 0.2548 - f1score: 0.1516 - val_loss: 1.0387 - val_acc: 0.5219 - val_auc: 0.7780 - val_precision: 0.5862 - val_recall: 0.2569 - val_f1score: 0.1436\n",
      "Epoch 41/60\n",
      "43/42 [==============================] - 12s 278ms/step - loss: 0.9049 - acc: 0.5822 - auc: 0.7788 - precision: 0.5869 - recall: 0.2590 - f1score: 0.1531 - val_loss: 1.0552 - val_acc: 0.4548 - val_auc: 0.7797 - val_precision: 0.5875 - val_recall: 0.2609 - val_f1score: 0.1389\n",
      "Epoch 42/60\n",
      "43/42 [==============================] - 12s 277ms/step - loss: 0.8910 - acc: 0.5880 - auc: 0.7804 - precision: 0.5878 - recall: 0.2626 - f1score: 0.1540 - val_loss: 1.0357 - val_acc: 0.5248 - val_auc: 0.7813 - val_precision: 0.5890 - val_recall: 0.2652 - val_f1score: 0.1445\n",
      "Epoch 43/60\n",
      "43/42 [==============================] - 12s 278ms/step - loss: 0.8909 - acc: 0.5982 - auc: 0.7822 - precision: 0.5903 - recall: 0.2677 - f1score: 0.1551 - val_loss: 1.0082 - val_acc: 0.5190 - val_auc: 0.7830 - val_precision: 0.5912 - val_recall: 0.2698 - val_f1score: 0.1443\n",
      "Epoch 44/60\n",
      "43/42 [==============================] - 12s 274ms/step - loss: 0.8671 - acc: 0.5961 - auc: 0.7840 - precision: 0.5923 - recall: 0.2721 - f1score: 0.1568 - val_loss: 1.0694 - val_acc: 0.4577 - val_auc: 0.7847 - val_precision: 0.5929 - val_recall: 0.2741 - val_f1score: 0.1387\n",
      "Epoch 45/60\n",
      "43/42 [==============================] - 12s 277ms/step - loss: 0.8750 - acc: 0.6041 - auc: 0.7855 - precision: 0.5935 - recall: 0.2760 - f1score: 0.1563 - val_loss: 1.0589 - val_acc: 0.4956 - val_auc: 0.7863 - val_precision: 0.5947 - val_recall: 0.2783 - val_f1score: 0.1434\n",
      "Epoch 46/60\n",
      "43/42 [==============================] - 12s 280ms/step - loss: 0.8692 - acc: 0.5924 - auc: 0.7870 - precision: 0.5954 - recall: 0.2802 - f1score: 0.1569 - val_loss: 1.0117 - val_acc: 0.5044 - val_auc: 0.7878 - val_precision: 0.5964 - val_recall: 0.2824 - val_f1score: 0.1436\n",
      "Epoch 47/60\n",
      "43/42 [==============================] - 12s 279ms/step - loss: 0.8454 - acc: 0.6019 - auc: 0.7886 - precision: 0.5972 - recall: 0.2843 - f1score: 0.1585 - val_loss: 1.0395 - val_acc: 0.4898 - val_auc: 0.7894 - val_precision: 0.5982 - val_recall: 0.2865 - val_f1score: 0.1435\n",
      "Epoch 48/60\n",
      "43/42 [==============================] - 12s 277ms/step - loss: 0.8572 - acc: 0.6041 - auc: 0.7902 - precision: 0.5989 - recall: 0.2887 - f1score: 0.1593 - val_loss: 1.0394 - val_acc: 0.4985 - val_auc: 0.7909 - val_precision: 0.5995 - val_recall: 0.2905 - val_f1score: 0.1412\n",
      "Epoch 49/60\n",
      "43/42 [==============================] - 12s 277ms/step - loss: 0.8162 - acc: 0.6187 - auc: 0.7917 - precision: 0.6004 - recall: 0.2923 - f1score: 0.1618 - val_loss: 1.0355 - val_acc: 0.5190 - val_auc: 0.7926 - val_precision: 0.6013 - val_recall: 0.2945 - val_f1score: 0.1451\n",
      "Epoch 50/60\n",
      "43/42 [==============================] - 12s 277ms/step - loss: 0.8362 - acc: 0.6187 - auc: 0.7934 - precision: 0.6024 - recall: 0.2965 - f1score: 0.1609 - val_loss: 1.0925 - val_acc: 0.4840 - val_auc: 0.7940 - val_precision: 0.6031 - val_recall: 0.2984 - val_f1score: 0.1419\n",
      "Epoch 51/60\n",
      "43/42 [==============================] - 12s 280ms/step - loss: 0.8346 - acc: 0.6260 - auc: 0.7947 - precision: 0.6039 - recall: 0.3004 - f1score: 0.1607 - val_loss: 1.0850 - val_acc: 0.5044 - val_auc: 0.7954 - val_precision: 0.6048 - val_recall: 0.3024 - val_f1score: 0.1426\n",
      "Epoch 52/60\n",
      "43/42 [==============================] - 12s 278ms/step - loss: 0.8192 - acc: 0.6304 - auc: 0.7962 - precision: 0.6057 - recall: 0.3044 - f1score: 0.1625 - val_loss: 1.0304 - val_acc: 0.5015 - val_auc: 0.7969 - val_precision: 0.6066 - val_recall: 0.3063 - val_f1score: 0.1429\n",
      "Epoch 53/60\n",
      "43/42 [==============================] - 12s 279ms/step - loss: 0.8313 - acc: 0.6194 - auc: 0.7976 - precision: 0.6074 - recall: 0.3080 - f1score: 0.1612 - val_loss: 1.0904 - val_acc: 0.4869 - val_auc: 0.7983 - val_precision: 0.6081 - val_recall: 0.3098 - val_f1score: 0.1412\n",
      "Epoch 54/60\n",
      "43/42 [==============================] - 12s 279ms/step - loss: 0.7979 - acc: 0.6406 - auc: 0.7990 - precision: 0.6091 - recall: 0.3119 - f1score: 0.1638 - val_loss: 1.0737 - val_acc: 0.4781 - val_auc: 0.7997 - val_precision: 0.6100 - val_recall: 0.3138 - val_f1score: 0.1416\n",
      "Epoch 55/60\n",
      "43/42 [==============================] - 12s 280ms/step - loss: 0.7934 - acc: 0.6275 - auc: 0.8003 - precision: 0.6105 - recall: 0.3155 - f1score: 0.1655 - val_loss: 1.0808 - val_acc: 0.5190 - val_auc: 0.8011 - val_precision: 0.6113 - val_recall: 0.3177 - val_f1score: 0.1475\n",
      "Epoch 56/60\n",
      "43/42 [==============================] - 12s 280ms/step - loss: 0.7855 - acc: 0.6377 - auc: 0.8019 - precision: 0.6120 - recall: 0.3198 - f1score: 0.1661 - val_loss: 1.0518 - val_acc: 0.4956 - val_auc: 0.8025 - val_precision: 0.6126 - val_recall: 0.3215 - val_f1score: 0.1436\n",
      "Epoch 57/60\n"
     ]
    },
    {
     "name": "stdout",
     "output_type": "stream",
     "text": [
      "43/42 [==============================] - 12s 278ms/step - loss: 0.7684 - acc: 0.6669 - auc: 0.8033 - precision: 0.6135 - recall: 0.3234 - f1score: 0.1672 - val_loss: 1.0265 - val_acc: 0.5306 - val_auc: 0.8040 - val_precision: 0.6145 - val_recall: 0.3255 - val_f1score: 0.1487\n",
      "Epoch 58/60\n",
      "43/42 [==============================] - 12s 280ms/step - loss: 0.7595 - acc: 0.6640 - auc: 0.8048 - precision: 0.6154 - recall: 0.3274 - f1score: 0.1688 - val_loss: 1.1045 - val_acc: 0.5015 - val_auc: 0.8055 - val_precision: 0.6164 - val_recall: 0.3294 - val_f1score: 0.1454\n",
      "Epoch 59/60\n",
      "43/42 [==============================] - 12s 277ms/step - loss: 0.7937 - acc: 0.6413 - auc: 0.8061 - precision: 0.6169 - recall: 0.3311 - f1score: 0.1654 - val_loss: 1.0691 - val_acc: 0.5306 - val_auc: 0.8068 - val_precision: 0.6177 - val_recall: 0.3329 - val_f1score: 0.1449\n",
      "Epoch 60/60\n",
      "43/42 [==============================] - 12s 277ms/step - loss: 0.7805 - acc: 0.6691 - auc: 0.8074 - precision: 0.6184 - recall: 0.3346 - f1score: 0.1674 - val_loss: 1.0861 - val_acc: 0.5248 - val_auc: 0.8081 - val_precision: 0.6193 - val_recall: 0.3364 - val_f1score: 0.1466\n"
     ]
    }
   ],
   "source": [
    "history = additional_model.fit_generator(dgf, \n",
    "            steps_per_epoch=len(X_train)/32, \n",
    "            epochs=60, \n",
    "            validation_data=(X_val,y_val), \n",
    "            validation_steps=len(X_val)/32, \n",
    "            callbacks=[checkpoint])"
   ]
  },
  {
   "cell_type": "code",
   "execution_count": 13,
   "metadata": {},
   "outputs": [
    {
     "data": {
      "image/png": "[encoded data removed]",
      "text/plain": [
       "<Figure size 432x288 with 1 Axes>"
      ]
     },
     "metadata": {
      "needs_background": "light"
     },
     "output_type": "display_data"
    },
    {
     "data": {
      "image/png": "[encoded data removed]",
      "text/plain": [
       "<Figure size 432x288 with 1 Axes>"
      ]
     },
     "metadata": {
      "needs_background": "light"
     },
     "output_type": "display_data"
    }
   ],
   "source": [
    "acc = history.history['acc']\n",
    "val_acc = history.history['val_acc']\n",
    "loss = history.history['loss']\n",
    "val_loss = history.history['val_loss']\n",
    " \n",
    "epochs = range(1, len(acc) + 1)\n",
    " \n",
    "plt.plot(epochs, acc, 'bo', label='Training acc')\n",
    "plt.plot(epochs, val_acc, 'r', label='Validation acc')\n",
    "plt.title('Accuracy')\n",
    "plt.legend()\n",
    "plt.figure()\n",
    " \n",
    "plt.plot(epochs, loss, 'bo', label='Training loss')\n",
    "plt.plot(epochs, val_loss, 'r', label='Validation loss')\n",
    "plt.title('Loss')\n",
    "plt.legend()\n",
    " \n",
    "plt.show()"
   ]
  },
  {
   "cell_type": "code",
   "execution_count": 14,
   "metadata": {},
   "outputs": [
    {
     "name": "stdout",
     "output_type": "stream",
     "text": [
      "343/343 [==============================] - 1s 3ms/step\n",
      "loss: 1.086, accuracy: 0.525, auc: 0.808, precision: 0.619, recall: 0.337, f1score: 0.147\n"
     ]
    }
   ],
   "source": [
    "_loss, _acc, _auc, _precision, _recall, _f1score = additional_model.evaluate(X_val, y_val, batch_size=32)\n",
    "print('loss: {:.3f}, accuracy: {:.3f}, auc: {:.3f}, precision: {:.3f}, recall: {:.3f}, f1score: {:.3f}'.format(_loss, _acc, _auc, _precision, _recall, _f1score))"
   ]
  },
  {
   "cell_type": "code",
   "execution_count": 45,
   "metadata": {},
   "outputs": [],
   "source": [
    "from keras.models import Model, load_model\n",
    "\n",
    "new_model = models.load_model('./G_팔로미_models/Inception v3_fine tuning_2_no callback(539).hdf5',compile=False)\n",
    "\n",
    "\n",
    "new_model.compile(loss='categorical_crossentropy', \n",
    "              optimizer=optimizers.Adam(lr=1e-5),\n",
    "              metrics=['acc',tf.keras.metrics.AUC(),\n",
    "                      tf.keras.metrics.Precision(),\n",
    "                      tf.keras.metrics.Recall(),f1score])"
   ]
  },
  {
   "cell_type": "code",
   "execution_count": 46,
   "metadata": {},
   "outputs": [],
   "source": [
    "X_test=np.load('X_val.npy')\n",
    "y_test=np.load('y_val.npy')"
   ]
  },
  {
   "cell_type": "code",
   "execution_count": 47,
   "metadata": {},
   "outputs": [
    {
     "name": "stdout",
     "output_type": "stream",
     "text": [
      "571/571 [==============================] - 4s 6ms/step\n",
      "loss: 0.996, accuracy: 0.539, auc: 0.811, precision: 0.596, recall: 0.399, f1score: 0.145\n"
     ]
    }
   ],
   "source": [
    "_loss, _acc, _auc, _precision, _recall, _f1score =new_model.evaluate(X_test, y_test, batch_size=32)\n",
    "print('loss: {:.3f}, accuracy: {:.3f}, auc: {:.3f}, precision: {:.3f}, recall: {:.3f}, f1score: {:.3f}'.format(_loss, _acc, _auc, _precision, _recall, _f1score))"
   ]
  },
  {
   "cell_type": "code",
   "execution_count": null,
   "metadata": {},
   "outputs": [],
   "source": []
  }
 ],
 "metadata": {
  "kernelspec": {
   "display_name": "Python 3",
   "language": "python",
   "name": "python3"
  },
  "language_info": {
   "codemirror_mode": {
    "name": "ipython",
    "version": 3
   },
   "file_extension": ".py",
   "mimetype": "text/x-python",
   "name": "python",
   "nbconvert_exporter": "python",
   "pygments_lexer": "ipython3",
   "version": "3.7.7"
  }
 },
 "nbformat": 4,
 "nbformat_minor": 2
}
