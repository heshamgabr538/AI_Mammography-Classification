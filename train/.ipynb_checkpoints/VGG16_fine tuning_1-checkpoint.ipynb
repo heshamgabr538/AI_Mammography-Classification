{
 "cells": [
  {
   "cell_type": "code",
   "execution_count": 1,
   "metadata": {},
   "outputs": [
    {
     "data": {
      "text/plain": [
       "'C:\\\\Users\\\\Owner2\\\\Desktop\\\\G팔로미_vuno'"
      ]
     },
     "execution_count": 1,
     "metadata": {},
     "output_type": "execute_result"
    }
   ],
   "source": [
    "import os\n",
    "import pandas as pd\n",
    "from matplotlib import pyplot as plt\n",
    "import numpy as np\n",
    "import cv2\n",
    "\n",
    "#data path 수정\n",
    "os.chdir(\"C:\\\\Users\\\\Owner2\\\\Desktop\\\\G팔로미_vuno\")\n",
    "os.getcwd()"
   ]
  },
  {
   "cell_type": "code",
   "execution_count": 2,
   "metadata": {},
   "outputs": [],
   "source": [
    "X=np.load('data_X.npy')\n",
    "y=np.load('data_y.npy')"
   ]
  },
  {
   "cell_type": "code",
   "execution_count": 3,
   "metadata": {},
   "outputs": [],
   "source": [
    "#train, validation set 분리\n",
    "from sklearn.model_selection import train_test_split\n",
    "\n",
    "X_train, X_val, y_train, y_val = train_test_split(X,y,test_size=0.3)"
   ]
  },
  {
   "cell_type": "code",
   "execution_count": 4,
   "metadata": {},
   "outputs": [
    {
     "name": "stderr",
     "output_type": "stream",
     "text": [
      "Using TensorFlow backend.\n"
     ]
    }
   ],
   "source": [
    "from keras.preprocessing.image import ImageDataGenerator\n",
    "\n",
    "datagen = ImageDataGenerator(\n",
    "    #featurewise_center=True, #center 중심 유지\n",
    "    #featurewise_std_normalization=True, #normalization\n",
    "    rotation_range=25.0,\n",
    "    #width_shift_range=0.2,\n",
    "    #height_shift_range=0.2,\n",
    "    #brightness_range=[0.2,1.0],\n",
    "    horizontal_flip=True) #수평방향 뒤집기\n",
    "\n",
    "datagen.fit(X_train)\n",
    "\n",
    "dgf=datagen.flow(X_train,y_train,batch_size=32)"
   ]
  },
  {
   "cell_type": "code",
   "execution_count": 5,
   "metadata": {},
   "outputs": [
    {
     "name": "stdout",
     "output_type": "stream",
     "text": [
      "Model: \"vgg16\"\n",
      "_________________________________________________________________\n",
      "Layer (type)                 Output Shape              Param #   \n",
      "=================================================================\n",
      "input_1 (InputLayer)         (None, 224, 224, 3)       0         \n",
      "_________________________________________________________________\n",
      "block1_conv1 (Conv2D)        (None, 224, 224, 64)      1792      \n",
      "_________________________________________________________________\n",
      "block1_conv2 (Conv2D)        (None, 224, 224, 64)      36928     \n",
      "_________________________________________________________________\n",
      "block1_pool (MaxPooling2D)   (None, 112, 112, 64)      0         \n",
      "_________________________________________________________________\n",
      "block2_conv1 (Conv2D)        (None, 112, 112, 128)     73856     \n",
      "_________________________________________________________________\n",
      "block2_conv2 (Conv2D)        (None, 112, 112, 128)     147584    \n",
      "_________________________________________________________________\n",
      "block2_pool (MaxPooling2D)   (None, 56, 56, 128)       0         \n",
      "_________________________________________________________________\n",
      "block3_conv1 (Conv2D)        (None, 56, 56, 256)       295168    \n",
      "_________________________________________________________________\n",
      "block3_conv2 (Conv2D)        (None, 56, 56, 256)       590080    \n",
      "_________________________________________________________________\n",
      "block3_conv3 (Conv2D)        (None, 56, 56, 256)       590080    \n",
      "_________________________________________________________________\n",
      "block3_pool (MaxPooling2D)   (None, 28, 28, 256)       0         \n",
      "_________________________________________________________________\n",
      "block4_conv1 (Conv2D)        (None, 28, 28, 512)       1180160   \n",
      "_________________________________________________________________\n",
      "block4_conv2 (Conv2D)        (None, 28, 28, 512)       2359808   \n",
      "_________________________________________________________________\n",
      "block4_conv3 (Conv2D)        (None, 28, 28, 512)       2359808   \n",
      "_________________________________________________________________\n",
      "block4_pool (MaxPooling2D)   (None, 14, 14, 512)       0         \n",
      "_________________________________________________________________\n",
      "block5_conv1 (Conv2D)        (None, 14, 14, 512)       2359808   \n",
      "_________________________________________________________________\n",
      "block5_conv2 (Conv2D)        (None, 14, 14, 512)       2359808   \n",
      "_________________________________________________________________\n",
      "block5_conv3 (Conv2D)        (None, 14, 14, 512)       2359808   \n",
      "_________________________________________________________________\n",
      "block5_pool (MaxPooling2D)   (None, 7, 7, 512)         0         \n",
      "=================================================================\n",
      "Total params: 14,714,688\n",
      "Trainable params: 0\n",
      "Non-trainable params: 14,714,688\n",
      "_________________________________________________________________\n"
     ]
    }
   ],
   "source": [
    "from keras import models, layers\n",
    "from keras import Input\n",
    "from keras.applications import VGG16\n",
    "from keras.models import Model, load_model\n",
    "from keras.preprocessing.image import ImageDataGenerator\n",
    "from keras import optimizers, initializers, regularizers, metrics\n",
    "from keras.callbacks import ModelCheckpoint, EarlyStopping\n",
    "from keras.layers import BatchNormalization, Conv2D, Activation, Dense, GlobalAveragePooling2D, MaxPooling2D, ZeroPadding2D, Add\n",
    "\n",
    "model = VGG16(weights='imagenet', include_top=False, input_shape=(224, 224, 3))\n",
    "model.trainable = False\n",
    "model.summary()"
   ]
  },
  {
   "cell_type": "code",
   "execution_count": 6,
   "metadata": {},
   "outputs": [
    {
     "name": "stdout",
     "output_type": "stream",
     "text": [
      "Model: \"sequential_1\"\n",
      "_________________________________________________________________\n",
      "Layer (type)                 Output Shape              Param #   \n",
      "=================================================================\n",
      "vgg16 (Model)                (None, 7, 7, 512)         14714688  \n",
      "_________________________________________________________________\n",
      "flatten_1 (Flatten)          (None, 25088)             0         \n",
      "_________________________________________________________________\n",
      "dense_1 (Dense)              (None, 4)                 100356    \n",
      "=================================================================\n",
      "Total params: 14,815,044\n",
      "Trainable params: 100,356\n",
      "Non-trainable params: 14,714,688\n",
      "_________________________________________________________________\n"
     ]
    }
   ],
   "source": [
    "#customizing my layers\n",
    "additional_model = models.Sequential()\n",
    "additional_model.add(model)\n",
    "additional_model.add(layers.Flatten())\n",
    "additional_model.add(layers.Dense(4, activation='softmax'))\n",
    "\n",
    "additional_model.summary()"
   ]
  },
  {
   "cell_type": "code",
   "execution_count": 7,
   "metadata": {},
   "outputs": [],
   "source": [
    "def f1score(precision, recall):\n",
    "    _f1score = ( 2 * recall * precision) / (recall + precision)\n",
    "    \n",
    "    # return a single tensor value\n",
    "    return _f1score"
   ]
  },
  {
   "cell_type": "code",
   "execution_count": 8,
   "metadata": {},
   "outputs": [],
   "source": [
    "# checkpoint = ModelCheckpoint(filepath='My_VGG_{epoch:03d}_{val_loss:.7f}.hdf5',monitor='loss', mode='min', save_best_only=True)\n",
    "checkpoint = ModelCheckpoint(filepath='VGG16_fine tuning_1.hdf5', \n",
    "            monitor='loss', \n",
    "            mode='min', \n",
    "            save_best_only=True)"
   ]
  },
  {
   "cell_type": "code",
   "execution_count": 9,
   "metadata": {},
   "outputs": [],
   "source": [
    "import tensorflow as tf\n",
    "\n",
    "additional_model.compile(loss='categorical_crossentropy', \n",
    "              optimizer=optimizers.Adam(lr=2e-5),\n",
    "              metrics=['acc',tf.keras.metrics.AUC(),\n",
    "                      tf.keras.metrics.Precision(),\n",
    "                      tf.keras.metrics.Recall(),f1score])"
   ]
  },
  {
   "cell_type": "code",
   "execution_count": 10,
   "metadata": {},
   "outputs": [
    {
     "name": "stdout",
     "output_type": "stream",
     "text": [
      "Epoch 1/50\n",
      "150/150 [==============================] - 44s 295ms/step - loss: 1.2527 - acc: 0.4248 - auc: 0.6236 - precision: 0.3622 - recall: 0.0216 - f1score: 0.1143 - val_loss: 1.1502 - val_acc: 0.4750 - val_auc: 0.7104 - val_precision: 0.6961 - val_recall: 0.0507 - val_f1score: 0.1229\n",
      "Epoch 2/50\n",
      "150/150 [==============================] - 40s 266ms/step - loss: 1.0866 - acc: 0.4971 - auc: 0.7415 - precision: 0.7397 - recall: 0.0813 - f1score: 0.1302 - val_loss: 1.0639 - val_acc: 0.5041 - val_auc: 0.7609 - val_precision: 0.7303 - val_recall: 0.1173 - val_f1score: 0.1328\n",
      "Epoch 3/50\n",
      "150/150 [==============================] - 41s 276ms/step - loss: 1.0177 - acc: 0.5306 - auc: 0.7739 - precision: 0.7210 - recall: 0.1396 - f1score: 0.1372 - val_loss: 1.0155 - val_acc: 0.5332 - val_auc: 0.7846 - val_precision: 0.7158 - val_recall: 0.1594 - val_f1score: 0.1370\n",
      "Epoch 4/50\n",
      "150/150 [==============================] - 41s 272ms/step - loss: 0.9778 - acc: 0.5523 - auc: 0.7927 - precision: 0.7165 - recall: 0.1749 - f1score: 0.1416 - val_loss: 0.9818 - val_acc: 0.5425 - val_auc: 0.7991 - val_precision: 0.7154 - val_recall: 0.1891 - val_f1score: 0.1408\n",
      "Epoch 5/50\n",
      "150/150 [==============================] - 41s 272ms/step - loss: 0.9450 - acc: 0.5681 - auc: 0.8048 - precision: 0.7132 - recall: 0.2010 - f1score: 0.1448 - val_loss: 0.9649 - val_acc: 0.5425 - val_auc: 0.8094 - val_precision: 0.7099 - val_recall: 0.2106 - val_f1score: 0.1421\n",
      "Epoch 6/50\n",
      "150/150 [==============================] - 42s 279ms/step - loss: 0.9190 - acc: 0.5780 - auc: 0.8138 - precision: 0.7098 - recall: 0.2204 - f1score: 0.1477 - val_loss: 0.9370 - val_acc: 0.5611 - val_auc: 0.8175 - val_precision: 0.7100 - val_recall: 0.2302 - val_f1score: 0.1460\n",
      "Epoch 7/50\n",
      "150/150 [==============================] - 41s 272ms/step - loss: 0.9051 - acc: 0.5815 - auc: 0.8208 - precision: 0.7093 - recall: 0.2394 - f1score: 0.1490 - val_loss: 0.9243 - val_acc: 0.5588 - val_auc: 0.8237 - val_precision: 0.7097 - val_recall: 0.2473 - val_f1score: 0.1469\n",
      "Epoch 8/50\n",
      "150/150 [==============================] - 41s 273ms/step - loss: 0.8821 - acc: 0.5838 - auc: 0.8265 - precision: 0.7085 - recall: 0.2551 - f1score: 0.1514 - val_loss: 0.9095 - val_acc: 0.5693 - val_auc: 0.8290 - val_precision: 0.7078 - val_recall: 0.2620 - val_f1score: 0.1487\n",
      "Epoch 9/50\n",
      "150/150 [==============================] - 41s 272ms/step - loss: 0.8695 - acc: 0.6046 - auc: 0.8315 - precision: 0.7080 - recall: 0.2688 - f1score: 0.1527 - val_loss: 0.9034 - val_acc: 0.5681 - val_auc: 0.8336 - val_precision: 0.7078 - val_recall: 0.2748 - val_f1score: 0.1490\n",
      "Epoch 10/50\n",
      "150/150 [==============================] - 41s 271ms/step - loss: 0.8534 - acc: 0.6040 - auc: 0.8356 - precision: 0.7080 - recall: 0.2805 - f1score: 0.1544 - val_loss: 0.8941 - val_acc: 0.5646 - val_auc: 0.8376 - val_precision: 0.7088 - val_recall: 0.2865 - val_f1score: 0.1505\n",
      "Epoch 11/50\n",
      "150/150 [==============================] - 41s 272ms/step - loss: 0.8519 - acc: 0.6071 - auc: 0.8393 - precision: 0.7082 - recall: 0.2916 - f1score: 0.1545 - val_loss: 0.8869 - val_acc: 0.5623 - val_auc: 0.8409 - val_precision: 0.7080 - val_recall: 0.2967 - val_f1score: 0.1511\n",
      "Epoch 12/50\n",
      "150/150 [==============================] - 41s 270ms/step - loss: 0.8360 - acc: 0.6118 - auc: 0.8425 - precision: 0.7086 - recall: 0.3015 - f1score: 0.1563 - val_loss: 0.8809 - val_acc: 0.5646 - val_auc: 0.8439 - val_precision: 0.7089 - val_recall: 0.3066 - val_f1score: 0.1522\n",
      "Epoch 13/50\n",
      "150/150 [==============================] - 41s 272ms/step - loss: 0.8272 - acc: 0.6159 - auc: 0.8454 - precision: 0.7088 - recall: 0.3112 - f1score: 0.1572 - val_loss: 0.8722 - val_acc: 0.5728 - val_auc: 0.8467 - val_precision: 0.7086 - val_recall: 0.3155 - val_f1score: 0.1527\n",
      "Epoch 14/50\n",
      "150/150 [==============================] - 42s 282ms/step - loss: 0.8145 - acc: 0.6230 - auc: 0.8480 - precision: 0.7090 - recall: 0.3197 - f1score: 0.1584 - val_loss: 0.8663 - val_acc: 0.5763 - val_auc: 0.8493 - val_precision: 0.7098 - val_recall: 0.3243 - val_f1score: 0.1539\n",
      "Epoch 15/50\n",
      "150/150 [==============================] - 41s 272ms/step - loss: 0.8130 - acc: 0.6238 - auc: 0.8505 - precision: 0.7101 - recall: 0.3281 - f1score: 0.1587 - val_loss: 0.8622 - val_acc: 0.5739 - val_auc: 0.8516 - val_precision: 0.7106 - val_recall: 0.3318 - val_f1score: 0.1539\n",
      "Epoch 16/50\n",
      "150/150 [==============================] - 41s 272ms/step - loss: 0.8031 - acc: 0.6303 - auc: 0.8528 - precision: 0.7108 - recall: 0.3355 - f1score: 0.1596 - val_loss: 0.8577 - val_acc: 0.5728 - val_auc: 0.8538 - val_precision: 0.7111 - val_recall: 0.3387 - val_f1score: 0.1546\n",
      "Epoch 17/50\n",
      "150/150 [==============================] - 41s 272ms/step - loss: 0.7931 - acc: 0.6351 - auc: 0.8549 - precision: 0.7115 - recall: 0.3423 - f1score: 0.1605 - val_loss: 0.8512 - val_acc: 0.5809 - val_auc: 0.8558 - val_precision: 0.7117 - val_recall: 0.3457 - val_f1score: 0.1556\n",
      "Epoch 18/50\n",
      "150/150 [==============================] - 41s 274ms/step - loss: 0.7864 - acc: 0.6400 - auc: 0.8568 - precision: 0.7119 - recall: 0.3491 - f1score: 0.1614 - val_loss: 0.8481 - val_acc: 0.5797 - val_auc: 0.8577 - val_precision: 0.7124 - val_recall: 0.3522 - val_f1score: 0.1556\n",
      "Epoch 19/50\n",
      "150/150 [==============================] - 41s 275ms/step - loss: 0.7860 - acc: 0.6377 - auc: 0.8586 - precision: 0.7126 - recall: 0.3550 - f1score: 0.1615 - val_loss: 0.8522 - val_acc: 0.5704 - val_auc: 0.8594 - val_precision: 0.7126 - val_recall: 0.3578 - val_f1score: 0.1554\n",
      "Epoch 20/50\n",
      "150/150 [==============================] - 41s 274ms/step - loss: 0.7768 - acc: 0.6454 - auc: 0.8602 - precision: 0.7127 - recall: 0.3606 - f1score: 0.1625 - val_loss: 0.8385 - val_acc: 0.5774 - val_auc: 0.8610 - val_precision: 0.7135 - val_recall: 0.3636 - val_f1score: 0.1569\n",
      "Epoch 21/50\n",
      "150/150 [==============================] - 41s 274ms/step - loss: 0.7793 - acc: 0.6402 - auc: 0.8618 - precision: 0.7137 - recall: 0.3664 - f1score: 0.1624 - val_loss: 0.8428 - val_acc: 0.5832 - val_auc: 0.8624 - val_precision: 0.7140 - val_recall: 0.3692 - val_f1score: 0.1573\n",
      "Epoch 22/50\n",
      "150/150 [==============================] - 41s 273ms/step - loss: 0.7669 - acc: 0.6509 - auc: 0.8632 - precision: 0.7144 - recall: 0.3720 - f1score: 0.1635 - val_loss: 0.8386 - val_acc: 0.5867 - val_auc: 0.8639 - val_precision: 0.7149 - val_recall: 0.3745 - val_f1score: 0.1569\n",
      "Epoch 23/50\n",
      "150/150 [==============================] - 41s 273ms/step - loss: 0.7627 - acc: 0.6572 - auc: 0.8646 - precision: 0.7154 - recall: 0.3771 - f1score: 0.1640 - val_loss: 0.8336 - val_acc: 0.5879 - val_auc: 0.8653 - val_precision: 0.7159 - val_recall: 0.3797 - val_f1score: 0.1578\n",
      "Epoch 24/50\n",
      "150/150 [==============================] - 41s 274ms/step - loss: 0.7555 - acc: 0.6490 - auc: 0.8660 - precision: 0.7162 - recall: 0.3822 - f1score: 0.1648 - val_loss: 0.8379 - val_acc: 0.5856 - val_auc: 0.8666 - val_precision: 0.7164 - val_recall: 0.3845 - val_f1score: 0.1575\n",
      "Epoch 25/50\n",
      "150/150 [==============================] - 41s 274ms/step - loss: 0.7505 - acc: 0.6653 - auc: 0.8673 - precision: 0.7166 - recall: 0.3868 - f1score: 0.1652 - val_loss: 0.8277 - val_acc: 0.5751 - val_auc: 0.8679 - val_precision: 0.7168 - val_recall: 0.3890 - val_f1score: 0.1582\n",
      "Epoch 26/50\n",
      "150/150 [==============================] - 41s 273ms/step - loss: 0.7467 - acc: 0.6595 - auc: 0.8685 - precision: 0.7173 - recall: 0.3912 - f1score: 0.1656 - val_loss: 0.8329 - val_acc: 0.5902 - val_auc: 0.8691 - val_precision: 0.7176 - val_recall: 0.3936 - val_f1score: 0.1584\n",
      "Epoch 27/50\n",
      "150/150 [==============================] - 42s 280ms/step - loss: 0.7431 - acc: 0.6651 - auc: 0.8697 - precision: 0.7181 - recall: 0.3958 - f1score: 0.1660 - val_loss: 0.8280 - val_acc: 0.5797 - val_auc: 0.8703 - val_precision: 0.7184 - val_recall: 0.3980 - val_f1score: 0.1589\n",
      "Epoch 28/50\n",
      "150/150 [==============================] - 41s 272ms/step - loss: 0.7411 - acc: 0.6707 - auc: 0.8708 - precision: 0.7188 - recall: 0.4001 - f1score: 0.1662 - val_loss: 0.8281 - val_acc: 0.5774 - val_auc: 0.8713 - val_precision: 0.7191 - val_recall: 0.4020 - val_f1score: 0.1585\n",
      "Epoch 29/50\n"
     ]
    },
    {
     "name": "stdout",
     "output_type": "stream",
     "text": [
      "150/150 [==============================] - 41s 274ms/step - loss: 0.7351 - acc: 0.6710 - auc: 0.8719 - precision: 0.7194 - recall: 0.4039 - f1score: 0.1668 - val_loss: 0.8305 - val_acc: 0.5821 - val_auc: 0.8724 - val_precision: 0.7196 - val_recall: 0.4059 - val_f1score: 0.1589\n",
      "Epoch 30/50\n",
      "150/150 [==============================] - 41s 272ms/step - loss: 0.7311 - acc: 0.6744 - auc: 0.8729 - precision: 0.7198 - recall: 0.4079 - f1score: 0.1673 - val_loss: 0.8248 - val_acc: 0.5856 - val_auc: 0.8734 - val_precision: 0.7202 - val_recall: 0.4098 - val_f1score: 0.1590\n",
      "Epoch 31/50\n",
      "150/150 [==============================] - 41s 274ms/step - loss: 0.7291 - acc: 0.6727 - auc: 0.8739 - precision: 0.7204 - recall: 0.4116 - f1score: 0.1676 - val_loss: 0.8271 - val_acc: 0.5867 - val_auc: 0.8744 - val_precision: 0.7205 - val_recall: 0.4134 - val_f1score: 0.1591\n",
      "Epoch 32/50\n",
      "150/150 [==============================] - 41s 274ms/step - loss: 0.7241 - acc: 0.6708 - auc: 0.8748 - precision: 0.7209 - recall: 0.4152 - f1score: 0.1678 - val_loss: 0.8273 - val_acc: 0.5891 - val_auc: 0.8753 - val_precision: 0.7213 - val_recall: 0.4171 - val_f1score: 0.1595\n",
      "Epoch 33/50\n",
      "150/150 [==============================] - 41s 272ms/step - loss: 0.7180 - acc: 0.6793 - auc: 0.8757 - precision: 0.7216 - recall: 0.4188 - f1score: 0.1685 - val_loss: 0.8211 - val_acc: 0.5937 - val_auc: 0.8762 - val_precision: 0.7219 - val_recall: 0.4205 - val_f1score: 0.1596\n",
      "Epoch 34/50\n",
      "150/150 [==============================] - 41s 274ms/step - loss: 0.7207 - acc: 0.6771 - auc: 0.8767 - precision: 0.7223 - recall: 0.4221 - f1score: 0.1684 - val_loss: 0.8178 - val_acc: 0.5891 - val_auc: 0.8771 - val_precision: 0.7226 - val_recall: 0.4238 - val_f1score: 0.1599\n",
      "Epoch 35/50\n",
      "150/150 [==============================] - 42s 282ms/step - loss: 0.7147 - acc: 0.6772 - auc: 0.8775 - precision: 0.7229 - recall: 0.4253 - f1score: 0.1689 - val_loss: 0.8171 - val_acc: 0.5891 - val_auc: 0.8779 - val_precision: 0.7231 - val_recall: 0.4268 - val_f1score: 0.1600\n",
      "Epoch 36/50\n",
      "150/150 [==============================] - 41s 273ms/step - loss: 0.7052 - acc: 0.6908 - auc: 0.8784 - precision: 0.7235 - recall: 0.4284 - f1score: 0.1700 - val_loss: 0.8129 - val_acc: 0.5821 - val_auc: 0.8788 - val_precision: 0.7240 - val_recall: 0.4299 - val_f1score: 0.1605\n",
      "Epoch 37/50\n",
      "150/150 [==============================] - 41s 271ms/step - loss: 0.7141 - acc: 0.6768 - auc: 0.8792 - precision: 0.7241 - recall: 0.4314 - f1score: 0.1691 - val_loss: 0.8149 - val_acc: 0.5832 - val_auc: 0.8796 - val_precision: 0.7244 - val_recall: 0.4328 - val_f1score: 0.1602\n",
      "Epoch 38/50\n",
      "150/150 [==============================] - 41s 272ms/step - loss: 0.7035 - acc: 0.6949 - auc: 0.8800 - precision: 0.7247 - recall: 0.4343 - f1score: 0.1701 - val_loss: 0.8111 - val_acc: 0.5972 - val_auc: 0.8804 - val_precision: 0.7249 - val_recall: 0.4357 - val_f1score: 0.1606\n",
      "Epoch 39/50\n",
      "150/150 [==============================] - 41s 272ms/step - loss: 0.6995 - acc: 0.6938 - auc: 0.8808 - precision: 0.7253 - recall: 0.4371 - f1score: 0.1705 - val_loss: 0.8148 - val_acc: 0.5809 - val_auc: 0.8812 - val_precision: 0.7255 - val_recall: 0.4385 - val_f1score: 0.1606\n",
      "Epoch 40/50\n",
      "150/150 [==============================] - 41s 275ms/step - loss: 0.6986 - acc: 0.6953 - auc: 0.8815 - precision: 0.7257 - recall: 0.4399 - f1score: 0.1706 - val_loss: 0.8088 - val_acc: 0.5891 - val_auc: 0.8819 - val_precision: 0.7261 - val_recall: 0.4413 - val_f1score: 0.1611\n",
      "Epoch 41/50\n",
      "150/150 [==============================] - 41s 272ms/step - loss: 0.7055 - acc: 0.6850 - auc: 0.8823 - precision: 0.7262 - recall: 0.4426 - f1score: 0.1701 - val_loss: 0.8097 - val_acc: 0.5902 - val_auc: 0.8826 - val_precision: 0.7265 - val_recall: 0.4438 - val_f1score: 0.1609\n",
      "Epoch 42/50\n",
      "150/150 [==============================] - 41s 271ms/step - loss: 0.6885 - acc: 0.6942 - auc: 0.8830 - precision: 0.7268 - recall: 0.4452 - f1score: 0.1718 - val_loss: 0.8155 - val_acc: 0.5995 - val_auc: 0.8833 - val_precision: 0.7271 - val_recall: 0.4465 - val_f1score: 0.1612\n",
      "Epoch 43/50\n",
      "150/150 [==============================] - 41s 271ms/step - loss: 0.6862 - acc: 0.7047 - auc: 0.8837 - precision: 0.7275 - recall: 0.4479 - f1score: 0.1718 - val_loss: 0.8081 - val_acc: 0.5774 - val_auc: 0.8840 - val_precision: 0.7278 - val_recall: 0.4493 - val_f1score: 0.1612\n",
      "Epoch 44/50\n",
      "150/150 [==============================] - 41s 273ms/step - loss: 0.6921 - acc: 0.6937 - auc: 0.8843 - precision: 0.7279 - recall: 0.4504 - f1score: 0.1715 - val_loss: 0.8077 - val_acc: 0.5902 - val_auc: 0.8846 - val_precision: 0.7282 - val_recall: 0.4517 - val_f1score: 0.1615\n",
      "Epoch 45/50\n",
      "150/150 [==============================] - 41s 275ms/step - loss: 0.6870 - acc: 0.6953 - auc: 0.8850 - precision: 0.7284 - recall: 0.4529 - f1score: 0.1717 - val_loss: 0.8076 - val_acc: 0.5925 - val_auc: 0.8853 - val_precision: 0.7286 - val_recall: 0.4541 - val_f1score: 0.1612\n",
      "Epoch 46/50\n",
      "150/150 [==============================] - 41s 272ms/step - loss: 0.6822 - acc: 0.7037 - auc: 0.8856 - precision: 0.7290 - recall: 0.4554 - f1score: 0.1724 - val_loss: 0.8075 - val_acc: 0.5786 - val_auc: 0.8859 - val_precision: 0.7293 - val_recall: 0.4566 - val_f1score: 0.1615\n",
      "Epoch 47/50\n",
      "150/150 [==============================] - 41s 273ms/step - loss: 0.6817 - acc: 0.7037 - auc: 0.8862 - precision: 0.7295 - recall: 0.4577 - f1score: 0.1725 - val_loss: 0.8062 - val_acc: 0.5984 - val_auc: 0.8865 - val_precision: 0.7299 - val_recall: 0.4589 - val_f1score: 0.1619\n",
      "Epoch 48/50\n",
      "150/150 [==============================] - 42s 279ms/step - loss: 0.6784 - acc: 0.7074 - auc: 0.8868 - precision: 0.7301 - recall: 0.4601 - f1score: 0.1729 - val_loss: 0.8019 - val_acc: 0.5902 - val_auc: 0.8872 - val_precision: 0.7305 - val_recall: 0.4612 - val_f1score: 0.1622\n",
      "Epoch 49/50\n",
      "150/150 [==============================] - 41s 272ms/step - loss: 0.6717 - acc: 0.7093 - auc: 0.8875 - precision: 0.7308 - recall: 0.4625 - f1score: 0.1735 - val_loss: 0.8074 - val_acc: 0.5809 - val_auc: 0.8878 - val_precision: 0.7310 - val_recall: 0.4636 - val_f1score: 0.1614\n",
      "Epoch 50/50\n",
      "150/150 [==============================] - 41s 273ms/step - loss: 0.6741 - acc: 0.6999 - auc: 0.8880 - precision: 0.7313 - recall: 0.4647 - f1score: 0.1732 - val_loss: 0.8053 - val_acc: 0.5856 - val_auc: 0.8883 - val_precision: 0.7315 - val_recall: 0.4658 - val_f1score: 0.1619\n"
     ]
    }
   ],
   "source": [
    "history = additional_model.fit_generator(dgf, \n",
    "            steps_per_epoch=150, \n",
    "            epochs=50, \n",
    "            validation_data=(X_val,y_val), \n",
    "            validation_steps=32, \n",
    "            callbacks=[checkpoint])"
   ]
  },
  {
   "cell_type": "code",
   "execution_count": 11,
   "metadata": {},
   "outputs": [
    {
     "data": {
      "image/png": "[encoded data removed]",
      "text/plain": [
       "<Figure size 432x288 with 1 Axes>"
      ]
     },
     "metadata": {
      "needs_background": "light"
     },
     "output_type": "display_data"
    },
    {
     "data": {
      "image/png": "[encoded data removed]",
      "text/plain": [
       "<Figure size 432x288 with 1 Axes>"
      ]
     },
     "metadata": {
      "needs_background": "light"
     },
     "output_type": "display_data"
    }
   ],
   "source": [
    "acc = history.history['acc']\n",
    "val_acc = history.history['val_acc']\n",
    "loss = history.history['loss']\n",
    "val_loss = history.history['val_loss']\n",
    " \n",
    "epochs = range(1, len(acc) + 1)\n",
    " \n",
    "plt.plot(epochs, acc, 'bo', label='Training acc')\n",
    "plt.plot(epochs, val_acc, 'r', label='Validation acc')\n",
    "plt.title('Accuracy')\n",
    "plt.legend()\n",
    "plt.figure()\n",
    " \n",
    "plt.plot(epochs, loss, 'bo', label='Training loss')\n",
    "plt.plot(epochs, val_loss, 'r', label='Validation loss')\n",
    "plt.title('Loss')\n",
    "plt.legend()\n",
    " \n",
    "plt.show()"
   ]
  },
  {
   "cell_type": "code",
   "execution_count": 12,
   "metadata": {},
   "outputs": [],
   "source": [
    "X_test=np.load('X_test.npy')\n",
    "y_test=np.load('y_test.npy')"
   ]
  },
  {
   "cell_type": "code",
   "execution_count": 13,
   "metadata": {},
   "outputs": [
    {
     "name": "stdout",
     "output_type": "stream",
     "text": [
      "859/859 [==============================] - 2s 3ms/step\n",
      "loss: 0.805, accuracy: 0.586, auc: 0.888, precision: 0.731, recall: 0.466, f1score: 0.162\n"
     ]
    }
   ],
   "source": [
    "_loss, _acc, _auc, _precision, _recall, _f1score = additional_model.evaluate(X_val, y_val, batch_size=32)\n",
    "print('loss: {:.3f}, accuracy: {:.3f}, auc: {:.3f}, precision: {:.3f}, recall: {:.3f}, f1score: {:.3f}'.format(_loss, _acc, _auc, _precision, _recall, _f1score))"
   ]
  },
  {
   "cell_type": "code",
   "execution_count": 14,
   "metadata": {},
   "outputs": [
    {
     "name": "stdout",
     "output_type": "stream",
     "text": [
      "704/704 [==============================] - 2s 3ms/step\n",
      "loss: 7668.446, accuracy: 0.241, auc: 0.887, precision: 0.730, recall: 0.466, f1score: nan\n"
     ]
    }
   ],
   "source": [
    "_loss, _acc, _auc, _precision, _recall, _f1score = additional_model.evaluate(X_test, y_test, batch_size=32)\n",
    "print('loss: {:.3f}, accuracy: {:.3f}, auc: {:.3f}, precision: {:.3f}, recall: {:.3f}, f1score: {:.3f}'.format(_loss, _acc, _auc, _precision, _recall, _f1score))"
   ]
  },
  {
   "cell_type": "code",
   "execution_count": 15,
   "metadata": {},
   "outputs": [],
   "source": [
    "additional_model.save('VGG16_fine tuning_1.h5')"
   ]
  },
  {
   "cell_type": "code",
   "execution_count": null,
   "metadata": {},
   "outputs": [],
   "source": []
  }
 ],
 "metadata": {
  "kernelspec": {
   "display_name": "Python 3",
   "language": "python",
   "name": "python3"
  },
  "language_info": {
   "codemirror_mode": {
    "name": "ipython",
    "version": 3
   },
   "file_extension": ".py",
   "mimetype": "text/x-python",
   "name": "python",
   "nbconvert_exporter": "python",
   "pygments_lexer": "ipython3",
   "version": "3.7.7"
  }
 },
 "nbformat": 4,
 "nbformat_minor": 2
}
