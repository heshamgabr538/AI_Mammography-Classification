{
 "cells": [
  {
   "cell_type": "code",
   "execution_count": 1,
   "metadata": {},
   "outputs": [
    {
     "data": {
      "text/plain": [
       "'C:\\\\Users\\\\Owner2\\\\Desktop\\\\G팔로미_vuno'"
      ]
     },
     "execution_count": 1,
     "metadata": {},
     "output_type": "execute_result"
    }
   ],
   "source": [
    "import os\n",
    "import pandas as pd\n",
    "from matplotlib import pyplot as plt\n",
    "import cv2\n",
    "import numpy as np\n",
    "\n",
    "#data path 수정\n",
    "os.chdir(\"C:\\\\Users\\\\Owner2\\\\Desktop\\\\G팔로미_vuno\")\n",
    "os.getcwd()"
   ]
  },
  {
   "cell_type": "code",
   "execution_count": 2,
   "metadata": {},
   "outputs": [],
   "source": [
    "X=np.load('data_X.npy')\n",
    "y=np.load('data_y.npy')"
   ]
  },
  {
   "cell_type": "code",
   "execution_count": 3,
   "metadata": {},
   "outputs": [],
   "source": [
    "#train, validation set 분리\n",
    "from sklearn.model_selection import train_test_split\n",
    "\n",
    "X_train, X_val, y_train, y_val = train_test_split(X,y,test_size=0.2)"
   ]
  },
  {
   "cell_type": "code",
   "execution_count": 4,
   "metadata": {},
   "outputs": [
    {
     "name": "stderr",
     "output_type": "stream",
     "text": [
      "Using TensorFlow backend.\n"
     ]
    }
   ],
   "source": [
    "from keras.preprocessing.image import ImageDataGenerator\n",
    "\n",
    "datagen = ImageDataGenerator(\n",
    "    #featurewise_center=True, #center 중심 유지\n",
    "    #featurewise_std_normalization=True, #normalization\n",
    "    rotation_range=25.0,\n",
    "    #width_shift_range=0.2,\n",
    "    #height_shift_range=0.2,\n",
    "    #brightness_range=[0.2,1.0],\n",
    "    zoom_range=[0.8,1.2],\n",
    "    horizontal_flip=True) #수평방향 뒤집기\n",
    "\n",
    "datagen.fit(X_train)\n",
    "\n",
    "dgf=datagen.flow(X_train,y_train,batch_size=32)"
   ]
  },
  {
   "cell_type": "code",
   "execution_count": 5,
   "metadata": {},
   "outputs": [
    {
     "name": "stdout",
     "output_type": "stream",
     "text": [
      "Model: \"vgg16\"\n",
      "_________________________________________________________________\n",
      "Layer (type)                 Output Shape              Param #   \n",
      "=================================================================\n",
      "input_1 (InputLayer)         (None, 224, 224, 3)       0         \n",
      "_________________________________________________________________\n",
      "block1_conv1 (Conv2D)        (None, 224, 224, 64)      1792      \n",
      "_________________________________________________________________\n",
      "block1_conv2 (Conv2D)        (None, 224, 224, 64)      36928     \n",
      "_________________________________________________________________\n",
      "block1_pool (MaxPooling2D)   (None, 112, 112, 64)      0         \n",
      "_________________________________________________________________\n",
      "block2_conv1 (Conv2D)        (None, 112, 112, 128)     73856     \n",
      "_________________________________________________________________\n",
      "block2_conv2 (Conv2D)        (None, 112, 112, 128)     147584    \n",
      "_________________________________________________________________\n",
      "block2_pool (MaxPooling2D)   (None, 56, 56, 128)       0         \n",
      "_________________________________________________________________\n",
      "block3_conv1 (Conv2D)        (None, 56, 56, 256)       295168    \n",
      "_________________________________________________________________\n",
      "block3_conv2 (Conv2D)        (None, 56, 56, 256)       590080    \n",
      "_________________________________________________________________\n",
      "block3_conv3 (Conv2D)        (None, 56, 56, 256)       590080    \n",
      "_________________________________________________________________\n",
      "block3_pool (MaxPooling2D)   (None, 28, 28, 256)       0         \n",
      "_________________________________________________________________\n",
      "block4_conv1 (Conv2D)        (None, 28, 28, 512)       1180160   \n",
      "_________________________________________________________________\n",
      "block4_conv2 (Conv2D)        (None, 28, 28, 512)       2359808   \n",
      "_________________________________________________________________\n",
      "block4_conv3 (Conv2D)        (None, 28, 28, 512)       2359808   \n",
      "_________________________________________________________________\n",
      "block4_pool (MaxPooling2D)   (None, 14, 14, 512)       0         \n",
      "_________________________________________________________________\n",
      "block5_conv1 (Conv2D)        (None, 14, 14, 512)       2359808   \n",
      "_________________________________________________________________\n",
      "block5_conv2 (Conv2D)        (None, 14, 14, 512)       2359808   \n",
      "_________________________________________________________________\n",
      "block5_conv3 (Conv2D)        (None, 14, 14, 512)       2359808   \n",
      "_________________________________________________________________\n",
      "block5_pool (MaxPooling2D)   (None, 7, 7, 512)         0         \n",
      "=================================================================\n",
      "Total params: 14,714,688\n",
      "Trainable params: 0\n",
      "Non-trainable params: 14,714,688\n",
      "_________________________________________________________________\n"
     ]
    }
   ],
   "source": [
    "from keras import models, layers\n",
    "from keras import Input\n",
    "from keras.applications import VGG16\n",
    "from keras.models import Model, load_model\n",
    "from keras.preprocessing.image import ImageDataGenerator\n",
    "from keras import optimizers, initializers, regularizers, metrics\n",
    "from keras.callbacks import ModelCheckpoint, EarlyStopping\n",
    "from keras.layers import BatchNormalization, Conv2D, Activation, Dense, GlobalAveragePooling2D, MaxPooling2D, ZeroPadding2D, Add\n",
    "\n",
    "model = VGG16(weights='imagenet', include_top=False, input_shape=(224, 224, 3))\n",
    "model.trainable = False\n",
    "model.summary()"
   ]
  },
  {
   "cell_type": "code",
   "execution_count": 6,
   "metadata": {},
   "outputs": [
    {
     "name": "stdout",
     "output_type": "stream",
     "text": [
      "Model: \"model_1\"\n",
      "_________________________________________________________________\n",
      "Layer (type)                 Output Shape              Param #   \n",
      "=================================================================\n",
      "input_1 (InputLayer)         (None, 224, 224, 3)       0         \n",
      "_________________________________________________________________\n",
      "block1_conv1 (Conv2D)        (None, 224, 224, 64)      1792      \n",
      "_________________________________________________________________\n",
      "block1_conv2 (Conv2D)        (None, 224, 224, 64)      36928     \n",
      "_________________________________________________________________\n",
      "block1_pool (MaxPooling2D)   (None, 112, 112, 64)      0         \n",
      "_________________________________________________________________\n",
      "block2_conv1 (Conv2D)        (None, 112, 112, 128)     73856     \n",
      "_________________________________________________________________\n",
      "block2_conv2 (Conv2D)        (None, 112, 112, 128)     147584    \n",
      "_________________________________________________________________\n",
      "block2_pool (MaxPooling2D)   (None, 56, 56, 128)       0         \n",
      "_________________________________________________________________\n",
      "block3_conv1 (Conv2D)        (None, 56, 56, 256)       295168    \n",
      "_________________________________________________________________\n",
      "block3_conv2 (Conv2D)        (None, 56, 56, 256)       590080    \n",
      "_________________________________________________________________\n",
      "block3_conv3 (Conv2D)        (None, 56, 56, 256)       590080    \n",
      "_________________________________________________________________\n",
      "block3_pool (MaxPooling2D)   (None, 28, 28, 256)       0         \n",
      "_________________________________________________________________\n",
      "block4_conv1 (Conv2D)        (None, 28, 28, 512)       1180160   \n",
      "_________________________________________________________________\n",
      "block4_conv2 (Conv2D)        (None, 28, 28, 512)       2359808   \n",
      "_________________________________________________________________\n",
      "block4_conv3 (Conv2D)        (None, 28, 28, 512)       2359808   \n",
      "_________________________________________________________________\n",
      "block4_pool (MaxPooling2D)   (None, 14, 14, 512)       0         \n",
      "_________________________________________________________________\n",
      "block5_conv1 (Conv2D)        (None, 14, 14, 512)       2359808   \n",
      "_________________________________________________________________\n",
      "block5_conv2 (Conv2D)        (None, 14, 14, 512)       2359808   \n",
      "_________________________________________________________________\n",
      "block5_conv3 (Conv2D)        (None, 14, 14, 512)       2359808   \n",
      "_________________________________________________________________\n",
      "block5_pool (MaxPooling2D)   (None, 7, 7, 512)         0         \n",
      "_________________________________________________________________\n",
      "flatten_1 (Flatten)          (None, 25088)             0         \n",
      "_________________________________________________________________\n",
      "dense_1 (Dense)              (None, 4)                 100356    \n",
      "=================================================================\n",
      "Total params: 14,815,044\n",
      "Trainable params: 100,356\n",
      "Non-trainable params: 14,714,688\n",
      "_________________________________________________________________\n"
     ]
    }
   ],
   "source": [
    "for layer in model.layers:\n",
    "    layer.trainable=False\n",
    "\n",
    "x=model.output\n",
    "x=layers.Flatten()(x)\n",
    "outputs=Dense(4, activation='softmax')(x)\n",
    "\n",
    "additional_model=Model(inputs=model.input, outputs=outputs)\n",
    "\n",
    "additional_model.summary()"
   ]
  },
  {
   "cell_type": "code",
   "execution_count": 7,
   "metadata": {},
   "outputs": [],
   "source": [
    "def f1score(precision, recall):\n",
    "    _f1score = ( 2 * recall * precision) / (recall + precision)\n",
    "    \n",
    "    # return a single tensor value\n",
    "    return _f1score"
   ]
  },
  {
   "cell_type": "code",
   "execution_count": 8,
   "metadata": {},
   "outputs": [],
   "source": [
    "# checkpoint = ModelCheckpoint(filepath='My_VGG_{epoch:03d}_{val_loss:.7f}.hdf5',monitor='loss', mode='min', save_best_only=True)\n",
    "checkpoint = ModelCheckpoint(filepath='VGG16_fine_tuning_그냥.hdf5', \n",
    "            monitor='val_acc',\n",
    "            mode='max', \n",
    "            save_best_only=True)"
   ]
  },
  {
   "cell_type": "code",
   "execution_count": 9,
   "metadata": {},
   "outputs": [],
   "source": [
    "import tensorflow as tf\n",
    "\n",
    "additional_model.compile(loss='categorical_crossentropy', \n",
    "              optimizer=optimizers.Adam(lr=1e-4),\n",
    "              metrics=['acc',tf.keras.metrics.AUC(),\n",
    "                      tf.keras.metrics.Precision(),\n",
    "                      tf.keras.metrics.Recall(),f1score])"
   ]
  },
  {
   "cell_type": "code",
   "execution_count": 10,
   "metadata": {},
   "outputs": [
    {
     "name": "stdout",
     "output_type": "stream",
     "text": [
      "Epoch 1/5\n",
      "43/42 [==============================] - 14s 332ms/step - loss: 1.3663 - acc: 0.2863 - auc: 0.5318 - precision: 0.0000e+00 - recall: 0.0000e+00 - f1score: 0.1030 - val_loss: 1.3757 - val_acc: 0.3149 - val_auc: 0.5673 - val_precision: 0.2500 - val_recall: 5.7872e-04 - val_f1score: 0.1035\n",
      "Epoch 2/5\n",
      "43/42 [==============================] - 11s 256ms/step - loss: 1.2758 - acc: 0.3828 - auc: 0.5977 - precision: 0.4140 - recall: 0.0016 - f1score: 0.1105 - val_loss: 1.2906 - val_acc: 0.3761 - val_auc: 0.6280 - val_precision: 0.5974 - val_recall: 0.0027 - val_f1score: 0.1106\n",
      "Epoch 3/5\n",
      "43/42 [==============================] - 13s 301ms/step - loss: 1.2250 - acc: 0.4456 - auc: 0.6487 - precision: 0.6849 - recall: 0.0052 - f1score: 0.1154 - val_loss: 1.2742 - val_acc: 0.3557 - val_auc: 0.6640 - val_precision: 0.6555 - val_recall: 0.0114 - val_f1score: 0.1127\n",
      "Epoch 4/5\n",
      "43/42 [==============================] - 12s 291ms/step - loss: 1.1742 - acc: 0.4748 - auc: 0.6783 - precision: 0.6511 - recall: 0.0185 - f1score: 0.1206 - val_loss: 1.2022 - val_acc: 0.4402 - val_auc: 0.6895 - val_precision: 0.6929 - val_recall: 0.0243 - val_f1score: 0.1187\n",
      "Epoch 5/5\n",
      "43/42 [==============================] - 12s 289ms/step - loss: 1.1503 - acc: 0.4850 - auc: 0.6993 - precision: 0.7115 - recall: 0.0323 - f1score: 0.1232 - val_loss: 1.1863 - val_acc: 0.4577 - val_auc: 0.7074 - val_precision: 0.7197 - val_recall: 0.0395 - val_f1score: 0.1206\n"
     ]
    }
   ],
   "source": [
    "history = additional_model.fit_generator(dgf, \n",
    "            steps_per_epoch=len(X_train)/32, \n",
    "            epochs=5, \n",
    "            validation_data=(X_val,y_val), \n",
    "            validation_steps=len(X_val)/32, \n",
    "            callbacks=[checkpoint])"
   ]
  },
  {
   "cell_type": "code",
   "execution_count": 11,
   "metadata": {},
   "outputs": [],
   "source": [
    "for layer in additional_model.layers[:11]:\n",
    "    layer.trainable=False\n",
    "\n",
    "for layer in additional_model.layers[11:]:\n",
    "    layer.trainable=True"
   ]
  },
  {
   "cell_type": "code",
   "execution_count": 12,
   "metadata": {},
   "outputs": [
    {
     "name": "stdout",
     "output_type": "stream",
     "text": [
      "<keras.engine.input_layer.InputLayer object at 0x000001B72367CF88> False\n",
      "<keras.layers.convolutional.Conv2D object at 0x000001B723683948> False\n",
      "<keras.layers.convolutional.Conv2D object at 0x000001B723683A08> False\n",
      "<keras.layers.pooling.MaxPooling2D object at 0x000001B75A9C5808> False\n",
      "<keras.layers.convolutional.Conv2D object at 0x000001B75A9C5BC8> False\n",
      "<keras.layers.convolutional.Conv2D object at 0x000001B75A9D4B08> False\n",
      "<keras.layers.pooling.MaxPooling2D object at 0x000001B75A9D4788> False\n",
      "<keras.layers.convolutional.Conv2D object at 0x000001B75A9D85C8> False\n",
      "<keras.layers.convolutional.Conv2D object at 0x000001B75A9E4788> False\n",
      "<keras.layers.convolutional.Conv2D object at 0x000001B75A9E7E88> False\n",
      "<keras.layers.pooling.MaxPooling2D object at 0x000001B75A9EE688> False\n",
      "<keras.layers.convolutional.Conv2D object at 0x000001B75AC23408> True\n",
      "<keras.layers.convolutional.Conv2D object at 0x000001B75AC2AD08> True\n",
      "<keras.layers.convolutional.Conv2D object at 0x000001B75AC2CAC8> True\n",
      "<keras.layers.pooling.MaxPooling2D object at 0x000001B75AC36E08> True\n",
      "<keras.layers.convolutional.Conv2D object at 0x000001B75AC3B6C8> True\n",
      "<keras.layers.convolutional.Conv2D object at 0x000001B75AC3DFC8> True\n",
      "<keras.layers.convolutional.Conv2D object at 0x000001B75AC4A148> True\n",
      "<keras.layers.pooling.MaxPooling2D object at 0x000001B75AC4FA48> True\n",
      "<keras.layers.core.Flatten object at 0x000001B75AC81E88> True\n",
      "<keras.layers.core.Dense object at 0x000001B75AC81F08> True\n",
      "Model: \"model_1\"\n",
      "_________________________________________________________________\n",
      "Layer (type)                 Output Shape              Param #   \n",
      "=================================================================\n",
      "input_1 (InputLayer)         (None, 224, 224, 3)       0         \n",
      "_________________________________________________________________\n",
      "block1_conv1 (Conv2D)        (None, 224, 224, 64)      1792      \n",
      "_________________________________________________________________\n",
      "block1_conv2 (Conv2D)        (None, 224, 224, 64)      36928     \n",
      "_________________________________________________________________\n",
      "block1_pool (MaxPooling2D)   (None, 112, 112, 64)      0         \n",
      "_________________________________________________________________\n",
      "block2_conv1 (Conv2D)        (None, 112, 112, 128)     73856     \n",
      "_________________________________________________________________\n",
      "block2_conv2 (Conv2D)        (None, 112, 112, 128)     147584    \n",
      "_________________________________________________________________\n",
      "block2_pool (MaxPooling2D)   (None, 56, 56, 128)       0         \n",
      "_________________________________________________________________\n",
      "block3_conv1 (Conv2D)        (None, 56, 56, 256)       295168    \n",
      "_________________________________________________________________\n",
      "block3_conv2 (Conv2D)        (None, 56, 56, 256)       590080    \n",
      "_________________________________________________________________\n",
      "block3_conv3 (Conv2D)        (None, 56, 56, 256)       590080    \n",
      "_________________________________________________________________\n",
      "block3_pool (MaxPooling2D)   (None, 28, 28, 256)       0         \n",
      "_________________________________________________________________\n",
      "block4_conv1 (Conv2D)        (None, 28, 28, 512)       1180160   \n",
      "_________________________________________________________________\n",
      "block4_conv2 (Conv2D)        (None, 28, 28, 512)       2359808   \n",
      "_________________________________________________________________\n",
      "block4_conv3 (Conv2D)        (None, 28, 28, 512)       2359808   \n",
      "_________________________________________________________________\n",
      "block4_pool (MaxPooling2D)   (None, 14, 14, 512)       0         \n",
      "_________________________________________________________________\n",
      "block5_conv1 (Conv2D)        (None, 14, 14, 512)       2359808   \n",
      "_________________________________________________________________\n",
      "block5_conv2 (Conv2D)        (None, 14, 14, 512)       2359808   \n",
      "_________________________________________________________________\n",
      "block5_conv3 (Conv2D)        (None, 14, 14, 512)       2359808   \n",
      "_________________________________________________________________\n",
      "block5_pool (MaxPooling2D)   (None, 7, 7, 512)         0         \n",
      "_________________________________________________________________\n",
      "flatten_1 (Flatten)          (None, 25088)             0         \n",
      "_________________________________________________________________\n",
      "dense_1 (Dense)              (None, 4)                 100356    \n",
      "=================================================================\n",
      "Total params: 1,835,844\n",
      "Trainable params: 100,356\n",
      "Non-trainable params: 1,735,488\n",
      "_________________________________________________________________\n"
     ]
    },
    {
     "name": "stderr",
     "output_type": "stream",
     "text": [
      "C:\\Users\\Owner2\\Anaconda3\\envs\\keras2\\lib\\site-packages\\keras\\engine\\training.py:297: UserWarning: Discrepancy between trainable weights and collected trainable weights, did you set `model.trainable` without calling `model.compile` after ?\n",
      "  'Discrepancy between trainable weights and collected trainable'\n"
     ]
    }
   ],
   "source": [
    "for layer in additional_model.layers:\n",
    "    print(layer, layer.trainable)\n",
    "    \n",
    "additional_model.summary()"
   ]
  },
  {
   "cell_type": "code",
   "execution_count": 13,
   "metadata": {},
   "outputs": [],
   "source": [
    "import tensorflow as tf\n",
    "\n",
    "additional_model.compile(loss='categorical_crossentropy', \n",
    "              optimizer=optimizers.Adam(lr=1e-5),\n",
    "              metrics=['acc',tf.keras.metrics.AUC(),\n",
    "                      tf.keras.metrics.Precision(),\n",
    "                      tf.keras.metrics.Recall(),f1score])"
   ]
  },
  {
   "cell_type": "code",
   "execution_count": 14,
   "metadata": {},
   "outputs": [
    {
     "name": "stdout",
     "output_type": "stream",
     "text": [
      "Epoch 1/10\n",
      "43/42 [==============================] - 13s 309ms/step - loss: 1.0280 - acc: 0.5457 - auc_1: 0.8011 - precision_1: 0.6851 - recall_1: 0.2326 - f1score: 0.1383 - val_loss: 1.0015 - val_acc: 0.5423 - val_auc_1: 0.8103 - val_precision_1: 0.6880 - val_recall_1: 0.3036 - val_f1score: 0.1414\n",
      "Epoch 2/10\n",
      "43/42 [==============================] - 12s 279ms/step - loss: 0.9275 - acc: 0.5851 - auc_1: 0.8200 - precision_1: 0.6826 - recall_1: 0.3335 - f1score: 0.1496 - val_loss: 1.0902 - val_acc: 0.5219 - val_auc_1: 0.8248 - val_precision_1: 0.6838 - val_recall_1: 0.3662 - val_f1score: 0.1400\n",
      "Epoch 3/10\n",
      "43/42 [==============================] - 12s 290ms/step - loss: 0.8814 - acc: 0.6012 - auc_1: 0.8287 - precision_1: 0.6798 - recall_1: 0.3811 - f1score: 0.1544 - val_loss: 0.9788 - val_acc: 0.5190 - val_auc_1: 0.8333 - val_precision_1: 0.6777 - val_recall_1: 0.3955 - val_f1score: 0.1464\n",
      "Epoch 4/10\n",
      "43/42 [==============================] - 12s 289ms/step - loss: 0.8745 - acc: 0.6172 - auc_1: 0.8370 - precision_1: 0.6786 - recall_1: 0.4058 - f1score: 0.1563 - val_loss: 1.0179 - val_acc: 0.5569 - val_auc_1: 0.8386 - val_precision_1: 0.6768 - val_recall_1: 0.4163 - val_f1score: 0.1465\n",
      "Epoch 5/10\n",
      "43/42 [==============================] - 12s 281ms/step - loss: 0.8490 - acc: 0.6216 - auc_1: 0.8410 - precision_1: 0.6758 - recall_1: 0.4242 - f1score: 0.1586 - val_loss: 0.9637 - val_acc: 0.5569 - val_auc_1: 0.8434 - val_precision_1: 0.6769 - val_recall_1: 0.4319 - val_f1score: 0.1494\n",
      "Epoch 6/10\n",
      "43/42 [==============================] - 12s 284ms/step - loss: 0.8018 - acc: 0.6362 - auc_1: 0.8469 - precision_1: 0.6794 - recall_1: 0.4407 - f1score: 0.1628 - val_loss: 1.0262 - val_acc: 0.5277 - val_auc_1: 0.8486 - val_precision_1: 0.6790 - val_recall_1: 0.4467 - val_f1score: 0.1475\n",
      "Epoch 7/10\n",
      "43/42 [==============================] - 12s 283ms/step - loss: 0.7830 - acc: 0.6501 - auc_1: 0.8515 - precision_1: 0.6812 - recall_1: 0.4550 - f1score: 0.1660 - val_loss: 0.9709 - val_acc: 0.5160 - val_auc_1: 0.8530 - val_precision_1: 0.6808 - val_recall_1: 0.4606 - val_f1score: 0.1497\n",
      "Epoch 8/10\n",
      "43/42 [==============================] - 12s 284ms/step - loss: 0.7753 - acc: 0.6749 - auc_1: 0.8551 - precision_1: 0.6818 - recall_1: 0.4653 - f1score: 0.1663 - val_loss: 0.9991 - val_acc: 0.5277 - val_auc_1: 0.8565 - val_precision_1: 0.6825 - val_recall_1: 0.4697 - val_f1score: 0.1490\n",
      "Epoch 9/10\n",
      "43/42 [==============================] - 12s 283ms/step - loss: 0.7400 - acc: 0.6749 - auc_1: 0.8587 - precision_1: 0.6846 - recall_1: 0.4757 - f1score: 0.1698 - val_loss: 0.9788 - val_acc: 0.5364 - val_auc_1: 0.8603 - val_precision_1: 0.6863 - val_recall_1: 0.4804 - val_f1score: 0.1512\n",
      "Epoch 10/10\n",
      "43/42 [==============================] - 12s 282ms/step - loss: 0.7343 - acc: 0.6866 - auc_1: 0.8621 - precision_1: 0.6880 - recall_1: 0.4855 - f1score: 0.1706 - val_loss: 1.0036 - val_acc: 0.5335 - val_auc_1: 0.8634 - val_precision_1: 0.6891 - val_recall_1: 0.4895 - val_f1score: 0.1503\n"
     ]
    }
   ],
   "source": [
    "history = additional_model.fit_generator(dgf, \n",
    "            steps_per_epoch=len(X_train)/32, \n",
    "            epochs=10, \n",
    "            validation_data=(X_val,y_val), \n",
    "            validation_steps=len(X_val)/32, \n",
    "            callbacks=[checkpoint])"
   ]
  },
  {
   "cell_type": "code",
   "execution_count": 15,
   "metadata": {},
   "outputs": [
    {
     "data": {
      "image/png": "[encoded data removed]",
      "text/plain": [
       "<Figure size 432x288 with 1 Axes>"
      ]
     },
     "metadata": {
      "needs_background": "light"
     },
     "output_type": "display_data"
    },
    {
     "data": {
      "image/png": "[encoded data removed]",
      "text/plain": [
       "<Figure size 432x288 with 1 Axes>"
      ]
     },
     "metadata": {
      "needs_background": "light"
     },
     "output_type": "display_data"
    }
   ],
   "source": [
    "acc = history.history['acc']\n",
    "val_acc = history.history['val_acc']\n",
    "loss = history.history['loss']\n",
    "val_loss = history.history['val_loss']\n",
    " \n",
    "epochs = range(1, len(acc) + 1)\n",
    " \n",
    "plt.plot(epochs, acc, 'bo', label='Training acc')\n",
    "plt.plot(epochs, val_acc, 'r', label='Validation acc')\n",
    "plt.title('Accuracy')\n",
    "plt.legend()\n",
    "plt.figure()\n",
    " \n",
    "plt.plot(epochs, loss, 'bo', label='Training loss')\n",
    "plt.plot(epochs, val_loss, 'r', label='Validation loss')\n",
    "plt.title('Loss')\n",
    "plt.legend()\n",
    " \n",
    "plt.show()"
   ]
  },
  {
   "cell_type": "code",
   "execution_count": 16,
   "metadata": {},
   "outputs": [],
   "source": [
    "for layer in additional_model.layers:\n",
    "    layer.trainable=True"
   ]
  },
  {
   "cell_type": "code",
   "execution_count": 17,
   "metadata": {},
   "outputs": [
    {
     "name": "stdout",
     "output_type": "stream",
     "text": [
      "Epoch 1/37\n",
      "43/42 [==============================] - 13s 309ms/step - loss: 0.6961 - acc: 0.7005 - auc: 0.9175 - precision_2: 0.7627 - recall_2: 0.6254 - f1score: 0.1741 - val_loss: 0.9550 - val_acc: 0.5598 - val_auc: 0.9049 - val_precision_2: 0.7377 - val_recall_2: 0.6041 - val_f1score: 0.1537\n",
      "Epoch 2/37\n",
      "43/42 [==============================] - 12s 278ms/step - loss: 0.6859 - acc: 0.7100 - auc: 0.9054 - precision_2: 0.7374 - recall_2: 0.6052 - f1score: 0.1750 - val_loss: 0.9468 - val_acc: 0.5423 - val_auc: 0.9037 - val_precision_2: 0.7353 - val_recall_2: 0.5995 - val_f1score: 0.1538\n",
      "Epoch 3/37\n",
      "43/42 [==============================] - 12s 284ms/step - loss: 0.6583 - acc: 0.7290 - auc: 0.9057 - precision_2: 0.7396 - recall_2: 0.6036 - f1score: 0.1774 - val_loss: 0.9488 - val_acc: 0.5539 - val_auc: 0.9055 - val_precision_2: 0.7386 - val_recall_2: 0.6030 - val_f1score: 0.1542\n",
      "Epoch 4/37\n",
      "43/42 [==============================] - 12s 289ms/step - loss: 0.6750 - acc: 0.7180 - auc: 0.9057 - precision_2: 0.7372 - recall_2: 0.6046 - f1score: 0.1762 - val_loss: 0.9424 - val_acc: 0.5743 - val_auc: 0.9052 - val_precision_2: 0.7355 - val_recall_2: 0.6043 - val_f1score: 0.1546\n",
      "Epoch 5/37\n",
      "43/42 [==============================] - 12s 287ms/step - loss: 0.6650 - acc: 0.7129 - auc: 0.9059 - precision_2: 0.7366 - recall_2: 0.6062 - f1score: 0.1771 - val_loss: 0.9513 - val_acc: 0.5569 - val_auc: 0.9054 - val_precision_2: 0.7351 - val_recall_2: 0.6049 - val_f1score: 0.1542\n",
      "Epoch 6/37\n",
      "43/42 [==============================] - 12s 284ms/step - loss: 0.6657 - acc: 0.7253 - auc: 0.9066 - precision_2: 0.7376 - recall_2: 0.6088 - f1score: 0.1776 - val_loss: 0.9714 - val_acc: 0.5539 - val_auc: 0.9056 - val_precision_2: 0.7359 - val_recall_2: 0.6078 - val_f1score: 0.1535\n",
      "Epoch 7/37\n",
      "43/42 [==============================] - 12s 285ms/step - loss: 0.6605 - acc: 0.7305 - auc: 0.9061 - precision_2: 0.7369 - recall_2: 0.6096 - f1score: 0.1776 - val_loss: 0.9606 - val_acc: 0.5685 - val_auc: 0.9058 - val_precision_2: 0.7364 - val_recall_2: 0.6099 - val_f1score: 0.1541\n",
      "Epoch 8/37\n",
      "43/42 [==============================] - 12s 284ms/step - loss: 0.6510 - acc: 0.7334 - auc: 0.9064 - precision_2: 0.7377 - recall_2: 0.6115 - f1score: 0.1789 - val_loss: 0.9817 - val_acc: 0.5452 - val_auc: 0.9063 - val_precision_2: 0.7380 - val_recall_2: 0.6119 - val_f1score: 0.1528\n",
      "Epoch 9/37\n",
      "43/42 [==============================] - 12s 283ms/step - loss: 0.6477 - acc: 0.7341 - auc: 0.9066 - precision_2: 0.7387 - recall_2: 0.6131 - f1score: 0.1791 - val_loss: 0.9768 - val_acc: 0.5394 - val_auc: 0.9065 - val_precision_2: 0.7382 - val_recall_2: 0.6134 - val_f1score: 0.1535\n",
      "Epoch 10/37\n",
      "43/42 [==============================] - 12s 287ms/step - loss: 0.6562 - acc: 0.7275 - auc: 0.9069 - precision_2: 0.7384 - recall_2: 0.6141 - f1score: 0.1783 - val_loss: 0.9539 - val_acc: 0.5569 - val_auc: 0.9066 - val_precision_2: 0.7378 - val_recall_2: 0.6144 - val_f1score: 0.1548\n",
      "Epoch 11/37\n",
      "43/42 [==============================] - 12s 285ms/step - loss: 0.6403 - acc: 0.7348 - auc: 0.9072 - precision_2: 0.7392 - recall_2: 0.6166 - f1score: 0.1803 - val_loss: 0.9802 - val_acc: 0.5452 - val_auc: 0.9070 - val_precision_2: 0.7386 - val_recall_2: 0.6165 - val_f1score: 0.1534\n",
      "Epoch 12/37\n",
      "43/42 [==============================] - 12s 283ms/step - loss: 0.6593 - acc: 0.7093 - auc: 0.9072 - precision_2: 0.7380 - recall_2: 0.6166 - f1score: 0.1785 - val_loss: 0.9712 - val_acc: 0.5656 - val_auc: 0.9070 - val_precision_2: 0.7368 - val_recall_2: 0.6163 - val_f1score: 0.1543\n",
      "Epoch 13/37\n",
      "43/42 [==============================] - 12s 283ms/step - loss: 0.6573 - acc: 0.7246 - auc: 0.9071 - precision_2: 0.7371 - recall_2: 0.6172 - f1score: 0.1780 - val_loss: 0.9672 - val_acc: 0.5569 - val_auc: 0.9069 - val_precision_2: 0.7367 - val_recall_2: 0.6171 - val_f1score: 0.1541\n",
      "Epoch 14/37\n",
      "43/42 [==============================] - 12s 288ms/step - loss: 0.6414 - acc: 0.7356 - auc: 0.9071 - precision_2: 0.7371 - recall_2: 0.6178 - f1score: 0.1804 - val_loss: 0.9796 - val_acc: 0.5627 - val_auc: 0.9072 - val_precision_2: 0.7375 - val_recall_2: 0.6184 - val_f1score: 0.1539\n",
      "Epoch 15/37\n",
      "43/42 [==============================] - 12s 288ms/step - loss: 0.6419 - acc: 0.7217 - auc: 0.9075 - precision_2: 0.7379 - recall_2: 0.6189 - f1score: 0.1801 - val_loss: 0.9702 - val_acc: 0.5539 - val_auc: 0.9074 - val_precision_2: 0.7376 - val_recall_2: 0.6188 - val_f1score: 0.1545\n",
      "Epoch 16/37\n",
      "43/42 [==============================] - 12s 288ms/step - loss: 0.6381 - acc: 0.7305 - auc: 0.9078 - precision_2: 0.7379 - recall_2: 0.6195 - f1score: 0.1800 - val_loss: 0.9770 - val_acc: 0.5569 - val_auc: 0.9077 - val_precision_2: 0.7376 - val_recall_2: 0.6194 - val_f1score: 0.1542\n",
      "Epoch 17/37\n",
      "43/42 [==============================] - 12s 286ms/step - loss: 0.6414 - acc: 0.7334 - auc: 0.9079 - precision_2: 0.7382 - recall_2: 0.6204 - f1score: 0.1802 - val_loss: 0.9643 - val_acc: 0.5685 - val_auc: 0.9078 - val_precision_2: 0.7381 - val_recall_2: 0.6205 - val_f1score: 0.1550\n",
      "Epoch 18/37\n",
      "43/42 [==============================] - 12s 287ms/step - loss: 0.6369 - acc: 0.7319 - auc: 0.9081 - precision_2: 0.7387 - recall_2: 0.6212 - f1score: 0.1802 - val_loss: 1.0223 - val_acc: 0.5423 - val_auc: 0.9080 - val_precision_2: 0.7386 - val_recall_2: 0.6210 - val_f1score: 0.1524\n",
      "Epoch 19/37\n",
      "43/42 [==============================] - 12s 289ms/step - loss: 0.6220 - acc: 0.7305 - auc: 0.9082 - precision_2: 0.7392 - recall_2: 0.6218 - f1score: 0.1820 - val_loss: 0.9769 - val_acc: 0.5481 - val_auc: 0.9083 - val_precision_2: 0.7391 - val_recall_2: 0.6218 - val_f1score: 0.1544\n",
      "Epoch 20/37\n",
      "43/42 [==============================] - 12s 288ms/step - loss: 0.6264 - acc: 0.7538 - auc: 0.9085 - precision_2: 0.7398 - recall_2: 0.6227 - f1score: 0.1817 - val_loss: 0.9892 - val_acc: 0.5481 - val_auc: 0.9085 - val_precision_2: 0.7398 - val_recall_2: 0.6231 - val_f1score: 0.1538\n",
      "Epoch 21/37\n",
      "43/42 [==============================] - 12s 287ms/step - loss: 0.6375 - acc: 0.7261 - auc: 0.9086 - precision_2: 0.7395 - recall_2: 0.6233 - f1score: 0.1808 - val_loss: 0.9718 - val_acc: 0.5481 - val_auc: 0.9086 - val_precision_2: 0.7392 - val_recall_2: 0.6234 - val_f1score: 0.1550\n",
      "Epoch 22/37\n",
      "43/42 [==============================] - 12s 286ms/step - loss: 0.6213 - acc: 0.7378 - auc: 0.9089 - precision_2: 0.7397 - recall_2: 0.6242 - f1score: 0.1820 - val_loss: 0.9841 - val_acc: 0.5481 - val_auc: 0.9089 - val_precision_2: 0.7395 - val_recall_2: 0.6241 - val_f1score: 0.1545\n",
      "Epoch 23/37\n",
      "43/42 [==============================] - 12s 287ms/step - loss: 0.6109 - acc: 0.7473 - auc: 0.9092 - precision_2: 0.7400 - recall_2: 0.6250 - f1score: 0.1829 - val_loss: 0.9774 - val_acc: 0.5510 - val_auc: 0.9092 - val_precision_2: 0.7400 - val_recall_2: 0.6252 - val_f1score: 0.1552\n",
      "Epoch 24/37\n",
      "43/42 [==============================] - 12s 288ms/step - loss: 0.6086 - acc: 0.7400 - auc: 0.9095 - precision_2: 0.7403 - recall_2: 0.6259 - f1score: 0.1837 - val_loss: 1.0014 - val_acc: 0.5481 - val_auc: 0.9095 - val_precision_2: 0.7404 - val_recall_2: 0.6262 - val_f1score: 0.1535\n",
      "Epoch 25/37\n",
      "43/42 [==============================] - 12s 289ms/step - loss: 0.6261 - acc: 0.7370 - auc: 0.9097 - precision_2: 0.7406 - recall_2: 0.6267 - f1score: 0.1820 - val_loss: 0.9964 - val_acc: 0.5452 - val_auc: 0.9096 - val_precision_2: 0.7404 - val_recall_2: 0.6267 - val_f1score: 0.1538\n",
      "Epoch 26/37\n",
      "43/42 [==============================] - 12s 287ms/step - loss: 0.6119 - acc: 0.7458 - auc: 0.9099 - precision_2: 0.7408 - recall_2: 0.6273 - f1score: 0.1830 - val_loss: 0.9912 - val_acc: 0.5423 - val_auc: 0.9099 - val_precision_2: 0.7406 - val_recall_2: 0.6274 - val_f1score: 0.1541\n",
      "Epoch 27/37\n",
      "43/42 [==============================] - 12s 288ms/step - loss: 0.5977 - acc: 0.7568 - auc: 0.9102 - precision_2: 0.7411 - recall_2: 0.6281 - f1score: 0.1845 - val_loss: 1.0055 - val_acc: 0.5394 - val_auc: 0.9102 - val_precision_2: 0.7410 - val_recall_2: 0.6282 - val_f1score: 0.1535\n",
      "Epoch 28/37\n",
      "43/42 [==============================] - 12s 287ms/step - loss: 0.6076 - acc: 0.7516 - auc: 0.9104 - precision_2: 0.7414 - recall_2: 0.6290 - f1score: 0.1835 - val_loss: 0.9988 - val_acc: 0.5364 - val_auc: 0.9104 - val_precision_2: 0.7414 - val_recall_2: 0.6291 - val_f1score: 0.1540\n"
     ]
    },
    {
     "name": "stdout",
     "output_type": "stream",
     "text": [
      "Epoch 29/37\n",
      "43/42 [==============================] - 12s 286ms/step - loss: 0.6150 - acc: 0.7341 - auc: 0.9105 - precision_2: 0.7416 - recall_2: 0.6297 - f1score: 0.1833 - val_loss: 1.0076 - val_acc: 0.5510 - val_auc: 0.9105 - val_precision_2: 0.7414 - val_recall_2: 0.6298 - val_f1score: 0.1536\n",
      "Epoch 30/37\n",
      "43/42 [==============================] - 12s 286ms/step - loss: 0.6089 - acc: 0.7473 - auc: 0.9107 - precision_2: 0.7418 - recall_2: 0.6303 - f1score: 0.1837 - val_loss: 1.0068 - val_acc: 0.5510 - val_auc: 0.9107 - val_precision_2: 0.7417 - val_recall_2: 0.6305 - val_f1score: 0.1545\n",
      "Epoch 31/37\n",
      "43/42 [==============================] - 13s 301ms/step - loss: 0.5985 - acc: 0.7495 - auc: 0.9108 - precision_2: 0.7418 - recall_2: 0.6309 - f1score: 0.1844 - val_loss: 1.0021 - val_acc: 0.5364 - val_auc: 0.9109 - val_precision_2: 0.7417 - val_recall_2: 0.6311 - val_f1score: 0.1537\n",
      "Epoch 32/37\n",
      "43/42 [==============================] - 13s 295ms/step - loss: 0.5958 - acc: 0.7560 - auc: 0.9110 - precision_2: 0.7420 - recall_2: 0.6318 - f1score: 0.1850 - val_loss: 0.9995 - val_acc: 0.5452 - val_auc: 0.9111 - val_precision_2: 0.7419 - val_recall_2: 0.6321 - val_f1score: 0.1541\n",
      "Epoch 33/37\n",
      "43/42 [==============================] - 13s 294ms/step - loss: 0.6122 - acc: 0.7407 - auc: 0.9112 - precision_2: 0.7420 - recall_2: 0.6324 - f1score: 0.1833 - val_loss: 1.0309 - val_acc: 0.5423 - val_auc: 0.9112 - val_precision_2: 0.7419 - val_recall_2: 0.6324 - val_f1score: 0.1528\n",
      "Epoch 34/37\n",
      "43/42 [==============================] - 12s 284ms/step - loss: 0.5973 - acc: 0.7480 - auc: 0.9113 - precision_2: 0.7422 - recall_2: 0.6328 - f1score: 0.1845 - val_loss: 0.9981 - val_acc: 0.5481 - val_auc: 0.9113 - val_precision_2: 0.7421 - val_recall_2: 0.6329 - val_f1score: 0.1550\n",
      "Epoch 35/37\n",
      "43/42 [==============================] - 12s 282ms/step - loss: 0.5836 - acc: 0.7553 - auc: 0.9116 - precision_2: 0.7424 - recall_2: 0.6336 - f1score: 0.1863 - val_loss: 1.0139 - val_acc: 0.5481 - val_auc: 0.9116 - val_precision_2: 0.7423 - val_recall_2: 0.6338 - val_f1score: 0.1543\n",
      "Epoch 36/37\n",
      "43/42 [==============================] - 12s 284ms/step - loss: 0.5986 - acc: 0.7443 - auc: 0.9118 - precision_2: 0.7425 - recall_2: 0.6343 - f1score: 0.1848 - val_loss: 1.0337 - val_acc: 0.5423 - val_auc: 0.9118 - val_precision_2: 0.7422 - val_recall_2: 0.6342 - val_f1score: 0.1532\n",
      "Epoch 37/37\n",
      "43/42 [==============================] - 12s 285ms/step - loss: 0.5928 - acc: 0.7626 - auc: 0.9119 - precision_2: 0.7426 - recall_2: 0.6349 - f1score: 0.1857 - val_loss: 1.0113 - val_acc: 0.5481 - val_auc: 0.9119 - val_precision_2: 0.7425 - val_recall_2: 0.6350 - val_f1score: 0.1541\n"
     ]
    }
   ],
   "source": [
    "import tensorflow as tf\n",
    "\n",
    "additional_model.compile(loss='categorical_crossentropy', \n",
    "              optimizer=optimizers.Adam(lr=1e-6),\n",
    "              metrics=['acc',tf.keras.metrics.AUC(name='auc'),\n",
    "                      tf.keras.metrics.Precision(),\n",
    "                      tf.keras.metrics.Recall(),f1score])\n",
    "\n",
    "history = additional_model.fit_generator(dgf, \n",
    "            steps_per_epoch=len(X_train)/32, \n",
    "            epochs=37, \n",
    "            validation_data=(X_val,y_val), \n",
    "            validation_steps=len(X_val)/32, \n",
    "            callbacks=[checkpoint])"
   ]
  },
  {
   "cell_type": "code",
   "execution_count": 18,
   "metadata": {},
   "outputs": [
    {
     "data": {
      "image/png": "[encoded data removed]",
      "text/plain": [
       "<Figure size 432x288 with 1 Axes>"
      ]
     },
     "metadata": {
      "needs_background": "light"
     },
     "output_type": "display_data"
    },
    {
     "data": {
      "image/png": "[encoded data removed]",
      "text/plain": [
       "<Figure size 432x288 with 1 Axes>"
      ]
     },
     "metadata": {
      "needs_background": "light"
     },
     "output_type": "display_data"
    }
   ],
   "source": [
    "acc = history.history['acc']\n",
    "val_acc = history.history['val_acc']\n",
    "loss = history.history['loss']\n",
    "val_loss = history.history['val_loss']\n",
    " \n",
    "epochs = range(1, len(acc) + 1)\n",
    " \n",
    "plt.plot(epochs, acc, 'bo', label='Training acc')\n",
    "plt.plot(epochs, val_acc, 'r', label='Validation acc')\n",
    "plt.title('Accuracy')\n",
    "plt.legend()\n",
    "plt.figure()\n",
    " \n",
    "plt.plot(epochs, loss, 'bo', label='Training loss')\n",
    "plt.plot(epochs, val_loss, 'r', label='Validation loss')\n",
    "plt.title('Loss')\n",
    "plt.legend()\n",
    " \n",
    "plt.show()"
   ]
  },
  {
   "cell_type": "code",
   "execution_count": 19,
   "metadata": {},
   "outputs": [
    {
     "name": "stdout",
     "output_type": "stream",
     "text": [
      "343/343 [==============================] - 1s 3ms/step\n",
      "loss: 1.011, accuracy: 0.548, auc: 0.912, precision: 0.742, recall: 0.634, f1score: 0.154\n"
     ]
    }
   ],
   "source": [
    "_loss, _acc, _auc, _precision, _recall, _f1score = additional_model.evaluate(X_val, y_val, batch_size=32)\n",
    "print('loss: {:.3f}, accuracy: {:.3f}, auc: {:.3f}, precision: {:.3f}, recall: {:.3f}, f1score: {:.3f}'.format(_loss, _acc, _auc, _precision, _recall, _f1score))"
   ]
  },
  {
   "cell_type": "code",
   "execution_count": 20,
   "metadata": {},
   "outputs": [
    {
     "data": {
      "text/plain": [
       "0.8376713656493868"
      ]
     },
     "execution_count": 20,
     "metadata": {},
     "output_type": "execute_result"
    }
   ],
   "source": [
    "from sklearn.metrics import roc_auc_score\n",
    "\n",
    "y_pred = additional_model.predict(X_val)\n",
    "roc_auc_score(y_val, y_pred)"
   ]
  },
  {
   "cell_type": "code",
   "execution_count": 21,
   "metadata": {},
   "outputs": [],
   "source": [
    "import tensorflow as tf\n",
    "\n",
    "new_model = models.load_model('VGG16_fine_tuning_그냥.hdf5',compile=False)\n",
    "\n",
    "new_model.compile(loss='categorical_crossentropy', \n",
    "              optimizer=optimizers.Adam(lr=1e-4),\n",
    "              metrics=['acc',tf.keras.metrics.AUC(),\n",
    "                      tf.keras.metrics.Precision(),\n",
    "                      tf.keras.metrics.Recall(),f1score])"
   ]
  },
  {
   "cell_type": "code",
   "execution_count": 22,
   "metadata": {},
   "outputs": [
    {
     "name": "stdout",
     "output_type": "stream",
     "text": [
      "343/343 [==============================] - 1s 3ms/step\n",
      "loss: 0.942, accuracy: 0.574, auc: 0.820, precision: 0.559, recall: 0.431, f1score: 0.155\n"
     ]
    }
   ],
   "source": [
    "_loss, _acc, _auc, _precision, _recall, _f1score =new_model.evaluate(X_val, y_val, batch_size=32)\n",
    "print('loss: {:.3f}, accuracy: {:.3f}, auc: {:.3f}, precision: {:.3f}, recall: {:.3f}, f1score: {:.3f}'.format(_loss, _acc, _auc, _precision, _recall, _f1score))"
   ]
  },
  {
   "cell_type": "code",
   "execution_count": 23,
   "metadata": {},
   "outputs": [],
   "source": [
    "X_test=np.load('X_val.npy')\n",
    "y_test=np.load('y_val.npy')"
   ]
  },
  {
   "cell_type": "code",
   "execution_count": 25,
   "metadata": {},
   "outputs": [
    {
     "name": "stdout",
     "output_type": "stream",
     "text": [
      "571/571 [==============================] - 2s 3ms/step\n",
      "loss: 0.831, accuracy: 0.620, auc: 0.863, precision: 0.649, recall: 0.543, f1score: 0.164\n"
     ]
    }
   ],
   "source": [
    "_loss, _acc, _auc, _precision, _recall, _f1score =new_model.evaluate(X_test, y_test, batch_size=32)\n",
    "print('loss: {:.3f}, accuracy: {:.3f}, auc: {:.3f}, precision: {:.3f}, recall: {:.3f}, f1score: {:.3f}'.format(_loss, _acc, _auc, _precision, _recall, _f1score))"
   ]
  },
  {
   "cell_type": "code",
   "execution_count": null,
   "metadata": {},
   "outputs": [],
   "source": []
  }
 ],
 "metadata": {
  "kernelspec": {
   "display_name": "Python 3",
   "language": "python",
   "name": "python3"
  },
  "language_info": {
   "codemirror_mode": {
    "name": "ipython",
    "version": 3
   },
   "file_extension": ".py",
   "mimetype": "text/x-python",
   "name": "python",
   "nbconvert_exporter": "python",
   "pygments_lexer": "ipython3",
   "version": "3.7.7"
  }
 },
 "nbformat": 4,
 "nbformat_minor": 2
}
