{
 "cells": [
  {
   "cell_type": "code",
   "execution_count": 1,
   "metadata": {},
   "outputs": [
    {
     "data": {
      "text/plain": [
       "'C:\\\\Users\\\\User\\\\Desktop\\\\G팔로미1\\\\G-팔로미 data'"
      ]
     },
     "execution_count": 1,
     "metadata": {},
     "output_type": "execute_result"
    }
   ],
   "source": [
    "import os\n",
    "import pandas as pd\n",
    "\n",
    "#data path 수정\n",
    "os.chdir(\"C:\\\\Users\\\\User\\\\Desktop\\\\G팔로미1\\\\G-팔로미 data\")\n",
    "os.getcwd()"
   ]
  },
  {
   "cell_type": "code",
   "execution_count": 3,
   "metadata": {
    "scrolled": true
   },
   "outputs": [],
   "source": [
    "from matplotlib import pyplot as plt\n",
    "from skimage import measure, morphology\n",
    "import pydicom as dicom\n",
    "import numpy as np\n",
    "import cv2\n",
    "import skimage.transform\n",
    "\n",
    "X=np.load('data_X_origin.npy',allow_pickle=True)\n",
    "y=np.load('data_y.npy',allow_pickle=True)"
   ]
  },
  {
   "cell_type": "code",
   "execution_count": 4,
   "metadata": {},
   "outputs": [
    {
     "name": "stdout",
     "output_type": "stream",
     "text": [
      "(2861, 224, 224, 3)\n",
      "(2861, 4)\n"
     ]
    }
   ],
   "source": [
    "print(X.shape)\n",
    "print(y.shape)"
   ]
  },
  {
   "cell_type": "code",
   "execution_count": 5,
   "metadata": {},
   "outputs": [
    {
     "data": {
      "text/plain": [
       "array([1., 0., 0., 0.], dtype=float32)"
      ]
     },
     "execution_count": 5,
     "metadata": {},
     "output_type": "execute_result"
    }
   ],
   "source": [
    "y[4]"
   ]
  },
  {
   "cell_type": "code",
   "execution_count": 6,
   "metadata": {},
   "outputs": [
    {
     "name": "stderr",
     "output_type": "stream",
     "text": [
      "Using TensorFlow backend.\n"
     ]
    }
   ],
   "source": [
    "from keras.models import Sequential\n",
    "from keras.layers import Dense\n",
    "from keras.layers import Flatten\n",
    "from keras.layers.convolutional import Conv2D\n",
    "from keras.layers.convolutional import MaxPooling2D\n",
    "\n",
    "# 모델 구성하기\n",
    "model = Sequential()\n",
    "model.add(Conv2D(32, kernel_size=(3, 3),\n",
    "                 activation='relu',\n",
    "                 input_shape=(224,224,3)))\n",
    "model.add(Conv2D(8, (2, 2), activation='relu'))\n",
    "model.add(MaxPooling2D(pool_size=(2, 2)))\n",
    "model.add(Flatten())\n",
    "model.add(Dense(64, activation='relu'))\n",
    "model.add(Dense(4, activation='softmax'))"
   ]
  },
  {
   "cell_type": "code",
   "execution_count": 7,
   "metadata": {},
   "outputs": [],
   "source": [
    "model.compile(loss='categorical_crossentropy', optimizer='adam', metrics=['accuracy'])"
   ]
  },
  {
   "cell_type": "code",
   "execution_count": 8,
   "metadata": {},
   "outputs": [
    {
     "name": "stdout",
     "output_type": "stream",
     "text": [
      "Train on 2288 samples, validate on 573 samples\n",
      "Epoch 1/10\n",
      "2288/2288 [==============================] - 27s 12ms/step - loss: 15657.5311 - accuracy: 0.4034 - val_loss: 3.6636 - val_accuracy: 0.0000e+00\n",
      "Epoch 2/10\n",
      "2288/2288 [==============================] - 19s 8ms/step - loss: 1.6218 - accuracy: 0.4716 - val_loss: 2.6314 - val_accuracy: 0.0052\n",
      "Epoch 3/10\n",
      "2288/2288 [==============================] - 20s 9ms/step - loss: 1.2109 - accuracy: 0.4969 - val_loss: 2.9201 - val_accuracy: 0.0017\n",
      "Epoch 4/10\n",
      "2288/2288 [==============================] - 19s 8ms/step - loss: 1.1794 - accuracy: 0.5009 - val_loss: 3.2758 - val_accuracy: 0.0000e+00\n",
      "Epoch 5/10\n",
      "2288/2288 [==============================] - 19s 8ms/step - loss: 1.1676 - accuracy: 0.5009 - val_loss: 3.6559 - val_accuracy: 0.0000e+00\n",
      "Epoch 6/10\n",
      "2288/2288 [==============================] - 19s 8ms/step - loss: 1.1632 - accuracy: 0.5013 - val_loss: 4.1340 - val_accuracy: 0.0000e+00\n",
      "Epoch 7/10\n",
      "2288/2288 [==============================] - 20s 9ms/step - loss: 1.1623 - accuracy: 0.5017 - val_loss: 3.8225 - val_accuracy: 0.0017\n",
      "Epoch 8/10\n",
      "2288/2288 [==============================] - 19s 8ms/step - loss: 1.1966 - accuracy: 0.5013 - val_loss: 4.0162 - val_accuracy: 0.0000e+00\n",
      "Epoch 9/10\n",
      "2288/2288 [==============================] - 18s 8ms/step - loss: 1.1701 - accuracy: 0.4991 - val_loss: 4.5886 - val_accuracy: 0.0000e+00\n",
      "Epoch 10/10\n",
      "2288/2288 [==============================] - 18s 8ms/step - loss: 1.1959 - accuracy: 0.4978 - val_loss: 6.0265 - val_accuracy: 0.0000e+00\n"
     ]
    }
   ],
   "source": [
    "# 모델 학습시키기\n",
    "#train\n",
    "history=model.fit(\n",
    "    X,\n",
    "    y,\n",
    "    batch_size=32,\n",
    "    epochs=10,\n",
    "    validation_split=0.2)"
   ]
  },
  {
   "cell_type": "code",
   "execution_count": 9,
   "metadata": {},
   "outputs": [
    {
     "data": {
      "image/png": "[encoded data removed]",
      "text/plain": [
       "<Figure size 432x288 with 2 Axes>"
      ]
     },
     "metadata": {
      "needs_background": "light"
     },
     "output_type": "display_data"
    }
   ],
   "source": [
    "%matplotlib inline\n",
    "import matplotlib.pyplot as plt\n",
    "\n",
    "acc = history.history['accuracy']\n",
    "val_acc = history.history['val_accuracy']\n",
    "loss = history.history['loss']\n",
    "val_loss = history.history['val_loss']\n",
    "\n",
    "epochs = range(1, len(acc) + 1)\n",
    "\n",
    "fig, loss_ax = plt.subplots()\n",
    "\n",
    "acc_ax = loss_ax.twinx()\n",
    "\n",
    "loss_ax.plot(loss, 'y', label='train loss')\n",
    "loss_ax.plot(val_loss, 'r', label='val loss')\n",
    "\n",
    "acc_ax.plot(acc, 'b', label='train acc')\n",
    "acc_ax.plot(val_acc, 'g', label='val acc')\n",
    "\n",
    "loss_ax.set_xlabel('epoch')\n",
    "loss_ax.set_ylabel('loss')\n",
    "acc_ax.set_ylabel('accuray')\n",
    "\n",
    "loss_ax.legend(loc='upper left')\n",
    "acc_ax.legend(loc='lower left')\n",
    "\n",
    "plt.show()"
   ]
  },
  {
   "cell_type": "code",
   "execution_count": 10,
   "metadata": {},
   "outputs": [],
   "source": [
    "model.save('CNN_origin data.h5')"
   ]
  },
  {
   "cell_type": "code",
   "execution_count": null,
   "metadata": {},
   "outputs": [],
   "source": [
    "X_test=np.load('X_test.npy')\n",
    "y_test=np.load('y_test.npy')"
   ]
  },
  {
   "cell_type": "code",
   "execution_count": null,
   "metadata": {},
   "outputs": [],
   "source": [
    "# 성능 측정\n",
    "loss,metrics = model.evaluate()\n",
    "print('## evaluation loss and_metrics ##')\n",
    "print(\"loss :\",loss)\n",
    "print(\"accuracy :\", metrics)"
   ]
  },
  {
   "cell_type": "code",
   "execution_count": null,
   "metadata": {},
   "outputs": [],
   "source": []
  }
 ],
 "metadata": {
  "kernelspec": {
   "display_name": "Python 3",
   "language": "python",
   "name": "python3"
  },
  "language_info": {
   "codemirror_mode": {
    "name": "ipython",
    "version": 3
   },
   "file_extension": ".py",
   "mimetype": "text/x-python",
   "name": "python",
   "nbconvert_exporter": "python",
   "pygments_lexer": "ipython3",
   "version": "3.7.6"
  }
 },
 "nbformat": 4,
 "nbformat_minor": 4
}
