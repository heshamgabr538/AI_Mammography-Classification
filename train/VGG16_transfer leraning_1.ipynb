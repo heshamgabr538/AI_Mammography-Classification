{
 "cells": [
  {
   "cell_type": "code",
   "execution_count": 1,
   "metadata": {},
   "outputs": [
    {
     "data": {
      "text/plain": [
       "'C:\\\\Users\\\\Owner2\\\\Desktop\\\\G팔로미_vuno'"
      ]
     },
     "execution_count": 1,
     "metadata": {},
     "output_type": "execute_result"
    }
   ],
   "source": [
    "import os\n",
    "import pandas as pd\n",
    "from matplotlib import pyplot as plt\n",
    "import numpy as np\n",
    "import cv2\n",
    "\n",
    "#data path 수정\n",
    "os.chdir(\"C:\\\\Users\\\\Owner2\\\\Desktop\\\\G팔로미_vuno\")\n",
    "os.getcwd()"
   ]
  },
  {
   "cell_type": "code",
   "execution_count": 2,
   "metadata": {},
   "outputs": [],
   "source": [
    "X=np.load('data_X.npy')\n",
    "y=np.load('data_y.npy')"
   ]
  },
  {
   "cell_type": "code",
   "execution_count": 3,
   "metadata": {},
   "outputs": [],
   "source": [
    "#train, validation set 분리\n",
    "from sklearn.model_selection import train_test_split\n",
    "\n",
    "X_train, X_val, y_train, y_val = train_test_split(X,y,test_size=0.3)"
   ]
  },
  {
   "cell_type": "code",
   "execution_count": 4,
   "metadata": {},
   "outputs": [
    {
     "name": "stderr",
     "output_type": "stream",
     "text": [
      "Using TensorFlow backend.\n"
     ]
    }
   ],
   "source": [
    "from keras.preprocessing.image import ImageDataGenerator\n",
    "\n",
    "datagen = ImageDataGenerator(\n",
    "    #featurewise_center=True, #center 중심 유지\n",
    "    #featurewise_std_normalization=True, #normalization\n",
    "    rotation_range=25.0,\n",
    "    #width_shift_range=0.2,\n",
    "    #height_shift_range=0.2,\n",
    "    #brightness_range=[0.2,1.0],\n",
    "    horizontal_flip=True) #수평방향 뒤집기\n",
    "\n",
    "datagen.fit(X_train)\n",
    "\n",
    "dgf=datagen.flow(X_train,y_train,batch_size=32)"
   ]
  },
  {
   "cell_type": "code",
   "execution_count": 5,
   "metadata": {},
   "outputs": [
    {
     "name": "stdout",
     "output_type": "stream",
     "text": [
      "Model: \"vgg16\"\n",
      "_________________________________________________________________\n",
      "Layer (type)                 Output Shape              Param #   \n",
      "=================================================================\n",
      "input_1 (InputLayer)         (None, 224, 224, 3)       0         \n",
      "_________________________________________________________________\n",
      "block1_conv1 (Conv2D)        (None, 224, 224, 64)      1792      \n",
      "_________________________________________________________________\n",
      "block1_conv2 (Conv2D)        (None, 224, 224, 64)      36928     \n",
      "_________________________________________________________________\n",
      "block1_pool (MaxPooling2D)   (None, 112, 112, 64)      0         \n",
      "_________________________________________________________________\n",
      "block2_conv1 (Conv2D)        (None, 112, 112, 128)     73856     \n",
      "_________________________________________________________________\n",
      "block2_conv2 (Conv2D)        (None, 112, 112, 128)     147584    \n",
      "_________________________________________________________________\n",
      "block2_pool (MaxPooling2D)   (None, 56, 56, 128)       0         \n",
      "_________________________________________________________________\n",
      "block3_conv1 (Conv2D)        (None, 56, 56, 256)       295168    \n",
      "_________________________________________________________________\n",
      "block3_conv2 (Conv2D)        (None, 56, 56, 256)       590080    \n",
      "_________________________________________________________________\n",
      "block3_conv3 (Conv2D)        (None, 56, 56, 256)       590080    \n",
      "_________________________________________________________________\n",
      "block3_pool (MaxPooling2D)   (None, 28, 28, 256)       0         \n",
      "_________________________________________________________________\n",
      "block4_conv1 (Conv2D)        (None, 28, 28, 512)       1180160   \n",
      "_________________________________________________________________\n",
      "block4_conv2 (Conv2D)        (None, 28, 28, 512)       2359808   \n",
      "_________________________________________________________________\n",
      "block4_conv3 (Conv2D)        (None, 28, 28, 512)       2359808   \n",
      "_________________________________________________________________\n",
      "block4_pool (MaxPooling2D)   (None, 14, 14, 512)       0         \n",
      "_________________________________________________________________\n",
      "block5_conv1 (Conv2D)        (None, 14, 14, 512)       2359808   \n",
      "_________________________________________________________________\n",
      "block5_conv2 (Conv2D)        (None, 14, 14, 512)       2359808   \n",
      "_________________________________________________________________\n",
      "block5_conv3 (Conv2D)        (None, 14, 14, 512)       2359808   \n",
      "_________________________________________________________________\n",
      "block5_pool (MaxPooling2D)   (None, 7, 7, 512)         0         \n",
      "=================================================================\n",
      "Total params: 14,714,688\n",
      "Trainable params: 14,714,688\n",
      "Non-trainable params: 0\n",
      "_________________________________________________________________\n"
     ]
    }
   ],
   "source": [
    "from keras import models, layers\n",
    "from keras import Input\n",
    "from keras.applications import VGG16\n",
    "from keras.models import Model, load_model\n",
    "from keras.preprocessing.image import ImageDataGenerator\n",
    "from keras import optimizers, initializers, regularizers, metrics\n",
    "from keras.callbacks import ModelCheckpoint, EarlyStopping\n",
    "from keras.layers import BatchNormalization, Conv2D, Activation, Dense, GlobalAveragePooling2D, MaxPooling2D, ZeroPadding2D, Add\n",
    "\n",
    "model = VGG16(weights='imagenet', include_top=False, input_shape=(224, 224, 3))\n",
    "model.trainable = True\n",
    "model.summary()"
   ]
  },
  {
   "cell_type": "code",
   "execution_count": 6,
   "metadata": {},
   "outputs": [
    {
     "name": "stdout",
     "output_type": "stream",
     "text": [
      "Model: \"sequential_1\"\n",
      "_________________________________________________________________\n",
      "Layer (type)                 Output Shape              Param #   \n",
      "=================================================================\n",
      "vgg16 (Model)                (None, 7, 7, 512)         14714688  \n",
      "_________________________________________________________________\n",
      "flatten_1 (Flatten)          (None, 25088)             0         \n",
      "_________________________________________________________________\n",
      "dense_1 (Dense)              (None, 4)                 100356    \n",
      "=================================================================\n",
      "Total params: 14,815,044\n",
      "Trainable params: 14,815,044\n",
      "Non-trainable params: 0\n",
      "_________________________________________________________________\n"
     ]
    }
   ],
   "source": [
    "#customizing my layers\n",
    "additional_model = models.Sequential()\n",
    "additional_model.add(model)\n",
    "additional_model.add(layers.Flatten())\n",
    "additional_model.add(layers.Dense(4, activation='softmax'))\n",
    "\n",
    "additional_model.summary()"
   ]
  },
  {
   "cell_type": "code",
   "execution_count": 7,
   "metadata": {},
   "outputs": [],
   "source": [
    "def f1score(precision, recall):\n",
    "    _f1score = ( 2 * recall * precision) / (recall + precision)\n",
    "    \n",
    "    # return a single tensor value\n",
    "    return _f1score"
   ]
  },
  {
   "cell_type": "code",
   "execution_count": 8,
   "metadata": {},
   "outputs": [],
   "source": [
    "# checkpoint = ModelCheckpoint(filepath='My_VGG_{epoch:03d}_{val_loss:.7f}.hdf5',monitor='loss', mode='min', save_best_only=True)\n",
    "checkpoint = ModelCheckpoint(filepath='VGG16_transfer learning_1.hdf5', \n",
    "            monitor='loss', \n",
    "            mode='min', \n",
    "            save_best_only=True)"
   ]
  },
  {
   "cell_type": "code",
   "execution_count": 9,
   "metadata": {},
   "outputs": [],
   "source": [
    "import tensorflow as tf\n",
    "\n",
    "additional_model.compile(loss='categorical_crossentropy', \n",
    "              optimizer=optimizers.Adam(lr=2e-5),\n",
    "              metrics=['acc',tf.keras.metrics.AUC(),\n",
    "                      tf.keras.metrics.Precision(),\n",
    "                      tf.keras.metrics.Recall(),f1score])"
   ]
  },
  {
   "cell_type": "code",
   "execution_count": 10,
   "metadata": {},
   "outputs": [
    {
     "name": "stdout",
     "output_type": "stream",
     "text": [
      "Epoch 1/50\n",
      "150/150 [==============================] - 49s 324ms/step - loss: 0.9051 - acc: 0.5546 - auc: 0.7947 - precision: 0.6118 - recall: 0.3102 - f1score: 0.1516 - val_loss: 0.7740 - val_acc: 0.5925 - val_auc: 0.8488 - val_precision: 0.6260 - val_recall: 0.4180 - val_f1score: 0.1638\n",
      "Epoch 2/50\n",
      "150/150 [==============================] - 41s 273ms/step - loss: 0.6936 - acc: 0.6385 - auc: 0.8649 - precision: 0.6406 - recall: 0.4647 - f1score: 0.1724 - val_loss: 0.7157 - val_acc: 0.6054 - val_auc: 0.8758 - val_precision: 0.6493 - val_recall: 0.4976 - val_f1score: 0.1706\n",
      "Epoch 3/50\n",
      "150/150 [==============================] - 42s 282ms/step - loss: 0.6217 - acc: 0.6865 - auc: 0.8842 - precision: 0.6604 - recall: 0.5231 - f1score: 0.1805 - val_loss: 0.7842 - val_acc: 0.5960 - val_auc: 0.8903 - val_precision: 0.6676 - val_recall: 0.5423 - val_f1score: 0.1675\n",
      "Epoch 4/50\n",
      "150/150 [==============================] - 41s 276ms/step - loss: 0.5295 - acc: 0.7485 - auc: 0.8969 - precision: 0.6781 - recall: 0.5630 - f1score: 0.1903 - val_loss: 0.7273 - val_acc: 0.6123 - val_auc: 0.9029 - val_precision: 0.6882 - val_recall: 0.5817 - val_f1score: 0.1719\n",
      "Epoch 5/50\n",
      "150/150 [==============================] - 41s 276ms/step - loss: 0.4946 - acc: 0.7612 - auc: 0.9073 - precision: 0.6957 - recall: 0.5956 - f1score: 0.1942 - val_loss: 0.7510 - val_acc: 0.6403 - val_auc: 0.9117 - val_precision: 0.7034 - val_recall: 0.6098 - val_f1score: 0.1725\n",
      "Epoch 6/50\n",
      "150/150 [==============================] - 43s 288ms/step - loss: 0.4329 - acc: 0.7959 - auc: 0.9157 - precision: 0.7107 - recall: 0.6222 - f1score: 0.2011 - val_loss: 0.8627 - val_acc: 0.6182 - val_auc: 0.9196 - val_precision: 0.7182 - val_recall: 0.6349 - val_f1score: 0.1706\n",
      "Epoch 7/50\n",
      "150/150 [==============================] - 41s 276ms/step - loss: 0.3878 - acc: 0.8224 - auc: 0.9230 - precision: 0.7248 - recall: 0.6461 - f1score: 0.2065 - val_loss: 0.8447 - val_acc: 0.5995 - val_auc: 0.9261 - val_precision: 0.7307 - val_recall: 0.6560 - val_f1score: 0.1694\n",
      "Epoch 8/50\n",
      "150/150 [==============================] - 42s 279ms/step - loss: 0.3413 - acc: 0.8573 - auc: 0.9293 - precision: 0.7374 - recall: 0.6662 - f1score: 0.2119 - val_loss: 0.8922 - val_acc: 0.6158 - val_auc: 0.9321 - val_precision: 0.7437 - val_recall: 0.6758 - val_f1score: 0.1699\n",
      "Epoch 9/50\n",
      "150/150 [==============================] - 42s 278ms/step - loss: 0.2805 - acc: 0.8842 - auc: 0.9351 - precision: 0.7503 - recall: 0.6852 - f1score: 0.2185 - val_loss: 1.0165 - val_acc: 0.6042 - val_auc: 0.9376 - val_precision: 0.7561 - val_recall: 0.6937 - val_f1score: 0.1675\n",
      "Epoch 10/50\n",
      "150/150 [==============================] - 41s 277ms/step - loss: 0.2454 - acc: 0.9007 - auc: 0.9400 - precision: 0.7617 - recall: 0.7018 - f1score: 0.2228 - val_loss: 1.0413 - val_acc: 0.6182 - val_auc: 0.9423 - val_precision: 0.7673 - val_recall: 0.7098 - val_f1score: 0.1692\n",
      "Epoch 11/50\n",
      "150/150 [==============================] - 43s 285ms/step - loss: 0.2113 - acc: 0.9111 - auc: 0.9447 - precision: 0.7726 - recall: 0.7173 - f1score: 0.2267 - val_loss: 1.1026 - val_acc: 0.6170 - val_auc: 0.9466 - val_precision: 0.7773 - val_recall: 0.7239 - val_f1score: 0.1658\n",
      "Epoch 12/50\n",
      "150/150 [==============================] - 42s 277ms/step - loss: 0.1874 - acc: 0.9254 - auc: 0.9485 - precision: 0.7820 - recall: 0.7303 - f1score: 0.2292 - val_loss: 1.0777 - val_acc: 0.6112 - val_auc: 0.9502 - val_precision: 0.7865 - val_recall: 0.7365 - val_f1score: 0.1684\n",
      "Epoch 13/50\n",
      "150/150 [==============================] - 42s 278ms/step - loss: 0.1606 - acc: 0.9386 - auc: 0.9519 - precision: 0.7908 - recall: 0.7424 - f1score: 0.2323 - val_loss: 1.2676 - val_acc: 0.6100 - val_auc: 0.9533 - val_precision: 0.7949 - val_recall: 0.7480 - val_f1score: 0.1644\n",
      "Epoch 14/50\n",
      "150/150 [==============================] - 44s 290ms/step - loss: 0.1499 - acc: 0.9405 - auc: 0.9547 - precision: 0.7987 - recall: 0.7532 - f1score: 0.2335 - val_loss: 1.2781 - val_acc: 0.6077 - val_auc: 0.9559 - val_precision: 0.8023 - val_recall: 0.7581 - val_f1score: 0.1648\n",
      "Epoch 15/50\n",
      "150/150 [==============================] - 42s 277ms/step - loss: 0.1152 - acc: 0.9550 - auc: 0.9572 - precision: 0.8060 - recall: 0.7630 - f1score: 0.2371 - val_loss: 1.2817 - val_acc: 0.5984 - val_auc: 0.9584 - val_precision: 0.8094 - val_recall: 0.7676 - val_f1score: 0.1640\n",
      "Epoch 16/50\n",
      "150/150 [==============================] - 42s 282ms/step - loss: 0.1173 - acc: 0.9522 - auc: 0.9595 - precision: 0.8125 - recall: 0.7718 - f1score: 0.2369 - val_loss: 1.4026 - val_acc: 0.5937 - val_auc: 0.9605 - val_precision: 0.8154 - val_recall: 0.7757 - val_f1score: 0.1628\n",
      "Epoch 17/50\n",
      "150/150 [==============================] - 42s 281ms/step - loss: 0.0972 - acc: 0.9625 - auc: 0.9614 - precision: 0.8182 - recall: 0.7796 - f1score: 0.2392 - val_loss: 1.3216 - val_acc: 0.5995 - val_auc: 0.9623 - val_precision: 0.8210 - val_recall: 0.7834 - val_f1score: 0.1642\n",
      "Epoch 18/50\n",
      "150/150 [==============================] - 42s 279ms/step - loss: 0.0877 - acc: 0.9689 - auc: 0.9633 - precision: 0.8238 - recall: 0.7870 - f1score: 0.2405 - val_loss: 1.7954 - val_acc: 0.5693 - val_auc: 0.9639 - val_precision: 0.8263 - val_recall: 0.7904 - val_f1score: 0.1538\n",
      "Epoch 19/50\n",
      "150/150 [==============================] - 43s 289ms/step - loss: 0.1174 - acc: 0.9581 - auc: 0.9643 - precision: 0.8281 - recall: 0.7930 - f1score: 0.2373 - val_loss: 1.5736 - val_acc: 0.6123 - val_auc: 0.9650 - val_precision: 0.8305 - val_recall: 0.7962 - val_f1score: 0.1648\n",
      "Epoch 20/50\n",
      "150/150 [==============================] - 42s 279ms/step - loss: 0.0602 - acc: 0.9802 - auc: 0.9658 - precision: 0.8331 - recall: 0.7995 - f1score: nan - val_loss: 1.6941 - val_acc: 0.6007 - val_auc: 0.9663 - val_precision: 0.8354 - val_recall: 0.8026 - val_f1score: 0.1605\n",
      "Epoch 21/50\n",
      "150/150 [==============================] - 42s 280ms/step - loss: 0.0593 - acc: 0.9795 - auc: 0.9669 - precision: 0.8377 - recall: 0.8055 - f1score: nan - val_loss: 1.8033 - val_acc: 0.5925 - val_auc: 0.9674 - val_precision: 0.8398 - val_recall: 0.8082 - val_f1score: nan\n",
      "Epoch 22/50\n",
      "150/150 [==============================] - 42s 278ms/step - loss: 0.0853 - acc: 0.9702 - auc: 0.9678 - precision: 0.8414 - recall: 0.8105 - f1score: nan - val_loss: 1.5901 - val_acc: 0.6088 - val_auc: 0.9683 - val_precision: 0.8433 - val_recall: 0.8130 - val_f1score: nan\n",
      "Epoch 23/50\n",
      "150/150 [==============================] - 42s 281ms/step - loss: 0.0614 - acc: 0.9757 - auc: 0.9688 - precision: 0.8450 - recall: 0.8153 - f1score: nan - val_loss: 1.7713 - val_acc: 0.6030 - val_auc: 0.9692 - val_precision: 0.8467 - val_recall: 0.8176 - val_f1score: nan\n",
      "Epoch 24/50\n",
      "150/150 [==============================] - 43s 285ms/step - loss: 0.0587 - acc: 0.9803 - auc: 0.9696 - precision: 0.8485 - recall: 0.8198 - f1score: nan - val_loss: 1.7014 - val_acc: 0.6065 - val_auc: 0.9699 - val_precision: 0.8501 - val_recall: 0.8220 - val_f1score: 0.1623\n",
      "Epoch 25/50\n",
      "150/150 [==============================] - 43s 286ms/step - loss: 0.0668 - acc: 0.9760 - auc: 0.9703 - precision: 0.8515 - recall: 0.8239 - f1score: nan - val_loss: 1.7157 - val_acc: 0.6007 - val_auc: 0.9706 - val_precision: 0.8530 - val_recall: 0.8258 - val_f1score: 0.1618\n",
      "Epoch 26/50\n",
      "150/150 [==============================] - 41s 275ms/step - loss: 0.0629 - acc: 0.9778 - auc: 0.9709 - precision: 0.8543 - recall: 0.8277 - f1score: nan - val_loss: 1.7475 - val_acc: 0.6065 - val_auc: 0.9712 - val_precision: 0.8557 - val_recall: 0.8295 - val_f1score: 0.1625\n",
      "Epoch 27/50\n",
      "150/150 [==============================] - 43s 289ms/step - loss: 0.0257 - acc: 0.9927 - auc: 0.9716 - precision: 0.8573 - recall: 0.8315 - f1score: nan - val_loss: 1.8888 - val_acc: 0.6158 - val_auc: 0.9719 - val_precision: 0.8588 - val_recall: 0.8334 - val_f1score: nan\n",
      "Epoch 28/50\n",
      "150/150 [==============================] - 42s 279ms/step - loss: 0.0757 - acc: 0.9711 - auc: 0.9722 - precision: 0.8599 - recall: 0.8350 - f1score: nan - val_loss: 1.6392 - val_acc: 0.5972 - val_auc: 0.9724 - val_precision: 0.8608 - val_recall: 0.8363 - val_f1score: 0.1606\n",
      "Epoch 29/50\n"
     ]
    },
    {
     "name": "stdout",
     "output_type": "stream",
     "text": [
      "150/150 [==============================] - 42s 279ms/step - loss: 0.0361 - acc: 0.9880 - auc: 0.9727 - precision: 0.8621 - recall: 0.8379 - f1score: nan - val_loss: 1.8752 - val_acc: 0.5925 - val_auc: 0.9729 - val_precision: 0.8633 - val_recall: 0.8395 - val_f1score: nan\n",
      "Epoch 30/50\n",
      "150/150 [==============================] - 42s 280ms/step - loss: 0.0436 - acc: 0.9870 - auc: 0.9732 - precision: 0.8644 - recall: 0.8409 - f1score: nan - val_loss: 1.8509 - val_acc: 0.5914 - val_auc: 0.9734 - val_precision: 0.8655 - val_recall: 0.8424 - val_f1score: nan\n",
      "Epoch 31/50\n",
      "150/150 [==============================] - 42s 279ms/step - loss: 0.0506 - acc: 0.9819 - auc: 0.9736 - precision: 0.8665 - recall: 0.8437 - f1score: nan - val_loss: 1.6326 - val_acc: 0.6112 - val_auc: 0.9738 - val_precision: 0.8674 - val_recall: 0.8450 - val_f1score: 0.1603\n",
      "Epoch 32/50\n",
      "150/150 [==============================] - 43s 285ms/step - loss: 0.0300 - acc: 0.9908 - auc: 0.9741 - precision: 0.8685 - recall: 0.8464 - f1score: nan - val_loss: 2.0932 - val_acc: 0.6100 - val_auc: 0.9742 - val_precision: 0.8695 - val_recall: 0.8477 - val_f1score: nan\n",
      "Epoch 33/50\n",
      "150/150 [==============================] - 42s 278ms/step - loss: 0.0652 - acc: 0.9794 - auc: 0.9743 - precision: 0.8704 - recall: 0.8489 - f1score: nan - val_loss: 1.6374 - val_acc: 0.6240 - val_auc: 0.9745 - val_precision: 0.8712 - val_recall: 0.8500 - val_f1score: 0.1638\n",
      "Epoch 34/50\n",
      "150/150 [==============================] - 42s 279ms/step - loss: 0.0591 - acc: 0.9788 - auc: 0.9747 - precision: 0.8721 - recall: 0.8512 - f1score: nan - val_loss: 1.9487 - val_acc: 0.6205 - val_auc: 0.9748 - val_precision: 0.8729 - val_recall: 0.8522 - val_f1score: 0.1613\n",
      "Epoch 35/50\n",
      "150/150 [==============================] - 44s 290ms/step - loss: 0.0314 - acc: 0.9883 - auc: 0.9750 - precision: 0.8738 - recall: 0.8534 - f1score: nan - val_loss: 2.0271 - val_acc: 0.5914 - val_auc: 0.9751 - val_precision: 0.8746 - val_recall: 0.8544 - val_f1score: nan\n",
      "Epoch 36/50\n",
      "150/150 [==============================] - 42s 278ms/step - loss: 0.0349 - acc: 0.9885 - auc: 0.9753 - precision: 0.8754 - recall: 0.8555 - f1score: nan - val_loss: 1.8615 - val_acc: 0.6170 - val_auc: 0.9754 - val_precision: 0.8761 - val_recall: 0.8565 - val_f1score: nan\n",
      "Epoch 37/50\n",
      "150/150 [==============================] - 42s 283ms/step - loss: 0.0569 - acc: 0.9807 - auc: 0.9755 - precision: 0.8768 - recall: 0.8574 - f1score: nan - val_loss: 1.8721 - val_acc: 0.6193 - val_auc: 0.9756 - val_precision: 0.8775 - val_recall: 0.8583 - val_f1score: nan\n",
      "Epoch 38/50\n",
      "150/150 [==============================] - 42s 280ms/step - loss: 0.0339 - acc: 0.9891 - auc: 0.9757 - precision: 0.8783 - recall: 0.8593 - f1score: nan - val_loss: 2.2639 - val_acc: 0.5972 - val_auc: 0.9758 - val_precision: 0.8790 - val_recall: 0.8603 - val_f1score: nan\n",
      "Epoch 39/50\n",
      "150/150 [==============================] - 42s 278ms/step - loss: 0.0315 - acc: 0.9889 - auc: 0.9759 - precision: 0.8797 - recall: 0.8612 - f1score: nan - val_loss: 2.0270 - val_acc: 0.6123 - val_auc: 0.9760 - val_precision: 0.8804 - val_recall: 0.8621 - val_f1score: nan\n",
      "Epoch 40/50\n",
      "150/150 [==============================] - 43s 288ms/step - loss: 0.0319 - acc: 0.9897 - auc: 0.9761 - precision: 0.8810 - recall: 0.8630 - f1score: nan - val_loss: 1.9007 - val_acc: 0.6007 - val_auc: 0.9762 - val_precision: 0.8817 - val_recall: 0.8638 - val_f1score: nan\n",
      "Epoch 41/50\n",
      "150/150 [==============================] - 42s 279ms/step - loss: 0.0458 - acc: 0.9832 - auc: 0.9763 - precision: 0.8823 - recall: 0.8646 - f1score: nan - val_loss: 1.7249 - val_acc: 0.5891 - val_auc: 0.9764 - val_precision: 0.8827 - val_recall: 0.8653 - val_f1score: 0.1587\n",
      "Epoch 42/50\n",
      "150/150 [==============================] - 42s 280ms/step - loss: 0.0203 - acc: 0.9937 - auc: 0.9766 - precision: 0.8833 - recall: 0.8660 - f1score: nan - val_loss: 2.1204 - val_acc: 0.6147 - val_auc: 0.9767 - val_precision: 0.8840 - val_recall: 0.8669 - val_f1score: nan\n",
      "Epoch 43/50\n",
      "150/150 [==============================] - 42s 278ms/step - loss: 0.0204 - acc: 0.9935 - auc: 0.9768 - precision: 0.8846 - recall: 0.8677 - f1score: nan - val_loss: 2.1273 - val_acc: 0.6077 - val_auc: 0.9768 - val_precision: 0.8852 - val_recall: 0.8685 - val_f1score: nan\n",
      "Epoch 44/50\n",
      "150/150 [==============================] - 42s 280ms/step - loss: 0.0300 - acc: 0.9923 - auc: 0.9769 - precision: 0.8858 - recall: 0.8692 - f1score: nan - val_loss: 1.9591 - val_acc: 0.5891 - val_auc: 0.9770 - val_precision: 0.8863 - val_recall: 0.8699 - val_f1score: nan\n",
      "Epoch 45/50\n",
      "150/150 [==============================] - 43s 284ms/step - loss: 0.0622 - acc: 0.9784 - auc: 0.9770 - precision: 0.8867 - recall: 0.8704 - f1score: nan - val_loss: 1.8941 - val_acc: 0.6182 - val_auc: 0.9771 - val_precision: 0.8871 - val_recall: 0.8710 - val_f1score: nan\n",
      "Epoch 46/50\n",
      "150/150 [==============================] - 42s 280ms/step - loss: 0.0317 - acc: 0.9895 - auc: 0.9772 - precision: 0.8876 - recall: 0.8717 - f1score: nan - val_loss: 2.0570 - val_acc: 0.6077 - val_auc: 0.9772 - val_precision: 0.8881 - val_recall: 0.8723 - val_f1score: nan\n",
      "Epoch 47/50\n",
      "150/150 [==============================] - 42s 279ms/step - loss: 0.0212 - acc: 0.9937 - auc: 0.9773 - precision: 0.8887 - recall: 0.8730 - f1score: nan - val_loss: 2.1603 - val_acc: 0.6042 - val_auc: 0.9774 - val_precision: 0.8892 - val_recall: 0.8736 - val_f1score: nan\n",
      "Epoch 48/50\n",
      "150/150 [==============================] - 44s 292ms/step - loss: 0.0220 - acc: 0.9937 - auc: 0.9775 - precision: 0.8897 - recall: 0.8743 - f1score: nan - val_loss: 2.0040 - val_acc: 0.6077 - val_auc: 0.9775 - val_precision: 0.8901 - val_recall: 0.8749 - val_f1score: nan\n",
      "Epoch 49/50\n",
      "150/150 [==============================] - 42s 279ms/step - loss: 0.0315 - acc: 0.9891 - auc: 0.9776 - precision: 0.8906 - recall: 0.8755 - f1score: nan - val_loss: 2.1784 - val_acc: 0.6077 - val_auc: 0.9776 - val_precision: 0.8910 - val_recall: 0.8760 - val_f1score: nan\n",
      "Epoch 50/50\n",
      "150/150 [==============================] - 42s 281ms/step - loss: 0.0373 - acc: 0.9876 - auc: 0.9777 - precision: 0.8914 - recall: 0.8766 - f1score: nan - val_loss: 1.8818 - val_acc: 0.5984 - val_auc: 0.9777 - val_precision: 0.8918 - val_recall: 0.8771 - val_f1score: nan\n"
     ]
    }
   ],
   "source": [
    "history = additional_model.fit_generator(dgf, \n",
    "            steps_per_epoch=150, \n",
    "            epochs=50, \n",
    "            validation_data=(X_val,y_val), \n",
    "            validation_steps=32, \n",
    "            callbacks=[checkpoint])"
   ]
  },
  {
   "cell_type": "code",
   "execution_count": 11,
   "metadata": {},
   "outputs": [
    {
     "data": {
      "image/png": "[encoded data removed]",
      "text/plain": [
       "<Figure size 432x288 with 1 Axes>"
      ]
     },
     "metadata": {
      "needs_background": "light"
     },
     "output_type": "display_data"
    },
    {
     "data": {
      "image/png": "[encoded data removed]",
      "text/plain": [
       "<Figure size 432x288 with 1 Axes>"
      ]
     },
     "metadata": {
      "needs_background": "light"
     },
     "output_type": "display_data"
    }
   ],
   "source": [
    "acc = history.history['acc']\n",
    "val_acc = history.history['val_acc']\n",
    "loss = history.history['loss']\n",
    "val_loss = history.history['val_loss']\n",
    " \n",
    "epochs = range(1, len(acc) + 1)\n",
    " \n",
    "plt.plot(epochs, acc, 'bo', label='Training acc')\n",
    "plt.plot(epochs, val_acc, 'r', label='Validation acc')\n",
    "plt.title('Accuracy')\n",
    "plt.legend()\n",
    "plt.figure()\n",
    " \n",
    "plt.plot(epochs, loss, 'bo', label='Training loss')\n",
    "plt.plot(epochs, val_loss, 'r', label='Validation loss')\n",
    "plt.title('Loss')\n",
    "plt.legend()\n",
    " \n",
    "plt.show()"
   ]
  },
  {
   "cell_type": "code",
   "execution_count": 12,
   "metadata": {},
   "outputs": [],
   "source": [
    "X_test=np.load('X_test.npy')\n",
    "y_test=np.load('y_test.npy')"
   ]
  },
  {
   "cell_type": "code",
   "execution_count": 13,
   "metadata": {},
   "outputs": [
    {
     "name": "stdout",
     "output_type": "stream",
     "text": [
      "859/859 [==============================] - 2s 3ms/step\n",
      "loss: 1.882, accuracy: 0.598, auc: 0.977, precision: 0.891, recall: 0.876, f1score: nan\n"
     ]
    }
   ],
   "source": [
    "_loss, _acc, _auc, _precision, _recall, _f1score = additional_model.evaluate(X_val, y_val, batch_size=32)\n",
    "print('loss: {:.3f}, accuracy: {:.3f}, auc: {:.3f}, precision: {:.3f}, recall: {:.3f}, f1score: {:.3f}'.format(_loss, _acc, _auc, _precision, _recall, _f1score))"
   ]
  },
  {
   "cell_type": "code",
   "execution_count": 14,
   "metadata": {},
   "outputs": [
    {
     "name": "stdout",
     "output_type": "stream",
     "text": [
      "704/704 [==============================] - 2s 3ms/step\n",
      "loss: 95065.685, accuracy: 0.237, auc: 0.976, precision: 0.890, recall: 0.875, f1score: nan\n"
     ]
    }
   ],
   "source": [
    "_loss, _acc, _auc, _precision, _recall, _f1score = additional_model.evaluate(X_test, y_test, batch_size=32)\n",
    "print('loss: {:.3f}, accuracy: {:.3f}, auc: {:.3f}, precision: {:.3f}, recall: {:.3f}, f1score: {:.3f}'.format(_loss, _acc, _auc, _precision, _recall, _f1score))"
   ]
  },
  {
   "cell_type": "code",
   "execution_count": 15,
   "metadata": {},
   "outputs": [],
   "source": [
    "additional_model.save('VGG16_transfer learning_1.h5')"
   ]
  },
  {
   "cell_type": "code",
   "execution_count": null,
   "metadata": {},
   "outputs": [],
   "source": []
  },
  {
   "cell_type": "code",
   "execution_count": null,
   "metadata": {},
   "outputs": [],
   "source": []
  },
  {
   "cell_type": "code",
   "execution_count": null,
   "metadata": {},
   "outputs": [],
   "source": []
  }
 ],
 "metadata": {
  "kernelspec": {
   "display_name": "Python 3",
   "language": "python",
   "name": "python3"
  },
  "language_info": {
   "codemirror_mode": {
    "name": "ipython",
    "version": 3
   },
   "file_extension": ".py",
   "mimetype": "text/x-python",
   "name": "python",
   "nbconvert_exporter": "python",
   "pygments_lexer": "ipython3",
   "version": "3.7.7"
  }
 },
 "nbformat": 4,
 "nbformat_minor": 2
}
