{
 "cells": [
  {
   "cell_type": "code",
   "execution_count": 1,
   "metadata": {},
   "outputs": [
    {
     "data": {
      "text/plain": [
       "'C:\\\\Users\\\\Owner2\\\\Desktop\\\\G팔로미_vuno'"
      ]
     },
     "execution_count": 1,
     "metadata": {},
     "output_type": "execute_result"
    }
   ],
   "source": [
    "import os\n",
    "import pandas as pd\n",
    "from matplotlib import pyplot as plt\n",
    "import cv2\n",
    "import numpy as np\n",
    "\n",
    "#data path 수정\n",
    "os.chdir(\"C:\\\\Users\\\\Owner2\\\\Desktop\\\\G팔로미_vuno\")\n",
    "os.getcwd()"
   ]
  },
  {
   "cell_type": "code",
   "execution_count": 2,
   "metadata": {},
   "outputs": [],
   "source": [
    "X=np.load('data_X.npy')\n",
    "y=np.load('data_y.npy')"
   ]
  },
  {
   "cell_type": "code",
   "execution_count": 3,
   "metadata": {},
   "outputs": [
    {
     "data": {
      "text/plain": [
       "1712"
      ]
     },
     "execution_count": 3,
     "metadata": {},
     "output_type": "execute_result"
    }
   ],
   "source": [
    "len(X)"
   ]
  },
  {
   "cell_type": "code",
   "execution_count": 4,
   "metadata": {},
   "outputs": [],
   "source": [
    "#train, validation set 분리\n",
    "from sklearn.model_selection import train_test_split\n",
    "\n",
    "X_train, X_val, y_train, y_val = train_test_split(X,y,test_size=0.2, random_state=123)"
   ]
  },
  {
   "cell_type": "code",
   "execution_count": 5,
   "metadata": {},
   "outputs": [
    {
     "name": "stderr",
     "output_type": "stream",
     "text": [
      "Using TensorFlow backend.\n"
     ]
    }
   ],
   "source": [
    "from keras.preprocessing.image import ImageDataGenerator\n",
    "\n",
    "datagen = ImageDataGenerator(\n",
    "    #featurewise_center=True, #center 중심 유지\n",
    "    #featurewise_std_normalization=True, #normalization\n",
    "    rotation_range=25.0,\n",
    "    #width_shift_range=0.2,\n",
    "    #height_shift_range=0.2,\n",
    "    #brightness_range=[0.2,1.0],\n",
    "    zoom_range=[0.8,1.2],\n",
    "    horizontal_flip=True) #수평방향 뒤집기\n",
    "\n",
    "datagen.fit(X_train)\n",
    "\n",
    "dgf=datagen.flow(X_train,y_train,batch_size=32)"
   ]
  },
  {
   "cell_type": "code",
   "execution_count": 6,
   "metadata": {},
   "outputs": [
    {
     "name": "stdout",
     "output_type": "stream",
     "text": [
      "Model: \"vgg16\"\n",
      "_________________________________________________________________\n",
      "Layer (type)                 Output Shape              Param #   \n",
      "=================================================================\n",
      "input_1 (InputLayer)         (None, 224, 224, 3)       0         \n",
      "_________________________________________________________________\n",
      "block1_conv1 (Conv2D)        (None, 224, 224, 64)      1792      \n",
      "_________________________________________________________________\n",
      "block1_conv2 (Conv2D)        (None, 224, 224, 64)      36928     \n",
      "_________________________________________________________________\n",
      "block1_pool (MaxPooling2D)   (None, 112, 112, 64)      0         \n",
      "_________________________________________________________________\n",
      "block2_conv1 (Conv2D)        (None, 112, 112, 128)     73856     \n",
      "_________________________________________________________________\n",
      "block2_conv2 (Conv2D)        (None, 112, 112, 128)     147584    \n",
      "_________________________________________________________________\n",
      "block2_pool (MaxPooling2D)   (None, 56, 56, 128)       0         \n",
      "_________________________________________________________________\n",
      "block3_conv1 (Conv2D)        (None, 56, 56, 256)       295168    \n",
      "_________________________________________________________________\n",
      "block3_conv2 (Conv2D)        (None, 56, 56, 256)       590080    \n",
      "_________________________________________________________________\n",
      "block3_conv3 (Conv2D)        (None, 56, 56, 256)       590080    \n",
      "_________________________________________________________________\n",
      "block3_pool (MaxPooling2D)   (None, 28, 28, 256)       0         \n",
      "_________________________________________________________________\n",
      "block4_conv1 (Conv2D)        (None, 28, 28, 512)       1180160   \n",
      "_________________________________________________________________\n",
      "block4_conv2 (Conv2D)        (None, 28, 28, 512)       2359808   \n",
      "_________________________________________________________________\n",
      "block4_conv3 (Conv2D)        (None, 28, 28, 512)       2359808   \n",
      "_________________________________________________________________\n",
      "block4_pool (MaxPooling2D)   (None, 14, 14, 512)       0         \n",
      "_________________________________________________________________\n",
      "block5_conv1 (Conv2D)        (None, 14, 14, 512)       2359808   \n",
      "_________________________________________________________________\n",
      "block5_conv2 (Conv2D)        (None, 14, 14, 512)       2359808   \n",
      "_________________________________________________________________\n",
      "block5_conv3 (Conv2D)        (None, 14, 14, 512)       2359808   \n",
      "_________________________________________________________________\n",
      "block5_pool (MaxPooling2D)   (None, 7, 7, 512)         0         \n",
      "=================================================================\n",
      "Total params: 14,714,688\n",
      "Trainable params: 14,714,688\n",
      "Non-trainable params: 0\n",
      "_________________________________________________________________\n"
     ]
    }
   ],
   "source": [
    "from keras import models, layers\n",
    "from keras import Input\n",
    "from keras.applications import VGG16\n",
    "from keras.models import Model, load_model\n",
    "from keras.preprocessing.image import ImageDataGenerator\n",
    "from keras import optimizers, initializers, regularizers, metrics\n",
    "from keras.callbacks import ModelCheckpoint, EarlyStopping\n",
    "from keras.layers import BatchNormalization, Conv2D, Activation, Dense, GlobalAveragePooling2D, MaxPooling2D, ZeroPadding2D, Add\n",
    "\n",
    "model = VGG16(weights=None, include_top=False, input_shape=(224, 224, 3))\n",
    "model.trainable = True\n",
    "model.summary()"
   ]
  },
  {
   "cell_type": "code",
   "execution_count": 7,
   "metadata": {},
   "outputs": [
    {
     "name": "stdout",
     "output_type": "stream",
     "text": [
      "Model: \"sequential_1\"\n",
      "_________________________________________________________________\n",
      "Layer (type)                 Output Shape              Param #   \n",
      "=================================================================\n",
      "vgg16 (Model)                (None, 7, 7, 512)         14714688  \n",
      "_________________________________________________________________\n",
      "global_average_pooling2d_1 ( (None, 512)               0         \n",
      "_________________________________________________________________\n",
      "dense_1 (Dense)              (None, 4)                 2052      \n",
      "=================================================================\n",
      "Total params: 14,716,740\n",
      "Trainable params: 14,716,740\n",
      "Non-trainable params: 0\n",
      "_________________________________________________________________\n"
     ]
    }
   ],
   "source": [
    "#customizing my layers\n",
    "additional_model = models.Sequential()\n",
    "additional_model.add(model)\n",
    "additional_model.add(layers.GlobalAveragePooling2D(input_shape=(7,7,512)))\n",
    "additional_model.add(layers.Dense(4, activation='softmax'))\n",
    "\n",
    "\n",
    "additional_model.summary()"
   ]
  },
  {
   "cell_type": "code",
   "execution_count": 8,
   "metadata": {},
   "outputs": [],
   "source": [
    "def f1score(precision, recall):\n",
    "    _f1score = ( 2 * recall * precision) / (recall + precision)\n",
    "    \n",
    "    # return a single tensor value\n",
    "    return _f1score"
   ]
  },
  {
   "cell_type": "code",
   "execution_count": 9,
   "metadata": {},
   "outputs": [],
   "source": [
    "# checkpoint = ModelCheckpoint(filepath='My_VGG_{epoch:03d}_{val_loss:.7f}.hdf5',monitor='loss', mode='min', save_best_only=True)\n",
    "checkpoint = ModelCheckpoint(filepath='VGG16_averaging_pooling.hdf5', \n",
    "            monitor='val_loss', \n",
    "            mode='min', \n",
    "            save_best_only=True)"
   ]
  },
  {
   "cell_type": "code",
   "execution_count": 10,
   "metadata": {},
   "outputs": [],
   "source": [
    "import tensorflow as tf\n",
    "\n",
    "additional_model.compile(loss='categorical_crossentropy', \n",
    "              optimizer=optimizers.Adam(lr=1e-4),\n",
    "              metrics=['acc',tf.keras.metrics.AUC(),\n",
    "                      tf.keras.metrics.Precision(),\n",
    "                      tf.keras.metrics.Recall(),f1score])"
   ]
  },
  {
   "cell_type": "code",
   "execution_count": 11,
   "metadata": {},
   "outputs": [],
   "source": [
    "# class_weight = {0: 1.1,\n",
    "#                 1: 1.1,\n",
    "#                 2: 1,\n",
    "#                 3: 1}"
   ]
  },
  {
   "cell_type": "code",
   "execution_count": 12,
   "metadata": {},
   "outputs": [
    {
     "name": "stdout",
     "output_type": "stream",
     "text": [
      "Epoch 1/200\n",
      "43/42 [==============================] - 17s 404ms/step - loss: 1.3860 - acc: 0.2520 - auc: 0.4975 - precision: 0.0000e+00 - recall: 0.0000e+00 - f1score: 0.1000 - val_loss: 1.3853 - val_acc: 0.2770 - val_auc: 0.5102 - val_precision: 0.0000e+00 - val_recall: 0.0000e+00 - val_f1score: 0.1001\n",
      "Epoch 2/200\n",
      "43/42 [==============================] - 11s 253ms/step - loss: 1.3847 - acc: 0.2557 - auc: 0.5113 - precision: 0.0000e+00 - recall: 0.0000e+00 - f1score: 0.1002 - val_loss: 1.3858 - val_acc: 0.2770 - val_auc: 0.5168 - val_precision: 0.0000e+00 - val_recall: 0.0000e+00 - val_f1score: 0.1002\n",
      "Epoch 3/200\n",
      "43/42 [==============================] - 12s 280ms/step - loss: 1.3843 - acc: 0.2652 - auc: 0.5188 - precision: 0.0000e+00 - recall: 0.0000e+00 - f1score: 0.1003 - val_loss: 1.3854 - val_acc: 0.2449 - val_auc: 0.5181 - val_precision: 0.0000e+00 - val_recall: 0.0000e+00 - val_f1score: 0.1001\n",
      "Epoch 4/200\n",
      "43/42 [==============================] - 12s 280ms/step - loss: 1.3856 - acc: 0.2600 - auc: 0.5203 - precision: 0.0000e+00 - recall: 0.0000e+00 - f1score: 0.1003 - val_loss: 1.3838 - val_acc: 0.2770 - val_auc: 0.5204 - val_precision: 0.0000e+00 - val_recall: 0.0000e+00 - val_f1score: 0.1002\n",
      "Epoch 5/200\n",
      "43/42 [==============================] - 12s 279ms/step - loss: 1.3769 - acc: 0.2659 - auc: 0.5230 - precision: 0.0000e+00 - recall: 0.0000e+00 - f1score: 0.1011 - val_loss: 1.4086 - val_acc: 0.2770 - val_auc: 0.5262 - val_precision: 0.0000e+00 - val_recall: 0.0000e+00 - val_f1score: 0.0999\n",
      "Epoch 6/200\n",
      "43/42 [==============================] - 12s 280ms/step - loss: 1.3860 - acc: 0.2476 - auc: 0.5252 - precision: 0.0000e+00 - recall: 0.0000e+00 - f1score: 0.1003 - val_loss: 1.3853 - val_acc: 0.2770 - val_auc: 0.5248 - val_precision: 0.0000e+00 - val_recall: 0.0000e+00 - val_f1score: 0.1001\n",
      "Epoch 7/200\n",
      "43/42 [==============================] - 12s 282ms/step - loss: 1.3844 - acc: 0.2476 - auc: 0.5244 - precision: 0.0000e+00 - recall: 0.0000e+00 - f1score: 0.1002 - val_loss: 1.3853 - val_acc: 0.2770 - val_auc: 0.5243 - val_precision: 0.0000e+00 - val_recall: 0.0000e+00 - val_f1score: 0.1001\n",
      "Epoch 8/200\n",
      "43/42 [==============================] - 12s 281ms/step - loss: 1.3841 - acc: 0.2695 - auc: 0.5241 - precision: 0.0000e+00 - recall: 0.0000e+00 - f1score: 0.1003 - val_loss: 1.3852 - val_acc: 0.2770 - val_auc: 0.5240 - val_precision: 0.0000e+00 - val_recall: 0.0000e+00 - val_f1score: 0.1002\n",
      "Epoch 9/200\n",
      "43/42 [==============================] - 12s 282ms/step - loss: 1.3840 - acc: 0.2695 - auc: 0.5238 - precision: 0.0000e+00 - recall: 0.0000e+00 - f1score: 0.1003 - val_loss: 1.3853 - val_acc: 0.2770 - val_auc: 0.5239 - val_precision: 0.0000e+00 - val_recall: 0.0000e+00 - val_f1score: 0.1002\n",
      "Epoch 10/200\n",
      "43/42 [==============================] - 12s 281ms/step - loss: 1.3840 - acc: 0.2695 - auc: 0.5239 - precision: 0.0000e+00 - recall: 0.0000e+00 - f1score: 0.1003 - val_loss: 1.3854 - val_acc: 0.2770 - val_auc: 0.5238 - val_precision: 0.0000e+00 - val_recall: 0.0000e+00 - val_f1score: 0.1002\n",
      "Epoch 11/200\n",
      "43/42 [==============================] - 12s 281ms/step - loss: 1.3841 - acc: 0.2403 - auc: 0.5236 - precision: 0.0000e+00 - recall: 0.0000e+00 - f1score: 0.1003 - val_loss: 1.3854 - val_acc: 0.2770 - val_auc: 0.5235 - val_precision: 0.0000e+00 - val_recall: 0.0000e+00 - val_f1score: 0.1002\n",
      "Epoch 12/200\n",
      "43/42 [==============================] - 12s 282ms/step - loss: 1.3843 - acc: 0.2695 - auc: 0.5237 - precision: 0.0000e+00 - recall: 0.0000e+00 - f1score: 0.1003 - val_loss: 1.3853 - val_acc: 0.2770 - val_auc: 0.5233 - val_precision: 0.0000e+00 - val_recall: 0.0000e+00 - val_f1score: 0.1002\n",
      "Epoch 13/200\n",
      "43/42 [==============================] - 12s 281ms/step - loss: 1.3840 - acc: 0.2695 - auc: 0.5230 - precision: 0.0000e+00 - recall: 0.0000e+00 - f1score: 0.1002 - val_loss: 1.3853 - val_acc: 0.2770 - val_auc: 0.5232 - val_precision: 0.0000e+00 - val_recall: 0.0000e+00 - val_f1score: 0.1002\n",
      "Epoch 14/200\n",
      "43/42 [==============================] - 12s 280ms/step - loss: 1.3840 - acc: 0.2447 - auc: 0.5229 - precision: 0.0000e+00 - recall: 0.0000e+00 - f1score: 0.1003 - val_loss: 1.3853 - val_acc: 0.2770 - val_auc: 0.5229 - val_precision: 0.0000e+00 - val_recall: 0.0000e+00 - val_f1score: 0.1002\n",
      "Epoch 15/200\n",
      "43/42 [==============================] - 12s 281ms/step - loss: 1.3837 - acc: 0.2659 - auc: 0.5232 - precision: 0.0000e+00 - recall: 0.0000e+00 - f1score: 0.1004 - val_loss: 1.3860 - val_acc: 0.2770 - val_auc: 0.5232 - val_precision: 0.0000e+00 - val_recall: 0.0000e+00 - val_f1score: 0.1002\n",
      "Epoch 16/200\n",
      "43/42 [==============================] - 12s 281ms/step - loss: 1.3842 - acc: 0.2695 - auc: 0.5231 - precision: 0.0000e+00 - recall: 0.0000e+00 - f1score: 0.1003 - val_loss: 1.3852 - val_acc: 0.2770 - val_auc: 0.5229 - val_precision: 0.0000e+00 - val_recall: 0.0000e+00 - val_f1score: 0.1002\n",
      "Epoch 17/200\n",
      "43/42 [==============================] - 12s 283ms/step - loss: 1.3840 - acc: 0.2695 - auc: 0.5227 - precision: 0.0000e+00 - recall: 0.0000e+00 - f1score: 0.1003 - val_loss: 1.3854 - val_acc: 0.2770 - val_auc: 0.5229 - val_precision: 0.0000e+00 - val_recall: 0.0000e+00 - val_f1score: 0.1002\n",
      "Epoch 18/200\n",
      "43/42 [==============================] - 12s 280ms/step - loss: 1.3841 - acc: 0.2695 - auc: 0.5228 - precision: 0.0000e+00 - recall: 0.0000e+00 - f1score: 0.1003 - val_loss: 1.3854 - val_acc: 0.2770 - val_auc: 0.5229 - val_precision: 0.0000e+00 - val_recall: 0.0000e+00 - val_f1score: 0.1002\n",
      "Epoch 19/200\n",
      "43/42 [==============================] - 12s 282ms/step - loss: 1.3842 - acc: 0.2695 - auc: 0.5230 - precision: 0.0000e+00 - recall: 0.0000e+00 - f1score: 0.1003 - val_loss: 1.3853 - val_acc: 0.2770 - val_auc: 0.5228 - val_precision: 0.0000e+00 - val_recall: 0.0000e+00 - val_f1score: 0.1002\n",
      "Epoch 20/200\n",
      "43/42 [==============================] - 12s 282ms/step - loss: 1.3841 - acc: 0.2695 - auc: 0.5226 - precision: 0.0000e+00 - recall: 0.0000e+00 - f1score: 0.1002 - val_loss: 1.3853 - val_acc: 0.2770 - val_auc: 0.5227 - val_precision: 0.0000e+00 - val_recall: 0.0000e+00 - val_f1score: 0.1002\n",
      "Epoch 21/200\n",
      "43/42 [==============================] - 12s 281ms/step - loss: 1.3841 - acc: 0.2695 - auc: 0.5225 - precision: 0.0000e+00 - recall: 0.0000e+00 - f1score: 0.1003 - val_loss: 1.3854 - val_acc: 0.2770 - val_auc: 0.5226 - val_precision: 0.0000e+00 - val_recall: 0.0000e+00 - val_f1score: 0.1002\n",
      "Epoch 22/200\n",
      "43/42 [==============================] - 12s 281ms/step - loss: 1.3841 - acc: 0.2695 - auc: 0.5228 - precision: 0.0000e+00 - recall: 0.0000e+00 - f1score: 0.1003 - val_loss: 1.3856 - val_acc: 0.2770 - val_auc: 0.5226 - val_precision: 0.0000e+00 - val_recall: 0.0000e+00 - val_f1score: 0.1002\n",
      "Epoch 23/200\n",
      "43/42 [==============================] - 12s 283ms/step - loss: 1.3841 - acc: 0.2695 - auc: 0.5225 - precision: 0.0000e+00 - recall: 0.0000e+00 - f1score: 0.1003 - val_loss: 1.3854 - val_acc: 0.2770 - val_auc: 0.5225 - val_precision: 0.0000e+00 - val_recall: 0.0000e+00 - val_f1score: 0.1002\n",
      "Epoch 24/200\n",
      "43/42 [==============================] - 12s 279ms/step - loss: 1.3840 - acc: 0.2695 - auc: 0.5226 - precision: 0.0000e+00 - recall: 0.0000e+00 - f1score: 0.1003 - val_loss: 1.3854 - val_acc: 0.2770 - val_auc: 0.5224 - val_precision: 0.0000e+00 - val_recall: 0.0000e+00 - val_f1score: 0.1002\n",
      "Epoch 25/200\n",
      "43/42 [==============================] - 12s 281ms/step - loss: 1.3839 - acc: 0.2695 - auc: 0.5225 - precision: 0.0000e+00 - recall: 0.0000e+00 - f1score: 0.1003 - val_loss: 1.3855 - val_acc: 0.2770 - val_auc: 0.5225 - val_precision: 0.0000e+00 - val_recall: 0.0000e+00 - val_f1score: 0.1002\n",
      "Epoch 26/200\n",
      "43/42 [==============================] - 12s 282ms/step - loss: 1.3841 - acc: 0.2695 - auc: 0.5226 - precision: 0.0000e+00 - recall: 0.0000e+00 - f1score: 0.1003 - val_loss: 1.3853 - val_acc: 0.2770 - val_auc: 0.5224 - val_precision: 0.0000e+00 - val_recall: 0.0000e+00 - val_f1score: 0.1002\n",
      "Epoch 27/200\n",
      "43/42 [==============================] - 12s 282ms/step - loss: 1.3839 - acc: 0.2695 - auc: 0.5225 - precision: 0.0000e+00 - recall: 0.0000e+00 - f1score: 0.1003 - val_loss: 1.3853 - val_acc: 0.2770 - val_auc: 0.5224 - val_precision: 0.0000e+00 - val_recall: 0.0000e+00 - val_f1score: 0.1002\n"
     ]
    },
    {
     "name": "stdout",
     "output_type": "stream",
     "text": [
      "Epoch 28/200\n",
      "43/42 [==============================] - 12s 281ms/step - loss: 1.3839 - acc: 0.2695 - auc: 0.5224 - precision: 0.0000e+00 - recall: 0.0000e+00 - f1score: 0.1003 - val_loss: 1.3853 - val_acc: 0.2770 - val_auc: 0.5224 - val_precision: 0.0000e+00 - val_recall: 0.0000e+00 - val_f1score: 0.1002\n",
      "Epoch 29/200\n",
      "43/42 [==============================] - 12s 282ms/step - loss: 1.3842 - acc: 0.2695 - auc: 0.5226 - precision: 0.0000e+00 - recall: 0.0000e+00 - f1score: 0.1003 - val_loss: 1.3854 - val_acc: 0.2770 - val_auc: 0.5224 - val_precision: 0.0000e+00 - val_recall: 0.0000e+00 - val_f1score: 0.1002\n",
      "Epoch 30/200\n",
      "43/42 [==============================] - 12s 281ms/step - loss: 1.3838 - acc: 0.2695 - auc: 0.5224 - precision: 0.0000e+00 - recall: 0.0000e+00 - f1score: 0.1003 - val_loss: 1.3853 - val_acc: 0.2770 - val_auc: 0.5224 - val_precision: 0.0000e+00 - val_recall: 0.0000e+00 - val_f1score: 0.1002\n",
      "Epoch 31/200\n",
      "43/42 [==============================] - 12s 281ms/step - loss: 1.3839 - acc: 0.2695 - auc: 0.5225 - precision: 0.0000e+00 - recall: 0.0000e+00 - f1score: 0.1003 - val_loss: 1.3855 - val_acc: 0.2770 - val_auc: 0.5224 - val_precision: 0.0000e+00 - val_recall: 0.0000e+00 - val_f1score: 0.1002\n",
      "Epoch 32/200\n",
      "43/42 [==============================] - 12s 282ms/step - loss: 1.3841 - acc: 0.2695 - auc: 0.5224 - precision: 0.0000e+00 - recall: 0.0000e+00 - f1score: 0.1003 - val_loss: 1.3855 - val_acc: 0.2770 - val_auc: 0.5224 - val_precision: 0.0000e+00 - val_recall: 0.0000e+00 - val_f1score: 0.1002\n",
      "Epoch 33/200\n",
      "43/42 [==============================] - 12s 282ms/step - loss: 1.3839 - acc: 0.2695 - auc: 0.5224 - precision: 0.0000e+00 - recall: 0.0000e+00 - f1score: 0.1003 - val_loss: 1.3854 - val_acc: 0.2770 - val_auc: 0.5224 - val_precision: 0.0000e+00 - val_recall: 0.0000e+00 - val_f1score: 0.1002\n",
      "Epoch 34/200\n",
      "43/42 [==============================] - 12s 282ms/step - loss: 1.3840 - acc: 0.2695 - auc: 0.5225 - precision: 0.0000e+00 - recall: 0.0000e+00 - f1score: 0.1003 - val_loss: 1.3854 - val_acc: 0.2770 - val_auc: 0.5224 - val_precision: 0.0000e+00 - val_recall: 0.0000e+00 - val_f1score: 0.1002\n",
      "Epoch 35/200\n",
      "43/42 [==============================] - 12s 282ms/step - loss: 1.3839 - acc: 0.2695 - auc: 0.5225 - precision: 0.0000e+00 - recall: 0.0000e+00 - f1score: 0.1003 - val_loss: 1.3853 - val_acc: 0.2770 - val_auc: 0.5225 - val_precision: 0.0000e+00 - val_recall: 0.0000e+00 - val_f1score: 0.1002\n",
      "Epoch 36/200\n",
      "43/42 [==============================] - 12s 282ms/step - loss: 1.3839 - acc: 0.2695 - auc: 0.5225 - precision: 0.0000e+00 - recall: 0.0000e+00 - f1score: 0.1003 - val_loss: 1.3854 - val_acc: 0.2770 - val_auc: 0.5225 - val_precision: 0.0000e+00 - val_recall: 0.0000e+00 - val_f1score: 0.1002\n",
      "Epoch 37/200\n",
      "43/42 [==============================] - 12s 281ms/step - loss: 1.3839 - acc: 0.2695 - auc: 0.5225 - precision: 0.0000e+00 - recall: 0.0000e+00 - f1score: 0.1003 - val_loss: 1.3853 - val_acc: 0.2770 - val_auc: 0.5225 - val_precision: 0.0000e+00 - val_recall: 0.0000e+00 - val_f1score: 0.1002\n",
      "Epoch 38/200\n",
      "43/42 [==============================] - 12s 279ms/step - loss: 1.3839 - acc: 0.2695 - auc: 0.5226 - precision: 0.0000e+00 - recall: 0.0000e+00 - f1score: 0.1003 - val_loss: 1.3856 - val_acc: 0.2770 - val_auc: 0.5225 - val_precision: 0.0000e+00 - val_recall: 0.0000e+00 - val_f1score: 0.1002\n",
      "Epoch 39/200\n",
      "43/42 [==============================] - 12s 282ms/step - loss: 1.3840 - acc: 0.2695 - auc: 0.5224 - precision: 0.0000e+00 - recall: 0.0000e+00 - f1score: 0.1003 - val_loss: 1.3855 - val_acc: 0.2770 - val_auc: 0.5224 - val_precision: 0.0000e+00 - val_recall: 0.0000e+00 - val_f1score: 0.1002\n",
      "Epoch 40/200\n",
      "43/42 [==============================] - 12s 278ms/step - loss: 1.3840 - acc: 0.2695 - auc: 0.5225 - precision: 0.0000e+00 - recall: 0.0000e+00 - f1score: 0.1003 - val_loss: 1.3852 - val_acc: 0.2770 - val_auc: 0.5224 - val_precision: 0.0000e+00 - val_recall: 0.0000e+00 - val_f1score: 0.1002\n",
      "Epoch 41/200\n",
      "43/42 [==============================] - 12s 280ms/step - loss: 1.3822 - acc: 0.2776 - auc: 0.5226 - precision: 0.0000e+00 - recall: 0.0000e+00 - f1score: 0.1005 - val_loss: 1.3752 - val_acc: 0.3061 - val_auc: 0.5229 - val_precision: 0.0000e+00 - val_recall: 0.0000e+00 - val_f1score: 0.1010\n",
      "Epoch 42/200\n",
      "43/42 [==============================] - 12s 277ms/step - loss: 1.3686 - acc: 0.3053 - auc: 0.5237 - precision: 0.0000e+00 - recall: 0.0000e+00 - f1score: 0.1020 - val_loss: 1.3540 - val_acc: 0.3032 - val_auc: 0.5247 - val_precision: 0.0000e+00 - val_recall: 0.0000e+00 - val_f1score: 0.1033\n",
      "Epoch 43/200\n",
      "43/42 [==============================] - 12s 278ms/step - loss: 1.3541 - acc: 0.3075 - auc: 0.5260 - precision: 0.1612 - recall: 1.0869e-05 - f1score: 0.1042 - val_loss: 1.3541 - val_acc: 0.3207 - val_auc: 0.5273 - val_precision: 0.2000 - val_recall: 1.3612e-05 - val_f1score: 0.1036\n",
      "Epoch 44/200\n",
      "43/42 [==============================] - 12s 281ms/step - loss: 1.3550 - acc: 0.3075 - auc: 0.5284 - precision: 0.2000 - recall: 1.3457e-05 - f1score: 0.1039 - val_loss: 1.3575 - val_acc: 0.2945 - val_auc: 0.5295 - val_precision: 0.2000 - val_recall: 1.3302e-05 - val_f1score: 0.1053\n",
      "Epoch 45/200\n",
      "43/42 [==============================] - 12s 282ms/step - loss: 1.3524 - acc: 0.3141 - auc: 0.5306 - precision: 0.2000 - recall: 1.3153e-05 - f1score: 0.1043 - val_loss: 1.3494 - val_acc: 0.3090 - val_auc: 0.5317 - val_precision: 0.2000 - val_recall: 1.3006e-05 - val_f1score: 0.1042\n",
      "Epoch 46/200\n",
      "43/42 [==============================] - 12s 277ms/step - loss: 1.3547 - acc: 0.3061 - auc: 0.5327 - precision: 0.2895 - recall: 4.1743e-05 - f1score: 0.1042 - val_loss: 1.3482 - val_acc: 0.3003 - val_auc: 0.5336 - val_precision: 0.4000 - val_recall: 7.6336e-05 - val_f1score: 0.1043\n",
      "Epoch 47/200\n",
      "43/42 [==============================] - 12s 279ms/step - loss: 1.3540 - acc: 0.2871 - auc: 0.5345 - precision: 0.4000 - recall: 7.5522e-05 - f1score: 0.1039 - val_loss: 1.3713 - val_acc: 0.2857 - val_auc: 0.5355 - val_precision: 0.4000 - val_recall: 7.4709e-05 - val_f1score: 0.1028\n",
      "Epoch 48/200\n",
      "43/42 [==============================] - 12s 281ms/step - loss: 1.3549 - acc: 0.3119 - auc: 0.5364 - precision: 0.4000 - recall: 7.3928e-05 - f1score: 0.1042 - val_loss: 1.3477 - val_acc: 0.3061 - val_auc: 0.5373 - val_precision: 0.4000 - val_recall: 7.3149e-05 - val_f1score: 0.1047\n",
      "Epoch 49/200\n",
      "43/42 [==============================] - 12s 279ms/step - loss: 1.3505 - acc: 0.3090 - auc: 0.5382 - precision: 0.4000 - recall: 7.2399e-05 - f1score: 0.1045 - val_loss: 1.3607 - val_acc: 0.2857 - val_auc: 0.5391 - val_precision: 0.4000 - val_recall: 7.1654e-05 - val_f1score: 0.1031\n",
      "Epoch 50/200\n",
      "43/42 [==============================] - 12s 279ms/step - loss: 1.3487 - acc: 0.3192 - auc: 0.5399 - precision: 0.4031 - recall: 7.2572e-05 - f1score: 0.1046 - val_loss: 1.3548 - val_acc: 0.2974 - val_auc: 0.5408 - val_precision: 0.4945 - val_recall: 1.3403e-04 - val_f1score: 0.1055\n",
      "Epoch 51/200\n",
      "43/42 [==============================] - 12s 278ms/step - loss: 1.3542 - acc: 0.3075 - auc: 0.5415 - precision: 0.4503 - recall: 1.8350e-04 - f1score: 0.1042 - val_loss: 1.3663 - val_acc: 0.3061 - val_auc: 0.5422 - val_precision: 0.4324 - val_recall: 1.8357e-04 - val_f1score: 0.1024\n",
      "Epoch 52/200\n",
      "43/42 [==============================] - 12s 280ms/step - loss: 1.3512 - acc: 0.3163 - auc: 0.5429 - precision: 0.4324 - recall: 1.8179e-04 - f1score: 0.1043 - val_loss: 1.3504 - val_acc: 0.3236 - val_auc: 0.5436 - val_precision: 0.4324 - val_recall: 1.8003e-04 - val_f1score: 0.1041\n",
      "Epoch 53/200\n",
      "43/42 [==============================] - 12s 281ms/step - loss: 1.3491 - acc: 0.3178 - auc: 0.5445 - precision: 0.4310 - recall: 1.8117e-04 - f1score: 0.1049 - val_loss: 1.3648 - val_acc: 0.3032 - val_auc: 0.5451 - val_precision: 0.4250 - val_recall: 1.8767e-04 - val_f1score: 0.1028\n",
      "Epoch 54/200\n",
      "43/42 [==============================] - 12s 280ms/step - loss: 1.3491 - acc: 0.3192 - auc: 0.5458 - precision: 0.4250 - recall: 1.8592e-04 - f1score: 0.1043 - val_loss: 1.3450 - val_acc: 0.3149 - val_auc: 0.5466 - val_precision: 0.4250 - val_recall: 1.8419e-04 - val_f1score: 0.1056\n",
      "Epoch 55/200\n"
     ]
    },
    {
     "name": "stdout",
     "output_type": "stream",
     "text": [
      "43/42 [==============================] - 12s 276ms/step - loss: 1.3468 - acc: 0.3104 - auc: 0.5473 - precision: 0.4250 - recall: 1.8251e-04 - f1score: 0.1051 - val_loss: 1.3368 - val_acc: 0.3207 - val_auc: 0.5482 - val_precision: 0.4250 - val_recall: 1.8084e-04 - val_f1score: 0.1054\n",
      "Epoch 56/200\n",
      "43/42 [==============================] - 12s 277ms/step - loss: 1.3441 - acc: 0.3148 - auc: 0.5489 - precision: 0.4307 - recall: 2.0444e-04 - f1score: 0.1051 - val_loss: 1.3240 - val_acc: 0.3236 - val_auc: 0.5496 - val_precision: 0.4348 - val_recall: 2.0894e-04 - val_f1score: 0.1064\n",
      "Epoch 57/200\n",
      "43/42 [==============================] - 12s 278ms/step - loss: 1.3166 - acc: 0.3302 - auc: 0.5508 - precision: 0.4246 - recall: 2.0758e-04 - f1score: 0.1083 - val_loss: 1.3364 - val_acc: 0.2915 - val_auc: 0.5518 - val_precision: 0.4170 - val_recall: 2.1553e-04 - val_f1score: 0.1079\n",
      "Epoch 58/200\n",
      "43/42 [==============================] - 12s 281ms/step - loss: 1.3288 - acc: 0.3236 - auc: 0.5527 - precision: 0.4114 - recall: 2.3401e-04 - f1score: 0.1076 - val_loss: 1.3139 - val_acc: 0.3178 - val_auc: 0.5536 - val_precision: 0.4173 - val_recall: 2.3840e-04 - val_f1score: 0.1081\n",
      "Epoch 59/200\n",
      "43/42 [==============================] - 12s 277ms/step - loss: 1.3078 - acc: 0.3484 - auc: 0.5548 - precision: 0.4428 - recall: 2.9943e-04 - f1score: 0.1101 - val_loss: 1.3216 - val_acc: 0.3236 - val_auc: 0.5558 - val_precision: 0.4521 - val_recall: 3.2720e-04 - val_f1score: 0.1071\n",
      "Epoch 60/200\n",
      "43/42 [==============================] - 12s 279ms/step - loss: 1.2590 - acc: 0.3608 - auc: 0.5572 - precision: 0.4402 - recall: 3.5404e-04 - f1score: 0.1145 - val_loss: 1.2703 - val_acc: 0.3732 - val_auc: 0.5588 - val_precision: 0.4162 - val_recall: 4.7596e-04 - val_f1score: 0.1148\n",
      "Epoch 61/200\n",
      "43/42 [==============================] - 12s 278ms/step - loss: 1.2278 - acc: 0.3660 - auc: 0.5605 - precision: 0.4394 - recall: 7.6981e-04 - f1score: 0.1189 - val_loss: 1.3466 - val_acc: 0.3236 - val_auc: 0.5621 - val_precision: 0.4363 - val_recall: 0.0014 - val_f1score: 0.1131\n",
      "Epoch 62/200\n",
      "43/42 [==============================] - 12s 281ms/step - loss: 1.2544 - acc: 0.3557 - auc: 0.5632 - precision: 0.4366 - recall: 0.0017 - f1score: 0.1153 - val_loss: 1.2591 - val_acc: 0.3061 - val_auc: 0.5647 - val_precision: 0.4380 - val_recall: 0.0018 - val_f1score: 0.1151\n",
      "Epoch 63/200\n",
      "43/42 [==============================] - 12s 277ms/step - loss: 1.2398 - acc: 0.3703 - auc: 0.5661 - precision: 0.4382 - recall: 0.0018 - f1score: 0.1174 - val_loss: 1.2589 - val_acc: 0.3586 - val_auc: 0.5676 - val_precision: 0.4379 - val_recall: 0.0019 - val_f1score: 0.1163\n",
      "Epoch 64/200\n",
      "43/42 [==============================] - 12s 277ms/step - loss: 1.2121 - acc: 0.3915 - auc: 0.5691 - precision: 0.4349 - recall: 0.0019 - f1score: 0.1195 - val_loss: 1.2130 - val_acc: 0.3994 - val_auc: 0.5709 - val_precision: 0.4378 - val_recall: 0.0021 - val_f1score: 0.1211\n",
      "Epoch 65/200\n",
      "43/42 [==============================] - 13s 298ms/step - loss: 1.1858 - acc: 0.4076 - auc: 0.5727 - precision: 0.4505 - recall: 0.0026 - f1score: 0.1235 - val_loss: 1.1806 - val_acc: 0.4169 - val_auc: 0.5745 - val_precision: 0.4533 - val_recall: 0.0030 - val_f1score: 0.1238\n",
      "Epoch 66/200\n",
      "43/42 [==============================] - 11s 257ms/step - loss: 1.1523 - acc: 0.3996 - auc: 0.5765 - precision: 0.4510 - recall: 0.0033 - f1score: 0.1267 - val_loss: 1.1698 - val_acc: 0.4111 - val_auc: 0.5783 - val_precision: 0.4449 - val_recall: 0.0036 - val_f1score: 0.1247\n",
      "Epoch 67/200\n",
      "43/42 [==============================] - 12s 277ms/step - loss: 1.1754 - acc: 0.4186 - auc: 0.5801 - precision: 0.4453 - recall: 0.0038 - f1score: 0.1250 - val_loss: 1.2134 - val_acc: 0.3878 - val_auc: 0.5816 - val_precision: 0.4478 - val_recall: 0.0043 - val_f1score: 0.1210\n",
      "Epoch 68/200\n",
      "43/42 [==============================] - 12s 280ms/step - loss: 1.1632 - acc: 0.4186 - auc: 0.5831 - precision: 0.4556 - recall: 0.0047 - f1score: 0.1248 - val_loss: 1.2175 - val_acc: 0.3761 - val_auc: 0.5848 - val_precision: 0.4584 - val_recall: 0.0052 - val_f1score: 0.1225\n",
      "Epoch 69/200\n",
      "43/42 [==============================] - 12s 283ms/step - loss: 1.1411 - acc: 0.4178 - auc: 0.5865 - precision: 0.4588 - recall: 0.0058 - f1score: 0.1278 - val_loss: 1.1980 - val_acc: 0.3819 - val_auc: 0.5881 - val_precision: 0.4632 - val_recall: 0.0063 - val_f1score: 0.1242\n",
      "Epoch 70/200\n",
      "43/42 [==============================] - 12s 279ms/step - loss: 1.1426 - acc: 0.4419 - auc: 0.5896 - precision: 0.4679 - recall: 0.0069 - f1score: 0.1276 - val_loss: 1.2152 - val_acc: 0.4315 - val_auc: 0.5912 - val_precision: 0.4737 - val_recall: 0.0076 - val_f1score: 0.1248\n",
      "Epoch 71/200\n",
      "43/42 [==============================] - 12s 280ms/step - loss: 1.1249 - acc: 0.4317 - auc: 0.5928 - precision: 0.4756 - recall: 0.0083 - f1score: 0.1294 - val_loss: 1.2601 - val_acc: 0.3965 - val_auc: 0.5943 - val_precision: 0.4808 - val_recall: 0.0092 - val_f1score: 0.1239\n",
      "Epoch 72/200\n",
      "43/42 [==============================] - 12s 278ms/step - loss: 1.1179 - acc: 0.4595 - auc: 0.5959 - precision: 0.4857 - recall: 0.0101 - f1score: 0.1302 - val_loss: 1.1102 - val_acc: 0.4198 - val_auc: 0.5976 - val_precision: 0.4879 - val_recall: 0.0108 - val_f1score: 0.1296\n",
      "Epoch 73/200\n",
      "43/42 [==============================] - 12s 276ms/step - loss: 1.1081 - acc: 0.4412 - auc: 0.5992 - precision: 0.4915 - recall: 0.0118 - f1score: 0.1314 - val_loss: 1.2291 - val_acc: 0.3761 - val_auc: 0.6007 - val_precision: 0.4973 - val_recall: 0.0128 - val_f1score: 0.1227\n",
      "Epoch 74/200\n",
      "43/42 [==============================] - 12s 280ms/step - loss: 1.0795 - acc: 0.4419 - auc: 0.6023 - precision: 0.4990 - recall: 0.0138 - f1score: 0.1337 - val_loss: 1.0879 - val_acc: 0.4606 - val_auc: 0.6040 - val_precision: 0.5040 - val_recall: 0.0147 - val_f1score: 0.1320\n",
      "Epoch 75/200\n",
      "43/42 [==============================] - 12s 276ms/step - loss: 1.0848 - acc: 0.4565 - auc: 0.6056 - precision: 0.5082 - recall: 0.0158 - f1score: 0.1338 - val_loss: 1.1177 - val_acc: 0.4140 - val_auc: 0.6071 - val_precision: 0.5113 - val_recall: 0.0170 - val_f1score: 0.1311\n",
      "Epoch 76/200\n",
      "43/42 [==============================] - 12s 280ms/step - loss: 1.0670 - acc: 0.4719 - auc: 0.6087 - precision: 0.5147 - recall: 0.0180 - f1score: 0.1354 - val_loss: 1.0861 - val_acc: 0.4665 - val_auc: 0.6104 - val_precision: 0.5193 - val_recall: 0.0192 - val_f1score: 0.1337\n",
      "Epoch 77/200\n",
      "43/42 [==============================] - 12s 278ms/step - loss: 1.0700 - acc: 0.4763 - auc: 0.6118 - precision: 0.5228 - recall: 0.0202 - f1score: 0.1347 - val_loss: 1.0973 - val_acc: 0.4257 - val_auc: 0.6134 - val_precision: 0.5265 - val_recall: 0.0216 - val_f1score: 0.1328\n",
      "Epoch 78/200\n",
      "43/42 [==============================] - 12s 281ms/step - loss: 1.0618 - acc: 0.4836 - auc: 0.6150 - precision: 0.5293 - recall: 0.0229 - f1score: 0.1366 - val_loss: 1.1073 - val_acc: 0.4577 - val_auc: 0.6166 - val_precision: 0.5312 - val_recall: 0.0241 - val_f1score: 0.1327\n",
      "Epoch 79/200\n",
      "43/42 [==============================] - 12s 282ms/step - loss: 1.0624 - acc: 0.4755 - auc: 0.6180 - precision: 0.5313 - recall: 0.0251 - f1score: 0.1358 - val_loss: 1.0879 - val_acc: 0.4548 - val_auc: 0.6195 - val_precision: 0.5343 - val_recall: 0.0261 - val_f1score: 0.1325\n",
      "Epoch 80/200\n",
      "43/42 [==============================] - 12s 281ms/step - loss: 1.0557 - acc: 0.4711 - auc: 0.6210 - precision: 0.5353 - recall: 0.0273 - f1score: 0.1368 - val_loss: 1.0787 - val_acc: 0.4548 - val_auc: 0.6224 - val_precision: 0.5368 - val_recall: 0.0287 - val_f1score: 0.1357\n",
      "Epoch 81/200\n",
      "43/42 [==============================] - 12s 277ms/step - loss: 1.0409 - acc: 0.4865 - auc: 0.6240 - precision: 0.5390 - recall: 0.0302 - f1score: 0.1387 - val_loss: 1.1007 - val_acc: 0.4461 - val_auc: 0.6253 - val_precision: 0.5401 - val_recall: 0.0315 - val_f1score: 0.1323\n",
      "Epoch 82/200\n",
      "43/42 [==============================] - 12s 280ms/step - loss: 1.0452 - acc: 0.4777 - auc: 0.6267 - precision: 0.5421 - recall: 0.0326 - f1score: 0.1377 - val_loss: 1.0551 - val_acc: 0.4781 - val_auc: 0.6281 - val_precision: 0.5434 - val_recall: 0.0339 - val_f1score: 0.1363\n",
      "Epoch 83/200\n"
     ]
    },
    {
     "name": "stdout",
     "output_type": "stream",
     "text": [
      "43/42 [==============================] - 12s 277ms/step - loss: 1.0351 - acc: 0.4989 - auc: 0.6296 - precision: 0.5451 - recall: 0.0352 - f1score: 0.1399 - val_loss: 1.0976 - val_acc: 0.4315 - val_auc: 0.6309 - val_precision: 0.5458 - val_recall: 0.0365 - val_f1score: 0.1331\n",
      "Epoch 84/200\n",
      "43/42 [==============================] - 12s 281ms/step - loss: 1.0688 - acc: 0.4887 - auc: 0.6322 - precision: 0.5461 - recall: 0.0374 - f1score: 0.1357 - val_loss: 1.1058 - val_acc: 0.4286 - val_auc: 0.6334 - val_precision: 0.5470 - val_recall: 0.0385 - val_f1score: 0.1326\n",
      "Epoch 85/200\n",
      "43/42 [==============================] - 12s 281ms/step - loss: 1.0286 - acc: 0.4894 - auc: 0.6347 - precision: 0.5486 - recall: 0.0396 - f1score: 0.1387 - val_loss: 1.0718 - val_acc: 0.4840 - val_auc: 0.6360 - val_precision: 0.5503 - val_recall: 0.0408 - val_f1score: 0.1350\n",
      "Epoch 86/200\n",
      "43/42 [==============================] - 12s 281ms/step - loss: 1.0109 - acc: 0.5011 - auc: 0.6373 - precision: 0.5512 - recall: 0.0421 - f1score: 0.1406 - val_loss: 1.1150 - val_acc: 0.4461 - val_auc: 0.6386 - val_precision: 0.5523 - val_recall: 0.0434 - val_f1score: 0.1348\n",
      "Epoch 87/200\n",
      "43/42 [==============================] - 12s 280ms/step - loss: 1.0427 - acc: 0.4806 - auc: 0.6399 - precision: 0.5532 - recall: 0.0448 - f1score: 0.1392 - val_loss: 1.0559 - val_acc: 0.4723 - val_auc: 0.6410 - val_precision: 0.5530 - val_recall: 0.0458 - val_f1score: 0.1348\n",
      "Epoch 88/200\n",
      "43/42 [==============================] - 12s 279ms/step - loss: 0.9952 - acc: 0.5099 - auc: 0.6423 - precision: 0.5540 - recall: 0.0469 - f1score: 0.1419 - val_loss: 1.1110 - val_acc: 0.4781 - val_auc: 0.6436 - val_precision: 0.5556 - val_recall: 0.0482 - val_f1score: 0.1357\n",
      "Epoch 89/200\n",
      "43/42 [==============================] - 12s 281ms/step - loss: 1.0290 - acc: 0.4770 - auc: 0.6447 - precision: 0.5564 - recall: 0.0496 - f1score: 0.1400 - val_loss: 1.0647 - val_acc: 0.4606 - val_auc: 0.6459 - val_precision: 0.5573 - val_recall: 0.0507 - val_f1score: 0.1370\n",
      "Epoch 90/200\n",
      "43/42 [==============================] - 12s 281ms/step - loss: 0.9870 - acc: 0.5084 - auc: 0.6472 - precision: 0.5573 - recall: 0.0518 - f1score: 0.1432 - val_loss: 1.2315 - val_acc: 0.3965 - val_auc: 0.6483 - val_precision: 0.5584 - val_recall: 0.0532 - val_f1score: 0.1288\n",
      "Epoch 91/200\n",
      "43/42 [==============================] - 12s 280ms/step - loss: 1.0062 - acc: 0.5033 - auc: 0.6494 - precision: 0.5587 - recall: 0.0545 - f1score: 0.1425 - val_loss: 1.0929 - val_acc: 0.4781 - val_auc: 0.6506 - val_precision: 0.5597 - val_recall: 0.0558 - val_f1score: 0.1358\n",
      "Epoch 92/200\n",
      "43/42 [==============================] - 12s 281ms/step - loss: 0.9934 - acc: 0.4916 - auc: 0.6518 - precision: 0.5603 - recall: 0.0571 - f1score: 0.1430 - val_loss: 1.0555 - val_acc: 0.4781 - val_auc: 0.6529 - val_precision: 0.5607 - val_recall: 0.0584 - val_f1score: 0.1379\n",
      "Epoch 93/200\n",
      "43/42 [==============================] - 12s 281ms/step - loss: 0.9815 - acc: 0.4996 - auc: 0.6541 - precision: 0.5615 - recall: 0.0597 - f1score: 0.1439 - val_loss: 1.0302 - val_acc: 0.4898 - val_auc: 0.6552 - val_precision: 0.5618 - val_recall: 0.0609 - val_f1score: 0.1384\n",
      "Epoch 94/200\n",
      "43/42 [==============================] - 12s 278ms/step - loss: 0.9665 - acc: 0.5223 - auc: 0.6564 - precision: 0.5621 - recall: 0.0621 - f1score: 0.1447 - val_loss: 1.1037 - val_acc: 0.4869 - val_auc: 0.6576 - val_precision: 0.5628 - val_recall: 0.0634 - val_f1score: 0.1378\n",
      "Epoch 95/200\n",
      "43/42 [==============================] - 12s 280ms/step - loss: 0.9940 - acc: 0.4923 - auc: 0.6587 - precision: 0.5627 - recall: 0.0647 - f1score: 0.1432 - val_loss: 1.1323 - val_acc: 0.4315 - val_auc: 0.6596 - val_precision: 0.5630 - val_recall: 0.0659 - val_f1score: 0.1355\n",
      "Epoch 96/200\n",
      "43/42 [==============================] - 12s 280ms/step - loss: 0.9776 - acc: 0.5179 - auc: 0.6607 - precision: 0.5642 - recall: 0.0671 - f1score: 0.1443 - val_loss: 1.0331 - val_acc: 0.4577 - val_auc: 0.6618 - val_precision: 0.5649 - val_recall: 0.0683 - val_f1score: 0.1412\n",
      "Epoch 97/200\n",
      "43/42 [==============================] - 12s 280ms/step - loss: 0.9712 - acc: 0.5223 - auc: 0.6628 - precision: 0.5652 - recall: 0.0696 - f1score: 0.1450 - val_loss: 1.0327 - val_acc: 0.4490 - val_auc: 0.6640 - val_precision: 0.5662 - val_recall: 0.0709 - val_f1score: 0.1399\n",
      "Epoch 98/200\n",
      "43/42 [==============================] - 12s 280ms/step - loss: 0.9996 - acc: 0.5033 - auc: 0.6650 - precision: 0.5662 - recall: 0.0722 - f1score: 0.1438 - val_loss: 1.0383 - val_acc: 0.4927 - val_auc: 0.6660 - val_precision: 0.5667 - val_recall: 0.0733 - val_f1score: 0.1389\n",
      "Epoch 99/200\n",
      "43/42 [==============================] - 12s 279ms/step - loss: 0.9701 - acc: 0.5252 - auc: 0.6670 - precision: 0.5670 - recall: 0.0744 - f1score: 0.1453 - val_loss: 1.0504 - val_acc: 0.4665 - val_auc: 0.6681 - val_precision: 0.5677 - val_recall: 0.0756 - val_f1score: 0.1405\n",
      "Epoch 100/200\n",
      "43/42 [==============================] - 12s 281ms/step - loss: 0.9631 - acc: 0.5113 - auc: 0.6691 - precision: 0.5678 - recall: 0.0768 - f1score: 0.1459 - val_loss: 1.0712 - val_acc: 0.4869 - val_auc: 0.6701 - val_precision: 0.5684 - val_recall: 0.0781 - val_f1score: 0.1382\n",
      "Epoch 101/200\n",
      "43/42 [==============================] - 12s 280ms/step - loss: 0.9450 - acc: 0.5340 - auc: 0.6711 - precision: 0.5688 - recall: 0.0794 - f1score: 0.1482 - val_loss: 1.0614 - val_acc: 0.4694 - val_auc: 0.6721 - val_precision: 0.5694 - val_recall: 0.0806 - val_f1score: 0.1386\n",
      "Epoch 102/200\n",
      "43/42 [==============================] - 12s 281ms/step - loss: 0.9412 - acc: 0.5369 - auc: 0.6731 - precision: 0.5697 - recall: 0.0818 - f1score: 0.1480 - val_loss: 1.0706 - val_acc: 0.4665 - val_auc: 0.6741 - val_precision: 0.5703 - val_recall: 0.0831 - val_f1score: 0.1407\n",
      "Epoch 103/200\n",
      "43/42 [==============================] - 12s 280ms/step - loss: 0.9668 - acc: 0.5245 - auc: 0.6751 - precision: 0.5707 - recall: 0.0844 - f1score: 0.1469 - val_loss: 1.0367 - val_acc: 0.4956 - val_auc: 0.6760 - val_precision: 0.5717 - val_recall: 0.0857 - val_f1score: 0.1410\n",
      "Epoch 104/200\n",
      "43/42 [==============================] - 12s 280ms/step - loss: 0.9365 - acc: 0.5464 - auc: 0.6770 - precision: 0.5725 - recall: 0.0870 - f1score: 0.1486 - val_loss: 1.2014 - val_acc: 0.4227 - val_auc: 0.6779 - val_precision: 0.5729 - val_recall: 0.0884 - val_f1score: 0.1324\n",
      "Epoch 105/200\n",
      "43/42 [==============================] - 12s 282ms/step - loss: 0.9221 - acc: 0.5376 - auc: 0.6788 - precision: 0.5734 - recall: 0.0896 - f1score: 0.1496 - val_loss: 1.1989 - val_acc: 0.4490 - val_auc: 0.6798 - val_precision: 0.5736 - val_recall: 0.0909 - val_f1score: 0.1354\n",
      "Epoch 106/200\n",
      "43/42 [==============================] - 12s 278ms/step - loss: 0.9203 - acc: 0.5500 - auc: 0.6807 - precision: 0.5741 - recall: 0.0924 - f1score: 0.1512 - val_loss: 1.0843 - val_acc: 0.4781 - val_auc: 0.6817 - val_precision: 0.5744 - val_recall: 0.0938 - val_f1score: 0.1407\n",
      "Epoch 107/200\n",
      "43/42 [==============================] - 12s 280ms/step - loss: 0.9316 - acc: 0.5449 - auc: 0.6825 - precision: 0.5747 - recall: 0.0951 - f1score: 0.1497 - val_loss: 0.9979 - val_acc: 0.5248 - val_auc: 0.6835 - val_precision: 0.5754 - val_recall: 0.0965 - val_f1score: 0.1445\n",
      "Epoch 108/200\n",
      "43/42 [==============================] - 12s 276ms/step - loss: 0.9291 - acc: 0.5435 - auc: 0.6844 - precision: 0.5759 - recall: 0.0977 - f1score: 0.1497 - val_loss: 1.1028 - val_acc: 0.4781 - val_auc: 0.6853 - val_precision: 0.5762 - val_recall: 0.0990 - val_f1score: 0.1397\n",
      "Epoch 109/200\n",
      "43/42 [==============================] - 12s 281ms/step - loss: 0.9222 - acc: 0.5551 - auc: 0.6862 - precision: 0.5767 - recall: 0.1001 - f1score: 0.1499 - val_loss: 0.9925 - val_acc: 0.4985 - val_auc: 0.6871 - val_precision: 0.5773 - val_recall: 0.1015 - val_f1score: 0.1459\n",
      "Epoch 110/200\n",
      "43/42 [==============================] - 12s 276ms/step - loss: 0.9181 - acc: 0.5391 - auc: 0.6880 - precision: 0.5774 - recall: 0.1028 - f1score: 0.1503 - val_loss: 1.0780 - val_acc: 0.5219 - val_auc: 0.6889 - val_precision: 0.5779 - val_recall: 0.1040 - val_f1score: 0.1393\n",
      "Epoch 111/200\n"
     ]
    },
    {
     "name": "stdout",
     "output_type": "stream",
     "text": [
      "43/42 [==============================] - 12s 279ms/step - loss: 0.9067 - acc: 0.5274 - auc: 0.6898 - precision: 0.5779 - recall: 0.1053 - f1score: 0.1519 - val_loss: 1.0812 - val_acc: 0.4606 - val_auc: 0.6906 - val_precision: 0.5779 - val_recall: 0.1064 - val_f1score: 0.1395\n",
      "Epoch 112/200\n",
      "43/42 [==============================] - 12s 281ms/step - loss: 0.8966 - acc: 0.5551 - auc: 0.6916 - precision: 0.5784 - recall: 0.1077 - f1score: 0.1533 - val_loss: 1.1443 - val_acc: 0.4402 - val_auc: 0.6924 - val_precision: 0.5789 - val_recall: 0.1091 - val_f1score: 0.1369\n",
      "Epoch 113/200\n",
      "43/42 [==============================] - 12s 284ms/step - loss: 0.9077 - acc: 0.5413 - auc: 0.6932 - precision: 0.5792 - recall: 0.1103 - f1score: 0.1513 - val_loss: 1.0188 - val_acc: 0.5510 - val_auc: 0.6940 - val_precision: 0.5796 - val_recall: 0.1115 - val_f1score: 0.1442\n",
      "Epoch 114/200\n",
      "43/42 [==============================] - 12s 279ms/step - loss: 0.9080 - acc: 0.5471 - auc: 0.6949 - precision: 0.5803 - recall: 0.1128 - f1score: 0.1516 - val_loss: 1.0080 - val_acc: 0.5131 - val_auc: 0.6957 - val_precision: 0.5810 - val_recall: 0.1140 - val_f1score: 0.1458\n",
      "Epoch 115/200\n",
      "43/42 [==============================] - 12s 280ms/step - loss: 0.9179 - acc: 0.5413 - auc: 0.6965 - precision: 0.5812 - recall: 0.1153 - f1score: 0.1511 - val_loss: 1.1384 - val_acc: 0.4840 - val_auc: 0.6972 - val_precision: 0.5814 - val_recall: 0.1165 - val_f1score: 0.1367\n",
      "Epoch 116/200\n",
      "43/42 [==============================] - 13s 292ms/step - loss: 0.9002 - acc: 0.5639 - auc: 0.6980 - precision: 0.5819 - recall: 0.1177 - f1score: 0.1525 - val_loss: 1.0534 - val_acc: 0.4985 - val_auc: 0.6988 - val_precision: 0.5824 - val_recall: 0.1188 - val_f1score: 0.1413\n",
      "Epoch 117/200\n",
      "43/42 [==============================] - 12s 289ms/step - loss: 0.9183 - acc: 0.5259 - auc: 0.6996 - precision: 0.5826 - recall: 0.1200 - f1score: 0.1506 - val_loss: 1.1214 - val_acc: 0.4956 - val_auc: 0.7003 - val_precision: 0.5826 - val_recall: 0.1211 - val_f1score: 0.1388\n",
      "Epoch 118/200\n",
      "43/42 [==============================] - 12s 283ms/step - loss: 0.9028 - acc: 0.5267 - auc: 0.7010 - precision: 0.5827 - recall: 0.1222 - f1score: 0.1523 - val_loss: 1.0491 - val_acc: 0.4694 - val_auc: 0.7018 - val_precision: 0.5830 - val_recall: 0.1234 - val_f1score: 0.1423\n",
      "Epoch 119/200\n",
      "43/42 [==============================] - 12s 280ms/step - loss: 0.9199 - acc: 0.5493 - auc: 0.7025 - precision: 0.5835 - recall: 0.1246 - f1score: 0.1509 - val_loss: 1.0298 - val_acc: 0.5015 - val_auc: 0.7032 - val_precision: 0.5837 - val_recall: 0.1257 - val_f1score: 0.1439\n",
      "Epoch 120/200\n",
      "43/42 [==============================] - 12s 280ms/step - loss: 0.8937 - acc: 0.5698 - auc: 0.7040 - precision: 0.5843 - recall: 0.1269 - f1score: 0.1532 - val_loss: 1.0286 - val_acc: 0.5277 - val_auc: 0.7047 - val_precision: 0.5847 - val_recall: 0.1281 - val_f1score: 0.1439\n",
      "Epoch 121/200\n",
      "43/42 [==============================] - 12s 281ms/step - loss: 0.8817 - acc: 0.5639 - auc: 0.7055 - precision: 0.5850 - recall: 0.1292 - f1score: 0.1541 - val_loss: 1.0434 - val_acc: 0.4927 - val_auc: 0.7062 - val_precision: 0.5856 - val_recall: 0.1304 - val_f1score: 0.1446\n",
      "Epoch 122/200\n",
      "43/42 [==============================] - 12s 279ms/step - loss: 0.8700 - acc: 0.5617 - auc: 0.7070 - precision: 0.5858 - recall: 0.1316 - f1score: 0.1555 - val_loss: 1.0950 - val_acc: 0.4461 - val_auc: 0.7077 - val_precision: 0.5859 - val_recall: 0.1328 - val_f1score: 0.1412\n",
      "Epoch 123/200\n",
      "43/42 [==============================] - 12s 280ms/step - loss: 0.8608 - acc: 0.5756 - auc: 0.7085 - precision: 0.5861 - recall: 0.1340 - f1score: 0.1564 - val_loss: 1.0350 - val_acc: 0.4810 - val_auc: 0.7093 - val_precision: 0.5868 - val_recall: 0.1353 - val_f1score: 0.1436\n",
      "Epoch 124/200\n",
      "43/42 [==============================] - 12s 280ms/step - loss: 0.8934 - acc: 0.5588 - auc: 0.7100 - precision: 0.5871 - recall: 0.1365 - f1score: 0.1538 - val_loss: 1.0635 - val_acc: 0.4752 - val_auc: 0.7106 - val_precision: 0.5875 - val_recall: 0.1376 - val_f1score: 0.1409\n",
      "Epoch 125/200\n",
      "43/42 [==============================] - 12s 280ms/step - loss: 0.8809 - acc: 0.5610 - auc: 0.7113 - precision: 0.5879 - recall: 0.1386 - f1score: 0.1542 - val_loss: 1.0615 - val_acc: 0.4956 - val_auc: 0.7120 - val_precision: 0.5880 - val_recall: 0.1397 - val_f1score: 0.1417\n",
      "Epoch 126/200\n",
      "43/42 [==============================] - 12s 281ms/step - loss: 0.8953 - acc: 0.5639 - auc: 0.7126 - precision: 0.5881 - recall: 0.1408 - f1score: 0.1533 - val_loss: 1.0599 - val_acc: 0.4985 - val_auc: 0.7133 - val_precision: 0.5884 - val_recall: 0.1418 - val_f1score: 0.1420\n",
      "Epoch 127/200\n",
      "43/42 [==============================] - 12s 281ms/step - loss: 0.8894 - acc: 0.5661 - auc: 0.7140 - precision: 0.5887 - recall: 0.1429 - f1score: 0.1544 - val_loss: 1.0071 - val_acc: 0.5190 - val_auc: 0.7146 - val_precision: 0.5889 - val_recall: 0.1440 - val_f1score: 0.1447\n",
      "Epoch 128/200\n",
      "43/42 [==============================] - 12s 280ms/step - loss: 0.8694 - acc: 0.5749 - auc: 0.7153 - precision: 0.5893 - recall: 0.1452 - f1score: 0.1555 - val_loss: 1.0640 - val_acc: 0.4723 - val_auc: 0.7159 - val_precision: 0.5896 - val_recall: 0.1463 - val_f1score: 0.1420\n",
      "Epoch 129/200\n",
      "43/42 [==============================] - 12s 279ms/step - loss: 0.8480 - acc: 0.5939 - auc: 0.7166 - precision: 0.5899 - recall: 0.1475 - f1score: 0.1577 - val_loss: 1.0269 - val_acc: 0.5044 - val_auc: 0.7173 - val_precision: 0.5903 - val_recall: 0.1487 - val_f1score: 0.1461\n",
      "Epoch 130/200\n",
      "43/42 [==============================] - 12s 278ms/step - loss: 0.8645 - acc: 0.5727 - auc: 0.7180 - precision: 0.5906 - recall: 0.1499 - f1score: 0.1568 - val_loss: 0.9768 - val_acc: 0.5160 - val_auc: 0.7186 - val_precision: 0.5909 - val_recall: 0.1511 - val_f1score: 0.1471\n",
      "Epoch 131/200\n",
      "43/42 [==============================] - 12s 276ms/step - loss: 0.8684 - acc: 0.5858 - auc: 0.7193 - precision: 0.5913 - recall: 0.1522 - f1score: 0.1558 - val_loss: 1.0385 - val_acc: 0.5102 - val_auc: 0.7199 - val_precision: 0.5917 - val_recall: 0.1533 - val_f1score: 0.1449\n",
      "Epoch 132/200\n",
      "43/42 [==============================] - 12s 279ms/step - loss: 0.8447 - acc: 0.5931 - auc: 0.7206 - precision: 0.5922 - recall: 0.1544 - f1score: 0.1587 - val_loss: 1.0393 - val_acc: 0.4985 - val_auc: 0.7212 - val_precision: 0.5925 - val_recall: 0.1556 - val_f1score: 0.1443\n",
      "Epoch 133/200\n",
      "43/42 [==============================] - 12s 279ms/step - loss: 0.8428 - acc: 0.5946 - auc: 0.7219 - precision: 0.5929 - recall: 0.1567 - f1score: 0.1589 - val_loss: 1.1722 - val_acc: 0.4810 - val_auc: 0.7225 - val_precision: 0.5934 - val_recall: 0.1579 - val_f1score: 0.1391\n",
      "Epoch 134/200\n",
      "43/42 [==============================] - 12s 280ms/step - loss: 0.8756 - acc: 0.5814 - auc: 0.7231 - precision: 0.5936 - recall: 0.1591 - f1score: 0.1561 - val_loss: 1.0685 - val_acc: 0.4985 - val_auc: 0.7236 - val_precision: 0.5937 - val_recall: 0.1602 - val_f1score: 0.1417\n",
      "Epoch 135/200\n",
      "43/42 [==============================] - 12s 279ms/step - loss: 0.8749 - acc: 0.5690 - auc: 0.7242 - precision: 0.5940 - recall: 0.1613 - f1score: 0.1551 - val_loss: 1.0255 - val_acc: 0.5219 - val_auc: 0.7248 - val_precision: 0.5943 - val_recall: 0.1623 - val_f1score: 0.1463\n",
      "Epoch 136/200\n",
      "43/42 [==============================] - 12s 280ms/step - loss: 0.8738 - acc: 0.5734 - auc: 0.7254 - precision: 0.5946 - recall: 0.1633 - f1score: 0.1558 - val_loss: 1.0547 - val_acc: 0.5015 - val_auc: 0.7260 - val_precision: 0.5949 - val_recall: 0.1644 - val_f1score: 0.1441\n",
      "Epoch 137/200\n",
      "43/42 [==============================] - 12s 281ms/step - loss: 0.8406 - acc: 0.6077 - auc: 0.7266 - precision: 0.5953 - recall: 0.1655 - f1score: 0.1591 - val_loss: 1.0436 - val_acc: 0.5015 - val_auc: 0.7272 - val_precision: 0.5958 - val_recall: 0.1667 - val_f1score: 0.1450\n",
      "Epoch 138/200\n",
      "43/42 [==============================] - 12s 282ms/step - loss: 0.8314 - acc: 0.5873 - auc: 0.7278 - precision: 0.5960 - recall: 0.1677 - f1score: 0.1595 - val_loss: 1.0282 - val_acc: 0.5160 - val_auc: 0.7284 - val_precision: 0.5963 - val_recall: 0.1689 - val_f1score: 0.1463\n",
      "Epoch 139/200\n"
     ]
    },
    {
     "name": "stdout",
     "output_type": "stream",
     "text": [
      "43/42 [==============================] - 12s 281ms/step - loss: 0.8201 - acc: 0.5931 - auc: 0.7290 - precision: 0.5966 - recall: 0.1699 - f1score: 0.1607 - val_loss: 1.0253 - val_acc: 0.5015 - val_auc: 0.7296 - val_precision: 0.5970 - val_recall: 0.1711 - val_f1score: 0.1466\n",
      "Epoch 140/200\n",
      "43/42 [==============================] - 12s 281ms/step - loss: 0.8219 - acc: 0.6012 - auc: 0.7302 - precision: 0.5973 - recall: 0.1722 - f1score: 0.1607 - val_loss: 1.0224 - val_acc: 0.4985 - val_auc: 0.7309 - val_precision: 0.5975 - val_recall: 0.1733 - val_f1score: 0.1469\n",
      "Epoch 141/200\n",
      "43/42 [==============================] - 12s 281ms/step - loss: 0.8026 - acc: 0.6092 - auc: 0.7315 - precision: 0.5979 - recall: 0.1744 - f1score: 0.1626 - val_loss: 1.0955 - val_acc: 0.4927 - val_auc: 0.7321 - val_precision: 0.5983 - val_recall: 0.1756 - val_f1score: 0.1444\n",
      "Epoch 142/200\n",
      "43/42 [==============================] - 12s 280ms/step - loss: 0.8375 - acc: 0.5800 - auc: 0.7326 - precision: 0.5986 - recall: 0.1767 - f1score: 0.1598 - val_loss: 1.0215 - val_acc: 0.5306 - val_auc: 0.7332 - val_precision: 0.5989 - val_recall: 0.1778 - val_f1score: 0.1469\n",
      "Epoch 143/200\n",
      "43/42 [==============================] - 12s 280ms/step - loss: 0.8050 - acc: 0.6099 - auc: 0.7338 - precision: 0.5995 - recall: 0.1790 - f1score: 0.1629 - val_loss: 1.1302 - val_acc: 0.4461 - val_auc: 0.7344 - val_precision: 0.5997 - val_recall: 0.1801 - val_f1score: 0.1392\n",
      "Epoch 144/200\n",
      "43/42 [==============================] - 12s 281ms/step - loss: 0.8468 - acc: 0.5909 - auc: 0.7349 - precision: 0.5997 - recall: 0.1810 - f1score: 0.1593 - val_loss: 1.0170 - val_acc: 0.4898 - val_auc: 0.7354 - val_precision: 0.5999 - val_recall: 0.1820 - val_f1score: 0.1438\n",
      "Epoch 145/200\n",
      "43/42 [==============================] - 12s 279ms/step - loss: 0.8326 - acc: 0.5953 - auc: 0.7359 - precision: 0.6002 - recall: 0.1830 - f1score: 0.1593 - val_loss: 1.0580 - val_acc: 0.4810 - val_auc: 0.7364 - val_precision: 0.6003 - val_recall: 0.1840 - val_f1score: 0.1420\n",
      "Epoch 146/200\n",
      "43/42 [==============================] - 12s 281ms/step - loss: 0.7905 - acc: 0.6245 - auc: 0.7370 - precision: 0.6007 - recall: 0.1851 - f1score: 0.1637 - val_loss: 1.0252 - val_acc: 0.5306 - val_auc: 0.7376 - val_precision: 0.6013 - val_recall: 0.1862 - val_f1score: 0.1461\n",
      "Epoch 147/200\n",
      "43/42 [==============================] - 12s 281ms/step - loss: 0.7917 - acc: 0.6304 - auc: 0.7382 - precision: 0.6018 - recall: 0.1873 - f1score: 0.1647 - val_loss: 0.9964 - val_acc: 0.5190 - val_auc: 0.7388 - val_precision: 0.6022 - val_recall: 0.1884 - val_f1score: 0.1464\n",
      "Epoch 148/200\n",
      "43/42 [==============================] - 12s 281ms/step - loss: 0.8003 - acc: 0.6019 - auc: 0.7393 - precision: 0.6026 - recall: 0.1895 - f1score: 0.1631 - val_loss: 1.0094 - val_acc: 0.5015 - val_auc: 0.7399 - val_precision: 0.6027 - val_recall: 0.1904 - val_f1score: 0.1464\n",
      "Epoch 149/200\n",
      "43/42 [==============================] - 12s 281ms/step - loss: 0.8148 - acc: 0.6019 - auc: 0.7404 - precision: 0.6029 - recall: 0.1914 - f1score: 0.1617 - val_loss: 1.0189 - val_acc: 0.4985 - val_auc: 0.7409 - val_precision: 0.6033 - val_recall: 0.1924 - val_f1score: 0.1476\n",
      "Epoch 150/200\n",
      "43/42 [==============================] - 12s 279ms/step - loss: 0.8104 - acc: 0.5953 - auc: 0.7415 - precision: 0.6035 - recall: 0.1934 - f1score: 0.1623 - val_loss: 0.9807 - val_acc: 0.5190 - val_auc: 0.7420 - val_precision: 0.6037 - val_recall: 0.1944 - val_f1score: 0.1480\n",
      "Epoch 151/200\n",
      "43/42 [==============================] - 12s 279ms/step - loss: 0.7844 - acc: 0.6150 - auc: 0.7425 - precision: 0.6041 - recall: 0.1954 - f1score: 0.1643 - val_loss: 1.2270 - val_acc: 0.4548 - val_auc: 0.7430 - val_precision: 0.6043 - val_recall: 0.1964 - val_f1score: 0.1377\n",
      "Epoch 152/200\n",
      "43/42 [==============================] - 12s 280ms/step - loss: 0.8442 - acc: 0.6004 - auc: 0.7435 - precision: 0.6046 - recall: 0.1975 - f1score: 0.1607 - val_loss: 1.0137 - val_acc: 0.4985 - val_auc: 0.7439 - val_precision: 0.6048 - val_recall: 0.1984 - val_f1score: 0.1457\n",
      "Epoch 153/200\n",
      "43/42 [==============================] - 12s 281ms/step - loss: 0.8141 - acc: 0.6165 - auc: 0.7444 - precision: 0.6051 - recall: 0.1993 - f1score: 0.1616 - val_loss: 1.0955 - val_acc: 0.4869 - val_auc: 0.7449 - val_precision: 0.6055 - val_recall: 0.2003 - val_f1score: 0.1426\n",
      "Epoch 154/200\n",
      "43/42 [==============================] - 12s 281ms/step - loss: 0.7922 - acc: 0.6362 - auc: 0.7454 - precision: 0.6059 - recall: 0.2013 - f1score: 0.1642 - val_loss: 1.0545 - val_acc: 0.5306 - val_auc: 0.7459 - val_precision: 0.6065 - val_recall: 0.2024 - val_f1score: 0.1472\n",
      "Epoch 155/200\n",
      "43/42 [==============================] - 12s 284ms/step - loss: 0.7768 - acc: 0.6172 - auc: 0.7465 - precision: 0.6068 - recall: 0.2035 - f1score: 0.1659 - val_loss: 1.1499 - val_acc: 0.4548 - val_auc: 0.7469 - val_precision: 0.6070 - val_recall: 0.2045 - val_f1score: 0.1397\n",
      "Epoch 156/200\n",
      "43/42 [==============================] - 12s 281ms/step - loss: 0.8071 - acc: 0.6121 - auc: 0.7474 - precision: 0.6072 - recall: 0.2054 - f1score: 0.1626 - val_loss: 1.1037 - val_acc: 0.4869 - val_auc: 0.7479 - val_precision: 0.6074 - val_recall: 0.2064 - val_f1score: 0.1446\n",
      "Epoch 157/200\n",
      "43/42 [==============================] - 12s 281ms/step - loss: 0.7857 - acc: 0.6099 - auc: 0.7484 - precision: 0.6077 - recall: 0.2074 - f1score: 0.1646 - val_loss: 1.1160 - val_acc: 0.4869 - val_auc: 0.7488 - val_precision: 0.6078 - val_recall: 0.2083 - val_f1score: 0.1415\n",
      "Epoch 158/200\n",
      "43/42 [==============================] - 12s 281ms/step - loss: 0.7711 - acc: 0.6318 - auc: 0.7493 - precision: 0.6082 - recall: 0.2093 - f1score: 0.1660 - val_loss: 1.0999 - val_acc: 0.4723 - val_auc: 0.7498 - val_precision: 0.6084 - val_recall: 0.2104 - val_f1score: 0.1428\n",
      "Epoch 159/200\n",
      "43/42 [==============================] - 12s 281ms/step - loss: 0.7951 - acc: 0.6311 - auc: 0.7503 - precision: 0.6088 - recall: 0.2113 - f1score: nan - val_loss: 1.0786 - val_acc: 0.5102 - val_auc: 0.7507 - val_precision: 0.6090 - val_recall: 0.2123 - val_f1score: 0.1463\n",
      "Epoch 160/200\n",
      "43/42 [==============================] - 12s 281ms/step - loss: 0.7691 - acc: 0.6282 - auc: 0.7512 - precision: 0.6092 - recall: 0.2132 - f1score: 0.1653 - val_loss: 1.0384 - val_acc: 0.5015 - val_auc: 0.7517 - val_precision: 0.6095 - val_recall: 0.2143 - val_f1score: 0.1479\n",
      "Epoch 161/200\n",
      "43/42 [==============================] - 12s 282ms/step - loss: 0.7890 - acc: 0.6275 - auc: 0.7522 - precision: 0.6098 - recall: 0.2153 - f1score: 0.1654 - val_loss: 1.0203 - val_acc: 0.5248 - val_auc: 0.7526 - val_precision: 0.6101 - val_recall: 0.2162 - val_f1score: 0.1472\n",
      "Epoch 162/200\n",
      "43/42 [==============================] - 12s 279ms/step - loss: 0.7689 - acc: 0.6311 - auc: 0.7531 - precision: 0.6105 - recall: 0.2172 - f1score: 0.1666 - val_loss: 1.0940 - val_acc: 0.4606 - val_auc: 0.7536 - val_precision: 0.6106 - val_recall: 0.2181 - val_f1score: 0.1419\n",
      "Epoch 163/200\n",
      "43/42 [==============================] - 12s 281ms/step - loss: 0.8034 - acc: 0.6129 - auc: 0.7540 - precision: 0.6107 - recall: 0.2189 - f1score: 0.1641 - val_loss: 1.0584 - val_acc: 0.5335 - val_auc: 0.7544 - val_precision: 0.6110 - val_recall: 0.2198 - val_f1score: 0.1457\n",
      "Epoch 164/200\n",
      "43/42 [==============================] - 12s 279ms/step - loss: 0.7871 - acc: 0.6129 - auc: 0.7549 - precision: 0.6112 - recall: 0.2207 - f1score: 0.1642 - val_loss: 1.1286 - val_acc: 0.4956 - val_auc: 0.7553 - val_precision: 0.6114 - val_recall: 0.2216 - val_f1score: 0.1436\n",
      "Epoch 165/200\n",
      "43/42 [==============================] - 12s 279ms/step - loss: 0.8148 - acc: 0.6282 - auc: 0.7557 - precision: 0.6116 - recall: 0.2225 - f1score: 0.1624 - val_loss: 1.0733 - val_acc: 0.5364 - val_auc: 0.7561 - val_precision: 0.6119 - val_recall: 0.2234 - val_f1score: 0.1479\n",
      "Epoch 166/200\n",
      "43/42 [==============================] - 12s 280ms/step - loss: 0.7530 - acc: 0.6457 - auc: 0.7566 - precision: 0.6123 - recall: 0.2243 - f1score: 0.1675 - val_loss: 1.0251 - val_acc: 0.5598 - val_auc: 0.7571 - val_precision: 0.6127 - val_recall: 0.2253 - val_f1score: 0.1502\n",
      "Epoch 167/200\n"
     ]
    },
    {
     "name": "stdout",
     "output_type": "stream",
     "text": [
      "43/42 [==============================] - 12s 281ms/step - loss: 0.7311 - acc: 0.6552 - auc: 0.7576 - precision: 0.6130 - recall: 0.2263 - f1score: 0.1710 - val_loss: 1.0800 - val_acc: 0.5131 - val_auc: 0.7580 - val_precision: 0.6135 - val_recall: 0.2273 - val_f1score: 0.1469\n",
      "Epoch 168/200\n",
      "43/42 [==============================] - 12s 281ms/step - loss: 0.7597 - acc: 0.6392 - auc: 0.7585 - precision: 0.6139 - recall: 0.2283 - f1score: 0.1680 - val_loss: 1.1544 - val_acc: 0.4927 - val_auc: 0.7589 - val_precision: 0.6141 - val_recall: 0.2292 - val_f1score: 0.1422\n",
      "Epoch 169/200\n",
      "43/42 [==============================] - 12s 279ms/step - loss: 0.7566 - acc: 0.6560 - auc: 0.7594 - precision: 0.6145 - recall: 0.2302 - f1score: nan - val_loss: 1.0650 - val_acc: 0.5335 - val_auc: 0.7598 - val_precision: 0.6148 - val_recall: 0.2311 - val_f1score: 0.1485\n",
      "Epoch 170/200\n",
      "43/42 [==============================] - 12s 279ms/step - loss: 0.7427 - acc: 0.6399 - auc: 0.7602 - precision: 0.6151 - recall: 0.2321 - f1score: 0.1690 - val_loss: 1.0887 - val_acc: 0.5452 - val_auc: 0.7607 - val_precision: 0.6155 - val_recall: 0.2330 - val_f1score: 0.1484\n",
      "Epoch 171/200\n",
      "43/42 [==============================] - 12s 280ms/step - loss: 0.7578 - acc: 0.6340 - auc: 0.7612 - precision: 0.6159 - recall: 0.2340 - f1score: 0.1686 - val_loss: 1.1125 - val_acc: 0.5335 - val_auc: 0.7616 - val_precision: 0.6161 - val_recall: 0.2349 - val_f1score: 0.1449\n",
      "Epoch 172/200\n",
      "43/42 [==============================] - 12s 280ms/step - loss: 0.7414 - acc: 0.6413 - auc: 0.7620 - precision: 0.6165 - recall: 0.2358 - f1score: nan - val_loss: 1.1261 - val_acc: 0.4752 - val_auc: 0.7624 - val_precision: 0.6166 - val_recall: 0.2367 - val_f1score: 0.1431\n",
      "Epoch 173/200\n",
      "43/42 [==============================] - 12s 281ms/step - loss: 0.7527 - acc: 0.6326 - auc: 0.7628 - precision: 0.6168 - recall: 0.2375 - f1score: 0.1678 - val_loss: 1.1037 - val_acc: 0.4985 - val_auc: 0.7632 - val_precision: 0.6170 - val_recall: 0.2384 - val_f1score: 0.1453\n",
      "Epoch 174/200\n",
      "43/42 [==============================] - 12s 281ms/step - loss: 0.7261 - acc: 0.6567 - auc: 0.7636 - precision: 0.6173 - recall: 0.2393 - f1score: 0.1709 - val_loss: 1.1026 - val_acc: 0.4956 - val_auc: 0.7641 - val_precision: 0.6176 - val_recall: 0.2402 - val_f1score: 0.1455\n",
      "Epoch 175/200\n",
      "43/42 [==============================] - 12s 279ms/step - loss: 0.7440 - acc: 0.6516 - auc: 0.7645 - precision: 0.6179 - recall: 0.2411 - f1score: nan - val_loss: 1.0781 - val_acc: 0.5219 - val_auc: 0.7649 - val_precision: 0.6181 - val_recall: 0.2420 - val_f1score: 0.1472\n",
      "Epoch 176/200\n",
      "43/42 [==============================] - 12s 280ms/step - loss: 0.7368 - acc: 0.6486 - auc: 0.7653 - precision: 0.6185 - recall: 0.2429 - f1score: 0.1702 - val_loss: 1.0575 - val_acc: 0.4985 - val_auc: 0.7657 - val_precision: 0.6188 - val_recall: 0.2438 - val_f1score: 0.1483\n",
      "Epoch 177/200\n",
      "43/42 [==============================] - 12s 282ms/step - loss: 0.7169 - acc: 0.6479 - auc: 0.7662 - precision: 0.6190 - recall: 0.2447 - f1score: 0.1718 - val_loss: 1.0881 - val_acc: 0.4985 - val_auc: 0.7666 - val_precision: 0.6193 - val_recall: 0.2456 - val_f1score: 0.1454\n",
      "Epoch 178/200\n",
      "43/42 [==============================] - 12s 279ms/step - loss: 0.7194 - acc: 0.6567 - auc: 0.7670 - precision: 0.6196 - recall: 0.2465 - f1score: 0.1718 - val_loss: 1.1011 - val_acc: 0.5452 - val_auc: 0.7674 - val_precision: 0.6199 - val_recall: 0.2474 - val_f1score: 0.1483\n",
      "Epoch 179/200\n",
      "43/42 [==============================] - 12s 278ms/step - loss: 0.7180 - acc: 0.6538 - auc: 0.7678 - precision: 0.6202 - recall: 0.2484 - f1score: nan - val_loss: 1.0677 - val_acc: 0.5190 - val_auc: 0.7682 - val_precision: 0.6205 - val_recall: 0.2493 - val_f1score: 0.1461\n",
      "Epoch 180/200\n",
      "43/42 [==============================] - 12s 280ms/step - loss: 0.7045 - acc: 0.6669 - auc: 0.7687 - precision: 0.6208 - recall: 0.2501 - f1score: 0.1735 - val_loss: 1.1387 - val_acc: 0.4898 - val_auc: 0.7691 - val_precision: 0.6211 - val_recall: 0.2510 - val_f1score: 0.1452\n",
      "Epoch 181/200\n",
      "43/42 [==============================] - 12s 281ms/step - loss: 0.7467 - acc: 0.6465 - auc: 0.7695 - precision: 0.6213 - recall: 0.2519 - f1score: 0.1700 - val_loss: 1.0316 - val_acc: 0.5190 - val_auc: 0.7698 - val_precision: 0.6216 - val_recall: 0.2527 - val_f1score: 0.1468\n",
      "Epoch 182/200\n",
      "43/42 [==============================] - 12s 279ms/step - loss: 0.7116 - acc: 0.6728 - auc: 0.7703 - precision: 0.6219 - recall: 0.2536 - f1score: 0.1731 - val_loss: 1.0755 - val_acc: 0.5306 - val_auc: 0.7707 - val_precision: 0.6224 - val_recall: 0.2545 - val_f1score: 0.1496\n",
      "Epoch 183/200\n",
      "43/42 [==============================] - 12s 279ms/step - loss: 0.7235 - acc: 0.6530 - auc: 0.7711 - precision: 0.6227 - recall: 0.2554 - f1score: 0.1720 - val_loss: 1.1295 - val_acc: 0.5190 - val_auc: 0.7715 - val_precision: 0.6229 - val_recall: 0.2562 - val_f1score: 0.1460\n",
      "Epoch 184/200\n",
      "43/42 [==============================] - 12s 281ms/step - loss: 0.7314 - acc: 0.6472 - auc: 0.7719 - precision: 0.6231 - recall: 0.2570 - f1score: 0.1708 - val_loss: 1.1422 - val_acc: 0.4781 - val_auc: 0.7722 - val_precision: 0.6233 - val_recall: 0.2578 - val_f1score: 0.1427\n",
      "Epoch 185/200\n",
      "43/42 [==============================] - 12s 280ms/step - loss: 0.6926 - acc: 0.6684 - auc: 0.7726 - precision: 0.6236 - recall: 0.2587 - f1score: 0.1748 - val_loss: 1.1200 - val_acc: 0.5423 - val_auc: 0.7730 - val_precision: 0.6239 - val_recall: 0.2596 - val_f1score: 0.1484\n",
      "Epoch 186/200\n",
      "43/42 [==============================] - 12s 281ms/step - loss: 0.7163 - acc: 0.6523 - auc: 0.7734 - precision: 0.6240 - recall: 0.2604 - f1score: 0.1730 - val_loss: 1.1133 - val_acc: 0.5364 - val_auc: 0.7738 - val_precision: 0.6243 - val_recall: 0.2613 - val_f1score: 0.1478\n",
      "Epoch 187/200\n",
      "43/42 [==============================] - 12s 282ms/step - loss: 0.6892 - acc: 0.6786 - auc: 0.7742 - precision: 0.6247 - recall: 0.2621 - f1score: nan - val_loss: 1.1288 - val_acc: 0.5423 - val_auc: 0.7746 - val_precision: 0.6250 - val_recall: 0.2630 - val_f1score: 0.1481\n",
      "Epoch 188/200\n",
      "43/42 [==============================] - 12s 281ms/step - loss: 0.6683 - acc: 0.6735 - auc: 0.7750 - precision: 0.6254 - recall: 0.2639 - f1score: 0.1776 - val_loss: 1.3081 - val_acc: 0.5219 - val_auc: 0.7754 - val_precision: 0.6256 - val_recall: 0.2648 - val_f1score: 0.1433\n",
      "Epoch 189/200\n",
      "43/42 [==============================] - 12s 280ms/step - loss: 0.7171 - acc: 0.6654 - auc: 0.7757 - precision: 0.6259 - recall: 0.2656 - f1score: nan - val_loss: 1.1202 - val_acc: 0.5306 - val_auc: 0.7761 - val_precision: 0.6262 - val_recall: 0.2664 - val_f1score: 0.1487\n",
      "Epoch 190/200\n",
      "43/42 [==============================] - 12s 280ms/step - loss: 0.7000 - acc: 0.6618 - auc: 0.7765 - precision: 0.6264 - recall: 0.2673 - f1score: 0.1741 - val_loss: 1.1270 - val_acc: 0.5160 - val_auc: 0.7769 - val_precision: 0.6267 - val_recall: 0.2681 - val_f1score: 0.1458\n",
      "Epoch 191/200\n",
      "43/42 [==============================] - 12s 279ms/step - loss: 0.7119 - acc: 0.6654 - auc: 0.7773 - precision: 0.6270 - recall: 0.2690 - f1score: 0.1732 - val_loss: 1.1215 - val_acc: 0.5364 - val_auc: 0.7776 - val_precision: 0.6272 - val_recall: 0.2697 - val_f1score: 0.1466\n",
      "Epoch 192/200\n",
      "43/42 [==============================] - 12s 278ms/step - loss: 0.6984 - acc: 0.6669 - auc: 0.7780 - precision: 0.6275 - recall: 0.2705 - f1score: 0.1749 - val_loss: 1.0877 - val_acc: 0.5394 - val_auc: 0.7783 - val_precision: 0.6277 - val_recall: 0.2714 - val_f1score: 0.1478\n",
      "Epoch 193/200\n",
      "43/42 [==============================] - 12s 281ms/step - loss: 0.6801 - acc: 0.6830 - auc: 0.7787 - precision: 0.6280 - recall: 0.2721 - f1score: 0.1750 - val_loss: 1.2132 - val_acc: 0.5452 - val_auc: 0.7791 - val_precision: 0.6283 - val_recall: 0.2730 - val_f1score: 0.1483\n",
      "Epoch 194/200\n",
      "43/42 [==============================] - 12s 280ms/step - loss: 0.7095 - acc: 0.6545 - auc: 0.7795 - precision: 0.6285 - recall: 0.2738 - f1score: 0.1740 - val_loss: 1.1386 - val_acc: 0.5248 - val_auc: 0.7798 - val_precision: 0.6286 - val_recall: 0.2746 - val_f1score: 0.1455\n",
      "Epoch 195/200\n"
     ]
    },
    {
     "name": "stdout",
     "output_type": "stream",
     "text": [
      "43/42 [==============================] - 12s 280ms/step - loss: 0.7333 - acc: 0.6654 - auc: 0.7801 - precision: 0.6289 - recall: 0.2754 - f1score: nan - val_loss: 1.0444 - val_acc: 0.5627 - val_auc: 0.7805 - val_precision: 0.6291 - val_recall: 0.2761 - val_f1score: 0.1512\n",
      "Epoch 196/200\n",
      "43/42 [==============================] - 12s 280ms/step - loss: 0.6825 - acc: 0.6844 - auc: 0.7808 - precision: 0.6294 - recall: 0.2769 - f1score: nan - val_loss: 1.0784 - val_acc: 0.5569 - val_auc: 0.7812 - val_precision: 0.6298 - val_recall: 0.2778 - val_f1score: 0.1514\n",
      "Epoch 197/200\n",
      "43/42 [==============================] - 12s 281ms/step - loss: 0.6536 - acc: 0.6976 - auc: 0.7816 - precision: 0.6302 - recall: 0.2786 - f1score: 0.1791 - val_loss: 1.1302 - val_acc: 0.5423 - val_auc: 0.7820 - val_precision: 0.6305 - val_recall: 0.2795 - val_f1score: 0.1500\n",
      "Epoch 198/200\n",
      "43/42 [==============================] - 12s 280ms/step - loss: 0.6701 - acc: 0.6749 - auc: 0.7824 - precision: 0.6307 - recall: 0.2803 - f1score: 0.1769 - val_loss: 1.3273 - val_acc: 0.5102 - val_auc: 0.7827 - val_precision: 0.6310 - val_recall: 0.2811 - val_f1score: 0.1417\n",
      "Epoch 199/200\n",
      "43/42 [==============================] - 12s 279ms/step - loss: 0.6884 - acc: 0.6830 - auc: 0.7830 - precision: 0.6312 - recall: 0.2819 - f1score: nan - val_loss: 1.1103 - val_acc: 0.5423 - val_auc: 0.7834 - val_precision: 0.6315 - val_recall: 0.2826 - val_f1score: 0.1494\n",
      "Epoch 200/200\n",
      "43/42 [==============================] - 12s 280ms/step - loss: 0.6662 - acc: 0.7093 - auc: 0.7838 - precision: 0.6319 - recall: 0.2835 - f1score: nan - val_loss: 1.1375 - val_acc: 0.5481 - val_auc: 0.7841 - val_precision: 0.6323 - val_recall: 0.2843 - val_f1score: 0.1461\n"
     ]
    }
   ],
   "source": [
    "history = additional_model.fit_generator(dgf, \n",
    "            steps_per_epoch=len(X_train)/32, \n",
    "            epochs=200, \n",
    "            validation_data=(X_val,y_val), \n",
    "            validation_steps=len(X_val)/32, \n",
    "            callbacks=[checkpoint])"
   ]
  },
  {
   "cell_type": "code",
   "execution_count": 13,
   "metadata": {},
   "outputs": [
    {
     "data": {
      "image/png": "[encoded data removed]",
      "text/plain": [
       "<Figure size 432x288 with 1 Axes>"
      ]
     },
     "metadata": {
      "needs_background": "light"
     },
     "output_type": "display_data"
    },
    {
     "data": {
      "image/png": "[encoded data removed]",
      "text/plain": [
       "<Figure size 432x288 with 1 Axes>"
      ]
     },
     "metadata": {
      "needs_background": "light"
     },
     "output_type": "display_data"
    }
   ],
   "source": [
    "acc = history.history['acc']\n",
    "val_acc = history.history['val_acc']\n",
    "loss = history.history['loss']\n",
    "val_loss = history.history['val_loss']\n",
    " \n",
    "epochs = range(1, len(acc) + 1)\n",
    " \n",
    "plt.plot(epochs, acc, 'bo', label='Training acc')\n",
    "plt.plot(epochs, val_acc, 'r', label='Validation acc')\n",
    "plt.title('Accuracy')\n",
    "plt.legend()\n",
    "plt.figure()\n",
    " \n",
    "plt.plot(epochs, loss, 'bo', label='Training loss')\n",
    "plt.plot(epochs, val_loss, 'r', label='Validation loss')\n",
    "plt.title('Loss')\n",
    "plt.legend()\n",
    " \n",
    "plt.show()"
   ]
  },
  {
   "cell_type": "code",
   "execution_count": 14,
   "metadata": {},
   "outputs": [
    {
     "name": "stdout",
     "output_type": "stream",
     "text": [
      "343/343 [==============================] - 1s 3ms/step\n",
      "loss: 1.138, accuracy: 0.548, auc: 0.784, precision: 0.632, recall: 0.285, f1score: 0.146\n"
     ]
    }
   ],
   "source": [
    "_loss, _acc, _auc, _precision, _recall, _f1score = additional_model.evaluate(X_val, y_val, batch_size=32)\n",
    "print('loss: {:.3f}, accuracy: {:.3f}, auc: {:.3f}, precision: {:.3f}, recall: {:.3f}, f1score: {:.3f}'.format(_loss, _acc, _auc, _precision, _recall, _f1score))"
   ]
  },
  {
   "cell_type": "code",
   "execution_count": 17,
   "metadata": {},
   "outputs": [],
   "source": [
    "from keras.models import Model, load_model\n",
    "\n",
    "new_model = models.load_model('./VGG16_averaging_pooling.hdf5',compile=False)\n",
    "\n",
    "\n",
    "new_model.compile(loss='categorical_crossentropy', \n",
    "              optimizer=optimizers.Adam(lr=1e-5),\n",
    "              metrics=['acc',tf.keras.metrics.AUC(),\n",
    "                      tf.keras.metrics.Precision(),\n",
    "                      tf.keras.metrics.Recall(),f1score])"
   ]
  },
  {
   "cell_type": "code",
   "execution_count": 18,
   "metadata": {},
   "outputs": [],
   "source": [
    "X_test=np.load('X_val.npy')\n",
    "y_test=np.load('y_val.npy')"
   ]
  },
  {
   "cell_type": "code",
   "execution_count": 19,
   "metadata": {},
   "outputs": [
    {
     "name": "stdout",
     "output_type": "stream",
     "text": [
      "571/571 [==============================] - 3s 5ms/step\n",
      "loss: 0.993, accuracy: 0.497, auc: 0.808, precision: 0.530, recall: 0.397, f1score: 0.147\n"
     ]
    }
   ],
   "source": [
    "_loss, _acc, _auc, _precision, _recall, _f1score =new_model.evaluate(X_test, y_test, batch_size=32)\n",
    "print('loss: {:.3f}, accuracy: {:.3f}, auc: {:.3f}, precision: {:.3f}, recall: {:.3f}, f1score: {:.3f}'.format(_loss, _acc, _auc, _precision, _recall, _f1score))"
   ]
  },
  {
   "cell_type": "code",
   "execution_count": null,
   "metadata": {},
   "outputs": [],
   "source": []
  }
 ],
 "metadata": {
  "kernelspec": {
   "display_name": "Python 3",
   "language": "python",
   "name": "python3"
  },
  "language_info": {
   "codemirror_mode": {
    "name": "ipython",
    "version": 3
   },
   "file_extension": ".py",
   "mimetype": "text/x-python",
   "name": "python",
   "nbconvert_exporter": "python",
   "pygments_lexer": "ipython3",
   "version": "3.7.7"
  }
 },
 "nbformat": 4,
 "nbformat_minor": 2
}
