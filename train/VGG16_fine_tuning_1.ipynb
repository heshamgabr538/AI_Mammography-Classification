{
 "cells": [
  {
   "cell_type": "code",
   "execution_count": 1,
   "metadata": {},
   "outputs": [
    {
     "data": {
      "text/plain": [
       "'C:\\\\Users\\\\Owner2\\\\Desktop\\\\G팔로미_vuno'"
      ]
     },
     "execution_count": 1,
     "metadata": {},
     "output_type": "execute_result"
    }
   ],
   "source": [
    "import os\n",
    "import pandas as pd\n",
    "from matplotlib import pyplot as plt\n",
    "import numpy as np\n",
    "import cv2\n",
    "\n",
    "#data path 수정\n",
    "os.chdir(\"C:\\\\Users\\\\Owner2\\\\Desktop\\\\G팔로미_vuno\")\n",
    "os.getcwd()"
   ]
  },
  {
   "cell_type": "code",
   "execution_count": 2,
   "metadata": {},
   "outputs": [],
   "source": [
    "X=np.load('data_X.npy')\n",
    "y=np.load('data_y.npy')"
   ]
  },
  {
   "cell_type": "code",
   "execution_count": 3,
   "metadata": {},
   "outputs": [],
   "source": [
    "#train, validation set 분리\n",
    "from sklearn.model_selection import train_test_split\n",
    "\n",
    "X_train, X_val, y_train, y_val = train_test_split(X,y,test_size=0.3)"
   ]
  },
  {
   "cell_type": "code",
   "execution_count": 4,
   "metadata": {},
   "outputs": [
    {
     "name": "stderr",
     "output_type": "stream",
     "text": [
      "Using TensorFlow backend.\n"
     ]
    }
   ],
   "source": [
    "from keras.preprocessing.image import ImageDataGenerator\n",
    "\n",
    "datagen = ImageDataGenerator(\n",
    "    ##featurewise_center=True,\n",
    "    #featurewise_std_normalization=True, \n",
    "    rotation_range=25.0,\n",
    "    width_shift_range=0.2,\n",
    "    height_shift_range=0.2,\n",
    "    horizontal_flip=True) #수평방향 뒤집기\n",
    "\n",
    "datagen.fit(X_train)\n",
    "\n",
    "dgf=datagen.flow(X_train,y_train,batch_size=64)"
   ]
  },
  {
   "cell_type": "code",
   "execution_count": 5,
   "metadata": {},
   "outputs": [
    {
     "name": "stderr",
     "output_type": "stream",
     "text": [
      "WARNING: Logging before flag parsing goes to stderr.\n",
      "W0606 13:58:22.488852  4144 deprecation_wrapper.py:119] From C:\\Users\\Owner2\\Anaconda3\\envs\\keras2\\lib\\site-packages\\keras\\backend\\tensorflow_backend.py:74: The name tf.get_default_graph is deprecated. Please use tf.compat.v1.get_default_graph instead.\n",
      "\n",
      "W0606 13:58:22.506855  4144 deprecation_wrapper.py:119] From C:\\Users\\Owner2\\Anaconda3\\envs\\keras2\\lib\\site-packages\\keras\\backend\\tensorflow_backend.py:517: The name tf.placeholder is deprecated. Please use tf.compat.v1.placeholder instead.\n",
      "\n",
      "W0606 13:58:22.511854  4144 deprecation_wrapper.py:119] From C:\\Users\\Owner2\\Anaconda3\\envs\\keras2\\lib\\site-packages\\keras\\backend\\tensorflow_backend.py:4138: The name tf.random_uniform is deprecated. Please use tf.random.uniform instead.\n",
      "\n",
      "W0606 13:58:22.540863  4144 deprecation_wrapper.py:119] From C:\\Users\\Owner2\\Anaconda3\\envs\\keras2\\lib\\site-packages\\keras\\backend\\tensorflow_backend.py:3976: The name tf.nn.max_pool is deprecated. Please use tf.nn.max_pool2d instead.\n",
      "\n",
      "W0606 13:58:22.876284  4144 deprecation_wrapper.py:119] From C:\\Users\\Owner2\\Anaconda3\\envs\\keras2\\lib\\site-packages\\keras\\backend\\tensorflow_backend.py:174: The name tf.get_default_session is deprecated. Please use tf.compat.v1.get_default_session instead.\n",
      "\n",
      "W0606 13:58:22.876284  4144 deprecation_wrapper.py:119] From C:\\Users\\Owner2\\Anaconda3\\envs\\keras2\\lib\\site-packages\\keras\\backend\\tensorflow_backend.py:181: The name tf.ConfigProto is deprecated. Please use tf.compat.v1.ConfigProto instead.\n",
      "\n"
     ]
    },
    {
     "name": "stdout",
     "output_type": "stream",
     "text": [
      "_________________________________________________________________\n",
      "Layer (type)                 Output Shape              Param #   \n",
      "=================================================================\n",
      "input_1 (InputLayer)         (None, 224, 224, 3)       0         \n",
      "_________________________________________________________________\n",
      "block1_conv1 (Conv2D)        (None, 224, 224, 64)      1792      \n",
      "_________________________________________________________________\n",
      "block1_conv2 (Conv2D)        (None, 224, 224, 64)      36928     \n",
      "_________________________________________________________________\n",
      "block1_pool (MaxPooling2D)   (None, 112, 112, 64)      0         \n",
      "_________________________________________________________________\n",
      "block2_conv1 (Conv2D)        (None, 112, 112, 128)     73856     \n",
      "_________________________________________________________________\n",
      "block2_conv2 (Conv2D)        (None, 112, 112, 128)     147584    \n",
      "_________________________________________________________________\n",
      "block2_pool (MaxPooling2D)   (None, 56, 56, 128)       0         \n",
      "_________________________________________________________________\n",
      "block3_conv1 (Conv2D)        (None, 56, 56, 256)       295168    \n",
      "_________________________________________________________________\n",
      "block3_conv2 (Conv2D)        (None, 56, 56, 256)       590080    \n",
      "_________________________________________________________________\n",
      "block3_conv3 (Conv2D)        (None, 56, 56, 256)       590080    \n",
      "_________________________________________________________________\n",
      "block3_pool (MaxPooling2D)   (None, 28, 28, 256)       0         \n",
      "_________________________________________________________________\n",
      "block4_conv1 (Conv2D)        (None, 28, 28, 512)       1180160   \n",
      "_________________________________________________________________\n",
      "block4_conv2 (Conv2D)        (None, 28, 28, 512)       2359808   \n",
      "_________________________________________________________________\n",
      "block4_conv3 (Conv2D)        (None, 28, 28, 512)       2359808   \n",
      "_________________________________________________________________\n",
      "block4_pool (MaxPooling2D)   (None, 14, 14, 512)       0         \n",
      "_________________________________________________________________\n",
      "block5_conv1 (Conv2D)        (None, 14, 14, 512)       2359808   \n",
      "_________________________________________________________________\n",
      "block5_conv2 (Conv2D)        (None, 14, 14, 512)       2359808   \n",
      "_________________________________________________________________\n",
      "block5_conv3 (Conv2D)        (None, 14, 14, 512)       2359808   \n",
      "_________________________________________________________________\n",
      "block5_pool (MaxPooling2D)   (None, 7, 7, 512)         0         \n",
      "=================================================================\n",
      "Total params: 14,714,688\n",
      "Trainable params: 0\n",
      "Non-trainable params: 14,714,688\n",
      "_________________________________________________________________\n"
     ]
    }
   ],
   "source": [
    "from keras import layers, models\n",
    "from keras.applications import VGG16\n",
    "from keras import Input\n",
    "from keras.models import Model\n",
    "from keras.preprocessing.image import ImageDataGenerator\n",
    "from keras import optimizers, initializers, regularizers, metrics\n",
    "from keras.callbacks import ModelCheckpoint\n",
    "import os\n",
    "from glob import glob\n",
    "from PIL import Image\n",
    "import matplotlib.pyplot as plt\n",
    "import numpy as np\n",
    " \n",
    "\n",
    "\n",
    "pre_trained_vgg = VGG16(weights='imagenet', include_top=False, input_shape=(224, 224, 3))\n",
    "pre_trained_vgg.trainable = False\n",
    "pre_trained_vgg.summary()"
   ]
  },
  {
   "cell_type": "code",
   "execution_count": 6,
   "metadata": {},
   "outputs": [],
   "source": [
    "additional_model = models.Sequential()\n",
    "additional_model.add(pre_trained_vgg)\n",
    "additional_model.add(layers.Flatten())\n",
    "additional_model.add(layers.Dense(4096, activation='relu'))\n",
    "additional_model.add(layers.Dense(2048, activation='relu'))\n",
    "additional_model.add(layers.Dense(1024, activation='relu'))\n",
    "additional_model.add(layers.Dense(4, activation='softmax'))"
   ]
  },
  {
   "cell_type": "code",
   "execution_count": 7,
   "metadata": {},
   "outputs": [],
   "source": [
    "# checkpoint = ModelCheckpoint(filepath='My_VGG_{epoch:03d}_{val_loss:.7f}.hdf5',monitor='loss', mode='min', save_best_only=True)\n",
    "checkpoint = ModelCheckpoint(filepath='My_VGG_weight_1.hdf5', \n",
    "            monitor='loss', \n",
    "            mode='min', \n",
    "            save_best_only=True)"
   ]
  },
  {
   "cell_type": "code",
   "execution_count": 8,
   "metadata": {},
   "outputs": [],
   "source": [
    "from keras import backend as K\n",
    "import tensorflow as tf\n",
    "\n",
    "def auc(y_true, y_pred):\n",
    "    auc = tf.metrics.auc(y_true, y_pred)[1]\n",
    "    K.get_session().run(tf.local_variables_initializer())\n",
    "    return auc\n",
    "\n",
    "def recall(y_target, y_pred):\n",
    "    # clip(t, clip_value_min, clip_value_max) : clip_value_min~clip_value_max 이외 가장자리를 깎아 낸다\n",
    "    # round : 반올림한다\n",
    "    y_target_yn = K.round(K.clip(y_target, 0, 1)) # 실제값을 0(Negative) 또는 1(Positive)로 설정한다\n",
    "    y_pred_yn = K.round(K.clip(y_pred, 0, 1)) # 예측값을 0(Negative) 또는 1(Positive)로 설정한다\n",
    "\n",
    "    # True Positive는 실제 값과 예측 값이 모두 1(Positive)인 경우이다\n",
    "    count_true_positive = K.sum(y_target_yn * y_pred_yn) \n",
    "\n",
    "    # (True Positive + False Negative) = 실제 값이 1(Positive) 전체\n",
    "    count_true_positive_false_negative = K.sum(y_target_yn)\n",
    "\n",
    "    # Recall =  (True Positive) / (True Positive + False Negative)\n",
    "    # K.epsilon()는 'divide by zero error' 예방차원에서 작은 수를 더한다\n",
    "    recall = count_true_positive / (count_true_positive_false_negative + K.epsilon())\n",
    "\n",
    "    # return a single tensor value\n",
    "    return recall\n",
    "\n",
    "\n",
    "def precision(y_target, y_pred):\n",
    "    # clip(t, clip_value_min, clip_value_max) : clip_value_min~clip_value_max 이외 가장자리를 깎아 낸다\n",
    "    # round : 반올림한다\n",
    "    y_pred_yn = K.round(K.clip(y_pred, 0, 1)) # 예측값을 0(Negative) 또는 1(Positive)로 설정한다\n",
    "    y_target_yn = K.round(K.clip(y_target, 0, 1)) # 실제값을 0(Negative) 또는 1(Positive)로 설정한다\n",
    "\n",
    "    # True Positive는 실제 값과 예측 값이 모두 1(Positive)인 경우이다\n",
    "    count_true_positive = K.sum(y_target_yn * y_pred_yn) \n",
    "\n",
    "    # (True Positive + False Positive) = 예측 값이 1(Positive) 전체\n",
    "    count_true_positive_false_positive = K.sum(y_pred_yn)\n",
    "\n",
    "    # Precision = (True Positive) / (True Positive + False Positive)\n",
    "    # K.epsilon()는 'divide by zero error' 예방차원에서 작은 수를 더한다\n",
    "    precision = count_true_positive / (count_true_positive_false_positive + K.epsilon())\n",
    "\n",
    "    # return a single tensor value\n",
    "    return precision\n",
    "\n",
    "\n",
    "def f1score(y_target, y_pred):\n",
    "    _recall = recall(y_target, y_pred)\n",
    "    _precision = precision(y_target, y_pred)\n",
    "    # K.epsilon()는 'divide by zero error' 예방차원에서 작은 수를 더한다\n",
    "    _f1score = ( 2 * _recall * _precision) / (_recall + _precision+ K.epsilon())\n",
    "    \n",
    "    # return a single tensor value\n",
    "    return _f1score"
   ]
  },
  {
   "cell_type": "code",
   "execution_count": 9,
   "metadata": {},
   "outputs": [
    {
     "name": "stderr",
     "output_type": "stream",
     "text": [
      "W0606 13:58:24.861657  4144 deprecation_wrapper.py:119] From C:\\Users\\Owner2\\Anaconda3\\envs\\keras2\\lib\\site-packages\\keras\\optimizers.py:790: The name tf.train.Optimizer is deprecated. Please use tf.compat.v1.train.Optimizer instead.\n",
      "\n",
      "W0606 13:58:24.955016  4144 deprecation.py:323] From C:\\Users\\Owner2\\Anaconda3\\envs\\keras2\\lib\\site-packages\\tensorflow\\python\\ops\\metrics_impl.py:809: div (from tensorflow.python.ops.math_ops) is deprecated and will be removed in a future version.\n",
      "Instructions for updating:\n",
      "Deprecated in favor of operator or tf.math.divide.\n"
     ]
    }
   ],
   "source": [
    "additional_model.compile(loss='categorical_crossentropy',\n",
    "                         optimizer=optimizers.RMSprop(lr=2e-5), \n",
    "                         metrics=['acc', auc, precision, recall, f1score])"
   ]
  },
  {
   "cell_type": "code",
   "execution_count": 10,
   "metadata": {},
   "outputs": [
    {
     "data": {
      "text/plain": [
       "(2861, 224, 224, 3)"
      ]
     },
     "execution_count": 10,
     "metadata": {},
     "output_type": "execute_result"
    }
   ],
   "source": [
    "X.shape"
   ]
  },
  {
   "cell_type": "code",
   "execution_count": 11,
   "metadata": {},
   "outputs": [],
   "source": [
    "# history1=myvgg.fit(X,y,batch_size=32,\n",
    "#                   epochs=100,\n",
    "#                   validation_split=0.3,\n",
    "#                   callbacks=[checkpoint])"
   ]
  },
  {
   "cell_type": "code",
   "execution_count": 12,
   "metadata": {
    "scrolled": true
   },
   "outputs": [
    {
     "name": "stderr",
     "output_type": "stream",
     "text": [
      "W0606 13:58:32.588353  4144 deprecation.py:323] From C:\\Users\\Owner2\\Anaconda3\\envs\\keras2\\lib\\site-packages\\tensorflow\\python\\ops\\math_grad.py:1250: add_dispatch_support.<locals>.wrapper (from tensorflow.python.ops.array_ops) is deprecated and will be removed in a future version.\n",
      "Instructions for updating:\n",
      "Use tf.where in 2.0, which has the same broadcast rule as np.where\n"
     ]
    },
    {
     "name": "stdout",
     "output_type": "stream",
     "text": [
      "Epoch 1/100\n",
      "100/100 [==============================] - 58s 582ms/step - loss: 1.1018 - acc: 0.4754 - auc: 0.7190 - precision: 0.5811 - recall: 0.3123 - f1score: 0.3950 - val_loss: 1.1178 - val_acc: 0.4307 - val_auc: 0.7734 - val_precision: 0.4835 - val_recall: 0.2910 - val_f1score: 0.3626\n",
      "Epoch 2/100\n",
      "100/100 [==============================] - 53s 535ms/step - loss: 0.9341 - acc: 0.5264 - auc: 0.7918 - precision: 0.6034 - recall: 0.3962 - f1score: 0.4758 - val_loss: 0.8461 - val_acc: 0.5693 - val_auc: 0.8058 - val_precision: 0.6557 - val_recall: 0.4249 - val_f1score: 0.5148\n",
      "Epoch 3/100\n",
      "100/100 [==============================] - 55s 546ms/step - loss: 0.8924 - acc: 0.5626 - auc: 0.8145 - precision: 0.6281 - recall: 0.4377 - f1score: 0.5135 - val_loss: 0.8172 - val_acc: 0.5786 - val_auc: 0.8215 - val_precision: 0.6282 - val_recall: 0.4703 - val_f1score: 0.5376\n",
      "Epoch 4/100\n",
      "100/100 [==============================] - 55s 547ms/step - loss: 0.8502 - acc: 0.5648 - auc: 0.8273 - precision: 0.6301 - recall: 0.4559 - f1score: 0.5276 - val_loss: 0.8023 - val_acc: 0.5797 - val_auc: 0.8320 - val_precision: 0.6241 - val_recall: 0.4645 - val_f1score: 0.5318\n",
      "Epoch 5/100\n",
      "100/100 [==============================] - 55s 546ms/step - loss: 0.8503 - acc: 0.5702 - auc: 0.8354 - precision: 0.6291 - recall: 0.4655 - f1score: 0.5336 - val_loss: 0.8414 - val_acc: 0.5541 - val_auc: 0.8378 - val_precision: 0.6096 - val_recall: 0.4785 - val_f1score: 0.5357\n",
      "Epoch 6/100\n",
      "100/100 [==============================] - 55s 545ms/step - loss: 0.8195 - acc: 0.5842 - auc: 0.8407 - precision: 0.6403 - recall: 0.4881 - f1score: 0.5529 - val_loss: 0.8087 - val_acc: 0.5693 - val_auc: 0.8432 - val_precision: 0.6282 - val_recall: 0.4761 - val_f1score: 0.5411\n",
      "Epoch 7/100\n",
      "100/100 [==============================] - 55s 545ms/step - loss: 0.8141 - acc: 0.5850 - auc: 0.8455 - precision: 0.6462 - recall: 0.5007 - f1score: 0.5630 - val_loss: 0.7923 - val_acc: 0.5739 - val_auc: 0.8474 - val_precision: 0.6154 - val_recall: 0.4983 - val_f1score: 0.5501\n",
      "Epoch 8/100\n",
      "100/100 [==============================] - 55s 551ms/step - loss: 0.7944 - acc: 0.5951 - auc: 0.8495 - precision: 0.6495 - recall: 0.5126 - f1score: 0.5720 - val_loss: 0.8283 - val_acc: 0.5681 - val_auc: 0.8511 - val_precision: 0.6055 - val_recall: 0.4924 - val_f1score: 0.5423\n",
      "Epoch 9/100\n",
      "100/100 [==============================] - 54s 536ms/step - loss: 0.7837 - acc: 0.6057 - auc: 0.8530 - precision: 0.6590 - recall: 0.5213 - f1score: 0.5811 - val_loss: 0.7853 - val_acc: 0.5879 - val_auc: 0.8544 - val_precision: 0.6583 - val_recall: 0.5052 - val_f1score: 0.5711\n",
      "Epoch 10/100\n",
      "100/100 [==============================] - 54s 544ms/step - loss: 0.7622 - acc: 0.6128 - auc: 0.8559 - precision: 0.6581 - recall: 0.5330 - f1score: 0.5882 - val_loss: 0.7801 - val_acc: 0.6088 - val_auc: 0.8573 - val_precision: 0.6450 - val_recall: 0.5169 - val_f1score: 0.5732\n",
      "Epoch 11/100\n",
      "100/100 [==============================] - 55s 545ms/step - loss: 0.7523 - acc: 0.6161 - auc: 0.8588 - precision: 0.6640 - recall: 0.5456 - f1score: 0.5983 - val_loss: 0.8297 - val_acc: 0.5646 - val_auc: 0.8599 - val_precision: 0.5827 - val_recall: 0.5180 - val_f1score: 0.5482\n",
      "Epoch 12/100\n",
      "100/100 [==============================] - 55s 547ms/step - loss: 0.7387 - acc: 0.6309 - auc: 0.8612 - precision: 0.6743 - recall: 0.5605 - f1score: 0.6113 - val_loss: 0.7766 - val_acc: 0.5995 - val_auc: 0.8625 - val_precision: 0.6358 - val_recall: 0.5518 - val_f1score: 0.5906\n",
      "Epoch 13/100\n",
      "100/100 [==============================] - 54s 544ms/step - loss: 0.7392 - acc: 0.6272 - auc: 0.8636 - precision: 0.6659 - recall: 0.5551 - f1score: 0.6047 - val_loss: 0.7596 - val_acc: 0.6123 - val_auc: 0.8647 - val_precision: 0.6328 - val_recall: 0.5495 - val_f1score: 0.5877\n",
      "Epoch 14/100\n",
      "100/100 [==============================] - 54s 543ms/step - loss: 0.7265 - acc: 0.6333 - auc: 0.8658 - precision: 0.6768 - recall: 0.5706 - f1score: 0.6186 - val_loss: 0.7550 - val_acc: 0.6077 - val_auc: 0.8669 - val_precision: 0.6273 - val_recall: 0.5541 - val_f1score: 0.5883\n",
      "Epoch 15/100\n",
      "100/100 [==============================] - 54s 544ms/step - loss: 0.7176 - acc: 0.6335 - auc: 0.8679 - precision: 0.6723 - recall: 0.5699 - f1score: 0.6164 - val_loss: 0.7480 - val_acc: 0.6321 - val_auc: 0.8689 - val_precision: 0.6615 - val_recall: 0.5728 - val_f1score: 0.6136\n",
      "Epoch 16/100\n",
      "100/100 [==============================] - 54s 545ms/step - loss: 0.7001 - acc: 0.6394 - auc: 0.8699 - precision: 0.6744 - recall: 0.5806 - f1score: 0.6236 - val_loss: 1.1060 - val_acc: 0.5006 - val_auc: 0.8706 - val_precision: 0.5229 - val_recall: 0.4668 - val_f1score: 0.4924\n",
      "Epoch 17/100\n",
      "100/100 [==============================] - 54s 539ms/step - loss: 0.6977 - acc: 0.6441 - auc: 0.8712 - precision: 0.6813 - recall: 0.5890 - f1score: 0.6313 - val_loss: 0.7550 - val_acc: 0.6147 - val_auc: 0.8721 - val_precision: 0.6458 - val_recall: 0.5786 - val_f1score: 0.6102\n",
      "Epoch 18/100\n",
      "100/100 [==============================] - 54s 545ms/step - loss: 0.6913 - acc: 0.6534 - auc: 0.8731 - precision: 0.6862 - recall: 0.5970 - f1score: 0.6380 - val_loss: 0.7273 - val_acc: 0.6368 - val_auc: 0.8739 - val_precision: 0.6645 - val_recall: 0.5774 - val_f1score: 0.6175\n",
      "Epoch 19/100\n",
      "100/100 [==============================] - 54s 544ms/step - loss: 0.6738 - acc: 0.6594 - auc: 0.8748 - precision: 0.6930 - recall: 0.6040 - f1score: 0.6450 - val_loss: 0.7546 - val_acc: 0.6251 - val_auc: 0.8757 - val_precision: 0.6415 - val_recall: 0.5821 - val_f1score: 0.6102\n",
      "Epoch 20/100\n",
      "100/100 [==============================] - 54s 544ms/step - loss: 0.6814 - acc: 0.6554 - auc: 0.8764 - precision: 0.6890 - recall: 0.5991 - f1score: 0.6404 - val_loss: 0.7992 - val_acc: 0.5984 - val_auc: 0.8772 - val_precision: 0.6288 - val_recall: 0.5646 - val_f1score: 0.5948\n",
      "Epoch 21/100\n",
      "100/100 [==============================] - 54s 544ms/step - loss: 0.6746 - acc: 0.6590 - auc: 0.8778 - precision: 0.6948 - recall: 0.6109 - f1score: 0.6497 - val_loss: 0.7479 - val_acc: 0.6298 - val_auc: 0.8786 - val_precision: 0.6464 - val_recall: 0.5960 - val_f1score: 0.6200\n",
      "Epoch 22/100\n",
      "100/100 [==============================] - 54s 540ms/step - loss: 0.6587 - acc: 0.6587 - auc: 0.8793 - precision: 0.6910 - recall: 0.6147 - f1score: 0.6502 - val_loss: 0.7329 - val_acc: 0.6217 - val_auc: 0.8801 - val_precision: 0.6280 - val_recall: 0.5914 - val_f1score: 0.6090\n",
      "Epoch 23/100\n",
      "100/100 [==============================] - 54s 544ms/step - loss: 0.6585 - acc: 0.6672 - auc: 0.8807 - precision: 0.6964 - recall: 0.6189 - f1score: 0.6550 - val_loss: 0.7323 - val_acc: 0.6275 - val_auc: 0.8814 - val_precision: 0.6447 - val_recall: 0.5972 - val_f1score: 0.6199\n",
      "Epoch 24/100\n",
      "100/100 [==============================] - 55s 546ms/step - loss: 0.6517 - acc: 0.6689 - auc: 0.8821 - precision: 0.6956 - recall: 0.6225 - f1score: 0.6566 - val_loss: 0.9165 - val_acc: 0.6158 - val_auc: 0.8826 - val_precision: 0.6358 - val_recall: 0.5925 - val_f1score: 0.6130\n",
      "Epoch 25/100\n",
      "100/100 [==============================] - 54s 539ms/step - loss: 0.6368 - acc: 0.6863 - auc: 0.8833 - precision: 0.7160 - recall: 0.6387 - f1score: 0.6747 - val_loss: 0.7487 - val_acc: 0.6240 - val_auc: 0.8839 - val_precision: 0.6485 - val_recall: 0.5879 - val_f1score: 0.6165\n",
      "Epoch 26/100\n",
      "100/100 [==============================] - 54s 540ms/step - loss: 0.6348 - acc: 0.6817 - auc: 0.8846 - precision: 0.7014 - recall: 0.6362 - f1score: 0.6669 - val_loss: 0.7376 - val_acc: 0.6275 - val_auc: 0.8852 - val_precision: 0.6407 - val_recall: 0.5949 - val_f1score: 0.6168\n",
      "Epoch 27/100\n",
      "100/100 [==============================] - 54s 544ms/step - loss: 0.6313 - acc: 0.6925 - auc: 0.8858 - precision: 0.7159 - recall: 0.6456 - f1score: 0.6786 - val_loss: 0.7422 - val_acc: 0.6298 - val_auc: 0.8864 - val_precision: 0.6417 - val_recall: 0.6054 - val_f1score: 0.6228\n",
      "Epoch 28/100\n",
      "100/100 [==============================] - 54s 544ms/step - loss: 0.6232 - acc: 0.6854 - auc: 0.8871 - precision: 0.7105 - recall: 0.6477 - f1score: 0.6774 - val_loss: 0.7380 - val_acc: 0.6135 - val_auc: 0.8876 - val_precision: 0.6373 - val_recall: 0.5844 - val_f1score: 0.6096\n",
      "Epoch 29/100\n"
     ]
    },
    {
     "name": "stdout",
     "output_type": "stream",
     "text": [
      "100/100 [==============================] - 54s 542ms/step - loss: 0.6205 - acc: 0.6927 - auc: 0.8882 - precision: 0.7224 - recall: 0.6560 - f1score: 0.6873 - val_loss: 0.7173 - val_acc: 0.6310 - val_auc: 0.8888 - val_precision: 0.6470 - val_recall: 0.6042 - val_f1score: 0.6248\n",
      "Epoch 30/100\n",
      "100/100 [==============================] - 54s 543ms/step - loss: 0.6107 - acc: 0.6959 - auc: 0.8894 - precision: 0.7152 - recall: 0.6544 - f1score: 0.6832 - val_loss: 0.7253 - val_acc: 0.6403 - val_auc: 0.8900 - val_precision: 0.6559 - val_recall: 0.6147 - val_f1score: 0.6345\n",
      "Epoch 31/100\n",
      "100/100 [==============================] - 54s 543ms/step - loss: 0.5920 - acc: 0.7014 - auc: 0.8906 - precision: 0.7261 - recall: 0.6709 - f1score: 0.6972 - val_loss: 0.7377 - val_acc: 0.6333 - val_auc: 0.8912 - val_precision: 0.6434 - val_recall: 0.6054 - val_f1score: 0.6236\n",
      "Epoch 32/100\n",
      "100/100 [==============================] - 55s 545ms/step - loss: 0.6014 - acc: 0.7023 - auc: 0.8917 - precision: 0.7260 - recall: 0.6683 - f1score: 0.6956 - val_loss: 0.8259 - val_acc: 0.6077 - val_auc: 0.8922 - val_precision: 0.6242 - val_recall: 0.5856 - val_f1score: 0.6037\n",
      "Epoch 33/100\n",
      "100/100 [==============================] - 54s 540ms/step - loss: 0.5878 - acc: 0.7108 - auc: 0.8928 - precision: 0.7353 - recall: 0.6779 - f1score: 0.7052 - val_loss: 0.7966 - val_acc: 0.6088 - val_auc: 0.8933 - val_precision: 0.6254 - val_recall: 0.5856 - val_f1score: 0.6047\n",
      "Epoch 34/100\n",
      "100/100 [==============================] - 54s 542ms/step - loss: 0.5913 - acc: 0.7099 - auc: 0.8938 - precision: 0.7286 - recall: 0.6778 - f1score: 0.7021 - val_loss: 0.7570 - val_acc: 0.6193 - val_auc: 0.8943 - val_precision: 0.6350 - val_recall: 0.6100 - val_f1score: 0.6222\n",
      "Epoch 35/100\n",
      "100/100 [==============================] - 55s 546ms/step - loss: 0.5825 - acc: 0.7191 - auc: 0.8948 - precision: 0.7375 - recall: 0.6825 - f1score: 0.7086 - val_loss: 0.8334 - val_acc: 0.6030 - val_auc: 0.8953 - val_precision: 0.6203 - val_recall: 0.5879 - val_f1score: 0.6035\n",
      "Epoch 36/100\n",
      "100/100 [==============================] - 55s 547ms/step - loss: 0.5745 - acc: 0.7155 - auc: 0.8958 - precision: 0.7361 - recall: 0.6834 - f1score: 0.7085 - val_loss: 0.8141 - val_acc: 0.6042 - val_auc: 0.8962 - val_precision: 0.6225 - val_recall: 0.5821 - val_f1score: 0.6014\n",
      "Epoch 37/100\n",
      "100/100 [==============================] - 55s 547ms/step - loss: 0.5773 - acc: 0.7190 - auc: 0.8967 - precision: 0.7413 - recall: 0.6861 - f1score: 0.7123 - val_loss: 0.8012 - val_acc: 0.6088 - val_auc: 0.8971 - val_precision: 0.6160 - val_recall: 0.5879 - val_f1score: 0.6015\n",
      "Epoch 38/100\n",
      "100/100 [==============================] - 55s 546ms/step - loss: 0.5715 - acc: 0.7119 - auc: 0.8975 - precision: 0.7332 - recall: 0.6819 - f1score: 0.7063 - val_loss: 0.8351 - val_acc: 0.6263 - val_auc: 0.8980 - val_precision: 0.6444 - val_recall: 0.6077 - val_f1score: 0.6254\n",
      "Epoch 39/100\n",
      "100/100 [==============================] - 55s 546ms/step - loss: 0.5710 - acc: 0.7145 - auc: 0.8984 - precision: 0.7340 - recall: 0.6915 - f1score: 0.7119 - val_loss: 0.7973 - val_acc: 0.6275 - val_auc: 0.8988 - val_precision: 0.6453 - val_recall: 0.6100 - val_f1score: 0.6269\n",
      "Epoch 40/100\n",
      "100/100 [==============================] - 55s 549ms/step - loss: 0.5590 - acc: 0.7278 - auc: 0.8992 - precision: 0.7479 - recall: 0.7053 - f1score: 0.7257 - val_loss: 0.9477 - val_acc: 0.5763 - val_auc: 0.8996 - val_precision: 0.5837 - val_recall: 0.5623 - val_f1score: 0.5725\n",
      "Epoch 41/100\n",
      "100/100 [==============================] - 54s 541ms/step - loss: 0.5557 - acc: 0.7263 - auc: 0.9000 - precision: 0.7455 - recall: 0.6979 - f1score: 0.7207 - val_loss: 0.8407 - val_acc: 0.6158 - val_auc: 0.9004 - val_precision: 0.6303 - val_recall: 0.5937 - val_f1score: 0.6113\n",
      "Epoch 42/100\n",
      "100/100 [==============================] - 54s 544ms/step - loss: 0.5436 - acc: 0.7382 - auc: 0.9009 - precision: 0.7547 - recall: 0.7123 - f1score: 0.7327 - val_loss: 0.9310 - val_acc: 0.6077 - val_auc: 0.9013 - val_precision: 0.6217 - val_recall: 0.5925 - val_f1score: 0.6066\n",
      "Epoch 43/100\n",
      "100/100 [==============================] - 55s 545ms/step - loss: 0.5405 - acc: 0.7383 - auc: 0.9017 - precision: 0.7573 - recall: 0.7127 - f1score: 0.7341 - val_loss: 0.9105 - val_acc: 0.5902 - val_auc: 0.9021 - val_precision: 0.6054 - val_recall: 0.5693 - val_f1score: 0.5866\n",
      "Epoch 44/100\n",
      "100/100 [==============================] - 55s 547ms/step - loss: 0.5281 - acc: 0.7442 - auc: 0.9025 - precision: 0.7611 - recall: 0.7181 - f1score: 0.7388 - val_loss: 0.9470 - val_acc: 0.5925 - val_auc: 0.9029 - val_precision: 0.6062 - val_recall: 0.5704 - val_f1score: 0.5876\n",
      "Epoch 45/100\n",
      "100/100 [==============================] - 54s 545ms/step - loss: 0.5329 - acc: 0.7364 - auc: 0.9033 - precision: 0.7495 - recall: 0.7135 - f1score: 0.7309 - val_loss: 0.8372 - val_acc: 0.6112 - val_auc: 0.9037 - val_precision: 0.6241 - val_recall: 0.6030 - val_f1score: 0.6133\n",
      "Epoch 46/100\n",
      "100/100 [==============================] - 55s 548ms/step - loss: 0.5315 - acc: 0.7514 - auc: 0.9041 - precision: 0.7658 - recall: 0.7248 - f1score: 0.7445 - val_loss: 0.8228 - val_acc: 0.5914 - val_auc: 0.9045 - val_precision: 0.6041 - val_recall: 0.5774 - val_f1score: 0.5904\n",
      "Epoch 47/100\n",
      "100/100 [==============================] - 55s 547ms/step - loss: 0.5175 - acc: 0.7548 - auc: 0.9049 - precision: 0.7678 - recall: 0.7304 - f1score: 0.7484 - val_loss: 0.7750 - val_acc: 0.6298 - val_auc: 0.9053 - val_precision: 0.6414 - val_recall: 0.6112 - val_f1score: 0.6259\n",
      "Epoch 48/100\n",
      "100/100 [==============================] - 54s 540ms/step - loss: 0.5230 - acc: 0.7497 - auc: 0.9057 - precision: 0.7693 - recall: 0.7295 - f1score: 0.7487 - val_loss: 0.8582 - val_acc: 0.6298 - val_auc: 0.9060 - val_precision: 0.6416 - val_recall: 0.6182 - val_f1score: 0.6294\n",
      "Epoch 49/100\n",
      "100/100 [==============================] - 54s 537ms/step - loss: 0.5062 - acc: 0.7617 - auc: 0.9065 - precision: 0.7770 - recall: 0.7430 - f1score: 0.7595 - val_loss: 0.8154 - val_acc: 0.6345 - val_auc: 0.9069 - val_precision: 0.6409 - val_recall: 0.6182 - val_f1score: 0.6292\n",
      "Epoch 50/100\n",
      "100/100 [==============================] - 55s 552ms/step - loss: 0.5055 - acc: 0.7568 - auc: 0.9073 - precision: 0.7726 - recall: 0.7375 - f1score: 0.7545 - val_loss: 0.9068 - val_acc: 0.6170 - val_auc: 0.9076 - val_precision: 0.6238 - val_recall: 0.5995 - val_f1score: 0.6113\n",
      "Epoch 51/100\n",
      "100/100 [==============================] - 54s 544ms/step - loss: 0.5019 - acc: 0.7571 - auc: 0.9080 - precision: 0.7705 - recall: 0.7381 - f1score: 0.7538 - val_loss: 0.9888 - val_acc: 0.5937 - val_auc: 0.9083 - val_precision: 0.6029 - val_recall: 0.5728 - val_f1score: 0.5873\n",
      "Epoch 52/100\n",
      "100/100 [==============================] - 54s 542ms/step - loss: 0.5033 - acc: 0.7589 - auc: 0.9087 - precision: 0.7745 - recall: 0.7422 - f1score: 0.7579 - val_loss: 0.7771 - val_acc: 0.6054 - val_auc: 0.9090 - val_precision: 0.6146 - val_recall: 0.5891 - val_f1score: 0.6015\n",
      "Epoch 53/100\n",
      "100/100 [==============================] - 54s 544ms/step - loss: 0.4999 - acc: 0.7574 - auc: 0.9094 - precision: 0.7703 - recall: 0.7363 - f1score: 0.7528 - val_loss: 0.8430 - val_acc: 0.6158 - val_auc: 0.9097 - val_precision: 0.6279 - val_recall: 0.6030 - val_f1score: 0.6151\n",
      "Epoch 54/100\n",
      "100/100 [==============================] - 55s 546ms/step - loss: 0.4843 - acc: 0.7664 - auc: 0.9101 - precision: 0.7760 - recall: 0.7471 - f1score: 0.7612 - val_loss: 0.8683 - val_acc: 0.6321 - val_auc: 0.9105 - val_precision: 0.6434 - val_recall: 0.6251 - val_f1score: 0.6341\n",
      "Epoch 55/100\n",
      "100/100 [==============================] - 55s 547ms/step - loss: 0.4947 - acc: 0.7612 - auc: 0.9108 - precision: 0.7729 - recall: 0.7442 - f1score: 0.7581 - val_loss: 0.8735 - val_acc: 0.6217 - val_auc: 0.9111 - val_precision: 0.6341 - val_recall: 0.6158 - val_f1score: 0.6247\n",
      "Epoch 56/100\n",
      "100/100 [==============================] - 55s 547ms/step - loss: 0.4775 - acc: 0.7648 - auc: 0.9115 - precision: 0.7776 - recall: 0.7500 - f1score: 0.7633 - val_loss: 0.8852 - val_acc: 0.6135 - val_auc: 0.9118 - val_precision: 0.6192 - val_recall: 0.5984 - val_f1score: 0.6083\n",
      "Epoch 57/100\n"
     ]
    },
    {
     "name": "stdout",
     "output_type": "stream",
     "text": [
      "100/100 [==============================] - 54s 543ms/step - loss: 0.4721 - acc: 0.7820 - auc: 0.9122 - precision: 0.7948 - recall: 0.7651 - f1score: 0.7796 - val_loss: 0.8926 - val_acc: 0.6170 - val_auc: 0.9125 - val_precision: 0.6238 - val_recall: 0.6065 - val_f1score: 0.6150\n",
      "Epoch 58/100\n",
      "100/100 [==============================] - 55s 547ms/step - loss: 0.4713 - acc: 0.7723 - auc: 0.9129 - precision: 0.7845 - recall: 0.7540 - f1score: 0.7687 - val_loss: 0.8871 - val_acc: 0.6193 - val_auc: 0.9132 - val_precision: 0.6254 - val_recall: 0.6100 - val_f1score: 0.6175\n",
      "Epoch 59/100\n",
      "100/100 [==============================] - 55s 549ms/step - loss: 0.4733 - acc: 0.7755 - auc: 0.9135 - precision: 0.7889 - recall: 0.7605 - f1score: 0.7743 - val_loss: 0.8783 - val_acc: 0.6182 - val_auc: 0.9138 - val_precision: 0.6271 - val_recall: 0.6042 - val_f1score: 0.6153\n",
      "Epoch 60/100\n",
      "100/100 [==============================] - 55s 547ms/step - loss: 0.4673 - acc: 0.7837 - auc: 0.9141 - precision: 0.7958 - recall: 0.7657 - f1score: 0.7804 - val_loss: 0.8781 - val_acc: 0.6275 - val_auc: 0.9145 - val_precision: 0.6354 - val_recall: 0.6193 - val_f1score: 0.6272\n",
      "Epoch 61/100\n",
      "100/100 [==============================] - 55s 546ms/step - loss: 0.4673 - acc: 0.7783 - auc: 0.9148 - precision: 0.7892 - recall: 0.7615 - f1score: 0.7750 - val_loss: 0.8364 - val_acc: 0.6228 - val_auc: 0.9151 - val_precision: 0.6322 - val_recall: 0.6112 - val_f1score: 0.6214\n",
      "Epoch 62/100\n",
      "100/100 [==============================] - 55s 548ms/step - loss: 0.4541 - acc: 0.7889 - auc: 0.9154 - precision: 0.8006 - recall: 0.7741 - f1score: 0.7870 - val_loss: 0.9959 - val_acc: 0.6065 - val_auc: 0.9157 - val_precision: 0.6160 - val_recall: 0.5972 - val_f1score: 0.6064\n",
      "Epoch 63/100\n",
      "100/100 [==============================] - 54s 544ms/step - loss: 0.4444 - acc: 0.7888 - auc: 0.9160 - precision: 0.8005 - recall: 0.7757 - f1score: 0.7878 - val_loss: 0.8324 - val_acc: 0.6123 - val_auc: 0.9164 - val_precision: 0.6190 - val_recall: 0.5984 - val_f1score: 0.6085\n",
      "Epoch 64/100\n",
      "100/100 [==============================] - 55s 548ms/step - loss: 0.4479 - acc: 0.7912 - auc: 0.9167 - precision: 0.8018 - recall: 0.7759 - f1score: 0.7885 - val_loss: 0.9814 - val_acc: 0.6170 - val_auc: 0.9170 - val_precision: 0.6330 - val_recall: 0.6135 - val_f1score: 0.6229\n",
      "Epoch 65/100\n",
      "100/100 [==============================] - 54s 541ms/step - loss: 0.4491 - acc: 0.7881 - auc: 0.9173 - precision: 0.7972 - recall: 0.7761 - f1score: 0.7864 - val_loss: 1.1158 - val_acc: 0.5891 - val_auc: 0.9175 - val_precision: 0.5957 - val_recall: 0.5821 - val_f1score: 0.5888\n",
      "Epoch 66/100\n",
      "100/100 [==============================] - 55s 545ms/step - loss: 0.4411 - acc: 0.7899 - auc: 0.9178 - precision: 0.8008 - recall: 0.7776 - f1score: 0.7889 - val_loss: 0.9602 - val_acc: 0.6019 - val_auc: 0.9181 - val_precision: 0.6100 - val_recall: 0.5949 - val_f1score: 0.6022\n",
      "Epoch 67/100\n",
      "100/100 [==============================] - 55s 545ms/step - loss: 0.4359 - acc: 0.7889 - auc: 0.9184 - precision: 0.7984 - recall: 0.7795 - f1score: 0.7887 - val_loss: 0.8944 - val_acc: 0.6065 - val_auc: 0.9187 - val_precision: 0.6194 - val_recall: 0.6007 - val_f1score: 0.6098\n",
      "Epoch 68/100\n",
      "100/100 [==============================] - 54s 544ms/step - loss: 0.4344 - acc: 0.7997 - auc: 0.9190 - precision: 0.8095 - recall: 0.7878 - f1score: 0.7984 - val_loss: 0.9509 - val_acc: 0.6065 - val_auc: 0.9193 - val_precision: 0.6159 - val_recall: 0.6042 - val_f1score: 0.6100\n",
      "Epoch 69/100\n",
      "100/100 [==============================] - 55s 547ms/step - loss: 0.4259 - acc: 0.8011 - auc: 0.9196 - precision: 0.8114 - recall: 0.7878 - f1score: 0.7993 - val_loss: 0.9025 - val_acc: 0.6170 - val_auc: 0.9198 - val_precision: 0.6231 - val_recall: 0.6007 - val_f1score: 0.6116\n",
      "Epoch 70/100\n",
      "100/100 [==============================] - 55s 547ms/step - loss: 0.4319 - acc: 0.8018 - auc: 0.9201 - precision: 0.8106 - recall: 0.7866 - f1score: 0.7983 - val_loss: 1.0001 - val_acc: 0.6240 - val_auc: 0.9204 - val_precision: 0.6313 - val_recall: 0.6193 - val_f1score: 0.6252\n",
      "Epoch 71/100\n",
      "100/100 [==============================] - 54s 544ms/step - loss: 0.4210 - acc: 0.8083 - auc: 0.9207 - precision: 0.8182 - recall: 0.7983 - f1score: 0.8080 - val_loss: 0.9652 - val_acc: 0.6263 - val_auc: 0.9210 - val_precision: 0.6324 - val_recall: 0.6193 - val_f1score: 0.6258\n",
      "Epoch 72/100\n",
      "100/100 [==============================] - 55s 548ms/step - loss: 0.4126 - acc: 0.8089 - auc: 0.9213 - precision: 0.8166 - recall: 0.7969 - f1score: 0.8066 - val_loss: 1.6020 - val_acc: 0.5495 - val_auc: 0.9215 - val_precision: 0.5526 - val_recall: 0.5402 - val_f1score: 0.5461\n",
      "Epoch 73/100\n",
      "100/100 [==============================] - 54s 536ms/step - loss: 0.4186 - acc: 0.8096 - auc: 0.9217 - precision: 0.8175 - recall: 0.7993 - f1score: 0.8082 - val_loss: 0.9232 - val_acc: 0.6147 - val_auc: 0.9220 - val_precision: 0.6264 - val_recall: 0.6065 - val_f1score: 0.6162\n",
      "Epoch 74/100\n",
      "100/100 [==============================] - 55s 546ms/step - loss: 0.4193 - acc: 0.8092 - auc: 0.9222 - precision: 0.8172 - recall: 0.7983 - f1score: 0.8075 - val_loss: 0.9324 - val_acc: 0.6182 - val_auc: 0.9225 - val_precision: 0.6275 - val_recall: 0.6112 - val_f1score: 0.6191\n",
      "Epoch 75/100\n",
      "100/100 [==============================] - 54s 543ms/step - loss: 0.4103 - acc: 0.8124 - auc: 0.9228 - precision: 0.8206 - recall: 0.7997 - f1score: 0.8099 - val_loss: 0.9585 - val_acc: 0.6263 - val_auc: 0.9230 - val_precision: 0.6326 - val_recall: 0.6182 - val_f1score: 0.6253\n",
      "Epoch 76/100\n",
      "100/100 [==============================] - 55s 553ms/step - loss: 0.4007 - acc: 0.8186 - auc: 0.9233 - precision: 0.8287 - recall: 0.8074 - f1score: 0.8178 - val_loss: 1.1003 - val_acc: 0.6158 - val_auc: 0.9236 - val_precision: 0.6262 - val_recall: 0.6112 - val_f1score: 0.6185\n",
      "Epoch 77/100\n",
      "100/100 [==============================] - 55s 546ms/step - loss: 0.4074 - acc: 0.8180 - auc: 0.9238 - precision: 0.8253 - recall: 0.8083 - f1score: 0.8167 - val_loss: 1.0290 - val_acc: 0.6240 - val_auc: 0.9241 - val_precision: 0.6292 - val_recall: 0.6147 - val_f1score: 0.6218\n",
      "Epoch 78/100\n",
      "100/100 [==============================] - 54s 543ms/step - loss: 0.3962 - acc: 0.8164 - auc: 0.9243 - precision: 0.8244 - recall: 0.8078 - f1score: 0.8160 - val_loss: 0.9392 - val_acc: 0.6321 - val_auc: 0.9246 - val_precision: 0.6396 - val_recall: 0.6240 - val_f1score: 0.6317\n",
      "Epoch 79/100\n",
      "100/100 [==============================] - 55s 547ms/step - loss: 0.3984 - acc: 0.8181 - auc: 0.9249 - precision: 0.8267 - recall: 0.8071 - f1score: 0.8167 - val_loss: 1.1206 - val_acc: 0.6065 - val_auc: 0.9251 - val_precision: 0.6103 - val_recall: 0.6019 - val_f1score: 0.6060\n",
      "Epoch 80/100\n",
      "100/100 [==============================] - 54s 544ms/step - loss: 0.3946 - acc: 0.8185 - auc: 0.9253 - precision: 0.8264 - recall: 0.8100 - f1score: 0.8180 - val_loss: 1.0868 - val_acc: 0.6019 - val_auc: 0.9256 - val_precision: 0.6102 - val_recall: 0.5972 - val_f1score: 0.6034\n",
      "Epoch 81/100\n",
      "100/100 [==============================] - 54s 538ms/step - loss: 0.3785 - acc: 0.8277 - auc: 0.9258 - precision: 0.8350 - recall: 0.8186 - f1score: 0.8266 - val_loss: 1.2076 - val_acc: 0.6065 - val_auc: 0.9261 - val_precision: 0.6114 - val_recall: 0.5960 - val_f1score: 0.6036\n",
      "Epoch 82/100\n",
      "100/100 [==============================] - 54s 542ms/step - loss: 0.3813 - acc: 0.8261 - auc: 0.9263 - precision: 0.8332 - recall: 0.8180 - f1score: 0.8254 - val_loss: 0.9421 - val_acc: 0.6426 - val_auc: 0.9265 - val_precision: 0.6517 - val_recall: 0.6380 - val_f1score: 0.6447\n",
      "Epoch 83/100\n",
      "100/100 [==============================] - 54s 545ms/step - loss: 0.3895 - acc: 0.8220 - auc: 0.9268 - precision: 0.8292 - recall: 0.8120 - f1score: 0.8204 - val_loss: 0.9208 - val_acc: 0.6286 - val_auc: 0.9270 - val_precision: 0.6310 - val_recall: 0.6193 - val_f1score: 0.6251\n",
      "Epoch 84/100\n",
      "100/100 [==============================] - 55s 546ms/step - loss: 0.3653 - acc: 0.8352 - auc: 0.9273 - precision: 0.8431 - recall: 0.8283 - f1score: 0.8356 - val_loss: 0.9919 - val_acc: 0.6251 - val_auc: 0.9275 - val_precision: 0.6286 - val_recall: 0.6170 - val_f1score: 0.6227\n",
      "Epoch 85/100\n"
     ]
    },
    {
     "name": "stdout",
     "output_type": "stream",
     "text": [
      "100/100 [==============================] - 55s 546ms/step - loss: 0.3732 - acc: 0.8285 - auc: 0.9278 - precision: 0.8357 - recall: 0.8198 - f1score: 0.8276 - val_loss: 1.0081 - val_acc: 0.6065 - val_auc: 0.9280 - val_precision: 0.6127 - val_recall: 0.6042 - val_f1score: 0.6084\n",
      "Epoch 86/100\n",
      "100/100 [==============================] - 55s 545ms/step - loss: 0.3771 - acc: 0.8371 - auc: 0.9283 - precision: 0.8443 - recall: 0.8309 - f1score: 0.8375 - val_loss: 1.1714 - val_acc: 0.6042 - val_auc: 0.9285 - val_precision: 0.6077 - val_recall: 0.5995 - val_f1score: 0.6035\n",
      "Epoch 87/100\n",
      "100/100 [==============================] - 54s 544ms/step - loss: 0.3595 - acc: 0.8326 - auc: 0.9287 - precision: 0.8396 - recall: 0.8251 - f1score: 0.8322 - val_loss: 1.0510 - val_acc: 0.6228 - val_auc: 0.9289 - val_precision: 0.6309 - val_recall: 0.6123 - val_f1score: 0.6214\n",
      "Epoch 88/100\n",
      "100/100 [==============================] - 55s 547ms/step - loss: 0.3624 - acc: 0.8414 - auc: 0.9292 - precision: 0.8473 - recall: 0.8338 - f1score: 0.8404 - val_loss: 1.3292 - val_acc: 0.5891 - val_auc: 0.9294 - val_precision: 0.5962 - val_recall: 0.5844 - val_f1score: 0.5900\n",
      "Epoch 89/100\n",
      "100/100 [==============================] - 54s 539ms/step - loss: 0.3545 - acc: 0.8373 - auc: 0.9296 - precision: 0.8445 - recall: 0.8315 - f1score: 0.8379 - val_loss: 1.0894 - val_acc: 0.6286 - val_auc: 0.9298 - val_precision: 0.6350 - val_recall: 0.6240 - val_f1score: 0.6294\n",
      "Epoch 90/100\n",
      "100/100 [==============================] - 54s 545ms/step - loss: 0.3482 - acc: 0.8404 - auc: 0.9300 - precision: 0.8467 - recall: 0.8337 - f1score: 0.8401 - val_loss: 1.0669 - val_acc: 0.6077 - val_auc: 0.9303 - val_precision: 0.6126 - val_recall: 0.6054 - val_f1score: 0.6089\n",
      "Epoch 91/100\n",
      "100/100 [==============================] - 55s 546ms/step - loss: 0.3521 - acc: 0.8375 - auc: 0.9305 - precision: 0.8453 - recall: 0.8315 - f1score: 0.8383 - val_loss: 1.1092 - val_acc: 0.6205 - val_auc: 0.9307 - val_precision: 0.6245 - val_recall: 0.6123 - val_f1score: 0.6184\n",
      "Epoch 92/100\n",
      "100/100 [==============================] - 54s 543ms/step - loss: 0.3513 - acc: 0.8450 - auc: 0.9309 - precision: 0.8518 - recall: 0.8383 - f1score: 0.8450 - val_loss: 1.0807 - val_acc: 0.6286 - val_auc: 0.9312 - val_precision: 0.6377 - val_recall: 0.6251 - val_f1score: 0.6313\n",
      "Epoch 93/100\n",
      "100/100 [==============================] - 55s 546ms/step - loss: 0.3506 - acc: 0.8400 - auc: 0.9314 - precision: 0.8472 - recall: 0.8332 - f1score: 0.8401 - val_loss: 1.1286 - val_acc: 0.6042 - val_auc: 0.9316 - val_precision: 0.6064 - val_recall: 0.5995 - val_f1score: 0.6029\n",
      "Epoch 94/100\n",
      "100/100 [==============================] - 54s 545ms/step - loss: 0.3458 - acc: 0.8440 - auc: 0.9318 - precision: 0.8499 - recall: 0.8382 - f1score: 0.8440 - val_loss: 1.1221 - val_acc: 0.6112 - val_auc: 0.9320 - val_precision: 0.6156 - val_recall: 0.6065 - val_f1score: 0.6110\n",
      "Epoch 95/100\n",
      "100/100 [==============================] - 55s 546ms/step - loss: 0.3260 - acc: 0.8596 - auc: 0.9323 - precision: 0.8640 - recall: 0.8522 - f1score: 0.8580 - val_loss: 1.3302 - val_acc: 0.6077 - val_auc: 0.9325 - val_precision: 0.6134 - val_recall: 0.6042 - val_f1score: 0.6088\n",
      "Epoch 96/100\n",
      "100/100 [==============================] - 55s 555ms/step - loss: 0.3327 - acc: 0.8474 - auc: 0.9327 - precision: 0.8537 - recall: 0.8416 - f1score: 0.8475 - val_loss: 1.4373 - val_acc: 0.5728 - val_auc: 0.9329 - val_precision: 0.5743 - val_recall: 0.5681 - val_f1score: 0.5711\n",
      "Epoch 97/100\n",
      "100/100 [==============================] - 55s 548ms/step - loss: 0.3257 - acc: 0.8545 - auc: 0.9331 - precision: 0.8602 - recall: 0.8509 - f1score: 0.8555 - val_loss: 1.2407 - val_acc: 0.6054 - val_auc: 0.9333 - val_precision: 0.6100 - val_recall: 0.6007 - val_f1score: 0.6053\n",
      "Epoch 98/100\n",
      "100/100 [==============================] - 55s 547ms/step - loss: 0.3285 - acc: 0.8547 - auc: 0.9335 - precision: 0.8591 - recall: 0.8485 - f1score: 0.8537 - val_loss: 1.1493 - val_acc: 0.6286 - val_auc: 0.9337 - val_precision: 0.6312 - val_recall: 0.6217 - val_f1score: 0.6263\n",
      "Epoch 99/100\n",
      "100/100 [==============================] - 55s 548ms/step - loss: 0.3392 - acc: 0.8520 - auc: 0.9339 - precision: 0.8586 - recall: 0.8463 - f1score: 0.8524 - val_loss: 1.1905 - val_acc: 0.6123 - val_auc: 0.9341 - val_precision: 0.6158 - val_recall: 0.6088 - val_f1score: 0.6123\n",
      "Epoch 100/100\n",
      "100/100 [==============================] - 54s 544ms/step - loss: 0.3308 - acc: 0.8563 - auc: 0.9343 - precision: 0.8622 - recall: 0.8495 - f1score: 0.8558 - val_loss: 1.1420 - val_acc: 0.6170 - val_auc: 0.9345 - val_precision: 0.6190 - val_recall: 0.6112 - val_f1score: 0.6150\n"
     ]
    }
   ],
   "source": [
    "history = additional_model.fit_generator(dgf, \n",
    "            steps_per_epoch=100, \n",
    "            epochs=100, \n",
    "            validation_data=(X_val,y_val), \n",
    "            validation_steps=16, \n",
    "            callbacks=[checkpoint])"
   ]
  },
  {
   "cell_type": "code",
   "execution_count": 24,
   "metadata": {},
   "outputs": [
    {
     "data": {
      "image/png": "[encoded data removed]",
      "text/plain": [
       "<Figure size 432x288 with 1 Axes>"
      ]
     },
     "metadata": {
      "needs_background": "light"
     },
     "output_type": "display_data"
    },
    {
     "data": {
      "image/png": "[encoded data removed]",
      "text/plain": [
       "<Figure size 432x288 with 1 Axes>"
      ]
     },
     "metadata": {
      "needs_background": "light"
     },
     "output_type": "display_data"
    }
   ],
   "source": [
    "acc = history.history['acc']\n",
    "val_acc = history.history['val_acc']\n",
    "loss = history.history['loss']\n",
    "val_loss = history.history['val_loss']\n",
    " \n",
    "epochs = range(1, len(acc) + 1)\n",
    " \n",
    "plt.plot(epochs, acc, 'bo', label='Training acc')\n",
    "plt.plot(epochs, val_acc, 'r', label='Validation acc')\n",
    "plt.title('Accuracy')\n",
    "plt.legend()\n",
    "plt.figure()\n",
    " \n",
    "plt.plot(epochs, loss, 'bo', label='Training loss')\n",
    "plt.plot(epochs, val_loss, 'r', label='Validation loss')\n",
    "plt.title('Loss')\n",
    "plt.legend()\n",
    " \n",
    "plt.show()"
   ]
  },
  {
   "cell_type": "code",
   "execution_count": 15,
   "metadata": {},
   "outputs": [],
   "source": [
    "additional_model.save('fine_tuning_VGG16_Aug_1.h5')"
   ]
  },
  {
   "cell_type": "code",
   "execution_count": 16,
   "metadata": {},
   "outputs": [],
   "source": [
    "X_test=np.load('X_test.npy')\n",
    "y_test=np.load('y_test.npy')"
   ]
  },
  {
   "cell_type": "code",
   "execution_count": 18,
   "metadata": {},
   "outputs": [
    {
     "name": "stdout",
     "output_type": "stream",
     "text": [
      "704/704 [==============================] - 2s 3ms/step\n",
      "loss: 11.608, accuracy: 0.280, auc: 0.934, precision: 0.280, recall: 0.280, f1score: 0.280\n"
     ]
    }
   ],
   "source": [
    "_loss, _acc, _auc, _precision, _recall, _f1score = additional_model.evaluate(X_test, y_test, batch_size=64)\n",
    "print('loss: {:.3f}, accuracy: {:.3f}, auc: {:.3f}, precision: {:.3f}, recall: {:.3f}, f1score: {:.3f}'.format(_loss, _acc, _auc, _precision, _recall, _f1score))"
   ]
  },
  {
   "cell_type": "code",
   "execution_count": 19,
   "metadata": {},
   "outputs": [
    {
     "name": "stdout",
     "output_type": "stream",
     "text": [
      "859/859 [==============================] - 2s 3ms/step\n",
      "loss: 1.142, accuracy: 0.617, auc: 0.934, precision: 0.619, recall: 0.611, f1score: 0.615\n"
     ]
    }
   ],
   "source": [
    "_loss, _acc, _auc, _precision, _recall, _f1score = additional_model.evaluate(X_val, y_val, batch_size=64)\n",
    "print('loss: {:.3f}, accuracy: {:.3f}, auc: {:.3f}, precision: {:.3f}, recall: {:.3f}, f1score: {:.3f}'.format(_loss, _acc, _auc, _precision, _recall, _f1score))"
   ]
  },
  {
   "cell_type": "code",
   "execution_count": null,
   "metadata": {},
   "outputs": [],
   "source": []
  }
 ],
 "metadata": {
  "kernelspec": {
   "display_name": "Python 3",
   "language": "python",
   "name": "python3"
  },
  "language_info": {
   "codemirror_mode": {
    "name": "ipython",
    "version": 3
   },
   "file_extension": ".py",
   "mimetype": "text/x-python",
   "name": "python",
   "nbconvert_exporter": "python",
   "pygments_lexer": "ipython3",
   "version": "3.7.4"
  }
 },
 "nbformat": 4,
 "nbformat_minor": 2
}
