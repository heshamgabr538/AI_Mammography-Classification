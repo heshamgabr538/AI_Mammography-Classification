{
 "cells": [
  {
   "cell_type": "code",
   "execution_count": 1,
   "metadata": {},
   "outputs": [
    {
     "data": {
      "text/plain": [
       "'C:\\\\Users\\\\Owner2\\\\Desktop\\\\G팔로미_vuno'"
      ]
     },
     "execution_count": 1,
     "metadata": {},
     "output_type": "execute_result"
    }
   ],
   "source": [
    "import os\n",
    "import pandas as pd\n",
    "from matplotlib import pyplot as plt\n",
    "import cv2\n",
    "import numpy as np\n",
    "\n",
    "#data path 수정\n",
    "os.chdir(\"C:\\\\Users\\\\Owner2\\\\Desktop\\\\G팔로미_vuno\")\n",
    "os.getcwd()"
   ]
  },
  {
   "cell_type": "code",
   "execution_count": 2,
   "metadata": {},
   "outputs": [],
   "source": [
<<<<<<< HEAD
    "from matplotlib import pyplot as plt\n",
    "from skimage import measure, morphology\n",
    "import pydicom as dicom\n",
    "import numpy as np\n",
    "import cv2\n",
    "import skimage.transform\n",
    "\n",
    "X=np.load('data_X_no_hist.npy')\n",
    "y=np.load('data_y_no_hist.npy')"
=======
    "X=np.load('data_X_with_callback.npy')\n",
    "y=np.load('data_y_with_callback.npy')"
>>>>>>> 466d56cbf0fba52cac067d30726052d2f7e2e9d1
   ]
  },
  {
   "cell_type": "code",
   "execution_count": 3,
   "metadata": {
    "scrolled": true
   },
   "outputs": [
    {
     "name": "stdout",
     "output_type": "stream",
     "text": [
<<<<<<< HEAD
      "(2861, 224, 224, 3)\n",
      "(2861, 4)\n"
=======
      "(2145, 224, 224, 3)\n",
      "(2145, 4)\n"
>>>>>>> 466d56cbf0fba52cac067d30726052d2f7e2e9d1
     ]
    }
   ],
   "source": [
    "print(X.shape)\n",
    "print(y.shape)"
   ]
  },
  {
   "cell_type": "code",
<<<<<<< HEAD
   "execution_count": 4,
=======
   "execution_count": 10,
>>>>>>> 466d56cbf0fba52cac067d30726052d2f7e2e9d1
   "metadata": {},
   "outputs": [
    {
     "name": "stderr",
     "output_type": "stream",
     "text": [
      "Using TensorFlow backend.\n"
     ]
    }
   ],
   "source": [
    "from keras.models import Sequential\n",
    "from keras.layers import Dense\n",
    "from keras.layers import Flatten\n",
    "from keras.layers.convolutional import Conv2D\n",
    "from keras.layers.convolutional import MaxPooling2D\n",
    "\n",
    "# 모델 구성하기\n",
    "model = Sequential()\n",
    "model.add(Conv2D(32, kernel_size=(3, 3),\n",
    "                 activation='relu',\n",
    "                 input_shape=(224,224,3)))\n",
    "model.add(Conv2D(8, (3, 3), activation='relu'))\n",
    "model.add(MaxPooling2D(pool_size=(2, 2)))\n",
    "model.add(Flatten())\n",
    "model.add(Dense(64, activation='relu'))\n",
    "model.add(Dense(4, activation='softmax'))"
   ]
  },
  {
   "cell_type": "code",
<<<<<<< HEAD
   "execution_count": 5,
=======
   "execution_count": 11,
>>>>>>> 466d56cbf0fba52cac067d30726052d2f7e2e9d1
   "metadata": {},
   "outputs": [
    {
     "name": "stdout",
     "output_type": "stream",
     "text": [
<<<<<<< HEAD
      "Model: \"sequential_1\"\n",
      "_________________________________________________________________\n",
      "Layer (type)                 Output Shape              Param #   \n",
      "=================================================================\n",
      "conv2d_1 (Conv2D)            (None, 222, 222, 32)      896       \n",
      "_________________________________________________________________\n",
      "conv2d_2 (Conv2D)            (None, 220, 220, 8)       2312      \n",
      "_________________________________________________________________\n",
      "max_pooling2d_1 (MaxPooling2 (None, 110, 110, 8)       0         \n",
      "_________________________________________________________________\n",
      "flatten_1 (Flatten)          (None, 96800)             0         \n",
      "_________________________________________________________________\n",
      "dense_1 (Dense)              (None, 64)                6195264   \n",
      "_________________________________________________________________\n",
      "dense_2 (Dense)              (None, 4)                 260       \n",
=======
      "Model: \"sequential_2\"\n",
      "_________________________________________________________________\n",
      "Layer (type)                 Output Shape              Param #   \n",
      "=================================================================\n",
      "conv2d_3 (Conv2D)            (None, 222, 222, 32)      896       \n",
      "_________________________________________________________________\n",
      "conv2d_4 (Conv2D)            (None, 220, 220, 8)       2312      \n",
      "_________________________________________________________________\n",
      "max_pooling2d_2 (MaxPooling2 (None, 110, 110, 8)       0         \n",
      "_________________________________________________________________\n",
      "flatten_2 (Flatten)          (None, 96800)             0         \n",
      "_________________________________________________________________\n",
      "dense_3 (Dense)              (None, 64)                6195264   \n",
      "_________________________________________________________________\n",
      "dense_4 (Dense)              (None, 4)                 260       \n",
>>>>>>> 466d56cbf0fba52cac067d30726052d2f7e2e9d1
      "=================================================================\n",
      "Total params: 6,198,732\n",
      "Trainable params: 6,198,732\n",
      "Non-trainable params: 0\n",
      "_________________________________________________________________\n"
     ]
    }
   ],
   "source": [
    "model.summary()"
   ]
  },
  {
   "cell_type": "code",
<<<<<<< HEAD
   "execution_count": 6,
=======
   "execution_count": 12,
>>>>>>> 466d56cbf0fba52cac067d30726052d2f7e2e9d1
   "metadata": {},
   "outputs": [],
   "source": [
    "model.compile(loss='categorical_crossentropy', optimizer='adam', metrics=['accuracy'])"
   ]
  },
  {
   "cell_type": "code",
<<<<<<< HEAD
   "execution_count": 7,
=======
   "execution_count": 13,
>>>>>>> 466d56cbf0fba52cac067d30726052d2f7e2e9d1
   "metadata": {},
   "outputs": [],
   "source": [
    "#train, validation set 분리\n",
    "from sklearn.model_selection import train_test_split\n",
    "\n",
    "X_train, X_val, y_train, y_val = train_test_split(X,y,test_size=0.25)"
   ]
  },
  {
   "cell_type": "code",
<<<<<<< HEAD
   "execution_count": 8,
=======
   "execution_count": 14,
>>>>>>> 466d56cbf0fba52cac067d30726052d2f7e2e9d1
   "metadata": {},
   "outputs": [],
   "source": [
    "from keras.preprocessing.image import ImageDataGenerator\n",
    "\n",
    "datagen = ImageDataGenerator(\n",
<<<<<<< HEAD
    "    #featurewise_center=True, #center 중심 유지\n",
    "    #featurewise_std_normalization=True, #normalization\n",
    "    rotation_range=25.0,\n",
    "    #width_shift_range=0.2,\n",
    "    #height_shift_range=0.2,\n",
    "    #brightness_range=[0.2,1.0],\n",
=======
    "    featurewise_center=True,\n",
    "    featurewise_std_normalization=True, \n",
    "    rotation_range=15.0,\n",
    "    width_shift_range=0.2,\n",
    "    height_shift_range=0.2,\n",
>>>>>>> 466d56cbf0fba52cac067d30726052d2f7e2e9d1
    "    zoom_range=[0.8,1.2],\n",
    "    horizontal_flip=True) #수평방향 뒤집기\n",
    "\n",
    "datagen.fit(X_train)\n",
    "\n",
    "dgf=datagen.flow(X_train,y_train,batch_size=32)"
   ]
  },
  {
   "cell_type": "code",
<<<<<<< HEAD
   "execution_count": 9,
=======
   "execution_count": 15,
>>>>>>> 466d56cbf0fba52cac067d30726052d2f7e2e9d1
   "metadata": {},
   "outputs": [
    {
     "name": "stdout",
     "output_type": "stream",
     "text": [
      "Epoch 1/20\n",
<<<<<<< HEAD
      "100/100 [==============================] - 34s 339ms/step - loss: 1.6721 - accuracy: 0.3452 - val_loss: 1.3719 - val_accuracy: 0.3464\n",
      "Epoch 2/20\n",
      "100/100 [==============================] - 32s 323ms/step - loss: 1.3636 - accuracy: 0.3477 - val_loss: 1.3492 - val_accuracy: 0.3464\n",
      "Epoch 3/20\n",
      "100/100 [==============================] - 35s 350ms/step - loss: 1.3421 - accuracy: 0.3499 - val_loss: 1.3504 - val_accuracy: 0.3464\n",
      "Epoch 4/20\n",
      "100/100 [==============================] - 34s 339ms/step - loss: 1.3144 - accuracy: 0.3809 - val_loss: 1.3021 - val_accuracy: 0.3561\n",
      "Epoch 5/20\n",
      "100/100 [==============================] - 36s 356ms/step - loss: 1.2841 - accuracy: 0.3948 - val_loss: 1.3549 - val_accuracy: 0.3478\n",
      "Epoch 6/20\n",
      "100/100 [==============================] - 38s 379ms/step - loss: 1.3528 - accuracy: 0.3585 - val_loss: 1.3477 - val_accuracy: 0.3436\n",
      "Epoch 7/20\n",
      "100/100 [==============================] - 35s 350ms/step - loss: 1.3187 - accuracy: 0.3686 - val_loss: 1.2948 - val_accuracy: 0.3617\n",
      "Epoch 8/20\n",
      "100/100 [==============================] - 35s 349ms/step - loss: 1.2506 - accuracy: 0.4124 - val_loss: 1.2359 - val_accuracy: 0.4316\n",
      "Epoch 9/20\n",
      "100/100 [==============================] - 38s 382ms/step - loss: 1.2360 - accuracy: 0.4336 - val_loss: 1.1866 - val_accuracy: 0.4441\n",
      "Epoch 10/20\n",
      "100/100 [==============================] - 36s 362ms/step - loss: 1.3115 - accuracy: 0.3806 - val_loss: 1.3588 - val_accuracy: 0.3464\n",
      "Epoch 11/20\n",
      "100/100 [==============================] - 35s 354ms/step - loss: 1.3559 - accuracy: 0.3591 - val_loss: 1.3546 - val_accuracy: 0.3464\n",
      "Epoch 12/20\n",
      "100/100 [==============================] - 38s 383ms/step - loss: 1.3597 - accuracy: 0.3493 - val_loss: 1.3391 - val_accuracy: 0.3464\n",
      "Epoch 13/20\n",
      "100/100 [==============================] - 35s 345ms/step - loss: 1.3500 - accuracy: 0.3572 - val_loss: 1.3576 - val_accuracy: 0.3492\n",
      "Epoch 14/20\n",
      "100/100 [==============================] - 36s 362ms/step - loss: 1.3634 - accuracy: 0.3502 - val_loss: 1.3598 - val_accuracy: 0.3464\n",
      "Epoch 15/20\n",
      "100/100 [==============================] - 36s 363ms/step - loss: 1.3544 - accuracy: 0.3559 - val_loss: 1.3598 - val_accuracy: 0.3464\n",
      "Epoch 16/20\n",
      "100/100 [==============================] - 35s 345ms/step - loss: 1.4557 - accuracy: 0.3572 - val_loss: 1.3480 - val_accuracy: 0.3575\n",
      "Epoch 17/20\n",
      "100/100 [==============================] - 38s 376ms/step - loss: 1.3539 - accuracy: 0.3521 - val_loss: 1.3615 - val_accuracy: 0.3464\n",
      "Epoch 18/20\n",
      "100/100 [==============================] - 35s 347ms/step - loss: 1.3641 - accuracy: 0.3489 - val_loss: 1.3616 - val_accuracy: 0.3464\n",
      "Epoch 19/20\n",
      "100/100 [==============================] - 36s 365ms/step - loss: 1.3545 - accuracy: 0.3531 - val_loss: 1.3618 - val_accuracy: 0.3464\n",
      "Epoch 20/20\n",
      "100/100 [==============================] - 37s 374ms/step - loss: 1.3572 - accuracy: 0.3502 - val_loss: 1.3621 - val_accuracy: 0.3464\n"
=======
      "100/100 [==============================] - 31s 308ms/step - loss: 2.9142 - accuracy: 0.3087 - val_loss: 1.3794 - val_accuracy: 0.3403\n",
      "Epoch 2/20\n",
      "100/100 [==============================] - 28s 284ms/step - loss: 1.3700 - accuracy: 0.3635 - val_loss: 1.3704 - val_accuracy: 0.3403\n",
      "Epoch 3/20\n",
      "100/100 [==============================] - 29s 287ms/step - loss: 1.3578 - accuracy: 0.3520 - val_loss: 1.3675 - val_accuracy: 0.3403\n",
      "Epoch 4/20\n",
      "100/100 [==============================] - 29s 292ms/step - loss: 1.3487 - accuracy: 0.3661 - val_loss: 1.3680 - val_accuracy: 0.3403\n",
      "Epoch 5/20\n",
      " 12/100 [==>...........................] - ETA: 21s - loss: 1.3505 - accuracy: 0.3387"
     ]
    },
    {
     "ename": "KeyboardInterrupt",
     "evalue": "",
     "output_type": "error",
     "traceback": [
      "\u001b[1;31m---------------------------------------------------------------------------\u001b[0m",
      "\u001b[1;31mKeyboardInterrupt\u001b[0m                         Traceback (most recent call last)",
      "\u001b[1;32m<ipython-input-15-3204f919729f>\u001b[0m in \u001b[0;36m<module>\u001b[1;34m\u001b[0m\n\u001b[0;32m      2\u001b[0m                    \u001b[0mepochs\u001b[0m\u001b[1;33m=\u001b[0m\u001b[1;36m20\u001b[0m\u001b[1;33m,\u001b[0m\u001b[1;33m\u001b[0m\u001b[1;33m\u001b[0m\u001b[0m\n\u001b[0;32m      3\u001b[0m                    \u001b[0msteps_per_epoch\u001b[0m\u001b[1;33m=\u001b[0m\u001b[1;36m100\u001b[0m\u001b[1;33m,\u001b[0m\u001b[1;33m\u001b[0m\u001b[1;33m\u001b[0m\u001b[0m\n\u001b[1;32m----> 4\u001b[1;33m                    validation_data=(X_val,y_val))\n\u001b[0m",
      "\u001b[1;32m~\\Anaconda3\\envs\\keras2\\lib\\site-packages\\keras\\legacy\\interfaces.py\u001b[0m in \u001b[0;36mwrapper\u001b[1;34m(*args, **kwargs)\u001b[0m\n\u001b[0;32m     89\u001b[0m                 warnings.warn('Update your `' + object_name + '` call to the ' +\n\u001b[0;32m     90\u001b[0m                               'Keras 2 API: ' + signature, stacklevel=2)\n\u001b[1;32m---> 91\u001b[1;33m             \u001b[1;32mreturn\u001b[0m \u001b[0mfunc\u001b[0m\u001b[1;33m(\u001b[0m\u001b[1;33m*\u001b[0m\u001b[0margs\u001b[0m\u001b[1;33m,\u001b[0m \u001b[1;33m**\u001b[0m\u001b[0mkwargs\u001b[0m\u001b[1;33m)\u001b[0m\u001b[1;33m\u001b[0m\u001b[1;33m\u001b[0m\u001b[0m\n\u001b[0m\u001b[0;32m     92\u001b[0m         \u001b[0mwrapper\u001b[0m\u001b[1;33m.\u001b[0m\u001b[0m_original_function\u001b[0m \u001b[1;33m=\u001b[0m \u001b[0mfunc\u001b[0m\u001b[1;33m\u001b[0m\u001b[1;33m\u001b[0m\u001b[0m\n\u001b[0;32m     93\u001b[0m         \u001b[1;32mreturn\u001b[0m \u001b[0mwrapper\u001b[0m\u001b[1;33m\u001b[0m\u001b[1;33m\u001b[0m\u001b[0m\n",
      "\u001b[1;32m~\\Anaconda3\\envs\\keras2\\lib\\site-packages\\keras\\engine\\training.py\u001b[0m in \u001b[0;36mfit_generator\u001b[1;34m(self, generator, steps_per_epoch, epochs, verbose, callbacks, validation_data, validation_steps, validation_freq, class_weight, max_queue_size, workers, use_multiprocessing, shuffle, initial_epoch)\u001b[0m\n\u001b[0;32m   1730\u001b[0m             \u001b[0muse_multiprocessing\u001b[0m\u001b[1;33m=\u001b[0m\u001b[0muse_multiprocessing\u001b[0m\u001b[1;33m,\u001b[0m\u001b[1;33m\u001b[0m\u001b[1;33m\u001b[0m\u001b[0m\n\u001b[0;32m   1731\u001b[0m             \u001b[0mshuffle\u001b[0m\u001b[1;33m=\u001b[0m\u001b[0mshuffle\u001b[0m\u001b[1;33m,\u001b[0m\u001b[1;33m\u001b[0m\u001b[1;33m\u001b[0m\u001b[0m\n\u001b[1;32m-> 1732\u001b[1;33m             initial_epoch=initial_epoch)\n\u001b[0m\u001b[0;32m   1733\u001b[0m \u001b[1;33m\u001b[0m\u001b[0m\n\u001b[0;32m   1734\u001b[0m     \u001b[1;33m@\u001b[0m\u001b[0minterfaces\u001b[0m\u001b[1;33m.\u001b[0m\u001b[0mlegacy_generator_methods_support\u001b[0m\u001b[1;33m\u001b[0m\u001b[1;33m\u001b[0m\u001b[0m\n",
      "\u001b[1;32m~\\Anaconda3\\envs\\keras2\\lib\\site-packages\\keras\\engine\\training_generator.py\u001b[0m in \u001b[0;36mfit_generator\u001b[1;34m(model, generator, steps_per_epoch, epochs, verbose, callbacks, validation_data, validation_steps, validation_freq, class_weight, max_queue_size, workers, use_multiprocessing, shuffle, initial_epoch)\u001b[0m\n\u001b[0;32m    183\u001b[0m             \u001b[0mbatch_index\u001b[0m \u001b[1;33m=\u001b[0m \u001b[1;36m0\u001b[0m\u001b[1;33m\u001b[0m\u001b[1;33m\u001b[0m\u001b[0m\n\u001b[0;32m    184\u001b[0m             \u001b[1;32mwhile\u001b[0m \u001b[0msteps_done\u001b[0m \u001b[1;33m<\u001b[0m \u001b[0msteps_per_epoch\u001b[0m\u001b[1;33m:\u001b[0m\u001b[1;33m\u001b[0m\u001b[1;33m\u001b[0m\u001b[0m\n\u001b[1;32m--> 185\u001b[1;33m                 \u001b[0mgenerator_output\u001b[0m \u001b[1;33m=\u001b[0m \u001b[0mnext\u001b[0m\u001b[1;33m(\u001b[0m\u001b[0moutput_generator\u001b[0m\u001b[1;33m)\u001b[0m\u001b[1;33m\u001b[0m\u001b[1;33m\u001b[0m\u001b[0m\n\u001b[0m\u001b[0;32m    186\u001b[0m \u001b[1;33m\u001b[0m\u001b[0m\n\u001b[0;32m    187\u001b[0m                 \u001b[1;32mif\u001b[0m \u001b[1;32mnot\u001b[0m \u001b[0mhasattr\u001b[0m\u001b[1;33m(\u001b[0m\u001b[0mgenerator_output\u001b[0m\u001b[1;33m,\u001b[0m \u001b[1;34m'__len__'\u001b[0m\u001b[1;33m)\u001b[0m\u001b[1;33m:\u001b[0m\u001b[1;33m\u001b[0m\u001b[1;33m\u001b[0m\u001b[0m\n",
      "\u001b[1;32m~\\Anaconda3\\envs\\keras2\\lib\\site-packages\\keras\\utils\\data_utils.py\u001b[0m in \u001b[0;36mget\u001b[1;34m(self)\u001b[0m\n\u001b[0;32m    608\u001b[0m                 \u001b[1;32mtry\u001b[0m\u001b[1;33m:\u001b[0m\u001b[1;33m\u001b[0m\u001b[1;33m\u001b[0m\u001b[0m\n\u001b[0;32m    609\u001b[0m                     \u001b[0mfuture\u001b[0m \u001b[1;33m=\u001b[0m \u001b[0mself\u001b[0m\u001b[1;33m.\u001b[0m\u001b[0mqueue\u001b[0m\u001b[1;33m.\u001b[0m\u001b[0mget\u001b[0m\u001b[1;33m(\u001b[0m\u001b[0mblock\u001b[0m\u001b[1;33m=\u001b[0m\u001b[1;32mTrue\u001b[0m\u001b[1;33m)\u001b[0m\u001b[1;33m\u001b[0m\u001b[1;33m\u001b[0m\u001b[0m\n\u001b[1;32m--> 610\u001b[1;33m                     \u001b[0minputs\u001b[0m \u001b[1;33m=\u001b[0m \u001b[0mfuture\u001b[0m\u001b[1;33m.\u001b[0m\u001b[0mget\u001b[0m\u001b[1;33m(\u001b[0m\u001b[0mtimeout\u001b[0m\u001b[1;33m=\u001b[0m\u001b[1;36m30\u001b[0m\u001b[1;33m)\u001b[0m\u001b[1;33m\u001b[0m\u001b[1;33m\u001b[0m\u001b[0m\n\u001b[0m\u001b[0;32m    611\u001b[0m                 \u001b[1;32mexcept\u001b[0m \u001b[0mmp\u001b[0m\u001b[1;33m.\u001b[0m\u001b[0mTimeoutError\u001b[0m\u001b[1;33m:\u001b[0m\u001b[1;33m\u001b[0m\u001b[1;33m\u001b[0m\u001b[0m\n\u001b[0;32m    612\u001b[0m                     \u001b[0midx\u001b[0m \u001b[1;33m=\u001b[0m \u001b[0mfuture\u001b[0m\u001b[1;33m.\u001b[0m\u001b[0midx\u001b[0m\u001b[1;33m\u001b[0m\u001b[1;33m\u001b[0m\u001b[0m\n",
      "\u001b[1;32m~\\Anaconda3\\envs\\keras2\\lib\\multiprocessing\\pool.py\u001b[0m in \u001b[0;36mget\u001b[1;34m(self, timeout)\u001b[0m\n\u001b[0;32m    649\u001b[0m \u001b[1;33m\u001b[0m\u001b[0m\n\u001b[0;32m    650\u001b[0m     \u001b[1;32mdef\u001b[0m \u001b[0mget\u001b[0m\u001b[1;33m(\u001b[0m\u001b[0mself\u001b[0m\u001b[1;33m,\u001b[0m \u001b[0mtimeout\u001b[0m\u001b[1;33m=\u001b[0m\u001b[1;32mNone\u001b[0m\u001b[1;33m)\u001b[0m\u001b[1;33m:\u001b[0m\u001b[1;33m\u001b[0m\u001b[1;33m\u001b[0m\u001b[0m\n\u001b[1;32m--> 651\u001b[1;33m         \u001b[0mself\u001b[0m\u001b[1;33m.\u001b[0m\u001b[0mwait\u001b[0m\u001b[1;33m(\u001b[0m\u001b[0mtimeout\u001b[0m\u001b[1;33m)\u001b[0m\u001b[1;33m\u001b[0m\u001b[1;33m\u001b[0m\u001b[0m\n\u001b[0m\u001b[0;32m    652\u001b[0m         \u001b[1;32mif\u001b[0m \u001b[1;32mnot\u001b[0m \u001b[0mself\u001b[0m\u001b[1;33m.\u001b[0m\u001b[0mready\u001b[0m\u001b[1;33m(\u001b[0m\u001b[1;33m)\u001b[0m\u001b[1;33m:\u001b[0m\u001b[1;33m\u001b[0m\u001b[1;33m\u001b[0m\u001b[0m\n\u001b[0;32m    653\u001b[0m             \u001b[1;32mraise\u001b[0m \u001b[0mTimeoutError\u001b[0m\u001b[1;33m\u001b[0m\u001b[1;33m\u001b[0m\u001b[0m\n",
      "\u001b[1;32m~\\Anaconda3\\envs\\keras2\\lib\\multiprocessing\\pool.py\u001b[0m in \u001b[0;36mwait\u001b[1;34m(self, timeout)\u001b[0m\n\u001b[0;32m    646\u001b[0m \u001b[1;33m\u001b[0m\u001b[0m\n\u001b[0;32m    647\u001b[0m     \u001b[1;32mdef\u001b[0m \u001b[0mwait\u001b[0m\u001b[1;33m(\u001b[0m\u001b[0mself\u001b[0m\u001b[1;33m,\u001b[0m \u001b[0mtimeout\u001b[0m\u001b[1;33m=\u001b[0m\u001b[1;32mNone\u001b[0m\u001b[1;33m)\u001b[0m\u001b[1;33m:\u001b[0m\u001b[1;33m\u001b[0m\u001b[1;33m\u001b[0m\u001b[0m\n\u001b[1;32m--> 648\u001b[1;33m         \u001b[0mself\u001b[0m\u001b[1;33m.\u001b[0m\u001b[0m_event\u001b[0m\u001b[1;33m.\u001b[0m\u001b[0mwait\u001b[0m\u001b[1;33m(\u001b[0m\u001b[0mtimeout\u001b[0m\u001b[1;33m)\u001b[0m\u001b[1;33m\u001b[0m\u001b[1;33m\u001b[0m\u001b[0m\n\u001b[0m\u001b[0;32m    649\u001b[0m \u001b[1;33m\u001b[0m\u001b[0m\n\u001b[0;32m    650\u001b[0m     \u001b[1;32mdef\u001b[0m \u001b[0mget\u001b[0m\u001b[1;33m(\u001b[0m\u001b[0mself\u001b[0m\u001b[1;33m,\u001b[0m \u001b[0mtimeout\u001b[0m\u001b[1;33m=\u001b[0m\u001b[1;32mNone\u001b[0m\u001b[1;33m)\u001b[0m\u001b[1;33m:\u001b[0m\u001b[1;33m\u001b[0m\u001b[1;33m\u001b[0m\u001b[0m\n",
      "\u001b[1;32m~\\Anaconda3\\envs\\keras2\\lib\\threading.py\u001b[0m in \u001b[0;36mwait\u001b[1;34m(self, timeout)\u001b[0m\n\u001b[0;32m    550\u001b[0m             \u001b[0msignaled\u001b[0m \u001b[1;33m=\u001b[0m \u001b[0mself\u001b[0m\u001b[1;33m.\u001b[0m\u001b[0m_flag\u001b[0m\u001b[1;33m\u001b[0m\u001b[1;33m\u001b[0m\u001b[0m\n\u001b[0;32m    551\u001b[0m             \u001b[1;32mif\u001b[0m \u001b[1;32mnot\u001b[0m \u001b[0msignaled\u001b[0m\u001b[1;33m:\u001b[0m\u001b[1;33m\u001b[0m\u001b[1;33m\u001b[0m\u001b[0m\n\u001b[1;32m--> 552\u001b[1;33m                 \u001b[0msignaled\u001b[0m \u001b[1;33m=\u001b[0m \u001b[0mself\u001b[0m\u001b[1;33m.\u001b[0m\u001b[0m_cond\u001b[0m\u001b[1;33m.\u001b[0m\u001b[0mwait\u001b[0m\u001b[1;33m(\u001b[0m\u001b[0mtimeout\u001b[0m\u001b[1;33m)\u001b[0m\u001b[1;33m\u001b[0m\u001b[1;33m\u001b[0m\u001b[0m\n\u001b[0m\u001b[0;32m    553\u001b[0m             \u001b[1;32mreturn\u001b[0m \u001b[0msignaled\u001b[0m\u001b[1;33m\u001b[0m\u001b[1;33m\u001b[0m\u001b[0m\n\u001b[0;32m    554\u001b[0m \u001b[1;33m\u001b[0m\u001b[0m\n",
      "\u001b[1;32m~\\Anaconda3\\envs\\keras2\\lib\\threading.py\u001b[0m in \u001b[0;36mwait\u001b[1;34m(self, timeout)\u001b[0m\n\u001b[0;32m    298\u001b[0m             \u001b[1;32melse\u001b[0m\u001b[1;33m:\u001b[0m\u001b[1;33m\u001b[0m\u001b[1;33m\u001b[0m\u001b[0m\n\u001b[0;32m    299\u001b[0m                 \u001b[1;32mif\u001b[0m \u001b[0mtimeout\u001b[0m \u001b[1;33m>\u001b[0m \u001b[1;36m0\u001b[0m\u001b[1;33m:\u001b[0m\u001b[1;33m\u001b[0m\u001b[1;33m\u001b[0m\u001b[0m\n\u001b[1;32m--> 300\u001b[1;33m                     \u001b[0mgotit\u001b[0m \u001b[1;33m=\u001b[0m \u001b[0mwaiter\u001b[0m\u001b[1;33m.\u001b[0m\u001b[0macquire\u001b[0m\u001b[1;33m(\u001b[0m\u001b[1;32mTrue\u001b[0m\u001b[1;33m,\u001b[0m \u001b[0mtimeout\u001b[0m\u001b[1;33m)\u001b[0m\u001b[1;33m\u001b[0m\u001b[1;33m\u001b[0m\u001b[0m\n\u001b[0m\u001b[0;32m    301\u001b[0m                 \u001b[1;32melse\u001b[0m\u001b[1;33m:\u001b[0m\u001b[1;33m\u001b[0m\u001b[1;33m\u001b[0m\u001b[0m\n\u001b[0;32m    302\u001b[0m                     \u001b[0mgotit\u001b[0m \u001b[1;33m=\u001b[0m \u001b[0mwaiter\u001b[0m\u001b[1;33m.\u001b[0m\u001b[0macquire\u001b[0m\u001b[1;33m(\u001b[0m\u001b[1;32mFalse\u001b[0m\u001b[1;33m)\u001b[0m\u001b[1;33m\u001b[0m\u001b[1;33m\u001b[0m\u001b[0m\n",
      "\u001b[1;31mKeyboardInterrupt\u001b[0m: "
>>>>>>> 466d56cbf0fba52cac067d30726052d2f7e2e9d1
     ]
    }
   ],
   "source": [
    "history=model.fit_generator(dgf,\n",
    "                   epochs=20,\n",
    "                   steps_per_epoch=100,\n",
    "                   validation_data=(X_val,y_val))"
   ]
  },
  {
   "cell_type": "code",
<<<<<<< HEAD
   "execution_count": 13,
   "metadata": {},
   "outputs": [
    {
     "data": {
      "image/png": "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\n",
      "text/plain": [
       "<Figure size 432x288 with 2 Axes>"
      ]
     },
     "metadata": {
      "needs_background": "light"
     },
     "output_type": "display_data"
    }
   ],
=======
   "execution_count": null,
   "metadata": {},
   "outputs": [],
>>>>>>> 466d56cbf0fba52cac067d30726052d2f7e2e9d1
   "source": [
    "%matplotlib inline\n",
    "import matplotlib.pyplot as plt\n",
    "\n",
    "acc = history.history['accuracy']\n",
    "val_acc = history.history['val_accuracy']\n",
    "loss = history.history['loss']\n",
    "val_loss = history.history['val_loss']\n",
    "\n",
    "epochs = range(1, len(acc) + 1)\n",
    "\n",
    "fig, loss_ax = plt.subplots()\n",
    "\n",
    "acc_ax = loss_ax.twinx()\n",
    "\n",
    "loss_ax.plot(loss, 'y', label='train loss')\n",
    "loss_ax.plot(val_loss, 'r', label='val loss')\n",
    "\n",
    "acc_ax.plot(acc, 'b', label='train acc')\n",
    "acc_ax.plot(val_acc, 'g', label='val acc')\n",
    "\n",
    "loss_ax.set_xlabel('epoch')\n",
    "loss_ax.set_ylabel('loss')\n",
    "acc_ax.set_ylabel('accuray')\n",
    "\n",
    "loss_ax.legend(loc='upper left')\n",
    "acc_ax.legend(loc='lower left')\n",
    "\n",
    "plt.show()"
   ]
  },
  {
   "cell_type": "code",
   "execution_count": 11,
   "metadata": {},
   "outputs": [],
   "source": [
    "X_test=np.load('X_test.npy')\n",
    "y_test=np.load('y_test.npy')"
   ]
  },
  {
   "cell_type": "code",
   "execution_count": 12,
   "metadata": {},
   "outputs": [
    {
     "name": "stdout",
     "output_type": "stream",
     "text": [
      "343/343 [==============================] - 2s 5ms/step\n",
      "## evaluation loss and_metrics ##\n",
      "loss : 1.4157028827305786\n",
      "accuracy : 0.23032070696353912\n"
     ]
    }
   ],
   "source": [
    "# 성능 측정\n",
    "loss,metrics = model.evaluate(X_test,y_test, batch_size=32)\n",
    "print('## evaluation loss and_metrics ##')\n",
    "print(\"loss :\",loss)\n",
    "print(\"accuracy :\", metrics)"
   ]
  },
  {
   "cell_type": "code",
   "execution_count": null,
   "metadata": {},
   "outputs": [],
   "source": []
  }
 ],
 "metadata": {
  "kernelspec": {
   "display_name": "Python 3",
   "language": "python",
   "name": "python3"
  },
  "language_info": {
   "codemirror_mode": {
    "name": "ipython",
    "version": 3
   },
   "file_extension": ".py",
   "mimetype": "text/x-python",
   "name": "python",
   "nbconvert_exporter": "python",
   "pygments_lexer": "ipython3",
   "version": "3.7.7"
  }
 },
 "nbformat": 4,
 "nbformat_minor": 4
}
