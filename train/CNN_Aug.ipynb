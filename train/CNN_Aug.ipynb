{
 "cells": [
  {
   "cell_type": "code",
   "execution_count": 1,
   "metadata": {},
   "outputs": [
    {
     "data": {
      "text/plain": [
       "'C:\\\\Users\\\\User\\\\Desktop\\\\G팔로미1\\\\G-팔로미 data'"
      ]
     },
     "execution_count": 1,
     "metadata": {},
     "output_type": "execute_result"
    }
   ],
   "source": [
    "import os\n",
    "import pandas as pd\n",
    "\n",
    "#data path 수정\n",
    "os.chdir(\"C:\\\\Users\\\\User\\\\Desktop\\\\G팔로미1\\\\G-팔로미 data\")\n",
    "os.getcwd()"
   ]
  },
  {
   "cell_type": "code",
   "execution_count": 2,
   "metadata": {},
   "outputs": [],
   "source": [
    "from matplotlib import pyplot as plt\n",
    "from skimage import measure, morphology\n",
    "import pydicom as dicom\n",
    "import numpy as np\n",
    "import cv2\n",
    "import skimage.transform\n",
    "\n",
    "X=np.load('data_X.npy')\n",
    "y=np.load('data_y.npy')"
   ]
  },
  {
   "cell_type": "code",
   "execution_count": 3,
   "metadata": {},
   "outputs": [
    {
     "name": "stdout",
     "output_type": "stream",
     "text": [
      "(1546, 224, 224, 3)\n",
      "(1546, 3)\n"
     ]
    }
   ],
   "source": [
    "print(X.shape)\n",
    "print(y.shape)"
   ]
  },
  {
   "cell_type": "code",
   "execution_count": 28,
   "metadata": {},
   "outputs": [],
   "source": [
    "from keras.models import Sequential\n",
    "from keras.layers import Dense\n",
    "from keras.layers import Flatten\n",
    "from keras.layers.convolutional import Conv2D\n",
    "from keras.layers.convolutional import MaxPooling2D\n",
    "\n",
    "# 모델 구성하기\n",
    "model = Sequential()\n",
    "model.add(Conv2D(32, kernel_size=(3, 3),\n",
    "                 activation='relu',\n",
    "                 input_shape=(224,224,3)))\n",
    "model.add(Conv2D(8, (3, 3), activation='relu'))\n",
    "model.add(MaxPooling2D(pool_size=(2, 2)))\n",
    "model.add(Flatten())\n",
    "model.add(Dense(64, activation='relu'))\n",
    "model.add(Dense(3, activation='softmax'))"
   ]
  },
  {
   "cell_type": "code",
   "execution_count": 29,
   "metadata": {},
   "outputs": [
    {
     "name": "stdout",
     "output_type": "stream",
     "text": [
      "Model: \"sequential_3\"\n",
      "_________________________________________________________________\n",
      "Layer (type)                 Output Shape              Param #   \n",
      "=================================================================\n",
      "conv2d_5 (Conv2D)            (None, 222, 222, 32)      896       \n",
      "_________________________________________________________________\n",
      "conv2d_6 (Conv2D)            (None, 220, 220, 8)       2312      \n",
      "_________________________________________________________________\n",
      "max_pooling2d_3 (MaxPooling2 (None, 110, 110, 8)       0         \n",
      "_________________________________________________________________\n",
      "flatten_3 (Flatten)          (None, 96800)             0         \n",
      "_________________________________________________________________\n",
      "dense_5 (Dense)              (None, 64)                6195264   \n",
      "_________________________________________________________________\n",
      "dense_6 (Dense)              (None, 3)                 195       \n",
      "=================================================================\n",
      "Total params: 6,198,667\n",
      "Trainable params: 6,198,667\n",
      "Non-trainable params: 0\n",
      "_________________________________________________________________\n"
     ]
    }
   ],
   "source": [
    "model.summary()"
   ]
  },
  {
   "cell_type": "code",
   "execution_count": 30,
   "metadata": {},
   "outputs": [],
   "source": [
    "model.compile(loss='categorical_crossentropy', optimizer='adam', metrics=['accuracy'])"
   ]
  },
  {
   "cell_type": "code",
   "execution_count": 31,
   "metadata": {},
   "outputs": [],
   "source": [
    "#train, validation set 분리\n",
    "from sklearn.model_selection import train_test_split\n",
    "\n",
    "X_train, X_val, y_train, y_val = train_test_split(X,y,test_size=0.2)"
   ]
  },
  {
   "cell_type": "code",
   "execution_count": 32,
   "metadata": {},
   "outputs": [],
   "source": [
    "from keras.preprocessing.image import ImageDataGenerator\n",
    "\n",
    "datagen = ImageDataGenerator(\n",
    "    featurewise_center=True,\n",
    "    featurewise_std_normalization=True, \n",
    "    rotation_range=15.0,\n",
    "    width_shift_range=0.2,\n",
    "    height_shift_range=0.2,\n",
    "    horizontal_flip=True) #수평방향 뒤집기\n",
    "\n",
    "datagen.fit(X_train)\n",
    "\n",
    "dgf=datagen.flow(X_train,y_train,batch_size=32)"
   ]
  },
  {
   "cell_type": "code",
   "execution_count": null,
   "metadata": {},
   "outputs": [
    {
     "name": "stdout",
     "output_type": "stream",
     "text": [
      "Epoch 1/20\n",
      "100/100 [==============================] - 36s 359ms/step - loss: 0.8883 - accuracy: 0.5405 - val_loss: 0.9225 - val_accuracy: 0.4903\n",
      "Epoch 2/20\n",
      "100/100 [==============================] - 37s 366ms/step - loss: 0.9040 - accuracy: 0.5142 - val_loss: 0.9228 - val_accuracy: 0.5290\n",
      "Epoch 3/20\n",
      "100/100 [==============================] - 36s 362ms/step - loss: 0.9318 - accuracy: 0.5179 - val_loss: 0.9297 - val_accuracy: 0.5194\n",
      "Epoch 4/20\n",
      "100/100 [==============================] - 45s 451ms/step - loss: 0.9027 - accuracy: 0.5326 - val_loss: 0.9012 - val_accuracy: 0.5129\n",
      "Epoch 5/20\n",
      "100/100 [==============================] - 60s 597ms/step - loss: 0.8964 - accuracy: 0.5215 - val_loss: 0.8840 - val_accuracy: 0.5774\n",
      "Epoch 6/20\n",
      "100/100 [==============================] - 62s 621ms/step - loss: 0.8889 - accuracy: 0.5357 - val_loss: 0.9253 - val_accuracy: 0.5323\n",
      "Epoch 7/20\n",
      "100/100 [==============================] - 57s 571ms/step - loss: 0.8797 - accuracy: 0.5441 - val_loss: 0.8779 - val_accuracy: 0.5387\n",
      "Epoch 8/20\n",
      "100/100 [==============================] - 55s 553ms/step - loss: 0.8791 - accuracy: 0.5331 - val_loss: 0.8936 - val_accuracy: 0.5581\n",
      "Epoch 9/20\n",
      "100/100 [==============================] - 54s 543ms/step - loss: 0.8880 - accuracy: 0.5398 - val_loss: 0.8823 - val_accuracy: 0.5387\n",
      "Epoch 10/20\n",
      "100/100 [==============================] - 57s 565ms/step - loss: 0.8841 - accuracy: 0.5424 - val_loss: 0.8994 - val_accuracy: 0.5194\n",
      "Epoch 11/20\n",
      "100/100 [==============================] - 57s 570ms/step - loss: 0.9045 - accuracy: 0.5376 - val_loss: 0.9046 - val_accuracy: 0.5484\n",
      "Epoch 12/20\n",
      "100/100 [==============================] - 56s 565ms/step - loss: 0.8828 - accuracy: 0.5321 - val_loss: 0.9087 - val_accuracy: 0.5258\n",
      "Epoch 13/20\n",
      "100/100 [==============================] - 52s 516ms/step - loss: 0.8724 - accuracy: 0.5411 - val_loss: 0.9239 - val_accuracy: 0.5290\n",
      "Epoch 14/20\n",
      "100/100 [==============================] - 40s 404ms/step - loss: 0.8947 - accuracy: 0.5139 - val_loss: 0.8993 - val_accuracy: 0.5613\n",
      "Epoch 15/20\n",
      "100/100 [==============================] - 40s 404ms/step - loss: 0.8770 - accuracy: 0.5362 - val_loss: 0.8671 - val_accuracy: 0.5710\n",
      "Epoch 16/20\n",
      "100/100 [==============================] - 40s 404ms/step - loss: 0.8664 - accuracy: 0.5357 - val_loss: 0.8795 - val_accuracy: 0.5742\n",
      "Epoch 17/20\n",
      "100/100 [==============================] - 41s 409ms/step - loss: 0.8640 - accuracy: 0.5515 - val_loss: 0.8685 - val_accuracy: 0.5484\n",
      "Epoch 18/20\n",
      "100/100 [==============================] - 41s 415ms/step - loss: 0.8686 - accuracy: 0.5353 - val_loss: 0.8700 - val_accuracy: 0.5484\n",
      "Epoch 19/20\n",
      "100/100 [==============================] - 40s 405ms/step - loss: 0.8656 - accuracy: 0.5518 - val_loss: 0.8693 - val_accuracy: 0.5871\n",
      "Epoch 20/20\n",
      " 47/100 [=============>................] - ETA: 20s - loss: 0.8569 - accuracy: 0.5335"
     ]
    }
   ],
   "source": [
    "history=model.fit_generator(dgf,\n",
    "                   epochs=20,\n",
    "                   steps_per_epoch=100,\n",
    "                   validation_data=(X_val,y_val))"
   ]
  },
  {
   "cell_type": "code",
   "execution_count": 34,
   "metadata": {},
   "outputs": [
    {
     "data": {
      "image/png": "[encoded data removed]",
      "text/plain": [
       "<Figure size 432x288 with 2 Axes>"
      ]
     },
     "metadata": {
      "needs_background": "light"
     },
     "output_type": "display_data"
    }
   ],
   "source": [
    "%matplotlib inline\n",
    "import matplotlib.pyplot as plt\n",
    "\n",
    "acc = history.history['accuracy']\n",
    "val_acc = history.history['val_accuracy']\n",
    "loss = history.history['loss']\n",
    "val_loss = history.history['val_loss']\n",
    "\n",
    "epochs = range(1, len(acc) + 1)\n",
    "\n",
    "fig, loss_ax = plt.subplots()\n",
    "\n",
    "acc_ax = loss_ax.twinx()\n",
    "\n",
    "loss_ax.plot(loss, 'y', label='train loss')\n",
    "loss_ax.plot(val_loss, 'r', label='val loss')\n",
    "\n",
    "acc_ax.plot(acc, 'b', label='train acc')\n",
    "acc_ax.plot(val_acc, 'g', label='val acc')\n",
    "\n",
    "loss_ax.set_xlabel('epoch')\n",
    "loss_ax.set_ylabel('loss')\n",
    "acc_ax.set_ylabel('accuray')\n",
    "\n",
    "loss_ax.legend(loc='upper left')\n",
    "acc_ax.legend(loc='lower left')\n",
    "\n",
    "plt.show()"
   ]
  },
  {
   "cell_type": "code",
   "execution_count": 35,
   "metadata": {},
   "outputs": [],
   "source": [
    "X_test=np.load('X_test.npy')\n",
    "y_test=np.load('y_test.npy')"
   ]
  },
  {
   "cell_type": "code",
   "execution_count": 36,
   "metadata": {},
   "outputs": [
    {
     "name": "stdout",
     "output_type": "stream",
     "text": [
      "326/326 [==============================] - 1s 4ms/step\n",
      "## evaluation loss and_metrics ##\n",
      "loss : 10916.763289188315\n",
      "accuracy : 0.401840478181839\n"
     ]
    }
   ],
   "source": [
    "# 성능 측정\n",
    "loss,metrics = model.evaluate(X_test,y_test, batch_size=32)\n",
    "print('## evaluation loss and_metrics ##')\n",
    "print(\"loss :\",loss)\n",
    "print(\"accuracy :\", metrics)"
   ]
  },
  {
   "cell_type": "code",
   "execution_count": null,
   "metadata": {},
   "outputs": [],
   "source": []
  }
 ],
 "metadata": {
  "kernelspec": {
   "display_name": "Python 3",
   "language": "python",
   "name": "python3"
  },
  "language_info": {
   "codemirror_mode": {
    "name": "ipython",
    "version": 3
   },
   "file_extension": ".py",
   "mimetype": "text/x-python",
   "name": "python",
   "nbconvert_exporter": "python",
   "pygments_lexer": "ipython3",
   "version": "3.7.6"
  }
 },
 "nbformat": 4,
 "nbformat_minor": 4
}
