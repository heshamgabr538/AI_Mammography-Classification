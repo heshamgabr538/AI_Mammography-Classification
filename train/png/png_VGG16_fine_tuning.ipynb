{
 "cells": [
  {
   "cell_type": "code",
   "execution_count": 1,
   "metadata": {},
   "outputs": [
    {
     "data": {
      "text/plain": [
       "'C:\\\\Users\\\\Owner2\\\\Desktop\\\\G팔로미_vuno'"
      ]
     },
     "execution_count": 1,
     "metadata": {},
     "output_type": "execute_result"
    }
   ],
   "source": [
    "import os\n",
    "import pandas as pd\n",
    "from matplotlib import pyplot as plt\n",
    "import cv2\n",
    "import numpy as np\n",
    "\n",
    "#data path 수정\n",
    "os.chdir(\"C:\\\\Users\\\\Owner2\\\\Desktop\\\\G팔로미_vuno\")\n",
    "os.getcwd()"
   ]
  },
  {
   "cell_type": "code",
   "execution_count": 2,
   "metadata": {},
   "outputs": [],
   "source": [
    "train_dir = './train_withoout_callback'"
   ]
  },
  {
   "cell_type": "code",
   "execution_count": 3,
   "metadata": {},
   "outputs": [
    {
     "name": "stderr",
     "output_type": "stream",
     "text": [
      "Using TensorFlow backend.\n"
     ]
    }
   ],
   "source": [
    "from keras.preprocessing.image import ImageDataGenerator\n",
    "\n",
    "train_datagen = ImageDataGenerator(\n",
    "    rescale=1./255,\n",
    "    #featurewise_center=True, #center 중심 유지\n",
    "    #featurewise_std_normalization=True, #normalization\n",
    "    rotation_range=25.0,\n",
    "    #width_shift_range=0.2,\n",
    "    #height_shift_range=0.2,\n",
    "    #brightness_range=[0.2,1.0],\n",
    "    zoom_range=[0.8,1.2],\n",
    "    horizontal_flip=True,\n",
    "    validation_split=0.2) #수평방향 뒤집기"
   ]
  },
  {
   "cell_type": "code",
   "execution_count": 4,
   "metadata": {},
   "outputs": [
    {
     "name": "stdout",
     "output_type": "stream",
     "text": [
      "Found 1372 images belonging to 4 classes.\n",
      "Found 340 images belonging to 4 classes.\n"
     ]
    }
   ],
   "source": [
    "train_generator = train_datagen.flow_from_directory(\n",
    "        # 타깃 디렉터리\n",
    "        train_dir,\n",
    "        # 모든 이미지의 크기를 150 × 150로 변경합니다\n",
    "        target_size=(224,224),\n",
    "        batch_size=32,\n",
    "        subset='training')\n",
    "\n",
    "validation_generator = train_datagen.flow_from_directory(\n",
    "    train_dir, # same directory as training data\n",
    "    target_size=(224,224),\n",
    "    batch_size=32,\n",
    "    subset='validation') # set as validation data"
   ]
  },
  {
   "cell_type": "code",
   "execution_count": 5,
   "metadata": {},
   "outputs": [
    {
     "name": "stdout",
     "output_type": "stream",
     "text": [
      "Model: \"vgg16\"\n",
      "_________________________________________________________________\n",
      "Layer (type)                 Output Shape              Param #   \n",
      "=================================================================\n",
      "input_1 (InputLayer)         (None, 224, 224, 3)       0         \n",
      "_________________________________________________________________\n",
      "block1_conv1 (Conv2D)        (None, 224, 224, 64)      1792      \n",
      "_________________________________________________________________\n",
      "block1_conv2 (Conv2D)        (None, 224, 224, 64)      36928     \n",
      "_________________________________________________________________\n",
      "block1_pool (MaxPooling2D)   (None, 112, 112, 64)      0         \n",
      "_________________________________________________________________\n",
      "block2_conv1 (Conv2D)        (None, 112, 112, 128)     73856     \n",
      "_________________________________________________________________\n",
      "block2_conv2 (Conv2D)        (None, 112, 112, 128)     147584    \n",
      "_________________________________________________________________\n",
      "block2_pool (MaxPooling2D)   (None, 56, 56, 128)       0         \n",
      "_________________________________________________________________\n",
      "block3_conv1 (Conv2D)        (None, 56, 56, 256)       295168    \n",
      "_________________________________________________________________\n",
      "block3_conv2 (Conv2D)        (None, 56, 56, 256)       590080    \n",
      "_________________________________________________________________\n",
      "block3_conv3 (Conv2D)        (None, 56, 56, 256)       590080    \n",
      "_________________________________________________________________\n",
      "block3_pool (MaxPooling2D)   (None, 28, 28, 256)       0         \n",
      "_________________________________________________________________\n",
      "block4_conv1 (Conv2D)        (None, 28, 28, 512)       1180160   \n",
      "_________________________________________________________________\n",
      "block4_conv2 (Conv2D)        (None, 28, 28, 512)       2359808   \n",
      "_________________________________________________________________\n",
      "block4_conv3 (Conv2D)        (None, 28, 28, 512)       2359808   \n",
      "_________________________________________________________________\n",
      "block4_pool (MaxPooling2D)   (None, 14, 14, 512)       0         \n",
      "_________________________________________________________________\n",
      "block5_conv1 (Conv2D)        (None, 14, 14, 512)       2359808   \n",
      "_________________________________________________________________\n",
      "block5_conv2 (Conv2D)        (None, 14, 14, 512)       2359808   \n",
      "_________________________________________________________________\n",
      "block5_conv3 (Conv2D)        (None, 14, 14, 512)       2359808   \n",
      "_________________________________________________________________\n",
      "block5_pool (MaxPooling2D)   (None, 7, 7, 512)         0         \n",
      "=================================================================\n",
      "Total params: 14,714,688\n",
      "Trainable params: 0\n",
      "Non-trainable params: 14,714,688\n",
      "_________________________________________________________________\n"
     ]
    }
   ],
   "source": [
    "from keras import models, layers\n",
    "from keras import Input\n",
    "from keras.applications import VGG16\n",
    "from keras.models import Model, load_model\n",
    "from keras.preprocessing.image import ImageDataGenerator\n",
    "from keras import optimizers, initializers, regularizers, metrics\n",
    "from keras.callbacks import ModelCheckpoint, EarlyStopping\n",
    "from keras.layers import BatchNormalization, Conv2D, Activation, Dense, GlobalAveragePooling2D, MaxPooling2D, ZeroPadding2D, Add\n",
    "\n",
    "model = VGG16(weights='imagenet', include_top=False, input_shape=(224, 224, 3))\n",
    "model.trainable = False\n",
    "model.summary()"
   ]
  },
  {
   "cell_type": "code",
   "execution_count": 6,
   "metadata": {},
   "outputs": [
    {
     "name": "stdout",
     "output_type": "stream",
     "text": [
      "Model: \"model_1\"\n",
      "_________________________________________________________________\n",
      "Layer (type)                 Output Shape              Param #   \n",
      "=================================================================\n",
      "input_1 (InputLayer)         (None, 224, 224, 3)       0         \n",
      "_________________________________________________________________\n",
      "block1_conv1 (Conv2D)        (None, 224, 224, 64)      1792      \n",
      "_________________________________________________________________\n",
      "block1_conv2 (Conv2D)        (None, 224, 224, 64)      36928     \n",
      "_________________________________________________________________\n",
      "block1_pool (MaxPooling2D)   (None, 112, 112, 64)      0         \n",
      "_________________________________________________________________\n",
      "block2_conv1 (Conv2D)        (None, 112, 112, 128)     73856     \n",
      "_________________________________________________________________\n",
      "block2_conv2 (Conv2D)        (None, 112, 112, 128)     147584    \n",
      "_________________________________________________________________\n",
      "block2_pool (MaxPooling2D)   (None, 56, 56, 128)       0         \n",
      "_________________________________________________________________\n",
      "block3_conv1 (Conv2D)        (None, 56, 56, 256)       295168    \n",
      "_________________________________________________________________\n",
      "block3_conv2 (Conv2D)        (None, 56, 56, 256)       590080    \n",
      "_________________________________________________________________\n",
      "block3_conv3 (Conv2D)        (None, 56, 56, 256)       590080    \n",
      "_________________________________________________________________\n",
      "block3_pool (MaxPooling2D)   (None, 28, 28, 256)       0         \n",
      "_________________________________________________________________\n",
      "block4_conv1 (Conv2D)        (None, 28, 28, 512)       1180160   \n",
      "_________________________________________________________________\n",
      "block4_conv2 (Conv2D)        (None, 28, 28, 512)       2359808   \n",
      "_________________________________________________________________\n",
      "block4_conv3 (Conv2D)        (None, 28, 28, 512)       2359808   \n",
      "_________________________________________________________________\n",
      "block4_pool (MaxPooling2D)   (None, 14, 14, 512)       0         \n",
      "_________________________________________________________________\n",
      "block5_conv1 (Conv2D)        (None, 14, 14, 512)       2359808   \n",
      "_________________________________________________________________\n",
      "block5_conv2 (Conv2D)        (None, 14, 14, 512)       2359808   \n",
      "_________________________________________________________________\n",
      "block5_conv3 (Conv2D)        (None, 14, 14, 512)       2359808   \n",
      "_________________________________________________________________\n",
      "block5_pool (MaxPooling2D)   (None, 7, 7, 512)         0         \n",
      "_________________________________________________________________\n",
      "flatten_1 (Flatten)          (None, 25088)             0         \n",
      "_________________________________________________________________\n",
      "dense_1 (Dense)              (None, 4)                 100356    \n",
      "=================================================================\n",
      "Total params: 14,815,044\n",
      "Trainable params: 100,356\n",
      "Non-trainable params: 14,714,688\n",
      "_________________________________________________________________\n"
     ]
    }
   ],
   "source": [
    "for layer in model.layers:\n",
    "    layer.trainable=False\n",
    "\n",
    "x=model.output\n",
    "x=layers.Flatten()(x)\n",
    "outputs=Dense(4, activation='softmax')(x)\n",
    "\n",
    "additional_model=Model(inputs=model.input, outputs=outputs)\n",
    "\n",
    "additional_model.summary()"
   ]
  },
  {
   "cell_type": "code",
   "execution_count": 8,
   "metadata": {},
   "outputs": [],
   "source": [
    "def f1score(precision, recall):\n",
    "    _f1score = ( 2 * recall * precision) / (recall + precision)\n",
    "    \n",
    "    # return a single tensor value\n",
    "    return _f1score"
   ]
  },
  {
   "cell_type": "code",
   "execution_count": 9,
   "metadata": {},
   "outputs": [],
   "source": [
    "# checkpoint = ModelCheckpoint(filepath='My_VGG_{epoch:03d}_{val_loss:.7f}.hdf5',monitor='loss', mode='min', save_best_only=True)\n",
    "checkpoint = ModelCheckpoint(filepath='png_VGG16_finetuning.hdf5', \n",
    "            monitor='val_loss', \n",
    "            mode='min', \n",
    "            save_best_only=True)"
   ]
  },
  {
   "cell_type": "code",
   "execution_count": 10,
   "metadata": {},
   "outputs": [],
   "source": [
    "import tensorflow as tf\n",
    "\n",
    "additional_model.compile(loss='categorical_crossentropy', \n",
    "              optimizer=optimizers.Adam(lr=1e-4),\n",
    "              metrics=['acc',tf.keras.metrics.AUC(),\n",
    "                      tf.keras.metrics.Precision(),\n",
    "                      tf.keras.metrics.Recall(),f1score])"
   ]
  },
  {
   "cell_type": "code",
   "execution_count": 12,
   "metadata": {},
   "outputs": [
    {
     "name": "stdout",
     "output_type": "stream",
     "text": [
      "Epoch 1/5\n",
      "43/42 [==============================] - 19s 439ms/step - loss: 1.3883 - acc: 0.2821 - auc: 0.5324 - precision: 0.1938 - recall: 3.8156e-04 - f1score: 0.1013 - val_loss: 1.3951 - val_acc: 0.3118 - val_auc: 0.5486 - val_precision: 0.6667 - val_recall: 0.0013 - val_f1score: 0.1032\n",
      "Epoch 2/5\n",
      "43/42 [==============================] - 16s 367ms/step - loss: 1.3351 - acc: 0.3622 - auc: 0.5658 - precision: 0.7304 - recall: 0.0014 - f1score: 0.1055 - val_loss: 1.3526 - val_acc: 0.3265 - val_auc: 0.5850 - val_precision: 0.7415 - val_recall: 0.0023 - val_f1score: 0.1047\n",
      "Epoch 3/5\n",
      "43/42 [==============================] - 17s 389ms/step - loss: 1.3094 - acc: 0.3929 - auc: 0.5973 - precision: 0.7812 - recall: 0.0043 - f1score: 0.1077 - val_loss: 1.3038 - val_acc: 0.3882 - val_auc: 0.6094 - val_precision: 0.7734 - val_recall: 0.0067 - val_f1score: 0.1065\n",
      "Epoch 4/5\n",
      "43/42 [==============================] - 17s 392ms/step - loss: 1.2869 - acc: 0.4067 - auc: 0.6181 - precision: 0.7327 - recall: 0.0079 - f1score: 0.1100 - val_loss: 1.1939 - val_acc: 0.3353 - val_auc: 0.6270 - val_precision: 0.7203 - val_recall: 0.0098 - val_f1score: 0.1079\n",
      "Epoch 5/5\n",
      "43/42 [==============================] - 16s 383ms/step - loss: 1.2678 - acc: 0.4060 - auc: 0.6352 - precision: 0.7371 - recall: 0.0112 - f1score: 0.1117 - val_loss: 1.2305 - val_acc: 0.3971 - val_auc: 0.6411 - val_precision: 0.7243 - val_recall: 0.0128 - val_f1score: 0.1086\n"
     ]
    }
   ],
   "source": [
    "history = additional_model.fit_generator(\n",
    "      train_generator,\n",
    "      steps_per_epoch = train_generator.samples /32,\n",
    "      epochs=5,\n",
    "      validation_data = validation_generator, \n",
    "      validation_steps = validation_generator.samples/32,\n",
    "      callbacks=[checkpoint])"
   ]
  },
  {
   "cell_type": "code",
   "execution_count": 13,
   "metadata": {},
   "outputs": [],
   "source": [
    "for layer in additional_model.layers[:11]:\n",
    "    layer.trainable=False\n",
    "\n",
    "for layer in additional_model.layers[11:]:\n",
    "    layer.trainable=True"
   ]
  },
  {
   "cell_type": "code",
   "execution_count": 14,
   "metadata": {},
   "outputs": [],
   "source": [
    "import tensorflow as tf\n",
    "\n",
    "additional_model.compile(loss='categorical_crossentropy', \n",
    "              optimizer=optimizers.Adam(lr=1e-5),\n",
    "              metrics=['acc',tf.keras.metrics.AUC(),\n",
    "                      tf.keras.metrics.Precision(),\n",
    "                      tf.keras.metrics.Recall(),f1score])"
   ]
  },
  {
   "cell_type": "code",
   "execution_count": 15,
   "metadata": {},
   "outputs": [
    {
     "name": "stdout",
     "output_type": "stream",
     "text": [
      "Epoch 1/10\n",
      "43/42 [==============================] - 17s 403ms/step - loss: 1.1960 - acc: 0.4461 - auc_1: 0.7238 - precision_1: 0.6244 - recall_1: 0.1227 - f1score: 0.1215 - val_loss: 1.1420 - val_acc: 0.4441 - val_auc_1: 0.7307 - val_precision_1: 0.6181 - val_recall_1: 0.1220 - val_f1score: 0.1218\n",
      "Epoch 2/10\n",
      "43/42 [==============================] - 16s 379ms/step - loss: 1.0910 - acc: 0.4862 - auc_1: 0.7464 - precision_1: 0.6158 - recall_1: 0.1366 - f1score: 0.1313 - val_loss: 1.1229 - val_acc: 0.4353 - val_auc_1: 0.7573 - val_precision_1: 0.6134 - val_recall_1: 0.1595 - val_f1score: 0.1301\n",
      "Epoch 3/10\n",
      "43/42 [==============================] - 16s 374ms/step - loss: 1.0086 - acc: 0.5292 - auc_1: 0.7676 - precision_1: 0.6234 - recall_1: 0.1801 - f1score: 0.1397 - val_loss: 1.0359 - val_acc: 0.5324 - val_auc_1: 0.7761 - val_precision_1: 0.6275 - val_recall_1: 0.1968 - val_f1score: 0.1363\n",
      "Epoch 4/10\n",
      "43/42 [==============================] - 16s 375ms/step - loss: 0.9837 - acc: 0.5459 - auc_1: 0.7830 - precision_1: 0.6339 - recall_1: 0.2172 - f1score: 0.1440 - val_loss: 0.9616 - val_acc: 0.5176 - val_auc_1: 0.7877 - val_precision_1: 0.6348 - val_recall_1: 0.2319 - val_f1score: 0.1369\n",
      "Epoch 5/10\n",
      "43/42 [==============================] - 16s 372ms/step - loss: 0.9355 - acc: 0.5765 - auc_1: 0.7940 - precision_1: 0.6360 - recall_1: 0.2440 - f1score: 0.1482 - val_loss: 0.9632 - val_acc: 0.5088 - val_auc_1: 0.7984 - val_precision_1: 0.6360 - val_recall_1: 0.2566 - val_f1score: 0.1411\n",
      "Epoch 6/10\n",
      "43/42 [==============================] - 16s 376ms/step - loss: 0.9185 - acc: 0.5605 - auc_1: 0.8018 - precision_1: 0.6349 - recall_1: 0.2682 - f1score: 0.1495 - val_loss: 1.0678 - val_acc: 0.5088 - val_auc_1: 0.8057 - val_precision_1: 0.6352 - val_recall_1: 0.2789 - val_f1score: 0.1436\n",
      "Epoch 7/10\n",
      "43/42 [==============================] - 16s 377ms/step - loss: 0.8816 - acc: 0.5867 - auc_1: 0.8096 - precision_1: 0.6372 - recall_1: 0.2919 - f1score: 0.1540 - val_loss: 1.1304 - val_acc: 0.5029 - val_auc_1: 0.8126 - val_precision_1: 0.6381 - val_recall_1: 0.3032 - val_f1score: 0.1444\n",
      "Epoch 8/10\n",
      "43/42 [==============================] - 16s 378ms/step - loss: 0.8767 - acc: 0.5969 - auc_1: 0.8156 - precision_1: 0.6404 - recall_1: 0.3130 - f1score: 0.1553 - val_loss: 1.2429 - val_acc: 0.5412 - val_auc_1: 0.8185 - val_precision_1: 0.6404 - val_recall_1: 0.3218 - val_f1score: 0.1488\n",
      "Epoch 9/10\n",
      "43/42 [==============================] - 16s 379ms/step - loss: 0.8868 - acc: 0.5999 - auc_1: 0.8205 - precision_1: 0.6427 - recall_1: 0.3305 - f1score: 0.1546 - val_loss: 0.7857 - val_acc: 0.5441 - val_auc_1: 0.8224 - val_precision_1: 0.6444 - val_recall_1: 0.3375 - val_f1score: 0.1491\n",
      "Epoch 10/10\n",
      "43/42 [==============================] - 16s 374ms/step - loss: 0.8254 - acc: 0.6195 - auc_1: 0.8253 - precision_1: 0.6464 - recall_1: 0.3446 - f1score: 0.1598 - val_loss: 0.8927 - val_acc: 0.5441 - val_auc_1: 0.8275 - val_precision_1: 0.6480 - val_recall_1: 0.3514 - val_f1score: 0.1495\n"
     ]
    }
   ],
   "source": [
    "history = additional_model.fit_generator(\n",
    "      train_generator,\n",
    "      steps_per_epoch = train_generator.samples /32,\n",
    "      epochs=10,\n",
    "      validation_data = validation_generator, \n",
    "      validation_steps = validation_generator.samples/32,\n",
    "      callbacks=[checkpoint])"
   ]
  },
  {
   "cell_type": "code",
   "execution_count": 16,
   "metadata": {},
   "outputs": [
    {
     "data": {
      "image/png": "[encoded data removed]",
      "text/plain": [
       "<Figure size 432x288 with 1 Axes>"
      ]
     },
     "metadata": {
      "needs_background": "light"
     },
     "output_type": "display_data"
    },
    {
     "data": {
      "image/png": "[encoded data removed]",
      "text/plain": [
       "<Figure size 432x288 with 1 Axes>"
      ]
     },
     "metadata": {
      "needs_background": "light"
     },
     "output_type": "display_data"
    }
   ],
   "source": [
    "acc = history.history['acc']\n",
    "val_acc = history.history['val_acc']\n",
    "loss = history.history['loss']\n",
    "val_loss = history.history['val_loss']\n",
    " \n",
    "epochs = range(1, len(acc) + 1)\n",
    " \n",
    "plt.plot(epochs, acc, 'bo', label='Training acc')\n",
    "plt.plot(epochs, val_acc, 'r', label='Validation acc')\n",
    "plt.title('Accuracy')\n",
    "plt.legend()\n",
    "plt.figure()\n",
    " \n",
    "plt.plot(epochs, loss, 'bo', label='Training loss')\n",
    "plt.plot(epochs, val_loss, 'r', label='Validation loss')\n",
    "plt.title('Loss')\n",
    "plt.legend()\n",
    " \n",
    "plt.show()"
   ]
  },
  {
   "cell_type": "code",
   "execution_count": 17,
   "metadata": {},
   "outputs": [],
   "source": [
    "for layer in additional_model.layers:\n",
    "    layer.trainable=True"
   ]
  },
  {
   "cell_type": "code",
   "execution_count": 18,
   "metadata": {},
   "outputs": [
    {
     "name": "stdout",
     "output_type": "stream",
     "text": [
      "Epoch 1/37\n",
      "43/42 [==============================] - 17s 404ms/step - loss: 0.7908 - acc: 0.6531 - auc: 0.8901 - precision_2: 0.7301 - recall_2: 0.5354 - f1score: 0.1631 - val_loss: 0.7878 - val_acc: 0.5471 - val_auc: 0.8840 - val_precision_2: 0.7136 - val_recall_2: 0.5217 - val_f1score: 0.1504\n",
      "Epoch 2/37\n",
      "43/42 [==============================] - 16s 375ms/step - loss: 0.7750 - acc: 0.6603 - auc: 0.8838 - precision_2: 0.7121 - recall_2: 0.5184 - f1score: 0.1645 - val_loss: 0.7433 - val_acc: 0.5500 - val_auc: 0.8840 - val_precision_2: 0.7117 - val_recall_2: 0.5223 - val_f1score: 0.1522\n",
      "Epoch 3/37\n",
      "43/42 [==============================] - 16s 374ms/step - loss: 0.7790 - acc: 0.6574 - auc: 0.8843 - precision_2: 0.7103 - recall_2: 0.5225 - f1score: 0.1647 - val_loss: 0.9508 - val_acc: 0.5588 - val_auc: 0.8839 - val_precision_2: 0.7099 - val_recall_2: 0.5232 - val_f1score: 0.1494\n",
      "Epoch 4/37\n",
      "43/42 [==============================] - 16s 378ms/step - loss: 0.7672 - acc: 0.6443 - auc: 0.8826 - precision_2: 0.7057 - recall_2: 0.5218 - f1score: 0.1654 - val_loss: 0.7318 - val_acc: 0.5765 - val_auc: 0.8836 - val_precision_2: 0.7067 - val_recall_2: 0.5245 - val_f1score: 0.1536\n",
      "Epoch 5/37\n",
      "43/42 [==============================] - 16s 375ms/step - loss: 0.7744 - acc: 0.6421 - auc: 0.8841 - precision_2: 0.7060 - recall_2: 0.5261 - f1score: 0.1651 - val_loss: 0.8854 - val_acc: 0.5382 - val_auc: 0.8837 - val_precision_2: 0.7037 - val_recall_2: 0.5249 - val_f1score: 0.1516\n",
      "Epoch 6/37\n",
      "43/42 [==============================] - 16s 381ms/step - loss: 0.7609 - acc: 0.6618 - auc: 0.8836 - precision_2: 0.7023 - recall_2: 0.5252 - f1score: 0.1659 - val_loss: 0.8543 - val_acc: 0.5324 - val_auc: 0.8839 - val_precision_2: 0.7027 - val_recall_2: 0.5255 - val_f1score: 0.1513\n",
      "Epoch 7/37\n",
      "43/42 [==============================] - 16s 380ms/step - loss: 0.7707 - acc: 0.6662 - auc: 0.8841 - precision_2: 0.7029 - recall_2: 0.5268 - f1score: 0.1658 - val_loss: 0.9103 - val_acc: 0.5647 - val_auc: 0.8840 - val_precision_2: 0.7028 - val_recall_2: 0.5267 - val_f1score: 0.1526\n",
      "Epoch 8/37\n",
      "43/42 [==============================] - 16s 379ms/step - loss: 0.7672 - acc: 0.6531 - auc: 0.8845 - precision_2: 0.7040 - recall_2: 0.5289 - f1score: 0.1660 - val_loss: 0.8222 - val_acc: 0.5882 - val_auc: 0.8839 - val_precision_2: 0.7032 - val_recall_2: 0.5285 - val_f1score: 0.1529\n",
      "Epoch 9/37\n",
      "43/42 [==============================] - 16s 381ms/step - loss: 0.7568 - acc: 0.6735 - auc: 0.8842 - precision_2: 0.7046 - recall_2: 0.5294 - f1score: 0.1673 - val_loss: 0.8639 - val_acc: 0.5588 - val_auc: 0.8842 - val_precision_2: 0.7040 - val_recall_2: 0.5306 - val_f1score: 0.1507\n",
      "Epoch 10/37\n",
      "43/42 [==============================] - 16s 379ms/step - loss: 0.7506 - acc: 0.6786 - auc: 0.8847 - precision_2: 0.7047 - recall_2: 0.5322 - f1score: 0.1679 - val_loss: 1.3338 - val_acc: 0.5882 - val_auc: 0.8849 - val_precision_2: 0.7054 - val_recall_2: 0.5332 - val_f1score: 0.1530\n",
      "Epoch 11/37\n",
      "43/42 [==============================] - 16s 378ms/step - loss: 0.7521 - acc: 0.6786 - auc: 0.8850 - precision_2: 0.7057 - recall_2: 0.5342 - f1score: 0.1675 - val_loss: 1.1327 - val_acc: 0.5471 - val_auc: 0.8849 - val_precision_2: 0.7051 - val_recall_2: 0.5343 - val_f1score: 0.1508\n",
      "Epoch 12/37\n",
      "43/42 [==============================] - 16s 380ms/step - loss: 0.7352 - acc: 0.6961 - auc: 0.8853 - precision_2: 0.7054 - recall_2: 0.5356 - f1score: 0.1695 - val_loss: 0.8180 - val_acc: 0.5882 - val_auc: 0.8856 - val_precision_2: 0.7060 - val_recall_2: 0.5369 - val_f1score: 0.1530\n",
      "Epoch 13/37\n",
      "43/42 [==============================] - 16s 377ms/step - loss: 0.7537 - acc: 0.6676 - auc: 0.8857 - precision_2: 0.7064 - recall_2: 0.5377 - f1score: 0.1678 - val_loss: 1.1632 - val_acc: 0.5676 - val_auc: 0.8858 - val_precision_2: 0.7065 - val_recall_2: 0.5379 - val_f1score: 0.1531\n",
      "Epoch 14/37\n",
      "43/42 [==============================] - 16s 376ms/step - loss: 0.7347 - acc: 0.6851 - auc: 0.8861 - precision_2: 0.7062 - recall_2: 0.5387 - f1score: 0.1695 - val_loss: 0.7421 - val_acc: 0.6000 - val_auc: 0.8862 - val_precision_2: 0.7063 - val_recall_2: 0.5397 - val_f1score: 0.1561\n",
      "Epoch 15/37\n",
      "43/42 [==============================] - 16s 377ms/step - loss: 0.7400 - acc: 0.6698 - auc: 0.8866 - precision_2: 0.7064 - recall_2: 0.5406 - f1score: 0.1691 - val_loss: 0.6348 - val_acc: 0.5647 - val_auc: 0.8868 - val_precision_2: 0.7060 - val_recall_2: 0.5409 - val_f1score: 0.1546\n",
      "Epoch 16/37\n",
      "43/42 [==============================] - 16s 375ms/step - loss: 0.7431 - acc: 0.6793 - auc: 0.8868 - precision_2: 0.7057 - recall_2: 0.5411 - f1score: 0.1689 - val_loss: 0.8043 - val_acc: 0.5647 - val_auc: 0.8870 - val_precision_2: 0.7060 - val_recall_2: 0.5418 - val_f1score: 0.1537\n",
      "Epoch 17/37\n",
      "43/42 [==============================] - 16s 378ms/step - loss: 0.7396 - acc: 0.6698 - auc: 0.8871 - precision_2: 0.7061 - recall_2: 0.5422 - f1score: 0.1689 - val_loss: 1.1525 - val_acc: 0.5559 - val_auc: 0.8873 - val_precision_2: 0.7064 - val_recall_2: 0.5430 - val_f1score: 0.1546\n",
      "Epoch 18/37\n",
      "43/42 [==============================] - 16s 377ms/step - loss: 0.7308 - acc: 0.6822 - auc: 0.8876 - precision_2: 0.7065 - recall_2: 0.5438 - f1score: 0.1704 - val_loss: 1.0971 - val_acc: 0.5235 - val_auc: 0.8877 - val_precision_2: 0.7063 - val_recall_2: 0.5439 - val_f1score: 0.1504\n",
      "Epoch 19/37\n",
      "43/42 [==============================] - 16s 379ms/step - loss: 0.7396 - acc: 0.6844 - auc: 0.8876 - precision_2: 0.7060 - recall_2: 0.5441 - f1score: 0.1697 - val_loss: 0.9230 - val_acc: 0.5559 - val_auc: 0.8877 - val_precision_2: 0.7063 - val_recall_2: 0.5450 - val_f1score: 0.1527\n",
      "Epoch 20/37\n",
      "43/42 [==============================] - 16s 382ms/step - loss: 0.7192 - acc: 0.6815 - auc: 0.8880 - precision_2: 0.7068 - recall_2: 0.5460 - f1score: 0.1713 - val_loss: 0.8593 - val_acc: 0.5706 - val_auc: 0.8882 - val_precision_2: 0.7068 - val_recall_2: 0.5464 - val_f1score: 0.1548\n",
      "Epoch 21/37\n",
      "43/42 [==============================] - 16s 379ms/step - loss: 0.7285 - acc: 0.6713 - auc: 0.8884 - precision_2: 0.7070 - recall_2: 0.5472 - f1score: 0.1705 - val_loss: 0.9711 - val_acc: 0.5824 - val_auc: 0.8885 - val_precision_2: 0.7068 - val_recall_2: 0.5476 - val_f1score: 0.1561\n",
      "Epoch 22/37\n",
      "43/42 [==============================] - 16s 379ms/step - loss: 0.7172 - acc: 0.6961 - auc: 0.8888 - precision_2: 0.7072 - recall_2: 0.5485 - f1score: 0.1722 - val_loss: 1.1783 - val_acc: 0.5941 - val_auc: 0.8890 - val_precision_2: 0.7076 - val_recall_2: 0.5493 - val_f1score: 0.1561\n",
      "Epoch 23/37\n",
      "43/42 [==============================] - 16s 378ms/step - loss: 0.7057 - acc: 0.6917 - auc: 0.8892 - precision_2: 0.7077 - recall_2: 0.5498 - f1score: 0.1726 - val_loss: 1.3308 - val_acc: 0.5529 - val_auc: 0.8896 - val_precision_2: 0.7082 - val_recall_2: 0.5506 - val_f1score: 0.1529\n",
      "Epoch 24/37\n",
      "43/42 [==============================] - 16s 378ms/step - loss: 0.7121 - acc: 0.6778 - auc: 0.8897 - precision_2: 0.7081 - recall_2: 0.5511 - f1score: 0.1723 - val_loss: 0.8426 - val_acc: 0.5971 - val_auc: 0.8899 - val_precision_2: 0.7079 - val_recall_2: 0.5515 - val_f1score: 0.1573\n",
      "Epoch 25/37\n",
      "43/42 [==============================] - 16s 381ms/step - loss: 0.7301 - acc: 0.6888 - auc: 0.8900 - precision_2: 0.7084 - recall_2: 0.5522 - f1score: 0.1711 - val_loss: 0.7450 - val_acc: 0.5588 - val_auc: 0.8901 - val_precision_2: 0.7087 - val_recall_2: 0.5527 - val_f1score: 0.1550\n",
      "Epoch 26/37\n",
      "43/42 [==============================] - 16s 378ms/step - loss: 0.7288 - acc: 0.6888 - auc: 0.8902 - precision_2: 0.7087 - recall_2: 0.5532 - f1score: 0.1708 - val_loss: 0.7145 - val_acc: 0.5853 - val_auc: 0.8903 - val_precision_2: 0.7090 - val_recall_2: 0.5538 - val_f1score: 0.1563\n",
      "Epoch 27/37\n",
      "43/42 [==============================] - 16s 380ms/step - loss: 0.7160 - acc: 0.6917 - auc: 0.8904 - precision_2: 0.7092 - recall_2: 0.5543 - f1score: 0.1720 - val_loss: 0.7787 - val_acc: 0.5676 - val_auc: 0.8905 - val_precision_2: 0.7093 - val_recall_2: 0.5547 - val_f1score: 0.1551\n",
      "Epoch 28/37\n",
      "43/42 [==============================] - 16s 379ms/step - loss: 0.7099 - acc: 0.6946 - auc: 0.8908 - precision_2: 0.7097 - recall_2: 0.5555 - f1score: 0.1732 - val_loss: 0.8805 - val_acc: 0.5941 - val_auc: 0.8909 - val_precision_2: 0.7097 - val_recall_2: 0.5561 - val_f1score: 0.1592\n"
     ]
    },
    {
     "name": "stdout",
     "output_type": "stream",
     "text": [
      "Epoch 29/37\n",
      "43/42 [==============================] - 16s 380ms/step - loss: 0.7024 - acc: 0.6968 - auc: 0.8912 - precision_2: 0.7102 - recall_2: 0.5568 - f1score: 0.1731 - val_loss: 0.7616 - val_acc: 0.5853 - val_auc: 0.8913 - val_precision_2: 0.7101 - val_recall_2: 0.5574 - val_f1score: 0.1566\n",
      "Epoch 30/37\n",
      "43/42 [==============================] - 16s 379ms/step - loss: 0.7061 - acc: 0.6931 - auc: 0.8915 - precision_2: 0.7100 - recall_2: 0.5578 - f1score: 0.1732 - val_loss: 0.7913 - val_acc: 0.5765 - val_auc: 0.8916 - val_precision_2: 0.7100 - val_recall_2: 0.5583 - val_f1score: 0.1568\n",
      "Epoch 31/37\n",
      "43/42 [==============================] - 16s 379ms/step - loss: 0.7118 - acc: 0.6917 - auc: 0.8918 - precision_2: 0.7102 - recall_2: 0.5587 - f1score: 0.1728 - val_loss: 0.8304 - val_acc: 0.5735 - val_auc: 0.8919 - val_precision_2: 0.7103 - val_recall_2: 0.5593 - val_f1score: 0.1565\n",
      "Epoch 32/37\n",
      "43/42 [==============================] - 16s 379ms/step - loss: 0.6950 - acc: 0.6997 - auc: 0.8920 - precision_2: 0.7103 - recall_2: 0.5600 - f1score: 0.1739 - val_loss: 0.6832 - val_acc: 0.5853 - val_auc: 0.8922 - val_precision_2: 0.7106 - val_recall_2: 0.5606 - val_f1score: 0.1566\n",
      "Epoch 33/37\n",
      "43/42 [==============================] - 16s 377ms/step - loss: 0.7141 - acc: 0.6822 - auc: 0.8924 - precision_2: 0.7105 - recall_2: 0.5611 - f1score: 0.1724 - val_loss: 0.8157 - val_acc: 0.5971 - val_auc: 0.8923 - val_precision_2: 0.7106 - val_recall_2: 0.5614 - val_f1score: 0.1554\n",
      "Epoch 34/37\n",
      "43/42 [==============================] - 16s 382ms/step - loss: 0.7095 - acc: 0.6917 - auc: 0.8924 - precision_2: 0.7107 - recall_2: 0.5619 - f1score: 0.1731 - val_loss: 1.0299 - val_acc: 0.5559 - val_auc: 0.8925 - val_precision_2: 0.7108 - val_recall_2: 0.5622 - val_f1score: 0.1549\n",
      "Epoch 35/37\n",
      "43/42 [==============================] - 16s 379ms/step - loss: 0.7068 - acc: 0.6953 - auc: 0.8926 - precision_2: 0.7110 - recall_2: 0.5629 - f1score: 0.1734 - val_loss: 0.8547 - val_acc: 0.5441 - val_auc: 0.8927 - val_precision_2: 0.7109 - val_recall_2: 0.5632 - val_f1score: 0.1549\n",
      "Epoch 36/37\n",
      "43/42 [==============================] - 16s 378ms/step - loss: 0.6941 - acc: 0.7136 - auc: 0.8929 - precision_2: 0.7113 - recall_2: 0.5639 - f1score: 0.1745 - val_loss: 1.0427 - val_acc: 0.5706 - val_auc: 0.8930 - val_precision_2: 0.7113 - val_recall_2: 0.5641 - val_f1score: 0.1562\n",
      "Epoch 37/37\n",
      "43/42 [==============================] - 16s 379ms/step - loss: 0.6821 - acc: 0.6997 - auc: 0.8931 - precision_2: 0.7115 - recall_2: 0.5644 - f1score: 0.1750 - val_loss: 0.8389 - val_acc: 0.5676 - val_auc: 0.8933 - val_precision_2: 0.7115 - val_recall_2: 0.5648 - val_f1score: 0.1564\n"
     ]
    }
   ],
   "source": [
    "import tensorflow as tf\n",
    "\n",
    "additional_model.compile(loss='categorical_crossentropy', \n",
    "              optimizer=optimizers.Adam(lr=1e-6),\n",
    "              metrics=['acc',tf.keras.metrics.AUC(name='auc'),\n",
    "                      tf.keras.metrics.Precision(),\n",
    "                      tf.keras.metrics.Recall(),f1score])\n",
    "\n",
    "history = additional_model.fit_generator(\n",
    "      train_generator,\n",
    "      steps_per_epoch = train_generator.samples /32,\n",
    "      epochs=37,\n",
    "      validation_data = validation_generator, \n",
    "      validation_steps = validation_generator.samples/32,\n",
    "      callbacks=[checkpoint])"
   ]
  },
  {
   "cell_type": "code",
   "execution_count": 19,
   "metadata": {},
   "outputs": [
    {
     "data": {
      "image/png": "[encoded data removed]",
      "text/plain": [
       "<Figure size 432x288 with 1 Axes>"
      ]
     },
     "metadata": {
      "needs_background": "light"
     },
     "output_type": "display_data"
    },
    {
     "data": {
      "image/png": "[encoded data removed]",
      "text/plain": [
       "<Figure size 432x288 with 1 Axes>"
      ]
     },
     "metadata": {
      "needs_background": "light"
     },
     "output_type": "display_data"
    }
   ],
   "source": [
    "acc = history.history['acc']\n",
    "val_acc = history.history['val_acc']\n",
    "loss = history.history['loss']\n",
    "val_loss = history.history['val_loss']\n",
    " \n",
    "epochs = range(1, len(acc) + 1)\n",
    " \n",
    "plt.plot(epochs, acc, 'bo', label='Training acc')\n",
    "plt.plot(epochs, val_acc, 'r', label='Validation acc')\n",
    "plt.title('Accuracy')\n",
    "plt.legend()\n",
    "plt.figure()\n",
    " \n",
    "plt.plot(epochs, loss, 'bo', label='Training loss')\n",
    "plt.plot(epochs, val_loss, 'r', label='Validation loss')\n",
    "plt.title('Loss')\n",
    "plt.legend()\n",
    " \n",
    "plt.show()"
   ]
  },
  {
   "cell_type": "code",
   "execution_count": 20,
   "metadata": {},
   "outputs": [
    {
     "name": "stdout",
     "output_type": "stream",
     "text": [
      "loss: 1.104, accuracy: 0.580, auc: 0.893, precision: 0.711, recall: 0.564, f1score: 0.158\n"
     ]
    }
   ],
   "source": [
    "_loss, _acc, _auc, _precision, _recall, _f1score =  additional_model.evaluate_generator(validation_generator, steps=32)\n",
    "print('loss: {:.3f}, accuracy: {:.3f}, auc: {:.3f}, precision: {:.3f}, recall: {:.3f}, f1score: {:.3f}'.format(_loss, _acc, _auc, _precision, _recall, _f1score))"
   ]
  },
  {
   "cell_type": "code",
   "execution_count": 21,
   "metadata": {},
   "outputs": [],
   "source": [
    "from keras.models import Model, load_model\n",
    "\n",
    "new_model = models.load_model('png_VGG16_finetuning.hdf5',compile=False)\n",
    "\n",
    "\n",
    "new_model.compile(loss='categorical_crossentropy', \n",
    "              optimizer=optimizers.Adam(lr=1e-5),\n",
    "              metrics=['acc',tf.keras.metrics.AUC(),\n",
    "                      tf.keras.metrics.Precision(),\n",
    "                      tf.keras.metrics.Recall(),f1score])"
   ]
  },
  {
   "cell_type": "code",
   "execution_count": 23,
   "metadata": {},
   "outputs": [
    {
     "name": "stdout",
     "output_type": "stream",
     "text": [
      "Found 571 images belonging to 4 classes.\n"
     ]
    }
   ],
   "source": [
    "test_dir='./test_without_callback'\n",
    "\n",
    "test_datagen = ImageDataGenerator(rescale=1./255)\n",
    "\n",
    "test_generator = test_datagen.flow_from_directory(\n",
    "        test_dir,\n",
    "        target_size=(224, 224),\n",
    "        batch_size=32)"
   ]
  },
  {
   "cell_type": "code",
   "execution_count": 25,
   "metadata": {},
   "outputs": [
    {
     "name": "stdout",
     "output_type": "stream",
     "text": [
      "loss: 0.901, accuracy: 0.625, auc: 0.868, precision: 0.654, recall: 0.542, f1score: 0.164\n"
     ]
    }
   ],
   "source": [
    "_loss, _acc, _auc, _precision, _recall, _f1score =new_model.evaluate_generator(test_generator, steps=test_generator.samples/32)\n",
    "print('loss: {:.3f}, accuracy: {:.3f}, auc: {:.3f}, precision: {:.3f}, recall: {:.3f}, f1score: {:.3f}'.format(_loss, _acc, _auc, _precision, _recall, _f1score))"
   ]
  },
  {
   "cell_type": "code",
   "execution_count": null,
   "metadata": {},
   "outputs": [],
   "source": []
  }
 ],
 "metadata": {
  "kernelspec": {
   "display_name": "Python 3",
   "language": "python",
   "name": "python3"
  },
  "language_info": {
   "codemirror_mode": {
    "name": "ipython",
    "version": 3
   },
   "file_extension": ".py",
   "mimetype": "text/x-python",
   "name": "python",
   "nbconvert_exporter": "python",
   "pygments_lexer": "ipython3",
   "version": "3.7.7"
  }
 },
 "nbformat": 4,
 "nbformat_minor": 2
}
