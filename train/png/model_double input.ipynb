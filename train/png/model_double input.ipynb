{
 "cells": [
  {
   "cell_type": "code",
   "execution_count": 1,
   "metadata": {},
   "outputs": [
    {
     "data": {
      "text/plain": [
       "'C:\\\\Users\\\\Owner2\\\\Desktop\\\\G팔로미_vuno'"
      ]
     },
     "execution_count": 1,
     "metadata": {},
     "output_type": "execute_result"
    }
   ],
   "source": [
    "import os\n",
    "import pandas as pd\n",
    "from matplotlib import pyplot as plt\n",
    "import cv2\n",
    "import numpy as np\n",
    "\n",
    "#data path 수정\n",
    "os.chdir(\"C:\\\\Users\\\\Owner2\\\\Desktop\\\\G팔로미_vuno\")\n",
    "os.getcwd()"
   ]
  },
  {
   "cell_type": "code",
   "execution_count": 2,
   "metadata": {},
   "outputs": [],
   "source": [
    "train_dir = './train_double_input/calc_mass'"
   ]
  },
  {
   "cell_type": "code",
   "execution_count": 3,
   "metadata": {},
   "outputs": [
    {
     "name": "stderr",
     "output_type": "stream",
     "text": [
      "Using TensorFlow backend.\n"
     ]
    }
   ],
   "source": [
    "from keras.preprocessing.image import ImageDataGenerator\n",
    "\n",
    "train_datagen = ImageDataGenerator(\n",
    "    rescale=1./255,\n",
    "    #featurewise_center=True, #center 중심 유지\n",
    "    #featurewise_std_normalization=True, #normalization\n",
    "    rotation_range=25.0,\n",
    "    #width_shift_range=0.2,\n",
    "    #height_shift_range=0.2,\n",
    "    #brightness_range=[0.2,1.0],\n",
    "    zoom_range=[0.8,1.2],\n",
    "    horizontal_flip=True,\n",
    "    validation_split=0.2) #수평방향 뒤집기"
   ]
  },
  {
   "cell_type": "code",
   "execution_count": 4,
   "metadata": {},
   "outputs": [
    {
     "name": "stdout",
     "output_type": "stream",
     "text": [
      "Found 1370 images belonging to 2 classes.\n",
      "Found 342 images belonging to 2 classes.\n"
     ]
    }
   ],
   "source": [
    "train_generator = train_datagen.flow_from_directory(\n",
    "        # 타깃 디렉터리\n",
    "        train_dir,\n",
    "        # 모든 이미지의 크기를 150 × 150로 변경합니다\n",
    "        target_size=(224,224),\n",
    "        batch_size=32,\n",
    "        subset='training')\n",
    "\n",
    "validation_generator = train_datagen.flow_from_directory(\n",
    "    train_dir, # same directory as training data\n",
    "    target_size=(224,224),\n",
    "    batch_size=32,\n",
    "    subset='validation') # set as validation data"
   ]
  },
  {
   "cell_type": "code",
   "execution_count": 5,
   "metadata": {},
   "outputs": [
    {
     "name": "stdout",
     "output_type": "stream",
     "text": [
      "Model: \"vgg16\"\n",
      "_________________________________________________________________\n",
      "Layer (type)                 Output Shape              Param #   \n",
      "=================================================================\n",
      "input_1 (InputLayer)         (None, 224, 224, 3)       0         \n",
      "_________________________________________________________________\n",
      "block1_conv1 (Conv2D)        (None, 224, 224, 64)      1792      \n",
      "_________________________________________________________________\n",
      "block1_conv2 (Conv2D)        (None, 224, 224, 64)      36928     \n",
      "_________________________________________________________________\n",
      "block1_pool (MaxPooling2D)   (None, 112, 112, 64)      0         \n",
      "_________________________________________________________________\n",
      "block2_conv1 (Conv2D)        (None, 112, 112, 128)     73856     \n",
      "_________________________________________________________________\n",
      "block2_conv2 (Conv2D)        (None, 112, 112, 128)     147584    \n",
      "_________________________________________________________________\n",
      "block2_pool (MaxPooling2D)   (None, 56, 56, 128)       0         \n",
      "_________________________________________________________________\n",
      "block3_conv1 (Conv2D)        (None, 56, 56, 256)       295168    \n",
      "_________________________________________________________________\n",
      "block3_conv2 (Conv2D)        (None, 56, 56, 256)       590080    \n",
      "_________________________________________________________________\n",
      "block3_conv3 (Conv2D)        (None, 56, 56, 256)       590080    \n",
      "_________________________________________________________________\n",
      "block3_pool (MaxPooling2D)   (None, 28, 28, 256)       0         \n",
      "_________________________________________________________________\n",
      "block4_conv1 (Conv2D)        (None, 28, 28, 512)       1180160   \n",
      "_________________________________________________________________\n",
      "block4_conv2 (Conv2D)        (None, 28, 28, 512)       2359808   \n",
      "_________________________________________________________________\n",
      "block4_conv3 (Conv2D)        (None, 28, 28, 512)       2359808   \n",
      "_________________________________________________________________\n",
      "block4_pool (MaxPooling2D)   (None, 14, 14, 512)       0         \n",
      "_________________________________________________________________\n",
      "block5_conv1 (Conv2D)        (None, 14, 14, 512)       2359808   \n",
      "_________________________________________________________________\n",
      "block5_conv2 (Conv2D)        (None, 14, 14, 512)       2359808   \n",
      "_________________________________________________________________\n",
      "block5_conv3 (Conv2D)        (None, 14, 14, 512)       2359808   \n",
      "_________________________________________________________________\n",
      "block5_pool (MaxPooling2D)   (None, 7, 7, 512)         0         \n",
      "=================================================================\n",
      "Total params: 14,714,688\n",
      "Trainable params: 0\n",
      "Non-trainable params: 14,714,688\n",
      "_________________________________________________________________\n"
     ]
    }
   ],
   "source": [
    "from keras import models, layers\n",
    "from keras import Input\n",
    "from keras.applications import VGG16\n",
    "from keras.models import Model, load_model\n",
    "from keras.preprocessing.image import ImageDataGenerator\n",
    "from keras import optimizers, initializers, regularizers, metrics\n",
    "from keras.callbacks import ModelCheckpoint, EarlyStopping\n",
    "from keras.layers import BatchNormalization, Conv2D, Activation, Dense, GlobalAveragePooling2D, MaxPooling2D, ZeroPadding2D, Add\n",
    "\n",
    "model = VGG16(weights='imagenet', include_top=False, input_shape=(224, 224, 3))\n",
    "model.trainable = False\n",
    "model.summary()"
   ]
  },
  {
   "cell_type": "code",
   "execution_count": 6,
   "metadata": {},
   "outputs": [
    {
     "name": "stdout",
     "output_type": "stream",
     "text": [
      "Model: \"model_1\"\n",
      "_________________________________________________________________\n",
      "Layer (type)                 Output Shape              Param #   \n",
      "=================================================================\n",
      "input_1 (InputLayer)         (None, 224, 224, 3)       0         \n",
      "_________________________________________________________________\n",
      "block1_conv1 (Conv2D)        (None, 224, 224, 64)      1792      \n",
      "_________________________________________________________________\n",
      "block1_conv2 (Conv2D)        (None, 224, 224, 64)      36928     \n",
      "_________________________________________________________________\n",
      "block1_pool (MaxPooling2D)   (None, 112, 112, 64)      0         \n",
      "_________________________________________________________________\n",
      "block2_conv1 (Conv2D)        (None, 112, 112, 128)     73856     \n",
      "_________________________________________________________________\n",
      "block2_conv2 (Conv2D)        (None, 112, 112, 128)     147584    \n",
      "_________________________________________________________________\n",
      "block2_pool (MaxPooling2D)   (None, 56, 56, 128)       0         \n",
      "_________________________________________________________________\n",
      "block3_conv1 (Conv2D)        (None, 56, 56, 256)       295168    \n",
      "_________________________________________________________________\n",
      "block3_conv2 (Conv2D)        (None, 56, 56, 256)       590080    \n",
      "_________________________________________________________________\n",
      "block3_conv3 (Conv2D)        (None, 56, 56, 256)       590080    \n",
      "_________________________________________________________________\n",
      "block3_pool (MaxPooling2D)   (None, 28, 28, 256)       0         \n",
      "_________________________________________________________________\n",
      "block4_conv1 (Conv2D)        (None, 28, 28, 512)       1180160   \n",
      "_________________________________________________________________\n",
      "block4_conv2 (Conv2D)        (None, 28, 28, 512)       2359808   \n",
      "_________________________________________________________________\n",
      "block4_conv3 (Conv2D)        (None, 28, 28, 512)       2359808   \n",
      "_________________________________________________________________\n",
      "block4_pool (MaxPooling2D)   (None, 14, 14, 512)       0         \n",
      "_________________________________________________________________\n",
      "block5_conv1 (Conv2D)        (None, 14, 14, 512)       2359808   \n",
      "_________________________________________________________________\n",
      "block5_conv2 (Conv2D)        (None, 14, 14, 512)       2359808   \n",
      "_________________________________________________________________\n",
      "block5_conv3 (Conv2D)        (None, 14, 14, 512)       2359808   \n",
      "_________________________________________________________________\n",
      "block5_pool (MaxPooling2D)   (None, 7, 7, 512)         0         \n",
      "_________________________________________________________________\n",
      "flatten_1 (Flatten)          (None, 25088)             0         \n",
      "_________________________________________________________________\n",
      "dense_1 (Dense)              (None, 2)                 50178     \n",
      "=================================================================\n",
      "Total params: 14,764,866\n",
      "Trainable params: 50,178\n",
      "Non-trainable params: 14,714,688\n",
      "_________________________________________________________________\n"
     ]
    }
   ],
   "source": [
    "for layer in model.layers:\n",
    "    layer.trainable=False\n",
    "\n",
    "x=model.output\n",
    "x=layers.Flatten()(x)\n",
    "outputs=Dense(2, activation='sigmoid')(x)\n",
    "\n",
    "model1=Model(inputs=model.input, outputs=outputs)\n",
    "\n",
    "model1.summary()"
   ]
  },
  {
   "cell_type": "code",
   "execution_count": 7,
   "metadata": {},
   "outputs": [],
   "source": [
    "def f1score(precision, recall):\n",
    "    _f1score = ( 2 * recall * precision) / (recall + precision)\n",
    "    \n",
    "    # return a single tensor value\n",
    "    return _f1score"
   ]
  },
  {
   "cell_type": "code",
   "execution_count": 8,
   "metadata": {},
   "outputs": [],
   "source": [
    "# checkpoint = ModelCheckpoint(filepath='My_VGG_{epoch:03d}_{val_loss:.7f}.hdf5',monitor='loss', mode='min', save_best_only=True)\n",
    "checkpoint = ModelCheckpoint(filepath='png_model_type.hdf5', \n",
    "            monitor='val_loss', \n",
    "            mode='min', \n",
    "            save_best_only=True)"
   ]
  },
  {
   "cell_type": "code",
   "execution_count": 9,
   "metadata": {},
   "outputs": [],
   "source": [
    "import tensorflow as tf\n",
    "\n",
    "model1.compile(loss='binary_crossentropy', \n",
    "              optimizer=optimizers.Adam(lr=1e-4),\n",
    "              metrics=['acc',tf.keras.metrics.AUC(),\n",
    "                      tf.keras.metrics.Precision(),\n",
    "                      tf.keras.metrics.Recall(),f1score])"
   ]
  },
  {
   "cell_type": "code",
   "execution_count": 10,
   "metadata": {},
   "outputs": [
    {
     "name": "stdout",
     "output_type": "stream",
     "text": [
      "Epoch 1/5\n",
      "43/42 [==============================] - 20s 460ms/step - loss: 0.6868 - acc: 0.5712 - auc: 0.5371 - precision: 0.5463 - recall: 0.5484 - f1score: 0.3354 - val_loss: 0.6564 - val_acc: 0.5541 - val_auc: 0.5727 - val_precision: 0.5664 - val_recall: 0.5693 - val_f1score: 0.3389\n",
      "Epoch 2/5\n",
      "43/42 [==============================] - 16s 364ms/step - loss: 0.6576 - acc: 0.6208 - auc: 0.5993 - precision: 0.5802 - recall: 0.5839 - f1score: 0.3421 - val_loss: 0.6440 - val_acc: 0.5643 - val_auc: 0.6164 - val_precision: 0.5890 - val_recall: 0.5940 - val_f1score: 0.3415\n",
      "Epoch 3/5\n",
      "43/42 [==============================] - 17s 385ms/step - loss: 0.6411 - acc: 0.6533 - auc: 0.6277 - precision: 0.5962 - recall: 0.6005 - f1score: 0.3461 - val_loss: 0.6495 - val_acc: 0.6389 - val_auc: 0.6453 - val_precision: 0.6076 - val_recall: 0.6123 - val_f1score: 0.3462\n",
      "Epoch 4/5\n",
      "43/42 [==============================] - 17s 384ms/step - loss: 0.6220 - acc: 0.6653 - auc: 0.6592 - precision: 0.6144 - recall: 0.6196 - f1score: 0.3508 - val_loss: 0.6102 - val_acc: 0.7135 - val_auc: 0.6694 - val_precision: 0.6228 - val_recall: 0.6280 - val_f1score: 0.3492\n",
      "Epoch 5/5\n",
      "43/42 [==============================] - 16s 384ms/step - loss: 0.6174 - acc: 0.6723 - auc: 0.6795 - precision: 0.6292 - recall: 0.6345 - f1score: 0.3520 - val_loss: 0.7103 - val_acc: 0.7003 - val_auc: 0.6858 - val_precision: 0.6341 - val_recall: 0.6386 - val_f1score: 0.3491\n"
     ]
    }
   ],
   "source": [
    "history = model1.fit_generator(\n",
    "      train_generator,\n",
    "      steps_per_epoch = train_generator.samples /32,\n",
    "      epochs=5,\n",
    "      validation_data = validation_generator, \n",
    "      validation_steps = validation_generator.samples/32,\n",
    "      callbacks=[checkpoint])"
   ]
  },
  {
   "cell_type": "code",
   "execution_count": 11,
   "metadata": {},
   "outputs": [],
   "source": [
    "for layer in model1.layers[:11]:\n",
    "    layer.trainable=False\n",
    "\n",
    "for layer in model1.layers[11:]:\n",
    "    layer.trainable=True"
   ]
  },
  {
   "cell_type": "code",
   "execution_count": 12,
   "metadata": {},
   "outputs": [],
   "source": [
    "import tensorflow as tf\n",
    "\n",
    "model1.compile(loss='categorical_crossentropy', \n",
    "              optimizer=optimizers.Adam(lr=1e-5),\n",
    "              metrics=['acc',tf.keras.metrics.AUC(),\n",
    "                      tf.keras.metrics.Precision(),\n",
    "                      tf.keras.metrics.Recall(),f1score])"
   ]
  },
  {
   "cell_type": "code",
   "execution_count": 13,
   "metadata": {},
   "outputs": [
    {
     "name": "stdout",
     "output_type": "stream",
     "text": [
      "Epoch 1/10\n",
      "43/42 [==============================] - 17s 402ms/step - loss: 0.5049 - acc: 0.7533 - auc_1: 0.8004 - precision_1: 0.7755 - recall_1: 0.5920 - f1score: 0.3267 - val_loss: 0.3780 - val_acc: 0.8099 - val_auc_1: 0.8328 - val_precision_1: 0.8417 - val_recall_1: 0.5217 - val_f1score: 0.2990\n",
      "Epoch 2/10\n",
      "43/42 [==============================] - 17s 394ms/step - loss: 0.3871 - acc: 0.8307 - auc_1: 0.8423 - precision_1: 0.8678 - recall_1: 0.4599 - f1score: 0.2765 - val_loss: 0.1801 - val_acc: 0.8333 - val_auc_1: 0.8501 - val_precision_1: 0.8858 - val_recall_1: 0.4067 - val_f1score: 0.2477\n",
      "Epoch 3/10\n",
      "43/42 [==============================] - 17s 395ms/step - loss: 0.3461 - acc: 0.8533 - auc_1: 0.8541 - precision_1: 0.8971 - recall_1: 0.3701 - f1score: 0.2356 - val_loss: 0.3268 - val_acc: 0.8538 - val_auc_1: 0.8572 - val_precision_1: 0.9056 - val_recall_1: 0.3414 - val_f1score: 0.2295\n",
      "Epoch 4/10\n",
      "43/42 [==============================] - 17s 386ms/step - loss: 0.3097 - acc: 0.8701 - auc_1: 0.8637 - precision_1: 0.9129 - recall_1: 0.3209 - f1score: 0.2284 - val_loss: 0.2014 - val_acc: 0.8830 - val_auc_1: 0.8687 - val_precision_1: 0.9186 - val_recall_1: 0.3017 - val_f1score: 0.2173\n",
      "Epoch 5/10\n",
      "43/42 [==============================] - 17s 385ms/step - loss: 0.2797 - acc: 0.8839 - auc_1: 0.8741 - precision_1: 0.9237 - recall_1: 0.2889 - f1score: 0.2241 - val_loss: 0.2797 - val_acc: 0.8743 - val_auc_1: 0.8785 - val_precision_1: 0.9281 - val_recall_1: 0.2779 - val_f1score: 0.2025\n",
      "Epoch 6/10\n",
      "43/42 [==============================] - 17s 396ms/step - loss: 0.2846 - acc: 0.8803 - auc_1: 0.8814 - precision_1: 0.9311 - recall_1: 0.2666 - f1score: 0.2093 - val_loss: 0.3755 - val_acc: 0.8713 - val_auc_1: 0.8846 - val_precision_1: 0.9347 - val_recall_1: 0.2590 - val_f1score: 0.2151\n",
      "Epoch 7/10\n",
      "43/42 [==============================] - 16s 383ms/step - loss: 0.2572 - acc: 0.8927 - auc_1: 0.8884 - precision_1: 0.9380 - recall_1: 0.2529 - f1score: 0.2149 - val_loss: 0.3772 - val_acc: 0.8830 - val_auc_1: 0.8917 - val_precision_1: 0.9408 - val_recall_1: 0.2473 - val_f1score: 0.1986\n",
      "Epoch 8/10\n",
      "43/42 [==============================] - 16s 383ms/step - loss: 0.2604 - acc: 0.9007 - auc_1: 0.8938 - precision_1: 0.9434 - recall_1: 0.2418 - f1score: 0.1987 - val_loss: 0.1422 - val_acc: 0.8772 - val_auc_1: 0.8954 - val_precision_1: 0.9452 - val_recall_1: 0.2356 - val_f1score: 0.1883\n",
      "Epoch 9/10\n",
      "43/42 [==============================] - 16s 380ms/step - loss: 0.2581 - acc: 0.9022 - auc_1: 0.8974 - precision_1: 0.9470 - recall_1: 0.2303 - f1score: 0.2027 - val_loss: 0.2930 - val_acc: 0.8860 - val_auc_1: 0.8996 - val_precision_1: 0.9487 - val_recall_1: 0.2266 - val_f1score: 0.1936\n",
      "Epoch 10/10\n",
      "43/42 [==============================] - 17s 384ms/step - loss: 0.2345 - acc: 0.9007 - auc_1: 0.9013 - precision_1: 0.9504 - recall_1: 0.2226 - f1score: 0.1901 - val_loss: 0.3299 - val_acc: 0.9006 - val_auc_1: 0.9027 - val_precision_1: 0.9517 - val_recall_1: 0.2176 - val_f1score: 0.1729\n"
     ]
    }
   ],
   "source": [
    "history = model1.fit_generator(\n",
    "      train_generator,\n",
    "      steps_per_epoch = train_generator.samples /32,\n",
    "      epochs=10,\n",
    "      validation_data = validation_generator, \n",
    "      validation_steps = validation_generator.samples/32,\n",
    "      callbacks=[checkpoint])"
   ]
  },
  {
   "cell_type": "code",
   "execution_count": 14,
   "metadata": {},
   "outputs": [],
   "source": [
    "for layer in model1.layers:\n",
    "    layer.trainable=True"
   ]
  },
  {
   "cell_type": "code",
   "execution_count": 15,
   "metadata": {},
   "outputs": [
    {
     "name": "stdout",
     "output_type": "stream",
     "text": [
      "Epoch 1/37\n",
      "43/42 [==============================] - 17s 406ms/step - loss: 0.2268 - acc: 0.9088 - auc: 0.9579 - precision_2: 0.9944 - recall_2: 0.1185 - f1score: 0.1817 - val_loss: 0.1540 - val_acc: 0.8801 - val_auc: 0.9630 - val_precision_2: 0.9944 - val_recall_2: 0.1145 - val_f1score: 0.1704\n",
      "Epoch 2/37\n",
      "43/42 [==============================] - 17s 384ms/step - loss: 0.2160 - acc: 0.9175 - auc: 0.9646 - precision_2: 0.9951 - recall_2: 0.1163 - f1score: 0.1845 - val_loss: 0.4590 - val_acc: 0.8801 - val_auc: 0.9643 - val_precision_2: 0.9950 - val_recall_2: 0.1206 - val_f1score: 0.1678\n",
      "Epoch 3/37\n",
      "43/42 [==============================] - 17s 385ms/step - loss: 0.2081 - acc: 0.9219 - auc: 0.9653 - precision_2: 0.9959 - recall_2: 0.1190 - f1score: 0.1789 - val_loss: 0.2633 - val_acc: 0.8977 - val_auc: 0.9654 - val_precision_2: 0.9966 - val_recall_2: 0.1171 - val_f1score: 0.1598\n",
      "Epoch 4/37\n",
      "43/42 [==============================] - 17s 388ms/step - loss: 0.2081 - acc: 0.9241 - auc: 0.9659 - precision_2: 0.9965 - recall_2: 0.1168 - f1score: 0.1823 - val_loss: 0.2538 - val_acc: 0.8860 - val_auc: 0.9654 - val_precision_2: 0.9952 - val_recall_2: 0.1186 - val_f1score: 0.1593\n",
      "Epoch 5/37\n",
      "43/42 [==============================] - 17s 395ms/step - loss: 0.2052 - acc: 0.9234 - auc: 0.9657 - precision_2: 0.9955 - recall_2: 0.1181 - f1score: 0.1776 - val_loss: 0.1408 - val_acc: 0.8860 - val_auc: 0.9657 - val_precision_2: 0.9959 - val_recall_2: 0.1163 - val_f1score: 0.1600\n",
      "Epoch 6/37\n",
      "43/42 [==============================] - 17s 400ms/step - loss: 0.1983 - acc: 0.9270 - auc: 0.9660 - precision_2: 0.9959 - recall_2: 0.1153 - f1score: 0.1744 - val_loss: 0.2043 - val_acc: 0.8860 - val_auc: 0.9664 - val_precision_2: 0.9957 - val_recall_2: 0.1143 - val_f1score: 0.1641\n",
      "Epoch 7/37\n",
      "43/42 [==============================] - 17s 391ms/step - loss: 0.2066 - acc: 0.9182 - auc: 0.9665 - precision_2: 0.9960 - recall_2: 0.1132 - f1score: 0.1725 - val_loss: 0.4296 - val_acc: 0.9064 - val_auc: 0.9667 - val_precision_2: 0.9962 - val_recall_2: 0.1121 - val_f1score: 0.1513\n",
      "Epoch 8/37\n",
      "43/42 [==============================] - 17s 392ms/step - loss: 0.1896 - acc: 0.9285 - auc: 0.9668 - precision_2: 0.9965 - recall_2: 0.1114 - f1score: 0.1753 - val_loss: 0.0955 - val_acc: 0.9035 - val_auc: 0.9671 - val_precision_2: 0.9967 - val_recall_2: 0.1112 - val_f1score: 0.1524\n",
      "Epoch 9/37\n",
      "43/42 [==============================] - 17s 387ms/step - loss: 0.2017 - acc: 0.9248 - auc: 0.9673 - precision_2: 0.9969 - recall_2: 0.1105 - f1score: 0.1685 - val_loss: 0.3041 - val_acc: 0.8801 - val_auc: 0.9671 - val_precision_2: 0.9970 - val_recall_2: 0.1097 - val_f1score: 0.1508\n",
      "Epoch 10/37\n",
      "43/42 [==============================] - 17s 390ms/step - loss: 0.1901 - acc: 0.9299 - auc: 0.9672 - precision_2: 0.9972 - recall_2: 0.1091 - f1score: 0.1692 - val_loss: 0.0610 - val_acc: 0.8977 - val_auc: 0.9674 - val_precision_2: 0.9973 - val_recall_2: 0.1083 - val_f1score: 0.1497\n",
      "Epoch 11/37\n",
      "43/42 [==============================] - 17s 388ms/step - loss: 0.1984 - acc: 0.9285 - auc: 0.9674 - precision_2: 0.9974 - recall_2: 0.1078 - f1score: 0.1651 - val_loss: 0.1545 - val_acc: 0.8918 - val_auc: 0.9674 - val_precision_2: 0.9975 - val_recall_2: 0.1072 - val_f1score: 0.1412\n",
      "Epoch 12/37\n",
      "43/42 [==============================] - 17s 395ms/step - loss: 0.1980 - acc: 0.9161 - auc: 0.9674 - precision_2: 0.9976 - recall_2: 0.1069 - f1score: 0.1648 - val_loss: 0.2699 - val_acc: 0.8889 - val_auc: 0.9676 - val_precision_2: 0.9977 - val_recall_2: 0.1066 - val_f1score: 0.1455\n",
      "Epoch 13/37\n",
      "43/42 [==============================] - 17s 395ms/step - loss: 0.1904 - acc: 0.9270 - auc: 0.9676 - precision_2: 0.9978 - recall_2: 0.1058 - f1score: 0.1637 - val_loss: 0.2755 - val_acc: 0.8977 - val_auc: 0.9677 - val_precision_2: 0.9975 - val_recall_2: 0.1053 - val_f1score: 0.1511\n",
      "Epoch 14/37\n",
      "43/42 [==============================] - 17s 399ms/step - loss: 0.1861 - acc: 0.9292 - auc: 0.9678 - precision_2: 0.9975 - recall_2: 0.1054 - f1score: 0.1654 - val_loss: 0.0502 - val_acc: 0.8947 - val_auc: 0.9679 - val_precision_2: 0.9976 - val_recall_2: 0.1052 - val_f1score: 0.1449\n",
      "Epoch 15/37\n",
      "43/42 [==============================] - 18s 407ms/step - loss: 0.1867 - acc: 0.9307 - auc: 0.9680 - precision_2: 0.9977 - recall_2: 0.1043 - f1score: 0.1605 - val_loss: 0.0481 - val_acc: 0.9006 - val_auc: 0.9681 - val_precision_2: 0.9977 - val_recall_2: 0.1039 - val_f1score: 0.1499\n",
      "Epoch 16/37\n",
      "43/42 [==============================] - 17s 388ms/step - loss: 0.1916 - acc: 0.9219 - auc: 0.9680 - precision_2: 0.9978 - recall_2: 0.1037 - f1score: 0.1633 - val_loss: 0.1450 - val_acc: 0.9006 - val_auc: 0.9681 - val_precision_2: 0.9979 - val_recall_2: 0.1032 - val_f1score: 0.1374\n",
      "Epoch 17/37\n",
      "43/42 [==============================] - 17s 389ms/step - loss: 0.1770 - acc: 0.9365 - auc: 0.9682 - precision_2: 0.9979 - recall_2: 0.1025 - f1score: 0.1575 - val_loss: 0.4696 - val_acc: 0.8977 - val_auc: 0.9683 - val_precision_2: 0.9980 - val_recall_2: 0.1018 - val_f1score: 0.1417\n",
      "Epoch 18/37\n",
      "43/42 [==============================] - 17s 398ms/step - loss: 0.1912 - acc: 0.9328 - auc: 0.9684 - precision_2: 0.9980 - recall_2: 0.1014 - f1score: 0.1551 - val_loss: 0.4105 - val_acc: 0.9035 - val_auc: 0.9683 - val_precision_2: 0.9981 - val_recall_2: 0.1008 - val_f1score: 0.1347\n",
      "Epoch 19/37\n",
      "43/42 [==============================] - 17s 393ms/step - loss: 0.1897 - acc: 0.9241 - auc: 0.9683 - precision_2: 0.9981 - recall_2: 0.1005 - f1score: 0.1583 - val_loss: 0.3378 - val_acc: 0.8918 - val_auc: 0.9683 - val_precision_2: 0.9981 - val_recall_2: 0.0999 - val_f1score: 0.1334\n",
      "Epoch 20/37\n",
      "43/42 [==============================] - 17s 401ms/step - loss: 0.1948 - acc: 0.9226 - auc: 0.9682 - precision_2: 0.9982 - recall_2: 0.0994 - f1score: 0.1539 - val_loss: 0.2772 - val_acc: 0.8889 - val_auc: 0.9682 - val_precision_2: 0.9982 - val_recall_2: 0.0990 - val_f1score: 0.1353\n",
      "Epoch 21/37\n",
      "43/42 [==============================] - 17s 386ms/step - loss: 0.1757 - acc: 0.9343 - auc: 0.9682 - precision_2: 0.9983 - recall_2: 0.0985 - f1score: 0.1554 - val_loss: 0.1654 - val_acc: 0.8889 - val_auc: 0.9683 - val_precision_2: 0.9983 - val_recall_2: 0.0981 - val_f1score: 0.1339\n",
      "Epoch 22/37\n",
      "43/42 [==============================] - 17s 389ms/step - loss: 0.1903 - acc: 0.9255 - auc: 0.9682 - precision_2: 0.9983 - recall_2: 0.0978 - f1score: 0.1541 - val_loss: 0.1240 - val_acc: 0.9006 - val_auc: 0.9682 - val_precision_2: 0.9984 - val_recall_2: 0.0973 - val_f1score: 0.1324\n",
      "Epoch 23/37\n",
      "43/42 [==============================] - 17s 394ms/step - loss: 0.1892 - acc: 0.9328 - auc: 0.9684 - precision_2: 0.9984 - recall_2: 0.0969 - f1score: 0.1538 - val_loss: 0.2485 - val_acc: 0.8860 - val_auc: 0.9682 - val_precision_2: 0.9984 - val_recall_2: 0.0966 - val_f1score: 0.1356\n",
      "Epoch 24/37\n",
      "43/42 [==============================] - 17s 402ms/step - loss: 0.1798 - acc: 0.9321 - auc: 0.9682 - precision_2: 0.9985 - recall_2: 0.0965 - f1score: 0.1517 - val_loss: 0.1492 - val_acc: 0.9181 - val_auc: 0.9683 - val_precision_2: 0.9985 - val_recall_2: 0.0960 - val_f1score: 0.1294\n",
      "Epoch 25/37\n",
      "43/42 [==============================] - 17s 406ms/step - loss: 0.1712 - acc: 0.9416 - auc: 0.9684 - precision_2: 0.9985 - recall_2: 0.0956 - f1score: 0.1516 - val_loss: 0.2259 - val_acc: 0.8801 - val_auc: 0.9684 - val_precision_2: 0.9985 - val_recall_2: 0.0954 - val_f1score: 0.1357\n",
      "Epoch 26/37\n",
      "43/42 [==============================] - 17s 393ms/step - loss: 0.1688 - acc: 0.9394 - auc: 0.9685 - precision_2: 0.9986 - recall_2: 0.0951 - f1score: 0.1505 - val_loss: 0.1746 - val_acc: 0.9035 - val_auc: 0.9686 - val_precision_2: 0.9986 - val_recall_2: 0.0945 - val_f1score: 0.1325\n",
      "Epoch 27/37\n",
      "43/42 [==============================] - 17s 388ms/step - loss: 0.1807 - acc: 0.9336 - auc: 0.9686 - precision_2: 0.9986 - recall_2: 0.0942 - f1score: 0.1480 - val_loss: 0.2098 - val_acc: 0.8977 - val_auc: 0.9685 - val_precision_2: 0.9986 - val_recall_2: 0.0941 - val_f1score: 0.1305\n",
      "Epoch 28/37\n",
      "43/42 [==============================] - 17s 403ms/step - loss: 0.1712 - acc: 0.9365 - auc: 0.9685 - precision_2: 0.9986 - recall_2: 0.0937 - f1score: 0.1462 - val_loss: 0.3242 - val_acc: 0.8889 - val_auc: 0.9685 - val_precision_2: 0.9987 - val_recall_2: 0.0936 - val_f1score: 0.1315\n"
     ]
    },
    {
     "name": "stdout",
     "output_type": "stream",
     "text": [
      "Epoch 29/37\n",
      "43/42 [==============================] - 17s 391ms/step - loss: 0.1794 - acc: 0.9285 - auc: 0.9685 - precision_2: 0.9987 - recall_2: 0.0934 - f1score: 0.1457 - val_loss: 0.1273 - val_acc: 0.9094 - val_auc: 0.9685 - val_precision_2: 0.9987 - val_recall_2: 0.0932 - val_f1score: 0.1326\n",
      "Epoch 30/37\n",
      "43/42 [==============================] - 17s 394ms/step - loss: 0.1634 - acc: 0.9372 - auc: 0.9687 - precision_2: 0.9987 - recall_2: 0.0929 - f1score: 0.1472 - val_loss: 0.3045 - val_acc: 0.8889 - val_auc: 0.9686 - val_precision_2: 0.9987 - val_recall_2: 0.0925 - val_f1score: 0.1224\n",
      "Epoch 31/37\n",
      "43/42 [==============================] - 17s 399ms/step - loss: 0.1647 - acc: 0.9372 - auc: 0.9687 - precision_2: 0.9988 - recall_2: 0.0921 - f1score: 0.1445 - val_loss: 0.3574 - val_acc: 0.8977 - val_auc: 0.9687 - val_precision_2: 0.9988 - val_recall_2: 0.0921 - val_f1score: 0.1378\n",
      "Epoch 32/37\n",
      "43/42 [==============================] - 17s 386ms/step - loss: 0.1699 - acc: 0.9343 - auc: 0.9688 - precision_2: 0.9988 - recall_2: 0.0921 - f1score: 0.1498 - val_loss: 0.2035 - val_acc: 0.9006 - val_auc: 0.9688 - val_precision_2: 0.9988 - val_recall_2: 0.0918 - val_f1score: 0.1283\n",
      "Epoch 33/37\n",
      "43/42 [==============================] - 17s 395ms/step - loss: 0.1737 - acc: 0.9321 - auc: 0.9688 - precision_2: 0.9988 - recall_2: 0.0914 - f1score: 0.1442 - val_loss: 0.2303 - val_acc: 0.8918 - val_auc: 0.9688 - val_precision_2: 0.9988 - val_recall_2: 0.0912 - val_f1score: 0.1264\n",
      "Epoch 34/37\n",
      "43/42 [==============================] - 17s 388ms/step - loss: 0.1596 - acc: 0.9358 - auc: 0.9688 - precision_2: 0.9989 - recall_2: 0.0912 - f1score: 0.1445 - val_loss: 0.1463 - val_acc: 0.8947 - val_auc: 0.9689 - val_precision_2: 0.9989 - val_recall_2: 0.0909 - val_f1score: 0.1312\n",
      "Epoch 35/37\n",
      "43/42 [==============================] - 17s 400ms/step - loss: 0.1691 - acc: 0.9336 - auc: 0.9689 - precision_2: 0.9989 - recall_2: 0.0907 - f1score: 0.1457 - val_loss: 0.4766 - val_acc: 0.9152 - val_auc: 0.9689 - val_precision_2: 0.9989 - val_recall_2: 0.0906 - val_f1score: 0.1255\n",
      "Epoch 36/37\n",
      "43/42 [==============================] - 17s 403ms/step - loss: 0.1637 - acc: 0.9307 - auc: 0.9689 - precision_2: 0.9989 - recall_2: 0.0905 - f1score: 0.1464 - val_loss: 0.5439 - val_acc: 0.9064 - val_auc: 0.9689 - val_precision_2: 0.9989 - val_recall_2: 0.0903 - val_f1score: 0.1194\n",
      "Epoch 37/37\n",
      "43/42 [==============================] - 17s 393ms/step - loss: 0.1646 - acc: 0.9372 - auc: 0.9690 - precision_2: 0.9989 - recall_2: 0.0899 - f1score: 0.1390 - val_loss: 0.3718 - val_acc: 0.8918 - val_auc: 0.9690 - val_precision_2: 0.9989 - val_recall_2: 0.0896 - val_f1score: 0.1158\n"
     ]
    }
   ],
   "source": [
    "import tensorflow as tf\n",
    "\n",
    "model1.compile(loss='categorical_crossentropy', \n",
    "              optimizer=optimizers.Adam(lr=1e-6),\n",
    "              metrics=['acc',tf.keras.metrics.AUC(name='auc'),\n",
    "                      tf.keras.metrics.Precision(),\n",
    "                      tf.keras.metrics.Recall(),f1score])\n",
    "\n",
    "history = model1.fit_generator(\n",
    "      train_generator,\n",
    "      steps_per_epoch = train_generator.samples /32,\n",
    "      epochs=37,\n",
    "      validation_data = validation_generator, \n",
    "      validation_steps = validation_generator.samples/32,\n",
    "      callbacks=[checkpoint])"
   ]
  },
  {
   "cell_type": "code",
   "execution_count": 16,
   "metadata": {},
   "outputs": [
    {
     "name": "stdout",
     "output_type": "stream",
     "text": [
      "loss: 0.291, accuracy: 0.898, auc: 0.969, precision: 0.999, recall: 0.089, f1score: 0.115\n"
     ]
    }
   ],
   "source": [
    "_loss, _acc, _auc, _precision, _recall, _f1score =  model1.evaluate_generator(validation_generator, steps=32)\n",
    "print('loss: {:.3f}, accuracy: {:.3f}, auc: {:.3f}, precision: {:.3f}, recall: {:.3f}, f1score: {:.3f}'.format(_loss, _acc, _auc, _precision, _recall, _f1score))"
   ]
  },
  {
   "cell_type": "markdown",
   "metadata": {},
   "source": [
    "## Make Model2 \n",
    "output1 : calc[BENIGN, MALIGNANT] <br>\n",
    "output2 : mass[BENIGN, MALIGNANT]"
   ]
  },
  {
   "cell_type": "code",
   "execution_count": 8,
   "metadata": {},
   "outputs": [],
   "source": [
    "train_dir2 = './train_double_input/benign_malignant'"
   ]
  },
  {
   "cell_type": "code",
   "execution_count": 9,
   "metadata": {},
   "outputs": [
    {
     "name": "stdout",
     "output_type": "stream",
     "text": [
      "Found 1370 images belonging to 2 classes.\n",
      "Found 342 images belonging to 2 classes.\n"
     ]
    }
   ],
   "source": [
    "train_generator = train_datagen.flow_from_directory(\n",
    "        # 타깃 디렉터리\n",
    "        train_dir2,\n",
    "        # 모든 이미지의 크기를 150 × 150로 변경합니다\n",
    "        target_size=(224,224),\n",
    "        batch_size=32,\n",
    "        subset='training')\n",
    "\n",
    "validation_generator = train_datagen.flow_from_directory(\n",
    "    train_dir2, # same directory as training data\n",
    "    target_size=(224,224),\n",
    "    batch_size=32,\n",
    "    subset='validation') # set as validation data"
   ]
  },
  {
   "cell_type": "code",
   "execution_count": 14,
   "metadata": {},
   "outputs": [
    {
     "name": "stdout",
     "output_type": "stream",
     "text": [
      "Model: \"model_3\"\n",
      "_________________________________________________________________\n",
      "Layer (type)                 Output Shape              Param #   \n",
      "=================================================================\n",
      "input_1 (InputLayer)         (None, 224, 224, 3)       0         \n",
      "_________________________________________________________________\n",
      "block1_conv1 (Conv2D)        (None, 224, 224, 64)      1792      \n",
      "_________________________________________________________________\n",
      "block1_conv2 (Conv2D)        (None, 224, 224, 64)      36928     \n",
      "_________________________________________________________________\n",
      "block1_pool (MaxPooling2D)   (None, 112, 112, 64)      0         \n",
      "_________________________________________________________________\n",
      "block2_conv1 (Conv2D)        (None, 112, 112, 128)     73856     \n",
      "_________________________________________________________________\n",
      "block2_conv2 (Conv2D)        (None, 112, 112, 128)     147584    \n",
      "_________________________________________________________________\n",
      "block2_pool (MaxPooling2D)   (None, 56, 56, 128)       0         \n",
      "_________________________________________________________________\n",
      "block3_conv1 (Conv2D)        (None, 56, 56, 256)       295168    \n",
      "_________________________________________________________________\n",
      "block3_conv2 (Conv2D)        (None, 56, 56, 256)       590080    \n",
      "_________________________________________________________________\n",
      "block3_conv3 (Conv2D)        (None, 56, 56, 256)       590080    \n",
      "_________________________________________________________________\n",
      "block3_pool (MaxPooling2D)   (None, 28, 28, 256)       0         \n",
      "_________________________________________________________________\n",
      "block4_conv1 (Conv2D)        (None, 28, 28, 512)       1180160   \n",
      "_________________________________________________________________\n",
      "block4_conv2 (Conv2D)        (None, 28, 28, 512)       2359808   \n",
      "_________________________________________________________________\n",
      "block4_conv3 (Conv2D)        (None, 28, 28, 512)       2359808   \n",
      "_________________________________________________________________\n",
      "block4_pool (MaxPooling2D)   (None, 14, 14, 512)       0         \n",
      "_________________________________________________________________\n",
      "block5_conv1 (Conv2D)        (None, 14, 14, 512)       2359808   \n",
      "_________________________________________________________________\n",
      "block5_conv2 (Conv2D)        (None, 14, 14, 512)       2359808   \n",
      "_________________________________________________________________\n",
      "block5_conv3 (Conv2D)        (None, 14, 14, 512)       2359808   \n",
      "_________________________________________________________________\n",
      "block5_pool (MaxPooling2D)   (None, 7, 7, 512)         0         \n",
      "_________________________________________________________________\n",
      "flatten_2 (Flatten)          (None, 25088)             0         \n",
      "_________________________________________________________________\n",
      "dense_3 (Dense)              (None, 512)               12845568  \n",
      "_________________________________________________________________\n",
      "dense_4 (Dense)              (None, 2)                 1026      \n",
      "=================================================================\n",
      "Total params: 27,561,282\n",
      "Trainable params: 12,846,594\n",
      "Non-trainable params: 14,714,688\n",
      "_________________________________________________________________\n"
     ]
    }
   ],
   "source": [
    "for layer in model.layers:\n",
    "    layer.trainable=False\n",
    "\n",
    "x=model.output\n",
    "x=layers.Flatten()(x)\n",
    "x=Dense(512, activation='relu')(x)\n",
    "outputs=Dense(2, activation='sigmoid')(x)\n",
    "\n",
    "model2=Model(inputs=model.input, outputs=outputs)\n",
    "\n",
    "model2.summary()"
   ]
  },
  {
   "cell_type": "code",
   "execution_count": 17,
   "metadata": {},
   "outputs": [],
   "source": [
    "# checkpoint = ModelCheckpoint(filepath='My_VGG_{epoch:03d}_{val_loss:.7f}.hdf5',monitor='loss', mode='min', save_best_only=True)\n",
    "checkpoint = ModelCheckpoint(filepath='png_model_pathology_donse2.hdf5', \n",
    "            monitor='val_loss', \n",
    "            mode='min', \n",
    "            save_best_only=True)"
   ]
  },
  {
   "cell_type": "code",
   "execution_count": 18,
   "metadata": {},
   "outputs": [],
   "source": [
    "import tensorflow as tf\n",
    "\n",
    "model2.compile(loss='binary_crossentropy', \n",
    "              optimizer=optimizers.Adam(lr=1e-4),\n",
    "              metrics=['acc',tf.keras.metrics.AUC(),\n",
    "                      tf.keras.metrics.Precision(),\n",
    "                      tf.keras.metrics.Recall(),f1score])"
   ]
  },
  {
   "cell_type": "code",
   "execution_count": 19,
   "metadata": {},
   "outputs": [
    {
     "name": "stdout",
     "output_type": "stream",
     "text": [
      "Epoch 1/5\n",
      "43/42 [==============================] - 17s 389ms/step - loss: 0.7228 - acc: 0.5208 - auc_2: 0.5118 - precision_2: 0.5069 - recall_2: 0.5626 - f1score: 0.3305 - val_loss: 0.7939 - val_acc: 0.5307 - val_auc_2: 0.5367 - val_precision_2: 0.5212 - val_recall_2: 0.5290 - val_f1score: 0.3360\n",
      "Epoch 2/5\n",
      "43/42 [==============================] - 16s 366ms/step - loss: 0.6856 - acc: 0.5420 - auc_2: 0.5463 - precision_2: 0.5256 - recall_2: 0.5344 - f1score: 0.3371 - val_loss: 0.7057 - val_acc: 0.5687 - val_auc_2: 0.5582 - val_precision_2: 0.5330 - val_recall_2: 0.5438 - val_f1score: 0.3470\n",
      "Epoch 3/5\n",
      "43/42 [==============================] - 16s 364ms/step - loss: 0.6841 - acc: 0.5588 - auc_2: 0.5633 - precision_2: 0.5389 - recall_2: 0.5495 - f1score: 0.3370 - val_loss: 0.6615 - val_acc: 0.5921 - val_auc_2: 0.5688 - val_precision_2: 0.5440 - val_recall_2: 0.5552 - val_f1score: 0.3482\n",
      "Epoch 4/5\n",
      "43/42 [==============================] - 16s 365ms/step - loss: 0.6623 - acc: 0.5872 - auc_2: 0.5775 - precision_2: 0.5488 - recall_2: 0.5599 - f1score: 0.3429 - val_loss: 0.6687 - val_acc: 0.6287 - val_auc_2: 0.5870 - val_precision_2: 0.5552 - val_recall_2: 0.5649 - val_f1score: 0.3439\n",
      "Epoch 5/5\n",
      "43/42 [==============================] - 16s 372ms/step - loss: 0.6672 - acc: 0.5909 - auc_2: 0.5919 - precision_2: 0.5597 - recall_2: 0.5684 - f1score: 0.3422 - val_loss: 0.7502 - val_acc: 0.5658 - val_auc_2: 0.5939 - val_precision_2: 0.5618 - val_recall_2: 0.5696 - val_f1score: 0.3393\n"
     ]
    }
   ],
   "source": [
    "history = model2.fit_generator(\n",
    "      train_generator,\n",
    "      steps_per_epoch = train_generator.samples /32,\n",
    "      epochs=5,\n",
    "      validation_data = validation_generator, \n",
    "      validation_steps = validation_generator.samples/32,\n",
    "      callbacks=[checkpoint])"
   ]
  },
  {
   "cell_type": "code",
   "execution_count": 20,
   "metadata": {},
   "outputs": [],
   "source": [
    "for layer in model2.layers[:11]:\n",
    "    layer.trainable=False\n",
    "\n",
    "for layer in model2.layers[11:]:\n",
    "    layer.trainable=True"
   ]
  },
  {
   "cell_type": "code",
   "execution_count": 21,
   "metadata": {},
   "outputs": [],
   "source": [
    "import tensorflow as tf\n",
    "\n",
    "model2.compile(loss='binary_crossentropy', \n",
    "              optimizer=optimizers.Adam(lr=1e-5),\n",
    "              metrics=['acc',tf.keras.metrics.AUC(),\n",
    "                      tf.keras.metrics.Precision(),\n",
    "                      tf.keras.metrics.Recall(),f1score])"
   ]
  },
  {
   "cell_type": "code",
   "execution_count": 22,
   "metadata": {},
   "outputs": [
    {
     "name": "stdout",
     "output_type": "stream",
     "text": [
      "Epoch 1/10\n",
      "43/42 [==============================] - 17s 389ms/step - loss: 0.6635 - acc: 0.5843 - auc_3: 0.6199 - precision_3: 0.5634 - recall_3: 0.5651 - f1score: 0.3424 - val_loss: 0.6353 - val_acc: 0.5980 - val_auc_3: 0.6325 - val_precision_3: 0.5876 - val_recall_3: 0.5875 - val_f1score: 0.3410\n",
      "Epoch 2/10\n",
      "43/42 [==============================] - 16s 362ms/step - loss: 0.6353 - acc: 0.6332 - auc_3: 0.6520 - precision_3: 0.6044 - recall_3: 0.6035 - f1score: 0.3495 - val_loss: 0.6344 - val_acc: 0.6228 - val_auc_3: 0.6570 - val_precision_3: 0.6084 - val_recall_3: 0.6071 - val_f1score: 0.3438\n",
      "Epoch 3/10\n",
      "43/42 [==============================] - 16s 373ms/step - loss: 0.6321 - acc: 0.6405 - auc_3: 0.6637 - precision_3: 0.6149 - recall_3: 0.6136 - f1score: 0.3501 - val_loss: 0.7030 - val_acc: 0.6330 - val_auc_3: 0.6694 - val_precision_3: 0.6201 - val_recall_3: 0.6190 - val_f1score: 0.3475\n",
      "Epoch 4/10\n",
      "43/42 [==============================] - 16s 363ms/step - loss: 0.6110 - acc: 0.6759 - auc_3: 0.6766 - precision_3: 0.6269 - recall_3: 0.6260 - f1score: 0.3553 - val_loss: 0.7671 - val_acc: 0.6023 - val_auc_3: 0.6808 - val_precision_3: 0.6303 - val_recall_3: 0.6296 - val_f1score: 0.3474\n",
      "Epoch 5/10\n",
      "43/42 [==============================] - 16s 363ms/step - loss: 0.6052 - acc: 0.6690 - auc_3: 0.6859 - precision_3: 0.6333 - recall_3: 0.6331 - f1score: 0.3573 - val_loss: 0.7617 - val_acc: 0.6082 - val_auc_3: 0.6879 - val_precision_3: 0.6350 - val_recall_3: 0.6351 - val_f1score: 0.3513\n",
      "Epoch 6/10\n",
      "43/42 [==============================] - 16s 364ms/step - loss: 0.6229 - acc: 0.6365 - auc_3: 0.6871 - precision_3: 0.6343 - recall_3: 0.6342 - f1score: 0.3535 - val_loss: 0.7597 - val_acc: 0.5775 - val_auc_3: 0.6888 - val_precision_3: 0.6345 - val_recall_3: 0.6341 - val_f1score: 0.3455\n",
      "Epoch 7/10\n",
      "43/42 [==============================] - 16s 362ms/step - loss: 0.6003 - acc: 0.6657 - auc_3: 0.6916 - precision_3: 0.6359 - recall_3: 0.6353 - f1score: 0.3589 - val_loss: 0.7692 - val_acc: 0.6199 - val_auc_3: 0.6930 - val_precision_3: 0.6367 - val_recall_3: 0.6369 - val_f1score: 0.3460\n",
      "Epoch 8/10\n",
      "43/42 [==============================] - 16s 364ms/step - loss: 0.6188 - acc: 0.6303 - auc_3: 0.6917 - precision_3: 0.6356 - recall_3: 0.6359 - f1score: 0.3546 - val_loss: 0.6117 - val_acc: 0.5599 - val_auc_3: 0.6917 - val_precision_3: 0.6349 - val_recall_3: 0.6354 - val_f1score: 0.3421\n",
      "Epoch 9/10\n",
      "43/42 [==============================] - 15s 360ms/step - loss: 0.5866 - acc: 0.6719 - auc_3: 0.6933 - precision_3: 0.6356 - recall_3: 0.6361 - f1score: 0.3622 - val_loss: 0.6309 - val_acc: 0.5599 - val_auc_3: 0.6951 - val_precision_3: 0.6365 - val_recall_3: 0.6371 - val_f1score: 0.3453\n",
      "Epoch 10/10\n",
      "43/42 [==============================] - 16s 365ms/step - loss: 0.5732 - acc: 0.6938 - auc_3: 0.6981 - precision_3: 0.6381 - recall_3: 0.6389 - f1score: 0.3659 - val_loss: 0.6572 - val_acc: 0.6287 - val_auc_3: 0.7009 - val_precision_3: 0.6403 - val_recall_3: 0.6412 - val_f1score: 0.3505\n"
     ]
    }
   ],
   "source": [
    "history = model2.fit_generator(\n",
    "      train_generator,\n",
    "      steps_per_epoch = train_generator.samples /32,\n",
    "      epochs=10,\n",
    "      validation_data = validation_generator, \n",
    "      validation_steps = validation_generator.samples/32,\n",
    "      callbacks=[checkpoint])"
   ]
  },
  {
   "cell_type": "code",
   "execution_count": 23,
   "metadata": {},
   "outputs": [],
   "source": [
    "for layer in model2.layers:\n",
    "    layer.trainable=True"
   ]
  },
  {
   "cell_type": "code",
   "execution_count": 24,
   "metadata": {},
   "outputs": [
    {
     "name": "stdout",
     "output_type": "stream",
     "text": [
      "Epoch 1/37\n",
      "43/42 [==============================] - 17s 388ms/step - loss: 0.5455 - acc: 0.7186 - auc: 0.7863 - precision_4: 0.7102 - recall_4: 0.7124 - f1score: 0.3711 - val_loss: 0.6541 - val_acc: 0.6257 - val_auc: 0.7848 - val_precision_4: 0.7069 - val_recall_4: 0.7132 - val_f1score: 0.3479\n",
      "Epoch 2/37\n",
      "43/42 [==============================] - 16s 362ms/step - loss: 0.5498 - acc: 0.7175 - auc: 0.7801 - precision_4: 0.7030 - recall_4: 0.7088 - f1score: 0.3702 - val_loss: 0.6274 - val_acc: 0.6330 - val_auc: 0.7769 - val_precision_4: 0.7028 - val_recall_4: 0.7075 - val_f1score: 0.3507\n",
      "Epoch 3/37\n",
      "43/42 [==============================] - 16s 364ms/step - loss: 0.5386 - acc: 0.7401 - auc: 0.7802 - precision_4: 0.7063 - recall_4: 0.7108 - f1score: 0.3730 - val_loss: 0.5925 - val_acc: 0.6301 - val_auc: 0.7800 - val_precision_4: 0.7074 - val_recall_4: 0.7110 - val_f1score: 0.3503\n",
      "Epoch 4/37\n",
      "43/42 [==============================] - 16s 361ms/step - loss: 0.5394 - acc: 0.7157 - auc: 0.7806 - precision_4: 0.7071 - recall_4: 0.7103 - f1score: 0.3729 - val_loss: 0.8017 - val_acc: 0.6053 - val_auc: 0.7798 - val_precision_4: 0.7048 - val_recall_4: 0.7081 - val_f1score: 0.3443\n",
      "Epoch 5/37\n",
      "43/42 [==============================] - 16s 364ms/step - loss: 0.5401 - acc: 0.7427 - auc: 0.7797 - precision_4: 0.7060 - recall_4: 0.7090 - f1score: 0.3737 - val_loss: 0.6438 - val_acc: 0.5687 - val_auc: 0.7785 - val_precision_4: 0.7054 - val_recall_4: 0.7083 - val_f1score: 0.3467\n",
      "Epoch 6/37\n",
      "43/42 [==============================] - 16s 365ms/step - loss: 0.5431 - acc: 0.7307 - auc: 0.7791 - precision_4: 0.7058 - recall_4: 0.7087 - f1score: 0.3733 - val_loss: 0.7005 - val_acc: 0.5804 - val_auc: 0.7774 - val_precision_4: 0.7046 - val_recall_4: 0.7072 - val_f1score: 0.3432\n",
      "Epoch 7/37\n",
      "43/42 [==============================] - 16s 363ms/step - loss: 0.5396 - acc: 0.7347 - auc: 0.7774 - precision_4: 0.7046 - recall_4: 0.7076 - f1score: 0.3736 - val_loss: 0.6715 - val_acc: 0.5877 - val_auc: 0.7766 - val_precision_4: 0.7043 - val_recall_4: 0.7074 - val_f1score: 0.3444\n",
      "Epoch 8/37\n",
      "43/42 [==============================] - 16s 365ms/step - loss: 0.5357 - acc: 0.7303 - auc: 0.7771 - precision_4: 0.7044 - recall_4: 0.7072 - f1score: 0.3742 - val_loss: 0.6232 - val_acc: 0.6506 - val_auc: 0.7777 - val_precision_4: 0.7052 - val_recall_4: 0.7078 - val_f1score: 0.3507\n",
      "Epoch 9/37\n",
      "43/42 [==============================] - 16s 367ms/step - loss: 0.5349 - acc: 0.7237 - auc: 0.7778 - precision_4: 0.7050 - recall_4: 0.7078 - f1score: 0.3750 - val_loss: 0.7433 - val_acc: 0.5950 - val_auc: 0.7775 - val_precision_4: 0.7043 - val_recall_4: 0.7071 - val_f1score: 0.3461\n",
      "Epoch 10/37\n",
      "43/42 [==============================] - 16s 363ms/step - loss: 0.5228 - acc: 0.7456 - auc: 0.7783 - precision_4: 0.7048 - recall_4: 0.7078 - f1score: 0.3771 - val_loss: 0.6078 - val_acc: 0.6272 - val_auc: 0.7791 - val_precision_4: 0.7059 - val_recall_4: 0.7089 - val_f1score: 0.3475\n",
      "Epoch 11/37\n",
      "43/42 [==============================] - 16s 364ms/step - loss: 0.5343 - acc: 0.7266 - auc: 0.7794 - precision_4: 0.7058 - recall_4: 0.7087 - f1score: 0.3751 - val_loss: 0.6825 - val_acc: 0.6023 - val_auc: 0.7797 - val_precision_4: 0.7058 - val_recall_4: 0.7086 - val_f1score: 0.3490\n",
      "Epoch 12/37\n",
      "43/42 [==============================] - 16s 365ms/step - loss: 0.5328 - acc: 0.7318 - auc: 0.7798 - precision_4: 0.7058 - recall_4: 0.7087 - f1score: 0.3750 - val_loss: 0.8423 - val_acc: 0.6257 - val_auc: 0.7794 - val_precision_4: 0.7056 - val_recall_4: 0.7086 - val_f1score: 0.3491\n",
      "Epoch 13/37\n",
      "43/42 [==============================] - 16s 363ms/step - loss: 0.5226 - acc: 0.7412 - auc: 0.7803 - precision_4: 0.7067 - recall_4: 0.7095 - f1score: 0.3780 - val_loss: 0.5876 - val_acc: 0.6170 - val_auc: 0.7803 - val_precision_4: 0.7066 - val_recall_4: 0.7096 - val_f1score: 0.3471\n",
      "Epoch 14/37\n",
      "43/42 [==============================] - 16s 361ms/step - loss: 0.5270 - acc: 0.7464 - auc: 0.7805 - precision_4: 0.7069 - recall_4: 0.7099 - f1score: 0.3765 - val_loss: 0.5458 - val_acc: 0.5965 - val_auc: 0.7806 - val_precision_4: 0.7073 - val_recall_4: 0.7101 - val_f1score: 0.3455\n",
      "Epoch 15/37\n",
      "43/42 [==============================] - 15s 359ms/step - loss: 0.5287 - acc: 0.7365 - auc: 0.7805 - precision_4: 0.7074 - recall_4: 0.7101 - f1score: 0.3767 - val_loss: 0.7586 - val_acc: 0.6184 - val_auc: 0.7808 - val_precision_4: 0.7077 - val_recall_4: 0.7104 - val_f1score: 0.3437\n",
      "Epoch 16/37\n",
      "43/42 [==============================] - 16s 365ms/step - loss: 0.5231 - acc: 0.7438 - auc: 0.7814 - precision_4: 0.7082 - recall_4: 0.7108 - f1score: 0.3781 - val_loss: 0.7265 - val_acc: 0.5819 - val_auc: 0.7810 - val_precision_4: 0.7079 - val_recall_4: 0.7107 - val_f1score: 0.3421\n",
      "Epoch 17/37\n",
      "43/42 [==============================] - 16s 366ms/step - loss: 0.5235 - acc: 0.7314 - auc: 0.7811 - precision_4: 0.7079 - recall_4: 0.7107 - f1score: 0.3780 - val_loss: 0.5313 - val_acc: 0.6272 - val_auc: 0.7813 - val_precision_4: 0.7080 - val_recall_4: 0.7109 - val_f1score: 0.3484\n",
      "Epoch 18/37\n",
      "43/42 [==============================] - 16s 361ms/step - loss: 0.5259 - acc: 0.7460 - auc: 0.7816 - precision_4: 0.7083 - recall_4: 0.7111 - f1score: 0.3775 - val_loss: 0.5056 - val_acc: 0.6301 - val_auc: 0.7818 - val_precision_4: 0.7087 - val_recall_4: 0.7114 - val_f1score: 0.3491\n",
      "Epoch 19/37\n",
      "43/42 [==============================] - 15s 358ms/step - loss: 0.5193 - acc: 0.7423 - auc: 0.7822 - precision_4: 0.7090 - recall_4: 0.7118 - f1score: 0.3790 - val_loss: 0.7841 - val_acc: 0.6228 - val_auc: 0.7822 - val_precision_4: 0.7092 - val_recall_4: 0.7120 - val_f1score: 0.3457\n",
      "Epoch 20/37\n",
      "43/42 [==============================] - 16s 370ms/step - loss: 0.5022 - acc: 0.7682 - auc: 0.7829 - precision_4: 0.7100 - recall_4: 0.7128 - f1score: 0.3824 - val_loss: 0.6766 - val_acc: 0.6316 - val_auc: 0.7834 - val_precision_4: 0.7106 - val_recall_4: 0.7135 - val_f1score: 0.3470\n",
      "Epoch 21/37\n",
      "43/42 [==============================] - 16s 366ms/step - loss: 0.5241 - acc: 0.7412 - auc: 0.7838 - precision_4: 0.7109 - recall_4: 0.7138 - f1score: 0.3784 - val_loss: 1.0060 - val_acc: 0.5965 - val_auc: 0.7836 - val_precision_4: 0.7109 - val_recall_4: 0.7136 - val_f1score: 0.3449\n",
      "Epoch 22/37\n",
      "43/42 [==============================] - 16s 368ms/step - loss: 0.5126 - acc: 0.7536 - auc: 0.7841 - precision_4: 0.7113 - recall_4: 0.7139 - f1score: 0.3809 - val_loss: 0.7593 - val_acc: 0.5877 - val_auc: 0.7842 - val_precision_4: 0.7114 - val_recall_4: 0.7140 - val_f1score: 0.3456\n",
      "Epoch 23/37\n",
      "43/42 [==============================] - 16s 367ms/step - loss: 0.5175 - acc: 0.7442 - auc: 0.7846 - precision_4: 0.7117 - recall_4: 0.7141 - f1score: 0.3794 - val_loss: 0.8530 - val_acc: 0.5965 - val_auc: 0.7844 - val_precision_4: 0.7115 - val_recall_4: 0.7140 - val_f1score: 0.3429\n",
      "Epoch 24/37\n",
      "43/42 [==============================] - 16s 368ms/step - loss: 0.5113 - acc: 0.7427 - auc: 0.7846 - precision_4: 0.7115 - recall_4: 0.7140 - f1score: 0.3808 - val_loss: 0.8535 - val_acc: 0.6170 - val_auc: 0.7847 - val_precision_4: 0.7117 - val_recall_4: 0.7140 - val_f1score: 0.3461\n",
      "Epoch 25/37\n",
      "43/42 [==============================] - 16s 368ms/step - loss: 0.5097 - acc: 0.7401 - auc: 0.7851 - precision_4: 0.7118 - recall_4: 0.7142 - f1score: 0.3813 - val_loss: 0.5588 - val_acc: 0.6535 - val_auc: 0.7853 - val_precision_4: 0.7119 - val_recall_4: 0.7142 - val_f1score: 0.3494\n",
      "Epoch 26/37\n",
      "43/42 [==============================] - 16s 367ms/step - loss: 0.5055 - acc: 0.7573 - auc: 0.7860 - precision_4: 0.7125 - recall_4: 0.7148 - f1score: 0.3822 - val_loss: 0.7271 - val_acc: 0.6111 - val_auc: 0.7861 - val_precision_4: 0.7128 - val_recall_4: 0.7150 - val_f1score: 0.3425\n",
      "Epoch 27/37\n",
      "43/42 [==============================] - 16s 366ms/step - loss: 0.5163 - acc: 0.7467 - auc: 0.7863 - precision_4: 0.7130 - recall_4: 0.7151 - f1score: 0.3807 - val_loss: 0.6669 - val_acc: 0.6096 - val_auc: 0.7864 - val_precision_4: 0.7131 - val_recall_4: 0.7151 - val_f1score: 0.3532\n",
      "Epoch 28/37\n",
      "43/42 [==============================] - 16s 364ms/step - loss: 0.5163 - acc: 0.7474 - auc: 0.7866 - precision_4: 0.7132 - recall_4: 0.7152 - f1score: 0.3800 - val_loss: 0.8466 - val_acc: 0.6009 - val_auc: 0.7866 - val_precision_4: 0.7133 - val_recall_4: 0.7153 - val_f1score: 0.3466\n"
     ]
    },
    {
     "name": "stdout",
     "output_type": "stream",
     "text": [
      "Epoch 29/37\n",
      "43/42 [==============================] - 16s 366ms/step - loss: 0.5090 - acc: 0.7566 - auc: 0.7869 - precision_4: 0.7135 - recall_4: 0.7154 - f1score: 0.3814 - val_loss: 0.6576 - val_acc: 0.6228 - val_auc: 0.7869 - val_precision_4: 0.7137 - val_recall_4: 0.7156 - val_f1score: 0.3463\n",
      "Epoch 30/37\n",
      "43/42 [==============================] - 16s 366ms/step - loss: 0.4953 - acc: 0.7635 - auc: 0.7875 - precision_4: 0.7142 - recall_4: 0.7161 - f1score: 0.3849 - val_loss: 0.6833 - val_acc: 0.6345 - val_auc: 0.7877 - val_precision_4: 0.7144 - val_recall_4: 0.7164 - val_f1score: 0.3506\n",
      "Epoch 31/37\n",
      "43/42 [==============================] - 16s 367ms/step - loss: 0.5042 - acc: 0.7536 - auc: 0.7881 - precision_4: 0.7148 - recall_4: 0.7167 - f1score: 0.3830 - val_loss: 0.6887 - val_acc: 0.6287 - val_auc: 0.7882 - val_precision_4: 0.7149 - val_recall_4: 0.7169 - val_f1score: 0.3489\n",
      "Epoch 32/37\n",
      "43/42 [==============================] - 16s 366ms/step - loss: 0.5010 - acc: 0.7544 - auc: 0.7885 - precision_4: 0.7151 - recall_4: 0.7170 - f1score: 0.3834 - val_loss: 0.7201 - val_acc: 0.6009 - val_auc: 0.7887 - val_precision_4: 0.7153 - val_recall_4: 0.7172 - val_f1score: 0.3436\n",
      "Epoch 33/37\n",
      "43/42 [==============================] - 16s 367ms/step - loss: 0.4968 - acc: 0.7624 - auc: 0.7888 - precision_4: 0.7154 - recall_4: 0.7173 - f1score: 0.3850 - val_loss: 0.6992 - val_acc: 0.6228 - val_auc: 0.7891 - val_precision_4: 0.7157 - val_recall_4: 0.7176 - val_f1score: 0.3468\n",
      "Epoch 34/37\n",
      "43/42 [==============================] - 16s 364ms/step - loss: 0.4996 - acc: 0.7580 - auc: 0.7895 - precision_4: 0.7161 - recall_4: 0.7179 - f1score: 0.3839 - val_loss: 0.8119 - val_acc: 0.6360 - val_auc: 0.7897 - val_precision_4: 0.7162 - val_recall_4: 0.7181 - val_f1score: 0.3536\n",
      "Epoch 35/37\n",
      "43/42 [==============================] - 16s 367ms/step - loss: 0.5080 - acc: 0.7478 - auc: 0.7901 - precision_4: 0.7165 - recall_4: 0.7183 - f1score: 0.3824 - val_loss: 0.5898 - val_acc: 0.6082 - val_auc: 0.7900 - val_precision_4: 0.7165 - val_recall_4: 0.7183 - val_f1score: 0.3423\n",
      "Epoch 36/37\n",
      "43/42 [==============================] - 16s 367ms/step - loss: 0.4922 - acc: 0.7547 - auc: 0.7902 - precision_4: 0.7166 - recall_4: 0.7183 - f1score: 0.3849 - val_loss: 0.7742 - val_acc: 0.6096 - val_auc: 0.7904 - val_precision_4: 0.7167 - val_recall_4: 0.7184 - val_f1score: 0.3430\n",
      "Epoch 37/37\n",
      "43/42 [==============================] - 16s 366ms/step - loss: 0.4954 - acc: 0.7536 - auc: 0.7906 - precision_4: 0.7169 - recall_4: 0.7185 - f1score: 0.3854 - val_loss: 0.7263 - val_acc: 0.5994 - val_auc: 0.7908 - val_precision_4: 0.7170 - val_recall_4: 0.7186 - val_f1score: 0.3429\n"
     ]
    }
   ],
   "source": [
    "import tensorflow as tf\n",
    "\n",
    "model2.compile(loss='binary_crossentropy', \n",
    "              optimizer=optimizers.Adam(lr=1e-6),\n",
    "              metrics=['acc',tf.keras.metrics.AUC(name='auc'),\n",
    "                      tf.keras.metrics.Precision(),\n",
    "                      tf.keras.metrics.Recall(),f1score])\n",
    "\n",
    "history = model2.fit_generator(\n",
    "      train_generator,\n",
    "      steps_per_epoch = train_generator.samples /32,\n",
    "      epochs=37,\n",
    "      validation_data = validation_generator, \n",
    "      validation_steps = validation_generator.samples/32,\n",
    "      callbacks=[checkpoint])"
   ]
  },
  {
   "cell_type": "code",
   "execution_count": 25,
   "metadata": {},
   "outputs": [
    {
     "name": "stdout",
     "output_type": "stream",
     "text": [
      "loss: 0.769, accuracy: 0.601, auc: 0.789, precision: 0.716, recall: 0.717, f1score: 0.346\n"
     ]
    }
   ],
   "source": [
    "_loss, _acc, _auc, _precision, _recall, _f1score =  model2.evaluate_generator(validation_generator, steps=32)\n",
    "print('loss: {:.3f}, accuracy: {:.3f}, auc: {:.3f}, precision: {:.3f}, recall: {:.3f}, f1score: {:.3f}'.format(_loss, _acc, _auc, _precision, _recall, _f1score))"
   ]
  },
  {
   "cell_type": "code",
   "execution_count": 21,
   "metadata": {},
   "outputs": [],
   "source": [
    "from keras.models import Model, load_model\n",
    "\n",
    "new_model = models.load_model('png_VGG16_finetuning.hdf5',compile=False)\n",
    "\n",
    "\n",
    "new_model.compile(loss='categorical_crossentropy', \n",
    "              optimizer=optimizers.Adam(lr=1e-5),\n",
    "              metrics=['acc',tf.keras.metrics.AUC(),\n",
    "                      tf.keras.metrics.Precision(),\n",
    "                      tf.keras.metrics.Recall(),f1score])"
   ]
  },
  {
   "cell_type": "code",
   "execution_count": 23,
   "metadata": {},
   "outputs": [
    {
     "name": "stdout",
     "output_type": "stream",
     "text": [
      "Found 571 images belonging to 4 classes.\n"
     ]
    }
   ],
   "source": [
    "test_dir='./test_without_callback'\n",
    "\n",
    "test_datagen = ImageDataGenerator(rescale=1./255)\n",
    "\n",
    "test_generator = test_datagen.flow_from_directory(\n",
    "        test_dir,\n",
    "        target_size=(224, 224),\n",
    "        batch_size=32)"
   ]
  },
  {
   "cell_type": "code",
   "execution_count": 25,
   "metadata": {},
   "outputs": [
    {
     "name": "stdout",
     "output_type": "stream",
     "text": [
      "loss: 0.901, accuracy: 0.625, auc: 0.868, precision: 0.654, recall: 0.542, f1score: 0.164\n"
     ]
    }
   ],
   "source": [
    "_loss, _acc, _auc, _precision, _recall, _f1score =new_model.evaluate_generator(test_generator, steps=test_generator.samples/32)\n",
    "print('loss: {:.3f}, accuracy: {:.3f}, auc: {:.3f}, precision: {:.3f}, recall: {:.3f}, f1score: {:.3f}'.format(_loss, _acc, _auc, _precision, _recall, _f1score))"
   ]
  },
  {
   "cell_type": "code",
   "execution_count": null,
   "metadata": {},
   "outputs": [],
   "source": []
  }
 ],
 "metadata": {
  "kernelspec": {
   "display_name": "Python 3",
   "language": "python",
   "name": "python3"
  },
  "language_info": {
   "codemirror_mode": {
    "name": "ipython",
    "version": 3
   },
   "file_extension": ".py",
   "mimetype": "text/x-python",
   "name": "python",
   "nbconvert_exporter": "python",
   "pygments_lexer": "ipython3",
   "version": "3.7.7"
  }
 },
 "nbformat": 4,
 "nbformat_minor": 2
}
