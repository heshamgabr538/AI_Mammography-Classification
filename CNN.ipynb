{
 "cells": [
  {
   "cell_type": "code",
   "execution_count": 1,
   "metadata": {},
   "outputs": [
    {
     "data": {
      "text/plain": [
       "'C:\\\\Users\\\\User\\\\Desktop\\\\G팔로미1\\\\G-팔로미 data'"
      ]
     },
     "execution_count": 1,
     "metadata": {},
     "output_type": "execute_result"
    }
   ],
   "source": [
    "import os\n",
    "import pandas as pd\n",
    "\n",
    "#data path 수정\n",
    "os.chdir(\"C:\\\\Users\\\\User\\\\Desktop\\\\G팔로미1\\\\G-팔로미 data\")\n",
    "os.getcwd()"
   ]
  },
  {
   "cell_type": "code",
   "execution_count": 2,
   "metadata": {},
   "outputs": [],
   "source": [
    "from matplotlib import pyplot as plt\n",
    "from skimage import measure, morphology\n",
    "import pydicom as dicom\n",
    "import numpy as np\n",
    "import cv2\n",
    "import skimage.transform\n",
    "\n",
    "X=np.load('data_X.npy')\n",
    "y=np.load('data_y.npy')"
   ]
  },
  {
   "cell_type": "code",
   "execution_count": 3,
   "metadata": {},
   "outputs": [
    {
     "name": "stdout",
     "output_type": "stream",
     "text": [
      "(1546, 224, 224, 3)\n",
      "(1546, 3)\n"
     ]
    }
   ],
   "source": [
    "print(X.shape)\n",
    "print(y.shape)"
   ]
  },
  {
   "cell_type": "code",
   "execution_count": 4,
   "metadata": {},
   "outputs": [
    {
     "name": "stderr",
     "output_type": "stream",
     "text": [
      "Using TensorFlow backend.\n"
     ]
    }
   ],
   "source": [
    "from keras.models import Sequential\n",
    "from keras.layers import Dense\n",
    "from keras.layers import Flatten\n",
    "from keras.layers.convolutional import Conv2D\n",
    "from keras.layers.convolutional import MaxPooling2D\n",
    "\n",
    "# 모델 구성하기\n",
    "model = Sequential()\n",
    "model.add(Conv2D(32, kernel_size=(3, 3),\n",
    "                 activation='relu',\n",
    "                 input_shape=(224,224,3)))\n",
    "model.add(Conv2D(8, (3, 3), activation='relu'))\n",
    "model.add(MaxPooling2D(pool_size=(2, 2)))\n",
    "model.add(Flatten())\n",
    "model.add(Dense(64, activation='relu'))\n",
    "model.add(Dense(3, activation='softmax'))"
   ]
  },
  {
   "cell_type": "code",
   "execution_count": 5,
   "metadata": {},
   "outputs": [
    {
     "name": "stdout",
     "output_type": "stream",
     "text": [
      "Model: \"sequential_1\"\n",
      "_________________________________________________________________\n",
      "Layer (type)                 Output Shape              Param #   \n",
      "=================================================================\n",
      "conv2d_1 (Conv2D)            (None, 222, 222, 32)      896       \n",
      "_________________________________________________________________\n",
      "conv2d_2 (Conv2D)            (None, 220, 220, 8)       2312      \n",
      "_________________________________________________________________\n",
      "max_pooling2d_1 (MaxPooling2 (None, 110, 110, 8)       0         \n",
      "_________________________________________________________________\n",
      "flatten_1 (Flatten)          (None, 96800)             0         \n",
      "_________________________________________________________________\n",
      "dense_1 (Dense)              (None, 64)                6195264   \n",
      "_________________________________________________________________\n",
      "dense_2 (Dense)              (None, 3)                 195       \n",
      "=================================================================\n",
      "Total params: 6,198,667\n",
      "Trainable params: 6,198,667\n",
      "Non-trainable params: 0\n",
      "_________________________________________________________________\n"
     ]
    }
   ],
   "source": [
    "model.summary()"
   ]
  },
  {
   "cell_type": "code",
   "execution_count": 6,
   "metadata": {},
   "outputs": [],
   "source": [
    "model.compile(loss='categorical_crossentropy', optimizer='adam', metrics=['accuracy'])"
   ]
  },
  {
   "cell_type": "code",
   "execution_count": 7,
   "metadata": {},
   "outputs": [
    {
     "name": "stdout",
     "output_type": "stream",
     "text": [
      "Train on 1236 samples, validate on 310 samples\n",
      "Epoch 1/30\n",
      "1236/1236 [==============================] - 22s 18ms/step - loss: 1.4907 - accuracy: 0.3608 - val_loss: 1.1024 - val_accuracy: 0.2935\n",
      "Epoch 2/30\n",
      "1236/1236 [==============================] - 17s 14ms/step - loss: 1.0703 - accuracy: 0.4264 - val_loss: 1.0785 - val_accuracy: 0.4323\n",
      "Epoch 3/30\n",
      "1236/1236 [==============================] - 22s 18ms/step - loss: 0.8727 - accuracy: 0.6432 - val_loss: 1.1527 - val_accuracy: 0.3742\n",
      "Epoch 4/30\n",
      "1236/1236 [==============================] - 21s 17ms/step - loss: 0.5164 - accuracy: 0.8074 - val_loss: 1.2297 - val_accuracy: 0.4452\n",
      "Epoch 5/30\n",
      "1236/1236 [==============================] - 14s 11ms/step - loss: 0.2951 - accuracy: 0.9102 - val_loss: 1.4954 - val_accuracy: 0.3903\n",
      "Epoch 6/30\n",
      "1236/1236 [==============================] - 12s 10ms/step - loss: 0.1896 - accuracy: 0.9353 - val_loss: 1.9691 - val_accuracy: 0.3581\n",
      "Epoch 7/30\n",
      "1236/1236 [==============================] - 12s 10ms/step - loss: 0.1428 - accuracy: 0.9620 - val_loss: 2.2920 - val_accuracy: 0.3871\n",
      "Epoch 8/30\n",
      "1236/1236 [==============================] - 12s 10ms/step - loss: 0.1023 - accuracy: 0.9652 - val_loss: 2.3843 - val_accuracy: 0.3806\n",
      "Epoch 9/30\n",
      "1236/1236 [==============================] - 13s 10ms/step - loss: 0.1059 - accuracy: 0.9725 - val_loss: 2.5137 - val_accuracy: 0.3968\n",
      "Epoch 10/30\n",
      "1236/1236 [==============================] - 12s 10ms/step - loss: 0.1103 - accuracy: 0.9684 - val_loss: 2.1879 - val_accuracy: 0.3968\n",
      "Epoch 11/30\n",
      "1236/1236 [==============================] - 12s 10ms/step - loss: 0.1752 - accuracy: 0.9434 - val_loss: 2.3038 - val_accuracy: 0.3677\n",
      "Epoch 12/30\n",
      "1236/1236 [==============================] - 12s 10ms/step - loss: 0.1064 - accuracy: 0.9628 - val_loss: 3.0721 - val_accuracy: 0.3548\n",
      "Epoch 13/30\n",
      "1236/1236 [==============================] - 12s 10ms/step - loss: 0.0446 - accuracy: 0.9903 - val_loss: 3.3708 - val_accuracy: 0.3581\n",
      "Epoch 14/30\n",
      "1236/1236 [==============================] - 12s 10ms/step - loss: 0.0342 - accuracy: 0.9911 - val_loss: 4.0497 - val_accuracy: 0.3516\n",
      "Epoch 15/30\n",
      "1236/1236 [==============================] - 12s 10ms/step - loss: 0.0605 - accuracy: 0.9782 - val_loss: 3.1977 - val_accuracy: 0.4097\n",
      "Epoch 16/30\n",
      "1236/1236 [==============================] - 12s 10ms/step - loss: 0.0424 - accuracy: 0.9862 - val_loss: 4.6817 - val_accuracy: 0.3774\n",
      "Epoch 17/30\n",
      "1236/1236 [==============================] - 12s 10ms/step - loss: 0.0293 - accuracy: 0.9911 - val_loss: 4.3141 - val_accuracy: 0.3871\n",
      "Epoch 18/30\n",
      "1236/1236 [==============================] - 12s 10ms/step - loss: 0.0899 - accuracy: 0.9717 - val_loss: 2.8200 - val_accuracy: 0.4129\n",
      "Epoch 19/30\n",
      "1236/1236 [==============================] - 13s 11ms/step - loss: 0.1484 - accuracy: 0.9442 - val_loss: 2.9954 - val_accuracy: 0.4194\n",
      "Epoch 20/30\n",
      "1236/1236 [==============================] - 13s 11ms/step - loss: 0.1144 - accuracy: 0.9620 - val_loss: 4.2200 - val_accuracy: 0.3968\n",
      "Epoch 21/30\n",
      "1236/1236 [==============================] - 13s 11ms/step - loss: 0.1172 - accuracy: 0.9531 - val_loss: 4.9794 - val_accuracy: 0.3806\n",
      "Epoch 22/30\n",
      "1236/1236 [==============================] - 12s 10ms/step - loss: 0.0776 - accuracy: 0.9733 - val_loss: 4.1368 - val_accuracy: 0.3613\n",
      "Epoch 23/30\n",
      "1236/1236 [==============================] - 13s 10ms/step - loss: 0.0809 - accuracy: 0.9668 - val_loss: 5.0461 - val_accuracy: 0.4032\n",
      "Epoch 24/30\n",
      "1236/1236 [==============================] - 12s 10ms/step - loss: 0.0414 - accuracy: 0.9862 - val_loss: 4.2636 - val_accuracy: 0.4065\n",
      "Epoch 25/30\n",
      "1236/1236 [==============================] - 12s 10ms/step - loss: 0.0872 - accuracy: 0.9668 - val_loss: 3.4557 - val_accuracy: 0.3839\n",
      "Epoch 26/30\n",
      "1236/1236 [==============================] - 12s 10ms/step - loss: 0.0796 - accuracy: 0.9717 - val_loss: 4.6602 - val_accuracy: 0.3710\n",
      "Epoch 27/30\n",
      "1236/1236 [==============================] - 12s 10ms/step - loss: 0.0508 - accuracy: 0.9814 - val_loss: 6.0037 - val_accuracy: 0.3581\n",
      "Epoch 28/30\n",
      "1236/1236 [==============================] - 12s 10ms/step - loss: 0.0686 - accuracy: 0.9765 - val_loss: 3.8353 - val_accuracy: 0.3871\n",
      "Epoch 29/30\n",
      "1236/1236 [==============================] - 12s 10ms/step - loss: 0.0474 - accuracy: 0.9830 - val_loss: 4.5427 - val_accuracy: 0.3742\n",
      "Epoch 30/30\n",
      "1236/1236 [==============================] - 12s 10ms/step - loss: 0.0379 - accuracy: 0.9862 - val_loss: 4.5877 - val_accuracy: 0.3774\n"
     ]
    }
   ],
   "source": [
    "# 모델 학습시키기\n",
    "#train\n",
    "history=model.fit(\n",
    "    X,\n",
    "    y,\n",
    "    batch_size=32,\n",
    "    epochs=30,\n",
    "    validation_split=0.2)"
   ]
  },
  {
   "cell_type": "code",
   "execution_count": 8,
   "metadata": {},
   "outputs": [
    {
     "data": {
      "image/png": "[encoded data removed]",
      "text/plain": [
       "<Figure size 432x288 with 2 Axes>"
      ]
     },
     "metadata": {
      "needs_background": "light"
     },
     "output_type": "display_data"
    }
   ],
   "source": [
    "%matplotlib inline\n",
    "import matplotlib.pyplot as plt\n",
    "\n",
    "acc = history.history['accuracy']\n",
    "val_acc = history.history['val_accuracy']\n",
    "loss = history.history['loss']\n",
    "val_loss = history.history['val_loss']\n",
    "\n",
    "epochs = range(1, len(acc) + 1)\n",
    "\n",
    "fig, loss_ax = plt.subplots()\n",
    "\n",
    "acc_ax = loss_ax.twinx()\n",
    "\n",
    "loss_ax.plot(loss, 'y', label='train loss')\n",
    "loss_ax.plot(val_loss, 'r', label='val loss')\n",
    "\n",
    "acc_ax.plot(acc, 'b', label='train acc')\n",
    "acc_ax.plot(val_acc, 'g', label='val acc')\n",
    "\n",
    "loss_ax.set_xlabel('epoch')\n",
    "loss_ax.set_ylabel('loss')\n",
    "acc_ax.set_ylabel('accuray')\n",
    "\n",
    "loss_ax.legend(loc='upper left')\n",
    "acc_ax.legend(loc='lower left')\n",
    "\n",
    "plt.show()"
   ]
  },
  {
   "cell_type": "code",
   "execution_count": 9,
   "metadata": {},
   "outputs": [],
   "source": [
    "X_test=np.load('X_test.npy')\n",
    "y_test=np.load('y_test.npy')"
   ]
  },
  {
   "cell_type": "code",
   "execution_count": 10,
   "metadata": {},
   "outputs": [
    {
     "name": "stdout",
     "output_type": "stream",
     "text": [
      "326/326 [==============================] - 2s 5ms/step\n",
      "## evaluation loss and_metrics ##\n",
      "loss : 5824.073080425614\n",
      "accuracy : 0.3711656332015991\n"
     ]
    }
   ],
   "source": [
    "# 성능 측정\n",
    "loss,metrics = model.evaluate(X_test,y_test, batch_size=32)\n",
    "print('## evaluation loss and_metrics ##')\n",
    "print(\"loss :\",loss)\n",
    "print(\"accuracy :\", metrics)"
   ]
  },
  {
   "cell_type": "code",
   "execution_count": null,
   "metadata": {},
   "outputs": [],
   "source": []
  }
 ],
 "metadata": {
  "kernelspec": {
   "display_name": "Python 3",
   "language": "python",
   "name": "python3"
  },
  "language_info": {
   "codemirror_mode": {
    "name": "ipython",
    "version": 3
   },
   "file_extension": ".py",
   "mimetype": "text/x-python",
   "name": "python",
   "nbconvert_exporter": "python",
   "pygments_lexer": "ipython3",
   "version": "3.7.6"
  }
 },
 "nbformat": 4,
 "nbformat_minor": 4
}
